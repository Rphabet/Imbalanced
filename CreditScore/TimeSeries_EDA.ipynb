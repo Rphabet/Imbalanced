{
 "cells": [
  {
   "cell_type": "markdown",
   "source": [
    "# EDA of Credit Scoring Time Series Features"
   ],
   "metadata": {
    "collapsed": false
   }
  },
  {
   "cell_type": "markdown",
   "source": [
    "## 1. Load Relevant Libraries"
   ],
   "metadata": {
    "collapsed": false
   }
  },
  {
   "cell_type": "code",
   "execution_count": 92,
   "outputs": [],
   "source": [
    "import pandas as pd\n",
    "import numpy as np\n",
    "import matplotlib.pyplot as plt\n",
    "import seaborn as sns\n",
    "import os"
   ],
   "metadata": {
    "collapsed": false
   }
  },
  {
   "cell_type": "markdown",
   "source": [
    "## 2. Data Loading"
   ],
   "metadata": {
    "collapsed": false
   }
  },
  {
   "cell_type": "code",
   "execution_count": 93,
   "outputs": [],
   "source": [
    "DATA_DIR = './'\n",
    "DATA = 'cleaned_train.csv'"
   ],
   "metadata": {
    "collapsed": false
   }
  },
  {
   "cell_type": "code",
   "execution_count": 94,
   "outputs": [
    {
     "data": {
      "text/plain": "           ID  Customer_ID  Month           Name   Age          SSN  \\\n0        5634         3392      1  Aaron Maashoh  23.0  821000265.0   \n1        5635         3392      2  Aaron Maashoh  23.0  821000265.0   \n2        5636         3392      3  Aaron Maashoh  23.0  821000265.0   \n3        5637         3392      4  Aaron Maashoh  23.0  821000265.0   \n4        5638         3392      5  Aaron Maashoh  23.0  821000265.0   \n...       ...          ...    ...            ...   ...          ...   \n99995  155625        37932      4          Nicks  25.0   78735990.0   \n99996  155626        37932      5          Nicks  25.0   78735990.0   \n99997  155627        37932      6          Nicks  25.0   78735990.0   \n99998  155628        37932      7          Nicks  25.0   78735990.0   \n99999  155629        37932      8          Nicks  25.0   78735990.0   \n\n      Occupation  Annual_Income  Monthly_Inhand_Salary  Num_Bank_Accounts  \\\n0      Scientist       19114.12            1824.843333                3.0   \n1      Scientist       19114.12            1824.843333                3.0   \n2      Scientist       19114.12            1824.843333                3.0   \n3      Scientist       19114.12            1824.843333                3.0   \n4      Scientist       19114.12            1824.843333                3.0   \n...          ...            ...                    ...                ...   \n99995   Mechanic       39628.99            3359.415833                4.0   \n99996   Mechanic       39628.99            3359.415833                4.0   \n99997   Mechanic       39628.99            3359.415833                4.0   \n99998   Mechanic       39628.99            3359.415833                4.0   \n99999   Mechanic       39628.99            3359.415833                4.0   \n\n       ...  Credit_Mix  Outstanding_Debt  Credit_Utilization_Ratio  \\\n0      ...        Good            809.98                 26.822620   \n1      ...        Good            809.98                 31.944960   \n2      ...        Good            809.98                 28.609352   \n3      ...        Good            809.98                 31.377862   \n4      ...        Good            809.98                 24.797347   \n...    ...         ...               ...                       ...   \n99995  ...        Good            502.38                 34.663572   \n99996  ...        Good            502.38                 40.565631   \n99997  ...        Good            502.38                 41.255522   \n99998  ...        Good            502.38                 33.638208   \n99999  ...        Good            502.38                 34.192463   \n\n      Credit_History_Age  Payment_of_Min_Amount  Total_EMI_per_month  \\\n0                  265.0                     No            49.574949   \n1                  266.0                     No            49.574949   \n2                  267.0                     No            49.574949   \n3                  268.0                     No            49.574949   \n4                  269.0                     No            49.574949   \n...                  ...                    ...                  ...   \n99995              378.0                     No            35.104023   \n99996              379.0                     No            35.104023   \n99997              380.0                     No            35.104023   \n99998              381.0                     No            35.104023   \n99999              382.0                     No            35.104023   \n\n       Amount_invested_monthly                 Payment_Behaviour  \\\n0                    21.465380   High_spent_Small_value_payments   \n1                    21.465380    Low_spent_Large_value_payments   \n2                    21.465380   Low_spent_Medium_value_payments   \n3                    21.465380    Low_spent_Small_value_payments   \n4                    21.465380  High_spent_Medium_value_payments   \n...                        ...                               ...   \n99995                24.028477   High_spent_Large_value_payments   \n99996                24.028477  High_spent_Medium_value_payments   \n99997                24.028477   High_spent_Large_value_payments   \n99998                24.028477    Low_spent_Large_value_payments   \n99999                24.028477  High_spent_Medium_value_payments   \n\n      Monthly_Balance  Credit_Score  \n0          312.494089          Good  \n1          284.629162          Good  \n2          331.209863          Good  \n3          223.451310          Good  \n4          341.489231          Good  \n...               ...           ...  \n99995      479.866228          Poor  \n99996      496.651610          Poor  \n99997      516.809083          Poor  \n99998      319.164979      Standard  \n99999      393.673696          Poor  \n\n[100000 rows x 28 columns]",
      "text/html": "<div>\n<style scoped>\n    .dataframe tbody tr th:only-of-type {\n        vertical-align: middle;\n    }\n\n    .dataframe tbody tr th {\n        vertical-align: top;\n    }\n\n    .dataframe thead th {\n        text-align: right;\n    }\n</style>\n<table border=\"1\" class=\"dataframe\">\n  <thead>\n    <tr style=\"text-align: right;\">\n      <th></th>\n      <th>ID</th>\n      <th>Customer_ID</th>\n      <th>Month</th>\n      <th>Name</th>\n      <th>Age</th>\n      <th>SSN</th>\n      <th>Occupation</th>\n      <th>Annual_Income</th>\n      <th>Monthly_Inhand_Salary</th>\n      <th>Num_Bank_Accounts</th>\n      <th>...</th>\n      <th>Credit_Mix</th>\n      <th>Outstanding_Debt</th>\n      <th>Credit_Utilization_Ratio</th>\n      <th>Credit_History_Age</th>\n      <th>Payment_of_Min_Amount</th>\n      <th>Total_EMI_per_month</th>\n      <th>Amount_invested_monthly</th>\n      <th>Payment_Behaviour</th>\n      <th>Monthly_Balance</th>\n      <th>Credit_Score</th>\n    </tr>\n  </thead>\n  <tbody>\n    <tr>\n      <th>0</th>\n      <td>5634</td>\n      <td>3392</td>\n      <td>1</td>\n      <td>Aaron Maashoh</td>\n      <td>23.0</td>\n      <td>821000265.0</td>\n      <td>Scientist</td>\n      <td>19114.12</td>\n      <td>1824.843333</td>\n      <td>3.0</td>\n      <td>...</td>\n      <td>Good</td>\n      <td>809.98</td>\n      <td>26.822620</td>\n      <td>265.0</td>\n      <td>No</td>\n      <td>49.574949</td>\n      <td>21.465380</td>\n      <td>High_spent_Small_value_payments</td>\n      <td>312.494089</td>\n      <td>Good</td>\n    </tr>\n    <tr>\n      <th>1</th>\n      <td>5635</td>\n      <td>3392</td>\n      <td>2</td>\n      <td>Aaron Maashoh</td>\n      <td>23.0</td>\n      <td>821000265.0</td>\n      <td>Scientist</td>\n      <td>19114.12</td>\n      <td>1824.843333</td>\n      <td>3.0</td>\n      <td>...</td>\n      <td>Good</td>\n      <td>809.98</td>\n      <td>31.944960</td>\n      <td>266.0</td>\n      <td>No</td>\n      <td>49.574949</td>\n      <td>21.465380</td>\n      <td>Low_spent_Large_value_payments</td>\n      <td>284.629162</td>\n      <td>Good</td>\n    </tr>\n    <tr>\n      <th>2</th>\n      <td>5636</td>\n      <td>3392</td>\n      <td>3</td>\n      <td>Aaron Maashoh</td>\n      <td>23.0</td>\n      <td>821000265.0</td>\n      <td>Scientist</td>\n      <td>19114.12</td>\n      <td>1824.843333</td>\n      <td>3.0</td>\n      <td>...</td>\n      <td>Good</td>\n      <td>809.98</td>\n      <td>28.609352</td>\n      <td>267.0</td>\n      <td>No</td>\n      <td>49.574949</td>\n      <td>21.465380</td>\n      <td>Low_spent_Medium_value_payments</td>\n      <td>331.209863</td>\n      <td>Good</td>\n    </tr>\n    <tr>\n      <th>3</th>\n      <td>5637</td>\n      <td>3392</td>\n      <td>4</td>\n      <td>Aaron Maashoh</td>\n      <td>23.0</td>\n      <td>821000265.0</td>\n      <td>Scientist</td>\n      <td>19114.12</td>\n      <td>1824.843333</td>\n      <td>3.0</td>\n      <td>...</td>\n      <td>Good</td>\n      <td>809.98</td>\n      <td>31.377862</td>\n      <td>268.0</td>\n      <td>No</td>\n      <td>49.574949</td>\n      <td>21.465380</td>\n      <td>Low_spent_Small_value_payments</td>\n      <td>223.451310</td>\n      <td>Good</td>\n    </tr>\n    <tr>\n      <th>4</th>\n      <td>5638</td>\n      <td>3392</td>\n      <td>5</td>\n      <td>Aaron Maashoh</td>\n      <td>23.0</td>\n      <td>821000265.0</td>\n      <td>Scientist</td>\n      <td>19114.12</td>\n      <td>1824.843333</td>\n      <td>3.0</td>\n      <td>...</td>\n      <td>Good</td>\n      <td>809.98</td>\n      <td>24.797347</td>\n      <td>269.0</td>\n      <td>No</td>\n      <td>49.574949</td>\n      <td>21.465380</td>\n      <td>High_spent_Medium_value_payments</td>\n      <td>341.489231</td>\n      <td>Good</td>\n    </tr>\n    <tr>\n      <th>...</th>\n      <td>...</td>\n      <td>...</td>\n      <td>...</td>\n      <td>...</td>\n      <td>...</td>\n      <td>...</td>\n      <td>...</td>\n      <td>...</td>\n      <td>...</td>\n      <td>...</td>\n      <td>...</td>\n      <td>...</td>\n      <td>...</td>\n      <td>...</td>\n      <td>...</td>\n      <td>...</td>\n      <td>...</td>\n      <td>...</td>\n      <td>...</td>\n      <td>...</td>\n      <td>...</td>\n    </tr>\n    <tr>\n      <th>99995</th>\n      <td>155625</td>\n      <td>37932</td>\n      <td>4</td>\n      <td>Nicks</td>\n      <td>25.0</td>\n      <td>78735990.0</td>\n      <td>Mechanic</td>\n      <td>39628.99</td>\n      <td>3359.415833</td>\n      <td>4.0</td>\n      <td>...</td>\n      <td>Good</td>\n      <td>502.38</td>\n      <td>34.663572</td>\n      <td>378.0</td>\n      <td>No</td>\n      <td>35.104023</td>\n      <td>24.028477</td>\n      <td>High_spent_Large_value_payments</td>\n      <td>479.866228</td>\n      <td>Poor</td>\n    </tr>\n    <tr>\n      <th>99996</th>\n      <td>155626</td>\n      <td>37932</td>\n      <td>5</td>\n      <td>Nicks</td>\n      <td>25.0</td>\n      <td>78735990.0</td>\n      <td>Mechanic</td>\n      <td>39628.99</td>\n      <td>3359.415833</td>\n      <td>4.0</td>\n      <td>...</td>\n      <td>Good</td>\n      <td>502.38</td>\n      <td>40.565631</td>\n      <td>379.0</td>\n      <td>No</td>\n      <td>35.104023</td>\n      <td>24.028477</td>\n      <td>High_spent_Medium_value_payments</td>\n      <td>496.651610</td>\n      <td>Poor</td>\n    </tr>\n    <tr>\n      <th>99997</th>\n      <td>155627</td>\n      <td>37932</td>\n      <td>6</td>\n      <td>Nicks</td>\n      <td>25.0</td>\n      <td>78735990.0</td>\n      <td>Mechanic</td>\n      <td>39628.99</td>\n      <td>3359.415833</td>\n      <td>4.0</td>\n      <td>...</td>\n      <td>Good</td>\n      <td>502.38</td>\n      <td>41.255522</td>\n      <td>380.0</td>\n      <td>No</td>\n      <td>35.104023</td>\n      <td>24.028477</td>\n      <td>High_spent_Large_value_payments</td>\n      <td>516.809083</td>\n      <td>Poor</td>\n    </tr>\n    <tr>\n      <th>99998</th>\n      <td>155628</td>\n      <td>37932</td>\n      <td>7</td>\n      <td>Nicks</td>\n      <td>25.0</td>\n      <td>78735990.0</td>\n      <td>Mechanic</td>\n      <td>39628.99</td>\n      <td>3359.415833</td>\n      <td>4.0</td>\n      <td>...</td>\n      <td>Good</td>\n      <td>502.38</td>\n      <td>33.638208</td>\n      <td>381.0</td>\n      <td>No</td>\n      <td>35.104023</td>\n      <td>24.028477</td>\n      <td>Low_spent_Large_value_payments</td>\n      <td>319.164979</td>\n      <td>Standard</td>\n    </tr>\n    <tr>\n      <th>99999</th>\n      <td>155629</td>\n      <td>37932</td>\n      <td>8</td>\n      <td>Nicks</td>\n      <td>25.0</td>\n      <td>78735990.0</td>\n      <td>Mechanic</td>\n      <td>39628.99</td>\n      <td>3359.415833</td>\n      <td>4.0</td>\n      <td>...</td>\n      <td>Good</td>\n      <td>502.38</td>\n      <td>34.192463</td>\n      <td>382.0</td>\n      <td>No</td>\n      <td>35.104023</td>\n      <td>24.028477</td>\n      <td>High_spent_Medium_value_payments</td>\n      <td>393.673696</td>\n      <td>Poor</td>\n    </tr>\n  </tbody>\n</table>\n<p>100000 rows × 28 columns</p>\n</div>"
     },
     "execution_count": 94,
     "metadata": {},
     "output_type": "execute_result"
    }
   ],
   "source": [
    "df = pd.read_csv(os.path.join(DATA_DIR, DATA))\n",
    "df"
   ],
   "metadata": {
    "collapsed": false
   }
  },
  {
   "cell_type": "markdown",
   "source": [
    "## 3. Cleaning Process I"
   ],
   "metadata": {
    "collapsed": false
   }
  },
  {
   "cell_type": "markdown",
   "source": [
    "### - 중복 컬럼 제거"
   ],
   "metadata": {
    "collapsed": false
   }
  },
  {
   "cell_type": "code",
   "execution_count": 95,
   "outputs": [],
   "source": [
    "drop_cols = ['ID', 'Name', 'SSN']\n",
    "cleaned_df = df.drop(drop_cols, axis=1)"
   ],
   "metadata": {
    "collapsed": false
   }
  },
  {
   "cell_type": "markdown",
   "source": [
    "### - 대출 상품 리스트 분리"
   ],
   "metadata": {
    "collapsed": false
   }
  },
  {
   "cell_type": "code",
   "execution_count": 96,
   "outputs": [
    {
     "data": {
      "text/plain": "'Credit-Builder Loan'"
     },
     "execution_count": 96,
     "metadata": {},
     "output_type": "execute_result"
    }
   ],
   "source": [
    "cleaned_df['Type_of_Loan'][9]"
   ],
   "metadata": {
    "collapsed": false
   }
  },
  {
   "cell_type": "code",
   "execution_count": 97,
   "outputs": [
    {
     "data": {
      "text/plain": "0        [Auto Loan,  Credit-Builder Loan,  Personal Lo...\n1        [Auto Loan,  Credit-Builder Loan,  Personal Lo...\n2        [Auto Loan,  Credit-Builder Loan,  Personal Lo...\n3        [Auto Loan,  Credit-Builder Loan,  Personal Lo...\n4        [Auto Loan,  Credit-Builder Loan,  Personal Lo...\n                               ...                        \n99995                       [Auto Loan,  and Student Loan]\n99996                       [Auto Loan,  and Student Loan]\n99997                       [Auto Loan,  and Student Loan]\n99998                       [Auto Loan,  and Student Loan]\n99999                       [Auto Loan,  and Student Loan]\nName: Type_of_Loan, Length: 100000, dtype: object"
     },
     "execution_count": 97,
     "metadata": {},
     "output_type": "execute_result"
    }
   ],
   "source": [
    "cleaned_df['Type_of_Loan'].str.split(',')"
   ],
   "metadata": {
    "collapsed": false
   }
  },
  {
   "cell_type": "code",
   "execution_count": 98,
   "outputs": [],
   "source": [
    "import re"
   ],
   "metadata": {
    "collapsed": false
   }
  },
  {
   "cell_type": "code",
   "execution_count": 99,
   "outputs": [],
   "source": [
    "search = ' and '\n",
    "space = ' '"
   ],
   "metadata": {
    "collapsed": false
   }
  },
  {
   "cell_type": "code",
   "execution_count": 100,
   "outputs": [],
   "source": [
    "def search_and_remove(li, search_word):\n",
    "\n",
    "    for i, word in enumerate(li):\n",
    "        if search_word in word:\n",
    "            li[i] = re.sub(search_word, '', word)\n",
    "            # li[i] = re.sub(space, '', word)\n",
    "        # else:\n",
    "            # li[i] = re.sub(space, '', word)\n",
    "    return li\n",
    "\n",
    "def white_space_remover(li, ws):\n",
    "\n",
    "    for i, word in enumerate(li):\n",
    "        if ws in word:\n",
    "            li[i] = re.sub(ws, '', word)\n",
    "    return li"
   ],
   "metadata": {
    "collapsed": false
   }
  },
  {
   "cell_type": "code",
   "execution_count": 101,
   "outputs": [
    {
     "data": {
      "text/plain": "['Auto Loan', 'Credit-Builder Loan', 'Personal Loan', 'Home Equity Loan']"
     },
     "execution_count": 101,
     "metadata": {},
     "output_type": "execute_result"
    }
   ],
   "source": [
    "search_and_remove(['Auto Loan',  'Credit-Builder Loan',  'Personal Loan',  ' and Home Equity Loan'], search)"
   ],
   "metadata": {
    "collapsed": false
   }
  },
  {
   "cell_type": "code",
   "execution_count": 102,
   "outputs": [],
   "source": [
    "cleaned_df['Type_of_Loan'] = cleaned_df['Type_of_Loan'].str.split(',').apply(lambda x :  search_and_remove(x, search))\n",
    "cleaned_df['Type_of_Loan'] = cleaned_df['Type_of_Loan'].apply(lambda x :  white_space_remover(x, space))"
   ],
   "metadata": {
    "collapsed": false
   }
  },
  {
   "cell_type": "code",
   "execution_count": 103,
   "outputs": [
    {
     "data": {
      "text/plain": "0        [AutoLoan, Credit-BuilderLoan, PersonalLoan, H...\n1        [AutoLoan, Credit-BuilderLoan, PersonalLoan, H...\n2        [AutoLoan, Credit-BuilderLoan, PersonalLoan, H...\n3        [AutoLoan, Credit-BuilderLoan, PersonalLoan, H...\n4        [AutoLoan, Credit-BuilderLoan, PersonalLoan, H...\n                               ...                        \n99995                              [AutoLoan, StudentLoan]\n99996                              [AutoLoan, StudentLoan]\n99997                              [AutoLoan, StudentLoan]\n99998                              [AutoLoan, StudentLoan]\n99999                              [AutoLoan, StudentLoan]\nName: Type_of_Loan, Length: 100000, dtype: object"
     },
     "execution_count": 103,
     "metadata": {},
     "output_type": "execute_result"
    }
   ],
   "source": [
    "cleaned_df['Type_of_Loan']"
   ],
   "metadata": {
    "collapsed": false
   }
  },
  {
   "cell_type": "code",
   "execution_count": 104,
   "outputs": [
    {
     "data": {
      "text/plain": "['AutoLoan', 'Credit-BuilderLoan', 'PersonalLoan', 'HomeEquityLoan']"
     },
     "execution_count": 104,
     "metadata": {},
     "output_type": "execute_result"
    }
   ],
   "source": [
    "cleaned_df['Type_of_Loan'][0]"
   ],
   "metadata": {
    "collapsed": false
   }
  },
  {
   "cell_type": "code",
   "execution_count": 105,
   "outputs": [],
   "source": [
    "type_of_loans = cleaned_df['Type_of_Loan']"
   ],
   "metadata": {
    "collapsed": false
   }
  },
  {
   "cell_type": "code",
   "execution_count": 106,
   "outputs": [
    {
     "data": {
      "text/plain": "0      0    1\n       1    1\n       2    1\n       3    1\n1      0    1\n           ..\n99997  1    1\n99998  0    1\n       1    1\n99999  0    1\n       1    1\nLength: 364696, dtype: int64"
     },
     "execution_count": 106,
     "metadata": {},
     "output_type": "execute_result"
    }
   ],
   "source": [
    "pd.get_dummies(type_of_loans.apply(pd.Series).stack()).sum(axis=1)"
   ],
   "metadata": {
    "collapsed": false
   }
  },
  {
   "cell_type": "code",
   "execution_count": 107,
   "outputs": [
    {
     "name": "stderr",
     "output_type": "stream",
     "text": [
      "/var/folders/rm/1g600byx25b_ht2r9ty6b4_00000gn/T/ipykernel_35285/4009385760.py:2: FutureWarning: Using the level keyword in DataFrame and Series aggregations is deprecated and will be removed in a future version. Use groupby instead. df.sum(level=1) should use df.groupby(level=1).sum().\n",
      "  loan_dummy_df = pd.get_dummies(type_of_loans.apply(pd.Series).stack()).sum(level=0)\n"
     ]
    },
    {
     "data": {
      "text/plain": "       AutoLoan  Credit-BuilderLoan  DebtConsolidationLoan  HomeEquityLoan  \\\n0             1                   1                      0               1   \n1             1                   1                      0               1   \n2             1                   1                      0               1   \n3             1                   1                      0               1   \n4             1                   1                      0               1   \n...         ...                 ...                    ...             ...   \n99995         1                   0                      0               0   \n99996         1                   0                      0               0   \n99997         1                   0                      0               0   \n99998         1                   0                      0               0   \n99999         1                   0                      0               0   \n\n       MortgageLoan  NoData  NotSpecified  PaydayLoan  PersonalLoan  \\\n0                 0       0             0           0             1   \n1                 0       0             0           0             1   \n2                 0       0             0           0             1   \n3                 0       0             0           0             1   \n4                 0       0             0           0             1   \n...             ...     ...           ...         ...           ...   \n99995             0       0             0           0             0   \n99996             0       0             0           0             0   \n99997             0       0             0           0             0   \n99998             0       0             0           0             0   \n99999             0       0             0           0             0   \n\n       StudentLoan  \n0                0  \n1                0  \n2                0  \n3                0  \n4                0  \n...            ...  \n99995            1  \n99996            1  \n99997            1  \n99998            1  \n99999            1  \n\n[100000 rows x 10 columns]",
      "text/html": "<div>\n<style scoped>\n    .dataframe tbody tr th:only-of-type {\n        vertical-align: middle;\n    }\n\n    .dataframe tbody tr th {\n        vertical-align: top;\n    }\n\n    .dataframe thead th {\n        text-align: right;\n    }\n</style>\n<table border=\"1\" class=\"dataframe\">\n  <thead>\n    <tr style=\"text-align: right;\">\n      <th></th>\n      <th>AutoLoan</th>\n      <th>Credit-BuilderLoan</th>\n      <th>DebtConsolidationLoan</th>\n      <th>HomeEquityLoan</th>\n      <th>MortgageLoan</th>\n      <th>NoData</th>\n      <th>NotSpecified</th>\n      <th>PaydayLoan</th>\n      <th>PersonalLoan</th>\n      <th>StudentLoan</th>\n    </tr>\n  </thead>\n  <tbody>\n    <tr>\n      <th>0</th>\n      <td>1</td>\n      <td>1</td>\n      <td>0</td>\n      <td>1</td>\n      <td>0</td>\n      <td>0</td>\n      <td>0</td>\n      <td>0</td>\n      <td>1</td>\n      <td>0</td>\n    </tr>\n    <tr>\n      <th>1</th>\n      <td>1</td>\n      <td>1</td>\n      <td>0</td>\n      <td>1</td>\n      <td>0</td>\n      <td>0</td>\n      <td>0</td>\n      <td>0</td>\n      <td>1</td>\n      <td>0</td>\n    </tr>\n    <tr>\n      <th>2</th>\n      <td>1</td>\n      <td>1</td>\n      <td>0</td>\n      <td>1</td>\n      <td>0</td>\n      <td>0</td>\n      <td>0</td>\n      <td>0</td>\n      <td>1</td>\n      <td>0</td>\n    </tr>\n    <tr>\n      <th>3</th>\n      <td>1</td>\n      <td>1</td>\n      <td>0</td>\n      <td>1</td>\n      <td>0</td>\n      <td>0</td>\n      <td>0</td>\n      <td>0</td>\n      <td>1</td>\n      <td>0</td>\n    </tr>\n    <tr>\n      <th>4</th>\n      <td>1</td>\n      <td>1</td>\n      <td>0</td>\n      <td>1</td>\n      <td>0</td>\n      <td>0</td>\n      <td>0</td>\n      <td>0</td>\n      <td>1</td>\n      <td>0</td>\n    </tr>\n    <tr>\n      <th>...</th>\n      <td>...</td>\n      <td>...</td>\n      <td>...</td>\n      <td>...</td>\n      <td>...</td>\n      <td>...</td>\n      <td>...</td>\n      <td>...</td>\n      <td>...</td>\n      <td>...</td>\n    </tr>\n    <tr>\n      <th>99995</th>\n      <td>1</td>\n      <td>0</td>\n      <td>0</td>\n      <td>0</td>\n      <td>0</td>\n      <td>0</td>\n      <td>0</td>\n      <td>0</td>\n      <td>0</td>\n      <td>1</td>\n    </tr>\n    <tr>\n      <th>99996</th>\n      <td>1</td>\n      <td>0</td>\n      <td>0</td>\n      <td>0</td>\n      <td>0</td>\n      <td>0</td>\n      <td>0</td>\n      <td>0</td>\n      <td>0</td>\n      <td>1</td>\n    </tr>\n    <tr>\n      <th>99997</th>\n      <td>1</td>\n      <td>0</td>\n      <td>0</td>\n      <td>0</td>\n      <td>0</td>\n      <td>0</td>\n      <td>0</td>\n      <td>0</td>\n      <td>0</td>\n      <td>1</td>\n    </tr>\n    <tr>\n      <th>99998</th>\n      <td>1</td>\n      <td>0</td>\n      <td>0</td>\n      <td>0</td>\n      <td>0</td>\n      <td>0</td>\n      <td>0</td>\n      <td>0</td>\n      <td>0</td>\n      <td>1</td>\n    </tr>\n    <tr>\n      <th>99999</th>\n      <td>1</td>\n      <td>0</td>\n      <td>0</td>\n      <td>0</td>\n      <td>0</td>\n      <td>0</td>\n      <td>0</td>\n      <td>0</td>\n      <td>0</td>\n      <td>1</td>\n    </tr>\n  </tbody>\n</table>\n<p>100000 rows × 10 columns</p>\n</div>"
     },
     "execution_count": 107,
     "metadata": {},
     "output_type": "execute_result"
    }
   ],
   "source": [
    "# OHE for Loan Types\n",
    "loan_dummy_df = pd.get_dummies(type_of_loans.apply(pd.Series).stack()).sum(level=0)\n",
    "loan_dummy_df"
   ],
   "metadata": {
    "collapsed": false
   }
  },
  {
   "cell_type": "code",
   "execution_count": 108,
   "outputs": [
    {
     "data": {
      "text/plain": "       Customer_ID  Month   Age Occupation  Annual_Income  \\\n0             3392      1  23.0  Scientist       19114.12   \n1             3392      2  23.0  Scientist       19114.12   \n2             3392      3  23.0  Scientist       19114.12   \n3             3392      4  23.0  Scientist       19114.12   \n4             3392      5  23.0  Scientist       19114.12   \n...            ...    ...   ...        ...            ...   \n99995        37932      4  25.0   Mechanic       39628.99   \n99996        37932      5  25.0   Mechanic       39628.99   \n99997        37932      6  25.0   Mechanic       39628.99   \n99998        37932      7  25.0   Mechanic       39628.99   \n99999        37932      8  25.0   Mechanic       39628.99   \n\n       Monthly_Inhand_Salary  Num_Bank_Accounts  Num_Credit_Card  \\\n0                1824.843333                3.0              4.0   \n1                1824.843333                3.0              4.0   \n2                1824.843333                3.0              4.0   \n3                1824.843333                3.0              4.0   \n4                1824.843333                3.0              4.0   \n...                      ...                ...              ...   \n99995            3359.415833                4.0              6.0   \n99996            3359.415833                4.0              6.0   \n99997            3359.415833                4.0              6.0   \n99998            3359.415833                4.0              6.0   \n99999            3359.415833                4.0              6.0   \n\n       Interest_Rate  Num_of_Loan  ... AutoLoan  Credit-BuilderLoan  \\\n0                3.0          4.0  ...        1                   1   \n1                3.0          4.0  ...        1                   1   \n2                3.0          4.0  ...        1                   1   \n3                3.0          4.0  ...        1                   1   \n4                3.0          4.0  ...        1                   1   \n...              ...          ...  ...      ...                 ...   \n99995            7.0          2.0  ...        1                   0   \n99996            7.0          2.0  ...        1                   0   \n99997            7.0          2.0  ...        1                   0   \n99998            7.0          2.0  ...        1                   0   \n99999            7.0          2.0  ...        1                   0   \n\n       DebtConsolidationLoan  HomeEquityLoan  MortgageLoan NoData  \\\n0                          0               1             0      0   \n1                          0               1             0      0   \n2                          0               1             0      0   \n3                          0               1             0      0   \n4                          0               1             0      0   \n...                      ...             ...           ...    ...   \n99995                      0               0             0      0   \n99996                      0               0             0      0   \n99997                      0               0             0      0   \n99998                      0               0             0      0   \n99999                      0               0             0      0   \n\n       NotSpecified  PaydayLoan  PersonalLoan StudentLoan  \n0                 0           0             1           0  \n1                 0           0             1           0  \n2                 0           0             1           0  \n3                 0           0             1           0  \n4                 0           0             1           0  \n...             ...         ...           ...         ...  \n99995             0           0             0           1  \n99996             0           0             0           1  \n99997             0           0             0           1  \n99998             0           0             0           1  \n99999             0           0             0           1  \n\n[100000 rows x 35 columns]",
      "text/html": "<div>\n<style scoped>\n    .dataframe tbody tr th:only-of-type {\n        vertical-align: middle;\n    }\n\n    .dataframe tbody tr th {\n        vertical-align: top;\n    }\n\n    .dataframe thead th {\n        text-align: right;\n    }\n</style>\n<table border=\"1\" class=\"dataframe\">\n  <thead>\n    <tr style=\"text-align: right;\">\n      <th></th>\n      <th>Customer_ID</th>\n      <th>Month</th>\n      <th>Age</th>\n      <th>Occupation</th>\n      <th>Annual_Income</th>\n      <th>Monthly_Inhand_Salary</th>\n      <th>Num_Bank_Accounts</th>\n      <th>Num_Credit_Card</th>\n      <th>Interest_Rate</th>\n      <th>Num_of_Loan</th>\n      <th>...</th>\n      <th>AutoLoan</th>\n      <th>Credit-BuilderLoan</th>\n      <th>DebtConsolidationLoan</th>\n      <th>HomeEquityLoan</th>\n      <th>MortgageLoan</th>\n      <th>NoData</th>\n      <th>NotSpecified</th>\n      <th>PaydayLoan</th>\n      <th>PersonalLoan</th>\n      <th>StudentLoan</th>\n    </tr>\n  </thead>\n  <tbody>\n    <tr>\n      <th>0</th>\n      <td>3392</td>\n      <td>1</td>\n      <td>23.0</td>\n      <td>Scientist</td>\n      <td>19114.12</td>\n      <td>1824.843333</td>\n      <td>3.0</td>\n      <td>4.0</td>\n      <td>3.0</td>\n      <td>4.0</td>\n      <td>...</td>\n      <td>1</td>\n      <td>1</td>\n      <td>0</td>\n      <td>1</td>\n      <td>0</td>\n      <td>0</td>\n      <td>0</td>\n      <td>0</td>\n      <td>1</td>\n      <td>0</td>\n    </tr>\n    <tr>\n      <th>1</th>\n      <td>3392</td>\n      <td>2</td>\n      <td>23.0</td>\n      <td>Scientist</td>\n      <td>19114.12</td>\n      <td>1824.843333</td>\n      <td>3.0</td>\n      <td>4.0</td>\n      <td>3.0</td>\n      <td>4.0</td>\n      <td>...</td>\n      <td>1</td>\n      <td>1</td>\n      <td>0</td>\n      <td>1</td>\n      <td>0</td>\n      <td>0</td>\n      <td>0</td>\n      <td>0</td>\n      <td>1</td>\n      <td>0</td>\n    </tr>\n    <tr>\n      <th>2</th>\n      <td>3392</td>\n      <td>3</td>\n      <td>23.0</td>\n      <td>Scientist</td>\n      <td>19114.12</td>\n      <td>1824.843333</td>\n      <td>3.0</td>\n      <td>4.0</td>\n      <td>3.0</td>\n      <td>4.0</td>\n      <td>...</td>\n      <td>1</td>\n      <td>1</td>\n      <td>0</td>\n      <td>1</td>\n      <td>0</td>\n      <td>0</td>\n      <td>0</td>\n      <td>0</td>\n      <td>1</td>\n      <td>0</td>\n    </tr>\n    <tr>\n      <th>3</th>\n      <td>3392</td>\n      <td>4</td>\n      <td>23.0</td>\n      <td>Scientist</td>\n      <td>19114.12</td>\n      <td>1824.843333</td>\n      <td>3.0</td>\n      <td>4.0</td>\n      <td>3.0</td>\n      <td>4.0</td>\n      <td>...</td>\n      <td>1</td>\n      <td>1</td>\n      <td>0</td>\n      <td>1</td>\n      <td>0</td>\n      <td>0</td>\n      <td>0</td>\n      <td>0</td>\n      <td>1</td>\n      <td>0</td>\n    </tr>\n    <tr>\n      <th>4</th>\n      <td>3392</td>\n      <td>5</td>\n      <td>23.0</td>\n      <td>Scientist</td>\n      <td>19114.12</td>\n      <td>1824.843333</td>\n      <td>3.0</td>\n      <td>4.0</td>\n      <td>3.0</td>\n      <td>4.0</td>\n      <td>...</td>\n      <td>1</td>\n      <td>1</td>\n      <td>0</td>\n      <td>1</td>\n      <td>0</td>\n      <td>0</td>\n      <td>0</td>\n      <td>0</td>\n      <td>1</td>\n      <td>0</td>\n    </tr>\n    <tr>\n      <th>...</th>\n      <td>...</td>\n      <td>...</td>\n      <td>...</td>\n      <td>...</td>\n      <td>...</td>\n      <td>...</td>\n      <td>...</td>\n      <td>...</td>\n      <td>...</td>\n      <td>...</td>\n      <td>...</td>\n      <td>...</td>\n      <td>...</td>\n      <td>...</td>\n      <td>...</td>\n      <td>...</td>\n      <td>...</td>\n      <td>...</td>\n      <td>...</td>\n      <td>...</td>\n      <td>...</td>\n    </tr>\n    <tr>\n      <th>99995</th>\n      <td>37932</td>\n      <td>4</td>\n      <td>25.0</td>\n      <td>Mechanic</td>\n      <td>39628.99</td>\n      <td>3359.415833</td>\n      <td>4.0</td>\n      <td>6.0</td>\n      <td>7.0</td>\n      <td>2.0</td>\n      <td>...</td>\n      <td>1</td>\n      <td>0</td>\n      <td>0</td>\n      <td>0</td>\n      <td>0</td>\n      <td>0</td>\n      <td>0</td>\n      <td>0</td>\n      <td>0</td>\n      <td>1</td>\n    </tr>\n    <tr>\n      <th>99996</th>\n      <td>37932</td>\n      <td>5</td>\n      <td>25.0</td>\n      <td>Mechanic</td>\n      <td>39628.99</td>\n      <td>3359.415833</td>\n      <td>4.0</td>\n      <td>6.0</td>\n      <td>7.0</td>\n      <td>2.0</td>\n      <td>...</td>\n      <td>1</td>\n      <td>0</td>\n      <td>0</td>\n      <td>0</td>\n      <td>0</td>\n      <td>0</td>\n      <td>0</td>\n      <td>0</td>\n      <td>0</td>\n      <td>1</td>\n    </tr>\n    <tr>\n      <th>99997</th>\n      <td>37932</td>\n      <td>6</td>\n      <td>25.0</td>\n      <td>Mechanic</td>\n      <td>39628.99</td>\n      <td>3359.415833</td>\n      <td>4.0</td>\n      <td>6.0</td>\n      <td>7.0</td>\n      <td>2.0</td>\n      <td>...</td>\n      <td>1</td>\n      <td>0</td>\n      <td>0</td>\n      <td>0</td>\n      <td>0</td>\n      <td>0</td>\n      <td>0</td>\n      <td>0</td>\n      <td>0</td>\n      <td>1</td>\n    </tr>\n    <tr>\n      <th>99998</th>\n      <td>37932</td>\n      <td>7</td>\n      <td>25.0</td>\n      <td>Mechanic</td>\n      <td>39628.99</td>\n      <td>3359.415833</td>\n      <td>4.0</td>\n      <td>6.0</td>\n      <td>7.0</td>\n      <td>2.0</td>\n      <td>...</td>\n      <td>1</td>\n      <td>0</td>\n      <td>0</td>\n      <td>0</td>\n      <td>0</td>\n      <td>0</td>\n      <td>0</td>\n      <td>0</td>\n      <td>0</td>\n      <td>1</td>\n    </tr>\n    <tr>\n      <th>99999</th>\n      <td>37932</td>\n      <td>8</td>\n      <td>25.0</td>\n      <td>Mechanic</td>\n      <td>39628.99</td>\n      <td>3359.415833</td>\n      <td>4.0</td>\n      <td>6.0</td>\n      <td>7.0</td>\n      <td>2.0</td>\n      <td>...</td>\n      <td>1</td>\n      <td>0</td>\n      <td>0</td>\n      <td>0</td>\n      <td>0</td>\n      <td>0</td>\n      <td>0</td>\n      <td>0</td>\n      <td>0</td>\n      <td>1</td>\n    </tr>\n  </tbody>\n</table>\n<p>100000 rows × 35 columns</p>\n</div>"
     },
     "execution_count": 108,
     "metadata": {},
     "output_type": "execute_result"
    }
   ],
   "source": [
    "# OHE 연결\n",
    "cleaned_df = pd.concat([cleaned_df, loan_dummy_df], axis=1)\n",
    "cleaned_df"
   ],
   "metadata": {
    "collapsed": false
   }
  },
  {
   "cell_type": "code",
   "execution_count": 109,
   "outputs": [
    {
     "data": {
      "text/plain": "['Customer_ID',\n 'Month',\n 'Age',\n 'Occupation',\n 'Annual_Income',\n 'Monthly_Inhand_Salary',\n 'Num_Bank_Accounts',\n 'Num_Credit_Card',\n 'Interest_Rate',\n 'Num_of_Loan',\n 'Type_of_Loan',\n 'Delay_from_due_date',\n 'Num_of_Delayed_Payment',\n 'Changed_Credit_Limit',\n 'Num_Credit_Inquiries',\n 'Credit_Mix',\n 'Outstanding_Debt',\n 'Credit_Utilization_Ratio',\n 'Credit_History_Age',\n 'Payment_of_Min_Amount',\n 'Total_EMI_per_month',\n 'Amount_invested_monthly',\n 'Payment_Behaviour',\n 'Monthly_Balance',\n 'AutoLoan',\n 'Credit-BuilderLoan',\n 'DebtConsolidationLoan',\n 'HomeEquityLoan',\n 'MortgageLoan',\n 'NoData',\n 'NotSpecified',\n 'PaydayLoan',\n 'PersonalLoan',\n 'StudentLoan',\n 'Credit_Score']"
     },
     "execution_count": 109,
     "metadata": {},
     "output_type": "execute_result"
    }
   ],
   "source": [
    "# cleaned_df = pd.concat([cleaned_df, loan_dummy_df], axis=1)\n",
    "cols = cleaned_df.columns.tolist()\n",
    "y_index = cols.index('Credit_Score')\n",
    "new_cols = cols[:y_index] + cols[y_index + 1: ] + cols[y_index].split()\n",
    "new_cols"
   ],
   "metadata": {
    "collapsed": false
   }
  },
  {
   "cell_type": "code",
   "execution_count": 110,
   "outputs": [
    {
     "data": {
      "text/plain": "       Customer_ID  Month   Age Occupation  Annual_Income  \\\n0             3392      1  23.0  Scientist       19114.12   \n1             3392      2  23.0  Scientist       19114.12   \n2             3392      3  23.0  Scientist       19114.12   \n3             3392      4  23.0  Scientist       19114.12   \n4             3392      5  23.0  Scientist       19114.12   \n...            ...    ...   ...        ...            ...   \n99995        37932      4  25.0   Mechanic       39628.99   \n99996        37932      5  25.0   Mechanic       39628.99   \n99997        37932      6  25.0   Mechanic       39628.99   \n99998        37932      7  25.0   Mechanic       39628.99   \n99999        37932      8  25.0   Mechanic       39628.99   \n\n       Monthly_Inhand_Salary  Num_Bank_Accounts  Num_Credit_Card  \\\n0                1824.843333                3.0              4.0   \n1                1824.843333                3.0              4.0   \n2                1824.843333                3.0              4.0   \n3                1824.843333                3.0              4.0   \n4                1824.843333                3.0              4.0   \n...                      ...                ...              ...   \n99995            3359.415833                4.0              6.0   \n99996            3359.415833                4.0              6.0   \n99997            3359.415833                4.0              6.0   \n99998            3359.415833                4.0              6.0   \n99999            3359.415833                4.0              6.0   \n\n       Interest_Rate  Num_of_Loan  ... Credit-BuilderLoan  \\\n0                3.0          4.0  ...                  1   \n1                3.0          4.0  ...                  1   \n2                3.0          4.0  ...                  1   \n3                3.0          4.0  ...                  1   \n4                3.0          4.0  ...                  1   \n...              ...          ...  ...                ...   \n99995            7.0          2.0  ...                  0   \n99996            7.0          2.0  ...                  0   \n99997            7.0          2.0  ...                  0   \n99998            7.0          2.0  ...                  0   \n99999            7.0          2.0  ...                  0   \n\n       DebtConsolidationLoan  HomeEquityLoan  MortgageLoan  NoData  \\\n0                          0               1             0       0   \n1                          0               1             0       0   \n2                          0               1             0       0   \n3                          0               1             0       0   \n4                          0               1             0       0   \n...                      ...             ...           ...     ...   \n99995                      0               0             0       0   \n99996                      0               0             0       0   \n99997                      0               0             0       0   \n99998                      0               0             0       0   \n99999                      0               0             0       0   \n\n      NotSpecified  PaydayLoan  PersonalLoan  StudentLoan Credit_Score  \n0                0           0             1            0         Good  \n1                0           0             1            0         Good  \n2                0           0             1            0         Good  \n3                0           0             1            0         Good  \n4                0           0             1            0         Good  \n...            ...         ...           ...          ...          ...  \n99995            0           0             0            1         Poor  \n99996            0           0             0            1         Poor  \n99997            0           0             0            1         Poor  \n99998            0           0             0            1     Standard  \n99999            0           0             0            1         Poor  \n\n[100000 rows x 35 columns]",
      "text/html": "<div>\n<style scoped>\n    .dataframe tbody tr th:only-of-type {\n        vertical-align: middle;\n    }\n\n    .dataframe tbody tr th {\n        vertical-align: top;\n    }\n\n    .dataframe thead th {\n        text-align: right;\n    }\n</style>\n<table border=\"1\" class=\"dataframe\">\n  <thead>\n    <tr style=\"text-align: right;\">\n      <th></th>\n      <th>Customer_ID</th>\n      <th>Month</th>\n      <th>Age</th>\n      <th>Occupation</th>\n      <th>Annual_Income</th>\n      <th>Monthly_Inhand_Salary</th>\n      <th>Num_Bank_Accounts</th>\n      <th>Num_Credit_Card</th>\n      <th>Interest_Rate</th>\n      <th>Num_of_Loan</th>\n      <th>...</th>\n      <th>Credit-BuilderLoan</th>\n      <th>DebtConsolidationLoan</th>\n      <th>HomeEquityLoan</th>\n      <th>MortgageLoan</th>\n      <th>NoData</th>\n      <th>NotSpecified</th>\n      <th>PaydayLoan</th>\n      <th>PersonalLoan</th>\n      <th>StudentLoan</th>\n      <th>Credit_Score</th>\n    </tr>\n  </thead>\n  <tbody>\n    <tr>\n      <th>0</th>\n      <td>3392</td>\n      <td>1</td>\n      <td>23.0</td>\n      <td>Scientist</td>\n      <td>19114.12</td>\n      <td>1824.843333</td>\n      <td>3.0</td>\n      <td>4.0</td>\n      <td>3.0</td>\n      <td>4.0</td>\n      <td>...</td>\n      <td>1</td>\n      <td>0</td>\n      <td>1</td>\n      <td>0</td>\n      <td>0</td>\n      <td>0</td>\n      <td>0</td>\n      <td>1</td>\n      <td>0</td>\n      <td>Good</td>\n    </tr>\n    <tr>\n      <th>1</th>\n      <td>3392</td>\n      <td>2</td>\n      <td>23.0</td>\n      <td>Scientist</td>\n      <td>19114.12</td>\n      <td>1824.843333</td>\n      <td>3.0</td>\n      <td>4.0</td>\n      <td>3.0</td>\n      <td>4.0</td>\n      <td>...</td>\n      <td>1</td>\n      <td>0</td>\n      <td>1</td>\n      <td>0</td>\n      <td>0</td>\n      <td>0</td>\n      <td>0</td>\n      <td>1</td>\n      <td>0</td>\n      <td>Good</td>\n    </tr>\n    <tr>\n      <th>2</th>\n      <td>3392</td>\n      <td>3</td>\n      <td>23.0</td>\n      <td>Scientist</td>\n      <td>19114.12</td>\n      <td>1824.843333</td>\n      <td>3.0</td>\n      <td>4.0</td>\n      <td>3.0</td>\n      <td>4.0</td>\n      <td>...</td>\n      <td>1</td>\n      <td>0</td>\n      <td>1</td>\n      <td>0</td>\n      <td>0</td>\n      <td>0</td>\n      <td>0</td>\n      <td>1</td>\n      <td>0</td>\n      <td>Good</td>\n    </tr>\n    <tr>\n      <th>3</th>\n      <td>3392</td>\n      <td>4</td>\n      <td>23.0</td>\n      <td>Scientist</td>\n      <td>19114.12</td>\n      <td>1824.843333</td>\n      <td>3.0</td>\n      <td>4.0</td>\n      <td>3.0</td>\n      <td>4.0</td>\n      <td>...</td>\n      <td>1</td>\n      <td>0</td>\n      <td>1</td>\n      <td>0</td>\n      <td>0</td>\n      <td>0</td>\n      <td>0</td>\n      <td>1</td>\n      <td>0</td>\n      <td>Good</td>\n    </tr>\n    <tr>\n      <th>4</th>\n      <td>3392</td>\n      <td>5</td>\n      <td>23.0</td>\n      <td>Scientist</td>\n      <td>19114.12</td>\n      <td>1824.843333</td>\n      <td>3.0</td>\n      <td>4.0</td>\n      <td>3.0</td>\n      <td>4.0</td>\n      <td>...</td>\n      <td>1</td>\n      <td>0</td>\n      <td>1</td>\n      <td>0</td>\n      <td>0</td>\n      <td>0</td>\n      <td>0</td>\n      <td>1</td>\n      <td>0</td>\n      <td>Good</td>\n    </tr>\n    <tr>\n      <th>...</th>\n      <td>...</td>\n      <td>...</td>\n      <td>...</td>\n      <td>...</td>\n      <td>...</td>\n      <td>...</td>\n      <td>...</td>\n      <td>...</td>\n      <td>...</td>\n      <td>...</td>\n      <td>...</td>\n      <td>...</td>\n      <td>...</td>\n      <td>...</td>\n      <td>...</td>\n      <td>...</td>\n      <td>...</td>\n      <td>...</td>\n      <td>...</td>\n      <td>...</td>\n      <td>...</td>\n    </tr>\n    <tr>\n      <th>99995</th>\n      <td>37932</td>\n      <td>4</td>\n      <td>25.0</td>\n      <td>Mechanic</td>\n      <td>39628.99</td>\n      <td>3359.415833</td>\n      <td>4.0</td>\n      <td>6.0</td>\n      <td>7.0</td>\n      <td>2.0</td>\n      <td>...</td>\n      <td>0</td>\n      <td>0</td>\n      <td>0</td>\n      <td>0</td>\n      <td>0</td>\n      <td>0</td>\n      <td>0</td>\n      <td>0</td>\n      <td>1</td>\n      <td>Poor</td>\n    </tr>\n    <tr>\n      <th>99996</th>\n      <td>37932</td>\n      <td>5</td>\n      <td>25.0</td>\n      <td>Mechanic</td>\n      <td>39628.99</td>\n      <td>3359.415833</td>\n      <td>4.0</td>\n      <td>6.0</td>\n      <td>7.0</td>\n      <td>2.0</td>\n      <td>...</td>\n      <td>0</td>\n      <td>0</td>\n      <td>0</td>\n      <td>0</td>\n      <td>0</td>\n      <td>0</td>\n      <td>0</td>\n      <td>0</td>\n      <td>1</td>\n      <td>Poor</td>\n    </tr>\n    <tr>\n      <th>99997</th>\n      <td>37932</td>\n      <td>6</td>\n      <td>25.0</td>\n      <td>Mechanic</td>\n      <td>39628.99</td>\n      <td>3359.415833</td>\n      <td>4.0</td>\n      <td>6.0</td>\n      <td>7.0</td>\n      <td>2.0</td>\n      <td>...</td>\n      <td>0</td>\n      <td>0</td>\n      <td>0</td>\n      <td>0</td>\n      <td>0</td>\n      <td>0</td>\n      <td>0</td>\n      <td>0</td>\n      <td>1</td>\n      <td>Poor</td>\n    </tr>\n    <tr>\n      <th>99998</th>\n      <td>37932</td>\n      <td>7</td>\n      <td>25.0</td>\n      <td>Mechanic</td>\n      <td>39628.99</td>\n      <td>3359.415833</td>\n      <td>4.0</td>\n      <td>6.0</td>\n      <td>7.0</td>\n      <td>2.0</td>\n      <td>...</td>\n      <td>0</td>\n      <td>0</td>\n      <td>0</td>\n      <td>0</td>\n      <td>0</td>\n      <td>0</td>\n      <td>0</td>\n      <td>0</td>\n      <td>1</td>\n      <td>Standard</td>\n    </tr>\n    <tr>\n      <th>99999</th>\n      <td>37932</td>\n      <td>8</td>\n      <td>25.0</td>\n      <td>Mechanic</td>\n      <td>39628.99</td>\n      <td>3359.415833</td>\n      <td>4.0</td>\n      <td>6.0</td>\n      <td>7.0</td>\n      <td>2.0</td>\n      <td>...</td>\n      <td>0</td>\n      <td>0</td>\n      <td>0</td>\n      <td>0</td>\n      <td>0</td>\n      <td>0</td>\n      <td>0</td>\n      <td>0</td>\n      <td>1</td>\n      <td>Poor</td>\n    </tr>\n  </tbody>\n</table>\n<p>100000 rows × 35 columns</p>\n</div>"
     },
     "execution_count": 110,
     "metadata": {},
     "output_type": "execute_result"
    }
   ],
   "source": [
    "cleaned_df = cleaned_df[new_cols]\n",
    "cleaned_df"
   ],
   "metadata": {
    "collapsed": false
   }
  },
  {
   "cell_type": "markdown",
   "source": [
    "## Payment Behaviour Decomposition"
   ],
   "metadata": {
    "collapsed": false
   }
  },
  {
   "cell_type": "code",
   "execution_count": 111,
   "outputs": [
    {
     "data": {
      "text/plain": "Low_spent_Small_value_payments      28616\nHigh_spent_Medium_value_payments    19738\nHigh_spent_Large_value_payments     14726\nLow_spent_Medium_value_payments     14399\nHigh_spent_Small_value_payments     11764\nLow_spent_Large_value_payments      10757\nName: Payment_Behaviour, dtype: int64"
     },
     "execution_count": 111,
     "metadata": {},
     "output_type": "execute_result"
    }
   ],
   "source": [
    "cleaned_df['Payment_Behaviour'].value_counts()"
   ],
   "metadata": {
    "collapsed": false
   }
  },
  {
   "cell_type": "code",
   "execution_count": 43,
   "outputs": [
    {
     "data": {
      "text/plain": "0        High\n1         Low\n2         Low\n3         Low\n4        High\n         ... \n99995    High\n99996    High\n99997    High\n99998     Low\n99999    High\nName: Spending_Behaviour, Length: 100000, dtype: object"
     },
     "execution_count": 43,
     "metadata": {},
     "output_type": "execute_result"
    }
   ],
   "source": [
    "spending_behaviour = cleaned_df['Payment_Behaviour'].str.split('_').apply(lambda x : ''.join(x[:1]))\n",
    "spending_behaviour.name = 'Spending_Behaviour'\n",
    "spending_behaviour"
   ],
   "metadata": {
    "collapsed": false
   }
  },
  {
   "cell_type": "code",
   "execution_count": 44,
   "outputs": [
    {
     "name": "stdout",
     "output_type": "stream",
     "text": [
      "['High' 'Low']\n"
     ]
    }
   ],
   "source": [
    "print(spending_behaviour.unique())"
   ],
   "metadata": {
    "collapsed": false
   }
  },
  {
   "cell_type": "code",
   "execution_count": 45,
   "outputs": [
    {
     "data": {
      "text/plain": "0         Small\n1         Large\n2        Medium\n3         Small\n4        Medium\n          ...  \n99995     Large\n99996    Medium\n99997     Large\n99998     Large\n99999    Medium\nName: Repay_Behaviour, Length: 100000, dtype: object"
     },
     "execution_count": 45,
     "metadata": {},
     "output_type": "execute_result"
    }
   ],
   "source": [
    "repay_behaviour = cleaned_df['Payment_Behaviour'].str.split('_').apply(lambda x : ''.join(x[2:3]))\n",
    "repay_behaviour.name = 'Repay_Behaviour'\n",
    "repay_behaviour"
   ],
   "metadata": {
    "collapsed": false
   }
  },
  {
   "cell_type": "code",
   "execution_count": 46,
   "outputs": [
    {
     "name": "stdout",
     "output_type": "stream",
     "text": [
      "['Small' 'Large' 'Medium']\n"
     ]
    }
   ],
   "source": [
    "print(repay_behaviour.unique())"
   ],
   "metadata": {
    "collapsed": false
   }
  },
  {
   "cell_type": "code",
   "execution_count": 47,
   "outputs": [],
   "source": [
    "spending_dict = {\n",
    "    'Low': 0,\n",
    "    'High': 1,\n",
    "}\n",
    "\n",
    "repay_dict = {\n",
    "    'Small': 0,\n",
    "    'Medium': 1,\n",
    "    'Large': 2\n",
    "}"
   ],
   "metadata": {
    "collapsed": false
   }
  },
  {
   "cell_type": "code",
   "execution_count": 48,
   "outputs": [],
   "source": [
    "cleaned_df['Spending_Behaviour'] = spending_behaviour.map(spending_dict)\n",
    "cleaned_df['Repay_Behaviour'] = repay_behaviour.map(repay_dict)"
   ],
   "metadata": {
    "collapsed": false
   }
  },
  {
   "cell_type": "code",
   "execution_count": 49,
   "outputs": [
    {
     "data": {
      "text/plain": "       Customer_ID  Month   Age Occupation  Annual_Income  \\\n0             3392      1  23.0  Scientist       19114.12   \n1             3392      2  23.0  Scientist       19114.12   \n2             3392      3  23.0  Scientist       19114.12   \n3             3392      4  23.0  Scientist       19114.12   \n4             3392      5  23.0  Scientist       19114.12   \n...            ...    ...   ...        ...            ...   \n99995        37932      4  25.0   Mechanic       39628.99   \n99996        37932      5  25.0   Mechanic       39628.99   \n99997        37932      6  25.0   Mechanic       39628.99   \n99998        37932      7  25.0   Mechanic       39628.99   \n99999        37932      8  25.0   Mechanic       39628.99   \n\n       Monthly_Inhand_Salary  Num_Bank_Accounts  Num_Credit_Card  \\\n0                1824.843333                3.0              4.0   \n1                1824.843333                3.0              4.0   \n2                1824.843333                3.0              4.0   \n3                1824.843333                3.0              4.0   \n4                1824.843333                3.0              4.0   \n...                      ...                ...              ...   \n99995            3359.415833                4.0              6.0   \n99996            3359.415833                4.0              6.0   \n99997            3359.415833                4.0              6.0   \n99998            3359.415833                4.0              6.0   \n99999            3359.415833                4.0              6.0   \n\n       Interest_Rate  Num_of_Loan  ... HomeEquityLoan  MortgageLoan  NoData  \\\n0                3.0          4.0  ...              1             0       0   \n1                3.0          4.0  ...              1             0       0   \n2                3.0          4.0  ...              1             0       0   \n3                3.0          4.0  ...              1             0       0   \n4                3.0          4.0  ...              1             0       0   \n...              ...          ...  ...            ...           ...     ...   \n99995            7.0          2.0  ...              0             0       0   \n99996            7.0          2.0  ...              0             0       0   \n99997            7.0          2.0  ...              0             0       0   \n99998            7.0          2.0  ...              0             0       0   \n99999            7.0          2.0  ...              0             0       0   \n\n       NotSpecified  PaydayLoan PersonalLoan  StudentLoan  Spending_Behaviour  \\\n0                 0           0            1            0                   1   \n1                 0           0            1            0                   0   \n2                 0           0            1            0                   0   \n3                 0           0            1            0                   0   \n4                 0           0            1            0                   1   \n...             ...         ...          ...          ...                 ...   \n99995             0           0            0            1                   1   \n99996             0           0            0            1                   1   \n99997             0           0            0            1                   1   \n99998             0           0            0            1                   0   \n99999             0           0            0            1                   1   \n\n       Repay_Behaviour Credit_Score  \n0                    0         Good  \n1                    2         Good  \n2                    1         Good  \n3                    0         Good  \n4                    1         Good  \n...                ...          ...  \n99995                2         Poor  \n99996                1         Poor  \n99997                2         Poor  \n99998                2     Standard  \n99999                1         Poor  \n\n[100000 rows x 37 columns]",
      "text/html": "<div>\n<style scoped>\n    .dataframe tbody tr th:only-of-type {\n        vertical-align: middle;\n    }\n\n    .dataframe tbody tr th {\n        vertical-align: top;\n    }\n\n    .dataframe thead th {\n        text-align: right;\n    }\n</style>\n<table border=\"1\" class=\"dataframe\">\n  <thead>\n    <tr style=\"text-align: right;\">\n      <th></th>\n      <th>Customer_ID</th>\n      <th>Month</th>\n      <th>Age</th>\n      <th>Occupation</th>\n      <th>Annual_Income</th>\n      <th>Monthly_Inhand_Salary</th>\n      <th>Num_Bank_Accounts</th>\n      <th>Num_Credit_Card</th>\n      <th>Interest_Rate</th>\n      <th>Num_of_Loan</th>\n      <th>...</th>\n      <th>HomeEquityLoan</th>\n      <th>MortgageLoan</th>\n      <th>NoData</th>\n      <th>NotSpecified</th>\n      <th>PaydayLoan</th>\n      <th>PersonalLoan</th>\n      <th>StudentLoan</th>\n      <th>Spending_Behaviour</th>\n      <th>Repay_Behaviour</th>\n      <th>Credit_Score</th>\n    </tr>\n  </thead>\n  <tbody>\n    <tr>\n      <th>0</th>\n      <td>3392</td>\n      <td>1</td>\n      <td>23.0</td>\n      <td>Scientist</td>\n      <td>19114.12</td>\n      <td>1824.843333</td>\n      <td>3.0</td>\n      <td>4.0</td>\n      <td>3.0</td>\n      <td>4.0</td>\n      <td>...</td>\n      <td>1</td>\n      <td>0</td>\n      <td>0</td>\n      <td>0</td>\n      <td>0</td>\n      <td>1</td>\n      <td>0</td>\n      <td>1</td>\n      <td>0</td>\n      <td>Good</td>\n    </tr>\n    <tr>\n      <th>1</th>\n      <td>3392</td>\n      <td>2</td>\n      <td>23.0</td>\n      <td>Scientist</td>\n      <td>19114.12</td>\n      <td>1824.843333</td>\n      <td>3.0</td>\n      <td>4.0</td>\n      <td>3.0</td>\n      <td>4.0</td>\n      <td>...</td>\n      <td>1</td>\n      <td>0</td>\n      <td>0</td>\n      <td>0</td>\n      <td>0</td>\n      <td>1</td>\n      <td>0</td>\n      <td>0</td>\n      <td>2</td>\n      <td>Good</td>\n    </tr>\n    <tr>\n      <th>2</th>\n      <td>3392</td>\n      <td>3</td>\n      <td>23.0</td>\n      <td>Scientist</td>\n      <td>19114.12</td>\n      <td>1824.843333</td>\n      <td>3.0</td>\n      <td>4.0</td>\n      <td>3.0</td>\n      <td>4.0</td>\n      <td>...</td>\n      <td>1</td>\n      <td>0</td>\n      <td>0</td>\n      <td>0</td>\n      <td>0</td>\n      <td>1</td>\n      <td>0</td>\n      <td>0</td>\n      <td>1</td>\n      <td>Good</td>\n    </tr>\n    <tr>\n      <th>3</th>\n      <td>3392</td>\n      <td>4</td>\n      <td>23.0</td>\n      <td>Scientist</td>\n      <td>19114.12</td>\n      <td>1824.843333</td>\n      <td>3.0</td>\n      <td>4.0</td>\n      <td>3.0</td>\n      <td>4.0</td>\n      <td>...</td>\n      <td>1</td>\n      <td>0</td>\n      <td>0</td>\n      <td>0</td>\n      <td>0</td>\n      <td>1</td>\n      <td>0</td>\n      <td>0</td>\n      <td>0</td>\n      <td>Good</td>\n    </tr>\n    <tr>\n      <th>4</th>\n      <td>3392</td>\n      <td>5</td>\n      <td>23.0</td>\n      <td>Scientist</td>\n      <td>19114.12</td>\n      <td>1824.843333</td>\n      <td>3.0</td>\n      <td>4.0</td>\n      <td>3.0</td>\n      <td>4.0</td>\n      <td>...</td>\n      <td>1</td>\n      <td>0</td>\n      <td>0</td>\n      <td>0</td>\n      <td>0</td>\n      <td>1</td>\n      <td>0</td>\n      <td>1</td>\n      <td>1</td>\n      <td>Good</td>\n    </tr>\n    <tr>\n      <th>...</th>\n      <td>...</td>\n      <td>...</td>\n      <td>...</td>\n      <td>...</td>\n      <td>...</td>\n      <td>...</td>\n      <td>...</td>\n      <td>...</td>\n      <td>...</td>\n      <td>...</td>\n      <td>...</td>\n      <td>...</td>\n      <td>...</td>\n      <td>...</td>\n      <td>...</td>\n      <td>...</td>\n      <td>...</td>\n      <td>...</td>\n      <td>...</td>\n      <td>...</td>\n      <td>...</td>\n    </tr>\n    <tr>\n      <th>99995</th>\n      <td>37932</td>\n      <td>4</td>\n      <td>25.0</td>\n      <td>Mechanic</td>\n      <td>39628.99</td>\n      <td>3359.415833</td>\n      <td>4.0</td>\n      <td>6.0</td>\n      <td>7.0</td>\n      <td>2.0</td>\n      <td>...</td>\n      <td>0</td>\n      <td>0</td>\n      <td>0</td>\n      <td>0</td>\n      <td>0</td>\n      <td>0</td>\n      <td>1</td>\n      <td>1</td>\n      <td>2</td>\n      <td>Poor</td>\n    </tr>\n    <tr>\n      <th>99996</th>\n      <td>37932</td>\n      <td>5</td>\n      <td>25.0</td>\n      <td>Mechanic</td>\n      <td>39628.99</td>\n      <td>3359.415833</td>\n      <td>4.0</td>\n      <td>6.0</td>\n      <td>7.0</td>\n      <td>2.0</td>\n      <td>...</td>\n      <td>0</td>\n      <td>0</td>\n      <td>0</td>\n      <td>0</td>\n      <td>0</td>\n      <td>0</td>\n      <td>1</td>\n      <td>1</td>\n      <td>1</td>\n      <td>Poor</td>\n    </tr>\n    <tr>\n      <th>99997</th>\n      <td>37932</td>\n      <td>6</td>\n      <td>25.0</td>\n      <td>Mechanic</td>\n      <td>39628.99</td>\n      <td>3359.415833</td>\n      <td>4.0</td>\n      <td>6.0</td>\n      <td>7.0</td>\n      <td>2.0</td>\n      <td>...</td>\n      <td>0</td>\n      <td>0</td>\n      <td>0</td>\n      <td>0</td>\n      <td>0</td>\n      <td>0</td>\n      <td>1</td>\n      <td>1</td>\n      <td>2</td>\n      <td>Poor</td>\n    </tr>\n    <tr>\n      <th>99998</th>\n      <td>37932</td>\n      <td>7</td>\n      <td>25.0</td>\n      <td>Mechanic</td>\n      <td>39628.99</td>\n      <td>3359.415833</td>\n      <td>4.0</td>\n      <td>6.0</td>\n      <td>7.0</td>\n      <td>2.0</td>\n      <td>...</td>\n      <td>0</td>\n      <td>0</td>\n      <td>0</td>\n      <td>0</td>\n      <td>0</td>\n      <td>0</td>\n      <td>1</td>\n      <td>0</td>\n      <td>2</td>\n      <td>Standard</td>\n    </tr>\n    <tr>\n      <th>99999</th>\n      <td>37932</td>\n      <td>8</td>\n      <td>25.0</td>\n      <td>Mechanic</td>\n      <td>39628.99</td>\n      <td>3359.415833</td>\n      <td>4.0</td>\n      <td>6.0</td>\n      <td>7.0</td>\n      <td>2.0</td>\n      <td>...</td>\n      <td>0</td>\n      <td>0</td>\n      <td>0</td>\n      <td>0</td>\n      <td>0</td>\n      <td>0</td>\n      <td>1</td>\n      <td>1</td>\n      <td>1</td>\n      <td>Poor</td>\n    </tr>\n  </tbody>\n</table>\n<p>100000 rows × 37 columns</p>\n</div>"
     },
     "execution_count": 49,
     "metadata": {},
     "output_type": "execute_result"
    }
   ],
   "source": [
    "cleaned_df"
   ],
   "metadata": {
    "collapsed": false
   }
  },
  {
   "cell_type": "code",
   "execution_count": 50,
   "outputs": [
    {
     "data": {
      "text/plain": "['Customer_ID',\n 'Month',\n 'Age',\n 'Occupation',\n 'Annual_Income',\n 'Monthly_Inhand_Salary',\n 'Num_Bank_Accounts',\n 'Num_Credit_Card',\n 'Interest_Rate',\n 'Num_of_Loan',\n 'Type_of_Loan',\n 'Delay_from_due_date',\n 'Num_of_Delayed_Payment',\n 'Changed_Credit_Limit',\n 'Num_Credit_Inquiries',\n 'Credit_Mix',\n 'Outstanding_Debt',\n 'Credit_Utilization_Ratio',\n 'Credit_History_Age',\n 'Payment_of_Min_Amount',\n 'Total_EMI_per_month',\n 'Amount_invested_monthly',\n 'Payment_Behaviour',\n 'Monthly_Balance',\n 'AutoLoan',\n 'Credit-BuilderLoan',\n 'DebtConsolidationLoan',\n 'HomeEquityLoan',\n 'MortgageLoan',\n 'NoData',\n 'NotSpecified',\n 'PaydayLoan',\n 'PersonalLoan',\n 'StudentLoan',\n 'Spending_Behaviour',\n 'Repay_Behaviour',\n 'Credit_Score']"
     },
     "execution_count": 50,
     "metadata": {},
     "output_type": "execute_result"
    }
   ],
   "source": [
    "# cleaned_df = pd.concat([cleaned_df, loan_dummy_df], axis=1)\n",
    "cols = cleaned_df.columns.tolist()\n",
    "y_index = cols.index('Credit_Score')\n",
    "new_cols = cols[:y_index] + cols[y_index + 1: ] + cols[y_index].split()\n",
    "new_cols"
   ],
   "metadata": {
    "collapsed": false
   }
  },
  {
   "cell_type": "code",
   "execution_count": 51,
   "outputs": [
    {
     "data": {
      "text/plain": "       Customer_ID  Month   Age Occupation  Annual_Income  \\\n0             3392      1  23.0  Scientist       19114.12   \n1             3392      2  23.0  Scientist       19114.12   \n2             3392      3  23.0  Scientist       19114.12   \n3             3392      4  23.0  Scientist       19114.12   \n4             3392      5  23.0  Scientist       19114.12   \n...            ...    ...   ...        ...            ...   \n99995        37932      4  25.0   Mechanic       39628.99   \n99996        37932      5  25.0   Mechanic       39628.99   \n99997        37932      6  25.0   Mechanic       39628.99   \n99998        37932      7  25.0   Mechanic       39628.99   \n99999        37932      8  25.0   Mechanic       39628.99   \n\n       Monthly_Inhand_Salary  Num_Bank_Accounts  Num_Credit_Card  \\\n0                1824.843333                3.0              4.0   \n1                1824.843333                3.0              4.0   \n2                1824.843333                3.0              4.0   \n3                1824.843333                3.0              4.0   \n4                1824.843333                3.0              4.0   \n...                      ...                ...              ...   \n99995            3359.415833                4.0              6.0   \n99996            3359.415833                4.0              6.0   \n99997            3359.415833                4.0              6.0   \n99998            3359.415833                4.0              6.0   \n99999            3359.415833                4.0              6.0   \n\n       Interest_Rate  Num_of_Loan  ... HomeEquityLoan  MortgageLoan  NoData  \\\n0                3.0          4.0  ...              1             0       0   \n1                3.0          4.0  ...              1             0       0   \n2                3.0          4.0  ...              1             0       0   \n3                3.0          4.0  ...              1             0       0   \n4                3.0          4.0  ...              1             0       0   \n...              ...          ...  ...            ...           ...     ...   \n99995            7.0          2.0  ...              0             0       0   \n99996            7.0          2.0  ...              0             0       0   \n99997            7.0          2.0  ...              0             0       0   \n99998            7.0          2.0  ...              0             0       0   \n99999            7.0          2.0  ...              0             0       0   \n\n       NotSpecified  PaydayLoan PersonalLoan  StudentLoan  Spending_Behaviour  \\\n0                 0           0            1            0                   1   \n1                 0           0            1            0                   0   \n2                 0           0            1            0                   0   \n3                 0           0            1            0                   0   \n4                 0           0            1            0                   1   \n...             ...         ...          ...          ...                 ...   \n99995             0           0            0            1                   1   \n99996             0           0            0            1                   1   \n99997             0           0            0            1                   1   \n99998             0           0            0            1                   0   \n99999             0           0            0            1                   1   \n\n       Repay_Behaviour Credit_Score  \n0                    0         Good  \n1                    2         Good  \n2                    1         Good  \n3                    0         Good  \n4                    1         Good  \n...                ...          ...  \n99995                2         Poor  \n99996                1         Poor  \n99997                2         Poor  \n99998                2     Standard  \n99999                1         Poor  \n\n[100000 rows x 37 columns]",
      "text/html": "<div>\n<style scoped>\n    .dataframe tbody tr th:only-of-type {\n        vertical-align: middle;\n    }\n\n    .dataframe tbody tr th {\n        vertical-align: top;\n    }\n\n    .dataframe thead th {\n        text-align: right;\n    }\n</style>\n<table border=\"1\" class=\"dataframe\">\n  <thead>\n    <tr style=\"text-align: right;\">\n      <th></th>\n      <th>Customer_ID</th>\n      <th>Month</th>\n      <th>Age</th>\n      <th>Occupation</th>\n      <th>Annual_Income</th>\n      <th>Monthly_Inhand_Salary</th>\n      <th>Num_Bank_Accounts</th>\n      <th>Num_Credit_Card</th>\n      <th>Interest_Rate</th>\n      <th>Num_of_Loan</th>\n      <th>...</th>\n      <th>HomeEquityLoan</th>\n      <th>MortgageLoan</th>\n      <th>NoData</th>\n      <th>NotSpecified</th>\n      <th>PaydayLoan</th>\n      <th>PersonalLoan</th>\n      <th>StudentLoan</th>\n      <th>Spending_Behaviour</th>\n      <th>Repay_Behaviour</th>\n      <th>Credit_Score</th>\n    </tr>\n  </thead>\n  <tbody>\n    <tr>\n      <th>0</th>\n      <td>3392</td>\n      <td>1</td>\n      <td>23.0</td>\n      <td>Scientist</td>\n      <td>19114.12</td>\n      <td>1824.843333</td>\n      <td>3.0</td>\n      <td>4.0</td>\n      <td>3.0</td>\n      <td>4.0</td>\n      <td>...</td>\n      <td>1</td>\n      <td>0</td>\n      <td>0</td>\n      <td>0</td>\n      <td>0</td>\n      <td>1</td>\n      <td>0</td>\n      <td>1</td>\n      <td>0</td>\n      <td>Good</td>\n    </tr>\n    <tr>\n      <th>1</th>\n      <td>3392</td>\n      <td>2</td>\n      <td>23.0</td>\n      <td>Scientist</td>\n      <td>19114.12</td>\n      <td>1824.843333</td>\n      <td>3.0</td>\n      <td>4.0</td>\n      <td>3.0</td>\n      <td>4.0</td>\n      <td>...</td>\n      <td>1</td>\n      <td>0</td>\n      <td>0</td>\n      <td>0</td>\n      <td>0</td>\n      <td>1</td>\n      <td>0</td>\n      <td>0</td>\n      <td>2</td>\n      <td>Good</td>\n    </tr>\n    <tr>\n      <th>2</th>\n      <td>3392</td>\n      <td>3</td>\n      <td>23.0</td>\n      <td>Scientist</td>\n      <td>19114.12</td>\n      <td>1824.843333</td>\n      <td>3.0</td>\n      <td>4.0</td>\n      <td>3.0</td>\n      <td>4.0</td>\n      <td>...</td>\n      <td>1</td>\n      <td>0</td>\n      <td>0</td>\n      <td>0</td>\n      <td>0</td>\n      <td>1</td>\n      <td>0</td>\n      <td>0</td>\n      <td>1</td>\n      <td>Good</td>\n    </tr>\n    <tr>\n      <th>3</th>\n      <td>3392</td>\n      <td>4</td>\n      <td>23.0</td>\n      <td>Scientist</td>\n      <td>19114.12</td>\n      <td>1824.843333</td>\n      <td>3.0</td>\n      <td>4.0</td>\n      <td>3.0</td>\n      <td>4.0</td>\n      <td>...</td>\n      <td>1</td>\n      <td>0</td>\n      <td>0</td>\n      <td>0</td>\n      <td>0</td>\n      <td>1</td>\n      <td>0</td>\n      <td>0</td>\n      <td>0</td>\n      <td>Good</td>\n    </tr>\n    <tr>\n      <th>4</th>\n      <td>3392</td>\n      <td>5</td>\n      <td>23.0</td>\n      <td>Scientist</td>\n      <td>19114.12</td>\n      <td>1824.843333</td>\n      <td>3.0</td>\n      <td>4.0</td>\n      <td>3.0</td>\n      <td>4.0</td>\n      <td>...</td>\n      <td>1</td>\n      <td>0</td>\n      <td>0</td>\n      <td>0</td>\n      <td>0</td>\n      <td>1</td>\n      <td>0</td>\n      <td>1</td>\n      <td>1</td>\n      <td>Good</td>\n    </tr>\n    <tr>\n      <th>...</th>\n      <td>...</td>\n      <td>...</td>\n      <td>...</td>\n      <td>...</td>\n      <td>...</td>\n      <td>...</td>\n      <td>...</td>\n      <td>...</td>\n      <td>...</td>\n      <td>...</td>\n      <td>...</td>\n      <td>...</td>\n      <td>...</td>\n      <td>...</td>\n      <td>...</td>\n      <td>...</td>\n      <td>...</td>\n      <td>...</td>\n      <td>...</td>\n      <td>...</td>\n      <td>...</td>\n    </tr>\n    <tr>\n      <th>99995</th>\n      <td>37932</td>\n      <td>4</td>\n      <td>25.0</td>\n      <td>Mechanic</td>\n      <td>39628.99</td>\n      <td>3359.415833</td>\n      <td>4.0</td>\n      <td>6.0</td>\n      <td>7.0</td>\n      <td>2.0</td>\n      <td>...</td>\n      <td>0</td>\n      <td>0</td>\n      <td>0</td>\n      <td>0</td>\n      <td>0</td>\n      <td>0</td>\n      <td>1</td>\n      <td>1</td>\n      <td>2</td>\n      <td>Poor</td>\n    </tr>\n    <tr>\n      <th>99996</th>\n      <td>37932</td>\n      <td>5</td>\n      <td>25.0</td>\n      <td>Mechanic</td>\n      <td>39628.99</td>\n      <td>3359.415833</td>\n      <td>4.0</td>\n      <td>6.0</td>\n      <td>7.0</td>\n      <td>2.0</td>\n      <td>...</td>\n      <td>0</td>\n      <td>0</td>\n      <td>0</td>\n      <td>0</td>\n      <td>0</td>\n      <td>0</td>\n      <td>1</td>\n      <td>1</td>\n      <td>1</td>\n      <td>Poor</td>\n    </tr>\n    <tr>\n      <th>99997</th>\n      <td>37932</td>\n      <td>6</td>\n      <td>25.0</td>\n      <td>Mechanic</td>\n      <td>39628.99</td>\n      <td>3359.415833</td>\n      <td>4.0</td>\n      <td>6.0</td>\n      <td>7.0</td>\n      <td>2.0</td>\n      <td>...</td>\n      <td>0</td>\n      <td>0</td>\n      <td>0</td>\n      <td>0</td>\n      <td>0</td>\n      <td>0</td>\n      <td>1</td>\n      <td>1</td>\n      <td>2</td>\n      <td>Poor</td>\n    </tr>\n    <tr>\n      <th>99998</th>\n      <td>37932</td>\n      <td>7</td>\n      <td>25.0</td>\n      <td>Mechanic</td>\n      <td>39628.99</td>\n      <td>3359.415833</td>\n      <td>4.0</td>\n      <td>6.0</td>\n      <td>7.0</td>\n      <td>2.0</td>\n      <td>...</td>\n      <td>0</td>\n      <td>0</td>\n      <td>0</td>\n      <td>0</td>\n      <td>0</td>\n      <td>0</td>\n      <td>1</td>\n      <td>0</td>\n      <td>2</td>\n      <td>Standard</td>\n    </tr>\n    <tr>\n      <th>99999</th>\n      <td>37932</td>\n      <td>8</td>\n      <td>25.0</td>\n      <td>Mechanic</td>\n      <td>39628.99</td>\n      <td>3359.415833</td>\n      <td>4.0</td>\n      <td>6.0</td>\n      <td>7.0</td>\n      <td>2.0</td>\n      <td>...</td>\n      <td>0</td>\n      <td>0</td>\n      <td>0</td>\n      <td>0</td>\n      <td>0</td>\n      <td>0</td>\n      <td>1</td>\n      <td>1</td>\n      <td>1</td>\n      <td>Poor</td>\n    </tr>\n  </tbody>\n</table>\n<p>100000 rows × 37 columns</p>\n</div>"
     },
     "execution_count": 51,
     "metadata": {},
     "output_type": "execute_result"
    }
   ],
   "source": [
    "cleaned_df = cleaned_df[new_cols]\n",
    "cleaned_df"
   ],
   "metadata": {
    "collapsed": false
   }
  },
  {
   "cell_type": "markdown",
   "source": [
    "### Label Dictionary of Credit Score"
   ],
   "metadata": {
    "collapsed": false
   }
  },
  {
   "cell_type": "code",
   "execution_count": 52,
   "outputs": [
    {
     "data": {
      "text/plain": "array(['Good', 'Poor', 'Standard'], dtype=object)"
     },
     "execution_count": 52,
     "metadata": {},
     "output_type": "execute_result"
    }
   ],
   "source": [
    "np.unique(cleaned_df['Credit_Score'])"
   ],
   "metadata": {
    "collapsed": false
   }
  },
  {
   "cell_type": "markdown",
   "source": [
    "Good > Standard > Poor 순으로 정렬 필요."
   ],
   "metadata": {
    "collapsed": false
   }
  },
  {
   "cell_type": "code",
   "execution_count": 53,
   "outputs": [
    {
     "data": {
      "text/plain": "0        2\n1        2\n2        2\n3        2\n4        2\n        ..\n99995    0\n99996    0\n99997    0\n99998    1\n99999    0\nName: Credit_Score, Length: 100000, dtype: int64"
     },
     "execution_count": 53,
     "metadata": {},
     "output_type": "execute_result"
    }
   ],
   "source": [
    "# label2idx 딕셔너리 생성\n",
    "label2idx = {'Poor': 0, 'Standard': 1, 'Good': 2}\n",
    "\n",
    "# cleaned_df['Credit_Score'].map(label2idx)\n",
    "cleaned_df['Credit_Score'] = cleaned_df['Credit_Score'].map(label2idx)\n",
    "cleaned_df['Credit_Score']"
   ],
   "metadata": {
    "collapsed": false
   }
  },
  {
   "cell_type": "code",
   "execution_count": 54,
   "outputs": [
    {
     "data": {
      "text/plain": "{0: 'Poor', 1: 'Standard', 2: 'Good'}"
     },
     "execution_count": 54,
     "metadata": {},
     "output_type": "execute_result"
    }
   ],
   "source": [
    "# idx to label dictionary\n",
    "idx2label = {}\n",
    "for idx, value in label2idx.items():\n",
    "    idx2label[value] = idx\n",
    "\n",
    "idx2label"
   ],
   "metadata": {
    "collapsed": false
   }
  },
  {
   "cell_type": "markdown",
   "source": [
    "### 3) Pivot Table for the Change of Credit Score of Customers"
   ],
   "metadata": {
    "collapsed": false
   }
  },
  {
   "cell_type": "markdown",
   "source": [
    "- row : Customer\n",
    "- column : Month\n",
    "- values : Credit Score"
   ],
   "metadata": {
    "collapsed": false
   }
  },
  {
   "cell_type": "code",
   "execution_count": 55,
   "outputs": [
    {
     "data": {
      "text/plain": "Month        1  2  3  4  5  6  7  8\nCustomer_ID                        \n1006         0  0  0  0  0  0  0  0\n1007         1  1  1  1  1  1  1  0\n1008         1  1  1  1  1  1  1  1\n1009         1  1  1  1  1  1  1  1\n1011         1  1  1  1  1  1  1  1\n...         .. .. .. .. .. .. .. ..\n50984        0  0  0  0  1  0  0  0\n50990        0  0  1  0  0  0  0  0\n50992        1  1  1  1  1  1  1  1\n50996        1  1  1  1  1  1  1  1\n50999        2  2  2  2  2  2  2  2\n\n[12500 rows x 8 columns]",
      "text/html": "<div>\n<style scoped>\n    .dataframe tbody tr th:only-of-type {\n        vertical-align: middle;\n    }\n\n    .dataframe tbody tr th {\n        vertical-align: top;\n    }\n\n    .dataframe thead th {\n        text-align: right;\n    }\n</style>\n<table border=\"1\" class=\"dataframe\">\n  <thead>\n    <tr style=\"text-align: right;\">\n      <th>Month</th>\n      <th>1</th>\n      <th>2</th>\n      <th>3</th>\n      <th>4</th>\n      <th>5</th>\n      <th>6</th>\n      <th>7</th>\n      <th>8</th>\n    </tr>\n    <tr>\n      <th>Customer_ID</th>\n      <th></th>\n      <th></th>\n      <th></th>\n      <th></th>\n      <th></th>\n      <th></th>\n      <th></th>\n      <th></th>\n    </tr>\n  </thead>\n  <tbody>\n    <tr>\n      <th>1006</th>\n      <td>0</td>\n      <td>0</td>\n      <td>0</td>\n      <td>0</td>\n      <td>0</td>\n      <td>0</td>\n      <td>0</td>\n      <td>0</td>\n    </tr>\n    <tr>\n      <th>1007</th>\n      <td>1</td>\n      <td>1</td>\n      <td>1</td>\n      <td>1</td>\n      <td>1</td>\n      <td>1</td>\n      <td>1</td>\n      <td>0</td>\n    </tr>\n    <tr>\n      <th>1008</th>\n      <td>1</td>\n      <td>1</td>\n      <td>1</td>\n      <td>1</td>\n      <td>1</td>\n      <td>1</td>\n      <td>1</td>\n      <td>1</td>\n    </tr>\n    <tr>\n      <th>1009</th>\n      <td>1</td>\n      <td>1</td>\n      <td>1</td>\n      <td>1</td>\n      <td>1</td>\n      <td>1</td>\n      <td>1</td>\n      <td>1</td>\n    </tr>\n    <tr>\n      <th>1011</th>\n      <td>1</td>\n      <td>1</td>\n      <td>1</td>\n      <td>1</td>\n      <td>1</td>\n      <td>1</td>\n      <td>1</td>\n      <td>1</td>\n    </tr>\n    <tr>\n      <th>...</th>\n      <td>...</td>\n      <td>...</td>\n      <td>...</td>\n      <td>...</td>\n      <td>...</td>\n      <td>...</td>\n      <td>...</td>\n      <td>...</td>\n    </tr>\n    <tr>\n      <th>50984</th>\n      <td>0</td>\n      <td>0</td>\n      <td>0</td>\n      <td>0</td>\n      <td>1</td>\n      <td>0</td>\n      <td>0</td>\n      <td>0</td>\n    </tr>\n    <tr>\n      <th>50990</th>\n      <td>0</td>\n      <td>0</td>\n      <td>1</td>\n      <td>0</td>\n      <td>0</td>\n      <td>0</td>\n      <td>0</td>\n      <td>0</td>\n    </tr>\n    <tr>\n      <th>50992</th>\n      <td>1</td>\n      <td>1</td>\n      <td>1</td>\n      <td>1</td>\n      <td>1</td>\n      <td>1</td>\n      <td>1</td>\n      <td>1</td>\n    </tr>\n    <tr>\n      <th>50996</th>\n      <td>1</td>\n      <td>1</td>\n      <td>1</td>\n      <td>1</td>\n      <td>1</td>\n      <td>1</td>\n      <td>1</td>\n      <td>1</td>\n    </tr>\n    <tr>\n      <th>50999</th>\n      <td>2</td>\n      <td>2</td>\n      <td>2</td>\n      <td>2</td>\n      <td>2</td>\n      <td>2</td>\n      <td>2</td>\n      <td>2</td>\n    </tr>\n  </tbody>\n</table>\n<p>12500 rows × 8 columns</p>\n</div>"
     },
     "execution_count": 55,
     "metadata": {},
     "output_type": "execute_result"
    }
   ],
   "source": [
    "pivot = pd.pivot(data=cleaned_df, index='Customer_ID', columns='Month', values='Credit_Score')\n",
    "pivot"
   ],
   "metadata": {
    "collapsed": false
   }
  },
  {
   "cell_type": "code",
   "execution_count": 56,
   "outputs": [],
   "source": [
    "customer_id = pivot.index"
   ],
   "metadata": {
    "collapsed": false
   }
  },
  {
   "cell_type": "code",
   "execution_count": 57,
   "outputs": [
    {
     "data": {
      "text/plain": "Int64Index([ 1006,  1007,  1008,  1009,  1011,  1013,  1014,  1015,  1017,\n             1019,\n            ...\n            50970, 50975, 50979, 50982, 50983, 50984, 50990, 50992, 50996,\n            50999],\n           dtype='int64', name='Customer_ID', length=12500)"
     },
     "execution_count": 57,
     "metadata": {},
     "output_type": "execute_result"
    }
   ],
   "source": [
    "customer_id"
   ],
   "metadata": {
    "collapsed": false
   }
  },
  {
   "cell_type": "code",
   "execution_count": null,
   "outputs": [],
   "source": [],
   "metadata": {
    "collapsed": false
   }
  },
  {
   "cell_type": "markdown",
   "source": [
    "### 4) Customers Having ever Changed Credit Score"
   ],
   "metadata": {
    "collapsed": false
   }
  },
  {
   "cell_type": "markdown",
   "source": [
    "#### First Difference : Ever Changed vs Negatively Changed vs Positively Changed\n",
    "\n",
    "Check List:\n",
    "- Payment Behaviour 분해한 것 확인,\n",
    "- 대출의 개수는 늘었는지\n",
    "\n",
    "이거 체크 필요"
   ],
   "metadata": {
    "collapsed": false
   }
  },
  {
   "cell_type": "markdown",
   "source": [
    "##### 신용 변동이 있었는가? (Ever Changed?)"
   ],
   "metadata": {
    "collapsed": false
   }
  },
  {
   "cell_type": "code",
   "execution_count": 58,
   "outputs": [
    {
     "data": {
      "text/plain": "array([[ 0,  0,  0, ...,  0,  0,  0],\n       [ 0,  0,  0, ...,  0,  0, -1],\n       [ 0,  0,  0, ...,  0,  0,  0],\n       ...,\n       [ 0,  0,  0, ...,  0,  0,  0],\n       [ 0,  0,  0, ...,  0,  0,  0],\n       [ 0,  0,  0, ...,  0,  0,  0]])"
     },
     "execution_count": 58,
     "metadata": {},
     "output_type": "execute_result"
    }
   ],
   "source": [
    "# 상승이든 하락이든 변화가 있던 고객들 확인\n",
    "credit_changes = np.diff(pivot, axis=1)\n",
    "credit_changes"
   ],
   "metadata": {
    "collapsed": false
   }
  },
  {
   "cell_type": "code",
   "execution_count": 59,
   "outputs": [
    {
     "data": {
      "text/plain": "Customer_ID\n1006     False\n1007      True\n1008     False\n1009     False\n1011     False\n         ...  \n50984     True\n50990     True\n50992    False\n50996    False\n50999    False\nLength: 12500, dtype: bool"
     },
     "execution_count": 59,
     "metadata": {},
     "output_type": "execute_result"
    }
   ],
   "source": [
    "# 데이터 내 신용등급 변화 고객 아이디 추출\n",
    "credit_changed_customer_list = np.abs(credit_changes).mean(axis=1) > 0\n",
    "changed_customer_series = pd.Series(credit_changed_customer_list, index=customer_id)\n",
    "changed_customer_series"
   ],
   "metadata": {
    "collapsed": false
   }
  },
  {
   "cell_type": "code",
   "execution_count": 60,
   "outputs": [
    {
     "data": {
      "text/plain": "Int64Index([ 1007,  1013,  1014,  1017,  1019,  1029,  1039,  1041,  1043,\n             1045,\n            ...\n            50946, 50957, 50958, 50962, 50965, 50966, 50975, 50983, 50984,\n            50990],\n           dtype='int64', name='Customer_ID', length=7292)"
     },
     "execution_count": 60,
     "metadata": {},
     "output_type": "execute_result"
    }
   ],
   "source": [
    "changed_customer_id = changed_customer_series[ changed_customer_series == True].index\n",
    "changed_customer_id"
   ],
   "metadata": {
    "collapsed": false
   }
  },
  {
   "cell_type": "code",
   "execution_count": 61,
   "outputs": [
    {
     "name": "stdout",
     "output_type": "stream",
     "text": [
      "False\n",
      "True\n"
     ]
    }
   ],
   "source": [
    "print(1006 in changed_customer_id)\n",
    "print(1007 in changed_customer_id)"
   ],
   "metadata": {
    "collapsed": false
   }
  },
  {
   "cell_type": "markdown",
   "source": [
    "값 제대로 할당된 것 확인 완료"
   ],
   "metadata": {
    "collapsed": false
   }
  },
  {
   "cell_type": "code",
   "execution_count": 62,
   "outputs": [
    {
     "data": {
      "text/plain": "       Customer_ID  credit_ever_changes\n0             3392                    1\n1             3392                    1\n2             3392                    1\n3             3392                    1\n4             3392                    1\n...            ...                  ...\n99995        37932                    1\n99996        37932                    1\n99997        37932                    1\n99998        37932                    1\n99999        37932                    1\n\n[100000 rows x 2 columns]",
      "text/html": "<div>\n<style scoped>\n    .dataframe tbody tr th:only-of-type {\n        vertical-align: middle;\n    }\n\n    .dataframe tbody tr th {\n        vertical-align: top;\n    }\n\n    .dataframe thead th {\n        text-align: right;\n    }\n</style>\n<table border=\"1\" class=\"dataframe\">\n  <thead>\n    <tr style=\"text-align: right;\">\n      <th></th>\n      <th>Customer_ID</th>\n      <th>credit_ever_changes</th>\n    </tr>\n  </thead>\n  <tbody>\n    <tr>\n      <th>0</th>\n      <td>3392</td>\n      <td>1</td>\n    </tr>\n    <tr>\n      <th>1</th>\n      <td>3392</td>\n      <td>1</td>\n    </tr>\n    <tr>\n      <th>2</th>\n      <td>3392</td>\n      <td>1</td>\n    </tr>\n    <tr>\n      <th>3</th>\n      <td>3392</td>\n      <td>1</td>\n    </tr>\n    <tr>\n      <th>4</th>\n      <td>3392</td>\n      <td>1</td>\n    </tr>\n    <tr>\n      <th>...</th>\n      <td>...</td>\n      <td>...</td>\n    </tr>\n    <tr>\n      <th>99995</th>\n      <td>37932</td>\n      <td>1</td>\n    </tr>\n    <tr>\n      <th>99996</th>\n      <td>37932</td>\n      <td>1</td>\n    </tr>\n    <tr>\n      <th>99997</th>\n      <td>37932</td>\n      <td>1</td>\n    </tr>\n    <tr>\n      <th>99998</th>\n      <td>37932</td>\n      <td>1</td>\n    </tr>\n    <tr>\n      <th>99999</th>\n      <td>37932</td>\n      <td>1</td>\n    </tr>\n  </tbody>\n</table>\n<p>100000 rows × 2 columns</p>\n</div>"
     },
     "execution_count": 62,
     "metadata": {},
     "output_type": "execute_result"
    }
   ],
   "source": [
    "cleaned_df['credit_ever_changes'] = 0\n",
    "cleaned_df.loc[ cleaned_df['Customer_ID'].isin(changed_customer_id), 'credit_ever_changes'] = 1\n",
    "cleaned_df[['Customer_ID', 'credit_ever_changes']]"
   ],
   "metadata": {
    "collapsed": false
   }
  },
  {
   "cell_type": "code",
   "execution_count": 63,
   "outputs": [
    {
     "data": {
      "text/plain": "                       count      mean       std  min  25%  50%  75%  max\ncredit_ever_changes                                                      \n0                    41664.0  0.921275  0.512470  0.0  1.0  1.0  1.0  2.0\n1                    58336.0  0.864749  0.769689  0.0  0.0  1.0  1.0  2.0",
      "text/html": "<div>\n<style scoped>\n    .dataframe tbody tr th:only-of-type {\n        vertical-align: middle;\n    }\n\n    .dataframe tbody tr th {\n        vertical-align: top;\n    }\n\n    .dataframe thead th {\n        text-align: right;\n    }\n</style>\n<table border=\"1\" class=\"dataframe\">\n  <thead>\n    <tr style=\"text-align: right;\">\n      <th></th>\n      <th>count</th>\n      <th>mean</th>\n      <th>std</th>\n      <th>min</th>\n      <th>25%</th>\n      <th>50%</th>\n      <th>75%</th>\n      <th>max</th>\n    </tr>\n    <tr>\n      <th>credit_ever_changes</th>\n      <th></th>\n      <th></th>\n      <th></th>\n      <th></th>\n      <th></th>\n      <th></th>\n      <th></th>\n      <th></th>\n    </tr>\n  </thead>\n  <tbody>\n    <tr>\n      <th>0</th>\n      <td>41664.0</td>\n      <td>0.921275</td>\n      <td>0.512470</td>\n      <td>0.0</td>\n      <td>1.0</td>\n      <td>1.0</td>\n      <td>1.0</td>\n      <td>2.0</td>\n    </tr>\n    <tr>\n      <th>1</th>\n      <td>58336.0</td>\n      <td>0.864749</td>\n      <td>0.769689</td>\n      <td>0.0</td>\n      <td>0.0</td>\n      <td>1.0</td>\n      <td>1.0</td>\n      <td>2.0</td>\n    </tr>\n  </tbody>\n</table>\n</div>"
     },
     "execution_count": 63,
     "metadata": {},
     "output_type": "execute_result"
    }
   ],
   "source": [
    "cleaned_df.groupby('credit_ever_changes')['Credit_Score'].describe()"
   ],
   "metadata": {
    "collapsed": false
   }
  },
  {
   "cell_type": "code",
   "execution_count": 64,
   "outputs": [
    {
     "data": {
      "text/plain": "{0: 'Poor', 1: 'Standard', 2: 'Good'}"
     },
     "execution_count": 64,
     "metadata": {},
     "output_type": "execute_result"
    }
   ],
   "source": [
    "idx2label"
   ],
   "metadata": {
    "collapsed": false
   }
  },
  {
   "cell_type": "markdown",
   "source": [
    "기본적으로 credit score가 변경되었던 고객보다 변경되지 않은 고객들의 credit score가 더 건강했음 (평균이 살짝 더 높음)\n",
    "하지만 연봉 등과 같은 지표에서는 변동이 있던 고객이 더 높게 잡힘"
   ],
   "metadata": {
    "collapsed": false
   }
  },
  {
   "cell_type": "markdown",
   "source": [
    "##### 신용 하락이 있었는가?"
   ],
   "metadata": {
    "collapsed": false
   }
  },
  {
   "cell_type": "code",
   "execution_count": 65,
   "outputs": [
    {
     "data": {
      "text/plain": "array([[ 0,  0,  0, ...,  0,  0,  0],\n       [ 0,  0,  0, ...,  0,  0, -1],\n       [ 0,  0,  0, ...,  0,  0,  0],\n       ...,\n       [ 0,  0,  0, ...,  0,  0,  0],\n       [ 0,  0,  0, ...,  0,  0,  0],\n       [ 0,  0,  0, ...,  0,  0,  0]])"
     },
     "execution_count": 65,
     "metadata": {},
     "output_type": "execute_result"
    }
   ],
   "source": [
    "credit_changes"
   ],
   "metadata": {
    "collapsed": false
   }
  },
  {
   "cell_type": "code",
   "execution_count": 66,
   "outputs": [
    {
     "data": {
      "text/plain": "(12500, 7)"
     },
     "execution_count": 66,
     "metadata": {},
     "output_type": "execute_result"
    }
   ],
   "source": [
    "credit_changes.shape"
   ],
   "metadata": {
    "collapsed": false
   }
  },
  {
   "cell_type": "code",
   "execution_count": 67,
   "outputs": [
    {
     "data": {
      "text/plain": "array([False, False, False, ..., False, False, False])"
     },
     "execution_count": 67,
     "metadata": {},
     "output_type": "execute_result"
    }
   ],
   "source": [
    "credit_changes[:, 0] == -1"
   ],
   "metadata": {
    "collapsed": false
   }
  },
  {
   "cell_type": "code",
   "execution_count": 68,
   "outputs": [
    {
     "data": {
      "text/plain": "array([False, False, False, ..., False, False, False])"
     },
     "execution_count": 68,
     "metadata": {},
     "output_type": "execute_result"
    }
   ],
   "source": [
    "first_period_negatively_changed = credit_changes[:, 0] == -1\n",
    "first_period_negatively_changed"
   ],
   "metadata": {
    "collapsed": false
   }
  },
  {
   "cell_type": "code",
   "execution_count": 69,
   "outputs": [
    {
     "data": {
      "text/plain": "Customer_ID\n1006     False\n1007     False\n1008     False\n1009     False\n1011     False\n         ...  \n50984    False\n50990    False\n50992    False\n50996    False\n50999    False\nLength: 12500, dtype: bool"
     },
     "execution_count": 69,
     "metadata": {},
     "output_type": "execute_result"
    }
   ],
   "source": [
    "first_period_negatively_changed_customer_series = pd.Series(first_period_negatively_changed, index=customer_id)\n",
    "first_period_negatively_changed_customer_series"
   ],
   "metadata": {
    "collapsed": false
   }
  },
  {
   "cell_type": "code",
   "execution_count": 70,
   "outputs": [
    {
     "data": {
      "text/plain": "Int64Index([ 1041,  1103,  1147,  1251,  1363,  1371,  1415,  1454,  1645,\n             1752,\n            ...\n            50460, 50476, 50566, 50610, 50647, 50664, 50701, 50742, 50882,\n            50883],\n           dtype='int64', name='Customer_ID', length=766)"
     },
     "execution_count": 70,
     "metadata": {},
     "output_type": "execute_result"
    }
   ],
   "source": [
    "first_period_negatively_changed_customer_id = first_period_negatively_changed_customer_series.loc[ first_period_negatively_changed == 1 ].index\n",
    "first_period_negatively_changed_customer_id"
   ],
   "metadata": {
    "collapsed": false
   }
  },
  {
   "cell_type": "code",
   "execution_count": 71,
   "outputs": [
    {
     "name": "stdout",
     "output_type": "stream",
     "text": [
      "True\n",
      "False\n"
     ]
    }
   ],
   "source": [
    "print(1645 in first_period_negatively_changed_customer_id)\n",
    "print(1653 in first_period_negatively_changed_customer_id)"
   ],
   "metadata": {
    "collapsed": false
   }
  },
  {
   "cell_type": "code",
   "execution_count": 72,
   "outputs": [
    {
     "data": {
      "text/plain": "      Credit_Mix  Num_Credit_Inquiries  Num_of_Loan  Num_Credit_Card  \\\n240         Good                   4.0          2.0              5.0   \n241         Good                   4.0          2.0              5.0   \n242         Good                   4.0          2.0              5.0   \n243         Good                   4.0          2.0              5.0   \n244         Good                   4.0          2.0              5.0   \n...          ...                   ...          ...              ...   \n99875       Good                   5.0          4.0              4.0   \n99876       Good                   5.0          4.0              4.0   \n99877       Good                   5.0          4.0              4.0   \n99878       Good                   5.0          4.0              4.0   \n99879       Good                   5.0          4.0              4.0   \n\n       Num_of_Delayed_Payment  Spending_Behaviour  Repay_Behaviour  \\\n240                       6.0                   0                2   \n241                       6.0                   1                2   \n242                       3.0                   1                1   \n243                       6.0                   1                0   \n244                       7.0                   0                2   \n...                       ...                 ...              ...   \n99875                    11.0                   0                1   \n99876                    11.0                   1                2   \n99877                    11.0                   1                2   \n99878                    12.0                   1                2   \n99879                    11.0                   1                1   \n\n       Credit_Score  \n240               2  \n241               1  \n242               2  \n243               2  \n244               1  \n...             ...  \n99875             2  \n99876             2  \n99877             2  \n99878             2  \n99879             2  \n\n[6128 rows x 8 columns]",
      "text/html": "<div>\n<style scoped>\n    .dataframe tbody tr th:only-of-type {\n        vertical-align: middle;\n    }\n\n    .dataframe tbody tr th {\n        vertical-align: top;\n    }\n\n    .dataframe thead th {\n        text-align: right;\n    }\n</style>\n<table border=\"1\" class=\"dataframe\">\n  <thead>\n    <tr style=\"text-align: right;\">\n      <th></th>\n      <th>Credit_Mix</th>\n      <th>Num_Credit_Inquiries</th>\n      <th>Num_of_Loan</th>\n      <th>Num_Credit_Card</th>\n      <th>Num_of_Delayed_Payment</th>\n      <th>Spending_Behaviour</th>\n      <th>Repay_Behaviour</th>\n      <th>Credit_Score</th>\n    </tr>\n  </thead>\n  <tbody>\n    <tr>\n      <th>240</th>\n      <td>Good</td>\n      <td>4.0</td>\n      <td>2.0</td>\n      <td>5.0</td>\n      <td>6.0</td>\n      <td>0</td>\n      <td>2</td>\n      <td>2</td>\n    </tr>\n    <tr>\n      <th>241</th>\n      <td>Good</td>\n      <td>4.0</td>\n      <td>2.0</td>\n      <td>5.0</td>\n      <td>6.0</td>\n      <td>1</td>\n      <td>2</td>\n      <td>1</td>\n    </tr>\n    <tr>\n      <th>242</th>\n      <td>Good</td>\n      <td>4.0</td>\n      <td>2.0</td>\n      <td>5.0</td>\n      <td>3.0</td>\n      <td>1</td>\n      <td>1</td>\n      <td>2</td>\n    </tr>\n    <tr>\n      <th>243</th>\n      <td>Good</td>\n      <td>4.0</td>\n      <td>2.0</td>\n      <td>5.0</td>\n      <td>6.0</td>\n      <td>1</td>\n      <td>0</td>\n      <td>2</td>\n    </tr>\n    <tr>\n      <th>244</th>\n      <td>Good</td>\n      <td>4.0</td>\n      <td>2.0</td>\n      <td>5.0</td>\n      <td>7.0</td>\n      <td>0</td>\n      <td>2</td>\n      <td>1</td>\n    </tr>\n    <tr>\n      <th>...</th>\n      <td>...</td>\n      <td>...</td>\n      <td>...</td>\n      <td>...</td>\n      <td>...</td>\n      <td>...</td>\n      <td>...</td>\n      <td>...</td>\n    </tr>\n    <tr>\n      <th>99875</th>\n      <td>Good</td>\n      <td>5.0</td>\n      <td>4.0</td>\n      <td>4.0</td>\n      <td>11.0</td>\n      <td>0</td>\n      <td>1</td>\n      <td>2</td>\n    </tr>\n    <tr>\n      <th>99876</th>\n      <td>Good</td>\n      <td>5.0</td>\n      <td>4.0</td>\n      <td>4.0</td>\n      <td>11.0</td>\n      <td>1</td>\n      <td>2</td>\n      <td>2</td>\n    </tr>\n    <tr>\n      <th>99877</th>\n      <td>Good</td>\n      <td>5.0</td>\n      <td>4.0</td>\n      <td>4.0</td>\n      <td>11.0</td>\n      <td>1</td>\n      <td>2</td>\n      <td>2</td>\n    </tr>\n    <tr>\n      <th>99878</th>\n      <td>Good</td>\n      <td>5.0</td>\n      <td>4.0</td>\n      <td>4.0</td>\n      <td>12.0</td>\n      <td>1</td>\n      <td>2</td>\n      <td>2</td>\n    </tr>\n    <tr>\n      <th>99879</th>\n      <td>Good</td>\n      <td>5.0</td>\n      <td>4.0</td>\n      <td>4.0</td>\n      <td>11.0</td>\n      <td>1</td>\n      <td>1</td>\n      <td>2</td>\n    </tr>\n  </tbody>\n</table>\n<p>6128 rows × 8 columns</p>\n</div>"
     },
     "execution_count": 72,
     "metadata": {},
     "output_type": "execute_result"
    }
   ],
   "source": [
    "cleaned_df.loc[ cleaned_df['Customer_ID'].isin(first_period_negatively_changed_customer_id), ['Credit_Mix', 'Num_Credit_Inquiries', 'Num_of_Loan', 'Num_Credit_Card', 'Num_of_Delayed_Payment', 'Spending_Behaviour', 'Repay_Behaviour', 'Credit_Score'] ]"
   ],
   "metadata": {
    "collapsed": false
   }
  },
  {
   "cell_type": "code",
   "execution_count": 75,
   "outputs": [
    {
     "data": {
      "text/plain": "                   Customer_ID  Monthly_Balance  Spending_Behaviour  \\\nCustomer_ID                                                           \n1041        75632         1041       648.983166                   1   \n            75633         1041       500.076715                   0   \n1103        7000          1103       335.472622                   0   \n            7001          1103       325.834292                   1   \n1147        35696         1147       261.328349                   1   \n...                        ...              ...                 ...   \n50742       80657        50742       325.935023                   0   \n50882       73208        50882       156.540622                   0   \n            73209        50882       409.647767                   1   \n50883       49336        50883       180.115712                   0   \n            49337        50883       257.443829                   1   \n\n                   Repay_Behaviour  Credit_Score  \nCustomer_ID                                       \n1041        75632                1             1  \n            75633                2             0  \n1103        7000                 0             1  \n            7001                 1             0  \n1147        35696                1             1  \n...                            ...           ...  \n50742       80657                2             1  \n50882       73208                0             1  \n            73209                1             0  \n50883       49336                2             1  \n            49337                0             0  \n\n[1532 rows x 5 columns]",
      "text/html": "<div>\n<style scoped>\n    .dataframe tbody tr th:only-of-type {\n        vertical-align: middle;\n    }\n\n    .dataframe tbody tr th {\n        vertical-align: top;\n    }\n\n    .dataframe thead th {\n        text-align: right;\n    }\n</style>\n<table border=\"1\" class=\"dataframe\">\n  <thead>\n    <tr style=\"text-align: right;\">\n      <th></th>\n      <th></th>\n      <th>Customer_ID</th>\n      <th>Monthly_Balance</th>\n      <th>Spending_Behaviour</th>\n      <th>Repay_Behaviour</th>\n      <th>Credit_Score</th>\n    </tr>\n    <tr>\n      <th>Customer_ID</th>\n      <th></th>\n      <th></th>\n      <th></th>\n      <th></th>\n      <th></th>\n      <th></th>\n    </tr>\n  </thead>\n  <tbody>\n    <tr>\n      <th rowspan=\"2\" valign=\"top\">1041</th>\n      <th>75632</th>\n      <td>1041</td>\n      <td>648.983166</td>\n      <td>1</td>\n      <td>1</td>\n      <td>1</td>\n    </tr>\n    <tr>\n      <th>75633</th>\n      <td>1041</td>\n      <td>500.076715</td>\n      <td>0</td>\n      <td>2</td>\n      <td>0</td>\n    </tr>\n    <tr>\n      <th rowspan=\"2\" valign=\"top\">1103</th>\n      <th>7000</th>\n      <td>1103</td>\n      <td>335.472622</td>\n      <td>0</td>\n      <td>0</td>\n      <td>1</td>\n    </tr>\n    <tr>\n      <th>7001</th>\n      <td>1103</td>\n      <td>325.834292</td>\n      <td>1</td>\n      <td>1</td>\n      <td>0</td>\n    </tr>\n    <tr>\n      <th>1147</th>\n      <th>35696</th>\n      <td>1147</td>\n      <td>261.328349</td>\n      <td>1</td>\n      <td>1</td>\n      <td>1</td>\n    </tr>\n    <tr>\n      <th>...</th>\n      <th>...</th>\n      <td>...</td>\n      <td>...</td>\n      <td>...</td>\n      <td>...</td>\n      <td>...</td>\n    </tr>\n    <tr>\n      <th>50742</th>\n      <th>80657</th>\n      <td>50742</td>\n      <td>325.935023</td>\n      <td>0</td>\n      <td>2</td>\n      <td>1</td>\n    </tr>\n    <tr>\n      <th rowspan=\"2\" valign=\"top\">50882</th>\n      <th>73208</th>\n      <td>50882</td>\n      <td>156.540622</td>\n      <td>0</td>\n      <td>0</td>\n      <td>1</td>\n    </tr>\n    <tr>\n      <th>73209</th>\n      <td>50882</td>\n      <td>409.647767</td>\n      <td>1</td>\n      <td>1</td>\n      <td>0</td>\n    </tr>\n    <tr>\n      <th rowspan=\"2\" valign=\"top\">50883</th>\n      <th>49336</th>\n      <td>50883</td>\n      <td>180.115712</td>\n      <td>0</td>\n      <td>2</td>\n      <td>1</td>\n    </tr>\n    <tr>\n      <th>49337</th>\n      <td>50883</td>\n      <td>257.443829</td>\n      <td>1</td>\n      <td>0</td>\n      <td>0</td>\n    </tr>\n  </tbody>\n</table>\n<p>1532 rows × 5 columns</p>\n</div>"
     },
     "execution_count": 75,
     "metadata": {},
     "output_type": "execute_result"
    }
   ],
   "source": [
    "cleaned_df.loc[ cleaned_df['Customer_ID'].isin(first_period_negatively_changed_customer_id), ['Customer_ID','Monthly_Balance', 'Spending_Behaviour', 'Repay_Behaviour', 'Credit_Score'] ].groupby('Customer_ID').apply(lambda x : x[:2])"
   ],
   "metadata": {
    "collapsed": false
   }
  },
  {
   "cell_type": "code",
   "execution_count": 77,
   "outputs": [
    {
     "data": {
      "text/plain": "       Monthly_Balance  Spending_Behaviour  Repay_Behaviour  Credit_Score  \\\n240         334.667909                   0                2             2   \n241         336.263108                   1                2             1   \n242         362.591773                   1                1             2   \n243         294.158416                   1                0             2   \n244         270.079092                   0                2             1   \n...                ...                 ...              ...           ...   \n99875       752.038503                   0                1             2   \n99876       904.515208                   1                2             2   \n99877       767.996604                   1                2             2   \n99878       810.510608                   1                2             2   \n99879       801.752296                   1                1             2   \n\n       Customer_ID  \n240          39537  \n241          39537  \n242          39537  \n243          39537  \n244          39537  \n...            ...  \n99875        14421  \n99876        14421  \n99877        14421  \n99878        14421  \n99879        14421  \n\n[6128 rows x 5 columns]",
      "text/html": "<div>\n<style scoped>\n    .dataframe tbody tr th:only-of-type {\n        vertical-align: middle;\n    }\n\n    .dataframe tbody tr th {\n        vertical-align: top;\n    }\n\n    .dataframe thead th {\n        text-align: right;\n    }\n</style>\n<table border=\"1\" class=\"dataframe\">\n  <thead>\n    <tr style=\"text-align: right;\">\n      <th></th>\n      <th>Monthly_Balance</th>\n      <th>Spending_Behaviour</th>\n      <th>Repay_Behaviour</th>\n      <th>Credit_Score</th>\n      <th>Customer_ID</th>\n    </tr>\n  </thead>\n  <tbody>\n    <tr>\n      <th>240</th>\n      <td>334.667909</td>\n      <td>0</td>\n      <td>2</td>\n      <td>2</td>\n      <td>39537</td>\n    </tr>\n    <tr>\n      <th>241</th>\n      <td>336.263108</td>\n      <td>1</td>\n      <td>2</td>\n      <td>1</td>\n      <td>39537</td>\n    </tr>\n    <tr>\n      <th>242</th>\n      <td>362.591773</td>\n      <td>1</td>\n      <td>1</td>\n      <td>2</td>\n      <td>39537</td>\n    </tr>\n    <tr>\n      <th>243</th>\n      <td>294.158416</td>\n      <td>1</td>\n      <td>0</td>\n      <td>2</td>\n      <td>39537</td>\n    </tr>\n    <tr>\n      <th>244</th>\n      <td>270.079092</td>\n      <td>0</td>\n      <td>2</td>\n      <td>1</td>\n      <td>39537</td>\n    </tr>\n    <tr>\n      <th>...</th>\n      <td>...</td>\n      <td>...</td>\n      <td>...</td>\n      <td>...</td>\n      <td>...</td>\n    </tr>\n    <tr>\n      <th>99875</th>\n      <td>752.038503</td>\n      <td>0</td>\n      <td>1</td>\n      <td>2</td>\n      <td>14421</td>\n    </tr>\n    <tr>\n      <th>99876</th>\n      <td>904.515208</td>\n      <td>1</td>\n      <td>2</td>\n      <td>2</td>\n      <td>14421</td>\n    </tr>\n    <tr>\n      <th>99877</th>\n      <td>767.996604</td>\n      <td>1</td>\n      <td>2</td>\n      <td>2</td>\n      <td>14421</td>\n    </tr>\n    <tr>\n      <th>99878</th>\n      <td>810.510608</td>\n      <td>1</td>\n      <td>2</td>\n      <td>2</td>\n      <td>14421</td>\n    </tr>\n    <tr>\n      <th>99879</th>\n      <td>801.752296</td>\n      <td>1</td>\n      <td>1</td>\n      <td>2</td>\n      <td>14421</td>\n    </tr>\n  </tbody>\n</table>\n<p>6128 rows × 5 columns</p>\n</div>"
     },
     "execution_count": 77,
     "metadata": {},
     "output_type": "execute_result"
    }
   ],
   "source": [
    "first_period_negatively_changed_df = cleaned_df.loc[ cleaned_df['Customer_ID'].isin(first_period_negatively_changed_customer_id), ['Monthly_Balance', 'Spending_Behaviour', 'Repay_Behaviour', 'Credit_Score', 'Customer_ID'] ].copy()\n",
    "first_period_negatively_changed_df"
   ],
   "metadata": {
    "collapsed": false
   }
  },
  {
   "cell_type": "code",
   "execution_count": 78,
   "outputs": [
    {
     "data": {
      "text/plain": "                   Monthly_Balance  Spending_Behaviour  Repay_Behaviour  \\\nCustomer_ID                                                               \n1041        75632       648.983166                   1                1   \n            75633       500.076715                   0                2   \n1103        7000        335.472622                   0                0   \n            7001        325.834292                   1                1   \n1147        35696       261.328349                   1                1   \n...                            ...                 ...              ...   \n50742       80657       325.935023                   0                2   \n50882       73208       156.540622                   0                0   \n            73209       409.647767                   1                1   \n50883       49336       180.115712                   0                2   \n            49337       257.443829                   1                0   \n\n                   Credit_Score  \nCustomer_ID                      \n1041        75632             1  \n            75633             0  \n1103        7000              1  \n            7001              0  \n1147        35696             1  \n...                         ...  \n50742       80657             1  \n50882       73208             1  \n            73209             0  \n50883       49336             1  \n            49337             0  \n\n[1532 rows x 4 columns]",
      "text/html": "<div>\n<style scoped>\n    .dataframe tbody tr th:only-of-type {\n        vertical-align: middle;\n    }\n\n    .dataframe tbody tr th {\n        vertical-align: top;\n    }\n\n    .dataframe thead th {\n        text-align: right;\n    }\n</style>\n<table border=\"1\" class=\"dataframe\">\n  <thead>\n    <tr style=\"text-align: right;\">\n      <th></th>\n      <th></th>\n      <th>Monthly_Balance</th>\n      <th>Spending_Behaviour</th>\n      <th>Repay_Behaviour</th>\n      <th>Credit_Score</th>\n    </tr>\n    <tr>\n      <th>Customer_ID</th>\n      <th></th>\n      <th></th>\n      <th></th>\n      <th></th>\n      <th></th>\n    </tr>\n  </thead>\n  <tbody>\n    <tr>\n      <th rowspan=\"2\" valign=\"top\">1041</th>\n      <th>75632</th>\n      <td>648.983166</td>\n      <td>1</td>\n      <td>1</td>\n      <td>1</td>\n    </tr>\n    <tr>\n      <th>75633</th>\n      <td>500.076715</td>\n      <td>0</td>\n      <td>2</td>\n      <td>0</td>\n    </tr>\n    <tr>\n      <th rowspan=\"2\" valign=\"top\">1103</th>\n      <th>7000</th>\n      <td>335.472622</td>\n      <td>0</td>\n      <td>0</td>\n      <td>1</td>\n    </tr>\n    <tr>\n      <th>7001</th>\n      <td>325.834292</td>\n      <td>1</td>\n      <td>1</td>\n      <td>0</td>\n    </tr>\n    <tr>\n      <th>1147</th>\n      <th>35696</th>\n      <td>261.328349</td>\n      <td>1</td>\n      <td>1</td>\n      <td>1</td>\n    </tr>\n    <tr>\n      <th>...</th>\n      <th>...</th>\n      <td>...</td>\n      <td>...</td>\n      <td>...</td>\n      <td>...</td>\n    </tr>\n    <tr>\n      <th>50742</th>\n      <th>80657</th>\n      <td>325.935023</td>\n      <td>0</td>\n      <td>2</td>\n      <td>1</td>\n    </tr>\n    <tr>\n      <th rowspan=\"2\" valign=\"top\">50882</th>\n      <th>73208</th>\n      <td>156.540622</td>\n      <td>0</td>\n      <td>0</td>\n      <td>1</td>\n    </tr>\n    <tr>\n      <th>73209</th>\n      <td>409.647767</td>\n      <td>1</td>\n      <td>1</td>\n      <td>0</td>\n    </tr>\n    <tr>\n      <th rowspan=\"2\" valign=\"top\">50883</th>\n      <th>49336</th>\n      <td>180.115712</td>\n      <td>0</td>\n      <td>2</td>\n      <td>1</td>\n    </tr>\n    <tr>\n      <th>49337</th>\n      <td>257.443829</td>\n      <td>1</td>\n      <td>0</td>\n      <td>0</td>\n    </tr>\n  </tbody>\n</table>\n<p>1532 rows × 4 columns</p>\n</div>"
     },
     "execution_count": 78,
     "metadata": {},
     "output_type": "execute_result"
    }
   ],
   "source": [
    "first_period_negatively_changed_df.groupby('Customer_ID')[['Monthly_Balance', 'Spending_Behaviour', 'Repay_Behaviour', 'Credit_Score']].apply(lambda x: x[:2])"
   ],
   "metadata": {
    "collapsed": false
   }
  },
  {
   "cell_type": "code",
   "execution_count": 79,
   "outputs": [
    {
     "data": {
      "text/plain": "Index(['Monthly_Balance', 'Spending_Behaviour', 'Repay_Behaviour',\n       'Credit_Score'],\n      dtype='object')"
     },
     "execution_count": 79,
     "metadata": {},
     "output_type": "execute_result"
    }
   ],
   "source": [
    "negative = first_period_negatively_changed_df.groupby('Customer_ID')[\n",
    "        ['Monthly_Balance', 'Spending_Behaviour', 'Repay_Behaviour', 'Credit_Score']].apply(lambda x: x[:2])\n",
    "\n",
    "negative.columns"
   ],
   "metadata": {
    "collapsed": false
   }
  },
  {
   "cell_type": "code",
   "execution_count": 82,
   "outputs": [
    {
     "data": {
      "text/plain": "0    0.552872\n1    0.447128\nName: Spending_Behaviour, dtype: float64"
     },
     "execution_count": 82,
     "metadata": {},
     "output_type": "execute_result"
    }
   ],
   "source": [
    "# Spending Behaviour Proportion for those who negatively changed\n",
    "negative['Spending_Behaviour'].value_counts(normalize=True)"
   ],
   "metadata": {
    "collapsed": false
   }
  },
  {
   "cell_type": "code",
   "execution_count": null,
   "outputs": [],
   "source": [
    "# Spending Behaviour of Raw Data\n",
    "cleaned_df['Spending_Behaviour'].value_counts(normalize=True)"
   ],
   "metadata": {
    "collapsed": false
   }
  },
  {
   "cell_type": "markdown",
   "source": [
    "통계적으로 유의미한지는 확인해봐야겠지만, 신용등급이 떨어진 친구들의 지출은 적어졌음"
   ],
   "metadata": {
    "collapsed": false
   }
  },
  {
   "cell_type": "code",
   "execution_count": 86,
   "outputs": [
    {
     "data": {
      "text/plain": "0    0.417102\n1    0.348564\n2    0.234334\nName: Repay_Behaviour, dtype: float64"
     },
     "execution_count": 86,
     "metadata": {},
     "output_type": "execute_result"
    }
   ],
   "source": [
    "# Repay Behaviour Proportion for those who negatively changed\n",
    "negative['Repay_Behaviour'].value_counts(normalize=True)"
   ],
   "metadata": {
    "collapsed": false
   }
  },
  {
   "cell_type": "code",
   "execution_count": 87,
   "outputs": [
    {
     "data": {
      "text/plain": "0    0.40380\n1    0.34137\n2    0.25483\nName: Repay_Behaviour, dtype: float64"
     },
     "execution_count": 87,
     "metadata": {},
     "output_type": "execute_result"
    }
   ],
   "source": [
    "# Repay Behaviour Proportion for those who negatively changed\n",
    "cleaned_df['Repay_Behaviour'].value_counts(normalize=True)"
   ],
   "metadata": {
    "collapsed": false
   }
  },
  {
   "cell_type": "markdown",
   "source": [
    "통계적으로 유의미한지는 확인해봐야겠지만, 신용등급이 떨어진 친구들의 대출 상환 액수 또한 줄어들었음 --> 크레딧 하락이 있던 그룹군에서 large 와 medium이 줄어들고, low가 커짐"
   ],
   "metadata": {
    "collapsed": false
   }
  },
  {
   "cell_type": "code",
   "execution_count": 88,
   "outputs": [
    {
     "data": {
      "text/plain": "                   Monthly_Balance  Spending_Behaviour  Repay_Behaviour  \\\nCustomer_ID                                                               \n1041        75633      -148.906451                -1.0              1.0   \n1103        7001         -9.638330                 1.0              1.0   \n1147        35697       -55.079212                 0.0              0.0   \n1251        38889       -10.110327                 0.0              0.0   \n1363        15617       103.885933                 1.0              1.0   \n...                            ...                 ...              ...   \n50664       95049       297.628936                 1.0              1.0   \n50701       66569       -17.768004                 0.0             -2.0   \n50742       80657       120.185291                 0.0              2.0   \n50882       73209       253.107145                 1.0              1.0   \n50883       49337        77.328117                 1.0             -2.0   \n\n                   Credit_Score  \nCustomer_ID                      \n1041        75633          -1.0  \n1103        7001           -1.0  \n1147        35697          -1.0  \n1251        38889          -1.0  \n1363        15617          -1.0  \n...                         ...  \n50664       95049          -1.0  \n50701       66569          -1.0  \n50742       80657          -1.0  \n50882       73209          -1.0  \n50883       49337          -1.0  \n\n[766 rows x 4 columns]",
      "text/html": "<div>\n<style scoped>\n    .dataframe tbody tr th:only-of-type {\n        vertical-align: middle;\n    }\n\n    .dataframe tbody tr th {\n        vertical-align: top;\n    }\n\n    .dataframe thead th {\n        text-align: right;\n    }\n</style>\n<table border=\"1\" class=\"dataframe\">\n  <thead>\n    <tr style=\"text-align: right;\">\n      <th></th>\n      <th></th>\n      <th>Monthly_Balance</th>\n      <th>Spending_Behaviour</th>\n      <th>Repay_Behaviour</th>\n      <th>Credit_Score</th>\n    </tr>\n    <tr>\n      <th>Customer_ID</th>\n      <th></th>\n      <th></th>\n      <th></th>\n      <th></th>\n      <th></th>\n    </tr>\n  </thead>\n  <tbody>\n    <tr>\n      <th>1041</th>\n      <th>75633</th>\n      <td>-148.906451</td>\n      <td>-1.0</td>\n      <td>1.0</td>\n      <td>-1.0</td>\n    </tr>\n    <tr>\n      <th>1103</th>\n      <th>7001</th>\n      <td>-9.638330</td>\n      <td>1.0</td>\n      <td>1.0</td>\n      <td>-1.0</td>\n    </tr>\n    <tr>\n      <th>1147</th>\n      <th>35697</th>\n      <td>-55.079212</td>\n      <td>0.0</td>\n      <td>0.0</td>\n      <td>-1.0</td>\n    </tr>\n    <tr>\n      <th>1251</th>\n      <th>38889</th>\n      <td>-10.110327</td>\n      <td>0.0</td>\n      <td>0.0</td>\n      <td>-1.0</td>\n    </tr>\n    <tr>\n      <th>1363</th>\n      <th>15617</th>\n      <td>103.885933</td>\n      <td>1.0</td>\n      <td>1.0</td>\n      <td>-1.0</td>\n    </tr>\n    <tr>\n      <th>...</th>\n      <th>...</th>\n      <td>...</td>\n      <td>...</td>\n      <td>...</td>\n      <td>...</td>\n    </tr>\n    <tr>\n      <th>50664</th>\n      <th>95049</th>\n      <td>297.628936</td>\n      <td>1.0</td>\n      <td>1.0</td>\n      <td>-1.0</td>\n    </tr>\n    <tr>\n      <th>50701</th>\n      <th>66569</th>\n      <td>-17.768004</td>\n      <td>0.0</td>\n      <td>-2.0</td>\n      <td>-1.0</td>\n    </tr>\n    <tr>\n      <th>50742</th>\n      <th>80657</th>\n      <td>120.185291</td>\n      <td>0.0</td>\n      <td>2.0</td>\n      <td>-1.0</td>\n    </tr>\n    <tr>\n      <th>50882</th>\n      <th>73209</th>\n      <td>253.107145</td>\n      <td>1.0</td>\n      <td>1.0</td>\n      <td>-1.0</td>\n    </tr>\n    <tr>\n      <th>50883</th>\n      <th>49337</th>\n      <td>77.328117</td>\n      <td>1.0</td>\n      <td>-2.0</td>\n      <td>-1.0</td>\n    </tr>\n  </tbody>\n</table>\n<p>766 rows × 4 columns</p>\n</div>"
     },
     "execution_count": 88,
     "metadata": {},
     "output_type": "execute_result"
    }
   ],
   "source": [
    "first_period_negative_diff = negative.groupby('Customer_ID').diff().dropna()\n",
    "first_period_negative_diff"
   ],
   "metadata": {
    "collapsed": false
   }
  },
  {
   "cell_type": "code",
   "execution_count": 89,
   "outputs": [
    {
     "data": {
      "text/plain": "<AxesSubplot:>"
     },
     "execution_count": 89,
     "metadata": {},
     "output_type": "execute_result"
    },
    {
     "data": {
      "text/plain": "<Figure size 432x288 with 1 Axes>",
      "image/png": "[encoded data removed]"
     },
     "metadata": {
      "needs_background": "light"
     },
     "output_type": "display_data"
    }
   ],
   "source": [
    "first_period_negative_diff.hist()"
   ],
   "metadata": {
    "collapsed": false
   }
  },
  {
   "cell_type": "code",
   "execution_count": 91,
   "outputs": [
    {
     "name": "stderr",
     "output_type": "stream",
     "text": [
      "/var/folders/rm/1g600byx25b_ht2r9ty6b4_00000gn/T/ipykernel_35285/2710406476.py:2: UserWarning: To output multiple subplots, the figure containing the passed axes is being cleared.\n",
      "  first_period_negative_diff.hist(ax=ax)\n"
     ]
    },
    {
     "data": {
      "text/plain": "<Figure size 1440x1080 with 4 Axes>",
      "image/png": "[encoded data removed]"
     },
     "metadata": {
      "needs_background": "light"
     },
     "output_type": "display_data"
    }
   ],
   "source": [
    "fig, ax = plt.subplots(1, 1, figsize=(20, 15))\n",
    "first_period_negative_diff.hist(ax=ax)\n",
    "fig.savefig('./1st_diff_spending_repay_behaviour.png')\n",
    "plt.show()"
   ],
   "metadata": {
    "collapsed": false
   }
  },
  {
   "cell_type": "markdown",
   "source": [
    "신용 변동 이후 지출액과 대출상환액 또한 유의미한 변화는 없었음. 변화는 랜덤으로 이뤄져있을뿐..\n"
   ],
   "metadata": {
    "collapsed": false
   }
  }
 ],
 "metadata": {
  "kernelspec": {
   "display_name": "Python 3",
   "language": "python",
   "name": "python3"
  },
  "language_info": {
   "codemirror_mode": {
    "name": "ipython",
    "version": 2
   },
   "file_extension": ".py",
   "mimetype": "text/x-python",
   "name": "python",
   "nbconvert_exporter": "python",
   "pygments_lexer": "ipython2",
   "version": "2.7.6"
  }
 },
 "nbformat": 4,
 "nbformat_minor": 0
}
