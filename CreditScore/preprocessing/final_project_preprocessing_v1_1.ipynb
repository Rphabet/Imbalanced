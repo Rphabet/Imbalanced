{
 "nbformat": 4,
 "nbformat_minor": 0,
 "metadata": {
  "colab": {
   "provenance": [],
   "collapsed_sections": [],
   "toc_visible": true
  },
  "kernelspec": {
   "name": "python3",
   "display_name": "Python 3"
  },
  "language_info": {
   "name": "python"
  },
  "gpuClass": "standard"
 },
 "cells": [
  {
   "cell_type": "markdown",
   "source": [
    "버전관리\n",
    "=============\n",
    "* v1.0 \n",
    "  - (22.11.13. 13:00 신재호)\n",
    "  - 전체 코드 생성\n",
    "* v1.1\n",
    "  - (22.11.14. 13:00 신재호)\n",
    "  - encoder 객체 생성 위치 변경 (labelencoder, RobustScaler,StandardScaler )\n"
   ],
   "metadata": {
    "id": "WxKC8O7_Qanu"
   }
  },
  {
   "cell_type": "markdown",
   "source": [
    "# 1. setting"
   ],
   "metadata": {
    "id": "Wm-tksEDkjo5"
   }
  },
  {
   "cell_type": "markdown",
   "source": [
    "> ## 1.1 패키지 import"
   ],
   "metadata": {
    "id": "lZw6-O-AmBlq"
   }
  },
  {
   "cell_type": "code",
   "source": [
    "import numpy as np # linear algebra\n",
    "import pandas as pd # data processing, CSV file I/O (e.g. pd.read_csv)\n",
    "import matplotlib.pyplot as plt "
   ],
   "metadata": {
    "id": "0XCNqygIcDMO"
   },
   "execution_count": null,
   "outputs": []
  },
  {
   "cell_type": "markdown",
   "source": [
    "> ## 1.2 데이터 READ"
   ],
   "metadata": {
    "id": "aa0glmY5cEKa"
   }
  },
  {
   "cell_type": "code",
   "source": [
    "# 구글 코랩에서 데이터 attach를 위한 code\n",
    "from google.colab import drive\n",
    "drive.mount('/content/drive')"
   ],
   "metadata": {
    "colab": {
     "base_uri": "https://localhost:8080/"
    },
    "id": "MrzyaNPAkjVy",
    "outputId": "823a68cf-ce6c-479f-cb84-2da7fbd89313"
   },
   "execution_count": null,
   "outputs": [
    {
     "output_type": "stream",
     "name": "stdout",
     "text": [
      "Drive already mounted at /content/drive; to attempt to forcibly remount, call drive.mount(\"/content/drive\", force_remount=True).\n"
     ]
    }
   ]
  },
  {
   "cell_type": "code",
   "source": [
    "# 구글 드라이브 CSV 파일 디렉터리\n",
    "FILE_DIR = '/content/drive/MyDrive/Credit score classification.csv'"
   ],
   "metadata": {
    "id": "AgrpGYuzmPNr"
   },
   "execution_count": null,
   "outputs": []
  },
  {
   "cell_type": "code",
   "source": [
    "#전처리 없는 원본 데이터\n",
    "raw_df = pd.read_csv(FILE_DIR)\n",
    "\n",
    "#전처리 하고, 학습을 위한 데이터\n",
    "train_df = pd.read_csv(FILE_DIR)"
   ],
   "metadata": {
    "id": "rNfYN-cXmZLD"
   },
   "execution_count": null,
   "outputs": []
  },
  {
   "cell_type": "markdown",
   "source": [
    "\n",
    "# <span style=\"background-color:#FAF4C0\"><span style='color: black'>2. Preprocessing</span></span>"
   ],
   "metadata": {
    "id": "y04t5SrlefAW"
   }
  },
  {
   "cell_type": "markdown",
   "source": [
    "> ## 2.1 feature select\n",
    "- https://www.notion.so/rphabet/Credit-Score-Classification-Data_1-6891e4b3a6324a2abf8ff2d8740b2b63"
   ],
   "metadata": {
    "id": "6Gu9zzlKeh-T"
   }
  },
  {
   "cell_type": "code",
   "source": [
    "#전처리 이전 모든 Feature\n",
    "raw_cols =[\n",
    "       'ID', 'Customer_ID', 'Month', 'Name', 'Age', 'SSN', 'Occupation',\n",
    "       'Annual_Income', 'Monthly_Inhand_Salary', 'Num_Bank_Accounts',\n",
    "       'Num_Credit_Card', 'Interest_Rate', 'Num_of_Loan', 'Type_of_Loan',\n",
    "       'Delay_from_due_date', 'Num_of_Delayed_Payment', 'Changed_Credit_Limit',\n",
    "       'Num_Credit_Inquiries', 'Credit_Mix', 'Outstanding_Debt',\n",
    "       'Credit_Utilization_Ratio', 'Credit_History_Age',\n",
    "       'Payment_of_Min_Amount', 'Total_EMI_per_month',\n",
    "       'Amount_invested_monthly', 'Payment_Behaviour', 'Monthly_Balance',\n",
    "       'Credit_Score']"
   ],
   "metadata": {
    "id": "iniYkbTdfTfT"
   },
   "execution_count": null,
   "outputs": []
  },
  {
   "cell_type": "code",
   "source": [
    "# 라벨 인코딩 대상 Feature\n",
    "label_cols = [\n",
    "    'Customer_ID',\n",
    "    'Payment_of_Min_Amount',\n",
    "    'Payment_Behaviour', # 라벨인코딩 또는 순서대로 대치  \n",
    "]\n",
    "\n",
    "# 삭제 대상 Feature\n",
    "drop_cols =[\n",
    "'ID',\n",
    "'Name',\n",
    "'SSN',\n",
    "'Occupation',\n",
    "'Annual_Income',\n",
    "'Type_of_Loan']\n",
    "\n",
    "# 더미생성을 위한 Featue\n",
    "dummy_cols = [\n",
    "    'Num_of_Loan',             # 5 기준\n",
    "    'Changed_Credit_Limit',    # 12기준\n",
    "    'Credit_History_Age',      # 180 기준\n",
    "]\n",
    "\n",
    "# 로그변환 대상 Feature\n",
    "log_scale_cols = [\n",
    "    'Monthly_Inhand_Salary'\n",
    "]\n",
    "\n",
    "# sqrt 변환을 위한 Feature\n",
    "sqrt_scale_cols = [\n",
    "    'Outstanding_Debt'\n",
    "]\n",
    "\n",
    "#정규화를 위한 feature\n",
    "standard_cols =[\n",
    "    \n",
    "]\n",
    "\n",
    "#원핫인코딩 대상 feature\n",
    "onehot_cols =[\n",
    "    \n",
    "]\n",
    "\n",
    "#PCA 대상 Feature\n",
    "pca_cols = [\n",
    "    \n",
    "]\n",
    "\n",
    "# Feature 특징을 고려한 개별 전처리\n",
    "others_cols =[\n",
    "    'Age', # 특정 숫자 기준으로 구간화\n",
    "    'Credit_Mix', # Bad 0, Standard 1 , Good 2\n",
    "    'Credit_Score', # Poor 0 , Standard 1, Good 2로 대치\n",
    "]\n",
    "\n",
    "\n",
    "\n",
    "#전처리 없는 Feature\n",
    "processless_cols = (set(raw_cols) - set(label_cols) - set(dummy_cols) - set(drop_cols)\n",
    "                      - set(log_scale_cols) - set(sqrt_scale_cols) - set(others_cols)\n",
    "                      -set(pca_cols) - set(standard_cols) - set(onehot_cols))\n",
    "processless_cols = list(processless_cols)"
   ],
   "metadata": {
    "id": "r8f3yDjeehl6"
   },
   "execution_count": null,
   "outputs": []
  },
  {
   "cell_type": "code",
   "source": [
    "def print_cols(name,cols):\n",
    "  print('\\n',name)\n",
    "  for i in cols:\n",
    "    print('\\t\\t',i)\n",
    "\n",
    "print_cols(' 라벨인코딩 : ',label_cols )\n",
    "\n",
    "print_cols(' 라벨인코딩 : ',label_cols )\n",
    "\n",
    "print_cols('\\n Feature 제거 : ', drop_cols)\n",
    "\n",
    "print_cols('\\n Dummy생성 : ',dummy_cols)\n",
    "\n",
    "print_cols('\\n 로그 변환 : ', log_scale_cols)\n",
    "\n",
    "print_cols('\\n Sqrt 변환 : ', sqrt_scale_cols)\n",
    "\n",
    "print_cols('\\n pca 처리 : ', pca_cols)\n",
    "\n",
    "print_cols('\\n 정규화처리 : ', standard_cols)\n",
    "\n",
    "print_cols('\\n 원핫인코딩',onehot_cols)\n",
    "\n",
    "print_cols('\\n 기타 처리 : ',others_cols)\n",
    "\n",
    "print_cols('\\n 전처리 없음 :',processless_cols)\n",
    "\n"
   ],
   "metadata": {
    "colab": {
     "base_uri": "https://localhost:8080/"
    },
    "id": "zqG607ubf5iF",
    "outputId": "78cf38ef-940b-4eca-a672-3b276162f1d2"
   },
   "execution_count": null,
   "outputs": [
    {
     "output_type": "stream",
     "name": "stdout",
     "text": [
      "\n",
      "  라벨인코딩 : \n",
      "\t\t Customer_ID\n",
      "\t\t Payment_of_Min_Amount\n",
      "\t\t Payment_Behaviour\n",
      "\n",
      "  라벨인코딩 : \n",
      "\t\t Customer_ID\n",
      "\t\t Payment_of_Min_Amount\n",
      "\t\t Payment_Behaviour\n",
      "\n",
      " \n",
      " Feature 제거 : \n",
      "\t\t ID\n",
      "\t\t Name\n",
      "\t\t SSN\n",
      "\t\t Occupation\n",
      "\t\t Annual_Income\n",
      "\t\t Type_of_Loan\n",
      "\n",
      " \n",
      " Dummy생성 : \n",
      "\t\t Num_of_Loan\n",
      "\t\t Changed_Credit_Limit\n",
      "\t\t Credit_History_Age\n",
      "\n",
      " \n",
      " 로그 변환 : \n",
      "\t\t Monthly_Inhand_Salary\n",
      "\n",
      " \n",
      " Sqrt 변환 : \n",
      "\t\t Outstanding_Debt\n",
      "\n",
      " \n",
      " pca 처리 : \n",
      "\n",
      " \n",
      " 정규화처리 : \n",
      "\n",
      " \n",
      " 원핫인코딩\n",
      "\n",
      " \n",
      " 기타 처리 : \n",
      "\t\t Age\n",
      "\t\t Credit_Mix\n",
      "\t\t Credit_Score\n",
      "\n",
      " \n",
      " 전처리 없음 :\n",
      "\t\t Num_of_Delayed_Payment\n",
      "\t\t Delay_from_due_date\n",
      "\t\t Amount_invested_monthly\n",
      "\t\t Month\n",
      "\t\t Interest_Rate\n",
      "\t\t Credit_Utilization_Ratio\n",
      "\t\t Num_Credit_Inquiries\n",
      "\t\t Total_EMI_per_month\n",
      "\t\t Monthly_Balance\n",
      "\t\t Num_Bank_Accounts\n",
      "\t\t Num_Credit_Card\n"
     ]
    }
   ]
  },
  {
   "cell_type": "markdown",
   "source": [
    "> ## 2.2 Feature Drop"
   ],
   "metadata": {
    "id": "FvlGJemzlaHo"
   }
  },
  {
   "cell_type": "code",
   "source": [
    "def drop_do(cols,input_data):\n",
    "  '''\n",
    "  feature 삭제를 위한 code\n",
    "  param:\n",
    "    cols : 삭제 대상 feature\n",
    "    input_data : 삭제전 전체 데이터\n",
    "\n",
    "  return : 전체 데이터에서 삭제 대상 feture 삭제후 결과\n",
    "  '''\n",
    "  data = input_data.copy()\n",
    "\n",
    "  return data.drop(cols,axis=1)"
   ],
   "metadata": {
    "id": "hpBnBAe3f9TJ"
   },
   "execution_count": null,
   "outputs": []
  },
  {
   "cell_type": "markdown",
   "source": [
    "> ## 2.3 라벨인코딩"
   ],
   "metadata": {
    "id": "hxH6h0Czl8cy"
   }
  },
  {
   "cell_type": "code",
   "source": [
    "from sklearn.preprocessing import LabelEncoder\n",
    "\n",
    "def label_encoding_do(cols,input_data):\n",
    "    '''\n",
    "    라벨 인코딩을 위한 함수\n",
    "    param : \n",
    "    cols : 라벨인코딩 대상 feture\n",
    "    data : 전처리를 위한 데이터\n",
    "\n",
    "    return : 전체 데이터에서 대상 특징만 라벨인코딩 한 결과\n",
    "    '''\n",
    "\n",
    "    data = input_data.copy()\n",
    "\n",
    "    #라벨인코더 객체 생성\n",
    "  \n",
    "\n",
    "    #라벨인코딩 대상 Feature 하나씩 처리\n",
    "    for col in cols:\n",
    "      encoder = LabelEncoder()\n",
    "      data[col] = encoder.fit_transform(data[col])\n",
    "\n",
    "    return data"
   ],
   "metadata": {
    "id": "zYcJQ3NDjHR1"
   },
   "execution_count": null,
   "outputs": []
  },
  {
   "cell_type": "markdown",
   "source": [
    "> ## 2.4 로그 처리"
   ],
   "metadata": {
    "id": "_HtW-ynHm7xS"
   }
  },
  {
   "cell_type": "code",
   "source": [
    "def log_transform_do(cols,input_data):\n",
    "  '''\n",
    "  로그변환을 위한 코드\n",
    "  params : \n",
    "    cols : 인코딩 대상 features\n",
    "    input_data : 원본 데이터\n",
    "  '''\n",
    "  data = input_data.copy()\n",
    "\n",
    "  for col in cols:\n",
    "    data[col] = np.log(data[col])\n",
    "\n",
    "  return data\n"
   ],
   "metadata": {
    "id": "ZVwTWu1TmhtC"
   },
   "execution_count": null,
   "outputs": []
  },
  {
   "cell_type": "markdown",
   "source": [
    "> ## 2.5. SQRT 처리"
   ],
   "metadata": {
    "id": "soqJurAonFMt"
   }
  },
  {
   "cell_type": "code",
   "source": [
    "def sqrt_transform_do(cols,input_data):\n",
    "  '''\n",
    "  sqrt 처리를 위한 코드 \n",
    "  param:\n",
    "    cols : 인코딩 대상 features\n",
    "    data : 전처리를 위한 데이터\n",
    "  '''\n",
    "  \n",
    "  data = input_data.copy()\n",
    "  \n",
    "  for col in cols:\n",
    "    data[col] = np.sqrt(data[col])\n",
    "\n",
    "  return data"
   ],
   "metadata": {
    "id": "8SnPpweSnH5f"
   },
   "execution_count": null,
   "outputs": []
  },
  {
   "cell_type": "markdown",
   "source": [
    "> ## 2.6. 더미 생성 "
   ],
   "metadata": {
    "id": "DanG_gzWuTgr"
   }
  },
  {
   "cell_type": "code",
   "source": [
    "def dummy_make_do (cols,input_data,thresh=5):\n",
    "    \"\"\"\n",
    "    특정값을 기준으로 Y/N 더미변수로 만들기 위한 함수\n",
    "    params:\n",
    "      cols : 전처리 대상 features\n",
    "      data : 원본 데이터\n",
    "      thresh : 0/1 으로 만들기 위한 기준\n",
    "    \"\"\"\n",
    "\n",
    "    data = input_data.copy()\n",
    "\n",
    "    for col in cols:\n",
    "    data[col] = data.apply(get_dummy,axis=1,args=[col,thresh])\n",
    "    return data\n",
    "\n",
    "def get_dummy(df, col ,thresh=5):\n",
    "\n",
    "    if df[col] >= thresh :\n",
    "      return 1\n",
    "    elif df[col] < thresh:\n",
    "      return 0\n",
    "    else:\n",
    "      return 2"
   ],
   "metadata": {
    "id": "6gDBmdxPufYX"
   },
   "execution_count": null,
   "outputs": []
  },
  {
   "cell_type": "markdown",
   "source": [
    "> ## 2.7 표준화"
   ],
   "metadata": {
    "id": "-twHw4MHx-Ck"
   }
  },
  {
   "cell_type": "code",
   "source": [
    "import sklearn\n",
    "from sklearn.preprocessing import *\n",
    "\n",
    "def standard_transform_do (cols,input_data):\n",
    "  '''\n",
    "  표준화를 위한 함수\n",
    "  '''\n",
    "\n",
    "  data = input_data.copy()  #데이터 복사\n",
    "\n",
    "  for col in cols:\n",
    "    scaler = StandardScaler()\n",
    "    data[col] = scaler.fit_transform(data[col])\n",
    "  return data\n",
    "\n",
    "def robust_transform_do (cols,input_data):\n",
    "  '''\n",
    "  robust 처리를 위한 함수\n",
    "  '''\n",
    "\n",
    "  data = input_data.copy()\n",
    "\n",
    "\n",
    "  for col in cols:\n",
    "    scaler = RobustScaler()\n",
    "    data[col] = scaler.fit_transform(data[col])\n",
    "  return data"
   ],
   "metadata": {
    "id": "qWwVLQ_lx8yu"
   },
   "execution_count": null,
   "outputs": []
  },
  {
   "cell_type": "markdown",
   "source": [
    "> ## 2.8 PCA"
   ],
   "metadata": {
    "id": "y_CQVZv3zO7U"
   }
  },
  {
   "cell_type": "code",
   "source": [
    "from sklearn.decomposition import PCA\n",
    "\n",
    "def pca_do(cols,input_data,compoents=2):\n",
    "  '''\n",
    "  pca를 위한 함수\n",
    "  param:\n",
    "    cols : pca로 차원 축소 대상 features\n",
    "    data: 원본 전체 데이터\n",
    "    compoents : 원하는 차원 수\n",
    "  \n",
    "  return :  pca를 추가한 전체 data\n",
    "  '''\n",
    "\n",
    "  data = input_data.copy()\n",
    "\n",
    "  # 차원 축소 하려는 feature 수가 축소할 수보다 작으면 종료\n",
    "  if len(cols)<=compoents:\n",
    "    return data\n",
    "\n",
    "  pca = PCA(n_components= compoents) # 주성분을 몇개로 할지 결정\n",
    "  printcipalComponents = pca.fit_transform(data[cols])\n",
    "\n",
    "  #pca 결과 저장을 위한 신규 features 이름 생성\n",
    "  new_col_name = []\n",
    "  for i in range(1,compoents+1):\n",
    "    new_col_name.append('pca'+str(i))\n",
    "\n",
    "\n",
    "  data[new_col_name] = pd.DataFrame(data=printcipalComponents, columns =new_col_name)\n",
    "\n",
    "  return data\n"
   ],
   "metadata": {
    "id": "c-zfP-Cuyogd"
   },
   "execution_count": null,
   "outputs": []
  },
  {
   "cell_type": "markdown",
   "source": [
    "> ## 2.9 원핫인코딩"
   ],
   "metadata": {
    "id": "gwXfYpfG3RdU"
   }
  },
  {
   "cell_type": "code",
   "source": [
    "def onehot_do(cols,input_data):\n",
    "  '''\n",
    "  원핫인코딩을 위한 함수\n",
    "  원핫인코딩 대상을 처리하고, 전체 데이터를 return\n",
    "  '''\n",
    "  data = input_data.copy()\n",
    "\n",
    "  return pd.get_dummies(data,columns=cols)"
   ],
   "metadata": {
    "id": "qIvZ20a-2uJw"
   },
   "execution_count": null,
   "outputs": []
  },
  {
   "cell_type": "markdown",
   "source": [
    "> ## 2.10 기타 처리"
   ],
   "metadata": {
    "id": "i_t37Mf35ZCD"
   }
  },
  {
   "cell_type": "markdown",
   "source": [
    ">> ### 1) 구간화"
   ],
   "metadata": {
    "id": "POsP-xpI_K3z"
   }
  },
  {
   "cell_type": "code",
   "source": [
    "#특정 범위별로 구간화 함수\n",
    "def binning_do (col,input_data,interval):\n",
    "  '''\n",
    "  구간화를 위한 함수\n",
    "  params \n",
    "    col : 구간화 대상 features\n",
    "    input_data : 원본 데이터\n",
    "    interval : 구간화를 위한 리스트 \n",
    "      ex)       [3, 5, 7] 입력시 \n",
    "                0~2 // 3~4 // 5~6 // 7이상으로 자르고 0,1,2,3... 으로 return \n",
    "  '''\n",
    "  data = input_data.copy()\n",
    "\n",
    "  data[col] = data.apply(get_label,axis=1,args=[col,interval])\n",
    "\n",
    "  return data\n",
    "  \n",
    "\n",
    "def get_label(df,col,interval):\n",
    "  ##apply를 위한 함수\n",
    "  dic = {}\n",
    "\n",
    "  #딕셔너리 형태로 범위 만들기\n",
    "  for value,index in enumerate(interval):\n",
    "    dic[index] = value\n",
    "\n",
    "  #범위안에 드는지 확인\n",
    "  for i in dic.keys():\n",
    "    if df[col] < i:\n",
    "      return dic[i]\n",
    "  \n",
    "  #interval에 포함되지 않는 값은 가장 큰 숫자 return\n",
    "  return len(dic)\n",
    "\n"
   ],
   "metadata": {
    "id": "71aLeLHM6UWN"
   },
   "execution_count": null,
   "outputs": []
  },
  {
   "cell_type": "markdown",
   "source": [
    ">> ### 2) 값 대치"
   ],
   "metadata": {
    "id": "A70t-0kZ_Njd"
   }
  },
  {
   "cell_type": "code",
   "source": [
    "def replacement_do (col,input_data,replace_dictionary):\n",
    "    '''\n",
    "    원하는 값으로 대치하기 위한 함수\n",
    "    param:\n",
    "      col: 대상 feature\n",
    "      data: 원본데이터\n",
    "      replace_dictionary : 대치를 위한 조건 사전\n",
    "                          ex) {'Good':1, 'Standard':2, 'Bad':0}\n",
    "    '''\n",
    "\n",
    "    data = input_data.copy()\n",
    "\n",
    "    data[col] = data.apply(replace,axis=1,args=[col,replace_dictionary])\n",
    "    return data\n",
    "\n",
    "\n",
    "def replace(df,col, replace_dictionary):\n",
    "  #apply를 위한 함수\n",
    "  dic = replace_dictionary\n",
    "  for key in dic:\n",
    "    if df[col] == key:\n",
    "      return dic[key]\n"
   ],
   "metadata": {
    "id": "itfIz9eu6Y8M"
   },
   "execution_count": null,
   "outputs": []
  },
  {
   "cell_type": "markdown",
   "source": [
    "# <span style=\"background-color:#FAF4C0\"><span style='color: black'>3. Preprocessing</span></span>"
   ],
   "metadata": {
    "id": "4c8ls83iDQaA"
   }
  },
  {
   "cell_type": "code",
   "source": [
    "# 2.2 drop\n",
    "#raw 데이터 기준에서 제거\n",
    "train_df = drop_do(drop_cols, raw_df)\n",
    "\n",
    "raw_df.shape ,train_df.shape"
   ],
   "metadata": {
    "colab": {
     "base_uri": "https://localhost:8080/"
    },
    "id": "LmyM9M2LDU75",
    "outputId": "d72060f2-ac94-4772-ebf1-e24b13226edb"
   },
   "execution_count": null,
   "outputs": [
    {
     "output_type": "execute_result",
     "data": {
      "text/plain": [
       "((100000, 28), (100000, 22))"
      ]
     },
     "metadata": {},
     "execution_count": 364
    }
   ]
  },
  {
   "cell_type": "code",
   "source": [
    "#2.3 라벨인코딩\n",
    "train_df = label_encoding_do(label_cols,train_df)\n",
    "\n",
    "print('라벨인코딩 전')\n",
    "print(raw_df[label_cols].head())    \n",
    "print('\\n라벨인코딩 후')\n",
    "print(train_df[label_cols].head())"
   ],
   "metadata": {
    "colab": {
     "base_uri": "https://localhost:8080/"
    },
    "id": "98SbusVRDtsp",
    "outputId": "301b2a6b-e347-4732-9125-e055091699a6"
   },
   "execution_count": null,
   "outputs": [
    {
     "output_type": "stream",
     "name": "stdout",
     "text": [
      "라벨인코딩 전\n",
      "   Customer_ID Payment_of_Min_Amount                 Payment_Behaviour\n",
      "0         3392                    No   High_spent_Small_value_payments\n",
      "1         3392                    No    Low_spent_Large_value_payments\n",
      "2         3392                    No   Low_spent_Medium_value_payments\n",
      "3         3392                    No    Low_spent_Small_value_payments\n",
      "4         3392                    No  High_spent_Medium_value_payments\n",
      "\n",
      "라벨인코딩 후\n",
      "   Customer_ID  Payment_of_Min_Amount  Payment_Behaviour\n",
      "0          576                      1                  2\n",
      "1          576                      1                  3\n",
      "2          576                      1                  4\n",
      "3          576                      1                  5\n",
      "4          576                      1                  1\n"
     ]
    }
   ]
  },
  {
   "cell_type": "code",
   "source": [
    "#2.4 로그 변환\n",
    "\n",
    "train_df = log_transform_do(log_scale_cols,train_df)\n",
    "\n",
    "print('전')\n",
    "print(raw_df[log_scale_cols].head())    \n",
    "print('\\n후')\n",
    "print(train_df[log_scale_cols].head())"
   ],
   "metadata": {
    "colab": {
     "base_uri": "https://localhost:8080/"
    },
    "id": "zOPUwjAwELh6",
    "outputId": "9aadc748-28e8-4169-fbfb-927cdfe02dcf"
   },
   "execution_count": null,
   "outputs": [
    {
     "output_type": "stream",
     "name": "stdout",
     "text": [
      "전\n",
      "   Monthly_Inhand_Salary\n",
      "0            1824.843333\n",
      "1            1824.843333\n",
      "2            1824.843333\n",
      "3            1824.843333\n",
      "4            1824.843333\n",
      "\n",
      "후\n",
      "   Monthly_Inhand_Salary\n",
      "0               7.509249\n",
      "1               7.509249\n",
      "2               7.509249\n",
      "3               7.509249\n",
      "4               7.509249\n"
     ]
    }
   ]
  },
  {
   "cell_type": "code",
   "source": [
    "#2.5 sqrt 변환\n",
    "train_df = sqrt_transform_do(sqrt_scale_cols,train_df)\n",
    "\n",
    "print('전')\n",
    "print(raw_df[sqrt_scale_cols].head())    \n",
    "print('\\n후')\n",
    "print(train_df[sqrt_scale_cols].head())"
   ],
   "metadata": {
    "colab": {
     "base_uri": "https://localhost:8080/"
    },
    "id": "qx8WzQk6Eu_8",
    "outputId": "01c19951-3f84-4c55-8c25-5460b71f0f32"
   },
   "execution_count": null,
   "outputs": [
    {
     "output_type": "stream",
     "name": "stdout",
     "text": [
      "전\n",
      "   Outstanding_Debt\n",
      "0            809.98\n",
      "1            809.98\n",
      "2            809.98\n",
      "3            809.98\n",
      "4            809.98\n",
      "\n",
      "후\n",
      "   Outstanding_Debt\n",
      "0         28.460148\n",
      "1         28.460148\n",
      "2         28.460148\n",
      "3         28.460148\n",
      "4         28.460148\n"
     ]
    }
   ]
  },
  {
   "cell_type": "code",
   "source": [
    "# 2.6 더미 생성\n",
    "\n",
    "train_df = dummy_make_do(['Num_of_Loan'],train_df,5)\n",
    "train_df = dummy_make_do(['Changed_Credit_Limit'],train_df,12)\n",
    "train_df = dummy_make_do(['Credit_History_Age'],train_df,180)\n",
    "\n",
    "print('전')\n",
    "print(raw_df[dummy_cols].head())    \n",
    "print('\\n후')\n",
    "print(train_df[dummy_cols].head())"
   ],
   "metadata": {
    "id": "OLwLpbMfE_po"
   },
   "execution_count": null,
   "outputs": []
  },
  {
   "cell_type": "code",
   "source": [
    "#2.7 표준화\n",
    "\n",
    "train_df = standard_transform_do(standard_cols,train_df)\n",
    "\n",
    "print('전')\n",
    "print(raw_df[standard_cols].head())    \n",
    "print('\\n후')\n",
    "print(train_df[standard_cols].head())"
   ],
   "metadata": {
    "id": "c1zXub_pFhRT"
   },
   "execution_count": null,
   "outputs": []
  },
  {
   "cell_type": "code",
   "source": [
    "#2.8 PCA\n",
    "\n",
    "train_df = pca_do(pca_cols,train_df,2)\n",
    "\n",
    "print('전')\n",
    "print(raw_df[pca_cols].head())    "
   ],
   "metadata": {
    "id": "qhd-xI59HeKO"
   },
   "execution_count": null,
   "outputs": []
  },
  {
   "cell_type": "code",
   "source": [
    "#2.9 원핫인코딩\n",
    "\n",
    "train_df = onehot_do(onehot_cols,train_df)\n",
    "\n",
    "\n",
    "print('전')\n",
    "print(raw_df[onehot_cols].head())   "
   ],
   "metadata": {
    "id": "wATdlw0oF8l8"
   },
   "execution_count": null,
   "outputs": []
  },
  {
   "cell_type": "code",
   "source": [
    "#2.10 기타 처리\n",
    "\n",
    "##1) 구간화  \n",
    "##  Age : 특정 숫자 기준으로 구간화\n",
    "train_df = binning_do('Age',train_df,[20,50])\n",
    "\n",
    "##2) 값 대치\n",
    "train_df = replacement_do('Credit_Mix',train_df,{'Bad':0,'Standard':1,'Good':2})\n",
    "train_df = replacement_do('Credit_Score',train_df,{'Poor':0,'Standard':1,'Good':2})\n",
    "\n",
    "print('전')\n",
    "print(raw_df[others_cols].head())    \n",
    "print('\\n후')\n",
    "print(train_df[others_cols].head())"
   ],
   "metadata": {
    "id": "ADeMx3j9HCOE"
   },
   "execution_count": null,
   "outputs": []
  },
  {
   "cell_type": "code",
   "source": [
    "## 전처리 결과 확인\n",
    "\n",
    "pd.set_option('display.max_columns', 30)\n",
    "# pd.set_option('display.max_rows', 500)\n",
    "\n",
    "\n",
    "train_df.head(5)\n"
   ],
   "metadata": {
    "id": "765twDsUInHQ"
   },
   "execution_count": null,
   "outputs": []
  },
  {
   "cell_type": "code",
   "source": [
    "#전처리 결과 파일 출력 \n",
    "dir_split= FILE_DIR.split('/')\n",
    "new_file_name =dir_split[len(dir_split)-1].split('.')[0] +'_preprocess.csv'\n",
    "\n",
    "dir_split[len(dir_split)-1] = new_file_name\n",
    "NEW_FILE_DIR = \"/\".join(dir_split)\n",
    "\n",
    "#기존 파일디렉터리에 파일명 바꿔서 신규 저장\n",
    "train_df.to_csv(NEW_FILE_DIR)"
   ],
   "metadata": {
    "id": "Pa29fTEOMsuI"
   },
   "execution_count": null,
   "outputs": []
  },
  {
   "cell_type": "markdown",
   "source": [
    "# <span style=\"background-color:#FAF4C0\"><span style='color: black'>4. 학습준비</span></span>"
   ],
   "metadata": {
    "id": "pATNSm1oKoKS"
   }
  },
  {
   "cell_type": "markdown",
   "source": [
    "> ## 4.1 데이터 split"
   ],
   "metadata": {
    "id": "EJNovBi4PJUl"
   }
  },
  {
   "cell_type": "code",
   "source": [
    "# 최종 2개월 valid로 분리\n",
    "train = train_df.loc[train_df['Month'] <=6]\n",
    "valid = train_df.loc[train_df['Month'] >6]\n",
    "train.shape, valid.shape\n"
   ],
   "metadata": {
    "colab": {
     "base_uri": "https://localhost:8080/"
    },
    "id": "qtXOSYBfKvmr",
    "outputId": "da7aec65-329e-4188-ec34-f50971ac6719"
   },
   "execution_count": null,
   "outputs": [
    {
     "output_type": "execute_result",
     "data": {
      "text/plain": [
       "((75000, 22), (25000, 22))"
      ]
     },
     "metadata": {},
     "execution_count": 340
    }
   ]
  },
  {
   "cell_type": "code",
   "source": [
    "# 데이터 셔플\n",
    "train_shuffled=sklearn.utils.shuffle(train)\n",
    "valid_shuffled=sklearn.utils.shuffle(valid)"
   ],
   "metadata": {
    "id": "KspZJgwlPkuo"
   },
   "execution_count": null,
   "outputs": []
  },
  {
   "cell_type": "code",
   "source": [
    "# train, valid를 각각 x,y 분리\n",
    "\n",
    "x_train = train_shuffled.drop(['Credit_Score'],axis=1)\n",
    "y_train = train_shuffled['Credit_Score']\n",
    "\n",
    "x_valid = valid_shuffled.drop(['Credit_Score'],axis=1)\n",
    "y_valid = valid_shuffled['Credit_Score']\n",
    "\n",
    "x_train.shape, y_train.shape, x_valid.shape, y_valid.shape"
   ],
   "metadata": {
    "colab": {
     "base_uri": "https://localhost:8080/"
    },
    "id": "YDb18fHVM04l",
    "outputId": "5b0ad058-d939-4194-e38c-d9a5a462088b"
   },
   "execution_count": null,
   "outputs": [
    {
     "output_type": "execute_result",
     "data": {
      "text/plain": [
       "((75000, 21), (75000,), (25000, 21), (25000,))"
      ]
     },
     "metadata": {},
     "execution_count": 342
    }
   ]
  },
  {
   "cell_type": "code",
   "source": [
    "x_train"
   ],
   "metadata": {
    "colab": {
     "base_uri": "https://localhost:8080/",
     "height": 487
    },
    "id": "76dJLWfYO_EM",
    "outputId": "37e2968e-d7c5-4542-ebe1-be51d3358c8e"
   },
   "execution_count": null,
   "outputs": [
    {
     "output_type": "execute_result",
     "data": {
      "text/plain": [
       "       Customer_ID  Month  Age  Monthly_Inhand_Salary  Num_Bank_Accounts  \\\n",
       "77277         9122      6    1               7.239933                4.0   \n",
       "22485            4      6    1               9.039973                3.0   \n",
       "98657         6007      2    1               8.551974                6.0   \n",
       "65058        11822      3    1               8.340937                8.0   \n",
       "42379         3618      4    1               8.719103                2.0   \n",
       "...            ...    ...  ...                    ...                ...   \n",
       "64770          741      3    1               6.441685                5.0   \n",
       "57801         3511      2    1               6.291575                8.0   \n",
       "90857        11610      2    1               9.201088                2.0   \n",
       "21795         2587      4    1               7.813286                4.0   \n",
       "15220         9218      5    1               7.480655                7.0   \n",
       "\n",
       "       Num_Credit_Card  Interest_Rate  Num_of_Loan  Delay_from_due_date  \\\n",
       "77277              4.0            1.0            0                  8.0   \n",
       "22485              5.0            5.0            0                 20.0   \n",
       "98657             10.0           29.0            1                 33.0   \n",
       "65058              7.0            5.0            0                 28.0   \n",
       "42379              5.0           10.0            0                 20.0   \n",
       "...                ...            ...          ...                  ...   \n",
       "64770              6.0           15.0            0                 24.0   \n",
       "57801              8.0           18.0            0                 59.0   \n",
       "90857              4.0            2.0            0                  7.0   \n",
       "21795              4.0           12.0            0                 27.0   \n",
       "15220              4.0           13.0            0                 32.0   \n",
       "\n",
       "       Num_of_Delayed_Payment  Changed_Credit_Limit  Num_Credit_Inquiries  \\\n",
       "77277                     7.0                     0                   0.0   \n",
       "22485                    14.0                     1                   6.0   \n",
       "98657                    22.0                     1                   7.0   \n",
       "65058                     9.0                     1                   0.0   \n",
       "42379                     7.0                     0                   0.0   \n",
       "...                       ...                   ...                   ...   \n",
       "64770                    16.0                     0                   2.0   \n",
       "57801                    17.0                     0                  11.0   \n",
       "90857                     6.0                     0                   1.0   \n",
       "21795                    12.0                     0                   1.0   \n",
       "15220                    20.0                     1                   5.0   \n",
       "\n",
       "       Credit_Mix  Outstanding_Debt  Credit_Utilization_Ratio  \\\n",
       "77277           2         27.143323                 27.186167   \n",
       "22485           1         37.037819                 32.785394   \n",
       "98657           0         69.508273                 32.478309   \n",
       "65058           1         21.585875                 34.181103   \n",
       "42379           2         29.199658                 31.046447   \n",
       "...           ...               ...                       ...   \n",
       "64770           1         17.291038                 32.287872   \n",
       "57801           1         49.422262                 24.536619   \n",
       "90857           2         35.651788                 41.522820   \n",
       "21795           2         27.930449                 31.397585   \n",
       "15220           1         29.548773                 32.968218   \n",
       "\n",
       "       Credit_History_Age  Payment_of_Min_Amount  Total_EMI_per_month  \\\n",
       "77277                   1                      0            14.972562   \n",
       "22485                   1                      2           257.738646   \n",
       "98657                   0                      0           187.163787   \n",
       "65058                   1                      2             0.000000   \n",
       "42379                   1                      1           167.287915   \n",
       "...                   ...                    ...                  ...   \n",
       "64770                   1                      1            13.161860   \n",
       "57801                   0                      2            13.723019   \n",
       "90857                   1                      1           267.529247   \n",
       "21795                   1                      0             0.000000   \n",
       "15220                   1                      1            42.313036   \n",
       "\n",
       "       Amount_invested_monthly  Payment_Behaviour  Monthly_Balance  \n",
       "77277                38.577474                  1       332.742171  \n",
       "22485               102.488034                  5        93.236925  \n",
       "98657                41.759342                  2       261.842180  \n",
       "65058                74.281953                  2       568.417596  \n",
       "42379                45.436887                  1       507.068795  \n",
       "...                        ...                ...              ...  \n",
       "64770                12.233817                  5       315.458629  \n",
       "57801                20.544565                  3       278.580264  \n",
       "90857                65.302556                  1       845.663443  \n",
       "21795                41.012025                  5       234.334958  \n",
       "15220                13.658861                  5       242.785063  \n",
       "\n",
       "[75000 rows x 21 columns]"
      ],
      "text/html": [
       "\n",
       "  <div id=\"df-282850b7-9951-4f8c-b636-d2de570a0c30\">\n",
       "    <div class=\"colab-df-container\">\n",
       "      <div>\n",
       "<style scoped>\n",
       "    .dataframe tbody tr th:only-of-type {\n",
       "        vertical-align: middle;\n",
       "    }\n",
       "\n",
       "    .dataframe tbody tr th {\n",
       "        vertical-align: top;\n",
       "    }\n",
       "\n",
       "    .dataframe thead th {\n",
       "        text-align: right;\n",
       "    }\n",
       "</style>\n",
       "<table border=\"1\" class=\"dataframe\">\n",
       "  <thead>\n",
       "    <tr style=\"text-align: right;\">\n",
       "      <th></th>\n",
       "      <th>Customer_ID</th>\n",
       "      <th>Month</th>\n",
       "      <th>Age</th>\n",
       "      <th>Monthly_Inhand_Salary</th>\n",
       "      <th>Num_Bank_Accounts</th>\n",
       "      <th>Num_Credit_Card</th>\n",
       "      <th>Interest_Rate</th>\n",
       "      <th>Num_of_Loan</th>\n",
       "      <th>Delay_from_due_date</th>\n",
       "      <th>Num_of_Delayed_Payment</th>\n",
       "      <th>Changed_Credit_Limit</th>\n",
       "      <th>Num_Credit_Inquiries</th>\n",
       "      <th>Credit_Mix</th>\n",
       "      <th>Outstanding_Debt</th>\n",
       "      <th>Credit_Utilization_Ratio</th>\n",
       "      <th>Credit_History_Age</th>\n",
       "      <th>Payment_of_Min_Amount</th>\n",
       "      <th>Total_EMI_per_month</th>\n",
       "      <th>Amount_invested_monthly</th>\n",
       "      <th>Payment_Behaviour</th>\n",
       "      <th>Monthly_Balance</th>\n",
       "    </tr>\n",
       "  </thead>\n",
       "  <tbody>\n",
       "    <tr>\n",
       "      <th>77277</th>\n",
       "      <td>9122</td>\n",
       "      <td>6</td>\n",
       "      <td>1</td>\n",
       "      <td>7.239933</td>\n",
       "      <td>4.0</td>\n",
       "      <td>4.0</td>\n",
       "      <td>1.0</td>\n",
       "      <td>0</td>\n",
       "      <td>8.0</td>\n",
       "      <td>7.0</td>\n",
       "      <td>0</td>\n",
       "      <td>0.0</td>\n",
       "      <td>2</td>\n",
       "      <td>27.143323</td>\n",
       "      <td>27.186167</td>\n",
       "      <td>1</td>\n",
       "      <td>0</td>\n",
       "      <td>14.972562</td>\n",
       "      <td>38.577474</td>\n",
       "      <td>1</td>\n",
       "      <td>332.742171</td>\n",
       "    </tr>\n",
       "    <tr>\n",
       "      <th>22485</th>\n",
       "      <td>4</td>\n",
       "      <td>6</td>\n",
       "      <td>1</td>\n",
       "      <td>9.039973</td>\n",
       "      <td>3.0</td>\n",
       "      <td>5.0</td>\n",
       "      <td>5.0</td>\n",
       "      <td>0</td>\n",
       "      <td>20.0</td>\n",
       "      <td>14.0</td>\n",
       "      <td>1</td>\n",
       "      <td>6.0</td>\n",
       "      <td>1</td>\n",
       "      <td>37.037819</td>\n",
       "      <td>32.785394</td>\n",
       "      <td>1</td>\n",
       "      <td>2</td>\n",
       "      <td>257.738646</td>\n",
       "      <td>102.488034</td>\n",
       "      <td>5</td>\n",
       "      <td>93.236925</td>\n",
       "    </tr>\n",
       "    <tr>\n",
       "      <th>98657</th>\n",
       "      <td>6007</td>\n",
       "      <td>2</td>\n",
       "      <td>1</td>\n",
       "      <td>8.551974</td>\n",
       "      <td>6.0</td>\n",
       "      <td>10.0</td>\n",
       "      <td>29.0</td>\n",
       "      <td>1</td>\n",
       "      <td>33.0</td>\n",
       "      <td>22.0</td>\n",
       "      <td>1</td>\n",
       "      <td>7.0</td>\n",
       "      <td>0</td>\n",
       "      <td>69.508273</td>\n",
       "      <td>32.478309</td>\n",
       "      <td>0</td>\n",
       "      <td>0</td>\n",
       "      <td>187.163787</td>\n",
       "      <td>41.759342</td>\n",
       "      <td>2</td>\n",
       "      <td>261.842180</td>\n",
       "    </tr>\n",
       "    <tr>\n",
       "      <th>65058</th>\n",
       "      <td>11822</td>\n",
       "      <td>3</td>\n",
       "      <td>1</td>\n",
       "      <td>8.340937</td>\n",
       "      <td>8.0</td>\n",
       "      <td>7.0</td>\n",
       "      <td>5.0</td>\n",
       "      <td>0</td>\n",
       "      <td>28.0</td>\n",
       "      <td>9.0</td>\n",
       "      <td>1</td>\n",
       "      <td>0.0</td>\n",
       "      <td>1</td>\n",
       "      <td>21.585875</td>\n",
       "      <td>34.181103</td>\n",
       "      <td>1</td>\n",
       "      <td>2</td>\n",
       "      <td>0.000000</td>\n",
       "      <td>74.281953</td>\n",
       "      <td>2</td>\n",
       "      <td>568.417596</td>\n",
       "    </tr>\n",
       "    <tr>\n",
       "      <th>42379</th>\n",
       "      <td>3618</td>\n",
       "      <td>4</td>\n",
       "      <td>1</td>\n",
       "      <td>8.719103</td>\n",
       "      <td>2.0</td>\n",
       "      <td>5.0</td>\n",
       "      <td>10.0</td>\n",
       "      <td>0</td>\n",
       "      <td>20.0</td>\n",
       "      <td>7.0</td>\n",
       "      <td>0</td>\n",
       "      <td>0.0</td>\n",
       "      <td>2</td>\n",
       "      <td>29.199658</td>\n",
       "      <td>31.046447</td>\n",
       "      <td>1</td>\n",
       "      <td>1</td>\n",
       "      <td>167.287915</td>\n",
       "      <td>45.436887</td>\n",
       "      <td>1</td>\n",
       "      <td>507.068795</td>\n",
       "    </tr>\n",
       "    <tr>\n",
       "      <th>...</th>\n",
       "      <td>...</td>\n",
       "      <td>...</td>\n",
       "      <td>...</td>\n",
       "      <td>...</td>\n",
       "      <td>...</td>\n",
       "      <td>...</td>\n",
       "      <td>...</td>\n",
       "      <td>...</td>\n",
       "      <td>...</td>\n",
       "      <td>...</td>\n",
       "      <td>...</td>\n",
       "      <td>...</td>\n",
       "      <td>...</td>\n",
       "      <td>...</td>\n",
       "      <td>...</td>\n",
       "      <td>...</td>\n",
       "      <td>...</td>\n",
       "      <td>...</td>\n",
       "      <td>...</td>\n",
       "      <td>...</td>\n",
       "      <td>...</td>\n",
       "    </tr>\n",
       "    <tr>\n",
       "      <th>64770</th>\n",
       "      <td>741</td>\n",
       "      <td>3</td>\n",
       "      <td>1</td>\n",
       "      <td>6.441685</td>\n",
       "      <td>5.0</td>\n",
       "      <td>6.0</td>\n",
       "      <td>15.0</td>\n",
       "      <td>0</td>\n",
       "      <td>24.0</td>\n",
       "      <td>16.0</td>\n",
       "      <td>0</td>\n",
       "      <td>2.0</td>\n",
       "      <td>1</td>\n",
       "      <td>17.291038</td>\n",
       "      <td>32.287872</td>\n",
       "      <td>1</td>\n",
       "      <td>1</td>\n",
       "      <td>13.161860</td>\n",
       "      <td>12.233817</td>\n",
       "      <td>5</td>\n",
       "      <td>315.458629</td>\n",
       "    </tr>\n",
       "    <tr>\n",
       "      <th>57801</th>\n",
       "      <td>3511</td>\n",
       "      <td>2</td>\n",
       "      <td>1</td>\n",
       "      <td>6.291575</td>\n",
       "      <td>8.0</td>\n",
       "      <td>8.0</td>\n",
       "      <td>18.0</td>\n",
       "      <td>0</td>\n",
       "      <td>59.0</td>\n",
       "      <td>17.0</td>\n",
       "      <td>0</td>\n",
       "      <td>11.0</td>\n",
       "      <td>1</td>\n",
       "      <td>49.422262</td>\n",
       "      <td>24.536619</td>\n",
       "      <td>0</td>\n",
       "      <td>2</td>\n",
       "      <td>13.723019</td>\n",
       "      <td>20.544565</td>\n",
       "      <td>3</td>\n",
       "      <td>278.580264</td>\n",
       "    </tr>\n",
       "    <tr>\n",
       "      <th>90857</th>\n",
       "      <td>11610</td>\n",
       "      <td>2</td>\n",
       "      <td>1</td>\n",
       "      <td>9.201088</td>\n",
       "      <td>2.0</td>\n",
       "      <td>4.0</td>\n",
       "      <td>2.0</td>\n",
       "      <td>0</td>\n",
       "      <td>7.0</td>\n",
       "      <td>6.0</td>\n",
       "      <td>0</td>\n",
       "      <td>1.0</td>\n",
       "      <td>2</td>\n",
       "      <td>35.651788</td>\n",
       "      <td>41.522820</td>\n",
       "      <td>1</td>\n",
       "      <td>1</td>\n",
       "      <td>267.529247</td>\n",
       "      <td>65.302556</td>\n",
       "      <td>1</td>\n",
       "      <td>845.663443</td>\n",
       "    </tr>\n",
       "    <tr>\n",
       "      <th>21795</th>\n",
       "      <td>2587</td>\n",
       "      <td>4</td>\n",
       "      <td>1</td>\n",
       "      <td>7.813286</td>\n",
       "      <td>4.0</td>\n",
       "      <td>4.0</td>\n",
       "      <td>12.0</td>\n",
       "      <td>0</td>\n",
       "      <td>27.0</td>\n",
       "      <td>12.0</td>\n",
       "      <td>0</td>\n",
       "      <td>1.0</td>\n",
       "      <td>2</td>\n",
       "      <td>27.930449</td>\n",
       "      <td>31.397585</td>\n",
       "      <td>1</td>\n",
       "      <td>0</td>\n",
       "      <td>0.000000</td>\n",
       "      <td>41.012025</td>\n",
       "      <td>5</td>\n",
       "      <td>234.334958</td>\n",
       "    </tr>\n",
       "    <tr>\n",
       "      <th>15220</th>\n",
       "      <td>9218</td>\n",
       "      <td>5</td>\n",
       "      <td>1</td>\n",
       "      <td>7.480655</td>\n",
       "      <td>7.0</td>\n",
       "      <td>4.0</td>\n",
       "      <td>13.0</td>\n",
       "      <td>0</td>\n",
       "      <td>32.0</td>\n",
       "      <td>20.0</td>\n",
       "      <td>1</td>\n",
       "      <td>5.0</td>\n",
       "      <td>1</td>\n",
       "      <td>29.548773</td>\n",
       "      <td>32.968218</td>\n",
       "      <td>1</td>\n",
       "      <td>1</td>\n",
       "      <td>42.313036</td>\n",
       "      <td>13.658861</td>\n",
       "      <td>5</td>\n",
       "      <td>242.785063</td>\n",
       "    </tr>\n",
       "  </tbody>\n",
       "</table>\n",
       "<p>75000 rows × 21 columns</p>\n",
       "</div>\n",
       "      <button class=\"colab-df-convert\" onclick=\"convertToInteractive('df-282850b7-9951-4f8c-b636-d2de570a0c30')\"\n",
       "              title=\"Convert this dataframe to an interactive table.\"\n",
       "              style=\"display:none;\">\n",
       "        \n",
       "  <svg xmlns=\"http://www.w3.org/2000/svg\" height=\"24px\"viewBox=\"0 0 24 24\"\n",
       "       width=\"24px\">\n",
       "    <path d=\"M0 0h24v24H0V0z\" fill=\"none\"/>\n",
       "    <path d=\"M18.56 5.44l.94 2.06.94-2.06 2.06-.94-2.06-.94-.94-2.06-.94 2.06-2.06.94zm-11 1L8.5 8.5l.94-2.06 2.06-.94-2.06-.94L8.5 2.5l-.94 2.06-2.06.94zm10 10l.94 2.06.94-2.06 2.06-.94-2.06-.94-.94-2.06-.94 2.06-2.06.94z\"/><path d=\"M17.41 7.96l-1.37-1.37c-.4-.4-.92-.59-1.43-.59-.52 0-1.04.2-1.43.59L10.3 9.45l-7.72 7.72c-.78.78-.78 2.05 0 2.83L4 21.41c.39.39.9.59 1.41.59.51 0 1.02-.2 1.41-.59l7.78-7.78 2.81-2.81c.8-.78.8-2.07 0-2.86zM5.41 20L4 18.59l7.72-7.72 1.47 1.35L5.41 20z\"/>\n",
       "  </svg>\n",
       "      </button>\n",
       "      \n",
       "  <style>\n",
       "    .colab-df-container {\n",
       "      display:flex;\n",
       "      flex-wrap:wrap;\n",
       "      gap: 12px;\n",
       "    }\n",
       "\n",
       "    .colab-df-convert {\n",
       "      background-color: #E8F0FE;\n",
       "      border: none;\n",
       "      border-radius: 50%;\n",
       "      cursor: pointer;\n",
       "      display: none;\n",
       "      fill: #1967D2;\n",
       "      height: 32px;\n",
       "      padding: 0 0 0 0;\n",
       "      width: 32px;\n",
       "    }\n",
       "\n",
       "    .colab-df-convert:hover {\n",
       "      background-color: #E2EBFA;\n",
       "      box-shadow: 0px 1px 2px rgba(60, 64, 67, 0.3), 0px 1px 3px 1px rgba(60, 64, 67, 0.15);\n",
       "      fill: #174EA6;\n",
       "    }\n",
       "\n",
       "    [theme=dark] .colab-df-convert {\n",
       "      background-color: #3B4455;\n",
       "      fill: #D2E3FC;\n",
       "    }\n",
       "\n",
       "    [theme=dark] .colab-df-convert:hover {\n",
       "      background-color: #434B5C;\n",
       "      box-shadow: 0px 1px 3px 1px rgba(0, 0, 0, 0.15);\n",
       "      filter: drop-shadow(0px 1px 2px rgba(0, 0, 0, 0.3));\n",
       "      fill: #FFFFFF;\n",
       "    }\n",
       "  </style>\n",
       "\n",
       "      <script>\n",
       "        const buttonEl =\n",
       "          document.querySelector('#df-282850b7-9951-4f8c-b636-d2de570a0c30 button.colab-df-convert');\n",
       "        buttonEl.style.display =\n",
       "          google.colab.kernel.accessAllowed ? 'block' : 'none';\n",
       "\n",
       "        async function convertToInteractive(key) {\n",
       "          const element = document.querySelector('#df-282850b7-9951-4f8c-b636-d2de570a0c30');\n",
       "          const dataTable =\n",
       "            await google.colab.kernel.invokeFunction('convertToInteractive',\n",
       "                                                     [key], {});\n",
       "          if (!dataTable) return;\n",
       "\n",
       "          const docLinkHtml = 'Like what you see? Visit the ' +\n",
       "            '<a target=\"_blank\" href=https://colab.research.google.com/notebooks/data_table.ipynb>data table notebook</a>'\n",
       "            + ' to learn more about interactive tables.';\n",
       "          element.innerHTML = '';\n",
       "          dataTable['output_type'] = 'display_data';\n",
       "          await google.colab.output.renderOutput(dataTable, element);\n",
       "          const docLink = document.createElement('div');\n",
       "          docLink.innerHTML = docLinkHtml;\n",
       "          element.appendChild(docLink);\n",
       "        }\n",
       "      </script>\n",
       "    </div>\n",
       "  </div>\n",
       "  "
      ]
     },
     "metadata": {},
     "execution_count": 343
    }
   ]
  },
  {
   "cell_type": "code",
   "source": [
    "y_train"
   ],
   "metadata": {
    "colab": {
     "base_uri": "https://localhost:8080/"
    },
    "id": "qhrNhBNlP1i4",
    "outputId": "b22a53eb-8f94-463e-c6b1-d2985fd5a620"
   },
   "execution_count": null,
   "outputs": [
    {
     "output_type": "execute_result",
     "data": {
      "text/plain": [
       "77277    1\n",
       "22485    1\n",
       "98657    1\n",
       "65058    1\n",
       "42379    1\n",
       "        ..\n",
       "64770    1\n",
       "57801    0\n",
       "90857    2\n",
       "21795    2\n",
       "15220    0\n",
       "Name: Credit_Score, Length: 75000, dtype: int64"
      ]
     },
     "metadata": {},
     "execution_count": 344
    }
   ]
  },
  {
   "cell_type": "code",
   "source": [
    "x_valid"
   ],
   "metadata": {
    "colab": {
     "base_uri": "https://localhost:8080/",
     "height": 487
    },
    "id": "_XrcV7U_P2uW",
    "outputId": "313ccabf-6700-4add-a662-ef8a71eb9ca7"
   },
   "execution_count": null,
   "outputs": [
    {
     "output_type": "execute_result",
     "data": {
      "text/plain": [
       "       Customer_ID  Month  Age  Monthly_Inhand_Salary  Num_Bank_Accounts  \\\n",
       "27438         5848      7    2               7.968440                5.0   \n",
       "7278         10086      7    1               8.100467                3.0   \n",
       "64959         5735      8    1               9.221381                5.0   \n",
       "62902         4896      7    0               8.608042                5.0   \n",
       "30486         2538      7    0               8.864427                7.0   \n",
       "...            ...    ...  ...                    ...                ...   \n",
       "62503         1742      8    0               8.572229                9.0   \n",
       "12151         7491      8    1               8.096612                5.0   \n",
       "80166         2490      7    1               7.999625                2.0   \n",
       "52039         3690      8    1               7.283544                9.0   \n",
       "30710         4518      7    1               6.662900                3.0   \n",
       "\n",
       "       Num_Credit_Card  Interest_Rate  Num_of_Loan  Delay_from_due_date  \\\n",
       "27438              6.0           19.0            0                  8.0   \n",
       "7278               4.0            4.0            0                 19.0   \n",
       "64959              2.0           10.0            0                  3.0   \n",
       "62902              3.0           18.0            0                 20.0   \n",
       "30486              5.0           17.0            0                 13.0   \n",
       "...                ...            ...          ...                  ...   \n",
       "62503             10.0           33.0            1                 26.0   \n",
       "12151              4.0            2.0            0                  9.0   \n",
       "80166              5.0           10.0            0                 28.0   \n",
       "52039             10.0           32.0            0                 50.0   \n",
       "30710              4.0           27.0            1                 21.0   \n",
       "\n",
       "       Num_of_Delayed_Payment  Changed_Credit_Limit  Num_Credit_Inquiries  \\\n",
       "27438                    12.0                     1                   2.0   \n",
       "7278                     19.0                     0                   5.0   \n",
       "64959                    12.0                     0                   6.0   \n",
       "62902                    15.0                     1                   5.0   \n",
       "30486                    15.0                     0                   1.0   \n",
       "...                       ...                   ...                   ...   \n",
       "62503                    19.0                     1                   8.0   \n",
       "12151                     9.0                     0                   7.0   \n",
       "80166                    11.0                     0                   4.0   \n",
       "52039                    15.0                     1                  11.0   \n",
       "30710                    14.0                     0                   9.0   \n",
       "\n",
       "       Credit_Mix  Outstanding_Debt  Credit_Utilization_Ratio  \\\n",
       "27438           1         27.795863                 36.917234   \n",
       "7278            1         29.789931                 37.337532   \n",
       "64959           2         18.254041                 25.765184   \n",
       "62902           1         46.407542                 38.319145   \n",
       "30486           1         16.420414                 38.945590   \n",
       "...           ...               ...                       ...   \n",
       "62503           0         54.741209                 34.096973   \n",
       "12151           2         18.267457                 34.535877   \n",
       "80166           2         23.526581                 33.561925   \n",
       "52039           0         47.218534                 35.497072   \n",
       "30710           1         43.347780                 30.258879   \n",
       "\n",
       "       Credit_History_Age  Payment_of_Min_Amount  Total_EMI_per_month  \\\n",
       "27438                   1                      2           164.995629   \n",
       "7278                    1                      1             0.000000   \n",
       "64959                   1                      1           397.686069   \n",
       "62902                   1                      2           152.105906   \n",
       "30486                   1                      1           172.346551   \n",
       "...                   ...                    ...                  ...   \n",
       "62503                   0                      2           299.011120   \n",
       "12151                   1                      1            44.477372   \n",
       "80166                   1                      1            59.880780   \n",
       "52039                   0                      2            25.160458   \n",
       "30710                   1                      2            49.266307   \n",
       "\n",
       "       Amount_invested_monthly  Payment_Behaviour  Monthly_Balance  \n",
       "27438                22.084241                  0       469.031974  \n",
       "7278                 65.257258                  5       362.411174  \n",
       "64959               108.724001                  2       277.740051  \n",
       "62902                72.518367                  1       500.353886  \n",
       "30486                55.471201                  1       659.193526  \n",
       "...                        ...                ...              ...  \n",
       "62503                89.405147                  1       282.807673  \n",
       "12151                59.665975                  4       344.817774  \n",
       "80166                65.660468                  1       419.981242  \n",
       "52039                41.361965                  1       313.059781  \n",
       "30710                27.269877                  5       226.845716  \n",
       "\n",
       "[25000 rows x 21 columns]"
      ],
      "text/html": [
       "\n",
       "  <div id=\"df-d309f08c-f6c2-40b3-a552-88f670398769\">\n",
       "    <div class=\"colab-df-container\">\n",
       "      <div>\n",
       "<style scoped>\n",
       "    .dataframe tbody tr th:only-of-type {\n",
       "        vertical-align: middle;\n",
       "    }\n",
       "\n",
       "    .dataframe tbody tr th {\n",
       "        vertical-align: top;\n",
       "    }\n",
       "\n",
       "    .dataframe thead th {\n",
       "        text-align: right;\n",
       "    }\n",
       "</style>\n",
       "<table border=\"1\" class=\"dataframe\">\n",
       "  <thead>\n",
       "    <tr style=\"text-align: right;\">\n",
       "      <th></th>\n",
       "      <th>Customer_ID</th>\n",
       "      <th>Month</th>\n",
       "      <th>Age</th>\n",
       "      <th>Monthly_Inhand_Salary</th>\n",
       "      <th>Num_Bank_Accounts</th>\n",
       "      <th>Num_Credit_Card</th>\n",
       "      <th>Interest_Rate</th>\n",
       "      <th>Num_of_Loan</th>\n",
       "      <th>Delay_from_due_date</th>\n",
       "      <th>Num_of_Delayed_Payment</th>\n",
       "      <th>Changed_Credit_Limit</th>\n",
       "      <th>Num_Credit_Inquiries</th>\n",
       "      <th>Credit_Mix</th>\n",
       "      <th>Outstanding_Debt</th>\n",
       "      <th>Credit_Utilization_Ratio</th>\n",
       "      <th>Credit_History_Age</th>\n",
       "      <th>Payment_of_Min_Amount</th>\n",
       "      <th>Total_EMI_per_month</th>\n",
       "      <th>Amount_invested_monthly</th>\n",
       "      <th>Payment_Behaviour</th>\n",
       "      <th>Monthly_Balance</th>\n",
       "    </tr>\n",
       "  </thead>\n",
       "  <tbody>\n",
       "    <tr>\n",
       "      <th>27438</th>\n",
       "      <td>5848</td>\n",
       "      <td>7</td>\n",
       "      <td>2</td>\n",
       "      <td>7.968440</td>\n",
       "      <td>5.0</td>\n",
       "      <td>6.0</td>\n",
       "      <td>19.0</td>\n",
       "      <td>0</td>\n",
       "      <td>8.0</td>\n",
       "      <td>12.0</td>\n",
       "      <td>1</td>\n",
       "      <td>2.0</td>\n",
       "      <td>1</td>\n",
       "      <td>27.795863</td>\n",
       "      <td>36.917234</td>\n",
       "      <td>1</td>\n",
       "      <td>2</td>\n",
       "      <td>164.995629</td>\n",
       "      <td>22.084241</td>\n",
       "      <td>0</td>\n",
       "      <td>469.031974</td>\n",
       "    </tr>\n",
       "    <tr>\n",
       "      <th>7278</th>\n",
       "      <td>10086</td>\n",
       "      <td>7</td>\n",
       "      <td>1</td>\n",
       "      <td>8.100467</td>\n",
       "      <td>3.0</td>\n",
       "      <td>4.0</td>\n",
       "      <td>4.0</td>\n",
       "      <td>0</td>\n",
       "      <td>19.0</td>\n",
       "      <td>19.0</td>\n",
       "      <td>0</td>\n",
       "      <td>5.0</td>\n",
       "      <td>1</td>\n",
       "      <td>29.789931</td>\n",
       "      <td>37.337532</td>\n",
       "      <td>1</td>\n",
       "      <td>1</td>\n",
       "      <td>0.000000</td>\n",
       "      <td>65.257258</td>\n",
       "      <td>5</td>\n",
       "      <td>362.411174</td>\n",
       "    </tr>\n",
       "    <tr>\n",
       "      <th>64959</th>\n",
       "      <td>5735</td>\n",
       "      <td>8</td>\n",
       "      <td>1</td>\n",
       "      <td>9.221381</td>\n",
       "      <td>5.0</td>\n",
       "      <td>2.0</td>\n",
       "      <td>10.0</td>\n",
       "      <td>0</td>\n",
       "      <td>3.0</td>\n",
       "      <td>12.0</td>\n",
       "      <td>0</td>\n",
       "      <td>6.0</td>\n",
       "      <td>2</td>\n",
       "      <td>18.254041</td>\n",
       "      <td>25.765184</td>\n",
       "      <td>1</td>\n",
       "      <td>1</td>\n",
       "      <td>397.686069</td>\n",
       "      <td>108.724001</td>\n",
       "      <td>2</td>\n",
       "      <td>277.740051</td>\n",
       "    </tr>\n",
       "    <tr>\n",
       "      <th>62902</th>\n",
       "      <td>4896</td>\n",
       "      <td>7</td>\n",
       "      <td>0</td>\n",
       "      <td>8.608042</td>\n",
       "      <td>5.0</td>\n",
       "      <td>3.0</td>\n",
       "      <td>18.0</td>\n",
       "      <td>0</td>\n",
       "      <td>20.0</td>\n",
       "      <td>15.0</td>\n",
       "      <td>1</td>\n",
       "      <td>5.0</td>\n",
       "      <td>1</td>\n",
       "      <td>46.407542</td>\n",
       "      <td>38.319145</td>\n",
       "      <td>1</td>\n",
       "      <td>2</td>\n",
       "      <td>152.105906</td>\n",
       "      <td>72.518367</td>\n",
       "      <td>1</td>\n",
       "      <td>500.353886</td>\n",
       "    </tr>\n",
       "    <tr>\n",
       "      <th>30486</th>\n",
       "      <td>2538</td>\n",
       "      <td>7</td>\n",
       "      <td>0</td>\n",
       "      <td>8.864427</td>\n",
       "      <td>7.0</td>\n",
       "      <td>5.0</td>\n",
       "      <td>17.0</td>\n",
       "      <td>0</td>\n",
       "      <td>13.0</td>\n",
       "      <td>15.0</td>\n",
       "      <td>0</td>\n",
       "      <td>1.0</td>\n",
       "      <td>1</td>\n",
       "      <td>16.420414</td>\n",
       "      <td>38.945590</td>\n",
       "      <td>1</td>\n",
       "      <td>1</td>\n",
       "      <td>172.346551</td>\n",
       "      <td>55.471201</td>\n",
       "      <td>1</td>\n",
       "      <td>659.193526</td>\n",
       "    </tr>\n",
       "    <tr>\n",
       "      <th>...</th>\n",
       "      <td>...</td>\n",
       "      <td>...</td>\n",
       "      <td>...</td>\n",
       "      <td>...</td>\n",
       "      <td>...</td>\n",
       "      <td>...</td>\n",
       "      <td>...</td>\n",
       "      <td>...</td>\n",
       "      <td>...</td>\n",
       "      <td>...</td>\n",
       "      <td>...</td>\n",
       "      <td>...</td>\n",
       "      <td>...</td>\n",
       "      <td>...</td>\n",
       "      <td>...</td>\n",
       "      <td>...</td>\n",
       "      <td>...</td>\n",
       "      <td>...</td>\n",
       "      <td>...</td>\n",
       "      <td>...</td>\n",
       "      <td>...</td>\n",
       "    </tr>\n",
       "    <tr>\n",
       "      <th>62503</th>\n",
       "      <td>1742</td>\n",
       "      <td>8</td>\n",
       "      <td>0</td>\n",
       "      <td>8.572229</td>\n",
       "      <td>9.0</td>\n",
       "      <td>10.0</td>\n",
       "      <td>33.0</td>\n",
       "      <td>1</td>\n",
       "      <td>26.0</td>\n",
       "      <td>19.0</td>\n",
       "      <td>1</td>\n",
       "      <td>8.0</td>\n",
       "      <td>0</td>\n",
       "      <td>54.741209</td>\n",
       "      <td>34.096973</td>\n",
       "      <td>0</td>\n",
       "      <td>2</td>\n",
       "      <td>299.011120</td>\n",
       "      <td>89.405147</td>\n",
       "      <td>1</td>\n",
       "      <td>282.807673</td>\n",
       "    </tr>\n",
       "    <tr>\n",
       "      <th>12151</th>\n",
       "      <td>7491</td>\n",
       "      <td>8</td>\n",
       "      <td>1</td>\n",
       "      <td>8.096612</td>\n",
       "      <td>5.0</td>\n",
       "      <td>4.0</td>\n",
       "      <td>2.0</td>\n",
       "      <td>0</td>\n",
       "      <td>9.0</td>\n",
       "      <td>9.0</td>\n",
       "      <td>0</td>\n",
       "      <td>7.0</td>\n",
       "      <td>2</td>\n",
       "      <td>18.267457</td>\n",
       "      <td>34.535877</td>\n",
       "      <td>1</td>\n",
       "      <td>1</td>\n",
       "      <td>44.477372</td>\n",
       "      <td>59.665975</td>\n",
       "      <td>4</td>\n",
       "      <td>344.817774</td>\n",
       "    </tr>\n",
       "    <tr>\n",
       "      <th>80166</th>\n",
       "      <td>2490</td>\n",
       "      <td>7</td>\n",
       "      <td>1</td>\n",
       "      <td>7.999625</td>\n",
       "      <td>2.0</td>\n",
       "      <td>5.0</td>\n",
       "      <td>10.0</td>\n",
       "      <td>0</td>\n",
       "      <td>28.0</td>\n",
       "      <td>11.0</td>\n",
       "      <td>0</td>\n",
       "      <td>4.0</td>\n",
       "      <td>2</td>\n",
       "      <td>23.526581</td>\n",
       "      <td>33.561925</td>\n",
       "      <td>1</td>\n",
       "      <td>1</td>\n",
       "      <td>59.880780</td>\n",
       "      <td>65.660468</td>\n",
       "      <td>1</td>\n",
       "      <td>419.981242</td>\n",
       "    </tr>\n",
       "    <tr>\n",
       "      <th>52039</th>\n",
       "      <td>3690</td>\n",
       "      <td>8</td>\n",
       "      <td>1</td>\n",
       "      <td>7.283544</td>\n",
       "      <td>9.0</td>\n",
       "      <td>10.0</td>\n",
       "      <td>32.0</td>\n",
       "      <td>0</td>\n",
       "      <td>50.0</td>\n",
       "      <td>15.0</td>\n",
       "      <td>1</td>\n",
       "      <td>11.0</td>\n",
       "      <td>0</td>\n",
       "      <td>47.218534</td>\n",
       "      <td>35.497072</td>\n",
       "      <td>0</td>\n",
       "      <td>2</td>\n",
       "      <td>25.160458</td>\n",
       "      <td>41.361965</td>\n",
       "      <td>1</td>\n",
       "      <td>313.059781</td>\n",
       "    </tr>\n",
       "    <tr>\n",
       "      <th>30710</th>\n",
       "      <td>4518</td>\n",
       "      <td>7</td>\n",
       "      <td>1</td>\n",
       "      <td>6.662900</td>\n",
       "      <td>3.0</td>\n",
       "      <td>4.0</td>\n",
       "      <td>27.0</td>\n",
       "      <td>1</td>\n",
       "      <td>21.0</td>\n",
       "      <td>14.0</td>\n",
       "      <td>0</td>\n",
       "      <td>9.0</td>\n",
       "      <td>1</td>\n",
       "      <td>43.347780</td>\n",
       "      <td>30.258879</td>\n",
       "      <td>1</td>\n",
       "      <td>2</td>\n",
       "      <td>49.266307</td>\n",
       "      <td>27.269877</td>\n",
       "      <td>5</td>\n",
       "      <td>226.845716</td>\n",
       "    </tr>\n",
       "  </tbody>\n",
       "</table>\n",
       "<p>25000 rows × 21 columns</p>\n",
       "</div>\n",
       "      <button class=\"colab-df-convert\" onclick=\"convertToInteractive('df-d309f08c-f6c2-40b3-a552-88f670398769')\"\n",
       "              title=\"Convert this dataframe to an interactive table.\"\n",
       "              style=\"display:none;\">\n",
       "        \n",
       "  <svg xmlns=\"http://www.w3.org/2000/svg\" height=\"24px\"viewBox=\"0 0 24 24\"\n",
       "       width=\"24px\">\n",
       "    <path d=\"M0 0h24v24H0V0z\" fill=\"none\"/>\n",
       "    <path d=\"M18.56 5.44l.94 2.06.94-2.06 2.06-.94-2.06-.94-.94-2.06-.94 2.06-2.06.94zm-11 1L8.5 8.5l.94-2.06 2.06-.94-2.06-.94L8.5 2.5l-.94 2.06-2.06.94zm10 10l.94 2.06.94-2.06 2.06-.94-2.06-.94-.94-2.06-.94 2.06-2.06.94z\"/><path d=\"M17.41 7.96l-1.37-1.37c-.4-.4-.92-.59-1.43-.59-.52 0-1.04.2-1.43.59L10.3 9.45l-7.72 7.72c-.78.78-.78 2.05 0 2.83L4 21.41c.39.39.9.59 1.41.59.51 0 1.02-.2 1.41-.59l7.78-7.78 2.81-2.81c.8-.78.8-2.07 0-2.86zM5.41 20L4 18.59l7.72-7.72 1.47 1.35L5.41 20z\"/>\n",
       "  </svg>\n",
       "      </button>\n",
       "      \n",
       "  <style>\n",
       "    .colab-df-container {\n",
       "      display:flex;\n",
       "      flex-wrap:wrap;\n",
       "      gap: 12px;\n",
       "    }\n",
       "\n",
       "    .colab-df-convert {\n",
       "      background-color: #E8F0FE;\n",
       "      border: none;\n",
       "      border-radius: 50%;\n",
       "      cursor: pointer;\n",
       "      display: none;\n",
       "      fill: #1967D2;\n",
       "      height: 32px;\n",
       "      padding: 0 0 0 0;\n",
       "      width: 32px;\n",
       "    }\n",
       "\n",
       "    .colab-df-convert:hover {\n",
       "      background-color: #E2EBFA;\n",
       "      box-shadow: 0px 1px 2px rgba(60, 64, 67, 0.3), 0px 1px 3px 1px rgba(60, 64, 67, 0.15);\n",
       "      fill: #174EA6;\n",
       "    }\n",
       "\n",
       "    [theme=dark] .colab-df-convert {\n",
       "      background-color: #3B4455;\n",
       "      fill: #D2E3FC;\n",
       "    }\n",
       "\n",
       "    [theme=dark] .colab-df-convert:hover {\n",
       "      background-color: #434B5C;\n",
       "      box-shadow: 0px 1px 3px 1px rgba(0, 0, 0, 0.15);\n",
       "      filter: drop-shadow(0px 1px 2px rgba(0, 0, 0, 0.3));\n",
       "      fill: #FFFFFF;\n",
       "    }\n",
       "  </style>\n",
       "\n",
       "      <script>\n",
       "        const buttonEl =\n",
       "          document.querySelector('#df-d309f08c-f6c2-40b3-a552-88f670398769 button.colab-df-convert');\n",
       "        buttonEl.style.display =\n",
       "          google.colab.kernel.accessAllowed ? 'block' : 'none';\n",
       "\n",
       "        async function convertToInteractive(key) {\n",
       "          const element = document.querySelector('#df-d309f08c-f6c2-40b3-a552-88f670398769');\n",
       "          const dataTable =\n",
       "            await google.colab.kernel.invokeFunction('convertToInteractive',\n",
       "                                                     [key], {});\n",
       "          if (!dataTable) return;\n",
       "\n",
       "          const docLinkHtml = 'Like what you see? Visit the ' +\n",
       "            '<a target=\"_blank\" href=https://colab.research.google.com/notebooks/data_table.ipynb>data table notebook</a>'\n",
       "            + ' to learn more about interactive tables.';\n",
       "          element.innerHTML = '';\n",
       "          dataTable['output_type'] = 'display_data';\n",
       "          await google.colab.output.renderOutput(dataTable, element);\n",
       "          const docLink = document.createElement('div');\n",
       "          docLink.innerHTML = docLinkHtml;\n",
       "          element.appendChild(docLink);\n",
       "        }\n",
       "      </script>\n",
       "    </div>\n",
       "  </div>\n",
       "  "
      ]
     },
     "metadata": {},
     "execution_count": 345
    }
   ]
  },
  {
   "cell_type": "code",
   "source": [
    "y_valid"
   ],
   "metadata": {
    "colab": {
     "base_uri": "https://localhost:8080/"
    },
    "id": "O6JAYZIjP4j9",
    "outputId": "3bd36123-a915-4baa-d972-8d174f79d3e5"
   },
   "execution_count": null,
   "outputs": [
    {
     "output_type": "execute_result",
     "data": {
      "text/plain": [
       "27438    2\n",
       "7278     0\n",
       "64959    2\n",
       "62902    1\n",
       "30486    1\n",
       "        ..\n",
       "62503    1\n",
       "12151    2\n",
       "80166    1\n",
       "52039    0\n",
       "30710    0\n",
       "Name: Credit_Score, Length: 25000, dtype: int64"
      ]
     },
     "metadata": {},
     "execution_count": 346
    }
   ]
  },
  {
   "cell_type": "code",
   "source": [],
   "metadata": {
    "id": "mKR6-c2mP5CF"
   },
   "execution_count": null,
   "outputs": []
  }
 ]
}
