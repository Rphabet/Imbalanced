{
 "cells": [
  {
   "cell_type": "markdown",
   "source": [
    "# Simple Data Processing and Vanilla Model of Credit Scores"
   ],
   "metadata": {
    "collapsed": false
   }
  },
  {
   "cell_type": "markdown",
   "source": [
    "## 1. Load Relevant Libraries"
   ],
   "metadata": {
    "collapsed": false
   }
  },
  {
   "cell_type": "code",
   "execution_count": 1,
   "outputs": [],
   "source": [
    "import numpy as np\n",
    "import pandas as pd"
   ],
   "metadata": {
    "collapsed": false
   }
  },
  {
   "cell_type": "markdown",
   "source": [
    "## 2. Data Loading and Column investigation\n"
   ],
   "metadata": {
    "collapsed": false
   }
  },
  {
   "cell_type": "code",
   "execution_count": 2,
   "outputs": [
    {
     "name": "stdout",
     "output_type": "stream",
     "text": [
      "(100000, 28)\n",
      "(100000, 28)\n"
     ]
    }
   ],
   "source": [
    "# 파일 경로 표\n",
    "FILE_DIR = './cleaned_train.csv'\n",
    "#전처리 없는 원본 데이터\n",
    "raw_df = pd.read_csv(FILE_DIR)\n",
    "\n",
    "#전처리 하고, 학습을 위한 데이터\n",
    "train_df = pd.read_csv(FILE_DIR)\n",
    "\n",
    "print(raw_df.shape)\n",
    "print(train_df.shape)"
   ],
   "metadata": {
    "collapsed": false
   }
  },
  {
   "cell_type": "code",
   "execution_count": 3,
   "outputs": [
    {
     "data": {
      "text/plain": "['ID',\n 'Customer_ID',\n 'Month',\n 'Name',\n 'Age',\n 'SSN',\n 'Occupation',\n 'Annual_Income',\n 'Monthly_Inhand_Salary',\n 'Num_Bank_Accounts',\n 'Num_Credit_Card',\n 'Interest_Rate',\n 'Num_of_Loan',\n 'Type_of_Loan',\n 'Delay_from_due_date',\n 'Num_of_Delayed_Payment',\n 'Changed_Credit_Limit',\n 'Num_Credit_Inquiries',\n 'Credit_Mix',\n 'Outstanding_Debt',\n 'Credit_Utilization_Ratio',\n 'Credit_History_Age',\n 'Payment_of_Min_Amount',\n 'Total_EMI_per_month',\n 'Amount_invested_monthly',\n 'Payment_Behaviour',\n 'Monthly_Balance',\n 'Credit_Score']"
     },
     "execution_count": 3,
     "metadata": {},
     "output_type": "execute_result"
    }
   ],
   "source": [
    "# 전처리 이전 모든 Feature\n",
    "raw_cols = list(raw_df.columns)\n",
    "raw_cols"
   ],
   "metadata": {
    "collapsed": false
   }
  },
  {
   "cell_type": "code",
   "execution_count": 12,
   "outputs": [],
   "source": [
    "# 라벨 인코딩 대상 Feature\n",
    "label_cols = [\n",
    "    'Customer_ID',\n",
    "    'Payment_of_Min_Amount',\n",
    "    'Payment_Behaviour', # 라벨인코딩 또는 순서대로 대치\n",
    "]\n",
    "\n",
    "# 삭제 대상 Feature\n",
    "drop_cols =[\n",
    "    'ID',\n",
    "    'Name',\n",
    "    'SSN',\n",
    "    'Occupation',\n",
    "    'Annual_Income',\n",
    "    'Type_of_Loan']\n",
    "\n",
    "# 더미생성을 위한 Featue\n",
    "dummy_cols = [\n",
    "    'Num_of_Loan',             # 5 기준\n",
    "    'Changed_Credit_Limit',    # 12기준\n",
    "    'Credit_History_Age',      # 180 기준\n",
    "]\n",
    "\n",
    "# 로그변환 대상 Feature\n",
    "log_scale_cols = [\n",
    "    'Monthly_Inhand_Salary'\n",
    "]\n",
    "\n",
    "# sqrt 변환을 위한 Feature\n",
    "sqrt_scale_cols = [\n",
    "    'Outstanding_Debt'\n",
    "]\n",
    "\n",
    "#정규화를 위한 feature\n",
    "standard_cols =[\n",
    "\n",
    "]\n",
    "\n",
    "#원핫인코딩 대상 feature\n",
    "onehot_cols =[\n",
    "\n",
    "]\n",
    "\n",
    "#PCA 대상 Feature\n",
    "pca_cols = [\n",
    "\n",
    "]\n",
    "\n",
    "# Feature 특징을 고려한 개별 전처리\n",
    "others_cols =[\n",
    "    'Age', # 특정 숫자 기준으로 구간화\n",
    "    'Credit_Mix', # Bad 0, Standard 1 , Good 2\n",
    "    'Credit_Score', # Poor 0 , Standard 1, Good 2로 대치\n",
    "]\n",
    "\n",
    "\n",
    "\n",
    "#전처리 없는 Feature\n",
    "processless_cols = (set(raw_cols) - set(label_cols) - set(dummy_cols) - set(drop_cols)\n",
    "                    - set(log_scale_cols) - set(sqrt_scale_cols) - set(others_cols)\n",
    "                    -set(pca_cols) - set(standard_cols) - set(onehot_cols))\n",
    "processless_cols = list(processless_cols)"
   ],
   "metadata": {
    "collapsed": false
   }
  },
  {
   "cell_type": "code",
   "execution_count": 13,
   "outputs": [
    {
     "name": "stdout",
     "output_type": "stream",
     "text": [
      "['Num_Bank_Accounts', 'Num_Credit_Inquiries', 'Amount_invested_monthly', 'Monthly_Balance', 'Delay_from_due_date', 'Num_of_Delayed_Payment', 'Total_EMI_per_month', 'Credit_Utilization_Ratio', 'Num_Credit_Card', 'Interest_Rate', 'Month']\n"
     ]
    }
   ],
   "source": [
    "print(processless_cols)"
   ],
   "metadata": {
    "collapsed": false
   }
  },
  {
   "cell_type": "markdown",
   "source": [
    "## 3. Drop Irrelevant Columns"
   ],
   "metadata": {
    "collapsed": false
   }
  },
  {
   "cell_type": "code",
   "execution_count": 6,
   "outputs": [],
   "source": [
    "def drop_do(cols,input_data):\n",
    "    \"\"\"\n",
    "    feature 삭제를 위한 code\n",
    "    param:\n",
    "      cols : 삭제 대상 feature\n",
    "      input_data : 삭제전 전체 데이터\n",
    "\n",
    "    return : 전체 데이터에서 삭제 대상 feture 삭제후 결과\n",
    "    \"\"\"\n",
    "    data = input_data.copy()\n",
    "\n",
    "    return data.drop(cols,axis=1)"
   ],
   "metadata": {
    "collapsed": false
   }
  },
  {
   "cell_type": "code",
   "execution_count": 8,
   "outputs": [
    {
     "data": {
      "text/plain": "((100000, 28), (100000, 22))"
     },
     "execution_count": 8,
     "metadata": {},
     "output_type": "execute_result"
    }
   ],
   "source": [
    "# 2.2 drop\n",
    "# raw 데이터 기준에서 제거\n",
    "\n",
    "train_df = drop_do(drop_cols, raw_df)\n",
    "\n",
    "raw_df.shape, train_df.shape"
   ],
   "metadata": {
    "collapsed": false
   }
  },
  {
   "cell_type": "markdown",
   "source": [
    "## 4. Encoding"
   ],
   "metadata": {
    "collapsed": false
   }
  },
  {
   "cell_type": "markdown",
   "source": [
    "### 4-1. Label Encoding"
   ],
   "metadata": {
    "collapsed": false
   }
  },
  {
   "cell_type": "code",
   "execution_count": 14,
   "outputs": [],
   "source": [
    "from sklearn.preprocessing import LabelEncoder\n",
    "\n",
    "def label_encoding_do(cols,input_data):\n",
    "    \"\"\"\n",
    "    라벨 인코딩을 위한 함수\n",
    "    param :\n",
    "    cols : 라벨인코딩 대상 feture\n",
    "    data : 전처리를 위한 데이터\n",
    "\n",
    "    return : 전체 데이터에서 대상 특징만 라벨인코딩 한 결과\n",
    "    \"\"\"\n",
    "\n",
    "    data = input_data.copy()\n",
    "\n",
    "    #라벨인코더 객체 생성\n",
    "\n",
    "\n",
    "    #라벨인코딩 대상 Feature 하나씩 처리\n",
    "    for col in cols:\n",
    "        encoder = LabelEncoder()\n",
    "        data[col] = encoder.fit_transform(data[col])\n",
    "\n",
    "    return data"
   ],
   "metadata": {
    "collapsed": false
   }
  },
  {
   "cell_type": "code",
   "execution_count": 15,
   "outputs": [
    {
     "name": "stdout",
     "output_type": "stream",
     "text": [
      "라벨인코딩 전\n",
      "   Customer_ID Payment_of_Min_Amount                 Payment_Behaviour\n",
      "0         3392                    No   High_spent_Small_value_payments\n",
      "1         3392                    No    Low_spent_Large_value_payments\n",
      "2         3392                    No   Low_spent_Medium_value_payments\n",
      "3         3392                    No    Low_spent_Small_value_payments\n",
      "4         3392                    No  High_spent_Medium_value_payments\n",
      "\n",
      "라벨인코딩 후\n",
      "   Customer_ID  Payment_of_Min_Amount  Payment_Behaviour\n",
      "0          576                      1                  2\n",
      "1          576                      1                  3\n",
      "2          576                      1                  4\n",
      "3          576                      1                  5\n",
      "4          576                      1                  1\n"
     ]
    }
   ],
   "source": [
    "#2.3 라벨인코딩\n",
    "train_df = label_encoding_do(label_cols,train_df)\n",
    "\n",
    "print('라벨인코딩 전')\n",
    "print(raw_df[label_cols].head())\n",
    "print('\\n라벨인코딩 후')\n",
    "print(train_df[label_cols].head())"
   ],
   "metadata": {
    "collapsed": false
   }
  },
  {
   "cell_type": "code",
   "execution_count": 16,
   "outputs": [
    {
     "data": {
      "text/plain": "       Customer_ID  Month   Age  Monthly_Inhand_Salary  Num_Bank_Accounts  \\\n0              576      1  23.0            1824.843333                3.0   \n1              576      2  23.0            1824.843333                3.0   \n2              576      3  23.0            1824.843333                3.0   \n3              576      4  23.0            1824.843333                3.0   \n4              576      5  23.0            1824.843333                3.0   \n...            ...    ...   ...                    ...                ...   \n99995         9254      4  25.0            3359.415833                4.0   \n99996         9254      5  25.0            3359.415833                4.0   \n99997         9254      6  25.0            3359.415833                4.0   \n99998         9254      7  25.0            3359.415833                4.0   \n99999         9254      8  25.0            3359.415833                4.0   \n\n       Num_Credit_Card  Interest_Rate  Num_of_Loan  Delay_from_due_date  \\\n0                  4.0            3.0          4.0                  3.0   \n1                  4.0            3.0          4.0                  3.0   \n2                  4.0            3.0          4.0                  3.0   \n3                  4.0            3.0          4.0                  5.0   \n4                  4.0            3.0          4.0                  6.0   \n...                ...            ...          ...                  ...   \n99995              6.0            7.0          2.0                 23.0   \n99996              6.0            7.0          2.0                 18.0   \n99997              6.0            7.0          2.0                 27.0   \n99998              6.0            7.0          2.0                 20.0   \n99999              6.0            7.0          2.0                 18.0   \n\n       Num_of_Delayed_Payment  ...  Credit_Mix  Outstanding_Debt  \\\n0                         7.0  ...        Good            809.98   \n1                         4.0  ...        Good            809.98   \n2                         7.0  ...        Good            809.98   \n3                         4.0  ...        Good            809.98   \n4                         4.0  ...        Good            809.98   \n...                       ...  ...         ...               ...   \n99995                     7.0  ...        Good            502.38   \n99996                     7.0  ...        Good            502.38   \n99997                     6.0  ...        Good            502.38   \n99998                     6.0  ...        Good            502.38   \n99999                     6.0  ...        Good            502.38   \n\n      Credit_Utilization_Ratio  Credit_History_Age  Payment_of_Min_Amount  \\\n0                    26.822620               265.0                      1   \n1                    31.944960               266.0                      1   \n2                    28.609352               267.0                      1   \n3                    31.377862               268.0                      1   \n4                    24.797347               269.0                      1   \n...                        ...                 ...                    ...   \n99995                34.663572               378.0                      1   \n99996                40.565631               379.0                      1   \n99997                41.255522               380.0                      1   \n99998                33.638208               381.0                      1   \n99999                34.192463               382.0                      1   \n\n       Total_EMI_per_month  Amount_invested_monthly  Payment_Behaviour  \\\n0                49.574949                21.465380                  2   \n1                49.574949                21.465380                  3   \n2                49.574949                21.465380                  4   \n3                49.574949                21.465380                  5   \n4                49.574949                21.465380                  1   \n...                    ...                      ...                ...   \n99995            35.104023                24.028477                  0   \n99996            35.104023                24.028477                  1   \n99997            35.104023                24.028477                  0   \n99998            35.104023                24.028477                  3   \n99999            35.104023                24.028477                  1   \n\n       Monthly_Balance  Credit_Score  \n0           312.494089          Good  \n1           284.629162          Good  \n2           331.209863          Good  \n3           223.451310          Good  \n4           341.489231          Good  \n...                ...           ...  \n99995       479.866228          Poor  \n99996       496.651610          Poor  \n99997       516.809083          Poor  \n99998       319.164979      Standard  \n99999       393.673696          Poor  \n\n[100000 rows x 22 columns]",
      "text/html": "<div>\n<style scoped>\n    .dataframe tbody tr th:only-of-type {\n        vertical-align: middle;\n    }\n\n    .dataframe tbody tr th {\n        vertical-align: top;\n    }\n\n    .dataframe thead th {\n        text-align: right;\n    }\n</style>\n<table border=\"1\" class=\"dataframe\">\n  <thead>\n    <tr style=\"text-align: right;\">\n      <th></th>\n      <th>Customer_ID</th>\n      <th>Month</th>\n      <th>Age</th>\n      <th>Monthly_Inhand_Salary</th>\n      <th>Num_Bank_Accounts</th>\n      <th>Num_Credit_Card</th>\n      <th>Interest_Rate</th>\n      <th>Num_of_Loan</th>\n      <th>Delay_from_due_date</th>\n      <th>Num_of_Delayed_Payment</th>\n      <th>...</th>\n      <th>Credit_Mix</th>\n      <th>Outstanding_Debt</th>\n      <th>Credit_Utilization_Ratio</th>\n      <th>Credit_History_Age</th>\n      <th>Payment_of_Min_Amount</th>\n      <th>Total_EMI_per_month</th>\n      <th>Amount_invested_monthly</th>\n      <th>Payment_Behaviour</th>\n      <th>Monthly_Balance</th>\n      <th>Credit_Score</th>\n    </tr>\n  </thead>\n  <tbody>\n    <tr>\n      <th>0</th>\n      <td>576</td>\n      <td>1</td>\n      <td>23.0</td>\n      <td>1824.843333</td>\n      <td>3.0</td>\n      <td>4.0</td>\n      <td>3.0</td>\n      <td>4.0</td>\n      <td>3.0</td>\n      <td>7.0</td>\n      <td>...</td>\n      <td>Good</td>\n      <td>809.98</td>\n      <td>26.822620</td>\n      <td>265.0</td>\n      <td>1</td>\n      <td>49.574949</td>\n      <td>21.465380</td>\n      <td>2</td>\n      <td>312.494089</td>\n      <td>Good</td>\n    </tr>\n    <tr>\n      <th>1</th>\n      <td>576</td>\n      <td>2</td>\n      <td>23.0</td>\n      <td>1824.843333</td>\n      <td>3.0</td>\n      <td>4.0</td>\n      <td>3.0</td>\n      <td>4.0</td>\n      <td>3.0</td>\n      <td>4.0</td>\n      <td>...</td>\n      <td>Good</td>\n      <td>809.98</td>\n      <td>31.944960</td>\n      <td>266.0</td>\n      <td>1</td>\n      <td>49.574949</td>\n      <td>21.465380</td>\n      <td>3</td>\n      <td>284.629162</td>\n      <td>Good</td>\n    </tr>\n    <tr>\n      <th>2</th>\n      <td>576</td>\n      <td>3</td>\n      <td>23.0</td>\n      <td>1824.843333</td>\n      <td>3.0</td>\n      <td>4.0</td>\n      <td>3.0</td>\n      <td>4.0</td>\n      <td>3.0</td>\n      <td>7.0</td>\n      <td>...</td>\n      <td>Good</td>\n      <td>809.98</td>\n      <td>28.609352</td>\n      <td>267.0</td>\n      <td>1</td>\n      <td>49.574949</td>\n      <td>21.465380</td>\n      <td>4</td>\n      <td>331.209863</td>\n      <td>Good</td>\n    </tr>\n    <tr>\n      <th>3</th>\n      <td>576</td>\n      <td>4</td>\n      <td>23.0</td>\n      <td>1824.843333</td>\n      <td>3.0</td>\n      <td>4.0</td>\n      <td>3.0</td>\n      <td>4.0</td>\n      <td>5.0</td>\n      <td>4.0</td>\n      <td>...</td>\n      <td>Good</td>\n      <td>809.98</td>\n      <td>31.377862</td>\n      <td>268.0</td>\n      <td>1</td>\n      <td>49.574949</td>\n      <td>21.465380</td>\n      <td>5</td>\n      <td>223.451310</td>\n      <td>Good</td>\n    </tr>\n    <tr>\n      <th>4</th>\n      <td>576</td>\n      <td>5</td>\n      <td>23.0</td>\n      <td>1824.843333</td>\n      <td>3.0</td>\n      <td>4.0</td>\n      <td>3.0</td>\n      <td>4.0</td>\n      <td>6.0</td>\n      <td>4.0</td>\n      <td>...</td>\n      <td>Good</td>\n      <td>809.98</td>\n      <td>24.797347</td>\n      <td>269.0</td>\n      <td>1</td>\n      <td>49.574949</td>\n      <td>21.465380</td>\n      <td>1</td>\n      <td>341.489231</td>\n      <td>Good</td>\n    </tr>\n    <tr>\n      <th>...</th>\n      <td>...</td>\n      <td>...</td>\n      <td>...</td>\n      <td>...</td>\n      <td>...</td>\n      <td>...</td>\n      <td>...</td>\n      <td>...</td>\n      <td>...</td>\n      <td>...</td>\n      <td>...</td>\n      <td>...</td>\n      <td>...</td>\n      <td>...</td>\n      <td>...</td>\n      <td>...</td>\n      <td>...</td>\n      <td>...</td>\n      <td>...</td>\n      <td>...</td>\n      <td>...</td>\n    </tr>\n    <tr>\n      <th>99995</th>\n      <td>9254</td>\n      <td>4</td>\n      <td>25.0</td>\n      <td>3359.415833</td>\n      <td>4.0</td>\n      <td>6.0</td>\n      <td>7.0</td>\n      <td>2.0</td>\n      <td>23.0</td>\n      <td>7.0</td>\n      <td>...</td>\n      <td>Good</td>\n      <td>502.38</td>\n      <td>34.663572</td>\n      <td>378.0</td>\n      <td>1</td>\n      <td>35.104023</td>\n      <td>24.028477</td>\n      <td>0</td>\n      <td>479.866228</td>\n      <td>Poor</td>\n    </tr>\n    <tr>\n      <th>99996</th>\n      <td>9254</td>\n      <td>5</td>\n      <td>25.0</td>\n      <td>3359.415833</td>\n      <td>4.0</td>\n      <td>6.0</td>\n      <td>7.0</td>\n      <td>2.0</td>\n      <td>18.0</td>\n      <td>7.0</td>\n      <td>...</td>\n      <td>Good</td>\n      <td>502.38</td>\n      <td>40.565631</td>\n      <td>379.0</td>\n      <td>1</td>\n      <td>35.104023</td>\n      <td>24.028477</td>\n      <td>1</td>\n      <td>496.651610</td>\n      <td>Poor</td>\n    </tr>\n    <tr>\n      <th>99997</th>\n      <td>9254</td>\n      <td>6</td>\n      <td>25.0</td>\n      <td>3359.415833</td>\n      <td>4.0</td>\n      <td>6.0</td>\n      <td>7.0</td>\n      <td>2.0</td>\n      <td>27.0</td>\n      <td>6.0</td>\n      <td>...</td>\n      <td>Good</td>\n      <td>502.38</td>\n      <td>41.255522</td>\n      <td>380.0</td>\n      <td>1</td>\n      <td>35.104023</td>\n      <td>24.028477</td>\n      <td>0</td>\n      <td>516.809083</td>\n      <td>Poor</td>\n    </tr>\n    <tr>\n      <th>99998</th>\n      <td>9254</td>\n      <td>7</td>\n      <td>25.0</td>\n      <td>3359.415833</td>\n      <td>4.0</td>\n      <td>6.0</td>\n      <td>7.0</td>\n      <td>2.0</td>\n      <td>20.0</td>\n      <td>6.0</td>\n      <td>...</td>\n      <td>Good</td>\n      <td>502.38</td>\n      <td>33.638208</td>\n      <td>381.0</td>\n      <td>1</td>\n      <td>35.104023</td>\n      <td>24.028477</td>\n      <td>3</td>\n      <td>319.164979</td>\n      <td>Standard</td>\n    </tr>\n    <tr>\n      <th>99999</th>\n      <td>9254</td>\n      <td>8</td>\n      <td>25.0</td>\n      <td>3359.415833</td>\n      <td>4.0</td>\n      <td>6.0</td>\n      <td>7.0</td>\n      <td>2.0</td>\n      <td>18.0</td>\n      <td>6.0</td>\n      <td>...</td>\n      <td>Good</td>\n      <td>502.38</td>\n      <td>34.192463</td>\n      <td>382.0</td>\n      <td>1</td>\n      <td>35.104023</td>\n      <td>24.028477</td>\n      <td>1</td>\n      <td>393.673696</td>\n      <td>Poor</td>\n    </tr>\n  </tbody>\n</table>\n<p>100000 rows × 22 columns</p>\n</div>"
     },
     "execution_count": 16,
     "metadata": {},
     "output_type": "execute_result"
    }
   ],
   "source": [
    "train_df"
   ],
   "metadata": {
    "collapsed": false
   }
  },
  {
   "cell_type": "code",
   "execution_count": null,
   "outputs": [],
   "source": [],
   "metadata": {
    "collapsed": false
   }
  },
  {
   "cell_type": "code",
   "execution_count": 17,
   "outputs": [],
   "source": [
    "def replace(df,col, replace_dictionary):\n",
    "    # apply를 위한 함수\n",
    "    dic = replace_dictionary\n",
    "    for key in dic:\n",
    "        if df[col] == key:\n",
    "            return dic[key]\n",
    "\n",
    "def replacement_do (col,input_data,replace_dictionary):\n",
    "    \"\"\"\n",
    "    원하는 값으로 대치하기 위한 함수\n",
    "    param:\n",
    "      col: 대상 feature\n",
    "      data: 원본데이터\n",
    "      replace_dictionary : 대치를 위한 조건 사전\n",
    "                          ex) {'Good':1, 'Standard':2, 'Bad':0}\n",
    "    \"\"\"\n",
    "\n",
    "    data = input_data.copy()\n",
    "\n",
    "    data[col] = data.apply(replace, axis=1,args=[col, replace_dictionary])\n",
    "\n",
    "    return data"
   ],
   "metadata": {
    "collapsed": false
   }
  },
  {
   "cell_type": "code",
   "execution_count": 18,
   "outputs": [],
   "source": [
    "train_df = replacement_do('Credit_Mix',train_df,{'Bad':0,'Standard':1,'Good':2})\n",
    "train_df = replacement_do('Credit_Score',train_df,{'Poor':0,'Standard':1,'Good':2})"
   ],
   "metadata": {
    "collapsed": false
   }
  },
  {
   "cell_type": "code",
   "execution_count": 19,
   "outputs": [
    {
     "data": {
      "text/plain": "       Customer_ID  Month   Age  Monthly_Inhand_Salary  Num_Bank_Accounts  \\\n0              576      1  23.0            1824.843333                3.0   \n1              576      2  23.0            1824.843333                3.0   \n2              576      3  23.0            1824.843333                3.0   \n3              576      4  23.0            1824.843333                3.0   \n4              576      5  23.0            1824.843333                3.0   \n...            ...    ...   ...                    ...                ...   \n99995         9254      4  25.0            3359.415833                4.0   \n99996         9254      5  25.0            3359.415833                4.0   \n99997         9254      6  25.0            3359.415833                4.0   \n99998         9254      7  25.0            3359.415833                4.0   \n99999         9254      8  25.0            3359.415833                4.0   \n\n       Num_Credit_Card  Interest_Rate  Num_of_Loan  Delay_from_due_date  \\\n0                  4.0            3.0          4.0                  3.0   \n1                  4.0            3.0          4.0                  3.0   \n2                  4.0            3.0          4.0                  3.0   \n3                  4.0            3.0          4.0                  5.0   \n4                  4.0            3.0          4.0                  6.0   \n...                ...            ...          ...                  ...   \n99995              6.0            7.0          2.0                 23.0   \n99996              6.0            7.0          2.0                 18.0   \n99997              6.0            7.0          2.0                 27.0   \n99998              6.0            7.0          2.0                 20.0   \n99999              6.0            7.0          2.0                 18.0   \n\n       Num_of_Delayed_Payment  ...  Credit_Mix  Outstanding_Debt  \\\n0                         7.0  ...           2            809.98   \n1                         4.0  ...           2            809.98   \n2                         7.0  ...           2            809.98   \n3                         4.0  ...           2            809.98   \n4                         4.0  ...           2            809.98   \n...                       ...  ...         ...               ...   \n99995                     7.0  ...           2            502.38   \n99996                     7.0  ...           2            502.38   \n99997                     6.0  ...           2            502.38   \n99998                     6.0  ...           2            502.38   \n99999                     6.0  ...           2            502.38   \n\n       Credit_Utilization_Ratio  Credit_History_Age  Payment_of_Min_Amount  \\\n0                     26.822620               265.0                      1   \n1                     31.944960               266.0                      1   \n2                     28.609352               267.0                      1   \n3                     31.377862               268.0                      1   \n4                     24.797347               269.0                      1   \n...                         ...                 ...                    ...   \n99995                 34.663572               378.0                      1   \n99996                 40.565631               379.0                      1   \n99997                 41.255522               380.0                      1   \n99998                 33.638208               381.0                      1   \n99999                 34.192463               382.0                      1   \n\n       Total_EMI_per_month  Amount_invested_monthly  Payment_Behaviour  \\\n0                49.574949                21.465380                  2   \n1                49.574949                21.465380                  3   \n2                49.574949                21.465380                  4   \n3                49.574949                21.465380                  5   \n4                49.574949                21.465380                  1   \n...                    ...                      ...                ...   \n99995            35.104023                24.028477                  0   \n99996            35.104023                24.028477                  1   \n99997            35.104023                24.028477                  0   \n99998            35.104023                24.028477                  3   \n99999            35.104023                24.028477                  1   \n\n       Monthly_Balance  Credit_Score  \n0           312.494089             2  \n1           284.629162             2  \n2           331.209863             2  \n3           223.451310             2  \n4           341.489231             2  \n...                ...           ...  \n99995       479.866228             0  \n99996       496.651610             0  \n99997       516.809083             0  \n99998       319.164979             1  \n99999       393.673696             0  \n\n[100000 rows x 22 columns]",
      "text/html": "<div>\n<style scoped>\n    .dataframe tbody tr th:only-of-type {\n        vertical-align: middle;\n    }\n\n    .dataframe tbody tr th {\n        vertical-align: top;\n    }\n\n    .dataframe thead th {\n        text-align: right;\n    }\n</style>\n<table border=\"1\" class=\"dataframe\">\n  <thead>\n    <tr style=\"text-align: right;\">\n      <th></th>\n      <th>Customer_ID</th>\n      <th>Month</th>\n      <th>Age</th>\n      <th>Monthly_Inhand_Salary</th>\n      <th>Num_Bank_Accounts</th>\n      <th>Num_Credit_Card</th>\n      <th>Interest_Rate</th>\n      <th>Num_of_Loan</th>\n      <th>Delay_from_due_date</th>\n      <th>Num_of_Delayed_Payment</th>\n      <th>...</th>\n      <th>Credit_Mix</th>\n      <th>Outstanding_Debt</th>\n      <th>Credit_Utilization_Ratio</th>\n      <th>Credit_History_Age</th>\n      <th>Payment_of_Min_Amount</th>\n      <th>Total_EMI_per_month</th>\n      <th>Amount_invested_monthly</th>\n      <th>Payment_Behaviour</th>\n      <th>Monthly_Balance</th>\n      <th>Credit_Score</th>\n    </tr>\n  </thead>\n  <tbody>\n    <tr>\n      <th>0</th>\n      <td>576</td>\n      <td>1</td>\n      <td>23.0</td>\n      <td>1824.843333</td>\n      <td>3.0</td>\n      <td>4.0</td>\n      <td>3.0</td>\n      <td>4.0</td>\n      <td>3.0</td>\n      <td>7.0</td>\n      <td>...</td>\n      <td>2</td>\n      <td>809.98</td>\n      <td>26.822620</td>\n      <td>265.0</td>\n      <td>1</td>\n      <td>49.574949</td>\n      <td>21.465380</td>\n      <td>2</td>\n      <td>312.494089</td>\n      <td>2</td>\n    </tr>\n    <tr>\n      <th>1</th>\n      <td>576</td>\n      <td>2</td>\n      <td>23.0</td>\n      <td>1824.843333</td>\n      <td>3.0</td>\n      <td>4.0</td>\n      <td>3.0</td>\n      <td>4.0</td>\n      <td>3.0</td>\n      <td>4.0</td>\n      <td>...</td>\n      <td>2</td>\n      <td>809.98</td>\n      <td>31.944960</td>\n      <td>266.0</td>\n      <td>1</td>\n      <td>49.574949</td>\n      <td>21.465380</td>\n      <td>3</td>\n      <td>284.629162</td>\n      <td>2</td>\n    </tr>\n    <tr>\n      <th>2</th>\n      <td>576</td>\n      <td>3</td>\n      <td>23.0</td>\n      <td>1824.843333</td>\n      <td>3.0</td>\n      <td>4.0</td>\n      <td>3.0</td>\n      <td>4.0</td>\n      <td>3.0</td>\n      <td>7.0</td>\n      <td>...</td>\n      <td>2</td>\n      <td>809.98</td>\n      <td>28.609352</td>\n      <td>267.0</td>\n      <td>1</td>\n      <td>49.574949</td>\n      <td>21.465380</td>\n      <td>4</td>\n      <td>331.209863</td>\n      <td>2</td>\n    </tr>\n    <tr>\n      <th>3</th>\n      <td>576</td>\n      <td>4</td>\n      <td>23.0</td>\n      <td>1824.843333</td>\n      <td>3.0</td>\n      <td>4.0</td>\n      <td>3.0</td>\n      <td>4.0</td>\n      <td>5.0</td>\n      <td>4.0</td>\n      <td>...</td>\n      <td>2</td>\n      <td>809.98</td>\n      <td>31.377862</td>\n      <td>268.0</td>\n      <td>1</td>\n      <td>49.574949</td>\n      <td>21.465380</td>\n      <td>5</td>\n      <td>223.451310</td>\n      <td>2</td>\n    </tr>\n    <tr>\n      <th>4</th>\n      <td>576</td>\n      <td>5</td>\n      <td>23.0</td>\n      <td>1824.843333</td>\n      <td>3.0</td>\n      <td>4.0</td>\n      <td>3.0</td>\n      <td>4.0</td>\n      <td>6.0</td>\n      <td>4.0</td>\n      <td>...</td>\n      <td>2</td>\n      <td>809.98</td>\n      <td>24.797347</td>\n      <td>269.0</td>\n      <td>1</td>\n      <td>49.574949</td>\n      <td>21.465380</td>\n      <td>1</td>\n      <td>341.489231</td>\n      <td>2</td>\n    </tr>\n    <tr>\n      <th>...</th>\n      <td>...</td>\n      <td>...</td>\n      <td>...</td>\n      <td>...</td>\n      <td>...</td>\n      <td>...</td>\n      <td>...</td>\n      <td>...</td>\n      <td>...</td>\n      <td>...</td>\n      <td>...</td>\n      <td>...</td>\n      <td>...</td>\n      <td>...</td>\n      <td>...</td>\n      <td>...</td>\n      <td>...</td>\n      <td>...</td>\n      <td>...</td>\n      <td>...</td>\n      <td>...</td>\n    </tr>\n    <tr>\n      <th>99995</th>\n      <td>9254</td>\n      <td>4</td>\n      <td>25.0</td>\n      <td>3359.415833</td>\n      <td>4.0</td>\n      <td>6.0</td>\n      <td>7.0</td>\n      <td>2.0</td>\n      <td>23.0</td>\n      <td>7.0</td>\n      <td>...</td>\n      <td>2</td>\n      <td>502.38</td>\n      <td>34.663572</td>\n      <td>378.0</td>\n      <td>1</td>\n      <td>35.104023</td>\n      <td>24.028477</td>\n      <td>0</td>\n      <td>479.866228</td>\n      <td>0</td>\n    </tr>\n    <tr>\n      <th>99996</th>\n      <td>9254</td>\n      <td>5</td>\n      <td>25.0</td>\n      <td>3359.415833</td>\n      <td>4.0</td>\n      <td>6.0</td>\n      <td>7.0</td>\n      <td>2.0</td>\n      <td>18.0</td>\n      <td>7.0</td>\n      <td>...</td>\n      <td>2</td>\n      <td>502.38</td>\n      <td>40.565631</td>\n      <td>379.0</td>\n      <td>1</td>\n      <td>35.104023</td>\n      <td>24.028477</td>\n      <td>1</td>\n      <td>496.651610</td>\n      <td>0</td>\n    </tr>\n    <tr>\n      <th>99997</th>\n      <td>9254</td>\n      <td>6</td>\n      <td>25.0</td>\n      <td>3359.415833</td>\n      <td>4.0</td>\n      <td>6.0</td>\n      <td>7.0</td>\n      <td>2.0</td>\n      <td>27.0</td>\n      <td>6.0</td>\n      <td>...</td>\n      <td>2</td>\n      <td>502.38</td>\n      <td>41.255522</td>\n      <td>380.0</td>\n      <td>1</td>\n      <td>35.104023</td>\n      <td>24.028477</td>\n      <td>0</td>\n      <td>516.809083</td>\n      <td>0</td>\n    </tr>\n    <tr>\n      <th>99998</th>\n      <td>9254</td>\n      <td>7</td>\n      <td>25.0</td>\n      <td>3359.415833</td>\n      <td>4.0</td>\n      <td>6.0</td>\n      <td>7.0</td>\n      <td>2.0</td>\n      <td>20.0</td>\n      <td>6.0</td>\n      <td>...</td>\n      <td>2</td>\n      <td>502.38</td>\n      <td>33.638208</td>\n      <td>381.0</td>\n      <td>1</td>\n      <td>35.104023</td>\n      <td>24.028477</td>\n      <td>3</td>\n      <td>319.164979</td>\n      <td>1</td>\n    </tr>\n    <tr>\n      <th>99999</th>\n      <td>9254</td>\n      <td>8</td>\n      <td>25.0</td>\n      <td>3359.415833</td>\n      <td>4.0</td>\n      <td>6.0</td>\n      <td>7.0</td>\n      <td>2.0</td>\n      <td>18.0</td>\n      <td>6.0</td>\n      <td>...</td>\n      <td>2</td>\n      <td>502.38</td>\n      <td>34.192463</td>\n      <td>382.0</td>\n      <td>1</td>\n      <td>35.104023</td>\n      <td>24.028477</td>\n      <td>1</td>\n      <td>393.673696</td>\n      <td>0</td>\n    </tr>\n  </tbody>\n</table>\n<p>100000 rows × 22 columns</p>\n</div>"
     },
     "execution_count": 19,
     "metadata": {},
     "output_type": "execute_result"
    }
   ],
   "source": [
    "train_df"
   ],
   "metadata": {
    "collapsed": false
   }
  },
  {
   "cell_type": "markdown",
   "source": [
    "## 5. 데이터 분할"
   ],
   "metadata": {
    "collapsed": false
   }
  },
  {
   "cell_type": "code",
   "execution_count": 20,
   "outputs": [
    {
     "data": {
      "text/plain": "((75000, 22), (25000, 22))"
     },
     "execution_count": 20,
     "metadata": {},
     "output_type": "execute_result"
    }
   ],
   "source": [
    "# 최종 2개월 valid로 분리\n",
    "train = train_df.loc[train_df['Month'] <=6]\n",
    "valid = train_df.loc[train_df['Month'] >6]\n",
    "train.shape, valid.shape"
   ],
   "metadata": {
    "collapsed": false
   }
  },
  {
   "cell_type": "code",
   "execution_count": 21,
   "outputs": [],
   "source": [
    "from sklearn.model_selection import train_test_split"
   ],
   "metadata": {
    "collapsed": false
   }
  },
  {
   "cell_type": "code",
   "execution_count": 22,
   "outputs": [
    {
     "data": {
      "text/plain": "((75000, 21), (75000,), (25000, 21), (25000,))"
     },
     "execution_count": 22,
     "metadata": {},
     "output_type": "execute_result"
    }
   ],
   "source": [
    "X_train = train.drop(['Credit_Score'], axis=1)\n",
    "y_train = train['Credit_Score']\n",
    "\n",
    "X_valid = valid.drop(['Credit_Score'], axis=1)\n",
    "y_valid = valid['Credit_Score']\n",
    "\n",
    "X_train.shape, y_train.shape, X_valid.shape, y_valid.shape"
   ],
   "metadata": {
    "collapsed": false
   }
  },
  {
   "cell_type": "markdown",
   "source": [
    "## 6. Baseline Model\n",
    "\n",
    "베이스라인 모델을 beating 하는 것을 목표로 한다."
   ],
   "metadata": {
    "collapsed": false
   }
  },
  {
   "cell_type": "code",
   "execution_count": 23,
   "outputs": [],
   "source": [
    "from lightgbm import LGBMClassifier"
   ],
   "metadata": {
    "collapsed": false
   }
  },
  {
   "cell_type": "code",
   "execution_count": 24,
   "outputs": [],
   "source": [
    "lgb_clf = LGBMClassifier(objective='multiclass',\n",
    "                         num_class=3,\n",
    "                         random_state=42,\n",
    "                         n_jobs=-1)"
   ],
   "metadata": {
    "collapsed": false
   }
  },
  {
   "cell_type": "code",
   "execution_count": 25,
   "outputs": [
    {
     "data": {
      "text/plain": "LGBMClassifier(num_class=3, objective='multiclass', random_state=42)",
      "text/html": "<style>#sk-container-id-1 {color: black;background-color: white;}#sk-container-id-1 pre{padding: 0;}#sk-container-id-1 div.sk-toggleable {background-color: white;}#sk-container-id-1 label.sk-toggleable__label {cursor: pointer;display: block;width: 100%;margin-bottom: 0;padding: 0.3em;box-sizing: border-box;text-align: center;}#sk-container-id-1 label.sk-toggleable__label-arrow:before {content: \"▸\";float: left;margin-right: 0.25em;color: #696969;}#sk-container-id-1 label.sk-toggleable__label-arrow:hover:before {color: black;}#sk-container-id-1 div.sk-estimator:hover label.sk-toggleable__label-arrow:before {color: black;}#sk-container-id-1 div.sk-toggleable__content {max-height: 0;max-width: 0;overflow: hidden;text-align: left;background-color: #f0f8ff;}#sk-container-id-1 div.sk-toggleable__content pre {margin: 0.2em;color: black;border-radius: 0.25em;background-color: #f0f8ff;}#sk-container-id-1 input.sk-toggleable__control:checked~div.sk-toggleable__content {max-height: 200px;max-width: 100%;overflow: auto;}#sk-container-id-1 input.sk-toggleable__control:checked~label.sk-toggleable__label-arrow:before {content: \"▾\";}#sk-container-id-1 div.sk-estimator input.sk-toggleable__control:checked~label.sk-toggleable__label {background-color: #d4ebff;}#sk-container-id-1 div.sk-label input.sk-toggleable__control:checked~label.sk-toggleable__label {background-color: #d4ebff;}#sk-container-id-1 input.sk-hidden--visually {border: 0;clip: rect(1px 1px 1px 1px);clip: rect(1px, 1px, 1px, 1px);height: 1px;margin: -1px;overflow: hidden;padding: 0;position: absolute;width: 1px;}#sk-container-id-1 div.sk-estimator {font-family: monospace;background-color: #f0f8ff;border: 1px dotted black;border-radius: 0.25em;box-sizing: border-box;margin-bottom: 0.5em;}#sk-container-id-1 div.sk-estimator:hover {background-color: #d4ebff;}#sk-container-id-1 div.sk-parallel-item::after {content: \"\";width: 100%;border-bottom: 1px solid gray;flex-grow: 1;}#sk-container-id-1 div.sk-label:hover label.sk-toggleable__label {background-color: #d4ebff;}#sk-container-id-1 div.sk-serial::before {content: \"\";position: absolute;border-left: 1px solid gray;box-sizing: border-box;top: 0;bottom: 0;left: 50%;z-index: 0;}#sk-container-id-1 div.sk-serial {display: flex;flex-direction: column;align-items: center;background-color: white;padding-right: 0.2em;padding-left: 0.2em;position: relative;}#sk-container-id-1 div.sk-item {position: relative;z-index: 1;}#sk-container-id-1 div.sk-parallel {display: flex;align-items: stretch;justify-content: center;background-color: white;position: relative;}#sk-container-id-1 div.sk-item::before, #sk-container-id-1 div.sk-parallel-item::before {content: \"\";position: absolute;border-left: 1px solid gray;box-sizing: border-box;top: 0;bottom: 0;left: 50%;z-index: -1;}#sk-container-id-1 div.sk-parallel-item {display: flex;flex-direction: column;z-index: 1;position: relative;background-color: white;}#sk-container-id-1 div.sk-parallel-item:first-child::after {align-self: flex-end;width: 50%;}#sk-container-id-1 div.sk-parallel-item:last-child::after {align-self: flex-start;width: 50%;}#sk-container-id-1 div.sk-parallel-item:only-child::after {width: 0;}#sk-container-id-1 div.sk-dashed-wrapped {border: 1px dashed gray;margin: 0 0.4em 0.5em 0.4em;box-sizing: border-box;padding-bottom: 0.4em;background-color: white;}#sk-container-id-1 div.sk-label label {font-family: monospace;font-weight: bold;display: inline-block;line-height: 1.2em;}#sk-container-id-1 div.sk-label-container {text-align: center;}#sk-container-id-1 div.sk-container {/* jupyter's `normalize.less` sets `[hidden] { display: none; }` but bootstrap.min.css set `[hidden] { display: none !important; }` so we also need the `!important` here to be able to override the default hidden behavior on the sphinx rendered scikit-learn.org. See: https://github.com/scikit-learn/scikit-learn/issues/21755 */display: inline-block !important;position: relative;}#sk-container-id-1 div.sk-text-repr-fallback {display: none;}</style><div id=\"sk-container-id-1\" class=\"sk-top-container\"><div class=\"sk-text-repr-fallback\"><pre>LGBMClassifier(num_class=3, objective=&#x27;multiclass&#x27;, random_state=42)</pre><b>In a Jupyter environment, please rerun this cell to show the HTML representation or trust the notebook. <br />On GitHub, the HTML representation is unable to render, please try loading this page with nbviewer.org.</b></div><div class=\"sk-container\" hidden><div class=\"sk-item\"><div class=\"sk-estimator sk-toggleable\"><input class=\"sk-toggleable__control sk-hidden--visually\" id=\"sk-estimator-id-1\" type=\"checkbox\" checked><label for=\"sk-estimator-id-1\" class=\"sk-toggleable__label sk-toggleable__label-arrow\">LGBMClassifier</label><div class=\"sk-toggleable__content\"><pre>LGBMClassifier(num_class=3, objective=&#x27;multiclass&#x27;, random_state=42)</pre></div></div></div></div></div>"
     },
     "execution_count": 25,
     "metadata": {},
     "output_type": "execute_result"
    }
   ],
   "source": [
    "lgb_clf.fit(X_train, y_train)"
   ],
   "metadata": {
    "collapsed": false
   }
  },
  {
   "cell_type": "markdown",
   "source": [
    "### Evaluatoin"
   ],
   "metadata": {
    "collapsed": false
   }
  },
  {
   "cell_type": "code",
   "execution_count": 28,
   "outputs": [],
   "source": [
    "import matplotlib.pyplot as plt\n",
    "import seaborn as sns\n",
    "from sklearn.metrics import classification_report, confusion_matrix\n",
    "\n",
    "# 분류모델 결과 평가를 위한 혼동행렬 리포트 & 시각화 함수 정의\n",
    "def clf_report_plot(y_true, X_test, model):\n",
    "\n",
    "    y_pred = model.predict(X_test)\n",
    "\n",
    "    # for pred in result:\n",
    "    #     y_pred.append(np.argmax(pred))\n",
    "\n",
    "    print(classification_report(y_true, y_pred, digits=4))\n",
    "\n",
    "    # plt.rc('font', family='NanumGothicOTF') # For MacOS\n",
    "    plt.rc('font', family='NanumGothic') # For Windows\n",
    "\n",
    "    ax = plt.subplot()\n",
    "    ax.figure.set_size_inches(10, 10)\n",
    "    cm = confusion_matrix(y_true=y_true, y_pred=y_pred)\n",
    "    sns.heatmap(cm, annot=True, fmt='.0f', cmap='Blues', ax=ax)\n",
    "\n",
    "    ax.set_title('Confusion Matrix',fontsize=20, y=1.05)\n",
    "    ax.set_xlabel('Predicted Labels', fontsize=15)\n",
    "    ax.set_ylabel('True Labels', fontsize=15)\n",
    "\n",
    "    ax.xaxis.set_ticklabels(['Poor', 'Standard', 'Good'])\n",
    "    ax.yaxis.set_ticklabels(['Poor', 'Standard', 'Good'])\n",
    "    plt.show()"
   ],
   "metadata": {
    "collapsed": false
   }
  },
  {
   "cell_type": "code",
   "execution_count": 29,
   "outputs": [
    {
     "name": "stdout",
     "output_type": "stream",
     "text": [
      "              precision    recall  f1-score   support\n",
      "\n",
      "           0     0.6931    0.6522    0.6720      7216\n",
      "           1     0.7084    0.7005    0.7044     12960\n",
      "           2     0.5855    0.6549    0.6183      4824\n",
      "\n",
      "    accuracy                         0.6777     25000\n",
      "   macro avg     0.6623    0.6692    0.6649     25000\n",
      "weighted avg     0.6803    0.6777    0.6784     25000\n",
      "\n"
     ]
    },
    {
     "data": {
      "text/plain": "<Figure size 720x720 with 2 Axes>",
      "image/png": "[encoded data removed]"
     },
     "metadata": {
      "needs_background": "light"
     },
     "output_type": "display_data"
    }
   ],
   "source": [
    "clf_report_plot(y_valid, X_valid, lgb_clf)"
   ],
   "metadata": {
    "collapsed": false
   }
  },
  {
   "cell_type": "code",
   "execution_count": 31,
   "outputs": [
    {
     "name": "stdout",
     "output_type": "stream",
     "text": [
      "Accuracy of LGBM:  0.67772\n"
     ]
    }
   ],
   "source": [
    "acc = lgb_clf.score(X_valid, y_valid)\n",
    "print('Accuracy of LGBM: ', acc)"
   ],
   "metadata": {
    "collapsed": false
   }
  },
  {
   "cell_type": "code",
   "execution_count": null,
   "outputs": [],
   "source": [],
   "metadata": {
    "collapsed": false
   }
  },
  {
   "cell_type": "code",
   "execution_count": null,
   "outputs": [],
   "source": [],
   "metadata": {
    "collapsed": false
   }
  },
  {
   "cell_type": "code",
   "execution_count": null,
   "outputs": [],
   "source": [],
   "metadata": {
    "collapsed": false
   }
  },
  {
   "cell_type": "markdown",
   "source": [
    "### 4-2. Log Transformation"
   ],
   "metadata": {
    "collapsed": false
   }
  },
  {
   "cell_type": "code",
   "execution_count": null,
   "outputs": [],
   "source": [
    "def log_transform_do(cols, input_data):\n",
    "    \"\"\"\n",
    "    로그변환을 위한 코드\n",
    "    params :\n",
    "      cols : 인코딩 대상 features\n",
    "      input_data : 원본 데이터\n",
    "    \"\"\"\n",
    "\n",
    "    data = input_data.copy()\n",
    "\n",
    "    for col in cols:\n",
    "        data[col] = np.log(data[col])\n",
    "\n",
    "    return data"
   ],
   "metadata": {
    "collapsed": false
   }
  },
  {
   "cell_type": "markdown",
   "source": [
    "### 4-3. SQRT Transformation"
   ],
   "metadata": {
    "collapsed": false
   }
  },
  {
   "cell_type": "code",
   "execution_count": null,
   "outputs": [],
   "source": [
    "def sqrt_transform_do(cols, input_data):\n",
    "    \"\"\"\n",
    "    sqrt 처리를 위한 코드\n",
    "    param:\n",
    "      cols : 인코딩 대상 features\n",
    "      data : 전처리를 위한 데이터\n",
    "    \"\"\"\n",
    "\n",
    "    data = input_data.copy()\n",
    "\n",
    "    for col in cols:\n",
    "        data[col] = np.sqrt(data[col])\n",
    "\n",
    "    return data"
   ],
   "metadata": {
    "collapsed": false
   }
  },
  {
   "cell_type": "markdown",
   "source": [
    "### 4-4. Generating Dummy"
   ],
   "metadata": {
    "collapsed": false
   }
  },
  {
   "cell_type": "code",
   "execution_count": null,
   "outputs": [],
   "source": [
    "def dummy_make_do(cols, input_data, thresh=5):\n",
    "    \"\"\"\n",
    "    특정값을 기준으로 Y/N 더미변수로 만들기 위한 함수\n",
    "    params:\n",
    "      cols : 전처리 대상 features\n",
    "      data : 원본 데이터\n",
    "      thresh : 0/1 으로 만들기 위한 기준\n",
    "    \"\"\"\n",
    "\n",
    "    data = input_data.copy()\n",
    "\n",
    "    for col in cols:\n",
    "        data[col] = data.apply(get_dummy, axis=1, args=[col,thresh])\n",
    "    return data\n",
    "\n",
    "def get_dummy(df, col ,thresh=5):\n",
    "\n",
    "    if df[col] >= thresh :\n",
    "        return 1\n",
    "    elif df[col] < thresh:\n",
    "        return 0\n",
    "    else:\n",
    "        return 2"
   ],
   "metadata": {
    "collapsed": false
   }
  },
  {
   "cell_type": "markdown",
   "source": [
    "### 4-5. Standardization"
   ],
   "metadata": {
    "collapsed": false
   }
  },
  {
   "cell_type": "code",
   "execution_count": null,
   "outputs": [],
   "source": [
    "import sklearn\n",
    "from sklearn.preprocessing import StandardScaler, RobustScaler\n",
    "\n",
    "def standard_transform_do(cols,input_data):\n",
    "    \"\"\"\n",
    "    표준화를 위한 함수\n",
    "    \"\"\"\n",
    "\n",
    "    data = input_data.copy()\n",
    "\n",
    "    for col in cols:\n",
    "        scaler = StandardScaler()\n",
    "        data[col] = scaler.fit_transform(data[col])\n",
    "\n",
    "    return data\n",
    "\n",
    "def robust_transform_do(cols,input_data):\n",
    "    \"\"\"\n",
    "    robust 처리를 위한 함수\n",
    "    \"\"\"\n",
    "\n",
    "    data = input_data.copy()\n",
    "\n",
    "    for col in cols:\n",
    "        scaler = RobustScaler()\n",
    "        data[col] = scaler.fit_transform(data[col])\n",
    "\n",
    "    return data"
   ],
   "metadata": {
    "collapsed": false
   }
  },
  {
   "cell_type": "markdown",
   "source": [
    "### 4-6. OHE"
   ],
   "metadata": {
    "collapsed": false
   }
  },
  {
   "cell_type": "code",
   "execution_count": null,
   "outputs": [],
   "source": [
    "def onehot_do(cols,input_data):\n",
    "    \"\"\"\n",
    "    원핫인코딩을 위한 함수\n",
    "    원핫인코딩 대상을 처리하고, 전체 데이터를 return\n",
    "    \"\"\"\n",
    "    data = input_data.copy()\n",
    "\n",
    "    return pd.get_dummies(data,columns=cols)"
   ],
   "metadata": {
    "collapsed": false
   }
  },
  {
   "cell_type": "markdown",
   "source": [
    "### 4-7. Binning and Customized Labeling"
   ],
   "metadata": {
    "collapsed": false
   }
  },
  {
   "cell_type": "code",
   "execution_count": null,
   "outputs": [],
   "source": [
    "#특정 범위별로 구간화 함수\n",
    "def binning_do (col,input_data,interval):\n",
    "    \"\"\"\n",
    "    구간화를 위한 함수\n",
    "    params\n",
    "      col : 구간화 대상 features\n",
    "      input_data : 원본 데이터\n",
    "      interval : 구간화를 위한 리스트\n",
    "        ex)       [3, 5, 7] 입력시\n",
    "                  0~2 // 3~4 // 5~6 // 7이상으로 자르고 0,1,2,3... 으로 return\n",
    "    \"\"\"\n",
    "    data = input_data.copy()\n",
    "\n",
    "    data[col] = data.apply(get_label,axis=1,args=[col,interval])\n",
    "\n",
    "    return data\n",
    "\n",
    "\n",
    "def get_label(df,col,interval):\n",
    "    # apply를 위한 함수\n",
    "    dic = {}\n",
    "\n",
    "    # 딕셔너리 형태로 범위 만들기\n",
    "    for value,index in enumerate(interval):\n",
    "        dic[index] = value\n",
    "\n",
    "    # 범위안에 드는지 확인\n",
    "    for i in dic.keys():\n",
    "        if df[col] < i:\n",
    "            return dic[i]\n",
    "\n",
    "    #interval에 포함되지 않는 값은 가장 큰 숫자 return\n",
    "    return len(dic)\n",
    "\n"
   ],
   "metadata": {
    "collapsed": false
   }
  }
 ],
 "metadata": {
  "kernelspec": {
   "display_name": "Python 3",
   "language": "python",
   "name": "python3"
  },
  "language_info": {
   "codemirror_mode": {
    "name": "ipython",
    "version": 2
   },
   "file_extension": ".py",
   "mimetype": "text/x-python",
   "name": "python",
   "nbconvert_exporter": "python",
   "pygments_lexer": "ipython2",
   "version": "2.7.6"
  }
 },
 "nbformat": 4,
 "nbformat_minor": 0
}
