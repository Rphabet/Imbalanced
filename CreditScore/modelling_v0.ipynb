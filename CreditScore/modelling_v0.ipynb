{
 "cells": [
  {
   "cell_type": "markdown",
   "source": [
    "# Credit Scoring  Modelling Version 1 (11/15)"
   ],
   "metadata": {
    "collapsed": false
   }
  },
  {
   "cell_type": "code",
   "execution_count": 1,
   "outputs": [],
   "source": [
    "import pandas as pd\n",
    "import numpy as np"
   ],
   "metadata": {
    "collapsed": false
   }
  },
  {
   "cell_type": "code",
   "execution_count": 2,
   "outputs": [
    {
     "data": {
      "text/plain": "       Customer_ID  Month  Age  Monthly_Inhand_Salary  Num_Bank_Accounts  \\\n0              576      1    1               7.509249                3.0   \n1              576      2    1               7.509249                3.0   \n2              576      3    1               7.509249                3.0   \n3              576      4    1               7.509249                3.0   \n4              576      5    1               7.509249                3.0   \n...            ...    ...  ...                    ...                ...   \n99995         9254      4    1               8.119522                4.0   \n99996         9254      5    1               8.119522                4.0   \n99997         9254      6    1               8.119522                4.0   \n99998         9254      7    1               8.119522                4.0   \n99999         9254      8    1               8.119522                4.0   \n\n       Num_Credit_Card  Interest_Rate  Num_of_Loan  Delay_from_due_date  \\\n0                  4.0            3.0            0                  3.0   \n1                  4.0            3.0            0                  3.0   \n2                  4.0            3.0            0                  3.0   \n3                  4.0            3.0            0                  5.0   \n4                  4.0            3.0            0                  6.0   \n...                ...            ...          ...                  ...   \n99995              6.0            7.0            0                 23.0   \n99996              6.0            7.0            0                 18.0   \n99997              6.0            7.0            0                 27.0   \n99998              6.0            7.0            0                 20.0   \n99999              6.0            7.0            0                 18.0   \n\n       Num_of_Delayed_Payment  ...  Credit_Mix  Outstanding_Debt  \\\n0                         7.0  ...           2         28.460148   \n1                         4.0  ...           2         28.460148   \n2                         7.0  ...           2         28.460148   \n3                         4.0  ...           2         28.460148   \n4                         4.0  ...           2         28.460148   \n...                       ...  ...         ...               ...   \n99995                     7.0  ...           2         22.413835   \n99996                     7.0  ...           2         22.413835   \n99997                     6.0  ...           2         22.413835   \n99998                     6.0  ...           2         22.413835   \n99999                     6.0  ...           2         22.413835   \n\n       Credit_Utilization_Ratio  Credit_History_Age  Payment_of_Min_Amount  \\\n0                     26.822620                   1                      1   \n1                     31.944960                   1                      1   \n2                     28.609352                   1                      1   \n3                     31.377862                   1                      1   \n4                     24.797347                   1                      1   \n...                         ...                 ...                    ...   \n99995                 34.663572                   1                      1   \n99996                 40.565631                   1                      1   \n99997                 41.255522                   1                      1   \n99998                 33.638208                   1                      1   \n99999                 34.192463                   1                      1   \n\n       Total_EMI_per_month  Amount_invested_monthly  Payment_Behaviour  \\\n0                49.574949                21.465380                  2   \n1                49.574949                21.465380                  3   \n2                49.574949                21.465380                  4   \n3                49.574949                21.465380                  5   \n4                49.574949                21.465380                  1   \n...                    ...                      ...                ...   \n99995            35.104023                24.028477                  0   \n99996            35.104023                24.028477                  1   \n99997            35.104023                24.028477                  0   \n99998            35.104023                24.028477                  3   \n99999            35.104023                24.028477                  1   \n\n       Monthly_Balance  Credit_Score  \n0           312.494089             2  \n1           284.629162             2  \n2           331.209863             2  \n3           223.451310             2  \n4           341.489231             2  \n...                ...           ...  \n99995       479.866228             0  \n99996       496.651610             0  \n99997       516.809083             0  \n99998       319.164979             1  \n99999       393.673696             0  \n\n[100000 rows x 22 columns]",
      "text/html": "<div>\n<style scoped>\n    .dataframe tbody tr th:only-of-type {\n        vertical-align: middle;\n    }\n\n    .dataframe tbody tr th {\n        vertical-align: top;\n    }\n\n    .dataframe thead th {\n        text-align: right;\n    }\n</style>\n<table border=\"1\" class=\"dataframe\">\n  <thead>\n    <tr style=\"text-align: right;\">\n      <th></th>\n      <th>Customer_ID</th>\n      <th>Month</th>\n      <th>Age</th>\n      <th>Monthly_Inhand_Salary</th>\n      <th>Num_Bank_Accounts</th>\n      <th>Num_Credit_Card</th>\n      <th>Interest_Rate</th>\n      <th>Num_of_Loan</th>\n      <th>Delay_from_due_date</th>\n      <th>Num_of_Delayed_Payment</th>\n      <th>...</th>\n      <th>Credit_Mix</th>\n      <th>Outstanding_Debt</th>\n      <th>Credit_Utilization_Ratio</th>\n      <th>Credit_History_Age</th>\n      <th>Payment_of_Min_Amount</th>\n      <th>Total_EMI_per_month</th>\n      <th>Amount_invested_monthly</th>\n      <th>Payment_Behaviour</th>\n      <th>Monthly_Balance</th>\n      <th>Credit_Score</th>\n    </tr>\n  </thead>\n  <tbody>\n    <tr>\n      <th>0</th>\n      <td>576</td>\n      <td>1</td>\n      <td>1</td>\n      <td>7.509249</td>\n      <td>3.0</td>\n      <td>4.0</td>\n      <td>3.0</td>\n      <td>0</td>\n      <td>3.0</td>\n      <td>7.0</td>\n      <td>...</td>\n      <td>2</td>\n      <td>28.460148</td>\n      <td>26.822620</td>\n      <td>1</td>\n      <td>1</td>\n      <td>49.574949</td>\n      <td>21.465380</td>\n      <td>2</td>\n      <td>312.494089</td>\n      <td>2</td>\n    </tr>\n    <tr>\n      <th>1</th>\n      <td>576</td>\n      <td>2</td>\n      <td>1</td>\n      <td>7.509249</td>\n      <td>3.0</td>\n      <td>4.0</td>\n      <td>3.0</td>\n      <td>0</td>\n      <td>3.0</td>\n      <td>4.0</td>\n      <td>...</td>\n      <td>2</td>\n      <td>28.460148</td>\n      <td>31.944960</td>\n      <td>1</td>\n      <td>1</td>\n      <td>49.574949</td>\n      <td>21.465380</td>\n      <td>3</td>\n      <td>284.629162</td>\n      <td>2</td>\n    </tr>\n    <tr>\n      <th>2</th>\n      <td>576</td>\n      <td>3</td>\n      <td>1</td>\n      <td>7.509249</td>\n      <td>3.0</td>\n      <td>4.0</td>\n      <td>3.0</td>\n      <td>0</td>\n      <td>3.0</td>\n      <td>7.0</td>\n      <td>...</td>\n      <td>2</td>\n      <td>28.460148</td>\n      <td>28.609352</td>\n      <td>1</td>\n      <td>1</td>\n      <td>49.574949</td>\n      <td>21.465380</td>\n      <td>4</td>\n      <td>331.209863</td>\n      <td>2</td>\n    </tr>\n    <tr>\n      <th>3</th>\n      <td>576</td>\n      <td>4</td>\n      <td>1</td>\n      <td>7.509249</td>\n      <td>3.0</td>\n      <td>4.0</td>\n      <td>3.0</td>\n      <td>0</td>\n      <td>5.0</td>\n      <td>4.0</td>\n      <td>...</td>\n      <td>2</td>\n      <td>28.460148</td>\n      <td>31.377862</td>\n      <td>1</td>\n      <td>1</td>\n      <td>49.574949</td>\n      <td>21.465380</td>\n      <td>5</td>\n      <td>223.451310</td>\n      <td>2</td>\n    </tr>\n    <tr>\n      <th>4</th>\n      <td>576</td>\n      <td>5</td>\n      <td>1</td>\n      <td>7.509249</td>\n      <td>3.0</td>\n      <td>4.0</td>\n      <td>3.0</td>\n      <td>0</td>\n      <td>6.0</td>\n      <td>4.0</td>\n      <td>...</td>\n      <td>2</td>\n      <td>28.460148</td>\n      <td>24.797347</td>\n      <td>1</td>\n      <td>1</td>\n      <td>49.574949</td>\n      <td>21.465380</td>\n      <td>1</td>\n      <td>341.489231</td>\n      <td>2</td>\n    </tr>\n    <tr>\n      <th>...</th>\n      <td>...</td>\n      <td>...</td>\n      <td>...</td>\n      <td>...</td>\n      <td>...</td>\n      <td>...</td>\n      <td>...</td>\n      <td>...</td>\n      <td>...</td>\n      <td>...</td>\n      <td>...</td>\n      <td>...</td>\n      <td>...</td>\n      <td>...</td>\n      <td>...</td>\n      <td>...</td>\n      <td>...</td>\n      <td>...</td>\n      <td>...</td>\n      <td>...</td>\n      <td>...</td>\n    </tr>\n    <tr>\n      <th>99995</th>\n      <td>9254</td>\n      <td>4</td>\n      <td>1</td>\n      <td>8.119522</td>\n      <td>4.0</td>\n      <td>6.0</td>\n      <td>7.0</td>\n      <td>0</td>\n      <td>23.0</td>\n      <td>7.0</td>\n      <td>...</td>\n      <td>2</td>\n      <td>22.413835</td>\n      <td>34.663572</td>\n      <td>1</td>\n      <td>1</td>\n      <td>35.104023</td>\n      <td>24.028477</td>\n      <td>0</td>\n      <td>479.866228</td>\n      <td>0</td>\n    </tr>\n    <tr>\n      <th>99996</th>\n      <td>9254</td>\n      <td>5</td>\n      <td>1</td>\n      <td>8.119522</td>\n      <td>4.0</td>\n      <td>6.0</td>\n      <td>7.0</td>\n      <td>0</td>\n      <td>18.0</td>\n      <td>7.0</td>\n      <td>...</td>\n      <td>2</td>\n      <td>22.413835</td>\n      <td>40.565631</td>\n      <td>1</td>\n      <td>1</td>\n      <td>35.104023</td>\n      <td>24.028477</td>\n      <td>1</td>\n      <td>496.651610</td>\n      <td>0</td>\n    </tr>\n    <tr>\n      <th>99997</th>\n      <td>9254</td>\n      <td>6</td>\n      <td>1</td>\n      <td>8.119522</td>\n      <td>4.0</td>\n      <td>6.0</td>\n      <td>7.0</td>\n      <td>0</td>\n      <td>27.0</td>\n      <td>6.0</td>\n      <td>...</td>\n      <td>2</td>\n      <td>22.413835</td>\n      <td>41.255522</td>\n      <td>1</td>\n      <td>1</td>\n      <td>35.104023</td>\n      <td>24.028477</td>\n      <td>0</td>\n      <td>516.809083</td>\n      <td>0</td>\n    </tr>\n    <tr>\n      <th>99998</th>\n      <td>9254</td>\n      <td>7</td>\n      <td>1</td>\n      <td>8.119522</td>\n      <td>4.0</td>\n      <td>6.0</td>\n      <td>7.0</td>\n      <td>0</td>\n      <td>20.0</td>\n      <td>6.0</td>\n      <td>...</td>\n      <td>2</td>\n      <td>22.413835</td>\n      <td>33.638208</td>\n      <td>1</td>\n      <td>1</td>\n      <td>35.104023</td>\n      <td>24.028477</td>\n      <td>3</td>\n      <td>319.164979</td>\n      <td>1</td>\n    </tr>\n    <tr>\n      <th>99999</th>\n      <td>9254</td>\n      <td>8</td>\n      <td>1</td>\n      <td>8.119522</td>\n      <td>4.0</td>\n      <td>6.0</td>\n      <td>7.0</td>\n      <td>0</td>\n      <td>18.0</td>\n      <td>6.0</td>\n      <td>...</td>\n      <td>2</td>\n      <td>22.413835</td>\n      <td>34.192463</td>\n      <td>1</td>\n      <td>1</td>\n      <td>35.104023</td>\n      <td>24.028477</td>\n      <td>1</td>\n      <td>393.673696</td>\n      <td>0</td>\n    </tr>\n  </tbody>\n</table>\n<p>100000 rows × 22 columns</p>\n</div>"
     },
     "execution_count": 2,
     "metadata": {},
     "output_type": "execute_result"
    }
   ],
   "source": [
    "df = pd.read_csv('./processed.csv')\n",
    "df"
   ],
   "metadata": {
    "collapsed": false
   }
  },
  {
   "cell_type": "markdown",
   "source": [
    "## DL"
   ],
   "metadata": {
    "collapsed": false
   }
  },
  {
   "cell_type": "markdown",
   "source": [
    "### LSTM"
   ],
   "metadata": {
    "collapsed": false
   }
  },
  {
   "cell_type": "code",
   "execution_count": 15,
   "outputs": [],
   "source": [
    "df_dl = df.copy()"
   ],
   "metadata": {
    "collapsed": false
   }
  },
  {
   "cell_type": "code",
   "execution_count": 18,
   "outputs": [],
   "source": [
    "for col in df_dl.iloc[:, :-1].columns[df_dl.iloc[:, :-1].dtypes != 'float']:\n",
    "    df_dl[col] = df_dl[col].astype(np.float64)"
   ],
   "metadata": {
    "collapsed": false
   }
  },
  {
   "cell_type": "code",
   "execution_count": 19,
   "outputs": [
    {
     "data": {
      "text/plain": "Customer_ID                 float64\nMonth                       float64\nAge                         float64\nMonthly_Inhand_Salary       float64\nNum_Bank_Accounts           float64\nNum_Credit_Card             float64\nInterest_Rate               float64\nNum_of_Loan                 float64\nDelay_from_due_date         float64\nNum_of_Delayed_Payment      float64\nChanged_Credit_Limit        float64\nNum_Credit_Inquiries        float64\nCredit_Mix                  float64\nOutstanding_Debt            float64\nCredit_Utilization_Ratio    float64\nCredit_History_Age          float64\nPayment_of_Min_Amount       float64\nTotal_EMI_per_month         float64\nAmount_invested_monthly     float64\nPayment_Behaviour           float64\nMonthly_Balance             float64\nCredit_Score                  int64\ndtype: object"
     },
     "execution_count": 19,
     "metadata": {},
     "output_type": "execute_result"
    }
   ],
   "source": [
    "df_dl.dtypes"
   ],
   "metadata": {
    "collapsed": false
   }
  },
  {
   "cell_type": "code",
   "execution_count": 20,
   "outputs": [
    {
     "data": {
      "text/plain": "       Credit_Score\n0                 2\n1                 2\n2                 2\n3                 2\n4                 2\n...             ...\n99995             0\n99996             0\n99997             0\n99998             1\n99999             0\n\n[100000 rows x 1 columns]",
      "text/html": "<div>\n<style scoped>\n    .dataframe tbody tr th:only-of-type {\n        vertical-align: middle;\n    }\n\n    .dataframe tbody tr th {\n        vertical-align: top;\n    }\n\n    .dataframe thead th {\n        text-align: right;\n    }\n</style>\n<table border=\"1\" class=\"dataframe\">\n  <thead>\n    <tr style=\"text-align: right;\">\n      <th></th>\n      <th>Credit_Score</th>\n    </tr>\n  </thead>\n  <tbody>\n    <tr>\n      <th>0</th>\n      <td>2</td>\n    </tr>\n    <tr>\n      <th>1</th>\n      <td>2</td>\n    </tr>\n    <tr>\n      <th>2</th>\n      <td>2</td>\n    </tr>\n    <tr>\n      <th>3</th>\n      <td>2</td>\n    </tr>\n    <tr>\n      <th>4</th>\n      <td>2</td>\n    </tr>\n    <tr>\n      <th>...</th>\n      <td>...</td>\n    </tr>\n    <tr>\n      <th>99995</th>\n      <td>0</td>\n    </tr>\n    <tr>\n      <th>99996</th>\n      <td>0</td>\n    </tr>\n    <tr>\n      <th>99997</th>\n      <td>0</td>\n    </tr>\n    <tr>\n      <th>99998</th>\n      <td>1</td>\n    </tr>\n    <tr>\n      <th>99999</th>\n      <td>0</td>\n    </tr>\n  </tbody>\n</table>\n<p>100000 rows × 1 columns</p>\n</div>"
     },
     "execution_count": 20,
     "metadata": {},
     "output_type": "execute_result"
    }
   ],
   "source": [
    "df_dl.select_dtypes('int')"
   ],
   "metadata": {
    "collapsed": false
   }
  },
  {
   "cell_type": "code",
   "execution_count": 21,
   "outputs": [
    {
     "name": "stdout",
     "output_type": "stream",
     "text": [
      "(75000, 22)\n",
      "(25000, 22)\n"
     ]
    }
   ],
   "source": [
    "train_df = df_dl[df_dl['Month'] <= 6]\n",
    "test_df = df_dl[df_dl['Month'] > 6]\n",
    "\n",
    "print(train_df.shape)\n",
    "print(test_df.shape)"
   ],
   "metadata": {
    "collapsed": false
   }
  },
  {
   "cell_type": "code",
   "execution_count": 22,
   "outputs": [
    {
     "data": {
      "text/plain": "       Customer_ID  Month  Age  Monthly_Inhand_Salary  Num_Bank_Accounts  \\\n0            576.0    1.0  1.0               7.509249                3.0   \n1            576.0    2.0  1.0               7.509249                3.0   \n2            576.0    3.0  1.0               7.509249                3.0   \n3            576.0    4.0  1.0               7.509249                3.0   \n4            576.0    5.0  1.0               7.509249                3.0   \n...            ...    ...  ...                    ...                ...   \n99993       9254.0    2.0  1.0               8.119522                4.0   \n99994       9254.0    3.0  1.0               8.119522                4.0   \n99995       9254.0    4.0  1.0               8.119522                4.0   \n99996       9254.0    5.0  1.0               8.119522                4.0   \n99997       9254.0    6.0  1.0               8.119522                4.0   \n\n       Num_Credit_Card  Interest_Rate  Num_of_Loan  Delay_from_due_date  \\\n0                  4.0            3.0          0.0                  3.0   \n1                  4.0            3.0          0.0                  3.0   \n2                  4.0            3.0          0.0                  3.0   \n3                  4.0            3.0          0.0                  5.0   \n4                  4.0            3.0          0.0                  6.0   \n...                ...            ...          ...                  ...   \n99993              6.0            7.0          0.0                 23.0   \n99994              6.0            7.0          0.0                 20.0   \n99995              6.0            7.0          0.0                 23.0   \n99996              6.0            7.0          0.0                 18.0   \n99997              6.0            7.0          0.0                 27.0   \n\n       Num_of_Delayed_Payment  ...  Credit_Mix  Outstanding_Debt  \\\n0                         7.0  ...         2.0         28.460148   \n1                         4.0  ...         2.0         28.460148   \n2                         7.0  ...         2.0         28.460148   \n3                         4.0  ...         2.0         28.460148   \n4                         4.0  ...         2.0         28.460148   \n...                       ...  ...         ...               ...   \n99993                     6.0  ...         2.0         22.413835   \n99994                     6.0  ...         2.0         22.413835   \n99995                     7.0  ...         2.0         22.413835   \n99996                     7.0  ...         2.0         22.413835   \n99997                     6.0  ...         2.0         22.413835   \n\n       Credit_Utilization_Ratio  Credit_History_Age  Payment_of_Min_Amount  \\\n0                     26.822620                 1.0                    1.0   \n1                     31.944960                 1.0                    1.0   \n2                     28.609352                 1.0                    1.0   \n3                     31.377862                 1.0                    1.0   \n4                     24.797347                 1.0                    1.0   \n...                         ...                 ...                    ...   \n99993                 29.135447                 1.0                    1.0   \n99994                 39.323569                 1.0                    1.0   \n99995                 34.663572                 1.0                    1.0   \n99996                 40.565631                 1.0                    1.0   \n99997                 41.255522                 1.0                    1.0   \n\n       Total_EMI_per_month  Amount_invested_monthly  Payment_Behaviour  \\\n0                49.574949                21.465380                2.0   \n1                49.574949                21.465380                3.0   \n2                49.574949                21.465380                4.0   \n3                49.574949                21.465380                5.0   \n4                49.574949                21.465380                1.0   \n...                    ...                      ...                ...   \n99993            35.104023                24.028477                4.0   \n99994            35.104023                24.028477                1.0   \n99995            35.104023                24.028477                0.0   \n99996            35.104023                24.028477                1.0   \n99997            35.104023                24.028477                0.0   \n\n       Monthly_Balance  Credit_Score  \n0           312.494089             2  \n1           284.629162             2  \n2           331.209863             2  \n3           223.451310             2  \n4           341.489231             2  \n...                ...           ...  \n99993       400.104466             1  \n99994       410.256158             0  \n99995       479.866228             0  \n99996       496.651610             0  \n99997       516.809083             0  \n\n[75000 rows x 22 columns]",
      "text/html": "<div>\n<style scoped>\n    .dataframe tbody tr th:only-of-type {\n        vertical-align: middle;\n    }\n\n    .dataframe tbody tr th {\n        vertical-align: top;\n    }\n\n    .dataframe thead th {\n        text-align: right;\n    }\n</style>\n<table border=\"1\" class=\"dataframe\">\n  <thead>\n    <tr style=\"text-align: right;\">\n      <th></th>\n      <th>Customer_ID</th>\n      <th>Month</th>\n      <th>Age</th>\n      <th>Monthly_Inhand_Salary</th>\n      <th>Num_Bank_Accounts</th>\n      <th>Num_Credit_Card</th>\n      <th>Interest_Rate</th>\n      <th>Num_of_Loan</th>\n      <th>Delay_from_due_date</th>\n      <th>Num_of_Delayed_Payment</th>\n      <th>...</th>\n      <th>Credit_Mix</th>\n      <th>Outstanding_Debt</th>\n      <th>Credit_Utilization_Ratio</th>\n      <th>Credit_History_Age</th>\n      <th>Payment_of_Min_Amount</th>\n      <th>Total_EMI_per_month</th>\n      <th>Amount_invested_monthly</th>\n      <th>Payment_Behaviour</th>\n      <th>Monthly_Balance</th>\n      <th>Credit_Score</th>\n    </tr>\n  </thead>\n  <tbody>\n    <tr>\n      <th>0</th>\n      <td>576.0</td>\n      <td>1.0</td>\n      <td>1.0</td>\n      <td>7.509249</td>\n      <td>3.0</td>\n      <td>4.0</td>\n      <td>3.0</td>\n      <td>0.0</td>\n      <td>3.0</td>\n      <td>7.0</td>\n      <td>...</td>\n      <td>2.0</td>\n      <td>28.460148</td>\n      <td>26.822620</td>\n      <td>1.0</td>\n      <td>1.0</td>\n      <td>49.574949</td>\n      <td>21.465380</td>\n      <td>2.0</td>\n      <td>312.494089</td>\n      <td>2</td>\n    </tr>\n    <tr>\n      <th>1</th>\n      <td>576.0</td>\n      <td>2.0</td>\n      <td>1.0</td>\n      <td>7.509249</td>\n      <td>3.0</td>\n      <td>4.0</td>\n      <td>3.0</td>\n      <td>0.0</td>\n      <td>3.0</td>\n      <td>4.0</td>\n      <td>...</td>\n      <td>2.0</td>\n      <td>28.460148</td>\n      <td>31.944960</td>\n      <td>1.0</td>\n      <td>1.0</td>\n      <td>49.574949</td>\n      <td>21.465380</td>\n      <td>3.0</td>\n      <td>284.629162</td>\n      <td>2</td>\n    </tr>\n    <tr>\n      <th>2</th>\n      <td>576.0</td>\n      <td>3.0</td>\n      <td>1.0</td>\n      <td>7.509249</td>\n      <td>3.0</td>\n      <td>4.0</td>\n      <td>3.0</td>\n      <td>0.0</td>\n      <td>3.0</td>\n      <td>7.0</td>\n      <td>...</td>\n      <td>2.0</td>\n      <td>28.460148</td>\n      <td>28.609352</td>\n      <td>1.0</td>\n      <td>1.0</td>\n      <td>49.574949</td>\n      <td>21.465380</td>\n      <td>4.0</td>\n      <td>331.209863</td>\n      <td>2</td>\n    </tr>\n    <tr>\n      <th>3</th>\n      <td>576.0</td>\n      <td>4.0</td>\n      <td>1.0</td>\n      <td>7.509249</td>\n      <td>3.0</td>\n      <td>4.0</td>\n      <td>3.0</td>\n      <td>0.0</td>\n      <td>5.0</td>\n      <td>4.0</td>\n      <td>...</td>\n      <td>2.0</td>\n      <td>28.460148</td>\n      <td>31.377862</td>\n      <td>1.0</td>\n      <td>1.0</td>\n      <td>49.574949</td>\n      <td>21.465380</td>\n      <td>5.0</td>\n      <td>223.451310</td>\n      <td>2</td>\n    </tr>\n    <tr>\n      <th>4</th>\n      <td>576.0</td>\n      <td>5.0</td>\n      <td>1.0</td>\n      <td>7.509249</td>\n      <td>3.0</td>\n      <td>4.0</td>\n      <td>3.0</td>\n      <td>0.0</td>\n      <td>6.0</td>\n      <td>4.0</td>\n      <td>...</td>\n      <td>2.0</td>\n      <td>28.460148</td>\n      <td>24.797347</td>\n      <td>1.0</td>\n      <td>1.0</td>\n      <td>49.574949</td>\n      <td>21.465380</td>\n      <td>1.0</td>\n      <td>341.489231</td>\n      <td>2</td>\n    </tr>\n    <tr>\n      <th>...</th>\n      <td>...</td>\n      <td>...</td>\n      <td>...</td>\n      <td>...</td>\n      <td>...</td>\n      <td>...</td>\n      <td>...</td>\n      <td>...</td>\n      <td>...</td>\n      <td>...</td>\n      <td>...</td>\n      <td>...</td>\n      <td>...</td>\n      <td>...</td>\n      <td>...</td>\n      <td>...</td>\n      <td>...</td>\n      <td>...</td>\n      <td>...</td>\n      <td>...</td>\n      <td>...</td>\n    </tr>\n    <tr>\n      <th>99993</th>\n      <td>9254.0</td>\n      <td>2.0</td>\n      <td>1.0</td>\n      <td>8.119522</td>\n      <td>4.0</td>\n      <td>6.0</td>\n      <td>7.0</td>\n      <td>0.0</td>\n      <td>23.0</td>\n      <td>6.0</td>\n      <td>...</td>\n      <td>2.0</td>\n      <td>22.413835</td>\n      <td>29.135447</td>\n      <td>1.0</td>\n      <td>1.0</td>\n      <td>35.104023</td>\n      <td>24.028477</td>\n      <td>4.0</td>\n      <td>400.104466</td>\n      <td>1</td>\n    </tr>\n    <tr>\n      <th>99994</th>\n      <td>9254.0</td>\n      <td>3.0</td>\n      <td>1.0</td>\n      <td>8.119522</td>\n      <td>4.0</td>\n      <td>6.0</td>\n      <td>7.0</td>\n      <td>0.0</td>\n      <td>20.0</td>\n      <td>6.0</td>\n      <td>...</td>\n      <td>2.0</td>\n      <td>22.413835</td>\n      <td>39.323569</td>\n      <td>1.0</td>\n      <td>1.0</td>\n      <td>35.104023</td>\n      <td>24.028477</td>\n      <td>1.0</td>\n      <td>410.256158</td>\n      <td>0</td>\n    </tr>\n    <tr>\n      <th>99995</th>\n      <td>9254.0</td>\n      <td>4.0</td>\n      <td>1.0</td>\n      <td>8.119522</td>\n      <td>4.0</td>\n      <td>6.0</td>\n      <td>7.0</td>\n      <td>0.0</td>\n      <td>23.0</td>\n      <td>7.0</td>\n      <td>...</td>\n      <td>2.0</td>\n      <td>22.413835</td>\n      <td>34.663572</td>\n      <td>1.0</td>\n      <td>1.0</td>\n      <td>35.104023</td>\n      <td>24.028477</td>\n      <td>0.0</td>\n      <td>479.866228</td>\n      <td>0</td>\n    </tr>\n    <tr>\n      <th>99996</th>\n      <td>9254.0</td>\n      <td>5.0</td>\n      <td>1.0</td>\n      <td>8.119522</td>\n      <td>4.0</td>\n      <td>6.0</td>\n      <td>7.0</td>\n      <td>0.0</td>\n      <td>18.0</td>\n      <td>7.0</td>\n      <td>...</td>\n      <td>2.0</td>\n      <td>22.413835</td>\n      <td>40.565631</td>\n      <td>1.0</td>\n      <td>1.0</td>\n      <td>35.104023</td>\n      <td>24.028477</td>\n      <td>1.0</td>\n      <td>496.651610</td>\n      <td>0</td>\n    </tr>\n    <tr>\n      <th>99997</th>\n      <td>9254.0</td>\n      <td>6.0</td>\n      <td>1.0</td>\n      <td>8.119522</td>\n      <td>4.0</td>\n      <td>6.0</td>\n      <td>7.0</td>\n      <td>0.0</td>\n      <td>27.0</td>\n      <td>6.0</td>\n      <td>...</td>\n      <td>2.0</td>\n      <td>22.413835</td>\n      <td>41.255522</td>\n      <td>1.0</td>\n      <td>1.0</td>\n      <td>35.104023</td>\n      <td>24.028477</td>\n      <td>0.0</td>\n      <td>516.809083</td>\n      <td>0</td>\n    </tr>\n  </tbody>\n</table>\n<p>75000 rows × 22 columns</p>\n</div>"
     },
     "execution_count": 22,
     "metadata": {},
     "output_type": "execute_result"
    }
   ],
   "source": [
    "train_df"
   ],
   "metadata": {
    "collapsed": false
   }
  },
  {
   "cell_type": "code",
   "execution_count": 23,
   "outputs": [
    {
     "name": "stdout",
     "output_type": "stream",
     "text": [
      "(75000, 21)\n",
      "(75000,)\n",
      "(25000, 21)\n",
      "(25000,)\n"
     ]
    }
   ],
   "source": [
    "X_train, y_train = train_df.iloc[:, :-1], train_df.iloc[:, -1]\n",
    "X_test, y_test = test_df.iloc[:, :-1], test_df.iloc[:, -1]\n",
    "\n",
    "print(X_train.shape)\n",
    "print(y_train.shape)\n",
    "\n",
    "print(X_test.shape)\n",
    "print(y_test.shape)"
   ],
   "metadata": {
    "collapsed": false
   }
  },
  {
   "cell_type": "code",
   "execution_count": 48,
   "outputs": [
    {
     "data": {
      "text/plain": "       Customer_ID  Month  Age  Monthly_Inhand_Salary  Num_Bank_Accounts  \\\n0            576.0    1.0  1.0               7.509249                3.0   \n1            576.0    2.0  1.0               7.509249                3.0   \n2            576.0    3.0  1.0               7.509249                3.0   \n3            576.0    4.0  1.0               7.509249                3.0   \n4            576.0    5.0  1.0               7.509249                3.0   \n...            ...    ...  ...                    ...                ...   \n99993       9254.0    2.0  1.0               8.119522                4.0   \n99994       9254.0    3.0  1.0               8.119522                4.0   \n99995       9254.0    4.0  1.0               8.119522                4.0   \n99996       9254.0    5.0  1.0               8.119522                4.0   \n99997       9254.0    6.0  1.0               8.119522                4.0   \n\n       Num_Credit_Card  Interest_Rate  Num_of_Loan  Delay_from_due_date  \\\n0                  4.0            3.0          0.0                  3.0   \n1                  4.0            3.0          0.0                  3.0   \n2                  4.0            3.0          0.0                  3.0   \n3                  4.0            3.0          0.0                  5.0   \n4                  4.0            3.0          0.0                  6.0   \n...                ...            ...          ...                  ...   \n99993              6.0            7.0          0.0                 23.0   \n99994              6.0            7.0          0.0                 20.0   \n99995              6.0            7.0          0.0                 23.0   \n99996              6.0            7.0          0.0                 18.0   \n99997              6.0            7.0          0.0                 27.0   \n\n       Num_of_Delayed_Payment  ...  Num_Credit_Inquiries  Credit_Mix  \\\n0                         7.0  ...                   4.0         2.0   \n1                         4.0  ...                   4.0         2.0   \n2                         7.0  ...                   4.0         2.0   \n3                         4.0  ...                   4.0         2.0   \n4                         4.0  ...                   4.0         2.0   \n...                       ...  ...                   ...         ...   \n99993                     6.0  ...                   3.0         2.0   \n99994                     6.0  ...                   3.0         2.0   \n99995                     7.0  ...                   3.0         2.0   \n99996                     7.0  ...                   3.0         2.0   \n99997                     6.0  ...                   3.0         2.0   \n\n       Outstanding_Debt  Credit_Utilization_Ratio  Credit_History_Age  \\\n0             28.460148                 26.822620                 1.0   \n1             28.460148                 31.944960                 1.0   \n2             28.460148                 28.609352                 1.0   \n3             28.460148                 31.377862                 1.0   \n4             28.460148                 24.797347                 1.0   \n...                 ...                       ...                 ...   \n99993         22.413835                 29.135447                 1.0   \n99994         22.413835                 39.323569                 1.0   \n99995         22.413835                 34.663572                 1.0   \n99996         22.413835                 40.565631                 1.0   \n99997         22.413835                 41.255522                 1.0   \n\n       Payment_of_Min_Amount  Total_EMI_per_month  Amount_invested_monthly  \\\n0                        1.0            49.574949                21.465380   \n1                        1.0            49.574949                21.465380   \n2                        1.0            49.574949                21.465380   \n3                        1.0            49.574949                21.465380   \n4                        1.0            49.574949                21.465380   \n...                      ...                  ...                      ...   \n99993                    1.0            35.104023                24.028477   \n99994                    1.0            35.104023                24.028477   \n99995                    1.0            35.104023                24.028477   \n99996                    1.0            35.104023                24.028477   \n99997                    1.0            35.104023                24.028477   \n\n       Payment_Behaviour  Monthly_Balance  \n0                    2.0       312.494089  \n1                    3.0       284.629162  \n2                    4.0       331.209863  \n3                    5.0       223.451310  \n4                    1.0       341.489231  \n...                  ...              ...  \n99993                4.0       400.104466  \n99994                1.0       410.256158  \n99995                0.0       479.866228  \n99996                1.0       496.651610  \n99997                0.0       516.809083  \n\n[75000 rows x 21 columns]",
      "text/html": "<div>\n<style scoped>\n    .dataframe tbody tr th:only-of-type {\n        vertical-align: middle;\n    }\n\n    .dataframe tbody tr th {\n        vertical-align: top;\n    }\n\n    .dataframe thead th {\n        text-align: right;\n    }\n</style>\n<table border=\"1\" class=\"dataframe\">\n  <thead>\n    <tr style=\"text-align: right;\">\n      <th></th>\n      <th>Customer_ID</th>\n      <th>Month</th>\n      <th>Age</th>\n      <th>Monthly_Inhand_Salary</th>\n      <th>Num_Bank_Accounts</th>\n      <th>Num_Credit_Card</th>\n      <th>Interest_Rate</th>\n      <th>Num_of_Loan</th>\n      <th>Delay_from_due_date</th>\n      <th>Num_of_Delayed_Payment</th>\n      <th>...</th>\n      <th>Num_Credit_Inquiries</th>\n      <th>Credit_Mix</th>\n      <th>Outstanding_Debt</th>\n      <th>Credit_Utilization_Ratio</th>\n      <th>Credit_History_Age</th>\n      <th>Payment_of_Min_Amount</th>\n      <th>Total_EMI_per_month</th>\n      <th>Amount_invested_monthly</th>\n      <th>Payment_Behaviour</th>\n      <th>Monthly_Balance</th>\n    </tr>\n  </thead>\n  <tbody>\n    <tr>\n      <th>0</th>\n      <td>576.0</td>\n      <td>1.0</td>\n      <td>1.0</td>\n      <td>7.509249</td>\n      <td>3.0</td>\n      <td>4.0</td>\n      <td>3.0</td>\n      <td>0.0</td>\n      <td>3.0</td>\n      <td>7.0</td>\n      <td>...</td>\n      <td>4.0</td>\n      <td>2.0</td>\n      <td>28.460148</td>\n      <td>26.822620</td>\n      <td>1.0</td>\n      <td>1.0</td>\n      <td>49.574949</td>\n      <td>21.465380</td>\n      <td>2.0</td>\n      <td>312.494089</td>\n    </tr>\n    <tr>\n      <th>1</th>\n      <td>576.0</td>\n      <td>2.0</td>\n      <td>1.0</td>\n      <td>7.509249</td>\n      <td>3.0</td>\n      <td>4.0</td>\n      <td>3.0</td>\n      <td>0.0</td>\n      <td>3.0</td>\n      <td>4.0</td>\n      <td>...</td>\n      <td>4.0</td>\n      <td>2.0</td>\n      <td>28.460148</td>\n      <td>31.944960</td>\n      <td>1.0</td>\n      <td>1.0</td>\n      <td>49.574949</td>\n      <td>21.465380</td>\n      <td>3.0</td>\n      <td>284.629162</td>\n    </tr>\n    <tr>\n      <th>2</th>\n      <td>576.0</td>\n      <td>3.0</td>\n      <td>1.0</td>\n      <td>7.509249</td>\n      <td>3.0</td>\n      <td>4.0</td>\n      <td>3.0</td>\n      <td>0.0</td>\n      <td>3.0</td>\n      <td>7.0</td>\n      <td>...</td>\n      <td>4.0</td>\n      <td>2.0</td>\n      <td>28.460148</td>\n      <td>28.609352</td>\n      <td>1.0</td>\n      <td>1.0</td>\n      <td>49.574949</td>\n      <td>21.465380</td>\n      <td>4.0</td>\n      <td>331.209863</td>\n    </tr>\n    <tr>\n      <th>3</th>\n      <td>576.0</td>\n      <td>4.0</td>\n      <td>1.0</td>\n      <td>7.509249</td>\n      <td>3.0</td>\n      <td>4.0</td>\n      <td>3.0</td>\n      <td>0.0</td>\n      <td>5.0</td>\n      <td>4.0</td>\n      <td>...</td>\n      <td>4.0</td>\n      <td>2.0</td>\n      <td>28.460148</td>\n      <td>31.377862</td>\n      <td>1.0</td>\n      <td>1.0</td>\n      <td>49.574949</td>\n      <td>21.465380</td>\n      <td>5.0</td>\n      <td>223.451310</td>\n    </tr>\n    <tr>\n      <th>4</th>\n      <td>576.0</td>\n      <td>5.0</td>\n      <td>1.0</td>\n      <td>7.509249</td>\n      <td>3.0</td>\n      <td>4.0</td>\n      <td>3.0</td>\n      <td>0.0</td>\n      <td>6.0</td>\n      <td>4.0</td>\n      <td>...</td>\n      <td>4.0</td>\n      <td>2.0</td>\n      <td>28.460148</td>\n      <td>24.797347</td>\n      <td>1.0</td>\n      <td>1.0</td>\n      <td>49.574949</td>\n      <td>21.465380</td>\n      <td>1.0</td>\n      <td>341.489231</td>\n    </tr>\n    <tr>\n      <th>...</th>\n      <td>...</td>\n      <td>...</td>\n      <td>...</td>\n      <td>...</td>\n      <td>...</td>\n      <td>...</td>\n      <td>...</td>\n      <td>...</td>\n      <td>...</td>\n      <td>...</td>\n      <td>...</td>\n      <td>...</td>\n      <td>...</td>\n      <td>...</td>\n      <td>...</td>\n      <td>...</td>\n      <td>...</td>\n      <td>...</td>\n      <td>...</td>\n      <td>...</td>\n      <td>...</td>\n    </tr>\n    <tr>\n      <th>99993</th>\n      <td>9254.0</td>\n      <td>2.0</td>\n      <td>1.0</td>\n      <td>8.119522</td>\n      <td>4.0</td>\n      <td>6.0</td>\n      <td>7.0</td>\n      <td>0.0</td>\n      <td>23.0</td>\n      <td>6.0</td>\n      <td>...</td>\n      <td>3.0</td>\n      <td>2.0</td>\n      <td>22.413835</td>\n      <td>29.135447</td>\n      <td>1.0</td>\n      <td>1.0</td>\n      <td>35.104023</td>\n      <td>24.028477</td>\n      <td>4.0</td>\n      <td>400.104466</td>\n    </tr>\n    <tr>\n      <th>99994</th>\n      <td>9254.0</td>\n      <td>3.0</td>\n      <td>1.0</td>\n      <td>8.119522</td>\n      <td>4.0</td>\n      <td>6.0</td>\n      <td>7.0</td>\n      <td>0.0</td>\n      <td>20.0</td>\n      <td>6.0</td>\n      <td>...</td>\n      <td>3.0</td>\n      <td>2.0</td>\n      <td>22.413835</td>\n      <td>39.323569</td>\n      <td>1.0</td>\n      <td>1.0</td>\n      <td>35.104023</td>\n      <td>24.028477</td>\n      <td>1.0</td>\n      <td>410.256158</td>\n    </tr>\n    <tr>\n      <th>99995</th>\n      <td>9254.0</td>\n      <td>4.0</td>\n      <td>1.0</td>\n      <td>8.119522</td>\n      <td>4.0</td>\n      <td>6.0</td>\n      <td>7.0</td>\n      <td>0.0</td>\n      <td>23.0</td>\n      <td>7.0</td>\n      <td>...</td>\n      <td>3.0</td>\n      <td>2.0</td>\n      <td>22.413835</td>\n      <td>34.663572</td>\n      <td>1.0</td>\n      <td>1.0</td>\n      <td>35.104023</td>\n      <td>24.028477</td>\n      <td>0.0</td>\n      <td>479.866228</td>\n    </tr>\n    <tr>\n      <th>99996</th>\n      <td>9254.0</td>\n      <td>5.0</td>\n      <td>1.0</td>\n      <td>8.119522</td>\n      <td>4.0</td>\n      <td>6.0</td>\n      <td>7.0</td>\n      <td>0.0</td>\n      <td>18.0</td>\n      <td>7.0</td>\n      <td>...</td>\n      <td>3.0</td>\n      <td>2.0</td>\n      <td>22.413835</td>\n      <td>40.565631</td>\n      <td>1.0</td>\n      <td>1.0</td>\n      <td>35.104023</td>\n      <td>24.028477</td>\n      <td>1.0</td>\n      <td>496.651610</td>\n    </tr>\n    <tr>\n      <th>99997</th>\n      <td>9254.0</td>\n      <td>6.0</td>\n      <td>1.0</td>\n      <td>8.119522</td>\n      <td>4.0</td>\n      <td>6.0</td>\n      <td>7.0</td>\n      <td>0.0</td>\n      <td>27.0</td>\n      <td>6.0</td>\n      <td>...</td>\n      <td>3.0</td>\n      <td>2.0</td>\n      <td>22.413835</td>\n      <td>41.255522</td>\n      <td>1.0</td>\n      <td>1.0</td>\n      <td>35.104023</td>\n      <td>24.028477</td>\n      <td>0.0</td>\n      <td>516.809083</td>\n    </tr>\n  </tbody>\n</table>\n<p>75000 rows × 21 columns</p>\n</div>"
     },
     "execution_count": 48,
     "metadata": {},
     "output_type": "execute_result"
    }
   ],
   "source": [
    "X_train"
   ],
   "metadata": {
    "collapsed": false
   }
  },
  {
   "cell_type": "code",
   "execution_count": 52,
   "outputs": [
    {
     "name": "stdout",
     "output_type": "stream",
     "text": [
      "(12500, 6, 21)\n",
      "(12500, 2, 21)\n"
     ]
    }
   ],
   "source": [
    "timesteps = 6\n",
    "num_features = X_train.shape[-1]\n",
    "sample_size = X_train.shape[0]\n",
    "\n",
    "X_train_reshape = np.reshape(X_train.values, newshape=(12500, timesteps, num_features))\n",
    "X_test_reshape = np.reshape(X_test.values, newshape=(12500, 2, num_features))\n",
    "\n",
    "print(X_train_reshape.shape)\n",
    "print(X_test_reshape.shape)"
   ],
   "metadata": {
    "collapsed": false
   }
  },
  {
   "cell_type": "code",
   "execution_count": 53,
   "outputs": [],
   "source": [
    "import tensorflow as tf\n",
    "from time import time\n",
    "from datetime import timedelta\n",
    "from sklearn.metrics import classification_report, confusion_matrix, accuracy_score"
   ],
   "metadata": {
    "collapsed": false
   }
  },
  {
   "cell_type": "code",
   "execution_count": 54,
   "outputs": [],
   "source": [
    "import matplotlib.pyplot as plt\n",
    "import seaborn as sns"
   ],
   "metadata": {
    "collapsed": false
   }
  },
  {
   "cell_type": "code",
   "execution_count": 77,
   "outputs": [],
   "source": [
    "# loss와 accuracy 시각화를 위한 함수 정의\n",
    "def plot_loss(history):\n",
    "    plt.figure(figsize=(8, 5))\n",
    "    plt.plot(history.history['loss'], 'b-', label='loss')\n",
    "    plt.plot(history.history['val_loss'], 'g--', label='val_loss')\n",
    "    plt.xlabel('Epochs')\n",
    "    plt.ylabel('Loss')\n",
    "    plt.title('Loss vs Val Loss')\n",
    "    plt.legend()\n",
    "    plt.show()\n",
    "\n",
    "def plot_acc(history):\n",
    "    plt.figure(figsize=(8, 5))\n",
    "    plt.plot(history.history['acc'], 'b-', label='acc')\n",
    "    plt.plot(history.history['val_acc'], 'g--', label='val_acc')\n",
    "    plt.xlabel('Epochs')\n",
    "    plt.ylabel('Accuracy')\n",
    "    plt.title('Accuracy vs Val Accuracy')\n",
    "    plt.legend()\n",
    "    plt.show()"
   ],
   "metadata": {
    "collapsed": false
   }
  },
  {
   "cell_type": "code",
   "execution_count": 55,
   "outputs": [],
   "source": [
    "# 결과 재활용을 위한 시드 설정 함수 정의\n",
    "import random\n",
    "def set_seed(seed: int = 42) -> None:\n",
    "    random.seed(seed)\n",
    "    np.random.seed(seed)\n",
    "    tf.random.set_seed(seed)\n",
    "    tf.experimental.numpy.random.seed(seed)\n",
    "    # When running on the CuDNN backend, two further options must be set\n",
    "    os.environ['TF_CUDNN_DETERMINISTIC'] = '1'\n",
    "    os.environ['TF_DETERMINISTIC_OPS'] = '1'\n",
    "    # Set a fixed value for the hash seed\n",
    "    os.environ[\"PYTHONHASHSEED\"] = str(seed)\n",
    "    print(f\"Random seed set as {seed}\")"
   ],
   "metadata": {
    "collapsed": false
   }
  },
  {
   "cell_type": "code",
   "execution_count": 56,
   "outputs": [],
   "source": [
    "# 분류모델 결과 평가를 위한 혼동행렬 리포트 & 시각화 함수 정의\n",
    "def clf_report_plot(y_true, X_test, model):\n",
    "\n",
    "    result = model.predict(X_test)\n",
    "\n",
    "    y_pred = []\n",
    "    for pred in result:\n",
    "        y_pred.append(np.argmax(pred))\n",
    "\n",
    "    print(classification_report(y_true, y_pred, digits=4))\n",
    "\n",
    "    # plt.rc('font', family='NanumGothicOTF') # For MacOS\n",
    "    plt.rc('font', family='NanumGothic') # For Windows\n",
    "\n",
    "    ax = plt.subplot()\n",
    "    ax.figure.set_size_inches(10, 10)\n",
    "    cm = confusion_matrix(y_true=y_true, y_pred=y_pred)\n",
    "    sns.heatmap(cm, annot=True, fmt='.0f', cmap='Blues', ax=ax)\n",
    "\n",
    "    ax.set_title('Confusion Matrix',fontsize=20, y=1.05)\n",
    "    ax.set_xlabel('Predicted Labels', fontsize=15)\n",
    "    ax.set_ylabel('True Labels', fontsize=15)\n",
    "\n",
    "    ax.xaxis.set_ticklabels(['Poor', 'Standard', 'Good'])\n",
    "    ax.yaxis.set_ticklabels(['Poor', 'Standard', 'Good'])\n",
    "    plt.show()"
   ],
   "metadata": {
    "collapsed": false
   }
  },
  {
   "cell_type": "code",
   "execution_count": 57,
   "outputs": [],
   "source": [
    "from tensorflow.keras.models import Sequential, load_model\n",
    "\n",
    "from tensorflow.keras.layers import Embedding, Dense, LSTM, RNN, Flatten, SimpleRNN\n",
    "from tensorflow.keras.layers import Conv1D, MaxPooling1D, Dropout, Input\n",
    "\n",
    "from tensorflow.keras.initializers import GlorotUniform\n",
    "\n",
    "from tensorflow.keras.callbacks import EarlyStopping, ModelCheckpoint\n",
    "\n",
    "from sklearn.metrics import confusion_matrix, classification_report"
   ],
   "metadata": {
    "collapsed": false
   }
  },
  {
   "cell_type": "code",
   "execution_count": 59,
   "outputs": [],
   "source": [
    "import os"
   ],
   "metadata": {
    "collapsed": false
   }
  },
  {
   "cell_type": "code",
   "execution_count": 73,
   "outputs": [
    {
     "name": "stdout",
     "output_type": "stream",
     "text": [
      "Random seed set as 42\n",
      "Model: \"sequential_5\"\n",
      "_________________________________________________________________\n",
      " Layer (type)                Output Shape              Param #   \n",
      "=================================================================\n",
      " lstm_6 (LSTM)               (None, 6, 128)            76800     \n",
      "                                                                 \n",
      " lstm_7 (LSTM)               (None, 128)               131584    \n",
      "                                                                 \n",
      " dropout_2 (Dropout)         (None, 128)               0         \n",
      "                                                                 \n",
      " dense_8 (Dense)             (None, 64)                8256      \n",
      "                                                                 \n",
      " dropout_3 (Dropout)         (None, 64)                0         \n",
      "                                                                 \n",
      " dense_9 (Dense)             (None, 3)                 195       \n",
      "                                                                 \n",
      "=================================================================\n",
      "Total params: 216,835\n",
      "Trainable params: 216,835\n",
      "Non-trainable params: 0\n",
      "_________________________________________________________________\n"
     ]
    }
   ],
   "source": [
    "set_seed(42)\n",
    "model = Sequential()\n",
    "# model.add(LSTM(128, batch_input_shape=(12500, 6, 21)))\n",
    "model.add(LSTM(128, input_shape=(6, 21), return_sequences=True))\n",
    "model.add(LSTM(128))\n",
    "model.add(Dropout(0.3))\n",
    "model.add(Dense(64, activation='relu'))\n",
    "model.add(Dropout(0.3))\n",
    "model.add(Dense(3, activation='softmax'))\n",
    "model.summary()"
   ],
   "metadata": {
    "collapsed": false
   }
  },
  {
   "cell_type": "code",
   "execution_count": 74,
   "outputs": [],
   "source": [
    "model.compile(optimizer='adam', loss='sparse_categorical_crossentropy', metrics=['acc'])\n",
    "\n",
    "es = EarlyStopping(monitor='val_loss', mode='min', verbose=1, patience=5)\n",
    "mc = ModelCheckpoint('lstm_best_model.h5', monitor='val_acc', mode='max', verbose=1, save_best_only=True)"
   ],
   "metadata": {
    "collapsed": false
   }
  },
  {
   "cell_type": "code",
   "execution_count": 75,
   "outputs": [
    {
     "name": "stdout",
     "output_type": "stream",
     "text": [
      "Algorithm starts learning.....\n",
      "Epoch 1/50\n"
     ]
    },
    {
     "name": "stderr",
     "output_type": "stream",
     "text": [
      "2022-11-15 18:34:29.714792: I tensorflow/core/grappler/optimizers/custom_graph_optimizer_registry.cc:114] Plugin optimizer for device_type GPU is enabled.\n",
      "2022-11-15 18:34:29.872563: I tensorflow/core/grappler/optimizers/custom_graph_optimizer_registry.cc:114] Plugin optimizer for device_type GPU is enabled.\n",
      "2022-11-15 18:34:29.914315: I tensorflow/core/grappler/optimizers/custom_graph_optimizer_registry.cc:114] Plugin optimizer for device_type GPU is enabled.\n"
     ]
    },
    {
     "name": "stdout",
     "output_type": "stream",
     "text": [
      "  1/157 [..............................] - ETA: 3:21 - loss: 1.2020 - acc: 0.2344"
     ]
    },
    {
     "name": "stderr",
     "output_type": "stream",
     "text": [
      "2022-11-15 18:34:30.031668: I tensorflow/core/grappler/optimizers/custom_graph_optimizer_registry.cc:114] Plugin optimizer for device_type GPU is enabled.\n",
      "2022-11-15 18:34:30.104571: I tensorflow/core/grappler/optimizers/custom_graph_optimizer_registry.cc:114] Plugin optimizer for device_type GPU is enabled.\n"
     ]
    },
    {
     "name": "stdout",
     "output_type": "stream",
     "text": [
      "157/157 [==============================] - ETA: 0s - loss: 1.0182 - acc: 0.5204"
     ]
    },
    {
     "name": "stderr",
     "output_type": "stream",
     "text": [
      "2022-11-15 18:34:33.459164: I tensorflow/core/grappler/optimizers/custom_graph_optimizer_registry.cc:114] Plugin optimizer for device_type GPU is enabled.\n",
      "2022-11-15 18:34:33.519665: I tensorflow/core/grappler/optimizers/custom_graph_optimizer_registry.cc:114] Plugin optimizer for device_type GPU is enabled.\n",
      "2022-11-15 18:34:33.554434: I tensorflow/core/grappler/optimizers/custom_graph_optimizer_registry.cc:114] Plugin optimizer for device_type GPU is enabled.\n"
     ]
    },
    {
     "name": "stdout",
     "output_type": "stream",
     "text": [
      "\n",
      "Epoch 1: val_acc improved from -inf to 0.52240, saving model to lstm_best_model.h5\n",
      "157/157 [==============================] - 5s 25ms/step - loss: 1.0182 - acc: 0.5204 - val_loss: 1.0117 - val_acc: 0.5224\n",
      "Epoch 2/50\n",
      "155/157 [============================>.] - ETA: 0s - loss: 1.0088 - acc: 0.5274\n",
      "Epoch 2: val_acc did not improve from 0.52240\n",
      "157/157 [==============================] - 3s 20ms/step - loss: 1.0095 - acc: 0.5267 - val_loss: 1.0128 - val_acc: 0.5220\n",
      "Epoch 3/50\n",
      "157/157 [==============================] - ETA: 0s - loss: 1.0071 - acc: 0.5260\n",
      "Epoch 3: val_acc did not improve from 0.52240\n",
      "157/157 [==============================] - 3s 20ms/step - loss: 1.0071 - acc: 0.5260 - val_loss: 1.0109 - val_acc: 0.5224\n",
      "Epoch 4/50\n",
      "157/157 [==============================] - ETA: 0s - loss: 1.0068 - acc: 0.5265\n",
      "Epoch 4: val_acc did not improve from 0.52240\n",
      "157/157 [==============================] - 3s 21ms/step - loss: 1.0068 - acc: 0.5265 - val_loss: 1.0101 - val_acc: 0.5220\n",
      "Epoch 5/50\n",
      "157/157 [==============================] - ETA: 0s - loss: 1.0072 - acc: 0.5271\n",
      "Epoch 5: val_acc did not improve from 0.52240\n",
      "157/157 [==============================] - 3s 21ms/step - loss: 1.0072 - acc: 0.5271 - val_loss: 1.0103 - val_acc: 0.5224\n",
      "Epoch 6/50\n",
      "157/157 [==============================] - ETA: 0s - loss: 1.0073 - acc: 0.5270\n",
      "Epoch 6: val_acc did not improve from 0.52240\n",
      "157/157 [==============================] - 3s 20ms/step - loss: 1.0073 - acc: 0.5270 - val_loss: 1.0098 - val_acc: 0.5224\n",
      "Epoch 7/50\n",
      "156/157 [============================>.] - ETA: 0s - loss: 1.0061 - acc: 0.5266\n",
      "Epoch 7: val_acc did not improve from 0.52240\n",
      "157/157 [==============================] - 3s 20ms/step - loss: 1.0059 - acc: 0.5267 - val_loss: 1.0103 - val_acc: 0.5220\n",
      "Epoch 8/50\n",
      "155/157 [============================>.] - ETA: 0s - loss: 1.0065 - acc: 0.5262\n",
      "Epoch 8: val_acc did not improve from 0.52240\n",
      "157/157 [==============================] - 3s 19ms/step - loss: 1.0064 - acc: 0.5265 - val_loss: 1.0099 - val_acc: 0.5216\n",
      "Epoch 9/50\n",
      "157/157 [==============================] - ETA: 0s - loss: 1.0068 - acc: 0.5264\n",
      "Epoch 9: val_acc improved from 0.52240 to 0.52280, saving model to lstm_best_model.h5\n",
      "157/157 [==============================] - 3s 19ms/step - loss: 1.0068 - acc: 0.5264 - val_loss: 1.0105 - val_acc: 0.5228\n",
      "Epoch 10/50\n",
      "155/157 [============================>.] - ETA: 0s - loss: 1.0051 - acc: 0.5278\n",
      "Epoch 10: val_acc did not improve from 0.52280\n",
      "157/157 [==============================] - 3s 19ms/step - loss: 1.0055 - acc: 0.5274 - val_loss: 1.0105 - val_acc: 0.5224\n",
      "Epoch 11/50\n",
      "155/157 [============================>.] - ETA: 0s - loss: 1.0062 - acc: 0.5268\n",
      "Epoch 11: val_acc did not improve from 0.52280\n",
      "157/157 [==============================] - 3s 19ms/step - loss: 1.0066 - acc: 0.5265 - val_loss: 1.0093 - val_acc: 0.5224\n",
      "Epoch 12/50\n",
      "157/157 [==============================] - ETA: 0s - loss: 1.0052 - acc: 0.5268\n",
      "Epoch 12: val_acc did not improve from 0.52280\n",
      "157/157 [==============================] - 3s 19ms/step - loss: 1.0052 - acc: 0.5268 - val_loss: 1.0095 - val_acc: 0.5224\n",
      "Epoch 13/50\n",
      "154/157 [============================>.] - ETA: 0s - loss: 1.0052 - acc: 0.5274\n",
      "Epoch 13: val_acc did not improve from 0.52280\n",
      "157/157 [==============================] - 3s 19ms/step - loss: 1.0058 - acc: 0.5269 - val_loss: 1.0107 - val_acc: 0.5200\n",
      "Epoch 14/50\n",
      "156/157 [============================>.] - ETA: 0s - loss: 1.0047 - acc: 0.5275\n",
      "Epoch 14: val_acc did not improve from 0.52280\n",
      "157/157 [==============================] - 3s 19ms/step - loss: 1.0048 - acc: 0.5275 - val_loss: 1.0099 - val_acc: 0.5212\n",
      "Epoch 15/50\n",
      "155/157 [============================>.] - ETA: 0s - loss: 1.0049 - acc: 0.5263\n",
      "Epoch 15: val_acc did not improve from 0.52280\n",
      "157/157 [==============================] - 3s 19ms/step - loss: 1.0049 - acc: 0.5264 - val_loss: 1.0103 - val_acc: 0.5208\n",
      "Epoch 16/50\n",
      "156/157 [============================>.] - ETA: 0s - loss: 1.0055 - acc: 0.5271\n",
      "Epoch 16: val_acc did not improve from 0.52280\n",
      "157/157 [==============================] - 3s 20ms/step - loss: 1.0058 - acc: 0.5269 - val_loss: 1.0095 - val_acc: 0.5224\n",
      "Epoch 16: early stopping\n",
      "Learning Durations:  0:00:51.467894\n"
     ]
    }
   ],
   "source": [
    "print('Algorithm starts learning.....')\n",
    "start_time = time()\n",
    "\n",
    "history = model.fit(X_train_reshape, y_train, epochs=50, batch_size=64, validation_split=0.2, callbacks=[es, mc] )\n",
    "\n",
    "print(\"Learning Durations: \", timedelta(seconds=(time() - start_time)))"
   ],
   "metadata": {
    "collapsed": false
   }
  },
  {
   "cell_type": "code",
   "execution_count": 78,
   "outputs": [
    {
     "data": {
      "text/plain": "<Figure size 576x360 with 1 Axes>",
      "image/png": "[encoded data removed]"
     },
     "metadata": {
      "needs_background": "light"
     },
     "output_type": "display_data"
    }
   ],
   "source": [
    "plot_loss(history)"
   ],
   "metadata": {
    "collapsed": false
   }
  },
  {
   "cell_type": "code",
   "execution_count": 79,
   "outputs": [
    {
     "data": {
      "text/plain": "<Figure size 576x360 with 1 Axes>",
      "image/png": "[encoded data removed]"
     },
     "metadata": {
      "needs_background": "light"
     },
     "output_type": "display_data"
    }
   ],
   "source": [
    "plot_acc(history)"
   ],
   "metadata": {
    "collapsed": false
   }
  },
  {
   "cell_type": "code",
   "execution_count": null,
   "outputs": [],
   "source": [],
   "metadata": {
    "collapsed": false
   }
  }
 ],
 "metadata": {
  "kernelspec": {
   "display_name": "Python 3",
   "language": "python",
   "name": "python3"
  },
  "language_info": {
   "codemirror_mode": {
    "name": "ipython",
    "version": 2
   },
   "file_extension": ".py",
   "mimetype": "text/x-python",
   "name": "python",
   "nbconvert_exporter": "python",
   "pygments_lexer": "ipython2",
   "version": "2.7.6"
  }
 },
 "nbformat": 4,
 "nbformat_minor": 0
}
