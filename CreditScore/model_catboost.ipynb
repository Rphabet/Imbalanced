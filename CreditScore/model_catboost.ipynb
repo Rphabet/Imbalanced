{
 "cells": [
  {
   "cell_type": "markdown",
   "source": [
    "- 작성자 :신재호 \n",
    "- 모듈 형태로 import 하여 사용\n",
    "\n",
    "> 함수\n",
    "1. 바닐라모델: catboost_baseline(x_train,y_train,x_test,y_test):  \n",
    "2. 최적화모델: catboost_model(x_train, y_train, x_test,y_test, \n",
    "param={}, computing_type ='CPU'):\n",
    "3. 그리드서치: catboost_grid(x_train, y_train, x_test,y_test, param_grid={}, computing_type ='CPU'):\n",
    "4. 트리 표출 : tree_plot(model,x_train,y_train):\n",
    "5. 중요도 표출: permutation_importance(model,x_test,y_test):\n",
    "6. 중요도 표출: plot_feature_importance(model,col_names,model_type='',importance_value=[]):\n",
    "\n",
    "\n",
    "> 모듈사용법\n",
    "1. %cd 모듈이 있는 위치로 이동  ex) %cd ./drive/MyDrive/SKKU_study/01_Final_assignment/source/\n",
    "2. ipynb 모듈로 인식하는 패키지 설치, import\n",
    "- !pip install import_ipynb\n",
    "- import import_ipynb\n",
    "3. import 모듈\n",
    "\n"
   ],
   "metadata": {
    "id": "2sJoXGk45uR_"
   }
  },
  {
   "cell_type": "markdown",
   "metadata": {
    "id": "_h95NUveyowV"
   },
   "source": [
    "# Set Environment"
   ]
  },
  {
   "cell_type": "code",
   "execution_count": null,
   "metadata": {
    "id": "d7KY5ExkymCp",
    "colab": {
     "base_uri": "https://localhost:8080/"
    },
    "outputId": "f54b8356-8512-45fa-85cc-bfdcbb300a56"
   },
   "outputs": [
    {
     "output_type": "stream",
     "name": "stdout",
     "text": [
      "Looking in indexes: https://pypi.org/simple, https://us-python.pkg.dev/colab-wheels/public/simple/\n",
      "Collecting catboost\n",
      "  Downloading catboost-1.1.1-cp37-none-manylinux1_x86_64.whl (76.6 MB)\n",
      "\u001B[K     |████████████████████████████████| 76.6 MB 146 kB/s \n",
      "\u001B[?25hRequirement already satisfied: scipy in /usr/local/lib/python3.7/dist-packages (from catboost) (1.7.3)\n",
      "Requirement already satisfied: numpy>=1.16.0 in /usr/local/lib/python3.7/dist-packages (from catboost) (1.21.6)\n",
      "Requirement already satisfied: pandas>=0.24.0 in /usr/local/lib/python3.7/dist-packages (from catboost) (1.3.5)\n",
      "Requirement already satisfied: six in /usr/local/lib/python3.7/dist-packages (from catboost) (1.15.0)\n",
      "Requirement already satisfied: plotly in /usr/local/lib/python3.7/dist-packages (from catboost) (5.5.0)\n",
      "Requirement already satisfied: matplotlib in /usr/local/lib/python3.7/dist-packages (from catboost) (3.2.2)\n",
      "Requirement already satisfied: graphviz in /usr/local/lib/python3.7/dist-packages (from catboost) (0.10.1)\n",
      "Requirement already satisfied: python-dateutil>=2.7.3 in /usr/local/lib/python3.7/dist-packages (from pandas>=0.24.0->catboost) (2.8.2)\n",
      "Requirement already satisfied: pytz>=2017.3 in /usr/local/lib/python3.7/dist-packages (from pandas>=0.24.0->catboost) (2022.6)\n",
      "Requirement already satisfied: pyparsing!=2.0.4,!=2.1.2,!=2.1.6,>=2.0.1 in /usr/local/lib/python3.7/dist-packages (from matplotlib->catboost) (3.0.9)\n",
      "Requirement already satisfied: cycler>=0.10 in /usr/local/lib/python3.7/dist-packages (from matplotlib->catboost) (0.11.0)\n",
      "Requirement already satisfied: kiwisolver>=1.0.1 in /usr/local/lib/python3.7/dist-packages (from matplotlib->catboost) (1.4.4)\n",
      "Requirement already satisfied: typing-extensions in /usr/local/lib/python3.7/dist-packages (from kiwisolver>=1.0.1->matplotlib->catboost) (4.1.1)\n",
      "Requirement already satisfied: tenacity>=6.2.0 in /usr/local/lib/python3.7/dist-packages (from plotly->catboost) (8.1.0)\n",
      "Installing collected packages: catboost\n",
      "Successfully installed catboost-1.1.1\n"
     ]
    }
   ],
   "source": [
    "import os\n",
    "import math\n",
    "import numpy as np\n",
    "import pandas as pd\n",
    "\n",
    "from datetime import datetime\n",
    "\n",
    "import seaborn as sns\n",
    "import matplotlib.pyplot as plt\n",
    "import warnings, random\n",
    "warnings.filterwarnings(action='ignore')\n",
    "\n",
    "from sklearn.metrics import log_loss\n",
    "\n",
    "from sklearn.model_selection import StratifiedKFold\n",
    "from sklearn.model_selection import KFold,GridSearchCV\n",
    "\n",
    "# !pip install catboost\n",
    "from catboost import CatBoostClassifier, Pool\n",
    "import matplotlib.pyplot as plt\n",
    "from sklearn.metrics import roc_auc_score, accuracy_score, confusion_matrix, plot_confusion_matrix, f1_score\n"
   ]
  },
  {
   "cell_type": "code",
   "execution_count": null,
   "metadata": {
    "id": "DyBo6xAzz7e_",
    "colab": {
     "base_uri": "https://localhost:8080/"
    },
    "outputId": "6311c6d3-927b-456e-83bb-bb7271ec5021"
   },
   "outputs": [
    {
     "output_type": "stream",
     "name": "stdout",
     "text": [
      "Mounted at /content/drive\n"
     ]
    },
    {
     "output_type": "execute_result",
     "data": {
      "text/plain": [
       "((75000, 22), (75000,), (25000, 22), (25000,))"
      ]
     },
     "metadata": {},
     "execution_count": 6
    }
   ],
   "source": [
    "#모듈로 사용하지 않을 때 사용\n",
    "\n",
    "# from google.colab import drive\n",
    "# drive.mount('/content/drive')\n",
    "\n",
    "# #디렉터리 세팅\n",
    "# main_dir = '/content/drive/MyDrive/SKKU_study/01_Final_assignment'\n",
    "# data_dir = os.path.join(main_dir, 'data')\n",
    "# processed_data_dir = os.path.join(data_dir, 'processed')\n",
    "# raw_data_dir = os.path.join(data_dir, 'raw')\n",
    "\n",
    "# os.makedirs(data_dir, exist_ok=True)\n",
    "# os.makedirs(processed_data_dir, exist_ok=True)\n",
    "\n",
    "# #data Read\n",
    "# train = pd.read_csv(os.path.join(processed_data_dir, 'train.csv'))\n",
    "# test = pd.read_csv(os.path.join(processed_data_dir, 'test.csv'))\n",
    "# raw = pd.read_csv(os.path.join(raw_data_dir, 'credit_score_data.csv'))\n",
    "# target = 'Credit_Score'\n",
    "# train.shape, test.shape\n",
    "\n",
    "# #데이터 setting\n",
    "# x_train = train.drop(target,axis=1)\n",
    "# y_train = train[target]\n",
    "# x_test = test.drop(target,axis=1)\n",
    "# y_test = test[target]\n",
    "\n",
    "# x_train.shape, y_train.shape, x_test.shape, y_test.shape"
   ]
  },
  {
   "cell_type": "markdown",
   "source": [
    "# 1. 바닐라모델"
   ],
   "metadata": {
    "id": "S5ZwGXztMuld"
   }
  },
  {
   "cell_type": "code",
   "source": [
    "def catboost_baseline(x_train,y_train,x_test,y_test):\n",
    "  '''\n",
    "  catboost_baseline모델 \n",
    "  param:\n",
    "    train데이터 x, y\n",
    "    test데이터 x ,y \n",
    "\n",
    "  return model\n",
    "  '''\n",
    "\n",
    "  model = CatBoostClassifier()\n",
    "  model.fit(x_train, y_train, eval_set=(x_test, y_test),metric_period = 200)\n",
    "  test_acc = accuracy_score(list(model.predict(x_test)),y_test)\n",
    "\n",
    "  confusion = plot_confusion_matrix(model, x_test, y_test,cmap='Blues')  \n",
    "  print('예측결과 정확도',test_acc)\n",
    "\n",
    "  return model"
   ],
   "metadata": {
    "id": "HPbIOYi6MOWX"
   },
   "execution_count": null,
   "outputs": []
  },
  {
   "cell_type": "code",
   "source": [
    "# catboost_baseline(x_train,y_train,x_test,y_test)"
   ],
   "metadata": {
    "id": "Wk2JY8dM7_Qv"
   },
   "execution_count": null,
   "outputs": []
  },
  {
   "cell_type": "markdown",
   "source": [
    "# 2. 최적화 모델 "
   ],
   "metadata": {
    "id": "Tg8GVokPOUIe"
   }
  },
  {
   "cell_type": "code",
   "source": [
    "# CatBoost 모델링\n",
    "def catboost_model(x_train, y_train, x_test,y_test, param={}, computing_type ='CPU', class_weights):\n",
    "    '''\n",
    "    catboost 기본 모델\n",
    "\n",
    "    params:\n",
    "      x_train : x 학습 데이터프레임\n",
    "      y_train : y 학습 데이터프레임\n",
    "      x_test : x 테스트 데이터프레임\n",
    "      y_test : y 테스트 데이터프레임\n",
    "      param : 모델에 들어가는 파라미터, 없으면 임의값 적용\n",
    "      class_weights:\n",
    "      computing_type : 'CPU' ,'GPU' 적용\n",
    "    ex)\n",
    "      model = catboost_model(x_train, y_train, x_test, y_test, param = {}, computing_type = 'GPU',)\n",
    "\n",
    "\n",
    "    '''\n",
    "    \n",
    "    # input 파라미터가 없으면 현재 최적의 파라미터로 대입\n",
    "    if len(param.keys()):\n",
    "        params = {'bagging_temperature': 1.7667222733865562,\n",
    "               'border_count': 190.14385824950688, 'depth': 14.95981768596572, \n",
    "               'l2_leaf_reg': 100.0, 'learning_rate': 0.09356008116567356, \n",
    "               'min_data_in_leaf': 4.281513544154046\n",
    "               }\n",
    "\n",
    "    #모델 파라미터 세팅\n",
    "    model = CatBoostClassifier( eval_metric = 'Accuracy',      # 정확도\n",
    "                                iterations = 2000,               # 반복횟수\n",
    "                                metric_period = 100,            # 중간결과 출력\n",
    "                                early_stopping_rounds = 200,     # 중간 종료\n",
    "                                class_weights = class_weights,\n",
    "                                task_type = computing_type,    # CPU/GPU 사용\n",
    "                                **param\n",
    "                               )\n",
    "    \n",
    "    #모델 학습\n",
    "    # model.fit(x_train,y_train, eval_set=(x_test,y_test))\n",
    "    model.fit(x_train,y_train)\n",
    "\n",
    "    #테스트값 기반 출력\n",
    "    train_acc = accuracy_score(list(model.predict(x_train))), y_train\n",
    "    test_acc = accuracy_score(list(model.predict(x_test)),y_test)\n",
    "    print('\\n\\nTrain Set 기반 accuracy',train_acc)\n",
    "    print('\\n\\nTest Set 기반 accuracy',test_acc)\n",
    "\n",
    "    #confusion matrix 표시\n",
    "    confusion = plot_confusion_matrix(model, x_test, y_test,cmap='Blues')  \n",
    "\n",
    "    return model\n"
   ],
   "metadata": {
    "id": "uSJB8mUbiTKv"
   },
   "execution_count": null,
   "outputs": []
  },
  {
   "cell_type": "code",
   "source": [
    "model = catboost_model(x_train, y_train, x_test, y_test, param = {}, computing_type = 'GPU')\n"
   ],
   "metadata": {
    "colab": {
     "base_uri": "https://localhost:8080/",
     "height": 779
    },
    "id": "vYavXjmw1Kw-",
    "outputId": "f72fbf80-e0fc-4cbd-979a-24a72e1d9608"
   },
   "execution_count": null,
   "outputs": [
    {
     "output_type": "stream",
     "name": "stdout",
     "text": [
      "Learning rate set to 0.120133\n",
      "0:\tlearn: 0.6968667\ttest: 0.6040800\tbest: 0.6040800 (0)\ttotal: 13.9ms\tremaining: 27.7s\n",
      "100:\tlearn: 0.7494667\ttest: 0.6512400\tbest: 0.6516400 (99)\ttotal: 1.01s\tremaining: 19.1s\n",
      "200:\tlearn: 0.7754667\ttest: 0.6673200\tbest: 0.6675600 (198)\ttotal: 1.86s\tremaining: 16.6s\n",
      "300:\tlearn: 0.7932267\ttest: 0.6784000\tbest: 0.6784000 (300)\ttotal: 2.68s\tremaining: 15.1s\n",
      "400:\tlearn: 0.8069733\ttest: 0.6866400\tbest: 0.6866400 (400)\ttotal: 3.5s\tremaining: 14s\n",
      "500:\tlearn: 0.8182000\ttest: 0.6932000\tbest: 0.6933200 (495)\ttotal: 4.3s\tremaining: 12.9s\n",
      "600:\tlearn: 0.8283867\ttest: 0.6980800\tbest: 0.6983200 (593)\ttotal: 5.12s\tremaining: 11.9s\n",
      "700:\tlearn: 0.8368267\ttest: 0.7022800\tbest: 0.7023600 (699)\ttotal: 5.96s\tremaining: 11s\n",
      "800:\tlearn: 0.8439600\ttest: 0.7056800\tbest: 0.7058800 (799)\ttotal: 7.26s\tremaining: 10.9s\n",
      "900:\tlearn: 0.8506667\ttest: 0.7080000\tbest: 0.7080000 (900)\ttotal: 8.74s\tremaining: 10.7s\n",
      "1000:\tlearn: 0.8566667\ttest: 0.7112000\tbest: 0.7115600 (988)\ttotal: 9.53s\tremaining: 9.52s\n",
      "1100:\tlearn: 0.8617600\ttest: 0.7136400\tbest: 0.7136400 (1100)\ttotal: 10.3s\tremaining: 8.43s\n",
      "1200:\tlearn: 0.8665467\ttest: 0.7146400\tbest: 0.7146800 (1185)\ttotal: 11.1s\tremaining: 7.39s\n",
      "1300:\tlearn: 0.8712000\ttest: 0.7164400\tbest: 0.7166400 (1298)\ttotal: 12.2s\tremaining: 6.53s\n",
      "1400:\tlearn: 0.8750533\ttest: 0.7176400\tbest: 0.7178000 (1399)\ttotal: 13.4s\tremaining: 5.74s\n",
      "1500:\tlearn: 0.8788933\ttest: 0.7192800\tbest: 0.7195200 (1491)\ttotal: 14.9s\tremaining: 4.95s\n",
      "1600:\tlearn: 0.8826400\ttest: 0.7199600\tbest: 0.7203200 (1555)\ttotal: 15.8s\tremaining: 3.93s\n",
      "1700:\tlearn: 0.8862667\ttest: 0.7212000\tbest: 0.7214000 (1698)\ttotal: 16.6s\tremaining: 2.92s\n",
      "1800:\tlearn: 0.8888667\ttest: 0.7218400\tbest: 0.7227200 (1762)\ttotal: 17.4s\tremaining: 1.92s\n",
      "1900:\tlearn: 0.8918000\ttest: 0.7219200\tbest: 0.7227200 (1762)\ttotal: 18.2s\tremaining: 949ms\n",
      "1999:\tlearn: 0.8945600\ttest: 0.7236000\tbest: 0.7236000 (1995)\ttotal: 19s\tremaining: 0us\n",
      "bestTest = 0.7236\n",
      "bestIteration = 1995\n",
      "Shrink model to first 1996 iterations.\n",
      "\n",
      "\n",
      "Test Set 기반 accuracy 0.7236\n"
     ]
    },
    {
     "output_type": "display_data",
     "data": {
      "text/plain": [
       "<Figure size 432x288 with 2 Axes>"
      ],
      "image/png": "[encoded data removed]"
     },
     "metadata": {
      "needs_background": "light"
     }
    }
   ]
  },
  {
   "cell_type": "code",
   "source": [],
   "metadata": {
    "id": "XLvgBZ0vXv2Z"
   },
   "execution_count": null,
   "outputs": []
  },
  {
   "cell_type": "markdown",
   "source": [
    "#3. grid_search model"
   ],
   "metadata": {
    "id": "9vUC5rAvdUbp"
   }
  },
  {
   "cell_type": "code",
   "source": [
    "from IPython.core import history\n",
    "# CatBoost 모델링\n",
    "def catboost_grid(x_train, y_train, x_test,y_test, param_grid={}, computing_type ='CPU'):\n",
    "    '''\n",
    "    그리드서치를 위한 코드\n",
    "    \n",
    "     params:\n",
    "      x_train : x 학습 데이터프레임\n",
    "      y_train : y 학습 데이터프레임\n",
    "      x_test : x 테스트 데이터프레임\n",
    "      y_test : y 테스트 데이터프레임\n",
    "      param_grid : grid search 테스트 하기 위한 딕셔너리\n",
    "      computing_type : 'CPU' ,'GPU' 적용\n",
    "\n",
    "    ex)\n",
    "      catboost_grid(x_train,y_train,x_test,y_test,{})\n",
    "    '''\n",
    "\n",
    "    if len(list(param_grid.keys())) ==0 :\n",
    "      param_grid={            \n",
    "            'grow_policy' : ['Depthwise','Lossguide'],          # 트리 노드 생성 방식 [1) Depthwise(지정한 depth에 이를 때까지 level 순으로 노드 분할). 2) Lossguide(loss 변화가 큰 순으로 노드 분할)]                                                 \n",
    "            # 'depth' : [8,10],                               # 트리 깊이\n",
    "            'learning_rate' : [0.02423,0.1063],               # 러닝레이트\n",
    "            'l2_leaf_reg' : [ 20.35, 5.127],                  # L2 정규화\n",
    "           \n",
    "            }\n",
    "    \n",
    "    #모델 파라미터 세팅\n",
    "    model = CatBoostClassifier( eval_metric = 'Accuracy',      # 정확도\n",
    "                                iterations = 1000,               # 반복횟수\n",
    "                                metric_period = 200,            # 중간결과 출력\n",
    "                                early_stopping_rounds = 100,     # 중간 종료\n",
    "                                task_type = computing_type,    # CPU/GPU 사용\n",
    "                               )\n",
    "    \n",
    "    # gridSearch setting\n",
    "    gcv=GridSearchCV(model, param_grid=param_grid,  n_jobs=1)\n",
    "    \n",
    "    # gridSearch fit\n",
    "    gcv.fit(x_train,y_train)\n",
    "\n",
    "    # 결과 출력\n",
    "    print('final params', gcv.best_params_)   # 최적의 파라미터 값 출력\n",
    "    print('best score', gcv.best_score_)      # 최고의 점수\n",
    "\n",
    "    #최고 결과값 출력\n",
    "    test_acc = accuracy_score(list(gcv.predict(x_test)),y_test)\n",
    "    print('최종 예측 정확도',test_acc)\n",
    "\n",
    "    #최적의 파라미터 return\n",
    "    return gcv.best_params_\n"
   ],
   "metadata": {
    "id": "zKUABxWPdPV5"
   },
   "execution_count": null,
   "outputs": []
  },
  {
   "cell_type": "code",
   "source": [
    "catboost_grid(x_train,y_train,x_test,y_test,)"
   ],
   "metadata": {
    "id": "L_J9UhwCZ1br"
   },
   "execution_count": null,
   "outputs": []
  },
  {
   "cell_type": "markdown",
   "source": [
    "#4.tree plot "
   ],
   "metadata": {
    "id": "0Li33RI-2PWS"
   }
  },
  {
   "cell_type": "code",
   "source": [
    "\n",
    "def tree_plot(model,x_train,y_train):\n",
    "    '''\n",
    "    트리구조의 결과 표출\n",
    "    '''\n",
    "    pool = Pool(x_train,y_train)\n",
    "    image = model.plot_tree(\n",
    "        tree_idx=0,\n",
    "        pool=pool, \n",
    "    )\n",
    "\n",
    "    return image"
   ],
   "metadata": {
    "id": "yQwQ1qmN3Bxe"
   },
   "execution_count": null,
   "outputs": []
  },
  {
   "cell_type": "code",
   "source": [
    "tree_plot(model,x_train,y_train)"
   ],
   "metadata": {
    "colab": {
     "base_uri": "https://localhost:8080/",
     "height": 819
    },
    "id": "vMh0dM7b2Rie",
    "outputId": "5ba11cf7-c294-49c8-d920-3e646b29d0d5"
   },
   "execution_count": null,
   "outputs": [
    {
     "output_type": "execute_result",
     "data": {
      "text/plain": [
       "<graphviz.dot.Digraph at 0x7fa432e6e850>"
      ],
      "image/svg+xml": "<?xml version=\"1.0\" encoding=\"UTF-8\" standalone=\"no\"?>\n<!DOCTYPE svg PUBLIC \"-//W3C//DTD SVG 1.1//EN\"\n \"http://www.w3.org/Graphics/SVG/1.1/DTD/svg11.dtd\">\n<!-- Generated by graphviz version 2.40.1 (20161225.0304)\n -->\n<!-- Title: %3 Pages: 1 -->\n<svg width=\"9622pt\" height=\"583pt\"\n viewBox=\"0.00 0.00 9622.37 583.00\" xmlns=\"http://www.w3.org/2000/svg\" xmlns:xlink=\"http://www.w3.org/1999/xlink\">\n<g id=\"graph0\" class=\"graph\" transform=\"scale(1 1) rotate(0) translate(4 579)\">\n<title>%3</title>\n<polygon fill=\"#ffffff\" stroke=\"transparent\" points=\"-4,4 -4,-579 9618.3749,-579 9618.3749,4 -4,4\"/>\n<!-- 0 -->\n<g id=\"node1\" class=\"node\">\n<title>0</title>\n<ellipse fill=\"none\" stroke=\"#000000\" cx=\"4406.6874\" cy=\"-557\" rx=\"141.8751\" ry=\"18\"/>\n<text text-anchor=\"middle\" x=\"4406.6874\" y=\"-553.3\" font-family=\"Times,serif\" font-size=\"14.00\" fill=\"#000000\">Delay_from_due_date, value&gt;15.5</text>\n</g>\n<!-- 1 -->\n<g id=\"node2\" class=\"node\">\n<title>1</title>\n<ellipse fill=\"none\" stroke=\"#000000\" cx=\"3267.6874\" cy=\"-470\" rx=\"96.6831\" ry=\"18\"/>\n<text text-anchor=\"middle\" x=\"3267.6874\" y=\"-466.3\" font-family=\"Times,serif\" font-size=\"14.00\" fill=\"#000000\">Credit_Mix, value&gt;0.5</text>\n</g>\n<!-- 0&#45;&gt;1 -->\n<g id=\"edge1\" class=\"edge\">\n<title>0&#45;&gt;1</title>\n<path fill=\"none\" stroke=\"#000000\" d=\"M4285.0644,-547.7101C4058.6357,-530.4148 3576.5185,-493.5894 3367.6377,-477.6345\"/>\n<polygon fill=\"#000000\" stroke=\"#000000\" points=\"3367.8348,-474.1394 3357.5973,-476.8676 3367.3016,-481.1191 3367.8348,-474.1394\"/>\n<text text-anchor=\"middle\" x=\"3915.1874\" y=\"-509.8\" font-family=\"Times,serif\" font-size=\"14.00\" fill=\"#000000\">No</text>\n</g>\n<!-- 2 -->\n<g id=\"node3\" class=\"node\">\n<title>2</title>\n<ellipse fill=\"none\" stroke=\"#000000\" cx=\"5854.6874\" cy=\"-470\" rx=\"96.6831\" ry=\"18\"/>\n<text text-anchor=\"middle\" x=\"5854.6874\" y=\"-466.3\" font-family=\"Times,serif\" font-size=\"14.00\" fill=\"#000000\">Credit_Mix, value&gt;0.5</text>\n</g>\n<!-- 0&#45;&gt;2 -->\n<g id=\"edge2\" class=\"edge\">\n<title>0&#45;&gt;2</title>\n<path fill=\"none\" stroke=\"#000000\" d=\"M4534.87,-549.2984C4818.4583,-532.2596 5494.2631,-491.6553 5752.2202,-476.1565\"/>\n<polygon fill=\"#000000\" stroke=\"#000000\" points=\"5752.5612,-479.6424 5762.3332,-475.5489 5752.1413,-472.655 5752.5612,-479.6424\"/>\n<text text-anchor=\"middle\" x=\"5228.1874\" y=\"-509.8\" font-family=\"Times,serif\" font-size=\"14.00\" fill=\"#000000\">Yes</text>\n</g>\n<!-- 3 -->\n<g id=\"node4\" class=\"node\">\n<title>3</title>\n<ellipse fill=\"none\" stroke=\"#000000\" cx=\"1797.6874\" cy=\"-383\" rx=\"141.8751\" ry=\"18\"/>\n<text text-anchor=\"middle\" x=\"1797.6874\" y=\"-379.3\" font-family=\"Times,serif\" font-size=\"14.00\" fill=\"#000000\">Outstanding_Debt, value&gt;52.3291</text>\n</g>\n<!-- 1&#45;&gt;3 -->\n<g id=\"edge3\" class=\"edge\">\n<title>1&#45;&gt;3</title>\n<path fill=\"none\" stroke=\"#000000\" d=\"M3175.1755,-464.5248C2925.0244,-449.7199 2234.0859,-408.8277 1936.7338,-391.2293\"/>\n<polygon fill=\"#000000\" stroke=\"#000000\" points=\"1936.5128,-387.7102 1926.3235,-390.6132 1936.0992,-394.6979 1936.5128,-387.7102\"/>\n<text text-anchor=\"middle\" x=\"2631.1874\" y=\"-422.8\" font-family=\"Times,serif\" font-size=\"14.00\" fill=\"#000000\">No</text>\n</g>\n<!-- 4 -->\n<g id=\"node5\" class=\"node\">\n<title>4</title>\n<ellipse fill=\"none\" stroke=\"#000000\" cx=\"3267.6874\" cy=\"-383\" rx=\"141.8751\" ry=\"18\"/>\n<text text-anchor=\"middle\" x=\"3267.6874\" y=\"-379.3\" font-family=\"Times,serif\" font-size=\"14.00\" fill=\"#000000\">Outstanding_Debt, value&gt;52.3291</text>\n</g>\n<!-- 1&#45;&gt;4 -->\n<g id=\"edge4\" class=\"edge\">\n<title>1&#45;&gt;4</title>\n<path fill=\"none\" stroke=\"#000000\" d=\"M3267.6874,-451.9735C3267.6874,-440.1918 3267.6874,-424.5607 3267.6874,-411.1581\"/>\n<polygon fill=\"#000000\" stroke=\"#000000\" points=\"3271.1875,-411.0033 3267.6874,-401.0034 3264.1875,-411.0034 3271.1875,-411.0033\"/>\n<text text-anchor=\"middle\" x=\"3278.1874\" y=\"-422.8\" font-family=\"Times,serif\" font-size=\"14.00\" fill=\"#000000\">Yes</text>\n</g>\n<!-- 5 -->\n<g id=\"node6\" class=\"node\">\n<title>5</title>\n<ellipse fill=\"none\" stroke=\"#000000\" cx=\"5854.6874\" cy=\"-383\" rx=\"141.8751\" ry=\"18\"/>\n<text text-anchor=\"middle\" x=\"5854.6874\" y=\"-379.3\" font-family=\"Times,serif\" font-size=\"14.00\" fill=\"#000000\">Outstanding_Debt, value&gt;52.3291</text>\n</g>\n<!-- 2&#45;&gt;5 -->\n<g id=\"edge5\" class=\"edge\">\n<title>2&#45;&gt;5</title>\n<path fill=\"none\" stroke=\"#000000\" d=\"M5854.6874,-451.9735C5854.6874,-440.1918 5854.6874,-424.5607 5854.6874,-411.1581\"/>\n<polygon fill=\"#000000\" stroke=\"#000000\" points=\"5858.1875,-411.0033 5854.6874,-401.0034 5851.1875,-411.0034 5858.1875,-411.0033\"/>\n<text text-anchor=\"middle\" x=\"5864.1874\" y=\"-422.8\" font-family=\"Times,serif\" font-size=\"14.00\" fill=\"#000000\">No</text>\n</g>\n<!-- 6 -->\n<g id=\"node7\" class=\"node\">\n<title>6</title>\n<ellipse fill=\"none\" stroke=\"#000000\" cx=\"7742.6874\" cy=\"-383\" rx=\"141.8751\" ry=\"18\"/>\n<text text-anchor=\"middle\" x=\"7742.6874\" y=\"-379.3\" font-family=\"Times,serif\" font-size=\"14.00\" fill=\"#000000\">Outstanding_Debt, value&gt;52.3291</text>\n</g>\n<!-- 2&#45;&gt;6 -->\n<g id=\"edge6\" class=\"edge\">\n<title>2&#45;&gt;6</title>\n<path fill=\"none\" stroke=\"#000000\" d=\"M5948.9596,-465.6559C6256.1965,-451.4983 7229.9772,-406.6259 7599.0222,-389.6202\"/>\n<polygon fill=\"#000000\" stroke=\"#000000\" points=\"7599.4012,-393.1065 7609.2295,-389.1498 7599.079,-386.1139 7599.4012,-393.1065\"/>\n<text text-anchor=\"middle\" x=\"6923.1874\" y=\"-422.8\" font-family=\"Times,serif\" font-size=\"14.00\" fill=\"#000000\">Yes</text>\n</g>\n<!-- 7 -->\n<g id=\"node8\" class=\"node\">\n<title>7</title>\n<ellipse fill=\"none\" stroke=\"#000000\" cx=\"840.6874\" cy=\"-296\" rx=\"106.6812\" ry=\"18\"/>\n<text text-anchor=\"middle\" x=\"840.6874\" y=\"-292.3\" font-family=\"Times,serif\" font-size=\"14.00\" fill=\"#000000\">Interest_Rate, value&gt;20.5</text>\n</g>\n<!-- 3&#45;&gt;7 -->\n<g id=\"edge7\" class=\"edge\">\n<title>3&#45;&gt;7</title>\n<path fill=\"none\" stroke=\"#000000\" d=\"M1682.2509,-372.5058C1494.2835,-355.4178 1124.9874,-321.8455 944.6865,-305.4545\"/>\n<polygon fill=\"#000000\" stroke=\"#000000\" points=\"944.9414,-301.9633 934.6656,-304.5435 944.3076,-308.9345 944.9414,-301.9633\"/>\n<text text-anchor=\"middle\" x=\"1386.1874\" y=\"-335.8\" font-family=\"Times,serif\" font-size=\"14.00\" fill=\"#000000\">No</text>\n</g>\n<!-- 8 -->\n<g id=\"node9\" class=\"node\">\n<title>8</title>\n<ellipse fill=\"none\" stroke=\"#000000\" cx=\"1797.6874\" cy=\"-296\" rx=\"106.6812\" ry=\"18\"/>\n<text text-anchor=\"middle\" x=\"1797.6874\" y=\"-292.3\" font-family=\"Times,serif\" font-size=\"14.00\" fill=\"#000000\">Interest_Rate, value&gt;20.5</text>\n</g>\n<!-- 3&#45;&gt;8 -->\n<g id=\"edge8\" class=\"edge\">\n<title>3&#45;&gt;8</title>\n<path fill=\"none\" stroke=\"#000000\" d=\"M1797.6874,-364.9735C1797.6874,-353.1918 1797.6874,-337.5607 1797.6874,-324.1581\"/>\n<polygon fill=\"#000000\" stroke=\"#000000\" points=\"1801.1875,-324.0033 1797.6874,-314.0034 1794.1875,-324.0034 1801.1875,-324.0033\"/>\n<text text-anchor=\"middle\" x=\"1808.1874\" y=\"-335.8\" font-family=\"Times,serif\" font-size=\"14.00\" fill=\"#000000\">Yes</text>\n</g>\n<!-- 9 -->\n<g id=\"node10\" class=\"node\">\n<title>9</title>\n<ellipse fill=\"none\" stroke=\"#000000\" cx=\"3232.6874\" cy=\"-296\" rx=\"106.6812\" ry=\"18\"/>\n<text text-anchor=\"middle\" x=\"3232.6874\" y=\"-292.3\" font-family=\"Times,serif\" font-size=\"14.00\" fill=\"#000000\">Interest_Rate, value&gt;20.5</text>\n</g>\n<!-- 4&#45;&gt;9 -->\n<g id=\"edge9\" class=\"edge\">\n<title>4&#45;&gt;9</title>\n<path fill=\"none\" stroke=\"#000000\" d=\"M3260.4354,-364.9735C3255.6018,-352.9585 3249.1576,-336.9401 3243.6962,-323.3646\"/>\n<polygon fill=\"#000000\" stroke=\"#000000\" points=\"3246.9096,-321.9744 3239.9302,-314.0034 3240.4154,-324.5871 3246.9096,-321.9744\"/>\n<text text-anchor=\"middle\" x=\"3262.1874\" y=\"-335.8\" font-family=\"Times,serif\" font-size=\"14.00\" fill=\"#000000\">No</text>\n</g>\n<!-- 10 -->\n<g id=\"node11\" class=\"node\">\n<title>10</title>\n<ellipse fill=\"none\" stroke=\"#000000\" cx=\"3933.6874\" cy=\"-296\" rx=\"106.6812\" ry=\"18\"/>\n<text text-anchor=\"middle\" x=\"3933.6874\" y=\"-292.3\" font-family=\"Times,serif\" font-size=\"14.00\" fill=\"#000000\">Interest_Rate, value&gt;20.5</text>\n</g>\n<!-- 4&#45;&gt;10 -->\n<g id=\"edge10\" class=\"edge\">\n<title>4&#45;&gt;10</title>\n<path fill=\"none\" stroke=\"#000000\" d=\"M3366.6752,-370.0692C3494.1253,-353.4203 3714.0516,-324.6912 3839.2527,-308.3361\"/>\n<polygon fill=\"#000000\" stroke=\"#000000\" points=\"3839.75,-311.8009 3849.2124,-307.035 3838.8432,-304.8599 3839.75,-311.8009\"/>\n<text text-anchor=\"middle\" x=\"3651.1874\" y=\"-335.8\" font-family=\"Times,serif\" font-size=\"14.00\" fill=\"#000000\">Yes</text>\n</g>\n<!-- 11 -->\n<g id=\"node12\" class=\"node\">\n<title>11</title>\n<ellipse fill=\"none\" stroke=\"#000000\" cx=\"5710.6874\" cy=\"-296\" rx=\"106.6812\" ry=\"18\"/>\n<text text-anchor=\"middle\" x=\"5710.6874\" y=\"-292.3\" font-family=\"Times,serif\" font-size=\"14.00\" fill=\"#000000\">Interest_Rate, value&gt;20.5</text>\n</g>\n<!-- 5&#45;&gt;11 -->\n<g id=\"edge11\" class=\"edge\">\n<title>5&#45;&gt;11</title>\n<path fill=\"none\" stroke=\"#000000\" d=\"M5825.1994,-365.1843C5803.0189,-351.7836 5772.4523,-333.3163 5748.4782,-318.8319\"/>\n<polygon fill=\"#000000\" stroke=\"#000000\" points=\"5750.013,-315.6701 5739.6439,-313.4946 5746.3932,-321.6615 5750.013,-315.6701\"/>\n<text text-anchor=\"middle\" x=\"5801.1874\" y=\"-335.8\" font-family=\"Times,serif\" font-size=\"14.00\" fill=\"#000000\">No</text>\n</g>\n<!-- 12 -->\n<g id=\"node13\" class=\"node\">\n<title>12</title>\n<ellipse fill=\"none\" stroke=\"#000000\" cx=\"6247.6874\" cy=\"-296\" rx=\"106.6812\" ry=\"18\"/>\n<text text-anchor=\"middle\" x=\"6247.6874\" y=\"-292.3\" font-family=\"Times,serif\" font-size=\"14.00\" fill=\"#000000\">Interest_Rate, value&gt;20.5</text>\n</g>\n<!-- 5&#45;&gt;12 -->\n<g id=\"edge12\" class=\"edge\">\n<title>5&#45;&gt;12</title>\n<path fill=\"none\" stroke=\"#000000\" d=\"M5925.4018,-367.3457C5995.2638,-351.88 6101.721,-328.3132 6172.9487,-312.5452\"/>\n<polygon fill=\"#000000\" stroke=\"#000000\" points=\"6173.7508,-315.9525 6182.7579,-310.3737 6172.2378,-309.1179 6173.7508,-315.9525\"/>\n<text text-anchor=\"middle\" x=\"6086.1874\" y=\"-335.8\" font-family=\"Times,serif\" font-size=\"14.00\" fill=\"#000000\">Yes</text>\n</g>\n<!-- 13 -->\n<g id=\"node14\" class=\"node\">\n<title>13</title>\n<ellipse fill=\"none\" stroke=\"#000000\" cx=\"7742.6874\" cy=\"-296\" rx=\"106.6812\" ry=\"18\"/>\n<text text-anchor=\"middle\" x=\"7742.6874\" y=\"-292.3\" font-family=\"Times,serif\" font-size=\"14.00\" fill=\"#000000\">Interest_Rate, value&gt;20.5</text>\n</g>\n<!-- 6&#45;&gt;13 -->\n<g id=\"edge13\" class=\"edge\">\n<title>6&#45;&gt;13</title>\n<path fill=\"none\" stroke=\"#000000\" d=\"M7742.6874,-364.9735C7742.6874,-353.1918 7742.6874,-337.5607 7742.6874,-324.1581\"/>\n<polygon fill=\"#000000\" stroke=\"#000000\" points=\"7746.1875,-324.0033 7742.6874,-314.0034 7739.1875,-324.0034 7746.1875,-324.0033\"/>\n<text text-anchor=\"middle\" x=\"7752.1874\" y=\"-335.8\" font-family=\"Times,serif\" font-size=\"14.00\" fill=\"#000000\">No</text>\n</g>\n<!-- 14 -->\n<g id=\"node15\" class=\"node\">\n<title>14</title>\n<ellipse fill=\"none\" stroke=\"#000000\" cx=\"8655.6874\" cy=\"-296\" rx=\"106.6812\" ry=\"18\"/>\n<text text-anchor=\"middle\" x=\"8655.6874\" y=\"-292.3\" font-family=\"Times,serif\" font-size=\"14.00\" fill=\"#000000\">Interest_Rate, value&gt;20.5</text>\n</g>\n<!-- 6&#45;&gt;14 -->\n<g id=\"edge14\" class=\"edge\">\n<title>6&#45;&gt;14</title>\n<path fill=\"none\" stroke=\"#000000\" d=\"M7856.4735,-372.1573C8035.5103,-355.0968 8380.287,-322.243 8552.512,-305.8316\"/>\n<polygon fill=\"#000000\" stroke=\"#000000\" points=\"8552.9734,-309.3036 8562.5963,-304.8707 8552.3093,-302.3352 8552.9734,-309.3036\"/>\n<text text-anchor=\"middle\" x=\"8265.1874\" y=\"-335.8\" font-family=\"Times,serif\" font-size=\"14.00\" fill=\"#000000\">Yes</text>\n</g>\n<!-- 15 -->\n<g id=\"node16\" class=\"node\">\n<title>15</title>\n<ellipse fill=\"none\" stroke=\"#000000\" cx=\"442.6874\" cy=\"-209\" rx=\"96.6831\" ry=\"18\"/>\n<text text-anchor=\"middle\" x=\"442.6874\" y=\"-205.3\" font-family=\"Times,serif\" font-size=\"14.00\" fill=\"#000000\">Credit_Mix, value&gt;1.5</text>\n</g>\n<!-- 7&#45;&gt;15 -->\n<g id=\"edge15\" class=\"edge\">\n<title>7&#45;&gt;15</title>\n<path fill=\"none\" stroke=\"#000000\" d=\"M775.4115,-281.7311C704.1154,-266.1463 590.1969,-241.2445 515.9089,-225.0057\"/>\n<polygon fill=\"#000000\" stroke=\"#000000\" points=\"516.2148,-221.49 505.6981,-222.7737 514.7199,-228.3285 516.2148,-221.49\"/>\n<text text-anchor=\"middle\" x=\"675.1874\" y=\"-248.8\" font-family=\"Times,serif\" font-size=\"14.00\" fill=\"#000000\">No</text>\n</g>\n<!-- 16 -->\n<g id=\"node17\" class=\"node\">\n<title>16</title>\n<ellipse fill=\"none\" stroke=\"#000000\" cx=\"840.6874\" cy=\"-209\" rx=\"96.6831\" ry=\"18\"/>\n<text text-anchor=\"middle\" x=\"840.6874\" y=\"-205.3\" font-family=\"Times,serif\" font-size=\"14.00\" fill=\"#000000\">Credit_Mix, value&gt;1.5</text>\n</g>\n<!-- 7&#45;&gt;16 -->\n<g id=\"edge16\" class=\"edge\">\n<title>7&#45;&gt;16</title>\n<path fill=\"none\" stroke=\"#000000\" d=\"M840.6874,-277.9735C840.6874,-266.1918 840.6874,-250.5607 840.6874,-237.1581\"/>\n<polygon fill=\"#000000\" stroke=\"#000000\" points=\"844.1875,-237.0033 840.6874,-227.0034 837.1875,-237.0034 844.1875,-237.0033\"/>\n<text text-anchor=\"middle\" x=\"851.1874\" y=\"-248.8\" font-family=\"Times,serif\" font-size=\"14.00\" fill=\"#000000\">Yes</text>\n</g>\n<!-- 17 -->\n<g id=\"node18\" class=\"node\">\n<title>17</title>\n<ellipse fill=\"none\" stroke=\"#000000\" cx=\"1646.6874\" cy=\"-209\" rx=\"96.6831\" ry=\"18\"/>\n<text text-anchor=\"middle\" x=\"1646.6874\" y=\"-205.3\" font-family=\"Times,serif\" font-size=\"14.00\" fill=\"#000000\">Credit_Mix, value&gt;1.5</text>\n</g>\n<!-- 8&#45;&gt;17 -->\n<g id=\"edge17\" class=\"edge\">\n<title>8&#45;&gt;17</title>\n<path fill=\"none\" stroke=\"#000000\" d=\"M1767.4932,-278.6033C1743.8578,-264.9856 1710.8221,-245.9518 1685.27,-231.2297\"/>\n<polygon fill=\"#000000\" stroke=\"#000000\" points=\"1686.9837,-228.1777 1676.5716,-226.218 1683.489,-234.243 1686.9837,-228.1777\"/>\n<text text-anchor=\"middle\" x=\"1741.1874\" y=\"-248.8\" font-family=\"Times,serif\" font-size=\"14.00\" fill=\"#000000\">No</text>\n</g>\n<!-- 18 -->\n<g id=\"node19\" class=\"node\">\n<title>18</title>\n<ellipse fill=\"none\" stroke=\"#000000\" cx=\"1947.6874\" cy=\"-209\" rx=\"96.6831\" ry=\"18\"/>\n<text text-anchor=\"middle\" x=\"1947.6874\" y=\"-205.3\" font-family=\"Times,serif\" font-size=\"14.00\" fill=\"#000000\">Credit_Mix, value&gt;1.5</text>\n</g>\n<!-- 8&#45;&gt;18 -->\n<g id=\"edge18\" class=\"edge\">\n<title>8&#45;&gt;18</title>\n<path fill=\"none\" stroke=\"#000000\" d=\"M1827.6817,-278.6033C1851.0581,-265.045 1883.691,-246.1179 1909.0275,-231.4228\"/>\n<polygon fill=\"#000000\" stroke=\"#000000\" points=\"1911.1069,-234.2629 1918.0012,-226.218 1907.5948,-228.2077 1911.1069,-234.2629\"/>\n<text text-anchor=\"middle\" x=\"1892.1874\" y=\"-248.8\" font-family=\"Times,serif\" font-size=\"14.00\" fill=\"#000000\">Yes</text>\n</g>\n<!-- 19 -->\n<g id=\"node20\" class=\"node\">\n<title>19</title>\n<ellipse fill=\"none\" stroke=\"#000000\" cx=\"2850.6874\" cy=\"-209\" rx=\"96.6831\" ry=\"18\"/>\n<text text-anchor=\"middle\" x=\"2850.6874\" y=\"-205.3\" font-family=\"Times,serif\" font-size=\"14.00\" fill=\"#000000\">Credit_Mix, value&gt;1.5</text>\n</g>\n<!-- 9&#45;&gt;19 -->\n<g id=\"edge19\" class=\"edge\">\n<title>9&#45;&gt;19</title>\n<path fill=\"none\" stroke=\"#000000\" d=\"M3169.1791,-281.5361C3100.996,-266.0074 2992.9212,-241.3936 2921.8998,-225.2185\"/>\n<polygon fill=\"#000000\" stroke=\"#000000\" points=\"2922.6599,-221.8021 2912.1323,-222.994 2921.1054,-228.6273 2922.6599,-221.8021\"/>\n<text text-anchor=\"middle\" x=\"3074.1874\" y=\"-248.8\" font-family=\"Times,serif\" font-size=\"14.00\" fill=\"#000000\">No</text>\n</g>\n<!-- 20 -->\n<g id=\"node21\" class=\"node\">\n<title>20</title>\n<ellipse fill=\"none\" stroke=\"#000000\" cx=\"3232.6874\" cy=\"-209\" rx=\"96.6831\" ry=\"18\"/>\n<text text-anchor=\"middle\" x=\"3232.6874\" y=\"-205.3\" font-family=\"Times,serif\" font-size=\"14.00\" fill=\"#000000\">Credit_Mix, value&gt;1.5</text>\n</g>\n<!-- 9&#45;&gt;20 -->\n<g id=\"edge20\" class=\"edge\">\n<title>9&#45;&gt;20</title>\n<path fill=\"none\" stroke=\"#000000\" d=\"M3232.6874,-277.9735C3232.6874,-266.1918 3232.6874,-250.5607 3232.6874,-237.1581\"/>\n<polygon fill=\"#000000\" stroke=\"#000000\" points=\"3236.1875,-237.0033 3232.6874,-227.0034 3229.1875,-237.0034 3236.1875,-237.0033\"/>\n<text text-anchor=\"middle\" x=\"3243.1874\" y=\"-248.8\" font-family=\"Times,serif\" font-size=\"14.00\" fill=\"#000000\">Yes</text>\n</g>\n<!-- 21 -->\n<g id=\"node22\" class=\"node\">\n<title>21</title>\n<ellipse fill=\"none\" stroke=\"#000000\" cx=\"3933.6874\" cy=\"-209\" rx=\"96.6831\" ry=\"18\"/>\n<text text-anchor=\"middle\" x=\"3933.6874\" y=\"-205.3\" font-family=\"Times,serif\" font-size=\"14.00\" fill=\"#000000\">Credit_Mix, value&gt;1.5</text>\n</g>\n<!-- 10&#45;&gt;21 -->\n<g id=\"edge21\" class=\"edge\">\n<title>10&#45;&gt;21</title>\n<path fill=\"none\" stroke=\"#000000\" d=\"M3933.6874,-277.9735C3933.6874,-266.1918 3933.6874,-250.5607 3933.6874,-237.1581\"/>\n<polygon fill=\"#000000\" stroke=\"#000000\" points=\"3937.1875,-237.0033 3933.6874,-227.0034 3930.1875,-237.0034 3937.1875,-237.0033\"/>\n<text text-anchor=\"middle\" x=\"3943.1874\" y=\"-248.8\" font-family=\"Times,serif\" font-size=\"14.00\" fill=\"#000000\">No</text>\n</g>\n<!-- 22 -->\n<g id=\"node23\" class=\"node\">\n<title>22</title>\n<ellipse fill=\"none\" stroke=\"#000000\" cx=\"4355.6874\" cy=\"-209\" rx=\"96.6831\" ry=\"18\"/>\n<text text-anchor=\"middle\" x=\"4355.6874\" y=\"-205.3\" font-family=\"Times,serif\" font-size=\"14.00\" fill=\"#000000\">Credit_Mix, value&gt;1.5</text>\n</g>\n<!-- 10&#45;&gt;22 -->\n<g id=\"edge22\" class=\"edge\">\n<title>10&#45;&gt;22</title>\n<path fill=\"none\" stroke=\"#000000\" d=\"M4001.489,-282.0219C4077.9026,-266.2684 4201.7583,-240.7342 4280.9211,-224.4139\"/>\n<polygon fill=\"#000000\" stroke=\"#000000\" points=\"4281.7387,-227.819 4290.826,-222.3719 4280.3253,-220.9632 4281.7387,-227.819\"/>\n<text text-anchor=\"middle\" x=\"4181.1874\" y=\"-248.8\" font-family=\"Times,serif\" font-size=\"14.00\" fill=\"#000000\">Yes</text>\n</g>\n<!-- 23 -->\n<g id=\"node24\" class=\"node\">\n<title>23</title>\n<ellipse fill=\"none\" stroke=\"#000000\" cx=\"5258.6874\" cy=\"-209\" rx=\"96.6831\" ry=\"18\"/>\n<text text-anchor=\"middle\" x=\"5258.6874\" y=\"-205.3\" font-family=\"Times,serif\" font-size=\"14.00\" fill=\"#000000\">Credit_Mix, value&gt;1.5</text>\n</g>\n<!-- 11&#45;&gt;23 -->\n<g id=\"edge23\" class=\"edge\">\n<title>11&#45;&gt;23</title>\n<path fill=\"none\" stroke=\"#000000\" d=\"M5640.0624,-282.4063C5557.5451,-266.5235 5421.4653,-240.3311 5336.1259,-223.9052\"/>\n<polygon fill=\"#000000\" stroke=\"#000000\" points=\"5336.7156,-220.4545 5326.2343,-222.0013 5335.3925,-227.3284 5336.7156,-220.4545\"/>\n<text text-anchor=\"middle\" x=\"5522.1874\" y=\"-248.8\" font-family=\"Times,serif\" font-size=\"14.00\" fill=\"#000000\">No</text>\n</g>\n<!-- 24 -->\n<g id=\"node25\" class=\"node\">\n<title>24</title>\n<ellipse fill=\"none\" stroke=\"#000000\" cx=\"5710.6874\" cy=\"-209\" rx=\"96.6831\" ry=\"18\"/>\n<text text-anchor=\"middle\" x=\"5710.6874\" y=\"-205.3\" font-family=\"Times,serif\" font-size=\"14.00\" fill=\"#000000\">Credit_Mix, value&gt;1.5</text>\n</g>\n<!-- 11&#45;&gt;24 -->\n<g id=\"edge24\" class=\"edge\">\n<title>11&#45;&gt;24</title>\n<path fill=\"none\" stroke=\"#000000\" d=\"M5710.6874,-277.9735C5710.6874,-266.1918 5710.6874,-250.5607 5710.6874,-237.1581\"/>\n<polygon fill=\"#000000\" stroke=\"#000000\" points=\"5714.1875,-237.0033 5710.6874,-227.0034 5707.1875,-237.0034 5714.1875,-237.0033\"/>\n<text text-anchor=\"middle\" x=\"5721.1874\" y=\"-248.8\" font-family=\"Times,serif\" font-size=\"14.00\" fill=\"#000000\">Yes</text>\n</g>\n<!-- 25 -->\n<g id=\"node26\" class=\"node\">\n<title>25</title>\n<ellipse fill=\"none\" stroke=\"#000000\" cx=\"6247.6874\" cy=\"-209\" rx=\"96.6831\" ry=\"18\"/>\n<text text-anchor=\"middle\" x=\"6247.6874\" y=\"-205.3\" font-family=\"Times,serif\" font-size=\"14.00\" fill=\"#000000\">Credit_Mix, value&gt;1.5</text>\n</g>\n<!-- 12&#45;&gt;25 -->\n<g id=\"edge25\" class=\"edge\">\n<title>12&#45;&gt;25</title>\n<path fill=\"none\" stroke=\"#000000\" d=\"M6247.6874,-277.9735C6247.6874,-266.1918 6247.6874,-250.5607 6247.6874,-237.1581\"/>\n<polygon fill=\"#000000\" stroke=\"#000000\" points=\"6251.1875,-237.0033 6247.6874,-227.0034 6244.1875,-237.0034 6251.1875,-237.0033\"/>\n<text text-anchor=\"middle\" x=\"6257.1874\" y=\"-248.8\" font-family=\"Times,serif\" font-size=\"14.00\" fill=\"#000000\">No</text>\n</g>\n<!-- 26 -->\n<g id=\"node27\" class=\"node\">\n<title>26</title>\n<ellipse fill=\"none\" stroke=\"#000000\" cx=\"6763.6874\" cy=\"-209\" rx=\"96.6831\" ry=\"18\"/>\n<text text-anchor=\"middle\" x=\"6763.6874\" y=\"-205.3\" font-family=\"Times,serif\" font-size=\"14.00\" fill=\"#000000\">Credit_Mix, value&gt;1.5</text>\n</g>\n<!-- 12&#45;&gt;26 -->\n<g id=\"edge26\" class=\"edge\">\n<title>12&#45;&gt;26</title>\n<path fill=\"none\" stroke=\"#000000\" d=\"M6323.2709,-283.2563C6418.9404,-267.126 6583.1235,-239.4439 6681.7271,-222.8189\"/>\n<polygon fill=\"#000000\" stroke=\"#000000\" points=\"6682.3699,-226.26 6691.6487,-221.1461 6681.206,-219.3574 6682.3699,-226.26\"/>\n<text text-anchor=\"middle\" x=\"6547.1874\" y=\"-248.8\" font-family=\"Times,serif\" font-size=\"14.00\" fill=\"#000000\">Yes</text>\n</g>\n<!-- 27 -->\n<g id=\"node28\" class=\"node\">\n<title>27</title>\n<ellipse fill=\"none\" stroke=\"#000000\" cx=\"7666.6874\" cy=\"-209\" rx=\"96.6831\" ry=\"18\"/>\n<text text-anchor=\"middle\" x=\"7666.6874\" y=\"-205.3\" font-family=\"Times,serif\" font-size=\"14.00\" fill=\"#000000\">Credit_Mix, value&gt;1.5</text>\n</g>\n<!-- 13&#45;&gt;27 -->\n<g id=\"edge27\" class=\"edge\">\n<title>13&#45;&gt;27</title>\n<path fill=\"none\" stroke=\"#000000\" d=\"M7726.9402,-277.9735C7716.0366,-265.4919 7701.3591,-248.6899 7689.2204,-234.7944\"/>\n<polygon fill=\"#000000\" stroke=\"#000000\" points=\"7691.6294,-232.2319 7682.4145,-227.0034 7686.3575,-236.8371 7691.6294,-232.2319\"/>\n<text text-anchor=\"middle\" x=\"7719.1874\" y=\"-248.8\" font-family=\"Times,serif\" font-size=\"14.00\" fill=\"#000000\">No</text>\n</g>\n<!-- 28 -->\n<g id=\"node29\" class=\"node\">\n<title>28</title>\n<ellipse fill=\"none\" stroke=\"#000000\" cx=\"7967.6874\" cy=\"-209\" rx=\"96.6831\" ry=\"18\"/>\n<text text-anchor=\"middle\" x=\"7967.6874\" y=\"-205.3\" font-family=\"Times,serif\" font-size=\"14.00\" fill=\"#000000\">Credit_Mix, value&gt;1.5</text>\n</g>\n<!-- 13&#45;&gt;28 -->\n<g id=\"edge28\" class=\"edge\">\n<title>13&#45;&gt;28</title>\n<path fill=\"none\" stroke=\"#000000\" d=\"M7785.5378,-279.4312C7822.5636,-265.1146 7876.1836,-244.3815 7915.664,-229.1157\"/>\n<polygon fill=\"#000000\" stroke=\"#000000\" points=\"7917.3132,-232.2306 7925.378,-225.3596 7914.7887,-225.7017 7917.3132,-232.2306\"/>\n<text text-anchor=\"middle\" x=\"7879.1874\" y=\"-248.8\" font-family=\"Times,serif\" font-size=\"14.00\" fill=\"#000000\">Yes</text>\n</g>\n<!-- 29 -->\n<g id=\"node30\" class=\"node\">\n<title>29</title>\n<ellipse fill=\"none\" stroke=\"#000000\" cx=\"8655.6874\" cy=\"-209\" rx=\"96.6831\" ry=\"18\"/>\n<text text-anchor=\"middle\" x=\"8655.6874\" y=\"-205.3\" font-family=\"Times,serif\" font-size=\"14.00\" fill=\"#000000\">Credit_Mix, value&gt;1.5</text>\n</g>\n<!-- 14&#45;&gt;29 -->\n<g id=\"edge29\" class=\"edge\">\n<title>14&#45;&gt;29</title>\n<path fill=\"none\" stroke=\"#000000\" d=\"M8655.6874,-277.9735C8655.6874,-266.1918 8655.6874,-250.5607 8655.6874,-237.1581\"/>\n<polygon fill=\"#000000\" stroke=\"#000000\" points=\"8659.1875,-237.0033 8655.6874,-227.0034 8652.1875,-237.0034 8659.1875,-237.0033\"/>\n<text text-anchor=\"middle\" x=\"8665.1874\" y=\"-248.8\" font-family=\"Times,serif\" font-size=\"14.00\" fill=\"#000000\">No</text>\n</g>\n<!-- 30 -->\n<g id=\"node31\" class=\"node\">\n<title>30</title>\n<ellipse fill=\"none\" stroke=\"#000000\" cx=\"9171.6874\" cy=\"-209\" rx=\"96.6831\" ry=\"18\"/>\n<text text-anchor=\"middle\" x=\"9171.6874\" y=\"-205.3\" font-family=\"Times,serif\" font-size=\"14.00\" fill=\"#000000\">Credit_Mix, value&gt;1.5</text>\n</g>\n<!-- 14&#45;&gt;30 -->\n<g id=\"edge30\" class=\"edge\">\n<title>14&#45;&gt;30</title>\n<path fill=\"none\" stroke=\"#000000\" d=\"M8731.2709,-283.2563C8826.9404,-267.126 8991.1235,-239.4439 9089.7271,-222.8189\"/>\n<polygon fill=\"#000000\" stroke=\"#000000\" points=\"9090.3699,-226.26 9099.6487,-221.1461 9089.206,-219.3574 9090.3699,-226.26\"/>\n<text text-anchor=\"middle\" x=\"8955.1874\" y=\"-248.8\" font-family=\"Times,serif\" font-size=\"14.00\" fill=\"#000000\">Yes</text>\n</g>\n<!-- 31 -->\n<g id=\"node32\" class=\"node\">\n<title>31</title>\n<ellipse fill=\"none\" stroke=\"#000000\" cx=\"141.6874\" cy=\"-122\" rx=\"141.8751\" ry=\"18\"/>\n<text text-anchor=\"middle\" x=\"141.6874\" y=\"-118.3\" font-family=\"Times,serif\" font-size=\"14.00\" fill=\"#000000\">Outstanding_Debt, value&gt;38.6503</text>\n</g>\n<!-- 15&#45;&gt;31 -->\n<g id=\"edge31\" class=\"edge\">\n<title>15&#45;&gt;31</title>\n<path fill=\"none\" stroke=\"#000000\" d=\"M390.2572,-193.8458C339.8083,-179.2642 263.3191,-157.156 208.5208,-141.3173\"/>\n<polygon fill=\"#000000\" stroke=\"#000000\" points=\"209.4739,-137.9496 198.8953,-138.5352 207.5302,-144.6743 209.4739,-137.9496\"/>\n<text text-anchor=\"middle\" x=\"320.1874\" y=\"-161.8\" font-family=\"Times,serif\" font-size=\"14.00\" fill=\"#000000\">No</text>\n</g>\n<!-- 32 -->\n<g id=\"node33\" class=\"node\">\n<title>32</title>\n<ellipse fill=\"none\" stroke=\"#000000\" cx=\"442.6874\" cy=\"-122\" rx=\"141.8751\" ry=\"18\"/>\n<text text-anchor=\"middle\" x=\"442.6874\" y=\"-118.3\" font-family=\"Times,serif\" font-size=\"14.00\" fill=\"#000000\">Outstanding_Debt, value&gt;38.6503</text>\n</g>\n<!-- 15&#45;&gt;32 -->\n<g id=\"edge32\" class=\"edge\">\n<title>15&#45;&gt;32</title>\n<path fill=\"none\" stroke=\"#000000\" d=\"M442.6874,-190.9735C442.6874,-179.1918 442.6874,-163.5607 442.6874,-150.1581\"/>\n<polygon fill=\"#000000\" stroke=\"#000000\" points=\"446.1875,-150.0033 442.6874,-140.0034 439.1875,-150.0034 446.1875,-150.0033\"/>\n<text text-anchor=\"middle\" x=\"453.1874\" y=\"-161.8\" font-family=\"Times,serif\" font-size=\"14.00\" fill=\"#000000\">Yes</text>\n</g>\n<!-- 33 -->\n<g id=\"node34\" class=\"node\">\n<title>33</title>\n<ellipse fill=\"none\" stroke=\"#000000\" cx=\"743.6874\" cy=\"-122\" rx=\"141.8751\" ry=\"18\"/>\n<text text-anchor=\"middle\" x=\"743.6874\" y=\"-118.3\" font-family=\"Times,serif\" font-size=\"14.00\" fill=\"#000000\">Outstanding_Debt, value&gt;38.6503</text>\n</g>\n<!-- 16&#45;&gt;33 -->\n<g id=\"edge33\" class=\"edge\">\n<title>16&#45;&gt;33</title>\n<path fill=\"none\" stroke=\"#000000\" d=\"M820.589,-190.9735C806.4125,-178.2586 787.2374,-161.0603 771.5814,-147.0183\"/>\n<polygon fill=\"#000000\" stroke=\"#000000\" points=\"773.5415,-144.0748 763.7601,-140.0034 768.8676,-149.2859 773.5415,-144.0748\"/>\n<text text-anchor=\"middle\" x=\"808.1874\" y=\"-161.8\" font-family=\"Times,serif\" font-size=\"14.00\" fill=\"#000000\">No</text>\n</g>\n<!-- 34 -->\n<g id=\"node35\" class=\"node\">\n<title>34</title>\n<ellipse fill=\"none\" stroke=\"#000000\" cx=\"1044.6874\" cy=\"-122\" rx=\"141.8751\" ry=\"18\"/>\n<text text-anchor=\"middle\" x=\"1044.6874\" y=\"-118.3\" font-family=\"Times,serif\" font-size=\"14.00\" fill=\"#000000\">Outstanding_Debt, value&gt;38.6503</text>\n</g>\n<!-- 16&#45;&gt;34 -->\n<g id=\"edge34\" class=\"edge\">\n<title>16&#45;&gt;34</title>\n<path fill=\"none\" stroke=\"#000000\" d=\"M879.5384,-192.4312C912.3295,-178.4468 959.4759,-158.3402 995.0073,-143.1871\"/>\n<polygon fill=\"#000000\" stroke=\"#000000\" points=\"996.4106,-146.3937 1004.236,-139.2514 993.6645,-139.9548 996.4106,-146.3937\"/>\n<text text-anchor=\"middle\" x=\"966.1874\" y=\"-161.8\" font-family=\"Times,serif\" font-size=\"14.00\" fill=\"#000000\">Yes</text>\n</g>\n<!-- 35 -->\n<g id=\"node36\" class=\"node\">\n<title>35</title>\n<ellipse fill=\"none\" stroke=\"#000000\" cx=\"1345.6874\" cy=\"-122\" rx=\"141.8751\" ry=\"18\"/>\n<text text-anchor=\"middle\" x=\"1345.6874\" y=\"-118.3\" font-family=\"Times,serif\" font-size=\"14.00\" fill=\"#000000\">Outstanding_Debt, value&gt;38.6503</text>\n</g>\n<!-- 17&#45;&gt;35 -->\n<g id=\"edge35\" class=\"edge\">\n<title>17&#45;&gt;35</title>\n<path fill=\"none\" stroke=\"#000000\" d=\"M1594.2572,-193.8458C1543.8083,-179.2642 1467.3191,-157.156 1412.5208,-141.3173\"/>\n<polygon fill=\"#000000\" stroke=\"#000000\" points=\"1413.4739,-137.9496 1402.8953,-138.5352 1411.5302,-144.6743 1413.4739,-137.9496\"/>\n<text text-anchor=\"middle\" x=\"1524.1874\" y=\"-161.8\" font-family=\"Times,serif\" font-size=\"14.00\" fill=\"#000000\">No</text>\n</g>\n<!-- 36 -->\n<g id=\"node37\" class=\"node\">\n<title>36</title>\n<ellipse fill=\"none\" stroke=\"#000000\" cx=\"1646.6874\" cy=\"-122\" rx=\"141.8751\" ry=\"18\"/>\n<text text-anchor=\"middle\" x=\"1646.6874\" y=\"-118.3\" font-family=\"Times,serif\" font-size=\"14.00\" fill=\"#000000\">Outstanding_Debt, value&gt;38.6503</text>\n</g>\n<!-- 17&#45;&gt;36 -->\n<g id=\"edge36\" class=\"edge\">\n<title>17&#45;&gt;36</title>\n<path fill=\"none\" stroke=\"#000000\" d=\"M1646.6874,-190.9735C1646.6874,-179.1918 1646.6874,-163.5607 1646.6874,-150.1581\"/>\n<polygon fill=\"#000000\" stroke=\"#000000\" points=\"1650.1875,-150.0033 1646.6874,-140.0034 1643.1875,-150.0034 1650.1875,-150.0033\"/>\n<text text-anchor=\"middle\" x=\"1657.1874\" y=\"-161.8\" font-family=\"Times,serif\" font-size=\"14.00\" fill=\"#000000\">Yes</text>\n</g>\n<!-- 37 -->\n<g id=\"node38\" class=\"node\">\n<title>37</title>\n<ellipse fill=\"none\" stroke=\"#000000\" cx=\"1947.6874\" cy=\"-122\" rx=\"141.8751\" ry=\"18\"/>\n<text text-anchor=\"middle\" x=\"1947.6874\" y=\"-118.3\" font-family=\"Times,serif\" font-size=\"14.00\" fill=\"#000000\">Outstanding_Debt, value&gt;38.6503</text>\n</g>\n<!-- 18&#45;&gt;37 -->\n<g id=\"edge37\" class=\"edge\">\n<title>18&#45;&gt;37</title>\n<path fill=\"none\" stroke=\"#000000\" d=\"M1947.6874,-190.9735C1947.6874,-179.1918 1947.6874,-163.5607 1947.6874,-150.1581\"/>\n<polygon fill=\"#000000\" stroke=\"#000000\" points=\"1951.1875,-150.0033 1947.6874,-140.0034 1944.1875,-150.0034 1951.1875,-150.0033\"/>\n<text text-anchor=\"middle\" x=\"1957.1874\" y=\"-161.8\" font-family=\"Times,serif\" font-size=\"14.00\" fill=\"#000000\">No</text>\n</g>\n<!-- 38 -->\n<g id=\"node39\" class=\"node\">\n<title>38</title>\n<ellipse fill=\"none\" stroke=\"#000000\" cx=\"2248.6874\" cy=\"-122\" rx=\"141.8751\" ry=\"18\"/>\n<text text-anchor=\"middle\" x=\"2248.6874\" y=\"-118.3\" font-family=\"Times,serif\" font-size=\"14.00\" fill=\"#000000\">Outstanding_Debt, value&gt;38.6503</text>\n</g>\n<!-- 18&#45;&gt;38 -->\n<g id=\"edge38\" class=\"edge\">\n<title>18&#45;&gt;38</title>\n<path fill=\"none\" stroke=\"#000000\" d=\"M2000.1176,-193.8458C2050.5666,-179.2642 2127.0558,-157.156 2181.854,-141.3173\"/>\n<polygon fill=\"#000000\" stroke=\"#000000\" points=\"2182.8447,-144.6743 2191.4796,-138.5352 2180.9009,-137.9496 2182.8447,-144.6743\"/>\n<text text-anchor=\"middle\" x=\"2127.1874\" y=\"-161.8\" font-family=\"Times,serif\" font-size=\"14.00\" fill=\"#000000\">Yes</text>\n</g>\n<!-- 39 -->\n<g id=\"node40\" class=\"node\">\n<title>39</title>\n<ellipse fill=\"none\" stroke=\"#000000\" cx=\"2549.6874\" cy=\"-122\" rx=\"141.8751\" ry=\"18\"/>\n<text text-anchor=\"middle\" x=\"2549.6874\" y=\"-118.3\" font-family=\"Times,serif\" font-size=\"14.00\" fill=\"#000000\">Outstanding_Debt, value&gt;38.6503</text>\n</g>\n<!-- 19&#45;&gt;39 -->\n<g id=\"edge39\" class=\"edge\">\n<title>19&#45;&gt;39</title>\n<path fill=\"none\" stroke=\"#000000\" d=\"M2798.2572,-193.8458C2747.8083,-179.2642 2671.3191,-157.156 2616.5208,-141.3173\"/>\n<polygon fill=\"#000000\" stroke=\"#000000\" points=\"2617.4739,-137.9496 2606.8953,-138.5352 2615.5302,-144.6743 2617.4739,-137.9496\"/>\n<text text-anchor=\"middle\" x=\"2728.1874\" y=\"-161.8\" font-family=\"Times,serif\" font-size=\"14.00\" fill=\"#000000\">No</text>\n</g>\n<!-- 40 -->\n<g id=\"node41\" class=\"node\">\n<title>40</title>\n<ellipse fill=\"none\" stroke=\"#000000\" cx=\"2850.6874\" cy=\"-122\" rx=\"141.8751\" ry=\"18\"/>\n<text text-anchor=\"middle\" x=\"2850.6874\" y=\"-118.3\" font-family=\"Times,serif\" font-size=\"14.00\" fill=\"#000000\">Outstanding_Debt, value&gt;38.6503</text>\n</g>\n<!-- 19&#45;&gt;40 -->\n<g id=\"edge40\" class=\"edge\">\n<title>19&#45;&gt;40</title>\n<path fill=\"none\" stroke=\"#000000\" d=\"M2850.6874,-190.9735C2850.6874,-179.1918 2850.6874,-163.5607 2850.6874,-150.1581\"/>\n<polygon fill=\"#000000\" stroke=\"#000000\" points=\"2854.1875,-150.0033 2850.6874,-140.0034 2847.1875,-150.0034 2854.1875,-150.0033\"/>\n<text text-anchor=\"middle\" x=\"2861.1874\" y=\"-161.8\" font-family=\"Times,serif\" font-size=\"14.00\" fill=\"#000000\">Yes</text>\n</g>\n<!-- 41 -->\n<g id=\"node42\" class=\"node\">\n<title>41</title>\n<ellipse fill=\"none\" stroke=\"#000000\" cx=\"3151.6874\" cy=\"-122\" rx=\"141.8751\" ry=\"18\"/>\n<text text-anchor=\"middle\" x=\"3151.6874\" y=\"-118.3\" font-family=\"Times,serif\" font-size=\"14.00\" fill=\"#000000\">Outstanding_Debt, value&gt;38.6503</text>\n</g>\n<!-- 20&#45;&gt;41 -->\n<g id=\"edge41\" class=\"edge\">\n<title>20&#45;&gt;41</title>\n<path fill=\"none\" stroke=\"#000000\" d=\"M3215.9042,-190.9735C3204.1747,-178.3752 3188.3474,-161.3755 3175.3409,-147.4055\"/>\n<polygon fill=\"#000000\" stroke=\"#000000\" points=\"3177.825,-144.9374 3168.4492,-140.0034 3172.7018,-149.7073 3177.825,-144.9374\"/>\n<text text-anchor=\"middle\" x=\"3207.1874\" y=\"-161.8\" font-family=\"Times,serif\" font-size=\"14.00\" fill=\"#000000\">No</text>\n</g>\n<!-- 42 -->\n<g id=\"node43\" class=\"node\">\n<title>42</title>\n<ellipse fill=\"none\" stroke=\"#000000\" cx=\"3452.6874\" cy=\"-122\" rx=\"141.8751\" ry=\"18\"/>\n<text text-anchor=\"middle\" x=\"3452.6874\" y=\"-118.3\" font-family=\"Times,serif\" font-size=\"14.00\" fill=\"#000000\">Outstanding_Debt, value&gt;38.6503</text>\n</g>\n<!-- 20&#45;&gt;42 -->\n<g id=\"edge42\" class=\"edge\">\n<title>20&#45;&gt;42</title>\n<path fill=\"none\" stroke=\"#000000\" d=\"M3274.0677,-192.636C3309.6389,-178.5692 3361.1498,-158.199 3399.7241,-142.9446\"/>\n<polygon fill=\"#000000\" stroke=\"#000000\" points=\"3401.2227,-146.1158 3409.2348,-139.1835 3398.6484,-139.6063 3401.2227,-146.1158\"/>\n<text text-anchor=\"middle\" x=\"3367.1874\" y=\"-161.8\" font-family=\"Times,serif\" font-size=\"14.00\" fill=\"#000000\">Yes</text>\n</g>\n<!-- 43 -->\n<g id=\"node44\" class=\"node\">\n<title>43</title>\n<ellipse fill=\"none\" stroke=\"#000000\" cx=\"3753.6874\" cy=\"-122\" rx=\"141.8751\" ry=\"18\"/>\n<text text-anchor=\"middle\" x=\"3753.6874\" y=\"-118.3\" font-family=\"Times,serif\" font-size=\"14.00\" fill=\"#000000\">Outstanding_Debt, value&gt;38.6503</text>\n</g>\n<!-- 21&#45;&gt;43 -->\n<g id=\"edge43\" class=\"edge\">\n<title>21&#45;&gt;43</title>\n<path fill=\"none\" stroke=\"#000000\" d=\"M3898.5543,-192.019C3870.1822,-178.3058 3830.0462,-158.9068 3799.2129,-144.004\"/>\n<polygon fill=\"#000000\" stroke=\"#000000\" points=\"3800.4925,-140.7351 3789.9659,-139.5346 3797.4463,-147.0376 3800.4925,-140.7351\"/>\n<text text-anchor=\"middle\" x=\"3864.1874\" y=\"-161.8\" font-family=\"Times,serif\" font-size=\"14.00\" fill=\"#000000\">No</text>\n</g>\n<!-- 44 -->\n<g id=\"node45\" class=\"node\">\n<title>44</title>\n<ellipse fill=\"none\" stroke=\"#000000\" cx=\"4054.6874\" cy=\"-122\" rx=\"141.8751\" ry=\"18\"/>\n<text text-anchor=\"middle\" x=\"4054.6874\" y=\"-118.3\" font-family=\"Times,serif\" font-size=\"14.00\" fill=\"#000000\">Outstanding_Debt, value&gt;38.6503</text>\n</g>\n<!-- 21&#45;&gt;44 -->\n<g id=\"edge44\" class=\"edge\">\n<title>21&#45;&gt;44</title>\n<path fill=\"none\" stroke=\"#000000\" d=\"M3958.1736,-191.3943C3976.4216,-178.2738 4001.5422,-160.2119 4021.5805,-145.8041\"/>\n<polygon fill=\"#000000\" stroke=\"#000000\" points=\"4023.7464,-148.5577 4029.8224,-139.8782 4019.66,-142.8742 4023.7464,-148.5577\"/>\n<text text-anchor=\"middle\" x=\"4012.1874\" y=\"-161.8\" font-family=\"Times,serif\" font-size=\"14.00\" fill=\"#000000\">Yes</text>\n</g>\n<!-- 45 -->\n<g id=\"node46\" class=\"node\">\n<title>45</title>\n<ellipse fill=\"none\" stroke=\"#000000\" cx=\"4355.6874\" cy=\"-122\" rx=\"141.8751\" ry=\"18\"/>\n<text text-anchor=\"middle\" x=\"4355.6874\" y=\"-118.3\" font-family=\"Times,serif\" font-size=\"14.00\" fill=\"#000000\">Outstanding_Debt, value&gt;38.6503</text>\n</g>\n<!-- 22&#45;&gt;45 -->\n<g id=\"edge45\" class=\"edge\">\n<title>22&#45;&gt;45</title>\n<path fill=\"none\" stroke=\"#000000\" d=\"M4355.6874,-190.9735C4355.6874,-179.1918 4355.6874,-163.5607 4355.6874,-150.1581\"/>\n<polygon fill=\"#000000\" stroke=\"#000000\" points=\"4359.1875,-150.0033 4355.6874,-140.0034 4352.1875,-150.0034 4359.1875,-150.0033\"/>\n<text text-anchor=\"middle\" x=\"4365.1874\" y=\"-161.8\" font-family=\"Times,serif\" font-size=\"14.00\" fill=\"#000000\">No</text>\n</g>\n<!-- 46 -->\n<g id=\"node47\" class=\"node\">\n<title>46</title>\n<ellipse fill=\"none\" stroke=\"#000000\" cx=\"4656.6874\" cy=\"-122\" rx=\"141.8751\" ry=\"18\"/>\n<text text-anchor=\"middle\" x=\"4656.6874\" y=\"-118.3\" font-family=\"Times,serif\" font-size=\"14.00\" fill=\"#000000\">Outstanding_Debt, value&gt;38.6503</text>\n</g>\n<!-- 22&#45;&gt;46 -->\n<g id=\"edge46\" class=\"edge\">\n<title>22&#45;&gt;46</title>\n<path fill=\"none\" stroke=\"#000000\" d=\"M4408.1176,-193.8458C4458.5666,-179.2642 4535.0558,-157.156 4589.854,-141.3173\"/>\n<polygon fill=\"#000000\" stroke=\"#000000\" points=\"4590.8447,-144.6743 4599.4796,-138.5352 4588.9009,-137.9496 4590.8447,-144.6743\"/>\n<text text-anchor=\"middle\" x=\"4535.1874\" y=\"-161.8\" font-family=\"Times,serif\" font-size=\"14.00\" fill=\"#000000\">Yes</text>\n</g>\n<!-- 47 -->\n<g id=\"node48\" class=\"node\">\n<title>47</title>\n<ellipse fill=\"none\" stroke=\"#000000\" cx=\"4957.6874\" cy=\"-122\" rx=\"141.8751\" ry=\"18\"/>\n<text text-anchor=\"middle\" x=\"4957.6874\" y=\"-118.3\" font-family=\"Times,serif\" font-size=\"14.00\" fill=\"#000000\">Outstanding_Debt, value&gt;38.6503</text>\n</g>\n<!-- 23&#45;&gt;47 -->\n<g id=\"edge47\" class=\"edge\">\n<title>23&#45;&gt;47</title>\n<path fill=\"none\" stroke=\"#000000\" d=\"M5206.2572,-193.8458C5155.8083,-179.2642 5079.3191,-157.156 5024.5208,-141.3173\"/>\n<polygon fill=\"#000000\" stroke=\"#000000\" points=\"5025.4739,-137.9496 5014.8953,-138.5352 5023.5302,-144.6743 5025.4739,-137.9496\"/>\n<text text-anchor=\"middle\" x=\"5136.1874\" y=\"-161.8\" font-family=\"Times,serif\" font-size=\"14.00\" fill=\"#000000\">No</text>\n</g>\n<!-- 48 -->\n<g id=\"node49\" class=\"node\">\n<title>48</title>\n<ellipse fill=\"none\" stroke=\"#000000\" cx=\"5258.6874\" cy=\"-122\" rx=\"141.8751\" ry=\"18\"/>\n<text text-anchor=\"middle\" x=\"5258.6874\" y=\"-118.3\" font-family=\"Times,serif\" font-size=\"14.00\" fill=\"#000000\">Outstanding_Debt, value&gt;38.6503</text>\n</g>\n<!-- 23&#45;&gt;48 -->\n<g id=\"edge48\" class=\"edge\">\n<title>23&#45;&gt;48</title>\n<path fill=\"none\" stroke=\"#000000\" d=\"M5258.6874,-190.9735C5258.6874,-179.1918 5258.6874,-163.5607 5258.6874,-150.1581\"/>\n<polygon fill=\"#000000\" stroke=\"#000000\" points=\"5262.1875,-150.0033 5258.6874,-140.0034 5255.1875,-150.0034 5262.1875,-150.0033\"/>\n<text text-anchor=\"middle\" x=\"5269.1874\" y=\"-161.8\" font-family=\"Times,serif\" font-size=\"14.00\" fill=\"#000000\">Yes</text>\n</g>\n<!-- 49 -->\n<g id=\"node50\" class=\"node\">\n<title>49</title>\n<ellipse fill=\"none\" stroke=\"#000000\" cx=\"5559.6874\" cy=\"-122\" rx=\"141.8751\" ry=\"18\"/>\n<text text-anchor=\"middle\" x=\"5559.6874\" y=\"-118.3\" font-family=\"Times,serif\" font-size=\"14.00\" fill=\"#000000\">Outstanding_Debt, value&gt;38.6503</text>\n</g>\n<!-- 24&#45;&gt;49 -->\n<g id=\"edge49\" class=\"edge\">\n<title>24&#45;&gt;49</title>\n<path fill=\"none\" stroke=\"#000000\" d=\"M5680.8547,-191.8116C5657.405,-178.3008 5624.5406,-159.3658 5598.954,-144.6238\"/>\n<polygon fill=\"#000000\" stroke=\"#000000\" points=\"5600.6466,-141.5597 5590.2346,-139.6 5597.152,-147.625 5600.6466,-141.5597\"/>\n<text text-anchor=\"middle\" x=\"5654.1874\" y=\"-161.8\" font-family=\"Times,serif\" font-size=\"14.00\" fill=\"#000000\">No</text>\n</g>\n<!-- 50 -->\n<g id=\"node51\" class=\"node\">\n<title>50</title>\n<ellipse fill=\"none\" stroke=\"#000000\" cx=\"5860.6874\" cy=\"-122\" rx=\"141.8751\" ry=\"18\"/>\n<text text-anchor=\"middle\" x=\"5860.6874\" y=\"-118.3\" font-family=\"Times,serif\" font-size=\"14.00\" fill=\"#000000\">Outstanding_Debt, value&gt;38.6503</text>\n</g>\n<!-- 24&#45;&gt;50 -->\n<g id=\"edge50\" class=\"edge\">\n<title>24&#45;&gt;50</title>\n<path fill=\"none\" stroke=\"#000000\" d=\"M5740.3226,-191.8116C5763.617,-178.3008 5796.2637,-159.3658 5821.6809,-144.6238\"/>\n<polygon fill=\"#000000\" stroke=\"#000000\" points=\"5823.4483,-147.6449 5830.3426,-139.6 5819.9362,-141.5896 5823.4483,-147.6449\"/>\n<text text-anchor=\"middle\" x=\"5805.1874\" y=\"-161.8\" font-family=\"Times,serif\" font-size=\"14.00\" fill=\"#000000\">Yes</text>\n</g>\n<!-- 51 -->\n<g id=\"node52\" class=\"node\">\n<title>51</title>\n<ellipse fill=\"none\" stroke=\"#000000\" cx=\"6161.6874\" cy=\"-122\" rx=\"141.8751\" ry=\"18\"/>\n<text text-anchor=\"middle\" x=\"6161.6874\" y=\"-118.3\" font-family=\"Times,serif\" font-size=\"14.00\" fill=\"#000000\">Outstanding_Debt, value&gt;38.6503</text>\n</g>\n<!-- 25&#45;&gt;51 -->\n<g id=\"edge51\" class=\"edge\">\n<title>25&#45;&gt;51</title>\n<path fill=\"none\" stroke=\"#000000\" d=\"M6229.8682,-190.9735C6217.4147,-178.3752 6200.6103,-161.3755 6186.8009,-147.4055\"/>\n<polygon fill=\"#000000\" stroke=\"#000000\" points=\"6189.0031,-144.6547 6179.4839,-140.0034 6184.0248,-149.5757 6189.0031,-144.6547\"/>\n<text text-anchor=\"middle\" x=\"6220.1874\" y=\"-161.8\" font-family=\"Times,serif\" font-size=\"14.00\" fill=\"#000000\">No</text>\n</g>\n<!-- 52 -->\n<g id=\"node53\" class=\"node\">\n<title>52</title>\n<ellipse fill=\"none\" stroke=\"#000000\" cx=\"6462.6874\" cy=\"-122\" rx=\"141.8751\" ry=\"18\"/>\n<text text-anchor=\"middle\" x=\"6462.6874\" y=\"-118.3\" font-family=\"Times,serif\" font-size=\"14.00\" fill=\"#000000\">Outstanding_Debt, value&gt;38.6503</text>\n</g>\n<!-- 25&#45;&gt;52 -->\n<g id=\"edge52\" class=\"edge\">\n<title>25&#45;&gt;52</title>\n<path fill=\"none\" stroke=\"#000000\" d=\"M6288.1273,-192.636C6322.89,-178.5692 6373.2302,-158.199 6410.9278,-142.9446\"/>\n<polygon fill=\"#000000\" stroke=\"#000000\" points=\"6412.2654,-146.1791 6420.2224,-139.1835 6409.6397,-139.6902 6412.2654,-146.1791\"/>\n<text text-anchor=\"middle\" x=\"6379.1874\" y=\"-161.8\" font-family=\"Times,serif\" font-size=\"14.00\" fill=\"#000000\">Yes</text>\n</g>\n<!-- 53 -->\n<g id=\"node54\" class=\"node\">\n<title>53</title>\n<ellipse fill=\"none\" stroke=\"#000000\" cx=\"6763.6874\" cy=\"-122\" rx=\"141.8751\" ry=\"18\"/>\n<text text-anchor=\"middle\" x=\"6763.6874\" y=\"-118.3\" font-family=\"Times,serif\" font-size=\"14.00\" fill=\"#000000\">Outstanding_Debt, value&gt;38.6503</text>\n</g>\n<!-- 26&#45;&gt;53 -->\n<g id=\"edge53\" class=\"edge\">\n<title>26&#45;&gt;53</title>\n<path fill=\"none\" stroke=\"#000000\" d=\"M6763.6874,-190.9735C6763.6874,-179.1918 6763.6874,-163.5607 6763.6874,-150.1581\"/>\n<polygon fill=\"#000000\" stroke=\"#000000\" points=\"6767.1875,-150.0033 6763.6874,-140.0034 6760.1875,-150.0034 6767.1875,-150.0033\"/>\n<text text-anchor=\"middle\" x=\"6773.1874\" y=\"-161.8\" font-family=\"Times,serif\" font-size=\"14.00\" fill=\"#000000\">No</text>\n</g>\n<!-- 54 -->\n<g id=\"node55\" class=\"node\">\n<title>54</title>\n<ellipse fill=\"none\" stroke=\"#000000\" cx=\"7064.6874\" cy=\"-122\" rx=\"141.8751\" ry=\"18\"/>\n<text text-anchor=\"middle\" x=\"7064.6874\" y=\"-118.3\" font-family=\"Times,serif\" font-size=\"14.00\" fill=\"#000000\">Outstanding_Debt, value&gt;38.6503</text>\n</g>\n<!-- 26&#45;&gt;54 -->\n<g id=\"edge54\" class=\"edge\">\n<title>26&#45;&gt;54</title>\n<path fill=\"none\" stroke=\"#000000\" d=\"M6816.1176,-193.8458C6866.5666,-179.2642 6943.0558,-157.156 6997.854,-141.3173\"/>\n<polygon fill=\"#000000\" stroke=\"#000000\" points=\"6998.8447,-144.6743 7007.4796,-138.5352 6996.9009,-137.9496 6998.8447,-144.6743\"/>\n<text text-anchor=\"middle\" x=\"6943.1874\" y=\"-161.8\" font-family=\"Times,serif\" font-size=\"14.00\" fill=\"#000000\">Yes</text>\n</g>\n<!-- 55 -->\n<g id=\"node56\" class=\"node\">\n<title>55</title>\n<ellipse fill=\"none\" stroke=\"#000000\" cx=\"7365.6874\" cy=\"-122\" rx=\"141.8751\" ry=\"18\"/>\n<text text-anchor=\"middle\" x=\"7365.6874\" y=\"-118.3\" font-family=\"Times,serif\" font-size=\"14.00\" fill=\"#000000\">Outstanding_Debt, value&gt;38.6503</text>\n</g>\n<!-- 27&#45;&gt;55 -->\n<g id=\"edge55\" class=\"edge\">\n<title>27&#45;&gt;55</title>\n<path fill=\"none\" stroke=\"#000000\" d=\"M7614.2572,-193.8458C7563.8083,-179.2642 7487.3191,-157.156 7432.5208,-141.3173\"/>\n<polygon fill=\"#000000\" stroke=\"#000000\" points=\"7433.4739,-137.9496 7422.8953,-138.5352 7431.5302,-144.6743 7433.4739,-137.9496\"/>\n<text text-anchor=\"middle\" x=\"7544.1874\" y=\"-161.8\" font-family=\"Times,serif\" font-size=\"14.00\" fill=\"#000000\">No</text>\n</g>\n<!-- 56 -->\n<g id=\"node57\" class=\"node\">\n<title>56</title>\n<ellipse fill=\"none\" stroke=\"#000000\" cx=\"7666.6874\" cy=\"-122\" rx=\"141.8751\" ry=\"18\"/>\n<text text-anchor=\"middle\" x=\"7666.6874\" y=\"-118.3\" font-family=\"Times,serif\" font-size=\"14.00\" fill=\"#000000\">Outstanding_Debt, value&gt;38.6503</text>\n</g>\n<!-- 27&#45;&gt;56 -->\n<g id=\"edge56\" class=\"edge\">\n<title>27&#45;&gt;56</title>\n<path fill=\"none\" stroke=\"#000000\" d=\"M7666.6874,-190.9735C7666.6874,-179.1918 7666.6874,-163.5607 7666.6874,-150.1581\"/>\n<polygon fill=\"#000000\" stroke=\"#000000\" points=\"7670.1875,-150.0033 7666.6874,-140.0034 7663.1875,-150.0034 7670.1875,-150.0033\"/>\n<text text-anchor=\"middle\" x=\"7677.1874\" y=\"-161.8\" font-family=\"Times,serif\" font-size=\"14.00\" fill=\"#000000\">Yes</text>\n</g>\n<!-- 57 -->\n<g id=\"node58\" class=\"node\">\n<title>57</title>\n<ellipse fill=\"none\" stroke=\"#000000\" cx=\"7967.6874\" cy=\"-122\" rx=\"141.8751\" ry=\"18\"/>\n<text text-anchor=\"middle\" x=\"7967.6874\" y=\"-118.3\" font-family=\"Times,serif\" font-size=\"14.00\" fill=\"#000000\">Outstanding_Debt, value&gt;38.6503</text>\n</g>\n<!-- 28&#45;&gt;57 -->\n<g id=\"edge57\" class=\"edge\">\n<title>28&#45;&gt;57</title>\n<path fill=\"none\" stroke=\"#000000\" d=\"M7967.6874,-190.9735C7967.6874,-179.1918 7967.6874,-163.5607 7967.6874,-150.1581\"/>\n<polygon fill=\"#000000\" stroke=\"#000000\" points=\"7971.1875,-150.0033 7967.6874,-140.0034 7964.1875,-150.0034 7971.1875,-150.0033\"/>\n<text text-anchor=\"middle\" x=\"7977.1874\" y=\"-161.8\" font-family=\"Times,serif\" font-size=\"14.00\" fill=\"#000000\">No</text>\n</g>\n<!-- 58 -->\n<g id=\"node59\" class=\"node\">\n<title>58</title>\n<ellipse fill=\"none\" stroke=\"#000000\" cx=\"8268.6874\" cy=\"-122\" rx=\"141.8751\" ry=\"18\"/>\n<text text-anchor=\"middle\" x=\"8268.6874\" y=\"-118.3\" font-family=\"Times,serif\" font-size=\"14.00\" fill=\"#000000\">Outstanding_Debt, value&gt;38.6503</text>\n</g>\n<!-- 28&#45;&gt;58 -->\n<g id=\"edge58\" class=\"edge\">\n<title>28&#45;&gt;58</title>\n<path fill=\"none\" stroke=\"#000000\" d=\"M8020.1176,-193.8458C8070.5666,-179.2642 8147.0558,-157.156 8201.854,-141.3173\"/>\n<polygon fill=\"#000000\" stroke=\"#000000\" points=\"8202.8447,-144.6743 8211.4796,-138.5352 8200.9009,-137.9496 8202.8447,-144.6743\"/>\n<text text-anchor=\"middle\" x=\"8147.1874\" y=\"-161.8\" font-family=\"Times,serif\" font-size=\"14.00\" fill=\"#000000\">Yes</text>\n</g>\n<!-- 59 -->\n<g id=\"node60\" class=\"node\">\n<title>59</title>\n<ellipse fill=\"none\" stroke=\"#000000\" cx=\"8569.6874\" cy=\"-122\" rx=\"141.8751\" ry=\"18\"/>\n<text text-anchor=\"middle\" x=\"8569.6874\" y=\"-118.3\" font-family=\"Times,serif\" font-size=\"14.00\" fill=\"#000000\">Outstanding_Debt, value&gt;38.6503</text>\n</g>\n<!-- 29&#45;&gt;59 -->\n<g id=\"edge59\" class=\"edge\">\n<title>29&#45;&gt;59</title>\n<path fill=\"none\" stroke=\"#000000\" d=\"M8637.8682,-190.9735C8625.4147,-178.3752 8608.6103,-161.3755 8594.8009,-147.4055\"/>\n<polygon fill=\"#000000\" stroke=\"#000000\" points=\"8597.0031,-144.6547 8587.4839,-140.0034 8592.0248,-149.5757 8597.0031,-144.6547\"/>\n<text text-anchor=\"middle\" x=\"8628.1874\" y=\"-161.8\" font-family=\"Times,serif\" font-size=\"14.00\" fill=\"#000000\">No</text>\n</g>\n<!-- 60 -->\n<g id=\"node61\" class=\"node\">\n<title>60</title>\n<ellipse fill=\"none\" stroke=\"#000000\" cx=\"8870.6874\" cy=\"-122\" rx=\"141.8751\" ry=\"18\"/>\n<text text-anchor=\"middle\" x=\"8870.6874\" y=\"-118.3\" font-family=\"Times,serif\" font-size=\"14.00\" fill=\"#000000\">Outstanding_Debt, value&gt;38.6503</text>\n</g>\n<!-- 29&#45;&gt;60 -->\n<g id=\"edge60\" class=\"edge\">\n<title>29&#45;&gt;60</title>\n<path fill=\"none\" stroke=\"#000000\" d=\"M8696.1273,-192.636C8730.89,-178.5692 8781.2302,-158.199 8818.9278,-142.9446\"/>\n<polygon fill=\"#000000\" stroke=\"#000000\" points=\"8820.2654,-146.1791 8828.2224,-139.1835 8817.6397,-139.6902 8820.2654,-146.1791\"/>\n<text text-anchor=\"middle\" x=\"8787.1874\" y=\"-161.8\" font-family=\"Times,serif\" font-size=\"14.00\" fill=\"#000000\">Yes</text>\n</g>\n<!-- 61 -->\n<g id=\"node62\" class=\"node\">\n<title>61</title>\n<ellipse fill=\"none\" stroke=\"#000000\" cx=\"9171.6874\" cy=\"-122\" rx=\"141.8751\" ry=\"18\"/>\n<text text-anchor=\"middle\" x=\"9171.6874\" y=\"-118.3\" font-family=\"Times,serif\" font-size=\"14.00\" fill=\"#000000\">Outstanding_Debt, value&gt;38.6503</text>\n</g>\n<!-- 30&#45;&gt;61 -->\n<g id=\"edge61\" class=\"edge\">\n<title>30&#45;&gt;61</title>\n<path fill=\"none\" stroke=\"#000000\" d=\"M9171.6874,-190.9735C9171.6874,-179.1918 9171.6874,-163.5607 9171.6874,-150.1581\"/>\n<polygon fill=\"#000000\" stroke=\"#000000\" points=\"9175.1875,-150.0033 9171.6874,-140.0034 9168.1875,-150.0034 9175.1875,-150.0033\"/>\n<text text-anchor=\"middle\" x=\"9181.1874\" y=\"-161.8\" font-family=\"Times,serif\" font-size=\"14.00\" fill=\"#000000\">No</text>\n</g>\n<!-- 62 -->\n<g id=\"node63\" class=\"node\">\n<title>62</title>\n<ellipse fill=\"none\" stroke=\"#000000\" cx=\"9472.6874\" cy=\"-122\" rx=\"141.8751\" ry=\"18\"/>\n<text text-anchor=\"middle\" x=\"9472.6874\" y=\"-118.3\" font-family=\"Times,serif\" font-size=\"14.00\" fill=\"#000000\">Outstanding_Debt, value&gt;38.6503</text>\n</g>\n<!-- 30&#45;&gt;62 -->\n<g id=\"edge62\" class=\"edge\">\n<title>30&#45;&gt;62</title>\n<path fill=\"none\" stroke=\"#000000\" d=\"M9224.1176,-193.8458C9274.5666,-179.2642 9351.0558,-157.156 9405.854,-141.3173\"/>\n<polygon fill=\"#000000\" stroke=\"#000000\" points=\"9406.8447,-144.6743 9415.4796,-138.5352 9404.9009,-137.9496 9406.8447,-144.6743\"/>\n<text text-anchor=\"middle\" x=\"9351.1874\" y=\"-161.8\" font-family=\"Times,serif\" font-size=\"14.00\" fill=\"#000000\">Yes</text>\n</g>\n<!-- 63 -->\n<g id=\"node64\" class=\"node\">\n<title>63</title>\n<polygon fill=\"none\" stroke=\"#ff0000\" points=\"158.6874,-53 70.6874,-53 70.6874,0 158.6874,0 158.6874,-53\"/>\n<text text-anchor=\"middle\" x=\"114.6874\" y=\"-37.8\" font-family=\"Times,serif\" font-size=\"14.00\" fill=\"#000000\">val = 0.231</text>\n<text text-anchor=\"middle\" x=\"114.6874\" y=\"-22.8\" font-family=\"Times,serif\" font-size=\"14.00\" fill=\"#000000\">val = &#45;0.000</text>\n<text text-anchor=\"middle\" x=\"114.6874\" y=\"-7.8\" font-family=\"Times,serif\" font-size=\"14.00\" fill=\"#000000\">val = 0.000</text>\n</g>\n<!-- 31&#45;&gt;63 -->\n<g id=\"edge63\" class=\"edge\">\n<title>31&#45;&gt;63</title>\n<path fill=\"none\" stroke=\"#000000\" d=\"M136.4816,-103.5866C133.2262,-92.0722 128.9202,-76.8419 124.9959,-62.9616\"/>\n<polygon fill=\"#000000\" stroke=\"#000000\" points=\"128.315,-61.8361 122.2264,-53.1655 121.5791,-63.7406 128.315,-61.8361\"/>\n<text text-anchor=\"middle\" x=\"141.1874\" y=\"-74.8\" font-family=\"Times,serif\" font-size=\"14.00\" fill=\"#000000\">No</text>\n</g>\n<!-- 64 -->\n<g id=\"node65\" class=\"node\">\n<title>64</title>\n<polygon fill=\"none\" stroke=\"#ff0000\" points=\"260.1874,-53 177.1874,-53 177.1874,0 260.1874,0 260.1874,-53\"/>\n<text text-anchor=\"middle\" x=\"218.6874\" y=\"-37.8\" font-family=\"Times,serif\" font-size=\"14.00\" fill=\"#000000\">val = 0.259</text>\n<text text-anchor=\"middle\" x=\"218.6874\" y=\"-22.8\" font-family=\"Times,serif\" font-size=\"14.00\" fill=\"#000000\">val = 0.044</text>\n<text text-anchor=\"middle\" x=\"218.6874\" y=\"-7.8\" font-family=\"Times,serif\" font-size=\"14.00\" fill=\"#000000\">val = 0.000</text>\n</g>\n<!-- 31&#45;&gt;64 -->\n<g id=\"edge64\" class=\"edge\">\n<title>31&#45;&gt;64</title>\n<path fill=\"none\" stroke=\"#000000\" d=\"M156.1705,-104.0372C165.948,-91.9105 179.1664,-75.5163 190.9303,-60.9261\"/>\n<polygon fill=\"#000000\" stroke=\"#000000\" points=\"193.7329,-63.0262 197.285,-53.0446 188.2835,-58.6325 193.7329,-63.0262\"/>\n<text text-anchor=\"middle\" x=\"193.1874\" y=\"-74.8\" font-family=\"Times,serif\" font-size=\"14.00\" fill=\"#000000\">Yes</text>\n</g>\n<!-- 65 -->\n<g id=\"node66\" class=\"node\">\n<title>65</title>\n<polygon fill=\"none\" stroke=\"#ff0000\" points=\"410.1874,-53 327.1874,-53 327.1874,0 410.1874,0 410.1874,-53\"/>\n<text text-anchor=\"middle\" x=\"368.6874\" y=\"-37.8\" font-family=\"Times,serif\" font-size=\"14.00\" fill=\"#000000\">val = 0.000</text>\n<text text-anchor=\"middle\" x=\"368.6874\" y=\"-22.8\" font-family=\"Times,serif\" font-size=\"14.00\" fill=\"#000000\">val = 0.000</text>\n<text text-anchor=\"middle\" x=\"368.6874\" y=\"-7.8\" font-family=\"Times,serif\" font-size=\"14.00\" fill=\"#000000\">val = 0.000</text>\n</g>\n<!-- 32&#45;&gt;65 -->\n<g id=\"edge65\" class=\"edge\">\n<title>32&#45;&gt;65</title>\n<path fill=\"none\" stroke=\"#000000\" d=\"M428.7686,-104.0372C419.459,-92.0228 406.9036,-75.8195 395.6775,-61.3318\"/>\n<polygon fill=\"#000000\" stroke=\"#000000\" points=\"398.1478,-58.8055 389.256,-53.0446 392.6145,-63.093 398.1478,-58.8055\"/>\n<text text-anchor=\"middle\" x=\"424.1874\" y=\"-74.8\" font-family=\"Times,serif\" font-size=\"14.00\" fill=\"#000000\">No</text>\n</g>\n<!-- 66 -->\n<g id=\"node67\" class=\"node\">\n<title>66</title>\n<polygon fill=\"none\" stroke=\"#ff0000\" points=\"511.1874,-53 428.1874,-53 428.1874,0 511.1874,0 511.1874,-53\"/>\n<text text-anchor=\"middle\" x=\"469.6874\" y=\"-37.8\" font-family=\"Times,serif\" font-size=\"14.00\" fill=\"#000000\">val = 0.000</text>\n<text text-anchor=\"middle\" x=\"469.6874\" y=\"-22.8\" font-family=\"Times,serif\" font-size=\"14.00\" fill=\"#000000\">val = 0.000</text>\n<text text-anchor=\"middle\" x=\"469.6874\" y=\"-7.8\" font-family=\"Times,serif\" font-size=\"14.00\" fill=\"#000000\">val = 0.000</text>\n</g>\n<!-- 32&#45;&gt;66 -->\n<g id=\"edge66\" class=\"edge\">\n<title>32&#45;&gt;66</title>\n<path fill=\"none\" stroke=\"#000000\" d=\"M447.8933,-103.5866C451.1487,-92.0722 455.4546,-76.8419 459.3789,-62.9616\"/>\n<polygon fill=\"#000000\" stroke=\"#000000\" points=\"462.7958,-63.7406 462.1485,-53.1655 456.0598,-61.8361 462.7958,-63.7406\"/>\n<text text-anchor=\"middle\" x=\"468.1874\" y=\"-74.8\" font-family=\"Times,serif\" font-size=\"14.00\" fill=\"#000000\">Yes</text>\n</g>\n<!-- 67 -->\n<g id=\"node68\" class=\"node\">\n<title>67</title>\n<polygon fill=\"none\" stroke=\"#ff0000\" points=\"733.1874,-53 650.1874,-53 650.1874,0 733.1874,0 733.1874,-53\"/>\n<text text-anchor=\"middle\" x=\"691.6874\" y=\"-37.8\" font-family=\"Times,serif\" font-size=\"14.00\" fill=\"#000000\">val = 0.154</text>\n<text text-anchor=\"middle\" x=\"691.6874\" y=\"-22.8\" font-family=\"Times,serif\" font-size=\"14.00\" fill=\"#000000\">val = 0.051</text>\n<text text-anchor=\"middle\" x=\"691.6874\" y=\"-7.8\" font-family=\"Times,serif\" font-size=\"14.00\" fill=\"#000000\">val = 0.000</text>\n</g>\n<!-- 33&#45;&gt;67 -->\n<g id=\"edge67\" class=\"edge\">\n<title>33&#45;&gt;67</title>\n<path fill=\"none\" stroke=\"#000000\" d=\"M733.9066,-104.0372C727.4871,-92.2474 718.8711,-76.4238 711.0968,-62.146\"/>\n<polygon fill=\"#000000\" stroke=\"#000000\" points=\"713.997,-60.1533 706.141,-53.0446 707.8493,-63.5008 713.997,-60.1533\"/>\n<text text-anchor=\"middle\" x=\"734.1874\" y=\"-74.8\" font-family=\"Times,serif\" font-size=\"14.00\" fill=\"#000000\">No</text>\n</g>\n<!-- 68 -->\n<g id=\"node69\" class=\"node\">\n<title>68</title>\n<polygon fill=\"none\" stroke=\"#ff0000\" points=\"834.1874,-53 751.1874,-53 751.1874,0 834.1874,0 834.1874,-53\"/>\n<text text-anchor=\"middle\" x=\"792.6874\" y=\"-37.8\" font-family=\"Times,serif\" font-size=\"14.00\" fill=\"#000000\">val = 0.249</text>\n<text text-anchor=\"middle\" x=\"792.6874\" y=\"-22.8\" font-family=\"Times,serif\" font-size=\"14.00\" fill=\"#000000\">val = 0.082</text>\n<text text-anchor=\"middle\" x=\"792.6874\" y=\"-7.8\" font-family=\"Times,serif\" font-size=\"14.00\" fill=\"#000000\">val = 0.000</text>\n</g>\n<!-- 33&#45;&gt;68 -->\n<g id=\"edge68\" class=\"edge\">\n<title>33&#45;&gt;68</title>\n<path fill=\"none\" stroke=\"#000000\" d=\"M752.904,-104.0372C758.9532,-92.2474 767.0721,-76.4238 774.3979,-62.146\"/>\n<polygon fill=\"#000000\" stroke=\"#000000\" points=\"777.6166,-63.5396 779.0677,-53.0446 771.3886,-60.344 777.6166,-63.5396\"/>\n<text text-anchor=\"middle\" x=\"780.1874\" y=\"-74.8\" font-family=\"Times,serif\" font-size=\"14.00\" fill=\"#000000\">Yes</text>\n</g>\n<!-- 69 -->\n<g id=\"node70\" class=\"node\">\n<title>69</title>\n<polygon fill=\"none\" stroke=\"#ff0000\" points=\"1034.1874,-53 951.1874,-53 951.1874,0 1034.1874,0 1034.1874,-53\"/>\n<text text-anchor=\"middle\" x=\"992.6874\" y=\"-37.8\" font-family=\"Times,serif\" font-size=\"14.00\" fill=\"#000000\">val = 0.000</text>\n<text text-anchor=\"middle\" x=\"992.6874\" y=\"-22.8\" font-family=\"Times,serif\" font-size=\"14.00\" fill=\"#000000\">val = 0.000</text>\n<text text-anchor=\"middle\" x=\"992.6874\" y=\"-7.8\" font-family=\"Times,serif\" font-size=\"14.00\" fill=\"#000000\">val = 0.000</text>\n</g>\n<!-- 34&#45;&gt;69 -->\n<g id=\"edge69\" class=\"edge\">\n<title>34&#45;&gt;69</title>\n<path fill=\"none\" stroke=\"#000000\" d=\"M1034.9066,-104.0372C1028.4871,-92.2474 1019.8711,-76.4238 1012.0968,-62.146\"/>\n<polygon fill=\"#000000\" stroke=\"#000000\" points=\"1014.997,-60.1533 1007.141,-53.0446 1008.8493,-63.5008 1014.997,-60.1533\"/>\n<text text-anchor=\"middle\" x=\"1035.1874\" y=\"-74.8\" font-family=\"Times,serif\" font-size=\"14.00\" fill=\"#000000\">No</text>\n</g>\n<!-- 70 -->\n<g id=\"node71\" class=\"node\">\n<title>70</title>\n<polygon fill=\"none\" stroke=\"#ff0000\" points=\"1135.1874,-53 1052.1874,-53 1052.1874,0 1135.1874,0 1135.1874,-53\"/>\n<text text-anchor=\"middle\" x=\"1093.6874\" y=\"-37.8\" font-family=\"Times,serif\" font-size=\"14.00\" fill=\"#000000\">val = 0.000</text>\n<text text-anchor=\"middle\" x=\"1093.6874\" y=\"-22.8\" font-family=\"Times,serif\" font-size=\"14.00\" fill=\"#000000\">val = 0.000</text>\n<text text-anchor=\"middle\" x=\"1093.6874\" y=\"-7.8\" font-family=\"Times,serif\" font-size=\"14.00\" fill=\"#000000\">val = 0.000</text>\n</g>\n<!-- 34&#45;&gt;70 -->\n<g id=\"edge70\" class=\"edge\">\n<title>34&#45;&gt;70</title>\n<path fill=\"none\" stroke=\"#000000\" d=\"M1053.904,-104.0372C1059.9532,-92.2474 1068.0721,-76.4238 1075.3979,-62.146\"/>\n<polygon fill=\"#000000\" stroke=\"#000000\" points=\"1078.6166,-63.5396 1080.0677,-53.0446 1072.3886,-60.344 1078.6166,-63.5396\"/>\n<text text-anchor=\"middle\" x=\"1081.1874\" y=\"-74.8\" font-family=\"Times,serif\" font-size=\"14.00\" fill=\"#000000\">Yes</text>\n</g>\n<!-- 71 -->\n<g id=\"node72\" class=\"node\">\n<title>71</title>\n<polygon fill=\"none\" stroke=\"#ff0000\" points=\"1335.1874,-53 1252.1874,-53 1252.1874,0 1335.1874,0 1335.1874,-53\"/>\n<text text-anchor=\"middle\" x=\"1293.6874\" y=\"-37.8\" font-family=\"Times,serif\" font-size=\"14.00\" fill=\"#000000\">val = 0.000</text>\n<text text-anchor=\"middle\" x=\"1293.6874\" y=\"-22.8\" font-family=\"Times,serif\" font-size=\"14.00\" fill=\"#000000\">val = 0.000</text>\n<text text-anchor=\"middle\" x=\"1293.6874\" y=\"-7.8\" font-family=\"Times,serif\" font-size=\"14.00\" fill=\"#000000\">val = 0.000</text>\n</g>\n<!-- 35&#45;&gt;71 -->\n<g id=\"edge71\" class=\"edge\">\n<title>35&#45;&gt;71</title>\n<path fill=\"none\" stroke=\"#000000\" d=\"M1335.9066,-104.0372C1329.4871,-92.2474 1320.8711,-76.4238 1313.0968,-62.146\"/>\n<polygon fill=\"#000000\" stroke=\"#000000\" points=\"1315.997,-60.1533 1308.141,-53.0446 1309.8493,-63.5008 1315.997,-60.1533\"/>\n<text text-anchor=\"middle\" x=\"1336.1874\" y=\"-74.8\" font-family=\"Times,serif\" font-size=\"14.00\" fill=\"#000000\">No</text>\n</g>\n<!-- 72 -->\n<g id=\"node73\" class=\"node\">\n<title>72</title>\n<polygon fill=\"none\" stroke=\"#ff0000\" points=\"1436.1874,-53 1353.1874,-53 1353.1874,0 1436.1874,0 1436.1874,-53\"/>\n<text text-anchor=\"middle\" x=\"1394.6874\" y=\"-37.8\" font-family=\"Times,serif\" font-size=\"14.00\" fill=\"#000000\">val = 0.162</text>\n<text text-anchor=\"middle\" x=\"1394.6874\" y=\"-22.8\" font-family=\"Times,serif\" font-size=\"14.00\" fill=\"#000000\">val = 0.099</text>\n<text text-anchor=\"middle\" x=\"1394.6874\" y=\"-7.8\" font-family=\"Times,serif\" font-size=\"14.00\" fill=\"#000000\">val = 0.000</text>\n</g>\n<!-- 35&#45;&gt;72 -->\n<g id=\"edge72\" class=\"edge\">\n<title>35&#45;&gt;72</title>\n<path fill=\"none\" stroke=\"#000000\" d=\"M1354.904,-104.0372C1360.9532,-92.2474 1369.0721,-76.4238 1376.3979,-62.146\"/>\n<polygon fill=\"#000000\" stroke=\"#000000\" points=\"1379.6166,-63.5396 1381.0677,-53.0446 1373.3886,-60.344 1379.6166,-63.5396\"/>\n<text text-anchor=\"middle\" x=\"1382.1874\" y=\"-74.8\" font-family=\"Times,serif\" font-size=\"14.00\" fill=\"#000000\">Yes</text>\n</g>\n<!-- 73 -->\n<g id=\"node74\" class=\"node\">\n<title>73</title>\n<polygon fill=\"none\" stroke=\"#ff0000\" points=\"1637.1874,-53 1554.1874,-53 1554.1874,0 1637.1874,0 1637.1874,-53\"/>\n<text text-anchor=\"middle\" x=\"1595.6874\" y=\"-37.8\" font-family=\"Times,serif\" font-size=\"14.00\" fill=\"#000000\">val = 0.000</text>\n<text text-anchor=\"middle\" x=\"1595.6874\" y=\"-22.8\" font-family=\"Times,serif\" font-size=\"14.00\" fill=\"#000000\">val = 0.000</text>\n<text text-anchor=\"middle\" x=\"1595.6874\" y=\"-7.8\" font-family=\"Times,serif\" font-size=\"14.00\" fill=\"#000000\">val = 0.000</text>\n</g>\n<!-- 36&#45;&gt;73 -->\n<g id=\"edge73\" class=\"edge\">\n<title>36&#45;&gt;73</title>\n<path fill=\"none\" stroke=\"#000000\" d=\"M1637.0947,-104.0372C1630.7986,-92.2474 1622.3483,-76.4238 1614.7235,-62.146\"/>\n<polygon fill=\"#000000\" stroke=\"#000000\" points=\"1617.6611,-60.2168 1609.8631,-53.0446 1611.4865,-63.5143 1617.6611,-60.2168\"/>\n<text text-anchor=\"middle\" x=\"1637.1874\" y=\"-74.8\" font-family=\"Times,serif\" font-size=\"14.00\" fill=\"#000000\">No</text>\n</g>\n<!-- 74 -->\n<g id=\"node75\" class=\"node\">\n<title>74</title>\n<polygon fill=\"none\" stroke=\"#ff0000\" points=\"1738.1874,-53 1655.1874,-53 1655.1874,0 1738.1874,0 1738.1874,-53\"/>\n<text text-anchor=\"middle\" x=\"1696.6874\" y=\"-37.8\" font-family=\"Times,serif\" font-size=\"14.00\" fill=\"#000000\">val = 0.000</text>\n<text text-anchor=\"middle\" x=\"1696.6874\" y=\"-22.8\" font-family=\"Times,serif\" font-size=\"14.00\" fill=\"#000000\">val = 0.000</text>\n<text text-anchor=\"middle\" x=\"1696.6874\" y=\"-7.8\" font-family=\"Times,serif\" font-size=\"14.00\" fill=\"#000000\">val = 0.000</text>\n</g>\n<!-- 36&#45;&gt;74 -->\n<g id=\"edge74\" class=\"edge\">\n<title>36&#45;&gt;74</title>\n<path fill=\"none\" stroke=\"#000000\" d=\"M1656.092,-104.0372C1662.2647,-92.2474 1670.5493,-76.4238 1678.0246,-62.146\"/>\n<polygon fill=\"#000000\" stroke=\"#000000\" points=\"1681.2521,-63.5273 1682.7897,-53.0446 1675.0506,-60.2804 1681.2521,-63.5273\"/>\n<text text-anchor=\"middle\" x=\"1684.1874\" y=\"-74.8\" font-family=\"Times,serif\" font-size=\"14.00\" fill=\"#000000\">Yes</text>\n</g>\n<!-- 75 -->\n<g id=\"node76\" class=\"node\">\n<title>75</title>\n<polygon fill=\"none\" stroke=\"#ff0000\" points=\"1939.1874,-53 1856.1874,-53 1856.1874,0 1939.1874,0 1939.1874,-53\"/>\n<text text-anchor=\"middle\" x=\"1897.6874\" y=\"-37.8\" font-family=\"Times,serif\" font-size=\"14.00\" fill=\"#000000\">val = 0.000</text>\n<text text-anchor=\"middle\" x=\"1897.6874\" y=\"-22.8\" font-family=\"Times,serif\" font-size=\"14.00\" fill=\"#000000\">val = 0.000</text>\n<text text-anchor=\"middle\" x=\"1897.6874\" y=\"-7.8\" font-family=\"Times,serif\" font-size=\"14.00\" fill=\"#000000\">val = 0.000</text>\n</g>\n<!-- 37&#45;&gt;75 -->\n<g id=\"edge75\" class=\"edge\">\n<title>37&#45;&gt;75</title>\n<path fill=\"none\" stroke=\"#000000\" d=\"M1938.2828,-104.0372C1932.1101,-92.2474 1923.8255,-76.4238 1916.3503,-62.146\"/>\n<polygon fill=\"#000000\" stroke=\"#000000\" points=\"1919.3242,-60.2804 1911.5851,-53.0446 1913.1228,-63.5273 1919.3242,-60.2804\"/>\n<text text-anchor=\"middle\" x=\"1938.1874\" y=\"-74.8\" font-family=\"Times,serif\" font-size=\"14.00\" fill=\"#000000\">No</text>\n</g>\n<!-- 76 -->\n<g id=\"node77\" class=\"node\">\n<title>76</title>\n<polygon fill=\"none\" stroke=\"#ff0000\" points=\"2040.1874,-53 1957.1874,-53 1957.1874,0 2040.1874,0 2040.1874,-53\"/>\n<text text-anchor=\"middle\" x=\"1998.6874\" y=\"-37.8\" font-family=\"Times,serif\" font-size=\"14.00\" fill=\"#000000\">val = 0.141</text>\n<text text-anchor=\"middle\" x=\"1998.6874\" y=\"-22.8\" font-family=\"Times,serif\" font-size=\"14.00\" fill=\"#000000\">val = 0.173</text>\n<text text-anchor=\"middle\" x=\"1998.6874\" y=\"-7.8\" font-family=\"Times,serif\" font-size=\"14.00\" fill=\"#000000\">val = 0.000</text>\n</g>\n<!-- 37&#45;&gt;76 -->\n<g id=\"edge76\" class=\"edge\">\n<title>37&#45;&gt;76</title>\n<path fill=\"none\" stroke=\"#000000\" d=\"M1957.2801,-104.0372C1963.5763,-92.2474 1972.0266,-76.4238 1979.6513,-62.146\"/>\n<polygon fill=\"#000000\" stroke=\"#000000\" points=\"1982.8884,-63.5143 1984.5118,-53.0446 1976.7137,-60.2168 1982.8884,-63.5143\"/>\n<text text-anchor=\"middle\" x=\"1986.1874\" y=\"-74.8\" font-family=\"Times,serif\" font-size=\"14.00\" fill=\"#000000\">Yes</text>\n</g>\n<!-- 77 -->\n<g id=\"node78\" class=\"node\">\n<title>77</title>\n<polygon fill=\"none\" stroke=\"#ff0000\" points=\"2240.1874,-53 2157.1874,-53 2157.1874,0 2240.1874,0 2240.1874,-53\"/>\n<text text-anchor=\"middle\" x=\"2198.6874\" y=\"-37.8\" font-family=\"Times,serif\" font-size=\"14.00\" fill=\"#000000\">val = 0.000</text>\n<text text-anchor=\"middle\" x=\"2198.6874\" y=\"-22.8\" font-family=\"Times,serif\" font-size=\"14.00\" fill=\"#000000\">val = 0.000</text>\n<text text-anchor=\"middle\" x=\"2198.6874\" y=\"-7.8\" font-family=\"Times,serif\" font-size=\"14.00\" fill=\"#000000\">val = 0.000</text>\n</g>\n<!-- 38&#45;&gt;77 -->\n<g id=\"edge77\" class=\"edge\">\n<title>38&#45;&gt;77</title>\n<path fill=\"none\" stroke=\"#000000\" d=\"M2239.2828,-104.0372C2233.1101,-92.2474 2224.8255,-76.4238 2217.3503,-62.146\"/>\n<polygon fill=\"#000000\" stroke=\"#000000\" points=\"2220.3242,-60.2804 2212.5851,-53.0446 2214.1228,-63.5273 2220.3242,-60.2804\"/>\n<text text-anchor=\"middle\" x=\"2239.1874\" y=\"-74.8\" font-family=\"Times,serif\" font-size=\"14.00\" fill=\"#000000\">No</text>\n</g>\n<!-- 78 -->\n<g id=\"node79\" class=\"node\">\n<title>78</title>\n<polygon fill=\"none\" stroke=\"#ff0000\" points=\"2341.1874,-53 2258.1874,-53 2258.1874,0 2341.1874,0 2341.1874,-53\"/>\n<text text-anchor=\"middle\" x=\"2299.6874\" y=\"-37.8\" font-family=\"Times,serif\" font-size=\"14.00\" fill=\"#000000\">val = 0.000</text>\n<text text-anchor=\"middle\" x=\"2299.6874\" y=\"-22.8\" font-family=\"Times,serif\" font-size=\"14.00\" fill=\"#000000\">val = 0.000</text>\n<text text-anchor=\"middle\" x=\"2299.6874\" y=\"-7.8\" font-family=\"Times,serif\" font-size=\"14.00\" fill=\"#000000\">val = 0.000</text>\n</g>\n<!-- 38&#45;&gt;78 -->\n<g id=\"edge78\" class=\"edge\">\n<title>38&#45;&gt;78</title>\n<path fill=\"none\" stroke=\"#000000\" d=\"M2258.2801,-104.0372C2264.5763,-92.2474 2273.0266,-76.4238 2280.6513,-62.146\"/>\n<polygon fill=\"#000000\" stroke=\"#000000\" points=\"2283.8884,-63.5143 2285.5118,-53.0446 2277.7137,-60.2168 2283.8884,-63.5143\"/>\n<text text-anchor=\"middle\" x=\"2287.1874\" y=\"-74.8\" font-family=\"Times,serif\" font-size=\"14.00\" fill=\"#000000\">Yes</text>\n</g>\n<!-- 79 -->\n<g id=\"node80\" class=\"node\">\n<title>79</title>\n<polygon fill=\"none\" stroke=\"#ff0000\" points=\"2564.1874,-53 2481.1874,-53 2481.1874,0 2564.1874,0 2564.1874,-53\"/>\n<text text-anchor=\"middle\" x=\"2522.6874\" y=\"-37.8\" font-family=\"Times,serif\" font-size=\"14.00\" fill=\"#000000\">val = 0.002</text>\n<text text-anchor=\"middle\" x=\"2522.6874\" y=\"-22.8\" font-family=\"Times,serif\" font-size=\"14.00\" fill=\"#000000\">val = 0.306</text>\n<text text-anchor=\"middle\" x=\"2522.6874\" y=\"-7.8\" font-family=\"Times,serif\" font-size=\"14.00\" fill=\"#000000\">val = 0.000</text>\n</g>\n<!-- 39&#45;&gt;79 -->\n<g id=\"edge79\" class=\"edge\">\n<title>39&#45;&gt;79</title>\n<path fill=\"none\" stroke=\"#000000\" d=\"M2544.4816,-103.5866C2541.2262,-92.0722 2536.9202,-76.8419 2532.9959,-62.9616\"/>\n<polygon fill=\"#000000\" stroke=\"#000000\" points=\"2536.315,-61.8361 2530.2264,-53.1655 2529.5791,-63.7406 2536.315,-61.8361\"/>\n<text text-anchor=\"middle\" x=\"2549.1874\" y=\"-74.8\" font-family=\"Times,serif\" font-size=\"14.00\" fill=\"#000000\">No</text>\n</g>\n<!-- 80 -->\n<g id=\"node81\" class=\"node\">\n<title>80</title>\n<polygon fill=\"none\" stroke=\"#ff0000\" points=\"2665.1874,-53 2582.1874,-53 2582.1874,0 2665.1874,0 2665.1874,-53\"/>\n<text text-anchor=\"middle\" x=\"2623.6874\" y=\"-37.8\" font-family=\"Times,serif\" font-size=\"14.00\" fill=\"#000000\">val = 0.162</text>\n<text text-anchor=\"middle\" x=\"2623.6874\" y=\"-22.8\" font-family=\"Times,serif\" font-size=\"14.00\" fill=\"#000000\">val = 0.172</text>\n<text text-anchor=\"middle\" x=\"2623.6874\" y=\"-7.8\" font-family=\"Times,serif\" font-size=\"14.00\" fill=\"#000000\">val = 0.000</text>\n</g>\n<!-- 39&#45;&gt;80 -->\n<g id=\"edge80\" class=\"edge\">\n<title>39&#45;&gt;80</title>\n<path fill=\"none\" stroke=\"#000000\" d=\"M2563.6063,-104.0372C2572.9158,-92.0228 2585.4712,-75.8195 2596.6973,-61.3318\"/>\n<polygon fill=\"#000000\" stroke=\"#000000\" points=\"2599.7604,-63.093 2603.1188,-53.0446 2594.2271,-58.8055 2599.7604,-63.093\"/>\n<text text-anchor=\"middle\" x=\"2600.1874\" y=\"-74.8\" font-family=\"Times,serif\" font-size=\"14.00\" fill=\"#000000\">Yes</text>\n</g>\n<!-- 81 -->\n<g id=\"node82\" class=\"node\">\n<title>81</title>\n<polygon fill=\"none\" stroke=\"#ff0000\" points=\"2815.6874,-53 2727.6874,-53 2727.6874,0 2815.6874,0 2815.6874,-53\"/>\n<text text-anchor=\"middle\" x=\"2771.6874\" y=\"-37.8\" font-family=\"Times,serif\" font-size=\"14.00\" fill=\"#000000\">val = &#45;0.156</text>\n<text text-anchor=\"middle\" x=\"2771.6874\" y=\"-22.8\" font-family=\"Times,serif\" font-size=\"14.00\" fill=\"#000000\">val = &#45;0.065</text>\n<text text-anchor=\"middle\" x=\"2771.6874\" y=\"-7.8\" font-family=\"Times,serif\" font-size=\"14.00\" fill=\"#000000\">val = 0.000</text>\n</g>\n<!-- 40&#45;&gt;81 -->\n<g id=\"edge81\" class=\"edge\">\n<title>40&#45;&gt;81</title>\n<path fill=\"none\" stroke=\"#000000\" d=\"M2835.8281,-104.0372C2825.7967,-91.9105 2812.2349,-75.5163 2800.1656,-60.9261\"/>\n<polygon fill=\"#000000\" stroke=\"#000000\" points=\"2802.7167,-58.519 2793.6458,-53.0446 2797.323,-62.9808 2802.7167,-58.519\"/>\n<text text-anchor=\"middle\" x=\"2830.1874\" y=\"-74.8\" font-family=\"Times,serif\" font-size=\"14.00\" fill=\"#000000\">No</text>\n</g>\n<!-- 82 -->\n<g id=\"node83\" class=\"node\">\n<title>82</title>\n<polygon fill=\"none\" stroke=\"#ff0000\" points=\"2921.6874,-53 2833.6874,-53 2833.6874,0 2921.6874,0 2921.6874,-53\"/>\n<text text-anchor=\"middle\" x=\"2877.6874\" y=\"-37.8\" font-family=\"Times,serif\" font-size=\"14.00\" fill=\"#000000\">val = &#45;0.074</text>\n<text text-anchor=\"middle\" x=\"2877.6874\" y=\"-22.8\" font-family=\"Times,serif\" font-size=\"14.00\" fill=\"#000000\">val = &#45;0.011</text>\n<text text-anchor=\"middle\" x=\"2877.6874\" y=\"-7.8\" font-family=\"Times,serif\" font-size=\"14.00\" fill=\"#000000\">val = 0.000</text>\n</g>\n<!-- 40&#45;&gt;82 -->\n<g id=\"edge82\" class=\"edge\">\n<title>40&#45;&gt;82</title>\n<path fill=\"none\" stroke=\"#000000\" d=\"M2855.8933,-103.5866C2859.1487,-92.0722 2863.4546,-76.8419 2867.3789,-62.9616\"/>\n<polygon fill=\"#000000\" stroke=\"#000000\" points=\"2870.7958,-63.7406 2870.1485,-53.1655 2864.0598,-61.8361 2870.7958,-63.7406\"/>\n<text text-anchor=\"middle\" x=\"2876.1874\" y=\"-74.8\" font-family=\"Times,serif\" font-size=\"14.00\" fill=\"#000000\">Yes</text>\n</g>\n<!-- 83 -->\n<g id=\"node84\" class=\"node\">\n<title>83</title>\n<polygon fill=\"none\" stroke=\"#ff0000\" points=\"3167.1874,-53 3084.1874,-53 3084.1874,0 3167.1874,0 3167.1874,-53\"/>\n<text text-anchor=\"middle\" x=\"3125.6874\" y=\"-37.8\" font-family=\"Times,serif\" font-size=\"14.00\" fill=\"#000000\">val = 0.260</text>\n<text text-anchor=\"middle\" x=\"3125.6874\" y=\"-22.8\" font-family=\"Times,serif\" font-size=\"14.00\" fill=\"#000000\">val = 0.084</text>\n<text text-anchor=\"middle\" x=\"3125.6874\" y=\"-7.8\" font-family=\"Times,serif\" font-size=\"14.00\" fill=\"#000000\">val = 0.000</text>\n</g>\n<!-- 41&#45;&gt;83 -->\n<g id=\"edge83\" class=\"edge\">\n<title>41&#45;&gt;83</title>\n<path fill=\"none\" stroke=\"#000000\" d=\"M3146.6744,-103.5866C3143.5395,-92.0722 3139.3931,-76.8419 3135.6141,-62.9616\"/>\n<polygon fill=\"#000000\" stroke=\"#000000\" points=\"3138.9512,-61.8949 3132.9472,-53.1655 3132.197,-63.7338 3138.9512,-61.8949\"/>\n<text text-anchor=\"middle\" x=\"3152.1874\" y=\"-74.8\" font-family=\"Times,serif\" font-size=\"14.00\" fill=\"#000000\">No</text>\n</g>\n<!-- 84 -->\n<g id=\"node85\" class=\"node\">\n<title>84</title>\n<polygon fill=\"none\" stroke=\"#ff0000\" points=\"3268.1874,-53 3185.1874,-53 3185.1874,0 3268.1874,0 3268.1874,-53\"/>\n<text text-anchor=\"middle\" x=\"3226.6874\" y=\"-37.8\" font-family=\"Times,serif\" font-size=\"14.00\" fill=\"#000000\">val = 0.292</text>\n<text text-anchor=\"middle\" x=\"3226.6874\" y=\"-22.8\" font-family=\"Times,serif\" font-size=\"14.00\" fill=\"#000000\">val = 0.065</text>\n<text text-anchor=\"middle\" x=\"3226.6874\" y=\"-7.8\" font-family=\"Times,serif\" font-size=\"14.00\" fill=\"#000000\">val = 0.000</text>\n</g>\n<!-- 41&#45;&gt;84 -->\n<g id=\"edge84\" class=\"edge\">\n<title>41&#45;&gt;84</title>\n<path fill=\"none\" stroke=\"#000000\" d=\"M3165.7944,-104.0372C3175.3179,-91.9105 3188.193,-75.5163 3199.6512,-60.9261\"/>\n<polygon fill=\"#000000\" stroke=\"#000000\" points=\"3202.4171,-63.071 3205.8409,-53.0446 3196.9118,-58.7475 3202.4171,-63.071\"/>\n<text text-anchor=\"middle\" x=\"3202.1874\" y=\"-74.8\" font-family=\"Times,serif\" font-size=\"14.00\" fill=\"#000000\">Yes</text>\n</g>\n<!-- 85 -->\n<g id=\"node86\" class=\"node\">\n<title>85</title>\n<polygon fill=\"none\" stroke=\"#ff0000\" points=\"3418.1874,-53 3335.1874,-53 3335.1874,0 3418.1874,0 3418.1874,-53\"/>\n<text text-anchor=\"middle\" x=\"3376.6874\" y=\"-37.8\" font-family=\"Times,serif\" font-size=\"14.00\" fill=\"#000000\">val = 0.000</text>\n<text text-anchor=\"middle\" x=\"3376.6874\" y=\"-22.8\" font-family=\"Times,serif\" font-size=\"14.00\" fill=\"#000000\">val = 0.000</text>\n<text text-anchor=\"middle\" x=\"3376.6874\" y=\"-7.8\" font-family=\"Times,serif\" font-size=\"14.00\" fill=\"#000000\">val = 0.000</text>\n</g>\n<!-- 42&#45;&gt;85 -->\n<g id=\"edge85\" class=\"edge\">\n<title>42&#45;&gt;85</title>\n<path fill=\"none\" stroke=\"#000000\" d=\"M3438.3924,-104.0372C3428.7419,-91.9105 3415.6952,-75.5163 3404.0841,-60.9261\"/>\n<polygon fill=\"#000000\" stroke=\"#000000\" points=\"3406.7775,-58.6898 3397.8119,-53.0446 3401.3003,-63.0487 3406.7775,-58.6898\"/>\n<text text-anchor=\"middle\" x=\"3434.1874\" y=\"-74.8\" font-family=\"Times,serif\" font-size=\"14.00\" fill=\"#000000\">No</text>\n</g>\n<!-- 86 -->\n<g id=\"node87\" class=\"node\">\n<title>86</title>\n<polygon fill=\"none\" stroke=\"#ff0000\" points=\"3519.1874,-53 3436.1874,-53 3436.1874,0 3519.1874,0 3519.1874,-53\"/>\n<text text-anchor=\"middle\" x=\"3477.6874\" y=\"-37.8\" font-family=\"Times,serif\" font-size=\"14.00\" fill=\"#000000\">val = 0.000</text>\n<text text-anchor=\"middle\" x=\"3477.6874\" y=\"-22.8\" font-family=\"Times,serif\" font-size=\"14.00\" fill=\"#000000\">val = 0.000</text>\n<text text-anchor=\"middle\" x=\"3477.6874\" y=\"-7.8\" font-family=\"Times,serif\" font-size=\"14.00\" fill=\"#000000\">val = 0.000</text>\n</g>\n<!-- 42&#45;&gt;86 -->\n<g id=\"edge86\" class=\"edge\">\n<title>42&#45;&gt;86</title>\n<path fill=\"none\" stroke=\"#000000\" d=\"M3457.5077,-103.5866C3460.5219,-92.0722 3464.5089,-76.8419 3468.1425,-62.9616\"/>\n<polygon fill=\"#000000\" stroke=\"#000000\" points=\"3471.5603,-63.726 3470.7069,-53.1655 3464.7885,-61.9532 3471.5603,-63.726\"/>\n<text text-anchor=\"middle\" x=\"3477.1874\" y=\"-74.8\" font-family=\"Times,serif\" font-size=\"14.00\" fill=\"#000000\">Yes</text>\n</g>\n<!-- 87 -->\n<g id=\"node88\" class=\"node\">\n<title>87</title>\n<polygon fill=\"none\" stroke=\"#ff0000\" points=\"3769.1874,-53 3686.1874,-53 3686.1874,0 3769.1874,0 3769.1874,-53\"/>\n<text text-anchor=\"middle\" x=\"3727.6874\" y=\"-37.8\" font-family=\"Times,serif\" font-size=\"14.00\" fill=\"#000000\">val = 0.000</text>\n<text text-anchor=\"middle\" x=\"3727.6874\" y=\"-22.8\" font-family=\"Times,serif\" font-size=\"14.00\" fill=\"#000000\">val = 0.000</text>\n<text text-anchor=\"middle\" x=\"3727.6874\" y=\"-7.8\" font-family=\"Times,serif\" font-size=\"14.00\" fill=\"#000000\">val = 0.000</text>\n</g>\n<!-- 43&#45;&gt;87 -->\n<g id=\"edge87\" class=\"edge\">\n<title>43&#45;&gt;87</title>\n<path fill=\"none\" stroke=\"#000000\" d=\"M3748.6744,-103.5866C3745.5395,-92.0722 3741.3931,-76.8419 3737.6141,-62.9616\"/>\n<polygon fill=\"#000000\" stroke=\"#000000\" points=\"3740.9512,-61.8949 3734.9472,-53.1655 3734.197,-63.7338 3740.9512,-61.8949\"/>\n<text text-anchor=\"middle\" x=\"3754.1874\" y=\"-74.8\" font-family=\"Times,serif\" font-size=\"14.00\" fill=\"#000000\">No</text>\n</g>\n<!-- 88 -->\n<g id=\"node89\" class=\"node\">\n<title>88</title>\n<polygon fill=\"none\" stroke=\"#ff0000\" points=\"3870.1874,-53 3787.1874,-53 3787.1874,0 3870.1874,0 3870.1874,-53\"/>\n<text text-anchor=\"middle\" x=\"3828.6874\" y=\"-37.8\" font-family=\"Times,serif\" font-size=\"14.00\" fill=\"#000000\">val = 0.000</text>\n<text text-anchor=\"middle\" x=\"3828.6874\" y=\"-22.8\" font-family=\"Times,serif\" font-size=\"14.00\" fill=\"#000000\">val = 0.000</text>\n<text text-anchor=\"middle\" x=\"3828.6874\" y=\"-7.8\" font-family=\"Times,serif\" font-size=\"14.00\" fill=\"#000000\">val = 0.000</text>\n</g>\n<!-- 43&#45;&gt;88 -->\n<g id=\"edge88\" class=\"edge\">\n<title>43&#45;&gt;88</title>\n<path fill=\"none\" stroke=\"#000000\" d=\"M3767.7944,-104.0372C3777.3179,-91.9105 3790.193,-75.5163 3801.6512,-60.9261\"/>\n<polygon fill=\"#000000\" stroke=\"#000000\" points=\"3804.4171,-63.071 3807.8409,-53.0446 3798.9118,-58.7475 3804.4171,-63.071\"/>\n<text text-anchor=\"middle\" x=\"3804.1874\" y=\"-74.8\" font-family=\"Times,serif\" font-size=\"14.00\" fill=\"#000000\">Yes</text>\n</g>\n<!-- 89 -->\n<g id=\"node90\" class=\"node\">\n<title>89</title>\n<polygon fill=\"none\" stroke=\"#ff0000\" points=\"4020.1874,-53 3937.1874,-53 3937.1874,0 4020.1874,0 4020.1874,-53\"/>\n<text text-anchor=\"middle\" x=\"3978.6874\" y=\"-37.8\" font-family=\"Times,serif\" font-size=\"14.00\" fill=\"#000000\">val = 0.000</text>\n<text text-anchor=\"middle\" x=\"3978.6874\" y=\"-22.8\" font-family=\"Times,serif\" font-size=\"14.00\" fill=\"#000000\">val = 0.000</text>\n<text text-anchor=\"middle\" x=\"3978.6874\" y=\"-7.8\" font-family=\"Times,serif\" font-size=\"14.00\" fill=\"#000000\">val = 0.000</text>\n</g>\n<!-- 44&#45;&gt;89 -->\n<g id=\"edge89\" class=\"edge\">\n<title>44&#45;&gt;89</title>\n<path fill=\"none\" stroke=\"#000000\" d=\"M4040.3924,-104.0372C4030.7419,-91.9105 4017.6952,-75.5163 4006.0841,-60.9261\"/>\n<polygon fill=\"#000000\" stroke=\"#000000\" points=\"4008.7775,-58.6898 3999.8119,-53.0446 4003.3003,-63.0487 4008.7775,-58.6898\"/>\n<text text-anchor=\"middle\" x=\"4036.1874\" y=\"-74.8\" font-family=\"Times,serif\" font-size=\"14.00\" fill=\"#000000\">No</text>\n</g>\n<!-- 90 -->\n<g id=\"node91\" class=\"node\">\n<title>90</title>\n<polygon fill=\"none\" stroke=\"#ff0000\" points=\"4121.1874,-53 4038.1874,-53 4038.1874,0 4121.1874,0 4121.1874,-53\"/>\n<text text-anchor=\"middle\" x=\"4079.6874\" y=\"-37.8\" font-family=\"Times,serif\" font-size=\"14.00\" fill=\"#000000\">val = 0.000</text>\n<text text-anchor=\"middle\" x=\"4079.6874\" y=\"-22.8\" font-family=\"Times,serif\" font-size=\"14.00\" fill=\"#000000\">val = 0.000</text>\n<text text-anchor=\"middle\" x=\"4079.6874\" y=\"-7.8\" font-family=\"Times,serif\" font-size=\"14.00\" fill=\"#000000\">val = 0.000</text>\n</g>\n<!-- 44&#45;&gt;90 -->\n<g id=\"edge90\" class=\"edge\">\n<title>44&#45;&gt;90</title>\n<path fill=\"none\" stroke=\"#000000\" d=\"M4059.5077,-103.5866C4062.5219,-92.0722 4066.5089,-76.8419 4070.1425,-62.9616\"/>\n<polygon fill=\"#000000\" stroke=\"#000000\" points=\"4073.5603,-63.726 4072.7069,-53.1655 4066.7885,-61.9532 4073.5603,-63.726\"/>\n<text text-anchor=\"middle\" x=\"4079.1874\" y=\"-74.8\" font-family=\"Times,serif\" font-size=\"14.00\" fill=\"#000000\">Yes</text>\n</g>\n<!-- 91 -->\n<g id=\"node92\" class=\"node\">\n<title>91</title>\n<polygon fill=\"none\" stroke=\"#ff0000\" points=\"4371.1874,-53 4288.1874,-53 4288.1874,0 4371.1874,0 4371.1874,-53\"/>\n<text text-anchor=\"middle\" x=\"4329.6874\" y=\"-37.8\" font-family=\"Times,serif\" font-size=\"14.00\" fill=\"#000000\">val = 0.000</text>\n<text text-anchor=\"middle\" x=\"4329.6874\" y=\"-22.8\" font-family=\"Times,serif\" font-size=\"14.00\" fill=\"#000000\">val = 0.000</text>\n<text text-anchor=\"middle\" x=\"4329.6874\" y=\"-7.8\" font-family=\"Times,serif\" font-size=\"14.00\" fill=\"#000000\">val = 0.000</text>\n</g>\n<!-- 45&#45;&gt;91 -->\n<g id=\"edge91\" class=\"edge\">\n<title>45&#45;&gt;91</title>\n<path fill=\"none\" stroke=\"#000000\" d=\"M4350.6744,-103.5866C4347.5395,-92.0722 4343.3931,-76.8419 4339.6141,-62.9616\"/>\n<polygon fill=\"#000000\" stroke=\"#000000\" points=\"4342.9512,-61.8949 4336.9472,-53.1655 4336.197,-63.7338 4342.9512,-61.8949\"/>\n<text text-anchor=\"middle\" x=\"4356.1874\" y=\"-74.8\" font-family=\"Times,serif\" font-size=\"14.00\" fill=\"#000000\">No</text>\n</g>\n<!-- 92 -->\n<g id=\"node93\" class=\"node\">\n<title>92</title>\n<polygon fill=\"none\" stroke=\"#ff0000\" points=\"4472.1874,-53 4389.1874,-53 4389.1874,0 4472.1874,0 4472.1874,-53\"/>\n<text text-anchor=\"middle\" x=\"4430.6874\" y=\"-37.8\" font-family=\"Times,serif\" font-size=\"14.00\" fill=\"#000000\">val = 0.000</text>\n<text text-anchor=\"middle\" x=\"4430.6874\" y=\"-22.8\" font-family=\"Times,serif\" font-size=\"14.00\" fill=\"#000000\">val = 0.000</text>\n<text text-anchor=\"middle\" x=\"4430.6874\" y=\"-7.8\" font-family=\"Times,serif\" font-size=\"14.00\" fill=\"#000000\">val = 0.000</text>\n</g>\n<!-- 45&#45;&gt;92 -->\n<g id=\"edge92\" class=\"edge\">\n<title>45&#45;&gt;92</title>\n<path fill=\"none\" stroke=\"#000000\" d=\"M4369.7944,-104.0372C4379.3179,-91.9105 4392.193,-75.5163 4403.6512,-60.9261\"/>\n<polygon fill=\"#000000\" stroke=\"#000000\" points=\"4406.4171,-63.071 4409.8409,-53.0446 4400.9118,-58.7475 4406.4171,-63.071\"/>\n<text text-anchor=\"middle\" x=\"4406.1874\" y=\"-74.8\" font-family=\"Times,serif\" font-size=\"14.00\" fill=\"#000000\">Yes</text>\n</g>\n<!-- 93 -->\n<g id=\"node94\" class=\"node\">\n<title>93</title>\n<polygon fill=\"none\" stroke=\"#ff0000\" points=\"4622.1874,-53 4539.1874,-53 4539.1874,0 4622.1874,0 4622.1874,-53\"/>\n<text text-anchor=\"middle\" x=\"4580.6874\" y=\"-37.8\" font-family=\"Times,serif\" font-size=\"14.00\" fill=\"#000000\">val = 0.000</text>\n<text text-anchor=\"middle\" x=\"4580.6874\" y=\"-22.8\" font-family=\"Times,serif\" font-size=\"14.00\" fill=\"#000000\">val = 0.000</text>\n<text text-anchor=\"middle\" x=\"4580.6874\" y=\"-7.8\" font-family=\"Times,serif\" font-size=\"14.00\" fill=\"#000000\">val = 0.000</text>\n</g>\n<!-- 46&#45;&gt;93 -->\n<g id=\"edge93\" class=\"edge\">\n<title>46&#45;&gt;93</title>\n<path fill=\"none\" stroke=\"#000000\" d=\"M4642.3924,-104.0372C4632.7419,-91.9105 4619.6952,-75.5163 4608.0841,-60.9261\"/>\n<polygon fill=\"#000000\" stroke=\"#000000\" points=\"4610.7775,-58.6898 4601.8119,-53.0446 4605.3003,-63.0487 4610.7775,-58.6898\"/>\n<text text-anchor=\"middle\" x=\"4638.1874\" y=\"-74.8\" font-family=\"Times,serif\" font-size=\"14.00\" fill=\"#000000\">No</text>\n</g>\n<!-- 94 -->\n<g id=\"node95\" class=\"node\">\n<title>94</title>\n<polygon fill=\"none\" stroke=\"#ff0000\" points=\"4723.1874,-53 4640.1874,-53 4640.1874,0 4723.1874,0 4723.1874,-53\"/>\n<text text-anchor=\"middle\" x=\"4681.6874\" y=\"-37.8\" font-family=\"Times,serif\" font-size=\"14.00\" fill=\"#000000\">val = 0.000</text>\n<text text-anchor=\"middle\" x=\"4681.6874\" y=\"-22.8\" font-family=\"Times,serif\" font-size=\"14.00\" fill=\"#000000\">val = 0.000</text>\n<text text-anchor=\"middle\" x=\"4681.6874\" y=\"-7.8\" font-family=\"Times,serif\" font-size=\"14.00\" fill=\"#000000\">val = 0.000</text>\n</g>\n<!-- 46&#45;&gt;94 -->\n<g id=\"edge94\" class=\"edge\">\n<title>46&#45;&gt;94</title>\n<path fill=\"none\" stroke=\"#000000\" d=\"M4661.5077,-103.5866C4664.5219,-92.0722 4668.5089,-76.8419 4672.1425,-62.9616\"/>\n<polygon fill=\"#000000\" stroke=\"#000000\" points=\"4675.5603,-63.726 4674.7069,-53.1655 4668.7885,-61.9532 4675.5603,-63.726\"/>\n<text text-anchor=\"middle\" x=\"4681.1874\" y=\"-74.8\" font-family=\"Times,serif\" font-size=\"14.00\" fill=\"#000000\">Yes</text>\n</g>\n<!-- 95 -->\n<g id=\"node96\" class=\"node\">\n<title>95</title>\n<polygon fill=\"none\" stroke=\"#ff0000\" points=\"4973.1874,-53 4890.1874,-53 4890.1874,0 4973.1874,0 4973.1874,-53\"/>\n<text text-anchor=\"middle\" x=\"4931.6874\" y=\"-37.8\" font-family=\"Times,serif\" font-size=\"14.00\" fill=\"#000000\">val = 0.287</text>\n<text text-anchor=\"middle\" x=\"4931.6874\" y=\"-22.8\" font-family=\"Times,serif\" font-size=\"14.00\" fill=\"#000000\">val = 0.067</text>\n<text text-anchor=\"middle\" x=\"4931.6874\" y=\"-7.8\" font-family=\"Times,serif\" font-size=\"14.00\" fill=\"#000000\">val = 0.000</text>\n</g>\n<!-- 47&#45;&gt;95 -->\n<g id=\"edge95\" class=\"edge\">\n<title>47&#45;&gt;95</title>\n<path fill=\"none\" stroke=\"#000000\" d=\"M4952.6744,-103.5866C4949.5395,-92.0722 4945.3931,-76.8419 4941.6141,-62.9616\"/>\n<polygon fill=\"#000000\" stroke=\"#000000\" points=\"4944.9512,-61.8949 4938.9472,-53.1655 4938.197,-63.7338 4944.9512,-61.8949\"/>\n<text text-anchor=\"middle\" x=\"4958.1874\" y=\"-74.8\" font-family=\"Times,serif\" font-size=\"14.00\" fill=\"#000000\">No</text>\n</g>\n<!-- 96 -->\n<g id=\"node97\" class=\"node\">\n<title>96</title>\n<polygon fill=\"none\" stroke=\"#ff0000\" points=\"5074.1874,-53 4991.1874,-53 4991.1874,0 5074.1874,0 5074.1874,-53\"/>\n<text text-anchor=\"middle\" x=\"5032.6874\" y=\"-37.8\" font-family=\"Times,serif\" font-size=\"14.00\" fill=\"#000000\">val = 0.270</text>\n<text text-anchor=\"middle\" x=\"5032.6874\" y=\"-22.8\" font-family=\"Times,serif\" font-size=\"14.00\" fill=\"#000000\">val = 0.084</text>\n<text text-anchor=\"middle\" x=\"5032.6874\" y=\"-7.8\" font-family=\"Times,serif\" font-size=\"14.00\" fill=\"#000000\">val = 0.000</text>\n</g>\n<!-- 47&#45;&gt;96 -->\n<g id=\"edge96\" class=\"edge\">\n<title>47&#45;&gt;96</title>\n<path fill=\"none\" stroke=\"#000000\" d=\"M4971.7944,-104.0372C4981.3179,-91.9105 4994.193,-75.5163 5005.6512,-60.9261\"/>\n<polygon fill=\"#000000\" stroke=\"#000000\" points=\"5008.4171,-63.071 5011.8409,-53.0446 5002.9118,-58.7475 5008.4171,-63.071\"/>\n<text text-anchor=\"middle\" x=\"5008.1874\" y=\"-74.8\" font-family=\"Times,serif\" font-size=\"14.00\" fill=\"#000000\">Yes</text>\n</g>\n<!-- 97 -->\n<g id=\"node98\" class=\"node\">\n<title>97</title>\n<polygon fill=\"none\" stroke=\"#ff0000\" points=\"5224.1874,-53 5141.1874,-53 5141.1874,0 5224.1874,0 5224.1874,-53\"/>\n<text text-anchor=\"middle\" x=\"5182.6874\" y=\"-37.8\" font-family=\"Times,serif\" font-size=\"14.00\" fill=\"#000000\">val = 0.000</text>\n<text text-anchor=\"middle\" x=\"5182.6874\" y=\"-22.8\" font-family=\"Times,serif\" font-size=\"14.00\" fill=\"#000000\">val = 0.000</text>\n<text text-anchor=\"middle\" x=\"5182.6874\" y=\"-7.8\" font-family=\"Times,serif\" font-size=\"14.00\" fill=\"#000000\">val = 0.000</text>\n</g>\n<!-- 48&#45;&gt;97 -->\n<g id=\"edge97\" class=\"edge\">\n<title>48&#45;&gt;97</title>\n<path fill=\"none\" stroke=\"#000000\" d=\"M5244.3924,-104.0372C5234.7419,-91.9105 5221.6952,-75.5163 5210.0841,-60.9261\"/>\n<polygon fill=\"#000000\" stroke=\"#000000\" points=\"5212.7775,-58.6898 5203.8119,-53.0446 5207.3003,-63.0487 5212.7775,-58.6898\"/>\n<text text-anchor=\"middle\" x=\"5240.1874\" y=\"-74.8\" font-family=\"Times,serif\" font-size=\"14.00\" fill=\"#000000\">No</text>\n</g>\n<!-- 98 -->\n<g id=\"node99\" class=\"node\">\n<title>98</title>\n<polygon fill=\"none\" stroke=\"#ff0000\" points=\"5325.1874,-53 5242.1874,-53 5242.1874,0 5325.1874,0 5325.1874,-53\"/>\n<text text-anchor=\"middle\" x=\"5283.6874\" y=\"-37.8\" font-family=\"Times,serif\" font-size=\"14.00\" fill=\"#000000\">val = 0.000</text>\n<text text-anchor=\"middle\" x=\"5283.6874\" y=\"-22.8\" font-family=\"Times,serif\" font-size=\"14.00\" fill=\"#000000\">val = 0.000</text>\n<text text-anchor=\"middle\" x=\"5283.6874\" y=\"-7.8\" font-family=\"Times,serif\" font-size=\"14.00\" fill=\"#000000\">val = 0.000</text>\n</g>\n<!-- 48&#45;&gt;98 -->\n<g id=\"edge98\" class=\"edge\">\n<title>48&#45;&gt;98</title>\n<path fill=\"none\" stroke=\"#000000\" d=\"M5263.5077,-103.5866C5266.5219,-92.0722 5270.5089,-76.8419 5274.1425,-62.9616\"/>\n<polygon fill=\"#000000\" stroke=\"#000000\" points=\"5277.5603,-63.726 5276.7069,-53.1655 5270.7885,-61.9532 5277.5603,-63.726\"/>\n<text text-anchor=\"middle\" x=\"5283.1874\" y=\"-74.8\" font-family=\"Times,serif\" font-size=\"14.00\" fill=\"#000000\">Yes</text>\n</g>\n<!-- 99 -->\n<g id=\"node100\" class=\"node\">\n<title>99</title>\n<polygon fill=\"none\" stroke=\"#ff0000\" points=\"5575.1874,-53 5492.1874,-53 5492.1874,0 5575.1874,0 5575.1874,-53\"/>\n<text text-anchor=\"middle\" x=\"5533.6874\" y=\"-37.8\" font-family=\"Times,serif\" font-size=\"14.00\" fill=\"#000000\">val = 0.290</text>\n<text text-anchor=\"middle\" x=\"5533.6874\" y=\"-22.8\" font-family=\"Times,serif\" font-size=\"14.00\" fill=\"#000000\">val = 0.066</text>\n<text text-anchor=\"middle\" x=\"5533.6874\" y=\"-7.8\" font-family=\"Times,serif\" font-size=\"14.00\" fill=\"#000000\">val = 0.000</text>\n</g>\n<!-- 49&#45;&gt;99 -->\n<g id=\"edge99\" class=\"edge\">\n<title>49&#45;&gt;99</title>\n<path fill=\"none\" stroke=\"#000000\" d=\"M5554.6744,-103.5866C5551.5395,-92.0722 5547.3931,-76.8419 5543.6141,-62.9616\"/>\n<polygon fill=\"#000000\" stroke=\"#000000\" points=\"5546.9512,-61.8949 5540.9472,-53.1655 5540.197,-63.7338 5546.9512,-61.8949\"/>\n<text text-anchor=\"middle\" x=\"5560.1874\" y=\"-74.8\" font-family=\"Times,serif\" font-size=\"14.00\" fill=\"#000000\">No</text>\n</g>\n<!-- 100 -->\n<g id=\"node101\" class=\"node\">\n<title>100</title>\n<polygon fill=\"none\" stroke=\"#ff0000\" points=\"5676.1874,-53 5593.1874,-53 5593.1874,0 5676.1874,0 5676.1874,-53\"/>\n<text text-anchor=\"middle\" x=\"5634.6874\" y=\"-37.8\" font-family=\"Times,serif\" font-size=\"14.00\" fill=\"#000000\">val = 0.273</text>\n<text text-anchor=\"middle\" x=\"5634.6874\" y=\"-22.8\" font-family=\"Times,serif\" font-size=\"14.00\" fill=\"#000000\">val = 0.082</text>\n<text text-anchor=\"middle\" x=\"5634.6874\" y=\"-7.8\" font-family=\"Times,serif\" font-size=\"14.00\" fill=\"#000000\">val = 0.000</text>\n</g>\n<!-- 49&#45;&gt;100 -->\n<g id=\"edge100\" class=\"edge\">\n<title>49&#45;&gt;100</title>\n<path fill=\"none\" stroke=\"#000000\" d=\"M5573.7944,-104.0372C5583.3179,-91.9105 5596.193,-75.5163 5607.6512,-60.9261\"/>\n<polygon fill=\"#000000\" stroke=\"#000000\" points=\"5610.4171,-63.071 5613.8409,-53.0446 5604.9118,-58.7475 5610.4171,-63.071\"/>\n<text text-anchor=\"middle\" x=\"5610.1874\" y=\"-74.8\" font-family=\"Times,serif\" font-size=\"14.00\" fill=\"#000000\">Yes</text>\n</g>\n<!-- 101 -->\n<g id=\"node102\" class=\"node\">\n<title>101</title>\n<polygon fill=\"none\" stroke=\"#ff0000\" points=\"5826.1874,-53 5743.1874,-53 5743.1874,0 5826.1874,0 5826.1874,-53\"/>\n<text text-anchor=\"middle\" x=\"5784.6874\" y=\"-37.8\" font-family=\"Times,serif\" font-size=\"14.00\" fill=\"#000000\">val = 0.000</text>\n<text text-anchor=\"middle\" x=\"5784.6874\" y=\"-22.8\" font-family=\"Times,serif\" font-size=\"14.00\" fill=\"#000000\">val = 0.000</text>\n<text text-anchor=\"middle\" x=\"5784.6874\" y=\"-7.8\" font-family=\"Times,serif\" font-size=\"14.00\" fill=\"#000000\">val = 0.000</text>\n</g>\n<!-- 50&#45;&gt;101 -->\n<g id=\"edge101\" class=\"edge\">\n<title>50&#45;&gt;101</title>\n<path fill=\"none\" stroke=\"#000000\" d=\"M5846.3924,-104.0372C5836.7419,-91.9105 5823.6952,-75.5163 5812.0841,-60.9261\"/>\n<polygon fill=\"#000000\" stroke=\"#000000\" points=\"5814.7775,-58.6898 5805.8119,-53.0446 5809.3003,-63.0487 5814.7775,-58.6898\"/>\n<text text-anchor=\"middle\" x=\"5842.1874\" y=\"-74.8\" font-family=\"Times,serif\" font-size=\"14.00\" fill=\"#000000\">No</text>\n</g>\n<!-- 102 -->\n<g id=\"node103\" class=\"node\">\n<title>102</title>\n<polygon fill=\"none\" stroke=\"#ff0000\" points=\"5927.1874,-53 5844.1874,-53 5844.1874,0 5927.1874,0 5927.1874,-53\"/>\n<text text-anchor=\"middle\" x=\"5885.6874\" y=\"-37.8\" font-family=\"Times,serif\" font-size=\"14.00\" fill=\"#000000\">val = 0.000</text>\n<text text-anchor=\"middle\" x=\"5885.6874\" y=\"-22.8\" font-family=\"Times,serif\" font-size=\"14.00\" fill=\"#000000\">val = 0.000</text>\n<text text-anchor=\"middle\" x=\"5885.6874\" y=\"-7.8\" font-family=\"Times,serif\" font-size=\"14.00\" fill=\"#000000\">val = 0.000</text>\n</g>\n<!-- 50&#45;&gt;102 -->\n<g id=\"edge102\" class=\"edge\">\n<title>50&#45;&gt;102</title>\n<path fill=\"none\" stroke=\"#000000\" d=\"M5865.5077,-103.5866C5868.5219,-92.0722 5872.5089,-76.8419 5876.1425,-62.9616\"/>\n<polygon fill=\"#000000\" stroke=\"#000000\" points=\"5879.5603,-63.726 5878.7069,-53.1655 5872.7885,-61.9532 5879.5603,-63.726\"/>\n<text text-anchor=\"middle\" x=\"5885.1874\" y=\"-74.8\" font-family=\"Times,serif\" font-size=\"14.00\" fill=\"#000000\">Yes</text>\n</g>\n<!-- 103 -->\n<g id=\"node104\" class=\"node\">\n<title>103</title>\n<polygon fill=\"none\" stroke=\"#ff0000\" points=\"6151.1874,-53 6068.1874,-53 6068.1874,0 6151.1874,0 6151.1874,-53\"/>\n<text text-anchor=\"middle\" x=\"6109.6874\" y=\"-37.8\" font-family=\"Times,serif\" font-size=\"14.00\" fill=\"#000000\">val = 0.000</text>\n<text text-anchor=\"middle\" x=\"6109.6874\" y=\"-22.8\" font-family=\"Times,serif\" font-size=\"14.00\" fill=\"#000000\">val = 0.000</text>\n<text text-anchor=\"middle\" x=\"6109.6874\" y=\"-7.8\" font-family=\"Times,serif\" font-size=\"14.00\" fill=\"#000000\">val = 0.000</text>\n</g>\n<!-- 51&#45;&gt;103 -->\n<g id=\"edge103\" class=\"edge\">\n<title>51&#45;&gt;103</title>\n<path fill=\"none\" stroke=\"#000000\" d=\"M6151.9066,-104.0372C6145.4871,-92.2474 6136.8711,-76.4238 6129.0968,-62.146\"/>\n<polygon fill=\"#000000\" stroke=\"#000000\" points=\"6131.997,-60.1533 6124.141,-53.0446 6125.8493,-63.5008 6131.997,-60.1533\"/>\n<text text-anchor=\"middle\" x=\"6152.1874\" y=\"-74.8\" font-family=\"Times,serif\" font-size=\"14.00\" fill=\"#000000\">No</text>\n</g>\n<!-- 104 -->\n<g id=\"node105\" class=\"node\">\n<title>104</title>\n<polygon fill=\"none\" stroke=\"#ff0000\" points=\"6252.1874,-53 6169.1874,-53 6169.1874,0 6252.1874,0 6252.1874,-53\"/>\n<text text-anchor=\"middle\" x=\"6210.6874\" y=\"-37.8\" font-family=\"Times,serif\" font-size=\"14.00\" fill=\"#000000\">val = 0.174</text>\n<text text-anchor=\"middle\" x=\"6210.6874\" y=\"-22.8\" font-family=\"Times,serif\" font-size=\"14.00\" fill=\"#000000\">val = 0.170</text>\n<text text-anchor=\"middle\" x=\"6210.6874\" y=\"-7.8\" font-family=\"Times,serif\" font-size=\"14.00\" fill=\"#000000\">val = 0.000</text>\n</g>\n<!-- 51&#45;&gt;104 -->\n<g id=\"edge104\" class=\"edge\">\n<title>51&#45;&gt;104</title>\n<path fill=\"none\" stroke=\"#000000\" d=\"M6170.904,-104.0372C6176.9532,-92.2474 6185.0721,-76.4238 6192.3979,-62.146\"/>\n<polygon fill=\"#000000\" stroke=\"#000000\" points=\"6195.6166,-63.5396 6197.0677,-53.0446 6189.3886,-60.344 6195.6166,-63.5396\"/>\n<text text-anchor=\"middle\" x=\"6198.1874\" y=\"-74.8\" font-family=\"Times,serif\" font-size=\"14.00\" fill=\"#000000\">Yes</text>\n</g>\n<!-- 105 -->\n<g id=\"node106\" class=\"node\">\n<title>105</title>\n<polygon fill=\"none\" stroke=\"#ff0000\" points=\"6453.1874,-53 6370.1874,-53 6370.1874,0 6453.1874,0 6453.1874,-53\"/>\n<text text-anchor=\"middle\" x=\"6411.6874\" y=\"-37.8\" font-family=\"Times,serif\" font-size=\"14.00\" fill=\"#000000\">val = 0.000</text>\n<text text-anchor=\"middle\" x=\"6411.6874\" y=\"-22.8\" font-family=\"Times,serif\" font-size=\"14.00\" fill=\"#000000\">val = 0.000</text>\n<text text-anchor=\"middle\" x=\"6411.6874\" y=\"-7.8\" font-family=\"Times,serif\" font-size=\"14.00\" fill=\"#000000\">val = 0.000</text>\n</g>\n<!-- 52&#45;&gt;105 -->\n<g id=\"edge105\" class=\"edge\">\n<title>52&#45;&gt;105</title>\n<path fill=\"none\" stroke=\"#000000\" d=\"M6453.0947,-104.0372C6446.7986,-92.2474 6438.3483,-76.4238 6430.7235,-62.146\"/>\n<polygon fill=\"#000000\" stroke=\"#000000\" points=\"6433.6611,-60.2168 6425.8631,-53.0446 6427.4865,-63.5143 6433.6611,-60.2168\"/>\n<text text-anchor=\"middle\" x=\"6453.1874\" y=\"-74.8\" font-family=\"Times,serif\" font-size=\"14.00\" fill=\"#000000\">No</text>\n</g>\n<!-- 106 -->\n<g id=\"node107\" class=\"node\">\n<title>106</title>\n<polygon fill=\"none\" stroke=\"#ff0000\" points=\"6554.1874,-53 6471.1874,-53 6471.1874,0 6554.1874,0 6554.1874,-53\"/>\n<text text-anchor=\"middle\" x=\"6512.6874\" y=\"-37.8\" font-family=\"Times,serif\" font-size=\"14.00\" fill=\"#000000\">val = 0.000</text>\n<text text-anchor=\"middle\" x=\"6512.6874\" y=\"-22.8\" font-family=\"Times,serif\" font-size=\"14.00\" fill=\"#000000\">val = 0.000</text>\n<text text-anchor=\"middle\" x=\"6512.6874\" y=\"-7.8\" font-family=\"Times,serif\" font-size=\"14.00\" fill=\"#000000\">val = 0.000</text>\n</g>\n<!-- 52&#45;&gt;106 -->\n<g id=\"edge106\" class=\"edge\">\n<title>52&#45;&gt;106</title>\n<path fill=\"none\" stroke=\"#000000\" d=\"M6472.092,-104.0372C6478.2647,-92.2474 6486.5493,-76.4238 6494.0246,-62.146\"/>\n<polygon fill=\"#000000\" stroke=\"#000000\" points=\"6497.2521,-63.5273 6498.7897,-53.0446 6491.0506,-60.2804 6497.2521,-63.5273\"/>\n<text text-anchor=\"middle\" x=\"6500.1874\" y=\"-74.8\" font-family=\"Times,serif\" font-size=\"14.00\" fill=\"#000000\">Yes</text>\n</g>\n<!-- 107 -->\n<g id=\"node108\" class=\"node\">\n<title>107</title>\n<polygon fill=\"none\" stroke=\"#ff0000\" points=\"6779.1874,-53 6696.1874,-53 6696.1874,0 6779.1874,0 6779.1874,-53\"/>\n<text text-anchor=\"middle\" x=\"6737.6874\" y=\"-37.8\" font-family=\"Times,serif\" font-size=\"14.00\" fill=\"#000000\">val = 0.000</text>\n<text text-anchor=\"middle\" x=\"6737.6874\" y=\"-22.8\" font-family=\"Times,serif\" font-size=\"14.00\" fill=\"#000000\">val = 0.000</text>\n<text text-anchor=\"middle\" x=\"6737.6874\" y=\"-7.8\" font-family=\"Times,serif\" font-size=\"14.00\" fill=\"#000000\">val = 0.000</text>\n</g>\n<!-- 53&#45;&gt;107 -->\n<g id=\"edge107\" class=\"edge\">\n<title>53&#45;&gt;107</title>\n<path fill=\"none\" stroke=\"#000000\" d=\"M6758.6744,-103.5866C6755.5395,-92.0722 6751.3931,-76.8419 6747.6141,-62.9616\"/>\n<polygon fill=\"#000000\" stroke=\"#000000\" points=\"6750.9512,-61.8949 6744.9472,-53.1655 6744.197,-63.7338 6750.9512,-61.8949\"/>\n<text text-anchor=\"middle\" x=\"6764.1874\" y=\"-74.8\" font-family=\"Times,serif\" font-size=\"14.00\" fill=\"#000000\">No</text>\n</g>\n<!-- 108 -->\n<g id=\"node109\" class=\"node\">\n<title>108</title>\n<polygon fill=\"none\" stroke=\"#ff0000\" points=\"6880.1874,-53 6797.1874,-53 6797.1874,0 6880.1874,0 6880.1874,-53\"/>\n<text text-anchor=\"middle\" x=\"6838.6874\" y=\"-37.8\" font-family=\"Times,serif\" font-size=\"14.00\" fill=\"#000000\">val = 0.162</text>\n<text text-anchor=\"middle\" x=\"6838.6874\" y=\"-22.8\" font-family=\"Times,serif\" font-size=\"14.00\" fill=\"#000000\">val = 0.180</text>\n<text text-anchor=\"middle\" x=\"6838.6874\" y=\"-7.8\" font-family=\"Times,serif\" font-size=\"14.00\" fill=\"#000000\">val = 0.000</text>\n</g>\n<!-- 53&#45;&gt;108 -->\n<g id=\"edge108\" class=\"edge\">\n<title>53&#45;&gt;108</title>\n<path fill=\"none\" stroke=\"#000000\" d=\"M6777.7944,-104.0372C6787.3179,-91.9105 6800.193,-75.5163 6811.6512,-60.9261\"/>\n<polygon fill=\"#000000\" stroke=\"#000000\" points=\"6814.4171,-63.071 6817.8409,-53.0446 6808.9118,-58.7475 6814.4171,-63.071\"/>\n<text text-anchor=\"middle\" x=\"6814.1874\" y=\"-74.8\" font-family=\"Times,serif\" font-size=\"14.00\" fill=\"#000000\">Yes</text>\n</g>\n<!-- 109 -->\n<g id=\"node110\" class=\"node\">\n<title>109</title>\n<polygon fill=\"none\" stroke=\"#ff0000\" points=\"7030.1874,-53 6947.1874,-53 6947.1874,0 7030.1874,0 7030.1874,-53\"/>\n<text text-anchor=\"middle\" x=\"6988.6874\" y=\"-37.8\" font-family=\"Times,serif\" font-size=\"14.00\" fill=\"#000000\">val = 0.000</text>\n<text text-anchor=\"middle\" x=\"6988.6874\" y=\"-22.8\" font-family=\"Times,serif\" font-size=\"14.00\" fill=\"#000000\">val = 0.000</text>\n<text text-anchor=\"middle\" x=\"6988.6874\" y=\"-7.8\" font-family=\"Times,serif\" font-size=\"14.00\" fill=\"#000000\">val = 0.000</text>\n</g>\n<!-- 54&#45;&gt;109 -->\n<g id=\"edge109\" class=\"edge\">\n<title>54&#45;&gt;109</title>\n<path fill=\"none\" stroke=\"#000000\" d=\"M7050.3924,-104.0372C7040.7419,-91.9105 7027.6952,-75.5163 7016.0841,-60.9261\"/>\n<polygon fill=\"#000000\" stroke=\"#000000\" points=\"7018.7775,-58.6898 7009.8119,-53.0446 7013.3003,-63.0487 7018.7775,-58.6898\"/>\n<text text-anchor=\"middle\" x=\"7046.1874\" y=\"-74.8\" font-family=\"Times,serif\" font-size=\"14.00\" fill=\"#000000\">No</text>\n</g>\n<!-- 110 -->\n<g id=\"node111\" class=\"node\">\n<title>110</title>\n<polygon fill=\"none\" stroke=\"#ff0000\" points=\"7131.1874,-53 7048.1874,-53 7048.1874,0 7131.1874,0 7131.1874,-53\"/>\n<text text-anchor=\"middle\" x=\"7089.6874\" y=\"-37.8\" font-family=\"Times,serif\" font-size=\"14.00\" fill=\"#000000\">val = 0.000</text>\n<text text-anchor=\"middle\" x=\"7089.6874\" y=\"-22.8\" font-family=\"Times,serif\" font-size=\"14.00\" fill=\"#000000\">val = 0.000</text>\n<text text-anchor=\"middle\" x=\"7089.6874\" y=\"-7.8\" font-family=\"Times,serif\" font-size=\"14.00\" fill=\"#000000\">val = 0.000</text>\n</g>\n<!-- 54&#45;&gt;110 -->\n<g id=\"edge110\" class=\"edge\">\n<title>54&#45;&gt;110</title>\n<path fill=\"none\" stroke=\"#000000\" d=\"M7069.5077,-103.5866C7072.5219,-92.0722 7076.5089,-76.8419 7080.1425,-62.9616\"/>\n<polygon fill=\"#000000\" stroke=\"#000000\" points=\"7083.5603,-63.726 7082.7069,-53.1655 7076.7885,-61.9532 7083.5603,-63.726\"/>\n<text text-anchor=\"middle\" x=\"7089.1874\" y=\"-74.8\" font-family=\"Times,serif\" font-size=\"14.00\" fill=\"#000000\">Yes</text>\n</g>\n<!-- 111 -->\n<g id=\"node112\" class=\"node\">\n<title>111</title>\n<polygon fill=\"none\" stroke=\"#ff0000\" points=\"7351.1874,-53 7268.1874,-53 7268.1874,0 7351.1874,0 7351.1874,-53\"/>\n<text text-anchor=\"middle\" x=\"7309.6874\" y=\"-37.8\" font-family=\"Times,serif\" font-size=\"14.00\" fill=\"#000000\">val = 0.003</text>\n<text text-anchor=\"middle\" x=\"7309.6874\" y=\"-22.8\" font-family=\"Times,serif\" font-size=\"14.00\" fill=\"#000000\">val = 0.303</text>\n<text text-anchor=\"middle\" x=\"7309.6874\" y=\"-7.8\" font-family=\"Times,serif\" font-size=\"14.00\" fill=\"#000000\">val = 0.000</text>\n</g>\n<!-- 55&#45;&gt;111 -->\n<g id=\"edge111\" class=\"edge\">\n<title>55&#45;&gt;111</title>\n<path fill=\"none\" stroke=\"#000000\" d=\"M7355.1543,-104.0372C7348.175,-92.1351 7338.7852,-76.122 7330.3508,-61.7385\"/>\n<polygon fill=\"#000000\" stroke=\"#000000\" points=\"7333.3305,-59.9005 7325.2528,-53.0446 7327.292,-63.4413 7333.3305,-59.9005\"/>\n<text text-anchor=\"middle\" x=\"7354.1874\" y=\"-74.8\" font-family=\"Times,serif\" font-size=\"14.00\" fill=\"#000000\">No</text>\n</g>\n<!-- 112 -->\n<g id=\"node113\" class=\"node\">\n<title>112</title>\n<polygon fill=\"none\" stroke=\"#ff0000\" points=\"7452.1874,-53 7369.1874,-53 7369.1874,0 7452.1874,0 7452.1874,-53\"/>\n<text text-anchor=\"middle\" x=\"7410.6874\" y=\"-37.8\" font-family=\"Times,serif\" font-size=\"14.00\" fill=\"#000000\">val = 0.188</text>\n<text text-anchor=\"middle\" x=\"7410.6874\" y=\"-22.8\" font-family=\"Times,serif\" font-size=\"14.00\" fill=\"#000000\">val = 0.152</text>\n<text text-anchor=\"middle\" x=\"7410.6874\" y=\"-7.8\" font-family=\"Times,serif\" font-size=\"14.00\" fill=\"#000000\">val = 0.000</text>\n</g>\n<!-- 55&#45;&gt;112 -->\n<g id=\"edge112\" class=\"edge\">\n<title>55&#45;&gt;112</title>\n<path fill=\"none\" stroke=\"#000000\" d=\"M7374.3639,-103.5866C7379.8422,-91.9604 7387.1056,-76.5458 7393.6969,-62.5577\"/>\n<polygon fill=\"#000000\" stroke=\"#000000\" points=\"7397.026,-63.7035 7398.1225,-53.1655 7390.6938,-60.7197 7397.026,-63.7035\"/>\n<text text-anchor=\"middle\" x=\"7400.1874\" y=\"-74.8\" font-family=\"Times,serif\" font-size=\"14.00\" fill=\"#000000\">Yes</text>\n</g>\n<!-- 113 -->\n<g id=\"node114\" class=\"node\">\n<title>113</title>\n<polygon fill=\"none\" stroke=\"#ff0000\" points=\"7652.6874,-53 7564.6874,-53 7564.6874,0 7652.6874,0 7652.6874,-53\"/>\n<text text-anchor=\"middle\" x=\"7608.6874\" y=\"-37.8\" font-family=\"Times,serif\" font-size=\"14.00\" fill=\"#000000\">val = 0.039</text>\n<text text-anchor=\"middle\" x=\"7608.6874\" y=\"-22.8\" font-family=\"Times,serif\" font-size=\"14.00\" fill=\"#000000\">val = &#45;0.034</text>\n<text text-anchor=\"middle\" x=\"7608.6874\" y=\"-7.8\" font-family=\"Times,serif\" font-size=\"14.00\" fill=\"#000000\">val = 0.000</text>\n</g>\n<!-- 56&#45;&gt;113 -->\n<g id=\"edge113\" class=\"edge\">\n<title>56&#45;&gt;113</title>\n<path fill=\"none\" stroke=\"#000000\" d=\"M7655.7781,-104.0372C7648.5496,-92.1351 7638.8244,-76.122 7630.0888,-61.7385\"/>\n<polygon fill=\"#000000\" stroke=\"#000000\" points=\"7632.9913,-59.7749 7624.8087,-53.0446 7627.0082,-63.4086 7632.9913,-59.7749\"/>\n<text text-anchor=\"middle\" x=\"7654.1874\" y=\"-74.8\" font-family=\"Times,serif\" font-size=\"14.00\" fill=\"#000000\">No</text>\n</g>\n<!-- 114 -->\n<g id=\"node115\" class=\"node\">\n<title>114</title>\n<polygon fill=\"none\" stroke=\"#ff0000\" points=\"7758.6874,-53 7670.6874,-53 7670.6874,0 7758.6874,0 7758.6874,-53\"/>\n<text text-anchor=\"middle\" x=\"7714.6874\" y=\"-37.8\" font-family=\"Times,serif\" font-size=\"14.00\" fill=\"#000000\">val = 0.113</text>\n<text text-anchor=\"middle\" x=\"7714.6874\" y=\"-22.8\" font-family=\"Times,serif\" font-size=\"14.00\" fill=\"#000000\">val = &#45;0.023</text>\n<text text-anchor=\"middle\" x=\"7714.6874\" y=\"-7.8\" font-family=\"Times,serif\" font-size=\"14.00\" fill=\"#000000\">val = 0.000</text>\n</g>\n<!-- 56&#45;&gt;114 -->\n<g id=\"edge114\" class=\"edge\">\n<title>56&#45;&gt;114</title>\n<path fill=\"none\" stroke=\"#000000\" d=\"M7675.9423,-103.5866C7681.842,-91.8486 7689.6827,-76.249 7696.7668,-62.1546\"/>\n<polygon fill=\"#000000\" stroke=\"#000000\" points=\"7699.9212,-63.6723 7701.2848,-53.1655 7693.6667,-60.5286 7699.9212,-63.6723\"/>\n<text text-anchor=\"middle\" x=\"7703.1874\" y=\"-74.8\" font-family=\"Times,serif\" font-size=\"14.00\" fill=\"#000000\">Yes</text>\n</g>\n<!-- 115 -->\n<g id=\"node116\" class=\"node\">\n<title>115</title>\n<polygon fill=\"none\" stroke=\"#ff0000\" points=\"7957.1874,-53 7874.1874,-53 7874.1874,0 7957.1874,0 7957.1874,-53\"/>\n<text text-anchor=\"middle\" x=\"7915.6874\" y=\"-37.8\" font-family=\"Times,serif\" font-size=\"14.00\" fill=\"#000000\">val = 0.292</text>\n<text text-anchor=\"middle\" x=\"7915.6874\" y=\"-22.8\" font-family=\"Times,serif\" font-size=\"14.00\" fill=\"#000000\">val = 0.063</text>\n<text text-anchor=\"middle\" x=\"7915.6874\" y=\"-7.8\" font-family=\"Times,serif\" font-size=\"14.00\" fill=\"#000000\">val = 0.000</text>\n</g>\n<!-- 57&#45;&gt;115 -->\n<g id=\"edge115\" class=\"edge\">\n<title>57&#45;&gt;115</title>\n<path fill=\"none\" stroke=\"#000000\" d=\"M7957.9066,-104.0372C7951.4871,-92.2474 7942.8711,-76.4238 7935.0968,-62.146\"/>\n<polygon fill=\"#000000\" stroke=\"#000000\" points=\"7937.997,-60.1533 7930.141,-53.0446 7931.8493,-63.5008 7937.997,-60.1533\"/>\n<text text-anchor=\"middle\" x=\"7958.1874\" y=\"-74.8\" font-family=\"Times,serif\" font-size=\"14.00\" fill=\"#000000\">No</text>\n</g>\n<!-- 116 -->\n<g id=\"node117\" class=\"node\">\n<title>116</title>\n<polygon fill=\"none\" stroke=\"#ff0000\" points=\"8058.1874,-53 7975.1874,-53 7975.1874,0 8058.1874,0 8058.1874,-53\"/>\n<text text-anchor=\"middle\" x=\"8016.6874\" y=\"-37.8\" font-family=\"Times,serif\" font-size=\"14.00\" fill=\"#000000\">val = 0.295</text>\n<text text-anchor=\"middle\" x=\"8016.6874\" y=\"-22.8\" font-family=\"Times,serif\" font-size=\"14.00\" fill=\"#000000\">val = 0.064</text>\n<text text-anchor=\"middle\" x=\"8016.6874\" y=\"-7.8\" font-family=\"Times,serif\" font-size=\"14.00\" fill=\"#000000\">val = 0.000</text>\n</g>\n<!-- 57&#45;&gt;116 -->\n<g id=\"edge116\" class=\"edge\">\n<title>57&#45;&gt;116</title>\n<path fill=\"none\" stroke=\"#000000\" d=\"M7976.904,-104.0372C7982.9532,-92.2474 7991.0721,-76.4238 7998.3979,-62.146\"/>\n<polygon fill=\"#000000\" stroke=\"#000000\" points=\"8001.6166,-63.5396 8003.0677,-53.0446 7995.3886,-60.344 8001.6166,-63.5396\"/>\n<text text-anchor=\"middle\" x=\"8004.1874\" y=\"-74.8\" font-family=\"Times,serif\" font-size=\"14.00\" fill=\"#000000\">Yes</text>\n</g>\n<!-- 117 -->\n<g id=\"node118\" class=\"node\">\n<title>117</title>\n<polygon fill=\"none\" stroke=\"#ff0000\" points=\"8258.1874,-53 8175.1874,-53 8175.1874,0 8258.1874,0 8258.1874,-53\"/>\n<text text-anchor=\"middle\" x=\"8216.6874\" y=\"-37.8\" font-family=\"Times,serif\" font-size=\"14.00\" fill=\"#000000\">val = 0.000</text>\n<text text-anchor=\"middle\" x=\"8216.6874\" y=\"-22.8\" font-family=\"Times,serif\" font-size=\"14.00\" fill=\"#000000\">val = 0.000</text>\n<text text-anchor=\"middle\" x=\"8216.6874\" y=\"-7.8\" font-family=\"Times,serif\" font-size=\"14.00\" fill=\"#000000\">val = 0.000</text>\n</g>\n<!-- 58&#45;&gt;117 -->\n<g id=\"edge117\" class=\"edge\">\n<title>58&#45;&gt;117</title>\n<path fill=\"none\" stroke=\"#000000\" d=\"M8258.9066,-104.0372C8252.4871,-92.2474 8243.8711,-76.4238 8236.0968,-62.146\"/>\n<polygon fill=\"#000000\" stroke=\"#000000\" points=\"8238.997,-60.1533 8231.141,-53.0446 8232.8493,-63.5008 8238.997,-60.1533\"/>\n<text text-anchor=\"middle\" x=\"8259.1874\" y=\"-74.8\" font-family=\"Times,serif\" font-size=\"14.00\" fill=\"#000000\">No</text>\n</g>\n<!-- 118 -->\n<g id=\"node119\" class=\"node\">\n<title>118</title>\n<polygon fill=\"none\" stroke=\"#ff0000\" points=\"8359.1874,-53 8276.1874,-53 8276.1874,0 8359.1874,0 8359.1874,-53\"/>\n<text text-anchor=\"middle\" x=\"8317.6874\" y=\"-37.8\" font-family=\"Times,serif\" font-size=\"14.00\" fill=\"#000000\">val = 0.000</text>\n<text text-anchor=\"middle\" x=\"8317.6874\" y=\"-22.8\" font-family=\"Times,serif\" font-size=\"14.00\" fill=\"#000000\">val = 0.000</text>\n<text text-anchor=\"middle\" x=\"8317.6874\" y=\"-7.8\" font-family=\"Times,serif\" font-size=\"14.00\" fill=\"#000000\">val = 0.000</text>\n</g>\n<!-- 58&#45;&gt;118 -->\n<g id=\"edge118\" class=\"edge\">\n<title>58&#45;&gt;118</title>\n<path fill=\"none\" stroke=\"#000000\" d=\"M8277.904,-104.0372C8283.9532,-92.2474 8292.0721,-76.4238 8299.3979,-62.146\"/>\n<polygon fill=\"#000000\" stroke=\"#000000\" points=\"8302.6166,-63.5396 8304.0677,-53.0446 8296.3886,-60.344 8302.6166,-63.5396\"/>\n<text text-anchor=\"middle\" x=\"8305.1874\" y=\"-74.8\" font-family=\"Times,serif\" font-size=\"14.00\" fill=\"#000000\">Yes</text>\n</g>\n<!-- 119 -->\n<g id=\"node120\" class=\"node\">\n<title>119</title>\n<polygon fill=\"none\" stroke=\"#ff0000\" points=\"8559.1874,-53 8476.1874,-53 8476.1874,0 8559.1874,0 8559.1874,-53\"/>\n<text text-anchor=\"middle\" x=\"8517.6874\" y=\"-37.8\" font-family=\"Times,serif\" font-size=\"14.00\" fill=\"#000000\">val = 0.000</text>\n<text text-anchor=\"middle\" x=\"8517.6874\" y=\"-22.8\" font-family=\"Times,serif\" font-size=\"14.00\" fill=\"#000000\">val = 0.000</text>\n<text text-anchor=\"middle\" x=\"8517.6874\" y=\"-7.8\" font-family=\"Times,serif\" font-size=\"14.00\" fill=\"#000000\">val = 0.000</text>\n</g>\n<!-- 59&#45;&gt;119 -->\n<g id=\"edge119\" class=\"edge\">\n<title>59&#45;&gt;119</title>\n<path fill=\"none\" stroke=\"#000000\" d=\"M8559.9066,-104.0372C8553.4871,-92.2474 8544.8711,-76.4238 8537.0968,-62.146\"/>\n<polygon fill=\"#000000\" stroke=\"#000000\" points=\"8539.997,-60.1533 8532.141,-53.0446 8533.8493,-63.5008 8539.997,-60.1533\"/>\n<text text-anchor=\"middle\" x=\"8560.1874\" y=\"-74.8\" font-family=\"Times,serif\" font-size=\"14.00\" fill=\"#000000\">No</text>\n</g>\n<!-- 120 -->\n<g id=\"node121\" class=\"node\">\n<title>120</title>\n<polygon fill=\"none\" stroke=\"#ff0000\" points=\"8660.1874,-53 8577.1874,-53 8577.1874,0 8660.1874,0 8660.1874,-53\"/>\n<text text-anchor=\"middle\" x=\"8618.6874\" y=\"-37.8\" font-family=\"Times,serif\" font-size=\"14.00\" fill=\"#000000\">val = 0.000</text>\n<text text-anchor=\"middle\" x=\"8618.6874\" y=\"-22.8\" font-family=\"Times,serif\" font-size=\"14.00\" fill=\"#000000\">val = 0.000</text>\n<text text-anchor=\"middle\" x=\"8618.6874\" y=\"-7.8\" font-family=\"Times,serif\" font-size=\"14.00\" fill=\"#000000\">val = 0.000</text>\n</g>\n<!-- 59&#45;&gt;120 -->\n<g id=\"edge120\" class=\"edge\">\n<title>59&#45;&gt;120</title>\n<path fill=\"none\" stroke=\"#000000\" d=\"M8578.904,-104.0372C8584.9532,-92.2474 8593.0721,-76.4238 8600.3979,-62.146\"/>\n<polygon fill=\"#000000\" stroke=\"#000000\" points=\"8603.6166,-63.5396 8605.0677,-53.0446 8597.3886,-60.344 8603.6166,-63.5396\"/>\n<text text-anchor=\"middle\" x=\"8606.1874\" y=\"-74.8\" font-family=\"Times,serif\" font-size=\"14.00\" fill=\"#000000\">Yes</text>\n</g>\n<!-- 121 -->\n<g id=\"node122\" class=\"node\">\n<title>121</title>\n<polygon fill=\"none\" stroke=\"#ff0000\" points=\"8860.1874,-53 8777.1874,-53 8777.1874,0 8860.1874,0 8860.1874,-53\"/>\n<text text-anchor=\"middle\" x=\"8818.6874\" y=\"-37.8\" font-family=\"Times,serif\" font-size=\"14.00\" fill=\"#000000\">val = 0.000</text>\n<text text-anchor=\"middle\" x=\"8818.6874\" y=\"-22.8\" font-family=\"Times,serif\" font-size=\"14.00\" fill=\"#000000\">val = 0.000</text>\n<text text-anchor=\"middle\" x=\"8818.6874\" y=\"-7.8\" font-family=\"Times,serif\" font-size=\"14.00\" fill=\"#000000\">val = 0.000</text>\n</g>\n<!-- 60&#45;&gt;121 -->\n<g id=\"edge121\" class=\"edge\">\n<title>60&#45;&gt;121</title>\n<path fill=\"none\" stroke=\"#000000\" d=\"M8860.9066,-104.0372C8854.4871,-92.2474 8845.8711,-76.4238 8838.0968,-62.146\"/>\n<polygon fill=\"#000000\" stroke=\"#000000\" points=\"8840.997,-60.1533 8833.141,-53.0446 8834.8493,-63.5008 8840.997,-60.1533\"/>\n<text text-anchor=\"middle\" x=\"8861.1874\" y=\"-74.8\" font-family=\"Times,serif\" font-size=\"14.00\" fill=\"#000000\">No</text>\n</g>\n<!-- 122 -->\n<g id=\"node123\" class=\"node\">\n<title>122</title>\n<polygon fill=\"none\" stroke=\"#ff0000\" points=\"8961.1874,-53 8878.1874,-53 8878.1874,0 8961.1874,0 8961.1874,-53\"/>\n<text text-anchor=\"middle\" x=\"8919.6874\" y=\"-37.8\" font-family=\"Times,serif\" font-size=\"14.00\" fill=\"#000000\">val = 0.000</text>\n<text text-anchor=\"middle\" x=\"8919.6874\" y=\"-22.8\" font-family=\"Times,serif\" font-size=\"14.00\" fill=\"#000000\">val = 0.000</text>\n<text text-anchor=\"middle\" x=\"8919.6874\" y=\"-7.8\" font-family=\"Times,serif\" font-size=\"14.00\" fill=\"#000000\">val = 0.000</text>\n</g>\n<!-- 60&#45;&gt;122 -->\n<g id=\"edge122\" class=\"edge\">\n<title>60&#45;&gt;122</title>\n<path fill=\"none\" stroke=\"#000000\" d=\"M8879.904,-104.0372C8885.9532,-92.2474 8894.0721,-76.4238 8901.3979,-62.146\"/>\n<polygon fill=\"#000000\" stroke=\"#000000\" points=\"8904.6166,-63.5396 8906.0677,-53.0446 8898.3886,-60.344 8904.6166,-63.5396\"/>\n<text text-anchor=\"middle\" x=\"8907.1874\" y=\"-74.8\" font-family=\"Times,serif\" font-size=\"14.00\" fill=\"#000000\">Yes</text>\n</g>\n<!-- 123 -->\n<g id=\"node124\" class=\"node\">\n<title>123</title>\n<polygon fill=\"none\" stroke=\"#ff0000\" points=\"9161.1874,-53 9078.1874,-53 9078.1874,0 9161.1874,0 9161.1874,-53\"/>\n<text text-anchor=\"middle\" x=\"9119.6874\" y=\"-37.8\" font-family=\"Times,serif\" font-size=\"14.00\" fill=\"#000000\">val = 0.000</text>\n<text text-anchor=\"middle\" x=\"9119.6874\" y=\"-22.8\" font-family=\"Times,serif\" font-size=\"14.00\" fill=\"#000000\">val = 0.000</text>\n<text text-anchor=\"middle\" x=\"9119.6874\" y=\"-7.8\" font-family=\"Times,serif\" font-size=\"14.00\" fill=\"#000000\">val = 0.000</text>\n</g>\n<!-- 61&#45;&gt;123 -->\n<g id=\"edge123\" class=\"edge\">\n<title>61&#45;&gt;123</title>\n<path fill=\"none\" stroke=\"#000000\" d=\"M9161.9066,-104.0372C9155.4871,-92.2474 9146.8711,-76.4238 9139.0968,-62.146\"/>\n<polygon fill=\"#000000\" stroke=\"#000000\" points=\"9141.997,-60.1533 9134.141,-53.0446 9135.8493,-63.5008 9141.997,-60.1533\"/>\n<text text-anchor=\"middle\" x=\"9162.1874\" y=\"-74.8\" font-family=\"Times,serif\" font-size=\"14.00\" fill=\"#000000\">No</text>\n</g>\n<!-- 124 -->\n<g id=\"node125\" class=\"node\">\n<title>124</title>\n<polygon fill=\"none\" stroke=\"#ff0000\" points=\"9262.1874,-53 9179.1874,-53 9179.1874,0 9262.1874,0 9262.1874,-53\"/>\n<text text-anchor=\"middle\" x=\"9220.6874\" y=\"-37.8\" font-family=\"Times,serif\" font-size=\"14.00\" fill=\"#000000\">val = 0.000</text>\n<text text-anchor=\"middle\" x=\"9220.6874\" y=\"-22.8\" font-family=\"Times,serif\" font-size=\"14.00\" fill=\"#000000\">val = 0.000</text>\n<text text-anchor=\"middle\" x=\"9220.6874\" y=\"-7.8\" font-family=\"Times,serif\" font-size=\"14.00\" fill=\"#000000\">val = 0.000</text>\n</g>\n<!-- 61&#45;&gt;124 -->\n<g id=\"edge124\" class=\"edge\">\n<title>61&#45;&gt;124</title>\n<path fill=\"none\" stroke=\"#000000\" d=\"M9180.904,-104.0372C9186.9532,-92.2474 9195.0721,-76.4238 9202.3979,-62.146\"/>\n<polygon fill=\"#000000\" stroke=\"#000000\" points=\"9205.6166,-63.5396 9207.0677,-53.0446 9199.3886,-60.344 9205.6166,-63.5396\"/>\n<text text-anchor=\"middle\" x=\"9208.1874\" y=\"-74.8\" font-family=\"Times,serif\" font-size=\"14.00\" fill=\"#000000\">Yes</text>\n</g>\n<!-- 125 -->\n<g id=\"node126\" class=\"node\">\n<title>125</title>\n<polygon fill=\"none\" stroke=\"#ff0000\" points=\"9463.1874,-53 9380.1874,-53 9380.1874,0 9463.1874,0 9463.1874,-53\"/>\n<text text-anchor=\"middle\" x=\"9421.6874\" y=\"-37.8\" font-family=\"Times,serif\" font-size=\"14.00\" fill=\"#000000\">val = 0.000</text>\n<text text-anchor=\"middle\" x=\"9421.6874\" y=\"-22.8\" font-family=\"Times,serif\" font-size=\"14.00\" fill=\"#000000\">val = 0.000</text>\n<text text-anchor=\"middle\" x=\"9421.6874\" y=\"-7.8\" font-family=\"Times,serif\" font-size=\"14.00\" fill=\"#000000\">val = 0.000</text>\n</g>\n<!-- 62&#45;&gt;125 -->\n<g id=\"edge125\" class=\"edge\">\n<title>62&#45;&gt;125</title>\n<path fill=\"none\" stroke=\"#000000\" d=\"M9463.0947,-104.0372C9456.7986,-92.2474 9448.3483,-76.4238 9440.7235,-62.146\"/>\n<polygon fill=\"#000000\" stroke=\"#000000\" points=\"9443.6611,-60.2168 9435.8631,-53.0446 9437.4865,-63.5143 9443.6611,-60.2168\"/>\n<text text-anchor=\"middle\" x=\"9463.1874\" y=\"-74.8\" font-family=\"Times,serif\" font-size=\"14.00\" fill=\"#000000\">No</text>\n</g>\n<!-- 126 -->\n<g id=\"node127\" class=\"node\">\n<title>126</title>\n<polygon fill=\"none\" stroke=\"#ff0000\" points=\"9564.1874,-53 9481.1874,-53 9481.1874,0 9564.1874,0 9564.1874,-53\"/>\n<text text-anchor=\"middle\" x=\"9522.6874\" y=\"-37.8\" font-family=\"Times,serif\" font-size=\"14.00\" fill=\"#000000\">val = 0.000</text>\n<text text-anchor=\"middle\" x=\"9522.6874\" y=\"-22.8\" font-family=\"Times,serif\" font-size=\"14.00\" fill=\"#000000\">val = 0.000</text>\n<text text-anchor=\"middle\" x=\"9522.6874\" y=\"-7.8\" font-family=\"Times,serif\" font-size=\"14.00\" fill=\"#000000\">val = 0.000</text>\n</g>\n<!-- 62&#45;&gt;126 -->\n<g id=\"edge126\" class=\"edge\">\n<title>62&#45;&gt;126</title>\n<path fill=\"none\" stroke=\"#000000\" d=\"M9482.092,-104.0372C9488.2647,-92.2474 9496.5493,-76.4238 9504.0246,-62.146\"/>\n<polygon fill=\"#000000\" stroke=\"#000000\" points=\"9507.2521,-63.5273 9508.7897,-53.0446 9501.0506,-60.2804 9507.2521,-63.5273\"/>\n<text text-anchor=\"middle\" x=\"9509.1874\" y=\"-74.8\" font-family=\"Times,serif\" font-size=\"14.00\" fill=\"#000000\">Yes</text>\n</g>\n</g>\n</svg>\n"
     },
     "metadata": {},
     "execution_count": 42
    }
   ]
  },
  {
   "cell_type": "markdown",
   "source": [
    "# 5. permutation_importance"
   ],
   "metadata": {
    "id": "z1Gb3ulYN5jj"
   }
  },
  {
   "cell_type": "code",
   "source": [
    "!pip install eli5\n",
    "import eli5\n",
    "from eli5.sklearn import PermutationImportance\n",
    "\n",
    "def permutation_importance(model,x_test,y_test):\n",
    "    \n",
    "    perm = PermutationImportance(model, random_state=3).fit(x_test, y_test)\n",
    "    eli5.show_weights(perm, feature_names = x_test.columns.tolist(), top=100)"
   ],
   "metadata": {
    "id": "6fsJWzuw9l2J"
   },
   "execution_count": null,
   "outputs": []
  },
  {
   "cell_type": "markdown",
   "source": [
    "# 6. plot_feature_importance"
   ],
   "metadata": {
    "id": "6R42RdOdiThI"
   }
  },
  {
   "cell_type": "code",
   "execution_count": null,
   "metadata": {
    "id": "17HHvmxPrug8"
   },
   "outputs": [],
   "source": [
    "import matplotlib.pyplot as plt\n",
    "import seaborn as sns\n",
    "\n",
    "def plot_feature_importance(model,col_names,model_type='',importance_value=[]):\n",
    "    '''\n",
    "    모델의 importance plot하는 함수\n",
    "\n",
    "    params:\n",
    "      model : 출력하고자하는 모델\n",
    "      col_name : features 이름 리스트\n",
    "      model_type : plt title 출력을 위해 모델 이름 string입력\n",
    "\n",
    "    ex)\n",
    "    plot_feature_importance(model,x_test.columns,'CATBOOST',importance_value=model.get_feature_importance())\n",
    "    plot_feature_importance(model,x_test.columns,'CATBOOST')\n",
    "\n",
    "    '''\n",
    "    \n",
    "    importance = model.get_feature_importance()\n",
    "\n",
    "    #importance_value를 대신 넣어주면 해당 값으로 출력\n",
    "    if len(importance_value) !=0:\n",
    "      importance = importance_value\n",
    "    \n",
    "    feature_importance = np.array(importance)\n",
    "    feature_names = np.array(col_names)\n",
    "    \n",
    "    data={'feature_names':feature_names,'feature_importance':feature_importance}\n",
    "    fi_df = pd.DataFrame(data)\n",
    "    \n",
    "    fi_df.sort_values(by=['feature_importance'], ascending=False,inplace=True)\n",
    "\n",
    "    plt.figure(figsize=(10,8))\n",
    "\n",
    "    sns.barplot(x=fi_df['feature_importance'], y=fi_df['feature_names'])\n",
    "\n",
    "    plt.title(model_type + ' Feature Importance')\n",
    "    plt.xlabel('Feature Importance')\n",
    "    plt.ylabel('Feature Names')"
   ]
  },
  {
   "cell_type": "code",
   "execution_count": null,
   "metadata": {
    "id": "rJnB96Sarw00"
   },
   "outputs": [],
   "source": []
  },
  {
   "cell_type": "markdown",
   "source": [
    "# 베이지안 옵티마이저"
   ],
   "metadata": {
    "id": "oAGXNhcXHfMT"
   }
  },
  {
   "cell_type": "markdown",
   "source": [
    "- https://wooono.tistory.com/102\n",
    "- https://data-newbie.tistory.com/159"
   ],
   "metadata": {
    "id": "Cad4gl3CIQ1s"
   }
  },
  {
   "cell_type": "code",
   "source": [
    "def catboost_cv(bagging_temperature,depth,learning_rate,min_data_in_leaf,l2_leaf_reg,border_count ):\n",
    "    model = CatBoostClassifier( \n",
    "        \n",
    "        metric_period = 100,            # 중간결과 출력\n",
    "        early_stopping_rounds = 100,     # 중간 종료\n",
    "        # task_type = 'GPU',    # CPU/GPU 사용\n",
    "\n",
    "\n",
    "      \n",
    "       bagging_temperature = bagging_temperature\n",
    "       ,depth = int(depth)\n",
    "       ,learning_rate = learning_rate\n",
    "       ,min_data_in_leaf = min_data_in_leaf\n",
    "      #  ,max_leaves =int(max_leaves)\n",
    "       ,l2_leaf_reg = l2_leaf_reg\n",
    "       ,border_count = int(border_count)\n",
    "                               )\n",
    "    \n",
    "    #데이터는 전역변수여야함\n",
    "    model.fit(x_train,y_train, eval_set=(x_test,y_test))\n",
    "\n",
    "    test_acc = accuracy_score(list(model.predict(x_test)),y_test)\n",
    "\n",
    "    # #test_acc 저장\n",
    "    # wandb.log({'best_score':test_acc})  \n",
    "    \n",
    "    # #파라미터 저장\n",
    "    # all_param = model.get_all_params()\n",
    "    # data =pd.DataFrame({'param':all_param.keys(),'value':all_param.values()})\n",
    "    # data['value']=data['value'].astype('string')\n",
    "    # wandb.log({'param':data})    \n",
    "    \n",
    "    print('===================test 정확도 : ',test_acc,'\\n\\n')\n",
    "    return  test_acc"
   ],
   "metadata": {
    "id": "enc2vTfgEYLC"
   },
   "execution_count": null,
   "outputs": []
  },
  {
   "cell_type": "code",
   "source": [
    "#  bayesian-optimization 라이브러리의 BayesianOptimization 클래스 import\n",
    "!pip install bayesian-optimization \n",
    "from bayes_opt import BayesianOptimization\n",
    "import numpy as np\n",
    "\n",
    "# 실험해보고자하는 hyperparameter 집합\n",
    "pbounds = {               \n",
    "                        #  'grow_policy' : ['Depthwise','Lossguide'],\n",
    "                          'bagging_temperature': (0, 100),\n",
    "                          'depth': (7, 15) ,\n",
    "                          \"learning_rate\" : (0.01,0.2) , \n",
    "                          \"min_data_in_leaf\" : (1,5) , \n",
    "                          # 'max_leaves' : (100,200)  ,\n",
    "                          'l2_leaf_reg': (100, 100)  ,\n",
    "                          'border_count': (100, 300) ,\n",
    "                          \n",
    "                          }\n",
    "\n",
    "# Bayesian optimization 객체 생성\n",
    "# f : 탐색 대상 함수, pbounds : hyperparameter 집합\n",
    "# verbose = 2 항상 출력, verbose = 1 최댓값일 때 출력, verbose = 0 출력 안함\n",
    "# random_state : Bayesian Optimization 상의 랜덤성이 존재하는 부분을 통제 \n",
    "bo=BayesianOptimization(f=catboost_cv, pbounds=pbounds, verbose=2, random_state=1 )    \n",
    "\n",
    "# 메소드를 이용해 최대화 과정 수행\n",
    "# init_points :  초기 Random Search 갯수\n",
    "# n_iter : 반복 횟수 (몇개의 입력값-함숫값 점들을 확인할지! 많을 수록 정확한 값을 얻을 수 있다.)\n",
    "# acq : Acquisition Function들 중 Expected Improvement(EI) 를 사용\n",
    "# xi : exploration 강도 (기본값은 0.0)\n",
    "bo.maximize(init_points=2, n_iter=10, acq='ei', xi=0.01)\n",
    "\n",
    "# ‘iter’는 반복 회차, ‘target’은 목적 함수의 값, 나머지는 입력값을 나타냅니다. \n",
    "# 현재 회차 이전까지 조사된 함숫값들과 비교하여, 현재 회차에 최댓값이 얻어진 경우, \n",
    "# bayesian-optimization 라이브러리는 이를 자동으로 다른 색 글자로 표시하는 것을 확인할 수 있습니다\n",
    "\n",
    "# 찾은 파라미터 값 확인\n",
    "print(bo.max)\n"
   ],
   "metadata": {
    "colab": {
     "base_uri": "https://localhost:8080/",
     "height": 1000,
     "referenced_widgets": [
      "c567301d0fbe40168a6c8cd3c3141454",
      "b829fdc913e24c51ade425e879c72256",
      "c79ff089a5ef4b489dac02f5db86a812",
      "719e262f9f694748849c3289461ddad7",
      "4afa0daeddcd4fdf8fc183cbfaffb40d",
      "a43e035583f749078c38ff95e75a183d",
      "e6e77a952f7c4654b3b4e246e7db2440",
      "bb7aa64db2204388ad170e76230c3fee"
     ]
    },
    "id": "nHfzsz00EPah",
    "outputId": "2d912ff7-85cb-413c-c485-113f1f3be9a7"
   },
   "execution_count": null,
   "outputs": [
    {
     "output_type": "stream",
     "name": "stdout",
     "text": [
      "Looking in indexes: https://pypi.org/simple, https://us-python.pkg.dev/colab-wheels/public/simple/\n",
      "Collecting bayesian-optimization\n",
      "  Downloading bayesian_optimization-1.3.1-py3-none-any.whl (16 kB)\n",
      "Requirement already satisfied: numpy>=1.9.0 in /usr/local/lib/python3.7/dist-packages (from bayesian-optimization) (1.21.6)\n",
      "Requirement already satisfied: scipy>=1.0.0 in /usr/local/lib/python3.7/dist-packages (from bayesian-optimization) (1.7.3)\n",
      "Requirement already satisfied: scikit-learn>=0.18.0 in /usr/local/lib/python3.7/dist-packages (from bayesian-optimization) (1.0.2)\n",
      "Requirement already satisfied: threadpoolctl>=2.0.0 in /usr/local/lib/python3.7/dist-packages (from scikit-learn>=0.18.0->bayesian-optimization) (3.1.0)\n",
      "Requirement already satisfied: joblib>=0.11 in /usr/local/lib/python3.7/dist-packages (from scikit-learn>=0.18.0->bayesian-optimization) (1.2.0)\n",
      "Installing collected packages: bayesian-optimization\n",
      "Successfully installed bayesian-optimization-1.3.1\n"
     ]
    },
    {
     "output_type": "display_data",
     "data": {
      "text/plain": [
       "<IPython.core.display.HTML object>"
      ],
      "text/html": [
       "Finishing last run (ID:328woio1) before initializing another..."
      ]
     },
     "metadata": {}
    },
    {
     "output_type": "display_data",
     "data": {
      "text/plain": [
       "<IPython.core.display.HTML object>"
      ],
      "text/html": [
       "Waiting for W&B process to finish... <strong style=\"color:green\">(success).</strong>"
      ]
     },
     "metadata": {}
    },
    {
     "output_type": "display_data",
     "data": {
      "text/plain": [
       "VBox(children=(Label(value='0.003 MB of 0.012 MB uploaded (0.000 MB deduped)\\r'), FloatProgress(value=0.288828…"
      ],
      "application/vnd.jupyter.widget-view+json": {
       "version_major": 2,
       "version_minor": 0,
       "model_id": "c567301d0fbe40168a6c8cd3c3141454"
      }
     },
     "metadata": {}
    },
    {
     "output_type": "display_data",
     "data": {
      "text/plain": [
       "<IPython.core.display.HTML object>"
      ],
      "text/html": [
       "Synced <strong style=\"color:#cdcd00\">test</strong>: <a href=\"https://wandb.ai/data_dive/catboost-project-baysian/runs/328woio1\" target=\"_blank\">https://wandb.ai/data_dive/catboost-project-baysian/runs/328woio1</a><br/>Synced 5 W&B file(s), 1 media file(s), 1 artifact file(s) and 0 other file(s)"
      ]
     },
     "metadata": {}
    },
    {
     "output_type": "display_data",
     "data": {
      "text/plain": [
       "<IPython.core.display.HTML object>"
      ],
      "text/html": [
       "Find logs at: <code>./wandb/run-20221117_051531-328woio1/logs</code>"
      ]
     },
     "metadata": {}
    },
    {
     "output_type": "display_data",
     "data": {
      "text/plain": [
       "<IPython.core.display.HTML object>"
      ],
      "text/html": [
       "Successfully finished last run (ID:328woio1). Initializing new run:<br/>"
      ]
     },
     "metadata": {}
    },
    {
     "output_type": "display_data",
     "data": {
      "text/plain": [
       "<IPython.core.display.HTML object>"
      ],
      "text/html": [
       "Tracking run with wandb version 0.13.5"
      ]
     },
     "metadata": {}
    },
    {
     "output_type": "display_data",
     "data": {
      "text/plain": [
       "<IPython.core.display.HTML object>"
      ],
      "text/html": [
       "Run data is saved locally in <code>/content/wandb/run-20221117_051907-21zdmfqs</code>"
      ]
     },
     "metadata": {}
    },
    {
     "output_type": "display_data",
     "data": {
      "text/plain": [
       "<IPython.core.display.HTML object>"
      ],
      "text/html": [
       "Syncing run <strong><a href=\"https://wandb.ai/data_dive/catboost-project-baysian/runs/21zdmfqs\" target=\"_blank\">baysian_11/17 14:19</a></strong> to <a href=\"https://wandb.ai/data_dive/catboost-project-baysian\" target=\"_blank\">Weights & Biases</a> (<a href=\"https://wandb.me/run\" target=\"_blank\">docs</a>)<br/>"
      ]
     },
     "metadata": {}
    },
    {
     "output_type": "stream",
     "name": "stdout",
     "text": [
      "|   iter    |  target   | baggin... | border... |   depth   | l2_lea... | learni... | min_da... |\n",
      "-------------------------------------------------------------------------------------------------\n",
      "0:\tlearn: 1.0909967\ttest: 1.0917508\tbest: 1.0917508 (0)\ttotal: 23.3ms\tremaining: 23.2s\n"
     ]
    },
    {
     "output_type": "stream",
     "name": "stderr",
     "text": [
      "Warning: Overfitting detector is active, thus evaluation metric is calculated on every iteration. 'metric_period' is ignored for evaluation metric.\n"
     ]
    },
    {
     "output_type": "stream",
     "name": "stdout",
     "text": [
      "100:\tlearn: 0.9971378\ttest: 1.0176349\tbest: 1.0168168 (58)\ttotal: 1.87s\tremaining: 16.7s\n",
      "Stopped by overfitting detector  (100 iterations wait)\n",
      "\n",
      "bestTest = 1.016816821\n",
      "bestIteration = 58\n",
      "\n",
      "Shrink model to first 59 iterations.\n",
      "===================test 정확도 :  0.5184 \n",
      "\n",
      "\n",
      "| \u001B[0m1        \u001B[0m | \u001B[0m0.5184   \u001B[0m | \u001B[0m41.7     \u001B[0m | \u001B[0m244.1    \u001B[0m | \u001B[0m7.001    \u001B[0m | \u001B[0m100.0    \u001B[0m | \u001B[0m0.03788  \u001B[0m | \u001B[0m1.369    \u001B[0m |\n"
     ]
    },
    {
     "output_type": "stream",
     "name": "stderr",
     "text": [
      "Warning: Overfitting detector is active, thus evaluation metric is calculated on every iteration. 'metric_period' is ignored for evaluation metric.\n"
     ]
    },
    {
     "output_type": "stream",
     "name": "stdout",
     "text": [
      "0:\tlearn: 1.0762457\ttest: 1.0801233\tbest: 1.0801233 (0)\ttotal: 142ms\tremaining: 2m 21s\n",
      "100:\tlearn: 0.6461497\ttest: 0.8177632\tbest: 0.8177632 (100)\ttotal: 13.6s\tremaining: 2m\n",
      "200:\tlearn: 0.5968186\ttest: 0.8008810\tbest: 0.8008810 (200)\ttotal: 28.9s\tremaining: 1m 54s\n",
      "300:\tlearn: 0.5684449\ttest: 0.7893210\tbest: 0.7893210 (300)\ttotal: 44.5s\tremaining: 1m 43s\n",
      "400:\tlearn: 0.5439465\ttest: 0.7785539\tbest: 0.7785539 (400)\ttotal: 57.9s\tremaining: 1m 26s\n",
      "500:\tlearn: 0.5229526\ttest: 0.7703118\tbest: 0.7703118 (500)\ttotal: 1m 11s\tremaining: 1m 11s\n",
      "600:\tlearn: 0.5053497\ttest: 0.7633641\tbest: 0.7633222 (599)\ttotal: 1m 26s\tremaining: 57.6s\n",
      "700:\tlearn: 0.4888838\ttest: 0.7572463\tbest: 0.7572463 (700)\ttotal: 1m 40s\tremaining: 42.7s\n",
      "800:\tlearn: 0.4735001\ttest: 0.7521947\tbest: 0.7521947 (800)\ttotal: 1m 53s\tremaining: 28.2s\n",
      "900:\tlearn: 0.4599417\ttest: 0.7479439\tbest: 0.7479439 (900)\ttotal: 2m 6s\tremaining: 13.9s\n",
      "999:\tlearn: 0.4471253\ttest: 0.7444260\tbest: 0.7444260 (999)\ttotal: 2m 23s\tremaining: 0us\n",
      "\n",
      "bestTest = 0.7444259597\n",
      "bestIteration = 999\n",
      "\n",
      "===================test 정확도 :  0.67268 \n",
      "\n",
      "\n",
      "| \u001B[95m2        \u001B[0m | \u001B[95m0.6727   \u001B[0m | \u001B[95m18.63    \u001B[0m | \u001B[95m169.1    \u001B[0m | \u001B[95m10.17    \u001B[0m | \u001B[95m100.0    \u001B[0m | \u001B[95m0.08965  \u001B[0m | \u001B[95m3.741    \u001B[0m |\n"
     ]
    },
    {
     "output_type": "stream",
     "name": "stderr",
     "text": [
      "Warning: Overfitting detector is active, thus evaluation metric is calculated on every iteration. 'metric_period' is ignored for evaluation metric.\n"
     ]
    },
    {
     "output_type": "stream",
     "name": "stdout",
     "text": [
      "0:\tlearn: 1.0836569\ttest: 1.0861777\tbest: 1.0861777 (0)\ttotal: 144ms\tremaining: 2m 23s\n",
      "100:\tlearn: 0.6762653\ttest: 0.8278603\tbest: 0.8278603 (100)\ttotal: 13.3s\tremaining: 1m 58s\n",
      "200:\tlearn: 0.6201517\ttest: 0.8100822\tbest: 0.8100822 (200)\ttotal: 26.5s\tremaining: 1m 45s\n",
      "300:\tlearn: 0.5910329\ttest: 0.7975258\tbest: 0.7975258 (300)\ttotal: 39.7s\tremaining: 1m 32s\n",
      "400:\tlearn: 0.5689359\ttest: 0.7874124\tbest: 0.7874124 (400)\ttotal: 54.9s\tremaining: 1m 22s\n",
      "500:\tlearn: 0.5501853\ttest: 0.7796618\tbest: 0.7796618 (500)\ttotal: 1m 8s\tremaining: 1m 7s\n",
      "600:\tlearn: 0.5347378\ttest: 0.7742526\tbest: 0.7742341 (599)\ttotal: 1m 21s\tremaining: 53.9s\n",
      "700:\tlearn: 0.5203605\ttest: 0.7684649\tbest: 0.7684649 (700)\ttotal: 1m 34s\tremaining: 40.2s\n",
      "800:\tlearn: 0.5070783\ttest: 0.7637811\tbest: 0.7637811 (800)\ttotal: 1m 49s\tremaining: 27.2s\n",
      "900:\tlearn: 0.4952083\ttest: 0.7599972\tbest: 0.7599972 (900)\ttotal: 2m 2s\tremaining: 13.5s\n",
      "999:\tlearn: 0.4836318\ttest: 0.7556552\tbest: 0.7556552 (999)\ttotal: 2m 15s\tremaining: 0us\n",
      "\n",
      "bestTest = 0.7556551746\n",
      "bestIteration = 999\n",
      "\n",
      "===================test 정확도 :  0.66556 \n",
      "\n",
      "\n",
      "| \u001B[0m3        \u001B[0m | \u001B[0m0.6656   \u001B[0m | \u001B[0m17.87    \u001B[0m | \u001B[0m168.3    \u001B[0m | \u001B[0m10.78    \u001B[0m | \u001B[0m100.0    \u001B[0m | \u001B[0m0.0656   \u001B[0m | \u001B[0m3.148    \u001B[0m |\n"
     ]
    },
    {
     "output_type": "stream",
     "name": "stderr",
     "text": [
      "Warning: Overfitting detector is active, thus evaluation metric is calculated on every iteration. 'metric_period' is ignored for evaluation metric.\n"
     ]
    },
    {
     "output_type": "stream",
     "name": "stdout",
     "text": [
      "0:\tlearn: 1.0889090\ttest: 1.0904622\tbest: 1.0904622 (0)\ttotal: 55.2ms\tremaining: 55.1s\n",
      "100:\tlearn: 0.7635924\ttest: 0.8581410\tbest: 0.8581410 (100)\ttotal: 4.41s\tremaining: 39.2s\n",
      "200:\tlearn: 0.6950964\ttest: 0.8322222\tbest: 0.8322222 (200)\ttotal: 8.65s\tremaining: 34.4s\n",
      "300:\tlearn: 0.6664358\ttest: 0.8244226\tbest: 0.8244226 (300)\ttotal: 12.9s\tremaining: 29.9s\n",
      "400:\tlearn: 0.6455018\ttest: 0.8185123\tbest: 0.8185123 (400)\ttotal: 17.1s\tremaining: 25.5s\n",
      "500:\tlearn: 0.6314452\ttest: 0.8111641\tbest: 0.8111585 (498)\ttotal: 21.3s\tremaining: 21.2s\n",
      "600:\tlearn: 0.6205492\ttest: 0.8059173\tbest: 0.8059173 (600)\ttotal: 26.9s\tremaining: 17.9s\n",
      "700:\tlearn: 0.6119284\ttest: 0.8009916\tbest: 0.8009916 (700)\ttotal: 32s\tremaining: 13.6s\n",
      "800:\tlearn: 0.6048421\ttest: 0.7966188\tbest: 0.7966188 (800)\ttotal: 36.3s\tremaining: 9.02s\n",
      "900:\tlearn: 0.5989988\ttest: 0.7932925\tbest: 0.7932925 (900)\ttotal: 40.5s\tremaining: 4.45s\n",
      "999:\tlearn: 0.5929586\ttest: 0.7905159\tbest: 0.7905159 (999)\ttotal: 44.7s\tremaining: 0us\n",
      "\n",
      "bestTest = 0.7905158613\n",
      "bestIteration = 999\n",
      "\n",
      "===================test 정확도 :  0.6424 \n",
      "\n",
      "\n",
      "| \u001B[0m4        \u001B[0m | \u001B[0m0.6424   \u001B[0m | \u001B[0m28.3     \u001B[0m | \u001B[0m177.1    \u001B[0m | \u001B[0m7.039    \u001B[0m | \u001B[0m100.0    \u001B[0m | \u001B[0m0.02628  \u001B[0m | \u001B[0m4.689    \u001B[0m |\n"
     ]
    },
    {
     "output_type": "stream",
     "name": "stderr",
     "text": [
      "Warning: Overfitting detector is active, thus evaluation metric is calculated on every iteration. 'metric_period' is ignored for evaluation metric.\n"
     ]
    },
    {
     "output_type": "stream",
     "name": "stdout",
     "text": [
      "0:\tlearn: 0.9880193\ttest: 1.0166091\tbest: 1.0166091 (0)\ttotal: 43.3ms\tremaining: 43.2s\n",
      "100:\tlearn: 0.6134236\ttest: 0.8035227\tbest: 0.8031849 (97)\ttotal: 4.22s\tremaining: 37.6s\n",
      "200:\tlearn: 0.5770950\ttest: 0.7837847\tbest: 0.7837847 (200)\ttotal: 8.29s\tremaining: 32.9s\n",
      "300:\tlearn: 0.5528510\ttest: 0.7708131\tbest: 0.7708131 (300)\ttotal: 12.3s\tremaining: 28.5s\n",
      "400:\tlearn: 0.5344362\ttest: 0.7619387\tbest: 0.7619387 (400)\ttotal: 16.3s\tremaining: 24.3s\n",
      "500:\tlearn: 0.5191612\ttest: 0.7555162\tbest: 0.7554208 (495)\ttotal: 20.3s\tremaining: 20.2s\n",
      "600:\tlearn: 0.5045483\ttest: 0.7502901\tbest: 0.7501804 (590)\ttotal: 24.3s\tremaining: 16.1s\n",
      "700:\tlearn: 0.4914090\ttest: 0.7458035\tbest: 0.7458035 (700)\ttotal: 28.3s\tremaining: 12.1s\n",
      "800:\tlearn: 0.4792742\ttest: 0.7410498\tbest: 0.7410414 (798)\ttotal: 32.3s\tremaining: 8.01s\n",
      "900:\tlearn: 0.4687740\ttest: 0.7379850\tbest: 0.7379850 (900)\ttotal: 36.2s\tremaining: 3.98s\n",
      "999:\tlearn: 0.4588769\ttest: 0.7338933\tbest: 0.7338623 (997)\ttotal: 43.4s\tremaining: 0us\n",
      "\n",
      "bestTest = 0.7338622701\n",
      "bestIteration = 997\n",
      "\n",
      "Shrink model to first 998 iterations.\n",
      "===================test 정확도 :  0.67708 \n",
      "\n",
      "\n",
      "| \u001B[95m5        \u001B[0m | \u001B[95m0.6771   \u001B[0m | \u001B[95m11.49    \u001B[0m | \u001B[95m178.2    \u001B[0m | \u001B[95m7.758    \u001B[0m | \u001B[95m100.0    \u001B[0m | \u001B[95m0.1944   \u001B[0m | \u001B[95m4.195    \u001B[0m |\n"
     ]
    },
    {
     "output_type": "stream",
     "name": "stderr",
     "text": [
      "Warning: Overfitting detector is active, thus evaluation metric is calculated on every iteration. 'metric_period' is ignored for evaluation metric.\n"
     ]
    },
    {
     "output_type": "stream",
     "name": "stdout",
     "text": [
      "0:\tlearn: 1.0033084\ttest: 1.0267405\tbest: 1.0267405 (0)\ttotal: 91.6ms\tremaining: 1m 31s\n",
      "100:\tlearn: 0.5753742\ttest: 0.7808491\tbest: 0.7808491 (100)\ttotal: 4.75s\tremaining: 42.3s\n",
      "200:\tlearn: 0.5508268\ttest: 0.7630839\tbest: 0.7630839 (200)\ttotal: 8.47s\tremaining: 33.7s\n",
      "300:\tlearn: 0.5315386\ttest: 0.7512429\tbest: 0.7512429 (300)\ttotal: 12.1s\tremaining: 28.2s\n",
      "400:\tlearn: 0.5156470\ttest: 0.7423378\tbest: 0.7423378 (400)\ttotal: 15.8s\tremaining: 23.6s\n",
      "500:\tlearn: 0.5015364\ttest: 0.7344527\tbest: 0.7344527 (500)\ttotal: 19.5s\tremaining: 19.5s\n",
      "600:\tlearn: 0.4894447\ttest: 0.7280853\tbest: 0.7280853 (600)\ttotal: 23.3s\tremaining: 15.5s\n",
      "700:\tlearn: 0.4779950\ttest: 0.7219797\tbest: 0.7219797 (700)\ttotal: 27s\tremaining: 11.5s\n",
      "800:\tlearn: 0.4671778\ttest: 0.7160486\tbest: 0.7160486 (800)\ttotal: 30.8s\tremaining: 7.65s\n",
      "900:\tlearn: 0.4571062\ttest: 0.7108580\tbest: 0.7108530 (897)\ttotal: 34.6s\tremaining: 3.8s\n",
      "999:\tlearn: 0.4476029\ttest: 0.7060893\tbest: 0.7060893 (999)\ttotal: 38.3s\tremaining: 0us\n",
      "\n",
      "bestTest = 0.7060893236\n",
      "bestIteration = 999\n",
      "\n",
      "===================test 정확도 :  0.70168 \n",
      "\n",
      "\n",
      "| \u001B[95m6        \u001B[0m | \u001B[95m0.7017   \u001B[0m | \u001B[95m0.1484   \u001B[0m | \u001B[95m192.0    \u001B[0m | \u001B[95m7.063    \u001B[0m | \u001B[95m100.0    \u001B[0m | \u001B[95m0.1365   \u001B[0m | \u001B[95m3.507    \u001B[0m |\n"
     ]
    },
    {
     "output_type": "stream",
     "name": "stderr",
     "text": [
      "Warning: Overfitting detector is active, thus evaluation metric is calculated on every iteration. 'metric_period' is ignored for evaluation metric.\n"
     ]
    },
    {
     "output_type": "stream",
     "name": "stdout",
     "text": [
      "0:\tlearn: 1.0821461\ttest: 1.0875347\tbest: 1.0875347 (0)\ttotal: 763ms\tremaining: 12m 42s\n",
      "100:\tlearn: 0.6599755\ttest: 0.8196498\tbest: 0.8196498 (100)\ttotal: 1m 6s\tremaining: 9m 55s\n",
      "200:\tlearn: 0.6123503\ttest: 0.7963543\tbest: 0.7963543 (200)\ttotal: 2m 24s\tremaining: 9m 34s\n",
      "300:\tlearn: 0.5845742\ttest: 0.7840698\tbest: 0.7840698 (300)\ttotal: 3m 38s\tremaining: 8m 26s\n",
      "400:\tlearn: 0.5630005\ttest: 0.7739258\tbest: 0.7739258 (400)\ttotal: 4m 49s\tremaining: 7m 12s\n",
      "500:\tlearn: 0.5456499\ttest: 0.7657258\tbest: 0.7657258 (500)\ttotal: 6m 7s\tremaining: 6m 5s\n",
      "600:\tlearn: 0.5317614\ttest: 0.7585256\tbest: 0.7585256 (600)\ttotal: 7m 20s\tremaining: 4m 52s\n",
      "700:\tlearn: 0.5191896\ttest: 0.7518558\tbest: 0.7518558 (700)\ttotal: 8m 32s\tremaining: 3m 38s\n",
      "800:\tlearn: 0.5070869\ttest: 0.7449668\tbest: 0.7449668 (800)\ttotal: 9m 44s\tremaining: 2m 25s\n",
      "900:\tlearn: 0.4957999\ttest: 0.7386504\tbest: 0.7386504 (900)\ttotal: 10m 59s\tremaining: 1m 12s\n",
      "999:\tlearn: 0.4854752\ttest: 0.7333186\tbest: 0.7333186 (999)\ttotal: 12m 9s\tremaining: 0us\n",
      "\n",
      "bestTest = 0.7333186091\n",
      "bestIteration = 999\n",
      "\n",
      "===================test 정확도 :  0.68664 \n",
      "\n",
      "\n",
      "| \u001B[0m7        \u001B[0m | \u001B[0m0.6866   \u001B[0m | \u001B[0m1.608    \u001B[0m | \u001B[0m204.4    \u001B[0m | \u001B[0m13.1     \u001B[0m | \u001B[0m100.0    \u001B[0m | \u001B[0m0.03465  \u001B[0m | \u001B[0m3.637    \u001B[0m |\n"
     ]
    },
    {
     "output_type": "stream",
     "name": "stderr",
     "text": [
      "Warning: Overfitting detector is active, thus evaluation metric is calculated on every iteration. 'metric_period' is ignored for evaluation metric.\n"
     ]
    },
    {
     "output_type": "stream",
     "name": "stdout",
     "text": [
      "0:\tlearn: 1.0593453\ttest: 1.0691870\tbest: 1.0691870 (0)\ttotal: 1.41s\tremaining: 23m 25s\n",
      "100:\tlearn: 0.6055184\ttest: 0.7926408\tbest: 0.7926408 (100)\ttotal: 2m 15s\tremaining: 20m 1s\n",
      "200:\tlearn: 0.5484421\ttest: 0.7664783\tbest: 0.7664783 (200)\ttotal: 4m 38s\tremaining: 18m 26s\n",
      "300:\tlearn: 0.5067557\ttest: 0.7483871\tbest: 0.7483871 (300)\ttotal: 6m 59s\tremaining: 16m 14s\n",
      "400:\tlearn: 0.4753293\ttest: 0.7334067\tbest: 0.7334067 (400)\ttotal: 9m 19s\tremaining: 13m 55s\n",
      "500:\tlearn: 0.4489821\ttest: 0.7208840\tbest: 0.7208840 (500)\ttotal: 11m 42s\tremaining: 11m 39s\n",
      "600:\tlearn: 0.4255210\ttest: 0.7103000\tbest: 0.7102985 (599)\ttotal: 14m 1s\tremaining: 9m 18s\n",
      "700:\tlearn: 0.4045751\ttest: 0.7011916\tbest: 0.7011916 (700)\ttotal: 16m 35s\tremaining: 7m 4s\n",
      "800:\tlearn: 0.3868093\ttest: 0.6944577\tbest: 0.6944577 (800)\ttotal: 19m 11s\tremaining: 4m 46s\n",
      "900:\tlearn: 0.3705718\ttest: 0.6884624\tbest: 0.6884624 (900)\ttotal: 21m 35s\tremaining: 2m 22s\n",
      "999:\tlearn: 0.3560812\ttest: 0.6842758\tbest: 0.6842758 (999)\ttotal: 23m 58s\tremaining: 0us\n",
      "\n",
      "bestTest = 0.6842758228\n",
      "bestIteration = 999\n",
      "\n",
      "===================test 정확도 :  0.71768 \n",
      "\n",
      "\n",
      "| \u001B[95m8        \u001B[0m | \u001B[95m0.7177   \u001B[0m | \u001B[95m1.767    \u001B[0m | \u001B[95m190.1    \u001B[0m | \u001B[95m14.96    \u001B[0m | \u001B[95m100.0    \u001B[0m | \u001B[95m0.09356  \u001B[0m | \u001B[95m4.282    \u001B[0m |\n"
     ]
    },
    {
     "output_type": "stream",
     "name": "stderr",
     "text": [
      "Warning: Overfitting detector is active, thus evaluation metric is calculated on every iteration. 'metric_period' is ignored for evaluation metric.\n"
     ]
    },
    {
     "output_type": "stream",
     "name": "stdout",
     "text": [
      "0:\tlearn: 1.0823006\ttest: 1.0906360\tbest: 1.0906360 (0)\ttotal: 747ms\tremaining: 12m 26s\n",
      "100:\tlearn: 0.6083165\ttest: 0.8129395\tbest: 0.8129395 (100)\ttotal: 1m 13s\tremaining: 10m 53s\n",
      "200:\tlearn: 0.5325847\ttest: 0.7883673\tbest: 0.7883673 (200)\ttotal: 2m 26s\tremaining: 9m 40s\n",
      "300:\tlearn: 0.4814847\ttest: 0.7728682\tbest: 0.7728682 (300)\ttotal: 3m 37s\tremaining: 8m 24s\n",
      "400:\tlearn: 0.4399663\ttest: 0.7624200\tbest: 0.7624022 (399)\ttotal: 4m 47s\tremaining: 7m 9s\n",
      "500:\tlearn: 0.4048329\ttest: 0.7536539\tbest: 0.7535902 (497)\ttotal: 5m 58s\tremaining: 5m 57s\n",
      "600:\tlearn: 0.3747785\ttest: 0.7469814\tbest: 0.7469814 (600)\ttotal: 7m 13s\tremaining: 4m 47s\n",
      "700:\tlearn: 0.3488169\ttest: 0.7412551\tbest: 0.7412551 (700)\ttotal: 8m 23s\tremaining: 3m 34s\n",
      "800:\tlearn: 0.3254545\ttest: 0.7364515\tbest: 0.7364515 (800)\ttotal: 9m 34s\tremaining: 2m 22s\n",
      "900:\tlearn: 0.3048668\ttest: 0.7336895\tbest: 0.7336895 (900)\ttotal: 10m 46s\tremaining: 1m 11s\n",
      "999:\tlearn: 0.2862818\ttest: 0.7307887\tbest: 0.7307887 (999)\ttotal: 11m 56s\tremaining: 0us\n",
      "\n",
      "bestTest = 0.7307887163\n",
      "bestIteration = 999\n",
      "\n",
      "===================test 정확도 :  0.68388 \n",
      "\n",
      "\n",
      "| \u001B[0m9        \u001B[0m | \u001B[0m0.6839   \u001B[0m | \u001B[0m12.15    \u001B[0m | \u001B[0m194.5    \u001B[0m | \u001B[0m13.9     \u001B[0m | \u001B[0m100.0    \u001B[0m | \u001B[0m0.1778   \u001B[0m | \u001B[0m3.808    \u001B[0m |\n"
     ]
    },
    {
     "output_type": "stream",
     "name": "stderr",
     "text": [
      "Warning: Overfitting detector is active, thus evaluation metric is calculated on every iteration. 'metric_period' is ignored for evaluation metric.\n"
     ]
    },
    {
     "output_type": "stream",
     "name": "stdout",
     "text": [
      "0:\tlearn: 1.0812202\ttest: 1.0829885\tbest: 1.0829885 (0)\ttotal: 27.5ms\tremaining: 27.5s\n",
      "100:\tlearn: 0.9970889\ttest: 1.0180887\tbest: 1.0168126 (23)\ttotal: 1.88s\tremaining: 16.8s\n",
      "Stopped by overfitting detector  (100 iterations wait)\n",
      "\n",
      "bestTest = 1.016812559\n",
      "bestIteration = 23\n",
      "\n",
      "Shrink model to first 24 iterations.\n",
      "===================test 정확도 :  0.5184 \n",
      "\n",
      "\n",
      "| \u001B[0m10       \u001B[0m | \u001B[0m0.5184   \u001B[0m | \u001B[0m99.8     \u001B[0m | \u001B[0m101.6    \u001B[0m | \u001B[0m12.27    \u001B[0m | \u001B[0m100.0    \u001B[0m | \u001B[0m0.08883  \u001B[0m | \u001B[0m1.549    \u001B[0m |\n"
     ]
    },
    {
     "output_type": "stream",
     "name": "stderr",
     "text": [
      "Warning: Overfitting detector is active, thus evaluation metric is calculated on every iteration. 'metric_period' is ignored for evaluation metric.\n"
     ]
    },
    {
     "output_type": "stream",
     "name": "stdout",
     "text": [
      "0:\tlearn: 1.0623540\ttest: 1.0662631\tbest: 1.0662631 (0)\ttotal: 20.7ms\tremaining: 20.7s\n",
      "100:\tlearn: 0.9970889\ttest: 1.0180909\tbest: 1.0168078 (9)\ttotal: 1.88s\tremaining: 16.7s\n",
      "Stopped by overfitting detector  (100 iterations wait)\n",
      "\n",
      "bestTest = 1.016807807\n",
      "bestIteration = 9\n",
      "\n",
      "Shrink model to first 10 iterations.\n",
      "===================test 정확도 :  0.5184 \n",
      "\n",
      "\n",
      "| \u001B[0m11       \u001B[0m | \u001B[0m0.5184   \u001B[0m | \u001B[0m99.82    \u001B[0m | \u001B[0m298.8    \u001B[0m | \u001B[0m13.66    \u001B[0m | \u001B[0m100.0    \u001B[0m | \u001B[0m0.1964   \u001B[0m | \u001B[0m1.783    \u001B[0m |\n"
     ]
    },
    {
     "output_type": "stream",
     "name": "stderr",
     "text": [
      "Warning: Overfitting detector is active, thus evaluation metric is calculated on every iteration. 'metric_period' is ignored for evaluation metric.\n"
     ]
    },
    {
     "output_type": "stream",
     "name": "stdout",
     "text": [
      "0:\tlearn: 1.0701577\ttest: 1.0795342\tbest: 1.0795342 (0)\ttotal: 451ms\tremaining: 7m 30s\n",
      "100:\tlearn: 0.5922629\ttest: 0.7942394\tbest: 0.7942394 (100)\ttotal: 25s\tremaining: 3m 42s\n",
      "200:\tlearn: 0.5484415\ttest: 0.7762134\tbest: 0.7762134 (200)\ttotal: 47.7s\tremaining: 3m 9s\n",
      "300:\tlearn: 0.5170851\ttest: 0.7627393\tbest: 0.7627393 (300)\ttotal: 1m 12s\tremaining: 2m 48s\n",
      "400:\tlearn: 0.4913360\ttest: 0.7538287\tbest: 0.7538287 (400)\ttotal: 1m 35s\tremaining: 2m 22s\n",
      "500:\tlearn: 0.4681654\ttest: 0.7465375\tbest: 0.7465375 (500)\ttotal: 1m 59s\tremaining: 1m 58s\n",
      "600:\tlearn: 0.4475571\ttest: 0.7403645\tbest: 0.7403629 (599)\ttotal: 2m 25s\tremaining: 1m 36s\n",
      "700:\tlearn: 0.4287281\ttest: 0.7355672\tbest: 0.7355672 (700)\ttotal: 2m 48s\tremaining: 1m 11s\n",
      "800:\tlearn: 0.4113259\ttest: 0.7307611\tbest: 0.7307611 (800)\ttotal: 3m 12s\tremaining: 47.9s\n",
      "900:\tlearn: 0.3952082\ttest: 0.7268788\tbest: 0.7268788 (900)\ttotal: 3m 35s\tremaining: 23.7s\n",
      "999:\tlearn: 0.3802023\ttest: 0.7233245\tbest: 0.7233245 (999)\ttotal: 3m 57s\tremaining: 0us\n",
      "\n",
      "bestTest = 0.7233245117\n",
      "bestIteration = 999\n",
      "\n",
      "===================test 정확도 :  0.691 \n",
      "\n",
      "\n",
      "| \u001B[0m12       \u001B[0m | \u001B[0m0.691    \u001B[0m | \u001B[0m3.133    \u001B[0m | \u001B[0m100.5    \u001B[0m | \u001B[0m12.79    \u001B[0m | \u001B[0m100.0    \u001B[0m | \u001B[0m0.113    \u001B[0m | \u001B[0m4.208    \u001B[0m |\n",
      "=================================================================================================\n",
      "{'target': 0.71768, 'params': {'bagging_temperature': 1.7667222733865562, 'border_count': 190.14385824950688, 'depth': 14.95981768596572, 'l2_leaf_reg': 100.0, 'learning_rate': 0.09356008116567356, 'min_data_in_leaf': 4.281513544154046}}\n"
     ]
    }
   ]
  },
  {
   "cell_type": "markdown",
   "source": [
    "# KFOLD 방식"
   ],
   "metadata": {
    "id": "rQr3z-bDdRdZ"
   }
  },
  {
   "cell_type": "code",
   "execution_count": null,
   "metadata": {
    "id": "hd5MVIjF-emu"
   },
   "outputs": [],
   "source": [
    "\n",
    "# kfold CatBoost 모델링\n",
    "def catboost_modeling_kfold(x_train, y_train, x_test, y_test,params, kfold_num,computing_type ='CPU'):\n",
    "\n",
    "  # 빈 Series인 test_pred 생성\n",
    "  test_pred = pd.Series([0 for x in range(len(x_test))], index=x_test.index)\n",
    "\n",
    "  #Kfold setting\n",
    "  kf = KFold(n_splits= kfold_num)\n",
    "\n",
    "  for train_index, valid_index in kf.split(x_train):\n",
    "    # K-fold 모델링을 반복할 것\n",
    "    print('\\n\\n========================================== fold ==========================================')\n",
    "\n",
    "    # kfold에서 분리된 인덱스 기준으로 train / valid split\n",
    "    train_X, train_y = x_train.iloc[train_index], y_train[train_index]\n",
    "    valid_X, valid_y = x_train.iloc[valid_index], y_train[valid_index]\n",
    "    \n",
    "    #모델 파라미터 세팅\n",
    "    model = CatBoostClassifier(\n",
    "                                eval_metric = 'Accuracy',              # AUC로 성능 측정\n",
    "                                iterations = 25,               # 반복횟수 최대 25000\n",
    "                                metric_period = 25,            # 중간결과 출력X\n",
    "                                early_stopping_rounds = 1000,     # 1000iteration 동안 AUC 증가 없으면 학습 중단\n",
    "                                task_type = 'CPU',                # GPU 사용\n",
    "                                **params\n",
    "                                )\n",
    "    \n",
    "    # 모델 학습\n",
    "    model.fit(train_X, train_y, eval_set=(valid_X, valid_y))\n",
    "\n",
    "    # test accuracy 계산\n",
    "    test_acc = accuracy_score(list(model.predict(x_test)),y_test)\n",
    "    print('test 결과',test_acc)\n",
    "\n",
    "\n",
    "\n",
    "  return model"
   ]
  },
  {
   "cell_type": "code",
   "source": [],
   "metadata": {
    "id": "jroG84uMMMjX"
   },
   "execution_count": null,
   "outputs": []
  }
 ],
 "metadata": {
  "colab": {
   "provenance": [],
   "collapsed_sections": [
    "oAGXNhcXHfMT",
    "rQr3z-bDdRdZ"
   ],
   "toc_visible": true
  },
  "gpuClass": "standard",
  "kernelspec": {
   "display_name": "Python 3",
   "name": "python3"
  },
  "language_info": {
   "name": "python"
  },
  "accelerator": "GPU",
  "widgets": {
   "application/vnd.jupyter.widget-state+json": {
    "c567301d0fbe40168a6c8cd3c3141454": {
     "model_module": "@jupyter-widgets/controls",
     "model_name": "VBoxModel",
     "model_module_version": "1.5.0",
     "state": {
      "_dom_classes": [],
      "_model_module": "@jupyter-widgets/controls",
      "_model_module_version": "1.5.0",
      "_model_name": "VBoxModel",
      "_view_count": null,
      "_view_module": "@jupyter-widgets/controls",
      "_view_module_version": "1.5.0",
      "_view_name": "VBoxView",
      "box_style": "",
      "children": [
       "IPY_MODEL_b829fdc913e24c51ade425e879c72256",
       "IPY_MODEL_c79ff089a5ef4b489dac02f5db86a812"
      ],
      "layout": "IPY_MODEL_719e262f9f694748849c3289461ddad7"
     }
    },
    "b829fdc913e24c51ade425e879c72256": {
     "model_module": "@jupyter-widgets/controls",
     "model_name": "LabelModel",
     "model_module_version": "1.5.0",
     "state": {
      "_dom_classes": [],
      "_model_module": "@jupyter-widgets/controls",
      "_model_module_version": "1.5.0",
      "_model_name": "LabelModel",
      "_view_count": null,
      "_view_module": "@jupyter-widgets/controls",
      "_view_module_version": "1.5.0",
      "_view_name": "LabelView",
      "description": "",
      "description_tooltip": null,
      "layout": "IPY_MODEL_4afa0daeddcd4fdf8fc183cbfaffb40d",
      "placeholder": "​",
      "style": "IPY_MODEL_a43e035583f749078c38ff95e75a183d",
      "value": "0.013 MB of 0.013 MB uploaded (0.000 MB deduped)\r"
     }
    },
    "c79ff089a5ef4b489dac02f5db86a812": {
     "model_module": "@jupyter-widgets/controls",
     "model_name": "FloatProgressModel",
     "model_module_version": "1.5.0",
     "state": {
      "_dom_classes": [],
      "_model_module": "@jupyter-widgets/controls",
      "_model_module_version": "1.5.0",
      "_model_name": "FloatProgressModel",
      "_view_count": null,
      "_view_module": "@jupyter-widgets/controls",
      "_view_module_version": "1.5.0",
      "_view_name": "ProgressView",
      "bar_style": "",
      "description": "",
      "description_tooltip": null,
      "layout": "IPY_MODEL_e6e77a952f7c4654b3b4e246e7db2440",
      "max": 1,
      "min": 0,
      "orientation": "horizontal",
      "style": "IPY_MODEL_bb7aa64db2204388ad170e76230c3fee",
      "value": 1
     }
    },
    "719e262f9f694748849c3289461ddad7": {
     "model_module": "@jupyter-widgets/base",
     "model_name": "LayoutModel",
     "model_module_version": "1.2.0",
     "state": {
      "_model_module": "@jupyter-widgets/base",
      "_model_module_version": "1.2.0",
      "_model_name": "LayoutModel",
      "_view_count": null,
      "_view_module": "@jupyter-widgets/base",
      "_view_module_version": "1.2.0",
      "_view_name": "LayoutView",
      "align_content": null,
      "align_items": null,
      "align_self": null,
      "border": null,
      "bottom": null,
      "display": null,
      "flex": null,
      "flex_flow": null,
      "grid_area": null,
      "grid_auto_columns": null,
      "grid_auto_flow": null,
      "grid_auto_rows": null,
      "grid_column": null,
      "grid_gap": null,
      "grid_row": null,
      "grid_template_areas": null,
      "grid_template_columns": null,
      "grid_template_rows": null,
      "height": null,
      "justify_content": null,
      "justify_items": null,
      "left": null,
      "margin": null,
      "max_height": null,
      "max_width": null,
      "min_height": null,
      "min_width": null,
      "object_fit": null,
      "object_position": null,
      "order": null,
      "overflow": null,
      "overflow_x": null,
      "overflow_y": null,
      "padding": null,
      "right": null,
      "top": null,
      "visibility": null,
      "width": null
     }
    },
    "4afa0daeddcd4fdf8fc183cbfaffb40d": {
     "model_module": "@jupyter-widgets/base",
     "model_name": "LayoutModel",
     "model_module_version": "1.2.0",
     "state": {
      "_model_module": "@jupyter-widgets/base",
      "_model_module_version": "1.2.0",
      "_model_name": "LayoutModel",
      "_view_count": null,
      "_view_module": "@jupyter-widgets/base",
      "_view_module_version": "1.2.0",
      "_view_name": "LayoutView",
      "align_content": null,
      "align_items": null,
      "align_self": null,
      "border": null,
      "bottom": null,
      "display": null,
      "flex": null,
      "flex_flow": null,
      "grid_area": null,
      "grid_auto_columns": null,
      "grid_auto_flow": null,
      "grid_auto_rows": null,
      "grid_column": null,
      "grid_gap": null,
      "grid_row": null,
      "grid_template_areas": null,
      "grid_template_columns": null,
      "grid_template_rows": null,
      "height": null,
      "justify_content": null,
      "justify_items": null,
      "left": null,
      "margin": null,
      "max_height": null,
      "max_width": null,
      "min_height": null,
      "min_width": null,
      "object_fit": null,
      "object_position": null,
      "order": null,
      "overflow": null,
      "overflow_x": null,
      "overflow_y": null,
      "padding": null,
      "right": null,
      "top": null,
      "visibility": null,
      "width": null
     }
    },
    "a43e035583f749078c38ff95e75a183d": {
     "model_module": "@jupyter-widgets/controls",
     "model_name": "DescriptionStyleModel",
     "model_module_version": "1.5.0",
     "state": {
      "_model_module": "@jupyter-widgets/controls",
      "_model_module_version": "1.5.0",
      "_model_name": "DescriptionStyleModel",
      "_view_count": null,
      "_view_module": "@jupyter-widgets/base",
      "_view_module_version": "1.2.0",
      "_view_name": "StyleView",
      "description_width": ""
     }
    },
    "e6e77a952f7c4654b3b4e246e7db2440": {
     "model_module": "@jupyter-widgets/base",
     "model_name": "LayoutModel",
     "model_module_version": "1.2.0",
     "state": {
      "_model_module": "@jupyter-widgets/base",
      "_model_module_version": "1.2.0",
      "_model_name": "LayoutModel",
      "_view_count": null,
      "_view_module": "@jupyter-widgets/base",
      "_view_module_version": "1.2.0",
      "_view_name": "LayoutView",
      "align_content": null,
      "align_items": null,
      "align_self": null,
      "border": null,
      "bottom": null,
      "display": null,
      "flex": null,
      "flex_flow": null,
      "grid_area": null,
      "grid_auto_columns": null,
      "grid_auto_flow": null,
      "grid_auto_rows": null,
      "grid_column": null,
      "grid_gap": null,
      "grid_row": null,
      "grid_template_areas": null,
      "grid_template_columns": null,
      "grid_template_rows": null,
      "height": null,
      "justify_content": null,
      "justify_items": null,
      "left": null,
      "margin": null,
      "max_height": null,
      "max_width": null,
      "min_height": null,
      "min_width": null,
      "object_fit": null,
      "object_position": null,
      "order": null,
      "overflow": null,
      "overflow_x": null,
      "overflow_y": null,
      "padding": null,
      "right": null,
      "top": null,
      "visibility": null,
      "width": null
     }
    },
    "bb7aa64db2204388ad170e76230c3fee": {
     "model_module": "@jupyter-widgets/controls",
     "model_name": "ProgressStyleModel",
     "model_module_version": "1.5.0",
     "state": {
      "_model_module": "@jupyter-widgets/controls",
      "_model_module_version": "1.5.0",
      "_model_name": "ProgressStyleModel",
      "_view_count": null,
      "_view_module": "@jupyter-widgets/base",
      "_view_module_version": "1.2.0",
      "_view_name": "StyleView",
      "bar_color": null,
      "description_width": ""
     }
    }
   }
  }
 },
 "nbformat": 4,
 "nbformat_minor": 0
}
