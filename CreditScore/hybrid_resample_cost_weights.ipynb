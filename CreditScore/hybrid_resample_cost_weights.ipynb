{
 "cells": [
  {
   "cell_type": "markdown",
   "source": [
    "# Hybrid of Resampling and Cost Sensitive Methods"
   ],
   "metadata": {
    "collapsed": false
   }
  },
  {
   "cell_type": "code",
   "execution_count": 2,
   "outputs": [],
   "source": [
    "from imblearn.combine import SMOTEENN, SMOTETomek"
   ],
   "metadata": {
    "collapsed": false
   }
  },
  {
   "cell_type": "markdown",
   "source": [
    "sklearn reference에서는 SMOTE ENN이 Noisy 제거에 SMOTETomek 보다 나은 결과를 제시한다고 말하고 있음"
   ],
   "metadata": {
    "collapsed": false
   }
  },
  {
   "cell_type": "code",
   "execution_count": 46,
   "outputs": [],
   "source": [
    "def sampling_smote_enn(x_input, y_input, smote=None, enn=None, sampling_strategy='auto'):\n",
    "    \"\"\"\n",
    "    :param x_input: x data 입력\n",
    "    :param y_input: y data 입력\n",
    "    :param smote: SMOTE 객체 입력\n",
    "    :param enn: ENN 객체 입력\n",
    "    :param sampling_strategy: 딕셔너리 구조로 입력\n",
    "    :return: x_sme, y_sme\n",
    "    \"\"\"\n",
    "    import pandas as pd\n",
    "    from imblearn.combine import SMOTEENN\n",
    "    sme = SMOTEENN(smote=smote,\n",
    "                   enn=enn,\n",
    "                   sampling_strategy=sampling_strategy,\n",
    "                   random_state=42,\n",
    "                   n_jobs=-1)\n",
    "\n",
    "    x_sme, y_sme = sme.fit_resample(x_input, y_input)\n",
    "\n",
    "    print(\"Before SMOTE ENN....\")\n",
    "    print(\"The shape of your X data: \", x_input.shape)\n",
    "    print(\"The shape of your y data: \", y_input.shape)\n",
    "    print(\"Label Counts : \\n\", pd.Series(y_input).value_counts().sort_index())\n",
    "    print('\\n')\n",
    "    print(\"After SMOTE ENN Applied....\")\n",
    "    print(\"The shape of your X_SME data: \", x_sme.shape)\n",
    "    print(\"The shape of your y_SME data: \", y_sme.shape)\n",
    "    print(\"Label Counts : \\n\", pd.Series(y_sme).value_counts().sort_index())\n",
    "\n",
    "    return x_sme, y_sme"
   ],
   "metadata": {
    "collapsed": false
   }
  },
  {
   "cell_type": "code",
   "execution_count": 5,
   "outputs": [],
   "source": [
    "import pandas as pd\n",
    "import numpy as np\n",
    "from sklearn.preprocessing import LabelEncoder"
   ],
   "metadata": {
    "collapsed": false
   }
  },
  {
   "cell_type": "code",
   "execution_count": 6,
   "outputs": [
    {
     "data": {
      "text/plain": "((75000, 23), (25000, 23))"
     },
     "execution_count": 6,
     "metadata": {},
     "output_type": "execute_result"
    }
   ],
   "source": [
    "dfs = pd.read_csv('./processed.csv')\n",
    "train = pd.read_csv('./train.csv')\n",
    "test = pd.read_csv('./test.csv')\n",
    "train.shape, test.shape"
   ],
   "metadata": {
    "collapsed": false
   }
  },
  {
   "cell_type": "code",
   "execution_count": 7,
   "outputs": [],
   "source": [
    "le = LabelEncoder()\n",
    "dfs['Month'] = le.fit_transform(dfs['Month'])\n",
    "train['Month'] = le.transform(train['Month'])\n",
    "test['Month'] = le.transform(test['Month'])"
   ],
   "metadata": {
    "collapsed": false
   }
  },
  {
   "cell_type": "code",
   "execution_count": 8,
   "outputs": [
    {
     "name": "stdout",
     "output_type": "stream",
     "text": [
      "Customer_ID :  12500\n",
      "Month :  8\n",
      "Credit_Mix :  3\n",
      "Credit_History_Age :  2\n",
      "Payment_of_Min_Amount :  3\n",
      "Payment_Behaviour :  6\n"
     ]
    }
   ],
   "source": [
    "target = 'Credit_Score'\n",
    "cat_col = ['Customer_ID', 'Month', 'Credit_Mix', 'Credit_History_Age',\n",
    "           'Payment_of_Min_Amount', 'Payment_Behaviour']\n",
    "cat_dims = {}\n",
    "for col in cat_col:\n",
    "    cat_dims[col] = len(list(dfs[col].unique()))\n",
    "    print(col, ': ', cat_dims[col])\n",
    "cat_col_idx = [list(dfs.columns).index(col) for col in cat_col]\n",
    "cat_col_dims = [cat_dims[col] for col in cat_col]\n",
    "all_col_list = [col for col in dfs.columns if col !=target]"
   ],
   "metadata": {
    "collapsed": false
   }
  },
  {
   "cell_type": "code",
   "execution_count": 9,
   "outputs": [],
   "source": [
    "x_train = train.loc[:, all_col_list].values\n",
    "y_train = train.loc[:, target].values\n",
    "x_test = test.loc[:, all_col_list].values\n",
    "y_test = test.loc[:, target].values"
   ],
   "metadata": {
    "collapsed": false
   }
  },
  {
   "cell_type": "code",
   "execution_count": 13,
   "outputs": [],
   "source": [
    "from imblearn.over_sampling import SMOTE, SMOTENC\n",
    "from imblearn.under_sampling import EditedNearestNeighbours, TomekLinks"
   ],
   "metadata": {
    "collapsed": false
   }
  },
  {
   "cell_type": "code",
   "execution_count": 14,
   "outputs": [],
   "source": [
    "enn = EditedNearestNeighbours(n_jobs=-1)"
   ],
   "metadata": {
    "collapsed": false
   }
  },
  {
   "cell_type": "code",
   "execution_count": 20,
   "outputs": [],
   "source": [
    "smoteenn = SMOTEENN(smote=SMOTE(),\n",
    "                    enn=enn,\n",
    "                    random_state=42,\n",
    "                    n_jobs=-1)"
   ],
   "metadata": {
    "collapsed": false
   }
  },
  {
   "cell_type": "code",
   "execution_count": 21,
   "outputs": [],
   "source": [
    "x_sme, y_sme = smoteenn.fit_resample(x_train, y_train)"
   ],
   "metadata": {
    "collapsed": false
   }
  },
  {
   "cell_type": "code",
   "execution_count": 42,
   "outputs": [
    {
     "data": {
      "text/plain": "0    40214\n2    31570\n1    15637\ndtype: int64"
     },
     "execution_count": 42,
     "metadata": {},
     "output_type": "execute_result"
    }
   ],
   "source": [
    "pd.Series(y_sme).value_counts()"
   ],
   "metadata": {
    "collapsed": false
   }
  },
  {
   "cell_type": "code",
   "execution_count": 22,
   "outputs": [
    {
     "data": {
      "text/plain": "(87421, 21)"
     },
     "execution_count": 22,
     "metadata": {},
     "output_type": "execute_result"
    }
   ],
   "source": [
    "x_sme.shape"
   ],
   "metadata": {
    "collapsed": false
   }
  },
  {
   "cell_type": "code",
   "execution_count": 23,
   "outputs": [
    {
     "data": {
      "text/plain": "(87421,)"
     },
     "execution_count": 23,
     "metadata": {},
     "output_type": "execute_result"
    }
   ],
   "source": [
    "y_sme.shape"
   ],
   "metadata": {
    "collapsed": false
   }
  },
  {
   "cell_type": "code",
   "execution_count": 24,
   "outputs": [],
   "source": [
    "from sklearn.ensemble import RandomForestClassifier"
   ],
   "metadata": {
    "collapsed": false
   }
  },
  {
   "cell_type": "code",
   "execution_count": 25,
   "outputs": [],
   "source": [
    "rfc = RandomForestClassifier(n_jobs=-1, random_state=42)"
   ],
   "metadata": {
    "collapsed": false
   }
  },
  {
   "cell_type": "code",
   "execution_count": 26,
   "outputs": [
    {
     "data": {
      "text/plain": "RandomForestClassifier(n_jobs=-1, random_state=42)",
      "text/html": "<style>#sk-container-id-1 {color: black;background-color: white;}#sk-container-id-1 pre{padding: 0;}#sk-container-id-1 div.sk-toggleable {background-color: white;}#sk-container-id-1 label.sk-toggleable__label {cursor: pointer;display: block;width: 100%;margin-bottom: 0;padding: 0.3em;box-sizing: border-box;text-align: center;}#sk-container-id-1 label.sk-toggleable__label-arrow:before {content: \"▸\";float: left;margin-right: 0.25em;color: #696969;}#sk-container-id-1 label.sk-toggleable__label-arrow:hover:before {color: black;}#sk-container-id-1 div.sk-estimator:hover label.sk-toggleable__label-arrow:before {color: black;}#sk-container-id-1 div.sk-toggleable__content {max-height: 0;max-width: 0;overflow: hidden;text-align: left;background-color: #f0f8ff;}#sk-container-id-1 div.sk-toggleable__content pre {margin: 0.2em;color: black;border-radius: 0.25em;background-color: #f0f8ff;}#sk-container-id-1 input.sk-toggleable__control:checked~div.sk-toggleable__content {max-height: 200px;max-width: 100%;overflow: auto;}#sk-container-id-1 input.sk-toggleable__control:checked~label.sk-toggleable__label-arrow:before {content: \"▾\";}#sk-container-id-1 div.sk-estimator input.sk-toggleable__control:checked~label.sk-toggleable__label {background-color: #d4ebff;}#sk-container-id-1 div.sk-label input.sk-toggleable__control:checked~label.sk-toggleable__label {background-color: #d4ebff;}#sk-container-id-1 input.sk-hidden--visually {border: 0;clip: rect(1px 1px 1px 1px);clip: rect(1px, 1px, 1px, 1px);height: 1px;margin: -1px;overflow: hidden;padding: 0;position: absolute;width: 1px;}#sk-container-id-1 div.sk-estimator {font-family: monospace;background-color: #f0f8ff;border: 1px dotted black;border-radius: 0.25em;box-sizing: border-box;margin-bottom: 0.5em;}#sk-container-id-1 div.sk-estimator:hover {background-color: #d4ebff;}#sk-container-id-1 div.sk-parallel-item::after {content: \"\";width: 100%;border-bottom: 1px solid gray;flex-grow: 1;}#sk-container-id-1 div.sk-label:hover label.sk-toggleable__label {background-color: #d4ebff;}#sk-container-id-1 div.sk-serial::before {content: \"\";position: absolute;border-left: 1px solid gray;box-sizing: border-box;top: 0;bottom: 0;left: 50%;z-index: 0;}#sk-container-id-1 div.sk-serial {display: flex;flex-direction: column;align-items: center;background-color: white;padding-right: 0.2em;padding-left: 0.2em;position: relative;}#sk-container-id-1 div.sk-item {position: relative;z-index: 1;}#sk-container-id-1 div.sk-parallel {display: flex;align-items: stretch;justify-content: center;background-color: white;position: relative;}#sk-container-id-1 div.sk-item::before, #sk-container-id-1 div.sk-parallel-item::before {content: \"\";position: absolute;border-left: 1px solid gray;box-sizing: border-box;top: 0;bottom: 0;left: 50%;z-index: -1;}#sk-container-id-1 div.sk-parallel-item {display: flex;flex-direction: column;z-index: 1;position: relative;background-color: white;}#sk-container-id-1 div.sk-parallel-item:first-child::after {align-self: flex-end;width: 50%;}#sk-container-id-1 div.sk-parallel-item:last-child::after {align-self: flex-start;width: 50%;}#sk-container-id-1 div.sk-parallel-item:only-child::after {width: 0;}#sk-container-id-1 div.sk-dashed-wrapped {border: 1px dashed gray;margin: 0 0.4em 0.5em 0.4em;box-sizing: border-box;padding-bottom: 0.4em;background-color: white;}#sk-container-id-1 div.sk-label label {font-family: monospace;font-weight: bold;display: inline-block;line-height: 1.2em;}#sk-container-id-1 div.sk-label-container {text-align: center;}#sk-container-id-1 div.sk-container {/* jupyter's `normalize.less` sets `[hidden] { display: none; }` but bootstrap.min.css set `[hidden] { display: none !important; }` so we also need the `!important` here to be able to override the default hidden behavior on the sphinx rendered scikit-learn.org. See: https://github.com/scikit-learn/scikit-learn/issues/21755 */display: inline-block !important;position: relative;}#sk-container-id-1 div.sk-text-repr-fallback {display: none;}</style><div id=\"sk-container-id-1\" class=\"sk-top-container\"><div class=\"sk-text-repr-fallback\"><pre>RandomForestClassifier(n_jobs=-1, random_state=42)</pre><b>In a Jupyter environment, please rerun this cell to show the HTML representation or trust the notebook. <br />On GitHub, the HTML representation is unable to render, please try loading this page with nbviewer.org.</b></div><div class=\"sk-container\" hidden><div class=\"sk-item\"><div class=\"sk-estimator sk-toggleable\"><input class=\"sk-toggleable__control sk-hidden--visually\" id=\"sk-estimator-id-1\" type=\"checkbox\" checked><label for=\"sk-estimator-id-1\" class=\"sk-toggleable__label sk-toggleable__label-arrow\">RandomForestClassifier</label><div class=\"sk-toggleable__content\"><pre>RandomForestClassifier(n_jobs=-1, random_state=42)</pre></div></div></div></div></div>"
     },
     "execution_count": 26,
     "metadata": {},
     "output_type": "execute_result"
    }
   ],
   "source": [
    "rfc.fit(x_sme, y_sme)"
   ],
   "metadata": {
    "collapsed": false
   }
  },
  {
   "cell_type": "code",
   "execution_count": 27,
   "outputs": [
    {
     "data": {
      "text/plain": "0.6858"
     },
     "execution_count": 27,
     "metadata": {},
     "output_type": "execute_result"
    }
   ],
   "source": [
    "rfc.score(x_test, y_test)"
   ],
   "metadata": {
    "collapsed": false
   }
  },
  {
   "cell_type": "code",
   "execution_count": 32,
   "outputs": [],
   "source": [
    "from sklearn.metrics import classification_report, plot_confusion_matrix"
   ],
   "metadata": {
    "collapsed": false
   }
  },
  {
   "cell_type": "code",
   "execution_count": 29,
   "outputs": [],
   "source": [
    "y_pred = rfc.predict(x_test)"
   ],
   "metadata": {
    "collapsed": false
   }
  },
  {
   "cell_type": "code",
   "execution_count": 31,
   "outputs": [
    {
     "name": "stdout",
     "output_type": "stream",
     "text": [
      "              precision    recall  f1-score   support\n",
      "\n",
      "           0       0.65      0.86      0.74      7216\n",
      "           1       0.80      0.57      0.67     12960\n",
      "           2       0.58      0.74      0.65      4824\n",
      "\n",
      "    accuracy                           0.69     25000\n",
      "   macro avg       0.67      0.72      0.68     25000\n",
      "weighted avg       0.71      0.69      0.68     25000\n",
      "\n"
     ]
    }
   ],
   "source": [
    "print(classification_report(y_true=y_test, y_pred=y_pred))"
   ],
   "metadata": {
    "collapsed": false
   }
  },
  {
   "cell_type": "code",
   "execution_count": 38,
   "outputs": [
    {
     "name": "stderr",
     "output_type": "stream",
     "text": [
      "/Users/ben/miniforge3/envs/tf_mini/lib/python3.8/site-packages/sklearn/utils/deprecation.py:87: FutureWarning: Function plot_confusion_matrix is deprecated; Function `plot_confusion_matrix` is deprecated in 1.0 and will be removed in 1.2. Use one of the class methods: ConfusionMatrixDisplay.from_predictions or ConfusionMatrixDisplay.from_estimator.\n",
      "  warnings.warn(msg, category=FutureWarning)\n"
     ]
    },
    {
     "data": {
      "text/plain": "<sklearn.metrics._plot.confusion_matrix.ConfusionMatrixDisplay at 0x17dda07c0>"
     },
     "execution_count": 38,
     "metadata": {},
     "output_type": "execute_result"
    },
    {
     "data": {
      "text/plain": "<Figure size 432x288 with 2 Axes>",
      "image/png": "[encoded data removed]"
     },
     "metadata": {
      "needs_background": "light"
     },
     "output_type": "display_data"
    }
   ],
   "source": [
    "plot_confusion_matrix(y_true=y_test, X=x_test, estimator=rfc)"
   ],
   "metadata": {
    "collapsed": false
   }
  },
  {
   "cell_type": "code",
   "execution_count": 49,
   "outputs": [],
   "source": [
    "smote = SMOTE(k_neighbors=7)"
   ],
   "metadata": {
    "collapsed": false
   }
  },
  {
   "cell_type": "code",
   "execution_count": 50,
   "outputs": [
    {
     "name": "stdout",
     "output_type": "stream",
     "text": [
      "Before SMOTE ENN....\n",
      "The shape of your X data:  (75000, 21)\n",
      "The shape of your y data:  (75000,)\n",
      "Label Counts : \n",
      " 0    21782\n",
      "1    40214\n",
      "2    13004\n",
      "dtype: int64\n",
      "\n",
      "\n",
      "After SMOTE ENN Applied....\n",
      "The shape of your X_SME data:  (72981, 21)\n",
      "The shape of your y_SME data:  (72981,)\n",
      "Label Counts : \n",
      " 0    27039\n",
      "1    15275\n",
      "2    30667\n",
      "dtype: int64\n"
     ]
    }
   ],
   "source": [
    "x_sme, y_sme = sampling_smote_enn(x_train, y_train, smote=smote, enn=None, sampling_strategy='auto')"
   ],
   "metadata": {
    "collapsed": false
   }
  },
  {
   "cell_type": "markdown",
   "source": [
    "지금 ENN으로 너무 많은 다수 데이터를 제거한 것으로 보임. 정보 유실이 심각하게 우려됨"
   ],
   "metadata": {
    "collapsed": false
   }
  },
  {
   "cell_type": "code",
   "execution_count": 51,
   "outputs": [
    {
     "name": "stdout",
     "output_type": "stream",
     "text": [
      "Before SMOTE ENN....\n",
      "The shape of your X data:  (75000, 21)\n",
      "The shape of your y data:  (75000,)\n",
      "Label Counts : \n",
      " 0    21782\n",
      "1    40214\n",
      "2    13004\n",
      "dtype: int64\n",
      "\n",
      "\n",
      "After SMOTE ENN Applied....\n",
      "The shape of your X_SME data:  (74703, 21)\n",
      "The shape of your y_SME data:  (74703,)\n",
      "Label Counts : \n",
      " 0    27507\n",
      "1    15619\n",
      "2    31577\n",
      "dtype: int64\n"
     ]
    }
   ],
   "source": [
    "x_sme, y_sme = sampling_smote_enn(x_train, y_train, sampling_strategy='auto')"
   ],
   "metadata": {
    "collapsed": false
   }
  },
  {
   "cell_type": "code",
   "execution_count": 52,
   "outputs": [],
   "source": [
    "from sklearn.utils.class_weight import compute_class_weight"
   ],
   "metadata": {
    "collapsed": false
   }
  },
  {
   "cell_type": "code",
   "execution_count": 54,
   "outputs": [
    {
     "data": {
      "text/plain": "array([0.90526048, 1.5942762 , 0.7885803 ])"
     },
     "execution_count": 54,
     "metadata": {},
     "output_type": "execute_result"
    }
   ],
   "source": [
    "weights = compute_class_weight(class_weight = \"balanced\" ,\n",
    "                               classes=np.unique(y_sme),\n",
    "                               y = y_sme)\n",
    "\n",
    "weights"
   ],
   "metadata": {
    "collapsed": false
   }
  },
  {
   "cell_type": "code",
   "execution_count": 57,
   "outputs": [],
   "source": [
    "rfc = RandomForestClassifier(random_state=42, n_jobs=-1, class_weight='balanced')"
   ],
   "metadata": {
    "collapsed": false
   }
  },
  {
   "cell_type": "code",
   "execution_count": 58,
   "outputs": [
    {
     "data": {
      "text/plain": "RandomForestClassifier(class_weight='balanced', n_jobs=-1, random_state=42)",
      "text/html": "<style>#sk-container-id-2 {color: black;background-color: white;}#sk-container-id-2 pre{padding: 0;}#sk-container-id-2 div.sk-toggleable {background-color: white;}#sk-container-id-2 label.sk-toggleable__label {cursor: pointer;display: block;width: 100%;margin-bottom: 0;padding: 0.3em;box-sizing: border-box;text-align: center;}#sk-container-id-2 label.sk-toggleable__label-arrow:before {content: \"▸\";float: left;margin-right: 0.25em;color: #696969;}#sk-container-id-2 label.sk-toggleable__label-arrow:hover:before {color: black;}#sk-container-id-2 div.sk-estimator:hover label.sk-toggleable__label-arrow:before {color: black;}#sk-container-id-2 div.sk-toggleable__content {max-height: 0;max-width: 0;overflow: hidden;text-align: left;background-color: #f0f8ff;}#sk-container-id-2 div.sk-toggleable__content pre {margin: 0.2em;color: black;border-radius: 0.25em;background-color: #f0f8ff;}#sk-container-id-2 input.sk-toggleable__control:checked~div.sk-toggleable__content {max-height: 200px;max-width: 100%;overflow: auto;}#sk-container-id-2 input.sk-toggleable__control:checked~label.sk-toggleable__label-arrow:before {content: \"▾\";}#sk-container-id-2 div.sk-estimator input.sk-toggleable__control:checked~label.sk-toggleable__label {background-color: #d4ebff;}#sk-container-id-2 div.sk-label input.sk-toggleable__control:checked~label.sk-toggleable__label {background-color: #d4ebff;}#sk-container-id-2 input.sk-hidden--visually {border: 0;clip: rect(1px 1px 1px 1px);clip: rect(1px, 1px, 1px, 1px);height: 1px;margin: -1px;overflow: hidden;padding: 0;position: absolute;width: 1px;}#sk-container-id-2 div.sk-estimator {font-family: monospace;background-color: #f0f8ff;border: 1px dotted black;border-radius: 0.25em;box-sizing: border-box;margin-bottom: 0.5em;}#sk-container-id-2 div.sk-estimator:hover {background-color: #d4ebff;}#sk-container-id-2 div.sk-parallel-item::after {content: \"\";width: 100%;border-bottom: 1px solid gray;flex-grow: 1;}#sk-container-id-2 div.sk-label:hover label.sk-toggleable__label {background-color: #d4ebff;}#sk-container-id-2 div.sk-serial::before {content: \"\";position: absolute;border-left: 1px solid gray;box-sizing: border-box;top: 0;bottom: 0;left: 50%;z-index: 0;}#sk-container-id-2 div.sk-serial {display: flex;flex-direction: column;align-items: center;background-color: white;padding-right: 0.2em;padding-left: 0.2em;position: relative;}#sk-container-id-2 div.sk-item {position: relative;z-index: 1;}#sk-container-id-2 div.sk-parallel {display: flex;align-items: stretch;justify-content: center;background-color: white;position: relative;}#sk-container-id-2 div.sk-item::before, #sk-container-id-2 div.sk-parallel-item::before {content: \"\";position: absolute;border-left: 1px solid gray;box-sizing: border-box;top: 0;bottom: 0;left: 50%;z-index: -1;}#sk-container-id-2 div.sk-parallel-item {display: flex;flex-direction: column;z-index: 1;position: relative;background-color: white;}#sk-container-id-2 div.sk-parallel-item:first-child::after {align-self: flex-end;width: 50%;}#sk-container-id-2 div.sk-parallel-item:last-child::after {align-self: flex-start;width: 50%;}#sk-container-id-2 div.sk-parallel-item:only-child::after {width: 0;}#sk-container-id-2 div.sk-dashed-wrapped {border: 1px dashed gray;margin: 0 0.4em 0.5em 0.4em;box-sizing: border-box;padding-bottom: 0.4em;background-color: white;}#sk-container-id-2 div.sk-label label {font-family: monospace;font-weight: bold;display: inline-block;line-height: 1.2em;}#sk-container-id-2 div.sk-label-container {text-align: center;}#sk-container-id-2 div.sk-container {/* jupyter's `normalize.less` sets `[hidden] { display: none; }` but bootstrap.min.css set `[hidden] { display: none !important; }` so we also need the `!important` here to be able to override the default hidden behavior on the sphinx rendered scikit-learn.org. See: https://github.com/scikit-learn/scikit-learn/issues/21755 */display: inline-block !important;position: relative;}#sk-container-id-2 div.sk-text-repr-fallback {display: none;}</style><div id=\"sk-container-id-2\" class=\"sk-top-container\"><div class=\"sk-text-repr-fallback\"><pre>RandomForestClassifier(class_weight=&#x27;balanced&#x27;, n_jobs=-1, random_state=42)</pre><b>In a Jupyter environment, please rerun this cell to show the HTML representation or trust the notebook. <br />On GitHub, the HTML representation is unable to render, please try loading this page with nbviewer.org.</b></div><div class=\"sk-container\" hidden><div class=\"sk-item\"><div class=\"sk-estimator sk-toggleable\"><input class=\"sk-toggleable__control sk-hidden--visually\" id=\"sk-estimator-id-2\" type=\"checkbox\" checked><label for=\"sk-estimator-id-2\" class=\"sk-toggleable__label sk-toggleable__label-arrow\">RandomForestClassifier</label><div class=\"sk-toggleable__content\"><pre>RandomForestClassifier(class_weight=&#x27;balanced&#x27;, n_jobs=-1, random_state=42)</pre></div></div></div></div></div>"
     },
     "execution_count": 58,
     "metadata": {},
     "output_type": "execute_result"
    }
   ],
   "source": [
    "rfc.fit(x_sme, y_sme)"
   ],
   "metadata": {
    "collapsed": false
   }
  },
  {
   "cell_type": "code",
   "execution_count": 59,
   "outputs": [
    {
     "data": {
      "text/plain": "0.9999866136567473"
     },
     "execution_count": 59,
     "metadata": {},
     "output_type": "execute_result"
    }
   ],
   "source": [
    "rfc.score(x_sme, y_sme)"
   ],
   "metadata": {
    "collapsed": false
   }
  },
  {
   "cell_type": "code",
   "execution_count": 60,
   "outputs": [
    {
     "data": {
      "text/plain": "0.67392"
     },
     "execution_count": 60,
     "metadata": {},
     "output_type": "execute_result"
    }
   ],
   "source": [
    "rfc.score(x_test, y_test)"
   ],
   "metadata": {
    "collapsed": false
   }
  },
  {
   "cell_type": "code",
   "execution_count": 61,
   "outputs": [],
   "source": [
    "y_pred = rfc.predict(x_test)"
   ],
   "metadata": {
    "collapsed": false
   }
  },
  {
   "cell_type": "code",
   "execution_count": 62,
   "outputs": [
    {
     "name": "stdout",
     "output_type": "stream",
     "text": [
      "              precision    recall  f1-score   support\n",
      "\n",
      "           0       0.67      0.77      0.71      7216\n",
      "           1       0.78      0.60      0.67     12960\n",
      "           2       0.53      0.75      0.62      4824\n",
      "\n",
      "    accuracy                           0.67     25000\n",
      "   macro avg       0.66      0.70      0.67     25000\n",
      "weighted avg       0.70      0.67      0.68     25000\n",
      "\n"
     ]
    }
   ],
   "source": [
    "print(classification_report(y_true=y_test, y_pred=y_pred))"
   ],
   "metadata": {
    "collapsed": false
   }
  },
  {
   "cell_type": "code",
   "execution_count": 65,
   "outputs": [],
   "source": [
    "import warnings\n",
    "warnings.filterwarnings('ignore')\n",
    "\n",
    "import os\n",
    "import math\n",
    "import numpy as np\n",
    "import pandas as pd\n",
    "import torch\n",
    "import torch.nn as nn\n",
    "import matplotlib.pyplot as plt\n",
    "\n",
    "from pytorch_tabnet.tab_model import TabNetClassifier\n",
    "from pytorch_tabnet.pretraining import TabNetPretrainer\n",
    "from pytorch_tabnet.metrics import Metric\n",
    "from sklearn.preprocessing import LabelEncoder\n",
    "from sklearn.metrics import roc_auc_score, accuracy_score, f1_score, confusion_matrix"
   ],
   "metadata": {
    "collapsed": false
   }
  },
  {
   "cell_type": "code",
   "execution_count": 66,
   "outputs": [],
   "source": [
    "class F1_Score(Metric):\n",
    "    def __init__(self):\n",
    "        self._name = 'f1'\n",
    "        self._maximize = True\n",
    "\n",
    "    def __call__(self, y_true, y_score):\n",
    "        score = f1_score(y_true, (y_score[:, 1]>0.5)*1, average='micro')\n",
    "        return score"
   ],
   "metadata": {
    "collapsed": false
   }
  },
  {
   "cell_type": "code",
   "execution_count": 67,
   "outputs": [
    {
     "name": "stdout",
     "output_type": "stream",
     "text": [
      "Customer_ID :  12500\n",
      "Month :  8\n",
      "Credit_Mix :  3\n",
      "Credit_History_Age :  2\n",
      "Payment_of_Min_Amount :  3\n",
      "Payment_Behaviour :  6\n"
     ]
    }
   ],
   "source": [
    "target = 'Credit_Score'\n",
    "cat_col = ['Customer_ID', 'Month', 'Credit_Mix', 'Credit_History_Age',\n",
    "           'Payment_of_Min_Amount', 'Payment_Behaviour']\n",
    "cat_dims = {}\n",
    "for col in cat_col:\n",
    "    cat_dims[col] = len(list(dfs[col].unique()))\n",
    "    print(col, ': ', cat_dims[col])\n",
    "cat_col_idx = [list(dfs.columns).index(col) for col in cat_col]\n",
    "cat_col_dims = [cat_dims[col] for col in cat_col]\n",
    "all_col_list = [col for col in dfs.columns if col !=target]"
   ],
   "metadata": {
    "collapsed": false
   }
  },
  {
   "cell_type": "code",
   "execution_count": 68,
   "outputs": [],
   "source": [
    "x_train = train.loc[:, all_col_list].values\n",
    "y_train = train.loc[:, target].values\n",
    "x_test = test.loc[:, all_col_list].values\n",
    "y_test = test.loc[:, target].values"
   ],
   "metadata": {
    "collapsed": false
   }
  },
  {
   "cell_type": "code",
   "execution_count": 70,
   "outputs": [
    {
     "name": "stdout",
     "output_type": "stream",
     "text": [
      "Before SMOTE ENN....\n",
      "The shape of your X data:  (75000, 21)\n",
      "The shape of your y data:  (75000,)\n",
      "Label Counts : \n",
      " 0    21782\n",
      "1    40214\n",
      "2    13004\n",
      "dtype: int64\n",
      "\n",
      "\n",
      "After SMOTE ENN Applied....\n",
      "The shape of your X_SME data:  (74703, 21)\n",
      "The shape of your y_SME data:  (74703,)\n",
      "Label Counts : \n",
      " 0    27507\n",
      "1    15619\n",
      "2    31577\n",
      "dtype: int64\n"
     ]
    }
   ],
   "source": [
    "x_sme, y_sme = sampling_smote_enn(x_train, y_train)"
   ],
   "metadata": {
    "collapsed": false
   }
  },
  {
   "cell_type": "code",
   "execution_count": 71,
   "outputs": [],
   "source": [
    "from sklearn.utils.class_weight import compute_class_weight"
   ],
   "metadata": {
    "collapsed": false
   }
  },
  {
   "cell_type": "code",
   "execution_count": 72,
   "outputs": [
    {
     "data": {
      "text/plain": "array([0.90526048, 1.5942762 , 0.7885803 ])"
     },
     "execution_count": 72,
     "metadata": {},
     "output_type": "execute_result"
    }
   ],
   "source": [
    "weights = compute_class_weight(class_weight = \"balanced\" ,\n",
    "                               classes=np.unique(y_sme),\n",
    "                               y = y_sme)\n",
    "\n",
    "weights"
   ],
   "metadata": {
    "collapsed": false
   }
  },
  {
   "cell_type": "code",
   "execution_count": 73,
   "outputs": [
    {
     "name": "stdout",
     "output_type": "stream",
     "text": [
      "Device used : cpu\n",
      "No early stopping will be performed, last training weights will be used.\n",
      "epoch 0  | loss: 4.34643 |  0:00:15s\n",
      "epoch 1  | loss: 2.27185 |  0:00:30s\n",
      "epoch 2  | loss: 1.75736 |  0:00:46s\n",
      "epoch 3  | loss: 1.39725 |  0:01:00s\n",
      "epoch 4  | loss: 1.2126  |  0:01:16s\n",
      "epoch 5  | loss: 1.07706 |  0:01:34s\n",
      "epoch 6  | loss: 1.04188 |  0:01:50s\n",
      "epoch 7  | loss: 1.02312 |  0:02:11s\n",
      "epoch 8  | loss: 1.01316 |  0:02:30s\n",
      "epoch 9  | loss: 0.99287 |  0:02:46s\n",
      "epoch 10 | loss: 0.97379 |  0:03:00s\n",
      "epoch 11 | loss: 0.96142 |  0:03:15s\n",
      "epoch 12 | loss: 0.95093 |  0:03:29s\n",
      "epoch 13 | loss: 0.94367 |  0:03:43s\n",
      "epoch 14 | loss: 0.93977 |  0:03:54s\n",
      "epoch 15 | loss: 0.93543 |  0:04:06s\n",
      "epoch 16 | loss: 0.93248 |  0:04:17s\n",
      "epoch 17 | loss: 0.93146 |  0:04:29s\n",
      "epoch 18 | loss: 0.92711 |  0:04:41s\n",
      "epoch 19 | loss: 0.92042 |  0:04:52s\n",
      "epoch 20 | loss: 0.91453 |  0:05:04s\n",
      "epoch 21 | loss: 0.90979 |  0:05:15s\n",
      "epoch 22 | loss: 0.90661 |  0:05:27s\n",
      "epoch 23 | loss: 0.90376 |  0:05:38s\n",
      "epoch 24 | loss: 0.90141 |  0:05:49s\n",
      "epoch 25 | loss: 0.89762 |  0:06:01s\n",
      "epoch 26 | loss: 0.89431 |  0:06:12s\n",
      "epoch 27 | loss: 0.89359 |  0:06:24s\n",
      "epoch 28 | loss: 0.89214 |  0:06:36s\n",
      "epoch 29 | loss: 0.88935 |  0:06:47s\n",
      "epoch 30 | loss: 0.88927 |  0:07:00s\n",
      "epoch 31 | loss: 0.88732 |  0:07:13s\n",
      "epoch 32 | loss: 0.88561 |  0:07:26s\n",
      "epoch 33 | loss: 0.88409 |  0:07:40s\n",
      "epoch 34 | loss: 0.88278 |  0:07:51s\n",
      "epoch 35 | loss: 0.88318 |  0:08:05s\n",
      "epoch 36 | loss: 0.87881 |  0:08:22s\n",
      "epoch 37 | loss: 0.87547 |  0:08:37s\n",
      "epoch 38 | loss: 0.87436 |  0:08:50s\n",
      "epoch 39 | loss: 0.87034 |  0:09:02s\n",
      "epoch 40 | loss: 0.86754 |  0:09:19s\n",
      "epoch 41 | loss: 0.86436 |  0:09:37s\n",
      "epoch 42 | loss: 0.86259 |  0:09:57s\n",
      "epoch 43 | loss: 0.85871 |  0:10:15s\n",
      "epoch 44 | loss: 0.85475 |  0:10:30s\n",
      "epoch 45 | loss: 0.85092 |  0:10:44s\n",
      "epoch 46 | loss: 0.85064 |  0:11:01s\n",
      "epoch 47 | loss: 0.84572 |  0:11:16s\n",
      "epoch 48 | loss: 0.84347 |  0:11:34s\n",
      "epoch 49 | loss: 0.84276 |  0:11:48s\n",
      "epoch 50 | loss: 0.83974 |  0:12:02s\n",
      "epoch 51 | loss: 0.83701 |  0:12:16s\n",
      "epoch 52 | loss: 0.83493 |  0:12:30s\n",
      "epoch 53 | loss: 0.83412 |  0:12:42s\n",
      "epoch 54 | loss: 0.83297 |  0:12:54s\n",
      "epoch 55 | loss: 0.83282 |  0:13:08s\n",
      "epoch 56 | loss: 0.83117 |  0:13:21s\n",
      "epoch 57 | loss: 0.82904 |  0:13:35s\n",
      "epoch 58 | loss: 0.82534 |  0:13:49s\n",
      "epoch 59 | loss: 0.82282 |  0:14:03s\n",
      "epoch 60 | loss: 0.82058 |  0:14:18s\n",
      "epoch 61 | loss: 0.8198  |  0:14:35s\n",
      "epoch 62 | loss: 0.82045 |  0:14:49s\n",
      "epoch 63 | loss: 0.81917 |  0:15:04s\n",
      "epoch 64 | loss: 0.81971 |  0:15:19s\n",
      "epoch 65 | loss: 0.81736 |  0:15:31s\n",
      "epoch 66 | loss: 0.81658 |  0:15:45s\n",
      "epoch 67 | loss: 0.81672 |  0:15:59s\n",
      "epoch 68 | loss: 0.81507 |  0:16:12s\n",
      "epoch 69 | loss: 0.81458 |  0:16:28s\n",
      "epoch 70 | loss: 0.81635 |  0:16:41s\n",
      "epoch 71 | loss: 0.81494 |  0:16:54s\n",
      "epoch 72 | loss: 0.81261 |  0:17:07s\n",
      "epoch 73 | loss: 0.80735 |  0:17:20s\n",
      "epoch 74 | loss: 0.80323 |  0:17:34s\n",
      "epoch 75 | loss: 0.79621 |  0:17:52s\n",
      "epoch 76 | loss: 0.79103 |  0:18:05s\n",
      "epoch 77 | loss: 0.78183 |  0:18:18s\n",
      "epoch 78 | loss: 0.77533 |  0:18:31s\n",
      "epoch 79 | loss: 0.76823 |  0:18:45s\n",
      "epoch 80 | loss: 0.75875 |  0:18:59s\n",
      "epoch 81 | loss: 0.74921 |  0:19:12s\n",
      "epoch 82 | loss: 0.7366  |  0:19:26s\n",
      "epoch 83 | loss: 0.72139 |  0:19:39s\n",
      "epoch 84 | loss: 0.70298 |  0:19:53s\n",
      "epoch 85 | loss: 0.68369 |  0:20:07s\n",
      "epoch 86 | loss: 0.66276 |  0:20:21s\n",
      "epoch 87 | loss: 0.6427  |  0:20:36s\n",
      "epoch 88 | loss: 0.62297 |  0:20:49s\n",
      "epoch 89 | loss: 0.60108 |  0:21:03s\n"
     ]
    }
   ],
   "source": [
    "# pretrain model\n",
    "unsupervised_model = TabNetPretrainer(\n",
    "    cat_idxs=cat_col_idx,\n",
    "    cat_dims=cat_col_dims,\n",
    "    cat_emb_dim=[int(round(np.sqrt(i)/4,0))+1 for i in cat_col_dims],\n",
    "    optimizer_fn=torch.optim.Adam,\n",
    "    optimizer_params=dict(lr=5*1e-3),\n",
    "    scheduler_params={'is_batch_level': True, 'T_0':10, 'T_mult':2, 'eta_min': 0.001},\n",
    "    scheduler_fn=torch.optim.lr_scheduler.CosineAnnealingWarmRestarts,\n",
    "    mask_type='entmax'\n",
    ")\n",
    "\n",
    "unsupervised_model.fit(\n",
    "    X_train=x_sme,\n",
    "    max_epochs=90,\n",
    "    drop_last=False,\n",
    "    pretraining_ratio=0.6, #0.5\n",
    ")\n",
    "\n",
    "reconstructed_X, embedded_X = unsupervised_model.predict(x_sme)\n",
    "assert(reconstructed_X.shape == embedded_X.shape)"
   ],
   "metadata": {
    "collapsed": false
   }
  },
  {
   "cell_type": "code",
   "execution_count": 74,
   "outputs": [
    {
     "name": "stdout",
     "output_type": "stream",
     "text": [
      "Device used : cpu\n"
     ]
    }
   ],
   "source": [
    "model = TabNetClassifier(\n",
    "    cat_idxs=cat_col_idx,\n",
    "    cat_dims=cat_col_dims,\n",
    "    cat_emb_dim=[int(round(np.sqrt(i)/4,0))+1 for i in cat_col_dims],\n",
    "    optimizer_fn=torch.optim.Adam,\n",
    "    optimizer_params=dict(lr=1e-3),\n",
    "    scheduler_params={'is_batch_level': True, 'T_0':10, 'T_mult':2, 'eta_min': 0.001},\n",
    "    scheduler_fn=torch.optim.lr_scheduler.CosineAnnealingWarmRestarts,\n",
    "    mask_type='sparsemax',\n",
    "    gamma=1.3,\n",
    "    )"
   ],
   "metadata": {
    "collapsed": false
   }
  },
  {
   "cell_type": "code",
   "execution_count": 75,
   "outputs": [
    {
     "name": "stdout",
     "output_type": "stream",
     "text": [
      "Loading weights from unsupervised pretraining\n",
      "epoch 0  | loss: 8.20009 | train_balanced_accuracy: 0.53951 | train_accuracy: 0.48194 |  0:00:13s\n",
      "epoch 1  | loss: 0.95942 | train_balanced_accuracy: 0.77918 | train_accuracy: 0.79929 |  0:00:26s\n",
      "epoch 2  | loss: 0.5735  | train_balanced_accuracy: 0.80897 | train_accuracy: 0.82938 |  0:00:39s\n",
      "epoch 3  | loss: 0.51206 | train_balanced_accuracy: 0.82426 | train_accuracy: 0.84347 |  0:00:52s\n",
      "epoch 4  | loss: 0.47766 | train_balanced_accuracy: 0.83502 | train_accuracy: 0.84821 |  0:01:06s\n",
      "epoch 5  | loss: 0.45106 | train_balanced_accuracy: 0.84558 | train_accuracy: 0.85871 |  0:01:20s\n",
      "epoch 6  | loss: 0.4212  | train_balanced_accuracy: 0.86022 | train_accuracy: 0.87141 |  0:01:33s\n",
      "epoch 7  | loss: 0.39833 | train_balanced_accuracy: 0.87033 | train_accuracy: 0.87577 |  0:01:46s\n",
      "epoch 8  | loss: 0.37164 | train_balanced_accuracy: 0.87722 | train_accuracy: 0.88573 |  0:02:00s\n",
      "epoch 9  | loss: 0.35253 | train_balanced_accuracy: 0.88821 | train_accuracy: 0.8944  |  0:02:13s\n",
      "epoch 10 | loss: 0.32673 | train_balanced_accuracy: 0.90086 | train_accuracy: 0.90419 |  0:02:26s\n",
      "epoch 11 | loss: 0.30457 | train_balanced_accuracy: 0.90973 | train_accuracy: 0.91149 |  0:02:39s\n",
      "epoch 12 | loss: 0.28434 | train_balanced_accuracy: 0.91477 | train_accuracy: 0.91627 |  0:02:53s\n",
      "epoch 13 | loss: 0.26511 | train_balanced_accuracy: 0.91924 | train_accuracy: 0.92035 |  0:03:06s\n",
      "epoch 14 | loss: 0.24584 | train_balanced_accuracy: 0.92685 | train_accuracy: 0.92793 |  0:03:19s\n",
      "epoch 15 | loss: 0.23308 | train_balanced_accuracy: 0.93087 | train_accuracy: 0.93202 |  0:03:33s\n",
      "epoch 16 | loss: 0.22178 | train_balanced_accuracy: 0.93625 | train_accuracy: 0.93704 |  0:03:46s\n",
      "epoch 17 | loss: 0.21366 | train_balanced_accuracy: 0.93976 | train_accuracy: 0.93969 |  0:04:00s\n",
      "epoch 18 | loss: 0.19608 | train_balanced_accuracy: 0.94304 | train_accuracy: 0.94145 |  0:04:13s\n",
      "epoch 19 | loss: 0.18732 | train_balanced_accuracy: 0.94595 | train_accuracy: 0.94538 |  0:04:26s\n",
      "epoch 20 | loss: 0.17723 | train_balanced_accuracy: 0.94825 | train_accuracy: 0.94894 |  0:04:38s\n",
      "epoch 21 | loss: 0.16518 | train_balanced_accuracy: 0.95226 | train_accuracy: 0.95142 |  0:04:49s\n",
      "epoch 22 | loss: 0.15866 | train_balanced_accuracy: 0.95349 | train_accuracy: 0.95299 |  0:04:59s\n",
      "epoch 23 | loss: 0.15259 | train_balanced_accuracy: 0.95583 | train_accuracy: 0.95624 |  0:05:10s\n",
      "epoch 24 | loss: 0.14819 | train_balanced_accuracy: 0.9589  | train_accuracy: 0.95798 |  0:05:23s\n",
      "epoch 25 | loss: 0.14277 | train_balanced_accuracy: 0.96092 | train_accuracy: 0.96007 |  0:05:36s\n",
      "epoch 26 | loss: 0.13862 | train_balanced_accuracy: 0.96139 | train_accuracy: 0.9603  |  0:05:49s\n",
      "epoch 27 | loss: 0.13489 | train_balanced_accuracy: 0.96243 | train_accuracy: 0.96143 |  0:06:02s\n",
      "epoch 28 | loss: 0.13307 | train_balanced_accuracy: 0.96412 | train_accuracy: 0.96329 |  0:06:16s\n",
      "epoch 29 | loss: 0.12669 | train_balanced_accuracy: 0.96517 | train_accuracy: 0.96347 |  0:06:30s\n",
      "epoch 30 | loss: 0.12081 | train_balanced_accuracy: 0.96649 | train_accuracy: 0.9657  |  0:06:43s\n",
      "epoch 31 | loss: 0.11705 | train_balanced_accuracy: 0.96711 | train_accuracy: 0.96578 |  0:06:57s\n",
      "epoch 32 | loss: 0.11498 | train_balanced_accuracy: 0.96953 | train_accuracy: 0.96878 |  0:07:09s\n",
      "epoch 33 | loss: 0.11237 | train_balanced_accuracy: 0.97077 | train_accuracy: 0.96969 |  0:07:23s\n",
      "epoch 34 | loss: 0.10982 | train_balanced_accuracy: 0.9708  | train_accuracy: 0.96963 |  0:07:36s\n",
      "epoch 35 | loss: 0.10591 | train_balanced_accuracy: 0.972   | train_accuracy: 0.97058 |  0:07:49s\n",
      "epoch 36 | loss: 0.10298 | train_balanced_accuracy: 0.9716  | train_accuracy: 0.97091 |  0:08:04s\n",
      "epoch 37 | loss: 0.09756 | train_balanced_accuracy: 0.97275 | train_accuracy: 0.97188 |  0:08:17s\n",
      "epoch 38 | loss: 0.09625 | train_balanced_accuracy: 0.97374 | train_accuracy: 0.97273 |  0:08:30s\n",
      "epoch 39 | loss: 0.09534 | train_balanced_accuracy: 0.97476 | train_accuracy: 0.97399 |  0:08:43s\n",
      "epoch 40 | loss: 0.0898  | train_balanced_accuracy: 0.97585 | train_accuracy: 0.97458 |  0:08:57s\n",
      "epoch 41 | loss: 0.0905  | train_balanced_accuracy: 0.97593 | train_accuracy: 0.97514 |  0:09:10s\n",
      "epoch 42 | loss: 0.08825 | train_balanced_accuracy: 0.97756 | train_accuracy: 0.97644 |  0:09:23s\n",
      "epoch 43 | loss: 0.08672 | train_balanced_accuracy: 0.97773 | train_accuracy: 0.97665 |  0:09:36s\n",
      "epoch 44 | loss: 0.08169 | train_balanced_accuracy: 0.97895 | train_accuracy: 0.97773 |  0:09:50s\n",
      "epoch 45 | loss: 0.08097 | train_balanced_accuracy: 0.97885 | train_accuracy: 0.97739 |  0:10:04s\n",
      "epoch 46 | loss: 0.08048 | train_balanced_accuracy: 0.98044 | train_accuracy: 0.97924 |  0:10:17s\n",
      "epoch 47 | loss: 0.07859 | train_balanced_accuracy: 0.98026 | train_accuracy: 0.9787  |  0:10:32s\n",
      "epoch 48 | loss: 0.07127 | train_balanced_accuracy: 0.98128 | train_accuracy: 0.97995 |  0:10:50s\n",
      "epoch 49 | loss: 0.07268 | train_balanced_accuracy: 0.98026 | train_accuracy: 0.98003 |  0:11:04s\n",
      "Stop training because you reached max_epochs = 50 with best_epoch = 49 and best_train_accuracy = 0.98003\n",
      "Best weights from best epoch are automatically used!\n"
     ]
    }
   ],
   "source": [
    "model.fit(\n",
    "    X_train=x_sme,\n",
    "    y_train=y_sme,\n",
    "    eval_set=[(x_sme, y_sme)],\n",
    "    eval_name=['train'],\n",
    "    eval_metric=['balanced_accuracy', 'accuracy'],\n",
    "    max_epochs=50,\n",
    "    patience=5,\n",
    "    weights=1,  # 0: no, 1: balanced, dict: customized\n",
    "    batch_size=512,\n",
    "    virtual_batch_size=128,\n",
    "    num_workers=0,\n",
    "    drop_last=False,\n",
    "    from_unsupervised=unsupervised_model,\n",
    ")"
   ],
   "metadata": {
    "collapsed": false
   }
  },
  {
   "cell_type": "markdown",
   "source": [
    "#### Result"
   ],
   "metadata": {
    "collapsed": false
   }
  },
  {
   "cell_type": "code",
   "execution_count": 76,
   "outputs": [],
   "source": [
    "from sklearn.metrics import classification_report"
   ],
   "metadata": {
    "collapsed": false
   }
  },
  {
   "cell_type": "code",
   "execution_count": 77,
   "outputs": [
    {
     "name": "stdout",
     "output_type": "stream",
     "text": [
      "Customer_ID :  0.44\n",
      "Month :  0.098\n",
      "Age :  0.0\n",
      "Monthly_Inhand_Salary :  0.002\n",
      "Num_Bank_Accounts :  0.031\n",
      "Num_Credit_Card :  0.036\n",
      "Interest_Rate :  0.036\n",
      "Num_of_Loan :  0.021\n",
      "Delay_from_due_date :  0.043\n",
      "Num_of_Delayed_Payment :  0.003\n",
      "Changed_Credit_Limit :  0.003\n",
      "Num_Credit_Inquiries :  0.024\n",
      "Credit_Mix :  0.065\n",
      "Outstanding_Debt :  0.055\n",
      "Credit_Utilization_Ratio :  0.003\n",
      "Credit_History_Age :  0.014\n",
      "Payment_of_Min_Amount :  0.011\n",
      "Total_EMI_per_month :  0.019\n",
      "Amount_invested_monthly :  0.014\n",
      "Payment_Behaviour :  0.044\n",
      "Monthly_Balance :  0.036\n"
     ]
    }
   ],
   "source": [
    "for i in range(len(all_col_list)):\n",
    "    print(all_col_list[i], ': ', model.feature_importances_.round(3)[i])"
   ],
   "metadata": {
    "collapsed": false
   }
  },
  {
   "cell_type": "code",
   "execution_count": 78,
   "outputs": [
    {
     "name": "stdout",
     "output_type": "stream",
     "text": [
      "              precision    recall  f1-score   support\n",
      "\n",
      "           0       0.75      0.90      0.82     21782\n",
      "           1       0.95      0.71      0.81     40214\n",
      "           2       0.65      0.94      0.77     13004\n",
      "\n",
      "    accuracy                           0.80     75000\n",
      "   macro avg       0.78      0.85      0.80     75000\n",
      "weighted avg       0.84      0.80      0.81     75000\n",
      "\n"
     ]
    }
   ],
   "source": [
    "print(classification_report(y_true=y_train, y_pred=model.predict(x_train)))"
   ],
   "metadata": {
    "collapsed": false
   }
  },
  {
   "cell_type": "code",
   "execution_count": 26,
   "outputs": [],
   "source": [
    "# f1_score(y_train, (model.predict(x_train)))"
   ],
   "metadata": {
    "collapsed": false
   }
  },
  {
   "cell_type": "code",
   "execution_count": 79,
   "outputs": [],
   "source": [
    "predicted = model.predict(x_test)"
   ],
   "metadata": {
    "collapsed": false
   }
  },
  {
   "cell_type": "code",
   "execution_count": 80,
   "outputs": [
    {
     "name": "stdout",
     "output_type": "stream",
     "text": [
      "0.6480747897150249\n",
      "0.64336\n"
     ]
    }
   ],
   "source": [
    "print(f1_score(y_test, predicted, average='weighted'))\n",
    "print(accuracy_score(y_test, predicted))"
   ],
   "metadata": {
    "collapsed": false
   }
  },
  {
   "cell_type": "code",
   "execution_count": 81,
   "outputs": [
    {
     "name": "stdout",
     "output_type": "stream",
     "text": [
      "              precision    recall  f1-score   support\n",
      "\n",
      "           0       0.67      0.71      0.69      7216\n",
      "           1       0.77      0.57      0.65     12960\n",
      "           2       0.46      0.74      0.57      4824\n",
      "\n",
      "    accuracy                           0.64     25000\n",
      "   macro avg       0.63      0.67      0.64     25000\n",
      "weighted avg       0.68      0.64      0.65     25000\n",
      "\n"
     ]
    }
   ],
   "source": [
    "print(classification_report(y_test, predicted))"
   ],
   "metadata": {
    "collapsed": false
   }
  },
  {
   "cell_type": "code",
   "execution_count": 82,
   "outputs": [
    {
     "name": "stdout",
     "output_type": "stream",
     "text": [
      "[[5148 1064 1004]\n",
      " [2403 7353 3204]\n",
      " [ 108 1133 3583]]\n"
     ]
    }
   ],
   "source": [
    "print(confusion_matrix(y_test, predicted))"
   ],
   "metadata": {
    "collapsed": false
   }
  },
  {
   "cell_type": "markdown",
   "source": [
    "class weight 부여 후 0과 2클래스에 대해 더 많이 맞췄음."
   ],
   "metadata": {
    "collapsed": false
   }
  },
  {
   "cell_type": "code",
   "execution_count": 83,
   "outputs": [
    {
     "data": {
      "text/plain": "<Figure size 1152x720 with 3 Axes>",
      "image/png": "[encoded data removed]"
     },
     "metadata": {
      "needs_background": "light"
     },
     "output_type": "display_data"
    }
   ],
   "source": [
    "explain_matrix, masks = model.explain(x_test)\n",
    "\n",
    "fig, axs = plt.subplots(1, 3, figsize=(16,10))\n",
    "for i in range(3):\n",
    "    axs[i].imshow(masks[i][:50])\n",
    "    axs[i].set_title(f\"mask {i}\")"
   ],
   "metadata": {
    "collapsed": false
   }
  },
  {
   "cell_type": "markdown",
   "source": [
    "Without Class_weights"
   ],
   "metadata": {
    "collapsed": false
   }
  },
  {
   "cell_type": "code",
   "execution_count": 84,
   "outputs": [
    {
     "name": "stdout",
     "output_type": "stream",
     "text": [
      "Loading weights from unsupervised pretraining\n",
      "epoch 0  | loss: 1.65824 | train_balanced_accuracy: 0.72305 | train_accuracy: 0.7804  |  0:00:15s\n",
      "epoch 1  | loss: 0.53688 | train_balanced_accuracy: 0.80609 | train_accuracy: 0.83844 |  0:00:28s\n",
      "epoch 2  | loss: 0.48049 | train_balanced_accuracy: 0.81825 | train_accuracy: 0.84699 |  0:00:43s\n",
      "epoch 3  | loss: 0.45191 | train_balanced_accuracy: 0.82259 | train_accuracy: 0.85121 |  0:00:56s\n",
      "epoch 4  | loss: 0.43172 | train_balanced_accuracy: 0.82547 | train_accuracy: 0.85588 |  0:01:09s\n",
      "epoch 5  | loss: 0.41822 | train_balanced_accuracy: 0.83181 | train_accuracy: 0.86069 |  0:01:23s\n",
      "epoch 6  | loss: 0.40101 | train_balanced_accuracy: 0.84289 | train_accuracy: 0.86568 |  0:01:37s\n",
      "epoch 7  | loss: 0.38077 | train_balanced_accuracy: 0.8509  | train_accuracy: 0.87469 |  0:01:52s\n",
      "epoch 8  | loss: 0.36028 | train_balanced_accuracy: 0.86479 | train_accuracy: 0.88255 |  0:02:06s\n",
      "epoch 9  | loss: 0.33792 | train_balanced_accuracy: 0.87432 | train_accuracy: 0.89253 |  0:02:19s\n",
      "epoch 10 | loss: 0.31057 | train_balanced_accuracy: 0.88642 | train_accuracy: 0.90434 |  0:02:33s\n",
      "epoch 11 | loss: 0.28915 | train_balanced_accuracy: 0.89792 | train_accuracy: 0.9119  |  0:02:47s\n",
      "epoch 12 | loss: 0.26756 | train_balanced_accuracy: 0.90807 | train_accuracy: 0.92002 |  0:03:01s\n",
      "epoch 13 | loss: 0.24838 | train_balanced_accuracy: 0.91116 | train_accuracy: 0.92524 |  0:03:15s\n",
      "epoch 14 | loss: 0.23228 | train_balanced_accuracy: 0.92209 | train_accuracy: 0.9331  |  0:03:28s\n",
      "epoch 15 | loss: 0.216   | train_balanced_accuracy: 0.92741 | train_accuracy: 0.93797 |  0:03:42s\n",
      "epoch 16 | loss: 0.20354 | train_balanced_accuracy: 0.93471 | train_accuracy: 0.94271 |  0:03:56s\n",
      "epoch 17 | loss: 0.18916 | train_balanced_accuracy: 0.93786 | train_accuracy: 0.94534 |  0:04:10s\n",
      "epoch 18 | loss: 0.17863 | train_balanced_accuracy: 0.94662 | train_accuracy: 0.95292 |  0:04:23s\n",
      "epoch 19 | loss: 0.16667 | train_balanced_accuracy: 0.95294 | train_accuracy: 0.95647 |  0:04:37s\n",
      "epoch 20 | loss: 0.1589  | train_balanced_accuracy: 0.95327 | train_accuracy: 0.95873 |  0:04:51s\n",
      "epoch 21 | loss: 0.14882 | train_balanced_accuracy: 0.95903 | train_accuracy: 0.96241 |  0:05:05s\n",
      "epoch 22 | loss: 0.14075 | train_balanced_accuracy: 0.96107 | train_accuracy: 0.96473 |  0:05:18s\n",
      "epoch 23 | loss: 0.13278 | train_balanced_accuracy: 0.96315 | train_accuracy: 0.96688 |  0:05:33s\n",
      "epoch 24 | loss: 0.12771 | train_balanced_accuracy: 0.96665 | train_accuracy: 0.96896 |  0:05:46s\n",
      "epoch 25 | loss: 0.12078 | train_balanced_accuracy: 0.96803 | train_accuracy: 0.97032 |  0:06:02s\n",
      "epoch 26 | loss: 0.11543 | train_balanced_accuracy: 0.96896 | train_accuracy: 0.9725  |  0:06:17s\n",
      "epoch 27 | loss: 0.11195 | train_balanced_accuracy: 0.97172 | train_accuracy: 0.97412 |  0:06:30s\n",
      "epoch 28 | loss: 0.10639 | train_balanced_accuracy: 0.97342 | train_accuracy: 0.97581 |  0:06:43s\n",
      "epoch 29 | loss: 0.10162 | train_balanced_accuracy: 0.97294 | train_accuracy: 0.97649 |  0:06:56s\n",
      "epoch 30 | loss: 0.09737 | train_balanced_accuracy: 0.97621 | train_accuracy: 0.97851 |  0:07:09s\n",
      "epoch 31 | loss: 0.09401 | train_balanced_accuracy: 0.9765  | train_accuracy: 0.97925 |  0:07:25s\n",
      "epoch 32 | loss: 0.08959 | train_balanced_accuracy: 0.97839 | train_accuracy: 0.97967 |  0:07:38s\n",
      "epoch 33 | loss: 0.08633 | train_balanced_accuracy: 0.97922 | train_accuracy: 0.98115 |  0:07:52s\n",
      "epoch 34 | loss: 0.08376 | train_balanced_accuracy: 0.97885 | train_accuracy: 0.98106 |  0:08:06s\n",
      "epoch 35 | loss: 0.07961 | train_balanced_accuracy: 0.98167 | train_accuracy: 0.98293 |  0:08:20s\n",
      "epoch 36 | loss: 0.07808 | train_balanced_accuracy: 0.98234 | train_accuracy: 0.98324 |  0:08:34s\n",
      "epoch 37 | loss: 0.07446 | train_balanced_accuracy: 0.98255 | train_accuracy: 0.98376 |  0:08:47s\n",
      "epoch 38 | loss: 0.07431 | train_balanced_accuracy: 0.98287 | train_accuracy: 0.98442 |  0:09:00s\n",
      "epoch 39 | loss: 0.07172 | train_balanced_accuracy: 0.98387 | train_accuracy: 0.98557 |  0:09:14s\n",
      "epoch 40 | loss: 0.0693  | train_balanced_accuracy: 0.98511 | train_accuracy: 0.98616 |  0:09:30s\n",
      "epoch 41 | loss: 0.06698 | train_balanced_accuracy: 0.98421 | train_accuracy: 0.98619 |  0:09:44s\n",
      "epoch 42 | loss: 0.06419 | train_balanced_accuracy: 0.98632 | train_accuracy: 0.98759 |  0:09:57s\n",
      "epoch 43 | loss: 0.06152 | train_balanced_accuracy: 0.98664 | train_accuracy: 0.98764 |  0:10:14s\n",
      "epoch 44 | loss: 0.06036 | train_balanced_accuracy: 0.987   | train_accuracy: 0.98847 |  0:10:29s\n",
      "epoch 45 | loss: 0.05877 | train_balanced_accuracy: 0.98768 | train_accuracy: 0.98842 |  0:10:45s\n",
      "epoch 46 | loss: 0.05704 | train_balanced_accuracy: 0.98835 | train_accuracy: 0.98925 |  0:11:00s\n",
      "epoch 47 | loss: 0.05532 | train_balanced_accuracy: 0.98865 | train_accuracy: 0.98959 |  0:11:16s\n",
      "epoch 48 | loss: 0.05434 | train_balanced_accuracy: 0.989   | train_accuracy: 0.99007 |  0:11:30s\n",
      "epoch 49 | loss: 0.05228 | train_balanced_accuracy: 0.98908 | train_accuracy: 0.99029 |  0:11:46s\n",
      "Stop training because you reached max_epochs = 50 with best_epoch = 49 and best_train_accuracy = 0.99029\n",
      "Best weights from best epoch are automatically used!\n"
     ]
    }
   ],
   "source": [
    "model.fit(\n",
    "    X_train=x_sme,\n",
    "    y_train=y_sme,\n",
    "    eval_set=[(x_sme, y_sme)],\n",
    "    eval_name=['train'],\n",
    "    eval_metric=['balanced_accuracy', 'accuracy'],\n",
    "    max_epochs=50,\n",
    "    patience=5,\n",
    "    weights=0,  # 0: no, 1: balanced, dict: customized\n",
    "    batch_size=512,\n",
    "    virtual_batch_size=128,\n",
    "    num_workers=0,\n",
    "    drop_last=False,\n",
    "    from_unsupervised=unsupervised_model,\n",
    ")"
   ],
   "metadata": {
    "collapsed": false
   }
  },
  {
   "cell_type": "markdown",
   "source": [
    "#### Result"
   ],
   "metadata": {
    "collapsed": false
   }
  },
  {
   "cell_type": "code",
   "execution_count": 85,
   "outputs": [],
   "source": [
    "from sklearn.metrics import classification_report"
   ],
   "metadata": {
    "collapsed": false
   }
  },
  {
   "cell_type": "code",
   "execution_count": 86,
   "outputs": [
    {
     "name": "stdout",
     "output_type": "stream",
     "text": [
      "Customer_ID :  0.564\n",
      "Month :  0.066\n",
      "Age :  0.0\n",
      "Monthly_Inhand_Salary :  0.0\n",
      "Num_Bank_Accounts :  0.019\n",
      "Num_Credit_Card :  0.04\n",
      "Interest_Rate :  0.016\n",
      "Num_of_Loan :  0.014\n",
      "Delay_from_due_date :  0.041\n",
      "Num_of_Delayed_Payment :  0.0\n",
      "Changed_Credit_Limit :  0.007\n",
      "Num_Credit_Inquiries :  0.017\n",
      "Credit_Mix :  0.068\n",
      "Outstanding_Debt :  0.031\n",
      "Credit_Utilization_Ratio :  0.0\n",
      "Credit_History_Age :  0.018\n",
      "Payment_of_Min_Amount :  0.016\n",
      "Total_EMI_per_month :  0.004\n",
      "Amount_invested_monthly :  0.001\n",
      "Payment_Behaviour :  0.048\n",
      "Monthly_Balance :  0.028\n"
     ]
    }
   ],
   "source": [
    "for i in range(len(all_col_list)):\n",
    "    print(all_col_list[i], ': ', model.feature_importances_.round(3)[i])"
   ],
   "metadata": {
    "collapsed": false
   }
  },
  {
   "cell_type": "code",
   "execution_count": 87,
   "outputs": [
    {
     "name": "stdout",
     "output_type": "stream",
     "text": [
      "              precision    recall  f1-score   support\n",
      "\n",
      "           0       0.76      0.92      0.83     21782\n",
      "           1       0.95      0.72      0.82     40214\n",
      "           2       0.67      0.95      0.79     13004\n",
      "\n",
      "    accuracy                           0.81     75000\n",
      "   macro avg       0.79      0.86      0.81     75000\n",
      "weighted avg       0.85      0.81      0.82     75000\n",
      "\n"
     ]
    }
   ],
   "source": [
    "print(classification_report(y_true=y_train, y_pred=model.predict(x_train)))"
   ],
   "metadata": {
    "collapsed": false
   }
  },
  {
   "cell_type": "code",
   "execution_count": 88,
   "outputs": [],
   "source": [
    "# f1_score(y_train, (model.predict(x_train)))"
   ],
   "metadata": {
    "collapsed": false
   }
  },
  {
   "cell_type": "code",
   "execution_count": 89,
   "outputs": [],
   "source": [
    "predicted = model.predict(x_test)"
   ],
   "metadata": {
    "collapsed": false
   }
  },
  {
   "cell_type": "code",
   "execution_count": 90,
   "outputs": [
    {
     "name": "stdout",
     "output_type": "stream",
     "text": [
      "0.6586681611336666\n",
      "0.65592\n"
     ]
    }
   ],
   "source": [
    "print(f1_score(y_test, predicted, average='weighted'))\n",
    "print(accuracy_score(y_test, predicted))"
   ],
   "metadata": {
    "collapsed": false
   }
  },
  {
   "cell_type": "code",
   "execution_count": 91,
   "outputs": [
    {
     "name": "stdout",
     "output_type": "stream",
     "text": [
      "              precision    recall  f1-score   support\n",
      "\n",
      "           0       0.67      0.70      0.69      7216\n",
      "           1       0.75      0.60      0.66     12960\n",
      "           2       0.51      0.74      0.60      4824\n",
      "\n",
      "    accuracy                           0.66     25000\n",
      "   macro avg       0.64      0.68      0.65     25000\n",
      "weighted avg       0.68      0.66      0.66     25000\n",
      "\n"
     ]
    }
   ],
   "source": [
    "print(classification_report(y_test, predicted))"
   ],
   "metadata": {
    "collapsed": false
   }
  },
  {
   "cell_type": "code",
   "execution_count": 92,
   "outputs": [
    {
     "name": "stdout",
     "output_type": "stream",
     "text": [
      "[[5058 1464  694]\n",
      " [2388 7753 2819]\n",
      " [  95 1142 3587]]\n"
     ]
    }
   ],
   "source": [
    "print(confusion_matrix(y_test, predicted))"
   ],
   "metadata": {
    "collapsed": false
   }
  },
  {
   "cell_type": "code",
   "execution_count": 93,
   "outputs": [
    {
     "data": {
      "text/plain": "<Figure size 1152x720 with 3 Axes>",
      "image/png": "[encoded data removed]"
     },
     "metadata": {
      "needs_background": "light"
     },
     "output_type": "display_data"
    }
   ],
   "source": [
    "explain_matrix, masks = model.explain(x_test)\n",
    "\n",
    "fig, axs = plt.subplots(1, 3, figsize=(16,10))\n",
    "for i in range(3):\n",
    "    axs[i].imshow(masks[i][:50])\n",
    "    axs[i].set_title(f\"mask {i}\")"
   ],
   "metadata": {
    "collapsed": false
   }
  },
  {
   "cell_type": "code",
   "execution_count": null,
   "outputs": [],
   "source": [],
   "metadata": {
    "collapsed": false
   }
  },
  {
   "cell_type": "code",
   "execution_count": null,
   "outputs": [],
   "source": [],
   "metadata": {
    "collapsed": false
   }
  },
  {
   "cell_type": "code",
   "execution_count": 94,
   "outputs": [
    {
     "data": {
      "text/plain": "1    40214\n0    21782\n2    13004\ndtype: int64"
     },
     "execution_count": 94,
     "metadata": {},
     "output_type": "execute_result"
    }
   ],
   "source": [
    "pd.Series(y_train).value_counts()"
   ],
   "metadata": {
    "collapsed": false
   }
  },
  {
   "cell_type": "markdown",
   "source": [
    "위에서는 ENN으로 다수 데이터를 약 2만3천여개 줄였음. 정보의 유실이 많은 상태였음. 이번엔 유실을 완화시켜보도록 함"
   ],
   "metadata": {
    "collapsed": false
   }
  },
  {
   "cell_type": "code",
   "execution_count": 95,
   "outputs": [],
   "source": [
    "enn = EditedNearestNeighbours(kind_sel='mode', n_jobs=-1) # less conservative"
   ],
   "metadata": {
    "collapsed": false
   }
  },
  {
   "cell_type": "code",
   "execution_count": 96,
   "outputs": [
    {
     "name": "stdout",
     "output_type": "stream",
     "text": [
      "Before SMOTE ENN....\n",
      "The shape of your X data:  (75000, 21)\n",
      "The shape of your y data:  (75000,)\n",
      "Label Counts : \n",
      " 0    21782\n",
      "1    40214\n",
      "2    13004\n",
      "dtype: int64\n",
      "\n",
      "\n",
      "After SMOTE ENN Applied....\n",
      "The shape of your X_SME data:  (102463, 21)\n",
      "The shape of your y_SME data:  (102463,)\n",
      "Label Counts : \n",
      " 0    40214\n",
      "1    24534\n",
      "2    37715\n",
      "dtype: int64\n"
     ]
    }
   ],
   "source": [
    "x_sme, y_sme = sampling_smote_enn(x_train, y_train, smote=smote, enn=enn)"
   ],
   "metadata": {
    "collapsed": false
   }
  },
  {
   "cell_type": "code",
   "execution_count": null,
   "outputs": [],
   "source": [],
   "metadata": {
    "collapsed": false
   }
  },
  {
   "cell_type": "code",
   "execution_count": 98,
   "outputs": [
    {
     "name": "stdout",
     "output_type": "stream",
     "text": [
      "Device used : cpu\n",
      "No early stopping will be performed, last training weights will be used.\n",
      "epoch 0  | loss: 3.91526 |  0:00:23s\n",
      "epoch 1  | loss: 1.9489  |  0:00:44s\n",
      "epoch 2  | loss: 1.42341 |  0:01:06s\n",
      "epoch 3  | loss: 1.1632  |  0:01:27s\n",
      "epoch 4  | loss: 1.05293 |  0:01:48s\n",
      "epoch 5  | loss: 1.02697 |  0:02:11s\n",
      "epoch 6  | loss: 1.00979 |  0:02:30s\n",
      "epoch 7  | loss: 0.98161 |  0:02:46s\n",
      "epoch 8  | loss: 0.96538 |  0:03:05s\n",
      "epoch 9  | loss: 0.95332 |  0:03:22s\n",
      "epoch 10 | loss: 0.94659 |  0:03:41s\n",
      "epoch 11 | loss: 0.94321 |  0:03:59s\n",
      "epoch 12 | loss: 0.94056 |  0:04:17s\n",
      "epoch 13 | loss: 0.93409 |  0:04:36s\n",
      "epoch 14 | loss: 0.92628 |  0:04:55s\n",
      "epoch 15 | loss: 0.91971 |  0:05:13s\n",
      "epoch 16 | loss: 0.9158  |  0:05:32s\n",
      "epoch 17 | loss: 0.90947 |  0:05:50s\n",
      "epoch 18 | loss: 0.90306 |  0:06:08s\n",
      "epoch 19 | loss: 0.8995  |  0:06:26s\n",
      "epoch 20 | loss: 0.89703 |  0:06:45s\n",
      "epoch 21 | loss: 0.89356 |  0:07:03s\n",
      "epoch 22 | loss: 0.89233 |  0:07:21s\n",
      "epoch 23 | loss: 0.89017 |  0:07:39s\n",
      "epoch 24 | loss: 0.88962 |  0:07:57s\n",
      "epoch 25 | loss: 0.88819 |  0:08:15s\n",
      "epoch 26 | loss: 0.88429 |  0:08:37s\n",
      "epoch 27 | loss: 0.87948 |  0:08:57s\n",
      "epoch 28 | loss: 0.87554 |  0:09:15s\n",
      "epoch 29 | loss: 0.87276 |  0:09:35s\n",
      "epoch 30 | loss: 0.87028 |  0:09:54s\n",
      "epoch 31 | loss: 0.86803 |  0:10:35s\n",
      "epoch 32 | loss: 0.865   |  0:11:01s\n",
      "epoch 33 | loss: 0.86175 |  0:11:20s\n",
      "epoch 34 | loss: 0.85921 |  0:11:39s\n",
      "epoch 35 | loss: 0.85675 |  0:11:56s\n",
      "epoch 36 | loss: 0.85481 |  0:12:15s\n",
      "epoch 37 | loss: 0.85342 |  0:12:34s\n",
      "epoch 38 | loss: 0.8534  |  0:12:52s\n",
      "epoch 39 | loss: 0.85196 |  0:13:11s\n",
      "epoch 40 | loss: 0.85087 |  0:13:29s\n",
      "epoch 41 | loss: 0.85102 |  0:13:47s\n",
      "epoch 42 | loss: 0.84993 |  0:14:05s\n",
      "epoch 43 | loss: 0.84948 |  0:14:23s\n",
      "epoch 44 | loss: 0.84728 |  0:14:41s\n",
      "epoch 45 | loss: 0.84656 |  0:15:00s\n",
      "epoch 46 | loss: 0.84577 |  0:15:18s\n",
      "epoch 47 | loss: 0.84576 |  0:15:36s\n",
      "epoch 48 | loss: 0.84493 |  0:15:54s\n",
      "epoch 49 | loss: 0.84511 |  0:16:12s\n",
      "epoch 50 | loss: 0.84506 |  0:16:31s\n",
      "epoch 51 | loss: 0.84566 |  0:16:50s\n",
      "epoch 52 | loss: 0.84071 |  0:17:10s\n",
      "epoch 53 | loss: 0.83846 |  0:17:27s\n",
      "epoch 54 | loss: 0.83415 |  0:17:45s\n",
      "epoch 55 | loss: 0.83072 |  0:18:03s\n",
      "epoch 56 | loss: 0.82843 |  0:18:21s\n",
      "epoch 57 | loss: 0.82565 |  0:18:39s\n",
      "epoch 58 | loss: 0.82262 |  0:18:58s\n",
      "epoch 59 | loss: 0.81753 |  0:19:16s\n",
      "epoch 60 | loss: 0.81296 |  0:19:34s\n",
      "epoch 61 | loss: 0.80797 |  0:19:51s\n",
      "epoch 62 | loss: 0.80217 |  0:20:10s\n",
      "epoch 63 | loss: 0.79546 |  0:20:28s\n",
      "epoch 64 | loss: 0.78846 |  0:20:46s\n",
      "epoch 65 | loss: 0.78066 |  0:21:03s\n",
      "epoch 66 | loss: 0.77006 |  0:21:21s\n",
      "epoch 67 | loss: 0.75572 |  0:21:39s\n",
      "epoch 68 | loss: 0.73331 |  0:21:58s\n",
      "epoch 69 | loss: 0.70822 |  0:22:16s\n",
      "epoch 70 | loss: 0.68177 |  0:22:33s\n",
      "epoch 71 | loss: 0.65817 |  0:22:51s\n",
      "epoch 72 | loss: 0.63507 |  0:23:10s\n",
      "epoch 73 | loss: 0.61274 |  0:23:47s\n",
      "epoch 74 | loss: 0.59159 |  0:24:58s\n",
      "epoch 75 | loss: 0.57224 |  0:25:46s\n",
      "epoch 76 | loss: 0.55313 |  0:26:20s\n",
      "epoch 77 | loss: 0.53615 |  0:26:46s\n",
      "epoch 78 | loss: 0.52112 |  0:27:04s\n",
      "epoch 79 | loss: 0.50478 |  0:27:23s\n",
      "epoch 80 | loss: 0.49188 |  0:27:41s\n",
      "epoch 81 | loss: 0.48052 |  0:27:59s\n",
      "epoch 82 | loss: 0.46879 |  0:28:19s\n",
      "epoch 83 | loss: 0.45836 |  0:28:38s\n",
      "epoch 84 | loss: 0.44854 |  0:28:56s\n",
      "epoch 85 | loss: 0.43912 |  0:29:15s\n",
      "epoch 86 | loss: 0.43229 |  0:29:33s\n",
      "epoch 87 | loss: 0.42474 |  0:29:51s\n",
      "epoch 88 | loss: 0.41754 |  0:30:08s\n",
      "epoch 89 | loss: 0.41105 |  0:30:29s\n"
     ]
    }
   ],
   "source": [
    "# pretrain model\n",
    "unsupervised_model = TabNetPretrainer(\n",
    "    cat_idxs=cat_col_idx,\n",
    "    cat_dims=cat_col_dims,\n",
    "    cat_emb_dim=[int(round(np.sqrt(i)/4,0))+1 for i in cat_col_dims],\n",
    "    optimizer_fn=torch.optim.Adam,\n",
    "    optimizer_params=dict(lr=5*1e-3),\n",
    "    scheduler_params={'is_batch_level': True, 'T_0':10, 'T_mult':2, 'eta_min': 0.001},\n",
    "    scheduler_fn=torch.optim.lr_scheduler.CosineAnnealingWarmRestarts,\n",
    "    mask_type='entmax'\n",
    ")\n",
    "\n",
    "unsupervised_model.fit(\n",
    "    X_train=x_sme,\n",
    "    max_epochs=90,\n",
    "    drop_last=False,\n",
    "    pretraining_ratio=0.6, #0.5\n",
    ")\n",
    "\n",
    "reconstructed_X, embedded_X = unsupervised_model.predict(x_sme)\n",
    "assert(reconstructed_X.shape == embedded_X.shape)"
   ],
   "metadata": {
    "collapsed": false
   }
  },
  {
   "cell_type": "code",
   "execution_count": 99,
   "outputs": [
    {
     "name": "stdout",
     "output_type": "stream",
     "text": [
      "Device used : cpu\n"
     ]
    }
   ],
   "source": [
    "model = TabNetClassifier(\n",
    "    cat_idxs=cat_col_idx,\n",
    "    cat_dims=cat_col_dims,\n",
    "    cat_emb_dim=[int(round(np.sqrt(i)/4,0))+1 for i in cat_col_dims],\n",
    "    optimizer_fn=torch.optim.Adam,\n",
    "    optimizer_params=dict(lr=1e-3),\n",
    "    scheduler_params={'is_batch_level': True, 'T_0':10, 'T_mult':2, 'eta_min': 0.001},\n",
    "    scheduler_fn=torch.optim.lr_scheduler.CosineAnnealingWarmRestarts,\n",
    "    mask_type='sparsemax',\n",
    "    gamma=1.3,\n",
    "    )"
   ],
   "metadata": {
    "collapsed": false
   }
  },
  {
   "cell_type": "code",
   "execution_count": 100,
   "outputs": [
    {
     "name": "stdout",
     "output_type": "stream",
     "text": [
      "Loading weights from unsupervised pretraining\n",
      "epoch 0  | loss: 7.49411 | train_balanced_accuracy: 0.70359 | train_accuracy: 0.7331  |  0:00:16s\n",
      "epoch 1  | loss: 0.62062 | train_balanced_accuracy: 0.77657 | train_accuracy: 0.7932  |  0:00:36s\n",
      "epoch 2  | loss: 0.54972 | train_balanced_accuracy: 0.79289 | train_accuracy: 0.80897 |  0:00:53s\n",
      "epoch 3  | loss: 0.51511 | train_balanced_accuracy: 0.81757 | train_accuracy: 0.82387 |  0:01:11s\n",
      "epoch 4  | loss: 0.47502 | train_balanced_accuracy: 0.8397  | train_accuracy: 0.84361 |  0:01:29s\n",
      "epoch 5  | loss: 0.4271  | train_balanced_accuracy: 0.86141 | train_accuracy: 0.86435 |  0:01:46s\n",
      "epoch 6  | loss: 0.38243 | train_balanced_accuracy: 0.87318 | train_accuracy: 0.87884 |  0:02:04s\n",
      "epoch 7  | loss: 0.3388  | train_balanced_accuracy: 0.8939  | train_accuracy: 0.89846 |  0:02:21s\n",
      "epoch 8  | loss: 0.30274 | train_balanced_accuracy: 0.90866 | train_accuracy: 0.91064 |  0:02:40s\n",
      "epoch 9  | loss: 0.27768 | train_balanced_accuracy: 0.91241 | train_accuracy: 0.91633 |  0:02:57s\n",
      "epoch 10 | loss: 0.25492 | train_balanced_accuracy: 0.92402 | train_accuracy: 0.92612 |  0:03:15s\n",
      "epoch 11 | loss: 0.23699 | train_balanced_accuracy: 0.92868 | train_accuracy: 0.93034 |  0:03:32s\n",
      "epoch 12 | loss: 0.22295 | train_balanced_accuracy: 0.93361 | train_accuracy: 0.93613 |  0:03:49s\n",
      "epoch 13 | loss: 0.20987 | train_balanced_accuracy: 0.937   | train_accuracy: 0.93824 |  0:04:07s\n",
      "epoch 14 | loss: 0.1977  | train_balanced_accuracy: 0.94183 | train_accuracy: 0.94355 |  0:04:24s\n",
      "epoch 15 | loss: 0.18763 | train_balanced_accuracy: 0.94446 | train_accuracy: 0.94665 |  0:04:41s\n",
      "epoch 16 | loss: 0.17976 | train_balanced_accuracy: 0.94608 | train_accuracy: 0.94907 |  0:04:58s\n",
      "epoch 17 | loss: 0.17335 | train_balanced_accuracy: 0.94714 | train_accuracy: 0.94922 |  0:05:15s\n",
      "epoch 18 | loss: 0.16646 | train_balanced_accuracy: 0.95093 | train_accuracy: 0.95221 |  0:05:33s\n",
      "epoch 19 | loss: 0.16102 | train_balanced_accuracy: 0.95255 | train_accuracy: 0.9544  |  0:05:56s\n",
      "epoch 20 | loss: 0.15465 | train_balanced_accuracy: 0.9546  | train_accuracy: 0.95629 |  0:06:14s\n",
      "epoch 21 | loss: 0.14975 | train_balanced_accuracy: 0.95545 | train_accuracy: 0.95848 |  0:06:32s\n",
      "epoch 22 | loss: 0.14521 | train_balanced_accuracy: 0.956   | train_accuracy: 0.95947 |  0:06:49s\n",
      "epoch 23 | loss: 0.14251 | train_balanced_accuracy: 0.9571  | train_accuracy: 0.9589  |  0:07:06s\n",
      "epoch 24 | loss: 0.13775 | train_balanced_accuracy: 0.95943 | train_accuracy: 0.96276 |  0:07:23s\n",
      "epoch 25 | loss: 0.13372 | train_balanced_accuracy: 0.95861 | train_accuracy: 0.96163 |  0:07:41s\n",
      "epoch 26 | loss: 0.12993 | train_balanced_accuracy: 0.96127 | train_accuracy: 0.96409 |  0:07:58s\n",
      "epoch 27 | loss: 0.12724 | train_balanced_accuracy: 0.96137 | train_accuracy: 0.96523 |  0:08:15s\n",
      "epoch 28 | loss: 0.12482 | train_balanced_accuracy: 0.962   | train_accuracy: 0.96429 |  0:08:32s\n",
      "epoch 29 | loss: 0.12078 | train_balanced_accuracy: 0.96405 | train_accuracy: 0.96677 |  0:08:50s\n",
      "epoch 30 | loss: 0.11837 | train_balanced_accuracy: 0.96554 | train_accuracy: 0.96853 |  0:09:08s\n",
      "epoch 31 | loss: 0.11557 | train_balanced_accuracy: 0.96514 | train_accuracy: 0.96792 |  0:09:25s\n",
      "epoch 32 | loss: 0.11452 | train_balanced_accuracy: 0.96626 | train_accuracy: 0.96928 |  0:09:43s\n",
      "epoch 33 | loss: 0.1107  | train_balanced_accuracy: 0.96726 | train_accuracy: 0.97036 |  0:10:00s\n",
      "epoch 34 | loss: 0.10798 | train_balanced_accuracy: 0.96889 | train_accuracy: 0.97131 |  0:10:18s\n",
      "epoch 35 | loss: 0.10705 | train_balanced_accuracy: 0.96835 | train_accuracy: 0.97175 |  0:10:36s\n",
      "epoch 36 | loss: 0.10363 | train_balanced_accuracy: 0.97007 | train_accuracy: 0.97184 |  0:10:53s\n",
      "epoch 37 | loss: 0.10243 | train_balanced_accuracy: 0.96932 | train_accuracy: 0.97309 |  0:11:10s\n",
      "epoch 38 | loss: 0.10049 | train_balanced_accuracy: 0.97122 | train_accuracy: 0.97418 |  0:11:29s\n",
      "epoch 39 | loss: 0.09968 | train_balanced_accuracy: 0.97102 | train_accuracy: 0.97427 |  0:11:47s\n",
      "epoch 40 | loss: 0.09648 | train_balanced_accuracy: 0.97149 | train_accuracy: 0.97504 |  0:12:09s\n",
      "epoch 41 | loss: 0.09575 | train_balanced_accuracy: 0.97315 | train_accuracy: 0.976   |  0:12:31s\n",
      "epoch 42 | loss: 0.09315 | train_balanced_accuracy: 0.9734  | train_accuracy: 0.976   |  0:12:49s\n",
      "epoch 43 | loss: 0.09113 | train_balanced_accuracy: 0.97343 | train_accuracy: 0.97585 |  0:13:08s\n",
      "epoch 44 | loss: 0.09048 | train_balanced_accuracy: 0.9732  | train_accuracy: 0.97671 |  0:13:27s\n",
      "epoch 45 | loss: 0.08959 | train_balanced_accuracy: 0.97461 | train_accuracy: 0.97781 |  0:13:46s\n",
      "epoch 46 | loss: 0.08743 | train_balanced_accuracy: 0.97487 | train_accuracy: 0.97757 |  0:14:07s\n",
      "epoch 47 | loss: 0.08545 | train_balanced_accuracy: 0.97471 | train_accuracy: 0.97766 |  0:14:26s\n",
      "epoch 48 | loss: 0.08552 | train_balanced_accuracy: 0.97539 | train_accuracy: 0.97789 |  0:14:46s\n",
      "epoch 49 | loss: 0.08547 | train_balanced_accuracy: 0.97625 | train_accuracy: 0.97937 |  0:15:06s\n",
      "Stop training because you reached max_epochs = 50 with best_epoch = 49 and best_train_accuracy = 0.97937\n",
      "Best weights from best epoch are automatically used!\n"
     ]
    }
   ],
   "source": [
    "model.fit(\n",
    "    X_train=x_sme,\n",
    "    y_train=y_sme,\n",
    "    eval_set=[(x_sme, y_sme)],\n",
    "    eval_name=['train'],\n",
    "    eval_metric=['balanced_accuracy', 'accuracy'],\n",
    "    max_epochs=50,\n",
    "    patience=5,\n",
    "    weights=0,  # 0: no, 1: balanced, dict: customized\n",
    "    batch_size=512,\n",
    "    virtual_batch_size=128,\n",
    "    num_workers=0,\n",
    "    drop_last=False,\n",
    "    from_unsupervised=unsupervised_model,\n",
    ")"
   ],
   "metadata": {
    "collapsed": false
   }
  },
  {
   "cell_type": "markdown",
   "source": [
    "#### Result"
   ],
   "metadata": {
    "collapsed": false
   }
  },
  {
   "cell_type": "code",
   "execution_count": 101,
   "outputs": [],
   "source": [
    "from sklearn.metrics import classification_report"
   ],
   "metadata": {
    "collapsed": false
   }
  },
  {
   "cell_type": "code",
   "execution_count": 102,
   "outputs": [
    {
     "name": "stdout",
     "output_type": "stream",
     "text": [
      "Customer_ID :  0.383\n",
      "Month :  0.025\n",
      "Age :  0.026\n",
      "Monthly_Inhand_Salary :  0.123\n",
      "Num_Bank_Accounts :  0.021\n",
      "Num_Credit_Card :  0.025\n",
      "Interest_Rate :  0.061\n",
      "Num_of_Loan :  0.034\n",
      "Delay_from_due_date :  0.085\n",
      "Num_of_Delayed_Payment :  0.025\n",
      "Changed_Credit_Limit :  0.004\n",
      "Num_Credit_Inquiries :  0.028\n",
      "Credit_Mix :  0.002\n",
      "Outstanding_Debt :  0.05\n",
      "Credit_Utilization_Ratio :  0.001\n",
      "Credit_History_Age :  0.072\n",
      "Payment_of_Min_Amount :  0.006\n",
      "Total_EMI_per_month :  0.008\n",
      "Amount_invested_monthly :  0.0\n",
      "Payment_Behaviour :  0.018\n",
      "Monthly_Balance :  0.003\n"
     ]
    }
   ],
   "source": [
    "for i in range(len(all_col_list)):\n",
    "    print(all_col_list[i], ': ', model.feature_importances_.round(3)[i])"
   ],
   "metadata": {
    "collapsed": false
   }
  },
  {
   "cell_type": "code",
   "execution_count": 103,
   "outputs": [
    {
     "name": "stdout",
     "output_type": "stream",
     "text": [
      "              precision    recall  f1-score   support\n",
      "\n",
      "           0       0.81      0.99      0.89     21782\n",
      "           1       0.99      0.78      0.87     40214\n",
      "           2       0.78      0.98      0.87     13004\n",
      "\n",
      "    accuracy                           0.88     75000\n",
      "   macro avg       0.86      0.92      0.88     75000\n",
      "weighted avg       0.90      0.88      0.88     75000\n",
      "\n"
     ]
    }
   ],
   "source": [
    "print(classification_report(y_true=y_train, y_pred=model.predict(x_train)))"
   ],
   "metadata": {
    "collapsed": false
   }
  },
  {
   "cell_type": "code",
   "execution_count": 104,
   "outputs": [],
   "source": [
    "# f1_score(y_train, (model.predict(x_train)))"
   ],
   "metadata": {
    "collapsed": false
   }
  },
  {
   "cell_type": "code",
   "execution_count": 105,
   "outputs": [],
   "source": [
    "predicted = model.predict(x_test)"
   ],
   "metadata": {
    "collapsed": false
   }
  },
  {
   "cell_type": "code",
   "execution_count": 106,
   "outputs": [
    {
     "name": "stdout",
     "output_type": "stream",
     "text": [
      "0.7274581696255983\n",
      "0.72888\n"
     ]
    }
   ],
   "source": [
    "print(f1_score(y_test, predicted, average='weighted'))\n",
    "print(accuracy_score(y_test, predicted))"
   ],
   "metadata": {
    "collapsed": false
   }
  },
  {
   "cell_type": "code",
   "execution_count": 107,
   "outputs": [
    {
     "name": "stdout",
     "output_type": "stream",
     "text": [
      "              precision    recall  f1-score   support\n",
      "\n",
      "           0       0.69      0.86      0.76      7216\n",
      "           1       0.79      0.66      0.72     12960\n",
      "           2       0.67      0.73      0.70      4824\n",
      "\n",
      "    accuracy                           0.73     25000\n",
      "   macro avg       0.72      0.75      0.73     25000\n",
      "weighted avg       0.74      0.73      0.73     25000\n",
      "\n"
     ]
    }
   ],
   "source": [
    "print(classification_report(y_test, predicted))"
   ],
   "metadata": {
    "collapsed": false
   }
  },
  {
   "cell_type": "markdown",
   "source": [
    "기존 대비 0번 클래스를 더 잘맞추나, 2번 클래스에 대한 전반적인 성능은 줄었음"
   ],
   "metadata": {
    "collapsed": false
   }
  },
  {
   "cell_type": "code",
   "execution_count": 108,
   "outputs": [
    {
     "name": "stdout",
     "output_type": "stream",
     "text": [
      "[[6179 1006   31]\n",
      " [2736 8527 1697]\n",
      " [  56 1252 3516]]\n"
     ]
    }
   ],
   "source": [
    "print(confusion_matrix(y_test, predicted))"
   ],
   "metadata": {
    "collapsed": false
   }
  },
  {
   "cell_type": "code",
   "execution_count": null,
   "outputs": [],
   "source": [],
   "metadata": {
    "collapsed": false
   }
  },
  {
   "cell_type": "code",
   "execution_count": null,
   "outputs": [],
   "source": [],
   "metadata": {
    "collapsed": false
   }
  },
  {
   "cell_type": "code",
   "execution_count": null,
   "outputs": [],
   "source": [],
   "metadata": {
    "collapsed": false
   }
  },
  {
   "cell_type": "markdown",
   "source": [
    "### Scaler"
   ],
   "metadata": {
    "collapsed": false
   }
  },
  {
   "cell_type": "code",
   "execution_count": 113,
   "outputs": [
    {
     "data": {
      "text/plain": "       Customer_ID  Month  Age  Occupation  Monthly_Inhand_Salary  \\\n0              576      0    3          12               7.509249   \n1              576      1    3          12               7.509249   \n2              576      2    3          12               7.509249   \n3              576      3    3          12               7.509249   \n4              576      4    3          12               7.509249   \n...            ...    ...  ...         ...                    ...   \n74995         9254      1    3           9               8.119522   \n74996         9254      2    3           9               8.119522   \n74997         9254      3    3           9               8.119522   \n74998         9254      4    3           9               8.119522   \n74999         9254      5    3           9               8.119522   \n\n       Num_Bank_Accounts  Num_Credit_Card  Interest_Rate  Num_of_Loan  \\\n0                    3.0              4.0            3.0            0   \n1                    3.0              4.0            3.0            0   \n2                    3.0              4.0            3.0            0   \n3                    3.0              4.0            3.0            0   \n4                    3.0              4.0            3.0            0   \n...                  ...              ...            ...          ...   \n74995                4.0              6.0            7.0            0   \n74996                4.0              6.0            7.0            0   \n74997                4.0              6.0            7.0            0   \n74998                4.0              6.0            7.0            0   \n74999                4.0              6.0            7.0            0   \n\n       Delay_from_due_date  ...  Credit_Mix  Outstanding_Debt  \\\n0                      3.0  ...           2         28.460148   \n1                      3.0  ...           2         28.460148   \n2                      3.0  ...           2         28.460148   \n3                      5.0  ...           2         28.460148   \n4                      6.0  ...           2         28.460148   \n...                    ...  ...         ...               ...   \n74995                 23.0  ...           2         22.413835   \n74996                 20.0  ...           2         22.413835   \n74997                 23.0  ...           2         22.413835   \n74998                 18.0  ...           2         22.413835   \n74999                 27.0  ...           2         22.413835   \n\n       Credit_Utilization_Ratio  Credit_History_Age  Payment_of_Min_Amount  \\\n0                     26.822620                   1                      1   \n1                     31.944960                   1                      1   \n2                     28.609352                   1                      1   \n3                     31.377862                   1                      1   \n4                     24.797347                   1                      1   \n...                         ...                 ...                    ...   \n74995                 29.135447                   1                      1   \n74996                 39.323569                   1                      1   \n74997                 34.663572                   1                      1   \n74998                 40.565631                   1                      1   \n74999                 41.255522                   1                      1   \n\n       Total_EMI_per_month  Amount_invested_monthly  Payment_Behaviour  \\\n0                49.574949                21.465380                  2   \n1                49.574949                21.465380                  3   \n2                49.574949                21.465380                  4   \n3                49.574949                21.465380                  5   \n4                49.574949                21.465380                  1   \n...                    ...                      ...                ...   \n74995            35.104023                24.028477                  4   \n74996            35.104023                24.028477                  1   \n74997            35.104023                24.028477                  0   \n74998            35.104023                24.028477                  1   \n74999            35.104023                24.028477                  0   \n\n       Monthly_Balance  Credit_Score  \n0           312.494089             2  \n1           284.629162             2  \n2           331.209863             2  \n3           223.451310             2  \n4           341.489231             2  \n...                ...           ...  \n74995       400.104466             1  \n74996       410.256158             0  \n74997       479.866228             0  \n74998       496.651610             0  \n74999       516.809083             0  \n\n[75000 rows x 23 columns]",
      "text/html": "<div>\n<style scoped>\n    .dataframe tbody tr th:only-of-type {\n        vertical-align: middle;\n    }\n\n    .dataframe tbody tr th {\n        vertical-align: top;\n    }\n\n    .dataframe thead th {\n        text-align: right;\n    }\n</style>\n<table border=\"1\" class=\"dataframe\">\n  <thead>\n    <tr style=\"text-align: right;\">\n      <th></th>\n      <th>Customer_ID</th>\n      <th>Month</th>\n      <th>Age</th>\n      <th>Occupation</th>\n      <th>Monthly_Inhand_Salary</th>\n      <th>Num_Bank_Accounts</th>\n      <th>Num_Credit_Card</th>\n      <th>Interest_Rate</th>\n      <th>Num_of_Loan</th>\n      <th>Delay_from_due_date</th>\n      <th>...</th>\n      <th>Credit_Mix</th>\n      <th>Outstanding_Debt</th>\n      <th>Credit_Utilization_Ratio</th>\n      <th>Credit_History_Age</th>\n      <th>Payment_of_Min_Amount</th>\n      <th>Total_EMI_per_month</th>\n      <th>Amount_invested_monthly</th>\n      <th>Payment_Behaviour</th>\n      <th>Monthly_Balance</th>\n      <th>Credit_Score</th>\n    </tr>\n  </thead>\n  <tbody>\n    <tr>\n      <th>0</th>\n      <td>576</td>\n      <td>0</td>\n      <td>3</td>\n      <td>12</td>\n      <td>7.509249</td>\n      <td>3.0</td>\n      <td>4.0</td>\n      <td>3.0</td>\n      <td>0</td>\n      <td>3.0</td>\n      <td>...</td>\n      <td>2</td>\n      <td>28.460148</td>\n      <td>26.822620</td>\n      <td>1</td>\n      <td>1</td>\n      <td>49.574949</td>\n      <td>21.465380</td>\n      <td>2</td>\n      <td>312.494089</td>\n      <td>2</td>\n    </tr>\n    <tr>\n      <th>1</th>\n      <td>576</td>\n      <td>1</td>\n      <td>3</td>\n      <td>12</td>\n      <td>7.509249</td>\n      <td>3.0</td>\n      <td>4.0</td>\n      <td>3.0</td>\n      <td>0</td>\n      <td>3.0</td>\n      <td>...</td>\n      <td>2</td>\n      <td>28.460148</td>\n      <td>31.944960</td>\n      <td>1</td>\n      <td>1</td>\n      <td>49.574949</td>\n      <td>21.465380</td>\n      <td>3</td>\n      <td>284.629162</td>\n      <td>2</td>\n    </tr>\n    <tr>\n      <th>2</th>\n      <td>576</td>\n      <td>2</td>\n      <td>3</td>\n      <td>12</td>\n      <td>7.509249</td>\n      <td>3.0</td>\n      <td>4.0</td>\n      <td>3.0</td>\n      <td>0</td>\n      <td>3.0</td>\n      <td>...</td>\n      <td>2</td>\n      <td>28.460148</td>\n      <td>28.609352</td>\n      <td>1</td>\n      <td>1</td>\n      <td>49.574949</td>\n      <td>21.465380</td>\n      <td>4</td>\n      <td>331.209863</td>\n      <td>2</td>\n    </tr>\n    <tr>\n      <th>3</th>\n      <td>576</td>\n      <td>3</td>\n      <td>3</td>\n      <td>12</td>\n      <td>7.509249</td>\n      <td>3.0</td>\n      <td>4.0</td>\n      <td>3.0</td>\n      <td>0</td>\n      <td>5.0</td>\n      <td>...</td>\n      <td>2</td>\n      <td>28.460148</td>\n      <td>31.377862</td>\n      <td>1</td>\n      <td>1</td>\n      <td>49.574949</td>\n      <td>21.465380</td>\n      <td>5</td>\n      <td>223.451310</td>\n      <td>2</td>\n    </tr>\n    <tr>\n      <th>4</th>\n      <td>576</td>\n      <td>4</td>\n      <td>3</td>\n      <td>12</td>\n      <td>7.509249</td>\n      <td>3.0</td>\n      <td>4.0</td>\n      <td>3.0</td>\n      <td>0</td>\n      <td>6.0</td>\n      <td>...</td>\n      <td>2</td>\n      <td>28.460148</td>\n      <td>24.797347</td>\n      <td>1</td>\n      <td>1</td>\n      <td>49.574949</td>\n      <td>21.465380</td>\n      <td>1</td>\n      <td>341.489231</td>\n      <td>2</td>\n    </tr>\n    <tr>\n      <th>...</th>\n      <td>...</td>\n      <td>...</td>\n      <td>...</td>\n      <td>...</td>\n      <td>...</td>\n      <td>...</td>\n      <td>...</td>\n      <td>...</td>\n      <td>...</td>\n      <td>...</td>\n      <td>...</td>\n      <td>...</td>\n      <td>...</td>\n      <td>...</td>\n      <td>...</td>\n      <td>...</td>\n      <td>...</td>\n      <td>...</td>\n      <td>...</td>\n      <td>...</td>\n      <td>...</td>\n    </tr>\n    <tr>\n      <th>74995</th>\n      <td>9254</td>\n      <td>1</td>\n      <td>3</td>\n      <td>9</td>\n      <td>8.119522</td>\n      <td>4.0</td>\n      <td>6.0</td>\n      <td>7.0</td>\n      <td>0</td>\n      <td>23.0</td>\n      <td>...</td>\n      <td>2</td>\n      <td>22.413835</td>\n      <td>29.135447</td>\n      <td>1</td>\n      <td>1</td>\n      <td>35.104023</td>\n      <td>24.028477</td>\n      <td>4</td>\n      <td>400.104466</td>\n      <td>1</td>\n    </tr>\n    <tr>\n      <th>74996</th>\n      <td>9254</td>\n      <td>2</td>\n      <td>3</td>\n      <td>9</td>\n      <td>8.119522</td>\n      <td>4.0</td>\n      <td>6.0</td>\n      <td>7.0</td>\n      <td>0</td>\n      <td>20.0</td>\n      <td>...</td>\n      <td>2</td>\n      <td>22.413835</td>\n      <td>39.323569</td>\n      <td>1</td>\n      <td>1</td>\n      <td>35.104023</td>\n      <td>24.028477</td>\n      <td>1</td>\n      <td>410.256158</td>\n      <td>0</td>\n    </tr>\n    <tr>\n      <th>74997</th>\n      <td>9254</td>\n      <td>3</td>\n      <td>3</td>\n      <td>9</td>\n      <td>8.119522</td>\n      <td>4.0</td>\n      <td>6.0</td>\n      <td>7.0</td>\n      <td>0</td>\n      <td>23.0</td>\n      <td>...</td>\n      <td>2</td>\n      <td>22.413835</td>\n      <td>34.663572</td>\n      <td>1</td>\n      <td>1</td>\n      <td>35.104023</td>\n      <td>24.028477</td>\n      <td>0</td>\n      <td>479.866228</td>\n      <td>0</td>\n    </tr>\n    <tr>\n      <th>74998</th>\n      <td>9254</td>\n      <td>4</td>\n      <td>3</td>\n      <td>9</td>\n      <td>8.119522</td>\n      <td>4.0</td>\n      <td>6.0</td>\n      <td>7.0</td>\n      <td>0</td>\n      <td>18.0</td>\n      <td>...</td>\n      <td>2</td>\n      <td>22.413835</td>\n      <td>40.565631</td>\n      <td>1</td>\n      <td>1</td>\n      <td>35.104023</td>\n      <td>24.028477</td>\n      <td>1</td>\n      <td>496.651610</td>\n      <td>0</td>\n    </tr>\n    <tr>\n      <th>74999</th>\n      <td>9254</td>\n      <td>5</td>\n      <td>3</td>\n      <td>9</td>\n      <td>8.119522</td>\n      <td>4.0</td>\n      <td>6.0</td>\n      <td>7.0</td>\n      <td>0</td>\n      <td>27.0</td>\n      <td>...</td>\n      <td>2</td>\n      <td>22.413835</td>\n      <td>41.255522</td>\n      <td>1</td>\n      <td>1</td>\n      <td>35.104023</td>\n      <td>24.028477</td>\n      <td>0</td>\n      <td>516.809083</td>\n      <td>0</td>\n    </tr>\n  </tbody>\n</table>\n<p>75000 rows × 23 columns</p>\n</div>"
     },
     "execution_count": 113,
     "metadata": {},
     "output_type": "execute_result"
    }
   ],
   "source": [
    "train"
   ],
   "metadata": {
    "collapsed": false
   }
  },
  {
   "cell_type": "code",
   "execution_count": 114,
   "outputs": [],
   "source": [
    "from sklearn.preprocessing import RobustScaler"
   ],
   "metadata": {
    "collapsed": false
   }
  },
  {
   "cell_type": "code",
   "execution_count": 115,
   "outputs": [],
   "source": [
    "scaling_cols = ['Monthly_Inhand_Salary', 'Outstanding_Debt', 'Credit_Utilization_Ratio', 'Total_EMI_per_month',\n",
    "                'Amount_invested_monthly', 'Monthly_Balance']\n",
    "rs = RobustScaler()\n",
    "\n",
    "rs_train_df = train[scaling_cols].copy()\n",
    "rs_test_df = test[scaling_cols].copy()\n",
    "\n",
    "rs_train_df = rs.fit_transform(rs_train_df)\n",
    "rs_test_df = rs.transform(rs_test_df)\n",
    "\n",
    "train[scaling_cols] = rs_train_df\n",
    "test[scaling_cols] = rs_test_df"
   ],
   "metadata": {
    "collapsed": false
   }
  },
  {
   "cell_type": "code",
   "execution_count": 116,
   "outputs": [
    {
     "data": {
      "text/plain": "       Customer_ID  Month  Age  Occupation  Monthly_Inhand_Salary  \\\n0              576      0    3          12              -0.407299   \n1              576      1    3          12              -0.407299   \n2              576      2    3          12              -0.407299   \n3              576      3    3          12              -0.407299   \n4              576      4    3          12              -0.407299   \n...            ...    ...  ...         ...                    ...   \n74995         9254      1    3           9               0.062676   \n74996         9254      2    3           9               0.062676   \n74997         9254      3    3           9               0.062676   \n74998         9254      4    3           9               0.062676   \n74999         9254      5    3           9               0.062676   \n\n       Num_Bank_Accounts  Num_Credit_Card  Interest_Rate  Num_of_Loan  \\\n0                    3.0              4.0            3.0            0   \n1                    3.0              4.0            3.0            0   \n2                    3.0              4.0            3.0            0   \n3                    3.0              4.0            3.0            0   \n4                    3.0              4.0            3.0            0   \n...                  ...              ...            ...          ...   \n74995                4.0              6.0            7.0            0   \n74996                4.0              6.0            7.0            0   \n74997                4.0              6.0            7.0            0   \n74998                4.0              6.0            7.0            0   \n74999                4.0              6.0            7.0            0   \n\n       Delay_from_due_date  ...  Credit_Mix  Outstanding_Debt  \\\n0                      3.0  ...           2         -0.279953   \n1                      3.0  ...           2         -0.279953   \n2                      3.0  ...           2         -0.279953   \n3                      5.0  ...           2         -0.279953   \n4                      6.0  ...           2         -0.279953   \n...                    ...  ...         ...               ...   \n74995                 23.0  ...           2         -0.577496   \n74996                 20.0  ...           2         -0.577496   \n74997                 23.0  ...           2         -0.577496   \n74998                 18.0  ...           2         -0.577496   \n74999                 27.0  ...           2         -0.577496   \n\n       Credit_Utilization_Ratio  Credit_History_Age  Payment_of_Min_Amount  \\\n0                     -0.648697                   1                      1   \n1                     -0.041010                   1                      1   \n2                     -0.436728                   1                      1   \n3                     -0.108287                   1                      1   \n4                     -0.888964                   1                      1   \n...                         ...                 ...                    ...   \n74995                 -0.374315                   1                      1   \n74996                  0.834349                   1                      1   \n74997                  0.281512                   1                      1   \n74998                  0.981701                   1                      1   \n74999                  1.063546                   1                      1   \n\n       Total_EMI_per_month  Amount_invested_monthly  Payment_Behaviour  \\\n0                -0.139504                -0.546677                  2   \n1                -0.139504                -0.546677                  3   \n2                -0.139504                -0.546677                  4   \n3                -0.139504                -0.546677                  5   \n4                -0.139504                -0.546677                  1   \n...                    ...                      ...                ...   \n74995            -0.264438                -0.487533                  4   \n74996            -0.264438                -0.487533                  1   \n74997            -0.264438                -0.487533                  0   \n74998            -0.264438                -0.487533                  1   \n74999            -0.264438                -0.487533                  0   \n\n       Monthly_Balance  Credit_Score  \n0            -0.108344             2  \n1            -0.250764             2  \n2            -0.012686             2  \n3            -0.563450             2  \n4             0.039852             2  \n...                ...           ...  \n74995         0.339440             1  \n74996         0.391326             0  \n74997         0.747110             0  \n74998         0.832901             0  \n74999         0.935928             0  \n\n[75000 rows x 23 columns]",
      "text/html": "<div>\n<style scoped>\n    .dataframe tbody tr th:only-of-type {\n        vertical-align: middle;\n    }\n\n    .dataframe tbody tr th {\n        vertical-align: top;\n    }\n\n    .dataframe thead th {\n        text-align: right;\n    }\n</style>\n<table border=\"1\" class=\"dataframe\">\n  <thead>\n    <tr style=\"text-align: right;\">\n      <th></th>\n      <th>Customer_ID</th>\n      <th>Month</th>\n      <th>Age</th>\n      <th>Occupation</th>\n      <th>Monthly_Inhand_Salary</th>\n      <th>Num_Bank_Accounts</th>\n      <th>Num_Credit_Card</th>\n      <th>Interest_Rate</th>\n      <th>Num_of_Loan</th>\n      <th>Delay_from_due_date</th>\n      <th>...</th>\n      <th>Credit_Mix</th>\n      <th>Outstanding_Debt</th>\n      <th>Credit_Utilization_Ratio</th>\n      <th>Credit_History_Age</th>\n      <th>Payment_of_Min_Amount</th>\n      <th>Total_EMI_per_month</th>\n      <th>Amount_invested_monthly</th>\n      <th>Payment_Behaviour</th>\n      <th>Monthly_Balance</th>\n      <th>Credit_Score</th>\n    </tr>\n  </thead>\n  <tbody>\n    <tr>\n      <th>0</th>\n      <td>576</td>\n      <td>0</td>\n      <td>3</td>\n      <td>12</td>\n      <td>-0.407299</td>\n      <td>3.0</td>\n      <td>4.0</td>\n      <td>3.0</td>\n      <td>0</td>\n      <td>3.0</td>\n      <td>...</td>\n      <td>2</td>\n      <td>-0.279953</td>\n      <td>-0.648697</td>\n      <td>1</td>\n      <td>1</td>\n      <td>-0.139504</td>\n      <td>-0.546677</td>\n      <td>2</td>\n      <td>-0.108344</td>\n      <td>2</td>\n    </tr>\n    <tr>\n      <th>1</th>\n      <td>576</td>\n      <td>1</td>\n      <td>3</td>\n      <td>12</td>\n      <td>-0.407299</td>\n      <td>3.0</td>\n      <td>4.0</td>\n      <td>3.0</td>\n      <td>0</td>\n      <td>3.0</td>\n      <td>...</td>\n      <td>2</td>\n      <td>-0.279953</td>\n      <td>-0.041010</td>\n      <td>1</td>\n      <td>1</td>\n      <td>-0.139504</td>\n      <td>-0.546677</td>\n      <td>3</td>\n      <td>-0.250764</td>\n      <td>2</td>\n    </tr>\n    <tr>\n      <th>2</th>\n      <td>576</td>\n      <td>2</td>\n      <td>3</td>\n      <td>12</td>\n      <td>-0.407299</td>\n      <td>3.0</td>\n      <td>4.0</td>\n      <td>3.0</td>\n      <td>0</td>\n      <td>3.0</td>\n      <td>...</td>\n      <td>2</td>\n      <td>-0.279953</td>\n      <td>-0.436728</td>\n      <td>1</td>\n      <td>1</td>\n      <td>-0.139504</td>\n      <td>-0.546677</td>\n      <td>4</td>\n      <td>-0.012686</td>\n      <td>2</td>\n    </tr>\n    <tr>\n      <th>3</th>\n      <td>576</td>\n      <td>3</td>\n      <td>3</td>\n      <td>12</td>\n      <td>-0.407299</td>\n      <td>3.0</td>\n      <td>4.0</td>\n      <td>3.0</td>\n      <td>0</td>\n      <td>5.0</td>\n      <td>...</td>\n      <td>2</td>\n      <td>-0.279953</td>\n      <td>-0.108287</td>\n      <td>1</td>\n      <td>1</td>\n      <td>-0.139504</td>\n      <td>-0.546677</td>\n      <td>5</td>\n      <td>-0.563450</td>\n      <td>2</td>\n    </tr>\n    <tr>\n      <th>4</th>\n      <td>576</td>\n      <td>4</td>\n      <td>3</td>\n      <td>12</td>\n      <td>-0.407299</td>\n      <td>3.0</td>\n      <td>4.0</td>\n      <td>3.0</td>\n      <td>0</td>\n      <td>6.0</td>\n      <td>...</td>\n      <td>2</td>\n      <td>-0.279953</td>\n      <td>-0.888964</td>\n      <td>1</td>\n      <td>1</td>\n      <td>-0.139504</td>\n      <td>-0.546677</td>\n      <td>1</td>\n      <td>0.039852</td>\n      <td>2</td>\n    </tr>\n    <tr>\n      <th>...</th>\n      <td>...</td>\n      <td>...</td>\n      <td>...</td>\n      <td>...</td>\n      <td>...</td>\n      <td>...</td>\n      <td>...</td>\n      <td>...</td>\n      <td>...</td>\n      <td>...</td>\n      <td>...</td>\n      <td>...</td>\n      <td>...</td>\n      <td>...</td>\n      <td>...</td>\n      <td>...</td>\n      <td>...</td>\n      <td>...</td>\n      <td>...</td>\n      <td>...</td>\n      <td>...</td>\n    </tr>\n    <tr>\n      <th>74995</th>\n      <td>9254</td>\n      <td>1</td>\n      <td>3</td>\n      <td>9</td>\n      <td>0.062676</td>\n      <td>4.0</td>\n      <td>6.0</td>\n      <td>7.0</td>\n      <td>0</td>\n      <td>23.0</td>\n      <td>...</td>\n      <td>2</td>\n      <td>-0.577496</td>\n      <td>-0.374315</td>\n      <td>1</td>\n      <td>1</td>\n      <td>-0.264438</td>\n      <td>-0.487533</td>\n      <td>4</td>\n      <td>0.339440</td>\n      <td>1</td>\n    </tr>\n    <tr>\n      <th>74996</th>\n      <td>9254</td>\n      <td>2</td>\n      <td>3</td>\n      <td>9</td>\n      <td>0.062676</td>\n      <td>4.0</td>\n      <td>6.0</td>\n      <td>7.0</td>\n      <td>0</td>\n      <td>20.0</td>\n      <td>...</td>\n      <td>2</td>\n      <td>-0.577496</td>\n      <td>0.834349</td>\n      <td>1</td>\n      <td>1</td>\n      <td>-0.264438</td>\n      <td>-0.487533</td>\n      <td>1</td>\n      <td>0.391326</td>\n      <td>0</td>\n    </tr>\n    <tr>\n      <th>74997</th>\n      <td>9254</td>\n      <td>3</td>\n      <td>3</td>\n      <td>9</td>\n      <td>0.062676</td>\n      <td>4.0</td>\n      <td>6.0</td>\n      <td>7.0</td>\n      <td>0</td>\n      <td>23.0</td>\n      <td>...</td>\n      <td>2</td>\n      <td>-0.577496</td>\n      <td>0.281512</td>\n      <td>1</td>\n      <td>1</td>\n      <td>-0.264438</td>\n      <td>-0.487533</td>\n      <td>0</td>\n      <td>0.747110</td>\n      <td>0</td>\n    </tr>\n    <tr>\n      <th>74998</th>\n      <td>9254</td>\n      <td>4</td>\n      <td>3</td>\n      <td>9</td>\n      <td>0.062676</td>\n      <td>4.0</td>\n      <td>6.0</td>\n      <td>7.0</td>\n      <td>0</td>\n      <td>18.0</td>\n      <td>...</td>\n      <td>2</td>\n      <td>-0.577496</td>\n      <td>0.981701</td>\n      <td>1</td>\n      <td>1</td>\n      <td>-0.264438</td>\n      <td>-0.487533</td>\n      <td>1</td>\n      <td>0.832901</td>\n      <td>0</td>\n    </tr>\n    <tr>\n      <th>74999</th>\n      <td>9254</td>\n      <td>5</td>\n      <td>3</td>\n      <td>9</td>\n      <td>0.062676</td>\n      <td>4.0</td>\n      <td>6.0</td>\n      <td>7.0</td>\n      <td>0</td>\n      <td>27.0</td>\n      <td>...</td>\n      <td>2</td>\n      <td>-0.577496</td>\n      <td>1.063546</td>\n      <td>1</td>\n      <td>1</td>\n      <td>-0.264438</td>\n      <td>-0.487533</td>\n      <td>0</td>\n      <td>0.935928</td>\n      <td>0</td>\n    </tr>\n  </tbody>\n</table>\n<p>75000 rows × 23 columns</p>\n</div>"
     },
     "execution_count": 116,
     "metadata": {},
     "output_type": "execute_result"
    }
   ],
   "source": [
    "train"
   ],
   "metadata": {
    "collapsed": false
   }
  },
  {
   "cell_type": "code",
   "execution_count": 117,
   "outputs": [],
   "source": [
    "x_train = train.loc[:, all_col_list].values\n",
    "y_train = train.loc[:, target].values\n",
    "x_test = test.loc[:, all_col_list].values\n",
    "y_test = test.loc[:, target].values"
   ],
   "metadata": {
    "collapsed": false
   }
  },
  {
   "cell_type": "code",
   "execution_count": 118,
   "outputs": [
    {
     "name": "stdout",
     "output_type": "stream",
     "text": [
      "Before SMOTE ENN....\n",
      "The shape of your X data:  (75000, 21)\n",
      "The shape of your y data:  (75000,)\n",
      "Label Counts : \n",
      " 0    21782\n",
      "1    40214\n",
      "2    13004\n",
      "dtype: int64\n",
      "\n",
      "\n",
      "After SMOTE ENN Applied....\n",
      "The shape of your X_SME data:  (111776, 21)\n",
      "The shape of your y_SME data:  (111776,)\n",
      "Label Counts : \n",
      " 0    40214\n",
      "1    32145\n",
      "2    39417\n",
      "dtype: int64\n"
     ]
    }
   ],
   "source": [
    "x_sme, y_sme = sampling_smote_enn(x_train, y_train, smote=smote, enn=enn)"
   ],
   "metadata": {
    "collapsed": false
   }
  },
  {
   "cell_type": "code",
   "execution_count": 119,
   "outputs": [
    {
     "data": {
      "text/plain": "array([[ 5.15400000e+03,  0.00000000e+00,  4.00000000e+00, ...,\n        -3.65283721e-01,  3.00000000e+00, -1.81442738e-01],\n       [ 5.15400000e+03,  1.00000000e+00,  4.00000000e+00, ...,\n        -3.65283721e-01,  0.00000000e+00,  2.99020207e-01],\n       [ 5.15400000e+03,  2.00000000e+00,  4.00000000e+00, ...,\n        -3.65283721e-01,  3.00000000e+00, -3.71982890e-01],\n       ...,\n       [ 1.20400000e+03,  3.99286109e+00,  3.00000000e+00, ...,\n        -4.48625139e-01,  4.66428703e+00, -4.89804132e-01],\n       [ 6.03200000e+03,  2.79147460e+00,  5.00000000e+00, ...,\n         7.62443094e-01,  2.81278811e+00,  1.22128162e-01],\n       [ 7.83537651e+03,  3.62349488e+00,  3.37650512e+00, ...,\n         5.66464894e-02,  2.37650512e+00,  6.34319339e-01]])"
     },
     "execution_count": 119,
     "metadata": {},
     "output_type": "execute_result"
    }
   ],
   "source": [
    "x_sme"
   ],
   "metadata": {
    "collapsed": false
   }
  },
  {
   "cell_type": "code",
   "execution_count": 120,
   "outputs": [
    {
     "name": "stdout",
     "output_type": "stream",
     "text": [
      "Device used : cpu\n",
      "No early stopping will be performed, last training weights will be used.\n",
      "epoch 0  | loss: 1.92609 |  0:00:23s\n",
      "epoch 1  | loss: 1.29888 |  0:00:46s\n",
      "epoch 2  | loss: 1.05071 |  0:01:08s\n",
      "epoch 3  | loss: 0.9612  |  0:01:29s\n",
      "epoch 4  | loss: 0.91404 |  0:01:52s\n",
      "epoch 5  | loss: 0.89945 |  0:02:16s\n",
      "epoch 6  | loss: 0.88479 |  0:02:39s\n",
      "epoch 7  | loss: 0.87487 |  0:03:03s\n",
      "epoch 8  | loss: 0.86847 |  0:03:26s\n",
      "epoch 9  | loss: 0.86599 |  0:03:59s\n",
      "epoch 10 | loss: 0.86448 |  0:04:38s\n",
      "epoch 11 | loss: 0.86372 |  0:05:18s\n",
      "epoch 12 | loss: 0.86217 |  0:05:52s\n",
      "epoch 13 | loss: 0.85986 |  0:06:23s\n",
      "epoch 14 | loss: 0.85848 |  0:06:49s\n",
      "epoch 15 | loss: 0.85799 |  0:07:12s\n",
      "epoch 16 | loss: 0.856   |  0:07:50s\n",
      "epoch 17 | loss: 0.85533 |  0:08:32s\n",
      "epoch 18 | loss: 0.85386 |  0:09:15s\n",
      "epoch 19 | loss: 0.85361 |  0:09:41s\n",
      "epoch 20 | loss: 0.8538  |  0:10:00s\n",
      "epoch 21 | loss: 0.85294 |  0:10:20s\n",
      "epoch 22 | loss: 0.85188 |  0:10:41s\n",
      "epoch 23 | loss: 0.85283 |  0:11:01s\n",
      "epoch 24 | loss: 0.84975 |  0:11:22s\n",
      "epoch 25 | loss: 0.84815 |  0:11:41s\n",
      "epoch 26 | loss: 0.84391 |  0:12:02s\n",
      "epoch 27 | loss: 0.84099 |  0:12:23s\n",
      "epoch 28 | loss: 0.83739 |  0:12:42s\n",
      "epoch 29 | loss: 0.83377 |  0:13:02s\n",
      "epoch 30 | loss: 0.83172 |  0:13:23s\n",
      "epoch 31 | loss: 0.82886 |  0:13:44s\n",
      "epoch 32 | loss: 0.82628 |  0:14:03s\n",
      "epoch 33 | loss: 0.82308 |  0:14:26s\n",
      "epoch 34 | loss: 0.81886 |  0:14:47s\n",
      "epoch 35 | loss: 0.81535 |  0:15:07s\n",
      "epoch 36 | loss: 0.81203 |  0:15:25s\n",
      "epoch 37 | loss: 0.8086  |  0:15:47s\n",
      "epoch 38 | loss: 0.80412 |  0:16:06s\n",
      "epoch 39 | loss: 0.79998 |  0:16:26s\n",
      "epoch 40 | loss: 0.79636 |  0:16:46s\n",
      "epoch 41 | loss: 0.79341 |  0:17:07s\n",
      "epoch 42 | loss: 0.79075 |  0:17:28s\n",
      "epoch 43 | loss: 0.78632 |  0:17:48s\n",
      "epoch 44 | loss: 0.78386 |  0:18:05s\n",
      "epoch 45 | loss: 0.78131 |  0:18:23s\n",
      "epoch 46 | loss: 0.77704 |  0:18:44s\n",
      "epoch 47 | loss: 0.76261 |  0:19:03s\n",
      "epoch 48 | loss: 0.7398  |  0:19:24s\n",
      "epoch 49 | loss: 0.71363 |  0:19:46s\n",
      "epoch 50 | loss: 0.68385 |  0:20:06s\n",
      "epoch 51 | loss: 0.6514  |  0:20:26s\n",
      "epoch 52 | loss: 0.61883 |  0:20:46s\n",
      "epoch 53 | loss: 0.58538 |  0:21:06s\n",
      "epoch 54 | loss: 0.5545  |  0:21:33s\n",
      "epoch 55 | loss: 0.52464 |  0:21:53s\n",
      "epoch 56 | loss: 0.49782 |  0:22:14s\n",
      "epoch 57 | loss: 0.47418 |  0:22:34s\n",
      "epoch 58 | loss: 0.45147 |  0:22:54s\n",
      "epoch 59 | loss: 0.43117 |  0:23:14s\n",
      "epoch 60 | loss: 0.41307 |  0:23:39s\n",
      "epoch 61 | loss: 0.39842 |  0:24:01s\n",
      "epoch 62 | loss: 0.38309 |  0:24:20s\n",
      "epoch 63 | loss: 0.36933 |  0:24:40s\n",
      "epoch 64 | loss: 0.35614 |  0:25:00s\n",
      "epoch 65 | loss: 0.34548 |  0:25:22s\n",
      "epoch 66 | loss: 0.33555 |  0:25:43s\n",
      "epoch 67 | loss: 0.3269  |  0:26:02s\n",
      "epoch 68 | loss: 0.31982 |  0:26:24s\n",
      "epoch 69 | loss: 0.31347 |  0:26:44s\n",
      "epoch 70 | loss: 0.30755 |  0:27:04s\n",
      "epoch 71 | loss: 0.30225 |  0:27:27s\n",
      "epoch 72 | loss: 0.29719 |  0:27:47s\n",
      "epoch 73 | loss: 0.29338 |  0:28:07s\n",
      "epoch 74 | loss: 0.28904 |  0:28:31s\n",
      "epoch 75 | loss: 0.28597 |  0:28:57s\n",
      "epoch 76 | loss: 0.28236 |  0:29:18s\n",
      "epoch 77 | loss: 0.27986 |  0:29:38s\n",
      "epoch 78 | loss: 0.27677 |  0:30:00s\n",
      "epoch 79 | loss: 0.2756  |  0:30:30s\n",
      "epoch 80 | loss: 0.27326 |  0:30:56s\n",
      "epoch 81 | loss: 0.2718  |  0:31:21s\n",
      "epoch 82 | loss: 0.26947 |  0:31:44s\n",
      "epoch 83 | loss: 0.26804 |  0:32:05s\n",
      "epoch 84 | loss: 0.26673 |  0:32:27s\n",
      "epoch 85 | loss: 0.2653  |  0:32:51s\n",
      "epoch 86 | loss: 0.26389 |  0:33:16s\n",
      "epoch 87 | loss: 0.26349 |  0:33:35s\n",
      "epoch 88 | loss: 0.2618  |  0:33:53s\n",
      "epoch 89 | loss: 0.26098 |  0:34:17s\n"
     ]
    }
   ],
   "source": [
    "# pretrain model\n",
    "unsupervised_model = TabNetPretrainer(\n",
    "    cat_idxs=cat_col_idx,\n",
    "    cat_dims=cat_col_dims,\n",
    "    cat_emb_dim=[int(round(np.sqrt(i)/4,0))+1 for i in cat_col_dims],\n",
    "    optimizer_fn=torch.optim.Adam,\n",
    "    optimizer_params=dict(lr=5*1e-3),\n",
    "    scheduler_params={'is_batch_level': True, 'T_0':10, 'T_mult':2, 'eta_min': 0.001},\n",
    "    scheduler_fn=torch.optim.lr_scheduler.CosineAnnealingWarmRestarts,\n",
    "    mask_type='entmax'\n",
    ")\n",
    "\n",
    "unsupervised_model.fit(\n",
    "    X_train=x_sme,\n",
    "    max_epochs=90,\n",
    "    drop_last=False,\n",
    "    pretraining_ratio=0.6, #0.5\n",
    ")\n",
    "\n",
    "reconstructed_X, embedded_X = unsupervised_model.predict(x_sme)\n",
    "assert(reconstructed_X.shape == embedded_X.shape)"
   ],
   "metadata": {
    "collapsed": false
   }
  },
  {
   "cell_type": "code",
   "execution_count": 121,
   "outputs": [
    {
     "name": "stdout",
     "output_type": "stream",
     "text": [
      "Device used : cpu\n"
     ]
    }
   ],
   "source": [
    "model = TabNetClassifier(\n",
    "    cat_idxs=cat_col_idx,\n",
    "    cat_dims=cat_col_dims,\n",
    "    cat_emb_dim=[int(round(np.sqrt(i)/4,0))+1 for i in cat_col_dims],\n",
    "    optimizer_fn=torch.optim.Adam,\n",
    "    optimizer_params=dict(lr=1e-3),\n",
    "    scheduler_params={'is_batch_level': True, 'T_0':10, 'T_mult':2, 'eta_min': 0.001},\n",
    "    scheduler_fn=torch.optim.lr_scheduler.CosineAnnealingWarmRestarts,\n",
    "    mask_type='sparsemax',\n",
    "    gamma=1.3,\n",
    "    )"
   ],
   "metadata": {
    "collapsed": false
   }
  },
  {
   "cell_type": "code",
   "execution_count": 122,
   "outputs": [
    {
     "name": "stdout",
     "output_type": "stream",
     "text": [
      "Loading weights from unsupervised pretraining\n",
      "epoch 0  | loss: 1.23795 | train_balanced_accuracy: 0.77028 | train_accuracy: 0.77688 |  0:00:27s\n",
      "epoch 1  | loss: 0.5744  | train_balanced_accuracy: 0.79475 | train_accuracy: 0.79874 |  0:00:52s\n",
      "epoch 2  | loss: 0.50857 | train_balanced_accuracy: 0.84184 | train_accuracy: 0.84331 |  0:01:12s\n",
      "epoch 3  | loss: 0.41715 | train_balanced_accuracy: 0.88141 | train_accuracy: 0.88328 |  0:01:31s\n",
      "epoch 4  | loss: 0.32764 | train_balanced_accuracy: 0.91061 | train_accuracy: 0.91178 |  0:01:52s\n",
      "epoch 5  | loss: 0.26425 | train_balanced_accuracy: 0.92638 | train_accuracy: 0.92691 |  0:02:11s\n",
      "epoch 6  | loss: 0.22606 | train_balanced_accuracy: 0.93366 | train_accuracy: 0.9341  |  0:02:33s\n",
      "epoch 7  | loss: 0.19932 | train_balanced_accuracy: 0.94148 | train_accuracy: 0.94203 |  0:02:52s\n",
      "epoch 8  | loss: 0.18134 | train_balanced_accuracy: 0.9476  | train_accuracy: 0.94805 |  0:03:12s\n",
      "epoch 9  | loss: 0.16534 | train_balanced_accuracy: 0.95118 | train_accuracy: 0.95112 |  0:03:31s\n",
      "epoch 10 | loss: 0.15223 | train_balanced_accuracy: 0.95671 | train_accuracy: 0.95741 |  0:03:52s\n",
      "epoch 11 | loss: 0.14286 | train_balanced_accuracy: 0.95996 | train_accuracy: 0.96092 |  0:04:13s\n",
      "epoch 12 | loss: 0.13073 | train_balanced_accuracy: 0.96238 | train_accuracy: 0.96299 |  0:04:36s\n",
      "epoch 13 | loss: 0.12183 | train_balanced_accuracy: 0.9638  | train_accuracy: 0.9646  |  0:05:05s\n",
      "epoch 14 | loss: 0.11508 | train_balanced_accuracy: 0.96832 | train_accuracy: 0.9694  |  0:05:36s\n",
      "epoch 15 | loss: 0.10889 | train_balanced_accuracy: 0.97024 | train_accuracy: 0.97103 |  0:06:03s\n",
      "epoch 16 | loss: 0.10201 | train_balanced_accuracy: 0.97005 | train_accuracy: 0.97153 |  0:06:39s\n",
      "epoch 17 | loss: 0.0983  | train_balanced_accuracy: 0.97326 | train_accuracy: 0.97359 |  0:07:06s\n",
      "epoch 18 | loss: 0.09368 | train_balanced_accuracy: 0.97491 | train_accuracy: 0.97559 |  0:07:29s\n",
      "epoch 19 | loss: 0.08904 | train_balanced_accuracy: 0.97609 | train_accuracy: 0.97682 |  0:08:10s\n",
      "epoch 20 | loss: 0.0854  | train_balanced_accuracy: 0.97503 | train_accuracy: 0.97555 |  0:08:36s\n",
      "epoch 21 | loss: 0.08191 | train_balanced_accuracy: 0.97762 | train_accuracy: 0.97844 |  0:08:59s\n",
      "epoch 22 | loss: 0.07874 | train_balanced_accuracy: 0.97999 | train_accuracy: 0.98048 |  0:09:24s\n",
      "epoch 23 | loss: 0.07728 | train_balanced_accuracy: 0.9774  | train_accuracy: 0.97768 |  0:09:46s\n",
      "epoch 24 | loss: 0.07418 | train_balanced_accuracy: 0.98075 | train_accuracy: 0.9814  |  0:10:08s\n",
      "epoch 25 | loss: 0.07004 | train_balanced_accuracy: 0.98046 | train_accuracy: 0.98087 |  0:10:32s\n",
      "epoch 26 | loss: 0.06798 | train_balanced_accuracy: 0.98228 | train_accuracy: 0.98286 |  0:10:56s\n",
      "epoch 27 | loss: 0.06674 | train_balanced_accuracy: 0.98253 | train_accuracy: 0.98331 |  0:11:18s\n",
      "epoch 28 | loss: 0.06423 | train_balanced_accuracy: 0.98396 | train_accuracy: 0.98429 |  0:11:36s\n",
      "epoch 29 | loss: 0.06207 | train_balanced_accuracy: 0.98311 | train_accuracy: 0.9838  |  0:11:57s\n",
      "epoch 30 | loss: 0.06032 | train_balanced_accuracy: 0.98394 | train_accuracy: 0.98415 |  0:12:18s\n",
      "epoch 31 | loss: 0.05815 | train_balanced_accuracy: 0.98621 | train_accuracy: 0.98657 |  0:12:39s\n",
      "epoch 32 | loss: 0.05457 | train_balanced_accuracy: 0.98762 | train_accuracy: 0.98802 |  0:13:04s\n",
      "epoch 33 | loss: 0.05173 | train_balanced_accuracy: 0.98805 | train_accuracy: 0.98846 |  0:13:25s\n",
      "epoch 34 | loss: 0.05108 | train_balanced_accuracy: 0.98816 | train_accuracy: 0.98826 |  0:13:48s\n",
      "epoch 35 | loss: 0.04773 | train_balanced_accuracy: 0.98928 | train_accuracy: 0.98961 |  0:14:14s\n",
      "epoch 36 | loss: 0.04667 | train_balanced_accuracy: 0.98966 | train_accuracy: 0.99    |  0:14:33s\n",
      "epoch 37 | loss: 0.04517 | train_balanced_accuracy: 0.99005 | train_accuracy: 0.99041 |  0:14:55s\n",
      "epoch 38 | loss: 0.04194 | train_balanced_accuracy: 0.99167 | train_accuracy: 0.99191 |  0:15:16s\n",
      "epoch 39 | loss: 0.04086 | train_balanced_accuracy: 0.99157 | train_accuracy: 0.99164 |  0:15:38s\n",
      "epoch 40 | loss: 0.03945 | train_balanced_accuracy: 0.99175 | train_accuracy: 0.99178 |  0:16:02s\n",
      "epoch 41 | loss: 0.03979 | train_balanced_accuracy: 0.99254 | train_accuracy: 0.99272 |  0:16:22s\n",
      "epoch 42 | loss: 0.03819 | train_balanced_accuracy: 0.99258 | train_accuracy: 0.99267 |  0:16:44s\n",
      "epoch 43 | loss: 0.03667 | train_balanced_accuracy: 0.99318 | train_accuracy: 0.99342 |  0:17:07s\n",
      "epoch 44 | loss: 0.03401 | train_balanced_accuracy: 0.99306 | train_accuracy: 0.99325 |  0:17:30s\n",
      "epoch 45 | loss: 0.03465 | train_balanced_accuracy: 0.99293 | train_accuracy: 0.99292 |  0:17:51s\n",
      "epoch 46 | loss: 0.03348 | train_balanced_accuracy: 0.9932  | train_accuracy: 0.99312 |  0:18:10s\n",
      "epoch 47 | loss: 0.03269 | train_balanced_accuracy: 0.99402 | train_accuracy: 0.99407 |  0:18:30s\n",
      "epoch 48 | loss: 0.03213 | train_balanced_accuracy: 0.99401 | train_accuracy: 0.99418 |  0:18:49s\n",
      "epoch 49 | loss: 0.03093 | train_balanced_accuracy: 0.99389 | train_accuracy: 0.9941  |  0:19:08s\n",
      "Stop training because you reached max_epochs = 50 with best_epoch = 48 and best_train_accuracy = 0.99418\n",
      "Best weights from best epoch are automatically used!\n"
     ]
    }
   ],
   "source": [
    "model.fit(\n",
    "    X_train=x_sme,\n",
    "    y_train=y_sme,\n",
    "    eval_set=[(x_sme, y_sme)],\n",
    "    eval_name=['train'],\n",
    "    eval_metric=['balanced_accuracy', 'accuracy'],\n",
    "    max_epochs=50,\n",
    "    patience=5,\n",
    "    weights=0,  # 0: no, 1: balanced, dict: customized\n",
    "    batch_size=512,\n",
    "    virtual_batch_size=128,\n",
    "    num_workers=0,\n",
    "    drop_last=False,\n",
    "    from_unsupervised=unsupervised_model,\n",
    ")"
   ],
   "metadata": {
    "collapsed": false
   }
  },
  {
   "cell_type": "markdown",
   "source": [
    "#### Result"
   ],
   "metadata": {
    "collapsed": false
   }
  },
  {
   "cell_type": "code",
   "execution_count": 123,
   "outputs": [],
   "source": [
    "from sklearn.metrics import classification_report"
   ],
   "metadata": {
    "collapsed": false
   }
  },
  {
   "cell_type": "code",
   "execution_count": 124,
   "outputs": [
    {
     "name": "stdout",
     "output_type": "stream",
     "text": [
      "Customer_ID :  0.783\n",
      "Month :  0.02\n",
      "Age :  0.0\n",
      "Monthly_Inhand_Salary :  0.021\n",
      "Num_Bank_Accounts :  0.002\n",
      "Num_Credit_Card :  0.034\n",
      "Interest_Rate :  0.012\n",
      "Num_of_Loan :  0.005\n",
      "Delay_from_due_date :  0.0\n",
      "Num_of_Delayed_Payment :  0.004\n",
      "Changed_Credit_Limit :  0.0\n",
      "Num_Credit_Inquiries :  0.01\n",
      "Credit_Mix :  0.051\n",
      "Outstanding_Debt :  0.018\n",
      "Credit_Utilization_Ratio :  0.0\n",
      "Credit_History_Age :  0.003\n",
      "Payment_of_Min_Amount :  0.021\n",
      "Total_EMI_per_month :  0.003\n",
      "Amount_invested_monthly :  0.002\n",
      "Payment_Behaviour :  0.002\n",
      "Monthly_Balance :  0.009\n"
     ]
    }
   ],
   "source": [
    "for i in range(len(all_col_list)):\n",
    "    print(all_col_list[i], ': ', model.feature_importances_.round(3)[i])"
   ],
   "metadata": {
    "collapsed": false
   }
  },
  {
   "cell_type": "code",
   "execution_count": 125,
   "outputs": [
    {
     "name": "stdout",
     "output_type": "stream",
     "text": [
      "              precision    recall  f1-score   support\n",
      "\n",
      "           0       0.83      1.00      0.90     21782\n",
      "           1       0.99      0.82      0.90     40214\n",
      "           2       0.82      0.98      0.89     13004\n",
      "\n",
      "    accuracy                           0.90     75000\n",
      "   macro avg       0.88      0.93      0.90     75000\n",
      "weighted avg       0.91      0.90      0.90     75000\n",
      "\n"
     ]
    }
   ],
   "source": [
    "print(classification_report(y_true=y_train, y_pred=model.predict(x_train)))"
   ],
   "metadata": {
    "collapsed": false
   }
  },
  {
   "cell_type": "code",
   "execution_count": 126,
   "outputs": [],
   "source": [
    "# f1_score(y_train, (model.predict(x_train)))"
   ],
   "metadata": {
    "collapsed": false
   }
  },
  {
   "cell_type": "code",
   "execution_count": 127,
   "outputs": [],
   "source": [
    "predicted = model.predict(x_test)"
   ],
   "metadata": {
    "collapsed": false
   }
  },
  {
   "cell_type": "code",
   "execution_count": 128,
   "outputs": [
    {
     "name": "stdout",
     "output_type": "stream",
     "text": [
      "0.7459952728392999\n",
      "0.74704\n"
     ]
    }
   ],
   "source": [
    "print(f1_score(y_test, predicted, average='weighted'))\n",
    "print(accuracy_score(y_test, predicted))"
   ],
   "metadata": {
    "collapsed": false
   }
  },
  {
   "cell_type": "code",
   "execution_count": 129,
   "outputs": [
    {
     "name": "stdout",
     "output_type": "stream",
     "text": [
      "              precision    recall  f1-score   support\n",
      "\n",
      "           0       0.71      0.86      0.78      7216\n",
      "           1       0.81      0.68      0.74     12960\n",
      "           2       0.69      0.77      0.73      4824\n",
      "\n",
      "    accuracy                           0.75     25000\n",
      "   macro avg       0.73      0.77      0.75     25000\n",
      "weighted avg       0.76      0.75      0.75     25000\n",
      "\n"
     ]
    }
   ],
   "source": [
    "print(classification_report(y_test, predicted))"
   ],
   "metadata": {
    "collapsed": false
   }
  },
  {
   "cell_type": "markdown",
   "source": [
    "기존 대비 0번 클래스를 더 잘맞추나, 2번 클래스에 대한 전반적인 성능은 줄었음"
   ],
   "metadata": {
    "collapsed": false
   }
  },
  {
   "cell_type": "code",
   "execution_count": 130,
   "outputs": [
    {
     "name": "stdout",
     "output_type": "stream",
     "text": [
      "[[6181 1007   28]\n",
      " [2513 8768 1679]\n",
      " [  31 1066 3727]]\n"
     ]
    }
   ],
   "source": [
    "print(confusion_matrix(y_test, predicted))"
   ],
   "metadata": {
    "collapsed": false
   }
  },
  {
   "cell_type": "code",
   "execution_count": null,
   "outputs": [],
   "source": [],
   "metadata": {
    "collapsed": false
   }
  },
  {
   "cell_type": "code",
   "execution_count": null,
   "outputs": [],
   "source": [],
   "metadata": {
    "collapsed": false
   }
  },
  {
   "cell_type": "code",
   "execution_count": null,
   "outputs": [],
   "source": [],
   "metadata": {
    "collapsed": false
   }
  },
  {
   "cell_type": "code",
   "execution_count": null,
   "outputs": [],
   "source": [],
   "metadata": {
    "collapsed": false
   }
  },
  {
   "cell_type": "code",
   "execution_count": null,
   "outputs": [],
   "source": [],
   "metadata": {
    "collapsed": false
   }
  },
  {
   "cell_type": "code",
   "execution_count": null,
   "outputs": [],
   "source": [],
   "metadata": {
    "collapsed": false
   }
  },
  {
   "cell_type": "code",
   "execution_count": null,
   "outputs": [],
   "source": [],
   "metadata": {
    "collapsed": false
   }
  },
  {
   "cell_type": "markdown",
   "source": [
    "## SMOTE + Tomek"
   ],
   "metadata": {
    "collapsed": false
   }
  },
  {
   "cell_type": "code",
   "execution_count": 109,
   "outputs": [],
   "source": [
    "def sampling_smote_tomek(x_input, y_input, smote=None, tomek=None, sampling_strategy='auto'):\n",
    "    \"\"\"\n",
    "    :param x_input: x data 입력\n",
    "    :param y_input: y data 입력\n",
    "    :param smote: SMOTE 객체 입력\n",
    "    :param tomek: Tomek 객체 입력\n",
    "    :param sampling_strategy: 딕셔너리 구조로 입력\n",
    "    :return: x_smt, y_smt\n",
    "    \"\"\"\n",
    "    import pandas as pd\n",
    "    from imblearn.combine import SMOTETomek\n",
    "    smt = SMOTETomek(smote=smote,\n",
    "                   tomek=tomek,\n",
    "                   sampling_strategy=sampling_strategy,\n",
    "                   random_state=42,\n",
    "                   n_jobs=-1)\n",
    "\n",
    "    x_smt, y_smt = smt.fit_resample(x_input, y_input)\n",
    "\n",
    "    print(\"Before SMOTE Tomek....\")\n",
    "    print(\"The shape of your X data: \", x_input.shape)\n",
    "    print(\"The shape of your y data: \", y_input.shape)\n",
    "    print(\"Label Counts : \\n\", pd.Series(y_input).value_counts().sort_index())\n",
    "    print('\\n')\n",
    "    print(\"After SMOTE Tomek Applied....\")\n",
    "    print(\"The shape of your X_SME data: \", x_smt.shape)\n",
    "    print(\"The shape of your y_SME data: \", y_smt.shape)\n",
    "    print(\"Label Counts : \\n\", pd.Series(y_smt).value_counts().sort_index())\n",
    "\n",
    "    return x_smt, y_smt"
   ],
   "metadata": {
    "collapsed": false
   }
  },
  {
   "cell_type": "code",
   "execution_count": null,
   "outputs": [],
   "source": [
    "from imblearn.combine import SMOTETomek"
   ],
   "metadata": {
    "collapsed": false
   }
  },
  {
   "cell_type": "code",
   "execution_count": null,
   "outputs": [],
   "source": [],
   "metadata": {
    "collapsed": false
   }
  },
  {
   "cell_type": "code",
   "execution_count": 131,
   "outputs": [
    {
     "name": "stdout",
     "output_type": "stream",
     "text": [
      "Before SMOTE Tomek....\n",
      "The shape of your X data:  (75000, 21)\n",
      "The shape of your y data:  (75000,)\n",
      "Label Counts : \n",
      " 0    21782\n",
      "1    40214\n",
      "2    13004\n",
      "dtype: int64\n",
      "\n",
      "\n",
      "After SMOTE Tomek Applied....\n",
      "The shape of your X_SME data:  (117826, 21)\n",
      "The shape of your y_SME data:  (117826,)\n",
      "Label Counts : \n",
      " 0    39140\n",
      "1    38806\n",
      "2    39880\n",
      "dtype: int64\n"
     ]
    }
   ],
   "source": [
    "x_smt, y_smt = sampling_smote_tomek(x_train, y_train)"
   ],
   "metadata": {
    "collapsed": false
   }
  },
  {
   "cell_type": "code",
   "execution_count": 132,
   "outputs": [
    {
     "name": "stdout",
     "output_type": "stream",
     "text": [
      "Device used : cpu\n",
      "No early stopping will be performed, last training weights will be used.\n",
      "epoch 0  | loss: 1.89148 |  0:00:23s\n",
      "epoch 1  | loss: 1.25966 |  0:00:43s\n",
      "epoch 2  | loss: 1.04032 |  0:01:06s\n",
      "epoch 3  | loss: 0.946   |  0:01:27s\n",
      "epoch 4  | loss: 0.90628 |  0:01:49s\n",
      "epoch 5  | loss: 0.89407 |  0:02:12s\n",
      "epoch 6  | loss: 0.88076 |  0:02:35s\n",
      "epoch 7  | loss: 0.87257 |  0:02:55s\n",
      "epoch 8  | loss: 0.86935 |  0:03:19s\n",
      "epoch 9  | loss: 0.86748 |  0:03:40s\n",
      "epoch 10 | loss: 0.86619 |  0:04:01s\n",
      "epoch 11 | loss: 0.86439 |  0:04:21s\n",
      "epoch 12 | loss: 0.86199 |  0:04:42s\n",
      "epoch 13 | loss: 0.8589  |  0:05:03s\n",
      "epoch 14 | loss: 0.85741 |  0:05:24s\n",
      "epoch 15 | loss: 0.85616 |  0:05:45s\n",
      "epoch 16 | loss: 0.85427 |  0:06:06s\n",
      "epoch 17 | loss: 0.85363 |  0:06:25s\n",
      "epoch 18 | loss: 0.85188 |  0:06:45s\n",
      "epoch 19 | loss: 0.85156 |  0:07:04s\n",
      "epoch 20 | loss: 0.85061 |  0:07:23s\n",
      "epoch 21 | loss: 0.84999 |  0:07:43s\n",
      "epoch 22 | loss: 0.84998 |  0:08:02s\n",
      "epoch 23 | loss: 0.84689 |  0:08:21s\n",
      "epoch 24 | loss: 0.84516 |  0:08:41s\n",
      "epoch 25 | loss: 0.8434  |  0:09:00s\n",
      "epoch 26 | loss: 0.84124 |  0:09:19s\n",
      "epoch 27 | loss: 0.83549 |  0:09:38s\n",
      "epoch 28 | loss: 0.83072 |  0:09:58s\n",
      "epoch 29 | loss: 0.82375 |  0:10:17s\n",
      "epoch 30 | loss: 0.81851 |  0:10:35s\n",
      "epoch 31 | loss: 0.81181 |  0:10:55s\n",
      "epoch 32 | loss: 0.80445 |  0:11:14s\n",
      "epoch 33 | loss: 0.79709 |  0:11:33s\n",
      "epoch 34 | loss: 0.78876 |  0:11:53s\n",
      "epoch 35 | loss: 0.78063 |  0:12:12s\n",
      "epoch 36 | loss: 0.77202 |  0:12:31s\n",
      "epoch 37 | loss: 0.76587 |  0:12:50s\n",
      "epoch 38 | loss: 0.75837 |  0:13:09s\n",
      "epoch 39 | loss: 0.75124 |  0:13:28s\n",
      "epoch 40 | loss: 0.7436  |  0:13:50s\n",
      "epoch 41 | loss: 0.73712 |  0:14:09s\n",
      "epoch 42 | loss: 0.72919 |  0:14:30s\n",
      "epoch 43 | loss: 0.72303 |  0:14:51s\n",
      "epoch 44 | loss: 0.70884 |  0:15:13s\n",
      "epoch 45 | loss: 0.67827 |  0:15:36s\n",
      "epoch 46 | loss: 0.64336 |  0:15:56s\n",
      "epoch 47 | loss: 0.6064  |  0:16:16s\n",
      "epoch 48 | loss: 0.57277 |  0:16:36s\n",
      "epoch 49 | loss: 0.53752 |  0:16:57s\n",
      "epoch 50 | loss: 0.50716 |  0:17:17s\n",
      "epoch 51 | loss: 0.47759 |  0:17:37s\n",
      "epoch 52 | loss: 0.45019 |  0:17:57s\n",
      "epoch 53 | loss: 0.42745 |  0:18:18s\n",
      "epoch 54 | loss: 0.40631 |  0:18:38s\n",
      "epoch 55 | loss: 0.38704 |  0:18:58s\n",
      "epoch 56 | loss: 0.37153 |  0:19:18s\n",
      "epoch 57 | loss: 0.35681 |  0:19:38s\n",
      "epoch 58 | loss: 0.34307 |  0:20:00s\n",
      "epoch 59 | loss: 0.33131 |  0:20:20s\n",
      "epoch 60 | loss: 0.3219  |  0:20:41s\n",
      "epoch 61 | loss: 0.31317 |  0:21:02s\n",
      "epoch 62 | loss: 0.30493 |  0:21:22s\n",
      "epoch 63 | loss: 0.29743 |  0:21:41s\n",
      "epoch 64 | loss: 0.29093 |  0:22:01s\n",
      "epoch 65 | loss: 0.28563 |  0:22:20s\n",
      "epoch 66 | loss: 0.28073 |  0:22:39s\n",
      "epoch 67 | loss: 0.27598 |  0:22:58s\n",
      "epoch 68 | loss: 0.27224 |  0:23:18s\n",
      "epoch 69 | loss: 0.26822 |  0:23:37s\n",
      "epoch 70 | loss: 0.26513 |  0:23:56s\n",
      "epoch 71 | loss: 0.26151 |  0:24:16s\n",
      "epoch 72 | loss: 0.25966 |  0:24:35s\n",
      "epoch 73 | loss: 0.25641 |  0:24:56s\n",
      "epoch 74 | loss: 0.25508 |  0:25:15s\n",
      "epoch 75 | loss: 0.25344 |  0:25:35s\n",
      "epoch 76 | loss: 0.25157 |  0:25:54s\n",
      "epoch 77 | loss: 0.24986 |  0:26:14s\n",
      "epoch 78 | loss: 0.24784 |  0:26:33s\n",
      "epoch 79 | loss: 0.24667 |  0:26:53s\n",
      "epoch 80 | loss: 0.24579 |  0:27:12s\n",
      "epoch 81 | loss: 0.24443 |  0:27:32s\n",
      "epoch 82 | loss: 0.24304 |  0:27:51s\n",
      "epoch 83 | loss: 0.24223 |  0:28:10s\n",
      "epoch 84 | loss: 0.2412  |  0:28:30s\n",
      "epoch 85 | loss: 0.24018 |  0:28:49s\n",
      "epoch 86 | loss: 0.23953 |  0:29:08s\n",
      "epoch 87 | loss: 0.23928 |  0:29:27s\n",
      "epoch 88 | loss: 0.23828 |  0:29:47s\n",
      "epoch 89 | loss: 0.23659 |  0:30:06s\n"
     ]
    }
   ],
   "source": [
    "# pretrain model\n",
    "unsupervised_model = TabNetPretrainer(\n",
    "    cat_idxs=cat_col_idx,\n",
    "    cat_dims=cat_col_dims,\n",
    "    cat_emb_dim=[int(round(np.sqrt(i)/4,0))+1 for i in cat_col_dims],\n",
    "    optimizer_fn=torch.optim.Adam,\n",
    "    optimizer_params=dict(lr=5*1e-3),\n",
    "    scheduler_params={'is_batch_level': True, 'T_0':10, 'T_mult':2, 'eta_min': 0.001},\n",
    "    scheduler_fn=torch.optim.lr_scheduler.CosineAnnealingWarmRestarts,\n",
    "    mask_type='entmax'\n",
    ")\n",
    "\n",
    "unsupervised_model.fit(\n",
    "    X_train=x_smt,\n",
    "    max_epochs=90,\n",
    "    drop_last=False,\n",
    "    pretraining_ratio=0.6, #0.5\n",
    ")\n",
    "\n",
    "reconstructed_X, embedded_X = unsupervised_model.predict(x_smt)\n",
    "assert(reconstructed_X.shape == embedded_X.shape)"
   ],
   "metadata": {
    "collapsed": false
   }
  },
  {
   "cell_type": "code",
   "execution_count": 133,
   "outputs": [
    {
     "name": "stdout",
     "output_type": "stream",
     "text": [
      "Device used : cpu\n"
     ]
    }
   ],
   "source": [
    "model = TabNetClassifier(\n",
    "    cat_idxs=cat_col_idx,\n",
    "    cat_dims=cat_col_dims,\n",
    "    cat_emb_dim=[int(round(np.sqrt(i)/4,0))+1 for i in cat_col_dims],\n",
    "    optimizer_fn=torch.optim.Adam,\n",
    "    optimizer_params=dict(lr=1e-3),\n",
    "    scheduler_params={'is_batch_level': True, 'T_0':10, 'T_mult':2, 'eta_min': 0.001},\n",
    "    scheduler_fn=torch.optim.lr_scheduler.CosineAnnealingWarmRestarts,\n",
    "    mask_type='sparsemax',\n",
    "    gamma=1.3,\n",
    "    )"
   ],
   "metadata": {
    "collapsed": false
   }
  },
  {
   "cell_type": "code",
   "execution_count": 134,
   "outputs": [
    {
     "name": "stdout",
     "output_type": "stream",
     "text": [
      "Loading weights from unsupervised pretraining\n",
      "epoch 0  | loss: 1.10336 | train_balanced_accuracy: 0.74801 | train_accuracy: 0.7487  |  0:00:19s\n",
      "epoch 1  | loss: 0.60049 | train_balanced_accuracy: 0.79899 | train_accuracy: 0.79973 |  0:00:38s\n",
      "epoch 2  | loss: 0.48007 | train_balanced_accuracy: 0.85818 | train_accuracy: 0.85847 |  0:00:59s\n",
      "epoch 3  | loss: 0.39898 | train_balanced_accuracy: 0.88141 | train_accuracy: 0.88159 |  0:01:19s\n",
      "epoch 4  | loss: 0.34355 | train_balanced_accuracy: 0.89608 | train_accuracy: 0.89639 |  0:01:38s\n",
      "epoch 5  | loss: 0.31148 | train_balanced_accuracy: 0.90114 | train_accuracy: 0.90152 |  0:01:57s\n",
      "epoch 6  | loss: 0.28361 | train_balanced_accuracy: 0.90789 | train_accuracy: 0.90829 |  0:02:17s\n",
      "epoch 7  | loss: 0.26747 | train_balanced_accuracy: 0.90838 | train_accuracy: 0.90881 |  0:02:36s\n",
      "epoch 8  | loss: 0.256   | train_balanced_accuracy: 0.91657 | train_accuracy: 0.91699 |  0:02:54s\n",
      "epoch 9  | loss: 0.24337 | train_balanced_accuracy: 0.91978 | train_accuracy: 0.92021 |  0:03:14s\n",
      "epoch 10 | loss: 0.23283 | train_balanced_accuracy: 0.91984 | train_accuracy: 0.92032 |  0:03:33s\n",
      "epoch 11 | loss: 0.22276 | train_balanced_accuracy: 0.92561 | train_accuracy: 0.92615 |  0:03:52s\n",
      "epoch 12 | loss: 0.21111 | train_balanced_accuracy: 0.93202 | train_accuracy: 0.93248 |  0:04:11s\n",
      "epoch 13 | loss: 0.20305 | train_balanced_accuracy: 0.93614 | train_accuracy: 0.93662 |  0:04:30s\n",
      "epoch 14 | loss: 0.19278 | train_balanced_accuracy: 0.94167 | train_accuracy: 0.94209 |  0:04:49s\n",
      "epoch 15 | loss: 0.18409 | train_balanced_accuracy: 0.94263 | train_accuracy: 0.94301 |  0:05:08s\n",
      "epoch 16 | loss: 0.17665 | train_balanced_accuracy: 0.94505 | train_accuracy: 0.94548 |  0:05:27s\n",
      "epoch 17 | loss: 0.17091 | train_balanced_accuracy: 0.94742 | train_accuracy: 0.94778 |  0:05:46s\n",
      "epoch 18 | loss: 0.16427 | train_balanced_accuracy: 0.95002 | train_accuracy: 0.95036 |  0:06:05s\n",
      "epoch 19 | loss: 0.1596  | train_balanced_accuracy: 0.94961 | train_accuracy: 0.94994 |  0:06:24s\n",
      "epoch 20 | loss: 0.15436 | train_balanced_accuracy: 0.95109 | train_accuracy: 0.95127 |  0:06:43s\n",
      "epoch 21 | loss: 0.14896 | train_balanced_accuracy: 0.9544  | train_accuracy: 0.9547  |  0:07:02s\n",
      "epoch 22 | loss: 0.14533 | train_balanced_accuracy: 0.95628 | train_accuracy: 0.95659 |  0:07:20s\n",
      "epoch 23 | loss: 0.14091 | train_balanced_accuracy: 0.95611 | train_accuracy: 0.95633 |  0:07:39s\n",
      "epoch 24 | loss: 0.13693 | train_balanced_accuracy: 0.95737 | train_accuracy: 0.95767 |  0:07:58s\n",
      "epoch 25 | loss: 0.13119 | train_balanced_accuracy: 0.95981 | train_accuracy: 0.96009 |  0:08:17s\n",
      "epoch 26 | loss: 0.12883 | train_balanced_accuracy: 0.96108 | train_accuracy: 0.96136 |  0:08:36s\n",
      "epoch 27 | loss: 0.12525 | train_balanced_accuracy: 0.96339 | train_accuracy: 0.96364 |  0:08:54s\n",
      "epoch 28 | loss: 0.1213  | train_balanced_accuracy: 0.96351 | train_accuracy: 0.96379 |  0:09:15s\n",
      "epoch 29 | loss: 0.11863 | train_balanced_accuracy: 0.96376 | train_accuracy: 0.96398 |  0:09:34s\n",
      "epoch 30 | loss: 0.11461 | train_balanced_accuracy: 0.96512 | train_accuracy: 0.96533 |  0:09:53s\n",
      "epoch 31 | loss: 0.11318 | train_balanced_accuracy: 0.9665  | train_accuracy: 0.96671 |  0:10:13s\n",
      "epoch 32 | loss: 0.10921 | train_balanced_accuracy: 0.96592 | train_accuracy: 0.96611 |  0:10:33s\n",
      "epoch 33 | loss: 0.1091  | train_balanced_accuracy: 0.96823 | train_accuracy: 0.96843 |  0:10:51s\n",
      "epoch 34 | loss: 0.1064  | train_balanced_accuracy: 0.96742 | train_accuracy: 0.96763 |  0:11:14s\n",
      "epoch 35 | loss: 0.10263 | train_balanced_accuracy: 0.96925 | train_accuracy: 0.96947 |  0:11:34s\n",
      "epoch 36 | loss: 0.09915 | train_balanced_accuracy: 0.97026 | train_accuracy: 0.97048 |  0:11:54s\n",
      "epoch 37 | loss: 0.09843 | train_balanced_accuracy: 0.97174 | train_accuracy: 0.97189 |  0:12:13s\n",
      "epoch 38 | loss: 0.0955  | train_balanced_accuracy: 0.97252 | train_accuracy: 0.97271 |  0:12:33s\n",
      "epoch 39 | loss: 0.09301 | train_balanced_accuracy: 0.9694  | train_accuracy: 0.9695  |  0:12:51s\n",
      "epoch 40 | loss: 0.09299 | train_balanced_accuracy: 0.97294 | train_accuracy: 0.97315 |  0:13:10s\n",
      "epoch 41 | loss: 0.09017 | train_balanced_accuracy: 0.97407 | train_accuracy: 0.97426 |  0:13:29s\n",
      "epoch 42 | loss: 0.08806 | train_balanced_accuracy: 0.97279 | train_accuracy: 0.97297 |  0:13:48s\n",
      "epoch 43 | loss: 0.08821 | train_balanced_accuracy: 0.97525 | train_accuracy: 0.97546 |  0:14:07s\n",
      "epoch 44 | loss: 0.08473 | train_balanced_accuracy: 0.97406 | train_accuracy: 0.97423 |  0:14:25s\n",
      "epoch 45 | loss: 0.0838  | train_balanced_accuracy: 0.97601 | train_accuracy: 0.97608 |  0:14:45s\n",
      "epoch 46 | loss: 0.08222 | train_balanced_accuracy: 0.97685 | train_accuracy: 0.97702 |  0:15:04s\n",
      "epoch 47 | loss: 0.07985 | train_balanced_accuracy: 0.97677 | train_accuracy: 0.97691 |  0:15:23s\n",
      "epoch 48 | loss: 0.07843 | train_balanced_accuracy: 0.9774  | train_accuracy: 0.97758 |  0:15:42s\n",
      "epoch 49 | loss: 0.07673 | train_balanced_accuracy: 0.97874 | train_accuracy: 0.97883 |  0:16:00s\n",
      "Stop training because you reached max_epochs = 50 with best_epoch = 49 and best_train_accuracy = 0.97883\n",
      "Best weights from best epoch are automatically used!\n"
     ]
    }
   ],
   "source": [
    "model.fit(\n",
    "    X_train=x_smt,\n",
    "    y_train=y_smt,\n",
    "    eval_set=[(x_smt, y_smt)],\n",
    "    eval_name=['train'],\n",
    "    eval_metric=['balanced_accuracy', 'accuracy'],\n",
    "    max_epochs=50,\n",
    "    patience=5,\n",
    "    weights=0,  # 0: no, 1: balanced, dict: customized\n",
    "    batch_size=512,\n",
    "    virtual_batch_size=128,\n",
    "    num_workers=0,\n",
    "    drop_last=False,\n",
    "    from_unsupervised=unsupervised_model,\n",
    ")"
   ],
   "metadata": {
    "collapsed": false
   }
  },
  {
   "cell_type": "markdown",
   "source": [
    "#### Result"
   ],
   "metadata": {
    "collapsed": false
   }
  },
  {
   "cell_type": "code",
   "execution_count": 135,
   "outputs": [],
   "source": [
    "from sklearn.metrics import classification_report"
   ],
   "metadata": {
    "collapsed": false
   }
  },
  {
   "cell_type": "code",
   "execution_count": 136,
   "outputs": [
    {
     "name": "stdout",
     "output_type": "stream",
     "text": [
      "Customer_ID :  0.911\n",
      "Month :  0.032\n",
      "Age :  0.003\n",
      "Monthly_Inhand_Salary :  0.006\n",
      "Num_Bank_Accounts :  0.001\n",
      "Num_Credit_Card :  0.002\n",
      "Interest_Rate :  0.006\n",
      "Num_of_Loan :  0.001\n",
      "Delay_from_due_date :  0.0\n",
      "Num_of_Delayed_Payment :  0.0\n",
      "Changed_Credit_Limit :  0.002\n",
      "Num_Credit_Inquiries :  0.003\n",
      "Credit_Mix :  0.012\n",
      "Outstanding_Debt :  0.012\n",
      "Credit_Utilization_Ratio :  0.0\n",
      "Credit_History_Age :  0.002\n",
      "Payment_of_Min_Amount :  0.007\n",
      "Total_EMI_per_month :  0.0\n",
      "Amount_invested_monthly :  0.0\n",
      "Payment_Behaviour :  0.001\n",
      "Monthly_Balance :  0.001\n"
     ]
    }
   ],
   "source": [
    "for i in range(len(all_col_list)):\n",
    "    print(all_col_list[i], ': ', model.feature_importances_.round(3)[i])"
   ],
   "metadata": {
    "collapsed": false
   }
  },
  {
   "cell_type": "code",
   "execution_count": 137,
   "outputs": [
    {
     "name": "stdout",
     "output_type": "stream",
     "text": [
      "              precision    recall  f1-score   support\n",
      "\n",
      "           0       0.93      0.98      0.96     21782\n",
      "           1       0.98      0.93      0.96     40214\n",
      "           2       0.93      0.98      0.95     13004\n",
      "\n",
      "    accuracy                           0.96     75000\n",
      "   macro avg       0.95      0.96      0.95     75000\n",
      "weighted avg       0.96      0.96      0.96     75000\n",
      "\n"
     ]
    }
   ],
   "source": [
    "print(classification_report(y_true=y_train, y_pred=model.predict(x_train)))"
   ],
   "metadata": {
    "collapsed": false
   }
  },
  {
   "cell_type": "code",
   "execution_count": 138,
   "outputs": [],
   "source": [
    "# f1_score(y_train, (model.predict(x_train)))"
   ],
   "metadata": {
    "collapsed": false
   }
  },
  {
   "cell_type": "code",
   "execution_count": 139,
   "outputs": [],
   "source": [
    "predicted = model.predict(x_test)"
   ],
   "metadata": {
    "collapsed": false
   }
  },
  {
   "cell_type": "code",
   "execution_count": 140,
   "outputs": [
    {
     "name": "stdout",
     "output_type": "stream",
     "text": [
      "0.7199924944333006\n",
      "0.72028\n"
     ]
    }
   ],
   "source": [
    "print(f1_score(y_test, predicted, average='weighted'))\n",
    "print(accuracy_score(y_test, predicted))"
   ],
   "metadata": {
    "collapsed": false
   }
  },
  {
   "cell_type": "code",
   "execution_count": 141,
   "outputs": [
    {
     "name": "stdout",
     "output_type": "stream",
     "text": [
      "              precision    recall  f1-score   support\n",
      "\n",
      "           0       0.71      0.75      0.73      7216\n",
      "           1       0.73      0.73      0.73     12960\n",
      "           2       0.69      0.66      0.67      4824\n",
      "\n",
      "    accuracy                           0.72     25000\n",
      "   macro avg       0.71      0.71      0.71     25000\n",
      "weighted avg       0.72      0.72      0.72     25000\n",
      "\n"
     ]
    }
   ],
   "source": [
    "print(classification_report(y_test, predicted))"
   ],
   "metadata": {
    "collapsed": false
   }
  },
  {
   "cell_type": "code",
   "execution_count": 142,
   "outputs": [
    {
     "name": "stdout",
     "output_type": "stream",
     "text": [
      "[[5391 1806   19]\n",
      " [2132 9449 1379]\n",
      " [  24 1633 3167]]\n"
     ]
    }
   ],
   "source": [
    "print(confusion_matrix(y_test, predicted))"
   ],
   "metadata": {
    "collapsed": false
   }
  },
  {
   "cell_type": "code",
   "execution_count": null,
   "outputs": [],
   "source": [],
   "metadata": {
    "collapsed": false
   }
  },
  {
   "cell_type": "code",
   "execution_count": null,
   "outputs": [],
   "source": [],
   "metadata": {
    "collapsed": false
   }
  },
  {
   "cell_type": "markdown",
   "source": [
    "# SMOTE ENN + Cost Sensitive"
   ],
   "metadata": {
    "collapsed": false
   }
  },
  {
   "cell_type": "code",
   "execution_count": null,
   "outputs": [],
   "source": [],
   "metadata": {
    "collapsed": false
   }
  },
  {
   "cell_type": "code",
   "execution_count": null,
   "outputs": [],
   "source": [],
   "metadata": {
    "collapsed": false
   }
  },
  {
   "cell_type": "code",
   "execution_count": null,
   "outputs": [],
   "source": [],
   "metadata": {
    "collapsed": false
   }
  },
  {
   "cell_type": "markdown",
   "source": [
    "기존 클래스 비율 by SME\n",
    "0    40214\n",
    "1    24534\n",
    "2    37715"
   ],
   "metadata": {
    "collapsed": false
   }
  },
  {
   "cell_type": "code",
   "execution_count": 146,
   "outputs": [],
   "source": [
    "smote = SMOTE(k_neighbors=7, n_jobs=-1, sampling_strategy={0: 25000, 1: 40214, 2: 25000})"
   ],
   "metadata": {
    "collapsed": false
   }
  },
  {
   "cell_type": "code",
   "execution_count": 147,
   "outputs": [],
   "source": [
    "enn = EditedNearestNeighbours(kind_sel='mode', n_jobs=-1) # less conservative"
   ],
   "metadata": {
    "collapsed": false
   }
  },
  {
   "cell_type": "code",
   "execution_count": 148,
   "outputs": [
    {
     "name": "stdout",
     "output_type": "stream",
     "text": [
      "Before SMOTE ENN....\n",
      "The shape of your X data:  (75000, 21)\n",
      "The shape of your y data:  (75000,)\n",
      "Label Counts : \n",
      " 0    21782\n",
      "1    40214\n",
      "2    13004\n",
      "dtype: int64\n",
      "\n",
      "\n",
      "After SMOTE ENN Applied....\n",
      "The shape of your X_SME data:  (81548, 21)\n",
      "The shape of your y_SME data:  (81548,)\n",
      "Label Counts : \n",
      " 0    25000\n",
      "1    32769\n",
      "2    23779\n",
      "dtype: int64\n"
     ]
    }
   ],
   "source": [
    "# x_sme, y_sme = sampling_smote_enn(x_train, y_train, smote=smote, enn=enn, sampling_strategy={0: 24534, 1: 40214, 2: 37715})\n",
    "x_sme, y_sme = sampling_smote_enn(x_train, y_train, smote=smote, enn=enn)"
   ],
   "metadata": {
    "collapsed": false
   }
  },
  {
   "cell_type": "code",
   "execution_count": 149,
   "outputs": [
    {
     "name": "stdout",
     "output_type": "stream",
     "text": [
      "Device used : cpu\n",
      "No early stopping will be performed, last training weights will be used.\n",
      "epoch 0  | loss: 2.07438 |  0:00:18s\n",
      "epoch 1  | loss: 1.49916 |  0:00:32s\n",
      "epoch 2  | loss: 1.14769 |  0:00:47s\n",
      "epoch 3  | loss: 1.05155 |  0:01:00s\n",
      "epoch 4  | loss: 0.9879  |  0:01:16s\n",
      "epoch 5  | loss: 0.93464 |  0:01:30s\n",
      "epoch 6  | loss: 0.91411 |  0:01:45s\n",
      "epoch 7  | loss: 0.90556 |  0:01:59s\n",
      "epoch 8  | loss: 0.89487 |  0:02:13s\n",
      "epoch 9  | loss: 0.88566 |  0:02:28s\n",
      "epoch 10 | loss: 0.88112 |  0:02:42s\n",
      "epoch 11 | loss: 0.87646 |  0:02:57s\n",
      "epoch 12 | loss: 0.8737  |  0:03:11s\n",
      "epoch 13 | loss: 0.87302 |  0:03:26s\n",
      "epoch 14 | loss: 0.87268 |  0:03:40s\n",
      "epoch 15 | loss: 0.87229 |  0:03:54s\n",
      "epoch 16 | loss: 0.86997 |  0:04:10s\n",
      "epoch 17 | loss: 0.86885 |  0:04:24s\n",
      "epoch 18 | loss: 0.86748 |  0:04:41s\n",
      "epoch 19 | loss: 0.86689 |  0:04:56s\n",
      "epoch 20 | loss: 0.8668  |  0:05:11s\n",
      "epoch 21 | loss: 0.8636  |  0:05:24s\n",
      "epoch 22 | loss: 0.86257 |  0:05:37s\n",
      "epoch 23 | loss: 0.86282 |  0:05:50s\n",
      "epoch 24 | loss: 0.86117 |  0:06:03s\n",
      "epoch 25 | loss: 0.85937 |  0:06:16s\n",
      "epoch 26 | loss: 0.85724 |  0:06:28s\n",
      "epoch 27 | loss: 0.85593 |  0:06:41s\n",
      "epoch 28 | loss: 0.85558 |  0:06:53s\n",
      "epoch 29 | loss: 0.85412 |  0:07:05s\n",
      "epoch 30 | loss: 0.85291 |  0:07:17s\n",
      "epoch 31 | loss: 0.85221 |  0:07:30s\n",
      "epoch 32 | loss: 0.85065 |  0:07:42s\n",
      "epoch 33 | loss: 0.84642 |  0:07:55s\n",
      "epoch 34 | loss: 0.84193 |  0:08:07s\n",
      "epoch 35 | loss: 0.83844 |  0:08:19s\n",
      "epoch 36 | loss: 0.83568 |  0:08:31s\n",
      "epoch 37 | loss: 0.83198 |  0:08:43s\n",
      "epoch 38 | loss: 0.82862 |  0:08:55s\n",
      "epoch 39 | loss: 0.82724 |  0:09:07s\n",
      "epoch 40 | loss: 0.82393 |  0:09:19s\n",
      "epoch 41 | loss: 0.82177 |  0:09:35s\n",
      "epoch 42 | loss: 0.81999 |  0:09:47s\n",
      "epoch 43 | loss: 0.81684 |  0:10:00s\n",
      "epoch 44 | loss: 0.81467 |  0:10:24s\n",
      "epoch 45 | loss: 0.81026 |  0:10:37s\n",
      "epoch 46 | loss: 0.80605 |  0:11:06s\n",
      "epoch 47 | loss: 0.8034  |  0:11:22s\n",
      "epoch 48 | loss: 0.79905 |  0:11:35s\n",
      "epoch 49 | loss: 0.79589 |  0:11:50s\n",
      "epoch 50 | loss: 0.79224 |  0:12:30s\n",
      "epoch 51 | loss: 0.78834 |  0:12:44s\n",
      "epoch 52 | loss: 0.78432 |  0:12:57s\n",
      "epoch 53 | loss: 0.78063 |  0:13:10s\n",
      "epoch 54 | loss: 0.77617 |  0:13:22s\n",
      "epoch 55 | loss: 0.77184 |  0:13:38s\n",
      "epoch 56 | loss: 0.76906 |  0:13:52s\n",
      "epoch 57 | loss: 0.76539 |  0:14:06s\n",
      "epoch 58 | loss: 0.76274 |  0:14:22s\n",
      "epoch 59 | loss: 0.759   |  0:14:36s\n",
      "epoch 60 | loss: 0.75785 |  0:14:50s\n",
      "epoch 61 | loss: 0.75359 |  0:15:05s\n",
      "epoch 62 | loss: 0.75102 |  0:15:20s\n",
      "epoch 63 | loss: 0.74805 |  0:15:34s\n",
      "epoch 64 | loss: 0.73962 |  0:15:48s\n",
      "epoch 65 | loss: 0.72476 |  0:16:03s\n",
      "epoch 66 | loss: 0.70664 |  0:16:17s\n",
      "epoch 67 | loss: 0.68679 |  0:16:31s\n",
      "epoch 68 | loss: 0.66633 |  0:16:46s\n",
      "epoch 69 | loss: 0.64263 |  0:17:00s\n",
      "epoch 70 | loss: 0.61953 |  0:17:14s\n",
      "epoch 71 | loss: 0.59572 |  0:17:29s\n",
      "epoch 72 | loss: 0.57356 |  0:17:43s\n",
      "epoch 73 | loss: 0.55041 |  0:17:57s\n",
      "epoch 74 | loss: 0.53031 |  0:18:11s\n",
      "epoch 75 | loss: 0.50875 |  0:18:25s\n",
      "epoch 76 | loss: 0.48817 |  0:18:41s\n",
      "epoch 77 | loss: 0.46923 |  0:18:55s\n",
      "epoch 78 | loss: 0.45255 |  0:19:18s\n",
      "epoch 79 | loss: 0.43662 |  0:19:57s\n",
      "epoch 80 | loss: 0.4202  |  0:20:18s\n",
      "epoch 81 | loss: 0.40541 |  0:20:41s\n",
      "epoch 82 | loss: 0.39122 |  0:20:55s\n",
      "epoch 83 | loss: 0.3786  |  0:21:10s\n",
      "epoch 84 | loss: 0.36724 |  0:21:24s\n",
      "epoch 85 | loss: 0.3566  |  0:21:39s\n",
      "epoch 86 | loss: 0.34723 |  0:21:53s\n",
      "epoch 87 | loss: 0.33827 |  0:22:08s\n",
      "epoch 88 | loss: 0.33049 |  0:22:22s\n",
      "epoch 89 | loss: 0.3224  |  0:22:37s\n"
     ]
    }
   ],
   "source": [
    "# pretrain model\n",
    "unsupervised_model = TabNetPretrainer(\n",
    "    cat_idxs=cat_col_idx,\n",
    "    cat_dims=cat_col_dims,\n",
    "    cat_emb_dim=[int(round(np.sqrt(i)/4,0))+1 for i in cat_col_dims],\n",
    "    optimizer_fn=torch.optim.Adam,\n",
    "    optimizer_params=dict(lr=5*1e-3),\n",
    "    scheduler_params={'is_batch_level': True, 'T_0':10, 'T_mult':2, 'eta_min': 0.001},\n",
    "    scheduler_fn=torch.optim.lr_scheduler.CosineAnnealingWarmRestarts,\n",
    "    mask_type='entmax'\n",
    ")\n",
    "\n",
    "unsupervised_model.fit(\n",
    "    X_train=x_sme,\n",
    "    max_epochs=90,\n",
    "    drop_last=False,\n",
    "    pretraining_ratio=0.6, #0.5\n",
    ")\n",
    "\n",
    "reconstructed_X, embedded_X = unsupervised_model.predict(x_sme)\n",
    "assert(reconstructed_X.shape == embedded_X.shape)"
   ],
   "metadata": {
    "collapsed": false
   }
  },
  {
   "cell_type": "code",
   "execution_count": 150,
   "outputs": [
    {
     "name": "stdout",
     "output_type": "stream",
     "text": [
      "Device used : cpu\n"
     ]
    }
   ],
   "source": [
    "model = TabNetClassifier(\n",
    "    cat_idxs=cat_col_idx,\n",
    "    cat_dims=cat_col_dims,\n",
    "    cat_emb_dim=[int(round(np.sqrt(i)/4,0))+1 for i in cat_col_dims],\n",
    "    optimizer_fn=torch.optim.Adam,\n",
    "    optimizer_params=dict(lr=1e-3),\n",
    "    scheduler_params={'is_batch_level': True, 'T_0':10, 'T_mult':2, 'eta_min': 0.001},\n",
    "    scheduler_fn=torch.optim.lr_scheduler.CosineAnnealingWarmRestarts,\n",
    "    mask_type='sparsemax',\n",
    "    gamma=1.3,\n",
    "    )"
   ],
   "metadata": {
    "collapsed": false
   }
  },
  {
   "cell_type": "code",
   "execution_count": 151,
   "outputs": [
    {
     "name": "stdout",
     "output_type": "stream",
     "text": [
      "Loading weights from unsupervised pretraining\n",
      "epoch 0  | loss: 1.56516 | train_balanced_accuracy: 0.75936 | train_accuracy: 0.75292 |  0:00:13s\n",
      "epoch 1  | loss: 0.606   | train_balanced_accuracy: 0.77399 | train_accuracy: 0.77424 |  0:00:27s\n",
      "epoch 2  | loss: 0.53954 | train_balanced_accuracy: 0.80391 | train_accuracy: 0.80359 |  0:00:40s\n",
      "epoch 3  | loss: 0.45417 | train_balanced_accuracy: 0.85557 | train_accuracy: 0.85688 |  0:00:53s\n",
      "epoch 4  | loss: 0.35965 | train_balanced_accuracy: 0.90157 | train_accuracy: 0.90079 |  0:01:07s\n",
      "epoch 5  | loss: 0.29062 | train_balanced_accuracy: 0.92428 | train_accuracy: 0.9252  |  0:01:21s\n",
      "epoch 6  | loss: 0.23819 | train_balanced_accuracy: 0.93739 | train_accuracy: 0.93777 |  0:01:36s\n",
      "epoch 7  | loss: 0.20229 | train_balanced_accuracy: 0.94901 | train_accuracy: 0.94932 |  0:01:49s\n",
      "epoch 8  | loss: 0.17825 | train_balanced_accuracy: 0.95247 | train_accuracy: 0.95145 |  0:02:02s\n",
      "epoch 9  | loss: 0.16044 | train_balanced_accuracy: 0.95957 | train_accuracy: 0.96026 |  0:02:16s\n",
      "epoch 10 | loss: 0.14514 | train_balanced_accuracy: 0.96242 | train_accuracy: 0.96232 |  0:02:30s\n",
      "epoch 11 | loss: 0.13442 | train_balanced_accuracy: 0.96656 | train_accuracy: 0.96696 |  0:02:43s\n",
      "epoch 12 | loss: 0.12305 | train_balanced_accuracy: 0.96688 | train_accuracy: 0.96676 |  0:02:57s\n",
      "epoch 13 | loss: 0.11487 | train_balanced_accuracy: 0.97137 | train_accuracy: 0.97142 |  0:03:10s\n",
      "epoch 14 | loss: 0.1089  | train_balanced_accuracy: 0.97339 | train_accuracy: 0.97376 |  0:03:23s\n",
      "epoch 15 | loss: 0.10419 | train_balanced_accuracy: 0.97466 | train_accuracy: 0.9752  |  0:03:37s\n",
      "epoch 16 | loss: 0.09607 | train_balanced_accuracy: 0.97565 | train_accuracy: 0.97552 |  0:03:50s\n",
      "epoch 17 | loss: 0.09447 | train_balanced_accuracy: 0.97806 | train_accuracy: 0.97773 |  0:04:04s\n",
      "epoch 18 | loss: 0.08782 | train_balanced_accuracy: 0.97942 | train_accuracy: 0.97945 |  0:04:18s\n",
      "epoch 19 | loss: 0.08427 | train_balanced_accuracy: 0.98088 | train_accuracy: 0.98092 |  0:04:31s\n",
      "epoch 20 | loss: 0.07813 | train_balanced_accuracy: 0.98205 | train_accuracy: 0.98194 |  0:04:44s\n",
      "epoch 21 | loss: 0.07548 | train_balanced_accuracy: 0.98255 | train_accuracy: 0.98251 |  0:04:58s\n",
      "epoch 22 | loss: 0.07237 | train_balanced_accuracy: 0.98295 | train_accuracy: 0.98278 |  0:05:11s\n",
      "epoch 23 | loss: 0.07235 | train_balanced_accuracy: 0.98274 | train_accuracy: 0.98293 |  0:05:25s\n",
      "epoch 24 | loss: 0.06538 | train_balanced_accuracy: 0.98429 | train_accuracy: 0.98441 |  0:05:38s\n",
      "epoch 25 | loss: 0.06295 | train_balanced_accuracy: 0.98603 | train_accuracy: 0.98603 |  0:05:52s\n",
      "epoch 26 | loss: 0.06121 | train_balanced_accuracy: 0.98545 | train_accuracy: 0.98589 |  0:06:06s\n",
      "epoch 27 | loss: 0.05971 | train_balanced_accuracy: 0.98665 | train_accuracy: 0.98666 |  0:06:19s\n",
      "epoch 28 | loss: 0.0573  | train_balanced_accuracy: 0.98572 | train_accuracy: 0.98609 |  0:06:33s\n",
      "epoch 29 | loss: 0.05494 | train_balanced_accuracy: 0.98808 | train_accuracy: 0.98795 |  0:06:46s\n",
      "epoch 30 | loss: 0.05283 | train_balanced_accuracy: 0.98873 | train_accuracy: 0.98872 |  0:06:59s\n",
      "epoch 31 | loss: 0.05131 | train_balanced_accuracy: 0.98915 | train_accuracy: 0.98893 |  0:07:12s\n",
      "epoch 32 | loss: 0.04849 | train_balanced_accuracy: 0.98968 | train_accuracy: 0.98964 |  0:07:26s\n",
      "epoch 33 | loss: 0.04949 | train_balanced_accuracy: 0.98901 | train_accuracy: 0.98856 |  0:07:39s\n",
      "epoch 34 | loss: 0.04569 | train_balanced_accuracy: 0.99001 | train_accuracy: 0.99004 |  0:07:53s\n",
      "epoch 35 | loss: 0.04796 | train_balanced_accuracy: 0.99057 | train_accuracy: 0.99015 |  0:08:06s\n",
      "epoch 36 | loss: 0.04284 | train_balanced_accuracy: 0.99125 | train_accuracy: 0.99093 |  0:08:19s\n",
      "epoch 37 | loss: 0.04227 | train_balanced_accuracy: 0.99084 | train_accuracy: 0.99104 |  0:08:33s\n",
      "epoch 38 | loss: 0.03977 | train_balanced_accuracy: 0.99175 | train_accuracy: 0.99143 |  0:08:46s\n",
      "epoch 39 | loss: 0.03982 | train_balanced_accuracy: 0.99158 | train_accuracy: 0.99124 |  0:09:00s\n",
      "epoch 40 | loss: 0.03842 | train_balanced_accuracy: 0.9914  | train_accuracy: 0.99156 |  0:09:13s\n",
      "epoch 41 | loss: 0.03848 | train_balanced_accuracy: 0.99281 | train_accuracy: 0.99283 |  0:09:27s\n",
      "epoch 42 | loss: 0.0368  | train_balanced_accuracy: 0.9929  | train_accuracy: 0.99294 |  0:09:40s\n",
      "epoch 43 | loss: 0.0358  | train_balanced_accuracy: 0.99306 | train_accuracy: 0.99291 |  0:09:53s\n",
      "epoch 44 | loss: 0.03391 | train_balanced_accuracy: 0.99249 | train_accuracy: 0.9924  |  0:10:07s\n",
      "epoch 45 | loss: 0.03391 | train_balanced_accuracy: 0.99267 | train_accuracy: 0.99278 |  0:10:20s\n",
      "epoch 46 | loss: 0.03251 | train_balanced_accuracy: 0.99316 | train_accuracy: 0.99328 |  0:10:34s\n",
      "epoch 47 | loss: 0.03186 | train_balanced_accuracy: 0.99279 | train_accuracy: 0.99285 |  0:10:47s\n",
      "epoch 48 | loss: 0.03276 | train_balanced_accuracy: 0.99408 | train_accuracy: 0.99405 |  0:11:00s\n",
      "epoch 49 | loss: 0.03214 | train_balanced_accuracy: 0.99397 | train_accuracy: 0.994   |  0:11:14s\n",
      "Stop training because you reached max_epochs = 50 with best_epoch = 48 and best_train_accuracy = 0.99405\n",
      "Best weights from best epoch are automatically used!\n"
     ]
    }
   ],
   "source": [
    "model.fit(\n",
    "    X_train=x_sme,\n",
    "    y_train=y_sme,\n",
    "    eval_set=[(x_sme, y_sme)],\n",
    "    eval_name=['train'],\n",
    "    eval_metric=['balanced_accuracy', 'accuracy'],\n",
    "    max_epochs=50,\n",
    "    patience=5,\n",
    "    weights=0,  # 0: no, 1: balanced, dict: customized\n",
    "    batch_size=512,\n",
    "    virtual_batch_size=128,\n",
    "    num_workers=0,\n",
    "    drop_last=False,\n",
    "    from_unsupervised=unsupervised_model,\n",
    ")"
   ],
   "metadata": {
    "collapsed": false
   }
  },
  {
   "cell_type": "markdown",
   "source": [
    "#### Result"
   ],
   "metadata": {
    "collapsed": false
   }
  },
  {
   "cell_type": "code",
   "execution_count": 152,
   "outputs": [],
   "source": [
    "from sklearn.metrics import classification_report"
   ],
   "metadata": {
    "collapsed": false
   }
  },
  {
   "cell_type": "code",
   "execution_count": 153,
   "outputs": [
    {
     "name": "stdout",
     "output_type": "stream",
     "text": [
      "Customer_ID :  0.781\n",
      "Month :  0.042\n",
      "Age :  0.001\n",
      "Monthly_Inhand_Salary :  0.005\n",
      "Num_Bank_Accounts :  0.003\n",
      "Num_Credit_Card :  0.004\n",
      "Interest_Rate :  0.005\n",
      "Num_of_Loan :  0.024\n",
      "Delay_from_due_date :  0.009\n",
      "Num_of_Delayed_Payment :  0.017\n",
      "Changed_Credit_Limit :  0.012\n",
      "Num_Credit_Inquiries :  0.013\n",
      "Credit_Mix :  0.027\n",
      "Outstanding_Debt :  0.033\n",
      "Credit_Utilization_Ratio :  0.001\n",
      "Credit_History_Age :  0.009\n",
      "Payment_of_Min_Amount :  0.009\n",
      "Total_EMI_per_month :  0.0\n",
      "Amount_invested_monthly :  0.001\n",
      "Payment_Behaviour :  0.004\n",
      "Monthly_Balance :  0.0\n"
     ]
    }
   ],
   "source": [
    "for i in range(len(all_col_list)):\n",
    "    print(all_col_list[i], ': ', model.feature_importances_.round(3)[i])"
   ],
   "metadata": {
    "collapsed": false
   }
  },
  {
   "cell_type": "code",
   "execution_count": 154,
   "outputs": [
    {
     "name": "stdout",
     "output_type": "stream",
     "text": [
      "              precision    recall  f1-score   support\n",
      "\n",
      "           0       0.85      0.99      0.91     21782\n",
      "           1       0.99      0.85      0.91     40214\n",
      "           2       0.85      0.97      0.90     13004\n",
      "\n",
      "    accuracy                           0.91     75000\n",
      "   macro avg       0.89      0.94      0.91     75000\n",
      "weighted avg       0.92      0.91      0.91     75000\n",
      "\n"
     ]
    }
   ],
   "source": [
    "print(classification_report(y_true=y_train, y_pred=model.predict(x_train)))"
   ],
   "metadata": {
    "collapsed": false
   }
  },
  {
   "cell_type": "code",
   "execution_count": 155,
   "outputs": [],
   "source": [
    "# f1_score(y_train, (model.predict(x_train)))"
   ],
   "metadata": {
    "collapsed": false
   }
  },
  {
   "cell_type": "code",
   "execution_count": 156,
   "outputs": [],
   "source": [
    "predicted = model.predict(x_test)"
   ],
   "metadata": {
    "collapsed": false
   }
  },
  {
   "cell_type": "code",
   "execution_count": 157,
   "outputs": [
    {
     "name": "stdout",
     "output_type": "stream",
     "text": [
      "0.7193329538527407\n",
      "0.72\n"
     ]
    }
   ],
   "source": [
    "print(f1_score(y_test, predicted, average='weighted'))\n",
    "print(accuracy_score(y_test, predicted))"
   ],
   "metadata": {
    "collapsed": false
   }
  },
  {
   "cell_type": "code",
   "execution_count": 158,
   "outputs": [
    {
     "name": "stdout",
     "output_type": "stream",
     "text": [
      "              precision    recall  f1-score   support\n",
      "\n",
      "           0       0.70      0.80      0.75      7216\n",
      "           1       0.75      0.70      0.72     12960\n",
      "           2       0.68      0.66      0.67      4824\n",
      "\n",
      "    accuracy                           0.72     25000\n",
      "   macro avg       0.71      0.72      0.71     25000\n",
      "weighted avg       0.72      0.72      0.72     25000\n",
      "\n"
     ]
    }
   ],
   "source": [
    "print(classification_report(y_test, predicted))"
   ],
   "metadata": {
    "collapsed": false
   }
  },
  {
   "cell_type": "markdown",
   "source": [
    "기존 대비 0번 클래스를 더 잘맞추나, 2번 클래스에 대한 전반적인 성능은 줄었음"
   ],
   "metadata": {
    "collapsed": false
   }
  },
  {
   "cell_type": "code",
   "execution_count": 159,
   "outputs": [
    {
     "name": "stdout",
     "output_type": "stream",
     "text": [
      "[[5798 1385   33]\n",
      " [2448 9029 1483]\n",
      " [  62 1589 3173]]\n"
     ]
    }
   ],
   "source": [
    "print(confusion_matrix(y_test, predicted))"
   ],
   "metadata": {
    "collapsed": false
   }
  },
  {
   "cell_type": "code",
   "execution_count": null,
   "outputs": [],
   "source": [],
   "metadata": {
    "collapsed": false
   }
  },
  {
   "cell_type": "code",
   "execution_count": 160,
   "outputs": [
    {
     "name": "stdout",
     "output_type": "stream",
     "text": [
      "Loading weights from unsupervised pretraining\n",
      "epoch 0  | loss: 1.40156 | train_balanced_accuracy: 0.76549 | train_accuracy: 0.75571 |  0:00:17s\n",
      "epoch 1  | loss: 0.60832 | train_balanced_accuracy: 0.78071 | train_accuracy: 0.7718  |  0:00:31s\n",
      "epoch 2  | loss: 0.54666 | train_balanced_accuracy: 0.80406 | train_accuracy: 0.79757 |  0:00:46s\n",
      "epoch 3  | loss: 0.46874 | train_balanced_accuracy: 0.83279 | train_accuracy: 0.82258 |  0:01:00s\n",
      "epoch 4  | loss: 0.38928 | train_balanced_accuracy: 0.88056 | train_accuracy: 0.87396 |  0:01:14s\n",
      "epoch 5  | loss: 0.31015 | train_balanced_accuracy: 0.91282 | train_accuracy: 0.90991 |  0:01:31s\n",
      "epoch 6  | loss: 0.25004 | train_balanced_accuracy: 0.93238 | train_accuracy: 0.92986 |  0:01:43s\n",
      "epoch 7  | loss: 0.21416 | train_balanced_accuracy: 0.94273 | train_accuracy: 0.93966 |  0:01:58s\n",
      "epoch 8  | loss: 0.18589 | train_balanced_accuracy: 0.95166 | train_accuracy: 0.95021 |  0:02:14s\n",
      "epoch 9  | loss: 0.16355 | train_balanced_accuracy: 0.95931 | train_accuracy: 0.95767 |  0:02:33s\n",
      "epoch 10 | loss: 0.1446  | train_balanced_accuracy: 0.96363 | train_accuracy: 0.96264 |  0:02:47s\n",
      "epoch 11 | loss: 0.13338 | train_balanced_accuracy: 0.9652  | train_accuracy: 0.96374 |  0:03:03s\n",
      "epoch 12 | loss: 0.12609 | train_balanced_accuracy: 0.96894 | train_accuracy: 0.96752 |  0:03:18s\n",
      "epoch 13 | loss: 0.11324 | train_balanced_accuracy: 0.9714  | train_accuracy: 0.97054 |  0:03:33s\n",
      "epoch 14 | loss: 0.10511 | train_balanced_accuracy: 0.97361 | train_accuracy: 0.97261 |  0:03:49s\n",
      "epoch 15 | loss: 0.09907 | train_balanced_accuracy: 0.97527 | train_accuracy: 0.97422 |  0:04:04s\n",
      "epoch 16 | loss: 0.09589 | train_balanced_accuracy: 0.97709 | train_accuracy: 0.97625 |  0:04:19s\n",
      "epoch 17 | loss: 0.08814 | train_balanced_accuracy: 0.97704 | train_accuracy: 0.97622 |  0:04:33s\n",
      "epoch 18 | loss: 0.08522 | train_balanced_accuracy: 0.97926 | train_accuracy: 0.97879 |  0:04:47s\n",
      "epoch 19 | loss: 0.08084 | train_balanced_accuracy: 0.98063 | train_accuracy: 0.9801  |  0:05:01s\n",
      "epoch 20 | loss: 0.07362 | train_balanced_accuracy: 0.98177 | train_accuracy: 0.98101 |  0:05:14s\n",
      "epoch 21 | loss: 0.07383 | train_balanced_accuracy: 0.98178 | train_accuracy: 0.98105 |  0:05:28s\n",
      "epoch 22 | loss: 0.06947 | train_balanced_accuracy: 0.98379 | train_accuracy: 0.98307 |  0:05:41s\n",
      "epoch 23 | loss: 0.06425 | train_balanced_accuracy: 0.98252 | train_accuracy: 0.98157 |  0:05:55s\n",
      "epoch 24 | loss: 0.06797 | train_balanced_accuracy: 0.98426 | train_accuracy: 0.98352 |  0:06:08s\n",
      "epoch 25 | loss: 0.0622  | train_balanced_accuracy: 0.98455 | train_accuracy: 0.98367 |  0:06:22s\n",
      "epoch 26 | loss: 0.0595  | train_balanced_accuracy: 0.98553 | train_accuracy: 0.98492 |  0:06:36s\n",
      "epoch 27 | loss: 0.05763 | train_balanced_accuracy: 0.98589 | train_accuracy: 0.98489 |  0:06:51s\n",
      "epoch 28 | loss: 0.05537 | train_balanced_accuracy: 0.98658 | train_accuracy: 0.98564 |  0:07:05s\n",
      "epoch 29 | loss: 0.05348 | train_balanced_accuracy: 0.98686 | train_accuracy: 0.98658 |  0:07:18s\n",
      "epoch 30 | loss: 0.05142 | train_balanced_accuracy: 0.98736 | train_accuracy: 0.98703 |  0:07:32s\n",
      "epoch 31 | loss: 0.0509  | train_balanced_accuracy: 0.98792 | train_accuracy: 0.98773 |  0:07:45s\n",
      "epoch 32 | loss: 0.05104 | train_balanced_accuracy: 0.98842 | train_accuracy: 0.98787 |  0:07:59s\n",
      "epoch 33 | loss: 0.04675 | train_balanced_accuracy: 0.98977 | train_accuracy: 0.98931 |  0:08:12s\n",
      "epoch 34 | loss: 0.04543 | train_balanced_accuracy: 0.98938 | train_accuracy: 0.9886  |  0:08:26s\n",
      "epoch 35 | loss: 0.04336 | train_balanced_accuracy: 0.9902  | train_accuracy: 0.98974 |  0:08:40s\n",
      "epoch 36 | loss: 0.0418  | train_balanced_accuracy: 0.98911 | train_accuracy: 0.98809 |  0:08:53s\n",
      "epoch 37 | loss: 0.04218 | train_balanced_accuracy: 0.991   | train_accuracy: 0.9907  |  0:09:07s\n",
      "epoch 38 | loss: 0.043   | train_balanced_accuracy: 0.99056 | train_accuracy: 0.99012 |  0:09:21s\n",
      "epoch 39 | loss: 0.04118 | train_balanced_accuracy: 0.99115 | train_accuracy: 0.99097 |  0:09:34s\n",
      "epoch 40 | loss: 0.03804 | train_balanced_accuracy: 0.99108 | train_accuracy: 0.99026 |  0:09:48s\n",
      "epoch 41 | loss: 0.03936 | train_balanced_accuracy: 0.99081 | train_accuracy: 0.9902  |  0:10:02s\n",
      "epoch 42 | loss: 0.03805 | train_balanced_accuracy: 0.9914  | train_accuracy: 0.99089 |  0:10:15s\n",
      "epoch 43 | loss: 0.03947 | train_balanced_accuracy: 0.99162 | train_accuracy: 0.99102 |  0:10:29s\n",
      "epoch 44 | loss: 0.03608 | train_balanced_accuracy: 0.99227 | train_accuracy: 0.99172 |  0:10:42s\n",
      "epoch 45 | loss: 0.03519 | train_balanced_accuracy: 0.99251 | train_accuracy: 0.99208 |  0:10:56s\n",
      "epoch 46 | loss: 0.03493 | train_balanced_accuracy: 0.99225 | train_accuracy: 0.99198 |  0:11:09s\n",
      "epoch 47 | loss: 0.03401 | train_balanced_accuracy: 0.99294 | train_accuracy: 0.99258 |  0:11:23s\n",
      "epoch 48 | loss: 0.03308 | train_balanced_accuracy: 0.99303 | train_accuracy: 0.99275 |  0:11:36s\n",
      "epoch 49 | loss: 0.03274 | train_balanced_accuracy: 0.9933  | train_accuracy: 0.99301 |  0:11:50s\n",
      "Stop training because you reached max_epochs = 50 with best_epoch = 49 and best_train_accuracy = 0.99301\n",
      "Best weights from best epoch are automatically used!\n"
     ]
    }
   ],
   "source": [
    "model.fit(\n",
    "    X_train=x_sme,\n",
    "    y_train=y_sme,\n",
    "    eval_set=[(x_sme, y_sme)],\n",
    "    eval_name=['train'],\n",
    "    eval_metric=['balanced_accuracy', 'accuracy'],\n",
    "    max_epochs=50,\n",
    "    patience=5,\n",
    "    weights=1,  # 0: no, 1: balanced, dict: customized\n",
    "    batch_size=512,\n",
    "    virtual_batch_size=128,\n",
    "    num_workers=0,\n",
    "    drop_last=False,\n",
    "    from_unsupervised=unsupervised_model,\n",
    ")"
   ],
   "metadata": {
    "collapsed": false
   }
  },
  {
   "cell_type": "markdown",
   "source": [
    "#### Result"
   ],
   "metadata": {
    "collapsed": false
   }
  },
  {
   "cell_type": "code",
   "execution_count": 161,
   "outputs": [],
   "source": [
    "from sklearn.metrics import classification_report"
   ],
   "metadata": {
    "collapsed": false
   }
  },
  {
   "cell_type": "code",
   "execution_count": 162,
   "outputs": [
    {
     "name": "stdout",
     "output_type": "stream",
     "text": [
      "Customer_ID :  0.761\n",
      "Month :  0.044\n",
      "Age :  0.007\n",
      "Monthly_Inhand_Salary :  0.022\n",
      "Num_Bank_Accounts :  0.001\n",
      "Num_Credit_Card :  0.001\n",
      "Interest_Rate :  0.007\n",
      "Num_of_Loan :  0.027\n",
      "Delay_from_due_date :  0.005\n",
      "Num_of_Delayed_Payment :  0.015\n",
      "Changed_Credit_Limit :  0.016\n",
      "Num_Credit_Inquiries :  0.021\n",
      "Credit_Mix :  0.02\n",
      "Outstanding_Debt :  0.028\n",
      "Credit_Utilization_Ratio :  0.0\n",
      "Credit_History_Age :  0.009\n",
      "Payment_of_Min_Amount :  0.008\n",
      "Total_EMI_per_month :  0.0\n",
      "Amount_invested_monthly :  0.001\n",
      "Payment_Behaviour :  0.008\n",
      "Monthly_Balance :  0.001\n"
     ]
    }
   ],
   "source": [
    "for i in range(len(all_col_list)):\n",
    "    print(all_col_list[i], ': ', model.feature_importances_.round(3)[i])"
   ],
   "metadata": {
    "collapsed": false
   }
  },
  {
   "cell_type": "code",
   "execution_count": 163,
   "outputs": [
    {
     "name": "stdout",
     "output_type": "stream",
     "text": [
      "              precision    recall  f1-score   support\n",
      "\n",
      "           0       0.84      1.00      0.91     21782\n",
      "           1       0.99      0.84      0.91     40214\n",
      "           2       0.85      0.97      0.90     13004\n",
      "\n",
      "    accuracy                           0.91     75000\n",
      "   macro avg       0.89      0.94      0.91     75000\n",
      "weighted avg       0.92      0.91      0.91     75000\n",
      "\n"
     ]
    }
   ],
   "source": [
    "print(classification_report(y_true=y_train, y_pred=model.predict(x_train)))"
   ],
   "metadata": {
    "collapsed": false
   }
  },
  {
   "cell_type": "code",
   "execution_count": 164,
   "outputs": [],
   "source": [
    "# f1_score(y_train, (model.predict(x_train)))"
   ],
   "metadata": {
    "collapsed": false
   }
  },
  {
   "cell_type": "code",
   "execution_count": 165,
   "outputs": [],
   "source": [
    "predicted = model.predict(x_test)"
   ],
   "metadata": {
    "collapsed": false
   }
  },
  {
   "cell_type": "code",
   "execution_count": 166,
   "outputs": [
    {
     "name": "stdout",
     "output_type": "stream",
     "text": [
      "0.7187896178339925\n",
      "0.71964\n"
     ]
    }
   ],
   "source": [
    "print(f1_score(y_test, predicted, average='weighted'))\n",
    "print(accuracy_score(y_test, predicted))"
   ],
   "metadata": {
    "collapsed": false
   }
  },
  {
   "cell_type": "code",
   "execution_count": 167,
   "outputs": [
    {
     "name": "stdout",
     "output_type": "stream",
     "text": [
      "              precision    recall  f1-score   support\n",
      "\n",
      "           0       0.70      0.82      0.75      7216\n",
      "           1       0.76      0.69      0.72     12960\n",
      "           2       0.67      0.66      0.66      4824\n",
      "\n",
      "    accuracy                           0.72     25000\n",
      "   macro avg       0.71      0.72      0.71     25000\n",
      "weighted avg       0.72      0.72      0.72     25000\n",
      "\n"
     ]
    }
   ],
   "source": [
    "print(classification_report(y_test, predicted))"
   ],
   "metadata": {
    "collapsed": false
   }
  },
  {
   "cell_type": "markdown",
   "source": [
    "기존 대비 0번 클래스를 더 잘맞추나, 2번 클래스에 대한 전반적인 성능은 줄었음"
   ],
   "metadata": {
    "collapsed": false
   }
  },
  {
   "cell_type": "code",
   "execution_count": 168,
   "outputs": [
    {
     "name": "stdout",
     "output_type": "stream",
     "text": [
      "[[5887 1293   36]\n",
      " [2513 8926 1521]\n",
      " [  61 1585 3178]]\n"
     ]
    }
   ],
   "source": [
    "print(confusion_matrix(y_test, predicted))"
   ],
   "metadata": {
    "collapsed": false
   }
  },
  {
   "cell_type": "code",
   "execution_count": 169,
   "outputs": [
    {
     "data": {
      "text/plain": "array([0.90526048, 1.5942762 , 0.7885803 ])"
     },
     "execution_count": 169,
     "metadata": {},
     "output_type": "execute_result"
    }
   ],
   "source": [
    "weights"
   ],
   "metadata": {
    "collapsed": false
   }
  },
  {
   "cell_type": "markdown",
   "source": [
    "### RandomForest"
   ],
   "metadata": {
    "collapsed": false
   }
  },
  {
   "cell_type": "code",
   "execution_count": 184,
   "outputs": [],
   "source": [
    "rfc = RandomForestClassifier(n_estimators=400, class_weight='balanced_subsample', max_depth=25, n_jobs=-1, random_state=42)"
   ],
   "metadata": {
    "collapsed": false
   }
  },
  {
   "cell_type": "code",
   "execution_count": 185,
   "outputs": [
    {
     "data": {
      "text/plain": "RandomForestClassifier(class_weight='balanced_subsample', max_depth=25,\n                       n_estimators=400, n_jobs=-1, random_state=42)",
      "text/html": "<style>#sk-container-id-5 {color: black;background-color: white;}#sk-container-id-5 pre{padding: 0;}#sk-container-id-5 div.sk-toggleable {background-color: white;}#sk-container-id-5 label.sk-toggleable__label {cursor: pointer;display: block;width: 100%;margin-bottom: 0;padding: 0.3em;box-sizing: border-box;text-align: center;}#sk-container-id-5 label.sk-toggleable__label-arrow:before {content: \"▸\";float: left;margin-right: 0.25em;color: #696969;}#sk-container-id-5 label.sk-toggleable__label-arrow:hover:before {color: black;}#sk-container-id-5 div.sk-estimator:hover label.sk-toggleable__label-arrow:before {color: black;}#sk-container-id-5 div.sk-toggleable__content {max-height: 0;max-width: 0;overflow: hidden;text-align: left;background-color: #f0f8ff;}#sk-container-id-5 div.sk-toggleable__content pre {margin: 0.2em;color: black;border-radius: 0.25em;background-color: #f0f8ff;}#sk-container-id-5 input.sk-toggleable__control:checked~div.sk-toggleable__content {max-height: 200px;max-width: 100%;overflow: auto;}#sk-container-id-5 input.sk-toggleable__control:checked~label.sk-toggleable__label-arrow:before {content: \"▾\";}#sk-container-id-5 div.sk-estimator input.sk-toggleable__control:checked~label.sk-toggleable__label {background-color: #d4ebff;}#sk-container-id-5 div.sk-label input.sk-toggleable__control:checked~label.sk-toggleable__label {background-color: #d4ebff;}#sk-container-id-5 input.sk-hidden--visually {border: 0;clip: rect(1px 1px 1px 1px);clip: rect(1px, 1px, 1px, 1px);height: 1px;margin: -1px;overflow: hidden;padding: 0;position: absolute;width: 1px;}#sk-container-id-5 div.sk-estimator {font-family: monospace;background-color: #f0f8ff;border: 1px dotted black;border-radius: 0.25em;box-sizing: border-box;margin-bottom: 0.5em;}#sk-container-id-5 div.sk-estimator:hover {background-color: #d4ebff;}#sk-container-id-5 div.sk-parallel-item::after {content: \"\";width: 100%;border-bottom: 1px solid gray;flex-grow: 1;}#sk-container-id-5 div.sk-label:hover label.sk-toggleable__label {background-color: #d4ebff;}#sk-container-id-5 div.sk-serial::before {content: \"\";position: absolute;border-left: 1px solid gray;box-sizing: border-box;top: 0;bottom: 0;left: 50%;z-index: 0;}#sk-container-id-5 div.sk-serial {display: flex;flex-direction: column;align-items: center;background-color: white;padding-right: 0.2em;padding-left: 0.2em;position: relative;}#sk-container-id-5 div.sk-item {position: relative;z-index: 1;}#sk-container-id-5 div.sk-parallel {display: flex;align-items: stretch;justify-content: center;background-color: white;position: relative;}#sk-container-id-5 div.sk-item::before, #sk-container-id-5 div.sk-parallel-item::before {content: \"\";position: absolute;border-left: 1px solid gray;box-sizing: border-box;top: 0;bottom: 0;left: 50%;z-index: -1;}#sk-container-id-5 div.sk-parallel-item {display: flex;flex-direction: column;z-index: 1;position: relative;background-color: white;}#sk-container-id-5 div.sk-parallel-item:first-child::after {align-self: flex-end;width: 50%;}#sk-container-id-5 div.sk-parallel-item:last-child::after {align-self: flex-start;width: 50%;}#sk-container-id-5 div.sk-parallel-item:only-child::after {width: 0;}#sk-container-id-5 div.sk-dashed-wrapped {border: 1px dashed gray;margin: 0 0.4em 0.5em 0.4em;box-sizing: border-box;padding-bottom: 0.4em;background-color: white;}#sk-container-id-5 div.sk-label label {font-family: monospace;font-weight: bold;display: inline-block;line-height: 1.2em;}#sk-container-id-5 div.sk-label-container {text-align: center;}#sk-container-id-5 div.sk-container {/* jupyter's `normalize.less` sets `[hidden] { display: none; }` but bootstrap.min.css set `[hidden] { display: none !important; }` so we also need the `!important` here to be able to override the default hidden behavior on the sphinx rendered scikit-learn.org. See: https://github.com/scikit-learn/scikit-learn/issues/21755 */display: inline-block !important;position: relative;}#sk-container-id-5 div.sk-text-repr-fallback {display: none;}</style><div id=\"sk-container-id-5\" class=\"sk-top-container\"><div class=\"sk-text-repr-fallback\"><pre>RandomForestClassifier(class_weight=&#x27;balanced_subsample&#x27;, max_depth=25,\n                       n_estimators=400, n_jobs=-1, random_state=42)</pre><b>In a Jupyter environment, please rerun this cell to show the HTML representation or trust the notebook. <br />On GitHub, the HTML representation is unable to render, please try loading this page with nbviewer.org.</b></div><div class=\"sk-container\" hidden><div class=\"sk-item\"><div class=\"sk-estimator sk-toggleable\"><input class=\"sk-toggleable__control sk-hidden--visually\" id=\"sk-estimator-id-5\" type=\"checkbox\" checked><label for=\"sk-estimator-id-5\" class=\"sk-toggleable__label sk-toggleable__label-arrow\">RandomForestClassifier</label><div class=\"sk-toggleable__content\"><pre>RandomForestClassifier(class_weight=&#x27;balanced_subsample&#x27;, max_depth=25,\n                       n_estimators=400, n_jobs=-1, random_state=42)</pre></div></div></div></div></div>"
     },
     "execution_count": 185,
     "metadata": {},
     "output_type": "execute_result"
    }
   ],
   "source": [
    "rfc.fit(x_sme, y_sme)"
   ],
   "metadata": {
    "collapsed": false
   }
  },
  {
   "cell_type": "code",
   "execution_count": 186,
   "outputs": [],
   "source": [
    "y_pred = rfc.predict(x_test)"
   ],
   "metadata": {
    "collapsed": false
   }
  },
  {
   "cell_type": "code",
   "execution_count": 187,
   "outputs": [
    {
     "data": {
      "text/plain": "0.9031466666666667"
     },
     "execution_count": 187,
     "metadata": {},
     "output_type": "execute_result"
    }
   ],
   "source": [
    "accuracy_score(y_true=y_train, y_pred=rfc.predict(x_train))"
   ],
   "metadata": {
    "collapsed": false
   }
  },
  {
   "cell_type": "code",
   "execution_count": 188,
   "outputs": [
    {
     "name": "stdout",
     "output_type": "stream",
     "text": [
      "              precision    recall  f1-score   support\n",
      "\n",
      "           0       0.71      0.80      0.76      7216\n",
      "           1       0.79      0.67      0.72     12960\n",
      "           2       0.60      0.73      0.66      4824\n",
      "\n",
      "    accuracy                           0.72     25000\n",
      "   macro avg       0.70      0.73      0.71     25000\n",
      "weighted avg       0.73      0.72      0.72     25000\n",
      "\n"
     ]
    }
   ],
   "source": [
    "print(classification_report(y_true=y_test, y_pred=y_pred))"
   ],
   "metadata": {
    "collapsed": false
   }
  },
  {
   "cell_type": "code",
   "execution_count": 189,
   "outputs": [
    {
     "name": "stdout",
     "output_type": "stream",
     "text": [
      "[[5794 1102  320]\n",
      " [2294 8640 2026]\n",
      " [  41 1252 3531]]\n"
     ]
    }
   ],
   "source": [
    "print(confusion_matrix(y_test, y_pred))"
   ],
   "metadata": {
    "collapsed": false
   }
  },
  {
   "cell_type": "code",
   "execution_count": null,
   "outputs": [],
   "source": [],
   "metadata": {
    "collapsed": false
   }
  },
  {
   "cell_type": "code",
   "execution_count": null,
   "outputs": [],
   "source": [],
   "metadata": {
    "collapsed": false
   }
  },
  {
   "cell_type": "code",
   "execution_count": null,
   "outputs": [],
   "source": [],
   "metadata": {
    "collapsed": false
   }
  },
  {
   "cell_type": "markdown",
   "source": [
    "# Combination of Over- and Under-sampling (Manual)"
   ],
   "metadata": {
    "collapsed": false
   }
  },
  {
   "cell_type": "code",
   "execution_count": 195,
   "outputs": [],
   "source": [
    "from imblearn.under_sampling import EditedNearestNeighbours\n",
    "from imblearn.over_sampling import BorderlineSMOTE\n",
    "\n",
    "from imblearn.pipeline import Pipeline\n",
    "\n",
    "from sklearn.model_selection import cross_val_score\n",
    "from sklearn.model_selection import RepeatedStratifiedKFold"
   ],
   "metadata": {
    "collapsed": false
   }
  },
  {
   "cell_type": "code",
   "execution_count": 193,
   "outputs": [],
   "source": [
    "model = RandomForestClassifier(n_estimators=700, class_weight='balanced_subsample', n_jobs=-1, random_state=42)\n",
    "\n",
    "bsmote = BorderlineSMOTE(random_state=42, k_neighbors=7, n_jobs=-1)\n",
    "enn = EditedNearestNeighbours(kind_sel='mode', n_jobs=-1)"
   ],
   "metadata": {
    "collapsed": false
   }
  },
  {
   "cell_type": "code",
   "execution_count": 197,
   "outputs": [],
   "source": [
    "pipeline = Pipeline(steps=[('o', bsmote), ('u', enn), ('m', model)])\n",
    "cv = RepeatedStratifiedKFold(n_splits=5, n_repeats=3, random_state=42)\n",
    "# scores = cross_val_score(pipeline, x_train, y_train, scoring='accuracy', cv=cv)"
   ],
   "metadata": {
    "collapsed": false
   }
  },
  {
   "cell_type": "code",
   "execution_count": 198,
   "outputs": [
    {
     "data": {
      "text/plain": "Pipeline(steps=[('o',\n                 BorderlineSMOTE(k_neighbors=7, n_jobs=-1, random_state=42)),\n                ('u', EditedNearestNeighbours(kind_sel='mode', n_jobs=-1)),\n                ('m',\n                 RandomForestClassifier(class_weight='balanced_subsample',\n                                        n_estimators=700, n_jobs=-1,\n                                        random_state=42))])",
      "text/html": "<style>#sk-container-id-6 {color: black;background-color: white;}#sk-container-id-6 pre{padding: 0;}#sk-container-id-6 div.sk-toggleable {background-color: white;}#sk-container-id-6 label.sk-toggleable__label {cursor: pointer;display: block;width: 100%;margin-bottom: 0;padding: 0.3em;box-sizing: border-box;text-align: center;}#sk-container-id-6 label.sk-toggleable__label-arrow:before {content: \"▸\";float: left;margin-right: 0.25em;color: #696969;}#sk-container-id-6 label.sk-toggleable__label-arrow:hover:before {color: black;}#sk-container-id-6 div.sk-estimator:hover label.sk-toggleable__label-arrow:before {color: black;}#sk-container-id-6 div.sk-toggleable__content {max-height: 0;max-width: 0;overflow: hidden;text-align: left;background-color: #f0f8ff;}#sk-container-id-6 div.sk-toggleable__content pre {margin: 0.2em;color: black;border-radius: 0.25em;background-color: #f0f8ff;}#sk-container-id-6 input.sk-toggleable__control:checked~div.sk-toggleable__content {max-height: 200px;max-width: 100%;overflow: auto;}#sk-container-id-6 input.sk-toggleable__control:checked~label.sk-toggleable__label-arrow:before {content: \"▾\";}#sk-container-id-6 div.sk-estimator input.sk-toggleable__control:checked~label.sk-toggleable__label {background-color: #d4ebff;}#sk-container-id-6 div.sk-label input.sk-toggleable__control:checked~label.sk-toggleable__label {background-color: #d4ebff;}#sk-container-id-6 input.sk-hidden--visually {border: 0;clip: rect(1px 1px 1px 1px);clip: rect(1px, 1px, 1px, 1px);height: 1px;margin: -1px;overflow: hidden;padding: 0;position: absolute;width: 1px;}#sk-container-id-6 div.sk-estimator {font-family: monospace;background-color: #f0f8ff;border: 1px dotted black;border-radius: 0.25em;box-sizing: border-box;margin-bottom: 0.5em;}#sk-container-id-6 div.sk-estimator:hover {background-color: #d4ebff;}#sk-container-id-6 div.sk-parallel-item::after {content: \"\";width: 100%;border-bottom: 1px solid gray;flex-grow: 1;}#sk-container-id-6 div.sk-label:hover label.sk-toggleable__label {background-color: #d4ebff;}#sk-container-id-6 div.sk-serial::before {content: \"\";position: absolute;border-left: 1px solid gray;box-sizing: border-box;top: 0;bottom: 0;left: 50%;z-index: 0;}#sk-container-id-6 div.sk-serial {display: flex;flex-direction: column;align-items: center;background-color: white;padding-right: 0.2em;padding-left: 0.2em;position: relative;}#sk-container-id-6 div.sk-item {position: relative;z-index: 1;}#sk-container-id-6 div.sk-parallel {display: flex;align-items: stretch;justify-content: center;background-color: white;position: relative;}#sk-container-id-6 div.sk-item::before, #sk-container-id-6 div.sk-parallel-item::before {content: \"\";position: absolute;border-left: 1px solid gray;box-sizing: border-box;top: 0;bottom: 0;left: 50%;z-index: -1;}#sk-container-id-6 div.sk-parallel-item {display: flex;flex-direction: column;z-index: 1;position: relative;background-color: white;}#sk-container-id-6 div.sk-parallel-item:first-child::after {align-self: flex-end;width: 50%;}#sk-container-id-6 div.sk-parallel-item:last-child::after {align-self: flex-start;width: 50%;}#sk-container-id-6 div.sk-parallel-item:only-child::after {width: 0;}#sk-container-id-6 div.sk-dashed-wrapped {border: 1px dashed gray;margin: 0 0.4em 0.5em 0.4em;box-sizing: border-box;padding-bottom: 0.4em;background-color: white;}#sk-container-id-6 div.sk-label label {font-family: monospace;font-weight: bold;display: inline-block;line-height: 1.2em;}#sk-container-id-6 div.sk-label-container {text-align: center;}#sk-container-id-6 div.sk-container {/* jupyter's `normalize.less` sets `[hidden] { display: none; }` but bootstrap.min.css set `[hidden] { display: none !important; }` so we also need the `!important` here to be able to override the default hidden behavior on the sphinx rendered scikit-learn.org. See: https://github.com/scikit-learn/scikit-learn/issues/21755 */display: inline-block !important;position: relative;}#sk-container-id-6 div.sk-text-repr-fallback {display: none;}</style><div id=\"sk-container-id-6\" class=\"sk-top-container\"><div class=\"sk-text-repr-fallback\"><pre>Pipeline(steps=[(&#x27;o&#x27;,\n                 BorderlineSMOTE(k_neighbors=7, n_jobs=-1, random_state=42)),\n                (&#x27;u&#x27;, EditedNearestNeighbours(kind_sel=&#x27;mode&#x27;, n_jobs=-1)),\n                (&#x27;m&#x27;,\n                 RandomForestClassifier(class_weight=&#x27;balanced_subsample&#x27;,\n                                        n_estimators=700, n_jobs=-1,\n                                        random_state=42))])</pre><b>In a Jupyter environment, please rerun this cell to show the HTML representation or trust the notebook. <br />On GitHub, the HTML representation is unable to render, please try loading this page with nbviewer.org.</b></div><div class=\"sk-container\" hidden><div class=\"sk-item sk-dashed-wrapped\"><div class=\"sk-label-container\"><div class=\"sk-label sk-toggleable\"><input class=\"sk-toggleable__control sk-hidden--visually\" id=\"sk-estimator-id-6\" type=\"checkbox\" ><label for=\"sk-estimator-id-6\" class=\"sk-toggleable__label sk-toggleable__label-arrow\">Pipeline</label><div class=\"sk-toggleable__content\"><pre>Pipeline(steps=[(&#x27;o&#x27;,\n                 BorderlineSMOTE(k_neighbors=7, n_jobs=-1, random_state=42)),\n                (&#x27;u&#x27;, EditedNearestNeighbours(kind_sel=&#x27;mode&#x27;, n_jobs=-1)),\n                (&#x27;m&#x27;,\n                 RandomForestClassifier(class_weight=&#x27;balanced_subsample&#x27;,\n                                        n_estimators=700, n_jobs=-1,\n                                        random_state=42))])</pre></div></div></div><div class=\"sk-serial\"><div class=\"sk-item\"><div class=\"sk-estimator sk-toggleable\"><input class=\"sk-toggleable__control sk-hidden--visually\" id=\"sk-estimator-id-7\" type=\"checkbox\" ><label for=\"sk-estimator-id-7\" class=\"sk-toggleable__label sk-toggleable__label-arrow\">BorderlineSMOTE</label><div class=\"sk-toggleable__content\"><pre>BorderlineSMOTE(k_neighbors=7, n_jobs=-1, random_state=42)</pre></div></div></div><div class=\"sk-item\"><div class=\"sk-estimator sk-toggleable\"><input class=\"sk-toggleable__control sk-hidden--visually\" id=\"sk-estimator-id-8\" type=\"checkbox\" ><label for=\"sk-estimator-id-8\" class=\"sk-toggleable__label sk-toggleable__label-arrow\">EditedNearestNeighbours</label><div class=\"sk-toggleable__content\"><pre>EditedNearestNeighbours(kind_sel=&#x27;mode&#x27;, n_jobs=-1)</pre></div></div></div><div class=\"sk-item\"><div class=\"sk-estimator sk-toggleable\"><input class=\"sk-toggleable__control sk-hidden--visually\" id=\"sk-estimator-id-9\" type=\"checkbox\" ><label for=\"sk-estimator-id-9\" class=\"sk-toggleable__label sk-toggleable__label-arrow\">RandomForestClassifier</label><div class=\"sk-toggleable__content\"><pre>RandomForestClassifier(class_weight=&#x27;balanced_subsample&#x27;, n_estimators=700,\n                       n_jobs=-1, random_state=42)</pre></div></div></div></div></div></div></div>"
     },
     "execution_count": 198,
     "metadata": {},
     "output_type": "execute_result"
    }
   ],
   "source": [
    "pipeline.fit(x_train, y_train)"
   ],
   "metadata": {
    "collapsed": false
   }
  },
  {
   "cell_type": "code",
   "execution_count": 199,
   "outputs": [],
   "source": [
    "y_pred = pipeline.predict(x_test)"
   ],
   "metadata": {
    "collapsed": false
   }
  },
  {
   "cell_type": "code",
   "execution_count": 202,
   "outputs": [
    {
     "data": {
      "text/plain": "0.7246"
     },
     "execution_count": 202,
     "metadata": {},
     "output_type": "execute_result"
    }
   ],
   "source": [
    "accuracy_score(y_test, y_pred)"
   ],
   "metadata": {
    "collapsed": false
   }
  },
  {
   "cell_type": "code",
   "execution_count": 204,
   "outputs": [
    {
     "name": "stdout",
     "output_type": "stream",
     "text": [
      "              precision    recall  f1-score   support\n",
      "\n",
      "           0       0.71      0.82      0.76      7216\n",
      "           1       0.80      0.66      0.72     12960\n",
      "           2       0.62      0.76      0.68      4824\n",
      "\n",
      "    accuracy                           0.72     25000\n",
      "   macro avg       0.71      0.75      0.72     25000\n",
      "weighted avg       0.74      0.72      0.72     25000\n",
      "\n"
     ]
    }
   ],
   "source": [
    "print(classification_report(y_test, y_pred))"
   ],
   "metadata": {
    "collapsed": false
   }
  },
  {
   "cell_type": "code",
   "execution_count": 206,
   "outputs": [],
   "source": [
    "def hybrid_sampling_and_classification(over_sampler, under_sampler, clf, X, y):\n",
    "    \"\"\"\n",
    "    :param over_sample: 생성된 oversampling 객체\n",
    "    :param under_sampler: 생성된 undersampling 객체\n",
    "    :param clf: 분류기\n",
    "    :return: pipeline 객체\n",
    "    \"\"\"\n",
    "\n",
    "    from imblearn.pipeline import Pipeline\n",
    "    pipeline = Pipeline(steps=[('o', over_sampler), ('u', under_sampler), ('m', clf)])\n",
    "    pipeline.fit(X, y)\n",
    "\n",
    "    return pipeline"
   ],
   "metadata": {
    "collapsed": false
   }
  },
  {
   "cell_type": "code",
   "execution_count": 207,
   "outputs": [],
   "source": [
    "pipeline = hybrid_sampling_and_classification(bsmote, enn, model, x_train, y_train)"
   ],
   "metadata": {
    "collapsed": false
   }
  },
  {
   "cell_type": "code",
   "execution_count": 208,
   "outputs": [],
   "source": [
    "y_pred = pipeline.predict(x_test)"
   ],
   "metadata": {
    "collapsed": false
   }
  },
  {
   "cell_type": "code",
   "execution_count": 210,
   "outputs": [
    {
     "data": {
      "text/plain": "0.7246"
     },
     "execution_count": 210,
     "metadata": {},
     "output_type": "execute_result"
    }
   ],
   "source": [
    "accuracy_score(y_test, y_pred)"
   ],
   "metadata": {
    "collapsed": false
   }
  },
  {
   "cell_type": "code",
   "execution_count": 209,
   "outputs": [],
   "source": [
    "y_pred_train = pipeline.predict(x_train)"
   ],
   "metadata": {
    "collapsed": false
   }
  },
  {
   "cell_type": "code",
   "execution_count": 211,
   "outputs": [
    {
     "data": {
      "text/plain": "0.9092666666666667"
     },
     "execution_count": 211,
     "metadata": {},
     "output_type": "execute_result"
    }
   ],
   "source": [
    "accuracy_score(y_train, y_pred_train)"
   ],
   "metadata": {
    "collapsed": false
   }
  },
  {
   "cell_type": "code",
   "execution_count": 214,
   "outputs": [
    {
     "data": {
      "text/plain": "Counter({2: 13004, 1: 40214, 0: 21782})"
     },
     "execution_count": 214,
     "metadata": {},
     "output_type": "execute_result"
    }
   ],
   "source": [
    "from collections import Counter\n",
    "Counter(y_train)"
   ],
   "metadata": {
    "collapsed": false
   }
  },
  {
   "cell_type": "code",
   "execution_count": 215,
   "outputs": [],
   "source": [
    "model = RandomForestClassifier(n_estimators=700, class_weight='balanced_subsample', n_jobs=-1, random_state=42)\n",
    "\n",
    "bsmote = BorderlineSMOTE(sampling_strategy={0: 25000, 1: 40214, 2: 20000}, random_state=42, k_neighbors=7, n_jobs=-1)\n",
    "enn = EditedNearestNeighbours(kind_sel='mode', n_jobs=-1)"
   ],
   "metadata": {
    "collapsed": false
   }
  },
  {
   "cell_type": "code",
   "execution_count": 216,
   "outputs": [],
   "source": [
    "pipeline = hybrid_sampling_and_classification(bsmote, enn, model, x_train, y_train)"
   ],
   "metadata": {
    "collapsed": false
   }
  },
  {
   "cell_type": "code",
   "execution_count": 217,
   "outputs": [],
   "source": [
    "y_pred = pipeline.predict(x_test)"
   ],
   "metadata": {
    "collapsed": false
   }
  },
  {
   "cell_type": "code",
   "execution_count": 218,
   "outputs": [
    {
     "data": {
      "text/plain": "0.73468"
     },
     "execution_count": 218,
     "metadata": {},
     "output_type": "execute_result"
    }
   ],
   "source": [
    "accuracy_score(y_test, y_pred)"
   ],
   "metadata": {
    "collapsed": false
   }
  },
  {
   "cell_type": "code",
   "execution_count": 221,
   "outputs": [],
   "source": [
    "def show_results(pipeline, x_train, y_train, x_test, y_test):\n",
    "    \"\"\"\n",
    "\n",
    "    :param pipeline: learned object\n",
    "    :param x_train: x train input\n",
    "    :param y_train: y train\n",
    "    :param x_test: x test input\n",
    "    :param y_test: y test\n",
    "    :return: None\n",
    "    \"\"\"\n",
    "    from sklearn.metrics import accuracy_score, classification_report, confusion_matrix\n",
    "\n",
    "    y_train_pred = pipeline.predict(x_train)\n",
    "    y_test_pred = pipeline.predict(x_test)\n",
    "\n",
    "    print('Accuracy Score (Train): ', accuracy_score(y_train, y_train_pred))\n",
    "    print('Accuracy Score (Test): ', accuracy_score(y_test, y_test_pred))\n",
    "\n",
    "    print('Classification Report....: ')\n",
    "    print(classification_report(y_test, y_test_pred))\n",
    "\n",
    "    print('Confusion Matrix...: ')\n",
    "    print(confusion_matrix(y_test, y_test_pred))"
   ],
   "metadata": {
    "collapsed": false
   }
  },
  {
   "cell_type": "code",
   "execution_count": 222,
   "outputs": [
    {
     "name": "stdout",
     "output_type": "stream",
     "text": [
      "Accuracy Score (Train):  0.9078133333333334\n",
      "Accuracy Score (Test):  0.73468\n",
      "Classification Report....: \n",
      "              precision    recall  f1-score   support\n",
      "\n",
      "           0       0.72      0.80      0.76      7216\n",
      "           1       0.79      0.69      0.73     12960\n",
      "           2       0.65      0.76      0.70      4824\n",
      "\n",
      "    accuracy                           0.73     25000\n",
      "   macro avg       0.72      0.75      0.73     25000\n",
      "weighted avg       0.74      0.73      0.73     25000\n",
      "\n",
      "Confusion Matrix...: \n",
      "[[5801 1257  158]\n",
      " [2248 8923 1789]\n",
      " [  33 1148 3643]]\n"
     ]
    }
   ],
   "source": [
    "show_results(pipeline, x_train, y_train, x_test, y_test)"
   ],
   "metadata": {
    "collapsed": false
   }
  },
  {
   "cell_type": "markdown",
   "source": [
    "## SMOTE NC + ENN + Cost Sensitive\n"
   ],
   "metadata": {
    "collapsed": false
   }
  },
  {
   "cell_type": "code",
   "execution_count": null,
   "outputs": [],
   "source": [
    "from imblearn.over_sampling import SMOTENC"
   ],
   "metadata": {
    "collapsed": false
   }
  },
  {
   "cell_type": "code",
   "execution_count": 223,
   "outputs": [],
   "source": [
    "cat_col_idx = [0, 1, 12, 15, 16, 19]"
   ],
   "metadata": {
    "collapsed": false
   }
  },
  {
   "cell_type": "code",
   "execution_count": 232,
   "outputs": [],
   "source": [
    "model = RandomForestClassifier(n_estimators=1000, class_weight='balanced_subsample', n_jobs=-1, random_state=42)\n",
    "\n",
    "smoteen = SMOTENC(random_state=42, categorical_features=cat_col_idx, sampling_strategy={0: 25000, 1: 40214, 2: 20000})\n",
    "enn = EditedNearestNeighbours(kind_sel='mode', n_jobs=-1)"
   ],
   "metadata": {
    "collapsed": false
   }
  },
  {
   "cell_type": "code",
   "execution_count": 233,
   "outputs": [],
   "source": [
    "pipeline = hybrid_sampling_and_classification(smoteen, enn, model, x_train, y_train)"
   ],
   "metadata": {
    "collapsed": false
   }
  },
  {
   "cell_type": "code",
   "execution_count": 234,
   "outputs": [
    {
     "name": "stdout",
     "output_type": "stream",
     "text": [
      "Accuracy Score (Train):  0.9076533333333333\n",
      "Accuracy Score (Test):  0.73808\n",
      "Classification Report....: \n",
      "              precision    recall  f1-score   support\n",
      "\n",
      "           0       0.72      0.80      0.76      7216\n",
      "           1       0.78      0.70      0.74     12960\n",
      "           2       0.67      0.75      0.71      4824\n",
      "\n",
      "    accuracy                           0.74     25000\n",
      "   macro avg       0.72      0.75      0.74     25000\n",
      "weighted avg       0.74      0.74      0.74     25000\n",
      "\n",
      "Confusion Matrix...: \n",
      "[[5801 1312  103]\n",
      " [2259 9017 1684]\n",
      " [  28 1162 3634]]\n"
     ]
    }
   ],
   "source": [
    "show_results(pipeline, x_train, y_train, x_test, y_test)"
   ],
   "metadata": {
    "collapsed": false
   }
  },
  {
   "cell_type": "code",
   "execution_count": null,
   "outputs": [],
   "source": [],
   "metadata": {
    "collapsed": false
   }
  },
  {
   "cell_type": "code",
   "execution_count": 235,
   "outputs": [],
   "source": [
    "model = RandomForestClassifier(n_estimators=1000, class_weight='balanced_subsample', n_jobs=-1, random_state=42)\n",
    "\n",
    "smoteen = SMOTENC(random_state=42, categorical_features=cat_col_idx)\n",
    "enn = EditedNearestNeighbours(kind_sel='mode', n_jobs=-1)"
   ],
   "metadata": {
    "collapsed": false
   }
  },
  {
   "cell_type": "code",
   "execution_count": 236,
   "outputs": [],
   "source": [
    "pipeline = hybrid_sampling_and_classification(smoteen, enn, model, x_train, y_train)"
   ],
   "metadata": {
    "collapsed": false
   }
  },
  {
   "cell_type": "code",
   "execution_count": 237,
   "outputs": [
    {
     "name": "stdout",
     "output_type": "stream",
     "text": [
      "Accuracy Score (Train):  0.91084\n",
      "Accuracy Score (Test):  0.73628\n",
      "Classification Report....: \n",
      "              precision    recall  f1-score   support\n",
      "\n",
      "           0       0.70      0.85      0.77      7216\n",
      "           1       0.80      0.67      0.73     12960\n",
      "           2       0.66      0.74      0.70      4824\n",
      "\n",
      "    accuracy                           0.74     25000\n",
      "   macro avg       0.72      0.75      0.73     25000\n",
      "weighted avg       0.75      0.74      0.74     25000\n",
      "\n",
      "Confusion Matrix...: \n",
      "[[6108  989  119]\n",
      " [2520 8708 1732]\n",
      " [  40 1193 3591]]\n"
     ]
    }
   ],
   "source": [
    "show_results(pipeline, x_train, y_train, x_test, y_test)"
   ],
   "metadata": {
    "collapsed": false
   }
  },
  {
   "cell_type": "code",
   "execution_count": null,
   "outputs": [],
   "source": [],
   "metadata": {
    "collapsed": false
   }
  },
  {
   "cell_type": "code",
   "execution_count": 238,
   "outputs": [],
   "source": [
    "model = RandomForestClassifier(n_estimators=1000, class_weight='balanced_subsample', n_jobs=-1, random_state=42)\n",
    "\n",
    "smoteen = SMOTENC(random_state=42, categorical_features=cat_col_idx, sampling_strategy={0: 25000, 1: 40214, 2: 25000})\n",
    "enn = EditedNearestNeighbours(kind_sel='mode', n_jobs=-1)"
   ],
   "metadata": {
    "collapsed": false
   }
  },
  {
   "cell_type": "code",
   "execution_count": 239,
   "outputs": [],
   "source": [
    "pipeline = hybrid_sampling_and_classification(smoteen, enn, model, x_train, y_train)"
   ],
   "metadata": {
    "collapsed": false
   }
  },
  {
   "cell_type": "code",
   "execution_count": 240,
   "outputs": [
    {
     "name": "stdout",
     "output_type": "stream",
     "text": [
      "Accuracy Score (Train):  0.9113733333333334\n",
      "Accuracy Score (Test):  0.73872\n",
      "Classification Report....: \n",
      "              precision    recall  f1-score   support\n",
      "\n",
      "           0       0.71      0.84      0.77      7216\n",
      "           1       0.79      0.69      0.74     12960\n",
      "           2       0.67      0.72      0.70      4824\n",
      "\n",
      "    accuracy                           0.74     25000\n",
      "   macro avg       0.72      0.75      0.73     25000\n",
      "weighted avg       0.74      0.74      0.74     25000\n",
      "\n",
      "Confusion Matrix...: \n",
      "[[6050 1077   89]\n",
      " [2416 8938 1606]\n",
      " [  33 1311 3480]]\n"
     ]
    }
   ],
   "source": [
    "show_results(pipeline, x_train, y_train, x_test, y_test)"
   ],
   "metadata": {
    "collapsed": false
   }
  },
  {
   "cell_type": "code",
   "execution_count": null,
   "outputs": [],
   "source": [],
   "metadata": {
    "collapsed": false
   }
  }
 ],
 "metadata": {
  "kernelspec": {
   "display_name": "Python 3",
   "language": "python",
   "name": "python3"
  },
  "language_info": {
   "codemirror_mode": {
    "name": "ipython",
    "version": 2
   },
   "file_extension": ".py",
   "mimetype": "text/x-python",
   "name": "python",
   "nbconvert_exporter": "python",
   "pygments_lexer": "ipython2",
   "version": "2.7.6"
  }
 },
 "nbformat": 4,
 "nbformat_minor": 0
}
