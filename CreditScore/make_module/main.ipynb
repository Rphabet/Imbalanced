{
 "nbformat": 4,
 "nbformat_minor": 0,
 "metadata": {
  "colab": {
   "provenance": [],
   "toc_visible": true,
   "machine_shape": "hm"
  },
  "kernelspec": {
   "name": "conda-env-tf_mini-py",
   "language": "python",
   "display_name": "Python [conda env:tf_mini] *"
  },
  "language_info": {
   "name": "python"
  },
  "accelerator": "GPU",
  "gpuClass": "premium"
 },
 "cells": [
  {
   "cell_type": "markdown",
   "source": [
    "# Set Environment"
   ],
   "metadata": {
    "id": "VoZIAo7yrfgD"
   }
  },
  {
   "cell_type": "code",
   "execution_count": 1,
   "metadata": {
    "id": "1HFWjDeTrYYX",
    "colab": {
     "base_uri": "https://localhost:8080/"
    },
    "executionInfo": {
     "status": "ok",
     "timestamp": 1670420217548,
     "user_tz": -540,
     "elapsed": 32964,
     "user": {
      "displayName": "김소담",
      "userId": "17228452721668815195"
     }
    },
    "outputId": "eb03457f-42a2-4d11-ac12-4cd2ccf8cc1b"
   },
   "outputs": [],
   "source": [
    "# # 필요 package 설치\n",
    "# !pip install pytorch_tabnet     # tabnet 모델 설치\n",
    "# !pip install catboost           # catboost 모델 설치\n",
    "# !pip install ctgan==0.3.1.dev0  # gan 설치"
   ]
  },
  {
   "cell_type": "code",
   "source": [
    "# google drive mount\n",
    "# from google.colab import drive\n",
    "# drive.mount('/content/drive')\n",
    "# %cd /content/drive/MyDrive/SKKU_study/01_Final_assignment/source/make_module"
   ],
   "metadata": {
    "colab": {
     "base_uri": "https://localhost:8080/"
    },
    "id": "62tQTmUTxzcI",
    "executionInfo": {
     "status": "ok",
     "timestamp": 1670420241832,
     "user_tz": -540,
     "elapsed": 24290,
     "user": {
      "displayName": "김소담",
      "userId": "17228452721668815195"
     }
    },
    "outputId": "ea75a076-40c6-48dd-e272-ac3b92b4bb10"
   },
   "execution_count": 2,
   "outputs": []
  },
  {
   "cell_type": "code",
   "source": [
    "# import Custom packages\n",
    "from model_tabnet import ModelTabnet\n",
    "from model_forest import ModelForest\n",
    "from model_catboost import ModelCatBoost\n",
    "from ensemble_hard import Hard_voting\n",
    "from ensemble_soft import EnsembleSoft\n",
    "import Metrics\n",
    "import sampling\n",
    "\n",
    "# import packages\n",
    "from ctgan import CTGANSynthesizer\n",
    "from sklearn.metrics import accuracy_score, f1_score\n",
    "from collections import Counter\n",
    "import pandas as pd\n",
    "import numpy as np\n",
    "import os\n",
    "import random\n",
    "import warnings\n",
    "warnings.filterwarnings('ignore')"
   ],
   "metadata": {
    "id": "Qk47zHSXrirM",
    "executionInfo": {
     "status": "ok",
     "timestamp": 1670420251615,
     "user_tz": -540,
     "elapsed": 9787,
     "user": {
      "displayName": "김소담",
      "userId": "17228452721668815195"
     }
    }
   },
   "execution_count": 3,
   "outputs": []
  },
  {
   "cell_type": "code",
   "source": [
    "# set directories\n",
    "main_dir = '../'\n",
    "data_dir = os.path.join(main_dir, 'data')\n",
    "processed_data_dir = os.path.join(data_dir, 'processed')\n",
    "\n",
    "os.makedirs(data_dir, exist_ok=True)\n",
    "os.makedirs(processed_data_dir, exist_ok=True)"
   ],
   "metadata": {
    "id": "HG9J2dwJtcyc",
    "executionInfo": {
     "status": "ok",
     "timestamp": 1670420251615,
     "user_tz": -540,
     "elapsed": 17,
     "user": {
      "displayName": "김소담",
      "userId": "17228452721668815195"
     }
    }
   },
   "execution_count": 4,
   "outputs": []
  },
  {
   "cell_type": "markdown",
   "source": [
    "# Load Dataset (Vanilla)"
   ],
   "metadata": {
    "id": "sLyGVH5GvOW5"
   }
  },
  {
   "cell_type": "code",
   "source": [
    "dfs = pd.read_csv(os.path.join(processed_data_dir, 'processed.csv'))\n",
    "train = pd.read_csv(os.path.join(processed_data_dir, 'train.csv'))\n",
    "test = pd.read_csv(os.path.join(processed_data_dir, 'test.csv'))\n",
    "\n",
    "all_col_list = [col for col in dfs.columns if col != 'Credit_Score']\n",
    "train.shape, test.shape # original shape check"
   ],
   "metadata": {
    "colab": {
     "base_uri": "https://localhost:8080/"
    },
    "id": "nZnUPZ0ntoxl",
    "executionInfo": {
     "status": "ok",
     "timestamp": 1670420253875,
     "user_tz": -540,
     "elapsed": 2275,
     "user": {
      "displayName": "김소담",
      "userId": "17228452721668815195"
     }
    },
    "outputId": "f77c3276-e524-46f7-c5b5-939fd11f4197"
   },
   "execution_count": 5,
   "outputs": [
    {
     "data": {
      "text/plain": "((75000, 23), (25000, 23))"
     },
     "execution_count": 5,
     "metadata": {},
     "output_type": "execute_result"
    }
   ]
  },
  {
   "cell_type": "markdown",
   "source": [
    "# Sampling\n",
    "- Vanilla: {0: 21782, 1: 40214, 2: 13004}\n",
    "- SMOTENC: {0: 40214, 1: 40214, 2: 40214}, auto\n",
    "- SMOTE+Tomeklink: {0: 38217, 1: 37268, 2: 39177}, auto\n",
    "- GAN: {0: 31393, 1: 40214, 2: 29886}"
   ],
   "metadata": {
    "id": "jettAGkSPbEY"
   }
  },
  {
   "cell_type": "markdown",
   "source": [
    "## SMOTENC"
   ],
   "metadata": {
    "id": "zYpiNq0RclHh"
   }
  },
  {
   "cell_type": "code",
   "source": [
    "# ratio = {0: 21782, 1: 40214, 2: 13004}\n",
    "train_smtnc = sampling.train_smote_nc(train, 'auto')\n",
    "print('sampled with SMOTENC dataset shape %s' % Counter(train_smtnc['Credit_Score']))"
   ],
   "metadata": {
    "id": "l3gLKcE_Pcu5",
    "colab": {
     "base_uri": "https://localhost:8080/"
    },
    "executionInfo": {
     "status": "ok",
     "timestamp": 1670420355760,
     "user_tz": -540,
     "elapsed": 101887,
     "user": {
      "displayName": "김소담",
      "userId": "17228452721668815195"
     }
    },
    "outputId": "329b4e40-f33c-41e0-bb69-2cca8cc7abd8"
   },
   "execution_count": 6,
   "outputs": [
    {
     "name": "stdout",
     "output_type": "stream",
     "text": [
      "sampled with SMOTENC dataset shape Counter({2: 40214, 1: 40214, 0: 40214})\n"
     ]
    }
   ]
  },
  {
   "cell_type": "markdown",
   "source": [
    "## SMOTE + Tomeklink"
   ],
   "metadata": {
    "id": "E6c-cQtlcnVW"
   }
  },
  {
   "cell_type": "code",
   "source": [
    "# ratio = {0: 21782, 1: 40214, 2: 13004} \n",
    "train_smttm = sampling.train_smote_tomek(train, 'auto')\n",
    "print('sampled with SMOTETOMEK dataset shape %s' % Counter(train_smttm['Credit_Score']))"
   ],
   "metadata": {
    "id": "iA1P2RX8crpn",
    "colab": {
     "base_uri": "https://localhost:8080/"
    },
    "executionInfo": {
     "status": "ok",
     "timestamp": 1670420358867,
     "user_tz": -540,
     "elapsed": 3114,
     "user": {
      "displayName": "김소담",
      "userId": "17228452721668815195"
     }
    },
    "outputId": "070165ae-fb89-435b-d882-9d44b0c04194"
   },
   "execution_count": 7,
   "outputs": [
    {
     "name": "stdout",
     "output_type": "stream",
     "text": [
      "sampled with SMOTETOMEK dataset shape Counter({2: 39177, 0: 38217, 1: 37268})\n"
     ]
    }
   ]
  },
  {
   "cell_type": "markdown",
   "source": [
    "## GAN"
   ],
   "metadata": {
    "id": "jaNN9WtccsIw"
   }
  },
  {
   "cell_type": "code",
   "source": [
    "# gan model은 시간상의 문제로 인해 기존 생성되어 있는 over sampled file 직접 로드하는 형식으로 작성 필요\n",
    "# train_gan=sampling.train_gan(train)\n",
    "train_gan = pd.read_csv(os.path.join(data_dir, 'output_GAN_data', 'generate_gan_v4.csv'))\n",
    "train_gan.drop(columns='Unnamed: 0', inplace=True)\n",
    "\n",
    "random_list = [] # class 0은 9000개정도 oversampling\n",
    "for i in range(0, 5000):\n",
    "    random_list.append(random.randint(0, 12499))\n",
    "train_gan_0 = train_gan[\n",
    "    (train_gan.Credit_Score==0) &\n",
    "    (train_gan.Customer_ID.isin(random_list))\n",
    "    ]\n",
    "\n",
    "train_gan_2 = train_gan[train_gan.Credit_Score==2]\n",
    "train_gan = pd.concat([train_gan_0, train_gan_2], ignore_index=True)\n",
    "train_gan = pd.concat([train_gan, train], ignore_index=True)\n",
    "print('sampled with GAN dataset shape %s' % Counter(train_gan['Credit_Score']))"
   ],
   "metadata": {
    "id": "LJyxGH_8csnn",
    "colab": {
     "base_uri": "https://localhost:8080/"
    },
    "executionInfo": {
     "status": "ok",
     "timestamp": 1670420360818,
     "user_tz": -540,
     "elapsed": 1957,
     "user": {
      "displayName": "김소담",
      "userId": "17228452721668815195"
     }
    },
    "outputId": "89aa21ca-8960-4a08-affe-d9d877ef4448"
   },
   "execution_count": 8,
   "outputs": [
    {
     "name": "stdout",
     "output_type": "stream",
     "text": [
      "sampled with GAN dataset shape Counter({1: 40214, 0: 31427, 2: 29886})\n"
     ]
    }
   ]
  },
  {
   "cell_type": "markdown",
   "source": [
    "# Modeling\n",
    "- 각 모델 단위로 4가지 Sampling (Vanilla, SMOTENC, SMOTE+Tomeklink, GAN) 방식으로 Sampling된 데이터를 Train으로 사용하여 훈련\n",
    "- 훈련된 모델 중 f1 score (macro)를 기준으로 최적의 Matching (Model X Sampling Method)를 선택\n",
    "- 총 3개 (best_tabnet, best_rf, best_catboost) model 결과를 ensemble 단계로 전달"
   ],
   "metadata": {
    "id": "W1ESSb0ZvaGw"
   }
  },
  {
   "cell_type": "markdown",
   "source": [
    "## TABNET"
   ],
   "metadata": {
    "id": "ckwB8gVgPgPy"
   }
  },
  {
   "cell_type": "markdown",
   "source": [
    "### Vanilla"
   ],
   "metadata": {
    "id": "yMTqxEemc0xn"
   }
  },
  {
   "cell_type": "code",
   "source": [
    "model_tabnet = ModelTabnet(\n",
    "    dfs_train=train,\n",
    "    dfs_test=test,\n",
    ")\n",
    "tabnet_proba = model_tabnet.predicted_proba"
   ],
   "metadata": {
    "id": "CS9hzCWls76F",
    "colab": {
     "base_uri": "https://localhost:8080/"
    },
    "executionInfo": {
     "status": "ok",
     "timestamp": 1670420948465,
     "user_tz": -540,
     "elapsed": 587651,
     "user": {
      "displayName": "김소담",
      "userId": "17228452721668815195"
     }
    },
    "outputId": "f38875aa-5258-4856-950f-8d247ea23dfd"
   },
   "execution_count": 9,
   "outputs": [
    {
     "name": "stdout",
     "output_type": "stream",
     "text": [
      "Customer_ID :  12500\n",
      "Month :  8\n",
      "Credit_Mix :  3\n",
      "Credit_History_Age :  2\n",
      "Occupation :  15\n",
      "Payment_of_Min_Amount :  3\n",
      "Payment_Behaviour :  6\n",
      "!!!Pretrain Start!!!\n",
      "Device used : cpu\n",
      "No early stopping will be performed, last training weights will be used.\n",
      "epoch 0  | loss: 5.59501 |  0:00:19s\n",
      "epoch 1  | loss: 2.31056 |  0:00:37s\n",
      "epoch 2  | loss: 1.64646 |  0:00:54s\n",
      "epoch 3  | loss: 1.31633 |  0:01:10s\n",
      "epoch 4  | loss: 1.16968 |  0:01:26s\n",
      "epoch 5  | loss: 1.06616 |  0:01:45s\n",
      "epoch 6  | loss: 1.03727 |  0:02:07s\n",
      "epoch 7  | loss: 1.02319 |  0:02:24s\n",
      "epoch 8  | loss: 1.0124  |  0:02:41s\n",
      "epoch 9  | loss: 0.99334 |  0:02:59s\n",
      "epoch 10 | loss: 0.9759  |  0:03:16s\n",
      "epoch 11 | loss: 0.96596 |  0:03:34s\n",
      "epoch 12 | loss: 0.95693 |  0:03:49s\n",
      "epoch 13 | loss: 0.95113 |  0:04:05s\n",
      "epoch 14 | loss: 0.94717 |  0:04:17s\n",
      "epoch 15 | loss: 0.94465 |  0:04:29s\n",
      "epoch 16 | loss: 0.94413 |  0:04:46s\n",
      "epoch 17 | loss: 0.94022 |  0:04:59s\n",
      "epoch 18 | loss: 0.93614 |  0:05:10s\n",
      "epoch 19 | loss: 0.93025 |  0:05:20s\n",
      "epoch 20 | loss: 0.92519 |  0:05:31s\n",
      "epoch 21 | loss: 0.92128 |  0:05:42s\n",
      "epoch 22 | loss: 0.91581 |  0:05:52s\n",
      "epoch 23 | loss: 0.91283 |  0:06:03s\n",
      "epoch 24 | loss: 0.9093  |  0:06:13s\n",
      "epoch 25 | loss: 0.90435 |  0:06:24s\n",
      "epoch 26 | loss: 0.90261 |  0:06:36s\n",
      "epoch 27 | loss: 0.89921 |  0:06:46s\n",
      "epoch 28 | loss: 0.89755 |  0:06:57s\n",
      "epoch 29 | loss: 0.89459 |  0:07:11s\n",
      "epoch 30 | loss: 0.89259 |  0:07:25s\n",
      "epoch 31 | loss: 0.89144 |  0:07:37s\n",
      "epoch 32 | loss: 0.88985 |  0:07:49s\n",
      "epoch 33 | loss: 0.88858 |  0:08:01s\n",
      "epoch 34 | loss: 0.888   |  0:08:12s\n",
      "epoch 35 | loss: 0.88711 |  0:08:25s\n",
      "epoch 36 | loss: 0.88213 |  0:08:40s\n",
      "epoch 37 | loss: 0.87642 |  0:08:55s\n",
      "epoch 38 | loss: 0.8733  |  0:09:07s\n",
      "epoch 39 | loss: 0.87191 |  0:09:19s\n",
      "epoch 40 | loss: 0.8698  |  0:09:31s\n",
      "epoch 41 | loss: 0.86747 |  0:09:42s\n",
      "epoch 42 | loss: 0.8641  |  0:09:53s\n",
      "epoch 43 | loss: 0.86194 |  0:10:05s\n",
      "epoch 44 | loss: 0.8613  |  0:10:16s\n"
     ]
    },
    {
     "ename": "KeyboardInterrupt",
     "evalue": "",
     "output_type": "error",
     "traceback": [
      "\u001B[0;31m---------------------------------------------------------------------------\u001B[0m",
      "\u001B[0;31mKeyboardInterrupt\u001B[0m                         Traceback (most recent call last)",
      "Input \u001B[0;32mIn [9]\u001B[0m, in \u001B[0;36m<cell line: 1>\u001B[0;34m()\u001B[0m\n\u001B[0;32m----> 1\u001B[0m model_tabnet \u001B[38;5;241m=\u001B[39m \u001B[43mModelTabnet\u001B[49m\u001B[43m(\u001B[49m\n\u001B[1;32m      2\u001B[0m \u001B[43m    \u001B[49m\u001B[43mdfs_train\u001B[49m\u001B[38;5;241;43m=\u001B[39;49m\u001B[43mtrain\u001B[49m\u001B[43m,\u001B[49m\n\u001B[1;32m      3\u001B[0m \u001B[43m    \u001B[49m\u001B[43mdfs_test\u001B[49m\u001B[38;5;241;43m=\u001B[39;49m\u001B[43mtest\u001B[49m\u001B[43m,\u001B[49m\n\u001B[1;32m      4\u001B[0m \u001B[43m)\u001B[49m\n\u001B[1;32m      5\u001B[0m tabnet_proba \u001B[38;5;241m=\u001B[39m model_tabnet\u001B[38;5;241m.\u001B[39mpredicted_proba\n",
      "File \u001B[0;32m~/ML/Imbalanced/CreditScore/make_module/model_tabnet.py:66\u001B[0m, in \u001B[0;36mModelTabnet.__init__\u001B[0;34m(self, dfs_train, dfs_test, dfs_sampled)\u001B[0m\n\u001B[1;32m     64\u001B[0m \u001B[38;5;66;03m# 4. modeling\u001B[39;00m\n\u001B[1;32m     65\u001B[0m \u001B[38;5;28mprint\u001B[39m(\u001B[38;5;124m'\u001B[39m\u001B[38;5;124m!!!Pretrain Start!!!\u001B[39m\u001B[38;5;124m'\u001B[39m)\n\u001B[0;32m---> 66\u001B[0m pretrained_model \u001B[38;5;241m=\u001B[39m \u001B[38;5;28;43mself\u001B[39;49m\u001B[38;5;241;43m.\u001B[39;49m\u001B[43mpretrain_model\u001B[49m\u001B[43m(\u001B[49m\u001B[43mcat_col_idx\u001B[49m\u001B[43m,\u001B[49m\u001B[43m \u001B[49m\u001B[43mcat_col_dims\u001B[49m\u001B[43m)\u001B[49m\n\u001B[1;32m     67\u001B[0m \u001B[38;5;28mprint\u001B[39m(\u001B[38;5;124m'\u001B[39m\u001B[38;5;124m!!!Main train Start!!!\u001B[39m\u001B[38;5;124m'\u001B[39m)\n\u001B[1;32m     68\u001B[0m \u001B[38;5;28mself\u001B[39m\u001B[38;5;241m.\u001B[39mmodel_tabnet \u001B[38;5;241m=\u001B[39m \u001B[38;5;28mself\u001B[39m\u001B[38;5;241m.\u001B[39mmodel(pretrained_model, cat_col_idx, cat_col_dims)\n",
      "File \u001B[0;32m~/ML/Imbalanced/CreditScore/make_module/model_tabnet.py:89\u001B[0m, in \u001B[0;36mModelTabnet.pretrain_model\u001B[0;34m(self, cat_col_idx, cat_col_dims)\u001B[0m\n\u001B[1;32m     77\u001B[0m x_train \u001B[38;5;241m=\u001B[39m \u001B[38;5;28mself\u001B[39m\u001B[38;5;241m.\u001B[39mx_train \u001B[38;5;28;01mif\u001B[39;00m \u001B[38;5;28mself\u001B[39m\u001B[38;5;241m.\u001B[39mx_sampled \u001B[38;5;129;01mis\u001B[39;00m \u001B[38;5;28;01mNone\u001B[39;00m \u001B[38;5;28;01melse\u001B[39;00m \u001B[38;5;28mself\u001B[39m\u001B[38;5;241m.\u001B[39mx_sampled\n\u001B[1;32m     78\u001B[0m unsupervised_model \u001B[38;5;241m=\u001B[39m TabNetPretrainer(\n\u001B[1;32m     79\u001B[0m     cat_idxs\u001B[38;5;241m=\u001B[39mcat_col_idx,\n\u001B[1;32m     80\u001B[0m     cat_dims\u001B[38;5;241m=\u001B[39mcat_col_dims,\n\u001B[0;32m   (...)\u001B[0m\n\u001B[1;32m     86\u001B[0m     mask_type\u001B[38;5;241m=\u001B[39m\u001B[38;5;124m'\u001B[39m\u001B[38;5;124mentmax\u001B[39m\u001B[38;5;124m'\u001B[39m,\n\u001B[1;32m     87\u001B[0m )\n\u001B[0;32m---> 89\u001B[0m \u001B[43munsupervised_model\u001B[49m\u001B[38;5;241;43m.\u001B[39;49m\u001B[43mfit\u001B[49m\u001B[43m(\u001B[49m\n\u001B[1;32m     90\u001B[0m \u001B[43m    \u001B[49m\u001B[43mX_train\u001B[49m\u001B[38;5;241;43m=\u001B[39;49m\u001B[43mx_train\u001B[49m\u001B[43m,\u001B[49m\n\u001B[1;32m     91\u001B[0m \u001B[43m    \u001B[49m\u001B[43mmax_epochs\u001B[49m\u001B[38;5;241;43m=\u001B[39;49m\u001B[38;5;241;43m90\u001B[39;49m\u001B[43m \u001B[49m\u001B[38;5;28;43;01mif\u001B[39;49;00m\u001B[43m \u001B[49m\u001B[38;5;28;43mself\u001B[39;49m\u001B[38;5;241;43m.\u001B[39;49m\u001B[43mx_sampled\u001B[49m\u001B[43m \u001B[49m\u001B[38;5;129;43;01mis\u001B[39;49;00m\u001B[43m \u001B[49m\u001B[38;5;28;43;01mNone\u001B[39;49;00m\u001B[43m \u001B[49m\u001B[38;5;28;43;01melse\u001B[39;49;00m\u001B[43m \u001B[49m\u001B[38;5;241;43m80\u001B[39;49m\u001B[43m,\u001B[49m\n\u001B[1;32m     92\u001B[0m \u001B[43m    \u001B[49m\u001B[43mdrop_last\u001B[49m\u001B[38;5;241;43m=\u001B[39;49m\u001B[38;5;28;43;01mFalse\u001B[39;49;00m\u001B[43m,\u001B[49m\n\u001B[1;32m     93\u001B[0m \u001B[43m    \u001B[49m\u001B[43mpretraining_ratio\u001B[49m\u001B[38;5;241;43m=\u001B[39;49m\u001B[38;5;241;43m0.6\u001B[39;49m\n\u001B[1;32m     94\u001B[0m \u001B[43m\u001B[49m\u001B[43m)\u001B[49m\n\u001B[1;32m     96\u001B[0m reconstructed_x, embedded_x \u001B[38;5;241m=\u001B[39m unsupervised_model\u001B[38;5;241m.\u001B[39mpredict(x_train)\n\u001B[1;32m     97\u001B[0m \u001B[38;5;28;01massert\u001B[39;00m(reconstructed_x\u001B[38;5;241m.\u001B[39mshape \u001B[38;5;241m==\u001B[39m embedded_x\u001B[38;5;241m.\u001B[39mshape)\n",
      "File \u001B[0;32m~/miniforge3/envs/tf_mini/lib/python3.8/site-packages/pytorch_tabnet/pretraining.py:149\u001B[0m, in \u001B[0;36mTabNetPretrainer.fit\u001B[0;34m(self, X_train, eval_set, eval_name, loss_fn, pretraining_ratio, weights, max_epochs, patience, batch_size, virtual_batch_size, num_workers, drop_last, callbacks, pin_memory)\u001B[0m\n\u001B[1;32m    144\u001B[0m \u001B[38;5;28;01mfor\u001B[39;00m epoch_idx \u001B[38;5;129;01min\u001B[39;00m \u001B[38;5;28mrange\u001B[39m(\u001B[38;5;28mself\u001B[39m\u001B[38;5;241m.\u001B[39mmax_epochs):\n\u001B[1;32m    145\u001B[0m \n\u001B[1;32m    146\u001B[0m     \u001B[38;5;66;03m# Call method on_epoch_begin for all callbacks\u001B[39;00m\n\u001B[1;32m    147\u001B[0m     \u001B[38;5;28mself\u001B[39m\u001B[38;5;241m.\u001B[39m_callback_container\u001B[38;5;241m.\u001B[39mon_epoch_begin(epoch_idx)\n\u001B[0;32m--> 149\u001B[0m     \u001B[38;5;28;43mself\u001B[39;49m\u001B[38;5;241;43m.\u001B[39;49m\u001B[43m_train_epoch\u001B[49m\u001B[43m(\u001B[49m\u001B[43mtrain_dataloader\u001B[49m\u001B[43m)\u001B[49m\n\u001B[1;32m    151\u001B[0m     \u001B[38;5;66;03m# Apply predict epoch to all eval sets\u001B[39;00m\n\u001B[1;32m    152\u001B[0m     \u001B[38;5;28;01mfor\u001B[39;00m eval_name, valid_dataloader \u001B[38;5;129;01min\u001B[39;00m \u001B[38;5;28mzip\u001B[39m(eval_names, valid_dataloaders):\n",
      "File \u001B[0;32m~/miniforge3/envs/tf_mini/lib/python3.8/site-packages/pytorch_tabnet/pretraining.py:275\u001B[0m, in \u001B[0;36mTabNetPretrainer._train_epoch\u001B[0;34m(self, train_loader)\u001B[0m\n\u001B[1;32m    272\u001B[0m \u001B[38;5;28;01mfor\u001B[39;00m batch_idx, X \u001B[38;5;129;01min\u001B[39;00m \u001B[38;5;28menumerate\u001B[39m(train_loader):\n\u001B[1;32m    273\u001B[0m     \u001B[38;5;28mself\u001B[39m\u001B[38;5;241m.\u001B[39m_callback_container\u001B[38;5;241m.\u001B[39mon_batch_begin(batch_idx)\n\u001B[0;32m--> 275\u001B[0m     batch_logs \u001B[38;5;241m=\u001B[39m \u001B[38;5;28;43mself\u001B[39;49m\u001B[38;5;241;43m.\u001B[39;49m\u001B[43m_train_batch\u001B[49m\u001B[43m(\u001B[49m\u001B[43mX\u001B[49m\u001B[43m)\u001B[49m\n\u001B[1;32m    277\u001B[0m     \u001B[38;5;28mself\u001B[39m\u001B[38;5;241m.\u001B[39m_callback_container\u001B[38;5;241m.\u001B[39mon_batch_end(batch_idx, batch_logs)\n\u001B[1;32m    279\u001B[0m epoch_logs \u001B[38;5;241m=\u001B[39m {\u001B[38;5;124m\"\u001B[39m\u001B[38;5;124mlr\u001B[39m\u001B[38;5;124m\"\u001B[39m: \u001B[38;5;28mself\u001B[39m\u001B[38;5;241m.\u001B[39m_optimizer\u001B[38;5;241m.\u001B[39mparam_groups[\u001B[38;5;241m-\u001B[39m\u001B[38;5;241m1\u001B[39m][\u001B[38;5;124m\"\u001B[39m\u001B[38;5;124mlr\u001B[39m\u001B[38;5;124m\"\u001B[39m]}\n",
      "File \u001B[0;32m~/miniforge3/envs/tf_mini/lib/python3.8/site-packages/pytorch_tabnet/pretraining.py:307\u001B[0m, in \u001B[0;36mTabNetPretrainer._train_batch\u001B[0;34m(self, X)\u001B[0m\n\u001B[1;32m    304\u001B[0m \u001B[38;5;28;01mfor\u001B[39;00m param \u001B[38;5;129;01min\u001B[39;00m \u001B[38;5;28mself\u001B[39m\u001B[38;5;241m.\u001B[39mnetwork\u001B[38;5;241m.\u001B[39mparameters():\n\u001B[1;32m    305\u001B[0m     param\u001B[38;5;241m.\u001B[39mgrad \u001B[38;5;241m=\u001B[39m \u001B[38;5;28;01mNone\u001B[39;00m\n\u001B[0;32m--> 307\u001B[0m output, embedded_x, obf_vars \u001B[38;5;241m=\u001B[39m \u001B[38;5;28;43mself\u001B[39;49m\u001B[38;5;241;43m.\u001B[39;49m\u001B[43mnetwork\u001B[49m\u001B[43m(\u001B[49m\u001B[43mX\u001B[49m\u001B[43m)\u001B[49m\n\u001B[1;32m    308\u001B[0m loss \u001B[38;5;241m=\u001B[39m \u001B[38;5;28mself\u001B[39m\u001B[38;5;241m.\u001B[39mcompute_loss(output, embedded_x, obf_vars)\n\u001B[1;32m    310\u001B[0m \u001B[38;5;66;03m# Perform backward pass and optimization\u001B[39;00m\n",
      "File \u001B[0;32m~/miniforge3/envs/tf_mini/lib/python3.8/site-packages/torch/nn/modules/module.py:1110\u001B[0m, in \u001B[0;36mModule._call_impl\u001B[0;34m(self, *input, **kwargs)\u001B[0m\n\u001B[1;32m   1106\u001B[0m \u001B[38;5;66;03m# If we don't have any hooks, we want to skip the rest of the logic in\u001B[39;00m\n\u001B[1;32m   1107\u001B[0m \u001B[38;5;66;03m# this function, and just call forward.\u001B[39;00m\n\u001B[1;32m   1108\u001B[0m \u001B[38;5;28;01mif\u001B[39;00m \u001B[38;5;129;01mnot\u001B[39;00m (\u001B[38;5;28mself\u001B[39m\u001B[38;5;241m.\u001B[39m_backward_hooks \u001B[38;5;129;01mor\u001B[39;00m \u001B[38;5;28mself\u001B[39m\u001B[38;5;241m.\u001B[39m_forward_hooks \u001B[38;5;129;01mor\u001B[39;00m \u001B[38;5;28mself\u001B[39m\u001B[38;5;241m.\u001B[39m_forward_pre_hooks \u001B[38;5;129;01mor\u001B[39;00m _global_backward_hooks\n\u001B[1;32m   1109\u001B[0m         \u001B[38;5;129;01mor\u001B[39;00m _global_forward_hooks \u001B[38;5;129;01mor\u001B[39;00m _global_forward_pre_hooks):\n\u001B[0;32m-> 1110\u001B[0m     \u001B[38;5;28;01mreturn\u001B[39;00m \u001B[43mforward_call\u001B[49m\u001B[43m(\u001B[49m\u001B[38;5;241;43m*\u001B[39;49m\u001B[38;5;28;43minput\u001B[39;49m\u001B[43m,\u001B[49m\u001B[43m \u001B[49m\u001B[38;5;241;43m*\u001B[39;49m\u001B[38;5;241;43m*\u001B[39;49m\u001B[43mkwargs\u001B[49m\u001B[43m)\u001B[49m\n\u001B[1;32m   1111\u001B[0m \u001B[38;5;66;03m# Do not call functions when jit is used\u001B[39;00m\n\u001B[1;32m   1112\u001B[0m full_backward_hooks, non_full_backward_hooks \u001B[38;5;241m=\u001B[39m [], []\n",
      "File \u001B[0;32m~/miniforge3/envs/tf_mini/lib/python3.8/site-packages/pytorch_tabnet/tab_network.py:366\u001B[0m, in \u001B[0;36mTabNetPretraining.forward\u001B[0;34m(self, x)\u001B[0m\n\u001B[1;32m    364\u001B[0m \u001B[38;5;66;03m# set prior of encoder with obf_mask\u001B[39;00m\n\u001B[1;32m    365\u001B[0m prior \u001B[38;5;241m=\u001B[39m \u001B[38;5;241m1\u001B[39m \u001B[38;5;241m-\u001B[39m obf_vars\n\u001B[0;32m--> 366\u001B[0m steps_out, _ \u001B[38;5;241m=\u001B[39m \u001B[38;5;28;43mself\u001B[39;49m\u001B[38;5;241;43m.\u001B[39;49m\u001B[43mencoder\u001B[49m\u001B[43m(\u001B[49m\u001B[43mmasked_x\u001B[49m\u001B[43m,\u001B[49m\u001B[43m \u001B[49m\u001B[43mprior\u001B[49m\u001B[38;5;241;43m=\u001B[39;49m\u001B[43mprior\u001B[49m\u001B[43m)\u001B[49m\n\u001B[1;32m    367\u001B[0m res \u001B[38;5;241m=\u001B[39m \u001B[38;5;28mself\u001B[39m\u001B[38;5;241m.\u001B[39mdecoder(steps_out)\n\u001B[1;32m    368\u001B[0m \u001B[38;5;28;01mreturn\u001B[39;00m res, embedded_x, obf_vars\n",
      "File \u001B[0;32m~/miniforge3/envs/tf_mini/lib/python3.8/site-packages/torch/nn/modules/module.py:1110\u001B[0m, in \u001B[0;36mModule._call_impl\u001B[0;34m(self, *input, **kwargs)\u001B[0m\n\u001B[1;32m   1106\u001B[0m \u001B[38;5;66;03m# If we don't have any hooks, we want to skip the rest of the logic in\u001B[39;00m\n\u001B[1;32m   1107\u001B[0m \u001B[38;5;66;03m# this function, and just call forward.\u001B[39;00m\n\u001B[1;32m   1108\u001B[0m \u001B[38;5;28;01mif\u001B[39;00m \u001B[38;5;129;01mnot\u001B[39;00m (\u001B[38;5;28mself\u001B[39m\u001B[38;5;241m.\u001B[39m_backward_hooks \u001B[38;5;129;01mor\u001B[39;00m \u001B[38;5;28mself\u001B[39m\u001B[38;5;241m.\u001B[39m_forward_hooks \u001B[38;5;129;01mor\u001B[39;00m \u001B[38;5;28mself\u001B[39m\u001B[38;5;241m.\u001B[39m_forward_pre_hooks \u001B[38;5;129;01mor\u001B[39;00m _global_backward_hooks\n\u001B[1;32m   1109\u001B[0m         \u001B[38;5;129;01mor\u001B[39;00m _global_forward_hooks \u001B[38;5;129;01mor\u001B[39;00m _global_forward_pre_hooks):\n\u001B[0;32m-> 1110\u001B[0m     \u001B[38;5;28;01mreturn\u001B[39;00m \u001B[43mforward_call\u001B[49m\u001B[43m(\u001B[49m\u001B[38;5;241;43m*\u001B[39;49m\u001B[38;5;28;43minput\u001B[39;49m\u001B[43m,\u001B[49m\u001B[43m \u001B[49m\u001B[38;5;241;43m*\u001B[39;49m\u001B[38;5;241;43m*\u001B[39;49m\u001B[43mkwargs\u001B[49m\u001B[43m)\u001B[49m\n\u001B[1;32m   1111\u001B[0m \u001B[38;5;66;03m# Do not call functions when jit is used\u001B[39;00m\n\u001B[1;32m   1112\u001B[0m full_backward_hooks, non_full_backward_hooks \u001B[38;5;241m=\u001B[39m [], []\n",
      "File \u001B[0;32m~/miniforge3/envs/tf_mini/lib/python3.8/site-packages/pytorch_tabnet/tab_network.py:160\u001B[0m, in \u001B[0;36mTabNetEncoder.forward\u001B[0;34m(self, x, prior)\u001B[0m\n\u001B[1;32m    158\u001B[0m steps_output \u001B[38;5;241m=\u001B[39m []\n\u001B[1;32m    159\u001B[0m \u001B[38;5;28;01mfor\u001B[39;00m step \u001B[38;5;129;01min\u001B[39;00m \u001B[38;5;28mrange\u001B[39m(\u001B[38;5;28mself\u001B[39m\u001B[38;5;241m.\u001B[39mn_steps):\n\u001B[0;32m--> 160\u001B[0m     M \u001B[38;5;241m=\u001B[39m \u001B[38;5;28;43mself\u001B[39;49m\u001B[38;5;241;43m.\u001B[39;49m\u001B[43matt_transformers\u001B[49m\u001B[43m[\u001B[49m\u001B[43mstep\u001B[49m\u001B[43m]\u001B[49m\u001B[43m(\u001B[49m\u001B[43mprior\u001B[49m\u001B[43m,\u001B[49m\u001B[43m \u001B[49m\u001B[43matt\u001B[49m\u001B[43m)\u001B[49m\n\u001B[1;32m    161\u001B[0m     M_loss \u001B[38;5;241m+\u001B[39m\u001B[38;5;241m=\u001B[39m torch\u001B[38;5;241m.\u001B[39mmean(\n\u001B[1;32m    162\u001B[0m         torch\u001B[38;5;241m.\u001B[39msum(torch\u001B[38;5;241m.\u001B[39mmul(M, torch\u001B[38;5;241m.\u001B[39mlog(M \u001B[38;5;241m+\u001B[39m \u001B[38;5;28mself\u001B[39m\u001B[38;5;241m.\u001B[39mepsilon)), dim\u001B[38;5;241m=\u001B[39m\u001B[38;5;241m1\u001B[39m)\n\u001B[1;32m    163\u001B[0m     )\n\u001B[1;32m    164\u001B[0m     \u001B[38;5;66;03m# update prior\u001B[39;00m\n",
      "File \u001B[0;32m~/miniforge3/envs/tf_mini/lib/python3.8/site-packages/torch/nn/modules/module.py:1110\u001B[0m, in \u001B[0;36mModule._call_impl\u001B[0;34m(self, *input, **kwargs)\u001B[0m\n\u001B[1;32m   1106\u001B[0m \u001B[38;5;66;03m# If we don't have any hooks, we want to skip the rest of the logic in\u001B[39;00m\n\u001B[1;32m   1107\u001B[0m \u001B[38;5;66;03m# this function, and just call forward.\u001B[39;00m\n\u001B[1;32m   1108\u001B[0m \u001B[38;5;28;01mif\u001B[39;00m \u001B[38;5;129;01mnot\u001B[39;00m (\u001B[38;5;28mself\u001B[39m\u001B[38;5;241m.\u001B[39m_backward_hooks \u001B[38;5;129;01mor\u001B[39;00m \u001B[38;5;28mself\u001B[39m\u001B[38;5;241m.\u001B[39m_forward_hooks \u001B[38;5;129;01mor\u001B[39;00m \u001B[38;5;28mself\u001B[39m\u001B[38;5;241m.\u001B[39m_forward_pre_hooks \u001B[38;5;129;01mor\u001B[39;00m _global_backward_hooks\n\u001B[1;32m   1109\u001B[0m         \u001B[38;5;129;01mor\u001B[39;00m _global_forward_hooks \u001B[38;5;129;01mor\u001B[39;00m _global_forward_pre_hooks):\n\u001B[0;32m-> 1110\u001B[0m     \u001B[38;5;28;01mreturn\u001B[39;00m \u001B[43mforward_call\u001B[49m\u001B[43m(\u001B[49m\u001B[38;5;241;43m*\u001B[39;49m\u001B[38;5;28;43minput\u001B[39;49m\u001B[43m,\u001B[49m\u001B[43m \u001B[49m\u001B[38;5;241;43m*\u001B[39;49m\u001B[38;5;241;43m*\u001B[39;49m\u001B[43mkwargs\u001B[49m\u001B[43m)\u001B[49m\n\u001B[1;32m   1111\u001B[0m \u001B[38;5;66;03m# Do not call functions when jit is used\u001B[39;00m\n\u001B[1;32m   1112\u001B[0m full_backward_hooks, non_full_backward_hooks \u001B[38;5;241m=\u001B[39m [], []\n",
      "File \u001B[0;32m~/miniforge3/envs/tf_mini/lib/python3.8/site-packages/pytorch_tabnet/tab_network.py:635\u001B[0m, in \u001B[0;36mAttentiveTransformer.forward\u001B[0;34m(self, priors, processed_feat)\u001B[0m\n\u001B[1;32m    633\u001B[0m \u001B[38;5;28;01mdef\u001B[39;00m \u001B[38;5;21mforward\u001B[39m(\u001B[38;5;28mself\u001B[39m, priors, processed_feat):\n\u001B[1;32m    634\u001B[0m     x \u001B[38;5;241m=\u001B[39m \u001B[38;5;28mself\u001B[39m\u001B[38;5;241m.\u001B[39mfc(processed_feat)\n\u001B[0;32m--> 635\u001B[0m     x \u001B[38;5;241m=\u001B[39m \u001B[38;5;28;43mself\u001B[39;49m\u001B[38;5;241;43m.\u001B[39;49m\u001B[43mbn\u001B[49m\u001B[43m(\u001B[49m\u001B[43mx\u001B[49m\u001B[43m)\u001B[49m\n\u001B[1;32m    636\u001B[0m     x \u001B[38;5;241m=\u001B[39m torch\u001B[38;5;241m.\u001B[39mmul(x, priors)\n\u001B[1;32m    637\u001B[0m     x \u001B[38;5;241m=\u001B[39m \u001B[38;5;28mself\u001B[39m\u001B[38;5;241m.\u001B[39mselector(x)\n",
      "File \u001B[0;32m~/miniforge3/envs/tf_mini/lib/python3.8/site-packages/torch/nn/modules/module.py:1110\u001B[0m, in \u001B[0;36mModule._call_impl\u001B[0;34m(self, *input, **kwargs)\u001B[0m\n\u001B[1;32m   1106\u001B[0m \u001B[38;5;66;03m# If we don't have any hooks, we want to skip the rest of the logic in\u001B[39;00m\n\u001B[1;32m   1107\u001B[0m \u001B[38;5;66;03m# this function, and just call forward.\u001B[39;00m\n\u001B[1;32m   1108\u001B[0m \u001B[38;5;28;01mif\u001B[39;00m \u001B[38;5;129;01mnot\u001B[39;00m (\u001B[38;5;28mself\u001B[39m\u001B[38;5;241m.\u001B[39m_backward_hooks \u001B[38;5;129;01mor\u001B[39;00m \u001B[38;5;28mself\u001B[39m\u001B[38;5;241m.\u001B[39m_forward_hooks \u001B[38;5;129;01mor\u001B[39;00m \u001B[38;5;28mself\u001B[39m\u001B[38;5;241m.\u001B[39m_forward_pre_hooks \u001B[38;5;129;01mor\u001B[39;00m _global_backward_hooks\n\u001B[1;32m   1109\u001B[0m         \u001B[38;5;129;01mor\u001B[39;00m _global_forward_hooks \u001B[38;5;129;01mor\u001B[39;00m _global_forward_pre_hooks):\n\u001B[0;32m-> 1110\u001B[0m     \u001B[38;5;28;01mreturn\u001B[39;00m \u001B[43mforward_call\u001B[49m\u001B[43m(\u001B[49m\u001B[38;5;241;43m*\u001B[39;49m\u001B[38;5;28;43minput\u001B[39;49m\u001B[43m,\u001B[49m\u001B[43m \u001B[49m\u001B[38;5;241;43m*\u001B[39;49m\u001B[38;5;241;43m*\u001B[39;49m\u001B[43mkwargs\u001B[49m\u001B[43m)\u001B[49m\n\u001B[1;32m   1111\u001B[0m \u001B[38;5;66;03m# Do not call functions when jit is used\u001B[39;00m\n\u001B[1;32m   1112\u001B[0m full_backward_hooks, non_full_backward_hooks \u001B[38;5;241m=\u001B[39m [], []\n",
      "File \u001B[0;32m~/miniforge3/envs/tf_mini/lib/python3.8/site-packages/pytorch_tabnet/tab_network.py:36\u001B[0m, in \u001B[0;36mGBN.forward\u001B[0;34m(self, x)\u001B[0m\n\u001B[1;32m     34\u001B[0m \u001B[38;5;28;01mdef\u001B[39;00m \u001B[38;5;21mforward\u001B[39m(\u001B[38;5;28mself\u001B[39m, x):\n\u001B[1;32m     35\u001B[0m     chunks \u001B[38;5;241m=\u001B[39m x\u001B[38;5;241m.\u001B[39mchunk(\u001B[38;5;28mint\u001B[39m(np\u001B[38;5;241m.\u001B[39mceil(x\u001B[38;5;241m.\u001B[39mshape[\u001B[38;5;241m0\u001B[39m] \u001B[38;5;241m/\u001B[39m \u001B[38;5;28mself\u001B[39m\u001B[38;5;241m.\u001B[39mvirtual_batch_size)), \u001B[38;5;241m0\u001B[39m)\n\u001B[0;32m---> 36\u001B[0m     res \u001B[38;5;241m=\u001B[39m [\u001B[38;5;28mself\u001B[39m\u001B[38;5;241m.\u001B[39mbn(x_) \u001B[38;5;28;01mfor\u001B[39;00m x_ \u001B[38;5;129;01min\u001B[39;00m chunks]\n\u001B[1;32m     38\u001B[0m     \u001B[38;5;28;01mreturn\u001B[39;00m torch\u001B[38;5;241m.\u001B[39mcat(res, dim\u001B[38;5;241m=\u001B[39m\u001B[38;5;241m0\u001B[39m)\n",
      "File \u001B[0;32m~/miniforge3/envs/tf_mini/lib/python3.8/site-packages/pytorch_tabnet/tab_network.py:36\u001B[0m, in \u001B[0;36m<listcomp>\u001B[0;34m(.0)\u001B[0m\n\u001B[1;32m     34\u001B[0m \u001B[38;5;28;01mdef\u001B[39;00m \u001B[38;5;21mforward\u001B[39m(\u001B[38;5;28mself\u001B[39m, x):\n\u001B[1;32m     35\u001B[0m     chunks \u001B[38;5;241m=\u001B[39m x\u001B[38;5;241m.\u001B[39mchunk(\u001B[38;5;28mint\u001B[39m(np\u001B[38;5;241m.\u001B[39mceil(x\u001B[38;5;241m.\u001B[39mshape[\u001B[38;5;241m0\u001B[39m] \u001B[38;5;241m/\u001B[39m \u001B[38;5;28mself\u001B[39m\u001B[38;5;241m.\u001B[39mvirtual_batch_size)), \u001B[38;5;241m0\u001B[39m)\n\u001B[0;32m---> 36\u001B[0m     res \u001B[38;5;241m=\u001B[39m [\u001B[38;5;28;43mself\u001B[39;49m\u001B[38;5;241;43m.\u001B[39;49m\u001B[43mbn\u001B[49m\u001B[43m(\u001B[49m\u001B[43mx_\u001B[49m\u001B[43m)\u001B[49m \u001B[38;5;28;01mfor\u001B[39;00m x_ \u001B[38;5;129;01min\u001B[39;00m chunks]\n\u001B[1;32m     38\u001B[0m     \u001B[38;5;28;01mreturn\u001B[39;00m torch\u001B[38;5;241m.\u001B[39mcat(res, dim\u001B[38;5;241m=\u001B[39m\u001B[38;5;241m0\u001B[39m)\n",
      "File \u001B[0;32m~/miniforge3/envs/tf_mini/lib/python3.8/site-packages/torch/nn/modules/module.py:1110\u001B[0m, in \u001B[0;36mModule._call_impl\u001B[0;34m(self, *input, **kwargs)\u001B[0m\n\u001B[1;32m   1106\u001B[0m \u001B[38;5;66;03m# If we don't have any hooks, we want to skip the rest of the logic in\u001B[39;00m\n\u001B[1;32m   1107\u001B[0m \u001B[38;5;66;03m# this function, and just call forward.\u001B[39;00m\n\u001B[1;32m   1108\u001B[0m \u001B[38;5;28;01mif\u001B[39;00m \u001B[38;5;129;01mnot\u001B[39;00m (\u001B[38;5;28mself\u001B[39m\u001B[38;5;241m.\u001B[39m_backward_hooks \u001B[38;5;129;01mor\u001B[39;00m \u001B[38;5;28mself\u001B[39m\u001B[38;5;241m.\u001B[39m_forward_hooks \u001B[38;5;129;01mor\u001B[39;00m \u001B[38;5;28mself\u001B[39m\u001B[38;5;241m.\u001B[39m_forward_pre_hooks \u001B[38;5;129;01mor\u001B[39;00m _global_backward_hooks\n\u001B[1;32m   1109\u001B[0m         \u001B[38;5;129;01mor\u001B[39;00m _global_forward_hooks \u001B[38;5;129;01mor\u001B[39;00m _global_forward_pre_hooks):\n\u001B[0;32m-> 1110\u001B[0m     \u001B[38;5;28;01mreturn\u001B[39;00m \u001B[43mforward_call\u001B[49m\u001B[43m(\u001B[49m\u001B[38;5;241;43m*\u001B[39;49m\u001B[38;5;28;43minput\u001B[39;49m\u001B[43m,\u001B[49m\u001B[43m \u001B[49m\u001B[38;5;241;43m*\u001B[39;49m\u001B[38;5;241;43m*\u001B[39;49m\u001B[43mkwargs\u001B[49m\u001B[43m)\u001B[49m\n\u001B[1;32m   1111\u001B[0m \u001B[38;5;66;03m# Do not call functions when jit is used\u001B[39;00m\n\u001B[1;32m   1112\u001B[0m full_backward_hooks, non_full_backward_hooks \u001B[38;5;241m=\u001B[39m [], []\n",
      "File \u001B[0;32m~/miniforge3/envs/tf_mini/lib/python3.8/site-packages/torch/nn/modules/batchnorm.py:168\u001B[0m, in \u001B[0;36m_BatchNorm.forward\u001B[0;34m(self, input)\u001B[0m\n\u001B[1;32m    161\u001B[0m     bn_training \u001B[38;5;241m=\u001B[39m (\u001B[38;5;28mself\u001B[39m\u001B[38;5;241m.\u001B[39mrunning_mean \u001B[38;5;129;01mis\u001B[39;00m \u001B[38;5;28;01mNone\u001B[39;00m) \u001B[38;5;129;01mand\u001B[39;00m (\u001B[38;5;28mself\u001B[39m\u001B[38;5;241m.\u001B[39mrunning_var \u001B[38;5;129;01mis\u001B[39;00m \u001B[38;5;28;01mNone\u001B[39;00m)\n\u001B[1;32m    163\u001B[0m \u001B[38;5;124mr\u001B[39m\u001B[38;5;124;03m\"\"\"\u001B[39;00m\n\u001B[1;32m    164\u001B[0m \u001B[38;5;124;03mBuffers are only updated if they are to be tracked and we are in training mode. Thus they only need to be\u001B[39;00m\n\u001B[1;32m    165\u001B[0m \u001B[38;5;124;03mpassed when the update should occur (i.e. in training mode when they are tracked), or when buffer stats are\u001B[39;00m\n\u001B[1;32m    166\u001B[0m \u001B[38;5;124;03mused for normalization (i.e. in eval mode when buffers are not None).\u001B[39;00m\n\u001B[1;32m    167\u001B[0m \u001B[38;5;124;03m\"\"\"\u001B[39;00m\n\u001B[0;32m--> 168\u001B[0m \u001B[38;5;28;01mreturn\u001B[39;00m \u001B[43mF\u001B[49m\u001B[38;5;241;43m.\u001B[39;49m\u001B[43mbatch_norm\u001B[49m\u001B[43m(\u001B[49m\n\u001B[1;32m    169\u001B[0m \u001B[43m    \u001B[49m\u001B[38;5;28;43minput\u001B[39;49m\u001B[43m,\u001B[49m\n\u001B[1;32m    170\u001B[0m \u001B[43m    \u001B[49m\u001B[38;5;66;43;03m# If buffers are not to be tracked, ensure that they won't be updated\u001B[39;49;00m\n\u001B[1;32m    171\u001B[0m \u001B[43m    \u001B[49m\u001B[38;5;28;43mself\u001B[39;49m\u001B[38;5;241;43m.\u001B[39;49m\u001B[43mrunning_mean\u001B[49m\n\u001B[1;32m    172\u001B[0m \u001B[43m    \u001B[49m\u001B[38;5;28;43;01mif\u001B[39;49;00m\u001B[43m \u001B[49m\u001B[38;5;129;43;01mnot\u001B[39;49;00m\u001B[43m \u001B[49m\u001B[38;5;28;43mself\u001B[39;49m\u001B[38;5;241;43m.\u001B[39;49m\u001B[43mtraining\u001B[49m\u001B[43m \u001B[49m\u001B[38;5;129;43;01mor\u001B[39;49;00m\u001B[43m \u001B[49m\u001B[38;5;28;43mself\u001B[39;49m\u001B[38;5;241;43m.\u001B[39;49m\u001B[43mtrack_running_stats\u001B[49m\n\u001B[1;32m    173\u001B[0m \u001B[43m    \u001B[49m\u001B[38;5;28;43;01melse\u001B[39;49;00m\u001B[43m \u001B[49m\u001B[38;5;28;43;01mNone\u001B[39;49;00m\u001B[43m,\u001B[49m\n\u001B[1;32m    174\u001B[0m \u001B[43m    \u001B[49m\u001B[38;5;28;43mself\u001B[39;49m\u001B[38;5;241;43m.\u001B[39;49m\u001B[43mrunning_var\u001B[49m\u001B[43m \u001B[49m\u001B[38;5;28;43;01mif\u001B[39;49;00m\u001B[43m \u001B[49m\u001B[38;5;129;43;01mnot\u001B[39;49;00m\u001B[43m \u001B[49m\u001B[38;5;28;43mself\u001B[39;49m\u001B[38;5;241;43m.\u001B[39;49m\u001B[43mtraining\u001B[49m\u001B[43m \u001B[49m\u001B[38;5;129;43;01mor\u001B[39;49;00m\u001B[43m \u001B[49m\u001B[38;5;28;43mself\u001B[39;49m\u001B[38;5;241;43m.\u001B[39;49m\u001B[43mtrack_running_stats\u001B[49m\u001B[43m \u001B[49m\u001B[38;5;28;43;01melse\u001B[39;49;00m\u001B[43m \u001B[49m\u001B[38;5;28;43;01mNone\u001B[39;49;00m\u001B[43m,\u001B[49m\n\u001B[1;32m    175\u001B[0m \u001B[43m    \u001B[49m\u001B[38;5;28;43mself\u001B[39;49m\u001B[38;5;241;43m.\u001B[39;49m\u001B[43mweight\u001B[49m\u001B[43m,\u001B[49m\n\u001B[1;32m    176\u001B[0m \u001B[43m    \u001B[49m\u001B[38;5;28;43mself\u001B[39;49m\u001B[38;5;241;43m.\u001B[39;49m\u001B[43mbias\u001B[49m\u001B[43m,\u001B[49m\n\u001B[1;32m    177\u001B[0m \u001B[43m    \u001B[49m\u001B[43mbn_training\u001B[49m\u001B[43m,\u001B[49m\n\u001B[1;32m    178\u001B[0m \u001B[43m    \u001B[49m\u001B[43mexponential_average_factor\u001B[49m\u001B[43m,\u001B[49m\n\u001B[1;32m    179\u001B[0m \u001B[43m    \u001B[49m\u001B[38;5;28;43mself\u001B[39;49m\u001B[38;5;241;43m.\u001B[39;49m\u001B[43meps\u001B[49m\u001B[43m,\u001B[49m\n\u001B[1;32m    180\u001B[0m \u001B[43m\u001B[49m\u001B[43m)\u001B[49m\n",
      "File \u001B[0;32m~/miniforge3/envs/tf_mini/lib/python3.8/site-packages/torch/nn/functional.py:2421\u001B[0m, in \u001B[0;36mbatch_norm\u001B[0;34m(input, running_mean, running_var, weight, bias, training, momentum, eps)\u001B[0m\n\u001B[1;32m   2418\u001B[0m \u001B[38;5;28;01mif\u001B[39;00m training:\n\u001B[1;32m   2419\u001B[0m     _verify_batch_size(\u001B[38;5;28minput\u001B[39m\u001B[38;5;241m.\u001B[39msize())\n\u001B[0;32m-> 2421\u001B[0m \u001B[38;5;28;01mreturn\u001B[39;00m \u001B[43mtorch\u001B[49m\u001B[38;5;241;43m.\u001B[39;49m\u001B[43mbatch_norm\u001B[49m\u001B[43m(\u001B[49m\n\u001B[1;32m   2422\u001B[0m \u001B[43m    \u001B[49m\u001B[38;5;28;43minput\u001B[39;49m\u001B[43m,\u001B[49m\u001B[43m \u001B[49m\u001B[43mweight\u001B[49m\u001B[43m,\u001B[49m\u001B[43m \u001B[49m\u001B[43mbias\u001B[49m\u001B[43m,\u001B[49m\u001B[43m \u001B[49m\u001B[43mrunning_mean\u001B[49m\u001B[43m,\u001B[49m\u001B[43m \u001B[49m\u001B[43mrunning_var\u001B[49m\u001B[43m,\u001B[49m\u001B[43m \u001B[49m\u001B[43mtraining\u001B[49m\u001B[43m,\u001B[49m\u001B[43m \u001B[49m\u001B[43mmomentum\u001B[49m\u001B[43m,\u001B[49m\u001B[43m \u001B[49m\u001B[43meps\u001B[49m\u001B[43m,\u001B[49m\u001B[43m \u001B[49m\u001B[43mtorch\u001B[49m\u001B[38;5;241;43m.\u001B[39;49m\u001B[43mbackends\u001B[49m\u001B[38;5;241;43m.\u001B[39;49m\u001B[43mcudnn\u001B[49m\u001B[38;5;241;43m.\u001B[39;49m\u001B[43menabled\u001B[49m\n\u001B[1;32m   2423\u001B[0m \u001B[43m\u001B[49m\u001B[43m)\u001B[49m\n",
      "\u001B[0;31mKeyboardInterrupt\u001B[0m: "
     ]
    }
   ]
  },
  {
   "cell_type": "code",
   "source": [
    "# feature importance of tabnet\n",
    "print('*** Feature Importance of TABNET ***')\n",
    "for i in range(len(all_col_list)):\n",
    "    print(all_col_list[i], ': ', model_tabnet.model_tabnet.feature_importances_.round(3)[i])"
   ],
   "metadata": {
    "colab": {
     "base_uri": "https://localhost:8080/"
    },
    "id": "dRizcXnuU-RN",
    "executionInfo": {
     "status": "ok",
     "timestamp": 1670420948466,
     "user_tz": -540,
     "elapsed": 13,
     "user": {
      "displayName": "김소담",
      "userId": "17228452721668815195"
     }
    },
    "outputId": "da927a15-030c-4655-a017-ea3bf751a419"
   },
   "execution_count": null,
   "outputs": []
  },
  {
   "cell_type": "code",
   "source": [
    "# check probability of tabnet predict result\n",
    "tabnet_proba.head()"
   ],
   "metadata": {
    "id": "WXWH0FJUUqmR",
    "colab": {
     "base_uri": "https://localhost:8080/",
     "height": 206
    },
    "executionInfo": {
     "status": "ok",
     "timestamp": 1670420948466,
     "user_tz": -540,
     "elapsed": 10,
     "user": {
      "displayName": "김소담",
      "userId": "17228452721668815195"
     }
    },
    "outputId": "a730b903-07f7-4243-e19c-33c58fb43ad8"
   },
   "execution_count": null,
   "outputs": []
  },
  {
   "cell_type": "markdown",
   "source": [
    "### SMOTENC"
   ],
   "metadata": {
    "id": "edXoAdMnhi6g"
   }
  },
  {
   "cell_type": "code",
   "source": [
    "model_tabnet_smtnc = ModelTabnet(\n",
    "    dfs_train=train,\n",
    "    dfs_test=test,\n",
    "    dfs_sampled=train_smtnc,\n",
    ")\n",
    "tabnet_proba_smtnc = model_tabnet_smtnc.predicted_proba"
   ],
   "metadata": {
    "id": "91BpjjQZhpEF",
    "colab": {
     "base_uri": "https://localhost:8080/"
    },
    "executionInfo": {
     "status": "ok",
     "timestamp": 1670421634299,
     "user_tz": -540,
     "elapsed": 685842,
     "user": {
      "displayName": "김소담",
      "userId": "17228452721668815195"
     }
    },
    "outputId": "7b046906-9170-495e-8d16-25321eb291f3"
   },
   "execution_count": null,
   "outputs": []
  },
  {
   "cell_type": "code",
   "source": [
    "# feature importance of tabnet x SMOTENC\n",
    "print('*** Feature Importance of TABNET x SMOTENC ***')\n",
    "for i in range(len(all_col_list)):\n",
    "    print(all_col_list[i], ': ', model_tabnet_smtnc.model_tabnet.feature_importances_.round(3)[i])"
   ],
   "metadata": {
    "id": "OGdjxKukho73",
    "colab": {
     "base_uri": "https://localhost:8080/"
    },
    "executionInfo": {
     "status": "ok",
     "timestamp": 1670421634300,
     "user_tz": -540,
     "elapsed": 13,
     "user": {
      "displayName": "김소담",
      "userId": "17228452721668815195"
     }
    },
    "outputId": "ae90d0ce-7c31-416d-97a8-50b2a251596e"
   },
   "execution_count": null,
   "outputs": []
  },
  {
   "cell_type": "code",
   "source": [
    "tabnet_proba_smtnc.head()"
   ],
   "metadata": {
    "id": "w4VeuWTsho0b",
    "colab": {
     "base_uri": "https://localhost:8080/",
     "height": 206
    },
    "executionInfo": {
     "status": "ok",
     "timestamp": 1670421634301,
     "user_tz": -540,
     "elapsed": 11,
     "user": {
      "displayName": "김소담",
      "userId": "17228452721668815195"
     }
    },
    "outputId": "873c612f-88d5-4c0d-c5a2-b727fc9a60af"
   },
   "execution_count": null,
   "outputs": []
  },
  {
   "cell_type": "markdown",
   "source": [
    "### SMOTE + Tomeklink"
   ],
   "metadata": {
    "id": "snjmzxX0i0ZA"
   }
  },
  {
   "cell_type": "code",
   "source": [
    "model_tabnet_smttm = ModelTabnet(\n",
    "    dfs_train=train,\n",
    "    dfs_test=test,\n",
    "    dfs_sampled=train_smttm,\n",
    ")\n",
    "tabnet_proba_smttm = model_tabnet_smttm.predicted_proba"
   ],
   "metadata": {
    "id": "ZRjCAkpDi5Gp",
    "colab": {
     "base_uri": "https://localhost:8080/"
    },
    "executionInfo": {
     "status": "ok",
     "timestamp": 1670422286181,
     "user_tz": -540,
     "elapsed": 651889,
     "user": {
      "displayName": "김소담",
      "userId": "17228452721668815195"
     }
    },
    "outputId": "f07d8527-5fbf-42df-9820-de2810dc48a8"
   },
   "execution_count": null,
   "outputs": []
  },
  {
   "cell_type": "code",
   "source": [
    "# feature importance of tabnet X SMOTETOMEK\n",
    "print('*** Feature Importance of TABNET X SMOTETOMEK ***')\n",
    "for i in range(len(all_col_list)):\n",
    "    print(all_col_list[i], ': ', model_tabnet_smttm.model_tabnet.feature_importances_.round(3)[i])"
   ],
   "metadata": {
    "id": "gsScIbHGi4_h",
    "colab": {
     "base_uri": "https://localhost:8080/"
    },
    "executionInfo": {
     "status": "ok",
     "timestamp": 1670422286181,
     "user_tz": -540,
     "elapsed": 11,
     "user": {
      "displayName": "김소담",
      "userId": "17228452721668815195"
     }
    },
    "outputId": "dac6766e-d16e-4503-94ed-2794e283eb84"
   },
   "execution_count": null,
   "outputs": []
  },
  {
   "cell_type": "code",
   "source": [
    "tabnet_proba_smttm.head()"
   ],
   "metadata": {
    "id": "4hlPqF-ei451",
    "colab": {
     "base_uri": "https://localhost:8080/",
     "height": 206
    },
    "executionInfo": {
     "status": "ok",
     "timestamp": 1670422286182,
     "user_tz": -540,
     "elapsed": 9,
     "user": {
      "displayName": "김소담",
      "userId": "17228452721668815195"
     }
    },
    "outputId": "b42361dc-aead-4e10-bc51-9d050c9e995d"
   },
   "execution_count": null,
   "outputs": []
  },
  {
   "cell_type": "markdown",
   "source": [
    "### GAN"
   ],
   "metadata": {
    "id": "FJpzqlBli5l6"
   }
  },
  {
   "cell_type": "code",
   "source": [
    "model_tabnet_gan = ModelTabnet(\n",
    "    dfs_train=train,\n",
    "    dfs_test=test,\n",
    "    dfs_sampled=train_gan,\n",
    ")\n",
    "tabnet_proba_gan = model_tabnet_gan.predicted_proba"
   ],
   "metadata": {
    "id": "UBPIosnTi7ww",
    "colab": {
     "base_uri": "https://localhost:8080/"
    },
    "executionInfo": {
     "status": "ok",
     "timestamp": 1670422890884,
     "user_tz": -540,
     "elapsed": 604710,
     "user": {
      "displayName": "김소담",
      "userId": "17228452721668815195"
     }
    },
    "outputId": "ddb2cc3a-5e7f-4fb8-8c7f-b999b8df6aaa"
   },
   "execution_count": null,
   "outputs": []
  },
  {
   "cell_type": "code",
   "source": [
    "# feature importance of tabnet X GAN\n",
    "print('*** Feature Importance of TABNET X GAN ***')\n",
    "for i in range(len(all_col_list)):\n",
    "    print(all_col_list[i], ': ', model_tabnet_gan.model_tabnet.feature_importances_.round(3)[i])"
   ],
   "metadata": {
    "id": "2VyVCQjSi7qO",
    "colab": {
     "base_uri": "https://localhost:8080/"
    },
    "executionInfo": {
     "status": "ok",
     "timestamp": 1670422890884,
     "user_tz": -540,
     "elapsed": 12,
     "user": {
      "displayName": "김소담",
      "userId": "17228452721668815195"
     }
    },
    "outputId": "293c4a5f-5b87-448f-f29b-d6bef55434d7"
   },
   "execution_count": null,
   "outputs": []
  },
  {
   "cell_type": "code",
   "source": [
    "tabnet_proba_gan.head()"
   ],
   "metadata": {
    "id": "t_CNfTnUi7kj",
    "colab": {
     "base_uri": "https://localhost:8080/",
     "height": 206
    },
    "executionInfo": {
     "status": "ok",
     "timestamp": 1670422890885,
     "user_tz": -540,
     "elapsed": 7,
     "user": {
      "displayName": "김소담",
      "userId": "17228452721668815195"
     }
    },
    "outputId": "592e2544-604a-4052-e957-b7ad20dcf7fe"
   },
   "execution_count": null,
   "outputs": []
  },
  {
   "cell_type": "markdown",
   "source": [
    "### Select Best Model with TABNET"
   ],
   "metadata": {
    "id": "_IjgrZX7jpEO"
   }
  },
  {
   "cell_type": "code",
   "source": [
    "# acc_vanilla = accuracy_score(test['Credit_Score'], model_tabnet.predict['predict'])\n",
    "# acc_smtnc = accuracy_score(test['Credit_Score'], model_tabnet_smtnc.predict['predict'])\n",
    "# acc_smttm = accuracy_score(test['Credit_Score'], model_tabnet_smttm.predict['predict'])\n",
    "# acc_gan = accuracy_score(test['Credit_Score'], model_tabnet_gan.predict['predict'])\n",
    "\n",
    "acc_vanilla = f1_score(test['Credit_Score'], model_tabnet.predict['predict'], average='macro')\n",
    "acc_smtnc = f1_score(test['Credit_Score'], model_tabnet_smtnc.predict['predict'], average='macro')\n",
    "acc_smttm = f1_score(test['Credit_Score'], model_tabnet_smttm.predict['predict'], average='macro')\n",
    "acc_gan = f1_score(test['Credit_Score'], model_tabnet_gan.predict['predict'], average='macro')\n",
    "\n",
    "accuracy_dict = {\n",
    "    'Vanilla': acc_vanilla,\n",
    "    'SMOTENC': acc_smtnc,\n",
    "    'SMOTETOMEK': acc_smttm,\n",
    "    'GAN': acc_gan,\n",
    "}\n",
    "best_acc = max(accuracy_dict.values())\n",
    "best_model_idx = list(accuracy_dict.values()).index(best_acc)\n",
    "best_model = list(accuracy_dict.keys())[best_model_idx]\n",
    "# print('Best TABNET accuracy is ', best_acc, 'with ', best_model)\n",
    "print('Best TABNET f1 score is ', best_acc, 'with ', best_model)\n",
    "\n",
    "if best_model == 'Vanilla':\n",
    "    best_tabnet = model_tabnet\n",
    "elif best_model == 'SMOTENC':\n",
    "    best_tabnet = model_tabnet_smtnc\n",
    "elif best_model == 'SMOTETOMEK':\n",
    "    best_tabnet = model_tabnet_smttm\n",
    "else:\n",
    "    best_tabnet = model_tabnet_gan"
   ],
   "metadata": {
    "id": "xppIojwhjr0A",
    "colab": {
     "base_uri": "https://localhost:8080/"
    },
    "executionInfo": {
     "status": "ok",
     "timestamp": 1670422943280,
     "user_tz": -540,
     "elapsed": 4,
     "user": {
      "displayName": "김소담",
      "userId": "17228452721668815195"
     }
    },
    "outputId": "4b395328-2768-453e-8a32-5319ca088b1d"
   },
   "execution_count": null,
   "outputs": []
  },
  {
   "cell_type": "markdown",
   "source": [
    "## RF"
   ],
   "metadata": {
    "id": "7lfr3-UjPk2y"
   }
  },
  {
   "cell_type": "markdown",
   "source": [
    "### Vanilla"
   ],
   "metadata": {
    "id": "jzcqBFCzcJIu"
   }
  },
  {
   "cell_type": "code",
   "source": [
    "model_forest = ModelForest(\n",
    "    train,\n",
    "    test,\n",
    "    \"plain\"\n",
    ")\n",
    "result_forest = model_forest.predict_proba"
   ],
   "metadata": {
    "id": "1wwhDsz5PmPf",
    "executionInfo": {
     "status": "ok",
     "timestamp": 1670423017909,
     "user_tz": -540,
     "elapsed": 18485,
     "user": {
      "displayName": "김소담",
      "userId": "17228452721668815195"
     }
    }
   },
   "execution_count": null,
   "outputs": []
  },
  {
   "cell_type": "code",
   "source": [
    "# feature importance\n",
    "print('*** Feature Importance of RandomForest ***')\n",
    "for i in range(len(all_col_list)):\n",
    "    print(all_col_list[i], ': ', model_forest.feature_importance.round(3)[i])"
   ],
   "metadata": {
    "id": "zrGRtTzzcH1x",
    "colab": {
     "base_uri": "https://localhost:8080/"
    },
    "executionInfo": {
     "status": "ok",
     "timestamp": 1670423017910,
     "user_tz": -540,
     "elapsed": 11,
     "user": {
      "displayName": "김소담",
      "userId": "17228452721668815195"
     }
    },
    "outputId": "916b3176-cc75-47c5-d742-cd635022a47c"
   },
   "execution_count": null,
   "outputs": []
  },
  {
   "cell_type": "code",
   "source": [
    "result_forest.head()"
   ],
   "metadata": {
    "id": "O3tBuY4UcGvd",
    "colab": {
     "base_uri": "https://localhost:8080/",
     "height": 206
    },
    "executionInfo": {
     "status": "ok",
     "timestamp": 1670423017910,
     "user_tz": -540,
     "elapsed": 9,
     "user": {
      "displayName": "김소담",
      "userId": "17228452721668815195"
     }
    },
    "outputId": "4648c30d-bed8-4e71-dfd9-e732f81859ee"
   },
   "execution_count": null,
   "outputs": []
  },
  {
   "cell_type": "markdown",
   "source": [
    "### SmoteNC"
   ],
   "metadata": {
    "id": "RUgXNdLzcO7w"
   }
  },
  {
   "cell_type": "code",
   "source": [
    "model_forest_smtnc = ModelForest(\n",
    "    train_smtnc,\n",
    "    test, \n",
    "    \"plain\"\n",
    ")\n",
    "forest_proba_smtnc = model_forest_smtnc.predict_proba"
   ],
   "metadata": {
    "id": "9pLpuC7UcGnb",
    "executionInfo": {
     "status": "ok",
     "timestamp": 1670423058607,
     "user_tz": -540,
     "elapsed": 40704,
     "user": {
      "displayName": "김소담",
      "userId": "17228452721668815195"
     }
    }
   },
   "execution_count": null,
   "outputs": []
  },
  {
   "cell_type": "code",
   "source": [
    "# feature importance\n",
    "print('*** Feature Importance of RandomForest x SMOTETNC ***')\n",
    "for i in range(len(all_col_list)):\n",
    "    print(all_col_list[i], ': ', model_forest_smtnc.feature_importance.round(3)[i])"
   ],
   "metadata": {
    "id": "XjeiovUQcGfK",
    "colab": {
     "base_uri": "https://localhost:8080/"
    },
    "executionInfo": {
     "status": "ok",
     "timestamp": 1670423058607,
     "user_tz": -540,
     "elapsed": 19,
     "user": {
      "displayName": "김소담",
      "userId": "17228452721668815195"
     }
    },
    "outputId": "35123e8c-9536-46af-9025-3aafca9e3e99"
   },
   "execution_count": null,
   "outputs": []
  },
  {
   "cell_type": "code",
   "source": [
    "forest_proba_smtnc.head()"
   ],
   "metadata": {
    "id": "9qHnVXJ3i_X-",
    "colab": {
     "base_uri": "https://localhost:8080/",
     "height": 206
    },
    "executionInfo": {
     "status": "ok",
     "timestamp": 1670423058607,
     "user_tz": -540,
     "elapsed": 17,
     "user": {
      "displayName": "김소담",
      "userId": "17228452721668815195"
     }
    },
    "outputId": "f8d0e7a3-7ab1-4979-b3ca-6b46a94cdbaf"
   },
   "execution_count": null,
   "outputs": []
  },
  {
   "cell_type": "markdown",
   "source": [
    "### SMOTE + Tomeklink"
   ],
   "metadata": {
    "id": "jFt1TNF5jDP4"
   }
  },
  {
   "cell_type": "code",
   "source": [
    "model_forest_smttm = ModelForest(\n",
    "    train_smttm,\n",
    "    test ,\n",
    "    \"plain\"\n",
    ")\n",
    "forest_proba_smttm = model_forest_smttm.predict_proba"
   ],
   "metadata": {
    "id": "5EMqUmd2jGha",
    "executionInfo": {
     "status": "ok",
     "timestamp": 1670423091871,
     "user_tz": -540,
     "elapsed": 33280,
     "user": {
      "displayName": "김소담",
      "userId": "17228452721668815195"
     }
    }
   },
   "execution_count": null,
   "outputs": []
  },
  {
   "cell_type": "code",
   "source": [
    "# feature importance\n",
    "print('*** Feature Importance of RandomForest x SMOTETOMEK ***')\n",
    "for i in range(len(all_col_list)):\n",
    "    print(all_col_list[i], ': ', model_forest_smttm.feature_importance.round(3)[i])"
   ],
   "metadata": {
    "id": "lTiUON1NjGap",
    "colab": {
     "base_uri": "https://localhost:8080/"
    },
    "executionInfo": {
     "status": "ok",
     "timestamp": 1670423091873,
     "user_tz": -540,
     "elapsed": 21,
     "user": {
      "displayName": "김소담",
      "userId": "17228452721668815195"
     }
    },
    "outputId": "3fa02f80-e941-4436-f714-fef6dc965058"
   },
   "execution_count": null,
   "outputs": []
  },
  {
   "cell_type": "code",
   "source": [
    "forest_proba_smttm.head()"
   ],
   "metadata": {
    "id": "7TsLkGOwjGTz",
    "colab": {
     "base_uri": "https://localhost:8080/",
     "height": 206
    },
    "executionInfo": {
     "status": "ok",
     "timestamp": 1670423091874,
     "user_tz": -540,
     "elapsed": 19,
     "user": {
      "displayName": "김소담",
      "userId": "17228452721668815195"
     }
    },
    "outputId": "bfa5a5f3-fea1-4b90-baee-9cb218719280"
   },
   "execution_count": null,
   "outputs": []
  },
  {
   "cell_type": "markdown",
   "source": [
    "### GAN"
   ],
   "metadata": {
    "id": "EONhzDh3jHBK"
   }
  },
  {
   "cell_type": "code",
   "source": [
    "model_forest_gan = ModelForest(\n",
    "    train_gan,\n",
    "    test,\n",
    "    \"plain\"\n",
    ")\n",
    "forest_proba_gan = model_forest_gan.predict_proba"
   ],
   "metadata": {
    "id": "K-DlDrigjIa0",
    "executionInfo": {
     "status": "ok",
     "timestamp": 1670423122677,
     "user_tz": -540,
     "elapsed": 30821,
     "user": {
      "displayName": "김소담",
      "userId": "17228452721668815195"
     }
    }
   },
   "execution_count": null,
   "outputs": []
  },
  {
   "cell_type": "code",
   "source": [
    "# feature importance\n",
    "print('*** Feature Importance of RandomForest x GAN ***')\n",
    "for i in range(len(all_col_list)):\n",
    "    print(all_col_list[i], ': ', model_forest_gan.feature_importance.round(3)[i])"
   ],
   "metadata": {
    "id": "bu6xKV_-jIT6",
    "colab": {
     "base_uri": "https://localhost:8080/"
    },
    "executionInfo": {
     "status": "ok",
     "timestamp": 1670423122677,
     "user_tz": -540,
     "elapsed": 7,
     "user": {
      "displayName": "김소담",
      "userId": "17228452721668815195"
     }
    },
    "outputId": "f2c20105-1b83-4e81-c402-1a0f7d675e91"
   },
   "execution_count": null,
   "outputs": []
  },
  {
   "cell_type": "code",
   "source": [
    "forest_proba_gan.head()"
   ],
   "metadata": {
    "id": "qumTZax1jINE",
    "colab": {
     "base_uri": "https://localhost:8080/",
     "height": 206
    },
    "executionInfo": {
     "status": "ok",
     "timestamp": 1670423122677,
     "user_tz": -540,
     "elapsed": 6,
     "user": {
      "displayName": "김소담",
      "userId": "17228452721668815195"
     }
    },
    "outputId": "68c0eecb-c277-4eca-868a-5b8048ef659d"
   },
   "execution_count": null,
   "outputs": []
  },
  {
   "cell_type": "markdown",
   "source": [
    "### Select Best Model with RF"
   ],
   "metadata": {
    "id": "ZX9sRnhhjfTY"
   }
  },
  {
   "cell_type": "code",
   "source": [
    "# acc_vanilla = accuracy_score(test['Credit_Score'], model_forest.predict['predict'])\n",
    "# acc_smtnc = accuracy_score(test['Credit_Score'], model_forest_smtnc.predict['predict'])\n",
    "# acc_smttm = accuracy_score(test['Credit_Score'], model_forest_smttm.predict['predict'])\n",
    "# acc_gan = accuracy_score(test['Credit_Score'], model_forest_gan.predict['predict'])\n",
    "\n",
    "acc_vanilla = f1_score(test['Credit_Score'], model_forest.predict['predict'], average='macro')\n",
    "acc_smtnc = f1_score(test['Credit_Score'], model_forest_smtnc.predict['predict'], average='macro')\n",
    "acc_smttm = f1_score(test['Credit_Score'], model_forest_smttm.predict['predict'], average='macro')\n",
    "acc_gan = f1_score(test['Credit_Score'], model_forest_gan.predict['predict'], average='macro')\n",
    "\n",
    "accuracy_dict = {\n",
    "    'Vanilla': acc_vanilla,\n",
    "    'SMOTENC': acc_smtnc,\n",
    "    'SMOTETOMEK': acc_smttm,\n",
    "    'GAN': acc_gan\n",
    "}\n",
    "best_acc = max(accuracy_dict.values())\n",
    "best_model_idx = list(accuracy_dict.values()).index(best_acc)\n",
    "best_model = list(accuracy_dict.keys())[best_model_idx]\n",
    "print('Best RANDOM FOREST f1 score is ', best_acc, 'with ', best_model)\n",
    "\n",
    "if best_model == 'Vanilla':\n",
    "    best_rf = model_forest\n",
    "elif best_model == 'SMOTENC':\n",
    "    best_rf = model_forest_smtnc\n",
    "elif best_model =='GAN':\n",
    "    best_rf = model_forest_gan\n",
    "else:\n",
    "    best_rf = model_forest_smttm"
   ],
   "metadata": {
    "id": "l2EwuEdCjkKn",
    "colab": {
     "base_uri": "https://localhost:8080/"
    },
    "executionInfo": {
     "status": "ok",
     "timestamp": 1670423123845,
     "user_tz": -540,
     "elapsed": 3,
     "user": {
      "displayName": "김소담",
      "userId": "17228452721668815195"
     }
    },
    "outputId": "0298ee0c-f9fb-4182-f4d4-213b0f825072"
   },
   "execution_count": null,
   "outputs": []
  },
  {
   "cell_type": "markdown",
   "source": [
    "## CatBoost"
   ],
   "metadata": {
    "id": "qlk4vC9KPmoe"
   }
  },
  {
   "cell_type": "markdown",
   "source": [
    "### Vanilla"
   ],
   "metadata": {
    "id": "5sYlXt51jLd_"
   }
  },
  {
   "cell_type": "code",
   "source": [
    "model_catboost = ModelCatBoost(\n",
    "    train,\n",
    "    test,\n",
    "    \"optimize\"\n",
    ")"
   ],
   "metadata": {
    "id": "Xs-_GkF3Ppdh",
    "colab": {
     "base_uri": "https://localhost:8080/"
    },
    "executionInfo": {
     "status": "ok",
     "timestamp": 1670424024512,
     "user_tz": -540,
     "elapsed": 900669,
     "user": {
      "displayName": "김소담",
      "userId": "17228452721668815195"
     }
    },
    "outputId": "b7eabe9c-5ea6-4f34-f0d5-d20d8a09b705"
   },
   "execution_count": null,
   "outputs": []
  },
  {
   "cell_type": "code",
   "source": [
    "print('*** Feature Importance of CatBoost ***')\n",
    "for i in range(len(all_col_list)):\n",
    "    print(all_col_list[i], ': ', model_catboost.feature_importance.round(3)[i])"
   ],
   "metadata": {
    "id": "nP9G-vsvjPb4",
    "colab": {
     "base_uri": "https://localhost:8080/"
    },
    "executionInfo": {
     "status": "ok",
     "timestamp": 1670424024515,
     "user_tz": -540,
     "elapsed": 13,
     "user": {
      "displayName": "김소담",
      "userId": "17228452721668815195"
     }
    },
    "outputId": "771ecfb7-0450-4af8-9bcc-b3f23b288dcb"
   },
   "execution_count": null,
   "outputs": []
  },
  {
   "cell_type": "code",
   "source": [
    "result_catboost = model_catboost.predict_proba\n",
    "result_catboost.head()"
   ],
   "metadata": {
    "id": "SvSEyYMNLgJH",
    "colab": {
     "base_uri": "https://localhost:8080/",
     "height": 206
    },
    "executionInfo": {
     "status": "ok",
     "timestamp": 1670424024516,
     "user_tz": -540,
     "elapsed": 12,
     "user": {
      "displayName": "김소담",
      "userId": "17228452721668815195"
     }
    },
    "outputId": "7e1119a3-14bc-4f3c-c011-0fc7f99f5ed0"
   },
   "execution_count": null,
   "outputs": []
  },
  {
   "cell_type": "markdown",
   "source": [
    "### SMOTENC"
   ],
   "metadata": {
    "id": "K5EqRE7gjP9m"
   }
  },
  {
   "cell_type": "code",
   "source": [
    "model_cat_smtnc = ModelCatBoost(\n",
    "    train_smtnc,\n",
    "    test,'optimize'\n",
    ")\n",
    "cat_proba_smtnc = model_cat_smtnc.predict_proba"
   ],
   "metadata": {
    "id": "h49XmZupjRzB",
    "colab": {
     "base_uri": "https://localhost:8080/"
    },
    "executionInfo": {
     "status": "ok",
     "timestamp": 1670425573515,
     "user_tz": -540,
     "elapsed": 1549010,
     "user": {
      "displayName": "김소담",
      "userId": "17228452721668815195"
     }
    },
    "outputId": "25235268-ec04-49e6-bb95-528f874ebcb7"
   },
   "execution_count": null,
   "outputs": []
  },
  {
   "cell_type": "code",
   "source": [
    "# feature importance\n",
    "print('*** Feature Importance of CATBOOST x SMOTETNC ***')\n",
    "for i in range(len(all_col_list)):\n",
    "    print(all_col_list[i], ': ', model_cat_smtnc.feature_importance.round(3)[i])"
   ],
   "metadata": {
    "id": "WnLFfobGjRsm",
    "colab": {
     "base_uri": "https://localhost:8080/"
    },
    "executionInfo": {
     "status": "ok",
     "timestamp": 1670425573518,
     "user_tz": -540,
     "elapsed": 10,
     "user": {
      "displayName": "김소담",
      "userId": "17228452721668815195"
     }
    },
    "outputId": "1f28b31d-95a7-48c2-cdc0-ef15b4d8f002"
   },
   "execution_count": null,
   "outputs": []
  },
  {
   "cell_type": "code",
   "source": [
    "cat_proba_smtnc.head()"
   ],
   "metadata": {
    "id": "iLdgUTeSjRmB",
    "colab": {
     "base_uri": "https://localhost:8080/",
     "height": 206
    },
    "executionInfo": {
     "status": "ok",
     "timestamp": 1670425573518,
     "user_tz": -540,
     "elapsed": 8,
     "user": {
      "displayName": "김소담",
      "userId": "17228452721668815195"
     }
    },
    "outputId": "f188068a-853f-4961-c559-1f2983cea6b0"
   },
   "execution_count": null,
   "outputs": []
  },
  {
   "cell_type": "markdown",
   "source": [
    "### SMOTE + Tomeklink"
   ],
   "metadata": {
    "id": "BiEO0b9YjSGo"
   }
  },
  {
   "cell_type": "code",
   "source": [
    "model_cat_smttm = ModelCatBoost(\n",
    "    train_smttm,\n",
    "    test,'optimize'\n",
    ")\n",
    "cat_proba_smttm = model_cat_smttm.predict_proba"
   ],
   "metadata": {
    "id": "j53m8DEwjU8i",
    "colab": {
     "base_uri": "https://localhost:8080/"
    },
    "executionInfo": {
     "status": "ok",
     "timestamp": 1670427081943,
     "user_tz": -540,
     "elapsed": 1508432,
     "user": {
      "displayName": "김소담",
      "userId": "17228452721668815195"
     }
    },
    "outputId": "cc403d18-9fa6-4867-c19d-c7fbe119c626"
   },
   "execution_count": null,
   "outputs": []
  },
  {
   "cell_type": "code",
   "source": [
    "# feature importance\n",
    "print('*** Feature Importance of CATBOOST x SMOTETOMEK ***')\n",
    "for i in range(len(all_col_list)):\n",
    "    print(all_col_list[i], ': ', model_cat_smttm.feature_importance.round(3)[i])"
   ],
   "metadata": {
    "id": "V4HoQsCsjU1q",
    "colab": {
     "base_uri": "https://localhost:8080/"
    },
    "executionInfo": {
     "status": "ok",
     "timestamp": 1670427081944,
     "user_tz": -540,
     "elapsed": 23,
     "user": {
      "displayName": "김소담",
      "userId": "17228452721668815195"
     }
    },
    "outputId": "e9c5b3c3-0a8e-427a-ca71-22e190477c9b"
   },
   "execution_count": null,
   "outputs": []
  },
  {
   "cell_type": "code",
   "source": [
    "cat_proba_smttm.head()"
   ],
   "metadata": {
    "id": "nmf1JTR-jUu9",
    "colab": {
     "base_uri": "https://localhost:8080/",
     "height": 206
    },
    "executionInfo": {
     "status": "ok",
     "timestamp": 1670427081944,
     "user_tz": -540,
     "elapsed": 8,
     "user": {
      "displayName": "김소담",
      "userId": "17228452721668815195"
     }
    },
    "outputId": "36dc0800-27ab-42a1-fde1-8d2e5b051189"
   },
   "execution_count": null,
   "outputs": []
  },
  {
   "cell_type": "markdown",
   "source": [
    "### GAN"
   ],
   "metadata": {
    "id": "8dGfhViJjVdI"
   }
  },
  {
   "cell_type": "code",
   "source": [
    "model_cat_gan = ModelCatBoost(\n",
    "    train_gan,\n",
    "    test,'optimize'\n",
    ")\n",
    "cat_proba_gan = model_cat_gan.predict_proba"
   ],
   "metadata": {
    "id": "lJqTChpBjWy8",
    "colab": {
     "base_uri": "https://localhost:8080/"
    },
    "executionInfo": {
     "status": "ok",
     "timestamp": 1670428547813,
     "user_tz": -540,
     "elapsed": 1465876,
     "user": {
      "displayName": "김소담",
      "userId": "17228452721668815195"
     }
    },
    "outputId": "6804b6ed-1320-4358-9e6f-85cc264a72b6"
   },
   "execution_count": null,
   "outputs": []
  },
  {
   "cell_type": "code",
   "source": [
    "# feature importance\n",
    "print('*** Feature Importance of CATBOOST x GAN ***')\n",
    "for i in range(len(all_col_list)):\n",
    "    print(all_col_list[i], ': ', model_cat_gan.feature_importance.round(3)[i])"
   ],
   "metadata": {
    "id": "wvxKl-hbjWss",
    "colab": {
     "base_uri": "https://localhost:8080/"
    },
    "executionInfo": {
     "status": "ok",
     "timestamp": 1670428547816,
     "user_tz": -540,
     "elapsed": 16,
     "user": {
      "displayName": "김소담",
      "userId": "17228452721668815195"
     }
    },
    "outputId": "499dd0e4-2b1a-4388-e24f-456f94c75255"
   },
   "execution_count": null,
   "outputs": []
  },
  {
   "cell_type": "code",
   "source": [
    "cat_proba_gan.head()"
   ],
   "metadata": {
    "id": "oHoVF-rwjWlL",
    "colab": {
     "base_uri": "https://localhost:8080/",
     "height": 206
    },
    "executionInfo": {
     "status": "ok",
     "timestamp": 1670428547816,
     "user_tz": -540,
     "elapsed": 14,
     "user": {
      "displayName": "김소담",
      "userId": "17228452721668815195"
     }
    },
    "outputId": "f206744f-9bb2-41f7-dd91-a4e4e13dd9bf"
   },
   "execution_count": null,
   "outputs": []
  },
  {
   "cell_type": "markdown",
   "source": [
    "### Select Best Model with CatBoot"
   ],
   "metadata": {
    "id": "lwdm5ge4jvPE"
   }
  },
  {
   "cell_type": "code",
   "source": [
    "# acc_vanilla = accuracy_score(test['Credit_Score'], model_catboost.predict['predict'])\n",
    "# acc_smtnc = accuracy_score(test['Credit_Score'], model_cat_smtnc.predict['predict'])\n",
    "# acc_smttm = accuracy_score(test['Credit_Score'], model_cat_smttm.predict['predict'])\n",
    "# acc_gan = accuracy_score(test['Credit_Score'], model_cat_gan.predict['predict'])\n",
    "\n",
    "acc_vanilla = f1_score(test['Credit_Score'], model_catboost.predict['predict'], average='macro')\n",
    "acc_smtnc = f1_score(test['Credit_Score'], model_cat_smtnc.predict['predict'], average='macro')\n",
    "acc_smttm = f1_score(test['Credit_Score'], model_cat_smttm.predict['predict'], average='macro')\n",
    "acc_gan = f1_score(test['Credit_Score'], model_cat_gan.predict['predict'], average='macro')\n",
    "\n",
    "accuracy_dict = {\n",
    "    'Vanilla': acc_vanilla,\n",
    "    'SMOTENC': acc_smtnc,\n",
    "    'SMOTETOMEK': acc_smttm,\n",
    "    'GAN' : acc_gan\n",
    "}\n",
    "best_acc = max(accuracy_dict.values())\n",
    "best_model_idx = list(accuracy_dict.values()).index(best_acc)\n",
    "best_model = list(accuracy_dict.keys())[best_model_idx]\n",
    "print('Best CATBOOST f1 score is ', best_acc, 'with ', best_model)\n",
    "\n",
    "if best_model == 'Vanilla':\n",
    "    best_cat = model_catboost\n",
    "elif best_model == 'SMOTENC':\n",
    "    best_cat = model_cat_smtnc\n",
    "elif best_model == 'GAN':\n",
    "    best_cat = model_cat_gan\n",
    "else:\n",
    "    best_cat = model_cat_smttm"
   ],
   "metadata": {
    "id": "ai8RnasIjyyD",
    "colab": {
     "base_uri": "https://localhost:8080/"
    },
    "executionInfo": {
     "status": "ok",
     "timestamp": 1670428548960,
     "user_tz": -540,
     "elapsed": 3,
     "user": {
      "displayName": "김소담",
      "userId": "17228452721668815195"
     }
    },
    "outputId": "77d4ce27-067d-4ba5-fc9a-14173ebe1a4e"
   },
   "execution_count": null,
   "outputs": []
  },
  {
   "cell_type": "markdown",
   "source": [
    "# Ensemble\n",
    "- Ensemble with Best 3 Models From TABNET, RF, CatBoost individually"
   ],
   "metadata": {
    "id": "jCmuBV0kPp9B"
   }
  },
  {
   "cell_type": "markdown",
   "source": [
    "## Hard Voting"
   ],
   "metadata": {
    "id": "R51WBjNoPs7b"
   }
  },
  {
   "cell_type": "code",
   "source": [
    "# proba concat (25000 * 3)\n",
    "merge_proba = pd.concat([best_tabnet.predicted_proba, best_rf.predict_proba, best_cat.predict_proba])\n",
    "merge_proba"
   ],
   "metadata": {
    "id": "WBddaXrXVTCT",
    "colab": {
     "base_uri": "https://localhost:8080/",
     "height": 424
    },
    "executionInfo": {
     "status": "ok",
     "timestamp": 1670428549536,
     "user_tz": -540,
     "elapsed": 577,
     "user": {
      "displayName": "김소담",
      "userId": "17228452721668815195"
     }
    },
    "outputId": "9d107be4-d83b-4ee2-b9aa-d4f929df6092"
   },
   "execution_count": null,
   "outputs": []
  },
  {
   "cell_type": "code",
   "source": [
    "result_hv = Hard_voting(merge_proba).predict\n",
    "result_hv.head()"
   ],
   "metadata": {
    "id": "90v7kuIb24gj",
    "colab": {
     "base_uri": "https://localhost:8080/",
     "height": 206
    },
    "executionInfo": {
     "status": "ok",
     "timestamp": 1670428552010,
     "user_tz": -540,
     "elapsed": 2478,
     "user": {
      "displayName": "김소담",
      "userId": "17228452721668815195"
     }
    },
    "outputId": "99efff2c-bdc6-482e-8f87-ffbc8844c570"
   },
   "execution_count": null,
   "outputs": []
  },
  {
   "cell_type": "markdown",
   "source": [
    "## Soft Voting\n",
    "soft_ratio: \n",
    "\n",
    "```\n",
    "[[tabnet 0 class probability, catboost 0 class probability, rf 0 class probability],\n",
    "[tabnet 1 class probability, catboost 1 class probability, rf 1 class probability],\n",
    "[tabnet 2 class probability, catboost 2 class probability, rf 2 class probability]]\n",
    "```\n",
    "\n",
    "\n"
   ],
   "metadata": {
    "id": "BHak9IZkPuw1"
   }
  },
  {
   "cell_type": "code",
   "source": [
    "# soft_ratio가 없는 경우 기본 값은 1:1:1\n",
    "# ensemble_soft = EnsembleSoft(best_tabnet.predicted_proba, best_cat.predict_proba, best_rf.predict_proba)\n",
    "# print('accuracy: ', accuracy_score(test['Credit_Score'], ensemble_soft.predict['predict']))"
   ],
   "metadata": {
    "id": "YfS4MKs6KGWP",
    "colab": {
     "base_uri": "https://localhost:8080/",
     "height": 424
    },
    "executionInfo": {
     "status": "ok",
     "timestamp": 1670428552010,
     "user_tz": -540,
     "elapsed": 11,
     "user": {
      "displayName": "김소담",
      "userId": "17228452721668815195"
     }
    },
    "outputId": "0544b4e2-4ffc-4640-e769-e8e16ce83a3f"
   },
   "execution_count": null,
   "outputs": []
  },
  {
   "cell_type": "code",
   "source": [
    "# soft_ratio 지정하여 최적의 성능 내는 ratio test 중임 (sampling에서 최적 구한거 가지고 빡쎄게 tuning 필요할듯)\n",
    "soft_ratio = [[0.35, 0.65/2, 0.65/2], [0.3, 0.35, 0.35], [0.35, 0.65/2, 0.65/2]]\n",
    "ensemble_soft = EnsembleSoft(best_tabnet.predicted_proba, best_cat.predict_proba, best_rf.predict_proba, soft_ratio)\n",
    "ensemble_soft.predict_proba"
   ],
   "metadata": {
    "id": "sIbWsgSV9JLK",
    "colab": {
     "base_uri": "https://localhost:8080/",
     "height": 424
    },
    "executionInfo": {
     "status": "ok",
     "timestamp": 1670429778116,
     "user_tz": -540,
     "elapsed": 363,
     "user": {
      "displayName": "김소담",
      "userId": "17228452721668815195"
     }
    },
    "outputId": "3b013532-62e8-444c-b076-d850e5055fd3"
   },
   "execution_count": null,
   "outputs": []
  },
  {
   "cell_type": "code",
   "source": [
    "print('accuracy: ', accuracy_score(test['Credit_Score'], ensemble_soft.predict['predict']))"
   ],
   "metadata": {
    "id": "aTiFzlFYJxTi",
    "colab": {
     "base_uri": "https://localhost:8080/"
    },
    "executionInfo": {
     "status": "ok",
     "timestamp": 1670429778671,
     "user_tz": -540,
     "elapsed": 2,
     "user": {
      "displayName": "김소담",
      "userId": "17228452721668815195"
     }
    },
    "outputId": "8ce1c363-a56a-4b57-b934-889c137cc5b9"
   },
   "execution_count": null,
   "outputs": []
  },
  {
   "cell_type": "markdown",
   "source": [
    "# Performance\n",
    "- target: 5 models\n",
    "    - 3 simple models with Best matching sampled dataset\n",
    "    - ensemble with hard voting model\n",
    "    - ensemble with soft voting model\n",
    "- 1st section: barchart\n",
    "    - f1 score, accuracy, auroc(ovr), auroc(ovo), auprc(ap)\n",
    "- 2nd section: roc_curve, pr_curve (w/ 수치)\n",
    "- 3rd section: confusion metrics"
   ],
   "metadata": {
    "id": "eWX0O-7EPxNc"
   }
  },
  {
   "cell_type": "markdown",
   "source": [
    "## Metrics for Unbalanced Dataset"
   ],
   "metadata": {
    "id": "Vg7IRj2gvWjh"
   }
  },
  {
   "cell_type": "code",
   "source": [
    "# vanilla + hard ,soft\n",
    "proba_list = [result_catboost, result_forest, tabnet_proba, ensemble_soft.predict_proba]\n",
    "pred_list = [model_catboost.predict, model_forest.predict, model_tabnet.predict,result_hv,ensemble_soft.predict]\n",
    "\n",
    "Metrics.Compare_Model(proba_list,pred_list,test)"
   ],
   "metadata": {
    "id": "k7sPDVxDmna7",
    "executionInfo": {
     "status": "ok",
     "timestamp": 1670428734768,
     "user_tz": -540,
     "elapsed": 1175,
     "user": {
      "displayName": "김소담",
      "userId": "17228452721668815195"
     }
    },
    "outputId": "48c33133-d40e-44be-e3b5-41f95bdcb701",
    "colab": {
     "base_uri": "https://localhost:8080/",
     "height": 353
    }
   },
   "execution_count": null,
   "outputs": []
  },
  {
   "cell_type": "code",
   "source": [
    "# best + hard ,soft\n",
    "\n",
    "proba_list = [best_cat.predict_proba,best_rf.predict_proba,best_tabnet.predicted_proba,ensemble_soft.predict_proba]\n",
    "pred_list = [best_cat.predict, best_rf.predict, best_tabnet.predict ,result_hv,ensemble_soft.predict]\n",
    "\n",
    "Metrics.Compare_Model(proba_list,pred_list,test)"
   ],
   "metadata": {
    "id": "CrW0xi_N1upr",
    "colab": {
     "base_uri": "https://localhost:8080/",
     "height": 353
    },
    "executionInfo": {
     "status": "ok",
     "timestamp": 1670428757852,
     "user_tz": -540,
     "elapsed": 1499,
     "user": {
      "displayName": "김소담",
      "userId": "17228452721668815195"
     }
    },
    "outputId": "4fe935d7-f0fa-4ac4-e2f0-2496ce44c6b1"
   },
   "execution_count": null,
   "outputs": []
  },
  {
   "cell_type": "markdown",
   "source": [
    "## Graph for Unbalanced Dataset\n"
   ],
   "metadata": {
    "id": "4O1JH9kVgvoM"
   }
  },
  {
   "cell_type": "code",
   "source": [
    "# PR Curve & ROC Curve (Vanilla data)\n",
    "proba_list = [result_catboost,result_forest,tabnet_proba, ensemble_soft.predict_proba]\n",
    "Metrics.PR_Curve(proba_list,test)\n",
    "Metrics.ROC_Curve(proba_list,test)"
   ],
   "metadata": {
    "id": "RWWdyb0WP2z9",
    "colab": {
     "base_uri": "https://localhost:8080/",
     "height": 700
    },
    "executionInfo": {
     "status": "ok",
     "timestamp": 1670428840195,
     "user_tz": -540,
     "elapsed": 2895,
     "user": {
      "displayName": "김소담",
      "userId": "17228452721668815195"
     }
    },
    "outputId": "4d5085ba-1789-4a4f-be4b-c567a5214623"
   },
   "execution_count": null,
   "outputs": []
  },
  {
   "cell_type": "code",
   "source": [
    "# PR Curve & ROC Curve (Best Model)\n",
    "proba_list = [best_cat.predict_proba,best_rf.predict_proba,best_tabnet.predicted_proba,ensemble_soft.predict_proba]\n",
    "Metrics.PR_Curve(proba_list,test)\n",
    "Metrics.ROC_Curve(proba_list,test)"
   ],
   "metadata": {
    "colab": {
     "base_uri": "https://localhost:8080/",
     "height": 700
    },
    "id": "-phQGOyaryBZ",
    "executionInfo": {
     "status": "ok",
     "timestamp": 1670428856743,
     "user_tz": -540,
     "elapsed": 3165,
     "user": {
      "displayName": "김소담",
      "userId": "17228452721668815195"
     }
    },
    "outputId": "83c6c40c-a645-4465-c98d-9bfba91ec76d"
   },
   "execution_count": null,
   "outputs": []
  },
  {
   "cell_type": "markdown",
   "source": [
    "## Confusion Metrics\n"
   ],
   "metadata": {
    "id": "ao9NTMOogyef"
   }
  },
  {
   "cell_type": "code",
   "source": [
    "# vanilla version\n",
    "from sklearn.metrics import confusion_matrix\n",
    "import matplotlib.pyplot as plt\n",
    "import seaborn as sns\n",
    "\n",
    "fig, axes = plt.subplots(1, 5 , figsize = (30,5))\n",
    "predict_dict = {\n",
    "    \"CATBOOST\": model_catboost.predict,\n",
    "    \"RF\": model_forest.predict,\n",
    "    \"TABNET\": model_tabnet.predict,\n",
    "    \"Hard Voting\": result_hv,\n",
    "    \"Soft Voting\": ensemble_soft.predict\n",
    "}\n",
    "\n",
    "for i in range(0, 5):\n",
    "    cf_matrix = confusion_matrix(test['Credit_Score'], list(predict_dict.values())[i].iloc[:, 1])\n",
    "    ax = sns.heatmap(cf_matrix, annot=True, cmap='Blues', ax=axes[i])\n",
    "    ax.set_title(list(predict_dict.keys())[i])\n",
    "\n",
    "plt.show()"
   ],
   "metadata": {
    "id": "fnmYgEu4lxNs",
    "executionInfo": {
     "status": "ok",
     "timestamp": 1670429185273,
     "user_tz": -540,
     "elapsed": 2189,
     "user": {
      "displayName": "김소담",
      "userId": "17228452721668815195"
     }
    },
    "colab": {
     "base_uri": "https://localhost:8080/",
     "height": 336
    },
    "outputId": "9d5d309b-9952-41ea-877c-307d5ac866be"
   },
   "execution_count": null,
   "outputs": []
  },
  {
   "cell_type": "code",
   "source": [
    "# best model version\n",
    "from sklearn.metrics import confusion_matrix\n",
    "import matplotlib.pyplot as plt\n",
    "import seaborn as sns\n",
    "\n",
    "fig, axes = plt.subplots(1, 5 , figsize = (30,5))\n",
    "predict_dict = {\n",
    "    \"CATBOOST\": best_cat.predict,\n",
    "    \"RF\": best_rf.predict,\n",
    "    \"TABNET\": best_tabnet.predict,\n",
    "    \"Hard Voting\": result_hv,\n",
    "    \"Soft Voting\": ensemble_soft.predict\n",
    "}\n",
    "\n",
    "for i in range(0, 5):\n",
    "    cf_matrix = confusion_matrix(test['Credit_Score'], list(predict_dict.values())[i].iloc[:, 1])\n",
    "    ax = sns.heatmap(cf_matrix, annot=True, cmap='Blues', ax=axes[i])\n",
    "    ax.set_title(list(predict_dict.keys())[i])\n",
    "\n",
    "plt.show()"
   ],
   "metadata": {
    "colab": {
     "base_uri": "https://localhost:8080/",
     "height": 336
    },
    "id": "T68i8rI2Uc5r",
    "executionInfo": {
     "status": "ok",
     "timestamp": 1670429210691,
     "user_tz": -540,
     "elapsed": 1775,
     "user": {
      "displayName": "김소담",
      "userId": "17228452721668815195"
     }
    },
    "outputId": "3ef193ae-ff11-44d1-bd00-1636347f13e0"
   },
   "execution_count": null,
   "outputs": []
  },
  {
   "cell_type": "code",
   "source": [],
   "metadata": {
    "id": "yUXuYNNpUgWm"
   },
   "execution_count": null,
   "outputs": []
  }
 ]
}
