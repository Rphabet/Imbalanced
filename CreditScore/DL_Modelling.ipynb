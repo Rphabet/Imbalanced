{
 "cells": [
  {
   "cell_type": "markdown",
   "source": [
    "# Deep Learning for Credit Score Classificatino"
   ],
   "metadata": {
    "collapsed": false
   }
  },
  {
   "cell_type": "markdown",
   "source": [
    "## 1. Environment"
   ],
   "metadata": {
    "collapsed": false
   }
  },
  {
   "cell_type": "code",
   "execution_count": 1,
   "outputs": [],
   "source": [
    "import numpy as np\n",
    "import pandas as pd\n",
    "import os"
   ],
   "metadata": {
    "collapsed": false
   }
  },
  {
   "cell_type": "code",
   "execution_count": 2,
   "outputs": [],
   "source": [
    "DATA_DIR = './'\n",
    "DATA = 'cleaned_train.csv'"
   ],
   "metadata": {
    "collapsed": false
   }
  },
  {
   "cell_type": "code",
   "execution_count": 3,
   "outputs": [
    {
     "data": {
      "text/plain": "           ID  Customer_ID  Month           Name   Age          SSN  \\\n0        5634         3392      1  Aaron Maashoh  23.0  821000265.0   \n1        5635         3392      2  Aaron Maashoh  23.0  821000265.0   \n2        5636         3392      3  Aaron Maashoh  23.0  821000265.0   \n3        5637         3392      4  Aaron Maashoh  23.0  821000265.0   \n4        5638         3392      5  Aaron Maashoh  23.0  821000265.0   \n...       ...          ...    ...            ...   ...          ...   \n99995  155625        37932      4          Nicks  25.0   78735990.0   \n99996  155626        37932      5          Nicks  25.0   78735990.0   \n99997  155627        37932      6          Nicks  25.0   78735990.0   \n99998  155628        37932      7          Nicks  25.0   78735990.0   \n99999  155629        37932      8          Nicks  25.0   78735990.0   \n\n      Occupation  Annual_Income  Monthly_Inhand_Salary  Num_Bank_Accounts  \\\n0      Scientist       19114.12            1824.843333                3.0   \n1      Scientist       19114.12            1824.843333                3.0   \n2      Scientist       19114.12            1824.843333                3.0   \n3      Scientist       19114.12            1824.843333                3.0   \n4      Scientist       19114.12            1824.843333                3.0   \n...          ...            ...                    ...                ...   \n99995   Mechanic       39628.99            3359.415833                4.0   \n99996   Mechanic       39628.99            3359.415833                4.0   \n99997   Mechanic       39628.99            3359.415833                4.0   \n99998   Mechanic       39628.99            3359.415833                4.0   \n99999   Mechanic       39628.99            3359.415833                4.0   \n\n       ...  Credit_Mix  Outstanding_Debt  Credit_Utilization_Ratio  \\\n0      ...        Good            809.98                 26.822620   \n1      ...        Good            809.98                 31.944960   \n2      ...        Good            809.98                 28.609352   \n3      ...        Good            809.98                 31.377862   \n4      ...        Good            809.98                 24.797347   \n...    ...         ...               ...                       ...   \n99995  ...        Good            502.38                 34.663572   \n99996  ...        Good            502.38                 40.565631   \n99997  ...        Good            502.38                 41.255522   \n99998  ...        Good            502.38                 33.638208   \n99999  ...        Good            502.38                 34.192463   \n\n      Credit_History_Age  Payment_of_Min_Amount  Total_EMI_per_month  \\\n0                  265.0                     No            49.574949   \n1                  266.0                     No            49.574949   \n2                  267.0                     No            49.574949   \n3                  268.0                     No            49.574949   \n4                  269.0                     No            49.574949   \n...                  ...                    ...                  ...   \n99995              378.0                     No            35.104023   \n99996              379.0                     No            35.104023   \n99997              380.0                     No            35.104023   \n99998              381.0                     No            35.104023   \n99999              382.0                     No            35.104023   \n\n       Amount_invested_monthly                 Payment_Behaviour  \\\n0                    21.465380   High_spent_Small_value_payments   \n1                    21.465380    Low_spent_Large_value_payments   \n2                    21.465380   Low_spent_Medium_value_payments   \n3                    21.465380    Low_spent_Small_value_payments   \n4                    21.465380  High_spent_Medium_value_payments   \n...                        ...                               ...   \n99995                24.028477   High_spent_Large_value_payments   \n99996                24.028477  High_spent_Medium_value_payments   \n99997                24.028477   High_spent_Large_value_payments   \n99998                24.028477    Low_spent_Large_value_payments   \n99999                24.028477  High_spent_Medium_value_payments   \n\n      Monthly_Balance  Credit_Score  \n0          312.494089          Good  \n1          284.629162          Good  \n2          331.209863          Good  \n3          223.451310          Good  \n4          341.489231          Good  \n...               ...           ...  \n99995      479.866228          Poor  \n99996      496.651610          Poor  \n99997      516.809083          Poor  \n99998      319.164979      Standard  \n99999      393.673696          Poor  \n\n[100000 rows x 28 columns]",
      "text/html": "<div>\n<style scoped>\n    .dataframe tbody tr th:only-of-type {\n        vertical-align: middle;\n    }\n\n    .dataframe tbody tr th {\n        vertical-align: top;\n    }\n\n    .dataframe thead th {\n        text-align: right;\n    }\n</style>\n<table border=\"1\" class=\"dataframe\">\n  <thead>\n    <tr style=\"text-align: right;\">\n      <th></th>\n      <th>ID</th>\n      <th>Customer_ID</th>\n      <th>Month</th>\n      <th>Name</th>\n      <th>Age</th>\n      <th>SSN</th>\n      <th>Occupation</th>\n      <th>Annual_Income</th>\n      <th>Monthly_Inhand_Salary</th>\n      <th>Num_Bank_Accounts</th>\n      <th>...</th>\n      <th>Credit_Mix</th>\n      <th>Outstanding_Debt</th>\n      <th>Credit_Utilization_Ratio</th>\n      <th>Credit_History_Age</th>\n      <th>Payment_of_Min_Amount</th>\n      <th>Total_EMI_per_month</th>\n      <th>Amount_invested_monthly</th>\n      <th>Payment_Behaviour</th>\n      <th>Monthly_Balance</th>\n      <th>Credit_Score</th>\n    </tr>\n  </thead>\n  <tbody>\n    <tr>\n      <th>0</th>\n      <td>5634</td>\n      <td>3392</td>\n      <td>1</td>\n      <td>Aaron Maashoh</td>\n      <td>23.0</td>\n      <td>821000265.0</td>\n      <td>Scientist</td>\n      <td>19114.12</td>\n      <td>1824.843333</td>\n      <td>3.0</td>\n      <td>...</td>\n      <td>Good</td>\n      <td>809.98</td>\n      <td>26.822620</td>\n      <td>265.0</td>\n      <td>No</td>\n      <td>49.574949</td>\n      <td>21.465380</td>\n      <td>High_spent_Small_value_payments</td>\n      <td>312.494089</td>\n      <td>Good</td>\n    </tr>\n    <tr>\n      <th>1</th>\n      <td>5635</td>\n      <td>3392</td>\n      <td>2</td>\n      <td>Aaron Maashoh</td>\n      <td>23.0</td>\n      <td>821000265.0</td>\n      <td>Scientist</td>\n      <td>19114.12</td>\n      <td>1824.843333</td>\n      <td>3.0</td>\n      <td>...</td>\n      <td>Good</td>\n      <td>809.98</td>\n      <td>31.944960</td>\n      <td>266.0</td>\n      <td>No</td>\n      <td>49.574949</td>\n      <td>21.465380</td>\n      <td>Low_spent_Large_value_payments</td>\n      <td>284.629162</td>\n      <td>Good</td>\n    </tr>\n    <tr>\n      <th>2</th>\n      <td>5636</td>\n      <td>3392</td>\n      <td>3</td>\n      <td>Aaron Maashoh</td>\n      <td>23.0</td>\n      <td>821000265.0</td>\n      <td>Scientist</td>\n      <td>19114.12</td>\n      <td>1824.843333</td>\n      <td>3.0</td>\n      <td>...</td>\n      <td>Good</td>\n      <td>809.98</td>\n      <td>28.609352</td>\n      <td>267.0</td>\n      <td>No</td>\n      <td>49.574949</td>\n      <td>21.465380</td>\n      <td>Low_spent_Medium_value_payments</td>\n      <td>331.209863</td>\n      <td>Good</td>\n    </tr>\n    <tr>\n      <th>3</th>\n      <td>5637</td>\n      <td>3392</td>\n      <td>4</td>\n      <td>Aaron Maashoh</td>\n      <td>23.0</td>\n      <td>821000265.0</td>\n      <td>Scientist</td>\n      <td>19114.12</td>\n      <td>1824.843333</td>\n      <td>3.0</td>\n      <td>...</td>\n      <td>Good</td>\n      <td>809.98</td>\n      <td>31.377862</td>\n      <td>268.0</td>\n      <td>No</td>\n      <td>49.574949</td>\n      <td>21.465380</td>\n      <td>Low_spent_Small_value_payments</td>\n      <td>223.451310</td>\n      <td>Good</td>\n    </tr>\n    <tr>\n      <th>4</th>\n      <td>5638</td>\n      <td>3392</td>\n      <td>5</td>\n      <td>Aaron Maashoh</td>\n      <td>23.0</td>\n      <td>821000265.0</td>\n      <td>Scientist</td>\n      <td>19114.12</td>\n      <td>1824.843333</td>\n      <td>3.0</td>\n      <td>...</td>\n      <td>Good</td>\n      <td>809.98</td>\n      <td>24.797347</td>\n      <td>269.0</td>\n      <td>No</td>\n      <td>49.574949</td>\n      <td>21.465380</td>\n      <td>High_spent_Medium_value_payments</td>\n      <td>341.489231</td>\n      <td>Good</td>\n    </tr>\n    <tr>\n      <th>...</th>\n      <td>...</td>\n      <td>...</td>\n      <td>...</td>\n      <td>...</td>\n      <td>...</td>\n      <td>...</td>\n      <td>...</td>\n      <td>...</td>\n      <td>...</td>\n      <td>...</td>\n      <td>...</td>\n      <td>...</td>\n      <td>...</td>\n      <td>...</td>\n      <td>...</td>\n      <td>...</td>\n      <td>...</td>\n      <td>...</td>\n      <td>...</td>\n      <td>...</td>\n      <td>...</td>\n    </tr>\n    <tr>\n      <th>99995</th>\n      <td>155625</td>\n      <td>37932</td>\n      <td>4</td>\n      <td>Nicks</td>\n      <td>25.0</td>\n      <td>78735990.0</td>\n      <td>Mechanic</td>\n      <td>39628.99</td>\n      <td>3359.415833</td>\n      <td>4.0</td>\n      <td>...</td>\n      <td>Good</td>\n      <td>502.38</td>\n      <td>34.663572</td>\n      <td>378.0</td>\n      <td>No</td>\n      <td>35.104023</td>\n      <td>24.028477</td>\n      <td>High_spent_Large_value_payments</td>\n      <td>479.866228</td>\n      <td>Poor</td>\n    </tr>\n    <tr>\n      <th>99996</th>\n      <td>155626</td>\n      <td>37932</td>\n      <td>5</td>\n      <td>Nicks</td>\n      <td>25.0</td>\n      <td>78735990.0</td>\n      <td>Mechanic</td>\n      <td>39628.99</td>\n      <td>3359.415833</td>\n      <td>4.0</td>\n      <td>...</td>\n      <td>Good</td>\n      <td>502.38</td>\n      <td>40.565631</td>\n      <td>379.0</td>\n      <td>No</td>\n      <td>35.104023</td>\n      <td>24.028477</td>\n      <td>High_spent_Medium_value_payments</td>\n      <td>496.651610</td>\n      <td>Poor</td>\n    </tr>\n    <tr>\n      <th>99997</th>\n      <td>155627</td>\n      <td>37932</td>\n      <td>6</td>\n      <td>Nicks</td>\n      <td>25.0</td>\n      <td>78735990.0</td>\n      <td>Mechanic</td>\n      <td>39628.99</td>\n      <td>3359.415833</td>\n      <td>4.0</td>\n      <td>...</td>\n      <td>Good</td>\n      <td>502.38</td>\n      <td>41.255522</td>\n      <td>380.0</td>\n      <td>No</td>\n      <td>35.104023</td>\n      <td>24.028477</td>\n      <td>High_spent_Large_value_payments</td>\n      <td>516.809083</td>\n      <td>Poor</td>\n    </tr>\n    <tr>\n      <th>99998</th>\n      <td>155628</td>\n      <td>37932</td>\n      <td>7</td>\n      <td>Nicks</td>\n      <td>25.0</td>\n      <td>78735990.0</td>\n      <td>Mechanic</td>\n      <td>39628.99</td>\n      <td>3359.415833</td>\n      <td>4.0</td>\n      <td>...</td>\n      <td>Good</td>\n      <td>502.38</td>\n      <td>33.638208</td>\n      <td>381.0</td>\n      <td>No</td>\n      <td>35.104023</td>\n      <td>24.028477</td>\n      <td>Low_spent_Large_value_payments</td>\n      <td>319.164979</td>\n      <td>Standard</td>\n    </tr>\n    <tr>\n      <th>99999</th>\n      <td>155629</td>\n      <td>37932</td>\n      <td>8</td>\n      <td>Nicks</td>\n      <td>25.0</td>\n      <td>78735990.0</td>\n      <td>Mechanic</td>\n      <td>39628.99</td>\n      <td>3359.415833</td>\n      <td>4.0</td>\n      <td>...</td>\n      <td>Good</td>\n      <td>502.38</td>\n      <td>34.192463</td>\n      <td>382.0</td>\n      <td>No</td>\n      <td>35.104023</td>\n      <td>24.028477</td>\n      <td>High_spent_Medium_value_payments</td>\n      <td>393.673696</td>\n      <td>Poor</td>\n    </tr>\n  </tbody>\n</table>\n<p>100000 rows × 28 columns</p>\n</div>"
     },
     "execution_count": 3,
     "metadata": {},
     "output_type": "execute_result"
    }
   ],
   "source": [
    "df = pd.read_csv(os.path.join(DATA_DIR, DATA))\n",
    "df"
   ],
   "metadata": {
    "collapsed": false
   }
  },
  {
   "cell_type": "markdown",
   "source": [
    "## 2. Preprocessing"
   ],
   "metadata": {
    "collapsed": false
   }
  },
  {
   "cell_type": "markdown",
   "source": [
    "### Dropping Columns"
   ],
   "metadata": {
    "collapsed": false
   }
  },
  {
   "cell_type": "code",
   "execution_count": 4,
   "outputs": [],
   "source": [
    "cleaned_df = df.copy()"
   ],
   "metadata": {
    "collapsed": false
   }
  },
  {
   "cell_type": "code",
   "execution_count": 5,
   "outputs": [
    {
     "data": {
      "text/plain": "['ID', 'Customer_ID', 'Month']"
     },
     "execution_count": 5,
     "metadata": {},
     "output_type": "execute_result"
    }
   ],
   "source": [
    "raw_cols = cleaned_df.columns.tolist()\n",
    "raw_cols[:3]"
   ],
   "metadata": {
    "collapsed": false
   }
  },
  {
   "cell_type": "code",
   "execution_count": 6,
   "outputs": [],
   "source": [
    "# 라벨 인코딩 대상 Feature\n",
    "label_cols = [\n",
    "    # 'Customer_ID',\n",
    "    'Payment_of_Min_Amount',\n",
    "    # 'Payment_Behaviour', # 라벨인코딩 또는 순서대로 대치\n",
    "]\n",
    "\n",
    "# 삭제 대상 Feature\n",
    "drop_cols =[\n",
    "    'ID',\n",
    "    'Name',\n",
    "    'SSN',\n",
    "    'Occupation',\n",
    "    'Annual_Income',\n",
    "    'Type_of_Loan']\n",
    "\n",
    "# 더미생성을 위한 Featue\n",
    "dummy_cols = [\n",
    "    'Num_of_Loan',             # 5 기준\n",
    "    'Changed_Credit_Limit',    # 12기준\n",
    "    'Credit_History_Age',      # 180 기준\n",
    "]\n",
    "\n",
    "# 로그변환 대상 Feature\n",
    "log_scale_cols = [\n",
    "    'Monthly_Inhand_Salary'\n",
    "]\n",
    "\n",
    "# sqrt 변환을 위한 Feature\n",
    "sqrt_scale_cols = [\n",
    "    'Outstanding_Debt',\n",
    "    'Amount_invested_monthly', # 새롭게 추가\n",
    "    'Total_EMI_per_month' # 새롭게 추가\n",
    "]\n",
    "\n",
    "#정규화를 위한 feature\n",
    "standard_cols =[\n",
    "\n",
    "]\n",
    "\n",
    "# 원핫인코딩 대상 feature\n",
    "onehot_cols =[\n",
    "    # 'Type_of_Loan' # 분리한 이후에 진행해야함 나중에 추가 반영.\n",
    "]\n",
    "\n",
    "#PCA 대상 Feature\n",
    "pca_cols = [\n",
    "\n",
    "]\n",
    "\n",
    "# Feature 특징을 고려한 개별 전처리\n",
    "others_cols =[\n",
    "    'Age', # 특정 숫자 기준으로 구간화\n",
    "    'Credit_Mix', # Bad 0, Standard 1 , Good 2\n",
    "    'Credit_Score', # Poor 0 , Standard 1, Good 2로 대치\n",
    "]\n",
    "\n",
    "\n",
    "\n",
    "#전처리 없는 Feature\n",
    "processless_cols = (set(raw_cols) - set(label_cols) - set(dummy_cols) - set(drop_cols)\n",
    "                    - set(log_scale_cols) - set(sqrt_scale_cols) - set(others_cols)\n",
    "                    -set(pca_cols) - set(standard_cols) - set(onehot_cols))\n",
    "processless_cols = list(processless_cols)"
   ],
   "metadata": {
    "collapsed": false
   }
  },
  {
   "cell_type": "code",
   "execution_count": 7,
   "outputs": [
    {
     "data": {
      "text/plain": "['Payment_Behaviour',\n 'Interest_Rate',\n 'Num_Credit_Card',\n 'Monthly_Balance',\n 'Month',\n 'Credit_Utilization_Ratio',\n 'Num_of_Delayed_Payment',\n 'Num_Credit_Inquiries',\n 'Delay_from_due_date',\n 'Customer_ID',\n 'Num_Bank_Accounts']"
     },
     "execution_count": 7,
     "metadata": {},
     "output_type": "execute_result"
    }
   ],
   "source": [
    "processless_cols"
   ],
   "metadata": {
    "collapsed": false
   }
  },
  {
   "cell_type": "code",
   "execution_count": 8,
   "outputs": [],
   "source": [
    "cleaned_df = cleaned_df.drop(drop_cols, axis=1)"
   ],
   "metadata": {
    "collapsed": false
   }
  },
  {
   "cell_type": "code",
   "execution_count": 9,
   "outputs": [
    {
     "data": {
      "text/plain": "       Customer_ID  Month   Age  Monthly_Inhand_Salary  Num_Bank_Accounts  \\\n0             3392      1  23.0            1824.843333                3.0   \n1             3392      2  23.0            1824.843333                3.0   \n2             3392      3  23.0            1824.843333                3.0   \n3             3392      4  23.0            1824.843333                3.0   \n4             3392      5  23.0            1824.843333                3.0   \n...            ...    ...   ...                    ...                ...   \n99995        37932      4  25.0            3359.415833                4.0   \n99996        37932      5  25.0            3359.415833                4.0   \n99997        37932      6  25.0            3359.415833                4.0   \n99998        37932      7  25.0            3359.415833                4.0   \n99999        37932      8  25.0            3359.415833                4.0   \n\n       Num_Credit_Card  Interest_Rate  Num_of_Loan  Delay_from_due_date  \\\n0                  4.0            3.0          4.0                  3.0   \n1                  4.0            3.0          4.0                  3.0   \n2                  4.0            3.0          4.0                  3.0   \n3                  4.0            3.0          4.0                  5.0   \n4                  4.0            3.0          4.0                  6.0   \n...                ...            ...          ...                  ...   \n99995              6.0            7.0          2.0                 23.0   \n99996              6.0            7.0          2.0                 18.0   \n99997              6.0            7.0          2.0                 27.0   \n99998              6.0            7.0          2.0                 20.0   \n99999              6.0            7.0          2.0                 18.0   \n\n       Num_of_Delayed_Payment  ...  Credit_Mix  Outstanding_Debt  \\\n0                         7.0  ...        Good            809.98   \n1                         4.0  ...        Good            809.98   \n2                         7.0  ...        Good            809.98   \n3                         4.0  ...        Good            809.98   \n4                         4.0  ...        Good            809.98   \n...                       ...  ...         ...               ...   \n99995                     7.0  ...        Good            502.38   \n99996                     7.0  ...        Good            502.38   \n99997                     6.0  ...        Good            502.38   \n99998                     6.0  ...        Good            502.38   \n99999                     6.0  ...        Good            502.38   \n\n      Credit_Utilization_Ratio  Credit_History_Age  Payment_of_Min_Amount  \\\n0                    26.822620               265.0                     No   \n1                    31.944960               266.0                     No   \n2                    28.609352               267.0                     No   \n3                    31.377862               268.0                     No   \n4                    24.797347               269.0                     No   \n...                        ...                 ...                    ...   \n99995                34.663572               378.0                     No   \n99996                40.565631               379.0                     No   \n99997                41.255522               380.0                     No   \n99998                33.638208               381.0                     No   \n99999                34.192463               382.0                     No   \n\n       Total_EMI_per_month Amount_invested_monthly  \\\n0                49.574949               21.465380   \n1                49.574949               21.465380   \n2                49.574949               21.465380   \n3                49.574949               21.465380   \n4                49.574949               21.465380   \n...                    ...                     ...   \n99995            35.104023               24.028477   \n99996            35.104023               24.028477   \n99997            35.104023               24.028477   \n99998            35.104023               24.028477   \n99999            35.104023               24.028477   \n\n                      Payment_Behaviour  Monthly_Balance Credit_Score  \n0       High_spent_Small_value_payments       312.494089         Good  \n1        Low_spent_Large_value_payments       284.629162         Good  \n2       Low_spent_Medium_value_payments       331.209863         Good  \n3        Low_spent_Small_value_payments       223.451310         Good  \n4      High_spent_Medium_value_payments       341.489231         Good  \n...                                 ...              ...          ...  \n99995   High_spent_Large_value_payments       479.866228         Poor  \n99996  High_spent_Medium_value_payments       496.651610         Poor  \n99997   High_spent_Large_value_payments       516.809083         Poor  \n99998    Low_spent_Large_value_payments       319.164979     Standard  \n99999  High_spent_Medium_value_payments       393.673696         Poor  \n\n[100000 rows x 22 columns]",
      "text/html": "<div>\n<style scoped>\n    .dataframe tbody tr th:only-of-type {\n        vertical-align: middle;\n    }\n\n    .dataframe tbody tr th {\n        vertical-align: top;\n    }\n\n    .dataframe thead th {\n        text-align: right;\n    }\n</style>\n<table border=\"1\" class=\"dataframe\">\n  <thead>\n    <tr style=\"text-align: right;\">\n      <th></th>\n      <th>Customer_ID</th>\n      <th>Month</th>\n      <th>Age</th>\n      <th>Monthly_Inhand_Salary</th>\n      <th>Num_Bank_Accounts</th>\n      <th>Num_Credit_Card</th>\n      <th>Interest_Rate</th>\n      <th>Num_of_Loan</th>\n      <th>Delay_from_due_date</th>\n      <th>Num_of_Delayed_Payment</th>\n      <th>...</th>\n      <th>Credit_Mix</th>\n      <th>Outstanding_Debt</th>\n      <th>Credit_Utilization_Ratio</th>\n      <th>Credit_History_Age</th>\n      <th>Payment_of_Min_Amount</th>\n      <th>Total_EMI_per_month</th>\n      <th>Amount_invested_monthly</th>\n      <th>Payment_Behaviour</th>\n      <th>Monthly_Balance</th>\n      <th>Credit_Score</th>\n    </tr>\n  </thead>\n  <tbody>\n    <tr>\n      <th>0</th>\n      <td>3392</td>\n      <td>1</td>\n      <td>23.0</td>\n      <td>1824.843333</td>\n      <td>3.0</td>\n      <td>4.0</td>\n      <td>3.0</td>\n      <td>4.0</td>\n      <td>3.0</td>\n      <td>7.0</td>\n      <td>...</td>\n      <td>Good</td>\n      <td>809.98</td>\n      <td>26.822620</td>\n      <td>265.0</td>\n      <td>No</td>\n      <td>49.574949</td>\n      <td>21.465380</td>\n      <td>High_spent_Small_value_payments</td>\n      <td>312.494089</td>\n      <td>Good</td>\n    </tr>\n    <tr>\n      <th>1</th>\n      <td>3392</td>\n      <td>2</td>\n      <td>23.0</td>\n      <td>1824.843333</td>\n      <td>3.0</td>\n      <td>4.0</td>\n      <td>3.0</td>\n      <td>4.0</td>\n      <td>3.0</td>\n      <td>4.0</td>\n      <td>...</td>\n      <td>Good</td>\n      <td>809.98</td>\n      <td>31.944960</td>\n      <td>266.0</td>\n      <td>No</td>\n      <td>49.574949</td>\n      <td>21.465380</td>\n      <td>Low_spent_Large_value_payments</td>\n      <td>284.629162</td>\n      <td>Good</td>\n    </tr>\n    <tr>\n      <th>2</th>\n      <td>3392</td>\n      <td>3</td>\n      <td>23.0</td>\n      <td>1824.843333</td>\n      <td>3.0</td>\n      <td>4.0</td>\n      <td>3.0</td>\n      <td>4.0</td>\n      <td>3.0</td>\n      <td>7.0</td>\n      <td>...</td>\n      <td>Good</td>\n      <td>809.98</td>\n      <td>28.609352</td>\n      <td>267.0</td>\n      <td>No</td>\n      <td>49.574949</td>\n      <td>21.465380</td>\n      <td>Low_spent_Medium_value_payments</td>\n      <td>331.209863</td>\n      <td>Good</td>\n    </tr>\n    <tr>\n      <th>3</th>\n      <td>3392</td>\n      <td>4</td>\n      <td>23.0</td>\n      <td>1824.843333</td>\n      <td>3.0</td>\n      <td>4.0</td>\n      <td>3.0</td>\n      <td>4.0</td>\n      <td>5.0</td>\n      <td>4.0</td>\n      <td>...</td>\n      <td>Good</td>\n      <td>809.98</td>\n      <td>31.377862</td>\n      <td>268.0</td>\n      <td>No</td>\n      <td>49.574949</td>\n      <td>21.465380</td>\n      <td>Low_spent_Small_value_payments</td>\n      <td>223.451310</td>\n      <td>Good</td>\n    </tr>\n    <tr>\n      <th>4</th>\n      <td>3392</td>\n      <td>5</td>\n      <td>23.0</td>\n      <td>1824.843333</td>\n      <td>3.0</td>\n      <td>4.0</td>\n      <td>3.0</td>\n      <td>4.0</td>\n      <td>6.0</td>\n      <td>4.0</td>\n      <td>...</td>\n      <td>Good</td>\n      <td>809.98</td>\n      <td>24.797347</td>\n      <td>269.0</td>\n      <td>No</td>\n      <td>49.574949</td>\n      <td>21.465380</td>\n      <td>High_spent_Medium_value_payments</td>\n      <td>341.489231</td>\n      <td>Good</td>\n    </tr>\n    <tr>\n      <th>...</th>\n      <td>...</td>\n      <td>...</td>\n      <td>...</td>\n      <td>...</td>\n      <td>...</td>\n      <td>...</td>\n      <td>...</td>\n      <td>...</td>\n      <td>...</td>\n      <td>...</td>\n      <td>...</td>\n      <td>...</td>\n      <td>...</td>\n      <td>...</td>\n      <td>...</td>\n      <td>...</td>\n      <td>...</td>\n      <td>...</td>\n      <td>...</td>\n      <td>...</td>\n      <td>...</td>\n    </tr>\n    <tr>\n      <th>99995</th>\n      <td>37932</td>\n      <td>4</td>\n      <td>25.0</td>\n      <td>3359.415833</td>\n      <td>4.0</td>\n      <td>6.0</td>\n      <td>7.0</td>\n      <td>2.0</td>\n      <td>23.0</td>\n      <td>7.0</td>\n      <td>...</td>\n      <td>Good</td>\n      <td>502.38</td>\n      <td>34.663572</td>\n      <td>378.0</td>\n      <td>No</td>\n      <td>35.104023</td>\n      <td>24.028477</td>\n      <td>High_spent_Large_value_payments</td>\n      <td>479.866228</td>\n      <td>Poor</td>\n    </tr>\n    <tr>\n      <th>99996</th>\n      <td>37932</td>\n      <td>5</td>\n      <td>25.0</td>\n      <td>3359.415833</td>\n      <td>4.0</td>\n      <td>6.0</td>\n      <td>7.0</td>\n      <td>2.0</td>\n      <td>18.0</td>\n      <td>7.0</td>\n      <td>...</td>\n      <td>Good</td>\n      <td>502.38</td>\n      <td>40.565631</td>\n      <td>379.0</td>\n      <td>No</td>\n      <td>35.104023</td>\n      <td>24.028477</td>\n      <td>High_spent_Medium_value_payments</td>\n      <td>496.651610</td>\n      <td>Poor</td>\n    </tr>\n    <tr>\n      <th>99997</th>\n      <td>37932</td>\n      <td>6</td>\n      <td>25.0</td>\n      <td>3359.415833</td>\n      <td>4.0</td>\n      <td>6.0</td>\n      <td>7.0</td>\n      <td>2.0</td>\n      <td>27.0</td>\n      <td>6.0</td>\n      <td>...</td>\n      <td>Good</td>\n      <td>502.38</td>\n      <td>41.255522</td>\n      <td>380.0</td>\n      <td>No</td>\n      <td>35.104023</td>\n      <td>24.028477</td>\n      <td>High_spent_Large_value_payments</td>\n      <td>516.809083</td>\n      <td>Poor</td>\n    </tr>\n    <tr>\n      <th>99998</th>\n      <td>37932</td>\n      <td>7</td>\n      <td>25.0</td>\n      <td>3359.415833</td>\n      <td>4.0</td>\n      <td>6.0</td>\n      <td>7.0</td>\n      <td>2.0</td>\n      <td>20.0</td>\n      <td>6.0</td>\n      <td>...</td>\n      <td>Good</td>\n      <td>502.38</td>\n      <td>33.638208</td>\n      <td>381.0</td>\n      <td>No</td>\n      <td>35.104023</td>\n      <td>24.028477</td>\n      <td>Low_spent_Large_value_payments</td>\n      <td>319.164979</td>\n      <td>Standard</td>\n    </tr>\n    <tr>\n      <th>99999</th>\n      <td>37932</td>\n      <td>8</td>\n      <td>25.0</td>\n      <td>3359.415833</td>\n      <td>4.0</td>\n      <td>6.0</td>\n      <td>7.0</td>\n      <td>2.0</td>\n      <td>18.0</td>\n      <td>6.0</td>\n      <td>...</td>\n      <td>Good</td>\n      <td>502.38</td>\n      <td>34.192463</td>\n      <td>382.0</td>\n      <td>No</td>\n      <td>35.104023</td>\n      <td>24.028477</td>\n      <td>High_spent_Medium_value_payments</td>\n      <td>393.673696</td>\n      <td>Poor</td>\n    </tr>\n  </tbody>\n</table>\n<p>100000 rows × 22 columns</p>\n</div>"
     },
     "execution_count": 9,
     "metadata": {},
     "output_type": "execute_result"
    }
   ],
   "source": [
    "cleaned_df"
   ],
   "metadata": {
    "collapsed": false
   }
  },
  {
   "cell_type": "markdown",
   "source": [
    "### Encoding Columns"
   ],
   "metadata": {
    "collapsed": false
   }
  },
  {
   "cell_type": "markdown",
   "source": [
    "#### Target Encoding"
   ],
   "metadata": {
    "collapsed": false
   }
  },
  {
   "cell_type": "code",
   "execution_count": 10,
   "outputs": [
    {
     "data": {
      "text/plain": "0        2\n1        2\n2        2\n3        2\n4        2\n        ..\n99995    0\n99996    0\n99997    0\n99998    1\n99999    0\nName: Credit_Score, Length: 100000, dtype: int64"
     },
     "execution_count": 10,
     "metadata": {},
     "output_type": "execute_result"
    }
   ],
   "source": [
    "# label2idx 딕셔너리 생성\n",
    "label2idx = {'Poor': 0, 'Standard': 1, 'Good': 2}\n",
    "\n",
    "# cleaned_df['Credit_Score'].map(label2idx)\n",
    "cleaned_df['Credit_Score'] = cleaned_df['Credit_Score'].map(label2idx)\n",
    "cleaned_df['Credit_Score']"
   ],
   "metadata": {
    "collapsed": false
   }
  },
  {
   "cell_type": "code",
   "execution_count": 11,
   "outputs": [
    {
     "data": {
      "text/plain": "{0: 'Poor', 1: 'Standard', 2: 'Good'}"
     },
     "execution_count": 11,
     "metadata": {},
     "output_type": "execute_result"
    }
   ],
   "source": [
    "# idx to label dictionary\n",
    "idx2label = {}\n",
    "for idx, value in label2idx.items():\n",
    "    idx2label[value] = idx\n",
    "\n",
    "idx2label"
   ],
   "metadata": {
    "collapsed": false
   }
  },
  {
   "cell_type": "markdown",
   "source": [
    "#### Payment Behaviour Encoding"
   ],
   "metadata": {
    "collapsed": false
   }
  },
  {
   "cell_type": "code",
   "execution_count": 12,
   "outputs": [
    {
     "name": "stdout",
     "output_type": "stream",
     "text": [
      "{'Low_spent_Small_value_payments': 0, 'Low_spent_Medium_value_payments': 1, 'Low_spent_Large_value_payments': 2, 'High_spent_Small_value_payments': 3, 'High_spent_Medium_value_payments': 4, 'High_spent_Large_value_payments': 5}\n",
      "{0: 'Low_spent_Small_value_payments', 1: 'Low_spent_Medium_value_payments', 2: 'Low_spent_Large_value_payments', 3: 'High_spent_Small_value_payments', 4: 'High_spent_Medium_value_payments', 5: 'High_spent_Large_value_payments'}\n"
     ]
    }
   ],
   "source": [
    "# payment behaviour 변화가 있었는 지 확인 필요\n",
    "# dictionary 정의\n",
    "\n",
    "pb2idx = {\n",
    "    'Low_spent_Small_value_payments':0,\n",
    "    'Low_spent_Medium_value_payments'  :1,\n",
    "    'Low_spent_Large_value_payments' :2,\n",
    "    'High_spent_Small_value_payments' :3,\n",
    "    'High_spent_Medium_value_payments' :4,\n",
    "    'High_spent_Large_value_payments'  :5\n",
    "}\n",
    "\n",
    "idx2pb = {\n",
    "    number: string for string, number in pb2idx.items()\n",
    "}\n",
    "\n",
    "print(pb2idx)\n",
    "print(idx2pb)"
   ],
   "metadata": {
    "collapsed": false
   }
  },
  {
   "cell_type": "code",
   "execution_count": 13,
   "outputs": [],
   "source": [
    "cleaned_df['Payment_Behaviour'] = cleaned_df['Payment_Behaviour'].map(pb2idx)"
   ],
   "metadata": {
    "collapsed": false
   }
  },
  {
   "cell_type": "code",
   "execution_count": 14,
   "outputs": [
    {
     "data": {
      "text/plain": "0        3\n1        2\n2        1\n3        0\n4        4\n        ..\n99995    5\n99996    4\n99997    5\n99998    2\n99999    4\nName: Payment_Behaviour, Length: 100000, dtype: int64"
     },
     "execution_count": 14,
     "metadata": {},
     "output_type": "execute_result"
    }
   ],
   "source": [
    "cleaned_df['Payment_Behaviour']"
   ],
   "metadata": {
    "collapsed": false
   }
  },
  {
   "cell_type": "markdown",
   "source": [
    "#### Credit Mix Encoding"
   ],
   "metadata": {
    "collapsed": false
   }
  },
  {
   "cell_type": "code",
   "execution_count": 15,
   "outputs": [],
   "source": [
    "credit_mix_dict = {'Good': 2, 'Standard': 1, 'Bad': 0}\n",
    "\n",
    "mix2label = {number:string for string, number in credit_mix_dict.items()}"
   ],
   "metadata": {
    "collapsed": false
   }
  },
  {
   "cell_type": "code",
   "execution_count": 16,
   "outputs": [
    {
     "data": {
      "text/plain": "       Customer_ID  Month   Age  Monthly_Inhand_Salary  Num_Bank_Accounts  \\\n0             3392      1  23.0            1824.843333                3.0   \n1             3392      2  23.0            1824.843333                3.0   \n2             3392      3  23.0            1824.843333                3.0   \n3             3392      4  23.0            1824.843333                3.0   \n4             3392      5  23.0            1824.843333                3.0   \n...            ...    ...   ...                    ...                ...   \n99995        37932      4  25.0            3359.415833                4.0   \n99996        37932      5  25.0            3359.415833                4.0   \n99997        37932      6  25.0            3359.415833                4.0   \n99998        37932      7  25.0            3359.415833                4.0   \n99999        37932      8  25.0            3359.415833                4.0   \n\n       Num_Credit_Card  Interest_Rate  Num_of_Loan  Delay_from_due_date  \\\n0                  4.0            3.0          4.0                  3.0   \n1                  4.0            3.0          4.0                  3.0   \n2                  4.0            3.0          4.0                  3.0   \n3                  4.0            3.0          4.0                  5.0   \n4                  4.0            3.0          4.0                  6.0   \n...                ...            ...          ...                  ...   \n99995              6.0            7.0          2.0                 23.0   \n99996              6.0            7.0          2.0                 18.0   \n99997              6.0            7.0          2.0                 27.0   \n99998              6.0            7.0          2.0                 20.0   \n99999              6.0            7.0          2.0                 18.0   \n\n       Num_of_Delayed_Payment  ...  Credit_Mix  Outstanding_Debt  \\\n0                         7.0  ...           2            809.98   \n1                         4.0  ...           2            809.98   \n2                         7.0  ...           2            809.98   \n3                         4.0  ...           2            809.98   \n4                         4.0  ...           2            809.98   \n...                       ...  ...         ...               ...   \n99995                     7.0  ...           2            502.38   \n99996                     7.0  ...           2            502.38   \n99997                     6.0  ...           2            502.38   \n99998                     6.0  ...           2            502.38   \n99999                     6.0  ...           2            502.38   \n\n       Credit_Utilization_Ratio  Credit_History_Age  Payment_of_Min_Amount  \\\n0                     26.822620               265.0                     No   \n1                     31.944960               266.0                     No   \n2                     28.609352               267.0                     No   \n3                     31.377862               268.0                     No   \n4                     24.797347               269.0                     No   \n...                         ...                 ...                    ...   \n99995                 34.663572               378.0                     No   \n99996                 40.565631               379.0                     No   \n99997                 41.255522               380.0                     No   \n99998                 33.638208               381.0                     No   \n99999                 34.192463               382.0                     No   \n\n       Total_EMI_per_month Amount_invested_monthly  Payment_Behaviour  \\\n0                49.574949               21.465380                  3   \n1                49.574949               21.465380                  2   \n2                49.574949               21.465380                  1   \n3                49.574949               21.465380                  0   \n4                49.574949               21.465380                  4   \n...                    ...                     ...                ...   \n99995            35.104023               24.028477                  5   \n99996            35.104023               24.028477                  4   \n99997            35.104023               24.028477                  5   \n99998            35.104023               24.028477                  2   \n99999            35.104023               24.028477                  4   \n\n       Monthly_Balance  Credit_Score  \n0           312.494089             2  \n1           284.629162             2  \n2           331.209863             2  \n3           223.451310             2  \n4           341.489231             2  \n...                ...           ...  \n99995       479.866228             0  \n99996       496.651610             0  \n99997       516.809083             0  \n99998       319.164979             1  \n99999       393.673696             0  \n\n[100000 rows x 22 columns]",
      "text/html": "<div>\n<style scoped>\n    .dataframe tbody tr th:only-of-type {\n        vertical-align: middle;\n    }\n\n    .dataframe tbody tr th {\n        vertical-align: top;\n    }\n\n    .dataframe thead th {\n        text-align: right;\n    }\n</style>\n<table border=\"1\" class=\"dataframe\">\n  <thead>\n    <tr style=\"text-align: right;\">\n      <th></th>\n      <th>Customer_ID</th>\n      <th>Month</th>\n      <th>Age</th>\n      <th>Monthly_Inhand_Salary</th>\n      <th>Num_Bank_Accounts</th>\n      <th>Num_Credit_Card</th>\n      <th>Interest_Rate</th>\n      <th>Num_of_Loan</th>\n      <th>Delay_from_due_date</th>\n      <th>Num_of_Delayed_Payment</th>\n      <th>...</th>\n      <th>Credit_Mix</th>\n      <th>Outstanding_Debt</th>\n      <th>Credit_Utilization_Ratio</th>\n      <th>Credit_History_Age</th>\n      <th>Payment_of_Min_Amount</th>\n      <th>Total_EMI_per_month</th>\n      <th>Amount_invested_monthly</th>\n      <th>Payment_Behaviour</th>\n      <th>Monthly_Balance</th>\n      <th>Credit_Score</th>\n    </tr>\n  </thead>\n  <tbody>\n    <tr>\n      <th>0</th>\n      <td>3392</td>\n      <td>1</td>\n      <td>23.0</td>\n      <td>1824.843333</td>\n      <td>3.0</td>\n      <td>4.0</td>\n      <td>3.0</td>\n      <td>4.0</td>\n      <td>3.0</td>\n      <td>7.0</td>\n      <td>...</td>\n      <td>2</td>\n      <td>809.98</td>\n      <td>26.822620</td>\n      <td>265.0</td>\n      <td>No</td>\n      <td>49.574949</td>\n      <td>21.465380</td>\n      <td>3</td>\n      <td>312.494089</td>\n      <td>2</td>\n    </tr>\n    <tr>\n      <th>1</th>\n      <td>3392</td>\n      <td>2</td>\n      <td>23.0</td>\n      <td>1824.843333</td>\n      <td>3.0</td>\n      <td>4.0</td>\n      <td>3.0</td>\n      <td>4.0</td>\n      <td>3.0</td>\n      <td>4.0</td>\n      <td>...</td>\n      <td>2</td>\n      <td>809.98</td>\n      <td>31.944960</td>\n      <td>266.0</td>\n      <td>No</td>\n      <td>49.574949</td>\n      <td>21.465380</td>\n      <td>2</td>\n      <td>284.629162</td>\n      <td>2</td>\n    </tr>\n    <tr>\n      <th>2</th>\n      <td>3392</td>\n      <td>3</td>\n      <td>23.0</td>\n      <td>1824.843333</td>\n      <td>3.0</td>\n      <td>4.0</td>\n      <td>3.0</td>\n      <td>4.0</td>\n      <td>3.0</td>\n      <td>7.0</td>\n      <td>...</td>\n      <td>2</td>\n      <td>809.98</td>\n      <td>28.609352</td>\n      <td>267.0</td>\n      <td>No</td>\n      <td>49.574949</td>\n      <td>21.465380</td>\n      <td>1</td>\n      <td>331.209863</td>\n      <td>2</td>\n    </tr>\n    <tr>\n      <th>3</th>\n      <td>3392</td>\n      <td>4</td>\n      <td>23.0</td>\n      <td>1824.843333</td>\n      <td>3.0</td>\n      <td>4.0</td>\n      <td>3.0</td>\n      <td>4.0</td>\n      <td>5.0</td>\n      <td>4.0</td>\n      <td>...</td>\n      <td>2</td>\n      <td>809.98</td>\n      <td>31.377862</td>\n      <td>268.0</td>\n      <td>No</td>\n      <td>49.574949</td>\n      <td>21.465380</td>\n      <td>0</td>\n      <td>223.451310</td>\n      <td>2</td>\n    </tr>\n    <tr>\n      <th>4</th>\n      <td>3392</td>\n      <td>5</td>\n      <td>23.0</td>\n      <td>1824.843333</td>\n      <td>3.0</td>\n      <td>4.0</td>\n      <td>3.0</td>\n      <td>4.0</td>\n      <td>6.0</td>\n      <td>4.0</td>\n      <td>...</td>\n      <td>2</td>\n      <td>809.98</td>\n      <td>24.797347</td>\n      <td>269.0</td>\n      <td>No</td>\n      <td>49.574949</td>\n      <td>21.465380</td>\n      <td>4</td>\n      <td>341.489231</td>\n      <td>2</td>\n    </tr>\n    <tr>\n      <th>...</th>\n      <td>...</td>\n      <td>...</td>\n      <td>...</td>\n      <td>...</td>\n      <td>...</td>\n      <td>...</td>\n      <td>...</td>\n      <td>...</td>\n      <td>...</td>\n      <td>...</td>\n      <td>...</td>\n      <td>...</td>\n      <td>...</td>\n      <td>...</td>\n      <td>...</td>\n      <td>...</td>\n      <td>...</td>\n      <td>...</td>\n      <td>...</td>\n      <td>...</td>\n      <td>...</td>\n    </tr>\n    <tr>\n      <th>99995</th>\n      <td>37932</td>\n      <td>4</td>\n      <td>25.0</td>\n      <td>3359.415833</td>\n      <td>4.0</td>\n      <td>6.0</td>\n      <td>7.0</td>\n      <td>2.0</td>\n      <td>23.0</td>\n      <td>7.0</td>\n      <td>...</td>\n      <td>2</td>\n      <td>502.38</td>\n      <td>34.663572</td>\n      <td>378.0</td>\n      <td>No</td>\n      <td>35.104023</td>\n      <td>24.028477</td>\n      <td>5</td>\n      <td>479.866228</td>\n      <td>0</td>\n    </tr>\n    <tr>\n      <th>99996</th>\n      <td>37932</td>\n      <td>5</td>\n      <td>25.0</td>\n      <td>3359.415833</td>\n      <td>4.0</td>\n      <td>6.0</td>\n      <td>7.0</td>\n      <td>2.0</td>\n      <td>18.0</td>\n      <td>7.0</td>\n      <td>...</td>\n      <td>2</td>\n      <td>502.38</td>\n      <td>40.565631</td>\n      <td>379.0</td>\n      <td>No</td>\n      <td>35.104023</td>\n      <td>24.028477</td>\n      <td>4</td>\n      <td>496.651610</td>\n      <td>0</td>\n    </tr>\n    <tr>\n      <th>99997</th>\n      <td>37932</td>\n      <td>6</td>\n      <td>25.0</td>\n      <td>3359.415833</td>\n      <td>4.0</td>\n      <td>6.0</td>\n      <td>7.0</td>\n      <td>2.0</td>\n      <td>27.0</td>\n      <td>6.0</td>\n      <td>...</td>\n      <td>2</td>\n      <td>502.38</td>\n      <td>41.255522</td>\n      <td>380.0</td>\n      <td>No</td>\n      <td>35.104023</td>\n      <td>24.028477</td>\n      <td>5</td>\n      <td>516.809083</td>\n      <td>0</td>\n    </tr>\n    <tr>\n      <th>99998</th>\n      <td>37932</td>\n      <td>7</td>\n      <td>25.0</td>\n      <td>3359.415833</td>\n      <td>4.0</td>\n      <td>6.0</td>\n      <td>7.0</td>\n      <td>2.0</td>\n      <td>20.0</td>\n      <td>6.0</td>\n      <td>...</td>\n      <td>2</td>\n      <td>502.38</td>\n      <td>33.638208</td>\n      <td>381.0</td>\n      <td>No</td>\n      <td>35.104023</td>\n      <td>24.028477</td>\n      <td>2</td>\n      <td>319.164979</td>\n      <td>1</td>\n    </tr>\n    <tr>\n      <th>99999</th>\n      <td>37932</td>\n      <td>8</td>\n      <td>25.0</td>\n      <td>3359.415833</td>\n      <td>4.0</td>\n      <td>6.0</td>\n      <td>7.0</td>\n      <td>2.0</td>\n      <td>18.0</td>\n      <td>6.0</td>\n      <td>...</td>\n      <td>2</td>\n      <td>502.38</td>\n      <td>34.192463</td>\n      <td>382.0</td>\n      <td>No</td>\n      <td>35.104023</td>\n      <td>24.028477</td>\n      <td>4</td>\n      <td>393.673696</td>\n      <td>0</td>\n    </tr>\n  </tbody>\n</table>\n<p>100000 rows × 22 columns</p>\n</div>"
     },
     "execution_count": 16,
     "metadata": {},
     "output_type": "execute_result"
    }
   ],
   "source": [
    "cleaned_df['Credit_Mix'] = cleaned_df['Credit_Mix'].map(credit_mix_dict)\n",
    "cleaned_df"
   ],
   "metadata": {
    "collapsed": false
   }
  },
  {
   "cell_type": "markdown",
   "source": [
    "#### Payment Min Encoding"
   ],
   "metadata": {
    "collapsed": false
   }
  },
  {
   "cell_type": "code",
   "execution_count": 17,
   "outputs": [
    {
     "data": {
      "text/plain": "Yes    52326\nNo     35667\nNM     12007\nName: Payment_of_Min_Amount, dtype: int64"
     },
     "execution_count": 17,
     "metadata": {},
     "output_type": "execute_result"
    }
   ],
   "source": [
    "cleaned_df['Payment_of_Min_Amount'].value_counts()"
   ],
   "metadata": {
    "collapsed": false
   }
  },
  {
   "cell_type": "code",
   "execution_count": 18,
   "outputs": [],
   "source": [
    "from sklearn.preprocessing import LabelEncoder"
   ],
   "metadata": {
    "collapsed": false
   }
  },
  {
   "cell_type": "code",
   "execution_count": 19,
   "outputs": [],
   "source": [
    "le = LabelEncoder()\n",
    "\n",
    "cleaned_df['Payment_of_Min_Amount'] = le.fit_transform(cleaned_df['Payment_of_Min_Amount'])\n",
    "\n",
    "pma_classes = le.classes_"
   ],
   "metadata": {
    "collapsed": false
   }
  },
  {
   "cell_type": "code",
   "execution_count": 20,
   "outputs": [
    {
     "name": "stdout",
     "output_type": "stream",
     "text": [
      "['NM' 'No' 'Yes']\n",
      "0        1\n",
      "1        1\n",
      "2        1\n",
      "3        1\n",
      "4        1\n",
      "        ..\n",
      "99995    1\n",
      "99996    1\n",
      "99997    1\n",
      "99998    1\n",
      "99999    1\n",
      "Name: Payment_of_Min_Amount, Length: 100000, dtype: int64\n"
     ]
    }
   ],
   "source": [
    "print(pma_classes)\n",
    "print(cleaned_df['Payment_of_Min_Amount'])\n"
   ],
   "metadata": {
    "collapsed": false
   }
  },
  {
   "cell_type": "markdown",
   "source": [
    "#### Age Binning"
   ],
   "metadata": {
    "collapsed": false
   }
  },
  {
   "cell_type": "code",
   "execution_count": 21,
   "outputs": [
    {
     "data": {
      "text/plain": "count     100000\nunique         5\ntop           30\nfreq       28968\nName: Age, dtype: int64"
     },
     "execution_count": 21,
     "metadata": {},
     "output_type": "execute_result"
    }
   ],
   "source": [
    "age_range = [10, 20, 30, 40, 50, 60]\n",
    "age_labels = [10, 20, 30, 40, 50]\n",
    "age_bins = pd.cut(cleaned_df['Age'], bins=age_range, labels=age_labels)\n",
    "age_bins.describe()"
   ],
   "metadata": {
    "collapsed": false
   }
  },
  {
   "cell_type": "code",
   "execution_count": 22,
   "outputs": [
    {
     "data": {
      "text/plain": "0        20\n1        20\n2        20\n3        20\n4        20\n         ..\n99995    20\n99996    20\n99997    20\n99998    20\n99999    20\nName: Age, Length: 100000, dtype: category\nCategories (5, int64): [10 < 20 < 30 < 40 < 50]"
     },
     "execution_count": 22,
     "metadata": {},
     "output_type": "execute_result"
    }
   ],
   "source": [
    "age_bins"
   ],
   "metadata": {
    "collapsed": false
   }
  },
  {
   "cell_type": "code",
   "execution_count": 23,
   "outputs": [
    {
     "data": {
      "text/plain": "0        20\n1        20\n2        20\n3        20\n4        20\n         ..\n99995    20\n99996    20\n99997    20\n99998    20\n99999    20\nName: Age, Length: 100000, dtype: category\nCategories (5, int64): [10 < 20 < 30 < 40 < 50]"
     },
     "execution_count": 23,
     "metadata": {},
     "output_type": "execute_result"
    }
   ],
   "source": [
    "cleaned_df['Age'] = age_bins\n",
    "cleaned_df['Age']"
   ],
   "metadata": {
    "collapsed": false
   }
  },
  {
   "cell_type": "code",
   "execution_count": 24,
   "outputs": [
    {
     "data": {
      "text/plain": "       Customer_ID  Month Age  Monthly_Inhand_Salary  Num_Bank_Accounts  \\\n0             3392      1  20            1824.843333                3.0   \n1             3392      2  20            1824.843333                3.0   \n2             3392      3  20            1824.843333                3.0   \n3             3392      4  20            1824.843333                3.0   \n4             3392      5  20            1824.843333                3.0   \n...            ...    ...  ..                    ...                ...   \n99995        37932      4  20            3359.415833                4.0   \n99996        37932      5  20            3359.415833                4.0   \n99997        37932      6  20            3359.415833                4.0   \n99998        37932      7  20            3359.415833                4.0   \n99999        37932      8  20            3359.415833                4.0   \n\n       Num_Credit_Card  Interest_Rate  Num_of_Loan  Delay_from_due_date  \\\n0                  4.0            3.0          4.0                  3.0   \n1                  4.0            3.0          4.0                  3.0   \n2                  4.0            3.0          4.0                  3.0   \n3                  4.0            3.0          4.0                  5.0   \n4                  4.0            3.0          4.0                  6.0   \n...                ...            ...          ...                  ...   \n99995              6.0            7.0          2.0                 23.0   \n99996              6.0            7.0          2.0                 18.0   \n99997              6.0            7.0          2.0                 27.0   \n99998              6.0            7.0          2.0                 20.0   \n99999              6.0            7.0          2.0                 18.0   \n\n       Num_of_Delayed_Payment  ...  Credit_Mix  Outstanding_Debt  \\\n0                         7.0  ...           2            809.98   \n1                         4.0  ...           2            809.98   \n2                         7.0  ...           2            809.98   \n3                         4.0  ...           2            809.98   \n4                         4.0  ...           2            809.98   \n...                       ...  ...         ...               ...   \n99995                     7.0  ...           2            502.38   \n99996                     7.0  ...           2            502.38   \n99997                     6.0  ...           2            502.38   \n99998                     6.0  ...           2            502.38   \n99999                     6.0  ...           2            502.38   \n\n       Credit_Utilization_Ratio  Credit_History_Age  Payment_of_Min_Amount  \\\n0                     26.822620               265.0                      1   \n1                     31.944960               266.0                      1   \n2                     28.609352               267.0                      1   \n3                     31.377862               268.0                      1   \n4                     24.797347               269.0                      1   \n...                         ...                 ...                    ...   \n99995                 34.663572               378.0                      1   \n99996                 40.565631               379.0                      1   \n99997                 41.255522               380.0                      1   \n99998                 33.638208               381.0                      1   \n99999                 34.192463               382.0                      1   \n\n       Total_EMI_per_month  Amount_invested_monthly  Payment_Behaviour  \\\n0                49.574949                21.465380                  3   \n1                49.574949                21.465380                  2   \n2                49.574949                21.465380                  1   \n3                49.574949                21.465380                  0   \n4                49.574949                21.465380                  4   \n...                    ...                      ...                ...   \n99995            35.104023                24.028477                  5   \n99996            35.104023                24.028477                  4   \n99997            35.104023                24.028477                  5   \n99998            35.104023                24.028477                  2   \n99999            35.104023                24.028477                  4   \n\n       Monthly_Balance  Credit_Score  \n0           312.494089             2  \n1           284.629162             2  \n2           331.209863             2  \n3           223.451310             2  \n4           341.489231             2  \n...                ...           ...  \n99995       479.866228             0  \n99996       496.651610             0  \n99997       516.809083             0  \n99998       319.164979             1  \n99999       393.673696             0  \n\n[100000 rows x 22 columns]",
      "text/html": "<div>\n<style scoped>\n    .dataframe tbody tr th:only-of-type {\n        vertical-align: middle;\n    }\n\n    .dataframe tbody tr th {\n        vertical-align: top;\n    }\n\n    .dataframe thead th {\n        text-align: right;\n    }\n</style>\n<table border=\"1\" class=\"dataframe\">\n  <thead>\n    <tr style=\"text-align: right;\">\n      <th></th>\n      <th>Customer_ID</th>\n      <th>Month</th>\n      <th>Age</th>\n      <th>Monthly_Inhand_Salary</th>\n      <th>Num_Bank_Accounts</th>\n      <th>Num_Credit_Card</th>\n      <th>Interest_Rate</th>\n      <th>Num_of_Loan</th>\n      <th>Delay_from_due_date</th>\n      <th>Num_of_Delayed_Payment</th>\n      <th>...</th>\n      <th>Credit_Mix</th>\n      <th>Outstanding_Debt</th>\n      <th>Credit_Utilization_Ratio</th>\n      <th>Credit_History_Age</th>\n      <th>Payment_of_Min_Amount</th>\n      <th>Total_EMI_per_month</th>\n      <th>Amount_invested_monthly</th>\n      <th>Payment_Behaviour</th>\n      <th>Monthly_Balance</th>\n      <th>Credit_Score</th>\n    </tr>\n  </thead>\n  <tbody>\n    <tr>\n      <th>0</th>\n      <td>3392</td>\n      <td>1</td>\n      <td>20</td>\n      <td>1824.843333</td>\n      <td>3.0</td>\n      <td>4.0</td>\n      <td>3.0</td>\n      <td>4.0</td>\n      <td>3.0</td>\n      <td>7.0</td>\n      <td>...</td>\n      <td>2</td>\n      <td>809.98</td>\n      <td>26.822620</td>\n      <td>265.0</td>\n      <td>1</td>\n      <td>49.574949</td>\n      <td>21.465380</td>\n      <td>3</td>\n      <td>312.494089</td>\n      <td>2</td>\n    </tr>\n    <tr>\n      <th>1</th>\n      <td>3392</td>\n      <td>2</td>\n      <td>20</td>\n      <td>1824.843333</td>\n      <td>3.0</td>\n      <td>4.0</td>\n      <td>3.0</td>\n      <td>4.0</td>\n      <td>3.0</td>\n      <td>4.0</td>\n      <td>...</td>\n      <td>2</td>\n      <td>809.98</td>\n      <td>31.944960</td>\n      <td>266.0</td>\n      <td>1</td>\n      <td>49.574949</td>\n      <td>21.465380</td>\n      <td>2</td>\n      <td>284.629162</td>\n      <td>2</td>\n    </tr>\n    <tr>\n      <th>2</th>\n      <td>3392</td>\n      <td>3</td>\n      <td>20</td>\n      <td>1824.843333</td>\n      <td>3.0</td>\n      <td>4.0</td>\n      <td>3.0</td>\n      <td>4.0</td>\n      <td>3.0</td>\n      <td>7.0</td>\n      <td>...</td>\n      <td>2</td>\n      <td>809.98</td>\n      <td>28.609352</td>\n      <td>267.0</td>\n      <td>1</td>\n      <td>49.574949</td>\n      <td>21.465380</td>\n      <td>1</td>\n      <td>331.209863</td>\n      <td>2</td>\n    </tr>\n    <tr>\n      <th>3</th>\n      <td>3392</td>\n      <td>4</td>\n      <td>20</td>\n      <td>1824.843333</td>\n      <td>3.0</td>\n      <td>4.0</td>\n      <td>3.0</td>\n      <td>4.0</td>\n      <td>5.0</td>\n      <td>4.0</td>\n      <td>...</td>\n      <td>2</td>\n      <td>809.98</td>\n      <td>31.377862</td>\n      <td>268.0</td>\n      <td>1</td>\n      <td>49.574949</td>\n      <td>21.465380</td>\n      <td>0</td>\n      <td>223.451310</td>\n      <td>2</td>\n    </tr>\n    <tr>\n      <th>4</th>\n      <td>3392</td>\n      <td>5</td>\n      <td>20</td>\n      <td>1824.843333</td>\n      <td>3.0</td>\n      <td>4.0</td>\n      <td>3.0</td>\n      <td>4.0</td>\n      <td>6.0</td>\n      <td>4.0</td>\n      <td>...</td>\n      <td>2</td>\n      <td>809.98</td>\n      <td>24.797347</td>\n      <td>269.0</td>\n      <td>1</td>\n      <td>49.574949</td>\n      <td>21.465380</td>\n      <td>4</td>\n      <td>341.489231</td>\n      <td>2</td>\n    </tr>\n    <tr>\n      <th>...</th>\n      <td>...</td>\n      <td>...</td>\n      <td>...</td>\n      <td>...</td>\n      <td>...</td>\n      <td>...</td>\n      <td>...</td>\n      <td>...</td>\n      <td>...</td>\n      <td>...</td>\n      <td>...</td>\n      <td>...</td>\n      <td>...</td>\n      <td>...</td>\n      <td>...</td>\n      <td>...</td>\n      <td>...</td>\n      <td>...</td>\n      <td>...</td>\n      <td>...</td>\n      <td>...</td>\n    </tr>\n    <tr>\n      <th>99995</th>\n      <td>37932</td>\n      <td>4</td>\n      <td>20</td>\n      <td>3359.415833</td>\n      <td>4.0</td>\n      <td>6.0</td>\n      <td>7.0</td>\n      <td>2.0</td>\n      <td>23.0</td>\n      <td>7.0</td>\n      <td>...</td>\n      <td>2</td>\n      <td>502.38</td>\n      <td>34.663572</td>\n      <td>378.0</td>\n      <td>1</td>\n      <td>35.104023</td>\n      <td>24.028477</td>\n      <td>5</td>\n      <td>479.866228</td>\n      <td>0</td>\n    </tr>\n    <tr>\n      <th>99996</th>\n      <td>37932</td>\n      <td>5</td>\n      <td>20</td>\n      <td>3359.415833</td>\n      <td>4.0</td>\n      <td>6.0</td>\n      <td>7.0</td>\n      <td>2.0</td>\n      <td>18.0</td>\n      <td>7.0</td>\n      <td>...</td>\n      <td>2</td>\n      <td>502.38</td>\n      <td>40.565631</td>\n      <td>379.0</td>\n      <td>1</td>\n      <td>35.104023</td>\n      <td>24.028477</td>\n      <td>4</td>\n      <td>496.651610</td>\n      <td>0</td>\n    </tr>\n    <tr>\n      <th>99997</th>\n      <td>37932</td>\n      <td>6</td>\n      <td>20</td>\n      <td>3359.415833</td>\n      <td>4.0</td>\n      <td>6.0</td>\n      <td>7.0</td>\n      <td>2.0</td>\n      <td>27.0</td>\n      <td>6.0</td>\n      <td>...</td>\n      <td>2</td>\n      <td>502.38</td>\n      <td>41.255522</td>\n      <td>380.0</td>\n      <td>1</td>\n      <td>35.104023</td>\n      <td>24.028477</td>\n      <td>5</td>\n      <td>516.809083</td>\n      <td>0</td>\n    </tr>\n    <tr>\n      <th>99998</th>\n      <td>37932</td>\n      <td>7</td>\n      <td>20</td>\n      <td>3359.415833</td>\n      <td>4.0</td>\n      <td>6.0</td>\n      <td>7.0</td>\n      <td>2.0</td>\n      <td>20.0</td>\n      <td>6.0</td>\n      <td>...</td>\n      <td>2</td>\n      <td>502.38</td>\n      <td>33.638208</td>\n      <td>381.0</td>\n      <td>1</td>\n      <td>35.104023</td>\n      <td>24.028477</td>\n      <td>2</td>\n      <td>319.164979</td>\n      <td>1</td>\n    </tr>\n    <tr>\n      <th>99999</th>\n      <td>37932</td>\n      <td>8</td>\n      <td>20</td>\n      <td>3359.415833</td>\n      <td>4.0</td>\n      <td>6.0</td>\n      <td>7.0</td>\n      <td>2.0</td>\n      <td>18.0</td>\n      <td>6.0</td>\n      <td>...</td>\n      <td>2</td>\n      <td>502.38</td>\n      <td>34.192463</td>\n      <td>382.0</td>\n      <td>1</td>\n      <td>35.104023</td>\n      <td>24.028477</td>\n      <td>4</td>\n      <td>393.673696</td>\n      <td>0</td>\n    </tr>\n  </tbody>\n</table>\n<p>100000 rows × 22 columns</p>\n</div>"
     },
     "execution_count": 24,
     "metadata": {},
     "output_type": "execute_result"
    }
   ],
   "source": [
    "cleaned_df"
   ],
   "metadata": {
    "collapsed": false
   }
  },
  {
   "cell_type": "markdown",
   "source": [
    "### Dummy 만들기"
   ],
   "metadata": {
    "collapsed": false
   }
  },
  {
   "cell_type": "code",
   "execution_count": 25,
   "outputs": [],
   "source": [
    "def dummy_make_do (cols, input_data, thresh=5):\n",
    "    \"\"\"\n",
    "    특정값을 기준으로 Y/N 더미변수로 만들기 위한 함수\n",
    "    params:\n",
    "      cols : 전처리 대상 features\n",
    "      data : 원본 데이터\n",
    "      thresh : 0/1 으로 만들기 위한 기준\n",
    "    \"\"\"\n",
    "\n",
    "    data = input_data.copy()\n",
    "\n",
    "    for col in cols:\n",
    "        data[col] = data.apply(get_dummy,axis=1,args=[col,thresh])\n",
    "\n",
    "    return data\n",
    "\n",
    "def get_dummy(data, col ,thresh=5):\n",
    "\n",
    "    if data[col] >= thresh :\n",
    "        return 1\n",
    "    elif data[col] < thresh:\n",
    "        return 0\n",
    "    else:\n",
    "        return 2"
   ],
   "metadata": {
    "collapsed": false
   }
  },
  {
   "cell_type": "code",
   "execution_count": 26,
   "outputs": [
    {
     "name": "stdout",
     "output_type": "stream",
     "text": [
      "전\n",
      "   Num_of_Loan  Changed_Credit_Limit  Credit_History_Age\n",
      "0          4.0                 11.27               265.0\n",
      "1          4.0                 11.27               266.0\n",
      "2          4.0                 11.27               267.0\n",
      "3          4.0                  6.27               268.0\n",
      "4          4.0                 11.27               269.0\n",
      "\n",
      "후\n",
      "   Num_of_Loan  Changed_Credit_Limit  Credit_History_Age\n",
      "0            0                     0                   1\n",
      "1            0                     0                   1\n",
      "2            0                     0                   1\n",
      "3            0                     0                   1\n",
      "4            0                     0                   1\n"
     ]
    }
   ],
   "source": [
    "# 더미 생성\n",
    "\n",
    "print('전')\n",
    "print(cleaned_df[dummy_cols].head())\n",
    "\n",
    "cleaned_df = dummy_make_do(['Num_of_Loan'], cleaned_df, 5)\n",
    "cleaned_df = dummy_make_do(['Changed_Credit_Limit'], cleaned_df, 12)\n",
    "cleaned_df = dummy_make_do(['Credit_History_Age'], cleaned_df, 180)\n",
    "\n",
    "print('\\n후')\n",
    "print(cleaned_df[dummy_cols].head())"
   ],
   "metadata": {
    "collapsed": false
   }
  },
  {
   "cell_type": "markdown",
   "source": [
    "### Transformation"
   ],
   "metadata": {
    "collapsed": false
   }
  },
  {
   "cell_type": "code",
   "execution_count": 27,
   "outputs": [],
   "source": [
    "cleaned_df['Monthly_Inhand_Salary'] = np.log(cleaned_df['Monthly_Inhand_Salary'])\n",
    "cleaned_df['Amount_invested_monthly'] = np.sqrt(cleaned_df['Amount_invested_monthly'])\n",
    "cleaned_df['Outstanding_Debt'] = np.sqrt(cleaned_df['Outstanding_Debt'])\n",
    "cleaned_df['Delay_from_due_date'] = np.sqrt(cleaned_df['Delay_from_due_date'])"
   ],
   "metadata": {
    "collapsed": false
   }
  },
  {
   "cell_type": "code",
   "execution_count": 28,
   "outputs": [
    {
     "data": {
      "text/plain": "       Customer_ID  Month Age  Monthly_Inhand_Salary  Num_Bank_Accounts  \\\n0             3392      1  20               7.509249                3.0   \n1             3392      2  20               7.509249                3.0   \n2             3392      3  20               7.509249                3.0   \n3             3392      4  20               7.509249                3.0   \n4             3392      5  20               7.509249                3.0   \n...            ...    ...  ..                    ...                ...   \n99995        37932      4  20               8.119522                4.0   \n99996        37932      5  20               8.119522                4.0   \n99997        37932      6  20               8.119522                4.0   \n99998        37932      7  20               8.119522                4.0   \n99999        37932      8  20               8.119522                4.0   \n\n       Num_Credit_Card  Interest_Rate  Num_of_Loan  Delay_from_due_date  \\\n0                  4.0            3.0            0             1.732051   \n1                  4.0            3.0            0             1.732051   \n2                  4.0            3.0            0             1.732051   \n3                  4.0            3.0            0             2.236068   \n4                  4.0            3.0            0             2.449490   \n...                ...            ...          ...                  ...   \n99995              6.0            7.0            0             4.795832   \n99996              6.0            7.0            0             4.242641   \n99997              6.0            7.0            0             5.196152   \n99998              6.0            7.0            0             4.472136   \n99999              6.0            7.0            0             4.242641   \n\n       Num_of_Delayed_Payment  ...  Credit_Mix  Outstanding_Debt  \\\n0                         7.0  ...           2         28.460148   \n1                         4.0  ...           2         28.460148   \n2                         7.0  ...           2         28.460148   \n3                         4.0  ...           2         28.460148   \n4                         4.0  ...           2         28.460148   \n...                       ...  ...         ...               ...   \n99995                     7.0  ...           2         22.413835   \n99996                     7.0  ...           2         22.413835   \n99997                     6.0  ...           2         22.413835   \n99998                     6.0  ...           2         22.413835   \n99999                     6.0  ...           2         22.413835   \n\n       Credit_Utilization_Ratio  Credit_History_Age  Payment_of_Min_Amount  \\\n0                     26.822620                   1                      1   \n1                     31.944960                   1                      1   \n2                     28.609352                   1                      1   \n3                     31.377862                   1                      1   \n4                     24.797347                   1                      1   \n...                         ...                 ...                    ...   \n99995                 34.663572                   1                      1   \n99996                 40.565631                   1                      1   \n99997                 41.255522                   1                      1   \n99998                 33.638208                   1                      1   \n99999                 34.192463                   1                      1   \n\n       Total_EMI_per_month  Amount_invested_monthly  Payment_Behaviour  \\\n0                49.574949                 4.633075                  3   \n1                49.574949                 4.633075                  2   \n2                49.574949                 4.633075                  1   \n3                49.574949                 4.633075                  0   \n4                49.574949                 4.633075                  4   \n...                    ...                      ...                ...   \n99995            35.104023                 4.901885                  5   \n99996            35.104023                 4.901885                  4   \n99997            35.104023                 4.901885                  5   \n99998            35.104023                 4.901885                  2   \n99999            35.104023                 4.901885                  4   \n\n       Monthly_Balance  Credit_Score  \n0           312.494089             2  \n1           284.629162             2  \n2           331.209863             2  \n3           223.451310             2  \n4           341.489231             2  \n...                ...           ...  \n99995       479.866228             0  \n99996       496.651610             0  \n99997       516.809083             0  \n99998       319.164979             1  \n99999       393.673696             0  \n\n[100000 rows x 22 columns]",
      "text/html": "<div>\n<style scoped>\n    .dataframe tbody tr th:only-of-type {\n        vertical-align: middle;\n    }\n\n    .dataframe tbody tr th {\n        vertical-align: top;\n    }\n\n    .dataframe thead th {\n        text-align: right;\n    }\n</style>\n<table border=\"1\" class=\"dataframe\">\n  <thead>\n    <tr style=\"text-align: right;\">\n      <th></th>\n      <th>Customer_ID</th>\n      <th>Month</th>\n      <th>Age</th>\n      <th>Monthly_Inhand_Salary</th>\n      <th>Num_Bank_Accounts</th>\n      <th>Num_Credit_Card</th>\n      <th>Interest_Rate</th>\n      <th>Num_of_Loan</th>\n      <th>Delay_from_due_date</th>\n      <th>Num_of_Delayed_Payment</th>\n      <th>...</th>\n      <th>Credit_Mix</th>\n      <th>Outstanding_Debt</th>\n      <th>Credit_Utilization_Ratio</th>\n      <th>Credit_History_Age</th>\n      <th>Payment_of_Min_Amount</th>\n      <th>Total_EMI_per_month</th>\n      <th>Amount_invested_monthly</th>\n      <th>Payment_Behaviour</th>\n      <th>Monthly_Balance</th>\n      <th>Credit_Score</th>\n    </tr>\n  </thead>\n  <tbody>\n    <tr>\n      <th>0</th>\n      <td>3392</td>\n      <td>1</td>\n      <td>20</td>\n      <td>7.509249</td>\n      <td>3.0</td>\n      <td>4.0</td>\n      <td>3.0</td>\n      <td>0</td>\n      <td>1.732051</td>\n      <td>7.0</td>\n      <td>...</td>\n      <td>2</td>\n      <td>28.460148</td>\n      <td>26.822620</td>\n      <td>1</td>\n      <td>1</td>\n      <td>49.574949</td>\n      <td>4.633075</td>\n      <td>3</td>\n      <td>312.494089</td>\n      <td>2</td>\n    </tr>\n    <tr>\n      <th>1</th>\n      <td>3392</td>\n      <td>2</td>\n      <td>20</td>\n      <td>7.509249</td>\n      <td>3.0</td>\n      <td>4.0</td>\n      <td>3.0</td>\n      <td>0</td>\n      <td>1.732051</td>\n      <td>4.0</td>\n      <td>...</td>\n      <td>2</td>\n      <td>28.460148</td>\n      <td>31.944960</td>\n      <td>1</td>\n      <td>1</td>\n      <td>49.574949</td>\n      <td>4.633075</td>\n      <td>2</td>\n      <td>284.629162</td>\n      <td>2</td>\n    </tr>\n    <tr>\n      <th>2</th>\n      <td>3392</td>\n      <td>3</td>\n      <td>20</td>\n      <td>7.509249</td>\n      <td>3.0</td>\n      <td>4.0</td>\n      <td>3.0</td>\n      <td>0</td>\n      <td>1.732051</td>\n      <td>7.0</td>\n      <td>...</td>\n      <td>2</td>\n      <td>28.460148</td>\n      <td>28.609352</td>\n      <td>1</td>\n      <td>1</td>\n      <td>49.574949</td>\n      <td>4.633075</td>\n      <td>1</td>\n      <td>331.209863</td>\n      <td>2</td>\n    </tr>\n    <tr>\n      <th>3</th>\n      <td>3392</td>\n      <td>4</td>\n      <td>20</td>\n      <td>7.509249</td>\n      <td>3.0</td>\n      <td>4.0</td>\n      <td>3.0</td>\n      <td>0</td>\n      <td>2.236068</td>\n      <td>4.0</td>\n      <td>...</td>\n      <td>2</td>\n      <td>28.460148</td>\n      <td>31.377862</td>\n      <td>1</td>\n      <td>1</td>\n      <td>49.574949</td>\n      <td>4.633075</td>\n      <td>0</td>\n      <td>223.451310</td>\n      <td>2</td>\n    </tr>\n    <tr>\n      <th>4</th>\n      <td>3392</td>\n      <td>5</td>\n      <td>20</td>\n      <td>7.509249</td>\n      <td>3.0</td>\n      <td>4.0</td>\n      <td>3.0</td>\n      <td>0</td>\n      <td>2.449490</td>\n      <td>4.0</td>\n      <td>...</td>\n      <td>2</td>\n      <td>28.460148</td>\n      <td>24.797347</td>\n      <td>1</td>\n      <td>1</td>\n      <td>49.574949</td>\n      <td>4.633075</td>\n      <td>4</td>\n      <td>341.489231</td>\n      <td>2</td>\n    </tr>\n    <tr>\n      <th>...</th>\n      <td>...</td>\n      <td>...</td>\n      <td>...</td>\n      <td>...</td>\n      <td>...</td>\n      <td>...</td>\n      <td>...</td>\n      <td>...</td>\n      <td>...</td>\n      <td>...</td>\n      <td>...</td>\n      <td>...</td>\n      <td>...</td>\n      <td>...</td>\n      <td>...</td>\n      <td>...</td>\n      <td>...</td>\n      <td>...</td>\n      <td>...</td>\n      <td>...</td>\n      <td>...</td>\n    </tr>\n    <tr>\n      <th>99995</th>\n      <td>37932</td>\n      <td>4</td>\n      <td>20</td>\n      <td>8.119522</td>\n      <td>4.0</td>\n      <td>6.0</td>\n      <td>7.0</td>\n      <td>0</td>\n      <td>4.795832</td>\n      <td>7.0</td>\n      <td>...</td>\n      <td>2</td>\n      <td>22.413835</td>\n      <td>34.663572</td>\n      <td>1</td>\n      <td>1</td>\n      <td>35.104023</td>\n      <td>4.901885</td>\n      <td>5</td>\n      <td>479.866228</td>\n      <td>0</td>\n    </tr>\n    <tr>\n      <th>99996</th>\n      <td>37932</td>\n      <td>5</td>\n      <td>20</td>\n      <td>8.119522</td>\n      <td>4.0</td>\n      <td>6.0</td>\n      <td>7.0</td>\n      <td>0</td>\n      <td>4.242641</td>\n      <td>7.0</td>\n      <td>...</td>\n      <td>2</td>\n      <td>22.413835</td>\n      <td>40.565631</td>\n      <td>1</td>\n      <td>1</td>\n      <td>35.104023</td>\n      <td>4.901885</td>\n      <td>4</td>\n      <td>496.651610</td>\n      <td>0</td>\n    </tr>\n    <tr>\n      <th>99997</th>\n      <td>37932</td>\n      <td>6</td>\n      <td>20</td>\n      <td>8.119522</td>\n      <td>4.0</td>\n      <td>6.0</td>\n      <td>7.0</td>\n      <td>0</td>\n      <td>5.196152</td>\n      <td>6.0</td>\n      <td>...</td>\n      <td>2</td>\n      <td>22.413835</td>\n      <td>41.255522</td>\n      <td>1</td>\n      <td>1</td>\n      <td>35.104023</td>\n      <td>4.901885</td>\n      <td>5</td>\n      <td>516.809083</td>\n      <td>0</td>\n    </tr>\n    <tr>\n      <th>99998</th>\n      <td>37932</td>\n      <td>7</td>\n      <td>20</td>\n      <td>8.119522</td>\n      <td>4.0</td>\n      <td>6.0</td>\n      <td>7.0</td>\n      <td>0</td>\n      <td>4.472136</td>\n      <td>6.0</td>\n      <td>...</td>\n      <td>2</td>\n      <td>22.413835</td>\n      <td>33.638208</td>\n      <td>1</td>\n      <td>1</td>\n      <td>35.104023</td>\n      <td>4.901885</td>\n      <td>2</td>\n      <td>319.164979</td>\n      <td>1</td>\n    </tr>\n    <tr>\n      <th>99999</th>\n      <td>37932</td>\n      <td>8</td>\n      <td>20</td>\n      <td>8.119522</td>\n      <td>4.0</td>\n      <td>6.0</td>\n      <td>7.0</td>\n      <td>0</td>\n      <td>4.242641</td>\n      <td>6.0</td>\n      <td>...</td>\n      <td>2</td>\n      <td>22.413835</td>\n      <td>34.192463</td>\n      <td>1</td>\n      <td>1</td>\n      <td>35.104023</td>\n      <td>4.901885</td>\n      <td>4</td>\n      <td>393.673696</td>\n      <td>0</td>\n    </tr>\n  </tbody>\n</table>\n<p>100000 rows × 22 columns</p>\n</div>"
     },
     "execution_count": 28,
     "metadata": {},
     "output_type": "execute_result"
    }
   ],
   "source": [
    "cleaned_df"
   ],
   "metadata": {
    "collapsed": false
   }
  },
  {
   "cell_type": "code",
   "execution_count": 28,
   "outputs": [],
   "source": [],
   "metadata": {
    "collapsed": false
   }
  },
  {
   "cell_type": "markdown",
   "source": [
    "## 3. Train Test 분할"
   ],
   "metadata": {
    "collapsed": false
   }
  },
  {
   "cell_type": "code",
   "execution_count": 29,
   "outputs": [],
   "source": [
    "def data_split(data):\n",
    "\n",
    "    train = data[data['Month'] <= 6]\n",
    "    test = data[data['Month'] > 6]\n",
    "\n",
    "    print('train_df shape: ', train.shape)\n",
    "    print('test_df shape: ', test.shape)\n",
    "\n",
    "    return train, test"
   ],
   "metadata": {
    "collapsed": false
   }
  },
  {
   "cell_type": "code",
   "execution_count": 30,
   "outputs": [
    {
     "name": "stdout",
     "output_type": "stream",
     "text": [
      "train_df shape:  (75000, 22)\n",
      "test_df shape:  (25000, 22)\n"
     ]
    }
   ],
   "source": [
    "train_df, test_df = data_split(cleaned_df)"
   ],
   "metadata": {
    "collapsed": false
   }
  },
  {
   "cell_type": "code",
   "execution_count": 31,
   "outputs": [
    {
     "data": {
      "text/plain": "       Customer_ID  Month Age  Monthly_Inhand_Salary  Num_Bank_Accounts  \\\n0             3392      1  20               7.509249                3.0   \n1             3392      2  20               7.509249                3.0   \n2             3392      3  20               7.509249                3.0   \n3             3392      4  20               7.509249                3.0   \n4             3392      5  20               7.509249                3.0   \n...            ...    ...  ..                    ...                ...   \n99993        37932      2  20               8.119522                4.0   \n99994        37932      3  20               8.119522                4.0   \n99995        37932      4  20               8.119522                4.0   \n99996        37932      5  20               8.119522                4.0   \n99997        37932      6  20               8.119522                4.0   \n\n       Num_Credit_Card  Interest_Rate  Num_of_Loan  Delay_from_due_date  \\\n0                  4.0            3.0            0             1.732051   \n1                  4.0            3.0            0             1.732051   \n2                  4.0            3.0            0             1.732051   \n3                  4.0            3.0            0             2.236068   \n4                  4.0            3.0            0             2.449490   \n...                ...            ...          ...                  ...   \n99993              6.0            7.0            0             4.795832   \n99994              6.0            7.0            0             4.472136   \n99995              6.0            7.0            0             4.795832   \n99996              6.0            7.0            0             4.242641   \n99997              6.0            7.0            0             5.196152   \n\n       Num_of_Delayed_Payment  ...  Credit_Mix  Outstanding_Debt  \\\n0                         7.0  ...           2         28.460148   \n1                         4.0  ...           2         28.460148   \n2                         7.0  ...           2         28.460148   \n3                         4.0  ...           2         28.460148   \n4                         4.0  ...           2         28.460148   \n...                       ...  ...         ...               ...   \n99993                     6.0  ...           2         22.413835   \n99994                     6.0  ...           2         22.413835   \n99995                     7.0  ...           2         22.413835   \n99996                     7.0  ...           2         22.413835   \n99997                     6.0  ...           2         22.413835   \n\n       Credit_Utilization_Ratio  Credit_History_Age  Payment_of_Min_Amount  \\\n0                     26.822620                   1                      1   \n1                     31.944960                   1                      1   \n2                     28.609352                   1                      1   \n3                     31.377862                   1                      1   \n4                     24.797347                   1                      1   \n...                         ...                 ...                    ...   \n99993                 29.135447                   1                      1   \n99994                 39.323569                   1                      1   \n99995                 34.663572                   1                      1   \n99996                 40.565631                   1                      1   \n99997                 41.255522                   1                      1   \n\n       Total_EMI_per_month  Amount_invested_monthly  Payment_Behaviour  \\\n0                49.574949                 4.633075                  3   \n1                49.574949                 4.633075                  2   \n2                49.574949                 4.633075                  1   \n3                49.574949                 4.633075                  0   \n4                49.574949                 4.633075                  4   \n...                    ...                      ...                ...   \n99993            35.104023                 4.901885                  1   \n99994            35.104023                 4.901885                  4   \n99995            35.104023                 4.901885                  5   \n99996            35.104023                 4.901885                  4   \n99997            35.104023                 4.901885                  5   \n\n       Monthly_Balance  Credit_Score  \n0           312.494089             2  \n1           284.629162             2  \n2           331.209863             2  \n3           223.451310             2  \n4           341.489231             2  \n...                ...           ...  \n99993       400.104466             1  \n99994       410.256158             0  \n99995       479.866228             0  \n99996       496.651610             0  \n99997       516.809083             0  \n\n[75000 rows x 22 columns]",
      "text/html": "<div>\n<style scoped>\n    .dataframe tbody tr th:only-of-type {\n        vertical-align: middle;\n    }\n\n    .dataframe tbody tr th {\n        vertical-align: top;\n    }\n\n    .dataframe thead th {\n        text-align: right;\n    }\n</style>\n<table border=\"1\" class=\"dataframe\">\n  <thead>\n    <tr style=\"text-align: right;\">\n      <th></th>\n      <th>Customer_ID</th>\n      <th>Month</th>\n      <th>Age</th>\n      <th>Monthly_Inhand_Salary</th>\n      <th>Num_Bank_Accounts</th>\n      <th>Num_Credit_Card</th>\n      <th>Interest_Rate</th>\n      <th>Num_of_Loan</th>\n      <th>Delay_from_due_date</th>\n      <th>Num_of_Delayed_Payment</th>\n      <th>...</th>\n      <th>Credit_Mix</th>\n      <th>Outstanding_Debt</th>\n      <th>Credit_Utilization_Ratio</th>\n      <th>Credit_History_Age</th>\n      <th>Payment_of_Min_Amount</th>\n      <th>Total_EMI_per_month</th>\n      <th>Amount_invested_monthly</th>\n      <th>Payment_Behaviour</th>\n      <th>Monthly_Balance</th>\n      <th>Credit_Score</th>\n    </tr>\n  </thead>\n  <tbody>\n    <tr>\n      <th>0</th>\n      <td>3392</td>\n      <td>1</td>\n      <td>20</td>\n      <td>7.509249</td>\n      <td>3.0</td>\n      <td>4.0</td>\n      <td>3.0</td>\n      <td>0</td>\n      <td>1.732051</td>\n      <td>7.0</td>\n      <td>...</td>\n      <td>2</td>\n      <td>28.460148</td>\n      <td>26.822620</td>\n      <td>1</td>\n      <td>1</td>\n      <td>49.574949</td>\n      <td>4.633075</td>\n      <td>3</td>\n      <td>312.494089</td>\n      <td>2</td>\n    </tr>\n    <tr>\n      <th>1</th>\n      <td>3392</td>\n      <td>2</td>\n      <td>20</td>\n      <td>7.509249</td>\n      <td>3.0</td>\n      <td>4.0</td>\n      <td>3.0</td>\n      <td>0</td>\n      <td>1.732051</td>\n      <td>4.0</td>\n      <td>...</td>\n      <td>2</td>\n      <td>28.460148</td>\n      <td>31.944960</td>\n      <td>1</td>\n      <td>1</td>\n      <td>49.574949</td>\n      <td>4.633075</td>\n      <td>2</td>\n      <td>284.629162</td>\n      <td>2</td>\n    </tr>\n    <tr>\n      <th>2</th>\n      <td>3392</td>\n      <td>3</td>\n      <td>20</td>\n      <td>7.509249</td>\n      <td>3.0</td>\n      <td>4.0</td>\n      <td>3.0</td>\n      <td>0</td>\n      <td>1.732051</td>\n      <td>7.0</td>\n      <td>...</td>\n      <td>2</td>\n      <td>28.460148</td>\n      <td>28.609352</td>\n      <td>1</td>\n      <td>1</td>\n      <td>49.574949</td>\n      <td>4.633075</td>\n      <td>1</td>\n      <td>331.209863</td>\n      <td>2</td>\n    </tr>\n    <tr>\n      <th>3</th>\n      <td>3392</td>\n      <td>4</td>\n      <td>20</td>\n      <td>7.509249</td>\n      <td>3.0</td>\n      <td>4.0</td>\n      <td>3.0</td>\n      <td>0</td>\n      <td>2.236068</td>\n      <td>4.0</td>\n      <td>...</td>\n      <td>2</td>\n      <td>28.460148</td>\n      <td>31.377862</td>\n      <td>1</td>\n      <td>1</td>\n      <td>49.574949</td>\n      <td>4.633075</td>\n      <td>0</td>\n      <td>223.451310</td>\n      <td>2</td>\n    </tr>\n    <tr>\n      <th>4</th>\n      <td>3392</td>\n      <td>5</td>\n      <td>20</td>\n      <td>7.509249</td>\n      <td>3.0</td>\n      <td>4.0</td>\n      <td>3.0</td>\n      <td>0</td>\n      <td>2.449490</td>\n      <td>4.0</td>\n      <td>...</td>\n      <td>2</td>\n      <td>28.460148</td>\n      <td>24.797347</td>\n      <td>1</td>\n      <td>1</td>\n      <td>49.574949</td>\n      <td>4.633075</td>\n      <td>4</td>\n      <td>341.489231</td>\n      <td>2</td>\n    </tr>\n    <tr>\n      <th>...</th>\n      <td>...</td>\n      <td>...</td>\n      <td>...</td>\n      <td>...</td>\n      <td>...</td>\n      <td>...</td>\n      <td>...</td>\n      <td>...</td>\n      <td>...</td>\n      <td>...</td>\n      <td>...</td>\n      <td>...</td>\n      <td>...</td>\n      <td>...</td>\n      <td>...</td>\n      <td>...</td>\n      <td>...</td>\n      <td>...</td>\n      <td>...</td>\n      <td>...</td>\n      <td>...</td>\n    </tr>\n    <tr>\n      <th>99993</th>\n      <td>37932</td>\n      <td>2</td>\n      <td>20</td>\n      <td>8.119522</td>\n      <td>4.0</td>\n      <td>6.0</td>\n      <td>7.0</td>\n      <td>0</td>\n      <td>4.795832</td>\n      <td>6.0</td>\n      <td>...</td>\n      <td>2</td>\n      <td>22.413835</td>\n      <td>29.135447</td>\n      <td>1</td>\n      <td>1</td>\n      <td>35.104023</td>\n      <td>4.901885</td>\n      <td>1</td>\n      <td>400.104466</td>\n      <td>1</td>\n    </tr>\n    <tr>\n      <th>99994</th>\n      <td>37932</td>\n      <td>3</td>\n      <td>20</td>\n      <td>8.119522</td>\n      <td>4.0</td>\n      <td>6.0</td>\n      <td>7.0</td>\n      <td>0</td>\n      <td>4.472136</td>\n      <td>6.0</td>\n      <td>...</td>\n      <td>2</td>\n      <td>22.413835</td>\n      <td>39.323569</td>\n      <td>1</td>\n      <td>1</td>\n      <td>35.104023</td>\n      <td>4.901885</td>\n      <td>4</td>\n      <td>410.256158</td>\n      <td>0</td>\n    </tr>\n    <tr>\n      <th>99995</th>\n      <td>37932</td>\n      <td>4</td>\n      <td>20</td>\n      <td>8.119522</td>\n      <td>4.0</td>\n      <td>6.0</td>\n      <td>7.0</td>\n      <td>0</td>\n      <td>4.795832</td>\n      <td>7.0</td>\n      <td>...</td>\n      <td>2</td>\n      <td>22.413835</td>\n      <td>34.663572</td>\n      <td>1</td>\n      <td>1</td>\n      <td>35.104023</td>\n      <td>4.901885</td>\n      <td>5</td>\n      <td>479.866228</td>\n      <td>0</td>\n    </tr>\n    <tr>\n      <th>99996</th>\n      <td>37932</td>\n      <td>5</td>\n      <td>20</td>\n      <td>8.119522</td>\n      <td>4.0</td>\n      <td>6.0</td>\n      <td>7.0</td>\n      <td>0</td>\n      <td>4.242641</td>\n      <td>7.0</td>\n      <td>...</td>\n      <td>2</td>\n      <td>22.413835</td>\n      <td>40.565631</td>\n      <td>1</td>\n      <td>1</td>\n      <td>35.104023</td>\n      <td>4.901885</td>\n      <td>4</td>\n      <td>496.651610</td>\n      <td>0</td>\n    </tr>\n    <tr>\n      <th>99997</th>\n      <td>37932</td>\n      <td>6</td>\n      <td>20</td>\n      <td>8.119522</td>\n      <td>4.0</td>\n      <td>6.0</td>\n      <td>7.0</td>\n      <td>0</td>\n      <td>5.196152</td>\n      <td>6.0</td>\n      <td>...</td>\n      <td>2</td>\n      <td>22.413835</td>\n      <td>41.255522</td>\n      <td>1</td>\n      <td>1</td>\n      <td>35.104023</td>\n      <td>4.901885</td>\n      <td>5</td>\n      <td>516.809083</td>\n      <td>0</td>\n    </tr>\n  </tbody>\n</table>\n<p>75000 rows × 22 columns</p>\n</div>"
     },
     "execution_count": 31,
     "metadata": {},
     "output_type": "execute_result"
    }
   ],
   "source": [
    "train_df"
   ],
   "metadata": {
    "collapsed": false
   }
  },
  {
   "cell_type": "code",
   "execution_count": 32,
   "outputs": [
    {
     "data": {
      "text/plain": "       Customer_ID  Month Age  Monthly_Inhand_Salary  Num_Bank_Accounts  \\\n6             3392      7  20               7.509249                3.0   \n7             3392      8  20               7.509249                3.0   \n14            8625      7  20               8.018950                2.0   \n15            8625      8  20               8.018950                2.0   \n22           11708      7  30               9.408143                1.0   \n...            ...    ...  ..                    ...                ...   \n99983        44897      8  40               8.038192                1.0   \n99990        34304      7  20               7.565227               10.0   \n99991        34304      8  20               7.565227               10.0   \n99998        37932      7  20               8.119522                4.0   \n99999        37932      8  20               8.119522                4.0   \n\n       Num_Credit_Card  Interest_Rate  Num_of_Loan  Delay_from_due_date  \\\n6                  4.0            3.0            0             1.732051   \n7                  4.0            3.0            0             1.732051   \n14                 4.0            6.0            0             1.732051   \n15                 4.0            6.0            0             1.732051   \n22                 5.0            8.0            0             2.828427   \n...                ...            ...          ...                  ...   \n99983              4.0            5.0            0             2.645751   \n99990              8.0           29.0            1             5.744563   \n99991              8.0           29.0            1             5.744563   \n99998              6.0            7.0            0             4.472136   \n99999              6.0            7.0            0             4.242641   \n\n       Num_of_Delayed_Payment  ...  Credit_Mix  Outstanding_Debt  \\\n6                         8.0  ...           2         28.460148   \n7                         6.0  ...           2         28.460148   \n14                        4.0  ...           2         24.597358   \n15                        4.0  ...           2         24.597358   \n22                        6.0  ...           2         36.097230   \n...                       ...  ...         ...               ...   \n99983                     9.0  ...           2         24.912647   \n99990                    25.0  ...           0         59.763701   \n99991                    25.0  ...           0         59.763701   \n99998                     6.0  ...           2         22.413835   \n99999                     6.0  ...           2         22.413835   \n\n       Credit_Utilization_Ratio  Credit_History_Age  Payment_of_Min_Amount  \\\n6                     22.537593                   1                      1   \n7                     23.933795                   1                      1   \n14                    31.131702                   1                      0   \n15                    32.933856                   1                      1   \n22                    38.068624                   1                      1   \n...                         ...                 ...                    ...   \n99983                 39.300980                   1                      1   \n99990                 25.123535                   0                      2   \n99991                 37.140784                   0                      2   \n99998                 33.638208                   1                      1   \n99999                 34.192463                   1                      1   \n\n       Total_EMI_per_month  Amount_invested_monthly  Payment_Behaviour  \\\n6                49.574949                 4.633075                  0   \n7                49.574949                 4.633075                  4   \n14               18.816215                 6.299525                  4   \n15               18.816215                 6.299525                  0   \n22              246.992319                12.977431                  3   \n...                    ...                      ...                ...   \n99983            84.205949                 6.552524                  4   \n99990            60.964772                 5.887521                  2   \n99991            60.964772                 5.887521                  5   \n99998            35.104023                 4.901885                  2   \n99999            35.104023                 4.901885                  4   \n\n       Monthly_Balance  Credit_Score  \n6           244.565317             2  \n7           358.124168             1  \n14          464.880678             2  \n15          356.078109             2  \n22          968.555517             1  \n...                ...           ...  \n99983       432.559318             2  \n99990       228.750392             1  \n99991       337.362988             1  \n99998       319.164979             1  \n99999       393.673696             0  \n\n[25000 rows x 22 columns]",
      "text/html": "<div>\n<style scoped>\n    .dataframe tbody tr th:only-of-type {\n        vertical-align: middle;\n    }\n\n    .dataframe tbody tr th {\n        vertical-align: top;\n    }\n\n    .dataframe thead th {\n        text-align: right;\n    }\n</style>\n<table border=\"1\" class=\"dataframe\">\n  <thead>\n    <tr style=\"text-align: right;\">\n      <th></th>\n      <th>Customer_ID</th>\n      <th>Month</th>\n      <th>Age</th>\n      <th>Monthly_Inhand_Salary</th>\n      <th>Num_Bank_Accounts</th>\n      <th>Num_Credit_Card</th>\n      <th>Interest_Rate</th>\n      <th>Num_of_Loan</th>\n      <th>Delay_from_due_date</th>\n      <th>Num_of_Delayed_Payment</th>\n      <th>...</th>\n      <th>Credit_Mix</th>\n      <th>Outstanding_Debt</th>\n      <th>Credit_Utilization_Ratio</th>\n      <th>Credit_History_Age</th>\n      <th>Payment_of_Min_Amount</th>\n      <th>Total_EMI_per_month</th>\n      <th>Amount_invested_monthly</th>\n      <th>Payment_Behaviour</th>\n      <th>Monthly_Balance</th>\n      <th>Credit_Score</th>\n    </tr>\n  </thead>\n  <tbody>\n    <tr>\n      <th>6</th>\n      <td>3392</td>\n      <td>7</td>\n      <td>20</td>\n      <td>7.509249</td>\n      <td>3.0</td>\n      <td>4.0</td>\n      <td>3.0</td>\n      <td>0</td>\n      <td>1.732051</td>\n      <td>8.0</td>\n      <td>...</td>\n      <td>2</td>\n      <td>28.460148</td>\n      <td>22.537593</td>\n      <td>1</td>\n      <td>1</td>\n      <td>49.574949</td>\n      <td>4.633075</td>\n      <td>0</td>\n      <td>244.565317</td>\n      <td>2</td>\n    </tr>\n    <tr>\n      <th>7</th>\n      <td>3392</td>\n      <td>8</td>\n      <td>20</td>\n      <td>7.509249</td>\n      <td>3.0</td>\n      <td>4.0</td>\n      <td>3.0</td>\n      <td>0</td>\n      <td>1.732051</td>\n      <td>6.0</td>\n      <td>...</td>\n      <td>2</td>\n      <td>28.460148</td>\n      <td>23.933795</td>\n      <td>1</td>\n      <td>1</td>\n      <td>49.574949</td>\n      <td>4.633075</td>\n      <td>4</td>\n      <td>358.124168</td>\n      <td>1</td>\n    </tr>\n    <tr>\n      <th>14</th>\n      <td>8625</td>\n      <td>7</td>\n      <td>20</td>\n      <td>8.018950</td>\n      <td>2.0</td>\n      <td>4.0</td>\n      <td>6.0</td>\n      <td>0</td>\n      <td>1.732051</td>\n      <td>4.0</td>\n      <td>...</td>\n      <td>2</td>\n      <td>24.597358</td>\n      <td>31.131702</td>\n      <td>1</td>\n      <td>0</td>\n      <td>18.816215</td>\n      <td>6.299525</td>\n      <td>4</td>\n      <td>464.880678</td>\n      <td>2</td>\n    </tr>\n    <tr>\n      <th>15</th>\n      <td>8625</td>\n      <td>8</td>\n      <td>20</td>\n      <td>8.018950</td>\n      <td>2.0</td>\n      <td>4.0</td>\n      <td>6.0</td>\n      <td>0</td>\n      <td>1.732051</td>\n      <td>4.0</td>\n      <td>...</td>\n      <td>2</td>\n      <td>24.597358</td>\n      <td>32.933856</td>\n      <td>1</td>\n      <td>1</td>\n      <td>18.816215</td>\n      <td>6.299525</td>\n      <td>0</td>\n      <td>356.078109</td>\n      <td>2</td>\n    </tr>\n    <tr>\n      <th>22</th>\n      <td>11708</td>\n      <td>7</td>\n      <td>30</td>\n      <td>9.408143</td>\n      <td>1.0</td>\n      <td>5.0</td>\n      <td>8.0</td>\n      <td>0</td>\n      <td>2.828427</td>\n      <td>6.0</td>\n      <td>...</td>\n      <td>2</td>\n      <td>36.097230</td>\n      <td>38.068624</td>\n      <td>1</td>\n      <td>1</td>\n      <td>246.992319</td>\n      <td>12.977431</td>\n      <td>3</td>\n      <td>968.555517</td>\n      <td>1</td>\n    </tr>\n    <tr>\n      <th>...</th>\n      <td>...</td>\n      <td>...</td>\n      <td>...</td>\n      <td>...</td>\n      <td>...</td>\n      <td>...</td>\n      <td>...</td>\n      <td>...</td>\n      <td>...</td>\n      <td>...</td>\n      <td>...</td>\n      <td>...</td>\n      <td>...</td>\n      <td>...</td>\n      <td>...</td>\n      <td>...</td>\n      <td>...</td>\n      <td>...</td>\n      <td>...</td>\n      <td>...</td>\n      <td>...</td>\n    </tr>\n    <tr>\n      <th>99983</th>\n      <td>44897</td>\n      <td>8</td>\n      <td>40</td>\n      <td>8.038192</td>\n      <td>1.0</td>\n      <td>4.0</td>\n      <td>5.0</td>\n      <td>0</td>\n      <td>2.645751</td>\n      <td>9.0</td>\n      <td>...</td>\n      <td>2</td>\n      <td>24.912647</td>\n      <td>39.300980</td>\n      <td>1</td>\n      <td>1</td>\n      <td>84.205949</td>\n      <td>6.552524</td>\n      <td>4</td>\n      <td>432.559318</td>\n      <td>2</td>\n    </tr>\n    <tr>\n      <th>99990</th>\n      <td>34304</td>\n      <td>7</td>\n      <td>20</td>\n      <td>7.565227</td>\n      <td>10.0</td>\n      <td>8.0</td>\n      <td>29.0</td>\n      <td>1</td>\n      <td>5.744563</td>\n      <td>25.0</td>\n      <td>...</td>\n      <td>0</td>\n      <td>59.763701</td>\n      <td>25.123535</td>\n      <td>0</td>\n      <td>2</td>\n      <td>60.964772</td>\n      <td>5.887521</td>\n      <td>2</td>\n      <td>228.750392</td>\n      <td>1</td>\n    </tr>\n    <tr>\n      <th>99991</th>\n      <td>34304</td>\n      <td>8</td>\n      <td>20</td>\n      <td>7.565227</td>\n      <td>10.0</td>\n      <td>8.0</td>\n      <td>29.0</td>\n      <td>1</td>\n      <td>5.744563</td>\n      <td>25.0</td>\n      <td>...</td>\n      <td>0</td>\n      <td>59.763701</td>\n      <td>37.140784</td>\n      <td>0</td>\n      <td>2</td>\n      <td>60.964772</td>\n      <td>5.887521</td>\n      <td>5</td>\n      <td>337.362988</td>\n      <td>1</td>\n    </tr>\n    <tr>\n      <th>99998</th>\n      <td>37932</td>\n      <td>7</td>\n      <td>20</td>\n      <td>8.119522</td>\n      <td>4.0</td>\n      <td>6.0</td>\n      <td>7.0</td>\n      <td>0</td>\n      <td>4.472136</td>\n      <td>6.0</td>\n      <td>...</td>\n      <td>2</td>\n      <td>22.413835</td>\n      <td>33.638208</td>\n      <td>1</td>\n      <td>1</td>\n      <td>35.104023</td>\n      <td>4.901885</td>\n      <td>2</td>\n      <td>319.164979</td>\n      <td>1</td>\n    </tr>\n    <tr>\n      <th>99999</th>\n      <td>37932</td>\n      <td>8</td>\n      <td>20</td>\n      <td>8.119522</td>\n      <td>4.0</td>\n      <td>6.0</td>\n      <td>7.0</td>\n      <td>0</td>\n      <td>4.242641</td>\n      <td>6.0</td>\n      <td>...</td>\n      <td>2</td>\n      <td>22.413835</td>\n      <td>34.192463</td>\n      <td>1</td>\n      <td>1</td>\n      <td>35.104023</td>\n      <td>4.901885</td>\n      <td>4</td>\n      <td>393.673696</td>\n      <td>0</td>\n    </tr>\n  </tbody>\n</table>\n<p>25000 rows × 22 columns</p>\n</div>"
     },
     "execution_count": 32,
     "metadata": {},
     "output_type": "execute_result"
    }
   ],
   "source": [
    "test_df"
   ],
   "metadata": {
    "collapsed": false
   }
  },
  {
   "cell_type": "markdown",
   "source": [
    "## 4. Scaling"
   ],
   "metadata": {
    "collapsed": false
   }
  },
  {
   "cell_type": "code",
   "execution_count": 33,
   "outputs": [],
   "source": [
    "from sklearn.preprocessing import StandardScaler, RobustScaler, MinMaxScaler"
   ],
   "metadata": {
    "collapsed": false
   }
  },
  {
   "cell_type": "code",
   "execution_count": 34,
   "outputs": [
    {
     "data": {
      "text/plain": "       Customer_ID  Month Age  Monthly_Inhand_Salary  Num_Bank_Accounts  \\\n0             3392      1  20               7.509249                3.0   \n1             3392      2  20               7.509249                3.0   \n2             3392      3  20               7.509249                3.0   \n3             3392      4  20               7.509249                3.0   \n4             3392      5  20               7.509249                3.0   \n...            ...    ...  ..                    ...                ...   \n99993        37932      2  20               8.119522                4.0   \n99994        37932      3  20               8.119522                4.0   \n99995        37932      4  20               8.119522                4.0   \n99996        37932      5  20               8.119522                4.0   \n99997        37932      6  20               8.119522                4.0   \n\n       Num_Credit_Card  Interest_Rate  Num_of_Loan  Delay_from_due_date  \\\n0                  4.0            3.0            0             1.732051   \n1                  4.0            3.0            0             1.732051   \n2                  4.0            3.0            0             1.732051   \n3                  4.0            3.0            0             2.236068   \n4                  4.0            3.0            0             2.449490   \n...                ...            ...          ...                  ...   \n99993              6.0            7.0            0             4.795832   \n99994              6.0            7.0            0             4.472136   \n99995              6.0            7.0            0             4.795832   \n99996              6.0            7.0            0             4.242641   \n99997              6.0            7.0            0             5.196152   \n\n       Num_of_Delayed_Payment  ...  Credit_Mix  Outstanding_Debt  \\\n0                         7.0  ...           2         28.460148   \n1                         4.0  ...           2         28.460148   \n2                         7.0  ...           2         28.460148   \n3                         4.0  ...           2         28.460148   \n4                         4.0  ...           2         28.460148   \n...                       ...  ...         ...               ...   \n99993                     6.0  ...           2         22.413835   \n99994                     6.0  ...           2         22.413835   \n99995                     7.0  ...           2         22.413835   \n99996                     7.0  ...           2         22.413835   \n99997                     6.0  ...           2         22.413835   \n\n       Credit_Utilization_Ratio  Credit_History_Age  Payment_of_Min_Amount  \\\n0                     26.822620                   1                      1   \n1                     31.944960                   1                      1   \n2                     28.609352                   1                      1   \n3                     31.377862                   1                      1   \n4                     24.797347                   1                      1   \n...                         ...                 ...                    ...   \n99993                 29.135447                   1                      1   \n99994                 39.323569                   1                      1   \n99995                 34.663572                   1                      1   \n99996                 40.565631                   1                      1   \n99997                 41.255522                   1                      1   \n\n       Total_EMI_per_month  Amount_invested_monthly  Payment_Behaviour  \\\n0                49.574949                 4.633075                  3   \n1                49.574949                 4.633075                  2   \n2                49.574949                 4.633075                  1   \n3                49.574949                 4.633075                  0   \n4                49.574949                 4.633075                  4   \n...                    ...                      ...                ...   \n99993            35.104023                 4.901885                  1   \n99994            35.104023                 4.901885                  4   \n99995            35.104023                 4.901885                  5   \n99996            35.104023                 4.901885                  4   \n99997            35.104023                 4.901885                  5   \n\n       Monthly_Balance  Credit_Score  \n0           312.494089             2  \n1           284.629162             2  \n2           331.209863             2  \n3           223.451310             2  \n4           341.489231             2  \n...                ...           ...  \n99993       400.104466             1  \n99994       410.256158             0  \n99995       479.866228             0  \n99996       496.651610             0  \n99997       516.809083             0  \n\n[75000 rows x 22 columns]",
      "text/html": "<div>\n<style scoped>\n    .dataframe tbody tr th:only-of-type {\n        vertical-align: middle;\n    }\n\n    .dataframe tbody tr th {\n        vertical-align: top;\n    }\n\n    .dataframe thead th {\n        text-align: right;\n    }\n</style>\n<table border=\"1\" class=\"dataframe\">\n  <thead>\n    <tr style=\"text-align: right;\">\n      <th></th>\n      <th>Customer_ID</th>\n      <th>Month</th>\n      <th>Age</th>\n      <th>Monthly_Inhand_Salary</th>\n      <th>Num_Bank_Accounts</th>\n      <th>Num_Credit_Card</th>\n      <th>Interest_Rate</th>\n      <th>Num_of_Loan</th>\n      <th>Delay_from_due_date</th>\n      <th>Num_of_Delayed_Payment</th>\n      <th>...</th>\n      <th>Credit_Mix</th>\n      <th>Outstanding_Debt</th>\n      <th>Credit_Utilization_Ratio</th>\n      <th>Credit_History_Age</th>\n      <th>Payment_of_Min_Amount</th>\n      <th>Total_EMI_per_month</th>\n      <th>Amount_invested_monthly</th>\n      <th>Payment_Behaviour</th>\n      <th>Monthly_Balance</th>\n      <th>Credit_Score</th>\n    </tr>\n  </thead>\n  <tbody>\n    <tr>\n      <th>0</th>\n      <td>3392</td>\n      <td>1</td>\n      <td>20</td>\n      <td>7.509249</td>\n      <td>3.0</td>\n      <td>4.0</td>\n      <td>3.0</td>\n      <td>0</td>\n      <td>1.732051</td>\n      <td>7.0</td>\n      <td>...</td>\n      <td>2</td>\n      <td>28.460148</td>\n      <td>26.822620</td>\n      <td>1</td>\n      <td>1</td>\n      <td>49.574949</td>\n      <td>4.633075</td>\n      <td>3</td>\n      <td>312.494089</td>\n      <td>2</td>\n    </tr>\n    <tr>\n      <th>1</th>\n      <td>3392</td>\n      <td>2</td>\n      <td>20</td>\n      <td>7.509249</td>\n      <td>3.0</td>\n      <td>4.0</td>\n      <td>3.0</td>\n      <td>0</td>\n      <td>1.732051</td>\n      <td>4.0</td>\n      <td>...</td>\n      <td>2</td>\n      <td>28.460148</td>\n      <td>31.944960</td>\n      <td>1</td>\n      <td>1</td>\n      <td>49.574949</td>\n      <td>4.633075</td>\n      <td>2</td>\n      <td>284.629162</td>\n      <td>2</td>\n    </tr>\n    <tr>\n      <th>2</th>\n      <td>3392</td>\n      <td>3</td>\n      <td>20</td>\n      <td>7.509249</td>\n      <td>3.0</td>\n      <td>4.0</td>\n      <td>3.0</td>\n      <td>0</td>\n      <td>1.732051</td>\n      <td>7.0</td>\n      <td>...</td>\n      <td>2</td>\n      <td>28.460148</td>\n      <td>28.609352</td>\n      <td>1</td>\n      <td>1</td>\n      <td>49.574949</td>\n      <td>4.633075</td>\n      <td>1</td>\n      <td>331.209863</td>\n      <td>2</td>\n    </tr>\n    <tr>\n      <th>3</th>\n      <td>3392</td>\n      <td>4</td>\n      <td>20</td>\n      <td>7.509249</td>\n      <td>3.0</td>\n      <td>4.0</td>\n      <td>3.0</td>\n      <td>0</td>\n      <td>2.236068</td>\n      <td>4.0</td>\n      <td>...</td>\n      <td>2</td>\n      <td>28.460148</td>\n      <td>31.377862</td>\n      <td>1</td>\n      <td>1</td>\n      <td>49.574949</td>\n      <td>4.633075</td>\n      <td>0</td>\n      <td>223.451310</td>\n      <td>2</td>\n    </tr>\n    <tr>\n      <th>4</th>\n      <td>3392</td>\n      <td>5</td>\n      <td>20</td>\n      <td>7.509249</td>\n      <td>3.0</td>\n      <td>4.0</td>\n      <td>3.0</td>\n      <td>0</td>\n      <td>2.449490</td>\n      <td>4.0</td>\n      <td>...</td>\n      <td>2</td>\n      <td>28.460148</td>\n      <td>24.797347</td>\n      <td>1</td>\n      <td>1</td>\n      <td>49.574949</td>\n      <td>4.633075</td>\n      <td>4</td>\n      <td>341.489231</td>\n      <td>2</td>\n    </tr>\n    <tr>\n      <th>...</th>\n      <td>...</td>\n      <td>...</td>\n      <td>...</td>\n      <td>...</td>\n      <td>...</td>\n      <td>...</td>\n      <td>...</td>\n      <td>...</td>\n      <td>...</td>\n      <td>...</td>\n      <td>...</td>\n      <td>...</td>\n      <td>...</td>\n      <td>...</td>\n      <td>...</td>\n      <td>...</td>\n      <td>...</td>\n      <td>...</td>\n      <td>...</td>\n      <td>...</td>\n      <td>...</td>\n    </tr>\n    <tr>\n      <th>99993</th>\n      <td>37932</td>\n      <td>2</td>\n      <td>20</td>\n      <td>8.119522</td>\n      <td>4.0</td>\n      <td>6.0</td>\n      <td>7.0</td>\n      <td>0</td>\n      <td>4.795832</td>\n      <td>6.0</td>\n      <td>...</td>\n      <td>2</td>\n      <td>22.413835</td>\n      <td>29.135447</td>\n      <td>1</td>\n      <td>1</td>\n      <td>35.104023</td>\n      <td>4.901885</td>\n      <td>1</td>\n      <td>400.104466</td>\n      <td>1</td>\n    </tr>\n    <tr>\n      <th>99994</th>\n      <td>37932</td>\n      <td>3</td>\n      <td>20</td>\n      <td>8.119522</td>\n      <td>4.0</td>\n      <td>6.0</td>\n      <td>7.0</td>\n      <td>0</td>\n      <td>4.472136</td>\n      <td>6.0</td>\n      <td>...</td>\n      <td>2</td>\n      <td>22.413835</td>\n      <td>39.323569</td>\n      <td>1</td>\n      <td>1</td>\n      <td>35.104023</td>\n      <td>4.901885</td>\n      <td>4</td>\n      <td>410.256158</td>\n      <td>0</td>\n    </tr>\n    <tr>\n      <th>99995</th>\n      <td>37932</td>\n      <td>4</td>\n      <td>20</td>\n      <td>8.119522</td>\n      <td>4.0</td>\n      <td>6.0</td>\n      <td>7.0</td>\n      <td>0</td>\n      <td>4.795832</td>\n      <td>7.0</td>\n      <td>...</td>\n      <td>2</td>\n      <td>22.413835</td>\n      <td>34.663572</td>\n      <td>1</td>\n      <td>1</td>\n      <td>35.104023</td>\n      <td>4.901885</td>\n      <td>5</td>\n      <td>479.866228</td>\n      <td>0</td>\n    </tr>\n    <tr>\n      <th>99996</th>\n      <td>37932</td>\n      <td>5</td>\n      <td>20</td>\n      <td>8.119522</td>\n      <td>4.0</td>\n      <td>6.0</td>\n      <td>7.0</td>\n      <td>0</td>\n      <td>4.242641</td>\n      <td>7.0</td>\n      <td>...</td>\n      <td>2</td>\n      <td>22.413835</td>\n      <td>40.565631</td>\n      <td>1</td>\n      <td>1</td>\n      <td>35.104023</td>\n      <td>4.901885</td>\n      <td>4</td>\n      <td>496.651610</td>\n      <td>0</td>\n    </tr>\n    <tr>\n      <th>99997</th>\n      <td>37932</td>\n      <td>6</td>\n      <td>20</td>\n      <td>8.119522</td>\n      <td>4.0</td>\n      <td>6.0</td>\n      <td>7.0</td>\n      <td>0</td>\n      <td>5.196152</td>\n      <td>6.0</td>\n      <td>...</td>\n      <td>2</td>\n      <td>22.413835</td>\n      <td>41.255522</td>\n      <td>1</td>\n      <td>1</td>\n      <td>35.104023</td>\n      <td>4.901885</td>\n      <td>5</td>\n      <td>516.809083</td>\n      <td>0</td>\n    </tr>\n  </tbody>\n</table>\n<p>75000 rows × 22 columns</p>\n</div>"
     },
     "execution_count": 34,
     "metadata": {},
     "output_type": "execute_result"
    }
   ],
   "source": [
    "train_df"
   ],
   "metadata": {
    "collapsed": false
   }
  },
  {
   "cell_type": "code",
   "execution_count": 35,
   "outputs": [],
   "source": [
    "scaling_cols = ['Monthly_Inhand_Salary', 'Outstanding_Debt', 'Credit_Utilization_Ratio', 'Total_EMI_per_month', 'Amount_invested_monthly', 'Monthly_Balance']"
   ],
   "metadata": {
    "collapsed": false
   }
  },
  {
   "cell_type": "code",
   "execution_count": 36,
   "outputs": [
    {
     "data": {
      "text/plain": "0        49.574949\n1        49.574949\n2        49.574949\n3        49.574949\n4        49.574949\n           ...    \n99993    35.104023\n99994    35.104023\n99995    35.104023\n99996    35.104023\n99997    35.104023\nName: Total_EMI_per_month, Length: 75000, dtype: float64"
     },
     "execution_count": 36,
     "metadata": {},
     "output_type": "execute_result"
    }
   ],
   "source": [
    "train_df['Total_EMI_per_month']"
   ],
   "metadata": {
    "collapsed": false
   }
  },
  {
   "cell_type": "code",
   "execution_count": 37,
   "outputs": [],
   "source": [
    "# ss = StandardScaler()\n",
    "#\n",
    "# ss_train_df = train_df[scaling_cols].copy()\n",
    "# ss_test_df = test_df[scaling_cols].copy()\n",
    "#\n",
    "# ss_train_df = ss.fit_transform(ss_train_df)\n",
    "# ss_test_df = ss.transform(ss_test_df)"
   ],
   "metadata": {
    "collapsed": false
   }
  },
  {
   "cell_type": "code",
   "execution_count": 38,
   "outputs": [],
   "source": [
    "rs = RobustScaler()\n",
    "\n",
    "rs_train_df = train_df[scaling_cols].copy()\n",
    "rs_test_df = test_df[scaling_cols].copy()\n",
    "\n",
    "rs_train_df = rs.fit_transform(rs_train_df)\n",
    "rs_test_df = rs.transform(rs_test_df)"
   ],
   "metadata": {
    "collapsed": false
   }
  },
  {
   "cell_type": "code",
   "execution_count": 39,
   "outputs": [],
   "source": [
    "# mm = MinMaxScaler()\n",
    "# #\n",
    "# mm_train_df = train_df[scaling_cols].copy()\n",
    "# mm_test_df = test_df[scaling_cols].copy()\n",
    "#\n",
    "# mm_train_df = mm.fit_transform(mm_train_df)\n",
    "# mm_test_df = mm.transform(mm_test_df)"
   ],
   "metadata": {
    "collapsed": false
   }
  },
  {
   "cell_type": "code",
   "execution_count": 40,
   "outputs": [
    {
     "data": {
      "text/plain": "array([[-0.40729934, -0.27995295, -0.64869689, -0.13950438, -0.66120315,\n        -0.1083443 ],\n       [-0.40729934, -0.27995295, -0.04100964, -0.13950438, -0.66120315,\n        -0.25076442],\n       [-0.40729934, -0.27995295, -0.43672845, -0.13950438, -0.66120315,\n        -0.01268631],\n       ...,\n       [ 0.06267584, -0.57749619,  0.28151201, -0.26443799, -0.57602997,\n         0.7471096 ],\n       [ 0.06267584, -0.57749619,  0.98170094, -0.26443799, -0.57602997,\n         0.83290118],\n       [ 0.06267584, -0.57749619,  1.06354598, -0.26443799, -0.57602997,\n         0.93592782]])"
     },
     "execution_count": 40,
     "metadata": {},
     "output_type": "execute_result"
    }
   ],
   "source": [
    "rs_train_df"
   ],
   "metadata": {
    "collapsed": false
   }
  },
  {
   "cell_type": "code",
   "execution_count": 41,
   "outputs": [
    {
     "data": {
      "text/plain": "array([[-0.40729934, -0.27995295, -1.15704967, -0.13950438, -0.66120315,\n        -0.4555343 ],\n       [-0.40729934, -0.27995295, -0.99141171, -0.13950438, -0.66120315,\n         0.1248751 ],\n       [-0.01477538, -0.47004353, -0.1374903 , -0.4050575 , -0.1331847 ,\n         0.67051712],\n       ...,\n       [-0.3641907 ,  1.26051665,  0.57539524, -0.04117124, -0.26372906,\n         0.01876286],\n       [ 0.06267584, -0.57749619,  0.15986829, -0.26443799, -0.57602997,\n        -0.07424879],\n       [ 0.06267584, -0.57749619,  0.22562212, -0.26443799, -0.57602997,\n         0.3065719 ]])"
     },
     "execution_count": 41,
     "metadata": {},
     "output_type": "execute_result"
    }
   ],
   "source": [
    "rs_test_df"
   ],
   "metadata": {
    "collapsed": false
   }
  },
  {
   "cell_type": "code",
   "execution_count": 42,
   "outputs": [
    {
     "name": "stderr",
     "output_type": "stream",
     "text": [
      "/var/folders/rm/1g600byx25b_ht2r9ty6b4_00000gn/T/ipykernel_70786/2032087964.py:1: SettingWithCopyWarning: \n",
      "A value is trying to be set on a copy of a slice from a DataFrame.\n",
      "Try using .loc[row_indexer,col_indexer] = value instead\n",
      "\n",
      "See the caveats in the documentation: https://pandas.pydata.org/pandas-docs/stable/user_guide/indexing.html#returning-a-view-versus-a-copy\n",
      "  train_df[scaling_cols] = rs_train_df\n"
     ]
    },
    {
     "data": {
      "text/plain": "       Monthly_Inhand_Salary  Outstanding_Debt  Credit_Utilization_Ratio  \\\n0                  -0.407299         -0.279953                 -0.648697   \n1                  -0.407299         -0.279953                 -0.041010   \n2                  -0.407299         -0.279953                 -0.436728   \n3                  -0.407299         -0.279953                 -0.108287   \n4                  -0.407299         -0.279953                 -0.888964   \n...                      ...               ...                       ...   \n99993               0.062676         -0.577496                 -0.374315   \n99994               0.062676         -0.577496                  0.834349   \n99995               0.062676         -0.577496                  0.281512   \n99996               0.062676         -0.577496                  0.981701   \n99997               0.062676         -0.577496                  1.063546   \n\n       Total_EMI_per_month  Amount_invested_monthly  Monthly_Balance  \n0                -0.139504                -0.661203        -0.108344  \n1                -0.139504                -0.661203        -0.250764  \n2                -0.139504                -0.661203        -0.012686  \n3                -0.139504                -0.661203        -0.563450  \n4                -0.139504                -0.661203         0.039852  \n...                    ...                      ...              ...  \n99993            -0.264438                -0.576030         0.339440  \n99994            -0.264438                -0.576030         0.391326  \n99995            -0.264438                -0.576030         0.747110  \n99996            -0.264438                -0.576030         0.832901  \n99997            -0.264438                -0.576030         0.935928  \n\n[75000 rows x 6 columns]",
      "text/html": "<div>\n<style scoped>\n    .dataframe tbody tr th:only-of-type {\n        vertical-align: middle;\n    }\n\n    .dataframe tbody tr th {\n        vertical-align: top;\n    }\n\n    .dataframe thead th {\n        text-align: right;\n    }\n</style>\n<table border=\"1\" class=\"dataframe\">\n  <thead>\n    <tr style=\"text-align: right;\">\n      <th></th>\n      <th>Monthly_Inhand_Salary</th>\n      <th>Outstanding_Debt</th>\n      <th>Credit_Utilization_Ratio</th>\n      <th>Total_EMI_per_month</th>\n      <th>Amount_invested_monthly</th>\n      <th>Monthly_Balance</th>\n    </tr>\n  </thead>\n  <tbody>\n    <tr>\n      <th>0</th>\n      <td>-0.407299</td>\n      <td>-0.279953</td>\n      <td>-0.648697</td>\n      <td>-0.139504</td>\n      <td>-0.661203</td>\n      <td>-0.108344</td>\n    </tr>\n    <tr>\n      <th>1</th>\n      <td>-0.407299</td>\n      <td>-0.279953</td>\n      <td>-0.041010</td>\n      <td>-0.139504</td>\n      <td>-0.661203</td>\n      <td>-0.250764</td>\n    </tr>\n    <tr>\n      <th>2</th>\n      <td>-0.407299</td>\n      <td>-0.279953</td>\n      <td>-0.436728</td>\n      <td>-0.139504</td>\n      <td>-0.661203</td>\n      <td>-0.012686</td>\n    </tr>\n    <tr>\n      <th>3</th>\n      <td>-0.407299</td>\n      <td>-0.279953</td>\n      <td>-0.108287</td>\n      <td>-0.139504</td>\n      <td>-0.661203</td>\n      <td>-0.563450</td>\n    </tr>\n    <tr>\n      <th>4</th>\n      <td>-0.407299</td>\n      <td>-0.279953</td>\n      <td>-0.888964</td>\n      <td>-0.139504</td>\n      <td>-0.661203</td>\n      <td>0.039852</td>\n    </tr>\n    <tr>\n      <th>...</th>\n      <td>...</td>\n      <td>...</td>\n      <td>...</td>\n      <td>...</td>\n      <td>...</td>\n      <td>...</td>\n    </tr>\n    <tr>\n      <th>99993</th>\n      <td>0.062676</td>\n      <td>-0.577496</td>\n      <td>-0.374315</td>\n      <td>-0.264438</td>\n      <td>-0.576030</td>\n      <td>0.339440</td>\n    </tr>\n    <tr>\n      <th>99994</th>\n      <td>0.062676</td>\n      <td>-0.577496</td>\n      <td>0.834349</td>\n      <td>-0.264438</td>\n      <td>-0.576030</td>\n      <td>0.391326</td>\n    </tr>\n    <tr>\n      <th>99995</th>\n      <td>0.062676</td>\n      <td>-0.577496</td>\n      <td>0.281512</td>\n      <td>-0.264438</td>\n      <td>-0.576030</td>\n      <td>0.747110</td>\n    </tr>\n    <tr>\n      <th>99996</th>\n      <td>0.062676</td>\n      <td>-0.577496</td>\n      <td>0.981701</td>\n      <td>-0.264438</td>\n      <td>-0.576030</td>\n      <td>0.832901</td>\n    </tr>\n    <tr>\n      <th>99997</th>\n      <td>0.062676</td>\n      <td>-0.577496</td>\n      <td>1.063546</td>\n      <td>-0.264438</td>\n      <td>-0.576030</td>\n      <td>0.935928</td>\n    </tr>\n  </tbody>\n</table>\n<p>75000 rows × 6 columns</p>\n</div>"
     },
     "execution_count": 42,
     "metadata": {},
     "output_type": "execute_result"
    }
   ],
   "source": [
    "train_df[scaling_cols] = rs_train_df\n",
    "train_df[scaling_cols]"
   ],
   "metadata": {
    "collapsed": false
   }
  },
  {
   "cell_type": "code",
   "execution_count": 43,
   "outputs": [
    {
     "name": "stderr",
     "output_type": "stream",
     "text": [
      "/var/folders/rm/1g600byx25b_ht2r9ty6b4_00000gn/T/ipykernel_70786/473553178.py:1: SettingWithCopyWarning: \n",
      "A value is trying to be set on a copy of a slice from a DataFrame.\n",
      "Try using .loc[row_indexer,col_indexer] = value instead\n",
      "\n",
      "See the caveats in the documentation: https://pandas.pydata.org/pandas-docs/stable/user_guide/indexing.html#returning-a-view-versus-a-copy\n",
      "  test_df[scaling_cols] = rs_test_df\n"
     ]
    },
    {
     "data": {
      "text/plain": "       Monthly_Inhand_Salary  Outstanding_Debt  Credit_Utilization_Ratio  \\\n6                  -0.407299         -0.279953                 -1.157050   \n7                  -0.407299         -0.279953                 -0.991412   \n14                 -0.014775         -0.470044                 -0.137490   \n15                 -0.014775         -0.470044                  0.076308   \n22                  1.055051          0.095873                  0.685469   \n...                      ...               ...                       ...   \n99983               0.000043         -0.454528                  0.831670   \n99990              -0.364191          1.260517                 -0.850267   \n99991              -0.364191          1.260517                  0.575395   \n99998               0.062676         -0.577496                  0.159868   \n99999               0.062676         -0.577496                  0.225622   \n\n       Total_EMI_per_month  Amount_invested_monthly  Monthly_Balance  \n6                -0.139504                -0.661203        -0.455534  \n7                -0.139504                -0.661203         0.124875  \n14               -0.405058                -0.133185         0.670517  \n15               -0.405058                -0.133185         0.114418  \n22                1.564883                 1.982724         3.244844  \n...                    ...                      ...              ...  \n99983             0.159480                -0.053022         0.505320  \n99990            -0.041171                -0.263729        -0.536366  \n99991            -0.041171                -0.263729         0.018763  \n99998            -0.264438                -0.576030        -0.074249  \n99999            -0.264438                -0.576030         0.306572  \n\n[25000 rows x 6 columns]",
      "text/html": "<div>\n<style scoped>\n    .dataframe tbody tr th:only-of-type {\n        vertical-align: middle;\n    }\n\n    .dataframe tbody tr th {\n        vertical-align: top;\n    }\n\n    .dataframe thead th {\n        text-align: right;\n    }\n</style>\n<table border=\"1\" class=\"dataframe\">\n  <thead>\n    <tr style=\"text-align: right;\">\n      <th></th>\n      <th>Monthly_Inhand_Salary</th>\n      <th>Outstanding_Debt</th>\n      <th>Credit_Utilization_Ratio</th>\n      <th>Total_EMI_per_month</th>\n      <th>Amount_invested_monthly</th>\n      <th>Monthly_Balance</th>\n    </tr>\n  </thead>\n  <tbody>\n    <tr>\n      <th>6</th>\n      <td>-0.407299</td>\n      <td>-0.279953</td>\n      <td>-1.157050</td>\n      <td>-0.139504</td>\n      <td>-0.661203</td>\n      <td>-0.455534</td>\n    </tr>\n    <tr>\n      <th>7</th>\n      <td>-0.407299</td>\n      <td>-0.279953</td>\n      <td>-0.991412</td>\n      <td>-0.139504</td>\n      <td>-0.661203</td>\n      <td>0.124875</td>\n    </tr>\n    <tr>\n      <th>14</th>\n      <td>-0.014775</td>\n      <td>-0.470044</td>\n      <td>-0.137490</td>\n      <td>-0.405058</td>\n      <td>-0.133185</td>\n      <td>0.670517</td>\n    </tr>\n    <tr>\n      <th>15</th>\n      <td>-0.014775</td>\n      <td>-0.470044</td>\n      <td>0.076308</td>\n      <td>-0.405058</td>\n      <td>-0.133185</td>\n      <td>0.114418</td>\n    </tr>\n    <tr>\n      <th>22</th>\n      <td>1.055051</td>\n      <td>0.095873</td>\n      <td>0.685469</td>\n      <td>1.564883</td>\n      <td>1.982724</td>\n      <td>3.244844</td>\n    </tr>\n    <tr>\n      <th>...</th>\n      <td>...</td>\n      <td>...</td>\n      <td>...</td>\n      <td>...</td>\n      <td>...</td>\n      <td>...</td>\n    </tr>\n    <tr>\n      <th>99983</th>\n      <td>0.000043</td>\n      <td>-0.454528</td>\n      <td>0.831670</td>\n      <td>0.159480</td>\n      <td>-0.053022</td>\n      <td>0.505320</td>\n    </tr>\n    <tr>\n      <th>99990</th>\n      <td>-0.364191</td>\n      <td>1.260517</td>\n      <td>-0.850267</td>\n      <td>-0.041171</td>\n      <td>-0.263729</td>\n      <td>-0.536366</td>\n    </tr>\n    <tr>\n      <th>99991</th>\n      <td>-0.364191</td>\n      <td>1.260517</td>\n      <td>0.575395</td>\n      <td>-0.041171</td>\n      <td>-0.263729</td>\n      <td>0.018763</td>\n    </tr>\n    <tr>\n      <th>99998</th>\n      <td>0.062676</td>\n      <td>-0.577496</td>\n      <td>0.159868</td>\n      <td>-0.264438</td>\n      <td>-0.576030</td>\n      <td>-0.074249</td>\n    </tr>\n    <tr>\n      <th>99999</th>\n      <td>0.062676</td>\n      <td>-0.577496</td>\n      <td>0.225622</td>\n      <td>-0.264438</td>\n      <td>-0.576030</td>\n      <td>0.306572</td>\n    </tr>\n  </tbody>\n</table>\n<p>25000 rows × 6 columns</p>\n</div>"
     },
     "execution_count": 43,
     "metadata": {},
     "output_type": "execute_result"
    }
   ],
   "source": [
    "test_df[scaling_cols] = rs_test_df\n",
    "test_df[scaling_cols]"
   ],
   "metadata": {
    "collapsed": false
   }
  },
  {
   "cell_type": "code",
   "execution_count": 44,
   "outputs": [
    {
     "data": {
      "text/plain": "       Monthly_Inhand_Salary  Outstanding_Debt  Credit_Utilization_Ratio  \\\n6                  -0.407299         -0.279953                 -1.157050   \n7                  -0.407299         -0.279953                 -0.991412   \n14                 -0.014775         -0.470044                 -0.137490   \n15                 -0.014775         -0.470044                  0.076308   \n22                  1.055051          0.095873                  0.685469   \n...                      ...               ...                       ...   \n99983               0.000043         -0.454528                  0.831670   \n99990              -0.364191          1.260517                 -0.850267   \n99991              -0.364191          1.260517                  0.575395   \n99998               0.062676         -0.577496                  0.159868   \n99999               0.062676         -0.577496                  0.225622   \n\n       Total_EMI_per_month  Amount_invested_monthly  Monthly_Balance  \n6                -0.139504                -0.661203        -0.455534  \n7                -0.139504                -0.661203         0.124875  \n14               -0.405058                -0.133185         0.670517  \n15               -0.405058                -0.133185         0.114418  \n22                1.564883                 1.982724         3.244844  \n...                    ...                      ...              ...  \n99983             0.159480                -0.053022         0.505320  \n99990            -0.041171                -0.263729        -0.536366  \n99991            -0.041171                -0.263729         0.018763  \n99998            -0.264438                -0.576030        -0.074249  \n99999            -0.264438                -0.576030         0.306572  \n\n[25000 rows x 6 columns]",
      "text/html": "<div>\n<style scoped>\n    .dataframe tbody tr th:only-of-type {\n        vertical-align: middle;\n    }\n\n    .dataframe tbody tr th {\n        vertical-align: top;\n    }\n\n    .dataframe thead th {\n        text-align: right;\n    }\n</style>\n<table border=\"1\" class=\"dataframe\">\n  <thead>\n    <tr style=\"text-align: right;\">\n      <th></th>\n      <th>Monthly_Inhand_Salary</th>\n      <th>Outstanding_Debt</th>\n      <th>Credit_Utilization_Ratio</th>\n      <th>Total_EMI_per_month</th>\n      <th>Amount_invested_monthly</th>\n      <th>Monthly_Balance</th>\n    </tr>\n  </thead>\n  <tbody>\n    <tr>\n      <th>6</th>\n      <td>-0.407299</td>\n      <td>-0.279953</td>\n      <td>-1.157050</td>\n      <td>-0.139504</td>\n      <td>-0.661203</td>\n      <td>-0.455534</td>\n    </tr>\n    <tr>\n      <th>7</th>\n      <td>-0.407299</td>\n      <td>-0.279953</td>\n      <td>-0.991412</td>\n      <td>-0.139504</td>\n      <td>-0.661203</td>\n      <td>0.124875</td>\n    </tr>\n    <tr>\n      <th>14</th>\n      <td>-0.014775</td>\n      <td>-0.470044</td>\n      <td>-0.137490</td>\n      <td>-0.405058</td>\n      <td>-0.133185</td>\n      <td>0.670517</td>\n    </tr>\n    <tr>\n      <th>15</th>\n      <td>-0.014775</td>\n      <td>-0.470044</td>\n      <td>0.076308</td>\n      <td>-0.405058</td>\n      <td>-0.133185</td>\n      <td>0.114418</td>\n    </tr>\n    <tr>\n      <th>22</th>\n      <td>1.055051</td>\n      <td>0.095873</td>\n      <td>0.685469</td>\n      <td>1.564883</td>\n      <td>1.982724</td>\n      <td>3.244844</td>\n    </tr>\n    <tr>\n      <th>...</th>\n      <td>...</td>\n      <td>...</td>\n      <td>...</td>\n      <td>...</td>\n      <td>...</td>\n      <td>...</td>\n    </tr>\n    <tr>\n      <th>99983</th>\n      <td>0.000043</td>\n      <td>-0.454528</td>\n      <td>0.831670</td>\n      <td>0.159480</td>\n      <td>-0.053022</td>\n      <td>0.505320</td>\n    </tr>\n    <tr>\n      <th>99990</th>\n      <td>-0.364191</td>\n      <td>1.260517</td>\n      <td>-0.850267</td>\n      <td>-0.041171</td>\n      <td>-0.263729</td>\n      <td>-0.536366</td>\n    </tr>\n    <tr>\n      <th>99991</th>\n      <td>-0.364191</td>\n      <td>1.260517</td>\n      <td>0.575395</td>\n      <td>-0.041171</td>\n      <td>-0.263729</td>\n      <td>0.018763</td>\n    </tr>\n    <tr>\n      <th>99998</th>\n      <td>0.062676</td>\n      <td>-0.577496</td>\n      <td>0.159868</td>\n      <td>-0.264438</td>\n      <td>-0.576030</td>\n      <td>-0.074249</td>\n    </tr>\n    <tr>\n      <th>99999</th>\n      <td>0.062676</td>\n      <td>-0.577496</td>\n      <td>0.225622</td>\n      <td>-0.264438</td>\n      <td>-0.576030</td>\n      <td>0.306572</td>\n    </tr>\n  </tbody>\n</table>\n<p>25000 rows × 6 columns</p>\n</div>"
     },
     "execution_count": 44,
     "metadata": {},
     "output_type": "execute_result"
    }
   ],
   "source": [
    "test_df[scaling_cols]"
   ],
   "metadata": {
    "collapsed": false
   }
  },
  {
   "cell_type": "code",
   "execution_count": 45,
   "outputs": [
    {
     "data": {
      "text/plain": "Index(['Customer_ID', 'Month', 'Age', 'Monthly_Inhand_Salary',\n       'Num_Bank_Accounts', 'Num_Credit_Card', 'Interest_Rate', 'Num_of_Loan',\n       'Delay_from_due_date', 'Num_of_Delayed_Payment', 'Changed_Credit_Limit',\n       'Num_Credit_Inquiries', 'Credit_Mix', 'Outstanding_Debt',\n       'Credit_Utilization_Ratio', 'Credit_History_Age',\n       'Payment_of_Min_Amount', 'Total_EMI_per_month',\n       'Amount_invested_monthly', 'Payment_Behaviour', 'Monthly_Balance',\n       'Credit_Score'],\n      dtype='object')"
     },
     "execution_count": 45,
     "metadata": {},
     "output_type": "execute_result"
    }
   ],
   "source": [
    "train_df.dtypes.index"
   ],
   "metadata": {
    "collapsed": false
   }
  },
  {
   "cell_type": "code",
   "execution_count": 46,
   "outputs": [
    {
     "data": {
      "text/plain": "Customer_ID                    int64\nMonth                          int64\nAge                         category\nMonthly_Inhand_Salary        float64\nNum_Bank_Accounts            float64\nNum_Credit_Card              float64\nInterest_Rate                float64\nNum_of_Loan                    int64\nDelay_from_due_date          float64\nNum_of_Delayed_Payment       float64\nChanged_Credit_Limit           int64\nNum_Credit_Inquiries         float64\nCredit_Mix                     int64\nOutstanding_Debt             float64\nCredit_Utilization_Ratio     float64\nCredit_History_Age             int64\nPayment_of_Min_Amount          int64\nTotal_EMI_per_month          float64\nAmount_invested_monthly      float64\nPayment_Behaviour              int64\nMonthly_Balance              float64\nCredit_Score                   int64\ndtype: object"
     },
     "execution_count": 46,
     "metadata": {},
     "output_type": "execute_result"
    }
   ],
   "source": [
    "train_df.dtypes"
   ],
   "metadata": {
    "collapsed": false
   }
  },
  {
   "cell_type": "code",
   "execution_count": 47,
   "outputs": [
    {
     "data": {
      "text/plain": "       Customer_ID  Month Age  Monthly_Inhand_Salary  Num_Bank_Accounts  \\\n0           3392.0    1.0  20              -0.407299                3.0   \n1           3392.0    2.0  20              -0.407299                3.0   \n2           3392.0    3.0  20              -0.407299                3.0   \n3           3392.0    4.0  20              -0.407299                3.0   \n4           3392.0    5.0  20              -0.407299                3.0   \n...            ...    ...  ..                    ...                ...   \n99993      37932.0    2.0  20               0.062676                4.0   \n99994      37932.0    3.0  20               0.062676                4.0   \n99995      37932.0    4.0  20               0.062676                4.0   \n99996      37932.0    5.0  20               0.062676                4.0   \n99997      37932.0    6.0  20               0.062676                4.0   \n\n       Num_Credit_Card  Interest_Rate  Num_of_Loan  Delay_from_due_date  \\\n0                  4.0            3.0          0.0             1.732051   \n1                  4.0            3.0          0.0             1.732051   \n2                  4.0            3.0          0.0             1.732051   \n3                  4.0            3.0          0.0             2.236068   \n4                  4.0            3.0          0.0             2.449490   \n...                ...            ...          ...                  ...   \n99993              6.0            7.0          0.0             4.795832   \n99994              6.0            7.0          0.0             4.472136   \n99995              6.0            7.0          0.0             4.795832   \n99996              6.0            7.0          0.0             4.242641   \n99997              6.0            7.0          0.0             5.196152   \n\n       Num_of_Delayed_Payment  ...  Credit_Mix  Outstanding_Debt  \\\n0                         7.0  ...         2.0         -0.279953   \n1                         4.0  ...         2.0         -0.279953   \n2                         7.0  ...         2.0         -0.279953   \n3                         4.0  ...         2.0         -0.279953   \n4                         4.0  ...         2.0         -0.279953   \n...                       ...  ...         ...               ...   \n99993                     6.0  ...         2.0         -0.577496   \n99994                     6.0  ...         2.0         -0.577496   \n99995                     7.0  ...         2.0         -0.577496   \n99996                     7.0  ...         2.0         -0.577496   \n99997                     6.0  ...         2.0         -0.577496   \n\n       Credit_Utilization_Ratio  Credit_History_Age  Payment_of_Min_Amount  \\\n0                     -0.648697                 1.0                    1.0   \n1                     -0.041010                 1.0                    1.0   \n2                     -0.436728                 1.0                    1.0   \n3                     -0.108287                 1.0                    1.0   \n4                     -0.888964                 1.0                    1.0   \n...                         ...                 ...                    ...   \n99993                 -0.374315                 1.0                    1.0   \n99994                  0.834349                 1.0                    1.0   \n99995                  0.281512                 1.0                    1.0   \n99996                  0.981701                 1.0                    1.0   \n99997                  1.063546                 1.0                    1.0   \n\n       Total_EMI_per_month  Amount_invested_monthly  Payment_Behaviour  \\\n0                -0.139504                -0.661203                3.0   \n1                -0.139504                -0.661203                2.0   \n2                -0.139504                -0.661203                1.0   \n3                -0.139504                -0.661203                0.0   \n4                -0.139504                -0.661203                4.0   \n...                    ...                      ...                ...   \n99993            -0.264438                -0.576030                1.0   \n99994            -0.264438                -0.576030                4.0   \n99995            -0.264438                -0.576030                5.0   \n99996            -0.264438                -0.576030                4.0   \n99997            -0.264438                -0.576030                5.0   \n\n       Monthly_Balance  Credit_Score  \n0            -0.108344           2.0  \n1            -0.250764           2.0  \n2            -0.012686           2.0  \n3            -0.563450           2.0  \n4             0.039852           2.0  \n...                ...           ...  \n99993         0.339440           1.0  \n99994         0.391326           0.0  \n99995         0.747110           0.0  \n99996         0.832901           0.0  \n99997         0.935928           0.0  \n\n[75000 rows x 22 columns]",
      "text/html": "<div>\n<style scoped>\n    .dataframe tbody tr th:only-of-type {\n        vertical-align: middle;\n    }\n\n    .dataframe tbody tr th {\n        vertical-align: top;\n    }\n\n    .dataframe thead th {\n        text-align: right;\n    }\n</style>\n<table border=\"1\" class=\"dataframe\">\n  <thead>\n    <tr style=\"text-align: right;\">\n      <th></th>\n      <th>Customer_ID</th>\n      <th>Month</th>\n      <th>Age</th>\n      <th>Monthly_Inhand_Salary</th>\n      <th>Num_Bank_Accounts</th>\n      <th>Num_Credit_Card</th>\n      <th>Interest_Rate</th>\n      <th>Num_of_Loan</th>\n      <th>Delay_from_due_date</th>\n      <th>Num_of_Delayed_Payment</th>\n      <th>...</th>\n      <th>Credit_Mix</th>\n      <th>Outstanding_Debt</th>\n      <th>Credit_Utilization_Ratio</th>\n      <th>Credit_History_Age</th>\n      <th>Payment_of_Min_Amount</th>\n      <th>Total_EMI_per_month</th>\n      <th>Amount_invested_monthly</th>\n      <th>Payment_Behaviour</th>\n      <th>Monthly_Balance</th>\n      <th>Credit_Score</th>\n    </tr>\n  </thead>\n  <tbody>\n    <tr>\n      <th>0</th>\n      <td>3392.0</td>\n      <td>1.0</td>\n      <td>20</td>\n      <td>-0.407299</td>\n      <td>3.0</td>\n      <td>4.0</td>\n      <td>3.0</td>\n      <td>0.0</td>\n      <td>1.732051</td>\n      <td>7.0</td>\n      <td>...</td>\n      <td>2.0</td>\n      <td>-0.279953</td>\n      <td>-0.648697</td>\n      <td>1.0</td>\n      <td>1.0</td>\n      <td>-0.139504</td>\n      <td>-0.661203</td>\n      <td>3.0</td>\n      <td>-0.108344</td>\n      <td>2.0</td>\n    </tr>\n    <tr>\n      <th>1</th>\n      <td>3392.0</td>\n      <td>2.0</td>\n      <td>20</td>\n      <td>-0.407299</td>\n      <td>3.0</td>\n      <td>4.0</td>\n      <td>3.0</td>\n      <td>0.0</td>\n      <td>1.732051</td>\n      <td>4.0</td>\n      <td>...</td>\n      <td>2.0</td>\n      <td>-0.279953</td>\n      <td>-0.041010</td>\n      <td>1.0</td>\n      <td>1.0</td>\n      <td>-0.139504</td>\n      <td>-0.661203</td>\n      <td>2.0</td>\n      <td>-0.250764</td>\n      <td>2.0</td>\n    </tr>\n    <tr>\n      <th>2</th>\n      <td>3392.0</td>\n      <td>3.0</td>\n      <td>20</td>\n      <td>-0.407299</td>\n      <td>3.0</td>\n      <td>4.0</td>\n      <td>3.0</td>\n      <td>0.0</td>\n      <td>1.732051</td>\n      <td>7.0</td>\n      <td>...</td>\n      <td>2.0</td>\n      <td>-0.279953</td>\n      <td>-0.436728</td>\n      <td>1.0</td>\n      <td>1.0</td>\n      <td>-0.139504</td>\n      <td>-0.661203</td>\n      <td>1.0</td>\n      <td>-0.012686</td>\n      <td>2.0</td>\n    </tr>\n    <tr>\n      <th>3</th>\n      <td>3392.0</td>\n      <td>4.0</td>\n      <td>20</td>\n      <td>-0.407299</td>\n      <td>3.0</td>\n      <td>4.0</td>\n      <td>3.0</td>\n      <td>0.0</td>\n      <td>2.236068</td>\n      <td>4.0</td>\n      <td>...</td>\n      <td>2.0</td>\n      <td>-0.279953</td>\n      <td>-0.108287</td>\n      <td>1.0</td>\n      <td>1.0</td>\n      <td>-0.139504</td>\n      <td>-0.661203</td>\n      <td>0.0</td>\n      <td>-0.563450</td>\n      <td>2.0</td>\n    </tr>\n    <tr>\n      <th>4</th>\n      <td>3392.0</td>\n      <td>5.0</td>\n      <td>20</td>\n      <td>-0.407299</td>\n      <td>3.0</td>\n      <td>4.0</td>\n      <td>3.0</td>\n      <td>0.0</td>\n      <td>2.449490</td>\n      <td>4.0</td>\n      <td>...</td>\n      <td>2.0</td>\n      <td>-0.279953</td>\n      <td>-0.888964</td>\n      <td>1.0</td>\n      <td>1.0</td>\n      <td>-0.139504</td>\n      <td>-0.661203</td>\n      <td>4.0</td>\n      <td>0.039852</td>\n      <td>2.0</td>\n    </tr>\n    <tr>\n      <th>...</th>\n      <td>...</td>\n      <td>...</td>\n      <td>...</td>\n      <td>...</td>\n      <td>...</td>\n      <td>...</td>\n      <td>...</td>\n      <td>...</td>\n      <td>...</td>\n      <td>...</td>\n      <td>...</td>\n      <td>...</td>\n      <td>...</td>\n      <td>...</td>\n      <td>...</td>\n      <td>...</td>\n      <td>...</td>\n      <td>...</td>\n      <td>...</td>\n      <td>...</td>\n      <td>...</td>\n    </tr>\n    <tr>\n      <th>99993</th>\n      <td>37932.0</td>\n      <td>2.0</td>\n      <td>20</td>\n      <td>0.062676</td>\n      <td>4.0</td>\n      <td>6.0</td>\n      <td>7.0</td>\n      <td>0.0</td>\n      <td>4.795832</td>\n      <td>6.0</td>\n      <td>...</td>\n      <td>2.0</td>\n      <td>-0.577496</td>\n      <td>-0.374315</td>\n      <td>1.0</td>\n      <td>1.0</td>\n      <td>-0.264438</td>\n      <td>-0.576030</td>\n      <td>1.0</td>\n      <td>0.339440</td>\n      <td>1.0</td>\n    </tr>\n    <tr>\n      <th>99994</th>\n      <td>37932.0</td>\n      <td>3.0</td>\n      <td>20</td>\n      <td>0.062676</td>\n      <td>4.0</td>\n      <td>6.0</td>\n      <td>7.0</td>\n      <td>0.0</td>\n      <td>4.472136</td>\n      <td>6.0</td>\n      <td>...</td>\n      <td>2.0</td>\n      <td>-0.577496</td>\n      <td>0.834349</td>\n      <td>1.0</td>\n      <td>1.0</td>\n      <td>-0.264438</td>\n      <td>-0.576030</td>\n      <td>4.0</td>\n      <td>0.391326</td>\n      <td>0.0</td>\n    </tr>\n    <tr>\n      <th>99995</th>\n      <td>37932.0</td>\n      <td>4.0</td>\n      <td>20</td>\n      <td>0.062676</td>\n      <td>4.0</td>\n      <td>6.0</td>\n      <td>7.0</td>\n      <td>0.0</td>\n      <td>4.795832</td>\n      <td>7.0</td>\n      <td>...</td>\n      <td>2.0</td>\n      <td>-0.577496</td>\n      <td>0.281512</td>\n      <td>1.0</td>\n      <td>1.0</td>\n      <td>-0.264438</td>\n      <td>-0.576030</td>\n      <td>5.0</td>\n      <td>0.747110</td>\n      <td>0.0</td>\n    </tr>\n    <tr>\n      <th>99996</th>\n      <td>37932.0</td>\n      <td>5.0</td>\n      <td>20</td>\n      <td>0.062676</td>\n      <td>4.0</td>\n      <td>6.0</td>\n      <td>7.0</td>\n      <td>0.0</td>\n      <td>4.242641</td>\n      <td>7.0</td>\n      <td>...</td>\n      <td>2.0</td>\n      <td>-0.577496</td>\n      <td>0.981701</td>\n      <td>1.0</td>\n      <td>1.0</td>\n      <td>-0.264438</td>\n      <td>-0.576030</td>\n      <td>4.0</td>\n      <td>0.832901</td>\n      <td>0.0</td>\n    </tr>\n    <tr>\n      <th>99997</th>\n      <td>37932.0</td>\n      <td>6.0</td>\n      <td>20</td>\n      <td>0.062676</td>\n      <td>4.0</td>\n      <td>6.0</td>\n      <td>7.0</td>\n      <td>0.0</td>\n      <td>5.196152</td>\n      <td>6.0</td>\n      <td>...</td>\n      <td>2.0</td>\n      <td>-0.577496</td>\n      <td>1.063546</td>\n      <td>1.0</td>\n      <td>1.0</td>\n      <td>-0.264438</td>\n      <td>-0.576030</td>\n      <td>5.0</td>\n      <td>0.935928</td>\n      <td>0.0</td>\n    </tr>\n  </tbody>\n</table>\n<p>75000 rows × 22 columns</p>\n</div>"
     },
     "execution_count": 47,
     "metadata": {},
     "output_type": "execute_result"
    }
   ],
   "source": [
    "otherwise_cols = set(train_df.columns.tolist()) - set(scaling_cols)\n",
    "\n",
    "def int2float(data):\n",
    "    float_data = data.copy()\n",
    "    for idx, col in enumerate(data.dtypes.index):\n",
    "        if train_df.dtypes.values[idx] == int:\n",
    "            float_data[col] = data[col].astype(np.float64)\n",
    "        # print(idx)\n",
    "        # print(col)\n",
    "\n",
    "    return float_data\n",
    "\n",
    "int2float(train_df)"
   ],
   "metadata": {
    "collapsed": false
   }
  },
  {
   "cell_type": "code",
   "execution_count": null,
   "outputs": [],
   "source": [],
   "metadata": {
    "collapsed": false
   }
  },
  {
   "cell_type": "markdown",
   "source": [
    "# TEST ML"
   ],
   "metadata": {
    "collapsed": false
   }
  },
  {
   "cell_type": "code",
   "execution_count": 50,
   "outputs": [
    {
     "name": "stdout",
     "output_type": "stream",
     "text": [
      "['Month', 'Age', 'Monthly_Inhand_Salary', 'Num_Bank_Accounts', 'Num_Credit_Card', 'Interest_Rate', 'Num_of_Loan', 'Delay_from_due_date', 'Num_of_Delayed_Payment', 'Changed_Credit_Limit', 'Num_Credit_Inquiries', 'Credit_Mix', 'Outstanding_Debt', 'Credit_Utilization_Ratio', 'Credit_History_Age', 'Payment_of_Min_Amount', 'Total_EMI_per_month', 'Amount_invested_monthly', 'Payment_Behaviour', 'Monthly_Balance']\n",
      "Credit_Score\n"
     ]
    }
   ],
   "source": [
    "x_cols = train_df.iloc[:, 1:-1].columns.tolist()\n",
    "y_col = train_df.iloc[:, -1].name\n",
    "\n",
    "print(x_cols)\n",
    "print(y_col)"
   ],
   "metadata": {
    "collapsed": false
   }
  },
  {
   "cell_type": "code",
   "execution_count": 51,
   "outputs": [
    {
     "name": "stdout",
     "output_type": "stream",
     "text": [
      "X train shape:  (75000, 21)\n",
      "X test shape:  (25000, 21)\n",
      "y train shape:  (75000,)\n",
      "y test shape:  (25000,)\n"
     ]
    }
   ],
   "source": [
    "X_train = train_df.iloc[:, :-1].values\n",
    "y_train = train_df.iloc[:, -1].values\n",
    "\n",
    "X_test = test_df.iloc[:, :-1].values\n",
    "y_test = test_df.iloc[:, -1].values\n",
    "\n",
    "print('X train shape: ', X_train.shape)\n",
    "print('X test shape: ', X_test.shape)\n",
    "\n",
    "print('y train shape: ', y_train.shape)\n",
    "print('y test shape: ', y_test.shape)"
   ],
   "metadata": {
    "collapsed": false
   }
  },
  {
   "cell_type": "code",
   "execution_count": 52,
   "outputs": [],
   "source": [
    "from sklearn.ensemble import RandomForestClassifier"
   ],
   "metadata": {
    "collapsed": false
   }
  },
  {
   "cell_type": "code",
   "execution_count": 53,
   "outputs": [],
   "source": [
    "rf_clf = RandomForestClassifier(n_jobs=-1)"
   ],
   "metadata": {
    "collapsed": false
   }
  },
  {
   "cell_type": "code",
   "execution_count": 54,
   "outputs": [
    {
     "data": {
      "text/plain": "RandomForestClassifier(n_jobs=-1)",
      "text/html": "<style>#sk-container-id-1 {color: black;background-color: white;}#sk-container-id-1 pre{padding: 0;}#sk-container-id-1 div.sk-toggleable {background-color: white;}#sk-container-id-1 label.sk-toggleable__label {cursor: pointer;display: block;width: 100%;margin-bottom: 0;padding: 0.3em;box-sizing: border-box;text-align: center;}#sk-container-id-1 label.sk-toggleable__label-arrow:before {content: \"▸\";float: left;margin-right: 0.25em;color: #696969;}#sk-container-id-1 label.sk-toggleable__label-arrow:hover:before {color: black;}#sk-container-id-1 div.sk-estimator:hover label.sk-toggleable__label-arrow:before {color: black;}#sk-container-id-1 div.sk-toggleable__content {max-height: 0;max-width: 0;overflow: hidden;text-align: left;background-color: #f0f8ff;}#sk-container-id-1 div.sk-toggleable__content pre {margin: 0.2em;color: black;border-radius: 0.25em;background-color: #f0f8ff;}#sk-container-id-1 input.sk-toggleable__control:checked~div.sk-toggleable__content {max-height: 200px;max-width: 100%;overflow: auto;}#sk-container-id-1 input.sk-toggleable__control:checked~label.sk-toggleable__label-arrow:before {content: \"▾\";}#sk-container-id-1 div.sk-estimator input.sk-toggleable__control:checked~label.sk-toggleable__label {background-color: #d4ebff;}#sk-container-id-1 div.sk-label input.sk-toggleable__control:checked~label.sk-toggleable__label {background-color: #d4ebff;}#sk-container-id-1 input.sk-hidden--visually {border: 0;clip: rect(1px 1px 1px 1px);clip: rect(1px, 1px, 1px, 1px);height: 1px;margin: -1px;overflow: hidden;padding: 0;position: absolute;width: 1px;}#sk-container-id-1 div.sk-estimator {font-family: monospace;background-color: #f0f8ff;border: 1px dotted black;border-radius: 0.25em;box-sizing: border-box;margin-bottom: 0.5em;}#sk-container-id-1 div.sk-estimator:hover {background-color: #d4ebff;}#sk-container-id-1 div.sk-parallel-item::after {content: \"\";width: 100%;border-bottom: 1px solid gray;flex-grow: 1;}#sk-container-id-1 div.sk-label:hover label.sk-toggleable__label {background-color: #d4ebff;}#sk-container-id-1 div.sk-serial::before {content: \"\";position: absolute;border-left: 1px solid gray;box-sizing: border-box;top: 0;bottom: 0;left: 50%;z-index: 0;}#sk-container-id-1 div.sk-serial {display: flex;flex-direction: column;align-items: center;background-color: white;padding-right: 0.2em;padding-left: 0.2em;position: relative;}#sk-container-id-1 div.sk-item {position: relative;z-index: 1;}#sk-container-id-1 div.sk-parallel {display: flex;align-items: stretch;justify-content: center;background-color: white;position: relative;}#sk-container-id-1 div.sk-item::before, #sk-container-id-1 div.sk-parallel-item::before {content: \"\";position: absolute;border-left: 1px solid gray;box-sizing: border-box;top: 0;bottom: 0;left: 50%;z-index: -1;}#sk-container-id-1 div.sk-parallel-item {display: flex;flex-direction: column;z-index: 1;position: relative;background-color: white;}#sk-container-id-1 div.sk-parallel-item:first-child::after {align-self: flex-end;width: 50%;}#sk-container-id-1 div.sk-parallel-item:last-child::after {align-self: flex-start;width: 50%;}#sk-container-id-1 div.sk-parallel-item:only-child::after {width: 0;}#sk-container-id-1 div.sk-dashed-wrapped {border: 1px dashed gray;margin: 0 0.4em 0.5em 0.4em;box-sizing: border-box;padding-bottom: 0.4em;background-color: white;}#sk-container-id-1 div.sk-label label {font-family: monospace;font-weight: bold;display: inline-block;line-height: 1.2em;}#sk-container-id-1 div.sk-label-container {text-align: center;}#sk-container-id-1 div.sk-container {/* jupyter's `normalize.less` sets `[hidden] { display: none; }` but bootstrap.min.css set `[hidden] { display: none !important; }` so we also need the `!important` here to be able to override the default hidden behavior on the sphinx rendered scikit-learn.org. See: https://github.com/scikit-learn/scikit-learn/issues/21755 */display: inline-block !important;position: relative;}#sk-container-id-1 div.sk-text-repr-fallback {display: none;}</style><div id=\"sk-container-id-1\" class=\"sk-top-container\"><div class=\"sk-text-repr-fallback\"><pre>RandomForestClassifier(n_jobs=-1)</pre><b>In a Jupyter environment, please rerun this cell to show the HTML representation or trust the notebook. <br />On GitHub, the HTML representation is unable to render, please try loading this page with nbviewer.org.</b></div><div class=\"sk-container\" hidden><div class=\"sk-item\"><div class=\"sk-estimator sk-toggleable\"><input class=\"sk-toggleable__control sk-hidden--visually\" id=\"sk-estimator-id-1\" type=\"checkbox\" checked><label for=\"sk-estimator-id-1\" class=\"sk-toggleable__label sk-toggleable__label-arrow\">RandomForestClassifier</label><div class=\"sk-toggleable__content\"><pre>RandomForestClassifier(n_jobs=-1)</pre></div></div></div></div></div>"
     },
     "execution_count": 54,
     "metadata": {},
     "output_type": "execute_result"
    }
   ],
   "source": [
    "rf_clf.fit(X_train, y_train)"
   ],
   "metadata": {
    "collapsed": false
   }
  },
  {
   "cell_type": "code",
   "execution_count": 56,
   "outputs": [
    {
     "data": {
      "text/plain": "0.74016"
     },
     "execution_count": 56,
     "metadata": {},
     "output_type": "execute_result"
    }
   ],
   "source": [
    "rf_clf.score(X_test, y_test)"
   ],
   "metadata": {
    "collapsed": false
   }
  },
  {
   "cell_type": "markdown",
   "source": [
    "## 5. Deep Learning Modeling"
   ],
   "metadata": {
    "collapsed": false
   }
  },
  {
   "cell_type": "markdown",
   "source": [
    "### 5.1 DNN"
   ],
   "metadata": {
    "collapsed": false
   }
  },
  {
   "cell_type": "code",
   "execution_count": 48,
   "outputs": [],
   "source": [],
   "metadata": {
    "collapsed": false
   }
  },
  {
   "cell_type": "code",
   "execution_count": 49,
   "outputs": [],
   "source": [
    "import tensorflow as tf\n",
    "from time import time\n",
    "from datetime import timedelta\n",
    "from sklearn.metrics import classification_report, confusion_matrix, accuracy_score"
   ],
   "metadata": {
    "collapsed": false
   }
  },
  {
   "cell_type": "code",
   "execution_count": 50,
   "outputs": [],
   "source": [
    "import matplotlib.pyplot as plt\n",
    "import seaborn as sns\n",
    "\n",
    "# loss와 accuracy 시각화를 위한 함수 정의\n",
    "def plot_loss(history):\n",
    "    plt.figure(figsize=(8, 5))\n",
    "    plt.plot(history.history['loss'], 'b-', label='loss')\n",
    "    plt.plot(history.history['val_loss'], 'g--', label='val_loss')\n",
    "    plt.xlabel('Epochs')\n",
    "    plt.ylabel('Loss')\n",
    "    plt.title('Loss vs Val Loss')\n",
    "    plt.legend()\n",
    "    plt.show()\n",
    "\n",
    "def plot_acc(history):\n",
    "    plt.figure(figsize=(8, 5))\n",
    "    plt.plot(history.history['acc'], 'b-', label='acc')\n",
    "    plt.plot(history.history['val_acc'], 'g--', label='val_acc')\n",
    "    plt.xlabel('Epochs')\n",
    "    plt.ylabel('Accuracy')\n",
    "    plt.title('Accuracy vs Val Accuracy')\n",
    "    plt.legend()\n",
    "    plt.show()"
   ],
   "metadata": {
    "collapsed": false
   }
  },
  {
   "cell_type": "code",
   "execution_count": 51,
   "outputs": [],
   "source": [
    "# 결과 재활용을 위한 시드 설정 함수 정의\n",
    "import random\n",
    "\n",
    "def set_seed(seed: int = 42) -> None:\n",
    "    random.seed(seed)\n",
    "    np.random.seed(seed)\n",
    "    tf.random.set_seed(seed)\n",
    "    tf.experimental.numpy.random.seed(seed)\n",
    "    # When running on the CuDNN backend, two further options must be set\n",
    "    os.environ['TF_CUDNN_DETERMINISTIC'] = '1'\n",
    "    os.environ['TF_DETERMINISTIC_OPS'] = '1'\n",
    "    # Set a fixed value for the hash seed\n",
    "    os.environ[\"PYTHONHASHSEED\"] = str(seed)\n",
    "    print(f\"Random seed set as {seed}\")"
   ],
   "metadata": {
    "collapsed": false
   }
  },
  {
   "cell_type": "code",
   "execution_count": 52,
   "outputs": [],
   "source": [
    "# 분류모델 결과 평가를 위한 혼동행렬 리포트 & 시각화 함수 정의\n",
    "def clf_report_plot(y_true, X_test, model):\n",
    "\n",
    "    result = model.predict(X_test)\n",
    "\n",
    "    y_pred = []\n",
    "    for pred in result:\n",
    "        y_pred.append(np.argmax(pred))\n",
    "\n",
    "    print(classification_report(y_true, y_pred, digits=4))\n",
    "\n",
    "    # plt.rc('font', family='NanumGothicOTF') # For MacOS\n",
    "    plt.rc('font', family='NanumGothic') # For Windows\n",
    "\n",
    "    ax = plt.subplot()\n",
    "    ax.figure.set_size_inches(10, 10)\n",
    "    cm = confusion_matrix(y_true=y_true, y_pred=y_pred)\n",
    "    sns.heatmap(cm, annot=True, fmt='.0f', cmap='Blues', ax=ax)\n",
    "\n",
    "    ax.set_title('Confusion Matrix',fontsize=20, y=1.05)\n",
    "    ax.set_xlabel('Predicted Labels', fontsize=15)\n",
    "    ax.set_ylabel('True Labels', fontsize=15)\n",
    "\n",
    "    ax.xaxis.set_ticklabels(['Poor', 'Standard', 'Good'])\n",
    "    ax.yaxis.set_ticklabels(['Poor', 'Standard', 'Good'])\n",
    "    plt.show()"
   ],
   "metadata": {
    "collapsed": false
   }
  },
  {
   "cell_type": "code",
   "execution_count": 53,
   "outputs": [],
   "source": [
    "from tensorflow.keras.models import Sequential, load_model, Model\n",
    "\n",
    "from tensorflow.keras.layers import Embedding, Dense, LSTM, RNN, Flatten, SimpleRNN\n",
    "from tensorflow.keras.layers import Conv1D, MaxPooling1D, Dropout, Input\n",
    "\n",
    "from tensorflow.keras.initializers import GlorotUniform\n",
    "\n",
    "from tensorflow.keras.callbacks import EarlyStopping, ModelCheckpoint\n",
    "\n",
    "# from sklearn.metrics import confusion_matrix, classification_report"
   ],
   "metadata": {
    "collapsed": false
   }
  },
  {
   "cell_type": "code",
   "execution_count": 55,
   "outputs": [
    {
     "name": "stdout",
     "output_type": "stream",
     "text": [
      "1    40214\n",
      "0    21782\n",
      "2    13004\n",
      "dtype: int64\n"
     ]
    }
   ],
   "source": [
    "# class weights 설정\n",
    "class_labels = np.unique(y_train)\n",
    "print(pd.Series(y_train).value_counts())"
   ],
   "metadata": {
    "collapsed": false
   }
  },
  {
   "cell_type": "code",
   "execution_count": 56,
   "outputs": [],
   "source": [
    "from sklearn.utils.class_weight import compute_class_weight"
   ],
   "metadata": {
    "collapsed": false
   }
  },
  {
   "cell_type": "code",
   "execution_count": 57,
   "outputs": [
    {
     "name": "stdout",
     "output_type": "stream",
     "text": [
      "{0: 1.1477366632999724, 1: 0.6216740438653205, 2: 1.9224853891110427}\n"
     ]
    }
   ],
   "source": [
    "class_weights = compute_class_weight(class_weight='balanced', classes=class_labels, y=y_train)\n",
    "class_weights_dic = dict(zip(class_labels, class_weights))\n",
    "print(class_weights_dic)"
   ],
   "metadata": {
    "collapsed": false
   }
  },
  {
   "cell_type": "code",
   "execution_count": 58,
   "outputs": [],
   "source": [
    "seed = 42\n",
    "batch_size = 128\n",
    "epochs = 50\n",
    "\n",
    "num_class = 3"
   ],
   "metadata": {
    "collapsed": false
   }
  },
  {
   "cell_type": "code",
   "execution_count": 59,
   "outputs": [
    {
     "name": "stdout",
     "output_type": "stream",
     "text": [
      "Random seed set as 42\n",
      "Metal device set to: Apple M1 Pro\n"
     ]
    },
    {
     "name": "stderr",
     "output_type": "stream",
     "text": [
      "2022-11-14 21:16:04.207334: I tensorflow/core/common_runtime/pluggable_device/pluggable_device_factory.cc:306] Could not identify NUMA node of platform GPU ID 0, defaulting to 0. Your kernel may not have been built with NUMA support.\n",
      "2022-11-14 21:16:04.207446: I tensorflow/core/common_runtime/pluggable_device/pluggable_device_factory.cc:272] Created TensorFlow device (/job:localhost/replica:0/task:0/device:GPU:0 with 0 MB memory) -> physical PluggableDevice (device: 0, name: METAL, pci bus id: <undefined>)\n"
     ]
    }
   ],
   "source": [
    "set_seed(seed)\n",
    "model = Sequential()\n",
    "\n",
    "model.add(Dense(128, input_shape=(X_train.shape[1], ), activation='relu'))\n",
    "model.add(Dropout(0.5))\n",
    "model.add(Dense(256, activation='relu'))\n",
    "model.add(Dropout(0.5))\n",
    "model.add(Dense(512, activation='relu'))\n",
    "model.add(Dropout(0.5))\n",
    "model.add(Dense(256, activation='relu'))\n",
    "model.add(Dropout(0.5))\n",
    "model.add(Dense(64, activation='relu'))\n",
    "model.add(Dropout(0.5))\n",
    "model.add(Dense(num_class, activation='softmax'))"
   ],
   "metadata": {
    "collapsed": false
   }
  },
  {
   "cell_type": "code",
   "execution_count": 60,
   "outputs": [
    {
     "name": "stdout",
     "output_type": "stream",
     "text": [
      "Model: \"sequential\"\n",
      "_________________________________________________________________\n",
      " Layer (type)                Output Shape              Param #   \n",
      "=================================================================\n",
      " dense (Dense)               (None, 128)               2816      \n",
      "                                                                 \n",
      " dropout (Dropout)           (None, 128)               0         \n",
      "                                                                 \n",
      " dense_1 (Dense)             (None, 256)               33024     \n",
      "                                                                 \n",
      " dropout_1 (Dropout)         (None, 256)               0         \n",
      "                                                                 \n",
      " dense_2 (Dense)             (None, 512)               131584    \n",
      "                                                                 \n",
      " dropout_2 (Dropout)         (None, 512)               0         \n",
      "                                                                 \n",
      " dense_3 (Dense)             (None, 256)               131328    \n",
      "                                                                 \n",
      " dropout_3 (Dropout)         (None, 256)               0         \n",
      "                                                                 \n",
      " dense_4 (Dense)             (None, 64)                16448     \n",
      "                                                                 \n",
      " dropout_4 (Dropout)         (None, 64)                0         \n",
      "                                                                 \n",
      " dense_5 (Dense)             (None, 3)                 195       \n",
      "                                                                 \n",
      "=================================================================\n",
      "Total params: 315,395\n",
      "Trainable params: 315,395\n",
      "Non-trainable params: 0\n",
      "_________________________________________________________________\n"
     ]
    }
   ],
   "source": [
    "model.summary()"
   ],
   "metadata": {
    "collapsed": false
   }
  },
  {
   "cell_type": "code",
   "execution_count": 61,
   "outputs": [
    {
     "name": "stderr",
     "output_type": "stream",
     "text": [
      "/Users/ben/miniforge3/envs/tf_mini/lib/python3.8/site-packages/keras/optimizers/optimizer_v2/adam.py:114: UserWarning: The `lr` argument is deprecated, use `learning_rate` instead.\n",
      "  super().__init__(name, **kwargs)\n"
     ]
    }
   ],
   "source": [
    "model.compile(optimizer=tf.keras.optimizers.Adam(lr=0.01), loss='sparse_categorical_crossentropy', metrics=['acc'])\n",
    "\n",
    "es = EarlyStopping(monitor='val_loss', mode='min', verbose=1, patience=5)\n",
    "mc = ModelCheckpoint('dnn_best_model.h5', monitor='val_acc', mode='max', verbose=1, save_best_only=True)"
   ],
   "metadata": {
    "collapsed": false
   }
  },
  {
   "cell_type": "code",
   "execution_count": 62,
   "outputs": [
    {
     "data": {
      "text/plain": "1    40214\n0    21782\n2    13004\ndtype: int64"
     },
     "execution_count": 62,
     "metadata": {},
     "output_type": "execute_result"
    }
   ],
   "source": [
    "pd.Series(y_train).value_counts()"
   ],
   "metadata": {
    "collapsed": false
   }
  },
  {
   "cell_type": "code",
   "execution_count": 63,
   "outputs": [
    {
     "name": "stdout",
     "output_type": "stream",
     "text": [
      "Random seed set as 42\n",
      "Algorithm starts learning.....\n"
     ]
    },
    {
     "name": "stderr",
     "output_type": "stream",
     "text": [
      "2022-11-14 21:16:04.412470: W tensorflow/core/platform/profile_utils/cpu_utils.cc:128] Failed to get CPU frequency: 0 Hz\n"
     ]
    },
    {
     "name": "stdout",
     "output_type": "stream",
     "text": [
      "Epoch 1/50\n"
     ]
    },
    {
     "name": "stderr",
     "output_type": "stream",
     "text": [
      "2022-11-14 21:16:04.733054: I tensorflow/core/grappler/optimizers/custom_graph_optimizer_registry.cc:114] Plugin optimizer for device_type GPU is enabled.\n"
     ]
    },
    {
     "name": "stdout",
     "output_type": "stream",
     "text": [
      "469/469 [==============================] - ETA: 0s - loss: 35.8402 - acc: 0.5315"
     ]
    },
    {
     "name": "stderr",
     "output_type": "stream",
     "text": [
      "2022-11-14 21:16:10.679725: I tensorflow/core/grappler/optimizers/custom_graph_optimizer_registry.cc:114] Plugin optimizer for device_type GPU is enabled.\n"
     ]
    },
    {
     "name": "stdout",
     "output_type": "stream",
     "text": [
      "\n",
      "Epoch 1: val_acc improved from -inf to 0.54167, saving model to dnn_best_model.h5\n",
      "469/469 [==============================] - 7s 14ms/step - loss: 35.8402 - acc: 0.5315 - val_loss: 0.9981 - val_acc: 0.5417\n",
      "Epoch 2/50\n",
      "467/469 [============================>.] - ETA: 0s - loss: 0.9970 - acc: 0.5351\n",
      "Epoch 2: val_acc did not improve from 0.54167\n",
      "469/469 [==============================] - 6s 13ms/step - loss: 0.9973 - acc: 0.5348 - val_loss: 0.9981 - val_acc: 0.5417\n",
      "Epoch 3/50\n",
      "468/469 [============================>.] - ETA: 0s - loss: 0.9973 - acc: 0.5349\n",
      "Epoch 3: val_acc did not improve from 0.54167\n",
      "469/469 [==============================] - 6s 13ms/step - loss: 0.9974 - acc: 0.5348 - val_loss: 0.9975 - val_acc: 0.5417\n",
      "Epoch 4/50\n",
      "467/469 [============================>.] - ETA: 0s - loss: 0.9975 - acc: 0.5347\n",
      "Epoch 4: val_acc did not improve from 0.54167\n",
      "469/469 [==============================] - 6s 13ms/step - loss: 0.9974 - acc: 0.5348 - val_loss: 0.9969 - val_acc: 0.5417\n",
      "Epoch 5/50\n",
      " 52/469 [==>...........................] - ETA: 5s - loss: 0.9956 - acc: 0.5373"
     ]
    },
    {
     "ename": "KeyboardInterrupt",
     "evalue": "",
     "output_type": "error",
     "traceback": [
      "\u001B[0;31m---------------------------------------------------------------------------\u001B[0m",
      "\u001B[0;31mKeyboardInterrupt\u001B[0m                         Traceback (most recent call last)",
      "Input \u001B[0;32mIn [63]\u001B[0m, in \u001B[0;36m<cell line: 5>\u001B[0;34m()\u001B[0m\n\u001B[1;32m      2\u001B[0m \u001B[38;5;28mprint\u001B[39m(\u001B[38;5;124m'\u001B[39m\u001B[38;5;124mAlgorithm starts learning.....\u001B[39m\u001B[38;5;124m'\u001B[39m)\n\u001B[1;32m      3\u001B[0m start_time \u001B[38;5;241m=\u001B[39m time()\n\u001B[0;32m----> 5\u001B[0m history \u001B[38;5;241m=\u001B[39m \u001B[43mmodel\u001B[49m\u001B[38;5;241;43m.\u001B[39;49m\u001B[43mfit\u001B[49m\u001B[43m(\u001B[49m\u001B[43mX_train\u001B[49m\u001B[43m,\u001B[49m\u001B[43m \u001B[49m\u001B[43my_train\u001B[49m\u001B[43m,\u001B[49m\n\u001B[1;32m      6\u001B[0m \u001B[43m                    \u001B[49m\u001B[43mepochs\u001B[49m\u001B[38;5;241;43m=\u001B[39;49m\u001B[43mepochs\u001B[49m\u001B[43m,\u001B[49m\n\u001B[1;32m      7\u001B[0m \u001B[43m                    \u001B[49m\u001B[43mbatch_size\u001B[49m\u001B[38;5;241;43m=\u001B[39;49m\u001B[43mbatch_size\u001B[49m\u001B[43m,\u001B[49m\n\u001B[1;32m      8\u001B[0m \u001B[43m                    \u001B[49m\u001B[43mvalidation_split\u001B[49m\u001B[38;5;241;43m=\u001B[39;49m\u001B[38;5;241;43m0.2\u001B[39;49m\u001B[43m,\u001B[49m\n\u001B[1;32m      9\u001B[0m \u001B[43m                    \u001B[49m\u001B[43mcallbacks\u001B[49m\u001B[38;5;241;43m=\u001B[39;49m\u001B[43m[\u001B[49m\u001B[43mes\u001B[49m\u001B[43m,\u001B[49m\u001B[43m \u001B[49m\u001B[43mmc\u001B[49m\u001B[43m]\u001B[49m\u001B[43m,\u001B[49m\n\u001B[1;32m     10\u001B[0m \u001B[43m                    \u001B[49m\u001B[38;5;66;43;03m# class_weight=class_weights_dic\u001B[39;49;00m\n\u001B[1;32m     11\u001B[0m \u001B[43m                    \u001B[49m\u001B[43m)\u001B[49m\n\u001B[1;32m     13\u001B[0m \u001B[38;5;28mprint\u001B[39m(\u001B[38;5;124m\"\u001B[39m\u001B[38;5;124mLearning Durations: \u001B[39m\u001B[38;5;124m\"\u001B[39m, timedelta(seconds\u001B[38;5;241m=\u001B[39m(time() \u001B[38;5;241m-\u001B[39m start_time)))\n",
      "File \u001B[0;32m~/miniforge3/envs/tf_mini/lib/python3.8/site-packages/keras/utils/traceback_utils.py:65\u001B[0m, in \u001B[0;36mfilter_traceback.<locals>.error_handler\u001B[0;34m(*args, **kwargs)\u001B[0m\n\u001B[1;32m     63\u001B[0m filtered_tb \u001B[38;5;241m=\u001B[39m \u001B[38;5;28;01mNone\u001B[39;00m\n\u001B[1;32m     64\u001B[0m \u001B[38;5;28;01mtry\u001B[39;00m:\n\u001B[0;32m---> 65\u001B[0m     \u001B[38;5;28;01mreturn\u001B[39;00m \u001B[43mfn\u001B[49m\u001B[43m(\u001B[49m\u001B[38;5;241;43m*\u001B[39;49m\u001B[43margs\u001B[49m\u001B[43m,\u001B[49m\u001B[43m \u001B[49m\u001B[38;5;241;43m*\u001B[39;49m\u001B[38;5;241;43m*\u001B[39;49m\u001B[43mkwargs\u001B[49m\u001B[43m)\u001B[49m\n\u001B[1;32m     66\u001B[0m \u001B[38;5;28;01mexcept\u001B[39;00m \u001B[38;5;167;01mException\u001B[39;00m \u001B[38;5;28;01mas\u001B[39;00m e:\n\u001B[1;32m     67\u001B[0m     filtered_tb \u001B[38;5;241m=\u001B[39m _process_traceback_frames(e\u001B[38;5;241m.\u001B[39m__traceback__)\n",
      "File \u001B[0;32m~/miniforge3/envs/tf_mini/lib/python3.8/site-packages/keras/engine/training.py:1564\u001B[0m, in \u001B[0;36mModel.fit\u001B[0;34m(self, x, y, batch_size, epochs, verbose, callbacks, validation_split, validation_data, shuffle, class_weight, sample_weight, initial_epoch, steps_per_epoch, validation_steps, validation_batch_size, validation_freq, max_queue_size, workers, use_multiprocessing)\u001B[0m\n\u001B[1;32m   1556\u001B[0m \u001B[38;5;28;01mwith\u001B[39;00m tf\u001B[38;5;241m.\u001B[39mprofiler\u001B[38;5;241m.\u001B[39mexperimental\u001B[38;5;241m.\u001B[39mTrace(\n\u001B[1;32m   1557\u001B[0m     \u001B[38;5;124m\"\u001B[39m\u001B[38;5;124mtrain\u001B[39m\u001B[38;5;124m\"\u001B[39m,\n\u001B[1;32m   1558\u001B[0m     epoch_num\u001B[38;5;241m=\u001B[39mepoch,\n\u001B[0;32m   (...)\u001B[0m\n\u001B[1;32m   1561\u001B[0m     _r\u001B[38;5;241m=\u001B[39m\u001B[38;5;241m1\u001B[39m,\n\u001B[1;32m   1562\u001B[0m ):\n\u001B[1;32m   1563\u001B[0m     callbacks\u001B[38;5;241m.\u001B[39mon_train_batch_begin(step)\n\u001B[0;32m-> 1564\u001B[0m     tmp_logs \u001B[38;5;241m=\u001B[39m \u001B[38;5;28;43mself\u001B[39;49m\u001B[38;5;241;43m.\u001B[39;49m\u001B[43mtrain_function\u001B[49m\u001B[43m(\u001B[49m\u001B[43miterator\u001B[49m\u001B[43m)\u001B[49m\n\u001B[1;32m   1565\u001B[0m     \u001B[38;5;28;01mif\u001B[39;00m data_handler\u001B[38;5;241m.\u001B[39mshould_sync:\n\u001B[1;32m   1566\u001B[0m         context\u001B[38;5;241m.\u001B[39masync_wait()\n",
      "File \u001B[0;32m~/miniforge3/envs/tf_mini/lib/python3.8/site-packages/tensorflow/python/util/traceback_utils.py:150\u001B[0m, in \u001B[0;36mfilter_traceback.<locals>.error_handler\u001B[0;34m(*args, **kwargs)\u001B[0m\n\u001B[1;32m    148\u001B[0m filtered_tb \u001B[38;5;241m=\u001B[39m \u001B[38;5;28;01mNone\u001B[39;00m\n\u001B[1;32m    149\u001B[0m \u001B[38;5;28;01mtry\u001B[39;00m:\n\u001B[0;32m--> 150\u001B[0m   \u001B[38;5;28;01mreturn\u001B[39;00m \u001B[43mfn\u001B[49m\u001B[43m(\u001B[49m\u001B[38;5;241;43m*\u001B[39;49m\u001B[43margs\u001B[49m\u001B[43m,\u001B[49m\u001B[43m \u001B[49m\u001B[38;5;241;43m*\u001B[39;49m\u001B[38;5;241;43m*\u001B[39;49m\u001B[43mkwargs\u001B[49m\u001B[43m)\u001B[49m\n\u001B[1;32m    151\u001B[0m \u001B[38;5;28;01mexcept\u001B[39;00m \u001B[38;5;167;01mException\u001B[39;00m \u001B[38;5;28;01mas\u001B[39;00m e:\n\u001B[1;32m    152\u001B[0m   filtered_tb \u001B[38;5;241m=\u001B[39m _process_traceback_frames(e\u001B[38;5;241m.\u001B[39m__traceback__)\n",
      "File \u001B[0;32m~/miniforge3/envs/tf_mini/lib/python3.8/site-packages/tensorflow/python/eager/def_function.py:915\u001B[0m, in \u001B[0;36mFunction.__call__\u001B[0;34m(self, *args, **kwds)\u001B[0m\n\u001B[1;32m    912\u001B[0m compiler \u001B[38;5;241m=\u001B[39m \u001B[38;5;124m\"\u001B[39m\u001B[38;5;124mxla\u001B[39m\u001B[38;5;124m\"\u001B[39m \u001B[38;5;28;01mif\u001B[39;00m \u001B[38;5;28mself\u001B[39m\u001B[38;5;241m.\u001B[39m_jit_compile \u001B[38;5;28;01melse\u001B[39;00m \u001B[38;5;124m\"\u001B[39m\u001B[38;5;124mnonXla\u001B[39m\u001B[38;5;124m\"\u001B[39m\n\u001B[1;32m    914\u001B[0m \u001B[38;5;28;01mwith\u001B[39;00m OptionalXlaContext(\u001B[38;5;28mself\u001B[39m\u001B[38;5;241m.\u001B[39m_jit_compile):\n\u001B[0;32m--> 915\u001B[0m   result \u001B[38;5;241m=\u001B[39m \u001B[38;5;28;43mself\u001B[39;49m\u001B[38;5;241;43m.\u001B[39;49m\u001B[43m_call\u001B[49m\u001B[43m(\u001B[49m\u001B[38;5;241;43m*\u001B[39;49m\u001B[43margs\u001B[49m\u001B[43m,\u001B[49m\u001B[43m \u001B[49m\u001B[38;5;241;43m*\u001B[39;49m\u001B[38;5;241;43m*\u001B[39;49m\u001B[43mkwds\u001B[49m\u001B[43m)\u001B[49m\n\u001B[1;32m    917\u001B[0m new_tracing_count \u001B[38;5;241m=\u001B[39m \u001B[38;5;28mself\u001B[39m\u001B[38;5;241m.\u001B[39mexperimental_get_tracing_count()\n\u001B[1;32m    918\u001B[0m without_tracing \u001B[38;5;241m=\u001B[39m (tracing_count \u001B[38;5;241m==\u001B[39m new_tracing_count)\n",
      "File \u001B[0;32m~/miniforge3/envs/tf_mini/lib/python3.8/site-packages/tensorflow/python/eager/def_function.py:947\u001B[0m, in \u001B[0;36mFunction._call\u001B[0;34m(self, *args, **kwds)\u001B[0m\n\u001B[1;32m    944\u001B[0m   \u001B[38;5;28mself\u001B[39m\u001B[38;5;241m.\u001B[39m_lock\u001B[38;5;241m.\u001B[39mrelease()\n\u001B[1;32m    945\u001B[0m   \u001B[38;5;66;03m# In this case we have created variables on the first call, so we run the\u001B[39;00m\n\u001B[1;32m    946\u001B[0m   \u001B[38;5;66;03m# defunned version which is guaranteed to never create variables.\u001B[39;00m\n\u001B[0;32m--> 947\u001B[0m   \u001B[38;5;28;01mreturn\u001B[39;00m \u001B[38;5;28;43mself\u001B[39;49m\u001B[38;5;241;43m.\u001B[39;49m\u001B[43m_stateless_fn\u001B[49m\u001B[43m(\u001B[49m\u001B[38;5;241;43m*\u001B[39;49m\u001B[43margs\u001B[49m\u001B[43m,\u001B[49m\u001B[43m \u001B[49m\u001B[38;5;241;43m*\u001B[39;49m\u001B[38;5;241;43m*\u001B[39;49m\u001B[43mkwds\u001B[49m\u001B[43m)\u001B[49m  \u001B[38;5;66;03m# pylint: disable=not-callable\u001B[39;00m\n\u001B[1;32m    948\u001B[0m \u001B[38;5;28;01melif\u001B[39;00m \u001B[38;5;28mself\u001B[39m\u001B[38;5;241m.\u001B[39m_stateful_fn \u001B[38;5;129;01mis\u001B[39;00m \u001B[38;5;129;01mnot\u001B[39;00m \u001B[38;5;28;01mNone\u001B[39;00m:\n\u001B[1;32m    949\u001B[0m   \u001B[38;5;66;03m# Release the lock early so that multiple threads can perform the call\u001B[39;00m\n\u001B[1;32m    950\u001B[0m   \u001B[38;5;66;03m# in parallel.\u001B[39;00m\n\u001B[1;32m    951\u001B[0m   \u001B[38;5;28mself\u001B[39m\u001B[38;5;241m.\u001B[39m_lock\u001B[38;5;241m.\u001B[39mrelease()\n",
      "File \u001B[0;32m~/miniforge3/envs/tf_mini/lib/python3.8/site-packages/tensorflow/python/eager/function.py:2496\u001B[0m, in \u001B[0;36mFunction.__call__\u001B[0;34m(self, *args, **kwargs)\u001B[0m\n\u001B[1;32m   2493\u001B[0m \u001B[38;5;28;01mwith\u001B[39;00m \u001B[38;5;28mself\u001B[39m\u001B[38;5;241m.\u001B[39m_lock:\n\u001B[1;32m   2494\u001B[0m   (graph_function,\n\u001B[1;32m   2495\u001B[0m    filtered_flat_args) \u001B[38;5;241m=\u001B[39m \u001B[38;5;28mself\u001B[39m\u001B[38;5;241m.\u001B[39m_maybe_define_function(args, kwargs)\n\u001B[0;32m-> 2496\u001B[0m \u001B[38;5;28;01mreturn\u001B[39;00m \u001B[43mgraph_function\u001B[49m\u001B[38;5;241;43m.\u001B[39;49m\u001B[43m_call_flat\u001B[49m\u001B[43m(\u001B[49m\n\u001B[1;32m   2497\u001B[0m \u001B[43m    \u001B[49m\u001B[43mfiltered_flat_args\u001B[49m\u001B[43m,\u001B[49m\u001B[43m \u001B[49m\u001B[43mcaptured_inputs\u001B[49m\u001B[38;5;241;43m=\u001B[39;49m\u001B[43mgraph_function\u001B[49m\u001B[38;5;241;43m.\u001B[39;49m\u001B[43mcaptured_inputs\u001B[49m\u001B[43m)\u001B[49m\n",
      "File \u001B[0;32m~/miniforge3/envs/tf_mini/lib/python3.8/site-packages/tensorflow/python/eager/function.py:1862\u001B[0m, in \u001B[0;36mConcreteFunction._call_flat\u001B[0;34m(self, args, captured_inputs, cancellation_manager)\u001B[0m\n\u001B[1;32m   1858\u001B[0m possible_gradient_type \u001B[38;5;241m=\u001B[39m gradients_util\u001B[38;5;241m.\u001B[39mPossibleTapeGradientTypes(args)\n\u001B[1;32m   1859\u001B[0m \u001B[38;5;28;01mif\u001B[39;00m (possible_gradient_type \u001B[38;5;241m==\u001B[39m gradients_util\u001B[38;5;241m.\u001B[39mPOSSIBLE_GRADIENT_TYPES_NONE\n\u001B[1;32m   1860\u001B[0m     \u001B[38;5;129;01mand\u001B[39;00m executing_eagerly):\n\u001B[1;32m   1861\u001B[0m   \u001B[38;5;66;03m# No tape is watching; skip to running the function.\u001B[39;00m\n\u001B[0;32m-> 1862\u001B[0m   \u001B[38;5;28;01mreturn\u001B[39;00m \u001B[38;5;28mself\u001B[39m\u001B[38;5;241m.\u001B[39m_build_call_outputs(\u001B[38;5;28;43mself\u001B[39;49m\u001B[38;5;241;43m.\u001B[39;49m\u001B[43m_inference_function\u001B[49m\u001B[38;5;241;43m.\u001B[39;49m\u001B[43mcall\u001B[49m\u001B[43m(\u001B[49m\n\u001B[1;32m   1863\u001B[0m \u001B[43m      \u001B[49m\u001B[43mctx\u001B[49m\u001B[43m,\u001B[49m\u001B[43m \u001B[49m\u001B[43margs\u001B[49m\u001B[43m,\u001B[49m\u001B[43m \u001B[49m\u001B[43mcancellation_manager\u001B[49m\u001B[38;5;241;43m=\u001B[39;49m\u001B[43mcancellation_manager\u001B[49m\u001B[43m)\u001B[49m)\n\u001B[1;32m   1864\u001B[0m forward_backward \u001B[38;5;241m=\u001B[39m \u001B[38;5;28mself\u001B[39m\u001B[38;5;241m.\u001B[39m_select_forward_and_backward_functions(\n\u001B[1;32m   1865\u001B[0m     args,\n\u001B[1;32m   1866\u001B[0m     possible_gradient_type,\n\u001B[1;32m   1867\u001B[0m     executing_eagerly)\n\u001B[1;32m   1868\u001B[0m forward_function, args_with_tangents \u001B[38;5;241m=\u001B[39m forward_backward\u001B[38;5;241m.\u001B[39mforward()\n",
      "File \u001B[0;32m~/miniforge3/envs/tf_mini/lib/python3.8/site-packages/tensorflow/python/eager/function.py:499\u001B[0m, in \u001B[0;36m_EagerDefinedFunction.call\u001B[0;34m(self, ctx, args, cancellation_manager)\u001B[0m\n\u001B[1;32m    497\u001B[0m \u001B[38;5;28;01mwith\u001B[39;00m _InterpolateFunctionError(\u001B[38;5;28mself\u001B[39m):\n\u001B[1;32m    498\u001B[0m   \u001B[38;5;28;01mif\u001B[39;00m cancellation_manager \u001B[38;5;129;01mis\u001B[39;00m \u001B[38;5;28;01mNone\u001B[39;00m:\n\u001B[0;32m--> 499\u001B[0m     outputs \u001B[38;5;241m=\u001B[39m \u001B[43mexecute\u001B[49m\u001B[38;5;241;43m.\u001B[39;49m\u001B[43mexecute\u001B[49m\u001B[43m(\u001B[49m\n\u001B[1;32m    500\u001B[0m \u001B[43m        \u001B[49m\u001B[38;5;28;43mstr\u001B[39;49m\u001B[43m(\u001B[49m\u001B[38;5;28;43mself\u001B[39;49m\u001B[38;5;241;43m.\u001B[39;49m\u001B[43msignature\u001B[49m\u001B[38;5;241;43m.\u001B[39;49m\u001B[43mname\u001B[49m\u001B[43m)\u001B[49m\u001B[43m,\u001B[49m\n\u001B[1;32m    501\u001B[0m \u001B[43m        \u001B[49m\u001B[43mnum_outputs\u001B[49m\u001B[38;5;241;43m=\u001B[39;49m\u001B[38;5;28;43mself\u001B[39;49m\u001B[38;5;241;43m.\u001B[39;49m\u001B[43m_num_outputs\u001B[49m\u001B[43m,\u001B[49m\n\u001B[1;32m    502\u001B[0m \u001B[43m        \u001B[49m\u001B[43minputs\u001B[49m\u001B[38;5;241;43m=\u001B[39;49m\u001B[43margs\u001B[49m\u001B[43m,\u001B[49m\n\u001B[1;32m    503\u001B[0m \u001B[43m        \u001B[49m\u001B[43mattrs\u001B[49m\u001B[38;5;241;43m=\u001B[39;49m\u001B[43mattrs\u001B[49m\u001B[43m,\u001B[49m\n\u001B[1;32m    504\u001B[0m \u001B[43m        \u001B[49m\u001B[43mctx\u001B[49m\u001B[38;5;241;43m=\u001B[39;49m\u001B[43mctx\u001B[49m\u001B[43m)\u001B[49m\n\u001B[1;32m    505\u001B[0m   \u001B[38;5;28;01melse\u001B[39;00m:\n\u001B[1;32m    506\u001B[0m     outputs \u001B[38;5;241m=\u001B[39m execute\u001B[38;5;241m.\u001B[39mexecute_with_cancellation(\n\u001B[1;32m    507\u001B[0m         \u001B[38;5;28mstr\u001B[39m(\u001B[38;5;28mself\u001B[39m\u001B[38;5;241m.\u001B[39msignature\u001B[38;5;241m.\u001B[39mname),\n\u001B[1;32m    508\u001B[0m         num_outputs\u001B[38;5;241m=\u001B[39m\u001B[38;5;28mself\u001B[39m\u001B[38;5;241m.\u001B[39m_num_outputs,\n\u001B[0;32m   (...)\u001B[0m\n\u001B[1;32m    511\u001B[0m         ctx\u001B[38;5;241m=\u001B[39mctx,\n\u001B[1;32m    512\u001B[0m         cancellation_manager\u001B[38;5;241m=\u001B[39mcancellation_manager)\n",
      "File \u001B[0;32m~/miniforge3/envs/tf_mini/lib/python3.8/site-packages/tensorflow/python/eager/execute.py:54\u001B[0m, in \u001B[0;36mquick_execute\u001B[0;34m(op_name, num_outputs, inputs, attrs, ctx, name)\u001B[0m\n\u001B[1;32m     52\u001B[0m \u001B[38;5;28;01mtry\u001B[39;00m:\n\u001B[1;32m     53\u001B[0m   ctx\u001B[38;5;241m.\u001B[39mensure_initialized()\n\u001B[0;32m---> 54\u001B[0m   tensors \u001B[38;5;241m=\u001B[39m \u001B[43mpywrap_tfe\u001B[49m\u001B[38;5;241;43m.\u001B[39;49m\u001B[43mTFE_Py_Execute\u001B[49m\u001B[43m(\u001B[49m\u001B[43mctx\u001B[49m\u001B[38;5;241;43m.\u001B[39;49m\u001B[43m_handle\u001B[49m\u001B[43m,\u001B[49m\u001B[43m \u001B[49m\u001B[43mdevice_name\u001B[49m\u001B[43m,\u001B[49m\u001B[43m \u001B[49m\u001B[43mop_name\u001B[49m\u001B[43m,\u001B[49m\n\u001B[1;32m     55\u001B[0m \u001B[43m                                      \u001B[49m\u001B[43minputs\u001B[49m\u001B[43m,\u001B[49m\u001B[43m \u001B[49m\u001B[43mattrs\u001B[49m\u001B[43m,\u001B[49m\u001B[43m \u001B[49m\u001B[43mnum_outputs\u001B[49m\u001B[43m)\u001B[49m\n\u001B[1;32m     56\u001B[0m \u001B[38;5;28;01mexcept\u001B[39;00m core\u001B[38;5;241m.\u001B[39m_NotOkStatusException \u001B[38;5;28;01mas\u001B[39;00m e:\n\u001B[1;32m     57\u001B[0m   \u001B[38;5;28;01mif\u001B[39;00m name \u001B[38;5;129;01mis\u001B[39;00m \u001B[38;5;129;01mnot\u001B[39;00m \u001B[38;5;28;01mNone\u001B[39;00m:\n",
      "\u001B[0;31mKeyboardInterrupt\u001B[0m: "
     ]
    }
   ],
   "source": [
    "set_seed(seed)\n",
    "print('Algorithm starts learning.....')\n",
    "start_time = time()\n",
    "\n",
    "history = model.fit(X_train, y_train,\n",
    "                    epochs=epochs,\n",
    "                    batch_size=batch_size,\n",
    "                    validation_split=0.2,\n",
    "                    callbacks=[es, mc],\n",
    "                    # class_weight=class_weights_dic\n",
    "                    )\n",
    "\n",
    "print(\"Learning Durations: \", timedelta(seconds=(time() - start_time)))"
   ],
   "metadata": {
    "collapsed": false
   }
  },
  {
   "cell_type": "code",
   "execution_count": null,
   "outputs": [],
   "source": [
    "plot_loss(history)"
   ],
   "metadata": {
    "collapsed": false
   }
  },
  {
   "cell_type": "code",
   "execution_count": null,
   "outputs": [],
   "source": [
    "plot_acc(history)"
   ],
   "metadata": {
    "collapsed": false
   }
  },
  {
   "cell_type": "markdown",
   "source": [
    "DNN은 시계열 특성 자체를 학습 못함"
   ],
   "metadata": {
    "collapsed": false
   }
  },
  {
   "cell_type": "markdown",
   "source": [
    "### CNN"
   ],
   "metadata": {
    "collapsed": false
   }
  },
  {
   "cell_type": "markdown",
   "source": [
    "#### Data Reshape"
   ],
   "metadata": {
    "collapsed": false
   }
  },
  {
   "cell_type": "code",
   "execution_count": null,
   "outputs": [],
   "source": [
    "# 3차원으로 맞춰줘야함\n",
    "sample_size = X_train.shape[0]\n",
    "timesteps = X_train.shape[1]\n",
    "input_dim = 1\n",
    "\n",
    "print(sample_size, timesteps, input_dim)"
   ],
   "metadata": {
    "collapsed": false
   }
  },
  {
   "cell_type": "code",
   "execution_count": null,
   "outputs": [],
   "source": [
    "X_train_reshape = X_train.reshape(sample_size, timesteps, input_dim) # (75000, 21, 1)\n",
    "\n",
    "print(\"After reshape train data set shape:\\n\", X_train_reshape.shape)\n",
    "print(\"1 Sample shape:\\n\", X_train_reshape[0].shape)\n",
    "print(\"An example sample:\\n\", X_train_reshape[0])"
   ],
   "metadata": {
    "collapsed": false
   }
  },
  {
   "cell_type": "code",
   "execution_count": null,
   "outputs": [],
   "source": [
    "X_test_reshape = X_test.reshape(X_test.shape[0], X_test.shape[1], input_dim)  # (Sample size, timesteps, input_dim)\n",
    "# X_test_reshape = X_test.reshape(1, X_test.shape[1], X_test.shape[0])  # (Sample size, timesteps, input_dim)\n",
    "print(X_test_reshape.shape)"
   ],
   "metadata": {
    "collapsed": false
   }
  },
  {
   "cell_type": "code",
   "execution_count": null,
   "outputs": [],
   "source": [
    "num_classes = 3"
   ],
   "metadata": {
    "collapsed": false
   }
  },
  {
   "cell_type": "code",
   "execution_count": null,
   "outputs": [],
   "source": [
    "set_seed(42)\n",
    "model = Sequential()\n",
    "model.add(Input(shape=(timesteps, input_dim)))\n",
    "model.add(Conv1D(256, kernel_size=3, activation='relu'))\n",
    "# model.add(MaxPooling1D(pool_size=3, strides=1))\n",
    "# model.add(Dropout(0.3))\n",
    "# model.add(Conv1D(128, kernel_size=4, activation='relu'))\n",
    "\n",
    "# model.add(Dropout(0.3))\n",
    "# model.add(Conv1D(128, kernel_size=8, activation='relu'))\n",
    "model.add(MaxPooling1D())\n",
    "model.add(Dropout(0.3))\n",
    "\n",
    "model.add(Flatten())\n",
    "model.add(Dense(256, activation='relu'))\n",
    "model.add(Dense(128, activation='relu'))\n",
    "model.add(Dense(32, activation='relu'))\n",
    "model.add(Dropout(0.3))\n",
    "\n",
    "model.add(Dense(num_classes, activation='softmax'))"
   ],
   "metadata": {
    "collapsed": false
   }
  },
  {
   "cell_type": "code",
   "execution_count": null,
   "outputs": [],
   "source": [
    "model.summary()"
   ],
   "metadata": {
    "collapsed": false
   }
  },
  {
   "cell_type": "code",
   "execution_count": null,
   "outputs": [],
   "source": [
    "model.compile(optimizer='adam', loss='sparse_categorical_crossentropy', metrics=['acc'])\n",
    "\n",
    "es = EarlyStopping(monitor='val_loss', mode='min', verbose=1, patience=5)\n",
    "mc = ModelCheckpoint('cnn_best_model.h5', monitor='val_acc', mode='max', verbose=1, save_best_only=True)"
   ],
   "metadata": {
    "collapsed": false
   }
  },
  {
   "cell_type": "code",
   "execution_count": null,
   "outputs": [],
   "source": [
    "print('Algorithm starts learning.....')\n",
    "start_time = time()\n",
    "\n",
    "history = model.fit(X_train_reshape, y_train, epochs=50, batch_size=64, validation_split=0.2, callbacks=[es, mc],\n",
    "                    # class_weight=class_weights_dic\n",
    "                    )\n",
    "\n",
    "print(\"Learning Durations: \", timedelta(seconds=(time() - start_time)))"
   ],
   "metadata": {
    "collapsed": false
   }
  },
  {
   "cell_type": "code",
   "execution_count": null,
   "outputs": [],
   "source": [
    "plot_loss(history)"
   ],
   "metadata": {
    "collapsed": false
   }
  },
  {
   "cell_type": "code",
   "execution_count": null,
   "outputs": [],
   "source": [
    "plot_acc(history)"
   ],
   "metadata": {
    "collapsed": false
   }
  },
  {
   "cell_type": "code",
   "execution_count": null,
   "outputs": [],
   "source": [
    "best_model = load_model('./cnn_best_model.h5')\n",
    "print('Test Accuracy: {}'.format(best_model.evaluate(X_test_reshape, y_test)[1]))"
   ],
   "metadata": {
    "collapsed": false
   }
  },
  {
   "cell_type": "code",
   "execution_count": null,
   "outputs": [],
   "source": [],
   "metadata": {
    "collapsed": false
   }
  },
  {
   "cell_type": "code",
   "execution_count": null,
   "outputs": [],
   "source": [],
   "metadata": {
    "collapsed": false
   }
  },
  {
   "cell_type": "code",
   "execution_count": null,
   "outputs": [],
   "source": [],
   "metadata": {
    "collapsed": false
   }
  },
  {
   "cell_type": "code",
   "execution_count": null,
   "outputs": [],
   "source": [],
   "metadata": {
    "collapsed": false
   }
  },
  {
   "cell_type": "code",
   "execution_count": 64,
   "outputs": [],
   "source": [
    "from lightgbm import LGBMClassifier"
   ],
   "metadata": {
    "collapsed": false
   }
  },
  {
   "cell_type": "code",
   "execution_count": 65,
   "outputs": [],
   "source": [
    "lgb_clf = LGBMClassifier(objective='multiclass',\n",
    "                         num_class=3,\n",
    "                         random_state=42,\n",
    "                         n_jobs=-1)"
   ],
   "metadata": {
    "collapsed": false
   }
  },
  {
   "cell_type": "code",
   "execution_count": 66,
   "outputs": [
    {
     "data": {
      "text/plain": "LGBMClassifier(num_class=3, objective='multiclass', random_state=42)",
      "text/html": "<style>#sk-container-id-1 {color: black;background-color: white;}#sk-container-id-1 pre{padding: 0;}#sk-container-id-1 div.sk-toggleable {background-color: white;}#sk-container-id-1 label.sk-toggleable__label {cursor: pointer;display: block;width: 100%;margin-bottom: 0;padding: 0.3em;box-sizing: border-box;text-align: center;}#sk-container-id-1 label.sk-toggleable__label-arrow:before {content: \"▸\";float: left;margin-right: 0.25em;color: #696969;}#sk-container-id-1 label.sk-toggleable__label-arrow:hover:before {color: black;}#sk-container-id-1 div.sk-estimator:hover label.sk-toggleable__label-arrow:before {color: black;}#sk-container-id-1 div.sk-toggleable__content {max-height: 0;max-width: 0;overflow: hidden;text-align: left;background-color: #f0f8ff;}#sk-container-id-1 div.sk-toggleable__content pre {margin: 0.2em;color: black;border-radius: 0.25em;background-color: #f0f8ff;}#sk-container-id-1 input.sk-toggleable__control:checked~div.sk-toggleable__content {max-height: 200px;max-width: 100%;overflow: auto;}#sk-container-id-1 input.sk-toggleable__control:checked~label.sk-toggleable__label-arrow:before {content: \"▾\";}#sk-container-id-1 div.sk-estimator input.sk-toggleable__control:checked~label.sk-toggleable__label {background-color: #d4ebff;}#sk-container-id-1 div.sk-label input.sk-toggleable__control:checked~label.sk-toggleable__label {background-color: #d4ebff;}#sk-container-id-1 input.sk-hidden--visually {border: 0;clip: rect(1px 1px 1px 1px);clip: rect(1px, 1px, 1px, 1px);height: 1px;margin: -1px;overflow: hidden;padding: 0;position: absolute;width: 1px;}#sk-container-id-1 div.sk-estimator {font-family: monospace;background-color: #f0f8ff;border: 1px dotted black;border-radius: 0.25em;box-sizing: border-box;margin-bottom: 0.5em;}#sk-container-id-1 div.sk-estimator:hover {background-color: #d4ebff;}#sk-container-id-1 div.sk-parallel-item::after {content: \"\";width: 100%;border-bottom: 1px solid gray;flex-grow: 1;}#sk-container-id-1 div.sk-label:hover label.sk-toggleable__label {background-color: #d4ebff;}#sk-container-id-1 div.sk-serial::before {content: \"\";position: absolute;border-left: 1px solid gray;box-sizing: border-box;top: 0;bottom: 0;left: 50%;z-index: 0;}#sk-container-id-1 div.sk-serial {display: flex;flex-direction: column;align-items: center;background-color: white;padding-right: 0.2em;padding-left: 0.2em;position: relative;}#sk-container-id-1 div.sk-item {position: relative;z-index: 1;}#sk-container-id-1 div.sk-parallel {display: flex;align-items: stretch;justify-content: center;background-color: white;position: relative;}#sk-container-id-1 div.sk-item::before, #sk-container-id-1 div.sk-parallel-item::before {content: \"\";position: absolute;border-left: 1px solid gray;box-sizing: border-box;top: 0;bottom: 0;left: 50%;z-index: -1;}#sk-container-id-1 div.sk-parallel-item {display: flex;flex-direction: column;z-index: 1;position: relative;background-color: white;}#sk-container-id-1 div.sk-parallel-item:first-child::after {align-self: flex-end;width: 50%;}#sk-container-id-1 div.sk-parallel-item:last-child::after {align-self: flex-start;width: 50%;}#sk-container-id-1 div.sk-parallel-item:only-child::after {width: 0;}#sk-container-id-1 div.sk-dashed-wrapped {border: 1px dashed gray;margin: 0 0.4em 0.5em 0.4em;box-sizing: border-box;padding-bottom: 0.4em;background-color: white;}#sk-container-id-1 div.sk-label label {font-family: monospace;font-weight: bold;display: inline-block;line-height: 1.2em;}#sk-container-id-1 div.sk-label-container {text-align: center;}#sk-container-id-1 div.sk-container {/* jupyter's `normalize.less` sets `[hidden] { display: none; }` but bootstrap.min.css set `[hidden] { display: none !important; }` so we also need the `!important` here to be able to override the default hidden behavior on the sphinx rendered scikit-learn.org. See: https://github.com/scikit-learn/scikit-learn/issues/21755 */display: inline-block !important;position: relative;}#sk-container-id-1 div.sk-text-repr-fallback {display: none;}</style><div id=\"sk-container-id-1\" class=\"sk-top-container\"><div class=\"sk-text-repr-fallback\"><pre>LGBMClassifier(num_class=3, objective=&#x27;multiclass&#x27;, random_state=42)</pre><b>In a Jupyter environment, please rerun this cell to show the HTML representation or trust the notebook. <br />On GitHub, the HTML representation is unable to render, please try loading this page with nbviewer.org.</b></div><div class=\"sk-container\" hidden><div class=\"sk-item\"><div class=\"sk-estimator sk-toggleable\"><input class=\"sk-toggleable__control sk-hidden--visually\" id=\"sk-estimator-id-1\" type=\"checkbox\" checked><label for=\"sk-estimator-id-1\" class=\"sk-toggleable__label sk-toggleable__label-arrow\">LGBMClassifier</label><div class=\"sk-toggleable__content\"><pre>LGBMClassifier(num_class=3, objective=&#x27;multiclass&#x27;, random_state=42)</pre></div></div></div></div></div>"
     },
     "execution_count": 66,
     "metadata": {},
     "output_type": "execute_result"
    }
   ],
   "source": [
    "lgb_clf.fit(X_train, y_train)"
   ],
   "metadata": {
    "collapsed": false
   }
  },
  {
   "cell_type": "code",
   "execution_count": 68,
   "outputs": [
    {
     "data": {
      "text/plain": "array([2, 2, 2, ..., 1, 0, 0])"
     },
     "execution_count": 68,
     "metadata": {},
     "output_type": "execute_result"
    }
   ],
   "source": [
    "y_pred = lgb_clf.predict(X_test)\n",
    "y_pred"
   ],
   "metadata": {
    "collapsed": false
   }
  },
  {
   "cell_type": "code",
   "execution_count": 70,
   "outputs": [
    {
     "name": "stdout",
     "output_type": "stream",
     "text": [
      "              precision    recall  f1-score   support\n",
      "\n",
      "           0       0.69      0.65      0.67      7216\n",
      "           1       0.71      0.70      0.70     12960\n",
      "           2       0.58      0.65      0.62      4824\n",
      "\n",
      "    accuracy                           0.68     25000\n",
      "   macro avg       0.66      0.67      0.66     25000\n",
      "weighted avg       0.68      0.68      0.68     25000\n",
      "\n"
     ]
    }
   ],
   "source": [
    "print(classification_report(y_true=y_test, y_pred=y_pred))"
   ],
   "metadata": {
    "collapsed": false
   }
  },
  {
   "cell_type": "code",
   "execution_count": 71,
   "outputs": [],
   "source": [
    "def clf_report_plot(y_true, X_test, model):\n",
    "\n",
    "    y_pred = model.predict(X_test)\n",
    "\n",
    "    # for pred in result:\n",
    "    #     y_pred.append(np.argmax(pred))\n",
    "\n",
    "    print(classification_report(y_true, y_pred, digits=4))\n",
    "\n",
    "    # plt.rc('font', family='NanumGothicOTF') # For MacOS\n",
    "    plt.rc('font', family='NanumGothic') # For Windows\n",
    "\n",
    "    ax = plt.subplot()\n",
    "    ax.figure.set_size_inches(10, 10)\n",
    "    cm = confusion_matrix(y_true=y_true, y_pred=y_pred)\n",
    "    sns.heatmap(cm, annot=True, fmt='.0f', cmap='Blues', ax=ax)\n",
    "\n",
    "    ax.set_title('Confusion Matrix',fontsize=20, y=1.05)\n",
    "    ax.set_xlabel('Predicted Labels', fontsize=15)\n",
    "    ax.set_ylabel('True Labels', fontsize=15)\n",
    "\n",
    "    ax.xaxis.set_ticklabels(['Poor', 'Standard', 'Good'])\n",
    "    ax.yaxis.set_ticklabels(['Poor', 'Standard', 'Good'])\n",
    "    plt.show()"
   ],
   "metadata": {
    "collapsed": false
   }
  },
  {
   "cell_type": "code",
   "execution_count": 72,
   "outputs": [
    {
     "name": "stdout",
     "output_type": "stream",
     "text": [
      "              precision    recall  f1-score   support\n",
      "\n",
      "           0     0.6905    0.6477    0.6684      7216\n",
      "           1     0.7061    0.6980    0.7020     12960\n",
      "           2     0.5823    0.6542    0.6162      4824\n",
      "\n",
      "    accuracy                         0.6750     25000\n",
      "   macro avg     0.6596    0.6666    0.6622     25000\n",
      "weighted avg     0.6777    0.6750    0.6758     25000\n",
      "\n"
     ]
    },
    {
     "data": {
      "text/plain": "<Figure size 720x720 with 2 Axes>",
      "image/png": "[encoded data removed]"
     },
     "metadata": {
      "needs_background": "light"
     },
     "output_type": "display_data"
    }
   ],
   "source": [
    "clf_report_plot(y_test, X_test, lgb_clf)"
   ],
   "metadata": {
    "collapsed": false
   }
  },
  {
   "cell_type": "code",
   "execution_count": 74,
   "outputs": [
    {
     "data": {
      "text/plain": "0.67504"
     },
     "execution_count": 74,
     "metadata": {},
     "output_type": "execute_result"
    }
   ],
   "source": [
    "lgb_clf.score(X_test, y_test)"
   ],
   "metadata": {
    "collapsed": false
   }
  },
  {
   "cell_type": "code",
   "execution_count": null,
   "outputs": [],
   "source": [],
   "metadata": {
    "collapsed": false
   }
  },
  {
   "cell_type": "code",
   "execution_count": null,
   "outputs": [],
   "source": [],
   "metadata": {
    "collapsed": false
   }
  },
  {
   "cell_type": "markdown",
   "source": [
    "# 똥망 성능 어떻게 개선할까? Using Mutual Info Regression"
   ],
   "metadata": {
    "collapsed": false
   }
  },
  {
   "cell_type": "markdown",
   "source": [
    "## 다시 스케일링 직전으로 돌아가야함"
   ],
   "metadata": {
    "collapsed": false
   }
  },
  {
   "cell_type": "code",
   "execution_count": 80,
   "outputs": [],
   "source": [
    "cleaned_df = df.copy()"
   ],
   "metadata": {
    "collapsed": false
   }
  },
  {
   "cell_type": "code",
   "execution_count": 81,
   "outputs": [
    {
     "data": {
      "text/plain": "['ID', 'Customer_ID', 'Month']"
     },
     "execution_count": 81,
     "metadata": {},
     "output_type": "execute_result"
    }
   ],
   "source": [
    "raw_cols = cleaned_df.columns.tolist()\n",
    "raw_cols[:3]"
   ],
   "metadata": {
    "collapsed": false
   }
  },
  {
   "cell_type": "code",
   "execution_count": 83,
   "outputs": [],
   "source": [
    "cleaned_df = cleaned_df.drop(drop_cols, axis=1)"
   ],
   "metadata": {
    "collapsed": false
   }
  },
  {
   "cell_type": "code",
   "execution_count": 84,
   "outputs": [
    {
     "data": {
      "text/plain": "       Customer_ID  Month   Age  Monthly_Inhand_Salary  Num_Bank_Accounts  \\\n0             3392      1  23.0            1824.843333                3.0   \n1             3392      2  23.0            1824.843333                3.0   \n2             3392      3  23.0            1824.843333                3.0   \n3             3392      4  23.0            1824.843333                3.0   \n4             3392      5  23.0            1824.843333                3.0   \n...            ...    ...   ...                    ...                ...   \n99995        37932      4  25.0            3359.415833                4.0   \n99996        37932      5  25.0            3359.415833                4.0   \n99997        37932      6  25.0            3359.415833                4.0   \n99998        37932      7  25.0            3359.415833                4.0   \n99999        37932      8  25.0            3359.415833                4.0   \n\n       Num_Credit_Card  Interest_Rate  Num_of_Loan  Delay_from_due_date  \\\n0                  4.0            3.0          4.0                  3.0   \n1                  4.0            3.0          4.0                  3.0   \n2                  4.0            3.0          4.0                  3.0   \n3                  4.0            3.0          4.0                  5.0   \n4                  4.0            3.0          4.0                  6.0   \n...                ...            ...          ...                  ...   \n99995              6.0            7.0          2.0                 23.0   \n99996              6.0            7.0          2.0                 18.0   \n99997              6.0            7.0          2.0                 27.0   \n99998              6.0            7.0          2.0                 20.0   \n99999              6.0            7.0          2.0                 18.0   \n\n       Num_of_Delayed_Payment  ...  Credit_Mix  Outstanding_Debt  \\\n0                         7.0  ...        Good            809.98   \n1                         4.0  ...        Good            809.98   \n2                         7.0  ...        Good            809.98   \n3                         4.0  ...        Good            809.98   \n4                         4.0  ...        Good            809.98   \n...                       ...  ...         ...               ...   \n99995                     7.0  ...        Good            502.38   \n99996                     7.0  ...        Good            502.38   \n99997                     6.0  ...        Good            502.38   \n99998                     6.0  ...        Good            502.38   \n99999                     6.0  ...        Good            502.38   \n\n      Credit_Utilization_Ratio  Credit_History_Age  Payment_of_Min_Amount  \\\n0                    26.822620               265.0                     No   \n1                    31.944960               266.0                     No   \n2                    28.609352               267.0                     No   \n3                    31.377862               268.0                     No   \n4                    24.797347               269.0                     No   \n...                        ...                 ...                    ...   \n99995                34.663572               378.0                     No   \n99996                40.565631               379.0                     No   \n99997                41.255522               380.0                     No   \n99998                33.638208               381.0                     No   \n99999                34.192463               382.0                     No   \n\n       Total_EMI_per_month Amount_invested_monthly  \\\n0                49.574949               21.465380   \n1                49.574949               21.465380   \n2                49.574949               21.465380   \n3                49.574949               21.465380   \n4                49.574949               21.465380   \n...                    ...                     ...   \n99995            35.104023               24.028477   \n99996            35.104023               24.028477   \n99997            35.104023               24.028477   \n99998            35.104023               24.028477   \n99999            35.104023               24.028477   \n\n                      Payment_Behaviour  Monthly_Balance Credit_Score  \n0       High_spent_Small_value_payments       312.494089         Good  \n1        Low_spent_Large_value_payments       284.629162         Good  \n2       Low_spent_Medium_value_payments       331.209863         Good  \n3        Low_spent_Small_value_payments       223.451310         Good  \n4      High_spent_Medium_value_payments       341.489231         Good  \n...                                 ...              ...          ...  \n99995   High_spent_Large_value_payments       479.866228         Poor  \n99996  High_spent_Medium_value_payments       496.651610         Poor  \n99997   High_spent_Large_value_payments       516.809083         Poor  \n99998    Low_spent_Large_value_payments       319.164979     Standard  \n99999  High_spent_Medium_value_payments       393.673696         Poor  \n\n[100000 rows x 22 columns]",
      "text/html": "<div>\n<style scoped>\n    .dataframe tbody tr th:only-of-type {\n        vertical-align: middle;\n    }\n\n    .dataframe tbody tr th {\n        vertical-align: top;\n    }\n\n    .dataframe thead th {\n        text-align: right;\n    }\n</style>\n<table border=\"1\" class=\"dataframe\">\n  <thead>\n    <tr style=\"text-align: right;\">\n      <th></th>\n      <th>Customer_ID</th>\n      <th>Month</th>\n      <th>Age</th>\n      <th>Monthly_Inhand_Salary</th>\n      <th>Num_Bank_Accounts</th>\n      <th>Num_Credit_Card</th>\n      <th>Interest_Rate</th>\n      <th>Num_of_Loan</th>\n      <th>Delay_from_due_date</th>\n      <th>Num_of_Delayed_Payment</th>\n      <th>...</th>\n      <th>Credit_Mix</th>\n      <th>Outstanding_Debt</th>\n      <th>Credit_Utilization_Ratio</th>\n      <th>Credit_History_Age</th>\n      <th>Payment_of_Min_Amount</th>\n      <th>Total_EMI_per_month</th>\n      <th>Amount_invested_monthly</th>\n      <th>Payment_Behaviour</th>\n      <th>Monthly_Balance</th>\n      <th>Credit_Score</th>\n    </tr>\n  </thead>\n  <tbody>\n    <tr>\n      <th>0</th>\n      <td>3392</td>\n      <td>1</td>\n      <td>23.0</td>\n      <td>1824.843333</td>\n      <td>3.0</td>\n      <td>4.0</td>\n      <td>3.0</td>\n      <td>4.0</td>\n      <td>3.0</td>\n      <td>7.0</td>\n      <td>...</td>\n      <td>Good</td>\n      <td>809.98</td>\n      <td>26.822620</td>\n      <td>265.0</td>\n      <td>No</td>\n      <td>49.574949</td>\n      <td>21.465380</td>\n      <td>High_spent_Small_value_payments</td>\n      <td>312.494089</td>\n      <td>Good</td>\n    </tr>\n    <tr>\n      <th>1</th>\n      <td>3392</td>\n      <td>2</td>\n      <td>23.0</td>\n      <td>1824.843333</td>\n      <td>3.0</td>\n      <td>4.0</td>\n      <td>3.0</td>\n      <td>4.0</td>\n      <td>3.0</td>\n      <td>4.0</td>\n      <td>...</td>\n      <td>Good</td>\n      <td>809.98</td>\n      <td>31.944960</td>\n      <td>266.0</td>\n      <td>No</td>\n      <td>49.574949</td>\n      <td>21.465380</td>\n      <td>Low_spent_Large_value_payments</td>\n      <td>284.629162</td>\n      <td>Good</td>\n    </tr>\n    <tr>\n      <th>2</th>\n      <td>3392</td>\n      <td>3</td>\n      <td>23.0</td>\n      <td>1824.843333</td>\n      <td>3.0</td>\n      <td>4.0</td>\n      <td>3.0</td>\n      <td>4.0</td>\n      <td>3.0</td>\n      <td>7.0</td>\n      <td>...</td>\n      <td>Good</td>\n      <td>809.98</td>\n      <td>28.609352</td>\n      <td>267.0</td>\n      <td>No</td>\n      <td>49.574949</td>\n      <td>21.465380</td>\n      <td>Low_spent_Medium_value_payments</td>\n      <td>331.209863</td>\n      <td>Good</td>\n    </tr>\n    <tr>\n      <th>3</th>\n      <td>3392</td>\n      <td>4</td>\n      <td>23.0</td>\n      <td>1824.843333</td>\n      <td>3.0</td>\n      <td>4.0</td>\n      <td>3.0</td>\n      <td>4.0</td>\n      <td>5.0</td>\n      <td>4.0</td>\n      <td>...</td>\n      <td>Good</td>\n      <td>809.98</td>\n      <td>31.377862</td>\n      <td>268.0</td>\n      <td>No</td>\n      <td>49.574949</td>\n      <td>21.465380</td>\n      <td>Low_spent_Small_value_payments</td>\n      <td>223.451310</td>\n      <td>Good</td>\n    </tr>\n    <tr>\n      <th>4</th>\n      <td>3392</td>\n      <td>5</td>\n      <td>23.0</td>\n      <td>1824.843333</td>\n      <td>3.0</td>\n      <td>4.0</td>\n      <td>3.0</td>\n      <td>4.0</td>\n      <td>6.0</td>\n      <td>4.0</td>\n      <td>...</td>\n      <td>Good</td>\n      <td>809.98</td>\n      <td>24.797347</td>\n      <td>269.0</td>\n      <td>No</td>\n      <td>49.574949</td>\n      <td>21.465380</td>\n      <td>High_spent_Medium_value_payments</td>\n      <td>341.489231</td>\n      <td>Good</td>\n    </tr>\n    <tr>\n      <th>...</th>\n      <td>...</td>\n      <td>...</td>\n      <td>...</td>\n      <td>...</td>\n      <td>...</td>\n      <td>...</td>\n      <td>...</td>\n      <td>...</td>\n      <td>...</td>\n      <td>...</td>\n      <td>...</td>\n      <td>...</td>\n      <td>...</td>\n      <td>...</td>\n      <td>...</td>\n      <td>...</td>\n      <td>...</td>\n      <td>...</td>\n      <td>...</td>\n      <td>...</td>\n      <td>...</td>\n    </tr>\n    <tr>\n      <th>99995</th>\n      <td>37932</td>\n      <td>4</td>\n      <td>25.0</td>\n      <td>3359.415833</td>\n      <td>4.0</td>\n      <td>6.0</td>\n      <td>7.0</td>\n      <td>2.0</td>\n      <td>23.0</td>\n      <td>7.0</td>\n      <td>...</td>\n      <td>Good</td>\n      <td>502.38</td>\n      <td>34.663572</td>\n      <td>378.0</td>\n      <td>No</td>\n      <td>35.104023</td>\n      <td>24.028477</td>\n      <td>High_spent_Large_value_payments</td>\n      <td>479.866228</td>\n      <td>Poor</td>\n    </tr>\n    <tr>\n      <th>99996</th>\n      <td>37932</td>\n      <td>5</td>\n      <td>25.0</td>\n      <td>3359.415833</td>\n      <td>4.0</td>\n      <td>6.0</td>\n      <td>7.0</td>\n      <td>2.0</td>\n      <td>18.0</td>\n      <td>7.0</td>\n      <td>...</td>\n      <td>Good</td>\n      <td>502.38</td>\n      <td>40.565631</td>\n      <td>379.0</td>\n      <td>No</td>\n      <td>35.104023</td>\n      <td>24.028477</td>\n      <td>High_spent_Medium_value_payments</td>\n      <td>496.651610</td>\n      <td>Poor</td>\n    </tr>\n    <tr>\n      <th>99997</th>\n      <td>37932</td>\n      <td>6</td>\n      <td>25.0</td>\n      <td>3359.415833</td>\n      <td>4.0</td>\n      <td>6.0</td>\n      <td>7.0</td>\n      <td>2.0</td>\n      <td>27.0</td>\n      <td>6.0</td>\n      <td>...</td>\n      <td>Good</td>\n      <td>502.38</td>\n      <td>41.255522</td>\n      <td>380.0</td>\n      <td>No</td>\n      <td>35.104023</td>\n      <td>24.028477</td>\n      <td>High_spent_Large_value_payments</td>\n      <td>516.809083</td>\n      <td>Poor</td>\n    </tr>\n    <tr>\n      <th>99998</th>\n      <td>37932</td>\n      <td>7</td>\n      <td>25.0</td>\n      <td>3359.415833</td>\n      <td>4.0</td>\n      <td>6.0</td>\n      <td>7.0</td>\n      <td>2.0</td>\n      <td>20.0</td>\n      <td>6.0</td>\n      <td>...</td>\n      <td>Good</td>\n      <td>502.38</td>\n      <td>33.638208</td>\n      <td>381.0</td>\n      <td>No</td>\n      <td>35.104023</td>\n      <td>24.028477</td>\n      <td>Low_spent_Large_value_payments</td>\n      <td>319.164979</td>\n      <td>Standard</td>\n    </tr>\n    <tr>\n      <th>99999</th>\n      <td>37932</td>\n      <td>8</td>\n      <td>25.0</td>\n      <td>3359.415833</td>\n      <td>4.0</td>\n      <td>6.0</td>\n      <td>7.0</td>\n      <td>2.0</td>\n      <td>18.0</td>\n      <td>6.0</td>\n      <td>...</td>\n      <td>Good</td>\n      <td>502.38</td>\n      <td>34.192463</td>\n      <td>382.0</td>\n      <td>No</td>\n      <td>35.104023</td>\n      <td>24.028477</td>\n      <td>High_spent_Medium_value_payments</td>\n      <td>393.673696</td>\n      <td>Poor</td>\n    </tr>\n  </tbody>\n</table>\n<p>100000 rows × 22 columns</p>\n</div>"
     },
     "execution_count": 84,
     "metadata": {},
     "output_type": "execute_result"
    }
   ],
   "source": [
    "cleaned_df"
   ],
   "metadata": {
    "collapsed": false
   }
  },
  {
   "cell_type": "markdown",
   "source": [
    "### Encoding Columns"
   ],
   "metadata": {
    "collapsed": false
   }
  },
  {
   "cell_type": "markdown",
   "source": [
    "#### Target Encoding"
   ],
   "metadata": {
    "collapsed": false
   }
  },
  {
   "cell_type": "code",
   "execution_count": 85,
   "outputs": [
    {
     "data": {
      "text/plain": "0        2\n1        2\n2        2\n3        2\n4        2\n        ..\n99995    0\n99996    0\n99997    0\n99998    1\n99999    0\nName: Credit_Score, Length: 100000, dtype: int64"
     },
     "execution_count": 85,
     "metadata": {},
     "output_type": "execute_result"
    }
   ],
   "source": [
    "# label2idx 딕셔너리 생성\n",
    "label2idx = {'Poor': 0, 'Standard': 1, 'Good': 2}\n",
    "\n",
    "# cleaned_df['Credit_Score'].map(label2idx)\n",
    "cleaned_df['Credit_Score'] = cleaned_df['Credit_Score'].map(label2idx)\n",
    "cleaned_df['Credit_Score']"
   ],
   "metadata": {
    "collapsed": false
   }
  },
  {
   "cell_type": "code",
   "execution_count": 86,
   "outputs": [
    {
     "data": {
      "text/plain": "{0: 'Poor', 1: 'Standard', 2: 'Good'}"
     },
     "execution_count": 86,
     "metadata": {},
     "output_type": "execute_result"
    }
   ],
   "source": [
    "# idx to label dictionary\n",
    "idx2label = {}\n",
    "for idx, value in label2idx.items():\n",
    "    idx2label[value] = idx\n",
    "\n",
    "idx2label"
   ],
   "metadata": {
    "collapsed": false
   }
  },
  {
   "cell_type": "markdown",
   "source": [
    "#### Payment Behaviour Encoding"
   ],
   "metadata": {
    "collapsed": false
   }
  },
  {
   "cell_type": "code",
   "execution_count": 87,
   "outputs": [
    {
     "name": "stdout",
     "output_type": "stream",
     "text": [
      "{'Low_spent_Small_value_payments': 0, 'Low_spent_Medium_value_payments': 1, 'Low_spent_Large_value_payments': 2, 'High_spent_Small_value_payments': 3, 'High_spent_Medium_value_payments': 4, 'High_spent_Large_value_payments': 5}\n",
      "{0: 'Low_spent_Small_value_payments', 1: 'Low_spent_Medium_value_payments', 2: 'Low_spent_Large_value_payments', 3: 'High_spent_Small_value_payments', 4: 'High_spent_Medium_value_payments', 5: 'High_spent_Large_value_payments'}\n"
     ]
    }
   ],
   "source": [
    "# payment behaviour 변화가 있었는 지 확인 필요\n",
    "# dictionary 정의\n",
    "\n",
    "pb2idx = {\n",
    "    'Low_spent_Small_value_payments':0,\n",
    "    'Low_spent_Medium_value_payments'  :1,\n",
    "    'Low_spent_Large_value_payments' :2,\n",
    "    'High_spent_Small_value_payments' :3,\n",
    "    'High_spent_Medium_value_payments' :4,\n",
    "    'High_spent_Large_value_payments'  :5\n",
    "}\n",
    "\n",
    "idx2pb = {\n",
    "    number: string for string, number in pb2idx.items()\n",
    "}\n",
    "\n",
    "print(pb2idx)\n",
    "print(idx2pb)"
   ],
   "metadata": {
    "collapsed": false
   }
  },
  {
   "cell_type": "code",
   "execution_count": 88,
   "outputs": [],
   "source": [
    "cleaned_df['Payment_Behaviour'] = cleaned_df['Payment_Behaviour'].map(pb2idx)"
   ],
   "metadata": {
    "collapsed": false
   }
  },
  {
   "cell_type": "code",
   "execution_count": 89,
   "outputs": [
    {
     "data": {
      "text/plain": "0        3\n1        2\n2        1\n3        0\n4        4\n        ..\n99995    5\n99996    4\n99997    5\n99998    2\n99999    4\nName: Payment_Behaviour, Length: 100000, dtype: int64"
     },
     "execution_count": 89,
     "metadata": {},
     "output_type": "execute_result"
    }
   ],
   "source": [
    "cleaned_df['Payment_Behaviour']"
   ],
   "metadata": {
    "collapsed": false
   }
  },
  {
   "cell_type": "markdown",
   "source": [
    "#### Credit Mix Encoding"
   ],
   "metadata": {
    "collapsed": false
   }
  },
  {
   "cell_type": "code",
   "execution_count": 90,
   "outputs": [],
   "source": [
    "credit_mix_dict = {'Good': 2, 'Standard': 1, 'Bad': 0}\n",
    "\n",
    "mix2label = {number:string for string, number in credit_mix_dict.items()}"
   ],
   "metadata": {
    "collapsed": false
   }
  },
  {
   "cell_type": "code",
   "execution_count": 91,
   "outputs": [
    {
     "data": {
      "text/plain": "       Customer_ID  Month   Age  Monthly_Inhand_Salary  Num_Bank_Accounts  \\\n0             3392      1  23.0            1824.843333                3.0   \n1             3392      2  23.0            1824.843333                3.0   \n2             3392      3  23.0            1824.843333                3.0   \n3             3392      4  23.0            1824.843333                3.0   \n4             3392      5  23.0            1824.843333                3.0   \n...            ...    ...   ...                    ...                ...   \n99995        37932      4  25.0            3359.415833                4.0   \n99996        37932      5  25.0            3359.415833                4.0   \n99997        37932      6  25.0            3359.415833                4.0   \n99998        37932      7  25.0            3359.415833                4.0   \n99999        37932      8  25.0            3359.415833                4.0   \n\n       Num_Credit_Card  Interest_Rate  Num_of_Loan  Delay_from_due_date  \\\n0                  4.0            3.0          4.0                  3.0   \n1                  4.0            3.0          4.0                  3.0   \n2                  4.0            3.0          4.0                  3.0   \n3                  4.0            3.0          4.0                  5.0   \n4                  4.0            3.0          4.0                  6.0   \n...                ...            ...          ...                  ...   \n99995              6.0            7.0          2.0                 23.0   \n99996              6.0            7.0          2.0                 18.0   \n99997              6.0            7.0          2.0                 27.0   \n99998              6.0            7.0          2.0                 20.0   \n99999              6.0            7.0          2.0                 18.0   \n\n       Num_of_Delayed_Payment  ...  Credit_Mix  Outstanding_Debt  \\\n0                         7.0  ...           2            809.98   \n1                         4.0  ...           2            809.98   \n2                         7.0  ...           2            809.98   \n3                         4.0  ...           2            809.98   \n4                         4.0  ...           2            809.98   \n...                       ...  ...         ...               ...   \n99995                     7.0  ...           2            502.38   \n99996                     7.0  ...           2            502.38   \n99997                     6.0  ...           2            502.38   \n99998                     6.0  ...           2            502.38   \n99999                     6.0  ...           2            502.38   \n\n       Credit_Utilization_Ratio  Credit_History_Age  Payment_of_Min_Amount  \\\n0                     26.822620               265.0                     No   \n1                     31.944960               266.0                     No   \n2                     28.609352               267.0                     No   \n3                     31.377862               268.0                     No   \n4                     24.797347               269.0                     No   \n...                         ...                 ...                    ...   \n99995                 34.663572               378.0                     No   \n99996                 40.565631               379.0                     No   \n99997                 41.255522               380.0                     No   \n99998                 33.638208               381.0                     No   \n99999                 34.192463               382.0                     No   \n\n       Total_EMI_per_month Amount_invested_monthly  Payment_Behaviour  \\\n0                49.574949               21.465380                  3   \n1                49.574949               21.465380                  2   \n2                49.574949               21.465380                  1   \n3                49.574949               21.465380                  0   \n4                49.574949               21.465380                  4   \n...                    ...                     ...                ...   \n99995            35.104023               24.028477                  5   \n99996            35.104023               24.028477                  4   \n99997            35.104023               24.028477                  5   \n99998            35.104023               24.028477                  2   \n99999            35.104023               24.028477                  4   \n\n       Monthly_Balance  Credit_Score  \n0           312.494089             2  \n1           284.629162             2  \n2           331.209863             2  \n3           223.451310             2  \n4           341.489231             2  \n...                ...           ...  \n99995       479.866228             0  \n99996       496.651610             0  \n99997       516.809083             0  \n99998       319.164979             1  \n99999       393.673696             0  \n\n[100000 rows x 22 columns]",
      "text/html": "<div>\n<style scoped>\n    .dataframe tbody tr th:only-of-type {\n        vertical-align: middle;\n    }\n\n    .dataframe tbody tr th {\n        vertical-align: top;\n    }\n\n    .dataframe thead th {\n        text-align: right;\n    }\n</style>\n<table border=\"1\" class=\"dataframe\">\n  <thead>\n    <tr style=\"text-align: right;\">\n      <th></th>\n      <th>Customer_ID</th>\n      <th>Month</th>\n      <th>Age</th>\n      <th>Monthly_Inhand_Salary</th>\n      <th>Num_Bank_Accounts</th>\n      <th>Num_Credit_Card</th>\n      <th>Interest_Rate</th>\n      <th>Num_of_Loan</th>\n      <th>Delay_from_due_date</th>\n      <th>Num_of_Delayed_Payment</th>\n      <th>...</th>\n      <th>Credit_Mix</th>\n      <th>Outstanding_Debt</th>\n      <th>Credit_Utilization_Ratio</th>\n      <th>Credit_History_Age</th>\n      <th>Payment_of_Min_Amount</th>\n      <th>Total_EMI_per_month</th>\n      <th>Amount_invested_monthly</th>\n      <th>Payment_Behaviour</th>\n      <th>Monthly_Balance</th>\n      <th>Credit_Score</th>\n    </tr>\n  </thead>\n  <tbody>\n    <tr>\n      <th>0</th>\n      <td>3392</td>\n      <td>1</td>\n      <td>23.0</td>\n      <td>1824.843333</td>\n      <td>3.0</td>\n      <td>4.0</td>\n      <td>3.0</td>\n      <td>4.0</td>\n      <td>3.0</td>\n      <td>7.0</td>\n      <td>...</td>\n      <td>2</td>\n      <td>809.98</td>\n      <td>26.822620</td>\n      <td>265.0</td>\n      <td>No</td>\n      <td>49.574949</td>\n      <td>21.465380</td>\n      <td>3</td>\n      <td>312.494089</td>\n      <td>2</td>\n    </tr>\n    <tr>\n      <th>1</th>\n      <td>3392</td>\n      <td>2</td>\n      <td>23.0</td>\n      <td>1824.843333</td>\n      <td>3.0</td>\n      <td>4.0</td>\n      <td>3.0</td>\n      <td>4.0</td>\n      <td>3.0</td>\n      <td>4.0</td>\n      <td>...</td>\n      <td>2</td>\n      <td>809.98</td>\n      <td>31.944960</td>\n      <td>266.0</td>\n      <td>No</td>\n      <td>49.574949</td>\n      <td>21.465380</td>\n      <td>2</td>\n      <td>284.629162</td>\n      <td>2</td>\n    </tr>\n    <tr>\n      <th>2</th>\n      <td>3392</td>\n      <td>3</td>\n      <td>23.0</td>\n      <td>1824.843333</td>\n      <td>3.0</td>\n      <td>4.0</td>\n      <td>3.0</td>\n      <td>4.0</td>\n      <td>3.0</td>\n      <td>7.0</td>\n      <td>...</td>\n      <td>2</td>\n      <td>809.98</td>\n      <td>28.609352</td>\n      <td>267.0</td>\n      <td>No</td>\n      <td>49.574949</td>\n      <td>21.465380</td>\n      <td>1</td>\n      <td>331.209863</td>\n      <td>2</td>\n    </tr>\n    <tr>\n      <th>3</th>\n      <td>3392</td>\n      <td>4</td>\n      <td>23.0</td>\n      <td>1824.843333</td>\n      <td>3.0</td>\n      <td>4.0</td>\n      <td>3.0</td>\n      <td>4.0</td>\n      <td>5.0</td>\n      <td>4.0</td>\n      <td>...</td>\n      <td>2</td>\n      <td>809.98</td>\n      <td>31.377862</td>\n      <td>268.0</td>\n      <td>No</td>\n      <td>49.574949</td>\n      <td>21.465380</td>\n      <td>0</td>\n      <td>223.451310</td>\n      <td>2</td>\n    </tr>\n    <tr>\n      <th>4</th>\n      <td>3392</td>\n      <td>5</td>\n      <td>23.0</td>\n      <td>1824.843333</td>\n      <td>3.0</td>\n      <td>4.0</td>\n      <td>3.0</td>\n      <td>4.0</td>\n      <td>6.0</td>\n      <td>4.0</td>\n      <td>...</td>\n      <td>2</td>\n      <td>809.98</td>\n      <td>24.797347</td>\n      <td>269.0</td>\n      <td>No</td>\n      <td>49.574949</td>\n      <td>21.465380</td>\n      <td>4</td>\n      <td>341.489231</td>\n      <td>2</td>\n    </tr>\n    <tr>\n      <th>...</th>\n      <td>...</td>\n      <td>...</td>\n      <td>...</td>\n      <td>...</td>\n      <td>...</td>\n      <td>...</td>\n      <td>...</td>\n      <td>...</td>\n      <td>...</td>\n      <td>...</td>\n      <td>...</td>\n      <td>...</td>\n      <td>...</td>\n      <td>...</td>\n      <td>...</td>\n      <td>...</td>\n      <td>...</td>\n      <td>...</td>\n      <td>...</td>\n      <td>...</td>\n      <td>...</td>\n    </tr>\n    <tr>\n      <th>99995</th>\n      <td>37932</td>\n      <td>4</td>\n      <td>25.0</td>\n      <td>3359.415833</td>\n      <td>4.0</td>\n      <td>6.0</td>\n      <td>7.0</td>\n      <td>2.0</td>\n      <td>23.0</td>\n      <td>7.0</td>\n      <td>...</td>\n      <td>2</td>\n      <td>502.38</td>\n      <td>34.663572</td>\n      <td>378.0</td>\n      <td>No</td>\n      <td>35.104023</td>\n      <td>24.028477</td>\n      <td>5</td>\n      <td>479.866228</td>\n      <td>0</td>\n    </tr>\n    <tr>\n      <th>99996</th>\n      <td>37932</td>\n      <td>5</td>\n      <td>25.0</td>\n      <td>3359.415833</td>\n      <td>4.0</td>\n      <td>6.0</td>\n      <td>7.0</td>\n      <td>2.0</td>\n      <td>18.0</td>\n      <td>7.0</td>\n      <td>...</td>\n      <td>2</td>\n      <td>502.38</td>\n      <td>40.565631</td>\n      <td>379.0</td>\n      <td>No</td>\n      <td>35.104023</td>\n      <td>24.028477</td>\n      <td>4</td>\n      <td>496.651610</td>\n      <td>0</td>\n    </tr>\n    <tr>\n      <th>99997</th>\n      <td>37932</td>\n      <td>6</td>\n      <td>25.0</td>\n      <td>3359.415833</td>\n      <td>4.0</td>\n      <td>6.0</td>\n      <td>7.0</td>\n      <td>2.0</td>\n      <td>27.0</td>\n      <td>6.0</td>\n      <td>...</td>\n      <td>2</td>\n      <td>502.38</td>\n      <td>41.255522</td>\n      <td>380.0</td>\n      <td>No</td>\n      <td>35.104023</td>\n      <td>24.028477</td>\n      <td>5</td>\n      <td>516.809083</td>\n      <td>0</td>\n    </tr>\n    <tr>\n      <th>99998</th>\n      <td>37932</td>\n      <td>7</td>\n      <td>25.0</td>\n      <td>3359.415833</td>\n      <td>4.0</td>\n      <td>6.0</td>\n      <td>7.0</td>\n      <td>2.0</td>\n      <td>20.0</td>\n      <td>6.0</td>\n      <td>...</td>\n      <td>2</td>\n      <td>502.38</td>\n      <td>33.638208</td>\n      <td>381.0</td>\n      <td>No</td>\n      <td>35.104023</td>\n      <td>24.028477</td>\n      <td>2</td>\n      <td>319.164979</td>\n      <td>1</td>\n    </tr>\n    <tr>\n      <th>99999</th>\n      <td>37932</td>\n      <td>8</td>\n      <td>25.0</td>\n      <td>3359.415833</td>\n      <td>4.0</td>\n      <td>6.0</td>\n      <td>7.0</td>\n      <td>2.0</td>\n      <td>18.0</td>\n      <td>6.0</td>\n      <td>...</td>\n      <td>2</td>\n      <td>502.38</td>\n      <td>34.192463</td>\n      <td>382.0</td>\n      <td>No</td>\n      <td>35.104023</td>\n      <td>24.028477</td>\n      <td>4</td>\n      <td>393.673696</td>\n      <td>0</td>\n    </tr>\n  </tbody>\n</table>\n<p>100000 rows × 22 columns</p>\n</div>"
     },
     "execution_count": 91,
     "metadata": {},
     "output_type": "execute_result"
    }
   ],
   "source": [
    "cleaned_df['Credit_Mix'] = cleaned_df['Credit_Mix'].map(credit_mix_dict)\n",
    "cleaned_df"
   ],
   "metadata": {
    "collapsed": false
   }
  },
  {
   "cell_type": "markdown",
   "source": [
    "#### Payment Min Encoding"
   ],
   "metadata": {
    "collapsed": false
   }
  },
  {
   "cell_type": "code",
   "execution_count": 92,
   "outputs": [
    {
     "data": {
      "text/plain": "Yes    52326\nNo     35667\nNM     12007\nName: Payment_of_Min_Amount, dtype: int64"
     },
     "execution_count": 92,
     "metadata": {},
     "output_type": "execute_result"
    }
   ],
   "source": [
    "cleaned_df['Payment_of_Min_Amount'].value_counts()"
   ],
   "metadata": {
    "collapsed": false
   }
  },
  {
   "cell_type": "code",
   "execution_count": 93,
   "outputs": [],
   "source": [
    "from sklearn.preprocessing import LabelEncoder"
   ],
   "metadata": {
    "collapsed": false
   }
  },
  {
   "cell_type": "code",
   "execution_count": 94,
   "outputs": [],
   "source": [
    "le = LabelEncoder()\n",
    "\n",
    "cleaned_df['Payment_of_Min_Amount'] = le.fit_transform(cleaned_df['Payment_of_Min_Amount'])\n",
    "\n",
    "pma_classes = le.classes_"
   ],
   "metadata": {
    "collapsed": false
   }
  },
  {
   "cell_type": "code",
   "execution_count": 95,
   "outputs": [
    {
     "name": "stdout",
     "output_type": "stream",
     "text": [
      "['NM' 'No' 'Yes']\n",
      "0        1\n",
      "1        1\n",
      "2        1\n",
      "3        1\n",
      "4        1\n",
      "        ..\n",
      "99995    1\n",
      "99996    1\n",
      "99997    1\n",
      "99998    1\n",
      "99999    1\n",
      "Name: Payment_of_Min_Amount, Length: 100000, dtype: int64\n"
     ]
    }
   ],
   "source": [
    "print(pma_classes)\n",
    "print(cleaned_df['Payment_of_Min_Amount'])\n"
   ],
   "metadata": {
    "collapsed": false
   }
  },
  {
   "cell_type": "markdown",
   "source": [
    "#### Age Binning"
   ],
   "metadata": {
    "collapsed": false
   }
  },
  {
   "cell_type": "code",
   "execution_count": 96,
   "outputs": [
    {
     "data": {
      "text/plain": "count     100000\nunique         5\ntop           30\nfreq       28968\nName: Age, dtype: int64"
     },
     "execution_count": 96,
     "metadata": {},
     "output_type": "execute_result"
    }
   ],
   "source": [
    "age_range = [10, 20, 30, 40, 50, 60]\n",
    "age_labels = [10, 20, 30, 40, 50]\n",
    "age_bins = pd.cut(cleaned_df['Age'], bins=age_range, labels=age_labels)\n",
    "age_bins.describe()"
   ],
   "metadata": {
    "collapsed": false
   }
  },
  {
   "cell_type": "code",
   "execution_count": 97,
   "outputs": [
    {
     "data": {
      "text/plain": "0        20\n1        20\n2        20\n3        20\n4        20\n         ..\n99995    20\n99996    20\n99997    20\n99998    20\n99999    20\nName: Age, Length: 100000, dtype: category\nCategories (5, int64): [10 < 20 < 30 < 40 < 50]"
     },
     "execution_count": 97,
     "metadata": {},
     "output_type": "execute_result"
    }
   ],
   "source": [
    "age_bins"
   ],
   "metadata": {
    "collapsed": false
   }
  },
  {
   "cell_type": "code",
   "execution_count": 98,
   "outputs": [
    {
     "data": {
      "text/plain": "0        20\n1        20\n2        20\n3        20\n4        20\n         ..\n99995    20\n99996    20\n99997    20\n99998    20\n99999    20\nName: Age, Length: 100000, dtype: category\nCategories (5, int64): [10 < 20 < 30 < 40 < 50]"
     },
     "execution_count": 98,
     "metadata": {},
     "output_type": "execute_result"
    }
   ],
   "source": [
    "cleaned_df['Age'] = age_bins\n",
    "cleaned_df['Age']"
   ],
   "metadata": {
    "collapsed": false
   }
  },
  {
   "cell_type": "code",
   "execution_count": 99,
   "outputs": [
    {
     "data": {
      "text/plain": "       Customer_ID  Month Age  Monthly_Inhand_Salary  Num_Bank_Accounts  \\\n0             3392      1  20            1824.843333                3.0   \n1             3392      2  20            1824.843333                3.0   \n2             3392      3  20            1824.843333                3.0   \n3             3392      4  20            1824.843333                3.0   \n4             3392      5  20            1824.843333                3.0   \n...            ...    ...  ..                    ...                ...   \n99995        37932      4  20            3359.415833                4.0   \n99996        37932      5  20            3359.415833                4.0   \n99997        37932      6  20            3359.415833                4.0   \n99998        37932      7  20            3359.415833                4.0   \n99999        37932      8  20            3359.415833                4.0   \n\n       Num_Credit_Card  Interest_Rate  Num_of_Loan  Delay_from_due_date  \\\n0                  4.0            3.0          4.0                  3.0   \n1                  4.0            3.0          4.0                  3.0   \n2                  4.0            3.0          4.0                  3.0   \n3                  4.0            3.0          4.0                  5.0   \n4                  4.0            3.0          4.0                  6.0   \n...                ...            ...          ...                  ...   \n99995              6.0            7.0          2.0                 23.0   \n99996              6.0            7.0          2.0                 18.0   \n99997              6.0            7.0          2.0                 27.0   \n99998              6.0            7.0          2.0                 20.0   \n99999              6.0            7.0          2.0                 18.0   \n\n       Num_of_Delayed_Payment  ...  Credit_Mix  Outstanding_Debt  \\\n0                         7.0  ...           2            809.98   \n1                         4.0  ...           2            809.98   \n2                         7.0  ...           2            809.98   \n3                         4.0  ...           2            809.98   \n4                         4.0  ...           2            809.98   \n...                       ...  ...         ...               ...   \n99995                     7.0  ...           2            502.38   \n99996                     7.0  ...           2            502.38   \n99997                     6.0  ...           2            502.38   \n99998                     6.0  ...           2            502.38   \n99999                     6.0  ...           2            502.38   \n\n       Credit_Utilization_Ratio  Credit_History_Age  Payment_of_Min_Amount  \\\n0                     26.822620               265.0                      1   \n1                     31.944960               266.0                      1   \n2                     28.609352               267.0                      1   \n3                     31.377862               268.0                      1   \n4                     24.797347               269.0                      1   \n...                         ...                 ...                    ...   \n99995                 34.663572               378.0                      1   \n99996                 40.565631               379.0                      1   \n99997                 41.255522               380.0                      1   \n99998                 33.638208               381.0                      1   \n99999                 34.192463               382.0                      1   \n\n       Total_EMI_per_month  Amount_invested_monthly  Payment_Behaviour  \\\n0                49.574949                21.465380                  3   \n1                49.574949                21.465380                  2   \n2                49.574949                21.465380                  1   \n3                49.574949                21.465380                  0   \n4                49.574949                21.465380                  4   \n...                    ...                      ...                ...   \n99995            35.104023                24.028477                  5   \n99996            35.104023                24.028477                  4   \n99997            35.104023                24.028477                  5   \n99998            35.104023                24.028477                  2   \n99999            35.104023                24.028477                  4   \n\n       Monthly_Balance  Credit_Score  \n0           312.494089             2  \n1           284.629162             2  \n2           331.209863             2  \n3           223.451310             2  \n4           341.489231             2  \n...                ...           ...  \n99995       479.866228             0  \n99996       496.651610             0  \n99997       516.809083             0  \n99998       319.164979             1  \n99999       393.673696             0  \n\n[100000 rows x 22 columns]",
      "text/html": "<div>\n<style scoped>\n    .dataframe tbody tr th:only-of-type {\n        vertical-align: middle;\n    }\n\n    .dataframe tbody tr th {\n        vertical-align: top;\n    }\n\n    .dataframe thead th {\n        text-align: right;\n    }\n</style>\n<table border=\"1\" class=\"dataframe\">\n  <thead>\n    <tr style=\"text-align: right;\">\n      <th></th>\n      <th>Customer_ID</th>\n      <th>Month</th>\n      <th>Age</th>\n      <th>Monthly_Inhand_Salary</th>\n      <th>Num_Bank_Accounts</th>\n      <th>Num_Credit_Card</th>\n      <th>Interest_Rate</th>\n      <th>Num_of_Loan</th>\n      <th>Delay_from_due_date</th>\n      <th>Num_of_Delayed_Payment</th>\n      <th>...</th>\n      <th>Credit_Mix</th>\n      <th>Outstanding_Debt</th>\n      <th>Credit_Utilization_Ratio</th>\n      <th>Credit_History_Age</th>\n      <th>Payment_of_Min_Amount</th>\n      <th>Total_EMI_per_month</th>\n      <th>Amount_invested_monthly</th>\n      <th>Payment_Behaviour</th>\n      <th>Monthly_Balance</th>\n      <th>Credit_Score</th>\n    </tr>\n  </thead>\n  <tbody>\n    <tr>\n      <th>0</th>\n      <td>3392</td>\n      <td>1</td>\n      <td>20</td>\n      <td>1824.843333</td>\n      <td>3.0</td>\n      <td>4.0</td>\n      <td>3.0</td>\n      <td>4.0</td>\n      <td>3.0</td>\n      <td>7.0</td>\n      <td>...</td>\n      <td>2</td>\n      <td>809.98</td>\n      <td>26.822620</td>\n      <td>265.0</td>\n      <td>1</td>\n      <td>49.574949</td>\n      <td>21.465380</td>\n      <td>3</td>\n      <td>312.494089</td>\n      <td>2</td>\n    </tr>\n    <tr>\n      <th>1</th>\n      <td>3392</td>\n      <td>2</td>\n      <td>20</td>\n      <td>1824.843333</td>\n      <td>3.0</td>\n      <td>4.0</td>\n      <td>3.0</td>\n      <td>4.0</td>\n      <td>3.0</td>\n      <td>4.0</td>\n      <td>...</td>\n      <td>2</td>\n      <td>809.98</td>\n      <td>31.944960</td>\n      <td>266.0</td>\n      <td>1</td>\n      <td>49.574949</td>\n      <td>21.465380</td>\n      <td>2</td>\n      <td>284.629162</td>\n      <td>2</td>\n    </tr>\n    <tr>\n      <th>2</th>\n      <td>3392</td>\n      <td>3</td>\n      <td>20</td>\n      <td>1824.843333</td>\n      <td>3.0</td>\n      <td>4.0</td>\n      <td>3.0</td>\n      <td>4.0</td>\n      <td>3.0</td>\n      <td>7.0</td>\n      <td>...</td>\n      <td>2</td>\n      <td>809.98</td>\n      <td>28.609352</td>\n      <td>267.0</td>\n      <td>1</td>\n      <td>49.574949</td>\n      <td>21.465380</td>\n      <td>1</td>\n      <td>331.209863</td>\n      <td>2</td>\n    </tr>\n    <tr>\n      <th>3</th>\n      <td>3392</td>\n      <td>4</td>\n      <td>20</td>\n      <td>1824.843333</td>\n      <td>3.0</td>\n      <td>4.0</td>\n      <td>3.0</td>\n      <td>4.0</td>\n      <td>5.0</td>\n      <td>4.0</td>\n      <td>...</td>\n      <td>2</td>\n      <td>809.98</td>\n      <td>31.377862</td>\n      <td>268.0</td>\n      <td>1</td>\n      <td>49.574949</td>\n      <td>21.465380</td>\n      <td>0</td>\n      <td>223.451310</td>\n      <td>2</td>\n    </tr>\n    <tr>\n      <th>4</th>\n      <td>3392</td>\n      <td>5</td>\n      <td>20</td>\n      <td>1824.843333</td>\n      <td>3.0</td>\n      <td>4.0</td>\n      <td>3.0</td>\n      <td>4.0</td>\n      <td>6.0</td>\n      <td>4.0</td>\n      <td>...</td>\n      <td>2</td>\n      <td>809.98</td>\n      <td>24.797347</td>\n      <td>269.0</td>\n      <td>1</td>\n      <td>49.574949</td>\n      <td>21.465380</td>\n      <td>4</td>\n      <td>341.489231</td>\n      <td>2</td>\n    </tr>\n    <tr>\n      <th>...</th>\n      <td>...</td>\n      <td>...</td>\n      <td>...</td>\n      <td>...</td>\n      <td>...</td>\n      <td>...</td>\n      <td>...</td>\n      <td>...</td>\n      <td>...</td>\n      <td>...</td>\n      <td>...</td>\n      <td>...</td>\n      <td>...</td>\n      <td>...</td>\n      <td>...</td>\n      <td>...</td>\n      <td>...</td>\n      <td>...</td>\n      <td>...</td>\n      <td>...</td>\n      <td>...</td>\n    </tr>\n    <tr>\n      <th>99995</th>\n      <td>37932</td>\n      <td>4</td>\n      <td>20</td>\n      <td>3359.415833</td>\n      <td>4.0</td>\n      <td>6.0</td>\n      <td>7.0</td>\n      <td>2.0</td>\n      <td>23.0</td>\n      <td>7.0</td>\n      <td>...</td>\n      <td>2</td>\n      <td>502.38</td>\n      <td>34.663572</td>\n      <td>378.0</td>\n      <td>1</td>\n      <td>35.104023</td>\n      <td>24.028477</td>\n      <td>5</td>\n      <td>479.866228</td>\n      <td>0</td>\n    </tr>\n    <tr>\n      <th>99996</th>\n      <td>37932</td>\n      <td>5</td>\n      <td>20</td>\n      <td>3359.415833</td>\n      <td>4.0</td>\n      <td>6.0</td>\n      <td>7.0</td>\n      <td>2.0</td>\n      <td>18.0</td>\n      <td>7.0</td>\n      <td>...</td>\n      <td>2</td>\n      <td>502.38</td>\n      <td>40.565631</td>\n      <td>379.0</td>\n      <td>1</td>\n      <td>35.104023</td>\n      <td>24.028477</td>\n      <td>4</td>\n      <td>496.651610</td>\n      <td>0</td>\n    </tr>\n    <tr>\n      <th>99997</th>\n      <td>37932</td>\n      <td>6</td>\n      <td>20</td>\n      <td>3359.415833</td>\n      <td>4.0</td>\n      <td>6.0</td>\n      <td>7.0</td>\n      <td>2.0</td>\n      <td>27.0</td>\n      <td>6.0</td>\n      <td>...</td>\n      <td>2</td>\n      <td>502.38</td>\n      <td>41.255522</td>\n      <td>380.0</td>\n      <td>1</td>\n      <td>35.104023</td>\n      <td>24.028477</td>\n      <td>5</td>\n      <td>516.809083</td>\n      <td>0</td>\n    </tr>\n    <tr>\n      <th>99998</th>\n      <td>37932</td>\n      <td>7</td>\n      <td>20</td>\n      <td>3359.415833</td>\n      <td>4.0</td>\n      <td>6.0</td>\n      <td>7.0</td>\n      <td>2.0</td>\n      <td>20.0</td>\n      <td>6.0</td>\n      <td>...</td>\n      <td>2</td>\n      <td>502.38</td>\n      <td>33.638208</td>\n      <td>381.0</td>\n      <td>1</td>\n      <td>35.104023</td>\n      <td>24.028477</td>\n      <td>2</td>\n      <td>319.164979</td>\n      <td>1</td>\n    </tr>\n    <tr>\n      <th>99999</th>\n      <td>37932</td>\n      <td>8</td>\n      <td>20</td>\n      <td>3359.415833</td>\n      <td>4.0</td>\n      <td>6.0</td>\n      <td>7.0</td>\n      <td>2.0</td>\n      <td>18.0</td>\n      <td>6.0</td>\n      <td>...</td>\n      <td>2</td>\n      <td>502.38</td>\n      <td>34.192463</td>\n      <td>382.0</td>\n      <td>1</td>\n      <td>35.104023</td>\n      <td>24.028477</td>\n      <td>4</td>\n      <td>393.673696</td>\n      <td>0</td>\n    </tr>\n  </tbody>\n</table>\n<p>100000 rows × 22 columns</p>\n</div>"
     },
     "execution_count": 99,
     "metadata": {},
     "output_type": "execute_result"
    }
   ],
   "source": [
    "cleaned_df"
   ],
   "metadata": {
    "collapsed": false
   }
  },
  {
   "cell_type": "markdown",
   "source": [
    "### Dummy 만들기"
   ],
   "metadata": {
    "collapsed": false
   }
  },
  {
   "cell_type": "code",
   "execution_count": 100,
   "outputs": [],
   "source": [
    "def dummy_make_do (cols, input_data, thresh=5):\n",
    "    \"\"\"\n",
    "    특정값을 기준으로 Y/N 더미변수로 만들기 위한 함수\n",
    "    params:\n",
    "      cols : 전처리 대상 features\n",
    "      data : 원본 데이터\n",
    "      thresh : 0/1 으로 만들기 위한 기준\n",
    "    \"\"\"\n",
    "\n",
    "    data = input_data.copy()\n",
    "\n",
    "    for col in cols:\n",
    "        data[col] = data.apply(get_dummy,axis=1,args=[col,thresh])\n",
    "\n",
    "    return data\n",
    "\n",
    "def get_dummy(data, col ,thresh=5):\n",
    "\n",
    "    if data[col] >= thresh :\n",
    "        return 1\n",
    "    elif data[col] < thresh:\n",
    "        return 0\n",
    "    else:\n",
    "        return 2"
   ],
   "metadata": {
    "collapsed": false
   }
  },
  {
   "cell_type": "code",
   "execution_count": 101,
   "outputs": [
    {
     "name": "stdout",
     "output_type": "stream",
     "text": [
      "전\n",
      "   Num_of_Loan  Changed_Credit_Limit  Credit_History_Age\n",
      "0          4.0                 11.27               265.0\n",
      "1          4.0                 11.27               266.0\n",
      "2          4.0                 11.27               267.0\n",
      "3          4.0                  6.27               268.0\n",
      "4          4.0                 11.27               269.0\n",
      "\n",
      "후\n",
      "   Num_of_Loan  Changed_Credit_Limit  Credit_History_Age\n",
      "0            0                     0                   1\n",
      "1            0                     0                   1\n",
      "2            0                     0                   1\n",
      "3            0                     0                   1\n",
      "4            0                     0                   1\n"
     ]
    }
   ],
   "source": [
    "# 더미 생성\n",
    "\n",
    "print('전')\n",
    "print(cleaned_df[dummy_cols].head())\n",
    "\n",
    "cleaned_df = dummy_make_do(['Num_of_Loan'], cleaned_df, 5)\n",
    "cleaned_df = dummy_make_do(['Changed_Credit_Limit'], cleaned_df, 12)\n",
    "cleaned_df = dummy_make_do(['Credit_History_Age'], cleaned_df, 180)\n",
    "\n",
    "print('\\n후')\n",
    "print(cleaned_df[dummy_cols].head())"
   ],
   "metadata": {
    "collapsed": false
   }
  },
  {
   "cell_type": "markdown",
   "source": [
    "### Transformation"
   ],
   "metadata": {
    "collapsed": false
   }
  },
  {
   "cell_type": "code",
   "execution_count": 102,
   "outputs": [],
   "source": [
    "cleaned_df['Monthly_Inhand_Salary'] = np.log(cleaned_df['Monthly_Inhand_Salary'])\n",
    "cleaned_df['Amount_invested_monthly'] = np.sqrt(cleaned_df['Amount_invested_monthly'])\n",
    "cleaned_df['Outstanding_Debt'] = np.sqrt(cleaned_df['Outstanding_Debt'])\n",
    "cleaned_df['Delay_from_due_date'] = np.sqrt(cleaned_df['Delay_from_due_date'])"
   ],
   "metadata": {
    "collapsed": false
   }
  },
  {
   "cell_type": "code",
   "execution_count": 103,
   "outputs": [
    {
     "data": {
      "text/plain": "       Customer_ID  Month Age  Monthly_Inhand_Salary  Num_Bank_Accounts  \\\n0             3392      1  20               7.509249                3.0   \n1             3392      2  20               7.509249                3.0   \n2             3392      3  20               7.509249                3.0   \n3             3392      4  20               7.509249                3.0   \n4             3392      5  20               7.509249                3.0   \n...            ...    ...  ..                    ...                ...   \n99995        37932      4  20               8.119522                4.0   \n99996        37932      5  20               8.119522                4.0   \n99997        37932      6  20               8.119522                4.0   \n99998        37932      7  20               8.119522                4.0   \n99999        37932      8  20               8.119522                4.0   \n\n       Num_Credit_Card  Interest_Rate  Num_of_Loan  Delay_from_due_date  \\\n0                  4.0            3.0            0             1.732051   \n1                  4.0            3.0            0             1.732051   \n2                  4.0            3.0            0             1.732051   \n3                  4.0            3.0            0             2.236068   \n4                  4.0            3.0            0             2.449490   \n...                ...            ...          ...                  ...   \n99995              6.0            7.0            0             4.795832   \n99996              6.0            7.0            0             4.242641   \n99997              6.0            7.0            0             5.196152   \n99998              6.0            7.0            0             4.472136   \n99999              6.0            7.0            0             4.242641   \n\n       Num_of_Delayed_Payment  ...  Credit_Mix  Outstanding_Debt  \\\n0                         7.0  ...           2         28.460148   \n1                         4.0  ...           2         28.460148   \n2                         7.0  ...           2         28.460148   \n3                         4.0  ...           2         28.460148   \n4                         4.0  ...           2         28.460148   \n...                       ...  ...         ...               ...   \n99995                     7.0  ...           2         22.413835   \n99996                     7.0  ...           2         22.413835   \n99997                     6.0  ...           2         22.413835   \n99998                     6.0  ...           2         22.413835   \n99999                     6.0  ...           2         22.413835   \n\n       Credit_Utilization_Ratio  Credit_History_Age  Payment_of_Min_Amount  \\\n0                     26.822620                   1                      1   \n1                     31.944960                   1                      1   \n2                     28.609352                   1                      1   \n3                     31.377862                   1                      1   \n4                     24.797347                   1                      1   \n...                         ...                 ...                    ...   \n99995                 34.663572                   1                      1   \n99996                 40.565631                   1                      1   \n99997                 41.255522                   1                      1   \n99998                 33.638208                   1                      1   \n99999                 34.192463                   1                      1   \n\n       Total_EMI_per_month  Amount_invested_monthly  Payment_Behaviour  \\\n0                49.574949                 4.633075                  3   \n1                49.574949                 4.633075                  2   \n2                49.574949                 4.633075                  1   \n3                49.574949                 4.633075                  0   \n4                49.574949                 4.633075                  4   \n...                    ...                      ...                ...   \n99995            35.104023                 4.901885                  5   \n99996            35.104023                 4.901885                  4   \n99997            35.104023                 4.901885                  5   \n99998            35.104023                 4.901885                  2   \n99999            35.104023                 4.901885                  4   \n\n       Monthly_Balance  Credit_Score  \n0           312.494089             2  \n1           284.629162             2  \n2           331.209863             2  \n3           223.451310             2  \n4           341.489231             2  \n...                ...           ...  \n99995       479.866228             0  \n99996       496.651610             0  \n99997       516.809083             0  \n99998       319.164979             1  \n99999       393.673696             0  \n\n[100000 rows x 22 columns]",
      "text/html": "<div>\n<style scoped>\n    .dataframe tbody tr th:only-of-type {\n        vertical-align: middle;\n    }\n\n    .dataframe tbody tr th {\n        vertical-align: top;\n    }\n\n    .dataframe thead th {\n        text-align: right;\n    }\n</style>\n<table border=\"1\" class=\"dataframe\">\n  <thead>\n    <tr style=\"text-align: right;\">\n      <th></th>\n      <th>Customer_ID</th>\n      <th>Month</th>\n      <th>Age</th>\n      <th>Monthly_Inhand_Salary</th>\n      <th>Num_Bank_Accounts</th>\n      <th>Num_Credit_Card</th>\n      <th>Interest_Rate</th>\n      <th>Num_of_Loan</th>\n      <th>Delay_from_due_date</th>\n      <th>Num_of_Delayed_Payment</th>\n      <th>...</th>\n      <th>Credit_Mix</th>\n      <th>Outstanding_Debt</th>\n      <th>Credit_Utilization_Ratio</th>\n      <th>Credit_History_Age</th>\n      <th>Payment_of_Min_Amount</th>\n      <th>Total_EMI_per_month</th>\n      <th>Amount_invested_monthly</th>\n      <th>Payment_Behaviour</th>\n      <th>Monthly_Balance</th>\n      <th>Credit_Score</th>\n    </tr>\n  </thead>\n  <tbody>\n    <tr>\n      <th>0</th>\n      <td>3392</td>\n      <td>1</td>\n      <td>20</td>\n      <td>7.509249</td>\n      <td>3.0</td>\n      <td>4.0</td>\n      <td>3.0</td>\n      <td>0</td>\n      <td>1.732051</td>\n      <td>7.0</td>\n      <td>...</td>\n      <td>2</td>\n      <td>28.460148</td>\n      <td>26.822620</td>\n      <td>1</td>\n      <td>1</td>\n      <td>49.574949</td>\n      <td>4.633075</td>\n      <td>3</td>\n      <td>312.494089</td>\n      <td>2</td>\n    </tr>\n    <tr>\n      <th>1</th>\n      <td>3392</td>\n      <td>2</td>\n      <td>20</td>\n      <td>7.509249</td>\n      <td>3.0</td>\n      <td>4.0</td>\n      <td>3.0</td>\n      <td>0</td>\n      <td>1.732051</td>\n      <td>4.0</td>\n      <td>...</td>\n      <td>2</td>\n      <td>28.460148</td>\n      <td>31.944960</td>\n      <td>1</td>\n      <td>1</td>\n      <td>49.574949</td>\n      <td>4.633075</td>\n      <td>2</td>\n      <td>284.629162</td>\n      <td>2</td>\n    </tr>\n    <tr>\n      <th>2</th>\n      <td>3392</td>\n      <td>3</td>\n      <td>20</td>\n      <td>7.509249</td>\n      <td>3.0</td>\n      <td>4.0</td>\n      <td>3.0</td>\n      <td>0</td>\n      <td>1.732051</td>\n      <td>7.0</td>\n      <td>...</td>\n      <td>2</td>\n      <td>28.460148</td>\n      <td>28.609352</td>\n      <td>1</td>\n      <td>1</td>\n      <td>49.574949</td>\n      <td>4.633075</td>\n      <td>1</td>\n      <td>331.209863</td>\n      <td>2</td>\n    </tr>\n    <tr>\n      <th>3</th>\n      <td>3392</td>\n      <td>4</td>\n      <td>20</td>\n      <td>7.509249</td>\n      <td>3.0</td>\n      <td>4.0</td>\n      <td>3.0</td>\n      <td>0</td>\n      <td>2.236068</td>\n      <td>4.0</td>\n      <td>...</td>\n      <td>2</td>\n      <td>28.460148</td>\n      <td>31.377862</td>\n      <td>1</td>\n      <td>1</td>\n      <td>49.574949</td>\n      <td>4.633075</td>\n      <td>0</td>\n      <td>223.451310</td>\n      <td>2</td>\n    </tr>\n    <tr>\n      <th>4</th>\n      <td>3392</td>\n      <td>5</td>\n      <td>20</td>\n      <td>7.509249</td>\n      <td>3.0</td>\n      <td>4.0</td>\n      <td>3.0</td>\n      <td>0</td>\n      <td>2.449490</td>\n      <td>4.0</td>\n      <td>...</td>\n      <td>2</td>\n      <td>28.460148</td>\n      <td>24.797347</td>\n      <td>1</td>\n      <td>1</td>\n      <td>49.574949</td>\n      <td>4.633075</td>\n      <td>4</td>\n      <td>341.489231</td>\n      <td>2</td>\n    </tr>\n    <tr>\n      <th>...</th>\n      <td>...</td>\n      <td>...</td>\n      <td>...</td>\n      <td>...</td>\n      <td>...</td>\n      <td>...</td>\n      <td>...</td>\n      <td>...</td>\n      <td>...</td>\n      <td>...</td>\n      <td>...</td>\n      <td>...</td>\n      <td>...</td>\n      <td>...</td>\n      <td>...</td>\n      <td>...</td>\n      <td>...</td>\n      <td>...</td>\n      <td>...</td>\n      <td>...</td>\n      <td>...</td>\n    </tr>\n    <tr>\n      <th>99995</th>\n      <td>37932</td>\n      <td>4</td>\n      <td>20</td>\n      <td>8.119522</td>\n      <td>4.0</td>\n      <td>6.0</td>\n      <td>7.0</td>\n      <td>0</td>\n      <td>4.795832</td>\n      <td>7.0</td>\n      <td>...</td>\n      <td>2</td>\n      <td>22.413835</td>\n      <td>34.663572</td>\n      <td>1</td>\n      <td>1</td>\n      <td>35.104023</td>\n      <td>4.901885</td>\n      <td>5</td>\n      <td>479.866228</td>\n      <td>0</td>\n    </tr>\n    <tr>\n      <th>99996</th>\n      <td>37932</td>\n      <td>5</td>\n      <td>20</td>\n      <td>8.119522</td>\n      <td>4.0</td>\n      <td>6.0</td>\n      <td>7.0</td>\n      <td>0</td>\n      <td>4.242641</td>\n      <td>7.0</td>\n      <td>...</td>\n      <td>2</td>\n      <td>22.413835</td>\n      <td>40.565631</td>\n      <td>1</td>\n      <td>1</td>\n      <td>35.104023</td>\n      <td>4.901885</td>\n      <td>4</td>\n      <td>496.651610</td>\n      <td>0</td>\n    </tr>\n    <tr>\n      <th>99997</th>\n      <td>37932</td>\n      <td>6</td>\n      <td>20</td>\n      <td>8.119522</td>\n      <td>4.0</td>\n      <td>6.0</td>\n      <td>7.0</td>\n      <td>0</td>\n      <td>5.196152</td>\n      <td>6.0</td>\n      <td>...</td>\n      <td>2</td>\n      <td>22.413835</td>\n      <td>41.255522</td>\n      <td>1</td>\n      <td>1</td>\n      <td>35.104023</td>\n      <td>4.901885</td>\n      <td>5</td>\n      <td>516.809083</td>\n      <td>0</td>\n    </tr>\n    <tr>\n      <th>99998</th>\n      <td>37932</td>\n      <td>7</td>\n      <td>20</td>\n      <td>8.119522</td>\n      <td>4.0</td>\n      <td>6.0</td>\n      <td>7.0</td>\n      <td>0</td>\n      <td>4.472136</td>\n      <td>6.0</td>\n      <td>...</td>\n      <td>2</td>\n      <td>22.413835</td>\n      <td>33.638208</td>\n      <td>1</td>\n      <td>1</td>\n      <td>35.104023</td>\n      <td>4.901885</td>\n      <td>2</td>\n      <td>319.164979</td>\n      <td>1</td>\n    </tr>\n    <tr>\n      <th>99999</th>\n      <td>37932</td>\n      <td>8</td>\n      <td>20</td>\n      <td>8.119522</td>\n      <td>4.0</td>\n      <td>6.0</td>\n      <td>7.0</td>\n      <td>0</td>\n      <td>4.242641</td>\n      <td>6.0</td>\n      <td>...</td>\n      <td>2</td>\n      <td>22.413835</td>\n      <td>34.192463</td>\n      <td>1</td>\n      <td>1</td>\n      <td>35.104023</td>\n      <td>4.901885</td>\n      <td>4</td>\n      <td>393.673696</td>\n      <td>0</td>\n    </tr>\n  </tbody>\n</table>\n<p>100000 rows × 22 columns</p>\n</div>"
     },
     "execution_count": 103,
     "metadata": {},
     "output_type": "execute_result"
    }
   ],
   "source": [
    "cleaned_df"
   ],
   "metadata": {
    "collapsed": false
   }
  },
  {
   "cell_type": "markdown",
   "source": [
    "## Mutual Info Regression"
   ],
   "metadata": {
    "collapsed": false
   }
  },
  {
   "cell_type": "code",
   "execution_count": 107,
   "outputs": [
    {
     "name": "stdout",
     "output_type": "stream",
     "text": [
      "(75000, 22)\n",
      "(25000, 22)\n"
     ]
    }
   ],
   "source": [
    "train_df = cleaned_df.loc[cleaned_df['Month'] <= 6, :]\n",
    "test_df = cleaned_df.loc[cleaned_df['Month'] > 6, :]\n",
    "\n",
    "print(train_df.shape)\n",
    "print(test_df.shape)"
   ],
   "metadata": {
    "collapsed": false
   }
  },
  {
   "cell_type": "code",
   "execution_count": 104,
   "outputs": [],
   "source": [
    "from sklearn.feature_selection import mutual_info_regression"
   ],
   "metadata": {
    "collapsed": false
   }
  },
  {
   "cell_type": "code",
   "execution_count": 105,
   "outputs": [],
   "source": [
    "def make_mi_scores(X, y, discrete_features):\n",
    "\n",
    "    mi_scores = mutual_info_regression(X, y, discrete_features=discrete_features)\n",
    "    mi_scores = pd.Series(mi_scores, name=\"MI Scores\", index=X.columns)\n",
    "    mi_scores = mi_scores.sort_values(ascending=False)\n",
    "\n",
    "    return mi_scores"
   ],
   "metadata": {
    "collapsed": false
   }
  },
  {
   "cell_type": "code",
   "execution_count": 108,
   "outputs": [
    {
     "data": {
      "text/plain": "       Customer_ID  Month Age  Monthly_Inhand_Salary  Num_Bank_Accounts  \\\n0             3392      1  20               7.509249                3.0   \n1             3392      2  20               7.509249                3.0   \n2             3392      3  20               7.509249                3.0   \n3             3392      4  20               7.509249                3.0   \n4             3392      5  20               7.509249                3.0   \n...            ...    ...  ..                    ...                ...   \n99993        37932      2  20               8.119522                4.0   \n99994        37932      3  20               8.119522                4.0   \n99995        37932      4  20               8.119522                4.0   \n99996        37932      5  20               8.119522                4.0   \n99997        37932      6  20               8.119522                4.0   \n\n       Num_Credit_Card  Interest_Rate  Num_of_Loan  Delay_from_due_date  \\\n0                  4.0            3.0            0             1.732051   \n1                  4.0            3.0            0             1.732051   \n2                  4.0            3.0            0             1.732051   \n3                  4.0            3.0            0             2.236068   \n4                  4.0            3.0            0             2.449490   \n...                ...            ...          ...                  ...   \n99993              6.0            7.0            0             4.795832   \n99994              6.0            7.0            0             4.472136   \n99995              6.0            7.0            0             4.795832   \n99996              6.0            7.0            0             4.242641   \n99997              6.0            7.0            0             5.196152   \n\n       Num_of_Delayed_Payment  ...  Credit_Mix  Outstanding_Debt  \\\n0                         7.0  ...           2         28.460148   \n1                         4.0  ...           2         28.460148   \n2                         7.0  ...           2         28.460148   \n3                         4.0  ...           2         28.460148   \n4                         4.0  ...           2         28.460148   \n...                       ...  ...         ...               ...   \n99993                     6.0  ...           2         22.413835   \n99994                     6.0  ...           2         22.413835   \n99995                     7.0  ...           2         22.413835   \n99996                     7.0  ...           2         22.413835   \n99997                     6.0  ...           2         22.413835   \n\n       Credit_Utilization_Ratio  Credit_History_Age  Payment_of_Min_Amount  \\\n0                     26.822620                   1                      1   \n1                     31.944960                   1                      1   \n2                     28.609352                   1                      1   \n3                     31.377862                   1                      1   \n4                     24.797347                   1                      1   \n...                         ...                 ...                    ...   \n99993                 29.135447                   1                      1   \n99994                 39.323569                   1                      1   \n99995                 34.663572                   1                      1   \n99996                 40.565631                   1                      1   \n99997                 41.255522                   1                      1   \n\n       Total_EMI_per_month  Amount_invested_monthly  Payment_Behaviour  \\\n0                49.574949                 4.633075                  3   \n1                49.574949                 4.633075                  2   \n2                49.574949                 4.633075                  1   \n3                49.574949                 4.633075                  0   \n4                49.574949                 4.633075                  4   \n...                    ...                      ...                ...   \n99993            35.104023                 4.901885                  1   \n99994            35.104023                 4.901885                  4   \n99995            35.104023                 4.901885                  5   \n99996            35.104023                 4.901885                  4   \n99997            35.104023                 4.901885                  5   \n\n       Monthly_Balance  Credit_Score  \n0           312.494089             2  \n1           284.629162             2  \n2           331.209863             2  \n3           223.451310             2  \n4           341.489231             2  \n...                ...           ...  \n99993       400.104466             1  \n99994       410.256158             0  \n99995       479.866228             0  \n99996       496.651610             0  \n99997       516.809083             0  \n\n[75000 rows x 22 columns]",
      "text/html": "<div>\n<style scoped>\n    .dataframe tbody tr th:only-of-type {\n        vertical-align: middle;\n    }\n\n    .dataframe tbody tr th {\n        vertical-align: top;\n    }\n\n    .dataframe thead th {\n        text-align: right;\n    }\n</style>\n<table border=\"1\" class=\"dataframe\">\n  <thead>\n    <tr style=\"text-align: right;\">\n      <th></th>\n      <th>Customer_ID</th>\n      <th>Month</th>\n      <th>Age</th>\n      <th>Monthly_Inhand_Salary</th>\n      <th>Num_Bank_Accounts</th>\n      <th>Num_Credit_Card</th>\n      <th>Interest_Rate</th>\n      <th>Num_of_Loan</th>\n      <th>Delay_from_due_date</th>\n      <th>Num_of_Delayed_Payment</th>\n      <th>...</th>\n      <th>Credit_Mix</th>\n      <th>Outstanding_Debt</th>\n      <th>Credit_Utilization_Ratio</th>\n      <th>Credit_History_Age</th>\n      <th>Payment_of_Min_Amount</th>\n      <th>Total_EMI_per_month</th>\n      <th>Amount_invested_monthly</th>\n      <th>Payment_Behaviour</th>\n      <th>Monthly_Balance</th>\n      <th>Credit_Score</th>\n    </tr>\n  </thead>\n  <tbody>\n    <tr>\n      <th>0</th>\n      <td>3392</td>\n      <td>1</td>\n      <td>20</td>\n      <td>7.509249</td>\n      <td>3.0</td>\n      <td>4.0</td>\n      <td>3.0</td>\n      <td>0</td>\n      <td>1.732051</td>\n      <td>7.0</td>\n      <td>...</td>\n      <td>2</td>\n      <td>28.460148</td>\n      <td>26.822620</td>\n      <td>1</td>\n      <td>1</td>\n      <td>49.574949</td>\n      <td>4.633075</td>\n      <td>3</td>\n      <td>312.494089</td>\n      <td>2</td>\n    </tr>\n    <tr>\n      <th>1</th>\n      <td>3392</td>\n      <td>2</td>\n      <td>20</td>\n      <td>7.509249</td>\n      <td>3.0</td>\n      <td>4.0</td>\n      <td>3.0</td>\n      <td>0</td>\n      <td>1.732051</td>\n      <td>4.0</td>\n      <td>...</td>\n      <td>2</td>\n      <td>28.460148</td>\n      <td>31.944960</td>\n      <td>1</td>\n      <td>1</td>\n      <td>49.574949</td>\n      <td>4.633075</td>\n      <td>2</td>\n      <td>284.629162</td>\n      <td>2</td>\n    </tr>\n    <tr>\n      <th>2</th>\n      <td>3392</td>\n      <td>3</td>\n      <td>20</td>\n      <td>7.509249</td>\n      <td>3.0</td>\n      <td>4.0</td>\n      <td>3.0</td>\n      <td>0</td>\n      <td>1.732051</td>\n      <td>7.0</td>\n      <td>...</td>\n      <td>2</td>\n      <td>28.460148</td>\n      <td>28.609352</td>\n      <td>1</td>\n      <td>1</td>\n      <td>49.574949</td>\n      <td>4.633075</td>\n      <td>1</td>\n      <td>331.209863</td>\n      <td>2</td>\n    </tr>\n    <tr>\n      <th>3</th>\n      <td>3392</td>\n      <td>4</td>\n      <td>20</td>\n      <td>7.509249</td>\n      <td>3.0</td>\n      <td>4.0</td>\n      <td>3.0</td>\n      <td>0</td>\n      <td>2.236068</td>\n      <td>4.0</td>\n      <td>...</td>\n      <td>2</td>\n      <td>28.460148</td>\n      <td>31.377862</td>\n      <td>1</td>\n      <td>1</td>\n      <td>49.574949</td>\n      <td>4.633075</td>\n      <td>0</td>\n      <td>223.451310</td>\n      <td>2</td>\n    </tr>\n    <tr>\n      <th>4</th>\n      <td>3392</td>\n      <td>5</td>\n      <td>20</td>\n      <td>7.509249</td>\n      <td>3.0</td>\n      <td>4.0</td>\n      <td>3.0</td>\n      <td>0</td>\n      <td>2.449490</td>\n      <td>4.0</td>\n      <td>...</td>\n      <td>2</td>\n      <td>28.460148</td>\n      <td>24.797347</td>\n      <td>1</td>\n      <td>1</td>\n      <td>49.574949</td>\n      <td>4.633075</td>\n      <td>4</td>\n      <td>341.489231</td>\n      <td>2</td>\n    </tr>\n    <tr>\n      <th>...</th>\n      <td>...</td>\n      <td>...</td>\n      <td>...</td>\n      <td>...</td>\n      <td>...</td>\n      <td>...</td>\n      <td>...</td>\n      <td>...</td>\n      <td>...</td>\n      <td>...</td>\n      <td>...</td>\n      <td>...</td>\n      <td>...</td>\n      <td>...</td>\n      <td>...</td>\n      <td>...</td>\n      <td>...</td>\n      <td>...</td>\n      <td>...</td>\n      <td>...</td>\n      <td>...</td>\n    </tr>\n    <tr>\n      <th>99993</th>\n      <td>37932</td>\n      <td>2</td>\n      <td>20</td>\n      <td>8.119522</td>\n      <td>4.0</td>\n      <td>6.0</td>\n      <td>7.0</td>\n      <td>0</td>\n      <td>4.795832</td>\n      <td>6.0</td>\n      <td>...</td>\n      <td>2</td>\n      <td>22.413835</td>\n      <td>29.135447</td>\n      <td>1</td>\n      <td>1</td>\n      <td>35.104023</td>\n      <td>4.901885</td>\n      <td>1</td>\n      <td>400.104466</td>\n      <td>1</td>\n    </tr>\n    <tr>\n      <th>99994</th>\n      <td>37932</td>\n      <td>3</td>\n      <td>20</td>\n      <td>8.119522</td>\n      <td>4.0</td>\n      <td>6.0</td>\n      <td>7.0</td>\n      <td>0</td>\n      <td>4.472136</td>\n      <td>6.0</td>\n      <td>...</td>\n      <td>2</td>\n      <td>22.413835</td>\n      <td>39.323569</td>\n      <td>1</td>\n      <td>1</td>\n      <td>35.104023</td>\n      <td>4.901885</td>\n      <td>4</td>\n      <td>410.256158</td>\n      <td>0</td>\n    </tr>\n    <tr>\n      <th>99995</th>\n      <td>37932</td>\n      <td>4</td>\n      <td>20</td>\n      <td>8.119522</td>\n      <td>4.0</td>\n      <td>6.0</td>\n      <td>7.0</td>\n      <td>0</td>\n      <td>4.795832</td>\n      <td>7.0</td>\n      <td>...</td>\n      <td>2</td>\n      <td>22.413835</td>\n      <td>34.663572</td>\n      <td>1</td>\n      <td>1</td>\n      <td>35.104023</td>\n      <td>4.901885</td>\n      <td>5</td>\n      <td>479.866228</td>\n      <td>0</td>\n    </tr>\n    <tr>\n      <th>99996</th>\n      <td>37932</td>\n      <td>5</td>\n      <td>20</td>\n      <td>8.119522</td>\n      <td>4.0</td>\n      <td>6.0</td>\n      <td>7.0</td>\n      <td>0</td>\n      <td>4.242641</td>\n      <td>7.0</td>\n      <td>...</td>\n      <td>2</td>\n      <td>22.413835</td>\n      <td>40.565631</td>\n      <td>1</td>\n      <td>1</td>\n      <td>35.104023</td>\n      <td>4.901885</td>\n      <td>4</td>\n      <td>496.651610</td>\n      <td>0</td>\n    </tr>\n    <tr>\n      <th>99997</th>\n      <td>37932</td>\n      <td>6</td>\n      <td>20</td>\n      <td>8.119522</td>\n      <td>4.0</td>\n      <td>6.0</td>\n      <td>7.0</td>\n      <td>0</td>\n      <td>5.196152</td>\n      <td>6.0</td>\n      <td>...</td>\n      <td>2</td>\n      <td>22.413835</td>\n      <td>41.255522</td>\n      <td>1</td>\n      <td>1</td>\n      <td>35.104023</td>\n      <td>4.901885</td>\n      <td>5</td>\n      <td>516.809083</td>\n      <td>0</td>\n    </tr>\n  </tbody>\n</table>\n<p>75000 rows × 22 columns</p>\n</div>"
     },
     "execution_count": 108,
     "metadata": {},
     "output_type": "execute_result"
    }
   ],
   "source": [
    "train_df"
   ],
   "metadata": {
    "collapsed": false
   }
  },
  {
   "cell_type": "code",
   "execution_count": 115,
   "outputs": [],
   "source": [
    "# discrete_features = train_df.dtypes == int\n",
    "# print(discrete_features)"
   ],
   "metadata": {
    "collapsed": false
   }
  },
  {
   "cell_type": "code",
   "execution_count": 116,
   "outputs": [],
   "source": [
    "X, y = train_df.iloc[:, :-1], train_df.iloc[:, -1]"
   ],
   "metadata": {
    "collapsed": false
   }
  },
  {
   "cell_type": "code",
   "execution_count": 117,
   "outputs": [],
   "source": [
    "mutual_info_scores = make_mi_scores(X, y, discrete_features='auto')"
   ],
   "metadata": {
    "collapsed": false
   }
  },
  {
   "cell_type": "code",
   "execution_count": 120,
   "outputs": [],
   "source": [
    "def plot_mi_scores(scores):\n",
    "    scores = scores.sort_values(ascending=True)\n",
    "    width = np.arange(len(scores))\n",
    "    ticks = list(scores.index)\n",
    "    plt.barh(width, scores)\n",
    "    plt.yticks(width, ticks)\n",
    "    plt.title(\"Mutual Information Scores\")"
   ],
   "metadata": {
    "collapsed": false
   }
  },
  {
   "cell_type": "code",
   "execution_count": 121,
   "outputs": [
    {
     "name": "stderr",
     "output_type": "stream",
     "text": [
      "findfont: Font family ['NanumGothic'] not found. Falling back to DejaVu Sans.\n"
     ]
    },
    {
     "name": "stdout",
     "output_type": "stream",
     "text": [
      "Customer_ID                 0.642196\n",
      "Amount_invested_monthly     0.631673\n",
      "Monthly_Inhand_Salary       0.628268\n",
      "Outstanding_Debt            0.622664\n",
      "Total_EMI_per_month         0.573233\n",
      "Credit_Mix                  0.215824\n",
      "Interest_Rate               0.188575\n",
      "Num_Credit_Inquiries        0.138062\n",
      "Delay_from_due_date         0.134614\n",
      "Payment_of_Min_Amount       0.119180\n",
      "Num_Credit_Card             0.118184\n",
      "Num_Bank_Accounts           0.116040\n",
      "Num_of_Delayed_Payment      0.099298\n",
      "Credit_History_Age          0.089707\n",
      "Num_of_Loan                 0.084756\n",
      "Changed_Credit_Limit        0.038391\n",
      "Monthly_Balance             0.036693\n",
      "Age                         0.012546\n",
      "Payment_Behaviour           0.005772\n",
      "Credit_Utilization_Ratio    0.000076\n",
      "Month                       0.000000\n",
      "Name: MI Scores, dtype: float64\n"
     ]
    },
    {
     "data": {
      "text/plain": "<Figure size 800x500 with 1 Axes>",
      "image/png": "[encoded data removed]"
     },
     "metadata": {
      "needs_background": "light"
     },
     "output_type": "display_data"
    }
   ],
   "source": [
    "print(mutual_info_scores)\n",
    "plt.figure(dpi=100, figsize=(8, 5))\n",
    "plot_mi_scores(mutual_info_scores)"
   ],
   "metadata": {
    "collapsed": false
   }
  },
  {
   "cell_type": "code",
   "execution_count": null,
   "outputs": [],
   "source": [],
   "metadata": {
    "collapsed": false
   }
  }
 ],
 "metadata": {
  "kernelspec": {
   "name": "conda-env-tf_mini-py",
   "language": "python",
   "display_name": "Python [conda env:tf_mini] *"
  },
  "language_info": {
   "codemirror_mode": {
    "name": "ipython",
    "version": 2
   },
   "file_extension": ".py",
   "mimetype": "text/x-python",
   "name": "python",
   "nbconvert_exporter": "python",
   "pygments_lexer": "ipython2",
   "version": "2.7.6"
  }
 },
 "nbformat": 4,
 "nbformat_minor": 0
}
