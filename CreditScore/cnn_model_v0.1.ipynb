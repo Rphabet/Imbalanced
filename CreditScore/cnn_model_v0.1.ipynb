{
 "cells": [
  {
   "cell_type": "markdown",
   "source": [
    "# Credit Scoring CNN Modelling Version 0.1 (11/17)"
   ],
   "metadata": {
    "collapsed": false
   }
  },
  {
   "cell_type": "code",
   "execution_count": 1,
   "outputs": [],
   "source": [
    "import pandas as pd\n",
    "import numpy as np"
   ],
   "metadata": {
    "collapsed": false
   }
  },
  {
   "cell_type": "code",
   "execution_count": 2,
   "outputs": [
    {
     "data": {
      "text/plain": "       Customer_ID  Month  Age  Monthly_Inhand_Salary  Num_Bank_Accounts  \\\n0              576      1    1               7.509249                3.0   \n1              576      2    1               7.509249                3.0   \n2              576      3    1               7.509249                3.0   \n3              576      4    1               7.509249                3.0   \n4              576      5    1               7.509249                3.0   \n...            ...    ...  ...                    ...                ...   \n99995         9254      4    1               8.119522                4.0   \n99996         9254      5    1               8.119522                4.0   \n99997         9254      6    1               8.119522                4.0   \n99998         9254      7    1               8.119522                4.0   \n99999         9254      8    1               8.119522                4.0   \n\n       Num_Credit_Card  Interest_Rate  Num_of_Loan  Delay_from_due_date  \\\n0                  4.0            3.0            0                  3.0   \n1                  4.0            3.0            0                  3.0   \n2                  4.0            3.0            0                  3.0   \n3                  4.0            3.0            0                  5.0   \n4                  4.0            3.0            0                  6.0   \n...                ...            ...          ...                  ...   \n99995              6.0            7.0            0                 23.0   \n99996              6.0            7.0            0                 18.0   \n99997              6.0            7.0            0                 27.0   \n99998              6.0            7.0            0                 20.0   \n99999              6.0            7.0            0                 18.0   \n\n       Num_of_Delayed_Payment  ...  Credit_Mix  Outstanding_Debt  \\\n0                         7.0  ...           2         28.460148   \n1                         4.0  ...           2         28.460148   \n2                         7.0  ...           2         28.460148   \n3                         4.0  ...           2         28.460148   \n4                         4.0  ...           2         28.460148   \n...                       ...  ...         ...               ...   \n99995                     7.0  ...           2         22.413835   \n99996                     7.0  ...           2         22.413835   \n99997                     6.0  ...           2         22.413835   \n99998                     6.0  ...           2         22.413835   \n99999                     6.0  ...           2         22.413835   \n\n       Credit_Utilization_Ratio  Credit_History_Age  Payment_of_Min_Amount  \\\n0                     26.822620                   1                      1   \n1                     31.944960                   1                      1   \n2                     28.609352                   1                      1   \n3                     31.377862                   1                      1   \n4                     24.797347                   1                      1   \n...                         ...                 ...                    ...   \n99995                 34.663572                   1                      1   \n99996                 40.565631                   1                      1   \n99997                 41.255522                   1                      1   \n99998                 33.638208                   1                      1   \n99999                 34.192463                   1                      1   \n\n       Total_EMI_per_month  Amount_invested_monthly  Payment_Behaviour  \\\n0                49.574949                21.465380                  2   \n1                49.574949                21.465380                  3   \n2                49.574949                21.465380                  4   \n3                49.574949                21.465380                  5   \n4                49.574949                21.465380                  1   \n...                    ...                      ...                ...   \n99995            35.104023                24.028477                  0   \n99996            35.104023                24.028477                  1   \n99997            35.104023                24.028477                  0   \n99998            35.104023                24.028477                  3   \n99999            35.104023                24.028477                  1   \n\n       Monthly_Balance  Credit_Score  \n0           312.494089             2  \n1           284.629162             2  \n2           331.209863             2  \n3           223.451310             2  \n4           341.489231             2  \n...                ...           ...  \n99995       479.866228             0  \n99996       496.651610             0  \n99997       516.809083             0  \n99998       319.164979             1  \n99999       393.673696             0  \n\n[100000 rows x 22 columns]",
      "text/html": "<div>\n<style scoped>\n    .dataframe tbody tr th:only-of-type {\n        vertical-align: middle;\n    }\n\n    .dataframe tbody tr th {\n        vertical-align: top;\n    }\n\n    .dataframe thead th {\n        text-align: right;\n    }\n</style>\n<table border=\"1\" class=\"dataframe\">\n  <thead>\n    <tr style=\"text-align: right;\">\n      <th></th>\n      <th>Customer_ID</th>\n      <th>Month</th>\n      <th>Age</th>\n      <th>Monthly_Inhand_Salary</th>\n      <th>Num_Bank_Accounts</th>\n      <th>Num_Credit_Card</th>\n      <th>Interest_Rate</th>\n      <th>Num_of_Loan</th>\n      <th>Delay_from_due_date</th>\n      <th>Num_of_Delayed_Payment</th>\n      <th>...</th>\n      <th>Credit_Mix</th>\n      <th>Outstanding_Debt</th>\n      <th>Credit_Utilization_Ratio</th>\n      <th>Credit_History_Age</th>\n      <th>Payment_of_Min_Amount</th>\n      <th>Total_EMI_per_month</th>\n      <th>Amount_invested_monthly</th>\n      <th>Payment_Behaviour</th>\n      <th>Monthly_Balance</th>\n      <th>Credit_Score</th>\n    </tr>\n  </thead>\n  <tbody>\n    <tr>\n      <th>0</th>\n      <td>576</td>\n      <td>1</td>\n      <td>1</td>\n      <td>7.509249</td>\n      <td>3.0</td>\n      <td>4.0</td>\n      <td>3.0</td>\n      <td>0</td>\n      <td>3.0</td>\n      <td>7.0</td>\n      <td>...</td>\n      <td>2</td>\n      <td>28.460148</td>\n      <td>26.822620</td>\n      <td>1</td>\n      <td>1</td>\n      <td>49.574949</td>\n      <td>21.465380</td>\n      <td>2</td>\n      <td>312.494089</td>\n      <td>2</td>\n    </tr>\n    <tr>\n      <th>1</th>\n      <td>576</td>\n      <td>2</td>\n      <td>1</td>\n      <td>7.509249</td>\n      <td>3.0</td>\n      <td>4.0</td>\n      <td>3.0</td>\n      <td>0</td>\n      <td>3.0</td>\n      <td>4.0</td>\n      <td>...</td>\n      <td>2</td>\n      <td>28.460148</td>\n      <td>31.944960</td>\n      <td>1</td>\n      <td>1</td>\n      <td>49.574949</td>\n      <td>21.465380</td>\n      <td>3</td>\n      <td>284.629162</td>\n      <td>2</td>\n    </tr>\n    <tr>\n      <th>2</th>\n      <td>576</td>\n      <td>3</td>\n      <td>1</td>\n      <td>7.509249</td>\n      <td>3.0</td>\n      <td>4.0</td>\n      <td>3.0</td>\n      <td>0</td>\n      <td>3.0</td>\n      <td>7.0</td>\n      <td>...</td>\n      <td>2</td>\n      <td>28.460148</td>\n      <td>28.609352</td>\n      <td>1</td>\n      <td>1</td>\n      <td>49.574949</td>\n      <td>21.465380</td>\n      <td>4</td>\n      <td>331.209863</td>\n      <td>2</td>\n    </tr>\n    <tr>\n      <th>3</th>\n      <td>576</td>\n      <td>4</td>\n      <td>1</td>\n      <td>7.509249</td>\n      <td>3.0</td>\n      <td>4.0</td>\n      <td>3.0</td>\n      <td>0</td>\n      <td>5.0</td>\n      <td>4.0</td>\n      <td>...</td>\n      <td>2</td>\n      <td>28.460148</td>\n      <td>31.377862</td>\n      <td>1</td>\n      <td>1</td>\n      <td>49.574949</td>\n      <td>21.465380</td>\n      <td>5</td>\n      <td>223.451310</td>\n      <td>2</td>\n    </tr>\n    <tr>\n      <th>4</th>\n      <td>576</td>\n      <td>5</td>\n      <td>1</td>\n      <td>7.509249</td>\n      <td>3.0</td>\n      <td>4.0</td>\n      <td>3.0</td>\n      <td>0</td>\n      <td>6.0</td>\n      <td>4.0</td>\n      <td>...</td>\n      <td>2</td>\n      <td>28.460148</td>\n      <td>24.797347</td>\n      <td>1</td>\n      <td>1</td>\n      <td>49.574949</td>\n      <td>21.465380</td>\n      <td>1</td>\n      <td>341.489231</td>\n      <td>2</td>\n    </tr>\n    <tr>\n      <th>...</th>\n      <td>...</td>\n      <td>...</td>\n      <td>...</td>\n      <td>...</td>\n      <td>...</td>\n      <td>...</td>\n      <td>...</td>\n      <td>...</td>\n      <td>...</td>\n      <td>...</td>\n      <td>...</td>\n      <td>...</td>\n      <td>...</td>\n      <td>...</td>\n      <td>...</td>\n      <td>...</td>\n      <td>...</td>\n      <td>...</td>\n      <td>...</td>\n      <td>...</td>\n      <td>...</td>\n    </tr>\n    <tr>\n      <th>99995</th>\n      <td>9254</td>\n      <td>4</td>\n      <td>1</td>\n      <td>8.119522</td>\n      <td>4.0</td>\n      <td>6.0</td>\n      <td>7.0</td>\n      <td>0</td>\n      <td>23.0</td>\n      <td>7.0</td>\n      <td>...</td>\n      <td>2</td>\n      <td>22.413835</td>\n      <td>34.663572</td>\n      <td>1</td>\n      <td>1</td>\n      <td>35.104023</td>\n      <td>24.028477</td>\n      <td>0</td>\n      <td>479.866228</td>\n      <td>0</td>\n    </tr>\n    <tr>\n      <th>99996</th>\n      <td>9254</td>\n      <td>5</td>\n      <td>1</td>\n      <td>8.119522</td>\n      <td>4.0</td>\n      <td>6.0</td>\n      <td>7.0</td>\n      <td>0</td>\n      <td>18.0</td>\n      <td>7.0</td>\n      <td>...</td>\n      <td>2</td>\n      <td>22.413835</td>\n      <td>40.565631</td>\n      <td>1</td>\n      <td>1</td>\n      <td>35.104023</td>\n      <td>24.028477</td>\n      <td>1</td>\n      <td>496.651610</td>\n      <td>0</td>\n    </tr>\n    <tr>\n      <th>99997</th>\n      <td>9254</td>\n      <td>6</td>\n      <td>1</td>\n      <td>8.119522</td>\n      <td>4.0</td>\n      <td>6.0</td>\n      <td>7.0</td>\n      <td>0</td>\n      <td>27.0</td>\n      <td>6.0</td>\n      <td>...</td>\n      <td>2</td>\n      <td>22.413835</td>\n      <td>41.255522</td>\n      <td>1</td>\n      <td>1</td>\n      <td>35.104023</td>\n      <td>24.028477</td>\n      <td>0</td>\n      <td>516.809083</td>\n      <td>0</td>\n    </tr>\n    <tr>\n      <th>99998</th>\n      <td>9254</td>\n      <td>7</td>\n      <td>1</td>\n      <td>8.119522</td>\n      <td>4.0</td>\n      <td>6.0</td>\n      <td>7.0</td>\n      <td>0</td>\n      <td>20.0</td>\n      <td>6.0</td>\n      <td>...</td>\n      <td>2</td>\n      <td>22.413835</td>\n      <td>33.638208</td>\n      <td>1</td>\n      <td>1</td>\n      <td>35.104023</td>\n      <td>24.028477</td>\n      <td>3</td>\n      <td>319.164979</td>\n      <td>1</td>\n    </tr>\n    <tr>\n      <th>99999</th>\n      <td>9254</td>\n      <td>8</td>\n      <td>1</td>\n      <td>8.119522</td>\n      <td>4.0</td>\n      <td>6.0</td>\n      <td>7.0</td>\n      <td>0</td>\n      <td>18.0</td>\n      <td>6.0</td>\n      <td>...</td>\n      <td>2</td>\n      <td>22.413835</td>\n      <td>34.192463</td>\n      <td>1</td>\n      <td>1</td>\n      <td>35.104023</td>\n      <td>24.028477</td>\n      <td>1</td>\n      <td>393.673696</td>\n      <td>0</td>\n    </tr>\n  </tbody>\n</table>\n<p>100000 rows × 22 columns</p>\n</div>"
     },
     "execution_count": 2,
     "metadata": {},
     "output_type": "execute_result"
    }
   ],
   "source": [
    "df = pd.read_csv('./processed.csv')\n",
    "df"
   ],
   "metadata": {
    "collapsed": false
   }
  },
  {
   "cell_type": "markdown",
   "source": [
    "## DL"
   ],
   "metadata": {
    "collapsed": false
   }
  },
  {
   "cell_type": "markdown",
   "source": [
    "### CNN"
   ],
   "metadata": {
    "collapsed": false
   }
  },
  {
   "cell_type": "code",
   "execution_count": 7,
   "outputs": [],
   "source": [
    "df_dl = df.copy()"
   ],
   "metadata": {
    "collapsed": false
   }
  },
  {
   "cell_type": "code",
   "execution_count": 8,
   "outputs": [],
   "source": [
    "for col in df_dl.iloc[:, :-1].columns[df_dl.iloc[:, :-1].dtypes != 'float']:\n",
    "    df_dl[col] = df_dl[col].astype(np.float64)"
   ],
   "metadata": {
    "collapsed": false
   }
  },
  {
   "cell_type": "code",
   "execution_count": 9,
   "outputs": [
    {
     "data": {
      "text/plain": "Customer_ID                 float64\nMonth                       float64\nAge                         float64\nMonthly_Inhand_Salary       float64\nNum_Bank_Accounts           float64\nNum_Credit_Card             float64\nInterest_Rate               float64\nNum_of_Loan                 float64\nDelay_from_due_date         float64\nNum_of_Delayed_Payment      float64\nChanged_Credit_Limit        float64\nNum_Credit_Inquiries        float64\nCredit_Mix                  float64\nOutstanding_Debt            float64\nCredit_Utilization_Ratio    float64\nCredit_History_Age          float64\nPayment_of_Min_Amount       float64\nTotal_EMI_per_month         float64\nAmount_invested_monthly     float64\nPayment_Behaviour           float64\nMonthly_Balance             float64\nCredit_Score                  int64\ndtype: object"
     },
     "execution_count": 9,
     "metadata": {},
     "output_type": "execute_result"
    }
   ],
   "source": [
    "df_dl.dtypes"
   ],
   "metadata": {
    "collapsed": false
   }
  },
  {
   "cell_type": "code",
   "execution_count": 10,
   "outputs": [
    {
     "data": {
      "text/plain": "       Credit_Score\n0                 2\n1                 2\n2                 2\n3                 2\n4                 2\n...             ...\n99995             0\n99996             0\n99997             0\n99998             1\n99999             0\n\n[100000 rows x 1 columns]",
      "text/html": "<div>\n<style scoped>\n    .dataframe tbody tr th:only-of-type {\n        vertical-align: middle;\n    }\n\n    .dataframe tbody tr th {\n        vertical-align: top;\n    }\n\n    .dataframe thead th {\n        text-align: right;\n    }\n</style>\n<table border=\"1\" class=\"dataframe\">\n  <thead>\n    <tr style=\"text-align: right;\">\n      <th></th>\n      <th>Credit_Score</th>\n    </tr>\n  </thead>\n  <tbody>\n    <tr>\n      <th>0</th>\n      <td>2</td>\n    </tr>\n    <tr>\n      <th>1</th>\n      <td>2</td>\n    </tr>\n    <tr>\n      <th>2</th>\n      <td>2</td>\n    </tr>\n    <tr>\n      <th>3</th>\n      <td>2</td>\n    </tr>\n    <tr>\n      <th>4</th>\n      <td>2</td>\n    </tr>\n    <tr>\n      <th>...</th>\n      <td>...</td>\n    </tr>\n    <tr>\n      <th>99995</th>\n      <td>0</td>\n    </tr>\n    <tr>\n      <th>99996</th>\n      <td>0</td>\n    </tr>\n    <tr>\n      <th>99997</th>\n      <td>0</td>\n    </tr>\n    <tr>\n      <th>99998</th>\n      <td>1</td>\n    </tr>\n    <tr>\n      <th>99999</th>\n      <td>0</td>\n    </tr>\n  </tbody>\n</table>\n<p>100000 rows × 1 columns</p>\n</div>"
     },
     "execution_count": 10,
     "metadata": {},
     "output_type": "execute_result"
    }
   ],
   "source": [
    "df_dl.select_dtypes('int')"
   ],
   "metadata": {
    "collapsed": false
   }
  },
  {
   "cell_type": "code",
   "execution_count": 11,
   "outputs": [
    {
     "name": "stdout",
     "output_type": "stream",
     "text": [
      "(75000, 22)\n",
      "(25000, 22)\n"
     ]
    }
   ],
   "source": [
    "train_df = df_dl[df_dl['Month'] <= 6]\n",
    "test_df = df_dl[df_dl['Month'] > 6]\n",
    "\n",
    "print(train_df.shape)\n",
    "print(test_df.shape)"
   ],
   "metadata": {
    "collapsed": false
   }
  },
  {
   "cell_type": "code",
   "execution_count": 12,
   "outputs": [
    {
     "data": {
      "text/plain": "       Customer_ID  Month  Age  Monthly_Inhand_Salary  Num_Bank_Accounts  \\\n0            576.0    1.0  1.0               7.509249                3.0   \n1            576.0    2.0  1.0               7.509249                3.0   \n2            576.0    3.0  1.0               7.509249                3.0   \n3            576.0    4.0  1.0               7.509249                3.0   \n4            576.0    5.0  1.0               7.509249                3.0   \n...            ...    ...  ...                    ...                ...   \n99993       9254.0    2.0  1.0               8.119522                4.0   \n99994       9254.0    3.0  1.0               8.119522                4.0   \n99995       9254.0    4.0  1.0               8.119522                4.0   \n99996       9254.0    5.0  1.0               8.119522                4.0   \n99997       9254.0    6.0  1.0               8.119522                4.0   \n\n       Num_Credit_Card  Interest_Rate  Num_of_Loan  Delay_from_due_date  \\\n0                  4.0            3.0          0.0                  3.0   \n1                  4.0            3.0          0.0                  3.0   \n2                  4.0            3.0          0.0                  3.0   \n3                  4.0            3.0          0.0                  5.0   \n4                  4.0            3.0          0.0                  6.0   \n...                ...            ...          ...                  ...   \n99993              6.0            7.0          0.0                 23.0   \n99994              6.0            7.0          0.0                 20.0   \n99995              6.0            7.0          0.0                 23.0   \n99996              6.0            7.0          0.0                 18.0   \n99997              6.0            7.0          0.0                 27.0   \n\n       Num_of_Delayed_Payment  ...  Credit_Mix  Outstanding_Debt  \\\n0                         7.0  ...         2.0         28.460148   \n1                         4.0  ...         2.0         28.460148   \n2                         7.0  ...         2.0         28.460148   \n3                         4.0  ...         2.0         28.460148   \n4                         4.0  ...         2.0         28.460148   \n...                       ...  ...         ...               ...   \n99993                     6.0  ...         2.0         22.413835   \n99994                     6.0  ...         2.0         22.413835   \n99995                     7.0  ...         2.0         22.413835   \n99996                     7.0  ...         2.0         22.413835   \n99997                     6.0  ...         2.0         22.413835   \n\n       Credit_Utilization_Ratio  Credit_History_Age  Payment_of_Min_Amount  \\\n0                     26.822620                 1.0                    1.0   \n1                     31.944960                 1.0                    1.0   \n2                     28.609352                 1.0                    1.0   \n3                     31.377862                 1.0                    1.0   \n4                     24.797347                 1.0                    1.0   \n...                         ...                 ...                    ...   \n99993                 29.135447                 1.0                    1.0   \n99994                 39.323569                 1.0                    1.0   \n99995                 34.663572                 1.0                    1.0   \n99996                 40.565631                 1.0                    1.0   \n99997                 41.255522                 1.0                    1.0   \n\n       Total_EMI_per_month  Amount_invested_monthly  Payment_Behaviour  \\\n0                49.574949                21.465380                2.0   \n1                49.574949                21.465380                3.0   \n2                49.574949                21.465380                4.0   \n3                49.574949                21.465380                5.0   \n4                49.574949                21.465380                1.0   \n...                    ...                      ...                ...   \n99993            35.104023                24.028477                4.0   \n99994            35.104023                24.028477                1.0   \n99995            35.104023                24.028477                0.0   \n99996            35.104023                24.028477                1.0   \n99997            35.104023                24.028477                0.0   \n\n       Monthly_Balance  Credit_Score  \n0           312.494089             2  \n1           284.629162             2  \n2           331.209863             2  \n3           223.451310             2  \n4           341.489231             2  \n...                ...           ...  \n99993       400.104466             1  \n99994       410.256158             0  \n99995       479.866228             0  \n99996       496.651610             0  \n99997       516.809083             0  \n\n[75000 rows x 22 columns]",
      "text/html": "<div>\n<style scoped>\n    .dataframe tbody tr th:only-of-type {\n        vertical-align: middle;\n    }\n\n    .dataframe tbody tr th {\n        vertical-align: top;\n    }\n\n    .dataframe thead th {\n        text-align: right;\n    }\n</style>\n<table border=\"1\" class=\"dataframe\">\n  <thead>\n    <tr style=\"text-align: right;\">\n      <th></th>\n      <th>Customer_ID</th>\n      <th>Month</th>\n      <th>Age</th>\n      <th>Monthly_Inhand_Salary</th>\n      <th>Num_Bank_Accounts</th>\n      <th>Num_Credit_Card</th>\n      <th>Interest_Rate</th>\n      <th>Num_of_Loan</th>\n      <th>Delay_from_due_date</th>\n      <th>Num_of_Delayed_Payment</th>\n      <th>...</th>\n      <th>Credit_Mix</th>\n      <th>Outstanding_Debt</th>\n      <th>Credit_Utilization_Ratio</th>\n      <th>Credit_History_Age</th>\n      <th>Payment_of_Min_Amount</th>\n      <th>Total_EMI_per_month</th>\n      <th>Amount_invested_monthly</th>\n      <th>Payment_Behaviour</th>\n      <th>Monthly_Balance</th>\n      <th>Credit_Score</th>\n    </tr>\n  </thead>\n  <tbody>\n    <tr>\n      <th>0</th>\n      <td>576.0</td>\n      <td>1.0</td>\n      <td>1.0</td>\n      <td>7.509249</td>\n      <td>3.0</td>\n      <td>4.0</td>\n      <td>3.0</td>\n      <td>0.0</td>\n      <td>3.0</td>\n      <td>7.0</td>\n      <td>...</td>\n      <td>2.0</td>\n      <td>28.460148</td>\n      <td>26.822620</td>\n      <td>1.0</td>\n      <td>1.0</td>\n      <td>49.574949</td>\n      <td>21.465380</td>\n      <td>2.0</td>\n      <td>312.494089</td>\n      <td>2</td>\n    </tr>\n    <tr>\n      <th>1</th>\n      <td>576.0</td>\n      <td>2.0</td>\n      <td>1.0</td>\n      <td>7.509249</td>\n      <td>3.0</td>\n      <td>4.0</td>\n      <td>3.0</td>\n      <td>0.0</td>\n      <td>3.0</td>\n      <td>4.0</td>\n      <td>...</td>\n      <td>2.0</td>\n      <td>28.460148</td>\n      <td>31.944960</td>\n      <td>1.0</td>\n      <td>1.0</td>\n      <td>49.574949</td>\n      <td>21.465380</td>\n      <td>3.0</td>\n      <td>284.629162</td>\n      <td>2</td>\n    </tr>\n    <tr>\n      <th>2</th>\n      <td>576.0</td>\n      <td>3.0</td>\n      <td>1.0</td>\n      <td>7.509249</td>\n      <td>3.0</td>\n      <td>4.0</td>\n      <td>3.0</td>\n      <td>0.0</td>\n      <td>3.0</td>\n      <td>7.0</td>\n      <td>...</td>\n      <td>2.0</td>\n      <td>28.460148</td>\n      <td>28.609352</td>\n      <td>1.0</td>\n      <td>1.0</td>\n      <td>49.574949</td>\n      <td>21.465380</td>\n      <td>4.0</td>\n      <td>331.209863</td>\n      <td>2</td>\n    </tr>\n    <tr>\n      <th>3</th>\n      <td>576.0</td>\n      <td>4.0</td>\n      <td>1.0</td>\n      <td>7.509249</td>\n      <td>3.0</td>\n      <td>4.0</td>\n      <td>3.0</td>\n      <td>0.0</td>\n      <td>5.0</td>\n      <td>4.0</td>\n      <td>...</td>\n      <td>2.0</td>\n      <td>28.460148</td>\n      <td>31.377862</td>\n      <td>1.0</td>\n      <td>1.0</td>\n      <td>49.574949</td>\n      <td>21.465380</td>\n      <td>5.0</td>\n      <td>223.451310</td>\n      <td>2</td>\n    </tr>\n    <tr>\n      <th>4</th>\n      <td>576.0</td>\n      <td>5.0</td>\n      <td>1.0</td>\n      <td>7.509249</td>\n      <td>3.0</td>\n      <td>4.0</td>\n      <td>3.0</td>\n      <td>0.0</td>\n      <td>6.0</td>\n      <td>4.0</td>\n      <td>...</td>\n      <td>2.0</td>\n      <td>28.460148</td>\n      <td>24.797347</td>\n      <td>1.0</td>\n      <td>1.0</td>\n      <td>49.574949</td>\n      <td>21.465380</td>\n      <td>1.0</td>\n      <td>341.489231</td>\n      <td>2</td>\n    </tr>\n    <tr>\n      <th>...</th>\n      <td>...</td>\n      <td>...</td>\n      <td>...</td>\n      <td>...</td>\n      <td>...</td>\n      <td>...</td>\n      <td>...</td>\n      <td>...</td>\n      <td>...</td>\n      <td>...</td>\n      <td>...</td>\n      <td>...</td>\n      <td>...</td>\n      <td>...</td>\n      <td>...</td>\n      <td>...</td>\n      <td>...</td>\n      <td>...</td>\n      <td>...</td>\n      <td>...</td>\n      <td>...</td>\n    </tr>\n    <tr>\n      <th>99993</th>\n      <td>9254.0</td>\n      <td>2.0</td>\n      <td>1.0</td>\n      <td>8.119522</td>\n      <td>4.0</td>\n      <td>6.0</td>\n      <td>7.0</td>\n      <td>0.0</td>\n      <td>23.0</td>\n      <td>6.0</td>\n      <td>...</td>\n      <td>2.0</td>\n      <td>22.413835</td>\n      <td>29.135447</td>\n      <td>1.0</td>\n      <td>1.0</td>\n      <td>35.104023</td>\n      <td>24.028477</td>\n      <td>4.0</td>\n      <td>400.104466</td>\n      <td>1</td>\n    </tr>\n    <tr>\n      <th>99994</th>\n      <td>9254.0</td>\n      <td>3.0</td>\n      <td>1.0</td>\n      <td>8.119522</td>\n      <td>4.0</td>\n      <td>6.0</td>\n      <td>7.0</td>\n      <td>0.0</td>\n      <td>20.0</td>\n      <td>6.0</td>\n      <td>...</td>\n      <td>2.0</td>\n      <td>22.413835</td>\n      <td>39.323569</td>\n      <td>1.0</td>\n      <td>1.0</td>\n      <td>35.104023</td>\n      <td>24.028477</td>\n      <td>1.0</td>\n      <td>410.256158</td>\n      <td>0</td>\n    </tr>\n    <tr>\n      <th>99995</th>\n      <td>9254.0</td>\n      <td>4.0</td>\n      <td>1.0</td>\n      <td>8.119522</td>\n      <td>4.0</td>\n      <td>6.0</td>\n      <td>7.0</td>\n      <td>0.0</td>\n      <td>23.0</td>\n      <td>7.0</td>\n      <td>...</td>\n      <td>2.0</td>\n      <td>22.413835</td>\n      <td>34.663572</td>\n      <td>1.0</td>\n      <td>1.0</td>\n      <td>35.104023</td>\n      <td>24.028477</td>\n      <td>0.0</td>\n      <td>479.866228</td>\n      <td>0</td>\n    </tr>\n    <tr>\n      <th>99996</th>\n      <td>9254.0</td>\n      <td>5.0</td>\n      <td>1.0</td>\n      <td>8.119522</td>\n      <td>4.0</td>\n      <td>6.0</td>\n      <td>7.0</td>\n      <td>0.0</td>\n      <td>18.0</td>\n      <td>7.0</td>\n      <td>...</td>\n      <td>2.0</td>\n      <td>22.413835</td>\n      <td>40.565631</td>\n      <td>1.0</td>\n      <td>1.0</td>\n      <td>35.104023</td>\n      <td>24.028477</td>\n      <td>1.0</td>\n      <td>496.651610</td>\n      <td>0</td>\n    </tr>\n    <tr>\n      <th>99997</th>\n      <td>9254.0</td>\n      <td>6.0</td>\n      <td>1.0</td>\n      <td>8.119522</td>\n      <td>4.0</td>\n      <td>6.0</td>\n      <td>7.0</td>\n      <td>0.0</td>\n      <td>27.0</td>\n      <td>6.0</td>\n      <td>...</td>\n      <td>2.0</td>\n      <td>22.413835</td>\n      <td>41.255522</td>\n      <td>1.0</td>\n      <td>1.0</td>\n      <td>35.104023</td>\n      <td>24.028477</td>\n      <td>0.0</td>\n      <td>516.809083</td>\n      <td>0</td>\n    </tr>\n  </tbody>\n</table>\n<p>75000 rows × 22 columns</p>\n</div>"
     },
     "execution_count": 12,
     "metadata": {},
     "output_type": "execute_result"
    }
   ],
   "source": [
    "train_df"
   ],
   "metadata": {
    "collapsed": false
   }
  },
  {
   "cell_type": "code",
   "execution_count": 13,
   "outputs": [],
   "source": [
    "from sklearn.preprocessing import RobustScaler"
   ],
   "metadata": {
    "collapsed": false
   }
  },
  {
   "cell_type": "code",
   "execution_count": 14,
   "outputs": [
    {
     "name": "stderr",
     "output_type": "stream",
     "text": [
      "/var/folders/rm/1g600byx25b_ht2r9ty6b4_00000gn/T/ipykernel_83207/2007855942.py:11: SettingWithCopyWarning: \n",
      "A value is trying to be set on a copy of a slice from a DataFrame.\n",
      "Try using .loc[row_indexer,col_indexer] = value instead\n",
      "\n",
      "See the caveats in the documentation: https://pandas.pydata.org/pandas-docs/stable/user_guide/indexing.html#returning-a-view-versus-a-copy\n",
      "  train_df[scaling_cols] = rs_train_df\n",
      "/var/folders/rm/1g600byx25b_ht2r9ty6b4_00000gn/T/ipykernel_83207/2007855942.py:12: SettingWithCopyWarning: \n",
      "A value is trying to be set on a copy of a slice from a DataFrame.\n",
      "Try using .loc[row_indexer,col_indexer] = value instead\n",
      "\n",
      "See the caveats in the documentation: https://pandas.pydata.org/pandas-docs/stable/user_guide/indexing.html#returning-a-view-versus-a-copy\n",
      "  test_df[scaling_cols] = rs_test_df\n"
     ]
    }
   ],
   "source": [
    "scaling_cols = ['Monthly_Inhand_Salary', 'Outstanding_Debt', 'Credit_Utilization_Ratio', 'Total_EMI_per_month',\n",
    "                'Amount_invested_monthly', 'Monthly_Balance']\n",
    "rs = RobustScaler()\n",
    "\n",
    "rs_train_df = train_df[scaling_cols].copy()\n",
    "rs_test_df = test_df[scaling_cols].copy()\n",
    "\n",
    "rs_train_df = rs.fit_transform(rs_train_df)\n",
    "rs_test_df = rs.transform(rs_test_df)\n",
    "\n",
    "train_df[scaling_cols] = rs_train_df\n",
    "test_df[scaling_cols] = rs_test_df"
   ],
   "metadata": {
    "collapsed": false
   }
  },
  {
   "cell_type": "code",
   "execution_count": 15,
   "outputs": [
    {
     "data": {
      "text/plain": "       Monthly_Inhand_Salary  Outstanding_Debt  Credit_Utilization_Ratio  \\\n0                  -0.407299         -0.279953                 -0.648697   \n1                  -0.407299         -0.279953                 -0.041010   \n2                  -0.407299         -0.279953                 -0.436728   \n3                  -0.407299         -0.279953                 -0.108287   \n4                  -0.407299         -0.279953                 -0.888964   \n...                      ...               ...                       ...   \n99993               0.062676         -0.577496                 -0.374315   \n99994               0.062676         -0.577496                  0.834349   \n99995               0.062676         -0.577496                  0.281512   \n99996               0.062676         -0.577496                  0.981701   \n99997               0.062676         -0.577496                  1.063546   \n\n       Total_EMI_per_month  Amount_invested_monthly  Monthly_Balance  \n0                -0.139504                -0.546677        -0.108344  \n1                -0.139504                -0.546677        -0.250764  \n2                -0.139504                -0.546677        -0.012686  \n3                -0.139504                -0.546677        -0.563450  \n4                -0.139504                -0.546677         0.039852  \n...                    ...                      ...              ...  \n99993            -0.264438                -0.487533         0.339440  \n99994            -0.264438                -0.487533         0.391326  \n99995            -0.264438                -0.487533         0.747110  \n99996            -0.264438                -0.487533         0.832901  \n99997            -0.264438                -0.487533         0.935928  \n\n[75000 rows x 6 columns]",
      "text/html": "<div>\n<style scoped>\n    .dataframe tbody tr th:only-of-type {\n        vertical-align: middle;\n    }\n\n    .dataframe tbody tr th {\n        vertical-align: top;\n    }\n\n    .dataframe thead th {\n        text-align: right;\n    }\n</style>\n<table border=\"1\" class=\"dataframe\">\n  <thead>\n    <tr style=\"text-align: right;\">\n      <th></th>\n      <th>Monthly_Inhand_Salary</th>\n      <th>Outstanding_Debt</th>\n      <th>Credit_Utilization_Ratio</th>\n      <th>Total_EMI_per_month</th>\n      <th>Amount_invested_monthly</th>\n      <th>Monthly_Balance</th>\n    </tr>\n  </thead>\n  <tbody>\n    <tr>\n      <th>0</th>\n      <td>-0.407299</td>\n      <td>-0.279953</td>\n      <td>-0.648697</td>\n      <td>-0.139504</td>\n      <td>-0.546677</td>\n      <td>-0.108344</td>\n    </tr>\n    <tr>\n      <th>1</th>\n      <td>-0.407299</td>\n      <td>-0.279953</td>\n      <td>-0.041010</td>\n      <td>-0.139504</td>\n      <td>-0.546677</td>\n      <td>-0.250764</td>\n    </tr>\n    <tr>\n      <th>2</th>\n      <td>-0.407299</td>\n      <td>-0.279953</td>\n      <td>-0.436728</td>\n      <td>-0.139504</td>\n      <td>-0.546677</td>\n      <td>-0.012686</td>\n    </tr>\n    <tr>\n      <th>3</th>\n      <td>-0.407299</td>\n      <td>-0.279953</td>\n      <td>-0.108287</td>\n      <td>-0.139504</td>\n      <td>-0.546677</td>\n      <td>-0.563450</td>\n    </tr>\n    <tr>\n      <th>4</th>\n      <td>-0.407299</td>\n      <td>-0.279953</td>\n      <td>-0.888964</td>\n      <td>-0.139504</td>\n      <td>-0.546677</td>\n      <td>0.039852</td>\n    </tr>\n    <tr>\n      <th>...</th>\n      <td>...</td>\n      <td>...</td>\n      <td>...</td>\n      <td>...</td>\n      <td>...</td>\n      <td>...</td>\n    </tr>\n    <tr>\n      <th>99993</th>\n      <td>0.062676</td>\n      <td>-0.577496</td>\n      <td>-0.374315</td>\n      <td>-0.264438</td>\n      <td>-0.487533</td>\n      <td>0.339440</td>\n    </tr>\n    <tr>\n      <th>99994</th>\n      <td>0.062676</td>\n      <td>-0.577496</td>\n      <td>0.834349</td>\n      <td>-0.264438</td>\n      <td>-0.487533</td>\n      <td>0.391326</td>\n    </tr>\n    <tr>\n      <th>99995</th>\n      <td>0.062676</td>\n      <td>-0.577496</td>\n      <td>0.281512</td>\n      <td>-0.264438</td>\n      <td>-0.487533</td>\n      <td>0.747110</td>\n    </tr>\n    <tr>\n      <th>99996</th>\n      <td>0.062676</td>\n      <td>-0.577496</td>\n      <td>0.981701</td>\n      <td>-0.264438</td>\n      <td>-0.487533</td>\n      <td>0.832901</td>\n    </tr>\n    <tr>\n      <th>99997</th>\n      <td>0.062676</td>\n      <td>-0.577496</td>\n      <td>1.063546</td>\n      <td>-0.264438</td>\n      <td>-0.487533</td>\n      <td>0.935928</td>\n    </tr>\n  </tbody>\n</table>\n<p>75000 rows × 6 columns</p>\n</div>"
     },
     "execution_count": 15,
     "metadata": {},
     "output_type": "execute_result"
    }
   ],
   "source": [
    "train_df[scaling_cols]"
   ],
   "metadata": {
    "collapsed": false
   }
  },
  {
   "cell_type": "code",
   "execution_count": 16,
   "outputs": [
    {
     "data": {
      "text/plain": "       Monthly_Inhand_Salary  Outstanding_Debt  Credit_Utilization_Ratio  \\\n6                  -0.407299         -0.279953                 -1.157050   \n7                  -0.407299         -0.279953                 -0.991412   \n14                 -0.014775         -0.470044                 -0.137490   \n15                 -0.014775         -0.470044                  0.076308   \n22                  1.055051          0.095873                  0.685469   \n...                      ...               ...                       ...   \n99983               0.000043         -0.454528                  0.831670   \n99990              -0.364191          1.260517                 -0.850267   \n99991              -0.364191          1.260517                  0.575395   \n99998               0.062676         -0.577496                  0.159868   \n99999               0.062676         -0.577496                  0.225622   \n\n       Total_EMI_per_month  Amount_invested_monthly  Monthly_Balance  \n6                -0.139504                -0.546677        -0.455534  \n7                -0.139504                -0.546677         0.124875  \n14               -0.405058                -0.126279         0.670517  \n15               -0.405058                -0.126279         0.114418  \n22                1.564883                 2.844176         3.244844  \n...                    ...                      ...              ...  \n99983             0.159480                -0.051250         0.505320  \n99990            -0.041171                -0.242142        -0.536366  \n99991            -0.041171                -0.242142         0.018763  \n99998            -0.264438                -0.487533        -0.074249  \n99999            -0.264438                -0.487533         0.306572  \n\n[25000 rows x 6 columns]",
      "text/html": "<div>\n<style scoped>\n    .dataframe tbody tr th:only-of-type {\n        vertical-align: middle;\n    }\n\n    .dataframe tbody tr th {\n        vertical-align: top;\n    }\n\n    .dataframe thead th {\n        text-align: right;\n    }\n</style>\n<table border=\"1\" class=\"dataframe\">\n  <thead>\n    <tr style=\"text-align: right;\">\n      <th></th>\n      <th>Monthly_Inhand_Salary</th>\n      <th>Outstanding_Debt</th>\n      <th>Credit_Utilization_Ratio</th>\n      <th>Total_EMI_per_month</th>\n      <th>Amount_invested_monthly</th>\n      <th>Monthly_Balance</th>\n    </tr>\n  </thead>\n  <tbody>\n    <tr>\n      <th>6</th>\n      <td>-0.407299</td>\n      <td>-0.279953</td>\n      <td>-1.157050</td>\n      <td>-0.139504</td>\n      <td>-0.546677</td>\n      <td>-0.455534</td>\n    </tr>\n    <tr>\n      <th>7</th>\n      <td>-0.407299</td>\n      <td>-0.279953</td>\n      <td>-0.991412</td>\n      <td>-0.139504</td>\n      <td>-0.546677</td>\n      <td>0.124875</td>\n    </tr>\n    <tr>\n      <th>14</th>\n      <td>-0.014775</td>\n      <td>-0.470044</td>\n      <td>-0.137490</td>\n      <td>-0.405058</td>\n      <td>-0.126279</td>\n      <td>0.670517</td>\n    </tr>\n    <tr>\n      <th>15</th>\n      <td>-0.014775</td>\n      <td>-0.470044</td>\n      <td>0.076308</td>\n      <td>-0.405058</td>\n      <td>-0.126279</td>\n      <td>0.114418</td>\n    </tr>\n    <tr>\n      <th>22</th>\n      <td>1.055051</td>\n      <td>0.095873</td>\n      <td>0.685469</td>\n      <td>1.564883</td>\n      <td>2.844176</td>\n      <td>3.244844</td>\n    </tr>\n    <tr>\n      <th>...</th>\n      <td>...</td>\n      <td>...</td>\n      <td>...</td>\n      <td>...</td>\n      <td>...</td>\n      <td>...</td>\n    </tr>\n    <tr>\n      <th>99983</th>\n      <td>0.000043</td>\n      <td>-0.454528</td>\n      <td>0.831670</td>\n      <td>0.159480</td>\n      <td>-0.051250</td>\n      <td>0.505320</td>\n    </tr>\n    <tr>\n      <th>99990</th>\n      <td>-0.364191</td>\n      <td>1.260517</td>\n      <td>-0.850267</td>\n      <td>-0.041171</td>\n      <td>-0.242142</td>\n      <td>-0.536366</td>\n    </tr>\n    <tr>\n      <th>99991</th>\n      <td>-0.364191</td>\n      <td>1.260517</td>\n      <td>0.575395</td>\n      <td>-0.041171</td>\n      <td>-0.242142</td>\n      <td>0.018763</td>\n    </tr>\n    <tr>\n      <th>99998</th>\n      <td>0.062676</td>\n      <td>-0.577496</td>\n      <td>0.159868</td>\n      <td>-0.264438</td>\n      <td>-0.487533</td>\n      <td>-0.074249</td>\n    </tr>\n    <tr>\n      <th>99999</th>\n      <td>0.062676</td>\n      <td>-0.577496</td>\n      <td>0.225622</td>\n      <td>-0.264438</td>\n      <td>-0.487533</td>\n      <td>0.306572</td>\n    </tr>\n  </tbody>\n</table>\n<p>25000 rows × 6 columns</p>\n</div>"
     },
     "execution_count": 16,
     "metadata": {},
     "output_type": "execute_result"
    }
   ],
   "source": [
    "test_df[scaling_cols]"
   ],
   "metadata": {
    "collapsed": false
   }
  },
  {
   "cell_type": "code",
   "execution_count": 17,
   "outputs": [
    {
     "name": "stdout",
     "output_type": "stream",
     "text": [
      "(75000, 21)\n",
      "(75000,)\n",
      "(25000, 21)\n",
      "(25000,)\n"
     ]
    }
   ],
   "source": [
    "X_train, y_train = train_df.iloc[:, :-1], train_df.iloc[:, -1]\n",
    "X_test, y_test = test_df.iloc[:, :-1], test_df.iloc[:, -1]\n",
    "\n",
    "print(X_train.shape)\n",
    "print(y_train.shape)\n",
    "\n",
    "print(X_test.shape)\n",
    "print(y_test.shape)"
   ],
   "metadata": {
    "collapsed": false
   }
  },
  {
   "cell_type": "code",
   "execution_count": 18,
   "outputs": [
    {
     "data": {
      "text/plain": "       Customer_ID  Month  Age  Monthly_Inhand_Salary  Num_Bank_Accounts  \\\n0            576.0    1.0  1.0              -0.407299                3.0   \n1            576.0    2.0  1.0              -0.407299                3.0   \n2            576.0    3.0  1.0              -0.407299                3.0   \n3            576.0    4.0  1.0              -0.407299                3.0   \n4            576.0    5.0  1.0              -0.407299                3.0   \n...            ...    ...  ...                    ...                ...   \n99993       9254.0    2.0  1.0               0.062676                4.0   \n99994       9254.0    3.0  1.0               0.062676                4.0   \n99995       9254.0    4.0  1.0               0.062676                4.0   \n99996       9254.0    5.0  1.0               0.062676                4.0   \n99997       9254.0    6.0  1.0               0.062676                4.0   \n\n       Num_Credit_Card  Interest_Rate  Num_of_Loan  Delay_from_due_date  \\\n0                  4.0            3.0          0.0                  3.0   \n1                  4.0            3.0          0.0                  3.0   \n2                  4.0            3.0          0.0                  3.0   \n3                  4.0            3.0          0.0                  5.0   \n4                  4.0            3.0          0.0                  6.0   \n...                ...            ...          ...                  ...   \n99993              6.0            7.0          0.0                 23.0   \n99994              6.0            7.0          0.0                 20.0   \n99995              6.0            7.0          0.0                 23.0   \n99996              6.0            7.0          0.0                 18.0   \n99997              6.0            7.0          0.0                 27.0   \n\n       Num_of_Delayed_Payment  ...  Num_Credit_Inquiries  Credit_Mix  \\\n0                         7.0  ...                   4.0         2.0   \n1                         4.0  ...                   4.0         2.0   \n2                         7.0  ...                   4.0         2.0   \n3                         4.0  ...                   4.0         2.0   \n4                         4.0  ...                   4.0         2.0   \n...                       ...  ...                   ...         ...   \n99993                     6.0  ...                   3.0         2.0   \n99994                     6.0  ...                   3.0         2.0   \n99995                     7.0  ...                   3.0         2.0   \n99996                     7.0  ...                   3.0         2.0   \n99997                     6.0  ...                   3.0         2.0   \n\n       Outstanding_Debt  Credit_Utilization_Ratio  Credit_History_Age  \\\n0             -0.279953                 -0.648697                 1.0   \n1             -0.279953                 -0.041010                 1.0   \n2             -0.279953                 -0.436728                 1.0   \n3             -0.279953                 -0.108287                 1.0   \n4             -0.279953                 -0.888964                 1.0   \n...                 ...                       ...                 ...   \n99993         -0.577496                 -0.374315                 1.0   \n99994         -0.577496                  0.834349                 1.0   \n99995         -0.577496                  0.281512                 1.0   \n99996         -0.577496                  0.981701                 1.0   \n99997         -0.577496                  1.063546                 1.0   \n\n       Payment_of_Min_Amount  Total_EMI_per_month  Amount_invested_monthly  \\\n0                        1.0            -0.139504                -0.546677   \n1                        1.0            -0.139504                -0.546677   \n2                        1.0            -0.139504                -0.546677   \n3                        1.0            -0.139504                -0.546677   \n4                        1.0            -0.139504                -0.546677   \n...                      ...                  ...                      ...   \n99993                    1.0            -0.264438                -0.487533   \n99994                    1.0            -0.264438                -0.487533   \n99995                    1.0            -0.264438                -0.487533   \n99996                    1.0            -0.264438                -0.487533   \n99997                    1.0            -0.264438                -0.487533   \n\n       Payment_Behaviour  Monthly_Balance  \n0                    2.0        -0.108344  \n1                    3.0        -0.250764  \n2                    4.0        -0.012686  \n3                    5.0        -0.563450  \n4                    1.0         0.039852  \n...                  ...              ...  \n99993                4.0         0.339440  \n99994                1.0         0.391326  \n99995                0.0         0.747110  \n99996                1.0         0.832901  \n99997                0.0         0.935928  \n\n[75000 rows x 21 columns]",
      "text/html": "<div>\n<style scoped>\n    .dataframe tbody tr th:only-of-type {\n        vertical-align: middle;\n    }\n\n    .dataframe tbody tr th {\n        vertical-align: top;\n    }\n\n    .dataframe thead th {\n        text-align: right;\n    }\n</style>\n<table border=\"1\" class=\"dataframe\">\n  <thead>\n    <tr style=\"text-align: right;\">\n      <th></th>\n      <th>Customer_ID</th>\n      <th>Month</th>\n      <th>Age</th>\n      <th>Monthly_Inhand_Salary</th>\n      <th>Num_Bank_Accounts</th>\n      <th>Num_Credit_Card</th>\n      <th>Interest_Rate</th>\n      <th>Num_of_Loan</th>\n      <th>Delay_from_due_date</th>\n      <th>Num_of_Delayed_Payment</th>\n      <th>...</th>\n      <th>Num_Credit_Inquiries</th>\n      <th>Credit_Mix</th>\n      <th>Outstanding_Debt</th>\n      <th>Credit_Utilization_Ratio</th>\n      <th>Credit_History_Age</th>\n      <th>Payment_of_Min_Amount</th>\n      <th>Total_EMI_per_month</th>\n      <th>Amount_invested_monthly</th>\n      <th>Payment_Behaviour</th>\n      <th>Monthly_Balance</th>\n    </tr>\n  </thead>\n  <tbody>\n    <tr>\n      <th>0</th>\n      <td>576.0</td>\n      <td>1.0</td>\n      <td>1.0</td>\n      <td>-0.407299</td>\n      <td>3.0</td>\n      <td>4.0</td>\n      <td>3.0</td>\n      <td>0.0</td>\n      <td>3.0</td>\n      <td>7.0</td>\n      <td>...</td>\n      <td>4.0</td>\n      <td>2.0</td>\n      <td>-0.279953</td>\n      <td>-0.648697</td>\n      <td>1.0</td>\n      <td>1.0</td>\n      <td>-0.139504</td>\n      <td>-0.546677</td>\n      <td>2.0</td>\n      <td>-0.108344</td>\n    </tr>\n    <tr>\n      <th>1</th>\n      <td>576.0</td>\n      <td>2.0</td>\n      <td>1.0</td>\n      <td>-0.407299</td>\n      <td>3.0</td>\n      <td>4.0</td>\n      <td>3.0</td>\n      <td>0.0</td>\n      <td>3.0</td>\n      <td>4.0</td>\n      <td>...</td>\n      <td>4.0</td>\n      <td>2.0</td>\n      <td>-0.279953</td>\n      <td>-0.041010</td>\n      <td>1.0</td>\n      <td>1.0</td>\n      <td>-0.139504</td>\n      <td>-0.546677</td>\n      <td>3.0</td>\n      <td>-0.250764</td>\n    </tr>\n    <tr>\n      <th>2</th>\n      <td>576.0</td>\n      <td>3.0</td>\n      <td>1.0</td>\n      <td>-0.407299</td>\n      <td>3.0</td>\n      <td>4.0</td>\n      <td>3.0</td>\n      <td>0.0</td>\n      <td>3.0</td>\n      <td>7.0</td>\n      <td>...</td>\n      <td>4.0</td>\n      <td>2.0</td>\n      <td>-0.279953</td>\n      <td>-0.436728</td>\n      <td>1.0</td>\n      <td>1.0</td>\n      <td>-0.139504</td>\n      <td>-0.546677</td>\n      <td>4.0</td>\n      <td>-0.012686</td>\n    </tr>\n    <tr>\n      <th>3</th>\n      <td>576.0</td>\n      <td>4.0</td>\n      <td>1.0</td>\n      <td>-0.407299</td>\n      <td>3.0</td>\n      <td>4.0</td>\n      <td>3.0</td>\n      <td>0.0</td>\n      <td>5.0</td>\n      <td>4.0</td>\n      <td>...</td>\n      <td>4.0</td>\n      <td>2.0</td>\n      <td>-0.279953</td>\n      <td>-0.108287</td>\n      <td>1.0</td>\n      <td>1.0</td>\n      <td>-0.139504</td>\n      <td>-0.546677</td>\n      <td>5.0</td>\n      <td>-0.563450</td>\n    </tr>\n    <tr>\n      <th>4</th>\n      <td>576.0</td>\n      <td>5.0</td>\n      <td>1.0</td>\n      <td>-0.407299</td>\n      <td>3.0</td>\n      <td>4.0</td>\n      <td>3.0</td>\n      <td>0.0</td>\n      <td>6.0</td>\n      <td>4.0</td>\n      <td>...</td>\n      <td>4.0</td>\n      <td>2.0</td>\n      <td>-0.279953</td>\n      <td>-0.888964</td>\n      <td>1.0</td>\n      <td>1.0</td>\n      <td>-0.139504</td>\n      <td>-0.546677</td>\n      <td>1.0</td>\n      <td>0.039852</td>\n    </tr>\n    <tr>\n      <th>...</th>\n      <td>...</td>\n      <td>...</td>\n      <td>...</td>\n      <td>...</td>\n      <td>...</td>\n      <td>...</td>\n      <td>...</td>\n      <td>...</td>\n      <td>...</td>\n      <td>...</td>\n      <td>...</td>\n      <td>...</td>\n      <td>...</td>\n      <td>...</td>\n      <td>...</td>\n      <td>...</td>\n      <td>...</td>\n      <td>...</td>\n      <td>...</td>\n      <td>...</td>\n      <td>...</td>\n    </tr>\n    <tr>\n      <th>99993</th>\n      <td>9254.0</td>\n      <td>2.0</td>\n      <td>1.0</td>\n      <td>0.062676</td>\n      <td>4.0</td>\n      <td>6.0</td>\n      <td>7.0</td>\n      <td>0.0</td>\n      <td>23.0</td>\n      <td>6.0</td>\n      <td>...</td>\n      <td>3.0</td>\n      <td>2.0</td>\n      <td>-0.577496</td>\n      <td>-0.374315</td>\n      <td>1.0</td>\n      <td>1.0</td>\n      <td>-0.264438</td>\n      <td>-0.487533</td>\n      <td>4.0</td>\n      <td>0.339440</td>\n    </tr>\n    <tr>\n      <th>99994</th>\n      <td>9254.0</td>\n      <td>3.0</td>\n      <td>1.0</td>\n      <td>0.062676</td>\n      <td>4.0</td>\n      <td>6.0</td>\n      <td>7.0</td>\n      <td>0.0</td>\n      <td>20.0</td>\n      <td>6.0</td>\n      <td>...</td>\n      <td>3.0</td>\n      <td>2.0</td>\n      <td>-0.577496</td>\n      <td>0.834349</td>\n      <td>1.0</td>\n      <td>1.0</td>\n      <td>-0.264438</td>\n      <td>-0.487533</td>\n      <td>1.0</td>\n      <td>0.391326</td>\n    </tr>\n    <tr>\n      <th>99995</th>\n      <td>9254.0</td>\n      <td>4.0</td>\n      <td>1.0</td>\n      <td>0.062676</td>\n      <td>4.0</td>\n      <td>6.0</td>\n      <td>7.0</td>\n      <td>0.0</td>\n      <td>23.0</td>\n      <td>7.0</td>\n      <td>...</td>\n      <td>3.0</td>\n      <td>2.0</td>\n      <td>-0.577496</td>\n      <td>0.281512</td>\n      <td>1.0</td>\n      <td>1.0</td>\n      <td>-0.264438</td>\n      <td>-0.487533</td>\n      <td>0.0</td>\n      <td>0.747110</td>\n    </tr>\n    <tr>\n      <th>99996</th>\n      <td>9254.0</td>\n      <td>5.0</td>\n      <td>1.0</td>\n      <td>0.062676</td>\n      <td>4.0</td>\n      <td>6.0</td>\n      <td>7.0</td>\n      <td>0.0</td>\n      <td>18.0</td>\n      <td>7.0</td>\n      <td>...</td>\n      <td>3.0</td>\n      <td>2.0</td>\n      <td>-0.577496</td>\n      <td>0.981701</td>\n      <td>1.0</td>\n      <td>1.0</td>\n      <td>-0.264438</td>\n      <td>-0.487533</td>\n      <td>1.0</td>\n      <td>0.832901</td>\n    </tr>\n    <tr>\n      <th>99997</th>\n      <td>9254.0</td>\n      <td>6.0</td>\n      <td>1.0</td>\n      <td>0.062676</td>\n      <td>4.0</td>\n      <td>6.0</td>\n      <td>7.0</td>\n      <td>0.0</td>\n      <td>27.0</td>\n      <td>6.0</td>\n      <td>...</td>\n      <td>3.0</td>\n      <td>2.0</td>\n      <td>-0.577496</td>\n      <td>1.063546</td>\n      <td>1.0</td>\n      <td>1.0</td>\n      <td>-0.264438</td>\n      <td>-0.487533</td>\n      <td>0.0</td>\n      <td>0.935928</td>\n    </tr>\n  </tbody>\n</table>\n<p>75000 rows × 21 columns</p>\n</div>"
     },
     "execution_count": 18,
     "metadata": {},
     "output_type": "execute_result"
    }
   ],
   "source": [
    "X_train"
   ],
   "metadata": {
    "collapsed": false
   }
  },
  {
   "cell_type": "code",
   "execution_count": 19,
   "outputs": [
    {
     "name": "stdout",
     "output_type": "stream",
     "text": [
      "Before Reshaping... :\n",
      "(75000, 21)\n",
      "(25000, 21)\n",
      "\n",
      "\n",
      "After Reshaping... : \n",
      "(75000, 21, 1)\n",
      "(25000, 21, 1)\n"
     ]
    }
   ],
   "source": [
    "sample_size = X_train.shape[0]\n",
    "num_features = X_train.shape[1]\n",
    "input_dim = 1 # each feature is represented by 1 number\n",
    "\n",
    "print('Before Reshaping... :')\n",
    "print(X_train.shape)\n",
    "print(X_test.shape)\n",
    "print('\\n')\n",
    "\n",
    "X_train_reshape = np.reshape(X_train.values, newshape=(sample_size, num_features, input_dim))\n",
    "X_test_reshape = np.reshape(X_test.values, newshape=(X_test.shape[0], num_features, input_dim))\n",
    "\n",
    "print('After Reshaping... : ')\n",
    "print(X_train_reshape.shape)\n",
    "print(X_test_reshape.shape)"
   ],
   "metadata": {
    "collapsed": false
   }
  },
  {
   "cell_type": "code",
   "execution_count": 20,
   "outputs": [
    {
     "name": "stdout",
     "output_type": "stream",
     "text": [
      "1 Sample shape:\n",
      " (21, 1)\n",
      "An example sample:\n",
      " [[ 5.76000000e+02]\n",
      " [ 1.00000000e+00]\n",
      " [ 1.00000000e+00]\n",
      " [-4.07299344e-01]\n",
      " [ 3.00000000e+00]\n",
      " [ 4.00000000e+00]\n",
      " [ 3.00000000e+00]\n",
      " [ 0.00000000e+00]\n",
      " [ 3.00000000e+00]\n",
      " [ 7.00000000e+00]\n",
      " [ 0.00000000e+00]\n",
      " [ 4.00000000e+00]\n",
      " [ 2.00000000e+00]\n",
      " [-2.79952950e-01]\n",
      " [-6.48696889e-01]\n",
      " [ 1.00000000e+00]\n",
      " [ 1.00000000e+00]\n",
      " [-1.39504383e-01]\n",
      " [-5.46676997e-01]\n",
      " [ 2.00000000e+00]\n",
      " [-1.08344298e-01]]\n"
     ]
    }
   ],
   "source": [
    "print(\"1 Sample shape:\\n\", X_train_reshape[0].shape)\n",
    "print(\"An example sample:\\n\", X_train_reshape[0])"
   ],
   "metadata": {
    "collapsed": false
   }
  },
  {
   "cell_type": "code",
   "execution_count": 21,
   "outputs": [],
   "source": [
    "import tensorflow as tf\n",
    "from time import time\n",
    "from datetime import timedelta\n",
    "from sklearn.metrics import classification_report, confusion_matrix, accuracy_score"
   ],
   "metadata": {
    "collapsed": false
   }
  },
  {
   "cell_type": "code",
   "execution_count": 22,
   "outputs": [],
   "source": [
    "import matplotlib.pyplot as plt\n",
    "import seaborn as sns"
   ],
   "metadata": {
    "collapsed": false
   }
  },
  {
   "cell_type": "code",
   "execution_count": 23,
   "outputs": [],
   "source": [
    "# loss와 accuracy 시각화를 위한 함수 정의\n",
    "def plot_loss(history):\n",
    "    plt.figure(figsize=(8, 5))\n",
    "    plt.plot(history.history['loss'], 'b-', label='loss')\n",
    "    plt.plot(history.history['val_loss'], 'g--', label='val_loss')\n",
    "    plt.xlabel('Epochs')\n",
    "    plt.ylabel('Loss')\n",
    "    plt.title('Loss vs Val Loss')\n",
    "    plt.legend()\n",
    "    plt.show()\n",
    "\n",
    "def plot_acc(history):\n",
    "    plt.figure(figsize=(8, 5))\n",
    "    plt.plot(history.history['acc'], 'b-', label='acc')\n",
    "    plt.plot(history.history['val_acc'], 'g--', label='val_acc')\n",
    "    plt.xlabel('Epochs')\n",
    "    plt.ylabel('Accuracy')\n",
    "    plt.title('Accuracy vs Val Accuracy')\n",
    "    plt.legend()\n",
    "    plt.show()"
   ],
   "metadata": {
    "collapsed": false
   }
  },
  {
   "cell_type": "code",
   "execution_count": 24,
   "outputs": [],
   "source": [
    "# 결과 재활용을 위한 시드 설정 함수 정의\n",
    "import random\n",
    "def set_seed(seed: int = 42) -> None:\n",
    "    random.seed(seed)\n",
    "    np.random.seed(seed)\n",
    "    tf.random.set_seed(seed)\n",
    "    tf.experimental.numpy.random.seed(seed)\n",
    "    # When running on the CuDNN backend, two further options must be set\n",
    "    os.environ['TF_CUDNN_DETERMINISTIC'] = '1'\n",
    "    os.environ['TF_DETERMINISTIC_OPS'] = '1'\n",
    "    # Set a fixed value for the hash seed\n",
    "    os.environ[\"PYTHONHASHSEED\"] = str(seed)\n",
    "    print(f\"Random seed set as {seed}\")"
   ],
   "metadata": {
    "collapsed": false
   }
  },
  {
   "cell_type": "code",
   "execution_count": 25,
   "outputs": [],
   "source": [
    "# 분류모델 결과 평가를 위한 혼동행렬 리포트 & 시각화 함수 정의\n",
    "def clf_report_plot(y_true, X_test, model):\n",
    "\n",
    "    result = model.predict(X_test)\n",
    "\n",
    "    y_pred = []\n",
    "    for pred in result:\n",
    "        y_pred.append(np.argmax(pred))\n",
    "\n",
    "    print(classification_report(y_true, y_pred, digits=4))\n",
    "\n",
    "    # plt.rc('font', family='NanumGothicOTF') # For MacOS\n",
    "    plt.rc('font', family='NanumGothic') # For Windows\n",
    "\n",
    "    ax = plt.subplot()\n",
    "    ax.figure.set_size_inches(10, 10)\n",
    "    cm = confusion_matrix(y_true=y_true, y_pred=y_pred)\n",
    "    sns.heatmap(cm, annot=True, fmt='.0f', cmap='Blues', ax=ax)\n",
    "\n",
    "    ax.set_title('Confusion Matrix',fontsize=20, y=1.05)\n",
    "    ax.set_xlabel('Predicted Labels', fontsize=15)\n",
    "    ax.set_ylabel('True Labels', fontsize=15)\n",
    "\n",
    "    ax.xaxis.set_ticklabels(['Poor', 'Standard', 'Good'])\n",
    "    ax.yaxis.set_ticklabels(['Poor', 'Standard', 'Good'])\n",
    "    plt.show()"
   ],
   "metadata": {
    "collapsed": false
   }
  },
  {
   "cell_type": "code",
   "execution_count": 26,
   "outputs": [],
   "source": [
    "from tensorflow.keras.models import Sequential, load_model, Model\n",
    "\n",
    "from tensorflow.keras.layers import Dense, LSTM, Flatten\n",
    "from tensorflow.keras.layers import Conv1D, MaxPooling1D, Dropout, Input\n",
    "\n",
    "from tensorflow.keras.callbacks import EarlyStopping, ModelCheckpoint\n",
    "\n",
    "from sklearn.metrics import confusion_matrix, classification_report"
   ],
   "metadata": {
    "collapsed": false
   }
  },
  {
   "cell_type": "code",
   "execution_count": 27,
   "outputs": [],
   "source": [
    "import os"
   ],
   "metadata": {
    "collapsed": false
   }
  },
  {
   "cell_type": "code",
   "execution_count": 28,
   "outputs": [],
   "source": [
    "num_classes = 3"
   ],
   "metadata": {
    "collapsed": false
   }
  },
  {
   "cell_type": "code",
   "execution_count": 29,
   "outputs": [
    {
     "name": "stderr",
     "output_type": "stream",
     "text": [
      "2022-11-17 16:30:28.550554: I tensorflow/core/common_runtime/pluggable_device/pluggable_device_factory.cc:306] Could not identify NUMA node of platform GPU ID 0, defaulting to 0. Your kernel may not have been built with NUMA support.\n",
      "2022-11-17 16:30:28.550702: I tensorflow/core/common_runtime/pluggable_device/pluggable_device_factory.cc:272] Created TensorFlow device (/job:localhost/replica:0/task:0/device:GPU:0 with 0 MB memory) -> physical PluggableDevice (device: 0, name: METAL, pci bus id: <undefined>)\n"
     ]
    },
    {
     "name": "stdout",
     "output_type": "stream",
     "text": [
      "Random seed set as 42\n",
      "Metal device set to: Apple M1 Pro\n"
     ]
    }
   ],
   "source": [
    "set_seed(42)\n",
    "model = Sequential()\n",
    "model.add(Input(shape=(num_features, input_dim)))\n",
    "model.add(Conv1D(256, kernel_size=2, activation='relu'))\n",
    "# model.add(MaxPooling1D(pool_size=3, strides=1))\n",
    "model.add(Dropout(0.3))\n",
    "model.add(Conv1D(256, kernel_size=4, activation='relu'))\n",
    "\n",
    "model.add(Dropout(0.3))\n",
    "model.add(Conv1D(256, kernel_size=8, activation='relu'))\n",
    "# model.add(Conv1D(64, kernel_size=4, strides=4, activation='relu'))\n",
    "model.add(MaxPooling1D())\n",
    "model.add(Dropout(0.3))\n",
    "\n",
    "model.add(Flatten())\n",
    "model.add(Dense(32, activation='relu'))\n",
    "model.add(Dropout(0.3))\n",
    "\n",
    "\n",
    "model.add(Dense(num_classes, activation='softmax'))"
   ],
   "metadata": {
    "collapsed": false
   }
  },
  {
   "cell_type": "code",
   "execution_count": 30,
   "outputs": [
    {
     "name": "stdout",
     "output_type": "stream",
     "text": [
      "Model: \"sequential\"\n",
      "_________________________________________________________________\n",
      " Layer (type)                Output Shape              Param #   \n",
      "=================================================================\n",
      " conv1d (Conv1D)             (None, 20, 256)           768       \n",
      "                                                                 \n",
      " dropout (Dropout)           (None, 20, 256)           0         \n",
      "                                                                 \n",
      " conv1d_1 (Conv1D)           (None, 17, 256)           262400    \n",
      "                                                                 \n",
      " dropout_1 (Dropout)         (None, 17, 256)           0         \n",
      "                                                                 \n",
      " conv1d_2 (Conv1D)           (None, 10, 256)           524544    \n",
      "                                                                 \n",
      " max_pooling1d (MaxPooling1D  (None, 5, 256)           0         \n",
      " )                                                               \n",
      "                                                                 \n",
      " dropout_2 (Dropout)         (None, 5, 256)            0         \n",
      "                                                                 \n",
      " flatten (Flatten)           (None, 1280)              0         \n",
      "                                                                 \n",
      " dense (Dense)               (None, 32)                40992     \n",
      "                                                                 \n",
      " dropout_3 (Dropout)         (None, 32)                0         \n",
      "                                                                 \n",
      " dense_1 (Dense)             (None, 3)                 99        \n",
      "                                                                 \n",
      "=================================================================\n",
      "Total params: 828,803\n",
      "Trainable params: 828,803\n",
      "Non-trainable params: 0\n",
      "_________________________________________________________________\n"
     ]
    }
   ],
   "source": [
    "model.summary()"
   ],
   "metadata": {
    "collapsed": false
   }
  },
  {
   "cell_type": "code",
   "execution_count": 32,
   "outputs": [],
   "source": [
    "model.compile(optimizer='adam', loss='sparse_categorical_crossentropy', metrics=['acc'])\n",
    "\n",
    "es = EarlyStopping(monitor='val_loss', mode='min', verbose=1, patience=5)\n",
    "mc = ModelCheckpoint('cnn_best_model_scaled.h5', monitor='val_acc', mode='max', verbose=1, save_best_only=True)"
   ],
   "metadata": {
    "collapsed": false
   }
  },
  {
   "cell_type": "code",
   "execution_count": 33,
   "outputs": [
    {
     "name": "stdout",
     "output_type": "stream",
     "text": [
      "Algorithm starts learning.....\n",
      "Epoch 1/50\n"
     ]
    },
    {
     "name": "stderr",
     "output_type": "stream",
     "text": [
      "/Users/ben/miniforge3/envs/tf_mini/lib/python3.8/site-packages/keras/engine/data_adapter.py:1699: FutureWarning: The behavior of `series[i:j]` with an integer-dtype index is deprecated. In a future version, this will be treated as *label-based* indexing, consistent with e.g. `series[i]` lookups. To retain the old behavior, use `series.iloc[i:j]`. To get the future behavior, use `series.loc[i:j]`.\n",
      "  return t[start:end]\n",
      "2022-11-17 16:30:46.708332: W tensorflow/core/platform/profile_utils/cpu_utils.cc:128] Failed to get CPU frequency: 0 Hz\n",
      "2022-11-17 16:30:47.073159: I tensorflow/core/grappler/optimizers/custom_graph_optimizer_registry.cc:114] Plugin optimizer for device_type GPU is enabled.\n"
     ]
    },
    {
     "name": "stdout",
     "output_type": "stream",
     "text": [
      "938/938 [==============================] - ETA: 0s - loss: 1.0073 - acc: 0.5641"
     ]
    },
    {
     "name": "stderr",
     "output_type": "stream",
     "text": [
      "2022-11-17 16:31:07.995791: I tensorflow/core/grappler/optimizers/custom_graph_optimizer_registry.cc:114] Plugin optimizer for device_type GPU is enabled.\n"
     ]
    },
    {
     "name": "stdout",
     "output_type": "stream",
     "text": [
      "\n",
      "Epoch 1: val_acc improved from -inf to 0.61273, saving model to cnn_best_model_scaled.h5\n",
      "938/938 [==============================] - 24s 21ms/step - loss: 1.0073 - acc: 0.5641 - val_loss: 0.8335 - val_acc: 0.6127\n",
      "Epoch 2/50\n",
      "938/938 [==============================] - ETA: 0s - loss: 0.8945 - acc: 0.6022\n",
      "Epoch 2: val_acc improved from 0.61273 to 0.62907, saving model to cnn_best_model_scaled.h5\n",
      "938/938 [==============================] - 18s 19ms/step - loss: 0.8945 - acc: 0.6022 - val_loss: 0.8191 - val_acc: 0.6291\n",
      "Epoch 3/50\n",
      "935/938 [============================>.] - ETA: 0s - loss: 0.8855 - acc: 0.6073\n",
      "Epoch 3: val_acc did not improve from 0.62907\n",
      "938/938 [==============================] - 18s 19ms/step - loss: 0.8855 - acc: 0.6073 - val_loss: 0.8033 - val_acc: 0.6141\n",
      "Epoch 4/50\n",
      "936/938 [============================>.] - ETA: 0s - loss: 0.8769 - acc: 0.6093\n",
      "Epoch 4: val_acc improved from 0.62907 to 0.63953, saving model to cnn_best_model_scaled.h5\n",
      "938/938 [==============================] - 18s 19ms/step - loss: 0.8769 - acc: 0.6093 - val_loss: 0.7761 - val_acc: 0.6395\n",
      "Epoch 5/50\n",
      "938/938 [==============================] - ETA: 0s - loss: 0.8626 - acc: 0.6150\n",
      "Epoch 5: val_acc improved from 0.63953 to 0.66300, saving model to cnn_best_model_scaled.h5\n",
      "938/938 [==============================] - 18s 19ms/step - loss: 0.8626 - acc: 0.6150 - val_loss: 0.7266 - val_acc: 0.6630\n",
      "Epoch 6/50\n",
      "936/938 [============================>.] - ETA: 0s - loss: 0.7673 - acc: 0.6712\n",
      "Epoch 6: val_acc improved from 0.66300 to 0.67893, saving model to cnn_best_model_scaled.h5\n",
      "938/938 [==============================] - 18s 19ms/step - loss: 0.7671 - acc: 0.6713 - val_loss: 0.6917 - val_acc: 0.6789\n",
      "Epoch 7/50\n",
      "938/938 [==============================] - ETA: 0s - loss: 0.7483 - acc: 0.6813\n",
      "Epoch 7: val_acc improved from 0.67893 to 0.69880, saving model to cnn_best_model_scaled.h5\n",
      "938/938 [==============================] - 18s 19ms/step - loss: 0.7483 - acc: 0.6813 - val_loss: 0.6776 - val_acc: 0.6988\n",
      "Epoch 8/50\n",
      "938/938 [==============================] - ETA: 0s - loss: 0.7289 - acc: 0.6831\n",
      "Epoch 8: val_acc improved from 0.69880 to 0.70873, saving model to cnn_best_model_scaled.h5\n",
      "938/938 [==============================] - 19s 20ms/step - loss: 0.7289 - acc: 0.6831 - val_loss: 0.6438 - val_acc: 0.7087\n",
      "Epoch 9/50\n",
      "936/938 [============================>.] - ETA: 0s - loss: 0.7130 - acc: 0.6878\n",
      "Epoch 9: val_acc did not improve from 0.70873\n",
      "938/938 [==============================] - 18s 20ms/step - loss: 0.7130 - acc: 0.6878 - val_loss: 0.6623 - val_acc: 0.6979\n",
      "Epoch 10/50\n",
      "936/938 [============================>.] - ETA: 0s - loss: 0.6961 - acc: 0.6884\n",
      "Epoch 10: val_acc improved from 0.70873 to 0.72033, saving model to cnn_best_model_scaled.h5\n",
      "938/938 [==============================] - 18s 19ms/step - loss: 0.6962 - acc: 0.6883 - val_loss: 0.6169 - val_acc: 0.7203\n",
      "Epoch 11/50\n",
      "937/938 [============================>.] - ETA: 0s - loss: 0.6590 - acc: 0.6996\n",
      "Epoch 11: val_acc improved from 0.72033 to 0.72953, saving model to cnn_best_model_scaled.h5\n",
      "938/938 [==============================] - 18s 19ms/step - loss: 0.6590 - acc: 0.6996 - val_loss: 0.6034 - val_acc: 0.7295\n",
      "Epoch 12/50\n",
      "937/938 [============================>.] - ETA: 0s - loss: 0.6463 - acc: 0.6990\n",
      "Epoch 12: val_acc did not improve from 0.72953\n",
      "938/938 [==============================] - 18s 19ms/step - loss: 0.6463 - acc: 0.6989 - val_loss: 0.6122 - val_acc: 0.7071\n",
      "Epoch 13/50\n",
      "935/938 [============================>.] - ETA: 0s - loss: 0.6412 - acc: 0.7018\n",
      "Epoch 13: val_acc improved from 0.72953 to 0.73107, saving model to cnn_best_model_scaled.h5\n",
      "938/938 [==============================] - 18s 19ms/step - loss: 0.6412 - acc: 0.7019 - val_loss: 0.5990 - val_acc: 0.7311\n",
      "Epoch 14/50\n",
      "936/938 [============================>.] - ETA: 0s - loss: 0.6303 - acc: 0.7077\n",
      "Epoch 14: val_acc improved from 0.73107 to 0.73340, saving model to cnn_best_model_scaled.h5\n",
      "938/938 [==============================] - 18s 19ms/step - loss: 0.6304 - acc: 0.7077 - val_loss: 0.5918 - val_acc: 0.7334\n",
      "Epoch 15/50\n",
      "935/938 [============================>.] - ETA: 0s - loss: 0.6239 - acc: 0.7082\n",
      "Epoch 15: val_acc did not improve from 0.73340\n",
      "938/938 [==============================] - 18s 19ms/step - loss: 0.6237 - acc: 0.7084 - val_loss: 0.5945 - val_acc: 0.7313\n",
      "Epoch 16/50\n",
      "937/938 [============================>.] - ETA: 0s - loss: 0.6202 - acc: 0.7110\n",
      "Epoch 16: val_acc did not improve from 0.73340\n",
      "938/938 [==============================] - 18s 19ms/step - loss: 0.6203 - acc: 0.7109 - val_loss: 0.5875 - val_acc: 0.7282\n",
      "Epoch 17/50\n",
      "938/938 [==============================] - ETA: 0s - loss: 0.6160 - acc: 0.7128\n",
      "Epoch 17: val_acc did not improve from 0.73340\n",
      "938/938 [==============================] - 18s 19ms/step - loss: 0.6160 - acc: 0.7128 - val_loss: 0.5890 - val_acc: 0.7334\n",
      "Epoch 18/50\n",
      "938/938 [==============================] - ETA: 0s - loss: 0.6153 - acc: 0.7140\n",
      "Epoch 18: val_acc did not improve from 0.73340\n",
      "938/938 [==============================] - 18s 19ms/step - loss: 0.6153 - acc: 0.7140 - val_loss: 0.5869 - val_acc: 0.7331\n",
      "Epoch 19/50\n",
      "936/938 [============================>.] - ETA: 0s - loss: 0.6139 - acc: 0.7152\n",
      "Epoch 19: val_acc did not improve from 0.73340\n",
      "938/938 [==============================] - 18s 19ms/step - loss: 0.6138 - acc: 0.7152 - val_loss: 0.5993 - val_acc: 0.7221\n",
      "Epoch 20/50\n",
      "936/938 [============================>.] - ETA: 0s - loss: 0.6102 - acc: 0.7158\n",
      "Epoch 20: val_acc improved from 0.73340 to 0.73740, saving model to cnn_best_model_scaled.h5\n",
      "938/938 [==============================] - 18s 19ms/step - loss: 0.6101 - acc: 0.7157 - val_loss: 0.5879 - val_acc: 0.7374\n",
      "Epoch 21/50\n",
      "937/938 [============================>.] - ETA: 0s - loss: 0.6083 - acc: 0.7149\n",
      "Epoch 21: val_acc improved from 0.73740 to 0.73747, saving model to cnn_best_model_scaled.h5\n",
      "938/938 [==============================] - 18s 19ms/step - loss: 0.6084 - acc: 0.7149 - val_loss: 0.5850 - val_acc: 0.7375\n",
      "Epoch 22/50\n",
      "937/938 [============================>.] - ETA: 0s - loss: 0.6036 - acc: 0.7161\n",
      "Epoch 22: val_acc did not improve from 0.73747\n",
      "938/938 [==============================] - 18s 20ms/step - loss: 0.6036 - acc: 0.7161 - val_loss: 0.5854 - val_acc: 0.7321\n",
      "Epoch 23/50\n",
      "937/938 [============================>.] - ETA: 0s - loss: 0.6037 - acc: 0.7165\n",
      "Epoch 23: val_acc did not improve from 0.73747\n",
      "938/938 [==============================] - 18s 19ms/step - loss: 0.6037 - acc: 0.7165 - val_loss: 0.5834 - val_acc: 0.7331\n",
      "Epoch 24/50\n",
      "938/938 [==============================] - ETA: 0s - loss: 0.6018 - acc: 0.7197\n",
      "Epoch 24: val_acc did not improve from 0.73747\n",
      "938/938 [==============================] - 18s 19ms/step - loss: 0.6018 - acc: 0.7197 - val_loss: 0.5906 - val_acc: 0.7341\n",
      "Epoch 25/50\n",
      "937/938 [============================>.] - ETA: 0s - loss: 0.5997 - acc: 0.7211\n",
      "Epoch 25: val_acc did not improve from 0.73747\n",
      "938/938 [==============================] - 18s 19ms/step - loss: 0.5997 - acc: 0.7211 - val_loss: 0.5918 - val_acc: 0.7309\n",
      "Epoch 26/50\n",
      "935/938 [============================>.] - ETA: 0s - loss: 0.5972 - acc: 0.7223\n",
      "Epoch 26: val_acc improved from 0.73747 to 0.73840, saving model to cnn_best_model_scaled.h5\n",
      "938/938 [==============================] - 18s 19ms/step - loss: 0.5972 - acc: 0.7223 - val_loss: 0.5964 - val_acc: 0.7384\n",
      "Epoch 27/50\n",
      "935/938 [============================>.] - ETA: 0s - loss: 0.5939 - acc: 0.7232\n",
      "Epoch 27: val_acc did not improve from 0.73840\n",
      "938/938 [==============================] - 18s 19ms/step - loss: 0.5940 - acc: 0.7232 - val_loss: 0.5999 - val_acc: 0.7317\n",
      "Epoch 28/50\n",
      "938/938 [==============================] - ETA: 0s - loss: 0.5922 - acc: 0.7245\n",
      "Epoch 28: val_acc did not improve from 0.73840\n",
      "938/938 [==============================] - 18s 19ms/step - loss: 0.5922 - acc: 0.7245 - val_loss: 0.5932 - val_acc: 0.7207\n",
      "Epoch 28: early stopping\n",
      "Learning Durations:  0:08:32.173458\n"
     ]
    }
   ],
   "source": [
    "print('Algorithm starts learning.....')\n",
    "start_time = time()\n",
    "\n",
    "history = model.fit(X_train_reshape, y_train, epochs=50, batch_size=64, validation_split=0.2, callbacks=[es, mc] )\n",
    "\n",
    "print(\"Learning Durations: \", timedelta(seconds=(time() - start_time)))"
   ],
   "metadata": {
    "collapsed": false
   }
  },
  {
   "cell_type": "code",
   "execution_count": 34,
   "outputs": [
    {
     "data": {
      "text/plain": "<Figure size 576x360 with 1 Axes>",
      "image/png": "[encoded data removed]"
     },
     "metadata": {
      "needs_background": "light"
     },
     "output_type": "display_data"
    }
   ],
   "source": [
    "plot_loss(history)"
   ],
   "metadata": {
    "collapsed": false
   }
  },
  {
   "cell_type": "code",
   "execution_count": 35,
   "outputs": [
    {
     "data": {
      "text/plain": "<Figure size 576x360 with 1 Axes>",
      "image/png": "[encoded data removed]"
     },
     "metadata": {
      "needs_background": "light"
     },
     "output_type": "display_data"
    }
   ],
   "source": [
    "plot_acc(history)"
   ],
   "metadata": {
    "collapsed": false
   }
  },
  {
   "cell_type": "code",
   "execution_count": 36,
   "outputs": [
    {
     "name": "stdout",
     "output_type": "stream",
     "text": [
      " 13/782 [..............................] - ETA: 6s - loss: 0.7424 - acc: 0.6755"
     ]
    },
    {
     "name": "stderr",
     "output_type": "stream",
     "text": [
      "2022-11-17 16:39:19.278534: I tensorflow/core/grappler/optimizers/custom_graph_optimizer_registry.cc:114] Plugin optimizer for device_type GPU is enabled.\n"
     ]
    },
    {
     "name": "stdout",
     "output_type": "stream",
     "text": [
      "782/782 [==============================] - 6s 7ms/step - loss: 0.7761 - acc: 0.6423\n",
      "Test Accuracy: 0.6423200368881226\n"
     ]
    }
   ],
   "source": [
    "best_model = load_model('./cnn_best_model_scaled.h5')\n",
    "print('Test Accuracy: {}'.format(best_model.evaluate(X_test_reshape, y_test)[1]))"
   ],
   "metadata": {
    "collapsed": false
   }
  },
  {
   "cell_type": "markdown",
   "source": [
    "(128일 때, 62.86%)"
   ],
   "metadata": {
    "collapsed": false
   }
  },
  {
   "cell_type": "code",
   "execution_count": 37,
   "outputs": [
    {
     "name": "stdout",
     "output_type": "stream",
     "text": [
      "2344/2344 [==============================] - 17s 7ms/step - loss: 0.5824 - acc: 0.7373\n",
      "Train Accuracy: 0.7373466491699219\n"
     ]
    }
   ],
   "source": [
    "print(\"Train Accuracy: {}\".format(best_model.evaluate(X_train_reshape, y_train)[1]))"
   ],
   "metadata": {
    "collapsed": false
   }
  },
  {
   "cell_type": "code",
   "execution_count": 38,
   "outputs": [
    {
     "name": "stdout",
     "output_type": "stream",
     "text": [
      " 48/782 [>.............................] - ETA: 2s"
     ]
    },
    {
     "name": "stderr",
     "output_type": "stream",
     "text": [
      "2022-11-17 16:39:41.897228: I tensorflow/core/grappler/optimizers/custom_graph_optimizer_registry.cc:114] Plugin optimizer for device_type GPU is enabled.\n"
     ]
    },
    {
     "name": "stdout",
     "output_type": "stream",
     "text": [
      "782/782 [==============================] - 3s 3ms/step\n"
     ]
    },
    {
     "name": "stderr",
     "output_type": "stream",
     "text": [
      "findfont: Font family ['NanumGothic'] not found. Falling back to DejaVu Sans.\n",
      "findfont: Font family ['NanumGothic'] not found. Falling back to DejaVu Sans.\n",
      "findfont: Font family ['NanumGothic'] not found. Falling back to DejaVu Sans.\n"
     ]
    },
    {
     "name": "stdout",
     "output_type": "stream",
     "text": [
      "              precision    recall  f1-score   support\n",
      "\n",
      "           0     0.6992    0.5378    0.6080      7216\n",
      "           1     0.6632    0.7113    0.6864     12960\n",
      "           2     0.5331    0.6132    0.5703      4824\n",
      "\n",
      "    accuracy                         0.6423     25000\n",
      "   macro avg     0.6318    0.6208    0.6216     25000\n",
      "weighted avg     0.6485    0.6423    0.6414     25000\n",
      "\n"
     ]
    },
    {
     "data": {
      "text/plain": "<Figure size 720x720 with 2 Axes>",
      "image/png": "[encoded data removed]"
     },
     "metadata": {
      "needs_background": "light"
     },
     "output_type": "display_data"
    }
   ],
   "source": [
    "clf_report_plot(y_test, X_test_reshape, best_model)"
   ],
   "metadata": {
    "collapsed": false
   }
  },
  {
   "cell_type": "code",
   "execution_count": 31,
   "outputs": [],
   "source": [],
   "metadata": {
    "collapsed": false
   }
  },
  {
   "cell_type": "markdown",
   "source": [
    "# Validation 직접 설정 (Validation: 6월달 데이터)"
   ],
   "metadata": {
    "collapsed": false
   }
  },
  {
   "cell_type": "markdown",
   "source": [
    "### CNN"
   ],
   "metadata": {
    "collapsed": false
   }
  },
  {
   "cell_type": "code",
   "execution_count": 39,
   "outputs": [
    {
     "name": "stdout",
     "output_type": "stream",
     "text": [
      "(62500, 22)\n",
      "(12500, 22)\n",
      "(25000, 22)\n"
     ]
    }
   ],
   "source": [
    "train_df = df_dl[df_dl['Month'] <= 5]\n",
    "val_df = df_dl[df_dl['Month'] == 6]\n",
    "test_df = df_dl[df_dl['Month'] > 6]\n",
    "\n",
    "print(train_df.shape)\n",
    "print(val_df.shape)\n",
    "print(test_df.shape)"
   ],
   "metadata": {
    "collapsed": false
   }
  },
  {
   "cell_type": "code",
   "execution_count": 40,
   "outputs": [
    {
     "data": {
      "text/plain": "       Customer_ID  Month  Age  Monthly_Inhand_Salary  Num_Bank_Accounts  \\\n0            576.0    1.0  1.0               7.509249                3.0   \n1            576.0    2.0  1.0               7.509249                3.0   \n2            576.0    3.0  1.0               7.509249                3.0   \n3            576.0    4.0  1.0               7.509249                3.0   \n4            576.0    5.0  1.0               7.509249                3.0   \n...            ...    ...  ...                    ...                ...   \n99992       9254.0    1.0  1.0               8.119522                4.0   \n99993       9254.0    2.0  1.0               8.119522                4.0   \n99994       9254.0    3.0  1.0               8.119522                4.0   \n99995       9254.0    4.0  1.0               8.119522                4.0   \n99996       9254.0    5.0  1.0               8.119522                4.0   \n\n       Num_Credit_Card  Interest_Rate  Num_of_Loan  Delay_from_due_date  \\\n0                  4.0            3.0          0.0                  3.0   \n1                  4.0            3.0          0.0                  3.0   \n2                  4.0            3.0          0.0                  3.0   \n3                  4.0            3.0          0.0                  5.0   \n4                  4.0            3.0          0.0                  6.0   \n...                ...            ...          ...                  ...   \n99992              6.0            7.0          0.0                 23.0   \n99993              6.0            7.0          0.0                 23.0   \n99994              6.0            7.0          0.0                 20.0   \n99995              6.0            7.0          0.0                 23.0   \n99996              6.0            7.0          0.0                 18.0   \n\n       Num_of_Delayed_Payment  ...  Credit_Mix  Outstanding_Debt  \\\n0                         7.0  ...         2.0         28.460148   \n1                         4.0  ...         2.0         28.460148   \n2                         7.0  ...         2.0         28.460148   \n3                         4.0  ...         2.0         28.460148   \n4                         4.0  ...         2.0         28.460148   \n...                       ...  ...         ...               ...   \n99992                     6.0  ...         2.0         22.413835   \n99993                     6.0  ...         2.0         22.413835   \n99994                     6.0  ...         2.0         22.413835   \n99995                     7.0  ...         2.0         22.413835   \n99996                     7.0  ...         2.0         22.413835   \n\n       Credit_Utilization_Ratio  Credit_History_Age  Payment_of_Min_Amount  \\\n0                     26.822620                 1.0                    1.0   \n1                     31.944960                 1.0                    1.0   \n2                     28.609352                 1.0                    1.0   \n3                     31.377862                 1.0                    1.0   \n4                     24.797347                 1.0                    1.0   \n...                         ...                 ...                    ...   \n99992                 32.991333                 1.0                    1.0   \n99993                 29.135447                 1.0                    1.0   \n99994                 39.323569                 1.0                    1.0   \n99995                 34.663572                 1.0                    1.0   \n99996                 40.565631                 1.0                    1.0   \n\n       Total_EMI_per_month  Amount_invested_monthly  Payment_Behaviour  \\\n0                49.574949                21.465380                2.0   \n1                49.574949                21.465380                3.0   \n2                49.574949                21.465380                4.0   \n3                49.574949                21.465380                5.0   \n4                49.574949                21.465380                1.0   \n...                    ...                      ...                ...   \n99992            35.104023                24.028477                5.0   \n99993            35.104023                24.028477                4.0   \n99994            35.104023                24.028477                1.0   \n99995            35.104023                24.028477                0.0   \n99996            35.104023                24.028477                1.0   \n\n       Monthly_Balance  Credit_Score  \n0           312.494089             2  \n1           284.629162             2  \n2           331.209863             2  \n3           223.451310             2  \n4           341.489231             2  \n...                ...           ...  \n99992       189.641080             0  \n99993       400.104466             1  \n99994       410.256158             0  \n99995       479.866228             0  \n99996       496.651610             0  \n\n[62500 rows x 22 columns]",
      "text/html": "<div>\n<style scoped>\n    .dataframe tbody tr th:only-of-type {\n        vertical-align: middle;\n    }\n\n    .dataframe tbody tr th {\n        vertical-align: top;\n    }\n\n    .dataframe thead th {\n        text-align: right;\n    }\n</style>\n<table border=\"1\" class=\"dataframe\">\n  <thead>\n    <tr style=\"text-align: right;\">\n      <th></th>\n      <th>Customer_ID</th>\n      <th>Month</th>\n      <th>Age</th>\n      <th>Monthly_Inhand_Salary</th>\n      <th>Num_Bank_Accounts</th>\n      <th>Num_Credit_Card</th>\n      <th>Interest_Rate</th>\n      <th>Num_of_Loan</th>\n      <th>Delay_from_due_date</th>\n      <th>Num_of_Delayed_Payment</th>\n      <th>...</th>\n      <th>Credit_Mix</th>\n      <th>Outstanding_Debt</th>\n      <th>Credit_Utilization_Ratio</th>\n      <th>Credit_History_Age</th>\n      <th>Payment_of_Min_Amount</th>\n      <th>Total_EMI_per_month</th>\n      <th>Amount_invested_monthly</th>\n      <th>Payment_Behaviour</th>\n      <th>Monthly_Balance</th>\n      <th>Credit_Score</th>\n    </tr>\n  </thead>\n  <tbody>\n    <tr>\n      <th>0</th>\n      <td>576.0</td>\n      <td>1.0</td>\n      <td>1.0</td>\n      <td>7.509249</td>\n      <td>3.0</td>\n      <td>4.0</td>\n      <td>3.0</td>\n      <td>0.0</td>\n      <td>3.0</td>\n      <td>7.0</td>\n      <td>...</td>\n      <td>2.0</td>\n      <td>28.460148</td>\n      <td>26.822620</td>\n      <td>1.0</td>\n      <td>1.0</td>\n      <td>49.574949</td>\n      <td>21.465380</td>\n      <td>2.0</td>\n      <td>312.494089</td>\n      <td>2</td>\n    </tr>\n    <tr>\n      <th>1</th>\n      <td>576.0</td>\n      <td>2.0</td>\n      <td>1.0</td>\n      <td>7.509249</td>\n      <td>3.0</td>\n      <td>4.0</td>\n      <td>3.0</td>\n      <td>0.0</td>\n      <td>3.0</td>\n      <td>4.0</td>\n      <td>...</td>\n      <td>2.0</td>\n      <td>28.460148</td>\n      <td>31.944960</td>\n      <td>1.0</td>\n      <td>1.0</td>\n      <td>49.574949</td>\n      <td>21.465380</td>\n      <td>3.0</td>\n      <td>284.629162</td>\n      <td>2</td>\n    </tr>\n    <tr>\n      <th>2</th>\n      <td>576.0</td>\n      <td>3.0</td>\n      <td>1.0</td>\n      <td>7.509249</td>\n      <td>3.0</td>\n      <td>4.0</td>\n      <td>3.0</td>\n      <td>0.0</td>\n      <td>3.0</td>\n      <td>7.0</td>\n      <td>...</td>\n      <td>2.0</td>\n      <td>28.460148</td>\n      <td>28.609352</td>\n      <td>1.0</td>\n      <td>1.0</td>\n      <td>49.574949</td>\n      <td>21.465380</td>\n      <td>4.0</td>\n      <td>331.209863</td>\n      <td>2</td>\n    </tr>\n    <tr>\n      <th>3</th>\n      <td>576.0</td>\n      <td>4.0</td>\n      <td>1.0</td>\n      <td>7.509249</td>\n      <td>3.0</td>\n      <td>4.0</td>\n      <td>3.0</td>\n      <td>0.0</td>\n      <td>5.0</td>\n      <td>4.0</td>\n      <td>...</td>\n      <td>2.0</td>\n      <td>28.460148</td>\n      <td>31.377862</td>\n      <td>1.0</td>\n      <td>1.0</td>\n      <td>49.574949</td>\n      <td>21.465380</td>\n      <td>5.0</td>\n      <td>223.451310</td>\n      <td>2</td>\n    </tr>\n    <tr>\n      <th>4</th>\n      <td>576.0</td>\n      <td>5.0</td>\n      <td>1.0</td>\n      <td>7.509249</td>\n      <td>3.0</td>\n      <td>4.0</td>\n      <td>3.0</td>\n      <td>0.0</td>\n      <td>6.0</td>\n      <td>4.0</td>\n      <td>...</td>\n      <td>2.0</td>\n      <td>28.460148</td>\n      <td>24.797347</td>\n      <td>1.0</td>\n      <td>1.0</td>\n      <td>49.574949</td>\n      <td>21.465380</td>\n      <td>1.0</td>\n      <td>341.489231</td>\n      <td>2</td>\n    </tr>\n    <tr>\n      <th>...</th>\n      <td>...</td>\n      <td>...</td>\n      <td>...</td>\n      <td>...</td>\n      <td>...</td>\n      <td>...</td>\n      <td>...</td>\n      <td>...</td>\n      <td>...</td>\n      <td>...</td>\n      <td>...</td>\n      <td>...</td>\n      <td>...</td>\n      <td>...</td>\n      <td>...</td>\n      <td>...</td>\n      <td>...</td>\n      <td>...</td>\n      <td>...</td>\n      <td>...</td>\n      <td>...</td>\n    </tr>\n    <tr>\n      <th>99992</th>\n      <td>9254.0</td>\n      <td>1.0</td>\n      <td>1.0</td>\n      <td>8.119522</td>\n      <td>4.0</td>\n      <td>6.0</td>\n      <td>7.0</td>\n      <td>0.0</td>\n      <td>23.0</td>\n      <td>6.0</td>\n      <td>...</td>\n      <td>2.0</td>\n      <td>22.413835</td>\n      <td>32.991333</td>\n      <td>1.0</td>\n      <td>1.0</td>\n      <td>35.104023</td>\n      <td>24.028477</td>\n      <td>5.0</td>\n      <td>189.641080</td>\n      <td>0</td>\n    </tr>\n    <tr>\n      <th>99993</th>\n      <td>9254.0</td>\n      <td>2.0</td>\n      <td>1.0</td>\n      <td>8.119522</td>\n      <td>4.0</td>\n      <td>6.0</td>\n      <td>7.0</td>\n      <td>0.0</td>\n      <td>23.0</td>\n      <td>6.0</td>\n      <td>...</td>\n      <td>2.0</td>\n      <td>22.413835</td>\n      <td>29.135447</td>\n      <td>1.0</td>\n      <td>1.0</td>\n      <td>35.104023</td>\n      <td>24.028477</td>\n      <td>4.0</td>\n      <td>400.104466</td>\n      <td>1</td>\n    </tr>\n    <tr>\n      <th>99994</th>\n      <td>9254.0</td>\n      <td>3.0</td>\n      <td>1.0</td>\n      <td>8.119522</td>\n      <td>4.0</td>\n      <td>6.0</td>\n      <td>7.0</td>\n      <td>0.0</td>\n      <td>20.0</td>\n      <td>6.0</td>\n      <td>...</td>\n      <td>2.0</td>\n      <td>22.413835</td>\n      <td>39.323569</td>\n      <td>1.0</td>\n      <td>1.0</td>\n      <td>35.104023</td>\n      <td>24.028477</td>\n      <td>1.0</td>\n      <td>410.256158</td>\n      <td>0</td>\n    </tr>\n    <tr>\n      <th>99995</th>\n      <td>9254.0</td>\n      <td>4.0</td>\n      <td>1.0</td>\n      <td>8.119522</td>\n      <td>4.0</td>\n      <td>6.0</td>\n      <td>7.0</td>\n      <td>0.0</td>\n      <td>23.0</td>\n      <td>7.0</td>\n      <td>...</td>\n      <td>2.0</td>\n      <td>22.413835</td>\n      <td>34.663572</td>\n      <td>1.0</td>\n      <td>1.0</td>\n      <td>35.104023</td>\n      <td>24.028477</td>\n      <td>0.0</td>\n      <td>479.866228</td>\n      <td>0</td>\n    </tr>\n    <tr>\n      <th>99996</th>\n      <td>9254.0</td>\n      <td>5.0</td>\n      <td>1.0</td>\n      <td>8.119522</td>\n      <td>4.0</td>\n      <td>6.0</td>\n      <td>7.0</td>\n      <td>0.0</td>\n      <td>18.0</td>\n      <td>7.0</td>\n      <td>...</td>\n      <td>2.0</td>\n      <td>22.413835</td>\n      <td>40.565631</td>\n      <td>1.0</td>\n      <td>1.0</td>\n      <td>35.104023</td>\n      <td>24.028477</td>\n      <td>1.0</td>\n      <td>496.651610</td>\n      <td>0</td>\n    </tr>\n  </tbody>\n</table>\n<p>62500 rows × 22 columns</p>\n</div>"
     },
     "execution_count": 40,
     "metadata": {},
     "output_type": "execute_result"
    }
   ],
   "source": [
    "train_df"
   ],
   "metadata": {
    "collapsed": false
   }
  },
  {
   "cell_type": "code",
   "execution_count": 41,
   "outputs": [
    {
     "name": "stdout",
     "output_type": "stream",
     "text": [
      "(62500, 21)\n",
      "(62500,)\n",
      "(12500, 21)\n",
      "(12500,)\n",
      "(25000, 21)\n",
      "(25000,)\n"
     ]
    }
   ],
   "source": [
    "X_train, y_train = train_df.iloc[:, :-1], train_df.iloc[:, -1]\n",
    "X_val, y_val = val_df.iloc[:, :-1], val_df.iloc[:, -1]\n",
    "X_test, y_test = test_df.iloc[:, :-1], test_df.iloc[:, -1]\n",
    "\n",
    "print(X_train.shape)\n",
    "print(y_train.shape)\n",
    "\n",
    "print(X_val.shape)\n",
    "print(y_val.shape)\n",
    "\n",
    "print(X_test.shape)\n",
    "print(y_test.shape)"
   ],
   "metadata": {
    "collapsed": false
   }
  },
  {
   "cell_type": "code",
   "execution_count": 42,
   "outputs": [
    {
     "data": {
      "text/plain": "       Customer_ID  Month  Age  Monthly_Inhand_Salary  Num_Bank_Accounts  \\\n0            576.0    1.0  1.0               7.509249                3.0   \n1            576.0    2.0  1.0               7.509249                3.0   \n2            576.0    3.0  1.0               7.509249                3.0   \n3            576.0    4.0  1.0               7.509249                3.0   \n4            576.0    5.0  1.0               7.509249                3.0   \n...            ...    ...  ...                    ...                ...   \n99992       9254.0    1.0  1.0               8.119522                4.0   \n99993       9254.0    2.0  1.0               8.119522                4.0   \n99994       9254.0    3.0  1.0               8.119522                4.0   \n99995       9254.0    4.0  1.0               8.119522                4.0   \n99996       9254.0    5.0  1.0               8.119522                4.0   \n\n       Num_Credit_Card  Interest_Rate  Num_of_Loan  Delay_from_due_date  \\\n0                  4.0            3.0          0.0                  3.0   \n1                  4.0            3.0          0.0                  3.0   \n2                  4.0            3.0          0.0                  3.0   \n3                  4.0            3.0          0.0                  5.0   \n4                  4.0            3.0          0.0                  6.0   \n...                ...            ...          ...                  ...   \n99992              6.0            7.0          0.0                 23.0   \n99993              6.0            7.0          0.0                 23.0   \n99994              6.0            7.0          0.0                 20.0   \n99995              6.0            7.0          0.0                 23.0   \n99996              6.0            7.0          0.0                 18.0   \n\n       Num_of_Delayed_Payment  ...  Num_Credit_Inquiries  Credit_Mix  \\\n0                         7.0  ...                   4.0         2.0   \n1                         4.0  ...                   4.0         2.0   \n2                         7.0  ...                   4.0         2.0   \n3                         4.0  ...                   4.0         2.0   \n4                         4.0  ...                   4.0         2.0   \n...                       ...  ...                   ...         ...   \n99992                     6.0  ...                   3.0         2.0   \n99993                     6.0  ...                   3.0         2.0   \n99994                     6.0  ...                   3.0         2.0   \n99995                     7.0  ...                   3.0         2.0   \n99996                     7.0  ...                   3.0         2.0   \n\n       Outstanding_Debt  Credit_Utilization_Ratio  Credit_History_Age  \\\n0             28.460148                 26.822620                 1.0   \n1             28.460148                 31.944960                 1.0   \n2             28.460148                 28.609352                 1.0   \n3             28.460148                 31.377862                 1.0   \n4             28.460148                 24.797347                 1.0   \n...                 ...                       ...                 ...   \n99992         22.413835                 32.991333                 1.0   \n99993         22.413835                 29.135447                 1.0   \n99994         22.413835                 39.323569                 1.0   \n99995         22.413835                 34.663572                 1.0   \n99996         22.413835                 40.565631                 1.0   \n\n       Payment_of_Min_Amount  Total_EMI_per_month  Amount_invested_monthly  \\\n0                        1.0            49.574949                21.465380   \n1                        1.0            49.574949                21.465380   \n2                        1.0            49.574949                21.465380   \n3                        1.0            49.574949                21.465380   \n4                        1.0            49.574949                21.465380   \n...                      ...                  ...                      ...   \n99992                    1.0            35.104023                24.028477   \n99993                    1.0            35.104023                24.028477   \n99994                    1.0            35.104023                24.028477   \n99995                    1.0            35.104023                24.028477   \n99996                    1.0            35.104023                24.028477   \n\n       Payment_Behaviour  Monthly_Balance  \n0                    2.0       312.494089  \n1                    3.0       284.629162  \n2                    4.0       331.209863  \n3                    5.0       223.451310  \n4                    1.0       341.489231  \n...                  ...              ...  \n99992                5.0       189.641080  \n99993                4.0       400.104466  \n99994                1.0       410.256158  \n99995                0.0       479.866228  \n99996                1.0       496.651610  \n\n[62500 rows x 21 columns]",
      "text/html": "<div>\n<style scoped>\n    .dataframe tbody tr th:only-of-type {\n        vertical-align: middle;\n    }\n\n    .dataframe tbody tr th {\n        vertical-align: top;\n    }\n\n    .dataframe thead th {\n        text-align: right;\n    }\n</style>\n<table border=\"1\" class=\"dataframe\">\n  <thead>\n    <tr style=\"text-align: right;\">\n      <th></th>\n      <th>Customer_ID</th>\n      <th>Month</th>\n      <th>Age</th>\n      <th>Monthly_Inhand_Salary</th>\n      <th>Num_Bank_Accounts</th>\n      <th>Num_Credit_Card</th>\n      <th>Interest_Rate</th>\n      <th>Num_of_Loan</th>\n      <th>Delay_from_due_date</th>\n      <th>Num_of_Delayed_Payment</th>\n      <th>...</th>\n      <th>Num_Credit_Inquiries</th>\n      <th>Credit_Mix</th>\n      <th>Outstanding_Debt</th>\n      <th>Credit_Utilization_Ratio</th>\n      <th>Credit_History_Age</th>\n      <th>Payment_of_Min_Amount</th>\n      <th>Total_EMI_per_month</th>\n      <th>Amount_invested_monthly</th>\n      <th>Payment_Behaviour</th>\n      <th>Monthly_Balance</th>\n    </tr>\n  </thead>\n  <tbody>\n    <tr>\n      <th>0</th>\n      <td>576.0</td>\n      <td>1.0</td>\n      <td>1.0</td>\n      <td>7.509249</td>\n      <td>3.0</td>\n      <td>4.0</td>\n      <td>3.0</td>\n      <td>0.0</td>\n      <td>3.0</td>\n      <td>7.0</td>\n      <td>...</td>\n      <td>4.0</td>\n      <td>2.0</td>\n      <td>28.460148</td>\n      <td>26.822620</td>\n      <td>1.0</td>\n      <td>1.0</td>\n      <td>49.574949</td>\n      <td>21.465380</td>\n      <td>2.0</td>\n      <td>312.494089</td>\n    </tr>\n    <tr>\n      <th>1</th>\n      <td>576.0</td>\n      <td>2.0</td>\n      <td>1.0</td>\n      <td>7.509249</td>\n      <td>3.0</td>\n      <td>4.0</td>\n      <td>3.0</td>\n      <td>0.0</td>\n      <td>3.0</td>\n      <td>4.0</td>\n      <td>...</td>\n      <td>4.0</td>\n      <td>2.0</td>\n      <td>28.460148</td>\n      <td>31.944960</td>\n      <td>1.0</td>\n      <td>1.0</td>\n      <td>49.574949</td>\n      <td>21.465380</td>\n      <td>3.0</td>\n      <td>284.629162</td>\n    </tr>\n    <tr>\n      <th>2</th>\n      <td>576.0</td>\n      <td>3.0</td>\n      <td>1.0</td>\n      <td>7.509249</td>\n      <td>3.0</td>\n      <td>4.0</td>\n      <td>3.0</td>\n      <td>0.0</td>\n      <td>3.0</td>\n      <td>7.0</td>\n      <td>...</td>\n      <td>4.0</td>\n      <td>2.0</td>\n      <td>28.460148</td>\n      <td>28.609352</td>\n      <td>1.0</td>\n      <td>1.0</td>\n      <td>49.574949</td>\n      <td>21.465380</td>\n      <td>4.0</td>\n      <td>331.209863</td>\n    </tr>\n    <tr>\n      <th>3</th>\n      <td>576.0</td>\n      <td>4.0</td>\n      <td>1.0</td>\n      <td>7.509249</td>\n      <td>3.0</td>\n      <td>4.0</td>\n      <td>3.0</td>\n      <td>0.0</td>\n      <td>5.0</td>\n      <td>4.0</td>\n      <td>...</td>\n      <td>4.0</td>\n      <td>2.0</td>\n      <td>28.460148</td>\n      <td>31.377862</td>\n      <td>1.0</td>\n      <td>1.0</td>\n      <td>49.574949</td>\n      <td>21.465380</td>\n      <td>5.0</td>\n      <td>223.451310</td>\n    </tr>\n    <tr>\n      <th>4</th>\n      <td>576.0</td>\n      <td>5.0</td>\n      <td>1.0</td>\n      <td>7.509249</td>\n      <td>3.0</td>\n      <td>4.0</td>\n      <td>3.0</td>\n      <td>0.0</td>\n      <td>6.0</td>\n      <td>4.0</td>\n      <td>...</td>\n      <td>4.0</td>\n      <td>2.0</td>\n      <td>28.460148</td>\n      <td>24.797347</td>\n      <td>1.0</td>\n      <td>1.0</td>\n      <td>49.574949</td>\n      <td>21.465380</td>\n      <td>1.0</td>\n      <td>341.489231</td>\n    </tr>\n    <tr>\n      <th>...</th>\n      <td>...</td>\n      <td>...</td>\n      <td>...</td>\n      <td>...</td>\n      <td>...</td>\n      <td>...</td>\n      <td>...</td>\n      <td>...</td>\n      <td>...</td>\n      <td>...</td>\n      <td>...</td>\n      <td>...</td>\n      <td>...</td>\n      <td>...</td>\n      <td>...</td>\n      <td>...</td>\n      <td>...</td>\n      <td>...</td>\n      <td>...</td>\n      <td>...</td>\n      <td>...</td>\n    </tr>\n    <tr>\n      <th>99992</th>\n      <td>9254.0</td>\n      <td>1.0</td>\n      <td>1.0</td>\n      <td>8.119522</td>\n      <td>4.0</td>\n      <td>6.0</td>\n      <td>7.0</td>\n      <td>0.0</td>\n      <td>23.0</td>\n      <td>6.0</td>\n      <td>...</td>\n      <td>3.0</td>\n      <td>2.0</td>\n      <td>22.413835</td>\n      <td>32.991333</td>\n      <td>1.0</td>\n      <td>1.0</td>\n      <td>35.104023</td>\n      <td>24.028477</td>\n      <td>5.0</td>\n      <td>189.641080</td>\n    </tr>\n    <tr>\n      <th>99993</th>\n      <td>9254.0</td>\n      <td>2.0</td>\n      <td>1.0</td>\n      <td>8.119522</td>\n      <td>4.0</td>\n      <td>6.0</td>\n      <td>7.0</td>\n      <td>0.0</td>\n      <td>23.0</td>\n      <td>6.0</td>\n      <td>...</td>\n      <td>3.0</td>\n      <td>2.0</td>\n      <td>22.413835</td>\n      <td>29.135447</td>\n      <td>1.0</td>\n      <td>1.0</td>\n      <td>35.104023</td>\n      <td>24.028477</td>\n      <td>4.0</td>\n      <td>400.104466</td>\n    </tr>\n    <tr>\n      <th>99994</th>\n      <td>9254.0</td>\n      <td>3.0</td>\n      <td>1.0</td>\n      <td>8.119522</td>\n      <td>4.0</td>\n      <td>6.0</td>\n      <td>7.0</td>\n      <td>0.0</td>\n      <td>20.0</td>\n      <td>6.0</td>\n      <td>...</td>\n      <td>3.0</td>\n      <td>2.0</td>\n      <td>22.413835</td>\n      <td>39.323569</td>\n      <td>1.0</td>\n      <td>1.0</td>\n      <td>35.104023</td>\n      <td>24.028477</td>\n      <td>1.0</td>\n      <td>410.256158</td>\n    </tr>\n    <tr>\n      <th>99995</th>\n      <td>9254.0</td>\n      <td>4.0</td>\n      <td>1.0</td>\n      <td>8.119522</td>\n      <td>4.0</td>\n      <td>6.0</td>\n      <td>7.0</td>\n      <td>0.0</td>\n      <td>23.0</td>\n      <td>7.0</td>\n      <td>...</td>\n      <td>3.0</td>\n      <td>2.0</td>\n      <td>22.413835</td>\n      <td>34.663572</td>\n      <td>1.0</td>\n      <td>1.0</td>\n      <td>35.104023</td>\n      <td>24.028477</td>\n      <td>0.0</td>\n      <td>479.866228</td>\n    </tr>\n    <tr>\n      <th>99996</th>\n      <td>9254.0</td>\n      <td>5.0</td>\n      <td>1.0</td>\n      <td>8.119522</td>\n      <td>4.0</td>\n      <td>6.0</td>\n      <td>7.0</td>\n      <td>0.0</td>\n      <td>18.0</td>\n      <td>7.0</td>\n      <td>...</td>\n      <td>3.0</td>\n      <td>2.0</td>\n      <td>22.413835</td>\n      <td>40.565631</td>\n      <td>1.0</td>\n      <td>1.0</td>\n      <td>35.104023</td>\n      <td>24.028477</td>\n      <td>1.0</td>\n      <td>496.651610</td>\n    </tr>\n  </tbody>\n</table>\n<p>62500 rows × 21 columns</p>\n</div>"
     },
     "execution_count": 42,
     "metadata": {},
     "output_type": "execute_result"
    }
   ],
   "source": [
    "X_train"
   ],
   "metadata": {
    "collapsed": false
   }
  },
  {
   "cell_type": "code",
   "execution_count": 44,
   "outputs": [
    {
     "data": {
      "text/plain": "       Customer_ID  Month  Age  Monthly_Inhand_Salary  Num_Bank_Accounts  \\\n5            576.0    6.0  1.0               7.509249                3.0   \n13          1822.0    6.0  1.0               8.018950                2.0   \n21          2641.0    6.0  1.0               9.408143                1.0   \n29         11587.0    6.0  2.0               7.868059                2.0   \n37          1533.0    6.0  1.0               7.956235                7.0   \n...            ...    ...  ...                    ...                ...   \n99965       3229.0    6.0  0.0               8.151424                0.0   \n99973        696.0    6.0  1.0               7.331734                1.0   \n99981      10985.0    6.0  2.0               8.038192                1.0   \n99989       8346.0    6.0  1.0               7.565227               10.0   \n99997       9254.0    6.0  1.0               8.119522                4.0   \n\n       Num_Credit_Card  Interest_Rate  Num_of_Loan  Delay_from_due_date  \\\n5                  4.0            3.0          0.0                  8.0   \n13                 4.0            6.0          0.0                  3.0   \n21                 5.0            8.0          0.0                  8.0   \n29                 5.0            4.0          0.0                  5.0   \n37                 5.0            5.0          0.0                  5.0   \n...                ...            ...          ...                  ...   \n99965              4.0            6.0          0.0                 14.0   \n99973              1.0            5.0          0.0                  1.0   \n99981              4.0            5.0          0.0                  5.0   \n99989              8.0           29.0          1.0                 33.0   \n99997              6.0            7.0          0.0                 27.0   \n\n       Num_of_Delayed_Payment  ...  Credit_Mix  Outstanding_Debt  \\\n5                         4.0  ...         2.0         28.460148   \n13                        0.0  ...         2.0         24.597358   \n21                        6.0  ...         2.0         36.097230   \n29                        6.0  ...         2.0         25.148757   \n37                       15.0  ...         1.0         30.722305   \n...                       ...  ...         ...               ...   \n99965                     0.0  ...         2.0         32.855441   \n99973                     0.0  ...         2.0         29.952629   \n99981                    12.0  ...         2.0         24.912647   \n99989                    25.0  ...         0.0         59.763701   \n99997                     6.0  ...         2.0         22.413835   \n\n       Credit_Utilization_Ratio  Credit_History_Age  Payment_of_Min_Amount  \\\n5                     27.262259                 1.0                    1.0   \n13                    33.381010                 1.0                    1.0   \n21                    39.783993                 1.0                    1.0   \n29                    27.445422                 1.0                    1.0   \n37                    29.217556                 1.0                    2.0   \n...                         ...                 ...                    ...   \n99965                 35.549456                 1.0                    1.0   \n99973                 24.972853                 1.0                    1.0   \n99981                 37.753013                 1.0                    0.0   \n99989                 33.359987                 0.0                    2.0   \n99997                 41.255522                 1.0                    1.0   \n\n       Total_EMI_per_month  Amount_invested_monthly  Payment_Behaviour  \\\n5                49.574949                21.465380                1.0   \n13               18.816215                39.684018                0.0   \n21              246.992319               168.413703                1.0   \n29               16.415452                29.393311                2.0   \n37                0.000000                37.643638                1.0   \n...                    ...                      ...                ...   \n99965            34.975457                31.193919                3.0   \n99973            41.113561                40.893052                5.0   \n99981            84.205949                42.935566                5.0   \n99989            60.964772                34.662906                5.0   \n99997            35.104023                24.028477                0.0   \n\n       Monthly_Balance  Credit_Score  \n5           340.479212             2  \n13          481.505262             2  \n21          963.921581             2  \n29          419.880784             1  \n37          497.687279             1  \n...                ...           ...  \n99965       394.500158             2  \n99973       233.301539             2  \n99981       368.154976             2  \n99989       307.659291             1  \n99997       516.809083             0  \n\n[12500 rows x 22 columns]",
      "text/html": "<div>\n<style scoped>\n    .dataframe tbody tr th:only-of-type {\n        vertical-align: middle;\n    }\n\n    .dataframe tbody tr th {\n        vertical-align: top;\n    }\n\n    .dataframe thead th {\n        text-align: right;\n    }\n</style>\n<table border=\"1\" class=\"dataframe\">\n  <thead>\n    <tr style=\"text-align: right;\">\n      <th></th>\n      <th>Customer_ID</th>\n      <th>Month</th>\n      <th>Age</th>\n      <th>Monthly_Inhand_Salary</th>\n      <th>Num_Bank_Accounts</th>\n      <th>Num_Credit_Card</th>\n      <th>Interest_Rate</th>\n      <th>Num_of_Loan</th>\n      <th>Delay_from_due_date</th>\n      <th>Num_of_Delayed_Payment</th>\n      <th>...</th>\n      <th>Credit_Mix</th>\n      <th>Outstanding_Debt</th>\n      <th>Credit_Utilization_Ratio</th>\n      <th>Credit_History_Age</th>\n      <th>Payment_of_Min_Amount</th>\n      <th>Total_EMI_per_month</th>\n      <th>Amount_invested_monthly</th>\n      <th>Payment_Behaviour</th>\n      <th>Monthly_Balance</th>\n      <th>Credit_Score</th>\n    </tr>\n  </thead>\n  <tbody>\n    <tr>\n      <th>5</th>\n      <td>576.0</td>\n      <td>6.0</td>\n      <td>1.0</td>\n      <td>7.509249</td>\n      <td>3.0</td>\n      <td>4.0</td>\n      <td>3.0</td>\n      <td>0.0</td>\n      <td>8.0</td>\n      <td>4.0</td>\n      <td>...</td>\n      <td>2.0</td>\n      <td>28.460148</td>\n      <td>27.262259</td>\n      <td>1.0</td>\n      <td>1.0</td>\n      <td>49.574949</td>\n      <td>21.465380</td>\n      <td>1.0</td>\n      <td>340.479212</td>\n      <td>2</td>\n    </tr>\n    <tr>\n      <th>13</th>\n      <td>1822.0</td>\n      <td>6.0</td>\n      <td>1.0</td>\n      <td>8.018950</td>\n      <td>2.0</td>\n      <td>4.0</td>\n      <td>6.0</td>\n      <td>0.0</td>\n      <td>3.0</td>\n      <td>0.0</td>\n      <td>...</td>\n      <td>2.0</td>\n      <td>24.597358</td>\n      <td>33.381010</td>\n      <td>1.0</td>\n      <td>1.0</td>\n      <td>18.816215</td>\n      <td>39.684018</td>\n      <td>0.0</td>\n      <td>481.505262</td>\n      <td>2</td>\n    </tr>\n    <tr>\n      <th>21</th>\n      <td>2641.0</td>\n      <td>6.0</td>\n      <td>1.0</td>\n      <td>9.408143</td>\n      <td>1.0</td>\n      <td>5.0</td>\n      <td>8.0</td>\n      <td>0.0</td>\n      <td>8.0</td>\n      <td>6.0</td>\n      <td>...</td>\n      <td>2.0</td>\n      <td>36.097230</td>\n      <td>39.783993</td>\n      <td>1.0</td>\n      <td>1.0</td>\n      <td>246.992319</td>\n      <td>168.413703</td>\n      <td>1.0</td>\n      <td>963.921581</td>\n      <td>2</td>\n    </tr>\n    <tr>\n      <th>29</th>\n      <td>11587.0</td>\n      <td>6.0</td>\n      <td>2.0</td>\n      <td>7.868059</td>\n      <td>2.0</td>\n      <td>5.0</td>\n      <td>4.0</td>\n      <td>0.0</td>\n      <td>5.0</td>\n      <td>6.0</td>\n      <td>...</td>\n      <td>2.0</td>\n      <td>25.148757</td>\n      <td>27.445422</td>\n      <td>1.0</td>\n      <td>1.0</td>\n      <td>16.415452</td>\n      <td>29.393311</td>\n      <td>2.0</td>\n      <td>419.880784</td>\n      <td>1</td>\n    </tr>\n    <tr>\n      <th>37</th>\n      <td>1533.0</td>\n      <td>6.0</td>\n      <td>1.0</td>\n      <td>7.956235</td>\n      <td>7.0</td>\n      <td>5.0</td>\n      <td>5.0</td>\n      <td>0.0</td>\n      <td>5.0</td>\n      <td>15.0</td>\n      <td>...</td>\n      <td>1.0</td>\n      <td>30.722305</td>\n      <td>29.217556</td>\n      <td>1.0</td>\n      <td>2.0</td>\n      <td>0.000000</td>\n      <td>37.643638</td>\n      <td>1.0</td>\n      <td>497.687279</td>\n      <td>1</td>\n    </tr>\n    <tr>\n      <th>...</th>\n      <td>...</td>\n      <td>...</td>\n      <td>...</td>\n      <td>...</td>\n      <td>...</td>\n      <td>...</td>\n      <td>...</td>\n      <td>...</td>\n      <td>...</td>\n      <td>...</td>\n      <td>...</td>\n      <td>...</td>\n      <td>...</td>\n      <td>...</td>\n      <td>...</td>\n      <td>...</td>\n      <td>...</td>\n      <td>...</td>\n      <td>...</td>\n      <td>...</td>\n      <td>...</td>\n    </tr>\n    <tr>\n      <th>99965</th>\n      <td>3229.0</td>\n      <td>6.0</td>\n      <td>0.0</td>\n      <td>8.151424</td>\n      <td>0.0</td>\n      <td>4.0</td>\n      <td>6.0</td>\n      <td>0.0</td>\n      <td>14.0</td>\n      <td>0.0</td>\n      <td>...</td>\n      <td>2.0</td>\n      <td>32.855441</td>\n      <td>35.549456</td>\n      <td>1.0</td>\n      <td>1.0</td>\n      <td>34.975457</td>\n      <td>31.193919</td>\n      <td>3.0</td>\n      <td>394.500158</td>\n      <td>2</td>\n    </tr>\n    <tr>\n      <th>99973</th>\n      <td>696.0</td>\n      <td>6.0</td>\n      <td>1.0</td>\n      <td>7.331734</td>\n      <td>1.0</td>\n      <td>1.0</td>\n      <td>5.0</td>\n      <td>0.0</td>\n      <td>1.0</td>\n      <td>0.0</td>\n      <td>...</td>\n      <td>2.0</td>\n      <td>29.952629</td>\n      <td>24.972853</td>\n      <td>1.0</td>\n      <td>1.0</td>\n      <td>41.113561</td>\n      <td>40.893052</td>\n      <td>5.0</td>\n      <td>233.301539</td>\n      <td>2</td>\n    </tr>\n    <tr>\n      <th>99981</th>\n      <td>10985.0</td>\n      <td>6.0</td>\n      <td>2.0</td>\n      <td>8.038192</td>\n      <td>1.0</td>\n      <td>4.0</td>\n      <td>5.0</td>\n      <td>0.0</td>\n      <td>5.0</td>\n      <td>12.0</td>\n      <td>...</td>\n      <td>2.0</td>\n      <td>24.912647</td>\n      <td>37.753013</td>\n      <td>1.0</td>\n      <td>0.0</td>\n      <td>84.205949</td>\n      <td>42.935566</td>\n      <td>5.0</td>\n      <td>368.154976</td>\n      <td>2</td>\n    </tr>\n    <tr>\n      <th>99989</th>\n      <td>8346.0</td>\n      <td>6.0</td>\n      <td>1.0</td>\n      <td>7.565227</td>\n      <td>10.0</td>\n      <td>8.0</td>\n      <td>29.0</td>\n      <td>1.0</td>\n      <td>33.0</td>\n      <td>25.0</td>\n      <td>...</td>\n      <td>0.0</td>\n      <td>59.763701</td>\n      <td>33.359987</td>\n      <td>0.0</td>\n      <td>2.0</td>\n      <td>60.964772</td>\n      <td>34.662906</td>\n      <td>5.0</td>\n      <td>307.659291</td>\n      <td>1</td>\n    </tr>\n    <tr>\n      <th>99997</th>\n      <td>9254.0</td>\n      <td>6.0</td>\n      <td>1.0</td>\n      <td>8.119522</td>\n      <td>4.0</td>\n      <td>6.0</td>\n      <td>7.0</td>\n      <td>0.0</td>\n      <td>27.0</td>\n      <td>6.0</td>\n      <td>...</td>\n      <td>2.0</td>\n      <td>22.413835</td>\n      <td>41.255522</td>\n      <td>1.0</td>\n      <td>1.0</td>\n      <td>35.104023</td>\n      <td>24.028477</td>\n      <td>0.0</td>\n      <td>516.809083</td>\n      <td>0</td>\n    </tr>\n  </tbody>\n</table>\n<p>12500 rows × 22 columns</p>\n</div>"
     },
     "execution_count": 44,
     "metadata": {},
     "output_type": "execute_result"
    }
   ],
   "source": [
    "val_df"
   ],
   "metadata": {
    "collapsed": false
   }
  },
  {
   "cell_type": "code",
   "execution_count": 45,
   "outputs": [
    {
     "name": "stderr",
     "output_type": "stream",
     "text": [
      "/var/folders/rm/1g600byx25b_ht2r9ty6b4_00000gn/T/ipykernel_83207/1095217032.py:13: SettingWithCopyWarning: \n",
      "A value is trying to be set on a copy of a slice from a DataFrame.\n",
      "Try using .loc[row_indexer,col_indexer] = value instead\n",
      "\n",
      "See the caveats in the documentation: https://pandas.pydata.org/pandas-docs/stable/user_guide/indexing.html#returning-a-view-versus-a-copy\n",
      "  train_df[scaling_cols] = rs_train_df\n",
      "/var/folders/rm/1g600byx25b_ht2r9ty6b4_00000gn/T/ipykernel_83207/1095217032.py:14: SettingWithCopyWarning: \n",
      "A value is trying to be set on a copy of a slice from a DataFrame.\n",
      "Try using .loc[row_indexer,col_indexer] = value instead\n",
      "\n",
      "See the caveats in the documentation: https://pandas.pydata.org/pandas-docs/stable/user_guide/indexing.html#returning-a-view-versus-a-copy\n",
      "  val_df[scaling_cols] = rs_val_df\n",
      "/var/folders/rm/1g600byx25b_ht2r9ty6b4_00000gn/T/ipykernel_83207/1095217032.py:15: SettingWithCopyWarning: \n",
      "A value is trying to be set on a copy of a slice from a DataFrame.\n",
      "Try using .loc[row_indexer,col_indexer] = value instead\n",
      "\n",
      "See the caveats in the documentation: https://pandas.pydata.org/pandas-docs/stable/user_guide/indexing.html#returning-a-view-versus-a-copy\n",
      "  test_df[scaling_cols] = rs_test_df\n"
     ]
    }
   ],
   "source": [
    "scaling_cols = ['Monthly_Inhand_Salary', 'Outstanding_Debt', 'Credit_Utilization_Ratio', 'Total_EMI_per_month',\n",
    "                'Amount_invested_monthly', 'Monthly_Balance']\n",
    "rs = RobustScaler()\n",
    "\n",
    "rs_train_df = train_df[scaling_cols].copy()\n",
    "rs_val_df = val_df[scaling_cols].copy()\n",
    "rs_test_df = test_df[scaling_cols].copy()\n",
    "\n",
    "rs_train_df = rs.fit_transform(rs_train_df)\n",
    "rs_val_df = rs.fit_transform(rs_val_df)\n",
    "rs_test_df = rs.transform(rs_test_df)\n",
    "\n",
    "train_df[scaling_cols] = rs_train_df\n",
    "val_df[scaling_cols] = rs_val_df\n",
    "test_df[scaling_cols] = rs_test_df"
   ],
   "metadata": {
    "collapsed": false
   }
  },
  {
   "cell_type": "code",
   "execution_count": 46,
   "outputs": [
    {
     "name": "stdout",
     "output_type": "stream",
     "text": [
      "Before Reshaping... :\n",
      "(62500, 21)\n",
      "(12500, 21)\n",
      "(25000, 21)\n",
      "\n",
      "\n",
      "After Reshaping... : \n",
      "(62500, 21, 1)\n",
      "(12500, 21, 1)\n",
      "(25000, 21, 1)\n"
     ]
    }
   ],
   "source": [
    "sample_size = X_train.shape[0]\n",
    "num_features = X_train.shape[1]\n",
    "input_dim = 1 # each feature is represented by 1 number\n",
    "\n",
    "print('Before Reshaping... :')\n",
    "print(X_train.shape)\n",
    "print(X_val.shape)\n",
    "print(X_test.shape)\n",
    "print('\\n')\n",
    "\n",
    "X_train_reshape = np.reshape(X_train.values, newshape=(sample_size, num_features, input_dim))\n",
    "X_val_reshape = np.reshape(X_val.values, newshape=(X_val.shape[0], num_features, input_dim))\n",
    "X_test_reshape = np.reshape(X_test.values, newshape=(X_test.shape[0], num_features, input_dim))\n",
    "\n",
    "print('After Reshaping... : ')\n",
    "print(X_train_reshape.shape)\n",
    "print(X_val_reshape.shape)\n",
    "print(X_test_reshape.shape)"
   ],
   "metadata": {
    "collapsed": false
   }
  },
  {
   "cell_type": "code",
   "execution_count": 47,
   "outputs": [
    {
     "name": "stdout",
     "output_type": "stream",
     "text": [
      "1 Sample shape:\n",
      " (21, 1)\n",
      "An example sample:\n",
      " [[576.        ]\n",
      " [  1.        ]\n",
      " [  1.        ]\n",
      " [  7.50924942]\n",
      " [  3.        ]\n",
      " [  4.        ]\n",
      " [  3.        ]\n",
      " [  0.        ]\n",
      " [  3.        ]\n",
      " [  7.        ]\n",
      " [  0.        ]\n",
      " [  4.        ]\n",
      " [  2.        ]\n",
      " [ 28.46014758]\n",
      " [ 26.82261962]\n",
      " [  1.        ]\n",
      " [  1.        ]\n",
      " [ 49.57494921]\n",
      " [ 21.46538026]\n",
      " [  2.        ]\n",
      " [312.49408868]]\n"
     ]
    }
   ],
   "source": [
    "print(\"1 Sample shape:\\n\", X_train_reshape[0].shape)\n",
    "print(\"An example sample:\\n\", X_train_reshape[0])"
   ],
   "metadata": {
    "collapsed": false
   }
  },
  {
   "cell_type": "code",
   "execution_count": 48,
   "outputs": [],
   "source": [
    "import tensorflow as tf\n",
    "from time import time\n",
    "from datetime import timedelta\n",
    "from sklearn.metrics import classification_report, confusion_matrix, accuracy_score"
   ],
   "metadata": {
    "collapsed": false
   }
  },
  {
   "cell_type": "code",
   "execution_count": 49,
   "outputs": [],
   "source": [
    "import matplotlib.pyplot as plt\n",
    "import seaborn as sns"
   ],
   "metadata": {
    "collapsed": false
   }
  },
  {
   "cell_type": "code",
   "execution_count": 50,
   "outputs": [],
   "source": [
    "# loss와 accuracy 시각화를 위한 함수 정의\n",
    "def plot_loss(history):\n",
    "    plt.figure(figsize=(8, 5))\n",
    "    plt.plot(history.history['loss'], 'b-', label='loss')\n",
    "    plt.plot(history.history['val_loss'], 'g--', label='val_loss')\n",
    "    plt.xlabel('Epochs')\n",
    "    plt.ylabel('Loss')\n",
    "    plt.title('Loss vs Val Loss')\n",
    "    plt.legend()\n",
    "    plt.show()\n",
    "\n",
    "def plot_acc(history):\n",
    "    plt.figure(figsize=(8, 5))\n",
    "    plt.plot(history.history['acc'], 'b-', label='acc')\n",
    "    plt.plot(history.history['val_acc'], 'g--', label='val_acc')\n",
    "    plt.xlabel('Epochs')\n",
    "    plt.ylabel('Accuracy')\n",
    "    plt.title('Accuracy vs Val Accuracy')\n",
    "    plt.legend()\n",
    "    plt.show()"
   ],
   "metadata": {
    "collapsed": false
   }
  },
  {
   "cell_type": "code",
   "execution_count": 51,
   "outputs": [],
   "source": [
    "# 결과 재활용을 위한 시드 설정 함수 정의\n",
    "import random\n",
    "def set_seed(seed: int = 42) -> None:\n",
    "    random.seed(seed)\n",
    "    np.random.seed(seed)\n",
    "    tf.random.set_seed(seed)\n",
    "    tf.experimental.numpy.random.seed(seed)\n",
    "    # When running on the CuDNN backend, two further options must be set\n",
    "    os.environ['TF_CUDNN_DETERMINISTIC'] = '1'\n",
    "    os.environ['TF_DETERMINISTIC_OPS'] = '1'\n",
    "    # Set a fixed value for the hash seed\n",
    "    os.environ[\"PYTHONHASHSEED\"] = str(seed)\n",
    "    print(f\"Random seed set as {seed}\")"
   ],
   "metadata": {
    "collapsed": false
   }
  },
  {
   "cell_type": "code",
   "execution_count": 52,
   "outputs": [],
   "source": [
    "# 분류모델 결과 평가를 위한 혼동행렬 리포트 & 시각화 함수 정의\n",
    "def clf_report_plot(y_true, X_test, model):\n",
    "\n",
    "    result = model.predict(X_test)\n",
    "\n",
    "    y_pred = []\n",
    "    for pred in result:\n",
    "        y_pred.append(np.argmax(pred))\n",
    "\n",
    "    print(classification_report(y_true, y_pred, digits=4))\n",
    "\n",
    "    # plt.rc('font', family='NanumGothicOTF') # For MacOS\n",
    "    plt.rc('font', family='NanumGothic') # For Windows\n",
    "\n",
    "    ax = plt.subplot()\n",
    "    ax.figure.set_size_inches(10, 10)\n",
    "    cm = confusion_matrix(y_true=y_true, y_pred=y_pred)\n",
    "    sns.heatmap(cm, annot=True, fmt='.0f', cmap='Blues', ax=ax)\n",
    "\n",
    "    ax.set_title('Confusion Matrix',fontsize=20, y=1.05)\n",
    "    ax.set_xlabel('Predicted Labels', fontsize=15)\n",
    "    ax.set_ylabel('True Labels', fontsize=15)\n",
    "\n",
    "    ax.xaxis.set_ticklabels(['Poor', 'Standard', 'Good'])\n",
    "    ax.yaxis.set_ticklabels(['Poor', 'Standard', 'Good'])\n",
    "    plt.show()"
   ],
   "metadata": {
    "collapsed": false
   }
  },
  {
   "cell_type": "code",
   "execution_count": 53,
   "outputs": [],
   "source": [
    "from tensorflow.keras.models import Sequential, load_model, Model\n",
    "\n",
    "from tensorflow.keras.layers import Dense, LSTM, Flatten\n",
    "from tensorflow.keras.layers import Conv1D, MaxPooling1D, Dropout, Input\n",
    "\n",
    "from tensorflow.keras.callbacks import EarlyStopping, ModelCheckpoint\n",
    "\n",
    "from sklearn.metrics import confusion_matrix, classification_report"
   ],
   "metadata": {
    "collapsed": false
   }
  },
  {
   "cell_type": "code",
   "execution_count": 54,
   "outputs": [],
   "source": [
    "import os"
   ],
   "metadata": {
    "collapsed": false
   }
  },
  {
   "cell_type": "code",
   "execution_count": 55,
   "outputs": [],
   "source": [
    "num_classes = 3"
   ],
   "metadata": {
    "collapsed": false
   }
  },
  {
   "cell_type": "code",
   "execution_count": 56,
   "outputs": [
    {
     "name": "stdout",
     "output_type": "stream",
     "text": [
      "Random seed set as 42\n"
     ]
    }
   ],
   "source": [
    "set_seed(42)\n",
    "model = Sequential()\n",
    "model.add(Input(shape=(num_features, input_dim)))\n",
    "model.add(Conv1D(256, kernel_size=2, activation='relu'))\n",
    "# model.add(MaxPooling1D(pool_size=3, strides=1))\n",
    "model.add(Dropout(0.3))\n",
    "model.add(Conv1D(256, kernel_size=4, activation='relu'))\n",
    "\n",
    "model.add(Dropout(0.3))\n",
    "model.add(Conv1D(256, kernel_size=8, activation='relu'))\n",
    "# model.add(Conv1D(64, kernel_size=4, strides=4, activation='relu'))\n",
    "model.add(MaxPooling1D())\n",
    "model.add(Dropout(0.3))\n",
    "\n",
    "model.add(Flatten())\n",
    "model.add(Dense(32, activation='relu'))\n",
    "model.add(Dropout(0.3))\n",
    "\n",
    "\n",
    "model.add(Dense(num_classes, activation='softmax'))"
   ],
   "metadata": {
    "collapsed": false
   }
  },
  {
   "cell_type": "code",
   "execution_count": 57,
   "outputs": [],
   "source": [
    "# set_seed(42)\n",
    "# model = Sequential()\n",
    "# model.add(Input(shape=(num_features, input_dim)))\n",
    "# model.add(Conv1D(128, kernel_size=2, activation='relu'))\n",
    "# # model.add(MaxPooling1D(pool_size=3, strides=1))\n",
    "# model.add(Dropout(0.3))\n",
    "# model.add(Conv1D(128, kernel_size=4, activation='relu'))\n",
    "#\n",
    "# model.add(Dropout(0.3))\n",
    "# model.add(Conv1D(128, kernel_size=8, activation='relu'))\n",
    "# # model.add(Conv1D(64, kernel_size=4, strides=4, activation='relu'))\n",
    "# model.add(MaxPooling1D())\n",
    "# model.add(Dropout(0.3))\n",
    "#\n",
    "# model.add(Flatten())\n",
    "# model.add(Dense(32, activation='relu'))\n",
    "# model.add(Dropout(0.3))\n",
    "#\n",
    "#\n",
    "# model.add(Dense(num_classes, activation='softmax'))"
   ],
   "metadata": {
    "collapsed": false
   }
  },
  {
   "cell_type": "code",
   "execution_count": 58,
   "outputs": [
    {
     "name": "stdout",
     "output_type": "stream",
     "text": [
      "Model: \"sequential_1\"\n",
      "_________________________________________________________________\n",
      " Layer (type)                Output Shape              Param #   \n",
      "=================================================================\n",
      " conv1d_3 (Conv1D)           (None, 20, 256)           768       \n",
      "                                                                 \n",
      " dropout_4 (Dropout)         (None, 20, 256)           0         \n",
      "                                                                 \n",
      " conv1d_4 (Conv1D)           (None, 17, 256)           262400    \n",
      "                                                                 \n",
      " dropout_5 (Dropout)         (None, 17, 256)           0         \n",
      "                                                                 \n",
      " conv1d_5 (Conv1D)           (None, 10, 256)           524544    \n",
      "                                                                 \n",
      " max_pooling1d_1 (MaxPooling  (None, 5, 256)           0         \n",
      " 1D)                                                             \n",
      "                                                                 \n",
      " dropout_6 (Dropout)         (None, 5, 256)            0         \n",
      "                                                                 \n",
      " flatten_1 (Flatten)         (None, 1280)              0         \n",
      "                                                                 \n",
      " dense_2 (Dense)             (None, 32)                40992     \n",
      "                                                                 \n",
      " dropout_7 (Dropout)         (None, 32)                0         \n",
      "                                                                 \n",
      " dense_3 (Dense)             (None, 3)                 99        \n",
      "                                                                 \n",
      "=================================================================\n",
      "Total params: 828,803\n",
      "Trainable params: 828,803\n",
      "Non-trainable params: 0\n",
      "_________________________________________________________________\n"
     ]
    }
   ],
   "source": [
    "model.summary()"
   ],
   "metadata": {
    "collapsed": false
   }
  },
  {
   "cell_type": "code",
   "execution_count": 59,
   "outputs": [],
   "source": [
    "model.compile(optimizer='adam', loss='sparse_categorical_crossentropy', metrics=['acc'])\n",
    "\n",
    "es = EarlyStopping(monitor='val_loss', mode='min', verbose=1, patience=5)\n",
    "mc = ModelCheckpoint('cnn_best_model_scaled_2.h5', monitor='val_acc', mode='max', verbose=1, save_best_only=True)"
   ],
   "metadata": {
    "collapsed": false
   }
  },
  {
   "cell_type": "code",
   "execution_count": 60,
   "outputs": [
    {
     "name": "stdout",
     "output_type": "stream",
     "text": [
      "Algorithm starts learning.....\n",
      "Epoch 1/50\n"
     ]
    },
    {
     "name": "stderr",
     "output_type": "stream",
     "text": [
      "2022-11-17 16:43:30.419448: I tensorflow/core/grappler/optimizers/custom_graph_optimizer_registry.cc:114] Plugin optimizer for device_type GPU is enabled.\n"
     ]
    },
    {
     "name": "stdout",
     "output_type": "stream",
     "text": [
      "977/977 [==============================] - ETA: 0s - loss: 1.0130 - acc: 0.5704"
     ]
    },
    {
     "name": "stderr",
     "output_type": "stream",
     "text": [
      "2022-11-17 16:43:48.152915: I tensorflow/core/grappler/optimizers/custom_graph_optimizer_registry.cc:114] Plugin optimizer for device_type GPU is enabled.\n"
     ]
    },
    {
     "name": "stdout",
     "output_type": "stream",
     "text": [
      "\n",
      "Epoch 1: val_acc improved from -inf to 0.51448, saving model to cnn_best_model_scaled_2.h5\n",
      "977/977 [==============================] - 20s 20ms/step - loss: 1.0130 - acc: 0.5704 - val_loss: 0.9067 - val_acc: 0.5145\n",
      "Epoch 2/50\n",
      "975/977 [============================>.] - ETA: 0s - loss: 0.9016 - acc: 0.5914\n",
      "Epoch 2: val_acc improved from 0.51448 to 0.59112, saving model to cnn_best_model_scaled_2.h5\n",
      "977/977 [==============================] - 19s 19ms/step - loss: 0.9016 - acc: 0.5914 - val_loss: 0.8790 - val_acc: 0.5911\n",
      "Epoch 3/50\n",
      "977/977 [==============================] - ETA: 0s - loss: 0.8897 - acc: 0.6006\n",
      "Epoch 3: val_acc did not improve from 0.59112\n",
      "977/977 [==============================] - 19s 19ms/step - loss: 0.8897 - acc: 0.6006 - val_loss: 0.8829 - val_acc: 0.5224\n",
      "Epoch 4/50\n",
      "976/977 [============================>.] - ETA: 0s - loss: 0.8786 - acc: 0.6075\n",
      "Epoch 4: val_acc did not improve from 0.59112\n",
      "977/977 [==============================] - 19s 19ms/step - loss: 0.8786 - acc: 0.6076 - val_loss: 0.8633 - val_acc: 0.5713\n",
      "Epoch 5/50\n",
      "975/977 [============================>.] - ETA: 0s - loss: 0.8710 - acc: 0.6107\n",
      "Epoch 5: val_acc improved from 0.59112 to 0.60256, saving model to cnn_best_model_scaled_2.h5\n",
      "977/977 [==============================] - 19s 19ms/step - loss: 0.8710 - acc: 0.6106 - val_loss: 0.8340 - val_acc: 0.6026\n",
      "Epoch 6/50\n",
      "976/977 [============================>.] - ETA: 0s - loss: 0.8691 - acc: 0.6109\n",
      "Epoch 6: val_acc did not improve from 0.60256\n",
      "977/977 [==============================] - 18s 19ms/step - loss: 0.8691 - acc: 0.6109 - val_loss: 0.8424 - val_acc: 0.5946\n",
      "Epoch 7/50\n",
      "976/977 [============================>.] - ETA: 0s - loss: 0.8638 - acc: 0.6139\n",
      "Epoch 7: val_acc did not improve from 0.60256\n",
      "977/977 [==============================] - 18s 19ms/step - loss: 0.8638 - acc: 0.6138 - val_loss: 0.8543 - val_acc: 0.5842\n",
      "Epoch 8/50\n",
      "975/977 [============================>.] - ETA: 0s - loss: 0.8588 - acc: 0.6161\n",
      "Epoch 8: val_acc did not improve from 0.60256\n",
      "977/977 [==============================] - 19s 19ms/step - loss: 0.8587 - acc: 0.6161 - val_loss: 0.8335 - val_acc: 0.5943\n",
      "Epoch 9/50\n",
      "975/977 [============================>.] - ETA: 0s - loss: 0.8573 - acc: 0.6162\n",
      "Epoch 9: val_acc did not improve from 0.60256\n",
      "977/977 [==============================] - 19s 20ms/step - loss: 0.8574 - acc: 0.6162 - val_loss: 0.8410 - val_acc: 0.5877\n",
      "Epoch 10/50\n",
      "975/977 [============================>.] - ETA: 0s - loss: 0.8500 - acc: 0.6230\n",
      "Epoch 10: val_acc improved from 0.60256 to 0.63432, saving model to cnn_best_model_scaled_2.h5\n",
      "977/977 [==============================] - 19s 19ms/step - loss: 0.8500 - acc: 0.6231 - val_loss: 0.8078 - val_acc: 0.6343\n",
      "Epoch 11/50\n",
      "976/977 [============================>.] - ETA: 0s - loss: 0.8090 - acc: 0.6525\n",
      "Epoch 11: val_acc did not improve from 0.63432\n",
      "977/977 [==============================] - 18s 19ms/step - loss: 0.8090 - acc: 0.6524 - val_loss: 0.8077 - val_acc: 0.6053\n",
      "Epoch 12/50\n",
      "976/977 [============================>.] - ETA: 0s - loss: 0.7802 - acc: 0.6613\n",
      "Epoch 12: val_acc improved from 0.63432 to 0.64080, saving model to cnn_best_model_scaled_2.h5\n",
      "977/977 [==============================] - 19s 19ms/step - loss: 0.7803 - acc: 0.6612 - val_loss: 0.7800 - val_acc: 0.6408\n",
      "Epoch 13/50\n",
      "974/977 [============================>.] - ETA: 0s - loss: 0.7625 - acc: 0.6689\n",
      "Epoch 13: val_acc improved from 0.64080 to 0.65112, saving model to cnn_best_model_scaled_2.h5\n",
      "977/977 [==============================] - 19s 19ms/step - loss: 0.7625 - acc: 0.6689 - val_loss: 0.7742 - val_acc: 0.6511\n",
      "Epoch 14/50\n",
      "977/977 [==============================] - ETA: 0s - loss: 0.7043 - acc: 0.6973\n",
      "Epoch 14: val_acc improved from 0.65112 to 0.65128, saving model to cnn_best_model_scaled_2.h5\n",
      "977/977 [==============================] - 19s 19ms/step - loss: 0.7043 - acc: 0.6973 - val_loss: 0.7688 - val_acc: 0.6513\n",
      "Epoch 15/50\n",
      "974/977 [============================>.] - ETA: 0s - loss: 0.6807 - acc: 0.7077\n",
      "Epoch 15: val_acc improved from 0.65128 to 0.66192, saving model to cnn_best_model_scaled_2.h5\n",
      "977/977 [==============================] - 19s 19ms/step - loss: 0.6803 - acc: 0.7079 - val_loss: 0.7487 - val_acc: 0.6619\n",
      "Epoch 16/50\n",
      "977/977 [==============================] - ETA: 0s - loss: 0.6628 - acc: 0.7136\n",
      "Epoch 16: val_acc did not improve from 0.66192\n",
      "977/977 [==============================] - 19s 19ms/step - loss: 0.6628 - acc: 0.7136 - val_loss: 0.7575 - val_acc: 0.6610\n",
      "Epoch 17/50\n",
      "975/977 [============================>.] - ETA: 0s - loss: 0.6601 - acc: 0.7152\n",
      "Epoch 17: val_acc did not improve from 0.66192\n",
      "977/977 [==============================] - 19s 19ms/step - loss: 0.6602 - acc: 0.7152 - val_loss: 0.7522 - val_acc: 0.6594\n",
      "Epoch 18/50\n",
      "975/977 [============================>.] - ETA: 0s - loss: 0.6557 - acc: 0.7166\n",
      "Epoch 18: val_acc did not improve from 0.66192\n",
      "977/977 [==============================] - 19s 20ms/step - loss: 0.6558 - acc: 0.7165 - val_loss: 0.7741 - val_acc: 0.6534\n",
      "Epoch 19/50\n",
      "976/977 [============================>.] - ETA: 0s - loss: 0.6548 - acc: 0.7191\n",
      "Epoch 19: val_acc improved from 0.66192 to 0.66800, saving model to cnn_best_model_scaled_2.h5\n",
      "977/977 [==============================] - 19s 19ms/step - loss: 0.6549 - acc: 0.7191 - val_loss: 0.7424 - val_acc: 0.6680\n",
      "Epoch 20/50\n",
      "975/977 [============================>.] - ETA: 0s - loss: 0.6510 - acc: 0.7178\n",
      "Epoch 20: val_acc did not improve from 0.66800\n",
      "977/977 [==============================] - 19s 19ms/step - loss: 0.6510 - acc: 0.7178 - val_loss: 0.7542 - val_acc: 0.6580\n",
      "Epoch 21/50\n",
      "975/977 [============================>.] - ETA: 0s - loss: 0.6510 - acc: 0.7188\n",
      "Epoch 21: val_acc did not improve from 0.66800\n",
      "977/977 [==============================] - 19s 20ms/step - loss: 0.6511 - acc: 0.7187 - val_loss: 0.7800 - val_acc: 0.6446\n",
      "Epoch 22/50\n",
      "977/977 [==============================] - ETA: 0s - loss: 0.6491 - acc: 0.7219\n",
      "Epoch 22: val_acc did not improve from 0.66800\n",
      "977/977 [==============================] - 19s 19ms/step - loss: 0.6491 - acc: 0.7219 - val_loss: 0.7565 - val_acc: 0.6561\n",
      "Epoch 23/50\n",
      "975/977 [============================>.] - ETA: 0s - loss: 0.6494 - acc: 0.7208\n",
      "Epoch 23: val_acc did not improve from 0.66800\n",
      "977/977 [==============================] - 19s 19ms/step - loss: 0.6493 - acc: 0.7209 - val_loss: 0.7640 - val_acc: 0.6530\n",
      "Epoch 24/50\n",
      "975/977 [============================>.] - ETA: 0s - loss: 0.6447 - acc: 0.7230\n",
      "Epoch 24: val_acc did not improve from 0.66800\n",
      "977/977 [==============================] - 19s 20ms/step - loss: 0.6449 - acc: 0.7229 - val_loss: 0.7587 - val_acc: 0.6586\n",
      "Epoch 24: early stopping\n",
      "Learning Durations:  0:07:32.473990\n"
     ]
    }
   ],
   "source": [
    "print('Algorithm starts learning.....')\n",
    "start_time = time()\n",
    "\n",
    "history = model.fit(X_train_reshape, y_train, epochs=50, batch_size=64, validation_data=(X_val, y_val), callbacks=[es, mc] )\n",
    "\n",
    "print(\"Learning Durations: \", timedelta(seconds=(time() - start_time)))"
   ],
   "metadata": {
    "collapsed": false
   }
  },
  {
   "cell_type": "code",
   "execution_count": 61,
   "outputs": [
    {
     "name": "stderr",
     "output_type": "stream",
     "text": [
      "findfont: Font family ['NanumGothic'] not found. Falling back to DejaVu Sans.\n"
     ]
    },
    {
     "data": {
      "text/plain": "<Figure size 576x360 with 1 Axes>",
      "image/png": "[encoded data removed]"
     },
     "metadata": {
      "needs_background": "light"
     },
     "output_type": "display_data"
    }
   ],
   "source": [
    "plot_loss(history)"
   ],
   "metadata": {
    "collapsed": false
   }
  },
  {
   "cell_type": "code",
   "execution_count": 62,
   "outputs": [
    {
     "data": {
      "text/plain": "<Figure size 576x360 with 1 Axes>",
      "image/png": "[encoded data removed]"
     },
     "metadata": {
      "needs_background": "light"
     },
     "output_type": "display_data"
    }
   ],
   "source": [
    "plot_acc(history)"
   ],
   "metadata": {
    "collapsed": false
   }
  },
  {
   "cell_type": "code",
   "execution_count": 63,
   "outputs": [
    {
     "name": "stdout",
     "output_type": "stream",
     "text": [
      "  7/782 [..............................] - ETA: 6s - loss: 0.7658 - acc: 0.6518  "
     ]
    },
    {
     "name": "stderr",
     "output_type": "stream",
     "text": [
      "2022-11-17 16:51:03.121374: I tensorflow/core/grappler/optimizers/custom_graph_optimizer_registry.cc:114] Plugin optimizer for device_type GPU is enabled.\n"
     ]
    },
    {
     "name": "stdout",
     "output_type": "stream",
     "text": [
      "782/782 [==============================] - 6s 7ms/step - loss: 0.8153 - acc: 0.6354\n",
      "Test Accuracy: 0.635360062122345\n"
     ]
    }
   ],
   "source": [
    "best_model = load_model('./cnn_best_model_scaled_2.h5')\n",
    "print('Test Accuracy: {}'.format(best_model.evaluate(X_test_reshape, y_test)[1]))"
   ],
   "metadata": {
    "collapsed": false
   }
  },
  {
   "cell_type": "code",
   "execution_count": 64,
   "outputs": [
    {
     "name": "stdout",
     "output_type": "stream",
     "text": [
      "1954/1954 [==============================] - 14s 7ms/step - loss: 0.6092 - acc: 0.7284\n",
      "Train Accuracy: 0.7284479737281799\n"
     ]
    }
   ],
   "source": [
    "print('Train Accuracy: {}'.format(best_model.evaluate(X_train_reshape, y_train)[1]))"
   ],
   "metadata": {
    "collapsed": false
   }
  },
  {
   "cell_type": "code",
   "execution_count": 65,
   "outputs": [
    {
     "name": "stdout",
     "output_type": "stream",
     "text": [
      " 52/782 [>.............................] - ETA: 2s"
     ]
    },
    {
     "name": "stderr",
     "output_type": "stream",
     "text": [
      "2022-11-17 16:51:22.692634: I tensorflow/core/grappler/optimizers/custom_graph_optimizer_registry.cc:114] Plugin optimizer for device_type GPU is enabled.\n"
     ]
    },
    {
     "name": "stdout",
     "output_type": "stream",
     "text": [
      "782/782 [==============================] - 3s 3ms/step\n",
      "              precision    recall  f1-score   support\n",
      "\n",
      "           0     0.6827    0.5571    0.6136      7216\n",
      "           1     0.6190    0.8074    0.7008     12960\n",
      "           2     0.6343    0.2902    0.3982      4824\n",
      "\n",
      "    accuracy                         0.6354     25000\n",
      "   macro avg     0.6454    0.5516    0.5708     25000\n",
      "weighted avg     0.6404    0.6354    0.6172     25000\n",
      "\n"
     ]
    },
    {
     "data": {
      "text/plain": "<Figure size 720x720 with 2 Axes>",
      "image/png": "[encoded data removed]"
     },
     "metadata": {
      "needs_background": "light"
     },
     "output_type": "display_data"
    }
   ],
   "source": [
    "clf_report_plot(y_test, X_test_reshape, best_model)"
   ],
   "metadata": {
    "collapsed": false
   }
  },
  {
   "cell_type": "code",
   "execution_count": 71,
   "outputs": [],
   "source": [],
   "metadata": {
    "collapsed": false
   }
  },
  {
   "cell_type": "markdown",
   "source": [
    "## CNN 병렬모델"
   ],
   "metadata": {
    "collapsed": false
   }
  },
  {
   "cell_type": "code",
   "execution_count": 72,
   "outputs": [],
   "source": [
    "from tensorflow.keras.models import Model\n",
    "from tensorflow.keras.layers import Input, BatchNormalization, Concatenate, MaxPooling1D, GlobalMaxPooling1D"
   ],
   "metadata": {
    "collapsed": false
   }
  },
  {
   "cell_type": "code",
   "execution_count": 73,
   "outputs": [
    {
     "name": "stdout",
     "output_type": "stream",
     "text": [
      "Random seed set as 42\n",
      "Input shape :  (None, 21, 1)\n",
      "cnn1 shape :  (None, 20, 128)\n",
      "cnn1 shape :  (None, 128)\n",
      "cnn2 shape :  (None, 18, 128)\n",
      "cnn2 shape :  (None, 128)\n",
      "cnn3 shape :  (None, 16, 128)\n",
      "cnn3 shape :  (None, 128)\n",
      "After Concat shape : (None, 384)\n",
      "output:  (None, 3)\n"
     ]
    }
   ],
   "source": [
    "set_seed(42) # seed 설정\n",
    "\n",
    "# Input layer 생성\n",
    "input = Input(shape=(num_features, input_dim), name='input')\n",
    "print('Input shape : ', input.shape)\n",
    "\n",
    "# CNN\n",
    "cnn1 = Conv1D(128, kernel_size=2, strides=1, padding='valid', activation='relu', name='conv1')(input) # kernel_size=2: 2개씩 feature 학습\n",
    "print('cnn1 shape : ', cnn1.shape)\n",
    "cnn1 = BatchNormalization(name='batch1')(cnn1)\n",
    "# cnn1 = MaxPooling1D(name='max1')(cnn1)\n",
    "cnn1 = GlobalMaxPooling1D(name='max1')(cnn1)\n",
    "cnn1 = Dense(128, activation='relu')(cnn1)\n",
    "cnn1 = Dropout(0.2, name='drop1')(cnn1)\n",
    "print('cnn1 shape : ', cnn1.shape)\n",
    "\n",
    "cnn2 = Conv1D(128, kernel_size=4, strides=1, padding='valid', activation='relu', name='conv2')(input) # kernel_size=4: 4개씩 feature 학습\n",
    "print('cnn2 shape : ', cnn2.shape)\n",
    "cnn2 = BatchNormalization(name='batch2')(cnn2)\n",
    "# cnn2 = MaxPooling1D(name='max2')(cnn2)\n",
    "cnn2 = GlobalMaxPooling1D(name='max2')(cnn2)\n",
    "cnn2 = Dense(128, activation='relu')(cnn2)\n",
    "cnn2 = Dropout(0.2, name='drop2')(cnn2)\n",
    "print('cnn2 shape : ', cnn2.shape)\n",
    "\n",
    "cnn3 = Conv1D(128, kernel_size=6, strides=1, padding='valid', activation='relu', name='conv3')(input) # kernel_size=4: 6개씩 feature 학습\n",
    "print('cnn3 shape : ', cnn3.shape)\n",
    "cnn3 = BatchNormalization(name='batch3')(cnn3)\n",
    "# cnn3 = MaxPooling1D(name='max3')(cnn3)\n",
    "cnn3 = GlobalMaxPooling1D(name='max3')(cnn3)\n",
    "cnn3 = Dense(128, activation='relu')(cnn3)\n",
    "cnn3 = Dropout(0.2, name='drop3')(cnn3)\n",
    "print('cnn3 shape : ', cnn3.shape)\n",
    "\n",
    "cnn_concat = Concatenate(name='cnn_concat')([cnn1, cnn2, cnn3])\n",
    "print('After Concat shape :', cnn_concat.shape)\n",
    "\n",
    "decoder = Dense(128, activation='relu')(cnn_concat)\n",
    "decoder = Dropout(0.2, name='decoder_dropout')(decoder)\n",
    "decoder = Dense(64, activation='relu')(cnn_concat)\n",
    "output = Dense(num_classes, activation='softmax')(decoder)\n",
    "print('output: ', output.shape)\n",
    "\n",
    "model = Model(inputs=input, outputs=output)"
   ],
   "metadata": {
    "collapsed": false
   }
  },
  {
   "cell_type": "code",
   "execution_count": 74,
   "outputs": [],
   "source": [
    "# set_seed(42) # seed 설정\n",
    "#\n",
    "# # Input layer 생성\n",
    "# input = Input(shape=(num_features, input_dim), name='input')\n",
    "# print('Input shape : ', input.shape)\n",
    "#\n",
    "# # CNN\n",
    "# cnn1 = Conv1D(128, kernel_size=2, strides=1, padding='valid', activation='relu', name='conv1')(input) # kernel_size=2: 2개씩 feature 학습\n",
    "# print('cnn1 shape : ', cnn1.shape)\n",
    "# cnn1 = BatchNormalization(name='batch1')(cnn1)\n",
    "# # cnn1 = MaxPooling1D(name='max1')(cnn1)\n",
    "# cnn1 = GlobalMaxPooling1D(name='max1')(cnn1)\n",
    "# cnn1 = Dropout(0.2, name='drop1')(cnn1)\n",
    "# print('cnn1 shape : ', cnn1.shape)\n",
    "#\n",
    "# cnn2 = Conv1D(128, kernel_size=4, strides=1, padding='valid', activation='relu', name='conv2')(input) # kernel_size=4: 4개씩 feature 학습\n",
    "# print('cnn2 shape : ', cnn2.shape)\n",
    "# cnn2 = BatchNormalization(name='batch2')(cnn2)\n",
    "# # cnn2 = MaxPooling1D(name='max2')(cnn2)\n",
    "# cnn2 = GlobalMaxPooling1D(name='max2')(cnn2)\n",
    "# cnn2 = Dropout(0.2, name='drop2')(cnn2)\n",
    "# print('cnn2 shape : ', cnn2.shape)\n",
    "#\n",
    "# cnn3 = Conv1D(128, kernel_size=6, strides=1, padding='valid', activation='relu', name='conv3')(input) # kernel_size=4: 6개씩 feature 학습\n",
    "# print('cnn3 shape : ', cnn3.shape)\n",
    "# cnn3 = BatchNormalization(name='batch3')(cnn3)\n",
    "# # cnn3 = MaxPooling1D(name='max3')(cnn3)\n",
    "# cnn3 = GlobalMaxPooling1D(name='max3')(cnn3)\n",
    "# cnn3 = Dropout(0.2, name='drop3')(cnn3)\n",
    "# print('cnn3 shape : ', cnn3.shape)\n",
    "#\n",
    "# cnn_concat = Concatenate(name='cnn_concat')([cnn1, cnn2, cnn3])\n",
    "# print('After Concat shape :', cnn_concat.shape)\n",
    "#\n",
    "# decoder = Dense(128, activation='relu')(cnn_concat)\n",
    "# decoder = Dropout(0.2, name='decoder_dropout')(decoder)\n",
    "# decoder = Dense(64, activation='relu')(cnn_concat)\n",
    "# output = Dense(num_classes, activation='softmax')(decoder)\n",
    "#\n",
    "# print('output: ', output.shape)\n",
    "# model = Model(inputs=input, outputs=output)"
   ],
   "metadata": {
    "collapsed": false
   }
  },
  {
   "cell_type": "code",
   "execution_count": 75,
   "outputs": [
    {
     "name": "stdout",
     "output_type": "stream",
     "text": [
      "Model: \"model_1\"\n",
      "__________________________________________________________________________________________________\n",
      " Layer (type)                   Output Shape         Param #     Connected to                     \n",
      "==================================================================================================\n",
      " input (InputLayer)             [(None, 21, 1)]      0           []                               \n",
      "                                                                                                  \n",
      " conv1 (Conv1D)                 (None, 20, 128)      384         ['input[0][0]']                  \n",
      "                                                                                                  \n",
      " conv2 (Conv1D)                 (None, 18, 128)      640         ['input[0][0]']                  \n",
      "                                                                                                  \n",
      " conv3 (Conv1D)                 (None, 16, 128)      896         ['input[0][0]']                  \n",
      "                                                                                                  \n",
      " batch1 (BatchNormalization)    (None, 20, 128)      512         ['conv1[0][0]']                  \n",
      "                                                                                                  \n",
      " batch2 (BatchNormalization)    (None, 18, 128)      512         ['conv2[0][0]']                  \n",
      "                                                                                                  \n",
      " batch3 (BatchNormalization)    (None, 16, 128)      512         ['conv3[0][0]']                  \n",
      "                                                                                                  \n",
      " max1 (GlobalMaxPooling1D)      (None, 128)          0           ['batch1[0][0]']                 \n",
      "                                                                                                  \n",
      " max2 (GlobalMaxPooling1D)      (None, 128)          0           ['batch2[0][0]']                 \n",
      "                                                                                                  \n",
      " max3 (GlobalMaxPooling1D)      (None, 128)          0           ['batch3[0][0]']                 \n",
      "                                                                                                  \n",
      " dense_10 (Dense)               (None, 128)          16512       ['max1[0][0]']                   \n",
      "                                                                                                  \n",
      " dense_11 (Dense)               (None, 128)          16512       ['max2[0][0]']                   \n",
      "                                                                                                  \n",
      " dense_12 (Dense)               (None, 128)          16512       ['max3[0][0]']                   \n",
      "                                                                                                  \n",
      " drop1 (Dropout)                (None, 128)          0           ['dense_10[0][0]']               \n",
      "                                                                                                  \n",
      " drop2 (Dropout)                (None, 128)          0           ['dense_11[0][0]']               \n",
      "                                                                                                  \n",
      " drop3 (Dropout)                (None, 128)          0           ['dense_12[0][0]']               \n",
      "                                                                                                  \n",
      " cnn_concat (Concatenate)       (None, 384)          0           ['drop1[0][0]',                  \n",
      "                                                                  'drop2[0][0]',                  \n",
      "                                                                  'drop3[0][0]']                  \n",
      "                                                                                                  \n",
      " dense_14 (Dense)               (None, 64)           24640       ['cnn_concat[0][0]']             \n",
      "                                                                                                  \n",
      " dense_15 (Dense)               (None, 3)            195         ['dense_14[0][0]']               \n",
      "                                                                                                  \n",
      "==================================================================================================\n",
      "Total params: 77,827\n",
      "Trainable params: 77,059\n",
      "Non-trainable params: 768\n",
      "__________________________________________________________________________________________________\n"
     ]
    }
   ],
   "source": [
    "model.summary()"
   ],
   "metadata": {
    "collapsed": false
   }
  },
  {
   "cell_type": "code",
   "execution_count": 76,
   "outputs": [],
   "source": [
    "model.compile(optimizer='adam', loss='sparse_categorical_crossentropy', metrics=['acc'])\n",
    "\n",
    "es = EarlyStopping(monitor='val_loss', mode='min', verbose=1, patience=5)\n",
    "mc = ModelCheckpoint('concatenated_cnn_best_model_2.h5', monitor='val_acc', mode='max', verbose=1, save_best_only=True)"
   ],
   "metadata": {
    "collapsed": false
   }
  },
  {
   "cell_type": "code",
   "execution_count": 77,
   "outputs": [
    {
     "name": "stdout",
     "output_type": "stream",
     "text": [
      "Algorithm starts learning.....\n",
      "Epoch 1/50\n"
     ]
    },
    {
     "name": "stderr",
     "output_type": "stream",
     "text": [
      "2022-11-17 09:03:58.363920: I tensorflow/core/grappler/optimizers/custom_graph_optimizer_registry.cc:114] Plugin optimizer for device_type GPU is enabled.\n"
     ]
    },
    {
     "name": "stdout",
     "output_type": "stream",
     "text": [
      "977/977 [==============================] - ETA: 0s - loss: 0.7986 - acc: 0.6319"
     ]
    },
    {
     "name": "stderr",
     "output_type": "stream",
     "text": [
      "2022-11-17 09:04:19.258796: I tensorflow/core/grappler/optimizers/custom_graph_optimizer_registry.cc:114] Plugin optimizer for device_type GPU is enabled.\n"
     ]
    },
    {
     "name": "stdout",
     "output_type": "stream",
     "text": [
      "\n",
      "Epoch 1: val_acc improved from -inf to 0.62264, saving model to concatenated_cnn_best_model_2.h5\n",
      "977/977 [==============================] - 23s 23ms/step - loss: 0.7986 - acc: 0.6319 - val_loss: 0.8286 - val_acc: 0.6226\n",
      "Epoch 2/50\n",
      "976/977 [============================>.] - ETA: 0s - loss: 0.6840 - acc: 0.6864\n",
      "Epoch 2: val_acc improved from 0.62264 to 0.64664, saving model to concatenated_cnn_best_model_2.h5\n",
      "977/977 [==============================] - 21s 21ms/step - loss: 0.6840 - acc: 0.6864 - val_loss: 0.8048 - val_acc: 0.6466\n",
      "Epoch 3/50\n",
      "976/977 [============================>.] - ETA: 0s - loss: 0.6568 - acc: 0.7020\n",
      "Epoch 3: val_acc improved from 0.64664 to 0.65920, saving model to concatenated_cnn_best_model_2.h5\n",
      "977/977 [==============================] - 20s 21ms/step - loss: 0.6569 - acc: 0.7020 - val_loss: 0.7948 - val_acc: 0.6592\n",
      "Epoch 4/50\n",
      "976/977 [============================>.] - ETA: 0s - loss: 0.6443 - acc: 0.7098\n",
      "Epoch 4: val_acc did not improve from 0.65920\n",
      "977/977 [==============================] - 20s 21ms/step - loss: 0.6442 - acc: 0.7099 - val_loss: 0.8094 - val_acc: 0.6572\n",
      "Epoch 5/50\n",
      "976/977 [============================>.] - ETA: 0s - loss: 0.6372 - acc: 0.7127\n",
      "Epoch 5: val_acc did not improve from 0.65920\n",
      "977/977 [==============================] - 20s 21ms/step - loss: 0.6372 - acc: 0.7128 - val_loss: 0.8144 - val_acc: 0.6354\n",
      "Epoch 6/50\n",
      "976/977 [============================>.] - ETA: 0s - loss: 0.6314 - acc: 0.7160\n",
      "Epoch 6: val_acc did not improve from 0.65920\n",
      "977/977 [==============================] - 20s 21ms/step - loss: 0.6313 - acc: 0.7159 - val_loss: 0.8260 - val_acc: 0.6364\n",
      "Epoch 7/50\n",
      "975/977 [============================>.] - ETA: 0s - loss: 0.6279 - acc: 0.7163\n",
      "Epoch 7: val_acc improved from 0.65920 to 0.66304, saving model to concatenated_cnn_best_model_2.h5\n",
      "977/977 [==============================] - 20s 21ms/step - loss: 0.6277 - acc: 0.7164 - val_loss: 0.7716 - val_acc: 0.6630\n",
      "Epoch 8/50\n",
      "976/977 [============================>.] - ETA: 0s - loss: 0.6226 - acc: 0.7196\n",
      "Epoch 8: val_acc did not improve from 0.66304\n",
      "977/977 [==============================] - 20s 21ms/step - loss: 0.6227 - acc: 0.7195 - val_loss: 0.7941 - val_acc: 0.6544\n",
      "Epoch 9/50\n",
      "976/977 [============================>.] - ETA: 0s - loss: 0.6195 - acc: 0.7203\n",
      "Epoch 9: val_acc improved from 0.66304 to 0.66456, saving model to concatenated_cnn_best_model_2.h5\n",
      "977/977 [==============================] - 20s 21ms/step - loss: 0.6195 - acc: 0.7203 - val_loss: 0.7500 - val_acc: 0.6646\n",
      "Epoch 10/50\n",
      "976/977 [============================>.] - ETA: 0s - loss: 0.6169 - acc: 0.7218\n",
      "Epoch 10: val_acc improved from 0.66456 to 0.66472, saving model to concatenated_cnn_best_model_2.h5\n",
      "977/977 [==============================] - 20s 21ms/step - loss: 0.6169 - acc: 0.7219 - val_loss: 0.7645 - val_acc: 0.6647\n",
      "Epoch 11/50\n",
      "976/977 [============================>.] - ETA: 0s - loss: 0.6158 - acc: 0.7233\n",
      "Epoch 11: val_acc did not improve from 0.66472\n",
      "977/977 [==============================] - 20s 21ms/step - loss: 0.6159 - acc: 0.7232 - val_loss: 0.7688 - val_acc: 0.6500\n",
      "Epoch 12/50\n",
      "976/977 [============================>.] - ETA: 0s - loss: 0.6137 - acc: 0.7225\n",
      "Epoch 12: val_acc did not improve from 0.66472\n",
      "977/977 [==============================] - 20s 21ms/step - loss: 0.6137 - acc: 0.7224 - val_loss: 0.7737 - val_acc: 0.6612\n",
      "Epoch 13/50\n",
      "977/977 [==============================] - ETA: 0s - loss: 0.6114 - acc: 0.7253\n",
      "Epoch 13: val_acc improved from 0.66472 to 0.66888, saving model to concatenated_cnn_best_model_2.h5\n",
      "977/977 [==============================] - 20s 21ms/step - loss: 0.6114 - acc: 0.7253 - val_loss: 0.7469 - val_acc: 0.6689\n",
      "Epoch 14/50\n",
      "976/977 [============================>.] - ETA: 0s - loss: 0.6094 - acc: 0.7237\n",
      "Epoch 14: val_acc did not improve from 0.66888\n",
      "977/977 [==============================] - 20s 21ms/step - loss: 0.6094 - acc: 0.7238 - val_loss: 0.7391 - val_acc: 0.6674\n",
      "Epoch 15/50\n",
      "976/977 [============================>.] - ETA: 0s - loss: 0.6084 - acc: 0.7258\n",
      "Epoch 15: val_acc did not improve from 0.66888\n",
      "977/977 [==============================] - 20s 21ms/step - loss: 0.6084 - acc: 0.7259 - val_loss: 0.7928 - val_acc: 0.6658\n",
      "Epoch 16/50\n",
      "976/977 [============================>.] - ETA: 0s - loss: 0.6065 - acc: 0.7256\n",
      "Epoch 16: val_acc did not improve from 0.66888\n",
      "977/977 [==============================] - 20s 21ms/step - loss: 0.6066 - acc: 0.7256 - val_loss: 0.7476 - val_acc: 0.6607\n",
      "Epoch 17/50\n",
      "976/977 [============================>.] - ETA: 0s - loss: 0.6054 - acc: 0.7273\n",
      "Epoch 17: val_acc improved from 0.66888 to 0.67088, saving model to concatenated_cnn_best_model_2.h5\n",
      "977/977 [==============================] - 20s 21ms/step - loss: 0.6054 - acc: 0.7273 - val_loss: 0.7445 - val_acc: 0.6709\n",
      "Epoch 18/50\n",
      "976/977 [============================>.] - ETA: 0s - loss: 0.6018 - acc: 0.7298\n",
      "Epoch 18: val_acc improved from 0.67088 to 0.67104, saving model to concatenated_cnn_best_model_2.h5\n",
      "977/977 [==============================] - 20s 20ms/step - loss: 0.6019 - acc: 0.7297 - val_loss: 0.7541 - val_acc: 0.6710\n",
      "Epoch 19/50\n",
      "976/977 [============================>.] - ETA: 0s - loss: 0.6028 - acc: 0.7301\n",
      "Epoch 19: val_acc improved from 0.67104 to 0.67160, saving model to concatenated_cnn_best_model_2.h5\n",
      "977/977 [==============================] - 20s 21ms/step - loss: 0.6029 - acc: 0.7300 - val_loss: 0.7346 - val_acc: 0.6716\n",
      "Epoch 20/50\n",
      "976/977 [============================>.] - ETA: 0s - loss: 0.6034 - acc: 0.7275\n",
      "Epoch 20: val_acc did not improve from 0.67160\n",
      "977/977 [==============================] - 20s 21ms/step - loss: 0.6034 - acc: 0.7275 - val_loss: 0.7454 - val_acc: 0.6682\n",
      "Epoch 21/50\n",
      "976/977 [============================>.] - ETA: 0s - loss: 0.6008 - acc: 0.7288\n",
      "Epoch 21: val_acc did not improve from 0.67160\n",
      "977/977 [==============================] - 20s 20ms/step - loss: 0.6010 - acc: 0.7287 - val_loss: 0.7592 - val_acc: 0.6684\n",
      "Epoch 22/50\n",
      "976/977 [============================>.] - ETA: 0s - loss: 0.6001 - acc: 0.7297\n",
      "Epoch 22: val_acc did not improve from 0.67160\n",
      "977/977 [==============================] - 20s 20ms/step - loss: 0.6000 - acc: 0.7297 - val_loss: 0.7346 - val_acc: 0.6690\n",
      "Epoch 23/50\n",
      "976/977 [============================>.] - ETA: 0s - loss: 0.5976 - acc: 0.7316\n",
      "Epoch 23: val_acc did not improve from 0.67160\n",
      "977/977 [==============================] - 20s 20ms/step - loss: 0.5976 - acc: 0.7317 - val_loss: 0.7581 - val_acc: 0.6696\n",
      "Epoch 24/50\n",
      "976/977 [============================>.] - ETA: 0s - loss: 0.5961 - acc: 0.7325\n",
      "Epoch 24: val_acc did not improve from 0.67160\n",
      "977/977 [==============================] - 20s 21ms/step - loss: 0.5962 - acc: 0.7325 - val_loss: 0.7557 - val_acc: 0.6699\n",
      "Epoch 24: early stopping\n",
      "Learning Durations:  0:08:07.181008\n"
     ]
    }
   ],
   "source": [
    "print('Algorithm starts learning.....')\n",
    "start_time = time()\n",
    "\n",
    "history = model.fit(X_train_reshape, y_train, epochs=50, batch_size=64, validation_data=(X_val, y_val), callbacks=[es, mc] )\n",
    "\n",
    "print(\"Learning Durations: \", timedelta(seconds=(time() - start_time)))"
   ],
   "metadata": {
    "collapsed": false
   }
  },
  {
   "cell_type": "code",
   "execution_count": 78,
   "outputs": [
    {
     "data": {
      "text/plain": "<Figure size 576x360 with 1 Axes>",
      "image/png": "[encoded data removed]"
     },
     "metadata": {
      "needs_background": "light"
     },
     "output_type": "display_data"
    }
   ],
   "source": [
    "plot_loss(history)"
   ],
   "metadata": {
    "collapsed": false
   }
  },
  {
   "cell_type": "code",
   "execution_count": 79,
   "outputs": [
    {
     "data": {
      "text/plain": "<Figure size 576x360 with 1 Axes>",
      "image/png": "[encoded data removed]"
     },
     "metadata": {
      "needs_background": "light"
     },
     "output_type": "display_data"
    }
   ],
   "source": [
    "plot_acc(history)"
   ],
   "metadata": {
    "collapsed": false
   }
  },
  {
   "cell_type": "code",
   "execution_count": 80,
   "outputs": [
    {
     "name": "stdout",
     "output_type": "stream",
     "text": [
      "  4/782 [..............................] - ETA: 13s - loss: 0.7524 - acc: 0.6328 "
     ]
    },
    {
     "name": "stderr",
     "output_type": "stream",
     "text": [
      "2022-11-17 09:12:05.529457: I tensorflow/core/grappler/optimizers/custom_graph_optimizer_registry.cc:114] Plugin optimizer for device_type GPU is enabled.\n"
     ]
    },
    {
     "name": "stdout",
     "output_type": "stream",
     "text": [
      "782/782 [==============================] - 6s 8ms/step - loss: 0.8204 - acc: 0.6262\n",
      "Test Accuracy: 0.6261600255966187\n"
     ]
    }
   ],
   "source": [
    "best_model = load_model('./concatenated_cnn_best_model_2.h5')\n",
    "print('Test Accuracy: {}'.format(best_model.evaluate(X_test_reshape, y_test)[1]))"
   ],
   "metadata": {
    "collapsed": false
   }
  },
  {
   "cell_type": "code",
   "execution_count": 82,
   "outputs": [
    {
     "name": "stdout",
     "output_type": "stream",
     "text": [
      "1954/1954 [==============================] - 16s 8ms/step - loss: 0.5926 - acc: 0.7330\n",
      "Train Accuracy: 0.7330080270767212\n"
     ]
    }
   ],
   "source": [
    "print('Train Accuracy: {}'.format(best_model.evaluate(X_train_reshape, y_train)[1]))"
   ],
   "metadata": {
    "collapsed": false
   }
  },
  {
   "cell_type": "code",
   "execution_count": null,
   "outputs": [],
   "source": [
    "clf_report_plot(y_test, X_test_reshape, best_model)"
   ],
   "metadata": {
    "collapsed": false
   }
  },
  {
   "cell_type": "code",
   "execution_count": null,
   "outputs": [],
   "source": [],
   "metadata": {
    "collapsed": false
   }
  },
  {
   "cell_type": "code",
   "execution_count": null,
   "outputs": [],
   "source": [],
   "metadata": {
    "collapsed": false
   }
  },
  {
   "cell_type": "code",
   "execution_count": null,
   "outputs": [],
   "source": [],
   "metadata": {
    "collapsed": false
   }
  },
  {
   "cell_type": "code",
   "execution_count": null,
   "outputs": [],
   "source": [],
   "metadata": {
    "collapsed": false
   }
  },
  {
   "cell_type": "markdown",
   "source": [
    "Predict Probabilities"
   ],
   "metadata": {
    "collapsed": false
   }
  },
  {
   "cell_type": "code",
   "execution_count": 84,
   "outputs": [
    {
     "name": "stdout",
     "output_type": "stream",
     "text": [
      "1954/1954 [==============================] - 7s 4ms/step\n"
     ]
    }
   ],
   "source": [
    "result = best_model.predict(X_train_reshape)"
   ],
   "metadata": {
    "collapsed": false
   }
  },
  {
   "cell_type": "code",
   "execution_count": 86,
   "outputs": [
    {
     "name": "stdout",
     "output_type": "stream",
     "text": [
      "[array([[0.02734532, 0.29905915, 0.67359555],\n",
      "       [0.02378798, 0.33618578, 0.6400262 ],\n",
      "       [0.03116329, 0.30505085, 0.6637858 ],\n",
      "       ...,\n",
      "       [0.47341737, 0.32990038, 0.19668224],\n",
      "       [0.59580123, 0.27819887, 0.12599994],\n",
      "       [0.31709978, 0.3652758 , 0.3176245 ]], dtype=float32), array([[0.02734532, 0.29905915, 0.67359555],\n",
      "       [0.02378798, 0.33618578, 0.6400262 ],\n",
      "       [0.03116329, 0.30505085, 0.6637858 ],\n",
      "       ...,\n",
      "       [0.47341737, 0.32990038, 0.19668224],\n",
      "       [0.59580123, 0.27819887, 0.12599994],\n",
      "       [0.31709978, 0.3652758 , 0.3176245 ]], dtype=float32)]\n"
     ]
    }
   ],
   "source": [
    "performance_list = []\n",
    "performance_list.append(result)\n",
    "print(performance_list)"
   ],
   "metadata": {
    "collapsed": false
   }
  }
 ],
 "metadata": {
  "kernelspec": {
   "display_name": "Python 3",
   "language": "python",
   "name": "python3"
  },
  "language_info": {
   "codemirror_mode": {
    "name": "ipython",
    "version": 2
   },
   "file_extension": ".py",
   "mimetype": "text/x-python",
   "name": "python",
   "nbconvert_exporter": "python",
   "pygments_lexer": "ipython2",
   "version": "2.7.6"
  }
 },
 "nbformat": 4,
 "nbformat_minor": 0
}
