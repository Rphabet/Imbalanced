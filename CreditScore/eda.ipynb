{
 "cells": [
  {
   "cell_type": "markdown",
   "source": [
    "# EDA of Credit Scoring"
   ],
   "metadata": {
    "collapsed": false
   }
  },
  {
   "cell_type": "code",
   "execution_count": 192,
   "outputs": [],
   "source": [
    "import pandas as pd\n",
    "import numpy as np\n",
    "import matplotlib.pyplot as plt\n",
    "import seaborn as sns\n",
    "import os\n",
    "import re\n",
    "\n",
    "from scipy.stats import mode"
   ],
   "metadata": {
    "collapsed": false
   }
  },
  {
   "cell_type": "code",
   "execution_count": 193,
   "outputs": [],
   "source": [
    "DATA_DIR = './'\n",
    "DATA = 'cleaned_train.csv'"
   ],
   "metadata": {
    "collapsed": false
   }
  },
  {
   "cell_type": "code",
   "execution_count": 194,
   "outputs": [
    {
     "data": {
      "text/plain": "           ID  Customer_ID  Month           Name   Age          SSN  \\\n0        5634         3392      1  Aaron Maashoh  23.0  821000265.0   \n1        5635         3392      2  Aaron Maashoh  23.0  821000265.0   \n2        5636         3392      3  Aaron Maashoh  23.0  821000265.0   \n3        5637         3392      4  Aaron Maashoh  23.0  821000265.0   \n4        5638         3392      5  Aaron Maashoh  23.0  821000265.0   \n...       ...          ...    ...            ...   ...          ...   \n99995  155625        37932      4          Nicks  25.0   78735990.0   \n99996  155626        37932      5          Nicks  25.0   78735990.0   \n99997  155627        37932      6          Nicks  25.0   78735990.0   \n99998  155628        37932      7          Nicks  25.0   78735990.0   \n99999  155629        37932      8          Nicks  25.0   78735990.0   \n\n      Occupation  Annual_Income  Monthly_Inhand_Salary  Num_Bank_Accounts  \\\n0      Scientist       19114.12            1824.843333                3.0   \n1      Scientist       19114.12            1824.843333                3.0   \n2      Scientist       19114.12            1824.843333                3.0   \n3      Scientist       19114.12            1824.843333                3.0   \n4      Scientist       19114.12            1824.843333                3.0   \n...          ...            ...                    ...                ...   \n99995   Mechanic       39628.99            3359.415833                4.0   \n99996   Mechanic       39628.99            3359.415833                4.0   \n99997   Mechanic       39628.99            3359.415833                4.0   \n99998   Mechanic       39628.99            3359.415833                4.0   \n99999   Mechanic       39628.99            3359.415833                4.0   \n\n       ...  Credit_Mix  Outstanding_Debt  Credit_Utilization_Ratio  \\\n0      ...        Good            809.98                 26.822620   \n1      ...        Good            809.98                 31.944960   \n2      ...        Good            809.98                 28.609352   \n3      ...        Good            809.98                 31.377862   \n4      ...        Good            809.98                 24.797347   \n...    ...         ...               ...                       ...   \n99995  ...        Good            502.38                 34.663572   \n99996  ...        Good            502.38                 40.565631   \n99997  ...        Good            502.38                 41.255522   \n99998  ...        Good            502.38                 33.638208   \n99999  ...        Good            502.38                 34.192463   \n\n      Credit_History_Age  Payment_of_Min_Amount  Total_EMI_per_month  \\\n0                  265.0                     No            49.574949   \n1                  266.0                     No            49.574949   \n2                  267.0                     No            49.574949   \n3                  268.0                     No            49.574949   \n4                  269.0                     No            49.574949   \n...                  ...                    ...                  ...   \n99995              378.0                     No            35.104023   \n99996              379.0                     No            35.104023   \n99997              380.0                     No            35.104023   \n99998              381.0                     No            35.104023   \n99999              382.0                     No            35.104023   \n\n       Amount_invested_monthly                 Payment_Behaviour  \\\n0                    21.465380   High_spent_Small_value_payments   \n1                    21.465380    Low_spent_Large_value_payments   \n2                    21.465380   Low_spent_Medium_value_payments   \n3                    21.465380    Low_spent_Small_value_payments   \n4                    21.465380  High_spent_Medium_value_payments   \n...                        ...                               ...   \n99995                24.028477   High_spent_Large_value_payments   \n99996                24.028477  High_spent_Medium_value_payments   \n99997                24.028477   High_spent_Large_value_payments   \n99998                24.028477    Low_spent_Large_value_payments   \n99999                24.028477  High_spent_Medium_value_payments   \n\n      Monthly_Balance  Credit_Score  \n0          312.494089          Good  \n1          284.629162          Good  \n2          331.209863          Good  \n3          223.451310          Good  \n4          341.489231          Good  \n...               ...           ...  \n99995      479.866228          Poor  \n99996      496.651610          Poor  \n99997      516.809083          Poor  \n99998      319.164979      Standard  \n99999      393.673696          Poor  \n\n[100000 rows x 28 columns]",
      "text/html": "<div>\n<style scoped>\n    .dataframe tbody tr th:only-of-type {\n        vertical-align: middle;\n    }\n\n    .dataframe tbody tr th {\n        vertical-align: top;\n    }\n\n    .dataframe thead th {\n        text-align: right;\n    }\n</style>\n<table border=\"1\" class=\"dataframe\">\n  <thead>\n    <tr style=\"text-align: right;\">\n      <th></th>\n      <th>ID</th>\n      <th>Customer_ID</th>\n      <th>Month</th>\n      <th>Name</th>\n      <th>Age</th>\n      <th>SSN</th>\n      <th>Occupation</th>\n      <th>Annual_Income</th>\n      <th>Monthly_Inhand_Salary</th>\n      <th>Num_Bank_Accounts</th>\n      <th>...</th>\n      <th>Credit_Mix</th>\n      <th>Outstanding_Debt</th>\n      <th>Credit_Utilization_Ratio</th>\n      <th>Credit_History_Age</th>\n      <th>Payment_of_Min_Amount</th>\n      <th>Total_EMI_per_month</th>\n      <th>Amount_invested_monthly</th>\n      <th>Payment_Behaviour</th>\n      <th>Monthly_Balance</th>\n      <th>Credit_Score</th>\n    </tr>\n  </thead>\n  <tbody>\n    <tr>\n      <th>0</th>\n      <td>5634</td>\n      <td>3392</td>\n      <td>1</td>\n      <td>Aaron Maashoh</td>\n      <td>23.0</td>\n      <td>821000265.0</td>\n      <td>Scientist</td>\n      <td>19114.12</td>\n      <td>1824.843333</td>\n      <td>3.0</td>\n      <td>...</td>\n      <td>Good</td>\n      <td>809.98</td>\n      <td>26.822620</td>\n      <td>265.0</td>\n      <td>No</td>\n      <td>49.574949</td>\n      <td>21.465380</td>\n      <td>High_spent_Small_value_payments</td>\n      <td>312.494089</td>\n      <td>Good</td>\n    </tr>\n    <tr>\n      <th>1</th>\n      <td>5635</td>\n      <td>3392</td>\n      <td>2</td>\n      <td>Aaron Maashoh</td>\n      <td>23.0</td>\n      <td>821000265.0</td>\n      <td>Scientist</td>\n      <td>19114.12</td>\n      <td>1824.843333</td>\n      <td>3.0</td>\n      <td>...</td>\n      <td>Good</td>\n      <td>809.98</td>\n      <td>31.944960</td>\n      <td>266.0</td>\n      <td>No</td>\n      <td>49.574949</td>\n      <td>21.465380</td>\n      <td>Low_spent_Large_value_payments</td>\n      <td>284.629162</td>\n      <td>Good</td>\n    </tr>\n    <tr>\n      <th>2</th>\n      <td>5636</td>\n      <td>3392</td>\n      <td>3</td>\n      <td>Aaron Maashoh</td>\n      <td>23.0</td>\n      <td>821000265.0</td>\n      <td>Scientist</td>\n      <td>19114.12</td>\n      <td>1824.843333</td>\n      <td>3.0</td>\n      <td>...</td>\n      <td>Good</td>\n      <td>809.98</td>\n      <td>28.609352</td>\n      <td>267.0</td>\n      <td>No</td>\n      <td>49.574949</td>\n      <td>21.465380</td>\n      <td>Low_spent_Medium_value_payments</td>\n      <td>331.209863</td>\n      <td>Good</td>\n    </tr>\n    <tr>\n      <th>3</th>\n      <td>5637</td>\n      <td>3392</td>\n      <td>4</td>\n      <td>Aaron Maashoh</td>\n      <td>23.0</td>\n      <td>821000265.0</td>\n      <td>Scientist</td>\n      <td>19114.12</td>\n      <td>1824.843333</td>\n      <td>3.0</td>\n      <td>...</td>\n      <td>Good</td>\n      <td>809.98</td>\n      <td>31.377862</td>\n      <td>268.0</td>\n      <td>No</td>\n      <td>49.574949</td>\n      <td>21.465380</td>\n      <td>Low_spent_Small_value_payments</td>\n      <td>223.451310</td>\n      <td>Good</td>\n    </tr>\n    <tr>\n      <th>4</th>\n      <td>5638</td>\n      <td>3392</td>\n      <td>5</td>\n      <td>Aaron Maashoh</td>\n      <td>23.0</td>\n      <td>821000265.0</td>\n      <td>Scientist</td>\n      <td>19114.12</td>\n      <td>1824.843333</td>\n      <td>3.0</td>\n      <td>...</td>\n      <td>Good</td>\n      <td>809.98</td>\n      <td>24.797347</td>\n      <td>269.0</td>\n      <td>No</td>\n      <td>49.574949</td>\n      <td>21.465380</td>\n      <td>High_spent_Medium_value_payments</td>\n      <td>341.489231</td>\n      <td>Good</td>\n    </tr>\n    <tr>\n      <th>...</th>\n      <td>...</td>\n      <td>...</td>\n      <td>...</td>\n      <td>...</td>\n      <td>...</td>\n      <td>...</td>\n      <td>...</td>\n      <td>...</td>\n      <td>...</td>\n      <td>...</td>\n      <td>...</td>\n      <td>...</td>\n      <td>...</td>\n      <td>...</td>\n      <td>...</td>\n      <td>...</td>\n      <td>...</td>\n      <td>...</td>\n      <td>...</td>\n      <td>...</td>\n      <td>...</td>\n    </tr>\n    <tr>\n      <th>99995</th>\n      <td>155625</td>\n      <td>37932</td>\n      <td>4</td>\n      <td>Nicks</td>\n      <td>25.0</td>\n      <td>78735990.0</td>\n      <td>Mechanic</td>\n      <td>39628.99</td>\n      <td>3359.415833</td>\n      <td>4.0</td>\n      <td>...</td>\n      <td>Good</td>\n      <td>502.38</td>\n      <td>34.663572</td>\n      <td>378.0</td>\n      <td>No</td>\n      <td>35.104023</td>\n      <td>24.028477</td>\n      <td>High_spent_Large_value_payments</td>\n      <td>479.866228</td>\n      <td>Poor</td>\n    </tr>\n    <tr>\n      <th>99996</th>\n      <td>155626</td>\n      <td>37932</td>\n      <td>5</td>\n      <td>Nicks</td>\n      <td>25.0</td>\n      <td>78735990.0</td>\n      <td>Mechanic</td>\n      <td>39628.99</td>\n      <td>3359.415833</td>\n      <td>4.0</td>\n      <td>...</td>\n      <td>Good</td>\n      <td>502.38</td>\n      <td>40.565631</td>\n      <td>379.0</td>\n      <td>No</td>\n      <td>35.104023</td>\n      <td>24.028477</td>\n      <td>High_spent_Medium_value_payments</td>\n      <td>496.651610</td>\n      <td>Poor</td>\n    </tr>\n    <tr>\n      <th>99997</th>\n      <td>155627</td>\n      <td>37932</td>\n      <td>6</td>\n      <td>Nicks</td>\n      <td>25.0</td>\n      <td>78735990.0</td>\n      <td>Mechanic</td>\n      <td>39628.99</td>\n      <td>3359.415833</td>\n      <td>4.0</td>\n      <td>...</td>\n      <td>Good</td>\n      <td>502.38</td>\n      <td>41.255522</td>\n      <td>380.0</td>\n      <td>No</td>\n      <td>35.104023</td>\n      <td>24.028477</td>\n      <td>High_spent_Large_value_payments</td>\n      <td>516.809083</td>\n      <td>Poor</td>\n    </tr>\n    <tr>\n      <th>99998</th>\n      <td>155628</td>\n      <td>37932</td>\n      <td>7</td>\n      <td>Nicks</td>\n      <td>25.0</td>\n      <td>78735990.0</td>\n      <td>Mechanic</td>\n      <td>39628.99</td>\n      <td>3359.415833</td>\n      <td>4.0</td>\n      <td>...</td>\n      <td>Good</td>\n      <td>502.38</td>\n      <td>33.638208</td>\n      <td>381.0</td>\n      <td>No</td>\n      <td>35.104023</td>\n      <td>24.028477</td>\n      <td>Low_spent_Large_value_payments</td>\n      <td>319.164979</td>\n      <td>Standard</td>\n    </tr>\n    <tr>\n      <th>99999</th>\n      <td>155629</td>\n      <td>37932</td>\n      <td>8</td>\n      <td>Nicks</td>\n      <td>25.0</td>\n      <td>78735990.0</td>\n      <td>Mechanic</td>\n      <td>39628.99</td>\n      <td>3359.415833</td>\n      <td>4.0</td>\n      <td>...</td>\n      <td>Good</td>\n      <td>502.38</td>\n      <td>34.192463</td>\n      <td>382.0</td>\n      <td>No</td>\n      <td>35.104023</td>\n      <td>24.028477</td>\n      <td>High_spent_Medium_value_payments</td>\n      <td>393.673696</td>\n      <td>Poor</td>\n    </tr>\n  </tbody>\n</table>\n<p>100000 rows × 28 columns</p>\n</div>"
     },
     "execution_count": 194,
     "metadata": {},
     "output_type": "execute_result"
    }
   ],
   "source": [
    "df = pd.read_csv(os.path.join(DATA_DIR, DATA))\n",
    "df"
   ],
   "metadata": {
    "collapsed": false
   }
  },
  {
   "cell_type": "code",
   "execution_count": 195,
   "outputs": [],
   "source": [
    "drop_cols = ['Name', 'SSN']\n",
    "cleaned_df = df.drop(drop_cols, axis=1)"
   ],
   "metadata": {
    "collapsed": false
   }
  },
  {
   "cell_type": "code",
   "execution_count": 208,
   "outputs": [
    {
     "data": {
      "text/plain": "['Credit-BuilderLoan']"
     },
     "execution_count": 208,
     "metadata": {},
     "output_type": "execute_result"
    }
   ],
   "source": [
    "cleaned_df['Type_of_Loan'][9]"
   ],
   "metadata": {
    "collapsed": false
   }
  },
  {
   "cell_type": "code",
   "execution_count": 197,
   "outputs": [
    {
     "data": {
      "text/plain": "0        [Auto Loan,  Credit-Builder Loan,  Personal Lo...\n1        [Auto Loan,  Credit-Builder Loan,  Personal Lo...\n2        [Auto Loan,  Credit-Builder Loan,  Personal Lo...\n3        [Auto Loan,  Credit-Builder Loan,  Personal Lo...\n4        [Auto Loan,  Credit-Builder Loan,  Personal Lo...\n                               ...                        \n99995                       [Auto Loan,  and Student Loan]\n99996                       [Auto Loan,  and Student Loan]\n99997                       [Auto Loan,  and Student Loan]\n99998                       [Auto Loan,  and Student Loan]\n99999                       [Auto Loan,  and Student Loan]\nName: Type_of_Loan, Length: 100000, dtype: object"
     },
     "execution_count": 197,
     "metadata": {},
     "output_type": "execute_result"
    }
   ],
   "source": [
    "cleaned_df['Type_of_Loan'].str.split(',')"
   ],
   "metadata": {
    "collapsed": false
   }
  },
  {
   "cell_type": "code",
   "execution_count": 198,
   "outputs": [],
   "source": [
    "import re"
   ],
   "metadata": {
    "collapsed": false
   }
  },
  {
   "cell_type": "code",
   "execution_count": 199,
   "outputs": [],
   "source": [
    "search = ' and '\n",
    "space = ' '"
   ],
   "metadata": {
    "collapsed": false
   }
  },
  {
   "cell_type": "code",
   "execution_count": 200,
   "outputs": [],
   "source": [
    "def search_and_remove(li, search_word):\n",
    "\n",
    "    for i, word in enumerate(li):\n",
    "        if search_word in word:\n",
    "            li[i] = re.sub(search_word, '', word)\n",
    "            # li[i] = re.sub(space, '', word)\n",
    "        # else:\n",
    "            # li[i] = re.sub(space, '', word)\n",
    "    return li\n",
    "\n",
    "def white_space_remover(li, ws):\n",
    "\n",
    "    for i, word in enumerate(li):\n",
    "        if ws in word:\n",
    "            li[i] = re.sub(ws, '', word)\n",
    "    return li"
   ],
   "metadata": {
    "collapsed": false
   }
  },
  {
   "cell_type": "code",
   "execution_count": 201,
   "outputs": [
    {
     "data": {
      "text/plain": "['Auto Loan', 'Credit-Builder Loan', 'Personal Loan', 'Home Equity Loan']"
     },
     "execution_count": 201,
     "metadata": {},
     "output_type": "execute_result"
    }
   ],
   "source": [
    "search_and_remove(['Auto Loan',  'Credit-Builder Loan',  'Personal Loan',  ' and Home Equity Loan'], search)"
   ],
   "metadata": {
    "collapsed": false
   }
  },
  {
   "cell_type": "code",
   "execution_count": 205,
   "outputs": [],
   "source": [
    "cleaned_df['Type_of_Loan'] = cleaned_df['Type_of_Loan'].str.split(',').apply(lambda x :  search_and_remove(x, search))\n",
    "cleaned_df['Type_of_Loan'] = cleaned_df['Type_of_Loan'].apply(lambda x :  white_space_remover(x, space))"
   ],
   "metadata": {
    "collapsed": false
   }
  },
  {
   "cell_type": "code",
   "execution_count": 206,
   "outputs": [
    {
     "data": {
      "text/plain": "0        [AutoLoan, Credit-BuilderLoan, PersonalLoan, H...\n1        [AutoLoan, Credit-BuilderLoan, PersonalLoan, H...\n2        [AutoLoan, Credit-BuilderLoan, PersonalLoan, H...\n3        [AutoLoan, Credit-BuilderLoan, PersonalLoan, H...\n4        [AutoLoan, Credit-BuilderLoan, PersonalLoan, H...\n                               ...                        \n99995                              [AutoLoan, StudentLoan]\n99996                              [AutoLoan, StudentLoan]\n99997                              [AutoLoan, StudentLoan]\n99998                              [AutoLoan, StudentLoan]\n99999                              [AutoLoan, StudentLoan]\nName: Type_of_Loan, Length: 100000, dtype: object"
     },
     "execution_count": 206,
     "metadata": {},
     "output_type": "execute_result"
    }
   ],
   "source": [
    "cleaned_df['Type_of_Loan']"
   ],
   "metadata": {
    "collapsed": false
   }
  },
  {
   "cell_type": "code",
   "execution_count": 190,
   "outputs": [
    {
     "data": {
      "text/plain": "['Auto Loan', ' Credit-Builder Loan', ' Personal Loan', 'Home Equity Loan']"
     },
     "execution_count": 190,
     "metadata": {},
     "output_type": "execute_result"
    }
   ],
   "source": [
    "cleaned_df['Type_of_Loan'][0]"
   ],
   "metadata": {
    "collapsed": false
   }
  },
  {
   "cell_type": "code",
   "execution_count": 209,
   "outputs": [
    {
     "ename": "TypeError",
     "evalue": "unhashable type: 'list'",
     "output_type": "error",
     "traceback": [
      "\u001B[0;31m---------------------------------------------------------------------------\u001B[0m",
      "\u001B[0;31mTypeError\u001B[0m                                 Traceback (most recent call last)",
      "File \u001B[0;32m~/opt/anaconda3/envs/tf_metal/lib/python3.8/site-packages/pandas/core/arrays/categorical.py:438\u001B[0m, in \u001B[0;36mCategorical.__init__\u001B[0;34m(self, values, categories, ordered, dtype, fastpath, copy)\u001B[0m\n\u001B[1;32m    437\u001B[0m \u001B[38;5;28;01mtry\u001B[39;00m:\n\u001B[0;32m--> 438\u001B[0m     codes, categories \u001B[38;5;241m=\u001B[39m \u001B[43mfactorize\u001B[49m\u001B[43m(\u001B[49m\u001B[43mvalues\u001B[49m\u001B[43m,\u001B[49m\u001B[43m \u001B[49m\u001B[43msort\u001B[49m\u001B[38;5;241;43m=\u001B[39;49m\u001B[38;5;28;43;01mTrue\u001B[39;49;00m\u001B[43m)\u001B[49m\n\u001B[1;32m    439\u001B[0m \u001B[38;5;28;01mexcept\u001B[39;00m \u001B[38;5;167;01mTypeError\u001B[39;00m \u001B[38;5;28;01mas\u001B[39;00m err:\n",
      "File \u001B[0;32m~/opt/anaconda3/envs/tf_metal/lib/python3.8/site-packages/pandas/core/algorithms.py:763\u001B[0m, in \u001B[0;36mfactorize\u001B[0;34m(values, sort, na_sentinel, size_hint)\u001B[0m\n\u001B[1;32m    761\u001B[0m         na_value \u001B[38;5;241m=\u001B[39m \u001B[38;5;28;01mNone\u001B[39;00m\n\u001B[0;32m--> 763\u001B[0m     codes, uniques \u001B[38;5;241m=\u001B[39m \u001B[43mfactorize_array\u001B[49m\u001B[43m(\u001B[49m\n\u001B[1;32m    764\u001B[0m \u001B[43m        \u001B[49m\u001B[43mvalues\u001B[49m\u001B[43m,\u001B[49m\u001B[43m \u001B[49m\u001B[43mna_sentinel\u001B[49m\u001B[38;5;241;43m=\u001B[39;49m\u001B[43mna_sentinel\u001B[49m\u001B[43m,\u001B[49m\u001B[43m \u001B[49m\u001B[43msize_hint\u001B[49m\u001B[38;5;241;43m=\u001B[39;49m\u001B[43msize_hint\u001B[49m\u001B[43m,\u001B[49m\u001B[43m \u001B[49m\u001B[43mna_value\u001B[49m\u001B[38;5;241;43m=\u001B[39;49m\u001B[43mna_value\u001B[49m\n\u001B[1;32m    765\u001B[0m \u001B[43m    \u001B[49m\u001B[43m)\u001B[49m\n\u001B[1;32m    767\u001B[0m \u001B[38;5;28;01mif\u001B[39;00m sort \u001B[38;5;129;01mand\u001B[39;00m \u001B[38;5;28mlen\u001B[39m(uniques) \u001B[38;5;241m>\u001B[39m \u001B[38;5;241m0\u001B[39m:\n",
      "File \u001B[0;32m~/opt/anaconda3/envs/tf_metal/lib/python3.8/site-packages/pandas/core/algorithms.py:560\u001B[0m, in \u001B[0;36mfactorize_array\u001B[0;34m(values, na_sentinel, size_hint, na_value, mask)\u001B[0m\n\u001B[1;32m    559\u001B[0m table \u001B[38;5;241m=\u001B[39m hash_klass(size_hint \u001B[38;5;129;01mor\u001B[39;00m \u001B[38;5;28mlen\u001B[39m(values))\n\u001B[0;32m--> 560\u001B[0m uniques, codes \u001B[38;5;241m=\u001B[39m \u001B[43mtable\u001B[49m\u001B[38;5;241;43m.\u001B[39;49m\u001B[43mfactorize\u001B[49m\u001B[43m(\u001B[49m\n\u001B[1;32m    561\u001B[0m \u001B[43m    \u001B[49m\u001B[43mvalues\u001B[49m\u001B[43m,\u001B[49m\u001B[43m \u001B[49m\u001B[43mna_sentinel\u001B[49m\u001B[38;5;241;43m=\u001B[39;49m\u001B[43mna_sentinel\u001B[49m\u001B[43m,\u001B[49m\u001B[43m \u001B[49m\u001B[43mna_value\u001B[49m\u001B[38;5;241;43m=\u001B[39;49m\u001B[43mna_value\u001B[49m\u001B[43m,\u001B[49m\u001B[43m \u001B[49m\u001B[43mmask\u001B[49m\u001B[38;5;241;43m=\u001B[39;49m\u001B[43mmask\u001B[49m\n\u001B[1;32m    562\u001B[0m \u001B[43m\u001B[49m\u001B[43m)\u001B[49m\n\u001B[1;32m    564\u001B[0m codes \u001B[38;5;241m=\u001B[39m ensure_platform_int(codes)\n",
      "File \u001B[0;32mpandas/_libs/hashtable_class_helper.pxi:5394\u001B[0m, in \u001B[0;36mpandas._libs.hashtable.PyObjectHashTable.factorize\u001B[0;34m()\u001B[0m\n",
      "File \u001B[0;32mpandas/_libs/hashtable_class_helper.pxi:5310\u001B[0m, in \u001B[0;36mpandas._libs.hashtable.PyObjectHashTable._unique\u001B[0;34m()\u001B[0m\n",
      "\u001B[0;31mTypeError\u001B[0m: unhashable type: 'list'",
      "\nDuring handling of the above exception, another exception occurred:\n",
      "\u001B[0;31mTypeError\u001B[0m                                 Traceback (most recent call last)",
      "Cell \u001B[0;32mIn [209], line 1\u001B[0m\n\u001B[0;32m----> 1\u001B[0m pd\u001B[38;5;241m.\u001B[39mget_dummies(cleaned_df[\u001B[38;5;124m'\u001B[39m\u001B[38;5;124mType_of_Loan\u001B[39m\u001B[38;5;124m'\u001B[39m])\n",
      "File \u001B[0;32m~/opt/anaconda3/envs/tf_metal/lib/python3.8/site-packages/pandas/core/reshape/reshape.py:989\u001B[0m, in \u001B[0;36mget_dummies\u001B[0;34m(data, prefix, prefix_sep, dummy_na, columns, sparse, drop_first, dtype)\u001B[0m\n\u001B[1;32m    987\u001B[0m     result \u001B[38;5;241m=\u001B[39m concat(with_dummies, axis\u001B[38;5;241m=\u001B[39m\u001B[38;5;241m1\u001B[39m)\n\u001B[1;32m    988\u001B[0m \u001B[38;5;28;01melse\u001B[39;00m:\n\u001B[0;32m--> 989\u001B[0m     result \u001B[38;5;241m=\u001B[39m \u001B[43m_get_dummies_1d\u001B[49m\u001B[43m(\u001B[49m\n\u001B[1;32m    990\u001B[0m \u001B[43m        \u001B[49m\u001B[43mdata\u001B[49m\u001B[43m,\u001B[49m\n\u001B[1;32m    991\u001B[0m \u001B[43m        \u001B[49m\u001B[43mprefix\u001B[49m\u001B[43m,\u001B[49m\n\u001B[1;32m    992\u001B[0m \u001B[43m        \u001B[49m\u001B[43mprefix_sep\u001B[49m\u001B[43m,\u001B[49m\n\u001B[1;32m    993\u001B[0m \u001B[43m        \u001B[49m\u001B[43mdummy_na\u001B[49m\u001B[43m,\u001B[49m\n\u001B[1;32m    994\u001B[0m \u001B[43m        \u001B[49m\u001B[43msparse\u001B[49m\u001B[38;5;241;43m=\u001B[39;49m\u001B[43msparse\u001B[49m\u001B[43m,\u001B[49m\n\u001B[1;32m    995\u001B[0m \u001B[43m        \u001B[49m\u001B[43mdrop_first\u001B[49m\u001B[38;5;241;43m=\u001B[39;49m\u001B[43mdrop_first\u001B[49m\u001B[43m,\u001B[49m\n\u001B[1;32m    996\u001B[0m \u001B[43m        \u001B[49m\u001B[43mdtype\u001B[49m\u001B[38;5;241;43m=\u001B[39;49m\u001B[43mdtype\u001B[49m\u001B[43m,\u001B[49m\n\u001B[1;32m    997\u001B[0m \u001B[43m    \u001B[49m\u001B[43m)\u001B[49m\n\u001B[1;32m    998\u001B[0m \u001B[38;5;28;01mreturn\u001B[39;00m result\n",
      "File \u001B[0;32m~/opt/anaconda3/envs/tf_metal/lib/python3.8/site-packages/pandas/core/reshape/reshape.py:1013\u001B[0m, in \u001B[0;36m_get_dummies_1d\u001B[0;34m(data, prefix, prefix_sep, dummy_na, sparse, drop_first, dtype)\u001B[0m\n\u001B[1;32m   1010\u001B[0m \u001B[38;5;28;01mfrom\u001B[39;00m \u001B[38;5;21;01mpandas\u001B[39;00m\u001B[38;5;21;01m.\u001B[39;00m\u001B[38;5;21;01mcore\u001B[39;00m\u001B[38;5;21;01m.\u001B[39;00m\u001B[38;5;21;01mreshape\u001B[39;00m\u001B[38;5;21;01m.\u001B[39;00m\u001B[38;5;21;01mconcat\u001B[39;00m \u001B[38;5;28;01mimport\u001B[39;00m concat\n\u001B[1;32m   1012\u001B[0m \u001B[38;5;66;03m# Series avoids inconsistent NaN handling\u001B[39;00m\n\u001B[0;32m-> 1013\u001B[0m codes, levels \u001B[38;5;241m=\u001B[39m \u001B[43mfactorize_from_iterable\u001B[49m\u001B[43m(\u001B[49m\u001B[43mSeries\u001B[49m\u001B[43m(\u001B[49m\u001B[43mdata\u001B[49m\u001B[43m)\u001B[49m\u001B[43m)\u001B[49m\n\u001B[1;32m   1015\u001B[0m \u001B[38;5;28;01mif\u001B[39;00m dtype \u001B[38;5;129;01mis\u001B[39;00m \u001B[38;5;28;01mNone\u001B[39;00m:\n\u001B[1;32m   1016\u001B[0m     dtype \u001B[38;5;241m=\u001B[39m np\u001B[38;5;241m.\u001B[39mdtype(np\u001B[38;5;241m.\u001B[39muint8)\n",
      "File \u001B[0;32m~/opt/anaconda3/envs/tf_metal/lib/python3.8/site-packages/pandas/core/arrays/categorical.py:2854\u001B[0m, in \u001B[0;36mfactorize_from_iterable\u001B[0;34m(values)\u001B[0m\n\u001B[1;32m   2849\u001B[0m     codes \u001B[38;5;241m=\u001B[39m values\u001B[38;5;241m.\u001B[39mcodes\n\u001B[1;32m   2850\u001B[0m \u001B[38;5;28;01melse\u001B[39;00m:\n\u001B[1;32m   2851\u001B[0m     \u001B[38;5;66;03m# The value of ordered is irrelevant since we don't use cat as such,\u001B[39;00m\n\u001B[1;32m   2852\u001B[0m     \u001B[38;5;66;03m# but only the resulting categories, the order of which is independent\u001B[39;00m\n\u001B[1;32m   2853\u001B[0m     \u001B[38;5;66;03m# from ordered. Set ordered to False as default. See GH #15457\u001B[39;00m\n\u001B[0;32m-> 2854\u001B[0m     cat \u001B[38;5;241m=\u001B[39m \u001B[43mCategorical\u001B[49m\u001B[43m(\u001B[49m\u001B[43mvalues\u001B[49m\u001B[43m,\u001B[49m\u001B[43m \u001B[49m\u001B[43mordered\u001B[49m\u001B[38;5;241;43m=\u001B[39;49m\u001B[38;5;28;43;01mFalse\u001B[39;49;00m\u001B[43m)\u001B[49m\n\u001B[1;32m   2855\u001B[0m     categories \u001B[38;5;241m=\u001B[39m cat\u001B[38;5;241m.\u001B[39mcategories\n\u001B[1;32m   2856\u001B[0m     codes \u001B[38;5;241m=\u001B[39m cat\u001B[38;5;241m.\u001B[39mcodes\n",
      "File \u001B[0;32m~/opt/anaconda3/envs/tf_metal/lib/python3.8/site-packages/pandas/core/arrays/categorical.py:440\u001B[0m, in \u001B[0;36mCategorical.__init__\u001B[0;34m(self, values, categories, ordered, dtype, fastpath, copy)\u001B[0m\n\u001B[1;32m    438\u001B[0m     codes, categories \u001B[38;5;241m=\u001B[39m factorize(values, sort\u001B[38;5;241m=\u001B[39m\u001B[38;5;28;01mTrue\u001B[39;00m)\n\u001B[1;32m    439\u001B[0m \u001B[38;5;28;01mexcept\u001B[39;00m \u001B[38;5;167;01mTypeError\u001B[39;00m \u001B[38;5;28;01mas\u001B[39;00m err:\n\u001B[0;32m--> 440\u001B[0m     codes, categories \u001B[38;5;241m=\u001B[39m \u001B[43mfactorize\u001B[49m\u001B[43m(\u001B[49m\u001B[43mvalues\u001B[49m\u001B[43m,\u001B[49m\u001B[43m \u001B[49m\u001B[43msort\u001B[49m\u001B[38;5;241;43m=\u001B[39;49m\u001B[38;5;28;43;01mFalse\u001B[39;49;00m\u001B[43m)\u001B[49m\n\u001B[1;32m    441\u001B[0m     \u001B[38;5;28;01mif\u001B[39;00m dtype\u001B[38;5;241m.\u001B[39mordered:\n\u001B[1;32m    442\u001B[0m         \u001B[38;5;66;03m# raise, as we don't have a sortable data structure and so\u001B[39;00m\n\u001B[1;32m    443\u001B[0m         \u001B[38;5;66;03m# the user should give us one by specifying categories\u001B[39;00m\n\u001B[1;32m    444\u001B[0m         \u001B[38;5;28;01mraise\u001B[39;00m \u001B[38;5;167;01mTypeError\u001B[39;00m(\n\u001B[1;32m    445\u001B[0m             \u001B[38;5;124m\"\u001B[39m\u001B[38;5;124m'\u001B[39m\u001B[38;5;124mvalues\u001B[39m\u001B[38;5;124m'\u001B[39m\u001B[38;5;124m is not ordered, please \u001B[39m\u001B[38;5;124m\"\u001B[39m\n\u001B[1;32m    446\u001B[0m             \u001B[38;5;124m\"\u001B[39m\u001B[38;5;124mexplicitly specify the categories order \u001B[39m\u001B[38;5;124m\"\u001B[39m\n\u001B[1;32m    447\u001B[0m             \u001B[38;5;124m\"\u001B[39m\u001B[38;5;124mby passing in a categories argument.\u001B[39m\u001B[38;5;124m\"\u001B[39m\n\u001B[1;32m    448\u001B[0m         ) \u001B[38;5;28;01mfrom\u001B[39;00m \u001B[38;5;21;01merr\u001B[39;00m\n",
      "File \u001B[0;32m~/opt/anaconda3/envs/tf_metal/lib/python3.8/site-packages/pandas/core/algorithms.py:763\u001B[0m, in \u001B[0;36mfactorize\u001B[0;34m(values, sort, na_sentinel, size_hint)\u001B[0m\n\u001B[1;32m    760\u001B[0m     \u001B[38;5;28;01melse\u001B[39;00m:\n\u001B[1;32m    761\u001B[0m         na_value \u001B[38;5;241m=\u001B[39m \u001B[38;5;28;01mNone\u001B[39;00m\n\u001B[0;32m--> 763\u001B[0m     codes, uniques \u001B[38;5;241m=\u001B[39m \u001B[43mfactorize_array\u001B[49m\u001B[43m(\u001B[49m\n\u001B[1;32m    764\u001B[0m \u001B[43m        \u001B[49m\u001B[43mvalues\u001B[49m\u001B[43m,\u001B[49m\u001B[43m \u001B[49m\u001B[43mna_sentinel\u001B[49m\u001B[38;5;241;43m=\u001B[39;49m\u001B[43mna_sentinel\u001B[49m\u001B[43m,\u001B[49m\u001B[43m \u001B[49m\u001B[43msize_hint\u001B[49m\u001B[38;5;241;43m=\u001B[39;49m\u001B[43msize_hint\u001B[49m\u001B[43m,\u001B[49m\u001B[43m \u001B[49m\u001B[43mna_value\u001B[49m\u001B[38;5;241;43m=\u001B[39;49m\u001B[43mna_value\u001B[49m\n\u001B[1;32m    765\u001B[0m \u001B[43m    \u001B[49m\u001B[43m)\u001B[49m\n\u001B[1;32m    767\u001B[0m \u001B[38;5;28;01mif\u001B[39;00m sort \u001B[38;5;129;01mand\u001B[39;00m \u001B[38;5;28mlen\u001B[39m(uniques) \u001B[38;5;241m>\u001B[39m \u001B[38;5;241m0\u001B[39m:\n\u001B[1;32m    768\u001B[0m     uniques, codes \u001B[38;5;241m=\u001B[39m safe_sort(\n\u001B[1;32m    769\u001B[0m         uniques, codes, na_sentinel\u001B[38;5;241m=\u001B[39mna_sentinel, assume_unique\u001B[38;5;241m=\u001B[39m\u001B[38;5;28;01mTrue\u001B[39;00m, verify\u001B[38;5;241m=\u001B[39m\u001B[38;5;28;01mFalse\u001B[39;00m\n\u001B[1;32m    770\u001B[0m     )\n",
      "File \u001B[0;32m~/opt/anaconda3/envs/tf_metal/lib/python3.8/site-packages/pandas/core/algorithms.py:560\u001B[0m, in \u001B[0;36mfactorize_array\u001B[0;34m(values, na_sentinel, size_hint, na_value, mask)\u001B[0m\n\u001B[1;32m    557\u001B[0m hash_klass, values \u001B[38;5;241m=\u001B[39m _get_data_algo(values)\n\u001B[1;32m    559\u001B[0m table \u001B[38;5;241m=\u001B[39m hash_klass(size_hint \u001B[38;5;129;01mor\u001B[39;00m \u001B[38;5;28mlen\u001B[39m(values))\n\u001B[0;32m--> 560\u001B[0m uniques, codes \u001B[38;5;241m=\u001B[39m \u001B[43mtable\u001B[49m\u001B[38;5;241;43m.\u001B[39;49m\u001B[43mfactorize\u001B[49m\u001B[43m(\u001B[49m\n\u001B[1;32m    561\u001B[0m \u001B[43m    \u001B[49m\u001B[43mvalues\u001B[49m\u001B[43m,\u001B[49m\u001B[43m \u001B[49m\u001B[43mna_sentinel\u001B[49m\u001B[38;5;241;43m=\u001B[39;49m\u001B[43mna_sentinel\u001B[49m\u001B[43m,\u001B[49m\u001B[43m \u001B[49m\u001B[43mna_value\u001B[49m\u001B[38;5;241;43m=\u001B[39;49m\u001B[43mna_value\u001B[49m\u001B[43m,\u001B[49m\u001B[43m \u001B[49m\u001B[43mmask\u001B[49m\u001B[38;5;241;43m=\u001B[39;49m\u001B[43mmask\u001B[49m\n\u001B[1;32m    562\u001B[0m \u001B[43m\u001B[49m\u001B[43m)\u001B[49m\n\u001B[1;32m    564\u001B[0m codes \u001B[38;5;241m=\u001B[39m ensure_platform_int(codes)\n\u001B[1;32m    565\u001B[0m \u001B[38;5;28;01mreturn\u001B[39;00m codes, uniques\n",
      "File \u001B[0;32mpandas/_libs/hashtable_class_helper.pxi:5394\u001B[0m, in \u001B[0;36mpandas._libs.hashtable.PyObjectHashTable.factorize\u001B[0;34m()\u001B[0m\n",
      "File \u001B[0;32mpandas/_libs/hashtable_class_helper.pxi:5310\u001B[0m, in \u001B[0;36mpandas._libs.hashtable.PyObjectHashTable._unique\u001B[0;34m()\u001B[0m\n",
      "\u001B[0;31mTypeError\u001B[0m: unhashable type: 'list'"
     ]
    }
   ],
   "source": [
    "pd.get_dummies(cleaned_df['Type_of_Loan'])"
   ],
   "metadata": {
    "collapsed": false
   }
  },
  {
   "cell_type": "code",
   "execution_count": 210,
   "outputs": [],
   "source": [
    "type_of_loans = cleaned_df['Type_of_Loan']"
   ],
   "metadata": {
    "collapsed": false
   }
  },
  {
   "cell_type": "code",
   "execution_count": 214,
   "outputs": [
    {
     "data": {
      "text/plain": "         AutoLoan  Credit-BuilderLoan  DebtConsolidationLoan  HomeEquityLoan  \\\n0     0         1                   0                      0               0   \n      1         0                   1                      0               0   \n      2         0                   0                      0               0   \n      3         0                   0                      0               1   \n1     0         1                   0                      0               0   \n...           ...                 ...                    ...             ...   \n99997 1         0                   0                      0               0   \n99998 0         1                   0                      0               0   \n      1         0                   0                      0               0   \n99999 0         1                   0                      0               0   \n      1         0                   0                      0               0   \n\n         MortgageLoan  NoData  NotSpecified  PaydayLoan  PersonalLoan  \\\n0     0             0       0             0           0             0   \n      1             0       0             0           0             0   \n      2             0       0             0           0             1   \n      3             0       0             0           0             0   \n1     0             0       0             0           0             0   \n...               ...     ...           ...         ...           ...   \n99997 1             0       0             0           0             0   \n99998 0             0       0             0           0             0   \n      1             0       0             0           0             0   \n99999 0             0       0             0           0             0   \n      1             0       0             0           0             0   \n\n         StudentLoan  \n0     0            0  \n      1            0  \n      2            0  \n      3            0  \n1     0            0  \n...              ...  \n99997 1            1  \n99998 0            0  \n      1            1  \n99999 0            0  \n      1            1  \n\n[364696 rows x 10 columns]",
      "text/html": "<div>\n<style scoped>\n    .dataframe tbody tr th:only-of-type {\n        vertical-align: middle;\n    }\n\n    .dataframe tbody tr th {\n        vertical-align: top;\n    }\n\n    .dataframe thead th {\n        text-align: right;\n    }\n</style>\n<table border=\"1\" class=\"dataframe\">\n  <thead>\n    <tr style=\"text-align: right;\">\n      <th></th>\n      <th></th>\n      <th>AutoLoan</th>\n      <th>Credit-BuilderLoan</th>\n      <th>DebtConsolidationLoan</th>\n      <th>HomeEquityLoan</th>\n      <th>MortgageLoan</th>\n      <th>NoData</th>\n      <th>NotSpecified</th>\n      <th>PaydayLoan</th>\n      <th>PersonalLoan</th>\n      <th>StudentLoan</th>\n    </tr>\n  </thead>\n  <tbody>\n    <tr>\n      <th rowspan=\"4\" valign=\"top\">0</th>\n      <th>0</th>\n      <td>1</td>\n      <td>0</td>\n      <td>0</td>\n      <td>0</td>\n      <td>0</td>\n      <td>0</td>\n      <td>0</td>\n      <td>0</td>\n      <td>0</td>\n      <td>0</td>\n    </tr>\n    <tr>\n      <th>1</th>\n      <td>0</td>\n      <td>1</td>\n      <td>0</td>\n      <td>0</td>\n      <td>0</td>\n      <td>0</td>\n      <td>0</td>\n      <td>0</td>\n      <td>0</td>\n      <td>0</td>\n    </tr>\n    <tr>\n      <th>2</th>\n      <td>0</td>\n      <td>0</td>\n      <td>0</td>\n      <td>0</td>\n      <td>0</td>\n      <td>0</td>\n      <td>0</td>\n      <td>0</td>\n      <td>1</td>\n      <td>0</td>\n    </tr>\n    <tr>\n      <th>3</th>\n      <td>0</td>\n      <td>0</td>\n      <td>0</td>\n      <td>1</td>\n      <td>0</td>\n      <td>0</td>\n      <td>0</td>\n      <td>0</td>\n      <td>0</td>\n      <td>0</td>\n    </tr>\n    <tr>\n      <th>1</th>\n      <th>0</th>\n      <td>1</td>\n      <td>0</td>\n      <td>0</td>\n      <td>0</td>\n      <td>0</td>\n      <td>0</td>\n      <td>0</td>\n      <td>0</td>\n      <td>0</td>\n      <td>0</td>\n    </tr>\n    <tr>\n      <th>...</th>\n      <th>...</th>\n      <td>...</td>\n      <td>...</td>\n      <td>...</td>\n      <td>...</td>\n      <td>...</td>\n      <td>...</td>\n      <td>...</td>\n      <td>...</td>\n      <td>...</td>\n      <td>...</td>\n    </tr>\n    <tr>\n      <th>99997</th>\n      <th>1</th>\n      <td>0</td>\n      <td>0</td>\n      <td>0</td>\n      <td>0</td>\n      <td>0</td>\n      <td>0</td>\n      <td>0</td>\n      <td>0</td>\n      <td>0</td>\n      <td>1</td>\n    </tr>\n    <tr>\n      <th rowspan=\"2\" valign=\"top\">99998</th>\n      <th>0</th>\n      <td>1</td>\n      <td>0</td>\n      <td>0</td>\n      <td>0</td>\n      <td>0</td>\n      <td>0</td>\n      <td>0</td>\n      <td>0</td>\n      <td>0</td>\n      <td>0</td>\n    </tr>\n    <tr>\n      <th>1</th>\n      <td>0</td>\n      <td>0</td>\n      <td>0</td>\n      <td>0</td>\n      <td>0</td>\n      <td>0</td>\n      <td>0</td>\n      <td>0</td>\n      <td>0</td>\n      <td>1</td>\n    </tr>\n    <tr>\n      <th rowspan=\"2\" valign=\"top\">99999</th>\n      <th>0</th>\n      <td>1</td>\n      <td>0</td>\n      <td>0</td>\n      <td>0</td>\n      <td>0</td>\n      <td>0</td>\n      <td>0</td>\n      <td>0</td>\n      <td>0</td>\n      <td>0</td>\n    </tr>\n    <tr>\n      <th>1</th>\n      <td>0</td>\n      <td>0</td>\n      <td>0</td>\n      <td>0</td>\n      <td>0</td>\n      <td>0</td>\n      <td>0</td>\n      <td>0</td>\n      <td>0</td>\n      <td>1</td>\n    </tr>\n  </tbody>\n</table>\n<p>364696 rows × 10 columns</p>\n</div>"
     },
     "execution_count": 214,
     "metadata": {},
     "output_type": "execute_result"
    }
   ],
   "source": [
    "pd.get_dummies(type_of_loans.apply(pd.Series).stack()).sum(axis=1)"
   ],
   "metadata": {
    "collapsed": false
   }
  },
  {
   "cell_type": "code",
   "execution_count": 218,
   "outputs": [
    {
     "name": "stderr",
     "output_type": "stream",
     "text": [
      "/var/folders/rm/1g600byx25b_ht2r9ty6b4_00000gn/T/ipykernel_43639/2085967712.py:1: FutureWarning: Using the level keyword in DataFrame and Series aggregations is deprecated and will be removed in a future version. Use groupby instead. df.sum(level=1) should use df.groupby(level=1).sum().\n",
      "  loan_dummy_df = pd.get_dummies(type_of_loans.apply(pd.Series).stack()).sum(level=0)\n"
     ]
    },
    {
     "data": {
      "text/plain": "       AutoLoan  Credit-BuilderLoan  DebtConsolidationLoan  HomeEquityLoan  \\\n0             1                   1                      0               1   \n1             1                   1                      0               1   \n2             1                   1                      0               1   \n3             1                   1                      0               1   \n4             1                   1                      0               1   \n...         ...                 ...                    ...             ...   \n99995         1                   0                      0               0   \n99996         1                   0                      0               0   \n99997         1                   0                      0               0   \n99998         1                   0                      0               0   \n99999         1                   0                      0               0   \n\n       MortgageLoan  NoData  NotSpecified  PaydayLoan  PersonalLoan  \\\n0                 0       0             0           0             1   \n1                 0       0             0           0             1   \n2                 0       0             0           0             1   \n3                 0       0             0           0             1   \n4                 0       0             0           0             1   \n...             ...     ...           ...         ...           ...   \n99995             0       0             0           0             0   \n99996             0       0             0           0             0   \n99997             0       0             0           0             0   \n99998             0       0             0           0             0   \n99999             0       0             0           0             0   \n\n       StudentLoan  \n0                0  \n1                0  \n2                0  \n3                0  \n4                0  \n...            ...  \n99995            1  \n99996            1  \n99997            1  \n99998            1  \n99999            1  \n\n[100000 rows x 10 columns]",
      "text/html": "<div>\n<style scoped>\n    .dataframe tbody tr th:only-of-type {\n        vertical-align: middle;\n    }\n\n    .dataframe tbody tr th {\n        vertical-align: top;\n    }\n\n    .dataframe thead th {\n        text-align: right;\n    }\n</style>\n<table border=\"1\" class=\"dataframe\">\n  <thead>\n    <tr style=\"text-align: right;\">\n      <th></th>\n      <th>AutoLoan</th>\n      <th>Credit-BuilderLoan</th>\n      <th>DebtConsolidationLoan</th>\n      <th>HomeEquityLoan</th>\n      <th>MortgageLoan</th>\n      <th>NoData</th>\n      <th>NotSpecified</th>\n      <th>PaydayLoan</th>\n      <th>PersonalLoan</th>\n      <th>StudentLoan</th>\n    </tr>\n  </thead>\n  <tbody>\n    <tr>\n      <th>0</th>\n      <td>1</td>\n      <td>1</td>\n      <td>0</td>\n      <td>1</td>\n      <td>0</td>\n      <td>0</td>\n      <td>0</td>\n      <td>0</td>\n      <td>1</td>\n      <td>0</td>\n    </tr>\n    <tr>\n      <th>1</th>\n      <td>1</td>\n      <td>1</td>\n      <td>0</td>\n      <td>1</td>\n      <td>0</td>\n      <td>0</td>\n      <td>0</td>\n      <td>0</td>\n      <td>1</td>\n      <td>0</td>\n    </tr>\n    <tr>\n      <th>2</th>\n      <td>1</td>\n      <td>1</td>\n      <td>0</td>\n      <td>1</td>\n      <td>0</td>\n      <td>0</td>\n      <td>0</td>\n      <td>0</td>\n      <td>1</td>\n      <td>0</td>\n    </tr>\n    <tr>\n      <th>3</th>\n      <td>1</td>\n      <td>1</td>\n      <td>0</td>\n      <td>1</td>\n      <td>0</td>\n      <td>0</td>\n      <td>0</td>\n      <td>0</td>\n      <td>1</td>\n      <td>0</td>\n    </tr>\n    <tr>\n      <th>4</th>\n      <td>1</td>\n      <td>1</td>\n      <td>0</td>\n      <td>1</td>\n      <td>0</td>\n      <td>0</td>\n      <td>0</td>\n      <td>0</td>\n      <td>1</td>\n      <td>0</td>\n    </tr>\n    <tr>\n      <th>...</th>\n      <td>...</td>\n      <td>...</td>\n      <td>...</td>\n      <td>...</td>\n      <td>...</td>\n      <td>...</td>\n      <td>...</td>\n      <td>...</td>\n      <td>...</td>\n      <td>...</td>\n    </tr>\n    <tr>\n      <th>99995</th>\n      <td>1</td>\n      <td>0</td>\n      <td>0</td>\n      <td>0</td>\n      <td>0</td>\n      <td>0</td>\n      <td>0</td>\n      <td>0</td>\n      <td>0</td>\n      <td>1</td>\n    </tr>\n    <tr>\n      <th>99996</th>\n      <td>1</td>\n      <td>0</td>\n      <td>0</td>\n      <td>0</td>\n      <td>0</td>\n      <td>0</td>\n      <td>0</td>\n      <td>0</td>\n      <td>0</td>\n      <td>1</td>\n    </tr>\n    <tr>\n      <th>99997</th>\n      <td>1</td>\n      <td>0</td>\n      <td>0</td>\n      <td>0</td>\n      <td>0</td>\n      <td>0</td>\n      <td>0</td>\n      <td>0</td>\n      <td>0</td>\n      <td>1</td>\n    </tr>\n    <tr>\n      <th>99998</th>\n      <td>1</td>\n      <td>0</td>\n      <td>0</td>\n      <td>0</td>\n      <td>0</td>\n      <td>0</td>\n      <td>0</td>\n      <td>0</td>\n      <td>0</td>\n      <td>1</td>\n    </tr>\n    <tr>\n      <th>99999</th>\n      <td>1</td>\n      <td>0</td>\n      <td>0</td>\n      <td>0</td>\n      <td>0</td>\n      <td>0</td>\n      <td>0</td>\n      <td>0</td>\n      <td>0</td>\n      <td>1</td>\n    </tr>\n  </tbody>\n</table>\n<p>100000 rows × 10 columns</p>\n</div>"
     },
     "execution_count": 218,
     "metadata": {},
     "output_type": "execute_result"
    }
   ],
   "source": [
    "loan_dummy_df = pd.get_dummies(type_of_loans.apply(pd.Series).stack()).sum(level=0)\n",
    "loan_dummy_df"
   ],
   "metadata": {
    "collapsed": false
   }
  },
  {
   "cell_type": "code",
   "execution_count": 236,
   "outputs": [
    {
     "data": {
      "text/plain": "['ID',\n 'Customer_ID',\n 'Month',\n 'Age',\n 'Occupation',\n 'Annual_Income',\n 'Monthly_Inhand_Salary',\n 'Num_Bank_Accounts',\n 'Num_Credit_Card',\n 'Interest_Rate',\n 'Num_of_Loan',\n 'Type_of_Loan',\n 'Delay_from_due_date',\n 'Num_of_Delayed_Payment',\n 'Changed_Credit_Limit',\n 'Num_Credit_Inquiries',\n 'Credit_Mix',\n 'Outstanding_Debt',\n 'Credit_Utilization_Ratio',\n 'Credit_History_Age',\n 'Payment_of_Min_Amount',\n 'Total_EMI_per_month',\n 'Amount_invested_monthly',\n 'Payment_Behaviour',\n 'Monthly_Balance',\n 'AutoLoan',\n 'Credit-BuilderLoan',\n 'DebtConsolidationLoan',\n 'HomeEquityLoan',\n 'MortgageLoan',\n 'NoData',\n 'NotSpecified',\n 'PaydayLoan',\n 'PersonalLoan',\n 'StudentLoan',\n 'Credit_Score']"
     },
     "execution_count": 236,
     "metadata": {},
     "output_type": "execute_result"
    }
   ],
   "source": [
    "# cleaned_df = pd.concat([cleaned_df, loan_dummy_df], axis=1)\n",
    "cols = cleaned_df.columns.tolist()\n",
    "y_index = cols.index('Credit_Score')\n",
    "new_cols = cols[:y_index] + cols[y_index + 1: ] + cols[y_index].split()\n",
    "new_cols"
   ],
   "metadata": {
    "collapsed": false
   }
  },
  {
   "cell_type": "code",
   "execution_count": 237,
   "outputs": [
    {
     "data": {
      "text/plain": "           ID  Customer_ID  Month   Age Occupation  Annual_Income  \\\n0        5634         3392      1  23.0  Scientist       19114.12   \n1        5635         3392      2  23.0  Scientist       19114.12   \n2        5636         3392      3  23.0  Scientist       19114.12   \n3        5637         3392      4  23.0  Scientist       19114.12   \n4        5638         3392      5  23.0  Scientist       19114.12   \n...       ...          ...    ...   ...        ...            ...   \n99995  155625        37932      4  25.0   Mechanic       39628.99   \n99996  155626        37932      5  25.0   Mechanic       39628.99   \n99997  155627        37932      6  25.0   Mechanic       39628.99   \n99998  155628        37932      7  25.0   Mechanic       39628.99   \n99999  155629        37932      8  25.0   Mechanic       39628.99   \n\n       Monthly_Inhand_Salary  Num_Bank_Accounts  Num_Credit_Card  \\\n0                1824.843333                3.0              4.0   \n1                1824.843333                3.0              4.0   \n2                1824.843333                3.0              4.0   \n3                1824.843333                3.0              4.0   \n4                1824.843333                3.0              4.0   \n...                      ...                ...              ...   \n99995            3359.415833                4.0              6.0   \n99996            3359.415833                4.0              6.0   \n99997            3359.415833                4.0              6.0   \n99998            3359.415833                4.0              6.0   \n99999            3359.415833                4.0              6.0   \n\n       Interest_Rate  ...  Credit-BuilderLoan DebtConsolidationLoan  \\\n0                3.0  ...                   1                     0   \n1                3.0  ...                   1                     0   \n2                3.0  ...                   1                     0   \n3                3.0  ...                   1                     0   \n4                3.0  ...                   1                     0   \n...              ...  ...                 ...                   ...   \n99995            7.0  ...                   0                     0   \n99996            7.0  ...                   0                     0   \n99997            7.0  ...                   0                     0   \n99998            7.0  ...                   0                     0   \n99999            7.0  ...                   0                     0   \n\n       HomeEquityLoan  MortgageLoan  NoData  NotSpecified PaydayLoan  \\\n0                   1             0       0             0          0   \n1                   1             0       0             0          0   \n2                   1             0       0             0          0   \n3                   1             0       0             0          0   \n4                   1             0       0             0          0   \n...               ...           ...     ...           ...        ...   \n99995               0             0       0             0          0   \n99996               0             0       0             0          0   \n99997               0             0       0             0          0   \n99998               0             0       0             0          0   \n99999               0             0       0             0          0   \n\n       PersonalLoan  StudentLoan  Credit_Score  \n0                 1            0          Good  \n1                 1            0          Good  \n2                 1            0          Good  \n3                 1            0          Good  \n4                 1            0          Good  \n...             ...          ...           ...  \n99995             0            1          Poor  \n99996             0            1          Poor  \n99997             0            1          Poor  \n99998             0            1      Standard  \n99999             0            1          Poor  \n\n[100000 rows x 36 columns]",
      "text/html": "<div>\n<style scoped>\n    .dataframe tbody tr th:only-of-type {\n        vertical-align: middle;\n    }\n\n    .dataframe tbody tr th {\n        vertical-align: top;\n    }\n\n    .dataframe thead th {\n        text-align: right;\n    }\n</style>\n<table border=\"1\" class=\"dataframe\">\n  <thead>\n    <tr style=\"text-align: right;\">\n      <th></th>\n      <th>ID</th>\n      <th>Customer_ID</th>\n      <th>Month</th>\n      <th>Age</th>\n      <th>Occupation</th>\n      <th>Annual_Income</th>\n      <th>Monthly_Inhand_Salary</th>\n      <th>Num_Bank_Accounts</th>\n      <th>Num_Credit_Card</th>\n      <th>Interest_Rate</th>\n      <th>...</th>\n      <th>Credit-BuilderLoan</th>\n      <th>DebtConsolidationLoan</th>\n      <th>HomeEquityLoan</th>\n      <th>MortgageLoan</th>\n      <th>NoData</th>\n      <th>NotSpecified</th>\n      <th>PaydayLoan</th>\n      <th>PersonalLoan</th>\n      <th>StudentLoan</th>\n      <th>Credit_Score</th>\n    </tr>\n  </thead>\n  <tbody>\n    <tr>\n      <th>0</th>\n      <td>5634</td>\n      <td>3392</td>\n      <td>1</td>\n      <td>23.0</td>\n      <td>Scientist</td>\n      <td>19114.12</td>\n      <td>1824.843333</td>\n      <td>3.0</td>\n      <td>4.0</td>\n      <td>3.0</td>\n      <td>...</td>\n      <td>1</td>\n      <td>0</td>\n      <td>1</td>\n      <td>0</td>\n      <td>0</td>\n      <td>0</td>\n      <td>0</td>\n      <td>1</td>\n      <td>0</td>\n      <td>Good</td>\n    </tr>\n    <tr>\n      <th>1</th>\n      <td>5635</td>\n      <td>3392</td>\n      <td>2</td>\n      <td>23.0</td>\n      <td>Scientist</td>\n      <td>19114.12</td>\n      <td>1824.843333</td>\n      <td>3.0</td>\n      <td>4.0</td>\n      <td>3.0</td>\n      <td>...</td>\n      <td>1</td>\n      <td>0</td>\n      <td>1</td>\n      <td>0</td>\n      <td>0</td>\n      <td>0</td>\n      <td>0</td>\n      <td>1</td>\n      <td>0</td>\n      <td>Good</td>\n    </tr>\n    <tr>\n      <th>2</th>\n      <td>5636</td>\n      <td>3392</td>\n      <td>3</td>\n      <td>23.0</td>\n      <td>Scientist</td>\n      <td>19114.12</td>\n      <td>1824.843333</td>\n      <td>3.0</td>\n      <td>4.0</td>\n      <td>3.0</td>\n      <td>...</td>\n      <td>1</td>\n      <td>0</td>\n      <td>1</td>\n      <td>0</td>\n      <td>0</td>\n      <td>0</td>\n      <td>0</td>\n      <td>1</td>\n      <td>0</td>\n      <td>Good</td>\n    </tr>\n    <tr>\n      <th>3</th>\n      <td>5637</td>\n      <td>3392</td>\n      <td>4</td>\n      <td>23.0</td>\n      <td>Scientist</td>\n      <td>19114.12</td>\n      <td>1824.843333</td>\n      <td>3.0</td>\n      <td>4.0</td>\n      <td>3.0</td>\n      <td>...</td>\n      <td>1</td>\n      <td>0</td>\n      <td>1</td>\n      <td>0</td>\n      <td>0</td>\n      <td>0</td>\n      <td>0</td>\n      <td>1</td>\n      <td>0</td>\n      <td>Good</td>\n    </tr>\n    <tr>\n      <th>4</th>\n      <td>5638</td>\n      <td>3392</td>\n      <td>5</td>\n      <td>23.0</td>\n      <td>Scientist</td>\n      <td>19114.12</td>\n      <td>1824.843333</td>\n      <td>3.0</td>\n      <td>4.0</td>\n      <td>3.0</td>\n      <td>...</td>\n      <td>1</td>\n      <td>0</td>\n      <td>1</td>\n      <td>0</td>\n      <td>0</td>\n      <td>0</td>\n      <td>0</td>\n      <td>1</td>\n      <td>0</td>\n      <td>Good</td>\n    </tr>\n    <tr>\n      <th>...</th>\n      <td>...</td>\n      <td>...</td>\n      <td>...</td>\n      <td>...</td>\n      <td>...</td>\n      <td>...</td>\n      <td>...</td>\n      <td>...</td>\n      <td>...</td>\n      <td>...</td>\n      <td>...</td>\n      <td>...</td>\n      <td>...</td>\n      <td>...</td>\n      <td>...</td>\n      <td>...</td>\n      <td>...</td>\n      <td>...</td>\n      <td>...</td>\n      <td>...</td>\n      <td>...</td>\n    </tr>\n    <tr>\n      <th>99995</th>\n      <td>155625</td>\n      <td>37932</td>\n      <td>4</td>\n      <td>25.0</td>\n      <td>Mechanic</td>\n      <td>39628.99</td>\n      <td>3359.415833</td>\n      <td>4.0</td>\n      <td>6.0</td>\n      <td>7.0</td>\n      <td>...</td>\n      <td>0</td>\n      <td>0</td>\n      <td>0</td>\n      <td>0</td>\n      <td>0</td>\n      <td>0</td>\n      <td>0</td>\n      <td>0</td>\n      <td>1</td>\n      <td>Poor</td>\n    </tr>\n    <tr>\n      <th>99996</th>\n      <td>155626</td>\n      <td>37932</td>\n      <td>5</td>\n      <td>25.0</td>\n      <td>Mechanic</td>\n      <td>39628.99</td>\n      <td>3359.415833</td>\n      <td>4.0</td>\n      <td>6.0</td>\n      <td>7.0</td>\n      <td>...</td>\n      <td>0</td>\n      <td>0</td>\n      <td>0</td>\n      <td>0</td>\n      <td>0</td>\n      <td>0</td>\n      <td>0</td>\n      <td>0</td>\n      <td>1</td>\n      <td>Poor</td>\n    </tr>\n    <tr>\n      <th>99997</th>\n      <td>155627</td>\n      <td>37932</td>\n      <td>6</td>\n      <td>25.0</td>\n      <td>Mechanic</td>\n      <td>39628.99</td>\n      <td>3359.415833</td>\n      <td>4.0</td>\n      <td>6.0</td>\n      <td>7.0</td>\n      <td>...</td>\n      <td>0</td>\n      <td>0</td>\n      <td>0</td>\n      <td>0</td>\n      <td>0</td>\n      <td>0</td>\n      <td>0</td>\n      <td>0</td>\n      <td>1</td>\n      <td>Poor</td>\n    </tr>\n    <tr>\n      <th>99998</th>\n      <td>155628</td>\n      <td>37932</td>\n      <td>7</td>\n      <td>25.0</td>\n      <td>Mechanic</td>\n      <td>39628.99</td>\n      <td>3359.415833</td>\n      <td>4.0</td>\n      <td>6.0</td>\n      <td>7.0</td>\n      <td>...</td>\n      <td>0</td>\n      <td>0</td>\n      <td>0</td>\n      <td>0</td>\n      <td>0</td>\n      <td>0</td>\n      <td>0</td>\n      <td>0</td>\n      <td>1</td>\n      <td>Standard</td>\n    </tr>\n    <tr>\n      <th>99999</th>\n      <td>155629</td>\n      <td>37932</td>\n      <td>8</td>\n      <td>25.0</td>\n      <td>Mechanic</td>\n      <td>39628.99</td>\n      <td>3359.415833</td>\n      <td>4.0</td>\n      <td>6.0</td>\n      <td>7.0</td>\n      <td>...</td>\n      <td>0</td>\n      <td>0</td>\n      <td>0</td>\n      <td>0</td>\n      <td>0</td>\n      <td>0</td>\n      <td>0</td>\n      <td>0</td>\n      <td>1</td>\n      <td>Poor</td>\n    </tr>\n  </tbody>\n</table>\n<p>100000 rows × 36 columns</p>\n</div>"
     },
     "execution_count": 237,
     "metadata": {},
     "output_type": "execute_result"
    }
   ],
   "source": [
    "cleaned_df = cleaned_df[new_cols]\n",
    "cleaned_df"
   ],
   "metadata": {
    "collapsed": false
   }
  },
  {
   "cell_type": "code",
   "execution_count": 239,
   "outputs": [
    {
     "data": {
      "text/plain": "(array([  425.,  2172.,  4887., 11911., 14825., 17011., 13142., 17052.,\n        12151.,  6424.]),\n array([5.71586063, 6.10721011, 6.4985596 , 6.88990909, 7.28125857,\n        7.67260806, 8.06395754, 8.45530703, 8.84665651, 9.238006  ,\n        9.62935548]),\n <BarContainer object of 10 artists>)"
     },
     "execution_count": 239,
     "metadata": {},
     "output_type": "execute_result"
    },
    {
     "data": {
      "text/plain": "<Figure size 640x480 with 1 Axes>",
      "image/png": "[encoded data removed]"
     },
     "metadata": {},
     "output_type": "display_data"
    }
   ],
   "source": [
    "plt.hist(np.log(cleaned_df['Monthly_Inhand_Salary']))"
   ],
   "metadata": {
    "collapsed": false
   }
  },
  {
   "cell_type": "code",
   "execution_count": 241,
   "outputs": [
    {
     "data": {
      "text/plain": "(array([33024., 21832., 11080., 11680.,  7672.,  5208.,  3976.,  3088.,\n         1192.,  1248.]),\n array([  7005.93 ,  24304.065,  41602.2  ,  58900.335,  76198.47 ,\n         93496.605, 110794.74 , 128092.875, 145391.01 , 162689.145,\n        179987.28 ]),\n <BarContainer object of 10 artists>)"
     },
     "execution_count": 241,
     "metadata": {},
     "output_type": "execute_result"
    },
    {
     "data": {
      "text/plain": "<Figure size 640x480 with 1 Axes>",
      "image/png": "[encoded data removed]"
     },
     "metadata": {},
     "output_type": "display_data"
    }
   ],
   "source": [
    "plt.hist(cleaned_df['Annual_Income'])"
   ],
   "metadata": {
    "collapsed": false
   }
  },
  {
   "cell_type": "code",
   "execution_count": null,
   "outputs": [],
   "source": [],
   "metadata": {
    "collapsed": false
   }
  }
 ],
 "metadata": {
  "kernelspec": {
   "display_name": "Python 3",
   "language": "python",
   "name": "python3"
  },
  "language_info": {
   "codemirror_mode": {
    "name": "ipython",
    "version": 2
   },
   "file_extension": ".py",
   "mimetype": "text/x-python",
   "name": "python",
   "nbconvert_exporter": "python",
   "pygments_lexer": "ipython2",
   "version": "2.7.6"
  }
 },
 "nbformat": 4,
 "nbformat_minor": 0
}
