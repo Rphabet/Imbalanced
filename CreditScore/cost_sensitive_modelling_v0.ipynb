{
 "cells": [
  {
   "cell_type": "markdown",
   "source": [
    "# Cost Sensitive Modelling"
   ],
   "metadata": {
    "collapsed": false
   }
  },
  {
   "cell_type": "markdown",
   "source": [
    "## Approach 1: Balanced Class Weights"
   ],
   "metadata": {
    "collapsed": false
   }
  },
  {
   "cell_type": "markdown",
   "source": [
    "### RF"
   ],
   "metadata": {
    "collapsed": false
   }
  },
  {
   "cell_type": "code",
   "execution_count": 111,
   "outputs": [],
   "source": [
    "import numpy as np # linear algebra\n",
    "import pandas as pd # data processing, CSV file I/O (e.g. pd.read_csv)\n",
    "import matplotlib.pyplot as plt\n",
    "# from google.colab import drive\n",
    "# drive.mount('/content/drive')"
   ],
   "metadata": {
    "collapsed": false
   }
  },
  {
   "cell_type": "code",
   "execution_count": 112,
   "outputs": [],
   "source": [
    "from sklearn.ensemble import RandomForestClassifier\n",
    "from sklearn.model_selection import cross_validate, cross_val_score\n",
    "from sklearn.model_selection import cross_val_score\n",
    "from sklearn.model_selection import GridSearchCV\n",
    "from sklearn.metrics import classification_report, plot_confusion_matrix, confusion_matrix\n",
    "from sklearn.metrics import make_scorer, accuracy_score, recall_score, precision_score, f1_score, log_loss\n",
    "from sklearn.tree import DecisionTreeClassifier as DTC # 의사결정나무 분류 알고리즘\n",
    "import os\n",
    "from sklearn.model_selection import RandomizedSearchCV\n",
    "import seaborn as sns\n",
    "from sklearn.metrics import confusion_matrix, plot_confusion_matrix\n",
    "\n"
   ],
   "metadata": {
    "collapsed": false
   }
  },
  {
   "cell_type": "code",
   "execution_count": 113,
   "outputs": [
    {
     "data": {
      "text/plain": "((75000, 23), (25000, 23), (100000, 22))"
     },
     "execution_count": 113,
     "metadata": {},
     "output_type": "execute_result"
    }
   ],
   "source": [
    "dfs = pd.read_csv('./processed.csv')\n",
    "train = pd.read_csv('./train.csv')\n",
    "test = pd.read_csv('./test.csv')\n",
    "train.shape, test.shape , dfs.shape"
   ],
   "metadata": {
    "collapsed": false
   }
  },
  {
   "cell_type": "code",
   "execution_count": 114,
   "outputs": [
    {
     "data": {
      "text/plain": "   Customer_ID  Month  Age  Monthly_Inhand_Salary  Num_Bank_Accounts  \\\n0          576      1    1               7.509249                3.0   \n1          576      2    1               7.509249                3.0   \n2          576      3    1               7.509249                3.0   \n3          576      4    1               7.509249                3.0   \n4          576      5    1               7.509249                3.0   \n\n   Num_Credit_Card  Interest_Rate  Num_of_Loan  Delay_from_due_date  \\\n0              4.0            3.0            0                  3.0   \n1              4.0            3.0            0                  3.0   \n2              4.0            3.0            0                  3.0   \n3              4.0            3.0            0                  5.0   \n4              4.0            3.0            0                  6.0   \n\n   Num_of_Delayed_Payment  ...  Credit_Mix  Outstanding_Debt  \\\n0                     7.0  ...           2         28.460148   \n1                     4.0  ...           2         28.460148   \n2                     7.0  ...           2         28.460148   \n3                     4.0  ...           2         28.460148   \n4                     4.0  ...           2         28.460148   \n\n   Credit_Utilization_Ratio  Credit_History_Age  Payment_of_Min_Amount  \\\n0                 26.822620                   1                      1   \n1                 31.944960                   1                      1   \n2                 28.609352                   1                      1   \n3                 31.377862                   1                      1   \n4                 24.797347                   1                      1   \n\n   Total_EMI_per_month  Amount_invested_monthly  Payment_Behaviour  \\\n0            49.574949                 21.46538                  2   \n1            49.574949                 21.46538                  3   \n2            49.574949                 21.46538                  4   \n3            49.574949                 21.46538                  5   \n4            49.574949                 21.46538                  1   \n\n   Monthly_Balance  Credit_Score  \n0       312.494089             2  \n1       284.629162             2  \n2       331.209863             2  \n3       223.451310             2  \n4       341.489231             2  \n\n[5 rows x 22 columns]",
      "text/html": "<div>\n<style scoped>\n    .dataframe tbody tr th:only-of-type {\n        vertical-align: middle;\n    }\n\n    .dataframe tbody tr th {\n        vertical-align: top;\n    }\n\n    .dataframe thead th {\n        text-align: right;\n    }\n</style>\n<table border=\"1\" class=\"dataframe\">\n  <thead>\n    <tr style=\"text-align: right;\">\n      <th></th>\n      <th>Customer_ID</th>\n      <th>Month</th>\n      <th>Age</th>\n      <th>Monthly_Inhand_Salary</th>\n      <th>Num_Bank_Accounts</th>\n      <th>Num_Credit_Card</th>\n      <th>Interest_Rate</th>\n      <th>Num_of_Loan</th>\n      <th>Delay_from_due_date</th>\n      <th>Num_of_Delayed_Payment</th>\n      <th>...</th>\n      <th>Credit_Mix</th>\n      <th>Outstanding_Debt</th>\n      <th>Credit_Utilization_Ratio</th>\n      <th>Credit_History_Age</th>\n      <th>Payment_of_Min_Amount</th>\n      <th>Total_EMI_per_month</th>\n      <th>Amount_invested_monthly</th>\n      <th>Payment_Behaviour</th>\n      <th>Monthly_Balance</th>\n      <th>Credit_Score</th>\n    </tr>\n  </thead>\n  <tbody>\n    <tr>\n      <th>0</th>\n      <td>576</td>\n      <td>1</td>\n      <td>1</td>\n      <td>7.509249</td>\n      <td>3.0</td>\n      <td>4.0</td>\n      <td>3.0</td>\n      <td>0</td>\n      <td>3.0</td>\n      <td>7.0</td>\n      <td>...</td>\n      <td>2</td>\n      <td>28.460148</td>\n      <td>26.822620</td>\n      <td>1</td>\n      <td>1</td>\n      <td>49.574949</td>\n      <td>21.46538</td>\n      <td>2</td>\n      <td>312.494089</td>\n      <td>2</td>\n    </tr>\n    <tr>\n      <th>1</th>\n      <td>576</td>\n      <td>2</td>\n      <td>1</td>\n      <td>7.509249</td>\n      <td>3.0</td>\n      <td>4.0</td>\n      <td>3.0</td>\n      <td>0</td>\n      <td>3.0</td>\n      <td>4.0</td>\n      <td>...</td>\n      <td>2</td>\n      <td>28.460148</td>\n      <td>31.944960</td>\n      <td>1</td>\n      <td>1</td>\n      <td>49.574949</td>\n      <td>21.46538</td>\n      <td>3</td>\n      <td>284.629162</td>\n      <td>2</td>\n    </tr>\n    <tr>\n      <th>2</th>\n      <td>576</td>\n      <td>3</td>\n      <td>1</td>\n      <td>7.509249</td>\n      <td>3.0</td>\n      <td>4.0</td>\n      <td>3.0</td>\n      <td>0</td>\n      <td>3.0</td>\n      <td>7.0</td>\n      <td>...</td>\n      <td>2</td>\n      <td>28.460148</td>\n      <td>28.609352</td>\n      <td>1</td>\n      <td>1</td>\n      <td>49.574949</td>\n      <td>21.46538</td>\n      <td>4</td>\n      <td>331.209863</td>\n      <td>2</td>\n    </tr>\n    <tr>\n      <th>3</th>\n      <td>576</td>\n      <td>4</td>\n      <td>1</td>\n      <td>7.509249</td>\n      <td>3.0</td>\n      <td>4.0</td>\n      <td>3.0</td>\n      <td>0</td>\n      <td>5.0</td>\n      <td>4.0</td>\n      <td>...</td>\n      <td>2</td>\n      <td>28.460148</td>\n      <td>31.377862</td>\n      <td>1</td>\n      <td>1</td>\n      <td>49.574949</td>\n      <td>21.46538</td>\n      <td>5</td>\n      <td>223.451310</td>\n      <td>2</td>\n    </tr>\n    <tr>\n      <th>4</th>\n      <td>576</td>\n      <td>5</td>\n      <td>1</td>\n      <td>7.509249</td>\n      <td>3.0</td>\n      <td>4.0</td>\n      <td>3.0</td>\n      <td>0</td>\n      <td>6.0</td>\n      <td>4.0</td>\n      <td>...</td>\n      <td>2</td>\n      <td>28.460148</td>\n      <td>24.797347</td>\n      <td>1</td>\n      <td>1</td>\n      <td>49.574949</td>\n      <td>21.46538</td>\n      <td>1</td>\n      <td>341.489231</td>\n      <td>2</td>\n    </tr>\n  </tbody>\n</table>\n<p>5 rows × 22 columns</p>\n</div>"
     },
     "execution_count": 114,
     "metadata": {},
     "output_type": "execute_result"
    }
   ],
   "source": [
    "dfs.head()"
   ],
   "metadata": {
    "collapsed": false
   }
  },
  {
   "cell_type": "code",
   "execution_count": 115,
   "outputs": [],
   "source": [
    "def modeling_uncustomized (algorithm, x_train, y_train, x_test, y_test, class_weight):\n",
    "    uncustomized = algorithm(class_weight=class_weight, random_state=0)\n",
    "    uncustomized.fit(x_train, y_train)\n",
    "    # Train Data 설명력\n",
    "    train_score_before = uncustomized.score(x_train, y_train)\n",
    "    print(f\"학습 데이터셋 정확도: {train_score_before}\")\n",
    "    # Test Data 설명력\n",
    "    test_score_before = uncustomized.score(x_test, y_test)\n",
    "    print(f\"테스트 데이터셋 정확도: {test_score_before}\")\n",
    "    plot_confusion_matrix(uncustomized, # 분류 모델\n",
    "                             x_test, y_test, # 예측 데이터와 예측값의 정답(y_true)\n",
    "                             normalize='true')\n",
    "    return train_score_before, test_score_before"
   ],
   "metadata": {
    "collapsed": false
   }
  },
  {
   "cell_type": "code",
   "execution_count": 116,
   "outputs": [],
   "source": [
    "def optimi_visualization(algorithm_name, x_values, train_score, test_score, xlabel, filename):\n",
    "    # 하이퍼파라미터 조정에 따른 학습 데이터셋 기반 모델 성능 추이 시각화\n",
    "    plt.plot(x_values, train_score, linestyle = '-', label = 'train score')\n",
    "    # 하이퍼파라미터 조정에 따른 테스트 데이터셋 기반 모델 성능 추이 시각화\n",
    "    plt.plot(x_values, test_score, linestyle = '--', label = 'test score')\n",
    "    plt.ylabel('Accuracy(%)') # y축 라벨\n",
    "    plt.xlabel(xlabel) # x축 라벨\n",
    "    plt.legend() # 범례표시\n"
   ],
   "metadata": {
    "collapsed": false
   }
  },
  {
   "cell_type": "code",
   "execution_count": 125,
   "outputs": [],
   "source": [
    "def optimi_estimator(algorithm, algorithm_name, x_train, y_train, x_test, y_test, n_estimator_min, n_estimator_max,step, class_weight):\n",
    "    train_score = []; test_score =[]\n",
    "    para_n_tree = [n_tree for n_tree in range(n_estimator_min, n_estimator_max+1,step)] # step 5\n",
    "\n",
    "    for v_n_estimators in para_n_tree:\n",
    "        model = algorithm(n_estimators = v_n_estimators, class_weight=class_weight, random_state=0)\n",
    "        model.fit(x_train, y_train)\n",
    "        train_score.append(model.score(x_train, y_train))\n",
    "        test_score.append(model.score(x_test, y_test))\n",
    "\n",
    "    # 트리 개수에 따른 모델 성능 저장\n",
    "    df_score_n = pd.DataFrame({'n_estimators': para_n_tree, 'TrainScore': train_score, 'TestScore': test_score})\n",
    "    # 트리 개수에 따른 모델 성능 추이 시각화 함수 호출\n",
    "    optimi_visualization(algorithm_name, para_n_tree, train_score, test_score, \"The number of estimator\", \"n_estimator\")\n",
    "    print(round(df_score_n, 4))"
   ],
   "metadata": {
    "collapsed": false
   }
  },
  {
   "cell_type": "code",
   "execution_count": 122,
   "outputs": [
    {
     "data": {
      "text/plain": "((75000, 21), (75000,), (25000, 21), (25000,))"
     },
     "execution_count": 122,
     "metadata": {},
     "output_type": "execute_result"
    }
   ],
   "source": [
    "# 최종 2개월 valid로 분리\n",
    "train = dfs.loc[dfs['Month'] <=6]\n",
    "valid = dfs.loc[dfs['Month'] >6]\n",
    "train.shape, valid.shape\n",
    "\n",
    "# train, valid를 각각 x,y 분리\n",
    "\n",
    "x_train = train.drop(['Credit_Score'],axis=1)\n",
    "y_train = train['Credit_Score']\n",
    "\n",
    "x_valid = valid.drop(['Credit_Score'],axis=1)\n",
    "y_valid = valid['Credit_Score']\n",
    "\n",
    "x_train.shape, y_train.shape, x_valid.shape, y_valid.shape"
   ],
   "metadata": {
    "collapsed": false
   }
  },
  {
   "cell_type": "code",
   "execution_count": 124,
   "outputs": [
    {
     "name": "stdout",
     "output_type": "stream",
     "text": [
      "학습 데이터셋 정확도: 0.9999866666666667\n",
      "테스트 데이터셋 정확도: 0.73756\n"
     ]
    },
    {
     "name": "stderr",
     "output_type": "stream",
     "text": [
      "/Users/ben/miniforge3/envs/tf_mini/lib/python3.8/site-packages/sklearn/utils/deprecation.py:87: FutureWarning: Function plot_confusion_matrix is deprecated; Function `plot_confusion_matrix` is deprecated in 1.0 and will be removed in 1.2. Use one of the class methods: ConfusionMatrixDisplay.from_predictions or ConfusionMatrixDisplay.from_estimator.\n",
      "  warnings.warn(msg, category=FutureWarning)\n"
     ]
    },
    {
     "data": {
      "text/plain": "(0.9999866666666667, 0.73756)"
     },
     "execution_count": 124,
     "metadata": {},
     "output_type": "execute_result"
    },
    {
     "data": {
      "text/plain": "<Figure size 432x288 with 2 Axes>",
      "image/png": "[encoded data removed]"
     },
     "metadata": {
      "needs_background": "light"
     },
     "output_type": "display_data"
    }
   ],
   "source": [
    "modeling_uncustomized(RandomForestClassifier,x_train,y_train,x_valid,y_valid,class_weight=weight_dict)"
   ],
   "metadata": {
    "collapsed": false
   }
  },
  {
   "cell_type": "code",
   "execution_count": null,
   "outputs": [],
   "source": [
    "optimi_estimator(RandomForestClassifier, 'rf', x_train, y_train, x_valid, y_valid,100,400,50) # 45 부터 test score 74정도로 비슷 ~ 60 --> d"
   ],
   "metadata": {
    "collapsed": false
   }
  },
  {
   "cell_type": "code",
   "execution_count": 126,
   "outputs": [],
   "source": [
    "weighted_rfc = RandomForestClassifier(random_state=0, n_estimators= 400 , max_depth=20, min_samples_split=2 , min_samples_leaf=2, class_weight=weight_dict )"
   ],
   "metadata": {
    "collapsed": false
   }
  },
  {
   "cell_type": "code",
   "execution_count": 128,
   "outputs": [
    {
     "data": {
      "text/plain": "RandomForestClassifier(class_weight={0: 1.1539455706953214,\n                                     1: 0.6162978740188538,\n                                     2: 1.9576520704128297},\n                       max_depth=20, min_samples_leaf=2, n_estimators=400,\n                       random_state=0)",
      "text/html": "<style>#sk-container-id-1 {color: black;background-color: white;}#sk-container-id-1 pre{padding: 0;}#sk-container-id-1 div.sk-toggleable {background-color: white;}#sk-container-id-1 label.sk-toggleable__label {cursor: pointer;display: block;width: 100%;margin-bottom: 0;padding: 0.3em;box-sizing: border-box;text-align: center;}#sk-container-id-1 label.sk-toggleable__label-arrow:before {content: \"▸\";float: left;margin-right: 0.25em;color: #696969;}#sk-container-id-1 label.sk-toggleable__label-arrow:hover:before {color: black;}#sk-container-id-1 div.sk-estimator:hover label.sk-toggleable__label-arrow:before {color: black;}#sk-container-id-1 div.sk-toggleable__content {max-height: 0;max-width: 0;overflow: hidden;text-align: left;background-color: #f0f8ff;}#sk-container-id-1 div.sk-toggleable__content pre {margin: 0.2em;color: black;border-radius: 0.25em;background-color: #f0f8ff;}#sk-container-id-1 input.sk-toggleable__control:checked~div.sk-toggleable__content {max-height: 200px;max-width: 100%;overflow: auto;}#sk-container-id-1 input.sk-toggleable__control:checked~label.sk-toggleable__label-arrow:before {content: \"▾\";}#sk-container-id-1 div.sk-estimator input.sk-toggleable__control:checked~label.sk-toggleable__label {background-color: #d4ebff;}#sk-container-id-1 div.sk-label input.sk-toggleable__control:checked~label.sk-toggleable__label {background-color: #d4ebff;}#sk-container-id-1 input.sk-hidden--visually {border: 0;clip: rect(1px 1px 1px 1px);clip: rect(1px, 1px, 1px, 1px);height: 1px;margin: -1px;overflow: hidden;padding: 0;position: absolute;width: 1px;}#sk-container-id-1 div.sk-estimator {font-family: monospace;background-color: #f0f8ff;border: 1px dotted black;border-radius: 0.25em;box-sizing: border-box;margin-bottom: 0.5em;}#sk-container-id-1 div.sk-estimator:hover {background-color: #d4ebff;}#sk-container-id-1 div.sk-parallel-item::after {content: \"\";width: 100%;border-bottom: 1px solid gray;flex-grow: 1;}#sk-container-id-1 div.sk-label:hover label.sk-toggleable__label {background-color: #d4ebff;}#sk-container-id-1 div.sk-serial::before {content: \"\";position: absolute;border-left: 1px solid gray;box-sizing: border-box;top: 0;bottom: 0;left: 50%;z-index: 0;}#sk-container-id-1 div.sk-serial {display: flex;flex-direction: column;align-items: center;background-color: white;padding-right: 0.2em;padding-left: 0.2em;position: relative;}#sk-container-id-1 div.sk-item {position: relative;z-index: 1;}#sk-container-id-1 div.sk-parallel {display: flex;align-items: stretch;justify-content: center;background-color: white;position: relative;}#sk-container-id-1 div.sk-item::before, #sk-container-id-1 div.sk-parallel-item::before {content: \"\";position: absolute;border-left: 1px solid gray;box-sizing: border-box;top: 0;bottom: 0;left: 50%;z-index: -1;}#sk-container-id-1 div.sk-parallel-item {display: flex;flex-direction: column;z-index: 1;position: relative;background-color: white;}#sk-container-id-1 div.sk-parallel-item:first-child::after {align-self: flex-end;width: 50%;}#sk-container-id-1 div.sk-parallel-item:last-child::after {align-self: flex-start;width: 50%;}#sk-container-id-1 div.sk-parallel-item:only-child::after {width: 0;}#sk-container-id-1 div.sk-dashed-wrapped {border: 1px dashed gray;margin: 0 0.4em 0.5em 0.4em;box-sizing: border-box;padding-bottom: 0.4em;background-color: white;}#sk-container-id-1 div.sk-label label {font-family: monospace;font-weight: bold;display: inline-block;line-height: 1.2em;}#sk-container-id-1 div.sk-label-container {text-align: center;}#sk-container-id-1 div.sk-container {/* jupyter's `normalize.less` sets `[hidden] { display: none; }` but bootstrap.min.css set `[hidden] { display: none !important; }` so we also need the `!important` here to be able to override the default hidden behavior on the sphinx rendered scikit-learn.org. See: https://github.com/scikit-learn/scikit-learn/issues/21755 */display: inline-block !important;position: relative;}#sk-container-id-1 div.sk-text-repr-fallback {display: none;}</style><div id=\"sk-container-id-1\" class=\"sk-top-container\"><div class=\"sk-text-repr-fallback\"><pre>RandomForestClassifier(class_weight={0: 1.1539455706953214,\n                                     1: 0.6162978740188538,\n                                     2: 1.9576520704128297},\n                       max_depth=20, min_samples_leaf=2, n_estimators=400,\n                       random_state=0)</pre><b>In a Jupyter environment, please rerun this cell to show the HTML representation or trust the notebook. <br />On GitHub, the HTML representation is unable to render, please try loading this page with nbviewer.org.</b></div><div class=\"sk-container\" hidden><div class=\"sk-item\"><div class=\"sk-estimator sk-toggleable\"><input class=\"sk-toggleable__control sk-hidden--visually\" id=\"sk-estimator-id-1\" type=\"checkbox\" checked><label for=\"sk-estimator-id-1\" class=\"sk-toggleable__label sk-toggleable__label-arrow\">RandomForestClassifier</label><div class=\"sk-toggleable__content\"><pre>RandomForestClassifier(class_weight={0: 1.1539455706953214,\n                                     1: 0.6162978740188538,\n                                     2: 1.9576520704128297},\n                       max_depth=20, min_samples_leaf=2, n_estimators=400,\n                       random_state=0)</pre></div></div></div></div></div>"
     },
     "execution_count": 128,
     "metadata": {},
     "output_type": "execute_result"
    }
   ],
   "source": [
    "weighted_rfc.fit(x_train, y_train)"
   ],
   "metadata": {
    "collapsed": false
   }
  },
  {
   "cell_type": "code",
   "execution_count": 129,
   "outputs": [
    {
     "data": {
      "text/plain": "0.7036"
     },
     "execution_count": 129,
     "metadata": {},
     "output_type": "execute_result"
    }
   ],
   "source": [
    "weighted_rfc.score(x_valid, y_valid)"
   ],
   "metadata": {
    "collapsed": false
   }
  },
  {
   "cell_type": "markdown",
   "source": [
    "### Cat Boost"
   ],
   "metadata": {
    "collapsed": false
   }
  },
  {
   "cell_type": "code",
   "execution_count": 130,
   "outputs": [],
   "source": [
    "from catboost import CatBoostClassifier"
   ],
   "metadata": {
    "collapsed": false
   }
  },
  {
   "cell_type": "code",
   "execution_count": 142,
   "outputs": [],
   "source": [
    "# CatBoost 모델링\n",
    "def catboost_model(x_train, y_train, x_test, y_test, class_weights, param={}, computing_type='CPU'):\n",
    "    \"\"\"\n",
    "    catboost 기본 모델\n",
    "\n",
    "    params:\n",
    "      x_train : x 학습 데이터프레임\n",
    "      y_train : y 학습 데이터프레임\n",
    "      x_test : x 테스트 데이터프레임\n",
    "      y_test : y 테스트 데이터프레임\n",
    "      param : 모델에 들어가는 파라미터, 없으면 임의값 적용\n",
    "      class_weights:\n",
    "      computing_type : 'CPU' ,'GPU' 적용\n",
    "    ex)\n",
    "      model = catboost_model(x_train, y_train, x_test, y_test, param = {}, computing_type = 'GPU',)\n",
    "\n",
    "\n",
    "    \"\"\"\n",
    "\n",
    "    # input 파라미터가 없으면 현재 최적의 파라미터로 대입\n",
    "    if len(param.keys()):\n",
    "        params = {'bagging_temperature': 1.7667222733865562,\n",
    "                  'border_count': 190.14385824950688, 'depth': 14.95981768596572,\n",
    "                  'l2_leaf_reg': 100.0, 'learning_rate': 0.09356008116567356,\n",
    "                  'min_data_in_leaf': 4.281513544154046\n",
    "                  }\n",
    "\n",
    "    #모델 파라미터 세팅\n",
    "    model = CatBoostClassifier(eval_metric='Accuracy',  # 정확도\n",
    "                               iterations=2000,  # 반복횟수\n",
    "                               metric_period=100,  # 중간결과 출력\n",
    "                               early_stopping_rounds=200,  # 중간 종료\n",
    "                               loss_function='MultiClassOneVsAll',\n",
    "                               class_weights=class_weights,\n",
    "                               task_type=computing_type,  # CPU/GPU 사용\n",
    "                               **param\n",
    "                               )\n",
    "\n",
    "    #모델 학습\n",
    "    # model.fit(x_train,y_train, eval_set=(x_test,y_test))\n",
    "    model.fit(x_train, y_train)\n",
    "\n",
    "    #테스트값 기반 출력\n",
    "    train_acc = accuracy_score(list(model.predict(x_train)), y_train)\n",
    "    test_acc = accuracy_score(list(model.predict(x_test)), y_test)\n",
    "    print('\\n\\nTrain Set 기반 accuracy', train_acc)\n",
    "    print('\\n\\nTest Set 기반 accuracy', test_acc)\n",
    "\n",
    "    #confusion matrix 표시\n",
    "    confusion = plot_confusion_matrix(model, x_test, y_test, cmap='Blues')\n",
    "\n",
    "    return model"
   ],
   "metadata": {
    "collapsed": false
   }
  },
  {
   "cell_type": "code",
   "execution_count": 143,
   "outputs": [
    {
     "name": "stdout",
     "output_type": "stream",
     "text": [
      "0:\tlearn: 0.7397924\ttotal: 10.9ms\tremaining: 21.7s\n",
      "100:\tlearn: 0.7601522\ttotal: 2.09s\tremaining: 39.3s\n",
      "200:\tlearn: 0.7639044\ttotal: 5.89s\tremaining: 52.7s\n",
      "300:\tlearn: 0.7653807\ttotal: 7.87s\tremaining: 44.4s\n",
      "400:\tlearn: 0.7684460\ttotal: 8.78s\tremaining: 35s\n",
      "500:\tlearn: 0.7715988\ttotal: 9.75s\tremaining: 29.2s\n",
      "600:\tlearn: 0.7754898\ttotal: 10.7s\tremaining: 24.9s\n",
      "700:\tlearn: 0.7789618\ttotal: 11.8s\tremaining: 21.8s\n",
      "800:\tlearn: 0.7822675\ttotal: 12.7s\tremaining: 19s\n",
      "900:\tlearn: 0.7862033\ttotal: 13.6s\tremaining: 16.6s\n",
      "1000:\tlearn: 0.7891252\ttotal: 14.5s\tremaining: 14.5s\n",
      "1100:\tlearn: 0.7929820\ttotal: 15.4s\tremaining: 12.6s\n",
      "1200:\tlearn: 0.7960744\ttotal: 16.3s\tremaining: 10.9s\n",
      "1300:\tlearn: 0.7991819\ttotal: 17.2s\tremaining: 9.23s\n",
      "1400:\tlearn: 0.8018563\ttotal: 18.1s\tremaining: 7.72s\n",
      "1500:\tlearn: 0.8047773\ttotal: 19s\tremaining: 6.31s\n",
      "1600:\tlearn: 0.8074552\ttotal: 19.9s\tremaining: 4.96s\n",
      "1700:\tlearn: 0.8101487\ttotal: 20.8s\tremaining: 3.66s\n",
      "1800:\tlearn: 0.8129602\ttotal: 21.8s\tremaining: 2.4s\n",
      "1900:\tlearn: 0.8153230\ttotal: 22.7s\tremaining: 1.18s\n",
      "1999:\tlearn: 0.8179183\ttotal: 23.7s\tremaining: 0us\n",
      "\n",
      "\n",
      "Train Set 기반 accuracy 0.7694533333333333\n",
      "\n",
      "\n",
      "Test Set 기반 accuracy 0.65548\n"
     ]
    },
    {
     "name": "stderr",
     "output_type": "stream",
     "text": [
      "/Users/ben/miniforge3/envs/tf_mini/lib/python3.8/site-packages/sklearn/utils/deprecation.py:87: FutureWarning: Function plot_confusion_matrix is deprecated; Function `plot_confusion_matrix` is deprecated in 1.0 and will be removed in 1.2. Use one of the class methods: ConfusionMatrixDisplay.from_predictions or ConfusionMatrixDisplay.from_estimator.\n",
      "  warnings.warn(msg, category=FutureWarning)\n"
     ]
    },
    {
     "data": {
      "text/plain": "<Figure size 432x288 with 2 Axes>",
      "image/png": "[encoded data removed]"
     },
     "metadata": {
      "needs_background": "light"
     },
     "output_type": "display_data"
    }
   ],
   "source": [
    "model = catboost_model(x_train, y_train, x_valid, y_valid, class_weights=weight_dict, param={})"
   ],
   "metadata": {
    "collapsed": false
   }
  },
  {
   "cell_type": "markdown",
   "source": [
    "### TabNet"
   ],
   "metadata": {
    "collapsed": false
   }
  },
  {
   "cell_type": "code",
   "execution_count": 1,
   "outputs": [],
   "source": [
    "import warnings\n",
    "warnings.filterwarnings('ignore')\n",
    "\n",
    "import os\n",
    "import math\n",
    "import numpy as np\n",
    "import pandas as pd\n",
    "import torch\n",
    "import torch.nn as nn\n",
    "import matplotlib.pyplot as plt\n",
    "\n",
    "from pytorch_tabnet.tab_model import TabNetClassifier\n",
    "from pytorch_tabnet.pretraining import TabNetPretrainer\n",
    "from pytorch_tabnet.metrics import Metric\n",
    "from sklearn.preprocessing import LabelEncoder\n",
    "from sklearn.metrics import roc_auc_score, accuracy_score, f1_score, confusion_matrix"
   ],
   "metadata": {
    "collapsed": false
   }
  },
  {
   "cell_type": "code",
   "execution_count": 3,
   "outputs": [],
   "source": [
    "# from google.colab import drive\n",
    "# drive.mount('/content/drive')"
   ],
   "metadata": {
    "collapsed": false
   }
  },
  {
   "cell_type": "code",
   "execution_count": 2,
   "outputs": [],
   "source": [
    "# main_dir = '/content/drive/MyDrive/SKKU_study/01_Final_assignment'\n",
    "# data_dir = os.path.join(main_dir, 'data')\n",
    "# processed_data_dir = os.path.join(data_dir, 'processed')\n",
    "#\n",
    "# os.makedirs(data_dir, exist_ok=True)\n",
    "# os.makedirs(processed_data_dir, exist_ok=True)"
   ],
   "metadata": {
    "collapsed": false
   }
  },
  {
   "cell_type": "markdown",
   "source": [
    "#### Load Data"
   ],
   "metadata": {
    "collapsed": false
   }
  },
  {
   "cell_type": "code",
   "execution_count": 5,
   "outputs": [
    {
     "data": {
      "text/plain": "((75000, 23), (25000, 23))"
     },
     "execution_count": 5,
     "metadata": {},
     "output_type": "execute_result"
    }
   ],
   "source": [
    "dfs = pd.read_csv('./processed.csv')\n",
    "train = pd.read_csv('./train.csv')\n",
    "test = pd.read_csv('./test.csv')\n",
    "train.shape, test.shape"
   ],
   "metadata": {
    "collapsed": false
   }
  },
  {
   "cell_type": "code",
   "execution_count": 6,
   "outputs": [],
   "source": [
    "le = LabelEncoder()\n",
    "dfs['Month'] = le.fit_transform(dfs['Month'])\n",
    "train['Month'] = le.transform(train['Month'])\n",
    "test['Month'] = le.transform(test['Month'])"
   ],
   "metadata": {
    "collapsed": false
   }
  },
  {
   "cell_type": "markdown",
   "source": [
    "#### Model"
   ],
   "metadata": {
    "collapsed": false
   }
  },
  {
   "cell_type": "code",
   "execution_count": 7,
   "outputs": [],
   "source": [
    "class F1_Score(Metric):\n",
    "    def __init__(self):\n",
    "        self._name = 'f1'\n",
    "        self._maximize = True\n",
    "\n",
    "    def __call__(self, y_true, y_score):\n",
    "        score = f1_score(y_true, (y_score[:, 1]>0.5)*1, average='micro')\n",
    "        return score"
   ],
   "metadata": {
    "collapsed": false
   }
  },
  {
   "cell_type": "code",
   "execution_count": 9,
   "outputs": [
    {
     "name": "stdout",
     "output_type": "stream",
     "text": [
      "Customer_ID :  12500\n",
      "Month :  8\n",
      "Credit_Mix :  3\n",
      "Credit_History_Age :  2\n",
      "Payment_of_Min_Amount :  3\n",
      "Payment_Behaviour :  6\n"
     ]
    }
   ],
   "source": [
    "target = 'Credit_Score'\n",
    "cat_col = ['Customer_ID', 'Month', 'Credit_Mix', 'Credit_History_Age',\n",
    "           'Payment_of_Min_Amount', 'Payment_Behaviour']\n",
    "cat_dims = {}\n",
    "for col in cat_col:\n",
    "    cat_dims[col] = len(list(dfs[col].unique()))\n",
    "    print(col, ': ', cat_dims[col])\n",
    "cat_col_idx = [list(dfs.columns).index(col) for col in cat_col]\n",
    "cat_col_dims = [cat_dims[col] for col in cat_col]\n",
    "all_col_list = [col for col in dfs.columns if col !=target]"
   ],
   "metadata": {
    "collapsed": false
   }
  },
  {
   "cell_type": "code",
   "execution_count": 10,
   "outputs": [],
   "source": [
    "x_train = train.loc[:, all_col_list].values\n",
    "y_train = train.loc[:, target].values\n",
    "x_test = test.loc[:, all_col_list].values\n",
    "y_test = test.loc[:, target].values"
   ],
   "metadata": {
    "collapsed": false
   }
  },
  {
   "cell_type": "code",
   "execution_count": 11,
   "outputs": [
    {
     "name": "stdout",
     "output_type": "stream",
     "text": [
      "Device used : cpu\n",
      "No early stopping will be performed, last training weights will be used.\n",
      "epoch 0  | loss: 4.28025 |  0:00:17s\n",
      "epoch 1  | loss: 2.20452 |  0:00:40s\n",
      "epoch 2  | loss: 1.704   |  0:00:57s\n",
      "epoch 3  | loss: 1.3925  |  0:01:15s\n",
      "epoch 4  | loss: 1.22133 |  0:01:31s\n",
      "epoch 5  | loss: 1.08775 |  0:01:47s\n",
      "epoch 6  | loss: 1.05976 |  0:02:04s\n",
      "epoch 7  | loss: 1.04708 |  0:02:22s\n",
      "epoch 8  | loss: 1.03525 |  0:02:38s\n",
      "epoch 9  | loss: 1.01098 |  0:02:55s\n",
      "epoch 10 | loss: 0.99055 |  0:03:13s\n",
      "epoch 11 | loss: 0.97678 |  0:03:30s\n",
      "epoch 12 | loss: 0.96681 |  0:03:47s\n",
      "epoch 13 | loss: 0.95964 |  0:04:02s\n",
      "epoch 14 | loss: 0.95438 |  0:04:17s\n",
      "epoch 15 | loss: 0.95037 |  0:04:33s\n",
      "epoch 16 | loss: 0.94805 |  0:04:50s\n",
      "epoch 17 | loss: 0.94625 |  0:05:05s\n",
      "epoch 18 | loss: 0.93837 |  0:05:20s\n",
      "epoch 19 | loss: 0.9336  |  0:05:40s\n",
      "epoch 20 | loss: 0.92915 |  0:05:56s\n",
      "epoch 21 | loss: 0.92649 |  0:06:15s\n",
      "epoch 22 | loss: 0.92034 |  0:06:30s\n",
      "epoch 23 | loss: 0.91689 |  0:06:45s\n",
      "epoch 24 | loss: 0.91249 |  0:07:01s\n",
      "epoch 25 | loss: 0.9105  |  0:07:20s\n",
      "epoch 26 | loss: 0.90756 |  0:07:35s\n",
      "epoch 27 | loss: 0.90477 |  0:07:51s\n",
      "epoch 28 | loss: 0.90315 |  0:08:05s\n",
      "epoch 29 | loss: 0.90123 |  0:08:22s\n",
      "epoch 30 | loss: 0.89986 |  0:08:46s\n",
      "epoch 31 | loss: 0.89734 |  0:09:08s\n",
      "epoch 32 | loss: 0.89633 |  0:09:29s\n",
      "epoch 33 | loss: 0.89643 |  0:09:49s\n",
      "epoch 34 | loss: 0.8945  |  0:10:04s\n",
      "epoch 35 | loss: 0.89171 |  0:10:17s\n",
      "epoch 36 | loss: 0.88852 |  0:10:32s\n",
      "epoch 37 | loss: 0.88485 |  0:10:51s\n",
      "epoch 38 | loss: 0.88212 |  0:11:10s\n",
      "epoch 39 | loss: 0.87852 |  0:11:28s\n",
      "epoch 40 | loss: 0.87179 |  0:11:44s\n",
      "epoch 41 | loss: 0.86491 |  0:12:04s\n",
      "epoch 42 | loss: 0.86139 |  0:12:23s\n",
      "epoch 43 | loss: 0.85953 |  0:12:44s\n",
      "epoch 44 | loss: 0.85712 |  0:13:05s\n",
      "epoch 45 | loss: 0.85585 |  0:13:27s\n",
      "epoch 46 | loss: 0.85405 |  0:13:46s\n",
      "epoch 47 | loss: 0.85108 |  0:14:03s\n",
      "epoch 48 | loss: 0.85066 |  0:14:27s\n",
      "epoch 49 | loss: 0.85013 |  0:14:42s\n",
      "epoch 50 | loss: 0.8483  |  0:15:01s\n",
      "epoch 51 | loss: 0.8461  |  0:15:18s\n",
      "epoch 52 | loss: 0.84328 |  0:15:33s\n",
      "epoch 53 | loss: 0.84177 |  0:15:54s\n",
      "epoch 54 | loss: 0.84074 |  0:16:11s\n",
      "epoch 55 | loss: 0.84029 |  0:16:30s\n",
      "epoch 56 | loss: 0.83661 |  0:16:50s\n",
      "epoch 57 | loss: 0.83435 |  0:17:08s\n",
      "epoch 58 | loss: 0.83333 |  0:17:25s\n",
      "epoch 59 | loss: 0.82977 |  0:17:40s\n",
      "epoch 60 | loss: 0.82934 |  0:17:56s\n",
      "epoch 61 | loss: 0.8274  |  0:18:14s\n",
      "epoch 62 | loss: 0.82611 |  0:18:31s\n",
      "epoch 63 | loss: 0.8233  |  0:18:50s\n",
      "epoch 64 | loss: 0.82227 |  0:19:07s\n",
      "epoch 65 | loss: 0.82077 |  0:19:24s\n",
      "epoch 66 | loss: 0.81804 |  0:19:44s\n",
      "epoch 67 | loss: 0.81683 |  0:19:58s\n",
      "epoch 68 | loss: 0.81628 |  0:20:11s\n",
      "epoch 69 | loss: 0.81276 |  0:20:25s\n",
      "epoch 70 | loss: 0.80351 |  0:20:42s\n",
      "epoch 71 | loss: 0.79298 |  0:21:01s\n",
      "epoch 72 | loss: 0.77991 |  0:21:19s\n",
      "epoch 73 | loss: 0.76561 |  0:21:36s\n",
      "epoch 74 | loss: 0.75177 |  0:21:53s\n",
      "epoch 75 | loss: 0.73571 |  0:22:07s\n",
      "epoch 76 | loss: 0.71988 |  0:22:21s\n",
      "epoch 77 | loss: 0.70287 |  0:22:35s\n",
      "epoch 78 | loss: 0.68399 |  0:22:49s\n",
      "epoch 79 | loss: 0.66673 |  0:23:04s\n",
      "epoch 80 | loss: 0.64661 |  0:23:18s\n",
      "epoch 81 | loss: 0.62862 |  0:23:33s\n",
      "epoch 82 | loss: 0.61033 |  0:23:47s\n",
      "epoch 83 | loss: 0.59141 |  0:24:01s\n",
      "epoch 84 | loss: 0.57267 |  0:24:14s\n",
      "epoch 85 | loss: 0.55544 |  0:24:29s\n",
      "epoch 86 | loss: 0.53735 |  0:24:43s\n",
      "epoch 87 | loss: 0.52147 |  0:24:57s\n",
      "epoch 88 | loss: 0.50684 |  0:25:14s\n",
      "epoch 89 | loss: 0.49243 |  0:25:31s\n"
     ]
    }
   ],
   "source": [
    "# pretrain model\n",
    "unsupervised_model = TabNetPretrainer(\n",
    "    cat_idxs=cat_col_idx,\n",
    "    cat_dims=cat_col_dims,\n",
    "    cat_emb_dim=[int(round(np.sqrt(i)/4,0))+1 for i in cat_col_dims],\n",
    "    optimizer_fn=torch.optim.Adam,\n",
    "    optimizer_params=dict(lr=5*1e-3),\n",
    "    scheduler_params={'is_batch_level': True, 'T_0':10, 'T_mult':2, 'eta_min': 0.001},\n",
    "    scheduler_fn=torch.optim.lr_scheduler.CosineAnnealingWarmRestarts,\n",
    "    mask_type='entmax'\n",
    ")\n",
    "\n",
    "unsupervised_model.fit(\n",
    "    X_train=x_train,\n",
    "    max_epochs=90,\n",
    "    drop_last=False,\n",
    "    pretraining_ratio=0.6, #0.5\n",
    ")\n",
    "\n",
    "reconstructed_X, embedded_X = unsupervised_model.predict(x_train)\n",
    "assert(reconstructed_X.shape == embedded_X.shape)"
   ],
   "metadata": {
    "collapsed": false
   }
  },
  {
   "cell_type": "code",
   "execution_count": 14,
   "outputs": [],
   "source": [
    "from sklearn.utils.class_weight import compute_class_weight"
   ],
   "metadata": {
    "collapsed": false
   }
  },
  {
   "cell_type": "code",
   "execution_count": 15,
   "outputs": [
    {
     "data": {
      "text/plain": "array([1.14773666, 0.62167404, 1.92248539])"
     },
     "execution_count": 15,
     "metadata": {},
     "output_type": "execute_result"
    }
   ],
   "source": [
    "weights = compute_class_weight(class_weight = \"balanced\" ,\n",
    "                               classes=np.unique(y_train),\n",
    "                               y = y_train)\n",
    "\n",
    "weights"
   ],
   "metadata": {
    "collapsed": false
   }
  },
  {
   "cell_type": "code",
   "execution_count": 16,
   "outputs": [
    {
     "name": "stdout",
     "output_type": "stream",
     "text": [
      "Device used : cpu\n"
     ]
    }
   ],
   "source": [
    "model = TabNetClassifier(\n",
    "    cat_idxs=cat_col_idx,\n",
    "    cat_dims=cat_col_dims,\n",
    "    cat_emb_dim=[int(round(np.sqrt(i)/4,0))+1 for i in cat_col_dims],\n",
    "    optimizer_fn=torch.optim.Adam,\n",
    "    optimizer_params=dict(lr=1e-3),\n",
    "    scheduler_params={'is_batch_level': True, 'T_0':10, 'T_mult':2, 'eta_min': 0.001},\n",
    "    scheduler_fn=torch.optim.lr_scheduler.CosineAnnealingWarmRestarts,\n",
    "    mask_type='sparsemax',\n",
    "    gamma=1.3,\n",
    "    )"
   ],
   "metadata": {
    "collapsed": false
   }
  },
  {
   "cell_type": "code",
   "execution_count": 18,
   "outputs": [
    {
     "name": "stdout",
     "output_type": "stream",
     "text": [
      "Loading weights from unsupervised pretraining\n",
      "epoch 0  | loss: 8.7711  | train_balanced_accuracy: 0.44558 | train_accuracy: 0.57796 |  0:00:16s\n",
      "epoch 1  | loss: 1.01365 | train_balanced_accuracy: 0.74048 | train_accuracy: 0.68984 |  0:00:32s\n",
      "epoch 2  | loss: 0.74499 | train_balanced_accuracy: 0.7387  | train_accuracy: 0.697   |  0:00:50s\n",
      "epoch 3  | loss: 0.69845 | train_balanced_accuracy: 0.74717 | train_accuracy: 0.69551 |  0:01:07s\n",
      "epoch 4  | loss: 0.66422 | train_balanced_accuracy: 0.75758 | train_accuracy: 0.71317 |  0:01:24s\n",
      "epoch 5  | loss: 0.60537 | train_balanced_accuracy: 0.77796 | train_accuracy: 0.73088 |  0:01:40s\n",
      "epoch 6  | loss: 0.55496 | train_balanced_accuracy: 0.8043  | train_accuracy: 0.76481 |  0:01:56s\n",
      "epoch 7  | loss: 0.50245 | train_balanced_accuracy: 0.82772 | train_accuracy: 0.79704 |  0:02:13s\n",
      "epoch 8  | loss: 0.45662 | train_balanced_accuracy: 0.84491 | train_accuracy: 0.81801 |  0:02:50s\n",
      "epoch 9  | loss: 0.42325 | train_balanced_accuracy: 0.86132 | train_accuracy: 0.82828 |  0:03:28s\n",
      "epoch 10 | loss: 0.39167 | train_balanced_accuracy: 0.87584 | train_accuracy: 0.83857 |  0:04:27s\n",
      "epoch 11 | loss: 0.35896 | train_balanced_accuracy: 0.88398 | train_accuracy: 0.85533 |  0:04:58s\n",
      "epoch 12 | loss: 0.33745 | train_balanced_accuracy: 0.89443 | train_accuracy: 0.85875 |  0:05:27s\n",
      "epoch 13 | loss: 0.31744 | train_balanced_accuracy: 0.89824 | train_accuracy: 0.86413 |  0:06:09s\n",
      "epoch 14 | loss: 0.2996  | train_balanced_accuracy: 0.90496 | train_accuracy: 0.87077 |  0:06:55s\n",
      "epoch 15 | loss: 0.28681 | train_balanced_accuracy: 0.90843 | train_accuracy: 0.87675 |  0:07:30s\n",
      "epoch 16 | loss: 0.27597 | train_balanced_accuracy: 0.91174 | train_accuracy: 0.87971 |  0:07:55s\n",
      "epoch 17 | loss: 0.26662 | train_balanced_accuracy: 0.91509 | train_accuracy: 0.88132 |  0:08:21s\n",
      "epoch 18 | loss: 0.25701 | train_balanced_accuracy: 0.9186  | train_accuracy: 0.88512 |  0:08:49s\n",
      "epoch 19 | loss: 0.25092 | train_balanced_accuracy: 0.91959 | train_accuracy: 0.88636 |  0:09:19s\n",
      "epoch 20 | loss: 0.24106 | train_balanced_accuracy: 0.92283 | train_accuracy: 0.88947 |  0:09:43s\n",
      "epoch 21 | loss: 0.23894 | train_balanced_accuracy: 0.92555 | train_accuracy: 0.89193 |  0:10:00s\n",
      "epoch 22 | loss: 0.23207 | train_balanced_accuracy: 0.92694 | train_accuracy: 0.89092 |  0:10:16s\n",
      "epoch 23 | loss: 0.22596 | train_balanced_accuracy: 0.92508 | train_accuracy: 0.89151 |  0:10:33s\n",
      "epoch 24 | loss: 0.21971 | train_balanced_accuracy: 0.92982 | train_accuracy: 0.89615 |  0:10:48s\n",
      "epoch 25 | loss: 0.22114 | train_balanced_accuracy: 0.93018 | train_accuracy: 0.89936 |  0:11:05s\n",
      "epoch 26 | loss: 0.21844 | train_balanced_accuracy: 0.93171 | train_accuracy: 0.89604 |  0:11:21s\n",
      "epoch 27 | loss: 0.21066 | train_balanced_accuracy: 0.93274 | train_accuracy: 0.89971 |  0:11:37s\n",
      "epoch 28 | loss: 0.21035 | train_balanced_accuracy: 0.93258 | train_accuracy: 0.89787 |  0:11:52s\n",
      "epoch 29 | loss: 0.20507 | train_balanced_accuracy: 0.93506 | train_accuracy: 0.90092 |  0:12:08s\n",
      "epoch 30 | loss: 0.20555 | train_balanced_accuracy: 0.93492 | train_accuracy: 0.90361 |  0:12:24s\n",
      "epoch 31 | loss: 0.19917 | train_balanced_accuracy: 0.93568 | train_accuracy: 0.90416 |  0:13:23s\n",
      "epoch 32 | loss: 0.20012 | train_balanced_accuracy: 0.9375  | train_accuracy: 0.90457 |  0:13:47s\n",
      "epoch 33 | loss: 0.20099 | train_balanced_accuracy: 0.93709 | train_accuracy: 0.90332 |  0:14:05s\n",
      "epoch 34 | loss: 0.19836 | train_balanced_accuracy: 0.93703 | train_accuracy: 0.90304 |  0:14:46s\n",
      "epoch 35 | loss: 0.19085 | train_balanced_accuracy: 0.93834 | train_accuracy: 0.90668 |  0:15:18s\n",
      "epoch 36 | loss: 0.19192 | train_balanced_accuracy: 0.93827 | train_accuracy: 0.90468 |  0:15:41s\n",
      "epoch 37 | loss: 0.18887 | train_balanced_accuracy: 0.93849 | train_accuracy: 0.90947 |  0:16:12s\n",
      "epoch 38 | loss: 0.18759 | train_balanced_accuracy: 0.94084 | train_accuracy: 0.90984 |  0:16:44s\n",
      "epoch 39 | loss: 0.18861 | train_balanced_accuracy: 0.94101 | train_accuracy: 0.90943 |  0:17:10s\n",
      "epoch 40 | loss: 0.18185 | train_balanced_accuracy: 0.9414  | train_accuracy: 0.90967 |  0:17:27s\n",
      "epoch 41 | loss: 0.18492 | train_balanced_accuracy: 0.94131 | train_accuracy: 0.91297 |  0:17:39s\n",
      "epoch 42 | loss: 0.18184 | train_balanced_accuracy: 0.94299 | train_accuracy: 0.91295 |  0:17:50s\n",
      "epoch 43 | loss: 0.18049 | train_balanced_accuracy: 0.94169 | train_accuracy: 0.90911 |  0:18:02s\n",
      "epoch 44 | loss: 0.17618 | train_balanced_accuracy: 0.94313 | train_accuracy: 0.91496 |  0:18:14s\n",
      "epoch 45 | loss: 0.17509 | train_balanced_accuracy: 0.94379 | train_accuracy: 0.91371 |  0:18:32s\n",
      "epoch 46 | loss: 0.17365 | train_balanced_accuracy: 0.94278 | train_accuracy: 0.90992 |  0:18:51s\n",
      "epoch 47 | loss: 0.17338 | train_balanced_accuracy: 0.94377 | train_accuracy: 0.91432 |  0:19:09s\n",
      "epoch 48 | loss: 0.17173 | train_balanced_accuracy: 0.94562 | train_accuracy: 0.91701 |  0:19:21s\n",
      "epoch 49 | loss: 0.16831 | train_balanced_accuracy: 0.94609 | train_accuracy: 0.91915 |  0:19:34s\n",
      "Stop training because you reached max_epochs = 50 with best_epoch = 49 and best_train_accuracy = 0.91915\n",
      "Best weights from best epoch are automatically used!\n"
     ]
    }
   ],
   "source": [
    "model.fit(\n",
    "    X_train=x_train,\n",
    "    y_train=y_train,\n",
    "    eval_set=[(x_train, y_train)],\n",
    "    eval_name=['train'],\n",
    "    eval_metric=['balanced_accuracy', 'accuracy'],\n",
    "    max_epochs=50,\n",
    "    patience=5,\n",
    "    weights=1,  # 0: no, 1: balanced, dict: customized\n",
    "    batch_size=512,\n",
    "    virtual_batch_size=128,\n",
    "    num_workers=0,\n",
    "    drop_last=False,\n",
    "    from_unsupervised=unsupervised_model,\n",
    ")"
   ],
   "metadata": {
    "collapsed": false
   }
  },
  {
   "cell_type": "markdown",
   "source": [
    "#### Result"
   ],
   "metadata": {
    "collapsed": false
   }
  },
  {
   "cell_type": "code",
   "execution_count": 19,
   "outputs": [],
   "source": [
    "from sklearn.metrics import classification_report"
   ],
   "metadata": {
    "collapsed": false
   }
  },
  {
   "cell_type": "code",
   "execution_count": 20,
   "outputs": [
    {
     "name": "stdout",
     "output_type": "stream",
     "text": [
      "Customer_ID :  0.708\n",
      "Month :  0.03\n",
      "Age :  0.001\n",
      "Monthly_Inhand_Salary :  0.017\n",
      "Num_Bank_Accounts :  0.004\n",
      "Num_Credit_Card :  0.007\n",
      "Interest_Rate :  0.024\n",
      "Num_of_Loan :  0.0\n",
      "Delay_from_due_date :  0.002\n",
      "Num_of_Delayed_Payment :  0.009\n",
      "Changed_Credit_Limit :  0.001\n",
      "Num_Credit_Inquiries :  0.015\n",
      "Credit_Mix :  0.078\n",
      "Outstanding_Debt :  0.034\n",
      "Credit_Utilization_Ratio :  0.002\n",
      "Credit_History_Age :  0.019\n",
      "Payment_of_Min_Amount :  0.011\n",
      "Total_EMI_per_month :  0.006\n",
      "Amount_invested_monthly :  0.006\n",
      "Payment_Behaviour :  0.0\n",
      "Monthly_Balance :  0.028\n"
     ]
    }
   ],
   "source": [
    "for i in range(len(all_col_list)):\n",
    "    print(all_col_list[i], ': ', model.feature_importances_.round(3)[i])"
   ],
   "metadata": {
    "collapsed": false
   }
  },
  {
   "cell_type": "code",
   "execution_count": 23,
   "outputs": [
    {
     "name": "stdout",
     "output_type": "stream",
     "text": [
      "              precision    recall  f1-score   support\n",
      "\n",
      "           0       0.85      0.99      0.92     21782\n",
      "           1       0.99      0.86      0.92     40214\n",
      "           2       0.86      0.99      0.92     13004\n",
      "\n",
      "    accuracy                           0.92     75000\n",
      "   macro avg       0.90      0.95      0.92     75000\n",
      "weighted avg       0.93      0.92      0.92     75000\n",
      "\n"
     ]
    }
   ],
   "source": [
    "print(classification_report(y_true=y_train, y_pred=model.predict(x_train)))"
   ],
   "metadata": {
    "collapsed": false
   }
  },
  {
   "cell_type": "code",
   "execution_count": 26,
   "outputs": [],
   "source": [
    "# f1_score(y_train, (model.predict(x_train)))"
   ],
   "metadata": {
    "collapsed": false
   }
  },
  {
   "cell_type": "code",
   "execution_count": 27,
   "outputs": [],
   "source": [
    "predicted = model.predict(x_test)"
   ],
   "metadata": {
    "collapsed": false
   }
  },
  {
   "cell_type": "code",
   "execution_count": 28,
   "outputs": [
    {
     "name": "stdout",
     "output_type": "stream",
     "text": [
      "0.7489961247812217\n",
      "0.7496\n"
     ]
    }
   ],
   "source": [
    "print(f1_score(y_test, predicted, average='weighted'))\n",
    "print(accuracy_score(y_test, predicted))"
   ],
   "metadata": {
    "collapsed": false
   }
  },
  {
   "cell_type": "code",
   "execution_count": 29,
   "outputs": [
    {
     "name": "stdout",
     "output_type": "stream",
     "text": [
      "              precision    recall  f1-score   support\n",
      "\n",
      "           0       0.72      0.84      0.78      7216\n",
      "           1       0.79      0.71      0.75     12960\n",
      "           2       0.71      0.73      0.72      4824\n",
      "\n",
      "    accuracy                           0.75     25000\n",
      "   macro avg       0.74      0.76      0.75     25000\n",
      "weighted avg       0.75      0.75      0.75     25000\n",
      "\n"
     ]
    }
   ],
   "source": [
    "print(classification_report(y_test, predicted))"
   ],
   "metadata": {
    "collapsed": false
   }
  },
  {
   "cell_type": "code",
   "execution_count": 31,
   "outputs": [
    {
     "name": "stdout",
     "output_type": "stream",
     "text": [
      "[[6055 1156    5]\n",
      " [2333 9156 1471]\n",
      " [  12 1283 3529]]\n"
     ]
    }
   ],
   "source": [
    "print(confusion_matrix(y_test, predicted))"
   ],
   "metadata": {
    "collapsed": false
   }
  },
  {
   "cell_type": "markdown",
   "source": [
    "class weight 부여 후 0과 2클래스에 대해 더 많이 맞췄음."
   ],
   "metadata": {
    "collapsed": false
   }
  },
  {
   "cell_type": "code",
   "execution_count": 32,
   "outputs": [
    {
     "data": {
      "text/plain": "<Figure size 1152x720 with 3 Axes>",
      "image/png": "[encoded data removed]"
     },
     "metadata": {
      "needs_background": "light"
     },
     "output_type": "display_data"
    }
   ],
   "source": [
    "explain_matrix, masks = model.explain(x_test)\n",
    "\n",
    "fig, axs = plt.subplots(1, 3, figsize=(16,10))\n",
    "for i in range(3):\n",
    "    axs[i].imshow(masks[i][:50])\n",
    "    axs[i].set_title(f\"mask {i}\")"
   ],
   "metadata": {
    "collapsed": false
   }
  },
  {
   "cell_type": "markdown",
   "source": [
    "### CNN"
   ],
   "metadata": {
    "collapsed": false
   }
  },
  {
   "cell_type": "code",
   "execution_count": 144,
   "outputs": [],
   "source": [
    "import numpy as np"
   ],
   "metadata": {
    "collapsed": false
   }
  },
  {
   "cell_type": "code",
   "execution_count": 145,
   "outputs": [
    {
     "name": "stdout",
     "output_type": "stream",
     "text": [
      "(75000, 21, 1)\n",
      "(75000,)\n",
      "(25000, 21, 1)\n",
      "(25000,)\n"
     ]
    }
   ],
   "source": [
    "# CNN용 데이터 로딩\n",
    "train_data = np.load('./train_reshape_CNN.npz')  # 구글 드라이브에 마운트해서 쓰십쇼.!! 경로 npz 올려두었습니다.\n",
    "X_train_reshape = train_data['x']\n",
    "y_train = train_data['y']\n",
    "\n",
    "print(X_train_reshape.shape)\n",
    "print(y_train.shape)\n",
    "\n",
    "train_data.close()\n",
    "test_data = np.load('./test_reshape_CNN.npz')\n",
    "X_test_reshape = test_data['x']\n",
    "y_test = test_data['y']\n",
    "\n",
    "print(X_test_reshape.shape)\n",
    "print(y_test.shape)\n",
    "\n",
    "test_data.close()"
   ],
   "metadata": {
    "collapsed": false
   }
  },
  {
   "cell_type": "code",
   "execution_count": 146,
   "outputs": [],
   "source": [
    "from sklearn.utils.class_weight import compute_class_weight\n",
    "import pandas as pd\n",
    "import itertools # 중첩리스트 제거용"
   ],
   "metadata": {
    "collapsed": false
   }
  },
  {
   "cell_type": "code",
   "execution_count": 147,
   "outputs": [
    {
     "data": {
      "text/plain": "array([1.14773666, 0.62167404, 1.92248539])"
     },
     "execution_count": 147,
     "metadata": {},
     "output_type": "execute_result"
    }
   ],
   "source": [
    "weights = compute_class_weight(class_weight = \"balanced\" ,\n",
    "                               classes=np.unique(y_train),\n",
    "                               y = y_train)\n",
    "\n",
    "weights"
   ],
   "metadata": {
    "collapsed": false
   }
  },
  {
   "cell_type": "markdown",
   "source": [
    "동일 weight 확인"
   ],
   "metadata": {
    "collapsed": false
   }
  },
  {
   "cell_type": "code",
   "execution_count": 148,
   "outputs": [
    {
     "name": "stdout",
     "output_type": "stream",
     "text": [
      "24999.999999999996\n",
      "25000.0\n",
      "25000.0\n"
     ]
    }
   ],
   "source": [
    "i = 0\n",
    "for idx, label_weight in enumerate(weights):\n",
    "    if idx == i:\n",
    "        print(pd.Series(y_train).value_counts()[i] * label_weight)\n",
    "    i += 1"
   ],
   "metadata": {
    "collapsed": false
   }
  },
  {
   "cell_type": "code",
   "execution_count": 149,
   "outputs": [
    {
     "data": {
      "text/plain": "{0: 1.1477366632999724, 1: 0.6216740438653205, 2: 1.9224853891110427}"
     },
     "execution_count": 149,
     "metadata": {},
     "output_type": "execute_result"
    }
   ],
   "source": [
    "weight_dict = {k : v for k, v in enumerate(weights)}\n",
    "weight_dict"
   ],
   "metadata": {
    "collapsed": false
   }
  },
  {
   "cell_type": "code",
   "execution_count": 150,
   "outputs": [],
   "source": [
    "import tensorflow as tf\n",
    "from time import time\n",
    "from datetime import timedelta\n",
    "from sklearn.metrics import classification_report, confusion_matrix, accuracy_score"
   ],
   "metadata": {
    "collapsed": false
   }
  },
  {
   "cell_type": "code",
   "execution_count": 151,
   "outputs": [],
   "source": [
    "import matplotlib.pyplot as plt\n",
    "import seaborn as sns"
   ],
   "metadata": {
    "collapsed": false
   }
  },
  {
   "cell_type": "code",
   "execution_count": 152,
   "outputs": [],
   "source": [
    "# loss와 accuracy 시각화를 위한 함수 정의\n",
    "def plot_loss(history):\n",
    "    plt.figure(figsize=(8, 5))\n",
    "    plt.plot(history.history['loss'], 'b-', label='loss')\n",
    "    plt.plot(history.history['val_loss'], 'g--', label='val_loss')\n",
    "    plt.xlabel('Epochs')\n",
    "    plt.ylabel('Loss')\n",
    "    plt.title('Loss vs Val Loss')\n",
    "    plt.legend()\n",
    "    plt.show()\n",
    "\n",
    "def plot_acc(history):\n",
    "    plt.figure(figsize=(8, 5))\n",
    "    plt.plot(history.history['acc'], 'b-', label='acc')\n",
    "    plt.plot(history.history['val_acc'], 'g--', label='val_acc')\n",
    "    plt.xlabel('Epochs')\n",
    "    plt.ylabel('Accuracy')\n",
    "    plt.title('Accuracy vs Val Accuracy')\n",
    "    plt.legend()\n",
    "    plt.show()"
   ],
   "metadata": {
    "collapsed": false
   }
  },
  {
   "cell_type": "code",
   "execution_count": 153,
   "outputs": [],
   "source": [
    "# 결과 재활용을 위한 시드 설정 함수 정의\n",
    "import random\n",
    "def set_seed(seed: int = 42) -> None:\n",
    "    random.seed(seed)\n",
    "    np.random.seed(seed)\n",
    "    tf.random.set_seed(seed)\n",
    "    tf.experimental.numpy.random.seed(seed)\n",
    "    # When running on the CuDNN backend, two further options must be set\n",
    "    os.environ['TF_CUDNN_DETERMINISTIC'] = '1'\n",
    "    os.environ['TF_DETERMINISTIC_OPS'] = '1'\n",
    "    # Set a fixed value for the hash seed\n",
    "    os.environ[\"PYTHONHASHSEED\"] = str(seed)\n",
    "    print(f\"Random seed set as {seed}\")"
   ],
   "metadata": {
    "collapsed": false
   }
  },
  {
   "cell_type": "code",
   "execution_count": 154,
   "outputs": [],
   "source": [
    "# 분류모델 결과 평가를 위한 혼동행렬 리포트 & 시각화 함수 정의\n",
    "def clf_report_plot(y_true, X_test, model):\n",
    "\n",
    "    result = model.predict(X_test)\n",
    "\n",
    "    y_pred = []\n",
    "    for pred in result:\n",
    "        y_pred.append(np.argmax(pred))\n",
    "\n",
    "    print(classification_report(y_true, y_pred, digits=4))\n",
    "\n",
    "    # plt.rc('font', family='NanumGothicOTF') # For MacOS\n",
    "    plt.rc('font', family='NanumGothic') # For Windows\n",
    "\n",
    "    ax = plt.subplot()\n",
    "    ax.figure.set_size_inches(10, 10)\n",
    "    cm = confusion_matrix(y_true=y_true, y_pred=y_pred)\n",
    "    sns.heatmap(cm, annot=True, fmt='.0f', cmap='Blues', ax=ax)\n",
    "\n",
    "    ax.set_title('Confusion Matrix',fontsize=20, y=1.05)\n",
    "    ax.set_xlabel('Predicted Labels', fontsize=15)\n",
    "    ax.set_ylabel('True Labels', fontsize=15)\n",
    "\n",
    "    ax.xaxis.set_ticklabels(['Poor', 'Standard', 'Good'])\n",
    "    ax.yaxis.set_ticklabels(['Poor', 'Standard', 'Good'])\n",
    "    plt.show()"
   ],
   "metadata": {
    "collapsed": false
   }
  },
  {
   "cell_type": "code",
   "execution_count": 155,
   "outputs": [],
   "source": [
    "from tensorflow.keras.models import Sequential, load_model, Model\n",
    "\n",
    "from tensorflow.keras.layers import Dense, LSTM, Flatten\n",
    "from tensorflow.keras.layers import Conv1D, MaxPooling1D, Dropout, Input\n",
    "\n",
    "from tensorflow.keras.callbacks import EarlyStopping, ModelCheckpoint\n",
    "\n",
    "from sklearn.metrics import confusion_matrix, classification_report"
   ],
   "metadata": {
    "collapsed": false
   }
  },
  {
   "cell_type": "code",
   "execution_count": 156,
   "outputs": [],
   "source": [
    "import os"
   ],
   "metadata": {
    "collapsed": false
   }
  },
  {
   "cell_type": "code",
   "execution_count": 157,
   "outputs": [],
   "source": [
    "num_classes = 3"
   ],
   "metadata": {
    "collapsed": false
   }
  },
  {
   "cell_type": "code",
   "execution_count": 158,
   "outputs": [
    {
     "name": "stdout",
     "output_type": "stream",
     "text": [
      "Random seed set as 42\n"
     ]
    }
   ],
   "source": [
    "set_seed(42)\n",
    "model = Sequential()\n",
    "model.add(Input(shape=(num_features, input_dim)))\n",
    "model.add(Conv1D(256, kernel_size=2, activation='relu'))\n",
    "# model.add(MaxPooling1D(pool_size=3, strides=1))\n",
    "model.add(Dropout(0.3))\n",
    "model.add(Conv1D(256, kernel_size=4, activation='relu'))\n",
    "\n",
    "model.add(Dropout(0.3))\n",
    "model.add(Conv1D(256, kernel_size=8, activation='relu'))\n",
    "# model.add(Conv1D(64, kernel_size=4, strides=4, activation='relu'))\n",
    "model.add(MaxPooling1D())\n",
    "model.add(Dropout(0.3))\n",
    "\n",
    "model.add(Flatten())\n",
    "model.add(Dense(32, activation='relu'))\n",
    "model.add(Dropout(0.3))\n",
    "\n",
    "\n",
    "model.add(Dense(num_classes, activation='softmax'))"
   ],
   "metadata": {
    "collapsed": false
   }
  },
  {
   "cell_type": "code",
   "execution_count": 159,
   "outputs": [
    {
     "name": "stdout",
     "output_type": "stream",
     "text": [
      "Model: \"sequential_2\"\n",
      "_________________________________________________________________\n",
      " Layer (type)                Output Shape              Param #   \n",
      "=================================================================\n",
      " conv1d_6 (Conv1D)           (None, 20, 256)           768       \n",
      "                                                                 \n",
      " dropout_8 (Dropout)         (None, 20, 256)           0         \n",
      "                                                                 \n",
      " conv1d_7 (Conv1D)           (None, 17, 256)           262400    \n",
      "                                                                 \n",
      " dropout_9 (Dropout)         (None, 17, 256)           0         \n",
      "                                                                 \n",
      " conv1d_8 (Conv1D)           (None, 10, 256)           524544    \n",
      "                                                                 \n",
      " max_pooling1d_2 (MaxPooling  (None, 5, 256)           0         \n",
      " 1D)                                                             \n",
      "                                                                 \n",
      " dropout_10 (Dropout)        (None, 5, 256)            0         \n",
      "                                                                 \n",
      " flatten_2 (Flatten)         (None, 1280)              0         \n",
      "                                                                 \n",
      " dense_4 (Dense)             (None, 32)                40992     \n",
      "                                                                 \n",
      " dropout_11 (Dropout)        (None, 32)                0         \n",
      "                                                                 \n",
      " dense_5 (Dense)             (None, 3)                 99        \n",
      "                                                                 \n",
      "=================================================================\n",
      "Total params: 828,803\n",
      "Trainable params: 828,803\n",
      "Non-trainable params: 0\n",
      "_________________________________________________________________\n"
     ]
    }
   ],
   "source": [
    "model.summary()"
   ],
   "metadata": {
    "collapsed": false
   }
  },
  {
   "cell_type": "code",
   "execution_count": 160,
   "outputs": [],
   "source": [
    "model.compile(optimizer='adam', loss='sparse_categorical_crossentropy', metrics=['acc'])\n",
    "\n",
    "es = EarlyStopping(monitor='val_loss', mode='min', verbose=1, patience=5)\n",
    "mc = ModelCheckpoint('weighted_cnn_best_model.h5', monitor='val_acc', mode='max', verbose=1, save_best_only=True)"
   ],
   "metadata": {
    "collapsed": false
   }
  },
  {
   "cell_type": "code",
   "execution_count": 161,
   "outputs": [
    {
     "name": "stdout",
     "output_type": "stream",
     "text": [
      "Algorithm starts learning.....\n",
      "Epoch 1/50\n"
     ]
    },
    {
     "name": "stderr",
     "output_type": "stream",
     "text": [
      "2022-11-18 19:19:11.615298: I tensorflow/core/grappler/optimizers/custom_graph_optimizer_registry.cc:114] Plugin optimizer for device_type GPU is enabled.\n"
     ]
    },
    {
     "name": "stdout",
     "output_type": "stream",
     "text": [
      "938/938 [==============================] - ETA: 0s - loss: 1.0536 - acc: 0.3360"
     ]
    },
    {
     "name": "stderr",
     "output_type": "stream",
     "text": [
      "2022-11-18 19:19:28.962332: I tensorflow/core/grappler/optimizers/custom_graph_optimizer_registry.cc:114] Plugin optimizer for device_type GPU is enabled.\n"
     ]
    },
    {
     "name": "stdout",
     "output_type": "stream",
     "text": [
      "\n",
      "Epoch 1: val_acc improved from -inf to 0.50180, saving model to weighted_cnn_best_model.h5\n",
      "938/938 [==============================] - 21s 22ms/step - loss: 1.0536 - acc: 0.3360 - val_loss: 0.9030 - val_acc: 0.5018\n",
      "Epoch 2/50\n",
      "937/938 [============================>.] - ETA: 0s - loss: 0.9572 - acc: 0.3751\n",
      "Epoch 2: val_acc improved from 0.50180 to 0.58147, saving model to weighted_cnn_best_model.h5\n",
      "938/938 [==============================] - 20s 22ms/step - loss: 0.9572 - acc: 0.3751 - val_loss: 0.8828 - val_acc: 0.5815\n",
      "Epoch 3/50\n",
      "937/938 [============================>.] - ETA: 0s - loss: 0.9485 - acc: 0.4287\n",
      "Epoch 3: val_acc improved from 0.58147 to 0.65113, saving model to weighted_cnn_best_model.h5\n",
      "938/938 [==============================] - 20s 21ms/step - loss: 0.9485 - acc: 0.4288 - val_loss: 0.8642 - val_acc: 0.6511\n",
      "Epoch 4/50\n",
      "937/938 [============================>.] - ETA: 0s - loss: 0.8928 - acc: 0.5397\n",
      "Epoch 4: val_acc improved from 0.65113 to 0.71087, saving model to weighted_cnn_best_model.h5\n",
      "938/938 [==============================] - 19s 21ms/step - loss: 0.8929 - acc: 0.5397 - val_loss: 0.7894 - val_acc: 0.7109\n",
      "Epoch 5/50\n",
      "938/938 [==============================] - ETA: 0s - loss: 0.8606 - acc: 0.6320\n",
      "Epoch 5: val_acc improved from 0.71087 to 0.71300, saving model to weighted_cnn_best_model.h5\n",
      "938/938 [==============================] - 19s 21ms/step - loss: 0.8606 - acc: 0.6320 - val_loss: 0.7956 - val_acc: 0.7130\n",
      "Epoch 6/50\n",
      "938/938 [==============================] - ETA: 0s - loss: 0.8526 - acc: 0.6366\n",
      "Epoch 6: val_acc improved from 0.71300 to 0.71433, saving model to weighted_cnn_best_model.h5\n",
      "938/938 [==============================] - 19s 21ms/step - loss: 0.8526 - acc: 0.6366 - val_loss: 0.7836 - val_acc: 0.7143\n",
      "Epoch 7/50\n",
      "937/938 [============================>.] - ETA: 0s - loss: 0.8485 - acc: 0.6383\n",
      "Epoch 7: val_acc improved from 0.71433 to 0.71633, saving model to weighted_cnn_best_model.h5\n",
      "938/938 [==============================] - 19s 20ms/step - loss: 0.8485 - acc: 0.6383 - val_loss: 0.7977 - val_acc: 0.7163\n",
      "Epoch 8/50\n",
      "936/938 [============================>.] - ETA: 0s - loss: 0.8113 - acc: 0.6471\n",
      "Epoch 8: val_acc improved from 0.71633 to 0.71853, saving model to weighted_cnn_best_model.h5\n",
      "938/938 [==============================] - 21s 22ms/step - loss: 0.8114 - acc: 0.6473 - val_loss: 0.7660 - val_acc: 0.7185\n",
      "Epoch 9/50\n",
      "937/938 [============================>.] - ETA: 0s - loss: 0.8050 - acc: 0.6471\n",
      "Epoch 9: val_acc did not improve from 0.71853\n",
      "938/938 [==============================] - 21s 23ms/step - loss: 0.8050 - acc: 0.6471 - val_loss: 0.7592 - val_acc: 0.7181\n",
      "Epoch 10/50\n",
      "936/938 [============================>.] - ETA: 0s - loss: 0.7985 - acc: 0.6515\n",
      "Epoch 10: val_acc improved from 0.71853 to 0.71980, saving model to weighted_cnn_best_model.h5\n",
      "938/938 [==============================] - 20s 21ms/step - loss: 0.7987 - acc: 0.6514 - val_loss: 0.7540 - val_acc: 0.7198\n",
      "Epoch 11/50\n",
      "938/938 [==============================] - ETA: 0s - loss: 0.7945 - acc: 0.6536\n",
      "Epoch 11: val_acc improved from 0.71980 to 0.72547, saving model to weighted_cnn_best_model.h5\n",
      "938/938 [==============================] - 19s 20ms/step - loss: 0.7945 - acc: 0.6536 - val_loss: 0.7539 - val_acc: 0.7255\n",
      "Epoch 12/50\n",
      "938/938 [==============================] - ETA: 0s - loss: 0.7918 - acc: 0.6553\n",
      "Epoch 12: val_acc did not improve from 0.72547\n",
      "938/938 [==============================] - 19s 20ms/step - loss: 0.7918 - acc: 0.6553 - val_loss: 0.7440 - val_acc: 0.7147\n",
      "Epoch 13/50\n",
      "937/938 [============================>.] - ETA: 0s - loss: 0.7913 - acc: 0.6556\n",
      "Epoch 13: val_acc did not improve from 0.72547\n",
      "938/938 [==============================] - 20s 21ms/step - loss: 0.7913 - acc: 0.6557 - val_loss: 0.7450 - val_acc: 0.7227\n",
      "Epoch 14/50\n",
      "935/938 [============================>.] - ETA: 0s - loss: 0.7878 - acc: 0.6562\n",
      "Epoch 14: val_acc improved from 0.72547 to 0.72600, saving model to weighted_cnn_best_model.h5\n",
      "938/938 [==============================] - 20s 21ms/step - loss: 0.7880 - acc: 0.6561 - val_loss: 0.7507 - val_acc: 0.7260\n",
      "Epoch 15/50\n",
      "937/938 [============================>.] - ETA: 0s - loss: 0.7862 - acc: 0.6570\n",
      "Epoch 15: val_acc improved from 0.72600 to 0.72807, saving model to weighted_cnn_best_model.h5\n",
      "938/938 [==============================] - 20s 22ms/step - loss: 0.7863 - acc: 0.6571 - val_loss: 0.7425 - val_acc: 0.7281\n",
      "Epoch 16/50\n",
      "938/938 [==============================] - ETA: 0s - loss: 0.7413 - acc: 0.6853\n",
      "Epoch 16: val_acc did not improve from 0.72807\n",
      "938/938 [==============================] - 20s 21ms/step - loss: 0.7413 - acc: 0.6853 - val_loss: 0.6400 - val_acc: 0.7274\n",
      "Epoch 17/50\n",
      "937/938 [============================>.] - ETA: 0s - loss: 0.7102 - acc: 0.6811\n",
      "Epoch 17: val_acc did not improve from 0.72807\n",
      "938/938 [==============================] - 22s 24ms/step - loss: 0.7102 - acc: 0.6811 - val_loss: 0.6833 - val_acc: 0.7227\n",
      "Epoch 18/50\n",
      "937/938 [============================>.] - ETA: 0s - loss: 0.6948 - acc: 0.6815\n",
      "Epoch 18: val_acc did not improve from 0.72807\n",
      "938/938 [==============================] - 19s 20ms/step - loss: 0.6949 - acc: 0.6815 - val_loss: 0.6585 - val_acc: 0.7230\n",
      "Epoch 19/50\n",
      "936/938 [============================>.] - ETA: 0s - loss: 0.6845 - acc: 0.6796\n",
      "Epoch 19: val_acc did not improve from 0.72807\n",
      "938/938 [==============================] - 18s 20ms/step - loss: 0.6845 - acc: 0.6797 - val_loss: 0.6358 - val_acc: 0.7226\n",
      "Epoch 20/50\n",
      "936/938 [============================>.] - ETA: 0s - loss: 0.6476 - acc: 0.6891\n",
      "Epoch 20: val_acc did not improve from 0.72807\n",
      "938/938 [==============================] - 19s 21ms/step - loss: 0.6476 - acc: 0.6890 - val_loss: 0.6478 - val_acc: 0.7207\n",
      "Epoch 21/50\n",
      "936/938 [============================>.] - ETA: 0s - loss: 0.6388 - acc: 0.6862\n",
      "Epoch 21: val_acc did not improve from 0.72807\n",
      "938/938 [==============================] - 19s 20ms/step - loss: 0.6388 - acc: 0.6861 - val_loss: 0.6511 - val_acc: 0.7161\n",
      "Epoch 22/50\n",
      "938/938 [==============================] - ETA: 0s - loss: 0.6341 - acc: 0.6855\n",
      "Epoch 22: val_acc did not improve from 0.72807\n",
      "938/938 [==============================] - 19s 20ms/step - loss: 0.6341 - acc: 0.6855 - val_loss: 0.6407 - val_acc: 0.7131\n",
      "Epoch 23/50\n",
      "937/938 [============================>.] - ETA: 0s - loss: 0.6236 - acc: 0.6802\n",
      "Epoch 23: val_acc did not improve from 0.72807\n",
      "938/938 [==============================] - 19s 20ms/step - loss: 0.6236 - acc: 0.6802 - val_loss: 0.6303 - val_acc: 0.7153\n",
      "Epoch 24/50\n",
      "936/938 [============================>.] - ETA: 0s - loss: 0.6204 - acc: 0.6777\n",
      "Epoch 24: val_acc did not improve from 0.72807\n",
      "938/938 [==============================] - 19s 20ms/step - loss: 0.6207 - acc: 0.6776 - val_loss: 0.6324 - val_acc: 0.7118\n",
      "Epoch 25/50\n",
      "935/938 [============================>.] - ETA: 0s - loss: 0.6187 - acc: 0.6769\n",
      "Epoch 25: val_acc did not improve from 0.72807\n",
      "938/938 [==============================] - 19s 20ms/step - loss: 0.6187 - acc: 0.6769 - val_loss: 0.6679 - val_acc: 0.7051\n",
      "Epoch 26/50\n",
      "936/938 [============================>.] - ETA: 0s - loss: 0.6132 - acc: 0.6751\n",
      "Epoch 26: val_acc did not improve from 0.72807\n",
      "938/938 [==============================] - 19s 20ms/step - loss: 0.6132 - acc: 0.6750 - val_loss: 0.6642 - val_acc: 0.6964\n",
      "Epoch 27/50\n",
      "937/938 [============================>.] - ETA: 0s - loss: 0.6118 - acc: 0.6760\n",
      "Epoch 27: val_acc did not improve from 0.72807\n",
      "938/938 [==============================] - 19s 20ms/step - loss: 0.6118 - acc: 0.6760 - val_loss: 0.6666 - val_acc: 0.6881\n",
      "Epoch 28/50\n",
      "936/938 [============================>.] - ETA: 0s - loss: 0.6074 - acc: 0.6759\n",
      "Epoch 28: val_acc did not improve from 0.72807\n",
      "938/938 [==============================] - 20s 21ms/step - loss: 0.6075 - acc: 0.6758 - val_loss: 0.6567 - val_acc: 0.6980\n",
      "Epoch 28: early stopping\n",
      "Learning Durations:  0:09:07.382455\n"
     ]
    }
   ],
   "source": [
    "print('Algorithm starts learning.....')\n",
    "start_time = time()\n",
    "\n",
    "history = model.fit(X_train_reshape, y_train, epochs=50, batch_size=64, validation_split=0.2, class_weight=weight_dict, callbacks=[es, mc] )\n",
    "\n",
    "print(\"Learning Durations: \", timedelta(seconds=(time() - start_time)))"
   ],
   "metadata": {
    "collapsed": false
   }
  },
  {
   "cell_type": "code",
   "execution_count": 162,
   "outputs": [
    {
     "name": "stderr",
     "output_type": "stream",
     "text": [
      "findfont: Font family ['NanumGothic'] not found. Falling back to DejaVu Sans.\n"
     ]
    },
    {
     "data": {
      "text/plain": "<Figure size 576x360 with 1 Axes>",
      "image/png": "[encoded data removed]"
     },
     "metadata": {
      "needs_background": "light"
     },
     "output_type": "display_data"
    }
   ],
   "source": [
    "plot_loss(history)"
   ],
   "metadata": {
    "collapsed": false
   }
  },
  {
   "cell_type": "code",
   "execution_count": 163,
   "outputs": [
    {
     "data": {
      "text/plain": "<Figure size 576x360 with 1 Axes>",
      "image/png": "[encoded data removed]"
     },
     "metadata": {
      "needs_background": "light"
     },
     "output_type": "display_data"
    }
   ],
   "source": [
    "plot_acc(history)"
   ],
   "metadata": {
    "collapsed": false
   }
  },
  {
   "cell_type": "code",
   "execution_count": 164,
   "outputs": [
    {
     "name": "stdout",
     "output_type": "stream",
     "text": [
      " 14/782 [..............................] - ETA: 6s - loss: 0.8234 - acc: 0.6496"
     ]
    },
    {
     "name": "stderr",
     "output_type": "stream",
     "text": [
      "2022-11-18 19:28:19.085551: I tensorflow/core/grappler/optimizers/custom_graph_optimizer_registry.cc:114] Plugin optimizer for device_type GPU is enabled.\n"
     ]
    },
    {
     "name": "stdout",
     "output_type": "stream",
     "text": [
      "782/782 [==============================] - 6s 7ms/step - loss: 0.8411 - acc: 0.6328\n",
      "Test Accuracy: 0.6327600479125977\n"
     ]
    }
   ],
   "source": [
    "best_model = load_model('./weighted_cnn_best_model.h5')\n",
    "print('Test Accuracy: {}'.format(best_model.evaluate(X_test_reshape, y_test)[1]))"
   ],
   "metadata": {
    "collapsed": false
   }
  },
  {
   "cell_type": "code",
   "execution_count": 165,
   "outputs": [
    {
     "name": "stdout",
     "output_type": "stream",
     "text": [
      "2344/2344 [==============================] - 16s 7ms/step - loss: 0.7416 - acc: 0.7246\n",
      "Train Accuracy: 0.7246400117874146\n"
     ]
    }
   ],
   "source": [
    "print(\"Train Accuracy: {}\".format(best_model.evaluate(X_train_reshape, y_train)[1]))"
   ],
   "metadata": {
    "collapsed": false
   }
  },
  {
   "cell_type": "code",
   "execution_count": 166,
   "outputs": [
    {
     "name": "stdout",
     "output_type": "stream",
     "text": [
      " 51/782 [>.............................] - ETA: 2s"
     ]
    },
    {
     "name": "stderr",
     "output_type": "stream",
     "text": [
      "2022-11-18 19:28:40.744273: I tensorflow/core/grappler/optimizers/custom_graph_optimizer_registry.cc:114] Plugin optimizer for device_type GPU is enabled.\n"
     ]
    },
    {
     "name": "stdout",
     "output_type": "stream",
     "text": [
      "782/782 [==============================] - 3s 3ms/step\n",
      "              precision    recall  f1-score   support\n",
      "\n",
      "           0     0.6858    0.5485    0.6095      7216\n",
      "           1     0.6877    0.6489    0.6678     12960\n",
      "           2     0.4930    0.7154    0.5837      4824\n",
      "\n",
      "    accuracy                         0.6328     25000\n",
      "   macro avg     0.6222    0.6376    0.6203     25000\n",
      "weighted avg     0.6496    0.6328    0.6347     25000\n",
      "\n"
     ]
    },
    {
     "data": {
      "text/plain": "<Figure size 720x720 with 2 Axes>",
      "image/png": "[encoded data removed]"
     },
     "metadata": {
      "needs_background": "light"
     },
     "output_type": "display_data"
    }
   ],
   "source": [
    "clf_report_plot(y_test, X_test_reshape, best_model)"
   ],
   "metadata": {
    "collapsed": false
   }
  },
  {
   "cell_type": "code",
   "execution_count": null,
   "outputs": [],
   "source": [],
   "metadata": {
    "collapsed": false
   }
  }
 ],
 "metadata": {
  "kernelspec": {
   "display_name": "Python 3",
   "language": "python",
   "name": "python3"
  },
  "language_info": {
   "codemirror_mode": {
    "name": "ipython",
    "version": 2
   },
   "file_extension": ".py",
   "mimetype": "text/x-python",
   "name": "python",
   "nbconvert_exporter": "python",
   "pygments_lexer": "ipython2",
   "version": "2.7.6"
  }
 },
 "nbformat": 4,
 "nbformat_minor": 0
}
