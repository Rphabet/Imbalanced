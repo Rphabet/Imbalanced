{
 "cells": [
  {
   "cell_type": "markdown",
   "source": [
    "# CNN Modelling Using SMOTE and SMOTENC\n"
   ],
   "metadata": {
    "collapsed": false
   }
  },
  {
   "cell_type": "code",
   "execution_count": 1,
   "outputs": [],
   "source": [
    "import os\n",
    "import math\n",
    "import numpy as np\n",
    "import pandas as pd\n",
    "\n",
    "from datetime import datetime\n",
    "\n",
    "import seaborn as sns\n",
    "import matplotlib.pyplot as plt\n",
    "import warnings, random\n",
    "warnings.filterwarnings(action='ignore')\n",
    "\n",
    "import matplotlib.pyplot as plt\n",
    "\n",
    "\n",
    "# !pip install catboost\n",
    "from catboost import CatBoostClassifier, Pool"
   ],
   "metadata": {
    "collapsed": false
   }
  },
  {
   "cell_type": "code",
   "execution_count": 26,
   "outputs": [
    {
     "data": {
      "text/plain": "((75000, 22), (75000,), (25000, 22), (25000,))"
     },
     "execution_count": 26,
     "metadata": {},
     "output_type": "execute_result"
    }
   ],
   "source": [
    "# from google.colab import drive\n",
    "# drive.mount('/content/drive')\n",
    "\n",
    "# main_dir = '/content/drive/MyDrive/SKKU_study/01_Final_assignment'\n",
    "# data_dir = os.path.join(main_dir, 'data')\n",
    "# processed_data_dir = os.path.join(data_dir, 'processed')\n",
    "# raw_data_dir = os.path.join(data_dir, 'raw')\n",
    "\n",
    "# os.makedirs(data_dir, exist_ok=True)\n",
    "# os.makedirs(processed_data_dir, exist_ok=True)\n",
    "\n",
    "# train = pd.read_csv(os.path.join(processed_data_dir, 'train.csv'))\n",
    "# test = pd.read_csv(os.path.join(processed_data_dir, 'test.csv'))\n",
    "# raw = pd.read_csv(os.path.join(raw_data_dir, 'credit_score_data.csv'))\n",
    "\n",
    "train = pd.read_csv('./train.csv')\n",
    "test = pd.read_csv('./test.csv')\n",
    "raw = pd.read_csv('./processed.csv')\n",
    "\n",
    "target = 'Credit_Score'\n",
    "train.shape, test.shape\n",
    "\n",
    "x_train = train.drop(target,axis=1)\n",
    "y_train = train[target]\n",
    "x_test = test.drop(target,axis=1)\n",
    "y_test = test[target]\n",
    "\n",
    "x_train.shape, y_train.shape, x_test.shape, y_test.shape"
   ],
   "metadata": {
    "collapsed": false
   }
  },
  {
   "cell_type": "code",
   "execution_count": 29,
   "outputs": [],
   "source": [
    "from sklearn.preprocessing import RobustScaler\n",
    "\n",
    "def make_scaled(train, data):\n",
    "  \"\"\"\n",
    "  :train: train 데이터 입력 필요. 트레인 데이터 기반으로 test 스케일링 진행\n",
    "  :param data: processed 데이터 입력\n",
    "  :return: 스케일된 데이터 프레임 출력\n",
    "  \"\"\"\n",
    "\n",
    "  rs = RobustScaler()\n",
    "\n",
    "  scaling_cols = ['Monthly_Inhand_Salary', 'Outstanding_Debt', 'Credit_Utilization_Ratio', 'Total_EMI_per_month',\n",
    "                  'Amount_invested_monthly', 'Monthly_Balance']\n",
    "  rs.fit(train[scaling_cols])\n",
    "  rs_data = rs.transform(data.loc[:, scaling_cols])\n",
    "  data[scaling_cols] = rs_data\n",
    "\n",
    "  return data"
   ],
   "metadata": {
    "collapsed": false
   }
  },
  {
   "cell_type": "code",
   "execution_count": 30,
   "outputs": [],
   "source": [
    "x_train = make_scaled(x_train, x_train)\n",
    "x_test = make_scaled(x_train, x_test)"
   ],
   "metadata": {
    "collapsed": false
   }
  },
  {
   "cell_type": "code",
   "execution_count": 31,
   "outputs": [
    {
     "data": {
      "text/plain": "       Customer_ID  Month  Age  Occupation  Monthly_Inhand_Salary  \\\n0              576      1    3          12              -0.407299   \n1              576      2    3          12              -0.407299   \n2              576      3    3          12              -0.407299   \n3              576      4    3          12              -0.407299   \n4              576      5    3          12              -0.407299   \n...            ...    ...  ...         ...                    ...   \n74995         9254      2    3           9               0.062676   \n74996         9254      3    3           9               0.062676   \n74997         9254      4    3           9               0.062676   \n74998         9254      5    3           9               0.062676   \n74999         9254      6    3           9               0.062676   \n\n       Num_Bank_Accounts  Num_Credit_Card  Interest_Rate  Num_of_Loan  \\\n0                    3.0              4.0            3.0            0   \n1                    3.0              4.0            3.0            0   \n2                    3.0              4.0            3.0            0   \n3                    3.0              4.0            3.0            0   \n4                    3.0              4.0            3.0            0   \n...                  ...              ...            ...          ...   \n74995                4.0              6.0            7.0            0   \n74996                4.0              6.0            7.0            0   \n74997                4.0              6.0            7.0            0   \n74998                4.0              6.0            7.0            0   \n74999                4.0              6.0            7.0            0   \n\n       Delay_from_due_date  ...  Num_Credit_Inquiries  Credit_Mix  \\\n0                      3.0  ...                   4.0           2   \n1                      3.0  ...                   4.0           2   \n2                      3.0  ...                   4.0           2   \n3                      5.0  ...                   4.0           2   \n4                      6.0  ...                   4.0           2   \n...                    ...  ...                   ...         ...   \n74995                 23.0  ...                   3.0           2   \n74996                 20.0  ...                   3.0           2   \n74997                 23.0  ...                   3.0           2   \n74998                 18.0  ...                   3.0           2   \n74999                 27.0  ...                   3.0           2   \n\n       Outstanding_Debt  Credit_Utilization_Ratio  Credit_History_Age  \\\n0             -0.279953                 -0.648697                   1   \n1             -0.279953                 -0.041010                   1   \n2             -0.279953                 -0.436728                   1   \n3             -0.279953                 -0.108287                   1   \n4             -0.279953                 -0.888964                   1   \n...                 ...                       ...                 ...   \n74995         -0.577496                 -0.374315                   1   \n74996         -0.577496                  0.834349                   1   \n74997         -0.577496                  0.281512                   1   \n74998         -0.577496                  0.981701                   1   \n74999         -0.577496                  1.063546                   1   \n\n       Payment_of_Min_Amount  Total_EMI_per_month  Amount_invested_monthly  \\\n0                          1            -0.139504                -0.546677   \n1                          1            -0.139504                -0.546677   \n2                          1            -0.139504                -0.546677   \n3                          1            -0.139504                -0.546677   \n4                          1            -0.139504                -0.546677   \n...                      ...                  ...                      ...   \n74995                      1            -0.264438                -0.487533   \n74996                      1            -0.264438                -0.487533   \n74997                      1            -0.264438                -0.487533   \n74998                      1            -0.264438                -0.487533   \n74999                      1            -0.264438                -0.487533   \n\n       Payment_Behaviour  Monthly_Balance  \n0                      2        -0.108344  \n1                      3        -0.250764  \n2                      4        -0.012686  \n3                      5        -0.563450  \n4                      1         0.039852  \n...                  ...              ...  \n74995                  4         0.339440  \n74996                  1         0.391326  \n74997                  0         0.747110  \n74998                  1         0.832901  \n74999                  0         0.935928  \n\n[75000 rows x 22 columns]",
      "text/html": "<div>\n<style scoped>\n    .dataframe tbody tr th:only-of-type {\n        vertical-align: middle;\n    }\n\n    .dataframe tbody tr th {\n        vertical-align: top;\n    }\n\n    .dataframe thead th {\n        text-align: right;\n    }\n</style>\n<table border=\"1\" class=\"dataframe\">\n  <thead>\n    <tr style=\"text-align: right;\">\n      <th></th>\n      <th>Customer_ID</th>\n      <th>Month</th>\n      <th>Age</th>\n      <th>Occupation</th>\n      <th>Monthly_Inhand_Salary</th>\n      <th>Num_Bank_Accounts</th>\n      <th>Num_Credit_Card</th>\n      <th>Interest_Rate</th>\n      <th>Num_of_Loan</th>\n      <th>Delay_from_due_date</th>\n      <th>...</th>\n      <th>Num_Credit_Inquiries</th>\n      <th>Credit_Mix</th>\n      <th>Outstanding_Debt</th>\n      <th>Credit_Utilization_Ratio</th>\n      <th>Credit_History_Age</th>\n      <th>Payment_of_Min_Amount</th>\n      <th>Total_EMI_per_month</th>\n      <th>Amount_invested_monthly</th>\n      <th>Payment_Behaviour</th>\n      <th>Monthly_Balance</th>\n    </tr>\n  </thead>\n  <tbody>\n    <tr>\n      <th>0</th>\n      <td>576</td>\n      <td>1</td>\n      <td>3</td>\n      <td>12</td>\n      <td>-0.407299</td>\n      <td>3.0</td>\n      <td>4.0</td>\n      <td>3.0</td>\n      <td>0</td>\n      <td>3.0</td>\n      <td>...</td>\n      <td>4.0</td>\n      <td>2</td>\n      <td>-0.279953</td>\n      <td>-0.648697</td>\n      <td>1</td>\n      <td>1</td>\n      <td>-0.139504</td>\n      <td>-0.546677</td>\n      <td>2</td>\n      <td>-0.108344</td>\n    </tr>\n    <tr>\n      <th>1</th>\n      <td>576</td>\n      <td>2</td>\n      <td>3</td>\n      <td>12</td>\n      <td>-0.407299</td>\n      <td>3.0</td>\n      <td>4.0</td>\n      <td>3.0</td>\n      <td>0</td>\n      <td>3.0</td>\n      <td>...</td>\n      <td>4.0</td>\n      <td>2</td>\n      <td>-0.279953</td>\n      <td>-0.041010</td>\n      <td>1</td>\n      <td>1</td>\n      <td>-0.139504</td>\n      <td>-0.546677</td>\n      <td>3</td>\n      <td>-0.250764</td>\n    </tr>\n    <tr>\n      <th>2</th>\n      <td>576</td>\n      <td>3</td>\n      <td>3</td>\n      <td>12</td>\n      <td>-0.407299</td>\n      <td>3.0</td>\n      <td>4.0</td>\n      <td>3.0</td>\n      <td>0</td>\n      <td>3.0</td>\n      <td>...</td>\n      <td>4.0</td>\n      <td>2</td>\n      <td>-0.279953</td>\n      <td>-0.436728</td>\n      <td>1</td>\n      <td>1</td>\n      <td>-0.139504</td>\n      <td>-0.546677</td>\n      <td>4</td>\n      <td>-0.012686</td>\n    </tr>\n    <tr>\n      <th>3</th>\n      <td>576</td>\n      <td>4</td>\n      <td>3</td>\n      <td>12</td>\n      <td>-0.407299</td>\n      <td>3.0</td>\n      <td>4.0</td>\n      <td>3.0</td>\n      <td>0</td>\n      <td>5.0</td>\n      <td>...</td>\n      <td>4.0</td>\n      <td>2</td>\n      <td>-0.279953</td>\n      <td>-0.108287</td>\n      <td>1</td>\n      <td>1</td>\n      <td>-0.139504</td>\n      <td>-0.546677</td>\n      <td>5</td>\n      <td>-0.563450</td>\n    </tr>\n    <tr>\n      <th>4</th>\n      <td>576</td>\n      <td>5</td>\n      <td>3</td>\n      <td>12</td>\n      <td>-0.407299</td>\n      <td>3.0</td>\n      <td>4.0</td>\n      <td>3.0</td>\n      <td>0</td>\n      <td>6.0</td>\n      <td>...</td>\n      <td>4.0</td>\n      <td>2</td>\n      <td>-0.279953</td>\n      <td>-0.888964</td>\n      <td>1</td>\n      <td>1</td>\n      <td>-0.139504</td>\n      <td>-0.546677</td>\n      <td>1</td>\n      <td>0.039852</td>\n    </tr>\n    <tr>\n      <th>...</th>\n      <td>...</td>\n      <td>...</td>\n      <td>...</td>\n      <td>...</td>\n      <td>...</td>\n      <td>...</td>\n      <td>...</td>\n      <td>...</td>\n      <td>...</td>\n      <td>...</td>\n      <td>...</td>\n      <td>...</td>\n      <td>...</td>\n      <td>...</td>\n      <td>...</td>\n      <td>...</td>\n      <td>...</td>\n      <td>...</td>\n      <td>...</td>\n      <td>...</td>\n      <td>...</td>\n    </tr>\n    <tr>\n      <th>74995</th>\n      <td>9254</td>\n      <td>2</td>\n      <td>3</td>\n      <td>9</td>\n      <td>0.062676</td>\n      <td>4.0</td>\n      <td>6.0</td>\n      <td>7.0</td>\n      <td>0</td>\n      <td>23.0</td>\n      <td>...</td>\n      <td>3.0</td>\n      <td>2</td>\n      <td>-0.577496</td>\n      <td>-0.374315</td>\n      <td>1</td>\n      <td>1</td>\n      <td>-0.264438</td>\n      <td>-0.487533</td>\n      <td>4</td>\n      <td>0.339440</td>\n    </tr>\n    <tr>\n      <th>74996</th>\n      <td>9254</td>\n      <td>3</td>\n      <td>3</td>\n      <td>9</td>\n      <td>0.062676</td>\n      <td>4.0</td>\n      <td>6.0</td>\n      <td>7.0</td>\n      <td>0</td>\n      <td>20.0</td>\n      <td>...</td>\n      <td>3.0</td>\n      <td>2</td>\n      <td>-0.577496</td>\n      <td>0.834349</td>\n      <td>1</td>\n      <td>1</td>\n      <td>-0.264438</td>\n      <td>-0.487533</td>\n      <td>1</td>\n      <td>0.391326</td>\n    </tr>\n    <tr>\n      <th>74997</th>\n      <td>9254</td>\n      <td>4</td>\n      <td>3</td>\n      <td>9</td>\n      <td>0.062676</td>\n      <td>4.0</td>\n      <td>6.0</td>\n      <td>7.0</td>\n      <td>0</td>\n      <td>23.0</td>\n      <td>...</td>\n      <td>3.0</td>\n      <td>2</td>\n      <td>-0.577496</td>\n      <td>0.281512</td>\n      <td>1</td>\n      <td>1</td>\n      <td>-0.264438</td>\n      <td>-0.487533</td>\n      <td>0</td>\n      <td>0.747110</td>\n    </tr>\n    <tr>\n      <th>74998</th>\n      <td>9254</td>\n      <td>5</td>\n      <td>3</td>\n      <td>9</td>\n      <td>0.062676</td>\n      <td>4.0</td>\n      <td>6.0</td>\n      <td>7.0</td>\n      <td>0</td>\n      <td>18.0</td>\n      <td>...</td>\n      <td>3.0</td>\n      <td>2</td>\n      <td>-0.577496</td>\n      <td>0.981701</td>\n      <td>1</td>\n      <td>1</td>\n      <td>-0.264438</td>\n      <td>-0.487533</td>\n      <td>1</td>\n      <td>0.832901</td>\n    </tr>\n    <tr>\n      <th>74999</th>\n      <td>9254</td>\n      <td>6</td>\n      <td>3</td>\n      <td>9</td>\n      <td>0.062676</td>\n      <td>4.0</td>\n      <td>6.0</td>\n      <td>7.0</td>\n      <td>0</td>\n      <td>27.0</td>\n      <td>...</td>\n      <td>3.0</td>\n      <td>2</td>\n      <td>-0.577496</td>\n      <td>1.063546</td>\n      <td>1</td>\n      <td>1</td>\n      <td>-0.264438</td>\n      <td>-0.487533</td>\n      <td>0</td>\n      <td>0.935928</td>\n    </tr>\n  </tbody>\n</table>\n<p>75000 rows × 22 columns</p>\n</div>"
     },
     "execution_count": 31,
     "metadata": {},
     "output_type": "execute_result"
    }
   ],
   "source": [
    "x_train"
   ],
   "metadata": {
    "collapsed": false
   }
  },
  {
   "cell_type": "markdown",
   "source": [
    "## baseline"
   ],
   "metadata": {
    "collapsed": false
   }
  },
  {
   "cell_type": "code",
   "execution_count": 32,
   "outputs": [],
   "source": [
    "from imblearn.over_sampling import SMOTE\n",
    "\n",
    "def sampling_smote_baseline(x_input_df, y_input_df, sampling_strategy='auto'):\n",
    "  \"\"\"\n",
    "  smote기법을 처리 없이 시도하는 함수\n",
    "\n",
    "  params:\n",
    "    x_input_df: 샘플링 원하는 x데이터프레임\n",
    "    y_input_df: 샘플링 원하는 y데이터프레임\n",
    "    sampling_strategy: oversampling class 비율 설정\n",
    "      default='auto' 자동으로 minority의 수를 majority의 수와 맞춤\n",
    "      otherwise, 딕셔너리 형태로 주어야함 (e.g. {0: 1.2, 1: 0.5, 2: 1.9})\n",
    "\n",
    "  return :\n",
    "    샘플링 완료된 x, y 데이터프레임\n",
    "\n",
    "  사용예시 :\n",
    "    output_x, output_y = sampling_smote_vanilla(x_train,y_train)\n",
    "\n",
    "\n",
    "  참고:\n",
    "  https://imbalanced-learn.org/stable/references/generated/imblearn.over_sampling.SMOTE.html\n",
    "  \"\"\"\n",
    "\n",
    "\n",
    "  #sampling fit\n",
    "  smote_clf = SMOTE(sampling_strategy=sampling_strategy, random_state=42)\n",
    "  x_sampling_df, y_sampling_df = smote_clf.fit_resample(x_input_df, y_input_df)\n",
    "  '''\n",
    "  sampling_strategy : default='auto'\n",
    "\n",
    "  'minority': 소수 클래스만 리샘플링합니다.\n",
    "  'not minority': 소수 클래스를 제외한 모든 클래스를 다시 샘플링합니다.\n",
    "  'not majority': 대부분의 클래스를 제외한 모든 클래스를 리샘플링합니다.\n",
    "  'all': 모든 클래스를 다시 샘플링합니다.\n",
    "  'auto': 에 해당합니다 .'not majority'\n",
    "\n",
    "\n",
    "  k_neighbors int 또는 객체, 기본값=5\n",
    "  샘플을 구성하는 데 사용할 가장 가까운 이웃의 수\n",
    "  '''\n",
    "\n",
    "  # result print\n",
    "  print('=========== shape ===========')\n",
    "  print('before shape : ', x_input_df.shape, y_input_df.shape)\n",
    "  print('after shape : ', x_sampling_df.shape, y_sampling_df.shape)\n",
    "\n",
    "  print('\\n\\n=========== value_counts ===========')\n",
    "  print('before shape : ', dict(y_input_df.value_counts()))\n",
    "  print('after shape : ', dict(y_sampling_df.value_counts()))\n",
    "\n",
    "  #result return\n",
    "  return x_sampling_df, y_sampling_df"
   ],
   "metadata": {
    "collapsed": false
   }
  },
  {
   "cell_type": "code",
   "execution_count": 33,
   "outputs": [
    {
     "name": "stdout",
     "output_type": "stream",
     "text": [
      "=========== shape ===========\n",
      "before shape :  (75000, 22) (75000,)\n",
      "after shape :  (120642, 22) (120642,)\n",
      "\n",
      "\n",
      "=========== value_counts ===========\n",
      "before shape :  {1: 40214, 0: 21782, 2: 13004}\n",
      "after shape :  {2: 40214, 1: 40214, 0: 40214}\n"
     ]
    }
   ],
   "source": [
    "bsmote_x, bsmote_y = sampling_smote_baseline(x_train, y_train)"
   ],
   "metadata": {
    "collapsed": false
   }
  },
  {
   "cell_type": "code",
   "execution_count": 5,
   "outputs": [
    {
     "data": {
      "text/plain": "        Customer_ID  Month  Age  Occupation  Monthly_Inhand_Salary  \\\n0               576      1    3          12               7.509249   \n1               576      2    3          12               7.509249   \n2               576      3    3          12               7.509249   \n3               576      4    3          12               7.509249   \n4               576      5    3          12               7.509249   \n...             ...    ...  ...         ...                    ...   \n120637         3933      2    5          13               6.823428   \n120638         3455      5    3          12               8.878082   \n120639         4671      5    3          10               8.130636   \n120640          875      3    3           7               8.102804   \n120641        11838      1    6          10               9.596135   \n\n        Num_Bank_Accounts  Num_Credit_Card  Interest_Rate  Num_of_Loan  \\\n0                 3.00000         4.000000       3.000000            0   \n1                 3.00000         4.000000       3.000000            0   \n2                 3.00000         4.000000       3.000000            0   \n3                 3.00000         4.000000       3.000000            0   \n4                 3.00000         4.000000       3.000000            0   \n...                   ...              ...            ...          ...   \n120637            5.00000         3.000000       5.000000            0   \n120638            2.00000         3.112734       7.028184            0   \n120639            3.80227         2.197730       7.802270            0   \n120640            2.00000         3.354364       4.076060            0   \n120641            2.00000         4.000000      12.000000            0   \n\n        Delay_from_due_date  ...  Num_Credit_Inquiries  Credit_Mix  \\\n0                  3.000000  ...              4.000000           2   \n1                  3.000000  ...              4.000000           2   \n2                  3.000000  ...              4.000000           2   \n3                  5.000000  ...              4.000000           2   \n4                  6.000000  ...              4.000000           2   \n...                     ...  ...                   ...         ...   \n120637            20.000000  ...              2.000000           2   \n120638             7.197285  ...              4.000000           2   \n120639             0.798486  ...              3.201514           2   \n120640            11.771820  ...              2.000000           2   \n120641             2.000000  ...              4.000000           2   \n\n        Outstanding_Debt  Credit_Utilization_Ratio  Credit_History_Age  \\\n0              28.460148                 26.822620                   1   \n1              28.460148                 31.944960                   1   \n2              28.460148                 28.609352                   1   \n3              28.460148                 31.377862                   1   \n4              28.460148                 24.797347                   1   \n...                  ...                       ...                 ...   \n120637         18.122086                 29.388490                   1   \n120638         21.922314                 29.127050                   1   \n120639         23.302351                 26.421221                   1   \n120640         24.177354                 38.874059                   1   \n120641         30.451108                 32.769064                   1   \n\n        Payment_of_Min_Amount  Total_EMI_per_month  Amount_invested_monthly  \\\n0                           1            49.574949                21.465380   \n1                           1            49.574949                21.465380   \n2                           1            49.574949                21.465380   \n3                           1            49.574949                21.465380   \n4                           1            49.574949                21.465380   \n...                       ...                  ...                      ...   \n120637                      1             0.000000                12.680046   \n120638                      1           160.321072               135.648934   \n120639                      1            33.496335                46.333980   \n120640                      1            48.799456                28.582642   \n120641                      1             0.000000               192.389220   \n\n        Payment_Behaviour  Monthly_Balance  \n0                       2       312.494089  \n1                       3       284.629162  \n2                       4       331.209863  \n3                       5       223.451310  \n4                       1       341.489231  \n...                   ...              ...  \n120637                  3       318.697549  \n120638                  2       456.434967  \n120639                  2       440.347491  \n120640                  0       492.979918  \n120641                  4       434.483474  \n\n[120642 rows x 22 columns]",
      "text/html": "<div>\n<style scoped>\n    .dataframe tbody tr th:only-of-type {\n        vertical-align: middle;\n    }\n\n    .dataframe tbody tr th {\n        vertical-align: top;\n    }\n\n    .dataframe thead th {\n        text-align: right;\n    }\n</style>\n<table border=\"1\" class=\"dataframe\">\n  <thead>\n    <tr style=\"text-align: right;\">\n      <th></th>\n      <th>Customer_ID</th>\n      <th>Month</th>\n      <th>Age</th>\n      <th>Occupation</th>\n      <th>Monthly_Inhand_Salary</th>\n      <th>Num_Bank_Accounts</th>\n      <th>Num_Credit_Card</th>\n      <th>Interest_Rate</th>\n      <th>Num_of_Loan</th>\n      <th>Delay_from_due_date</th>\n      <th>...</th>\n      <th>Num_Credit_Inquiries</th>\n      <th>Credit_Mix</th>\n      <th>Outstanding_Debt</th>\n      <th>Credit_Utilization_Ratio</th>\n      <th>Credit_History_Age</th>\n      <th>Payment_of_Min_Amount</th>\n      <th>Total_EMI_per_month</th>\n      <th>Amount_invested_monthly</th>\n      <th>Payment_Behaviour</th>\n      <th>Monthly_Balance</th>\n    </tr>\n  </thead>\n  <tbody>\n    <tr>\n      <th>0</th>\n      <td>576</td>\n      <td>1</td>\n      <td>3</td>\n      <td>12</td>\n      <td>7.509249</td>\n      <td>3.00000</td>\n      <td>4.000000</td>\n      <td>3.000000</td>\n      <td>0</td>\n      <td>3.000000</td>\n      <td>...</td>\n      <td>4.000000</td>\n      <td>2</td>\n      <td>28.460148</td>\n      <td>26.822620</td>\n      <td>1</td>\n      <td>1</td>\n      <td>49.574949</td>\n      <td>21.465380</td>\n      <td>2</td>\n      <td>312.494089</td>\n    </tr>\n    <tr>\n      <th>1</th>\n      <td>576</td>\n      <td>2</td>\n      <td>3</td>\n      <td>12</td>\n      <td>7.509249</td>\n      <td>3.00000</td>\n      <td>4.000000</td>\n      <td>3.000000</td>\n      <td>0</td>\n      <td>3.000000</td>\n      <td>...</td>\n      <td>4.000000</td>\n      <td>2</td>\n      <td>28.460148</td>\n      <td>31.944960</td>\n      <td>1</td>\n      <td>1</td>\n      <td>49.574949</td>\n      <td>21.465380</td>\n      <td>3</td>\n      <td>284.629162</td>\n    </tr>\n    <tr>\n      <th>2</th>\n      <td>576</td>\n      <td>3</td>\n      <td>3</td>\n      <td>12</td>\n      <td>7.509249</td>\n      <td>3.00000</td>\n      <td>4.000000</td>\n      <td>3.000000</td>\n      <td>0</td>\n      <td>3.000000</td>\n      <td>...</td>\n      <td>4.000000</td>\n      <td>2</td>\n      <td>28.460148</td>\n      <td>28.609352</td>\n      <td>1</td>\n      <td>1</td>\n      <td>49.574949</td>\n      <td>21.465380</td>\n      <td>4</td>\n      <td>331.209863</td>\n    </tr>\n    <tr>\n      <th>3</th>\n      <td>576</td>\n      <td>4</td>\n      <td>3</td>\n      <td>12</td>\n      <td>7.509249</td>\n      <td>3.00000</td>\n      <td>4.000000</td>\n      <td>3.000000</td>\n      <td>0</td>\n      <td>5.000000</td>\n      <td>...</td>\n      <td>4.000000</td>\n      <td>2</td>\n      <td>28.460148</td>\n      <td>31.377862</td>\n      <td>1</td>\n      <td>1</td>\n      <td>49.574949</td>\n      <td>21.465380</td>\n      <td>5</td>\n      <td>223.451310</td>\n    </tr>\n    <tr>\n      <th>4</th>\n      <td>576</td>\n      <td>5</td>\n      <td>3</td>\n      <td>12</td>\n      <td>7.509249</td>\n      <td>3.00000</td>\n      <td>4.000000</td>\n      <td>3.000000</td>\n      <td>0</td>\n      <td>6.000000</td>\n      <td>...</td>\n      <td>4.000000</td>\n      <td>2</td>\n      <td>28.460148</td>\n      <td>24.797347</td>\n      <td>1</td>\n      <td>1</td>\n      <td>49.574949</td>\n      <td>21.465380</td>\n      <td>1</td>\n      <td>341.489231</td>\n    </tr>\n    <tr>\n      <th>...</th>\n      <td>...</td>\n      <td>...</td>\n      <td>...</td>\n      <td>...</td>\n      <td>...</td>\n      <td>...</td>\n      <td>...</td>\n      <td>...</td>\n      <td>...</td>\n      <td>...</td>\n      <td>...</td>\n      <td>...</td>\n      <td>...</td>\n      <td>...</td>\n      <td>...</td>\n      <td>...</td>\n      <td>...</td>\n      <td>...</td>\n      <td>...</td>\n      <td>...</td>\n      <td>...</td>\n    </tr>\n    <tr>\n      <th>120637</th>\n      <td>3933</td>\n      <td>2</td>\n      <td>5</td>\n      <td>13</td>\n      <td>6.823428</td>\n      <td>5.00000</td>\n      <td>3.000000</td>\n      <td>5.000000</td>\n      <td>0</td>\n      <td>20.000000</td>\n      <td>...</td>\n      <td>2.000000</td>\n      <td>2</td>\n      <td>18.122086</td>\n      <td>29.388490</td>\n      <td>1</td>\n      <td>1</td>\n      <td>0.000000</td>\n      <td>12.680046</td>\n      <td>3</td>\n      <td>318.697549</td>\n    </tr>\n    <tr>\n      <th>120638</th>\n      <td>3455</td>\n      <td>5</td>\n      <td>3</td>\n      <td>12</td>\n      <td>8.878082</td>\n      <td>2.00000</td>\n      <td>3.112734</td>\n      <td>7.028184</td>\n      <td>0</td>\n      <td>7.197285</td>\n      <td>...</td>\n      <td>4.000000</td>\n      <td>2</td>\n      <td>21.922314</td>\n      <td>29.127050</td>\n      <td>1</td>\n      <td>1</td>\n      <td>160.321072</td>\n      <td>135.648934</td>\n      <td>2</td>\n      <td>456.434967</td>\n    </tr>\n    <tr>\n      <th>120639</th>\n      <td>4671</td>\n      <td>5</td>\n      <td>3</td>\n      <td>10</td>\n      <td>8.130636</td>\n      <td>3.80227</td>\n      <td>2.197730</td>\n      <td>7.802270</td>\n      <td>0</td>\n      <td>0.798486</td>\n      <td>...</td>\n      <td>3.201514</td>\n      <td>2</td>\n      <td>23.302351</td>\n      <td>26.421221</td>\n      <td>1</td>\n      <td>1</td>\n      <td>33.496335</td>\n      <td>46.333980</td>\n      <td>2</td>\n      <td>440.347491</td>\n    </tr>\n    <tr>\n      <th>120640</th>\n      <td>875</td>\n      <td>3</td>\n      <td>3</td>\n      <td>7</td>\n      <td>8.102804</td>\n      <td>2.00000</td>\n      <td>3.354364</td>\n      <td>4.076060</td>\n      <td>0</td>\n      <td>11.771820</td>\n      <td>...</td>\n      <td>2.000000</td>\n      <td>2</td>\n      <td>24.177354</td>\n      <td>38.874059</td>\n      <td>1</td>\n      <td>1</td>\n      <td>48.799456</td>\n      <td>28.582642</td>\n      <td>0</td>\n      <td>492.979918</td>\n    </tr>\n    <tr>\n      <th>120641</th>\n      <td>11838</td>\n      <td>1</td>\n      <td>6</td>\n      <td>10</td>\n      <td>9.596135</td>\n      <td>2.00000</td>\n      <td>4.000000</td>\n      <td>12.000000</td>\n      <td>0</td>\n      <td>2.000000</td>\n      <td>...</td>\n      <td>4.000000</td>\n      <td>2</td>\n      <td>30.451108</td>\n      <td>32.769064</td>\n      <td>1</td>\n      <td>1</td>\n      <td>0.000000</td>\n      <td>192.389220</td>\n      <td>4</td>\n      <td>434.483474</td>\n    </tr>\n  </tbody>\n</table>\n<p>120642 rows × 22 columns</p>\n</div>"
     },
     "execution_count": 5,
     "metadata": {},
     "output_type": "execute_result"
    }
   ],
   "source": [
    "bsmote_x"
   ],
   "metadata": {
    "collapsed": false
   }
  },
  {
   "cell_type": "code",
   "execution_count": 34,
   "outputs": [
    {
     "name": "stdout",
     "output_type": "stream",
     "text": [
      "Before Reshaping... :\n",
      "(120642, 22)\n",
      "(25000, 22)\n",
      "\n",
      "\n",
      "After Reshaping... : \n",
      "(120642, 22, 1)\n",
      "(25000, 22, 1)\n"
     ]
    }
   ],
   "source": [
    "sample_size = bsmote_x.shape[0]\n",
    "num_features = bsmote_x.shape[1]\n",
    "input_dim = 1 # each feature is represented by 1 number\n",
    "\n",
    "print('Before Reshaping... :')\n",
    "print(bsmote_x.shape)\n",
    "print(x_test.shape)\n",
    "print('\\n')\n",
    "\n",
    "x_train_reshape = np.reshape(bsmote_x.values, newshape=(sample_size, num_features, input_dim))\n",
    "x_test_reshape = np.reshape(x_test.values, newshape=(x_test.shape[0], num_features, input_dim))\n",
    "\n",
    "print('After Reshaping... : ')\n",
    "print(x_train_reshape.shape)\n",
    "print(x_test_reshape.shape)"
   ],
   "metadata": {
    "collapsed": false
   }
  },
  {
   "cell_type": "code",
   "execution_count": 35,
   "outputs": [],
   "source": [
    "import tensorflow as tf\n",
    "from time import time\n",
    "from datetime import timedelta\n",
    "from sklearn.metrics import classification_report, confusion_matrix, accuracy_score"
   ],
   "metadata": {
    "collapsed": false
   }
  },
  {
   "cell_type": "code",
   "execution_count": 36,
   "outputs": [],
   "source": [
    "import matplotlib.pyplot as plt\n",
    "import seaborn as sns"
   ],
   "metadata": {
    "collapsed": false
   }
  },
  {
   "cell_type": "code",
   "execution_count": 37,
   "outputs": [],
   "source": [
    "# loss와 accuracy 시각화를 위한 함수 정의\n",
    "def plot_loss(history):\n",
    "    plt.figure(figsize=(8, 5))\n",
    "    plt.plot(history.history['loss'], 'b-', label='loss')\n",
    "    plt.plot(history.history['val_loss'], 'g--', label='val_loss')\n",
    "    plt.xlabel('Epochs')\n",
    "    plt.ylabel('Loss')\n",
    "    plt.title('Loss vs Val Loss')\n",
    "    plt.legend()\n",
    "    plt.show()\n",
    "\n",
    "def plot_acc(history):\n",
    "    plt.figure(figsize=(8, 5))\n",
    "    plt.plot(history.history['acc'], 'b-', label='acc')\n",
    "    plt.plot(history.history['val_acc'], 'g--', label='val_acc')\n",
    "    plt.xlabel('Epochs')\n",
    "    plt.ylabel('Accuracy')\n",
    "    plt.title('Accuracy vs Val Accuracy')\n",
    "    plt.legend()\n",
    "    plt.show()"
   ],
   "metadata": {
    "collapsed": false
   }
  },
  {
   "cell_type": "code",
   "execution_count": 38,
   "outputs": [],
   "source": [
    "# 결과 재활용을 위한 시드 설정 함수 정의\n",
    "import random\n",
    "def set_seed(seed: int = 42) -> None:\n",
    "    random.seed(seed)\n",
    "    np.random.seed(seed)\n",
    "    tf.random.set_seed(seed)\n",
    "    tf.experimental.numpy.random.seed(seed)\n",
    "    # When running on the CuDNN backend, two further options must be set\n",
    "    os.environ['TF_CUDNN_DETERMINISTIC'] = '1'\n",
    "    os.environ['TF_DETERMINISTIC_OPS'] = '1'\n",
    "    # Set a fixed value for the hash seed\n",
    "    os.environ[\"PYTHONHASHSEED\"] = str(seed)\n",
    "    print(f\"Random seed set as {seed}\")"
   ],
   "metadata": {
    "collapsed": false
   }
  },
  {
   "cell_type": "code",
   "execution_count": 39,
   "outputs": [],
   "source": [
    "# 분류모델 결과 평가를 위한 혼동행렬 리포트 & 시각화 함수 정의\n",
    "def clf_report_plot(y_true, X_test, model):\n",
    "\n",
    "    result = model.predict(X_test)\n",
    "\n",
    "    y_pred = []\n",
    "    for pred in result:\n",
    "        y_pred.append(np.argmax(pred))\n",
    "\n",
    "    print(classification_report(y_true, y_pred, digits=4))\n",
    "\n",
    "    # plt.rc('font', family='NanumGothicOTF') # For MacOS\n",
    "    plt.rc('font', family='NanumGothic') # For Windows\n",
    "\n",
    "    ax = plt.subplot()\n",
    "    ax.figure.set_size_inches(10, 10)\n",
    "    cm = confusion_matrix(y_true=y_true, y_pred=y_pred)\n",
    "    sns.heatmap(cm, annot=True, fmt='.0f', cmap='Blues', ax=ax)\n",
    "\n",
    "    ax.set_title('Confusion Matrix',fontsize=20, y=1.05)\n",
    "    ax.set_xlabel('Predicted Labels', fontsize=15)\n",
    "    ax.set_ylabel('True Labels', fontsize=15)\n",
    "\n",
    "    ax.xaxis.set_ticklabels(['Poor', 'Standard', 'Good'])\n",
    "    ax.yaxis.set_ticklabels(['Poor', 'Standard', 'Good'])\n",
    "    plt.show()"
   ],
   "metadata": {
    "collapsed": false
   }
  },
  {
   "cell_type": "code",
   "execution_count": 40,
   "outputs": [],
   "source": [
    "from tensorflow.keras.models import Sequential, load_model, Model\n",
    "\n",
    "from tensorflow.keras.layers import Dense, LSTM, Flatten\n",
    "from tensorflow.keras.layers import Conv1D, MaxPooling1D, Dropout, Input\n",
    "\n",
    "from tensorflow.keras.callbacks import EarlyStopping, ModelCheckpoint\n",
    "\n",
    "from sklearn.metrics import confusion_matrix, classification_report"
   ],
   "metadata": {
    "collapsed": false
   }
  },
  {
   "cell_type": "code",
   "execution_count": 41,
   "outputs": [],
   "source": [
    "import os"
   ],
   "metadata": {
    "collapsed": false
   }
  },
  {
   "cell_type": "code",
   "execution_count": 42,
   "outputs": [],
   "source": [
    "num_classes = 3"
   ],
   "metadata": {
    "collapsed": false
   }
  },
  {
   "cell_type": "code",
   "execution_count": 53,
   "outputs": [
    {
     "name": "stdout",
     "output_type": "stream",
     "text": [
      "Random seed set as 42\n"
     ]
    }
   ],
   "source": [
    "set_seed(42)\n",
    "model = Sequential()\n",
    "model.add(Input(shape=(num_features, input_dim)))\n",
    "model.add(Conv1D(128, kernel_size=2, activation='relu'))\n",
    "# model.add(MaxPooling1D(pool_size=3, strides=1))\n",
    "model.add(Dropout(0.5))\n",
    "model.add(Conv1D(128, kernel_size=4, activation='relu'))\n",
    "\n",
    "model.add(Dropout(0.5))\n",
    "model.add(Conv1D(128, kernel_size=8, activation='relu'))\n",
    "# model.add(Conv1D(64, kernel_size=4, strides=4, activation='relu'))\n",
    "model.add(MaxPooling1D())\n",
    "model.add(Dropout(0.5))\n",
    "\n",
    "model.add(Flatten())\n",
    "model.add(Dense(32, activation='relu'))\n",
    "model.add(Dropout(0.5))\n",
    "\n",
    "\n",
    "model.add(Dense(num_classes, activation='softmax'))"
   ],
   "metadata": {
    "collapsed": false
   }
  },
  {
   "cell_type": "code",
   "execution_count": 54,
   "outputs": [
    {
     "name": "stdout",
     "output_type": "stream",
     "text": [
      "Model: \"sequential_1\"\n",
      "_________________________________________________________________\n",
      " Layer (type)                Output Shape              Param #   \n",
      "=================================================================\n",
      " conv1d_3 (Conv1D)           (None, 21, 128)           384       \n",
      "                                                                 \n",
      " dropout_4 (Dropout)         (None, 21, 128)           0         \n",
      "                                                                 \n",
      " conv1d_4 (Conv1D)           (None, 18, 128)           65664     \n",
      "                                                                 \n",
      " dropout_5 (Dropout)         (None, 18, 128)           0         \n",
      "                                                                 \n",
      " conv1d_5 (Conv1D)           (None, 11, 128)           131200    \n",
      "                                                                 \n",
      " max_pooling1d_1 (MaxPooling  (None, 5, 128)           0         \n",
      " 1D)                                                             \n",
      "                                                                 \n",
      " dropout_6 (Dropout)         (None, 5, 128)            0         \n",
      "                                                                 \n",
      " flatten_1 (Flatten)         (None, 640)               0         \n",
      "                                                                 \n",
      " dense_2 (Dense)             (None, 32)                20512     \n",
      "                                                                 \n",
      " dropout_7 (Dropout)         (None, 32)                0         \n",
      "                                                                 \n",
      " dense_3 (Dense)             (None, 3)                 99        \n",
      "                                                                 \n",
      "=================================================================\n",
      "Total params: 217,859\n",
      "Trainable params: 217,859\n",
      "Non-trainable params: 0\n",
      "_________________________________________________________________\n"
     ]
    }
   ],
   "source": [
    "model.summary()"
   ],
   "metadata": {
    "collapsed": false
   }
  },
  {
   "cell_type": "code",
   "execution_count": 55,
   "outputs": [],
   "source": [
    "model.compile(optimizer='adam', loss='sparse_categorical_crossentropy', metrics=['acc'])\n",
    "\n",
    "es = EarlyStopping(monitor='val_loss', mode='min', verbose=1, patience=5)\n",
    "mc = ModelCheckpoint('oversampled_cnn_best_model.h5', monitor='val_acc', mode='max', verbose=1, save_best_only=True)"
   ],
   "metadata": {
    "collapsed": false
   }
  },
  {
   "cell_type": "code",
   "execution_count": 56,
   "outputs": [
    {
     "name": "stdout",
     "output_type": "stream",
     "text": [
      "Algorithm starts learning.....\n",
      "Epoch 1/50\n"
     ]
    },
    {
     "name": "stderr",
     "output_type": "stream",
     "text": [
      "2022-11-18 19:48:12.138656: I tensorflow/core/grappler/optimizers/custom_graph_optimizer_registry.cc:114] Plugin optimizer for device_type GPU is enabled.\n"
     ]
    },
    {
     "name": "stdout",
     "output_type": "stream",
     "text": [
      "1509/1509 [==============================] - ETA: 0s - loss: 1.2557 - acc: 0.4775"
     ]
    },
    {
     "name": "stderr",
     "output_type": "stream",
     "text": [
      "2022-11-18 19:48:32.686884: I tensorflow/core/grappler/optimizers/custom_graph_optimizer_registry.cc:114] Plugin optimizer for device_type GPU is enabled.\n"
     ]
    },
    {
     "name": "stdout",
     "output_type": "stream",
     "text": [
      "\n",
      "Epoch 1: val_acc improved from -inf to 0.00000, saving model to oversampled_cnn_best_model.h5\n",
      "1509/1509 [==============================] - 23s 15ms/step - loss: 1.2557 - acc: 0.4775 - val_loss: 1.5280 - val_acc: 0.0000e+00\n",
      "Epoch 2/50\n",
      "1508/1509 [============================>.] - ETA: 0s - loss: 0.9092 - acc: 0.5700\n",
      "Epoch 2: val_acc did not improve from 0.00000\n",
      "1509/1509 [==============================] - 21s 14ms/step - loss: 0.9092 - acc: 0.5700 - val_loss: 1.4952 - val_acc: 0.0000e+00\n",
      "Epoch 3/50\n",
      "1507/1509 [============================>.] - ETA: 0s - loss: 0.8662 - acc: 0.5970\n",
      "Epoch 3: val_acc did not improve from 0.00000\n",
      "1509/1509 [==============================] - 21s 14ms/step - loss: 0.8662 - acc: 0.5969 - val_loss: 1.3647 - val_acc: 0.0000e+00\n",
      "Epoch 4/50\n",
      "1507/1509 [============================>.] - ETA: 0s - loss: 0.8427 - acc: 0.6115\n",
      "Epoch 4: val_acc did not improve from 0.00000\n",
      "1509/1509 [==============================] - 21s 14ms/step - loss: 0.8428 - acc: 0.6114 - val_loss: 1.3480 - val_acc: 0.0000e+00\n",
      "Epoch 5/50\n",
      "1508/1509 [============================>.] - ETA: 0s - loss: 0.8424 - acc: 0.6091\n",
      "Epoch 5: val_acc did not improve from 0.00000\n",
      "1509/1509 [==============================] - 21s 14ms/step - loss: 0.8424 - acc: 0.6091 - val_loss: 1.3678 - val_acc: 0.0000e+00\n",
      "Epoch 6/50\n",
      "1507/1509 [============================>.] - ETA: 0s - loss: 0.8371 - acc: 0.6088\n",
      "Epoch 6: val_acc did not improve from 0.00000\n",
      "1509/1509 [==============================] - 21s 14ms/step - loss: 0.8371 - acc: 0.6089 - val_loss: 1.3200 - val_acc: 0.0000e+00\n",
      "Epoch 7/50\n",
      "1508/1509 [============================>.] - ETA: 0s - loss: 0.8307 - acc: 0.6091\n",
      "Epoch 7: val_acc did not improve from 0.00000\n",
      "1509/1509 [==============================] - 20s 13ms/step - loss: 0.8307 - acc: 0.6091 - val_loss: 1.2107 - val_acc: 0.0000e+00\n",
      "Epoch 8/50\n",
      "1507/1509 [============================>.] - ETA: 0s - loss: 0.8168 - acc: 0.6125\n",
      "Epoch 8: val_acc did not improve from 0.00000\n",
      "1509/1509 [==============================] - 20s 13ms/step - loss: 0.8168 - acc: 0.6125 - val_loss: 1.2188 - val_acc: 0.0000e+00\n",
      "Epoch 9/50\n",
      "1507/1509 [============================>.] - ETA: 0s - loss: 0.8105 - acc: 0.6136\n",
      "Epoch 9: val_acc did not improve from 0.00000\n",
      "1509/1509 [==============================] - 19s 13ms/step - loss: 0.8106 - acc: 0.6135 - val_loss: 1.1865 - val_acc: 0.0000e+00\n",
      "Epoch 10/50\n",
      "1505/1509 [============================>.] - ETA: 0s - loss: 0.8073 - acc: 0.6141\n",
      "Epoch 10: val_acc did not improve from 0.00000\n",
      "1509/1509 [==============================] - 19s 13ms/step - loss: 0.8074 - acc: 0.6141 - val_loss: 1.1277 - val_acc: 0.0000e+00\n",
      "Epoch 11/50\n",
      "1508/1509 [============================>.] - ETA: 0s - loss: 0.7624 - acc: 0.6587\n",
      "Epoch 11: val_acc improved from 0.00000 to 0.82486, saving model to oversampled_cnn_best_model.h5\n",
      "1509/1509 [==============================] - 19s 13ms/step - loss: 0.7624 - acc: 0.6587 - val_loss: 1.0340 - val_acc: 0.8249\n",
      "Epoch 12/50\n",
      "1509/1509 [==============================] - ETA: 0s - loss: 0.7047 - acc: 0.7053\n",
      "Epoch 12: val_acc improved from 0.82486 to 0.84417, saving model to oversampled_cnn_best_model.h5\n",
      "1509/1509 [==============================] - 19s 13ms/step - loss: 0.7047 - acc: 0.7053 - val_loss: 0.9308 - val_acc: 0.8442\n",
      "Epoch 13/50\n",
      "1509/1509 [==============================] - ETA: 0s - loss: 0.6857 - acc: 0.7103\n",
      "Epoch 13: val_acc improved from 0.84417 to 0.85810, saving model to oversampled_cnn_best_model.h5\n",
      "1509/1509 [==============================] - 19s 13ms/step - loss: 0.6857 - acc: 0.7103 - val_loss: 0.8521 - val_acc: 0.8581\n",
      "Epoch 14/50\n",
      "1509/1509 [==============================] - ETA: 0s - loss: 0.6809 - acc: 0.7120\n",
      "Epoch 14: val_acc did not improve from 0.85810\n",
      "1509/1509 [==============================] - 19s 13ms/step - loss: 0.6809 - acc: 0.7120 - val_loss: 0.8910 - val_acc: 0.8499\n",
      "Epoch 15/50\n",
      "1505/1509 [============================>.] - ETA: 0s - loss: 0.6786 - acc: 0.7142\n",
      "Epoch 15: val_acc did not improve from 0.85810\n",
      "1509/1509 [==============================] - 19s 13ms/step - loss: 0.6787 - acc: 0.7142 - val_loss: 0.8798 - val_acc: 0.8481\n",
      "Epoch 16/50\n",
      "1508/1509 [============================>.] - ETA: 0s - loss: 0.6770 - acc: 0.7134\n",
      "Epoch 16: val_acc did not improve from 0.85810\n",
      "1509/1509 [==============================] - 19s 13ms/step - loss: 0.6770 - acc: 0.7134 - val_loss: 0.8665 - val_acc: 0.8513\n",
      "Epoch 17/50\n",
      "1509/1509 [==============================] - ETA: 0s - loss: 0.6743 - acc: 0.7142\n",
      "Epoch 17: val_acc did not improve from 0.85810\n",
      "1509/1509 [==============================] - 19s 13ms/step - loss: 0.6743 - acc: 0.7142 - val_loss: 0.8614 - val_acc: 0.8527\n",
      "Epoch 18/50\n",
      "1509/1509 [==============================] - ETA: 0s - loss: 0.6747 - acc: 0.7139\n",
      "Epoch 18: val_acc did not improve from 0.85810\n",
      "1509/1509 [==============================] - 19s 13ms/step - loss: 0.6747 - acc: 0.7139 - val_loss: 0.8772 - val_acc: 0.8562\n",
      "Epoch 18: early stopping\n",
      "Learning Durations:  0:06:01.397057\n"
     ]
    }
   ],
   "source": [
    "print('Algorithm starts learning.....')\n",
    "start_time = time()\n",
    "\n",
    "history = model.fit(x_train_reshape, bsmote_y, epochs=50, batch_size=64, validation_split=0.2, callbacks=[es, mc])\n",
    "\n",
    "print(\"Learning Durations: \", timedelta(seconds=(time() - start_time)))"
   ],
   "metadata": {
    "collapsed": false
   }
  },
  {
   "cell_type": "code",
   "execution_count": 57,
   "outputs": [
    {
     "data": {
      "text/plain": "<Figure size 576x360 with 1 Axes>",
      "image/png": "[encoded data removed]"
     },
     "metadata": {
      "needs_background": "light"
     },
     "output_type": "display_data"
    }
   ],
   "source": [
    "plot_loss(history)"
   ],
   "metadata": {
    "collapsed": false
   }
  },
  {
   "cell_type": "code",
   "execution_count": 58,
   "outputs": [
    {
     "data": {
      "text/plain": "<Figure size 576x360 with 1 Axes>",
      "image/png": "[encoded data removed]"
     },
     "metadata": {
      "needs_background": "light"
     },
     "output_type": "display_data"
    }
   ],
   "source": [
    "plot_acc(history)"
   ],
   "metadata": {
    "collapsed": false
   }
  },
  {
   "cell_type": "code",
   "execution_count": 59,
   "outputs": [
    {
     "name": "stderr",
     "output_type": "stream",
     "text": [
      "2022-11-18 19:54:13.809987: I tensorflow/core/grappler/optimizers/custom_graph_optimizer_registry.cc:114] Plugin optimizer for device_type GPU is enabled.\n"
     ]
    },
    {
     "name": "stdout",
     "output_type": "stream",
     "text": [
      "782/782 [==============================] - 5s 6ms/step - loss: 1.0850 - acc: 0.3522\n",
      "Test Accuracy: 0.3521600365638733\n"
     ]
    }
   ],
   "source": [
    "best_model = load_model('./oversampled_cnn_best_model.h5')\n",
    "print('Test Accuracy: {}'.format(best_model.evaluate(x_test_reshape, y_test)[1]))"
   ],
   "metadata": {
    "collapsed": false
   }
  },
  {
   "cell_type": "code",
   "execution_count": 60,
   "outputs": [
    {
     "name": "stdout",
     "output_type": "stream",
     "text": [
      "3771/3771 [==============================] - 21s 5ms/step - loss: 0.7045 - acc: 0.7514\n",
      "Train Accuracy: 0.7514050006866455\n"
     ]
    }
   ],
   "source": [
    "print(\"Train Accuracy: {}\".format(best_model.evaluate(x_train_reshape, bsmote_y)[1]))"
   ],
   "metadata": {
    "collapsed": false
   }
  },
  {
   "cell_type": "code",
   "execution_count": 61,
   "outputs": [
    {
     "name": "stdout",
     "output_type": "stream",
     "text": [
      " 79/782 [==>...........................] - ETA: 1s"
     ]
    },
    {
     "name": "stderr",
     "output_type": "stream",
     "text": [
      "2022-11-18 19:54:39.051373: I tensorflow/core/grappler/optimizers/custom_graph_optimizer_registry.cc:114] Plugin optimizer for device_type GPU is enabled.\n"
     ]
    },
    {
     "name": "stdout",
     "output_type": "stream",
     "text": [
      "782/782 [==============================] - 2s 2ms/step\n"
     ]
    },
    {
     "name": "stderr",
     "output_type": "stream",
     "text": [
      "findfont: Font family ['NanumGothic'] not found. Falling back to DejaVu Sans.\n",
      "findfont: Font family ['NanumGothic'] not found. Falling back to DejaVu Sans.\n",
      "findfont: Font family ['NanumGothic'] not found. Falling back to DejaVu Sans.\n"
     ]
    },
    {
     "name": "stdout",
     "output_type": "stream",
     "text": [
      "              precision    recall  f1-score   support\n",
      "\n",
      "           0     0.7213    0.0793    0.1428      7216\n",
      "           1     0.5108    0.3561    0.4197     12960\n",
      "           2     0.2384    0.7498    0.3618      4824\n",
      "\n",
      "    accuracy                         0.3522     25000\n",
      "   macro avg     0.4902    0.3951    0.3081     25000\n",
      "weighted avg     0.5190    0.3522    0.3286     25000\n",
      "\n"
     ]
    },
    {
     "data": {
      "text/plain": "<Figure size 720x720 with 2 Axes>",
      "image/png": "[encoded data removed]"
     },
     "metadata": {
      "needs_background": "light"
     },
     "output_type": "display_data"
    }
   ],
   "source": [
    "clf_report_plot(y_test, x_test_reshape, best_model)"
   ],
   "metadata": {
    "collapsed": false
   }
  },
  {
   "cell_type": "code",
   "execution_count": 52,
   "outputs": [
    {
     "data": {
      "text/plain": "(120642,)"
     },
     "execution_count": 52,
     "metadata": {},
     "output_type": "execute_result"
    }
   ],
   "source": [
    "x_train_reshape.shape\n",
    "bsmote_y.shape"
   ],
   "metadata": {
    "collapsed": false
   }
  },
  {
   "cell_type": "code",
   "execution_count": 62,
   "outputs": [],
   "source": [
    "from sklearn.ensemble import RandomForestClassifier"
   ],
   "metadata": {
    "collapsed": false
   }
  },
  {
   "cell_type": "code",
   "execution_count": 63,
   "outputs": [],
   "source": [
    "rf = RandomForestClassifier(random_state=42)"
   ],
   "metadata": {
    "collapsed": false
   }
  },
  {
   "cell_type": "code",
   "execution_count": 64,
   "outputs": [
    {
     "data": {
      "text/plain": "RandomForestClassifier(random_state=42)",
      "text/html": "<style>#sk-container-id-1 {color: black;background-color: white;}#sk-container-id-1 pre{padding: 0;}#sk-container-id-1 div.sk-toggleable {background-color: white;}#sk-container-id-1 label.sk-toggleable__label {cursor: pointer;display: block;width: 100%;margin-bottom: 0;padding: 0.3em;box-sizing: border-box;text-align: center;}#sk-container-id-1 label.sk-toggleable__label-arrow:before {content: \"▸\";float: left;margin-right: 0.25em;color: #696969;}#sk-container-id-1 label.sk-toggleable__label-arrow:hover:before {color: black;}#sk-container-id-1 div.sk-estimator:hover label.sk-toggleable__label-arrow:before {color: black;}#sk-container-id-1 div.sk-toggleable__content {max-height: 0;max-width: 0;overflow: hidden;text-align: left;background-color: #f0f8ff;}#sk-container-id-1 div.sk-toggleable__content pre {margin: 0.2em;color: black;border-radius: 0.25em;background-color: #f0f8ff;}#sk-container-id-1 input.sk-toggleable__control:checked~div.sk-toggleable__content {max-height: 200px;max-width: 100%;overflow: auto;}#sk-container-id-1 input.sk-toggleable__control:checked~label.sk-toggleable__label-arrow:before {content: \"▾\";}#sk-container-id-1 div.sk-estimator input.sk-toggleable__control:checked~label.sk-toggleable__label {background-color: #d4ebff;}#sk-container-id-1 div.sk-label input.sk-toggleable__control:checked~label.sk-toggleable__label {background-color: #d4ebff;}#sk-container-id-1 input.sk-hidden--visually {border: 0;clip: rect(1px 1px 1px 1px);clip: rect(1px, 1px, 1px, 1px);height: 1px;margin: -1px;overflow: hidden;padding: 0;position: absolute;width: 1px;}#sk-container-id-1 div.sk-estimator {font-family: monospace;background-color: #f0f8ff;border: 1px dotted black;border-radius: 0.25em;box-sizing: border-box;margin-bottom: 0.5em;}#sk-container-id-1 div.sk-estimator:hover {background-color: #d4ebff;}#sk-container-id-1 div.sk-parallel-item::after {content: \"\";width: 100%;border-bottom: 1px solid gray;flex-grow: 1;}#sk-container-id-1 div.sk-label:hover label.sk-toggleable__label {background-color: #d4ebff;}#sk-container-id-1 div.sk-serial::before {content: \"\";position: absolute;border-left: 1px solid gray;box-sizing: border-box;top: 0;bottom: 0;left: 50%;z-index: 0;}#sk-container-id-1 div.sk-serial {display: flex;flex-direction: column;align-items: center;background-color: white;padding-right: 0.2em;padding-left: 0.2em;position: relative;}#sk-container-id-1 div.sk-item {position: relative;z-index: 1;}#sk-container-id-1 div.sk-parallel {display: flex;align-items: stretch;justify-content: center;background-color: white;position: relative;}#sk-container-id-1 div.sk-item::before, #sk-container-id-1 div.sk-parallel-item::before {content: \"\";position: absolute;border-left: 1px solid gray;box-sizing: border-box;top: 0;bottom: 0;left: 50%;z-index: -1;}#sk-container-id-1 div.sk-parallel-item {display: flex;flex-direction: column;z-index: 1;position: relative;background-color: white;}#sk-container-id-1 div.sk-parallel-item:first-child::after {align-self: flex-end;width: 50%;}#sk-container-id-1 div.sk-parallel-item:last-child::after {align-self: flex-start;width: 50%;}#sk-container-id-1 div.sk-parallel-item:only-child::after {width: 0;}#sk-container-id-1 div.sk-dashed-wrapped {border: 1px dashed gray;margin: 0 0.4em 0.5em 0.4em;box-sizing: border-box;padding-bottom: 0.4em;background-color: white;}#sk-container-id-1 div.sk-label label {font-family: monospace;font-weight: bold;display: inline-block;line-height: 1.2em;}#sk-container-id-1 div.sk-label-container {text-align: center;}#sk-container-id-1 div.sk-container {/* jupyter's `normalize.less` sets `[hidden] { display: none; }` but bootstrap.min.css set `[hidden] { display: none !important; }` so we also need the `!important` here to be able to override the default hidden behavior on the sphinx rendered scikit-learn.org. See: https://github.com/scikit-learn/scikit-learn/issues/21755 */display: inline-block !important;position: relative;}#sk-container-id-1 div.sk-text-repr-fallback {display: none;}</style><div id=\"sk-container-id-1\" class=\"sk-top-container\"><div class=\"sk-text-repr-fallback\"><pre>RandomForestClassifier(random_state=42)</pre><b>In a Jupyter environment, please rerun this cell to show the HTML representation or trust the notebook. <br />On GitHub, the HTML representation is unable to render, please try loading this page with nbviewer.org.</b></div><div class=\"sk-container\" hidden><div class=\"sk-item\"><div class=\"sk-estimator sk-toggleable\"><input class=\"sk-toggleable__control sk-hidden--visually\" id=\"sk-estimator-id-1\" type=\"checkbox\" checked><label for=\"sk-estimator-id-1\" class=\"sk-toggleable__label sk-toggleable__label-arrow\">RandomForestClassifier</label><div class=\"sk-toggleable__content\"><pre>RandomForestClassifier(random_state=42)</pre></div></div></div></div></div>"
     },
     "execution_count": 64,
     "metadata": {},
     "output_type": "execute_result"
    }
   ],
   "source": [
    "rf.fit(bsmote_x, bsmote_y)"
   ],
   "metadata": {
    "collapsed": false
   }
  },
  {
   "cell_type": "code",
   "execution_count": 66,
   "outputs": [
    {
     "data": {
      "text/plain": "1.0"
     },
     "execution_count": 66,
     "metadata": {},
     "output_type": "execute_result"
    }
   ],
   "source": [
    "rf.score(x_train, y_train)"
   ],
   "metadata": {
    "collapsed": false
   }
  },
  {
   "cell_type": "code",
   "execution_count": 67,
   "outputs": [
    {
     "data": {
      "text/plain": "0.52088"
     },
     "execution_count": 67,
     "metadata": {},
     "output_type": "execute_result"
    }
   ],
   "source": [
    "rf.score(x_test, y_test)"
   ],
   "metadata": {
    "collapsed": false
   }
  },
  {
   "cell_type": "code",
   "execution_count": null,
   "outputs": [],
   "source": [],
   "metadata": {
    "collapsed": false
   }
  },
  {
   "cell_type": "code",
   "execution_count": null,
   "outputs": [],
   "source": [],
   "metadata": {
    "collapsed": false
   }
  },
  {
   "cell_type": "code",
   "execution_count": null,
   "outputs": [],
   "source": [],
   "metadata": {
    "collapsed": false
   }
  },
  {
   "cell_type": "code",
   "execution_count": null,
   "outputs": [],
   "source": [],
   "metadata": {
    "collapsed": false
   }
  },
  {
   "cell_type": "code",
   "execution_count": null,
   "outputs": [],
   "source": [],
   "metadata": {
    "collapsed": false
   }
  },
  {
   "cell_type": "code",
   "execution_count": null,
   "outputs": [],
   "source": [],
   "metadata": {
    "collapsed": false
   }
  },
  {
   "cell_type": "code",
   "execution_count": null,
   "outputs": [],
   "source": [],
   "metadata": {
    "collapsed": false
   }
  },
  {
   "cell_type": "code",
   "execution_count": null,
   "outputs": [],
   "source": [],
   "metadata": {
    "collapsed": false
   }
  },
  {
   "cell_type": "code",
   "execution_count": 17,
   "outputs": [
    {
     "name": "stdout",
     "output_type": "stream",
     "text": [
      "=========== shape ===========\n",
      "before shape :  (75000, 22) (75000,)\n",
      "after shape :  (95214, 22) (95214,)\n",
      "\n",
      "\n",
      "=========== value_counts ===========\n",
      "before shape :  {1: 40214, 0: 21782, 2: 13004}\n",
      "after shape :  {1: 40214, 0: 30000, 2: 25000}\n"
     ]
    }
   ],
   "source": [
    "# strategy 활용 예시\n",
    "# 일부만 오버샘플링\n",
    "strategy = {0: 30000, 1: 40214, 2: 25000}\n",
    "output_x,output_y = sampling_smote_baseline(x_train,y_train, strategy)"
   ],
   "metadata": {
    "collapsed": false
   }
  },
  {
   "cell_type": "markdown",
   "source": [
    "## SMOTENC"
   ],
   "metadata": {
    "collapsed": false
   }
  },
  {
   "cell_type": "code",
   "execution_count": 80,
   "outputs": [],
   "source": [
    "from imblearn.over_sampling import SMOTENC\n",
    "\n",
    "def sampling_smote_enc(x_input_df, y_input_df, categorical_cols, sampling_strategy='auto'):\n",
    "  \"\"\"\n",
    "  smote기법을 처리 없이 시도하는 함수\n",
    "\n",
    "  params:\n",
    "    x_input_df: 샘플링 원하는 x데이터프레임\n",
    "    y_input_df: 샘플링 원하는 y데이터프레임\n",
    "\n",
    "  return :\n",
    "    샘플링 완료된 x, y 데이터프레임\n",
    "\n",
    "  사용예시 :\n",
    "    output_x, output_y = sampling_smote(x_train,y_train)\n",
    "\n",
    "  참고:\n",
    "  https://imbalanced-learn.org/stable/references/generated/imblearn.over_sampling.SMOTENC.html\n",
    "  \"\"\"\n",
    "\n",
    "  #sampling fit\n",
    "  smote_clf = SMOTENC(random_state=42, categorical_features=categorical_cols, sampling_strategy=sampling_strategy)\n",
    "  x_sampling_df, y_sampling_df = smote_clf.fit_resample(x_input_df, y_input_df)\n",
    "\n",
    "  # result print\n",
    "  print('=========== shape ===========')\n",
    "  print('before shape : ',x_input_df.shape, y_input_df.shape)\n",
    "  print('after shape : ',x_sampling_df.shape, y_sampling_df.shape)\n",
    "\n",
    "  print('\\n\\n=========== value_counts ===========')\n",
    "  print('before shape : ' ,dict(y_input_df.value_counts()))\n",
    "  print('after shape : ',dict(y_sampling_df.value_counts()))\n",
    "\n",
    "  #result return\n",
    "  return x_sampling_df, y_sampling_df"
   ],
   "metadata": {
    "collapsed": false
   }
  },
  {
   "cell_type": "code",
   "execution_count": 81,
   "outputs": [],
   "source": [
    "cat_col = ['Customer_ID', 'Month', 'Credit_Mix', 'Credit_History_Age',\n",
    "           'Payment_of_Min_Amount', 'Payment_Behaviour']"
   ],
   "metadata": {
    "collapsed": false
   }
  },
  {
   "cell_type": "code",
   "execution_count": 82,
   "outputs": [
    {
     "data": {
      "text/plain": "[0, 1, 12, 15, 16, 19]"
     },
     "execution_count": 82,
     "metadata": {},
     "output_type": "execute_result"
    }
   ],
   "source": [
    "cat_col_idx = [list(raw.columns).index(col) for col in cat_col]\n",
    "cat_col_idx"
   ],
   "metadata": {
    "collapsed": false
   }
  },
  {
   "cell_type": "code",
   "execution_count": 83,
   "outputs": [
    {
     "name": "stdout",
     "output_type": "stream",
     "text": [
      "=========== shape ===========\n",
      "before shape :  (75000, 22) (75000,)\n",
      "after shape :  (120642, 22) (120642,)\n",
      "\n",
      "\n",
      "=========== value_counts ===========\n",
      "before shape :  {1: 40214, 0: 21782, 2: 13004}\n",
      "after shape :  {2: 40214, 1: 40214, 0: 40214}\n"
     ]
    }
   ],
   "source": [
    "smotenc_x, smotenc_y = sampling_smote_enc(x_train, y_train, cat_col_idx)"
   ],
   "metadata": {
    "collapsed": false
   }
  },
  {
   "cell_type": "code",
   "execution_count": 84,
   "outputs": [
    {
     "data": {
      "text/plain": "        Customer_ID  Month  Age  Occupation  Monthly_Inhand_Salary  \\\n0               576      1    3          12              -0.407299   \n1               576      2    3          12              -0.407299   \n2               576      3    3          12              -0.407299   \n3               576      4    3          12              -0.407299   \n4               576      5    3          12              -0.407299   \n...             ...    ...  ...         ...                    ...   \n120637         3933      6    5          13              -0.935455   \n120638         3453      5    3          12               0.648010   \n120639         4674      6    5          11               0.048321   \n120640          896      4    3           8               0.149960   \n120641         8361      2    6          10               0.583514   \n\n        Num_Bank_Accounts  Num_Credit_Card  Interest_Rate  Num_of_Loan  \\\n0                3.000000         4.000000       3.000000            0   \n1                3.000000         4.000000       3.000000            0   \n2                3.000000         4.000000       3.000000            0   \n3                3.000000         4.000000       3.000000            0   \n4                3.000000         4.000000       3.000000            0   \n...                   ...              ...            ...          ...   \n120637           5.000000         3.000000       5.000000            0   \n120638           1.971816         3.000000       6.943633            0   \n120639           5.000000         1.000000       9.000000            0   \n120640           2.000000         1.000000       8.000000            0   \n120641           2.555424         4.555424      12.000000            0   \n\n        Delay_from_due_date  ...  Num_Credit_Inquiries  Credit_Mix  \\\n0                  3.000000  ...                   4.0           2   \n1                  3.000000  ...                   4.0           2   \n2                  3.000000  ...                   4.0           2   \n3                  5.000000  ...                   4.0           2   \n4                  6.000000  ...                   4.0           2   \n...                     ...  ...                   ...         ...   \n120637            20.000000  ...                   2.0           2   \n120638             6.943633  ...                   1.0           2   \n120639             0.399243  ...                   4.0           2   \n120640             1.569576  ...                   2.0           2   \n120641             2.000000  ...                   4.0           2   \n\n        Outstanding_Debt  Credit_Utilization_Ratio  Credit_History_Age  \\\n0              -0.279953                 -0.648697                   1   \n1              -0.279953                 -0.041010                   1   \n2              -0.279953                 -0.436728                   1   \n3              -0.279953                 -0.108287                   1   \n4              -0.279953                 -0.888964                   1   \n...                  ...                       ...                 ...   \n120637         -0.788696                 -0.070272                   1   \n120638         -0.601754                 -0.537640                   1   \n120639         -0.475277                  0.187690                   1   \n120640         -1.230683                  0.358909                   1   \n120641         -0.601004                  0.811103                   1   \n\n        Payment_of_Min_Amount  Total_EMI_per_month  Amount_invested_monthly  \\\n0                           1            -0.139504                -0.546677   \n1                           1            -0.139504                -0.546677   \n2                           1            -0.139504                -0.546677   \n3                           1            -0.139504                -0.546677   \n4                           1            -0.139504                -0.546677   \n...                       ...                  ...                      ...   \n120637                      1            -0.567506                -0.749400   \n120638                      1             0.851301                 2.123628   \n120639                      1            -0.236810                -0.056576   \n120640                      1             0.006670                -0.384172   \n120641                      1            -0.422179                -0.382872   \n\n        Payment_Behaviour  Monthly_Balance  \n0                       2        -0.108344  \n1                       3        -0.250764  \n2                       4        -0.012686  \n3                       5        -0.563450  \n4                       1         0.039852  \n...                   ...              ...  \n120637                  3        -0.076638  \n120638                  2         0.655492  \n120639                  4         0.291549  \n120640                  1         0.521573  \n120641                  3         0.132004  \n\n[120642 rows x 22 columns]",
      "text/html": "<div>\n<style scoped>\n    .dataframe tbody tr th:only-of-type {\n        vertical-align: middle;\n    }\n\n    .dataframe tbody tr th {\n        vertical-align: top;\n    }\n\n    .dataframe thead th {\n        text-align: right;\n    }\n</style>\n<table border=\"1\" class=\"dataframe\">\n  <thead>\n    <tr style=\"text-align: right;\">\n      <th></th>\n      <th>Customer_ID</th>\n      <th>Month</th>\n      <th>Age</th>\n      <th>Occupation</th>\n      <th>Monthly_Inhand_Salary</th>\n      <th>Num_Bank_Accounts</th>\n      <th>Num_Credit_Card</th>\n      <th>Interest_Rate</th>\n      <th>Num_of_Loan</th>\n      <th>Delay_from_due_date</th>\n      <th>...</th>\n      <th>Num_Credit_Inquiries</th>\n      <th>Credit_Mix</th>\n      <th>Outstanding_Debt</th>\n      <th>Credit_Utilization_Ratio</th>\n      <th>Credit_History_Age</th>\n      <th>Payment_of_Min_Amount</th>\n      <th>Total_EMI_per_month</th>\n      <th>Amount_invested_monthly</th>\n      <th>Payment_Behaviour</th>\n      <th>Monthly_Balance</th>\n    </tr>\n  </thead>\n  <tbody>\n    <tr>\n      <th>0</th>\n      <td>576</td>\n      <td>1</td>\n      <td>3</td>\n      <td>12</td>\n      <td>-0.407299</td>\n      <td>3.000000</td>\n      <td>4.000000</td>\n      <td>3.000000</td>\n      <td>0</td>\n      <td>3.000000</td>\n      <td>...</td>\n      <td>4.0</td>\n      <td>2</td>\n      <td>-0.279953</td>\n      <td>-0.648697</td>\n      <td>1</td>\n      <td>1</td>\n      <td>-0.139504</td>\n      <td>-0.546677</td>\n      <td>2</td>\n      <td>-0.108344</td>\n    </tr>\n    <tr>\n      <th>1</th>\n      <td>576</td>\n      <td>2</td>\n      <td>3</td>\n      <td>12</td>\n      <td>-0.407299</td>\n      <td>3.000000</td>\n      <td>4.000000</td>\n      <td>3.000000</td>\n      <td>0</td>\n      <td>3.000000</td>\n      <td>...</td>\n      <td>4.0</td>\n      <td>2</td>\n      <td>-0.279953</td>\n      <td>-0.041010</td>\n      <td>1</td>\n      <td>1</td>\n      <td>-0.139504</td>\n      <td>-0.546677</td>\n      <td>3</td>\n      <td>-0.250764</td>\n    </tr>\n    <tr>\n      <th>2</th>\n      <td>576</td>\n      <td>3</td>\n      <td>3</td>\n      <td>12</td>\n      <td>-0.407299</td>\n      <td>3.000000</td>\n      <td>4.000000</td>\n      <td>3.000000</td>\n      <td>0</td>\n      <td>3.000000</td>\n      <td>...</td>\n      <td>4.0</td>\n      <td>2</td>\n      <td>-0.279953</td>\n      <td>-0.436728</td>\n      <td>1</td>\n      <td>1</td>\n      <td>-0.139504</td>\n      <td>-0.546677</td>\n      <td>4</td>\n      <td>-0.012686</td>\n    </tr>\n    <tr>\n      <th>3</th>\n      <td>576</td>\n      <td>4</td>\n      <td>3</td>\n      <td>12</td>\n      <td>-0.407299</td>\n      <td>3.000000</td>\n      <td>4.000000</td>\n      <td>3.000000</td>\n      <td>0</td>\n      <td>5.000000</td>\n      <td>...</td>\n      <td>4.0</td>\n      <td>2</td>\n      <td>-0.279953</td>\n      <td>-0.108287</td>\n      <td>1</td>\n      <td>1</td>\n      <td>-0.139504</td>\n      <td>-0.546677</td>\n      <td>5</td>\n      <td>-0.563450</td>\n    </tr>\n    <tr>\n      <th>4</th>\n      <td>576</td>\n      <td>5</td>\n      <td>3</td>\n      <td>12</td>\n      <td>-0.407299</td>\n      <td>3.000000</td>\n      <td>4.000000</td>\n      <td>3.000000</td>\n      <td>0</td>\n      <td>6.000000</td>\n      <td>...</td>\n      <td>4.0</td>\n      <td>2</td>\n      <td>-0.279953</td>\n      <td>-0.888964</td>\n      <td>1</td>\n      <td>1</td>\n      <td>-0.139504</td>\n      <td>-0.546677</td>\n      <td>1</td>\n      <td>0.039852</td>\n    </tr>\n    <tr>\n      <th>...</th>\n      <td>...</td>\n      <td>...</td>\n      <td>...</td>\n      <td>...</td>\n      <td>...</td>\n      <td>...</td>\n      <td>...</td>\n      <td>...</td>\n      <td>...</td>\n      <td>...</td>\n      <td>...</td>\n      <td>...</td>\n      <td>...</td>\n      <td>...</td>\n      <td>...</td>\n      <td>...</td>\n      <td>...</td>\n      <td>...</td>\n      <td>...</td>\n      <td>...</td>\n      <td>...</td>\n    </tr>\n    <tr>\n      <th>120637</th>\n      <td>3933</td>\n      <td>6</td>\n      <td>5</td>\n      <td>13</td>\n      <td>-0.935455</td>\n      <td>5.000000</td>\n      <td>3.000000</td>\n      <td>5.000000</td>\n      <td>0</td>\n      <td>20.000000</td>\n      <td>...</td>\n      <td>2.0</td>\n      <td>2</td>\n      <td>-0.788696</td>\n      <td>-0.070272</td>\n      <td>1</td>\n      <td>1</td>\n      <td>-0.567506</td>\n      <td>-0.749400</td>\n      <td>3</td>\n      <td>-0.076638</td>\n    </tr>\n    <tr>\n      <th>120638</th>\n      <td>3453</td>\n      <td>5</td>\n      <td>3</td>\n      <td>12</td>\n      <td>0.648010</td>\n      <td>1.971816</td>\n      <td>3.000000</td>\n      <td>6.943633</td>\n      <td>0</td>\n      <td>6.943633</td>\n      <td>...</td>\n      <td>1.0</td>\n      <td>2</td>\n      <td>-0.601754</td>\n      <td>-0.537640</td>\n      <td>1</td>\n      <td>1</td>\n      <td>0.851301</td>\n      <td>2.123628</td>\n      <td>2</td>\n      <td>0.655492</td>\n    </tr>\n    <tr>\n      <th>120639</th>\n      <td>4674</td>\n      <td>6</td>\n      <td>5</td>\n      <td>11</td>\n      <td>0.048321</td>\n      <td>5.000000</td>\n      <td>1.000000</td>\n      <td>9.000000</td>\n      <td>0</td>\n      <td>0.399243</td>\n      <td>...</td>\n      <td>4.0</td>\n      <td>2</td>\n      <td>-0.475277</td>\n      <td>0.187690</td>\n      <td>1</td>\n      <td>1</td>\n      <td>-0.236810</td>\n      <td>-0.056576</td>\n      <td>4</td>\n      <td>0.291549</td>\n    </tr>\n    <tr>\n      <th>120640</th>\n      <td>896</td>\n      <td>4</td>\n      <td>3</td>\n      <td>8</td>\n      <td>0.149960</td>\n      <td>2.000000</td>\n      <td>1.000000</td>\n      <td>8.000000</td>\n      <td>0</td>\n      <td>1.569576</td>\n      <td>...</td>\n      <td>2.0</td>\n      <td>2</td>\n      <td>-1.230683</td>\n      <td>0.358909</td>\n      <td>1</td>\n      <td>1</td>\n      <td>0.006670</td>\n      <td>-0.384172</td>\n      <td>1</td>\n      <td>0.521573</td>\n    </tr>\n    <tr>\n      <th>120641</th>\n      <td>8361</td>\n      <td>2</td>\n      <td>6</td>\n      <td>10</td>\n      <td>0.583514</td>\n      <td>2.555424</td>\n      <td>4.555424</td>\n      <td>12.000000</td>\n      <td>0</td>\n      <td>2.000000</td>\n      <td>...</td>\n      <td>4.0</td>\n      <td>2</td>\n      <td>-0.601004</td>\n      <td>0.811103</td>\n      <td>1</td>\n      <td>1</td>\n      <td>-0.422179</td>\n      <td>-0.382872</td>\n      <td>3</td>\n      <td>0.132004</td>\n    </tr>\n  </tbody>\n</table>\n<p>120642 rows × 22 columns</p>\n</div>"
     },
     "execution_count": 84,
     "metadata": {},
     "output_type": "execute_result"
    }
   ],
   "source": [
    "smotenc_x"
   ],
   "metadata": {
    "collapsed": false
   }
  },
  {
   "cell_type": "code",
   "execution_count": 86,
   "outputs": [
    {
     "name": "stdout",
     "output_type": "stream",
     "text": [
      "Before Reshaping... :\n",
      "(120642, 22)\n",
      "(25000, 22)\n",
      "\n",
      "\n",
      "After Reshaping... : \n",
      "(120642, 22, 1)\n",
      "(25000, 22, 1)\n",
      "Before Reshaping... :\n",
      "(120642, 22)\n",
      "(25000, 22)\n",
      "\n",
      "\n",
      "After Reshaping... : \n",
      "(120642, 22, 1)\n",
      "(25000, 22, 1)\n"
     ]
    }
   ],
   "source": [
    "sample_size = smotenc_x.shape[0]\n",
    "num_features = smotenc_x.shape[1]\n",
    "input_dim = 1  # each feature is represented by 1 number\n",
    "\n",
    "print('Before Reshaping... :')\n",
    "print(smotenc_x.shape)\n",
    "print(x_test.shape)\n",
    "print('\\n')\n",
    "\n",
    "x_train_reshape = np.reshape(smotenc_x.values, newshape=(sample_size, num_features, input_dim))\n",
    "x_test_reshape = np.reshape(x_test.values, newshape=(x_test.shape[0], num_features, input_dim))\n",
    "\n",
    "print('After Reshaping... : ')\n",
    "print(x_train_reshape.shape)\n",
    "print(x_test_reshape.shape)"
   ],
   "metadata": {
    "collapsed": false
   }
  },
  {
   "cell_type": "code",
   "execution_count": 87,
   "outputs": [
    {
     "name": "stdout",
     "output_type": "stream",
     "text": [
      "Random seed set as 42\n"
     ]
    }
   ],
   "source": [
    "set_seed(42)\n",
    "model = Sequential()\n",
    "model.add(Input(shape=(num_features, input_dim)))\n",
    "model.add(Conv1D(128, kernel_size=2, activation='relu'))\n",
    "# model.add(MaxPooling1D(pool_size=3, strides=1))\n",
    "model.add(Dropout(0.5))\n",
    "model.add(Conv1D(128, kernel_size=4, activation='relu'))\n",
    "\n",
    "model.add(Dropout(0.5))\n",
    "model.add(Conv1D(128, kernel_size=8, activation='relu'))\n",
    "# model.add(Conv1D(64, kernel_size=4, strides=4, activation='relu'))\n",
    "model.add(MaxPooling1D())\n",
    "model.add(Dropout(0.5))\n",
    "\n",
    "model.add(Flatten())\n",
    "model.add(Dense(32, activation='relu'))\n",
    "model.add(Dropout(0.5))\n",
    "\n",
    "\n",
    "model.add(Dense(num_classes, activation='softmax'))"
   ],
   "metadata": {
    "collapsed": false
   }
  },
  {
   "cell_type": "code",
   "execution_count": 88,
   "outputs": [
    {
     "name": "stdout",
     "output_type": "stream",
     "text": [
      "Model: \"sequential_2\"\n",
      "_________________________________________________________________\n",
      " Layer (type)                Output Shape              Param #   \n",
      "=================================================================\n",
      " conv1d_6 (Conv1D)           (None, 21, 128)           384       \n",
      "                                                                 \n",
      " dropout_8 (Dropout)         (None, 21, 128)           0         \n",
      "                                                                 \n",
      " conv1d_7 (Conv1D)           (None, 18, 128)           65664     \n",
      "                                                                 \n",
      " dropout_9 (Dropout)         (None, 18, 128)           0         \n",
      "                                                                 \n",
      " conv1d_8 (Conv1D)           (None, 11, 128)           131200    \n",
      "                                                                 \n",
      " max_pooling1d_2 (MaxPooling  (None, 5, 128)           0         \n",
      " 1D)                                                             \n",
      "                                                                 \n",
      " dropout_10 (Dropout)        (None, 5, 128)            0         \n",
      "                                                                 \n",
      " flatten_2 (Flatten)         (None, 640)               0         \n",
      "                                                                 \n",
      " dense_4 (Dense)             (None, 32)                20512     \n",
      "                                                                 \n",
      " dropout_11 (Dropout)        (None, 32)                0         \n",
      "                                                                 \n",
      " dense_5 (Dense)             (None, 3)                 99        \n",
      "                                                                 \n",
      "=================================================================\n",
      "Total params: 217,859\n",
      "Trainable params: 217,859\n",
      "Non-trainable params: 0\n",
      "_________________________________________________________________\n"
     ]
    }
   ],
   "source": [
    "model.summary()"
   ],
   "metadata": {
    "collapsed": false
   }
  },
  {
   "cell_type": "code",
   "execution_count": 89,
   "outputs": [],
   "source": [
    "model.compile(optimizer='adam', loss='sparse_categorical_crossentropy', metrics=['acc'])\n",
    "\n",
    "es = EarlyStopping(monitor='val_loss', mode='min', verbose=1, patience=5)\n",
    "mc = ModelCheckpoint('smotenc_cnn_best_model.h5', monitor='val_acc', mode='max', verbose=1, save_best_only=True)"
   ],
   "metadata": {
    "collapsed": false
   }
  },
  {
   "cell_type": "code",
   "execution_count": 90,
   "outputs": [
    {
     "name": "stdout",
     "output_type": "stream",
     "text": [
      "Algorithm starts learning.....\n",
      "Epoch 1/50\n"
     ]
    },
    {
     "name": "stderr",
     "output_type": "stream",
     "text": [
      "2022-11-18 20:14:41.104761: I tensorflow/core/grappler/optimizers/custom_graph_optimizer_registry.cc:114] Plugin optimizer for device_type GPU is enabled.\n"
     ]
    },
    {
     "name": "stdout",
     "output_type": "stream",
     "text": [
      "1509/1509 [==============================] - ETA: 0s - loss: 1.2577 - acc: 0.4681"
     ]
    },
    {
     "name": "stderr",
     "output_type": "stream",
     "text": [
      "2022-11-18 20:14:59.027133: I tensorflow/core/grappler/optimizers/custom_graph_optimizer_registry.cc:114] Plugin optimizer for device_type GPU is enabled.\n"
     ]
    },
    {
     "name": "stdout",
     "output_type": "stream",
     "text": [
      "\n",
      "Epoch 1: val_acc improved from -inf to 0.00000, saving model to smotenc_cnn_best_model.h5\n",
      "1509/1509 [==============================] - 20s 13ms/step - loss: 1.2577 - acc: 0.4681 - val_loss: 1.5986 - val_acc: 0.0000e+00\n",
      "Epoch 2/50\n",
      "1509/1509 [==============================] - ETA: 0s - loss: 0.9637 - acc: 0.5122\n",
      "Epoch 2: val_acc did not improve from 0.00000\n",
      "1509/1509 [==============================] - 20s 13ms/step - loss: 0.9637 - acc: 0.5122 - val_loss: 1.6316 - val_acc: 0.0000e+00\n",
      "Epoch 3/50\n",
      "1505/1509 [============================>.] - ETA: 0s - loss: 0.9542 - acc: 0.5152\n",
      "Epoch 3: val_acc did not improve from 0.00000\n",
      "1509/1509 [==============================] - 20s 13ms/step - loss: 0.9542 - acc: 0.5151 - val_loss: 1.5950 - val_acc: 0.0000e+00\n",
      "Epoch 4/50\n",
      "1508/1509 [============================>.] - ETA: 0s - loss: 0.9376 - acc: 0.5210\n",
      "Epoch 4: val_acc did not improve from 0.00000\n",
      "1509/1509 [==============================] - 20s 13ms/step - loss: 0.9376 - acc: 0.5210 - val_loss: 1.5554 - val_acc: 0.0000e+00\n",
      "Epoch 5/50\n",
      "1509/1509 [==============================] - ETA: 0s - loss: 0.9170 - acc: 0.5281\n",
      "Epoch 5: val_acc did not improve from 0.00000\n",
      "1509/1509 [==============================] - 20s 13ms/step - loss: 0.9170 - acc: 0.5281 - val_loss: 1.4832 - val_acc: 0.0000e+00\n",
      "Epoch 6/50\n",
      "1505/1509 [============================>.] - ETA: 0s - loss: 0.8958 - acc: 0.5490\n",
      "Epoch 6: val_acc improved from 0.00000 to 0.02097, saving model to smotenc_cnn_best_model.h5\n",
      "1509/1509 [==============================] - 20s 13ms/step - loss: 0.8957 - acc: 0.5491 - val_loss: 1.2779 - val_acc: 0.0210\n",
      "Epoch 7/50\n",
      "1507/1509 [============================>.] - ETA: 0s - loss: 0.8380 - acc: 0.6052\n",
      "Epoch 7: val_acc improved from 0.02097 to 0.41999, saving model to smotenc_cnn_best_model.h5\n",
      "1509/1509 [==============================] - 20s 13ms/step - loss: 0.8380 - acc: 0.6052 - val_loss: 0.9798 - val_acc: 0.4200\n",
      "Epoch 8/50\n",
      "1506/1509 [============================>.] - ETA: 0s - loss: 0.7813 - acc: 0.6307\n",
      "Epoch 8: val_acc did not improve from 0.41999\n",
      "1509/1509 [==============================] - 20s 13ms/step - loss: 0.7813 - acc: 0.6307 - val_loss: 1.1743 - val_acc: 0.2613\n",
      "Epoch 9/50\n",
      "1506/1509 [============================>.] - ETA: 0s - loss: 0.7674 - acc: 0.6383\n",
      "Epoch 9: val_acc improved from 0.41999 to 0.47772, saving model to smotenc_cnn_best_model.h5\n",
      "1509/1509 [==============================] - 19s 13ms/step - loss: 0.7673 - acc: 0.6383 - val_loss: 1.0669 - val_acc: 0.4777\n",
      "Epoch 10/50\n",
      "1509/1509 [==============================] - ETA: 0s - loss: 0.7440 - acc: 0.6438\n",
      "Epoch 10: val_acc improved from 0.47772 to 0.61532, saving model to smotenc_cnn_best_model.h5\n",
      "1509/1509 [==============================] - 19s 13ms/step - loss: 0.7440 - acc: 0.6438 - val_loss: 1.0087 - val_acc: 0.6153\n",
      "Epoch 11/50\n",
      "1506/1509 [============================>.] - ETA: 0s - loss: 0.7371 - acc: 0.6461\n",
      "Epoch 11: val_acc did not improve from 0.61532\n",
      "1509/1509 [==============================] - 19s 13ms/step - loss: 0.7373 - acc: 0.6461 - val_loss: 1.0470 - val_acc: 0.4345\n",
      "Epoch 12/50\n",
      "1507/1509 [============================>.] - ETA: 0s - loss: 0.7271 - acc: 0.6654\n",
      "Epoch 12: val_acc did not improve from 0.61532\n",
      "1509/1509 [==============================] - 19s 13ms/step - loss: 0.7269 - acc: 0.6655 - val_loss: 1.0761 - val_acc: 0.4785\n",
      "Epoch 12: early stopping\n",
      "Learning Durations:  0:03:56.100738\n"
     ]
    }
   ],
   "source": [
    "print('Algorithm starts learning.....')\n",
    "start_time = time()\n",
    "\n",
    "history = model.fit(x_train_reshape, smotenc_y, epochs=50, batch_size=64, validation_split=0.2, callbacks=[es, mc])\n",
    "\n",
    "print(\"Learning Durations: \", timedelta(seconds=(time() - start_time)))"
   ],
   "metadata": {
    "collapsed": false
   }
  },
  {
   "cell_type": "code",
   "execution_count": 91,
   "outputs": [
    {
     "name": "stderr",
     "output_type": "stream",
     "text": [
      "findfont: Font family ['NanumGothic'] not found. Falling back to DejaVu Sans.\n"
     ]
    },
    {
     "data": {
      "text/plain": "<Figure size 576x360 with 1 Axes>",
      "image/png": "[encoded data removed]"
     },
     "metadata": {
      "needs_background": "light"
     },
     "output_type": "display_data"
    }
   ],
   "source": [
    "plot_loss(history)"
   ],
   "metadata": {
    "collapsed": false
   }
  },
  {
   "cell_type": "code",
   "execution_count": 92,
   "outputs": [
    {
     "data": {
      "text/plain": "<Figure size 576x360 with 1 Axes>",
      "image/png": "[encoded data removed]"
     },
     "metadata": {
      "needs_background": "light"
     },
     "output_type": "display_data"
    }
   ],
   "source": [
    "plot_acc(history)"
   ],
   "metadata": {
    "collapsed": false
   }
  },
  {
   "cell_type": "code",
   "execution_count": 93,
   "outputs": [
    {
     "name": "stdout",
     "output_type": "stream",
     "text": [
      " 18/782 [..............................] - ETA: 4s - loss: 0.9453 - acc: 0.5278"
     ]
    },
    {
     "name": "stderr",
     "output_type": "stream",
     "text": [
      "2022-11-18 20:18:37.283656: I tensorflow/core/grappler/optimizers/custom_graph_optimizer_registry.cc:114] Plugin optimizer for device_type GPU is enabled.\n"
     ]
    },
    {
     "name": "stdout",
     "output_type": "stream",
     "text": [
      "782/782 [==============================] - 4s 5ms/step - loss: 0.9293 - acc: 0.5568\n",
      "Test Accuracy: 0.5568000078201294\n"
     ]
    }
   ],
   "source": [
    "best_model = load_model('./smotenc_cnn_best_model.h5')\n",
    "print('Test Accuracy: {}'.format(best_model.evaluate(x_test_reshape, y_test)[1]))"
   ],
   "metadata": {
    "collapsed": false
   }
  },
  {
   "cell_type": "code",
   "execution_count": 97,
   "outputs": [
    {
     "name": "stdout",
     "output_type": "stream",
     "text": [
      "3771/3771 [==============================] - 24s 6ms/step - loss: 0.7469 - acc: 0.6922\n",
      "Train Accuracy: 0.6921884417533875\n"
     ]
    }
   ],
   "source": [
    "print(\"Train Accuracy: {}\".format(best_model.evaluate(x_train_reshape, smotenc_y)[1]))"
   ],
   "metadata": {
    "collapsed": false
   }
  },
  {
   "cell_type": "code",
   "execution_count": 95,
   "outputs": [
    {
     "name": "stdout",
     "output_type": "stream",
     "text": [
      " 79/782 [==>...........................] - ETA: 1s"
     ]
    },
    {
     "name": "stderr",
     "output_type": "stream",
     "text": [
      "2022-11-18 20:19:02.109863: I tensorflow/core/grappler/optimizers/custom_graph_optimizer_registry.cc:114] Plugin optimizer for device_type GPU is enabled.\n"
     ]
    },
    {
     "name": "stdout",
     "output_type": "stream",
     "text": [
      "782/782 [==============================] - 2s 2ms/step\n",
      "              precision    recall  f1-score   support\n",
      "\n",
      "           0     0.6132    0.3133    0.4147      7216\n",
      "           1     0.5460    0.8931    0.6777     12960\n",
      "           2     0.7391    0.0176    0.0344      4824\n",
      "\n",
      "    accuracy                         0.5568     25000\n",
      "   macro avg     0.6328    0.4080    0.3756     25000\n",
      "weighted avg     0.6027    0.5568    0.4777     25000\n",
      "\n"
     ]
    },
    {
     "data": {
      "text/plain": "<Figure size 720x720 with 2 Axes>",
      "image/png": "[encoded data removed]"
     },
     "metadata": {
      "needs_background": "light"
     },
     "output_type": "display_data"
    }
   ],
   "source": [
    "clf_report_plot(y_test, x_test_reshape, best_model)"
   ],
   "metadata": {
    "collapsed": false
   }
  },
  {
   "cell_type": "markdown",
   "source": [
    "약간 Random Forest의 방식처럼 반대의 경우로 성능이 좋은 친구와 ensemble하면 어떨까?"
   ],
   "metadata": {
    "collapsed": false
   }
  },
  {
   "cell_type": "code",
   "execution_count": 96,
   "outputs": [
    {
     "name": "stdout",
     "output_type": "stream",
     "text": [
      "finished\n"
     ]
    }
   ],
   "source": [
    "print('finished')"
   ],
   "metadata": {
    "collapsed": false
   }
  },
  {
   "cell_type": "code",
   "execution_count": null,
   "outputs": [],
   "source": [],
   "metadata": {
    "collapsed": false
   }
  },
  {
   "cell_type": "code",
   "execution_count": 98,
   "outputs": [],
   "source": [
    "rf = RandomForestClassifier(random_state=42)"
   ],
   "metadata": {
    "collapsed": false
   }
  },
  {
   "cell_type": "code",
   "execution_count": 99,
   "outputs": [
    {
     "data": {
      "text/plain": "RandomForestClassifier(random_state=42)",
      "text/html": "<style>#sk-container-id-2 {color: black;background-color: white;}#sk-container-id-2 pre{padding: 0;}#sk-container-id-2 div.sk-toggleable {background-color: white;}#sk-container-id-2 label.sk-toggleable__label {cursor: pointer;display: block;width: 100%;margin-bottom: 0;padding: 0.3em;box-sizing: border-box;text-align: center;}#sk-container-id-2 label.sk-toggleable__label-arrow:before {content: \"▸\";float: left;margin-right: 0.25em;color: #696969;}#sk-container-id-2 label.sk-toggleable__label-arrow:hover:before {color: black;}#sk-container-id-2 div.sk-estimator:hover label.sk-toggleable__label-arrow:before {color: black;}#sk-container-id-2 div.sk-toggleable__content {max-height: 0;max-width: 0;overflow: hidden;text-align: left;background-color: #f0f8ff;}#sk-container-id-2 div.sk-toggleable__content pre {margin: 0.2em;color: black;border-radius: 0.25em;background-color: #f0f8ff;}#sk-container-id-2 input.sk-toggleable__control:checked~div.sk-toggleable__content {max-height: 200px;max-width: 100%;overflow: auto;}#sk-container-id-2 input.sk-toggleable__control:checked~label.sk-toggleable__label-arrow:before {content: \"▾\";}#sk-container-id-2 div.sk-estimator input.sk-toggleable__control:checked~label.sk-toggleable__label {background-color: #d4ebff;}#sk-container-id-2 div.sk-label input.sk-toggleable__control:checked~label.sk-toggleable__label {background-color: #d4ebff;}#sk-container-id-2 input.sk-hidden--visually {border: 0;clip: rect(1px 1px 1px 1px);clip: rect(1px, 1px, 1px, 1px);height: 1px;margin: -1px;overflow: hidden;padding: 0;position: absolute;width: 1px;}#sk-container-id-2 div.sk-estimator {font-family: monospace;background-color: #f0f8ff;border: 1px dotted black;border-radius: 0.25em;box-sizing: border-box;margin-bottom: 0.5em;}#sk-container-id-2 div.sk-estimator:hover {background-color: #d4ebff;}#sk-container-id-2 div.sk-parallel-item::after {content: \"\";width: 100%;border-bottom: 1px solid gray;flex-grow: 1;}#sk-container-id-2 div.sk-label:hover label.sk-toggleable__label {background-color: #d4ebff;}#sk-container-id-2 div.sk-serial::before {content: \"\";position: absolute;border-left: 1px solid gray;box-sizing: border-box;top: 0;bottom: 0;left: 50%;z-index: 0;}#sk-container-id-2 div.sk-serial {display: flex;flex-direction: column;align-items: center;background-color: white;padding-right: 0.2em;padding-left: 0.2em;position: relative;}#sk-container-id-2 div.sk-item {position: relative;z-index: 1;}#sk-container-id-2 div.sk-parallel {display: flex;align-items: stretch;justify-content: center;background-color: white;position: relative;}#sk-container-id-2 div.sk-item::before, #sk-container-id-2 div.sk-parallel-item::before {content: \"\";position: absolute;border-left: 1px solid gray;box-sizing: border-box;top: 0;bottom: 0;left: 50%;z-index: -1;}#sk-container-id-2 div.sk-parallel-item {display: flex;flex-direction: column;z-index: 1;position: relative;background-color: white;}#sk-container-id-2 div.sk-parallel-item:first-child::after {align-self: flex-end;width: 50%;}#sk-container-id-2 div.sk-parallel-item:last-child::after {align-self: flex-start;width: 50%;}#sk-container-id-2 div.sk-parallel-item:only-child::after {width: 0;}#sk-container-id-2 div.sk-dashed-wrapped {border: 1px dashed gray;margin: 0 0.4em 0.5em 0.4em;box-sizing: border-box;padding-bottom: 0.4em;background-color: white;}#sk-container-id-2 div.sk-label label {font-family: monospace;font-weight: bold;display: inline-block;line-height: 1.2em;}#sk-container-id-2 div.sk-label-container {text-align: center;}#sk-container-id-2 div.sk-container {/* jupyter's `normalize.less` sets `[hidden] { display: none; }` but bootstrap.min.css set `[hidden] { display: none !important; }` so we also need the `!important` here to be able to override the default hidden behavior on the sphinx rendered scikit-learn.org. See: https://github.com/scikit-learn/scikit-learn/issues/21755 */display: inline-block !important;position: relative;}#sk-container-id-2 div.sk-text-repr-fallback {display: none;}</style><div id=\"sk-container-id-2\" class=\"sk-top-container\"><div class=\"sk-text-repr-fallback\"><pre>RandomForestClassifier(random_state=42)</pre><b>In a Jupyter environment, please rerun this cell to show the HTML representation or trust the notebook. <br />On GitHub, the HTML representation is unable to render, please try loading this page with nbviewer.org.</b></div><div class=\"sk-container\" hidden><div class=\"sk-item\"><div class=\"sk-estimator sk-toggleable\"><input class=\"sk-toggleable__control sk-hidden--visually\" id=\"sk-estimator-id-2\" type=\"checkbox\" checked><label for=\"sk-estimator-id-2\" class=\"sk-toggleable__label sk-toggleable__label-arrow\">RandomForestClassifier</label><div class=\"sk-toggleable__content\"><pre>RandomForestClassifier(random_state=42)</pre></div></div></div></div></div>"
     },
     "execution_count": 99,
     "metadata": {},
     "output_type": "execute_result"
    }
   ],
   "source": [
    "rf.fit(smotenc_x, smotenc_y)"
   ],
   "metadata": {
    "collapsed": false
   }
  },
  {
   "cell_type": "code",
   "execution_count": 100,
   "outputs": [
    {
     "data": {
      "text/plain": "0.9999733333333334"
     },
     "execution_count": 100,
     "metadata": {},
     "output_type": "execute_result"
    }
   ],
   "source": [
    "rf.score(x_train, y_train)"
   ],
   "metadata": {
    "collapsed": false
   }
  },
  {
   "cell_type": "code",
   "execution_count": 101,
   "outputs": [
    {
     "data": {
      "text/plain": "0.4742"
     },
     "execution_count": 101,
     "metadata": {},
     "output_type": "execute_result"
    }
   ],
   "source": [
    "rf.score(x_test, y_test)"
   ],
   "metadata": {
    "collapsed": false
   }
  },
  {
   "cell_type": "code",
   "execution_count": null,
   "outputs": [],
   "source": [],
   "metadata": {
    "collapsed": false
   }
  },
  {
   "cell_type": "code",
   "execution_count": null,
   "outputs": [],
   "source": [],
   "metadata": {
    "collapsed": false
   }
  },
  {
   "cell_type": "code",
   "execution_count": null,
   "outputs": [],
   "source": [],
   "metadata": {
    "collapsed": false
   }
  }
 ],
 "metadata": {
  "kernelspec": {
   "display_name": "Python 3",
   "language": "python",
   "name": "python3"
  },
  "language_info": {
   "codemirror_mode": {
    "name": "ipython",
    "version": 2
   },
   "file_extension": ".py",
   "mimetype": "text/x-python",
   "name": "python",
   "nbconvert_exporter": "python",
   "pygments_lexer": "ipython2",
   "version": "2.7.6"
  }
 },
 "nbformat": 4,
 "nbformat_minor": 0
}
