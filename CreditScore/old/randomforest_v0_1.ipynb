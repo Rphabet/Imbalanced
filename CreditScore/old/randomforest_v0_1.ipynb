{
 "cells": [
  {
   "cell_type": "markdown",
   "source": [
    "1. 하이퍼파라미터별로 성능 파악 \n",
    "2. 성능이 좋은 것 추려서 random search\n"
   ],
   "metadata": {
    "id": "WNM9xRT5xMY2"
   }
  },
  {
   "cell_type": "code",
   "execution_count": 3,
   "metadata": {
    "colab": {
     "base_uri": "https://localhost:8080/"
    },
    "id": "KjSdZIUfecQE",
    "outputId": "e319610f-82f2-47ba-8042-ae579f3ebbba"
   },
   "outputs": [],
   "source": [
    "import numpy as np # linear algebra\n",
    "import pandas as pd # data processing, CSV file I/O (e.g. pd.read_csv)\n",
    "import matplotlib.pyplot as plt\n",
    "# from google.colab import drive\n",
    "# drive.mount('/content/drive')"
   ]
  },
  {
   "cell_type": "code",
   "execution_count": null,
   "metadata": {
    "id": "k0_n8rige74B"
   },
   "outputs": [],
   "source": [
    "from sklearn.ensemble import RandomForestClassifier\n",
    "from sklearn.model_selection import cross_validate, cross_val_score\n",
    "from sklearn.model_selection import cross_val_score\n",
    "from sklearn.model_selection import GridSearchCV\n",
    "from sklearn.metrics import classification_report, plot_confusion_matrix, confusion_matrix\n",
    "from sklearn.metrics import make_scorer, accuracy_score, recall_score, precision_score, f1_score, log_loss\n",
    "from sklearn.tree import DecisionTreeClassifier as DTC # 의사결정나무 분류 알고리즘\n",
    "import os\n",
    "from sklearn.model_selection import RandomizedSearchCV\n",
    "import seaborn as sns\n",
    "from sklearn.metrics import confusion_matrix, plot_confusion_matrix\n",
    "\n"
   ]
  },
  {
   "cell_type": "code",
   "execution_count": 4,
   "metadata": {
    "colab": {
     "base_uri": "https://localhost:8080/"
    },
    "id": "HbWehetEeqxb",
    "outputId": "918d9742-268d-42f5-d939-6059c659dc1e"
   },
   "outputs": [
    {
     "data": {
      "text/plain": "((75000, 23), (25000, 23), (100000, 22))"
     },
     "execution_count": 4,
     "metadata": {},
     "output_type": "execute_result"
    }
   ],
   "source": [
    "dfs = pd.read_csv('./processed.csv')\n",
    "train = pd.read_csv('./train.csv')\n",
    "test = pd.read_csv('./test.csv')\n",
    "train.shape, test.shape , dfs.shape"
   ]
  },
  {
   "cell_type": "code",
   "execution_count": 5,
   "metadata": {
    "colab": {
     "base_uri": "https://localhost:8080/",
     "height": 299
    },
    "id": "8Sc9EBuOfqq-",
    "outputId": "f676c5f0-e2c8-48d4-ea47-4e820c62e9a1"
   },
   "outputs": [
    {
     "data": {
      "text/plain": "   Customer_ID  Month  Age  Monthly_Inhand_Salary  Num_Bank_Accounts  \\\n0          576      1    1               7.509249                3.0   \n1          576      2    1               7.509249                3.0   \n2          576      3    1               7.509249                3.0   \n3          576      4    1               7.509249                3.0   \n4          576      5    1               7.509249                3.0   \n\n   Num_Credit_Card  Interest_Rate  Num_of_Loan  Delay_from_due_date  \\\n0              4.0            3.0            0                  3.0   \n1              4.0            3.0            0                  3.0   \n2              4.0            3.0            0                  3.0   \n3              4.0            3.0            0                  5.0   \n4              4.0            3.0            0                  6.0   \n\n   Num_of_Delayed_Payment  ...  Credit_Mix  Outstanding_Debt  \\\n0                     7.0  ...           2         28.460148   \n1                     4.0  ...           2         28.460148   \n2                     7.0  ...           2         28.460148   \n3                     4.0  ...           2         28.460148   \n4                     4.0  ...           2         28.460148   \n\n   Credit_Utilization_Ratio  Credit_History_Age  Payment_of_Min_Amount  \\\n0                 26.822620                   1                      1   \n1                 31.944960                   1                      1   \n2                 28.609352                   1                      1   \n3                 31.377862                   1                      1   \n4                 24.797347                   1                      1   \n\n   Total_EMI_per_month  Amount_invested_monthly  Payment_Behaviour  \\\n0            49.574949                 21.46538                  2   \n1            49.574949                 21.46538                  3   \n2            49.574949                 21.46538                  4   \n3            49.574949                 21.46538                  5   \n4            49.574949                 21.46538                  1   \n\n   Monthly_Balance  Credit_Score  \n0       312.494089             2  \n1       284.629162             2  \n2       331.209863             2  \n3       223.451310             2  \n4       341.489231             2  \n\n[5 rows x 22 columns]",
      "text/html": "<div>\n<style scoped>\n    .dataframe tbody tr th:only-of-type {\n        vertical-align: middle;\n    }\n\n    .dataframe tbody tr th {\n        vertical-align: top;\n    }\n\n    .dataframe thead th {\n        text-align: right;\n    }\n</style>\n<table border=\"1\" class=\"dataframe\">\n  <thead>\n    <tr style=\"text-align: right;\">\n      <th></th>\n      <th>Customer_ID</th>\n      <th>Month</th>\n      <th>Age</th>\n      <th>Monthly_Inhand_Salary</th>\n      <th>Num_Bank_Accounts</th>\n      <th>Num_Credit_Card</th>\n      <th>Interest_Rate</th>\n      <th>Num_of_Loan</th>\n      <th>Delay_from_due_date</th>\n      <th>Num_of_Delayed_Payment</th>\n      <th>...</th>\n      <th>Credit_Mix</th>\n      <th>Outstanding_Debt</th>\n      <th>Credit_Utilization_Ratio</th>\n      <th>Credit_History_Age</th>\n      <th>Payment_of_Min_Amount</th>\n      <th>Total_EMI_per_month</th>\n      <th>Amount_invested_monthly</th>\n      <th>Payment_Behaviour</th>\n      <th>Monthly_Balance</th>\n      <th>Credit_Score</th>\n    </tr>\n  </thead>\n  <tbody>\n    <tr>\n      <th>0</th>\n      <td>576</td>\n      <td>1</td>\n      <td>1</td>\n      <td>7.509249</td>\n      <td>3.0</td>\n      <td>4.0</td>\n      <td>3.0</td>\n      <td>0</td>\n      <td>3.0</td>\n      <td>7.0</td>\n      <td>...</td>\n      <td>2</td>\n      <td>28.460148</td>\n      <td>26.822620</td>\n      <td>1</td>\n      <td>1</td>\n      <td>49.574949</td>\n      <td>21.46538</td>\n      <td>2</td>\n      <td>312.494089</td>\n      <td>2</td>\n    </tr>\n    <tr>\n      <th>1</th>\n      <td>576</td>\n      <td>2</td>\n      <td>1</td>\n      <td>7.509249</td>\n      <td>3.0</td>\n      <td>4.0</td>\n      <td>3.0</td>\n      <td>0</td>\n      <td>3.0</td>\n      <td>4.0</td>\n      <td>...</td>\n      <td>2</td>\n      <td>28.460148</td>\n      <td>31.944960</td>\n      <td>1</td>\n      <td>1</td>\n      <td>49.574949</td>\n      <td>21.46538</td>\n      <td>3</td>\n      <td>284.629162</td>\n      <td>2</td>\n    </tr>\n    <tr>\n      <th>2</th>\n      <td>576</td>\n      <td>3</td>\n      <td>1</td>\n      <td>7.509249</td>\n      <td>3.0</td>\n      <td>4.0</td>\n      <td>3.0</td>\n      <td>0</td>\n      <td>3.0</td>\n      <td>7.0</td>\n      <td>...</td>\n      <td>2</td>\n      <td>28.460148</td>\n      <td>28.609352</td>\n      <td>1</td>\n      <td>1</td>\n      <td>49.574949</td>\n      <td>21.46538</td>\n      <td>4</td>\n      <td>331.209863</td>\n      <td>2</td>\n    </tr>\n    <tr>\n      <th>3</th>\n      <td>576</td>\n      <td>4</td>\n      <td>1</td>\n      <td>7.509249</td>\n      <td>3.0</td>\n      <td>4.0</td>\n      <td>3.0</td>\n      <td>0</td>\n      <td>5.0</td>\n      <td>4.0</td>\n      <td>...</td>\n      <td>2</td>\n      <td>28.460148</td>\n      <td>31.377862</td>\n      <td>1</td>\n      <td>1</td>\n      <td>49.574949</td>\n      <td>21.46538</td>\n      <td>5</td>\n      <td>223.451310</td>\n      <td>2</td>\n    </tr>\n    <tr>\n      <th>4</th>\n      <td>576</td>\n      <td>5</td>\n      <td>1</td>\n      <td>7.509249</td>\n      <td>3.0</td>\n      <td>4.0</td>\n      <td>3.0</td>\n      <td>0</td>\n      <td>6.0</td>\n      <td>4.0</td>\n      <td>...</td>\n      <td>2</td>\n      <td>28.460148</td>\n      <td>24.797347</td>\n      <td>1</td>\n      <td>1</td>\n      <td>49.574949</td>\n      <td>21.46538</td>\n      <td>1</td>\n      <td>341.489231</td>\n      <td>2</td>\n    </tr>\n  </tbody>\n</table>\n<p>5 rows × 22 columns</p>\n</div>"
     },
     "execution_count": 5,
     "metadata": {},
     "output_type": "execute_result"
    }
   ],
   "source": [
    "dfs.head()"
   ]
  },
  {
   "cell_type": "markdown",
   "source": [
    "# 파라미터 조정 이용 함수"
   ],
   "metadata": {
    "id": "SRaDVjYv6-34"
   }
  },
  {
   "cell_type": "code",
   "source": [
    "def modeling_uncustomized (algorithm, x_train, y_train, x_test, y_test, class_weight):\n",
    "    uncustomized = algorithm(class_weight=class_weight, random_state=0)\n",
    "    uncustomized.fit(x_train, y_train)\n",
    "    # Train Data 설명력\n",
    "    train_score_before = uncustomized.score(x_train, y_train)\n",
    "    print(f\"학습 데이터셋 정확도: {train_score_before}\")\n",
    "    # Test Data 설명력\n",
    "    test_score_before = uncustomized.score(x_test, y_test)\n",
    "    print(f\"테스트 데이터셋 정확도: {test_score_before}\")\n",
    "    plot_confusion_matrix(uncustomized, # 분류 모델\n",
    "                             x_test, y_test, # 예측 데이터와 예측값의 정답(y_true)\n",
    "                             normalize='true') \n",
    "    return train_score_before, test_score_before"
   ],
   "metadata": {
    "id": "JpF7Vy056-Ii"
   },
   "execution_count": 14,
   "outputs": []
  },
  {
   "cell_type": "code",
   "source": [
    "def optimi_visualization(algorithm_name, x_values, train_score, test_score, xlabel, filename):\n",
    "    # 하이퍼파라미터 조정에 따른 학습 데이터셋 기반 모델 성능 추이 시각화\n",
    "    plt.plot(x_values, train_score, linestyle = '-', label = 'train score')\n",
    "    # 하이퍼파라미터 조정에 따른 테스트 데이터셋 기반 모델 성능 추이 시각화\n",
    "    plt.plot(x_values, test_score, linestyle = '--', label = 'test score')\n",
    "    plt.ylabel('Accuracy(%)') # y축 라벨\n",
    "    plt.xlabel(xlabel) # x축 라벨\n",
    "    plt.legend() # 범례표시\n"
   ],
   "metadata": {
    "id": "KyqNrKUR7PxH"
   },
   "execution_count": 15,
   "outputs": []
  },
  {
   "cell_type": "code",
   "source": [
    "def optimi_estimator(algorithm, algorithm_name, x_train, y_train, x_test, y_test, n_estimator_min, n_estimator_max,step):\n",
    "    train_score = []; test_score =[]\n",
    "    para_n_tree = [n_tree for n_tree in range(n_estimator_min, n_estimator_max+1,step)] # step 5\n",
    "\n",
    "    for v_n_estimators in para_n_tree:\n",
    "        model = algorithm(n_estimators = v_n_estimators, random_state=0)\n",
    "        model.fit(x_train, y_train)\n",
    "        train_score.append(model.score(x_train, y_train))\n",
    "        test_score.append(model.score(x_test, y_test))\n",
    "\n",
    "    # 트리 개수에 따른 모델 성능 저장\n",
    "    df_score_n = pd.DataFrame({'n_estimators': para_n_tree, 'TrainScore': train_score, 'TestScore': test_score})\n",
    "    # 트리 개수에 따른 모델 성능 추이 시각화 함수 호출\n",
    "    optimi_visualization(algorithm_name, para_n_tree, train_score, test_score, \"The number of estimator\", \"n_estimator\")\n",
    "    print(round(df_score_n, 4))"
   ],
   "metadata": {
    "id": "nH-Z0FDl7UT8"
   },
   "execution_count": 16,
   "outputs": []
  },
  {
   "cell_type": "code",
   "source": [
    "def optimi_maxdepth (algorithm, algorithm_name, x_train, y_train, x_test, y_test, depth_min, depth_max, n_estimator,step = 5):\n",
    "    train_score = []; test_score = []\n",
    "    para_depth = [depth for depth in range(depth_min, depth_max,step)] # step 10\n",
    "\n",
    "    for v_max_depth in para_depth:\n",
    "        # 의사결정나무 모델의 경우 트리 개수를 따로 설정하지 않기 때문에 RFC, GBC와 분리하여 모델링\n",
    "        if algorithm == DTC:\n",
    "            model = algorithm(max_depth = v_max_depth,\n",
    "                              random_state=0)\n",
    "        else:\n",
    "            model = algorithm(max_depth = v_max_depth,\n",
    "                              n_estimators = n_estimator,\n",
    "                              random_state=0)\n",
    "        \n",
    "        model.fit(x_train, y_train)\n",
    "        train_score.append(model.score(x_train, y_train))\n",
    "        test_score.append(model.score(x_test, y_test))\n",
    "\n",
    "    # 최대 깊이에 따른 모델 성능 저장\n",
    "    df_score_n = pd.DataFrame({'depth': para_depth, 'TrainScore': train_score, 'TestScore': test_score})\n",
    "    # 최대 깊이에 따른 모델 성능 추이 시각화 함수 호출\n",
    "    optimi_visualization(algorithm_name, para_depth, train_score, test_score, \"The number of depth\", \"n_depth\")\n",
    "    print(round(df_score_n, 4))"
   ],
   "metadata": {
    "id": "BvxT-jT37l4d"
   },
   "execution_count": 17,
   "outputs": []
  },
  {
   "cell_type": "code",
   "source": [
    "def optimi_minsplit (algorithm, algorithm_name, x_train, y_train, x_test, y_test, n_split_min, n_split_max, n_estimator, n_depth):\n",
    "    train_score = []; test_score = []\n",
    "    para_split = [n_split*2 for n_split in range(n_split_min, n_split_max)]\n",
    "    for v_min_samples_split in para_split:\n",
    "        # 의사결정나무 모델의 경우 트리 개수를 따로 설정하지 않기 때문에 RFC, GBC와 분리하여 모델링\n",
    "        if algorithm == DTC:\n",
    "            model = algorithm(min_samples_split = v_min_samples_split,\n",
    "                              max_depth = n_depth,\n",
    "                              random_state = 0)\n",
    "        else:\n",
    "            model = algorithm(min_samples_split = v_min_samples_split,\n",
    "                              n_estimators = n_estimator,\n",
    "                              max_depth = n_depth,\n",
    "                              random_state = 0)\n",
    "        model.fit(x_train, y_train)\n",
    "        train_score.append(model.score(x_train, y_train))\n",
    "        test_score.append(model.score(x_test, y_test))\n",
    "\n",
    "    # 분리 노드의 최소 자료 수에 따른 모델 성능 저장\n",
    "    df_score_n = pd.DataFrame({'min_samples_split': para_split, 'TrainScore': train_score, 'TestScore': test_score})\n",
    "    # 분리 노드의 최소 자료 수에 따른 모델 성능 추이 시각화 함수 호출\n",
    "    optimi_visualization(algorithm_name, para_split, train_score, test_score, \"The minimum number of samples required to split an internal node\", \"min_samples_split\")\n",
    "    print(round(df_score_n, 4))"
   ],
   "metadata": {
    "id": "bhtM25XA7x7F"
   },
   "execution_count": 18,
   "outputs": []
  },
  {
   "cell_type": "code",
   "source": [
    "def optimi_minleaf(algorithm, algorithm_name, x_train, y_train, x_test, y_test, n_leaf_min, n_leaf_max, n_estimator, n_depth, n_split):\n",
    "    train_score = []; test_score = []\n",
    "    para_leaf = [n_leaf*2 for n_leaf in range(n_leaf_min, n_leaf_max)]\n",
    "\n",
    "    for v_min_samples_leaf in para_leaf:\n",
    "        # 의사결정나무 모델의 경우 트리 개수를 따로 설정하지 않기 때문에 RFC, GBC와 분리하여 모델링\n",
    "        if algorithm == DTC:\n",
    "            model = algorithm(min_samples_leaf = v_min_samples_leaf,\n",
    "                                        max_depth = n_depth,\n",
    "                                        min_samples_split = n_split,\n",
    "                                        random_state=0)\n",
    "        else:\n",
    "            model = algorithm(min_samples_leaf = v_min_samples_leaf,\n",
    "                                n_estimators = n_estimator,\n",
    "                                max_depth = n_depth,\n",
    "                                min_samples_split = n_split,\n",
    "                                random_state=0)\n",
    "        model.fit(x_train, y_train)\n",
    "        train_score.append(model.score(x_train, y_train))\n",
    "        test_score.append(model.score(x_test, y_test))\n",
    "\n",
    "    # 잎사귀 노드의 최소 자료 수에 따른 모델 성능 저장\n",
    "    df_score_n = pd.DataFrame({'min_samples_leaf': para_leaf, 'TrainScore': train_score, 'TestScore': test_score})\n",
    "    # 잎사귀 노드의 최소 자료 수에 따른 모델 성능 추이 시각화 함수 호출\n",
    "    optimi_visualization(algorithm_name, para_leaf, train_score, test_score, \"The minimum number of samples required to be at a leaf node\", \"min_samples_leaf\")\n",
    "    print(round(df_score_n, 4))"
   ],
   "metadata": {
    "id": "FsFhkO-O73W3"
   },
   "execution_count": 19,
   "outputs": []
  },
  {
   "cell_type": "code",
   "source": [
    "def optimi_minimpurity(algorithm, algorithm_name, x_train, y_train, x_test, y_test, n_leaf_min, n_leaf_max, n_estimator, n_depth, n_split):\n",
    "    train_score = []; test_score = []\n",
    "    para_leaf = [n_leaf for n_leaf in range(n_leaf_min, n_leaf_max,0.0001)]\n",
    "\n",
    "    for v_min_samples_leaf in para_leaf:\n",
    "        # 의사결정나무 모델의 경우 트리 개수를 따로 설정하지 않기 때문에 RFC, GBC와 분리하여 모델링\n",
    "        if algorithm == DTC:\n",
    "            model = algorithm(min_impurity_decrease  = v_min_samples_leaf,\n",
    "                                        max_depth = n_depth,\n",
    "                                        min_samples_split = n_split,\n",
    "                                        random_state=0)\n",
    "        else:\n",
    "            model = algorithm(min_impurity_decrease  = v_min_samples_leaf,\n",
    "                                n_estimators = n_estimator,\n",
    "                                max_depth = n_depth,\n",
    "                                min_samples_split = n_split,\n",
    "                                random_state=0)\n",
    "        model.fit(x_train, y_train)\n",
    "        train_score.append(model.score(x_train, y_train))\n",
    "        test_score.append(model.score(x_test, y_test))\n",
    "\n",
    "    # 잎사귀 노드의 최소 자료 수에 따른 모델 성능 저장\n",
    "    df_score_n = pd.DataFrame({'min_impurity_decrease ': para_leaf, 'TrainScore': train_score, 'TestScore': test_score})\n",
    "    # 잎사귀 노드의 최소 자료 수에 따른 모델 성능 추이 시각화 함수 호출\n",
    "    optimi_visualization(algorithm_name, para_leaf, train_score, test_score, \"The minimum number of samples required to be at a leaf node\", \"min_impurity_decrease \")\n",
    "    print(round(df_score_n, 4))"
   ],
   "metadata": {
    "id": "TphwUZS7wFBh"
   },
   "execution_count": 20,
   "outputs": []
  },
  {
   "cell_type": "markdown",
   "metadata": {
    "id": "QqBV0mZEfxvG"
   },
   "source": [
    "# 목차1\n"
   ]
  },
  {
   "cell_type": "markdown",
   "metadata": {
    "id": "xt2oBMIriC7q"
   },
   "source": [
    "## Processed.csv\n"
   ]
  },
  {
   "cell_type": "code",
   "execution_count": 21,
   "metadata": {
    "colab": {
     "base_uri": "https://localhost:8080/"
    },
    "id": "oZm0YLLAf78j",
    "outputId": "21f01c0b-dda5-43ad-e21a-765983730174"
   },
   "outputs": [
    {
     "data": {
      "text/plain": "((75000, 21), (75000,), (25000, 21), (25000,))"
     },
     "execution_count": 21,
     "metadata": {},
     "output_type": "execute_result"
    }
   ],
   "source": [
    "# 최종 2개월 valid로 분리\n",
    "train = dfs.loc[dfs['Month'] <=6]\n",
    "valid = dfs.loc[dfs['Month'] >6]\n",
    "train.shape, valid.shape\n",
    "\n",
    "# train, valid를 각각 x,y 분리\n",
    "\n",
    "x_train = train.drop(['Credit_Score'],axis=1)\n",
    "y_train = train['Credit_Score']\n",
    "\n",
    "x_valid = valid.drop(['Credit_Score'],axis=1)\n",
    "y_valid = valid['Credit_Score']\n",
    "\n",
    "x_train.shape, y_train.shape, x_valid.shape, y_valid.shape"
   ]
  },
  {
   "cell_type": "code",
   "execution_count": 23,
   "outputs": [
    {
     "ename": "NameError",
     "evalue": "name 'weight_dict' is not defined",
     "output_type": "error",
     "traceback": [
      "\u001B[0;31m---------------------------------------------------------------------------\u001B[0m",
      "\u001B[0;31mNameError\u001B[0m                                 Traceback (most recent call last)",
      "Input \u001B[0;32mIn [23]\u001B[0m, in \u001B[0;36m<cell line: 1>\u001B[0;34m()\u001B[0m\n\u001B[0;32m----> 1\u001B[0m \u001B[43mweight_dict\u001B[49m\n",
      "\u001B[0;31mNameError\u001B[0m: name 'weight_dict' is not defined"
     ]
    }
   ],
   "source": [
    "class"
   ],
   "metadata": {
    "collapsed": false
   }
  },
  {
   "cell_type": "markdown",
   "source": [
    "### 바닐라"
   ],
   "metadata": {
    "id": "-0WV9eWr2k0T"
   }
  },
  {
   "cell_type": "code",
   "source": [
    "modeling_uncustomized(RandomForestClassifier,x_train,y_train,x_valid,y_valid,class_weight=class_weight)"
   ],
   "metadata": {
    "colab": {
     "base_uri": "https://localhost:8080/",
     "height": 391
    },
    "id": "254rdKwT8KMb",
    "outputId": "40669235-c18d-4f14-b4f8-c565f8b91868"
   },
   "execution_count": null,
   "outputs": [
    {
     "output_type": "stream",
     "name": "stdout",
     "text": [
      "학습 데이터셋 정확도: 0.9999866666666667\n",
      "테스트 데이터셋 정확도: 0.7404\n"
     ]
    },
    {
     "output_type": "stream",
     "name": "stderr",
     "text": [
      "/usr/local/lib/python3.7/dist-packages/sklearn/utils/deprecation.py:87: FutureWarning: Function plot_confusion_matrix is deprecated; Function `plot_confusion_matrix` is deprecated in 1.0 and will be removed in 1.2. Use one of the class methods: ConfusionMatrixDisplay.from_predictions or ConfusionMatrixDisplay.from_estimator.\n",
      "  warnings.warn(msg, category=FutureWarning)\n"
     ]
    },
    {
     "output_type": "execute_result",
     "data": {
      "text/plain": [
       "(0.9999866666666667, 0.7404)"
      ]
     },
     "metadata": {},
     "execution_count": 14
    },
    {
     "output_type": "display_data",
     "data": {
      "text/plain": [
       "<Figure size 432x288 with 2 Axes>"
      ],
      "image/png": "[encoded data removed]"
     },
     "metadata": {
      "needs_background": "light"
     }
    }
   ]
  },
  {
   "cell_type": "code",
   "source": [
    "# default가 100 -> 50 ~ 100 보기\n",
    "optimi_estimator(RandomForestClassifier, 'rf', x_train, y_train, x_valid, y_valid,100,400,50) # 45 부터 test score 74정도로 비슷 ~ 60 --> d"
   ],
   "metadata": {
    "colab": {
     "base_uri": "https://localhost:8080/",
     "height": 426
    },
    "id": "G9qz98de8wzX",
    "outputId": "062beff4-2e9a-4600-845e-cf8813a950ba"
   },
   "execution_count": null,
   "outputs": [
    {
     "output_type": "stream",
     "name": "stdout",
     "text": [
      "   n_estimators  TrainScore  TestScore\n",
      "0           100         1.0     0.7404\n",
      "1           150         1.0     0.7415\n",
      "2           200         1.0     0.7408\n",
      "3           250         1.0     0.7423\n",
      "4           300         1.0     0.7410\n",
      "5           350         1.0     0.7416\n",
      "6           400         1.0     0.7410\n"
     ]
    },
    {
     "output_type": "display_data",
     "data": {
      "text/plain": [
       "<Figure size 432x288 with 1 Axes>"
      ],
      "image/png": "[encoded data removed]"
     },
     "metadata": {
      "needs_background": "light"
     }
    }
   ]
  },
  {
   "cell_type": "code",
   "source": [
    "optimi_estimator(RandomForestClassifier, 'rf', x_train, y_train, x_valid, y_valid,1,10,1) # 이 범위에서도 해봐도 좋을듯??,,\n"
   ],
   "metadata": {
    "colab": {
     "base_uri": "https://localhost:8080/",
     "height": 481
    },
    "id": "BT8UjxXUE5Z0",
    "outputId": "60ad92c7-e486-4fef-c319-d0ad5fa6940f"
   },
   "execution_count": null,
   "outputs": [
    {
     "output_type": "stream",
     "name": "stdout",
     "text": [
      "   n_estimators  TrainScore  TestScore\n",
      "0             1      0.9057     0.6424\n",
      "1             2      0.9078     0.6502\n",
      "2             3      0.9599     0.6821\n",
      "3             4      0.9630     0.6949\n",
      "4             5      0.9785     0.7061\n",
      "5             6      0.9785     0.7110\n",
      "6             7      0.9859     0.7169\n",
      "7             8      0.9855     0.7187\n",
      "8             9      0.9907     0.7210\n",
      "9            10      0.9902     0.7247\n"
     ]
    },
    {
     "output_type": "display_data",
     "data": {
      "text/plain": [
       "<Figure size 432x288 with 1 Axes>"
      ],
      "image/png": "[encoded data removed]"
     },
     "metadata": {
      "needs_background": "light"
     }
    }
   ]
  },
  {
   "cell_type": "code",
   "source": [
    "\n",
    "optimi_maxdepth(RandomForestClassifier,  'rf', \n",
    "                x_train, y_train,  x_valid, y_valid,\n",
    "                10, 60, 45) \n",
    "#--> rannge (20,40) -> 30\n"
   ],
   "metadata": {
    "colab": {
     "base_uri": "https://localhost:8080/",
     "height": 481
    },
    "id": "ALxiOc9CF2uZ",
    "outputId": "de962a2a-5547-494d-b75d-f4b83948c430"
   },
   "execution_count": null,
   "outputs": [
    {
     "output_type": "stream",
     "name": "stdout",
     "text": [
      "   depth  TrainScore  TestScore\n",
      "0     10      0.7637     0.6530\n",
      "1     15      0.8525     0.6922\n",
      "2     20      0.9513     0.7202\n",
      "3     25      0.9938     0.7352\n",
      "4     30      0.9994     0.7388\n",
      "5     35      0.9997     0.7374\n",
      "6     40      0.9997     0.7391\n",
      "7     45      0.9997     0.7388\n",
      "8     50      0.9997     0.7392\n",
      "9     55      0.9997     0.7390\n"
     ]
    },
    {
     "output_type": "display_data",
     "data": {
      "text/plain": [
       "<Figure size 432x288 with 1 Axes>"
      ],
      "image/png": "[encoded data removed]"
     },
     "metadata": {
      "needs_background": "light"
     }
    }
   ]
  },
  {
   "cell_type": "code",
   "source": [
    "optimi_minsplit (RandomForestClassifier,  'rf', \n",
    "                x_train, y_train,  x_valid, y_valid, 1, 11, 45, 30) \n",
    "# best : 2-> 2~6? 까지\n"
   ],
   "metadata": {
    "colab": {
     "base_uri": "https://localhost:8080/",
     "height": 481
    },
    "id": "NmY4ujR3KeLl",
    "outputId": "96105230-8d72-40cf-ee9a-950fe323b273"
   },
   "execution_count": null,
   "outputs": [
    {
     "output_type": "stream",
     "name": "stdout",
     "text": [
      "   min_samples_split  TrainScore  TestScore\n",
      "0                  2      0.9994     0.7388\n",
      "1                  4      0.9883     0.7378\n",
      "2                  6      0.9692     0.7373\n",
      "3                  8      0.9531     0.7348\n",
      "4                 10      0.9381     0.7329\n",
      "5                 12      0.9277     0.7304\n",
      "6                 14      0.9191     0.7264\n",
      "7                 16      0.9084     0.7268\n",
      "8                 18      0.9021     0.7248\n",
      "9                 20      0.8965     0.7227\n"
     ]
    },
    {
     "output_type": "display_data",
     "data": {
      "text/plain": [
       "<Figure size 432x288 with 1 Axes>"
      ],
      "image/png": "[encoded data removed]"
     },
     "metadata": {
      "needs_background": "light"
     }
    }
   ]
  },
  {
   "cell_type": "code",
   "source": [
    "optimi_minleaf(RandomForestClassifier,  'rf', \n",
    "                x_train, y_train,  x_valid, y_valid,  1, 10, 45, 30, 2)\n",
    "# 2 -> 1~5나 6까지?\n"
   ],
   "metadata": {
    "colab": {
     "base_uri": "https://localhost:8080/",
     "height": 463
    },
    "id": "ff_JkTgDLkEk",
    "outputId": "f010bab5-a39d-4252-d14b-a3ada00d5581"
   },
   "execution_count": null,
   "outputs": [
    {
     "output_type": "stream",
     "name": "stdout",
     "text": [
      "   min_samples_leaf  TrainScore  TestScore\n",
      "0                 2      0.9700     0.7378\n",
      "1                 4      0.9212     0.7284\n",
      "2                 6      0.8936     0.7200\n",
      "3                 8      0.8776     0.7137\n",
      "4                10      0.8632     0.7086\n",
      "5                12      0.8547     0.7045\n",
      "6                14      0.8464     0.7021\n",
      "7                16      0.8384     0.6959\n",
      "8                18      0.8318     0.6917\n"
     ]
    },
    {
     "output_type": "display_data",
     "data": {
      "text/plain": [
       "<Figure size 432x288 with 1 Axes>"
      ],
      "image/png": "[encoded data removed]"
     },
     "metadata": {
      "needs_background": "light"
     }
    }
   ]
  },
  {
   "cell_type": "code",
   "source": [
    "uncustomized = RandomForestClassifier(random_state=0, n_estimators= 400 , max_depth = 20, min_samples_split=2 , min_samples_leaf=2 )\n",
    "uncustomized.fit(x_train, y_train)\n",
    "# Train Data 설명력\n",
    "train_score_before = uncustomized.score(x_train, y_train)\n",
    "print(f\"학습 데이터셋 정확도: {train_score_before}\")\n",
    "# Test Data 설명력\n",
    "test_score_before = uncustomized.score(x_valid, y_valid)\n",
    "print(f\"테스트 데이터셋 정확도: {test_score_before}\")\n",
    "plot_confusion_matrix(uncustomized, # 분류 모델\n",
    "                         x_valid, y_valid, # 예측 데이터와 예측값의 정답(y_true)\n",
    "                         normalize='true')  # 더 낮아짐 ㅜ "
   ],
   "metadata": {
    "colab": {
     "base_uri": "https://localhost:8080/",
     "height": 388
    },
    "id": "ob0yIyJJ6-HW",
    "outputId": "54f564c1-0144-40b8-8557-4b8908d8c9b8"
   },
   "execution_count": null,
   "outputs": [
    {
     "output_type": "stream",
     "name": "stdout",
     "text": [
      "학습 데이터셋 정확도: 0.9237066666666667\n",
      "테스트 데이터셋 정확도: 0.7248\n"
     ]
    },
    {
     "output_type": "stream",
     "name": "stderr",
     "text": [
      "/usr/local/lib/python3.7/dist-packages/sklearn/utils/deprecation.py:87: FutureWarning: Function plot_confusion_matrix is deprecated; Function `plot_confusion_matrix` is deprecated in 1.0 and will be removed in 1.2. Use one of the class methods: ConfusionMatrixDisplay.from_predictions or ConfusionMatrixDisplay.from_estimator.\n",
      "  warnings.warn(msg, category=FutureWarning)\n"
     ]
    },
    {
     "output_type": "execute_result",
     "data": {
      "text/plain": [
       "<sklearn.metrics._plot.confusion_matrix.ConfusionMatrixDisplay at 0x7fbe53b32450>"
      ]
     },
     "metadata": {},
     "execution_count": 15
    },
    {
     "output_type": "display_data",
     "data": {
      "text/plain": [
       "<Figure size 432x288 with 2 Axes>"
      ],
      "image/png": "[encoded data removed]"
     },
     "metadata": {
      "needs_background": "light"
     }
    }
   ]
  },
  {
   "cell_type": "code",
   "source": [
    "uncustomized = RandomForestClassifier(random_state=0, n_estimators= 45 , max_depth = 30, min_samples_split=2 , min_samples_leaf=2)\n",
    "uncustomized.fit(x_train, y_train)\n",
    "# Train Data 설명력\n",
    "train_score_before = uncustomized.score(x_train, y_train)\n",
    "print(f\"학습 데이터셋 정확도: {train_score_before}\")\n",
    "# Test Data 설명력\n",
    "test_score_before = uncustomized.score(x_valid, y_valid)\n",
    "print(f\"테스트 데이터셋 정확도: {test_score_before}\")\n",
    "plot_confusion_matrix(uncustomized, # 분류 모델\n",
    "                         x_valid, y_valid, # 예측 데이터와 예측값의 정답(y_true)\n",
    "                         normalize='true')  # 더 낮아짐 ㅜ \n"
   ],
   "metadata": {
    "colab": {
     "base_uri": "https://localhost:8080/",
     "height": 409
    },
    "id": "kNNNzZ5jMSwf",
    "outputId": "e17ce427-819b-4294-c9a1-1541dd8c3c9a"
   },
   "execution_count": null,
   "outputs": [
    {
     "output_type": "stream",
     "name": "stdout",
     "text": [
      "[0.71644 0.72668 0.72216]\n",
      "학습 데이터셋 정확도: 0.97004\n",
      "테스트 데이터셋 정확도: 0.7378\n"
     ]
    },
    {
     "output_type": "stream",
     "name": "stderr",
     "text": [
      "/usr/local/lib/python3.7/dist-packages/sklearn/utils/deprecation.py:87: FutureWarning: Function plot_confusion_matrix is deprecated; Function `plot_confusion_matrix` is deprecated in 1.0 and will be removed in 1.2. Use one of the class methods: ConfusionMatrixDisplay.from_predictions or ConfusionMatrixDisplay.from_estimator.\n",
      "  warnings.warn(msg, category=FutureWarning)\n"
     ]
    },
    {
     "output_type": "execute_result",
     "data": {
      "text/plain": [
       "<sklearn.metrics._plot.confusion_matrix.ConfusionMatrixDisplay at 0x7f935b216590>"
      ]
     },
     "metadata": {},
     "execution_count": 72
    },
    {
     "output_type": "display_data",
     "data": {
      "text/plain": [
       "<Figure size 432x288 with 2 Axes>"
      ],
      "image/png": "[encoded data removed]"
     },
     "metadata": {
      "needs_background": "light"
     }
    }
   ]
  },
  {
   "cell_type": "markdown",
   "source": [
    "### search"
   ],
   "metadata": {
    "id": "t1GmJ6p6NGop"
   }
  },
  {
   "cell_type": "code",
   "execution_count": null,
   "metadata": {
    "id": "XzZtSuhJgJ7p"
   },
   "outputs": [],
   "source": [
    "params = { 'n_estimators' : range(200,401,50), #4\n",
    "           'max_depth' : range(10,30,5), #4 \n",
    "           'min_samples_leaf' : range(1,10,2), #5\n",
    "           'min_samples_split' : range(1,18,2) #5\n",
    "            }\n"
   ]
  },
  {
   "cell_type": "code",
   "source": [
    "forest = RandomForestClassifier(random_state=0,n_jobs=-1)"
   ],
   "metadata": {
    "id": "7RpnIQpDNoqV"
   },
   "execution_count": null,
   "outputs": []
  },
  {
   "cell_type": "code",
   "source": [
    "#grid\n",
    "grid = GridSearchCV(forest, param_grid = params, cv = 3, n_jobs = -1)\n",
    "grid.fit(x_train, y_train)\n",
    "\n",
    "\n",
    "print('최적 하이퍼 파라미터: ', grid.best_params_)\n",
    "print('최고 예측 정확도: {:.4f}'.format(grid.best_score_))\n",
    "\n"
   ],
   "metadata": {
    "id": "n0XNnQuLNh7Q"
   },
   "execution_count": null,
   "outputs": []
  },
  {
   "cell_type": "code",
   "source": [
    "best_grid = grid.best_estimator_\n",
    "print(best_grid)\n",
    "print(accuracy_score(y_valid, best_grid.predict(x_valid)))\n",
    "print(accuracy_score(y_train, best_grid.predict(x_train)))\n",
    "plot_confusion_matrix(best_grid, # 분류 모델\n",
    "                         x_valid, y_valid, # 예측 데이터와 예측값의 정답(y_true)\n",
    "                         normalize='true')  # 더 낮아짐 ㅜ "
   ],
   "metadata": {
    "id": "icMLQypLCZ0b"
   },
   "execution_count": null,
   "outputs": []
  },
  {
   "cell_type": "code",
   "source": [
    "# random search \n",
    "best_random = random.best_estimator_\n",
    "print(accuracy_score(y_valid, best_random.predict(x_valid)))\n",
    "print(accuracy_score(y_train, best_random.predict(x_train)))\n",
    "plot_confusion_matrix(best_random, # 분류 모델\n",
    "                         x_valid, y_valid, # 예측 데이터와 예측값의 정답(y_true)\n",
    "                         normalize='true')  # 더 낮아짐 ㅜ \n",
    "                         "
   ],
   "metadata": {
    "id": "tGavi4mlqRAr"
   },
   "execution_count": null,
   "outputs": []
  },
  {
   "cell_type": "code",
   "execution_count": null,
   "metadata": {
    "id": "RuH5X82ShgmF",
    "colab": {
     "base_uri": "https://localhost:8080/",
     "height": 393
    },
    "outputId": "7b74eafc-cf66-4605-a552-743c0838b1c9"
   },
   "outputs": [
    {
     "output_type": "stream",
     "name": "stdout",
     "text": [
      "0.69036\n",
      "0.8264666666666667\n"
     ]
    },
    {
     "output_type": "stream",
     "name": "stderr",
     "text": [
      "/usr/local/lib/python3.7/dist-packages/sklearn/utils/deprecation.py:87: FutureWarning: Function plot_confusion_matrix is deprecated; Function `plot_confusion_matrix` is deprecated in 1.0 and will be removed in 1.2. Use one of the class methods: ConfusionMatrixDisplay.from_predictions or ConfusionMatrixDisplay.from_estimator.\n",
      "  warnings.warn(msg, category=FutureWarning)\n"
     ]
    },
    {
     "output_type": "execute_result",
     "data": {
      "text/plain": [
       "<sklearn.metrics._plot.confusion_matrix.ConfusionMatrixDisplay at 0x7f93571657d0>"
      ]
     },
     "metadata": {},
     "execution_count": 92
    },
    {
     "output_type": "display_data",
     "data": {
      "text/plain": [
       "<Figure size 432x288 with 2 Axes>"
      ],
      "image/png": "[encoded data removed]"
     },
     "metadata": {
      "needs_background": "light"
     }
    }
   ],
   "source": [
    "# random search \n",
    "best_grid = grid.best_estimator_\n",
    "print(best_grid)\n",
    "print(accuracy_score(y_valid, best_grid.predict(x_valid)))\n",
    "print(accuracy_score(y_train, best_grid.predict(x_train)))\n",
    "plot_confusion_matrix(best_grid, # 분류 모델\n",
    "                         x_valid, y_valid, # 예측 데이터와 예측값의 정답(y_true)\n",
    "                         normalize='true')  # 더 낮아짐 ㅜ \n",
    "                         "
   ]
  },
  {
   "cell_type": "code",
   "source": [
    "params_1 = { 'n_estimators' : range(1,31,5),\n",
    "           'max_depth' : range(10,30,5),  \n",
    "            'min_samples_leaf' : range(1,18,),\n",
    "           'min_samples_split' : range(1,18,2)\n",
    "            }\n"
   ],
   "metadata": {
    "id": "dQjUyOInvTrl"
   },
   "execution_count": null,
   "outputs": []
  },
  {
   "cell_type": "code",
   "execution_count": null,
   "metadata": {
    "id": "2PbsjoU1gvOd"
   },
   "outputs": [],
   "source": [
    "grid = GridSearchCV(forest, param_grid = params, cv = 3, n_jobs = -1)\n",
    "\n"
   ]
  },
  {
   "cell_type": "code",
   "source": [
    "grid.fit(x_train, y_train)\n",
    "print('최적 하이퍼 파라미터: ', grid.best_params_)\n",
    "print('최고 예측 정확도: {:.4f}'.format(grid.best_score_))"
   ],
   "metadata": {
    "colab": {
     "base_uri": "https://localhost:8080/",
     "height": 363
    },
    "id": "VY6UPkRow8NS",
    "outputId": "fddc517c-6828-4923-fff2-e0cdb39c1161"
   },
   "execution_count": null,
   "outputs": [
    {
     "output_type": "error",
     "ename": "KeyboardInterrupt",
     "evalue": "ignored",
     "traceback": [
      "\u001B[0;31m---------------------------------------------------------------------------\u001B[0m",
      "\u001B[0;31mKeyboardInterrupt\u001B[0m                         Traceback (most recent call last)",
      "\u001B[0;32m<ipython-input-131-c6c7bc60b417>\u001B[0m in \u001B[0;36m<module>\u001B[0;34m\u001B[0m\n\u001B[0;32m----> 1\u001B[0;31m \u001B[0mgrid\u001B[0m\u001B[0;34m.\u001B[0m\u001B[0mfit\u001B[0m\u001B[0;34m(\u001B[0m\u001B[0mx_train\u001B[0m\u001B[0;34m,\u001B[0m \u001B[0my_train\u001B[0m\u001B[0;34m)\u001B[0m\u001B[0;34m\u001B[0m\u001B[0;34m\u001B[0m\u001B[0m\n\u001B[0m\u001B[1;32m      2\u001B[0m \u001B[0mprint\u001B[0m\u001B[0;34m(\u001B[0m\u001B[0;34m'최적 하이퍼 파라미터: '\u001B[0m\u001B[0;34m,\u001B[0m \u001B[0mrandom_rf_2\u001B[0m\u001B[0;34m.\u001B[0m\u001B[0mbest_params_\u001B[0m\u001B[0;34m)\u001B[0m\u001B[0;34m\u001B[0m\u001B[0;34m\u001B[0m\u001B[0m\n\u001B[1;32m      3\u001B[0m \u001B[0mprint\u001B[0m\u001B[0;34m(\u001B[0m\u001B[0;34m'최고 예측 정확도: {:.4f}'\u001B[0m\u001B[0;34m.\u001B[0m\u001B[0mformat\u001B[0m\u001B[0;34m(\u001B[0m\u001B[0mrandom_rf_2\u001B[0m\u001B[0;34m.\u001B[0m\u001B[0mbest_score_\u001B[0m\u001B[0;34m)\u001B[0m\u001B[0;34m)\u001B[0m\u001B[0;34m\u001B[0m\u001B[0;34m\u001B[0m\u001B[0m\n",
      "\u001B[0;32m/usr/local/lib/python3.7/dist-packages/sklearn/model_selection/_search.py\u001B[0m in \u001B[0;36mfit\u001B[0;34m(self, X, y, groups, **fit_params)\u001B[0m\n\u001B[1;32m    889\u001B[0m                 \u001B[0;32mreturn\u001B[0m \u001B[0mresults\u001B[0m\u001B[0;34m\u001B[0m\u001B[0;34m\u001B[0m\u001B[0m\n\u001B[1;32m    890\u001B[0m \u001B[0;34m\u001B[0m\u001B[0m\n\u001B[0;32m--> 891\u001B[0;31m             \u001B[0mself\u001B[0m\u001B[0;34m.\u001B[0m\u001B[0m_run_search\u001B[0m\u001B[0;34m(\u001B[0m\u001B[0mevaluate_candidates\u001B[0m\u001B[0;34m)\u001B[0m\u001B[0;34m\u001B[0m\u001B[0;34m\u001B[0m\u001B[0m\n\u001B[0m\u001B[1;32m    892\u001B[0m \u001B[0;34m\u001B[0m\u001B[0m\n\u001B[1;32m    893\u001B[0m             \u001B[0;31m# multimetric is determined here because in the case of a callable\u001B[0m\u001B[0;34m\u001B[0m\u001B[0;34m\u001B[0m\u001B[0;34m\u001B[0m\u001B[0m\n",
      "\u001B[0;32m/usr/local/lib/python3.7/dist-packages/sklearn/model_selection/_search.py\u001B[0m in \u001B[0;36m_run_search\u001B[0;34m(self, evaluate_candidates)\u001B[0m\n\u001B[1;32m   1390\u001B[0m     \u001B[0;32mdef\u001B[0m \u001B[0m_run_search\u001B[0m\u001B[0;34m(\u001B[0m\u001B[0mself\u001B[0m\u001B[0;34m,\u001B[0m \u001B[0mevaluate_candidates\u001B[0m\u001B[0;34m)\u001B[0m\u001B[0;34m:\u001B[0m\u001B[0;34m\u001B[0m\u001B[0;34m\u001B[0m\u001B[0m\n\u001B[1;32m   1391\u001B[0m         \u001B[0;34m\"\"\"Search all candidates in param_grid\"\"\"\u001B[0m\u001B[0;34m\u001B[0m\u001B[0;34m\u001B[0m\u001B[0m\n\u001B[0;32m-> 1392\u001B[0;31m         \u001B[0mevaluate_candidates\u001B[0m\u001B[0;34m(\u001B[0m\u001B[0mParameterGrid\u001B[0m\u001B[0;34m(\u001B[0m\u001B[0mself\u001B[0m\u001B[0;34m.\u001B[0m\u001B[0mparam_grid\u001B[0m\u001B[0;34m)\u001B[0m\u001B[0;34m)\u001B[0m\u001B[0;34m\u001B[0m\u001B[0;34m\u001B[0m\u001B[0m\n\u001B[0m\u001B[1;32m   1393\u001B[0m \u001B[0;34m\u001B[0m\u001B[0m\n\u001B[1;32m   1394\u001B[0m \u001B[0;34m\u001B[0m\u001B[0m\n",
      "\u001B[0;32m/usr/local/lib/python3.7/dist-packages/sklearn/model_selection/_search.py\u001B[0m in \u001B[0;36mevaluate_candidates\u001B[0;34m(candidate_params, cv, more_results)\u001B[0m\n\u001B[1;32m    849\u001B[0m                     )\n\u001B[1;32m    850\u001B[0m                     for (cand_idx, parameters), (split_idx, (train, test)) in product(\n\u001B[0;32m--> 851\u001B[0;31m                         \u001B[0menumerate\u001B[0m\u001B[0;34m(\u001B[0m\u001B[0mcandidate_params\u001B[0m\u001B[0;34m)\u001B[0m\u001B[0;34m,\u001B[0m \u001B[0menumerate\u001B[0m\u001B[0;34m(\u001B[0m\u001B[0mcv\u001B[0m\u001B[0;34m.\u001B[0m\u001B[0msplit\u001B[0m\u001B[0;34m(\u001B[0m\u001B[0mX\u001B[0m\u001B[0;34m,\u001B[0m \u001B[0my\u001B[0m\u001B[0;34m,\u001B[0m \u001B[0mgroups\u001B[0m\u001B[0;34m)\u001B[0m\u001B[0;34m)\u001B[0m\u001B[0;34m\u001B[0m\u001B[0;34m\u001B[0m\u001B[0m\n\u001B[0m\u001B[1;32m    852\u001B[0m                     )\n\u001B[1;32m    853\u001B[0m                 )\n",
      "\u001B[0;32m/usr/local/lib/python3.7/dist-packages/joblib/parallel.py\u001B[0m in \u001B[0;36m__call__\u001B[0;34m(self, iterable)\u001B[0m\n\u001B[1;32m   1096\u001B[0m \u001B[0;34m\u001B[0m\u001B[0m\n\u001B[1;32m   1097\u001B[0m             \u001B[0;32mwith\u001B[0m \u001B[0mself\u001B[0m\u001B[0;34m.\u001B[0m\u001B[0m_backend\u001B[0m\u001B[0;34m.\u001B[0m\u001B[0mretrieval_context\u001B[0m\u001B[0;34m(\u001B[0m\u001B[0;34m)\u001B[0m\u001B[0;34m:\u001B[0m\u001B[0;34m\u001B[0m\u001B[0;34m\u001B[0m\u001B[0m\n\u001B[0;32m-> 1098\u001B[0;31m                 \u001B[0mself\u001B[0m\u001B[0;34m.\u001B[0m\u001B[0mretrieve\u001B[0m\u001B[0;34m(\u001B[0m\u001B[0;34m)\u001B[0m\u001B[0;34m\u001B[0m\u001B[0;34m\u001B[0m\u001B[0m\n\u001B[0m\u001B[1;32m   1099\u001B[0m             \u001B[0;31m# Make sure that we get a last message telling us we are done\u001B[0m\u001B[0;34m\u001B[0m\u001B[0;34m\u001B[0m\u001B[0;34m\u001B[0m\u001B[0m\n\u001B[1;32m   1100\u001B[0m             \u001B[0melapsed_time\u001B[0m \u001B[0;34m=\u001B[0m \u001B[0mtime\u001B[0m\u001B[0;34m.\u001B[0m\u001B[0mtime\u001B[0m\u001B[0;34m(\u001B[0m\u001B[0;34m)\u001B[0m \u001B[0;34m-\u001B[0m \u001B[0mself\u001B[0m\u001B[0;34m.\u001B[0m\u001B[0m_start_time\u001B[0m\u001B[0;34m\u001B[0m\u001B[0;34m\u001B[0m\u001B[0m\n",
      "\u001B[0;32m/usr/local/lib/python3.7/dist-packages/joblib/parallel.py\u001B[0m in \u001B[0;36mretrieve\u001B[0;34m(self)\u001B[0m\n\u001B[1;32m    973\u001B[0m             \u001B[0;32mtry\u001B[0m\u001B[0;34m:\u001B[0m\u001B[0;34m\u001B[0m\u001B[0;34m\u001B[0m\u001B[0m\n\u001B[1;32m    974\u001B[0m                 \u001B[0;32mif\u001B[0m \u001B[0mgetattr\u001B[0m\u001B[0;34m(\u001B[0m\u001B[0mself\u001B[0m\u001B[0;34m.\u001B[0m\u001B[0m_backend\u001B[0m\u001B[0;34m,\u001B[0m \u001B[0;34m'supports_timeout'\u001B[0m\u001B[0;34m,\u001B[0m \u001B[0;32mFalse\u001B[0m\u001B[0;34m)\u001B[0m\u001B[0;34m:\u001B[0m\u001B[0;34m\u001B[0m\u001B[0;34m\u001B[0m\u001B[0m\n\u001B[0;32m--> 975\u001B[0;31m                     \u001B[0mself\u001B[0m\u001B[0;34m.\u001B[0m\u001B[0m_output\u001B[0m\u001B[0;34m.\u001B[0m\u001B[0mextend\u001B[0m\u001B[0;34m(\u001B[0m\u001B[0mjob\u001B[0m\u001B[0;34m.\u001B[0m\u001B[0mget\u001B[0m\u001B[0;34m(\u001B[0m\u001B[0mtimeout\u001B[0m\u001B[0;34m=\u001B[0m\u001B[0mself\u001B[0m\u001B[0;34m.\u001B[0m\u001B[0mtimeout\u001B[0m\u001B[0;34m)\u001B[0m\u001B[0;34m)\u001B[0m\u001B[0;34m\u001B[0m\u001B[0;34m\u001B[0m\u001B[0m\n\u001B[0m\u001B[1;32m    976\u001B[0m                 \u001B[0;32melse\u001B[0m\u001B[0;34m:\u001B[0m\u001B[0;34m\u001B[0m\u001B[0;34m\u001B[0m\u001B[0m\n\u001B[1;32m    977\u001B[0m                     \u001B[0mself\u001B[0m\u001B[0;34m.\u001B[0m\u001B[0m_output\u001B[0m\u001B[0;34m.\u001B[0m\u001B[0mextend\u001B[0m\u001B[0;34m(\u001B[0m\u001B[0mjob\u001B[0m\u001B[0;34m.\u001B[0m\u001B[0mget\u001B[0m\u001B[0;34m(\u001B[0m\u001B[0;34m)\u001B[0m\u001B[0;34m)\u001B[0m\u001B[0;34m\u001B[0m\u001B[0;34m\u001B[0m\u001B[0m\n",
      "\u001B[0;32m/usr/local/lib/python3.7/dist-packages/joblib/_parallel_backends.py\u001B[0m in \u001B[0;36mwrap_future_result\u001B[0;34m(future, timeout)\u001B[0m\n\u001B[1;32m    565\u001B[0m         AsyncResults.get from multiprocessing.\"\"\"\n\u001B[1;32m    566\u001B[0m         \u001B[0;32mtry\u001B[0m\u001B[0;34m:\u001B[0m\u001B[0;34m\u001B[0m\u001B[0;34m\u001B[0m\u001B[0m\n\u001B[0;32m--> 567\u001B[0;31m             \u001B[0;32mreturn\u001B[0m \u001B[0mfuture\u001B[0m\u001B[0;34m.\u001B[0m\u001B[0mresult\u001B[0m\u001B[0;34m(\u001B[0m\u001B[0mtimeout\u001B[0m\u001B[0;34m=\u001B[0m\u001B[0mtimeout\u001B[0m\u001B[0;34m)\u001B[0m\u001B[0;34m\u001B[0m\u001B[0;34m\u001B[0m\u001B[0m\n\u001B[0m\u001B[1;32m    568\u001B[0m         \u001B[0;32mexcept\u001B[0m \u001B[0mCfTimeoutError\u001B[0m \u001B[0;32mas\u001B[0m \u001B[0me\u001B[0m\u001B[0;34m:\u001B[0m\u001B[0;34m\u001B[0m\u001B[0;34m\u001B[0m\u001B[0m\n\u001B[1;32m    569\u001B[0m             \u001B[0;32mraise\u001B[0m \u001B[0mTimeoutError\u001B[0m \u001B[0;32mfrom\u001B[0m \u001B[0me\u001B[0m\u001B[0;34m\u001B[0m\u001B[0;34m\u001B[0m\u001B[0m\n",
      "\u001B[0;32m/usr/lib/python3.7/concurrent/futures/_base.py\u001B[0m in \u001B[0;36mresult\u001B[0;34m(self, timeout)\u001B[0m\n\u001B[1;32m    428\u001B[0m                 \u001B[0;32mreturn\u001B[0m \u001B[0mself\u001B[0m\u001B[0;34m.\u001B[0m\u001B[0m__get_result\u001B[0m\u001B[0;34m(\u001B[0m\u001B[0;34m)\u001B[0m\u001B[0;34m\u001B[0m\u001B[0;34m\u001B[0m\u001B[0m\n\u001B[1;32m    429\u001B[0m \u001B[0;34m\u001B[0m\u001B[0m\n\u001B[0;32m--> 430\u001B[0;31m             \u001B[0mself\u001B[0m\u001B[0;34m.\u001B[0m\u001B[0m_condition\u001B[0m\u001B[0;34m.\u001B[0m\u001B[0mwait\u001B[0m\u001B[0;34m(\u001B[0m\u001B[0mtimeout\u001B[0m\u001B[0;34m)\u001B[0m\u001B[0;34m\u001B[0m\u001B[0;34m\u001B[0m\u001B[0m\n\u001B[0m\u001B[1;32m    431\u001B[0m \u001B[0;34m\u001B[0m\u001B[0m\n\u001B[1;32m    432\u001B[0m             \u001B[0;32mif\u001B[0m \u001B[0mself\u001B[0m\u001B[0;34m.\u001B[0m\u001B[0m_state\u001B[0m \u001B[0;32min\u001B[0m \u001B[0;34m[\u001B[0m\u001B[0mCANCELLED\u001B[0m\u001B[0;34m,\u001B[0m \u001B[0mCANCELLED_AND_NOTIFIED\u001B[0m\u001B[0;34m]\u001B[0m\u001B[0;34m:\u001B[0m\u001B[0;34m\u001B[0m\u001B[0;34m\u001B[0m\u001B[0m\n",
      "\u001B[0;32m/usr/lib/python3.7/threading.py\u001B[0m in \u001B[0;36mwait\u001B[0;34m(self, timeout)\u001B[0m\n\u001B[1;32m    294\u001B[0m         \u001B[0;32mtry\u001B[0m\u001B[0;34m:\u001B[0m    \u001B[0;31m# restore state no matter what (e.g., KeyboardInterrupt)\u001B[0m\u001B[0;34m\u001B[0m\u001B[0;34m\u001B[0m\u001B[0m\n\u001B[1;32m    295\u001B[0m             \u001B[0;32mif\u001B[0m \u001B[0mtimeout\u001B[0m \u001B[0;32mis\u001B[0m \u001B[0;32mNone\u001B[0m\u001B[0;34m:\u001B[0m\u001B[0;34m\u001B[0m\u001B[0;34m\u001B[0m\u001B[0m\n\u001B[0;32m--> 296\u001B[0;31m                 \u001B[0mwaiter\u001B[0m\u001B[0;34m.\u001B[0m\u001B[0macquire\u001B[0m\u001B[0;34m(\u001B[0m\u001B[0;34m)\u001B[0m\u001B[0;34m\u001B[0m\u001B[0;34m\u001B[0m\u001B[0m\n\u001B[0m\u001B[1;32m    297\u001B[0m                 \u001B[0mgotit\u001B[0m \u001B[0;34m=\u001B[0m \u001B[0;32mTrue\u001B[0m\u001B[0;34m\u001B[0m\u001B[0;34m\u001B[0m\u001B[0m\n\u001B[1;32m    298\u001B[0m             \u001B[0;32melse\u001B[0m\u001B[0;34m:\u001B[0m\u001B[0;34m\u001B[0m\u001B[0;34m\u001B[0m\u001B[0m\n",
      "\u001B[0;31mKeyboardInterrupt\u001B[0m: "
     ]
    }
   ]
  },
  {
   "cell_type": "code",
   "execution_count": null,
   "metadata": {
    "id": "rEpXLSGsg712",
    "colab": {
     "base_uri": "https://localhost:8080/",
     "height": 391
    },
    "outputId": "8179504d-3190-4e73-ad51-c9f517de8177"
   },
   "outputs": [
    {
     "output_type": "stream",
     "name": "stdout",
     "text": [
      "0.65356\n",
      "0.75944\n"
     ]
    },
    {
     "output_type": "stream",
     "name": "stderr",
     "text": [
      "/usr/local/lib/python3.7/dist-packages/sklearn/utils/deprecation.py:87: FutureWarning: Function plot_confusion_matrix is deprecated; Function `plot_confusion_matrix` is deprecated in 1.0 and will be removed in 1.2. Use one of the class methods: ConfusionMatrixDisplay.from_predictions or ConfusionMatrixDisplay.from_estimator.\n",
      "  warnings.warn(msg, category=FutureWarning)\n"
     ]
    },
    {
     "output_type": "execute_result",
     "data": {
      "text/plain": [
       "<sklearn.metrics._plot.confusion_matrix.ConfusionMatrixDisplay at 0x7f9356889ad0>"
      ]
     },
     "metadata": {},
     "execution_count": 98
    },
    {
     "output_type": "display_data",
     "data": {
      "text/plain": [
       "<Figure size 432x288 with 2 Axes>"
      ],
      "image/png": "[encoded data removed]"
     },
     "metadata": {
      "needs_background": "light"
     }
    }
   ],
   "source": [
    "# random search \n",
    "best_random_2 = random_rf_2.best_estimator_\n",
    "print(accuracy_score(y_valid, best_random_2.predict(x_valid)))\n",
    "print(accuracy_score(y_train, best_random_2.predict(x_train)))\n",
    "plot_confusion_matrix(best_random_2, # 분류 모델\n",
    "                         x_valid, y_valid, # 예측 데이터와 예측값의 정답(y_true)\n",
    "                         normalize='true')  # 더 낮아짐 ㅜ \n",
    "                         "
   ]
  },
  {
   "cell_type": "code",
   "execution_count": null,
   "metadata": {
    "id": "kVsQLu8NhMQp"
   },
   "outputs": [],
   "source": [
    "# greed search \n",
    "best_grid = grid_rf.best_estimator_\n",
    "accuracy_score(y_valid, best_grid.predict(x_valid))"
   ]
  },
  {
   "cell_type": "code",
   "execution_count": null,
   "metadata": {
    "id": "8qqQltskheF-"
   },
   "outputs": [],
   "source": [
    "plot_confusion_matrix(best_grid, # 분류 모델\n",
    "                             x_valid, y_valid, # 예측 데이터와 예측값의 정답(y_true)\n",
    "                             normalize='true') # "
   ]
  },
  {
   "cell_type": "code",
   "execution_count": null,
   "metadata": {
    "id": "ri5w-boVhxLm"
   },
   "outputs": [],
   "source": [
    "plot_confusion_matrix(best_random, # 분류 모델\n",
    "                             x_valid, y_valid, # 예측 데이터와 예측값의 정답(y_true)\n",
    "                             normalize='true') # "
   ]
  },
  {
   "cell_type": "code",
   "execution_count": null,
   "metadata": {
    "id": "c-ZMgSSviJTP"
   },
   "outputs": [],
   "source": []
  },
  {
   "cell_type": "markdown",
   "metadata": {
    "id": "3MWSdXR9iJ8n"
   },
   "source": [
    "## 데이터 전처리 많이 안 한것"
   ]
  },
  {
   "cell_type": "code",
   "execution_count": null,
   "metadata": {
    "id": "j1GwVgVDh99Z"
   },
   "outputs": [],
   "source": [
    "origin = pd.read_csv('/content/drive/MyDrive/Credit/archive/train_preprocess_haemin.csv',index_col = 0)\n"
   ]
  },
  {
   "cell_type": "code",
   "execution_count": null,
   "metadata": {
    "id": "0dbI4ZLjiPgR"
   },
   "outputs": [],
   "source": [
    "# 최종 2개월 valid로 분리\n",
    "train_or = origin.loc[origin['Month'] <=6]\n",
    "valid_or= origin.loc[origin['Month'] >6]\n",
    "train_or.shape, valid_or.shape\n",
    "\n",
    "# train, valid를 각각 x,y 분리\n",
    "\n",
    "x_train_or = train_or.drop(['Credit_Score'],axis=1)\n",
    "y_train_or = train_or['Credit_Score']\n",
    "\n",
    "x_valid_or = valid_or.drop(['Credit_Score'],axis=1)\n",
    "y_valid_or = valid_or['Credit_Score']\n",
    "\n",
    "x_train_or.shape, y_train_or.shape, x_valid_or.shape, y_valid_or.shape"
   ]
  },
  {
   "cell_type": "code",
   "execution_count": null,
   "metadata": {
    "id": "DCbzrhlrik4B"
   },
   "outputs": [],
   "source": []
  },
  {
   "cell_type": "code",
   "execution_count": null,
   "metadata": {
    "id": "U_69oAPkivuR"
   },
   "outputs": [],
   "source": [
    "#grid\n",
    "grid_or = GridSearchCV(rf_clf, param_grid = params, cv = 3, n_jobs = -1)\n",
    "grid_or.fit(x_train_or, y_train_or)\n",
    "\n",
    "\n",
    "print('최적 하이퍼 파라미터: ', grid_or.best_params_)\n",
    "print('최고 예측 정확도: {:.4f}'.format(grid_or.best_score_))\n"
   ]
  },
  {
   "cell_type": "code",
   "execution_count": null,
   "metadata": {
    "id": "rp2j_3GSjQWh"
   },
   "outputs": [],
   "source": [
    "random_or= RandomizedSearchCV(\n",
    "    rf_clf,\n",
    "    param_distributions=params, # 파라미터 입력\n",
    "    n_iter = 500,   # random search 탐색 횟수\n",
    "    cv = 3,        # cv 검증을 위한 분할 검증 횟수\n",
    "    scoring='accuracy',  # 오차 평가방법\n",
    "    verbose=1,     # 진행상황\n",
    "    random_state = 2\n",
    "  )\n",
    "random_or.fit(x_train_or, y_train_or)\n",
    "print('최적 하이퍼 파라미터: ', random_or.best_params_)\n",
    "print('최고 예측 정확도: {:.4f}'.format(random_or.best_score_))"
   ]
  },
  {
   "cell_type": "code",
   "execution_count": null,
   "metadata": {
    "id": "Tp1POt3Njc49"
   },
   "outputs": [],
   "source": [
    "# greed search \n",
    "best_greed_or = grid_or.best_estimator_\n",
    "print(accuracy_score(y_valid_or, best_grid_or.predict(x_valid_or)))\n",
    "plot = plot_confusion_matrix(best_grid_or, # 분류 모델\n",
    "                             x_valid_or, y_valid_or, # 예측 데이터와 예측값의 정답(y_true)\n",
    "                             normalize='true') # "
   ]
  },
  {
   "cell_type": "code",
   "execution_count": null,
   "metadata": {
    "id": "Ly7SoZcGjfT3"
   },
   "outputs": [],
   "source": [
    "# random search \n",
    "best_random_or = random_or.best_estimator_\n",
    "print(accuracy_score(y_valid_or, best_random.predict(x_valid_or)))\n",
    "plot = plot_confusion_matrix(best_random_or, # 분류 모델\n",
    "                             x_valid_or, y_valid_or, # 예측 데이터와 예측값의 정답(y_true)\n",
    "                             normalize='true') # "
   ]
  },
  {
   "cell_type": "code",
   "execution_count": null,
   "metadata": {
    "id": "YuM486FijsAS"
   },
   "outputs": [],
   "source": []
  },
  {
   "cell_type": "markdown",
   "metadata": {
    "id": "Mtc8oRE3juuG"
   },
   "source": [
    "# history age 0/1 나누기\n"
   ]
  },
  {
   "cell_type": "code",
   "execution_count": null,
   "metadata": {
    "id": "P3nSv84Ej-iD"
   },
   "outputs": [],
   "source": [
    "history_group = dfs.groupby('Credit_History_Age')"
   ]
  },
  {
   "cell_type": "code",
   "execution_count": null,
   "metadata": {
    "id": "ZjT2SIsbkC_X"
   },
   "outputs": [],
   "source": [
    "for key , group in history_group:\n",
    "  if key ==1:\n",
    "    over_train = group.loc[group['Month']<=6]\n",
    "    over_valid = group.loc[group['Month']>6]\n",
    "    over_train_x = over_train.drop(['Credit_Score'],axis=1)\n",
    "    over_train_y = over_train['Credit_Score']\n",
    "\n",
    "    over_valid_x = over_valid.drop(['Credit_Score'],axis=1)\n",
    "    over_valid_y= over_valid['Credit_Score']\n",
    "  else:\n",
    "    under_train = group.loc[group['Month']<=6]\n",
    "    under_valid = group.loc[group['Month']>6]\n",
    "    under_train_x = under_train.drop(['Credit_Score'],axis=1)\n",
    "    under_train_y = under_train['Credit_Score']\n",
    "    under_valid_x = under_valid.drop(['Credit_Score'],axis=1)\n",
    "    under_valid_y = under_valid['Credit_Score']\n"
   ]
  },
  {
   "cell_type": "code",
   "execution_count": null,
   "metadata": {
    "id": "exFxdaeskILT"
   },
   "outputs": [],
   "source": [
    "over_grid = GridSearchCV(rf_clf, param_grid = params, cv = 3, n_jobs = -1)\n",
    "over_grid.fit(over_train_x, over_train_y)\n",
    "\n",
    "print('최적 하이퍼 파라미터: ', over_grid.best_params_)\n",
    "print('최고 예측 정확도: {:.4f}'.format(over_grid.best_score_))"
   ]
  },
  {
   "cell_type": "code",
   "execution_count": null,
   "metadata": {
    "id": "3OBtXgFqkNyD"
   },
   "outputs": [],
   "source": [
    "\n",
    "under_grid = GridSearchCV(rf_clf, param_grid = params, cv = 3, n_jobs = -1)\n",
    "under_grid.fit(under_train_x, under_train_y)\n",
    "\n",
    "print('최적 하이퍼 파라미터: ', under_grid.best_params_)\n",
    "print('최고 예측 정확도: {:.4f}'.format(under_grid.best_score_))"
   ]
  },
  {
   "cell_type": "code",
   "execution_count": null,
   "metadata": {
    "id": "GWJ--YGrkRBk"
   },
   "outputs": [],
   "source": [
    "# greed search \n",
    "best_over_grid = over_grid.best_estimator_\n",
    "print(accuracy_score(over_valid_y, best_over_grid.predict(over_valid_x)))\n",
    "best_under_grid = under_grid.best_estimator_\n",
    "print(accuracy_score(under_valid_y, best_under_grid.predict(under_valid_x)))\n"
   ]
  },
  {
   "cell_type": "code",
   "execution_count": null,
   "metadata": {
    "id": "yl4z7DpRkT8p"
   },
   "outputs": [],
   "source": [
    "valid_y = pd.concat([over_valid_y, under_valid_y])\n",
    "pred_y = np.concatenate([best_over_grid.predict(over_valid_x),best_under_grid.predict(under_valid_x)])"
   ]
  },
  {
   "cell_type": "code",
   "execution_count": null,
   "metadata": {
    "id": "bgp-W6KskVs5"
   },
   "outputs": [],
   "source": [
    "cf = confusion_matrix( valid_y,pred_y,normalize = 'true')\n",
    "sns.heatmap(cf,annot=True)"
   ]
  },
  {
   "cell_type": "code",
   "execution_count": null,
   "metadata": {
    "id": "Za8DV6CukZEO"
   },
   "outputs": [],
   "source": [
    "\n",
    "over_random= RandomizedSearchCV(\n",
    "    rf_clf,\n",
    "    param_distributions=params, # 파라미터 입력\n",
    "    n_iter = 500,   # random search 탐색 횟수\n",
    "    cv = 3,        # cv 검증을 위한 분할 검증 횟수\n",
    "    scoring='accuracy',  # 오차 평가방법\n",
    "    verbose=1,     # 진행상황\n",
    "    random_state = 2\n",
    "  )\n",
    "over_random.fit(over_train_x, over_train_y)\n",
    "print('최적 하이퍼 파라미터: ', over_random.best_params_)\n",
    "print('최고 예측 정확도: {:.4f}'.format(over_random.best_score_))"
   ]
  },
  {
   "cell_type": "code",
   "execution_count": null,
   "metadata": {
    "id": "DtaX8OFpkk4J"
   },
   "outputs": [],
   "source": [
    "\n",
    "under_random= RandomizedSearchCV(\n",
    "    rf_clf,\n",
    "    param_distributions=params, # 파라미터 입력\n",
    "    n_iter = 500,   # random search 탐색 횟수\n",
    "    cv = 3,        # cv 검증을 위한 분할 검증 횟수\n",
    "    scoring='accuracy',  # 오차 평가방법\n",
    "    verbose=1,     # 진행상황\n",
    "    random_state = 2\n",
    "  )\n",
    "under_random.fit(under_train_x, under_train_y)\n",
    "print('최적 하이퍼 파라미터: ', under_random.best_params_)\n",
    "print('최고 예측 정확도: {:.4f}'.format(under_random.best_score_))"
   ]
  },
  {
   "cell_type": "code",
   "execution_count": null,
   "metadata": {
    "id": "77ExKZliknn-"
   },
   "outputs": [],
   "source": [
    "# greed search \n",
    "best_over_random = over_random.best_estimator_\n",
    "print(accuracy_score(over_valid_y, best_over_random.predict(over_valid_x)))\n",
    "best_under_random = under_random.best_estimator_\n",
    "print(accuracy_score(under_valid_y, best_under_random.predict(under_valid_x)))\n"
   ]
  },
  {
   "cell_type": "code",
   "execution_count": null,
   "metadata": {
    "id": "3UnIbMNOkqQh"
   },
   "outputs": [],
   "source": [
    "pred_y = np.concatenate([best_over_random.predict(over_valid_x),best_under_random.predict(under_valid_x)])"
   ]
  },
  {
   "cell_type": "code",
   "execution_count": null,
   "metadata": {
    "id": "pKmh_qx2krqr"
   },
   "outputs": [],
   "source": [
    "cf = confusion_matrix( valid_y,pred_y,normalize = 'true')\n",
    "sns.heatmap(cf,annot=True)"
   ]
  }
 ],
 "metadata": {
  "colab": {
   "toc_visible": true,
   "provenance": []
  },
  "kernelspec": {
   "display_name": "Python 3",
   "name": "python3"
  },
  "language_info": {
   "name": "python"
  }
 },
 "nbformat": 4,
 "nbformat_minor": 0
}
