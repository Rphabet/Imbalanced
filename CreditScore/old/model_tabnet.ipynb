{
 "nbformat": 4,
 "nbformat_minor": 0,
 "metadata": {
  "colab": {
   "provenance": []
  },
  "kernelspec": {
   "name": "python3",
   "display_name": "Python 3"
  },
  "language_info": {
   "name": "python"
  },
  "gpuClass": "standard"
 },
 "cells": [
  {
   "cell_type": "markdown",
   "source": [
    "# Set Environment"
   ],
   "metadata": {
    "id": "_h95NUveyowV"
   }
  },
  {
   "cell_type": "code",
   "source": [
    "# !pip install pytorch_tabnet    # tabnet 모델 설치"
   ],
   "metadata": {
    "colab": {
     "base_uri": "https://localhost:8080/"
    },
    "id": "pw_wJDW9zw2i",
    "executionInfo": {
     "status": "ok",
     "timestamp": 1668590466926,
     "user_tz": -540,
     "elapsed": 2927,
     "user": {
      "displayName": "김소담",
      "userId": "17228452721668815195"
     }
    },
    "outputId": "a02af94b-3b23-4d45-b664-0c24994082e5"
   },
   "execution_count": null,
   "outputs": [
    {
     "output_type": "stream",
     "name": "stdout",
     "text": [
      "Looking in indexes: https://pypi.org/simple, https://us-python.pkg.dev/colab-wheels/public/simple/\n",
      "Requirement already satisfied: pytorch_tabnet in /usr/local/lib/python3.7/dist-packages (4.0)\n",
      "Requirement already satisfied: numpy<2.0,>=1.17 in /usr/local/lib/python3.7/dist-packages (from pytorch_tabnet) (1.21.6)\n",
      "Requirement already satisfied: scikit_learn>0.21 in /usr/local/lib/python3.7/dist-packages (from pytorch_tabnet) (1.0.2)\n",
      "Requirement already satisfied: scipy>1.4 in /usr/local/lib/python3.7/dist-packages (from pytorch_tabnet) (1.7.3)\n",
      "Requirement already satisfied: torch<2.0,>=1.2 in /usr/local/lib/python3.7/dist-packages (from pytorch_tabnet) (1.12.1+cu113)\n",
      "Requirement already satisfied: tqdm<5.0,>=4.36 in /usr/local/lib/python3.7/dist-packages (from pytorch_tabnet) (4.64.1)\n",
      "Requirement already satisfied: threadpoolctl>=2.0.0 in /usr/local/lib/python3.7/dist-packages (from scikit_learn>0.21->pytorch_tabnet) (3.1.0)\n",
      "Requirement already satisfied: joblib>=0.11 in /usr/local/lib/python3.7/dist-packages (from scikit_learn>0.21->pytorch_tabnet) (1.2.0)\n",
      "Requirement already satisfied: typing-extensions in /usr/local/lib/python3.7/dist-packages (from torch<2.0,>=1.2->pytorch_tabnet) (4.1.1)\n"
     ]
    }
   ]
  },
  {
   "cell_type": "code",
   "execution_count": 1,
   "metadata": {
    "id": "d7KY5ExkymCp"
   },
   "outputs": [],
   "source": [
    "import warnings\n",
    "warnings.filterwarnings('ignore')\n",
    "\n",
    "import os\n",
    "import math\n",
    "import numpy as np\n",
    "import pandas as pd\n",
    "import torch\n",
    "import torch.nn as nn\n",
    "import matplotlib.pyplot as plt\n",
    "\n",
    "from pytorch_tabnet.tab_model import TabNetClassifier\n",
    "from pytorch_tabnet.pretraining import TabNetPretrainer\n",
    "from pytorch_tabnet.metrics import Metric\n",
    "from sklearn.preprocessing import LabelEncoder\n",
    "from sklearn.metrics import roc_auc_score, accuracy_score, f1_score, confusion_matrix"
   ]
  },
  {
   "cell_type": "code",
   "source": [
    "# from google.colab import drive\n",
    "# drive.mount('/content/drive')"
   ],
   "metadata": {
    "colab": {
     "base_uri": "https://localhost:8080/"
    },
    "id": "ZssJRx6f0EuT",
    "executionInfo": {
     "status": "ok",
     "timestamp": 1668590471715,
     "user_tz": -540,
     "elapsed": 3727,
     "user": {
      "displayName": "김소담",
      "userId": "17228452721668815195"
     }
    },
    "outputId": "d8c142d5-2fe6-4478-dbed-da5c14ac9b77"
   },
   "execution_count": 3,
   "outputs": []
  },
  {
   "cell_type": "code",
   "source": [
    "# main_dir = '/content/drive/MyDrive/SKKU_study/01_Final_assignment'\n",
    "# data_dir = os.path.join(main_dir, 'data')\n",
    "# processed_data_dir = os.path.join(data_dir, 'processed')\n",
    "#\n",
    "# os.makedirs(data_dir, exist_ok=True)\n",
    "# os.makedirs(processed_data_dir, exist_ok=True)"
   ],
   "metadata": {
    "id": "DyBo6xAzz7e_"
   },
   "execution_count": 2,
   "outputs": []
  },
  {
   "cell_type": "markdown",
   "source": [
    "# Load Data"
   ],
   "metadata": {
    "id": "hpB1e9lCz9qs"
   }
  },
  {
   "cell_type": "code",
   "source": [
    "dfs = pd.read_csv('./processed.csv')\n",
    "train = pd.read_csv('./train.csv')\n",
    "test = pd.read_csv('./test.csv')\n",
    "train.shape, test.shape"
   ],
   "metadata": {
    "colab": {
     "base_uri": "https://localhost:8080/"
    },
    "id": "dXBhaHOD0Rgv",
    "executionInfo": {
     "status": "ok",
     "timestamp": 1668590472378,
     "user_tz": -540,
     "elapsed": 671,
     "user": {
      "displayName": "김소담",
      "userId": "17228452721668815195"
     }
    },
    "outputId": "626e45df-13c6-43b4-b524-eb0e3449359a"
   },
   "execution_count": 5,
   "outputs": [
    {
     "data": {
      "text/plain": "((75000, 23), (25000, 23))"
     },
     "execution_count": 5,
     "metadata": {},
     "output_type": "execute_result"
    }
   ]
  },
  {
   "cell_type": "code",
   "source": [
    "le = LabelEncoder()\n",
    "dfs['Month'] = le.fit_transform(dfs['Month'])\n",
    "train['Month'] = le.transform(train['Month'])\n",
    "test['Month'] = le.transform(test['Month'])"
   ],
   "metadata": {
    "id": "pVFeMCQvJSWy"
   },
   "execution_count": 6,
   "outputs": []
  },
  {
   "cell_type": "markdown",
   "source": [
    "# Model"
   ],
   "metadata": {
    "id": "h4Wial1XoikI"
   }
  },
  {
   "cell_type": "code",
   "source": [
    "class F1_Score(Metric):\n",
    "    def __init__(self):\n",
    "        self._name = 'f1'\n",
    "        self._maximize = True\n",
    "\n",
    "    def __call__(self, y_true, y_score):\n",
    "        score = f1_score(y_true, (y_score[:, 1]>0.5)*1, average='micro')\n",
    "        return score"
   ],
   "metadata": {
    "id": "OSwDs3xcAL_4"
   },
   "execution_count": 7,
   "outputs": []
  },
  {
   "cell_type": "code",
   "source": [
    "target = 'Credit_Score'\n",
    "cat_col = ['Customer_ID', 'Month', 'Credit_Mix', 'Credit_History_Age', \n",
    "           'Payment_of_Min_Amount', 'Payment_Behaviour']\n",
    "cat_dims = {}\n",
    "for col in cat_col:\n",
    "    cat_dims[col] = len(list(dfs[col].unique()))\n",
    "    print(col, ': ', cat_dims[col])\n",
    "cat_col_idx = [list(dfs.columns).index(col) for col in cat_col]\n",
    "cat_col_dims = [cat_dims[col] for col in cat_col]\n",
    "all_col_list = [col for col in dfs.columns if col !=target]"
   ],
   "metadata": {
    "colab": {
     "base_uri": "https://localhost:8080/"
    },
    "id": "hGNWVL_5opso",
    "executionInfo": {
     "status": "ok",
     "timestamp": 1668590472379,
     "user_tz": -540,
     "elapsed": 7,
     "user": {
      "displayName": "김소담",
      "userId": "17228452721668815195"
     }
    },
    "outputId": "eb9d8e1f-eab6-4285-ff37-241fa2715631"
   },
   "execution_count": 9,
   "outputs": [
    {
     "name": "stdout",
     "output_type": "stream",
     "text": [
      "Customer_ID :  12500\n",
      "Month :  8\n",
      "Credit_Mix :  3\n",
      "Credit_History_Age :  2\n",
      "Payment_of_Min_Amount :  3\n",
      "Payment_Behaviour :  6\n"
     ]
    }
   ]
  },
  {
   "cell_type": "code",
   "source": [
    "x_train = train.loc[:, all_col_list].values\n",
    "y_train = train.loc[:, target].values\n",
    "x_test = test.loc[:, all_col_list].values\n",
    "y_test = test.loc[:, target].values"
   ],
   "metadata": {
    "id": "RtQc5O1xBT1Y"
   },
   "execution_count": 10,
   "outputs": []
  },
  {
   "cell_type": "code",
   "source": [
    "# pretrain model\n",
    "unsupervised_model = TabNetPretrainer(\n",
    "    cat_idxs=cat_col_idx,\n",
    "    cat_dims=cat_col_dims,\n",
    "    cat_emb_dim=[int(round(np.sqrt(i)/4,0))+1 for i in cat_col_dims],\n",
    "    optimizer_fn=torch.optim.Adam,\n",
    "    optimizer_params=dict(lr=5*1e-3),\n",
    "    scheduler_params={'is_batch_level': True, 'T_0':10, 'T_mult':2, 'eta_min': 0.001},\n",
    "    scheduler_fn=torch.optim.lr_scheduler.CosineAnnealingWarmRestarts,\n",
    "    mask_type='entmax'\n",
    ")\n",
    "\n",
    "unsupervised_model.fit(\n",
    "    X_train=x_train,\n",
    "    max_epochs=90,\n",
    "    drop_last=False,\n",
    "    pretraining_ratio=0.6, #0.5\n",
    ")\n",
    "\n",
    "reconstructed_X, embedded_X = unsupervised_model.predict(x_train)\n",
    "assert(reconstructed_X.shape == embedded_X.shape)"
   ],
   "metadata": {
    "colab": {
     "base_uri": "https://localhost:8080/"
    },
    "id": "5z_5RX7vEpEB",
    "executionInfo": {
     "status": "ok",
     "timestamp": 1668590887810,
     "user_tz": -540,
     "elapsed": 415436,
     "user": {
      "displayName": "김소담",
      "userId": "17228452721668815195"
     }
    },
    "outputId": "ac7ee198-a9f5-462b-bf03-b55ef5213b5e"
   },
   "execution_count": 11,
   "outputs": [
    {
     "name": "stdout",
     "output_type": "stream",
     "text": [
      "Device used : cpu\n",
      "No early stopping will be performed, last training weights will be used.\n",
      "epoch 0  | loss: 4.28025 |  0:00:17s\n",
      "epoch 1  | loss: 2.20452 |  0:00:40s\n",
      "epoch 2  | loss: 1.704   |  0:00:57s\n",
      "epoch 3  | loss: 1.3925  |  0:01:15s\n",
      "epoch 4  | loss: 1.22133 |  0:01:31s\n",
      "epoch 5  | loss: 1.08775 |  0:01:47s\n",
      "epoch 6  | loss: 1.05976 |  0:02:04s\n",
      "epoch 7  | loss: 1.04708 |  0:02:22s\n",
      "epoch 8  | loss: 1.03525 |  0:02:38s\n",
      "epoch 9  | loss: 1.01098 |  0:02:55s\n",
      "epoch 10 | loss: 0.99055 |  0:03:13s\n",
      "epoch 11 | loss: 0.97678 |  0:03:30s\n",
      "epoch 12 | loss: 0.96681 |  0:03:47s\n",
      "epoch 13 | loss: 0.95964 |  0:04:02s\n",
      "epoch 14 | loss: 0.95438 |  0:04:17s\n",
      "epoch 15 | loss: 0.95037 |  0:04:33s\n",
      "epoch 16 | loss: 0.94805 |  0:04:50s\n",
      "epoch 17 | loss: 0.94625 |  0:05:05s\n",
      "epoch 18 | loss: 0.93837 |  0:05:20s\n",
      "epoch 19 | loss: 0.9336  |  0:05:40s\n",
      "epoch 20 | loss: 0.92915 |  0:05:56s\n",
      "epoch 21 | loss: 0.92649 |  0:06:15s\n",
      "epoch 22 | loss: 0.92034 |  0:06:30s\n",
      "epoch 23 | loss: 0.91689 |  0:06:45s\n",
      "epoch 24 | loss: 0.91249 |  0:07:01s\n",
      "epoch 25 | loss: 0.9105  |  0:07:20s\n",
      "epoch 26 | loss: 0.90756 |  0:07:35s\n",
      "epoch 27 | loss: 0.90477 |  0:07:51s\n",
      "epoch 28 | loss: 0.90315 |  0:08:05s\n",
      "epoch 29 | loss: 0.90123 |  0:08:22s\n",
      "epoch 30 | loss: 0.89986 |  0:08:46s\n",
      "epoch 31 | loss: 0.89734 |  0:09:08s\n",
      "epoch 32 | loss: 0.89633 |  0:09:29s\n",
      "epoch 33 | loss: 0.89643 |  0:09:49s\n",
      "epoch 34 | loss: 0.8945  |  0:10:04s\n",
      "epoch 35 | loss: 0.89171 |  0:10:17s\n",
      "epoch 36 | loss: 0.88852 |  0:10:32s\n",
      "epoch 37 | loss: 0.88485 |  0:10:51s\n",
      "epoch 38 | loss: 0.88212 |  0:11:10s\n",
      "epoch 39 | loss: 0.87852 |  0:11:28s\n",
      "epoch 40 | loss: 0.87179 |  0:11:44s\n",
      "epoch 41 | loss: 0.86491 |  0:12:04s\n",
      "epoch 42 | loss: 0.86139 |  0:12:23s\n",
      "epoch 43 | loss: 0.85953 |  0:12:44s\n",
      "epoch 44 | loss: 0.85712 |  0:13:05s\n",
      "epoch 45 | loss: 0.85585 |  0:13:27s\n",
      "epoch 46 | loss: 0.85405 |  0:13:46s\n",
      "epoch 47 | loss: 0.85108 |  0:14:03s\n",
      "epoch 48 | loss: 0.85066 |  0:14:27s\n",
      "epoch 49 | loss: 0.85013 |  0:14:42s\n",
      "epoch 50 | loss: 0.8483  |  0:15:01s\n",
      "epoch 51 | loss: 0.8461  |  0:15:18s\n",
      "epoch 52 | loss: 0.84328 |  0:15:33s\n",
      "epoch 53 | loss: 0.84177 |  0:15:54s\n",
      "epoch 54 | loss: 0.84074 |  0:16:11s\n",
      "epoch 55 | loss: 0.84029 |  0:16:30s\n",
      "epoch 56 | loss: 0.83661 |  0:16:50s\n",
      "epoch 57 | loss: 0.83435 |  0:17:08s\n",
      "epoch 58 | loss: 0.83333 |  0:17:25s\n",
      "epoch 59 | loss: 0.82977 |  0:17:40s\n",
      "epoch 60 | loss: 0.82934 |  0:17:56s\n",
      "epoch 61 | loss: 0.8274  |  0:18:14s\n",
      "epoch 62 | loss: 0.82611 |  0:18:31s\n",
      "epoch 63 | loss: 0.8233  |  0:18:50s\n",
      "epoch 64 | loss: 0.82227 |  0:19:07s\n",
      "epoch 65 | loss: 0.82077 |  0:19:24s\n",
      "epoch 66 | loss: 0.81804 |  0:19:44s\n",
      "epoch 67 | loss: 0.81683 |  0:19:58s\n",
      "epoch 68 | loss: 0.81628 |  0:20:11s\n",
      "epoch 69 | loss: 0.81276 |  0:20:25s\n",
      "epoch 70 | loss: 0.80351 |  0:20:42s\n",
      "epoch 71 | loss: 0.79298 |  0:21:01s\n",
      "epoch 72 | loss: 0.77991 |  0:21:19s\n",
      "epoch 73 | loss: 0.76561 |  0:21:36s\n",
      "epoch 74 | loss: 0.75177 |  0:21:53s\n",
      "epoch 75 | loss: 0.73571 |  0:22:07s\n",
      "epoch 76 | loss: 0.71988 |  0:22:21s\n",
      "epoch 77 | loss: 0.70287 |  0:22:35s\n",
      "epoch 78 | loss: 0.68399 |  0:22:49s\n",
      "epoch 79 | loss: 0.66673 |  0:23:04s\n",
      "epoch 80 | loss: 0.64661 |  0:23:18s\n",
      "epoch 81 | loss: 0.62862 |  0:23:33s\n",
      "epoch 82 | loss: 0.61033 |  0:23:47s\n",
      "epoch 83 | loss: 0.59141 |  0:24:01s\n",
      "epoch 84 | loss: 0.57267 |  0:24:14s\n",
      "epoch 85 | loss: 0.55544 |  0:24:29s\n",
      "epoch 86 | loss: 0.53735 |  0:24:43s\n",
      "epoch 87 | loss: 0.52147 |  0:24:57s\n",
      "epoch 88 | loss: 0.50684 |  0:25:14s\n",
      "epoch 89 | loss: 0.49243 |  0:25:31s\n"
     ]
    }
   ]
  },
  {
   "cell_type": "code",
   "execution_count": 14,
   "outputs": [],
   "source": [
    "from sklearn.utils.class_weight import compute_class_weight"
   ],
   "metadata": {
    "collapsed": false
   }
  },
  {
   "cell_type": "code",
   "execution_count": 15,
   "outputs": [
    {
     "data": {
      "text/plain": "array([1.14773666, 0.62167404, 1.92248539])"
     },
     "execution_count": 15,
     "metadata": {},
     "output_type": "execute_result"
    }
   ],
   "source": [
    "weights = compute_class_weight(class_weight = \"balanced\" ,\n",
    "                               classes=np.unique(y_train),\n",
    "                               y = y_train)\n",
    "\n",
    "weights"
   ],
   "metadata": {
    "collapsed": false
   }
  },
  {
   "cell_type": "code",
   "source": [
    "model = TabNetClassifier(\n",
    "    cat_idxs=cat_col_idx,\n",
    "    cat_dims=cat_col_dims,\n",
    "    cat_emb_dim=[int(round(np.sqrt(i)/4,0))+1 for i in cat_col_dims],\n",
    "    optimizer_fn=torch.optim.Adam,\n",
    "    optimizer_params=dict(lr=1e-3),\n",
    "    scheduler_params={'is_batch_level': True, 'T_0':10, 'T_mult':2, 'eta_min': 0.001},\n",
    "    scheduler_fn=torch.optim.lr_scheduler.CosineAnnealingWarmRestarts,\n",
    "    mask_type='sparsemax',\n",
    "    gamma=1.3,\n",
    "    )"
   ],
   "metadata": {
    "id": "vrzDybsCn98z"
   },
   "execution_count": 16,
   "outputs": [
    {
     "name": "stdout",
     "output_type": "stream",
     "text": [
      "Device used : cpu\n"
     ]
    }
   ]
  },
  {
   "cell_type": "code",
   "source": [
    "model.fit(\n",
    "    X_train=x_train, \n",
    "    y_train=y_train,\n",
    "    eval_set=[(x_train, y_train)],\n",
    "    eval_name=['train'],\n",
    "    eval_metric=['balanced_accuracy', 'accuracy'],\n",
    "    max_epochs=50,\n",
    "    patience=5,\n",
    "    weights=1,  # 0: no, 1: balanced, dict: customized\n",
    "    batch_size=512, \n",
    "    virtual_batch_size=128,\n",
    "    num_workers=0,\n",
    "    drop_last=False,\n",
    "    from_unsupervised=unsupervised_model,\n",
    ")"
   ],
   "metadata": {
    "colab": {
     "base_uri": "https://localhost:8080/"
    },
    "id": "_ZjME01roB5B",
    "executionInfo": {
     "status": "ok",
     "timestamp": 1668591253682,
     "user_tz": -540,
     "elapsed": 365890,
     "user": {
      "displayName": "김소담",
      "userId": "17228452721668815195"
     }
    },
    "outputId": "7fdd167a-8549-4fd3-bedc-e870ec7bd50c"
   },
   "execution_count": 18,
   "outputs": [
    {
     "name": "stdout",
     "output_type": "stream",
     "text": [
      "Loading weights from unsupervised pretraining\n",
      "epoch 0  | loss: 8.7711  | train_balanced_accuracy: 0.44558 | train_accuracy: 0.57796 |  0:00:16s\n",
      "epoch 1  | loss: 1.01365 | train_balanced_accuracy: 0.74048 | train_accuracy: 0.68984 |  0:00:32s\n",
      "epoch 2  | loss: 0.74499 | train_balanced_accuracy: 0.7387  | train_accuracy: 0.697   |  0:00:50s\n",
      "epoch 3  | loss: 0.69845 | train_balanced_accuracy: 0.74717 | train_accuracy: 0.69551 |  0:01:07s\n",
      "epoch 4  | loss: 0.66422 | train_balanced_accuracy: 0.75758 | train_accuracy: 0.71317 |  0:01:24s\n",
      "epoch 5  | loss: 0.60537 | train_balanced_accuracy: 0.77796 | train_accuracy: 0.73088 |  0:01:40s\n",
      "epoch 6  | loss: 0.55496 | train_balanced_accuracy: 0.8043  | train_accuracy: 0.76481 |  0:01:56s\n",
      "epoch 7  | loss: 0.50245 | train_balanced_accuracy: 0.82772 | train_accuracy: 0.79704 |  0:02:13s\n",
      "epoch 8  | loss: 0.45662 | train_balanced_accuracy: 0.84491 | train_accuracy: 0.81801 |  0:02:50s\n",
      "epoch 9  | loss: 0.42325 | train_balanced_accuracy: 0.86132 | train_accuracy: 0.82828 |  0:03:28s\n",
      "epoch 10 | loss: 0.39167 | train_balanced_accuracy: 0.87584 | train_accuracy: 0.83857 |  0:04:27s\n",
      "epoch 11 | loss: 0.35896 | train_balanced_accuracy: 0.88398 | train_accuracy: 0.85533 |  0:04:58s\n",
      "epoch 12 | loss: 0.33745 | train_balanced_accuracy: 0.89443 | train_accuracy: 0.85875 |  0:05:27s\n",
      "epoch 13 | loss: 0.31744 | train_balanced_accuracy: 0.89824 | train_accuracy: 0.86413 |  0:06:09s\n",
      "epoch 14 | loss: 0.2996  | train_balanced_accuracy: 0.90496 | train_accuracy: 0.87077 |  0:06:55s\n",
      "epoch 15 | loss: 0.28681 | train_balanced_accuracy: 0.90843 | train_accuracy: 0.87675 |  0:07:30s\n",
      "epoch 16 | loss: 0.27597 | train_balanced_accuracy: 0.91174 | train_accuracy: 0.87971 |  0:07:55s\n",
      "epoch 17 | loss: 0.26662 | train_balanced_accuracy: 0.91509 | train_accuracy: 0.88132 |  0:08:21s\n",
      "epoch 18 | loss: 0.25701 | train_balanced_accuracy: 0.9186  | train_accuracy: 0.88512 |  0:08:49s\n",
      "epoch 19 | loss: 0.25092 | train_balanced_accuracy: 0.91959 | train_accuracy: 0.88636 |  0:09:19s\n",
      "epoch 20 | loss: 0.24106 | train_balanced_accuracy: 0.92283 | train_accuracy: 0.88947 |  0:09:43s\n",
      "epoch 21 | loss: 0.23894 | train_balanced_accuracy: 0.92555 | train_accuracy: 0.89193 |  0:10:00s\n",
      "epoch 22 | loss: 0.23207 | train_balanced_accuracy: 0.92694 | train_accuracy: 0.89092 |  0:10:16s\n",
      "epoch 23 | loss: 0.22596 | train_balanced_accuracy: 0.92508 | train_accuracy: 0.89151 |  0:10:33s\n",
      "epoch 24 | loss: 0.21971 | train_balanced_accuracy: 0.92982 | train_accuracy: 0.89615 |  0:10:48s\n",
      "epoch 25 | loss: 0.22114 | train_balanced_accuracy: 0.93018 | train_accuracy: 0.89936 |  0:11:05s\n",
      "epoch 26 | loss: 0.21844 | train_balanced_accuracy: 0.93171 | train_accuracy: 0.89604 |  0:11:21s\n",
      "epoch 27 | loss: 0.21066 | train_balanced_accuracy: 0.93274 | train_accuracy: 0.89971 |  0:11:37s\n",
      "epoch 28 | loss: 0.21035 | train_balanced_accuracy: 0.93258 | train_accuracy: 0.89787 |  0:11:52s\n",
      "epoch 29 | loss: 0.20507 | train_balanced_accuracy: 0.93506 | train_accuracy: 0.90092 |  0:12:08s\n",
      "epoch 30 | loss: 0.20555 | train_balanced_accuracy: 0.93492 | train_accuracy: 0.90361 |  0:12:24s\n",
      "epoch 31 | loss: 0.19917 | train_balanced_accuracy: 0.93568 | train_accuracy: 0.90416 |  0:13:23s\n",
      "epoch 32 | loss: 0.20012 | train_balanced_accuracy: 0.9375  | train_accuracy: 0.90457 |  0:13:47s\n",
      "epoch 33 | loss: 0.20099 | train_balanced_accuracy: 0.93709 | train_accuracy: 0.90332 |  0:14:05s\n",
      "epoch 34 | loss: 0.19836 | train_balanced_accuracy: 0.93703 | train_accuracy: 0.90304 |  0:14:46s\n",
      "epoch 35 | loss: 0.19085 | train_balanced_accuracy: 0.93834 | train_accuracy: 0.90668 |  0:15:18s\n",
      "epoch 36 | loss: 0.19192 | train_balanced_accuracy: 0.93827 | train_accuracy: 0.90468 |  0:15:41s\n",
      "epoch 37 | loss: 0.18887 | train_balanced_accuracy: 0.93849 | train_accuracy: 0.90947 |  0:16:12s\n",
      "epoch 38 | loss: 0.18759 | train_balanced_accuracy: 0.94084 | train_accuracy: 0.90984 |  0:16:44s\n",
      "epoch 39 | loss: 0.18861 | train_balanced_accuracy: 0.94101 | train_accuracy: 0.90943 |  0:17:10s\n",
      "epoch 40 | loss: 0.18185 | train_balanced_accuracy: 0.9414  | train_accuracy: 0.90967 |  0:17:27s\n",
      "epoch 41 | loss: 0.18492 | train_balanced_accuracy: 0.94131 | train_accuracy: 0.91297 |  0:17:39s\n",
      "epoch 42 | loss: 0.18184 | train_balanced_accuracy: 0.94299 | train_accuracy: 0.91295 |  0:17:50s\n",
      "epoch 43 | loss: 0.18049 | train_balanced_accuracy: 0.94169 | train_accuracy: 0.90911 |  0:18:02s\n",
      "epoch 44 | loss: 0.17618 | train_balanced_accuracy: 0.94313 | train_accuracy: 0.91496 |  0:18:14s\n",
      "epoch 45 | loss: 0.17509 | train_balanced_accuracy: 0.94379 | train_accuracy: 0.91371 |  0:18:32s\n",
      "epoch 46 | loss: 0.17365 | train_balanced_accuracy: 0.94278 | train_accuracy: 0.90992 |  0:18:51s\n",
      "epoch 47 | loss: 0.17338 | train_balanced_accuracy: 0.94377 | train_accuracy: 0.91432 |  0:19:09s\n",
      "epoch 48 | loss: 0.17173 | train_balanced_accuracy: 0.94562 | train_accuracy: 0.91701 |  0:19:21s\n",
      "epoch 49 | loss: 0.16831 | train_balanced_accuracy: 0.94609 | train_accuracy: 0.91915 |  0:19:34s\n",
      "Stop training because you reached max_epochs = 50 with best_epoch = 49 and best_train_accuracy = 0.91915\n",
      "Best weights from best epoch are automatically used!\n"
     ]
    }
   ]
  },
  {
   "cell_type": "markdown",
   "source": [
    "# Result"
   ],
   "metadata": {
    "id": "Ynfh6u0z8CsR"
   }
  },
  {
   "cell_type": "code",
   "execution_count": 19,
   "outputs": [],
   "source": [
    "from sklearn.metrics import classification_report"
   ],
   "metadata": {
    "collapsed": false
   }
  },
  {
   "cell_type": "code",
   "source": [
    "for i in range(len(all_col_list)):\n",
    "    print(all_col_list[i], ': ', model.feature_importances_.round(3)[i])"
   ],
   "metadata": {
    "colab": {
     "base_uri": "https://localhost:8080/"
    },
    "id": "vTyrnBRPYiG7",
    "executionInfo": {
     "status": "ok",
     "timestamp": 1668591253683,
     "user_tz": -540,
     "elapsed": 26,
     "user": {
      "displayName": "김소담",
      "userId": "17228452721668815195"
     }
    },
    "outputId": "9f5d6e69-7ea2-4bc8-f6a8-114d45e2b13d"
   },
   "execution_count": 20,
   "outputs": [
    {
     "name": "stdout",
     "output_type": "stream",
     "text": [
      "Customer_ID :  0.708\n",
      "Month :  0.03\n",
      "Age :  0.001\n",
      "Monthly_Inhand_Salary :  0.017\n",
      "Num_Bank_Accounts :  0.004\n",
      "Num_Credit_Card :  0.007\n",
      "Interest_Rate :  0.024\n",
      "Num_of_Loan :  0.0\n",
      "Delay_from_due_date :  0.002\n",
      "Num_of_Delayed_Payment :  0.009\n",
      "Changed_Credit_Limit :  0.001\n",
      "Num_Credit_Inquiries :  0.015\n",
      "Credit_Mix :  0.078\n",
      "Outstanding_Debt :  0.034\n",
      "Credit_Utilization_Ratio :  0.002\n",
      "Credit_History_Age :  0.019\n",
      "Payment_of_Min_Amount :  0.011\n",
      "Total_EMI_per_month :  0.006\n",
      "Amount_invested_monthly :  0.006\n",
      "Payment_Behaviour :  0.0\n",
      "Monthly_Balance :  0.028\n"
     ]
    }
   ]
  },
  {
   "cell_type": "code",
   "execution_count": 23,
   "outputs": [
    {
     "name": "stdout",
     "output_type": "stream",
     "text": [
      "              precision    recall  f1-score   support\n",
      "\n",
      "           0       0.85      0.99      0.92     21782\n",
      "           1       0.99      0.86      0.92     40214\n",
      "           2       0.86      0.99      0.92     13004\n",
      "\n",
      "    accuracy                           0.92     75000\n",
      "   macro avg       0.90      0.95      0.92     75000\n",
      "weighted avg       0.93      0.92      0.92     75000\n",
      "\n"
     ]
    }
   ],
   "source": [
    "print(classification_report(y_true=y_train, y_pred=model.predict(x_train)))"
   ],
   "metadata": {
    "collapsed": false
   }
  },
  {
   "cell_type": "code",
   "source": [
    "# f1_score(y_train, (model.predict(x_train)))"
   ],
   "metadata": {
    "colab": {
     "base_uri": "https://localhost:8080/"
    },
    "id": "nJ9At5ReZvhi",
    "executionInfo": {
     "status": "ok",
     "timestamp": 1668591255942,
     "user_tz": -540,
     "elapsed": 2282,
     "user": {
      "displayName": "김소담",
      "userId": "17228452721668815195"
     }
    },
    "outputId": "36568c6d-4b0b-4953-e213-58385ab0d96f"
   },
   "execution_count": 26,
   "outputs": []
  },
  {
   "cell_type": "code",
   "source": [
    "predicted = model.predict(x_test)"
   ],
   "metadata": {
    "id": "X4XP3Vqw35Ad"
   },
   "execution_count": 27,
   "outputs": []
  },
  {
   "cell_type": "code",
   "source": [
    "print(f1_score(y_test, predicted, average='weighted'))\n",
    "print(accuracy_score(y_test, predicted))"
   ],
   "metadata": {
    "colab": {
     "base_uri": "https://localhost:8080/"
    },
    "id": "2SD9K3emOmJP",
    "executionInfo": {
     "status": "ok",
     "timestamp": 1668591256567,
     "user_tz": -540,
     "elapsed": 8,
     "user": {
      "displayName": "김소담",
      "userId": "17228452721668815195"
     }
    },
    "outputId": "0194775d-6cd3-48eb-96d1-7cb62a989093"
   },
   "execution_count": 28,
   "outputs": [
    {
     "name": "stdout",
     "output_type": "stream",
     "text": [
      "0.7489961247812217\n",
      "0.7496\n"
     ]
    }
   ]
  },
  {
   "cell_type": "code",
   "execution_count": 29,
   "outputs": [
    {
     "name": "stdout",
     "output_type": "stream",
     "text": [
      "              precision    recall  f1-score   support\n",
      "\n",
      "           0       0.72      0.84      0.78      7216\n",
      "           1       0.79      0.71      0.75     12960\n",
      "           2       0.71      0.73      0.72      4824\n",
      "\n",
      "    accuracy                           0.75     25000\n",
      "   macro avg       0.74      0.76      0.75     25000\n",
      "weighted avg       0.75      0.75      0.75     25000\n",
      "\n"
     ]
    }
   ],
   "source": [
    "print(classification_report(y_test, predicted))"
   ],
   "metadata": {
    "collapsed": false
   }
  },
  {
   "cell_type": "code",
   "source": [
    "print(confusion_matrix(y_test, predicted))"
   ],
   "metadata": {
    "colab": {
     "base_uri": "https://localhost:8080/"
    },
    "id": "pWA4LApeSER2",
    "executionInfo": {
     "status": "ok",
     "timestamp": 1668591256568,
     "user_tz": -540,
     "elapsed": 8,
     "user": {
      "displayName": "김소담",
      "userId": "17228452721668815195"
     }
    },
    "outputId": "a7dad3ea-1af3-49c7-85f3-62daca752694"
   },
   "execution_count": 31,
   "outputs": [
    {
     "name": "stdout",
     "output_type": "stream",
     "text": [
      "[[6055 1156    5]\n",
      " [2333 9156 1471]\n",
      " [  12 1283 3529]]\n"
     ]
    }
   ]
  },
  {
   "cell_type": "markdown",
   "source": [
    "class weight 부여 후 0과 2클래스에 대해 더 많이 맞췄음."
   ],
   "metadata": {
    "collapsed": false
   }
  },
  {
   "cell_type": "code",
   "source": [
    "explain_matrix, masks = model.explain(x_test)\n",
    "\n",
    "fig, axs = plt.subplots(1, 3, figsize=(16,10))\n",
    "for i in range(3):\n",
    "    axs[i].imshow(masks[i][:50])\n",
    "    axs[i].set_title(f\"mask {i}\")"
   ],
   "metadata": {
    "colab": {
     "base_uri": "https://localhost:8080/",
     "height": 607
    },
    "id": "3-d8GJXzzkOm",
    "executionInfo": {
     "status": "ok",
     "timestamp": 1668591258495,
     "user_tz": -540,
     "elapsed": 1932,
     "user": {
      "displayName": "김소담",
      "userId": "17228452721668815195"
     }
    },
    "outputId": "3b9b86e8-9080-47fd-9d92-f45ab9093f9a"
   },
   "execution_count": 32,
   "outputs": [
    {
     "data": {
      "text/plain": "<Figure size 1152x720 with 3 Axes>",
      "image/png": "[encoded data removed]"
     },
     "metadata": {
      "needs_background": "light"
     },
     "output_type": "display_data"
    }
   ]
  },
  {
   "cell_type": "code",
   "source": [
    "train.columns"
   ],
   "metadata": {
    "colab": {
     "base_uri": "https://localhost:8080/"
    },
    "id": "5XJ8ezvPZRoI",
    "executionInfo": {
     "status": "ok",
     "timestamp": 1668591258496,
     "user_tz": -540,
     "elapsed": 21,
     "user": {
      "displayName": "김소담",
      "userId": "17228452721668815195"
     }
    },
    "outputId": "b880b9fd-7ec4-46fa-9b3f-6edfcfa160b3"
   },
   "execution_count": 33,
   "outputs": [
    {
     "data": {
      "text/plain": "Index(['Customer_ID', 'Month', 'Age', 'Occupation', 'Monthly_Inhand_Salary',\n       'Num_Bank_Accounts', 'Num_Credit_Card', 'Interest_Rate', 'Num_of_Loan',\n       'Delay_from_due_date', 'Num_of_Delayed_Payment', 'Changed_Credit_Limit',\n       'Num_Credit_Inquiries', 'Credit_Mix', 'Outstanding_Debt',\n       'Credit_Utilization_Ratio', 'Credit_History_Age',\n       'Payment_of_Min_Amount', 'Total_EMI_per_month',\n       'Amount_invested_monthly', 'Payment_Behaviour', 'Monthly_Balance',\n       'Credit_Score'],\n      dtype='object')"
     },
     "execution_count": 33,
     "metadata": {},
     "output_type": "execute_result"
    }
   ]
  },
  {
   "cell_type": "code",
   "source": [],
   "metadata": {
    "id": "7fg1CAeps1gB"
   },
   "execution_count": null,
   "outputs": []
  }
 ]
}
