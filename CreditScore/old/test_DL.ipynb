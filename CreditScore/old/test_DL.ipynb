{
 "cells": [
  {
   "cell_type": "code",
   "execution_count": null,
   "metadata": {
    "collapsed": true
   },
   "outputs": [],
   "source": []
  },
  {
   "cell_type": "code",
   "execution_count": null,
   "outputs": [],
   "source": [],
   "metadata": {
    "collapsed": false
   }
  },
  {
   "cell_type": "markdown",
   "source": [
    "## 1. Load relevent libraries"
   ],
   "metadata": {
    "collapsed": false
   }
  },
  {
   "cell_type": "code",
   "execution_count": 1,
   "outputs": [],
   "source": [
    "import pandas as pd\n",
    "import numpy as np\n",
    "import matplotlib.pyplot as plt\n",
    "import seaborn as sns\n",
    "import os"
   ],
   "metadata": {
    "collapsed": false
   }
  },
  {
   "cell_type": "markdown",
   "source": [
    "## 2. Data Loading"
   ],
   "metadata": {
    "collapsed": false
   }
  },
  {
   "cell_type": "code",
   "execution_count": 2,
   "outputs": [],
   "source": [
    "DATA_DIR = './'\n",
    "DATA = 'cleaned_train.csv'"
   ],
   "metadata": {
    "collapsed": false
   }
  },
  {
   "cell_type": "code",
   "execution_count": 3,
   "outputs": [
    {
     "data": {
      "text/plain": "           ID  Customer_ID  Month           Name   Age          SSN  \\\n0        5634         3392      1  Aaron Maashoh  23.0  821000265.0   \n1        5635         3392      2  Aaron Maashoh  23.0  821000265.0   \n2        5636         3392      3  Aaron Maashoh  23.0  821000265.0   \n3        5637         3392      4  Aaron Maashoh  23.0  821000265.0   \n4        5638         3392      5  Aaron Maashoh  23.0  821000265.0   \n...       ...          ...    ...            ...   ...          ...   \n99995  155625        37932      4          Nicks  25.0   78735990.0   \n99996  155626        37932      5          Nicks  25.0   78735990.0   \n99997  155627        37932      6          Nicks  25.0   78735990.0   \n99998  155628        37932      7          Nicks  25.0   78735990.0   \n99999  155629        37932      8          Nicks  25.0   78735990.0   \n\n      Occupation  Annual_Income  Monthly_Inhand_Salary  Num_Bank_Accounts  \\\n0      Scientist       19114.12            1824.843333                3.0   \n1      Scientist       19114.12            1824.843333                3.0   \n2      Scientist       19114.12            1824.843333                3.0   \n3      Scientist       19114.12            1824.843333                3.0   \n4      Scientist       19114.12            1824.843333                3.0   \n...          ...            ...                    ...                ...   \n99995   Mechanic       39628.99            3359.415833                4.0   \n99996   Mechanic       39628.99            3359.415833                4.0   \n99997   Mechanic       39628.99            3359.415833                4.0   \n99998   Mechanic       39628.99            3359.415833                4.0   \n99999   Mechanic       39628.99            3359.415833                4.0   \n\n       ...  Credit_Mix  Outstanding_Debt  Credit_Utilization_Ratio  \\\n0      ...        Good            809.98                 26.822620   \n1      ...        Good            809.98                 31.944960   \n2      ...        Good            809.98                 28.609352   \n3      ...        Good            809.98                 31.377862   \n4      ...        Good            809.98                 24.797347   \n...    ...         ...               ...                       ...   \n99995  ...        Good            502.38                 34.663572   \n99996  ...        Good            502.38                 40.565631   \n99997  ...        Good            502.38                 41.255522   \n99998  ...        Good            502.38                 33.638208   \n99999  ...        Good            502.38                 34.192463   \n\n      Credit_History_Age  Payment_of_Min_Amount  Total_EMI_per_month  \\\n0                  265.0                     No            49.574949   \n1                  266.0                     No            49.574949   \n2                  267.0                     No            49.574949   \n3                  268.0                     No            49.574949   \n4                  269.0                     No            49.574949   \n...                  ...                    ...                  ...   \n99995              378.0                     No            35.104023   \n99996              379.0                     No            35.104023   \n99997              380.0                     No            35.104023   \n99998              381.0                     No            35.104023   \n99999              382.0                     No            35.104023   \n\n       Amount_invested_monthly                 Payment_Behaviour  \\\n0                    21.465380   High_spent_Small_value_payments   \n1                    21.465380    Low_spent_Large_value_payments   \n2                    21.465380   Low_spent_Medium_value_payments   \n3                    21.465380    Low_spent_Small_value_payments   \n4                    21.465380  High_spent_Medium_value_payments   \n...                        ...                               ...   \n99995                24.028477   High_spent_Large_value_payments   \n99996                24.028477  High_spent_Medium_value_payments   \n99997                24.028477   High_spent_Large_value_payments   \n99998                24.028477    Low_spent_Large_value_payments   \n99999                24.028477  High_spent_Medium_value_payments   \n\n      Monthly_Balance  Credit_Score  \n0          312.494089          Good  \n1          284.629162          Good  \n2          331.209863          Good  \n3          223.451310          Good  \n4          341.489231          Good  \n...               ...           ...  \n99995      479.866228          Poor  \n99996      496.651610          Poor  \n99997      516.809083          Poor  \n99998      319.164979      Standard  \n99999      393.673696          Poor  \n\n[100000 rows x 28 columns]",
      "text/html": "<div>\n<style scoped>\n    .dataframe tbody tr th:only-of-type {\n        vertical-align: middle;\n    }\n\n    .dataframe tbody tr th {\n        vertical-align: top;\n    }\n\n    .dataframe thead th {\n        text-align: right;\n    }\n</style>\n<table border=\"1\" class=\"dataframe\">\n  <thead>\n    <tr style=\"text-align: right;\">\n      <th></th>\n      <th>ID</th>\n      <th>Customer_ID</th>\n      <th>Month</th>\n      <th>Name</th>\n      <th>Age</th>\n      <th>SSN</th>\n      <th>Occupation</th>\n      <th>Annual_Income</th>\n      <th>Monthly_Inhand_Salary</th>\n      <th>Num_Bank_Accounts</th>\n      <th>...</th>\n      <th>Credit_Mix</th>\n      <th>Outstanding_Debt</th>\n      <th>Credit_Utilization_Ratio</th>\n      <th>Credit_History_Age</th>\n      <th>Payment_of_Min_Amount</th>\n      <th>Total_EMI_per_month</th>\n      <th>Amount_invested_monthly</th>\n      <th>Payment_Behaviour</th>\n      <th>Monthly_Balance</th>\n      <th>Credit_Score</th>\n    </tr>\n  </thead>\n  <tbody>\n    <tr>\n      <th>0</th>\n      <td>5634</td>\n      <td>3392</td>\n      <td>1</td>\n      <td>Aaron Maashoh</td>\n      <td>23.0</td>\n      <td>821000265.0</td>\n      <td>Scientist</td>\n      <td>19114.12</td>\n      <td>1824.843333</td>\n      <td>3.0</td>\n      <td>...</td>\n      <td>Good</td>\n      <td>809.98</td>\n      <td>26.822620</td>\n      <td>265.0</td>\n      <td>No</td>\n      <td>49.574949</td>\n      <td>21.465380</td>\n      <td>High_spent_Small_value_payments</td>\n      <td>312.494089</td>\n      <td>Good</td>\n    </tr>\n    <tr>\n      <th>1</th>\n      <td>5635</td>\n      <td>3392</td>\n      <td>2</td>\n      <td>Aaron Maashoh</td>\n      <td>23.0</td>\n      <td>821000265.0</td>\n      <td>Scientist</td>\n      <td>19114.12</td>\n      <td>1824.843333</td>\n      <td>3.0</td>\n      <td>...</td>\n      <td>Good</td>\n      <td>809.98</td>\n      <td>31.944960</td>\n      <td>266.0</td>\n      <td>No</td>\n      <td>49.574949</td>\n      <td>21.465380</td>\n      <td>Low_spent_Large_value_payments</td>\n      <td>284.629162</td>\n      <td>Good</td>\n    </tr>\n    <tr>\n      <th>2</th>\n      <td>5636</td>\n      <td>3392</td>\n      <td>3</td>\n      <td>Aaron Maashoh</td>\n      <td>23.0</td>\n      <td>821000265.0</td>\n      <td>Scientist</td>\n      <td>19114.12</td>\n      <td>1824.843333</td>\n      <td>3.0</td>\n      <td>...</td>\n      <td>Good</td>\n      <td>809.98</td>\n      <td>28.609352</td>\n      <td>267.0</td>\n      <td>No</td>\n      <td>49.574949</td>\n      <td>21.465380</td>\n      <td>Low_spent_Medium_value_payments</td>\n      <td>331.209863</td>\n      <td>Good</td>\n    </tr>\n    <tr>\n      <th>3</th>\n      <td>5637</td>\n      <td>3392</td>\n      <td>4</td>\n      <td>Aaron Maashoh</td>\n      <td>23.0</td>\n      <td>821000265.0</td>\n      <td>Scientist</td>\n      <td>19114.12</td>\n      <td>1824.843333</td>\n      <td>3.0</td>\n      <td>...</td>\n      <td>Good</td>\n      <td>809.98</td>\n      <td>31.377862</td>\n      <td>268.0</td>\n      <td>No</td>\n      <td>49.574949</td>\n      <td>21.465380</td>\n      <td>Low_spent_Small_value_payments</td>\n      <td>223.451310</td>\n      <td>Good</td>\n    </tr>\n    <tr>\n      <th>4</th>\n      <td>5638</td>\n      <td>3392</td>\n      <td>5</td>\n      <td>Aaron Maashoh</td>\n      <td>23.0</td>\n      <td>821000265.0</td>\n      <td>Scientist</td>\n      <td>19114.12</td>\n      <td>1824.843333</td>\n      <td>3.0</td>\n      <td>...</td>\n      <td>Good</td>\n      <td>809.98</td>\n      <td>24.797347</td>\n      <td>269.0</td>\n      <td>No</td>\n      <td>49.574949</td>\n      <td>21.465380</td>\n      <td>High_spent_Medium_value_payments</td>\n      <td>341.489231</td>\n      <td>Good</td>\n    </tr>\n    <tr>\n      <th>...</th>\n      <td>...</td>\n      <td>...</td>\n      <td>...</td>\n      <td>...</td>\n      <td>...</td>\n      <td>...</td>\n      <td>...</td>\n      <td>...</td>\n      <td>...</td>\n      <td>...</td>\n      <td>...</td>\n      <td>...</td>\n      <td>...</td>\n      <td>...</td>\n      <td>...</td>\n      <td>...</td>\n      <td>...</td>\n      <td>...</td>\n      <td>...</td>\n      <td>...</td>\n      <td>...</td>\n    </tr>\n    <tr>\n      <th>99995</th>\n      <td>155625</td>\n      <td>37932</td>\n      <td>4</td>\n      <td>Nicks</td>\n      <td>25.0</td>\n      <td>78735990.0</td>\n      <td>Mechanic</td>\n      <td>39628.99</td>\n      <td>3359.415833</td>\n      <td>4.0</td>\n      <td>...</td>\n      <td>Good</td>\n      <td>502.38</td>\n      <td>34.663572</td>\n      <td>378.0</td>\n      <td>No</td>\n      <td>35.104023</td>\n      <td>24.028477</td>\n      <td>High_spent_Large_value_payments</td>\n      <td>479.866228</td>\n      <td>Poor</td>\n    </tr>\n    <tr>\n      <th>99996</th>\n      <td>155626</td>\n      <td>37932</td>\n      <td>5</td>\n      <td>Nicks</td>\n      <td>25.0</td>\n      <td>78735990.0</td>\n      <td>Mechanic</td>\n      <td>39628.99</td>\n      <td>3359.415833</td>\n      <td>4.0</td>\n      <td>...</td>\n      <td>Good</td>\n      <td>502.38</td>\n      <td>40.565631</td>\n      <td>379.0</td>\n      <td>No</td>\n      <td>35.104023</td>\n      <td>24.028477</td>\n      <td>High_spent_Medium_value_payments</td>\n      <td>496.651610</td>\n      <td>Poor</td>\n    </tr>\n    <tr>\n      <th>99997</th>\n      <td>155627</td>\n      <td>37932</td>\n      <td>6</td>\n      <td>Nicks</td>\n      <td>25.0</td>\n      <td>78735990.0</td>\n      <td>Mechanic</td>\n      <td>39628.99</td>\n      <td>3359.415833</td>\n      <td>4.0</td>\n      <td>...</td>\n      <td>Good</td>\n      <td>502.38</td>\n      <td>41.255522</td>\n      <td>380.0</td>\n      <td>No</td>\n      <td>35.104023</td>\n      <td>24.028477</td>\n      <td>High_spent_Large_value_payments</td>\n      <td>516.809083</td>\n      <td>Poor</td>\n    </tr>\n    <tr>\n      <th>99998</th>\n      <td>155628</td>\n      <td>37932</td>\n      <td>7</td>\n      <td>Nicks</td>\n      <td>25.0</td>\n      <td>78735990.0</td>\n      <td>Mechanic</td>\n      <td>39628.99</td>\n      <td>3359.415833</td>\n      <td>4.0</td>\n      <td>...</td>\n      <td>Good</td>\n      <td>502.38</td>\n      <td>33.638208</td>\n      <td>381.0</td>\n      <td>No</td>\n      <td>35.104023</td>\n      <td>24.028477</td>\n      <td>Low_spent_Large_value_payments</td>\n      <td>319.164979</td>\n      <td>Standard</td>\n    </tr>\n    <tr>\n      <th>99999</th>\n      <td>155629</td>\n      <td>37932</td>\n      <td>8</td>\n      <td>Nicks</td>\n      <td>25.0</td>\n      <td>78735990.0</td>\n      <td>Mechanic</td>\n      <td>39628.99</td>\n      <td>3359.415833</td>\n      <td>4.0</td>\n      <td>...</td>\n      <td>Good</td>\n      <td>502.38</td>\n      <td>34.192463</td>\n      <td>382.0</td>\n      <td>No</td>\n      <td>35.104023</td>\n      <td>24.028477</td>\n      <td>High_spent_Medium_value_payments</td>\n      <td>393.673696</td>\n      <td>Poor</td>\n    </tr>\n  </tbody>\n</table>\n<p>100000 rows × 28 columns</p>\n</div>"
     },
     "execution_count": 3,
     "metadata": {},
     "output_type": "execute_result"
    }
   ],
   "source": [
    "df = pd.read_csv(os.path.join(DATA_DIR, DATA))\n",
    "df"
   ],
   "metadata": {
    "collapsed": false
   }
  },
  {
   "cell_type": "markdown",
   "source": [
    "## 3. Cleaning Process I"
   ],
   "metadata": {
    "collapsed": false
   }
  },
  {
   "cell_type": "markdown",
   "source": [
    "### - 중복 컬럼 제거"
   ],
   "metadata": {
    "collapsed": false
   }
  },
  {
   "cell_type": "code",
   "execution_count": 4,
   "outputs": [],
   "source": [
    "drop_cols = ['Name', 'SSN']\n",
    "cleaned_df = df.drop(drop_cols, axis=1)"
   ],
   "metadata": {
    "collapsed": false
   }
  },
  {
   "cell_type": "markdown",
   "source": [
    "### - 대출 상품 리스트 분리"
   ],
   "metadata": {
    "collapsed": false
   }
  },
  {
   "cell_type": "code",
   "execution_count": 5,
   "outputs": [
    {
     "data": {
      "text/plain": "'Credit-Builder Loan'"
     },
     "execution_count": 5,
     "metadata": {},
     "output_type": "execute_result"
    }
   ],
   "source": [
    "cleaned_df['Type_of_Loan'][9]"
   ],
   "metadata": {
    "collapsed": false
   }
  },
  {
   "cell_type": "code",
   "execution_count": 6,
   "outputs": [
    {
     "data": {
      "text/plain": "0        [Auto Loan,  Credit-Builder Loan,  Personal Lo...\n1        [Auto Loan,  Credit-Builder Loan,  Personal Lo...\n2        [Auto Loan,  Credit-Builder Loan,  Personal Lo...\n3        [Auto Loan,  Credit-Builder Loan,  Personal Lo...\n4        [Auto Loan,  Credit-Builder Loan,  Personal Lo...\n                               ...                        \n99995                       [Auto Loan,  and Student Loan]\n99996                       [Auto Loan,  and Student Loan]\n99997                       [Auto Loan,  and Student Loan]\n99998                       [Auto Loan,  and Student Loan]\n99999                       [Auto Loan,  and Student Loan]\nName: Type_of_Loan, Length: 100000, dtype: object"
     },
     "execution_count": 6,
     "metadata": {},
     "output_type": "execute_result"
    }
   ],
   "source": [
    "cleaned_df['Type_of_Loan'].str.split(',')"
   ],
   "metadata": {
    "collapsed": false
   }
  },
  {
   "cell_type": "code",
   "execution_count": 7,
   "outputs": [],
   "source": [
    "import re"
   ],
   "metadata": {
    "collapsed": false
   }
  },
  {
   "cell_type": "code",
   "execution_count": 8,
   "outputs": [],
   "source": [
    "search = ' and '\n",
    "space = ' '"
   ],
   "metadata": {
    "collapsed": false
   }
  },
  {
   "cell_type": "code",
   "execution_count": 9,
   "outputs": [],
   "source": [
    "def search_and_remove(li, search_word):\n",
    "\n",
    "    for i, word in enumerate(li):\n",
    "        if search_word in word:\n",
    "            li[i] = re.sub(search_word, '', word)\n",
    "            # li[i] = re.sub(space, '', word)\n",
    "        # else:\n",
    "            # li[i] = re.sub(space, '', word)\n",
    "    return li\n",
    "\n",
    "def white_space_remover(li, ws):\n",
    "\n",
    "    for i, word in enumerate(li):\n",
    "        if ws in word:\n",
    "            li[i] = re.sub(ws, '', word)\n",
    "    return li"
   ],
   "metadata": {
    "collapsed": false
   }
  },
  {
   "cell_type": "code",
   "execution_count": 10,
   "outputs": [
    {
     "data": {
      "text/plain": "['Auto Loan', 'Credit-Builder Loan', 'Personal Loan', 'Home Equity Loan']"
     },
     "execution_count": 10,
     "metadata": {},
     "output_type": "execute_result"
    }
   ],
   "source": [
    "search_and_remove(['Auto Loan',  'Credit-Builder Loan',  'Personal Loan',  ' and Home Equity Loan'], search)"
   ],
   "metadata": {
    "collapsed": false
   }
  },
  {
   "cell_type": "code",
   "execution_count": 11,
   "outputs": [],
   "source": [
    "cleaned_df['Type_of_Loan'] = cleaned_df['Type_of_Loan'].str.split(',').apply(lambda x :  search_and_remove(x, search))\n",
    "cleaned_df['Type_of_Loan'] = cleaned_df['Type_of_Loan'].apply(lambda x :  white_space_remover(x, space))"
   ],
   "metadata": {
    "collapsed": false
   }
  },
  {
   "cell_type": "code",
   "execution_count": 12,
   "outputs": [
    {
     "data": {
      "text/plain": "0        [AutoLoan, Credit-BuilderLoan, PersonalLoan, H...\n1        [AutoLoan, Credit-BuilderLoan, PersonalLoan, H...\n2        [AutoLoan, Credit-BuilderLoan, PersonalLoan, H...\n3        [AutoLoan, Credit-BuilderLoan, PersonalLoan, H...\n4        [AutoLoan, Credit-BuilderLoan, PersonalLoan, H...\n                               ...                        \n99995                              [AutoLoan, StudentLoan]\n99996                              [AutoLoan, StudentLoan]\n99997                              [AutoLoan, StudentLoan]\n99998                              [AutoLoan, StudentLoan]\n99999                              [AutoLoan, StudentLoan]\nName: Type_of_Loan, Length: 100000, dtype: object"
     },
     "execution_count": 12,
     "metadata": {},
     "output_type": "execute_result"
    }
   ],
   "source": [
    "cleaned_df['Type_of_Loan']"
   ],
   "metadata": {
    "collapsed": false
   }
  },
  {
   "cell_type": "code",
   "execution_count": 13,
   "outputs": [
    {
     "data": {
      "text/plain": "['AutoLoan', 'Credit-BuilderLoan', 'PersonalLoan', 'HomeEquityLoan']"
     },
     "execution_count": 13,
     "metadata": {},
     "output_type": "execute_result"
    }
   ],
   "source": [
    "cleaned_df['Type_of_Loan'][0]"
   ],
   "metadata": {
    "collapsed": false
   }
  },
  {
   "cell_type": "code",
   "execution_count": 14,
   "outputs": [],
   "source": [
    "type_of_loans = cleaned_df['Type_of_Loan']"
   ],
   "metadata": {
    "collapsed": false
   }
  },
  {
   "cell_type": "code",
   "execution_count": 15,
   "outputs": [
    {
     "data": {
      "text/plain": "0      0    1\n       1    1\n       2    1\n       3    1\n1      0    1\n           ..\n99997  1    1\n99998  0    1\n       1    1\n99999  0    1\n       1    1\nLength: 364696, dtype: int64"
     },
     "execution_count": 15,
     "metadata": {},
     "output_type": "execute_result"
    }
   ],
   "source": [
    "pd.get_dummies(type_of_loans.apply(pd.Series).stack()).sum(axis=1)"
   ],
   "metadata": {
    "collapsed": false
   }
  },
  {
   "cell_type": "code",
   "execution_count": 16,
   "outputs": [
    {
     "name": "stderr",
     "output_type": "stream",
     "text": [
      "/var/folders/rm/1g600byx25b_ht2r9ty6b4_00000gn/T/ipykernel_25802/4009385760.py:2: FutureWarning: Using the level keyword in DataFrame and Series aggregations is deprecated and will be removed in a future version. Use groupby instead. df.sum(level=1) should use df.groupby(level=1).sum().\n",
      "  loan_dummy_df = pd.get_dummies(type_of_loans.apply(pd.Series).stack()).sum(level=0)\n"
     ]
    },
    {
     "data": {
      "text/plain": "       AutoLoan  Credit-BuilderLoan  DebtConsolidationLoan  HomeEquityLoan  \\\n0             1                   1                      0               1   \n1             1                   1                      0               1   \n2             1                   1                      0               1   \n3             1                   1                      0               1   \n4             1                   1                      0               1   \n...         ...                 ...                    ...             ...   \n99995         1                   0                      0               0   \n99996         1                   0                      0               0   \n99997         1                   0                      0               0   \n99998         1                   0                      0               0   \n99999         1                   0                      0               0   \n\n       MortgageLoan  NoData  NotSpecified  PaydayLoan  PersonalLoan  \\\n0                 0       0             0           0             1   \n1                 0       0             0           0             1   \n2                 0       0             0           0             1   \n3                 0       0             0           0             1   \n4                 0       0             0           0             1   \n...             ...     ...           ...         ...           ...   \n99995             0       0             0           0             0   \n99996             0       0             0           0             0   \n99997             0       0             0           0             0   \n99998             0       0             0           0             0   \n99999             0       0             0           0             0   \n\n       StudentLoan  \n0                0  \n1                0  \n2                0  \n3                0  \n4                0  \n...            ...  \n99995            1  \n99996            1  \n99997            1  \n99998            1  \n99999            1  \n\n[100000 rows x 10 columns]",
      "text/html": "<div>\n<style scoped>\n    .dataframe tbody tr th:only-of-type {\n        vertical-align: middle;\n    }\n\n    .dataframe tbody tr th {\n        vertical-align: top;\n    }\n\n    .dataframe thead th {\n        text-align: right;\n    }\n</style>\n<table border=\"1\" class=\"dataframe\">\n  <thead>\n    <tr style=\"text-align: right;\">\n      <th></th>\n      <th>AutoLoan</th>\n      <th>Credit-BuilderLoan</th>\n      <th>DebtConsolidationLoan</th>\n      <th>HomeEquityLoan</th>\n      <th>MortgageLoan</th>\n      <th>NoData</th>\n      <th>NotSpecified</th>\n      <th>PaydayLoan</th>\n      <th>PersonalLoan</th>\n      <th>StudentLoan</th>\n    </tr>\n  </thead>\n  <tbody>\n    <tr>\n      <th>0</th>\n      <td>1</td>\n      <td>1</td>\n      <td>0</td>\n      <td>1</td>\n      <td>0</td>\n      <td>0</td>\n      <td>0</td>\n      <td>0</td>\n      <td>1</td>\n      <td>0</td>\n    </tr>\n    <tr>\n      <th>1</th>\n      <td>1</td>\n      <td>1</td>\n      <td>0</td>\n      <td>1</td>\n      <td>0</td>\n      <td>0</td>\n      <td>0</td>\n      <td>0</td>\n      <td>1</td>\n      <td>0</td>\n    </tr>\n    <tr>\n      <th>2</th>\n      <td>1</td>\n      <td>1</td>\n      <td>0</td>\n      <td>1</td>\n      <td>0</td>\n      <td>0</td>\n      <td>0</td>\n      <td>0</td>\n      <td>1</td>\n      <td>0</td>\n    </tr>\n    <tr>\n      <th>3</th>\n      <td>1</td>\n      <td>1</td>\n      <td>0</td>\n      <td>1</td>\n      <td>0</td>\n      <td>0</td>\n      <td>0</td>\n      <td>0</td>\n      <td>1</td>\n      <td>0</td>\n    </tr>\n    <tr>\n      <th>4</th>\n      <td>1</td>\n      <td>1</td>\n      <td>0</td>\n      <td>1</td>\n      <td>0</td>\n      <td>0</td>\n      <td>0</td>\n      <td>0</td>\n      <td>1</td>\n      <td>0</td>\n    </tr>\n    <tr>\n      <th>...</th>\n      <td>...</td>\n      <td>...</td>\n      <td>...</td>\n      <td>...</td>\n      <td>...</td>\n      <td>...</td>\n      <td>...</td>\n      <td>...</td>\n      <td>...</td>\n      <td>...</td>\n    </tr>\n    <tr>\n      <th>99995</th>\n      <td>1</td>\n      <td>0</td>\n      <td>0</td>\n      <td>0</td>\n      <td>0</td>\n      <td>0</td>\n      <td>0</td>\n      <td>0</td>\n      <td>0</td>\n      <td>1</td>\n    </tr>\n    <tr>\n      <th>99996</th>\n      <td>1</td>\n      <td>0</td>\n      <td>0</td>\n      <td>0</td>\n      <td>0</td>\n      <td>0</td>\n      <td>0</td>\n      <td>0</td>\n      <td>0</td>\n      <td>1</td>\n    </tr>\n    <tr>\n      <th>99997</th>\n      <td>1</td>\n      <td>0</td>\n      <td>0</td>\n      <td>0</td>\n      <td>0</td>\n      <td>0</td>\n      <td>0</td>\n      <td>0</td>\n      <td>0</td>\n      <td>1</td>\n    </tr>\n    <tr>\n      <th>99998</th>\n      <td>1</td>\n      <td>0</td>\n      <td>0</td>\n      <td>0</td>\n      <td>0</td>\n      <td>0</td>\n      <td>0</td>\n      <td>0</td>\n      <td>0</td>\n      <td>1</td>\n    </tr>\n    <tr>\n      <th>99999</th>\n      <td>1</td>\n      <td>0</td>\n      <td>0</td>\n      <td>0</td>\n      <td>0</td>\n      <td>0</td>\n      <td>0</td>\n      <td>0</td>\n      <td>0</td>\n      <td>1</td>\n    </tr>\n  </tbody>\n</table>\n<p>100000 rows × 10 columns</p>\n</div>"
     },
     "execution_count": 16,
     "metadata": {},
     "output_type": "execute_result"
    }
   ],
   "source": [
    "# OHE for Loan Types\n",
    "loan_dummy_df = pd.get_dummies(type_of_loans.apply(pd.Series).stack()).sum(level=0)\n",
    "loan_dummy_df"
   ],
   "metadata": {
    "collapsed": false
   }
  },
  {
   "cell_type": "code",
   "execution_count": 17,
   "outputs": [
    {
     "data": {
      "text/plain": "           ID  Customer_ID  Month   Age Occupation  Annual_Income  \\\n0        5634         3392      1  23.0  Scientist       19114.12   \n1        5635         3392      2  23.0  Scientist       19114.12   \n2        5636         3392      3  23.0  Scientist       19114.12   \n3        5637         3392      4  23.0  Scientist       19114.12   \n4        5638         3392      5  23.0  Scientist       19114.12   \n...       ...          ...    ...   ...        ...            ...   \n99995  155625        37932      4  25.0   Mechanic       39628.99   \n99996  155626        37932      5  25.0   Mechanic       39628.99   \n99997  155627        37932      6  25.0   Mechanic       39628.99   \n99998  155628        37932      7  25.0   Mechanic       39628.99   \n99999  155629        37932      8  25.0   Mechanic       39628.99   \n\n       Monthly_Inhand_Salary  Num_Bank_Accounts  Num_Credit_Card  \\\n0                1824.843333                3.0              4.0   \n1                1824.843333                3.0              4.0   \n2                1824.843333                3.0              4.0   \n3                1824.843333                3.0              4.0   \n4                1824.843333                3.0              4.0   \n...                      ...                ...              ...   \n99995            3359.415833                4.0              6.0   \n99996            3359.415833                4.0              6.0   \n99997            3359.415833                4.0              6.0   \n99998            3359.415833                4.0              6.0   \n99999            3359.415833                4.0              6.0   \n\n       Interest_Rate  ...  AutoLoan Credit-BuilderLoan  DebtConsolidationLoan  \\\n0                3.0  ...         1                  1                      0   \n1                3.0  ...         1                  1                      0   \n2                3.0  ...         1                  1                      0   \n3                3.0  ...         1                  1                      0   \n4                3.0  ...         1                  1                      0   \n...              ...  ...       ...                ...                    ...   \n99995            7.0  ...         1                  0                      0   \n99996            7.0  ...         1                  0                      0   \n99997            7.0  ...         1                  0                      0   \n99998            7.0  ...         1                  0                      0   \n99999            7.0  ...         1                  0                      0   \n\n       HomeEquityLoan  MortgageLoan  NoData NotSpecified  PaydayLoan  \\\n0                   1             0       0            0           0   \n1                   1             0       0            0           0   \n2                   1             0       0            0           0   \n3                   1             0       0            0           0   \n4                   1             0       0            0           0   \n...               ...           ...     ...          ...         ...   \n99995               0             0       0            0           0   \n99996               0             0       0            0           0   \n99997               0             0       0            0           0   \n99998               0             0       0            0           0   \n99999               0             0       0            0           0   \n\n       PersonalLoan  StudentLoan  \n0                 1            0  \n1                 1            0  \n2                 1            0  \n3                 1            0  \n4                 1            0  \n...             ...          ...  \n99995             0            1  \n99996             0            1  \n99997             0            1  \n99998             0            1  \n99999             0            1  \n\n[100000 rows x 36 columns]",
      "text/html": "<div>\n<style scoped>\n    .dataframe tbody tr th:only-of-type {\n        vertical-align: middle;\n    }\n\n    .dataframe tbody tr th {\n        vertical-align: top;\n    }\n\n    .dataframe thead th {\n        text-align: right;\n    }\n</style>\n<table border=\"1\" class=\"dataframe\">\n  <thead>\n    <tr style=\"text-align: right;\">\n      <th></th>\n      <th>ID</th>\n      <th>Customer_ID</th>\n      <th>Month</th>\n      <th>Age</th>\n      <th>Occupation</th>\n      <th>Annual_Income</th>\n      <th>Monthly_Inhand_Salary</th>\n      <th>Num_Bank_Accounts</th>\n      <th>Num_Credit_Card</th>\n      <th>Interest_Rate</th>\n      <th>...</th>\n      <th>AutoLoan</th>\n      <th>Credit-BuilderLoan</th>\n      <th>DebtConsolidationLoan</th>\n      <th>HomeEquityLoan</th>\n      <th>MortgageLoan</th>\n      <th>NoData</th>\n      <th>NotSpecified</th>\n      <th>PaydayLoan</th>\n      <th>PersonalLoan</th>\n      <th>StudentLoan</th>\n    </tr>\n  </thead>\n  <tbody>\n    <tr>\n      <th>0</th>\n      <td>5634</td>\n      <td>3392</td>\n      <td>1</td>\n      <td>23.0</td>\n      <td>Scientist</td>\n      <td>19114.12</td>\n      <td>1824.843333</td>\n      <td>3.0</td>\n      <td>4.0</td>\n      <td>3.0</td>\n      <td>...</td>\n      <td>1</td>\n      <td>1</td>\n      <td>0</td>\n      <td>1</td>\n      <td>0</td>\n      <td>0</td>\n      <td>0</td>\n      <td>0</td>\n      <td>1</td>\n      <td>0</td>\n    </tr>\n    <tr>\n      <th>1</th>\n      <td>5635</td>\n      <td>3392</td>\n      <td>2</td>\n      <td>23.0</td>\n      <td>Scientist</td>\n      <td>19114.12</td>\n      <td>1824.843333</td>\n      <td>3.0</td>\n      <td>4.0</td>\n      <td>3.0</td>\n      <td>...</td>\n      <td>1</td>\n      <td>1</td>\n      <td>0</td>\n      <td>1</td>\n      <td>0</td>\n      <td>0</td>\n      <td>0</td>\n      <td>0</td>\n      <td>1</td>\n      <td>0</td>\n    </tr>\n    <tr>\n      <th>2</th>\n      <td>5636</td>\n      <td>3392</td>\n      <td>3</td>\n      <td>23.0</td>\n      <td>Scientist</td>\n      <td>19114.12</td>\n      <td>1824.843333</td>\n      <td>3.0</td>\n      <td>4.0</td>\n      <td>3.0</td>\n      <td>...</td>\n      <td>1</td>\n      <td>1</td>\n      <td>0</td>\n      <td>1</td>\n      <td>0</td>\n      <td>0</td>\n      <td>0</td>\n      <td>0</td>\n      <td>1</td>\n      <td>0</td>\n    </tr>\n    <tr>\n      <th>3</th>\n      <td>5637</td>\n      <td>3392</td>\n      <td>4</td>\n      <td>23.0</td>\n      <td>Scientist</td>\n      <td>19114.12</td>\n      <td>1824.843333</td>\n      <td>3.0</td>\n      <td>4.0</td>\n      <td>3.0</td>\n      <td>...</td>\n      <td>1</td>\n      <td>1</td>\n      <td>0</td>\n      <td>1</td>\n      <td>0</td>\n      <td>0</td>\n      <td>0</td>\n      <td>0</td>\n      <td>1</td>\n      <td>0</td>\n    </tr>\n    <tr>\n      <th>4</th>\n      <td>5638</td>\n      <td>3392</td>\n      <td>5</td>\n      <td>23.0</td>\n      <td>Scientist</td>\n      <td>19114.12</td>\n      <td>1824.843333</td>\n      <td>3.0</td>\n      <td>4.0</td>\n      <td>3.0</td>\n      <td>...</td>\n      <td>1</td>\n      <td>1</td>\n      <td>0</td>\n      <td>1</td>\n      <td>0</td>\n      <td>0</td>\n      <td>0</td>\n      <td>0</td>\n      <td>1</td>\n      <td>0</td>\n    </tr>\n    <tr>\n      <th>...</th>\n      <td>...</td>\n      <td>...</td>\n      <td>...</td>\n      <td>...</td>\n      <td>...</td>\n      <td>...</td>\n      <td>...</td>\n      <td>...</td>\n      <td>...</td>\n      <td>...</td>\n      <td>...</td>\n      <td>...</td>\n      <td>...</td>\n      <td>...</td>\n      <td>...</td>\n      <td>...</td>\n      <td>...</td>\n      <td>...</td>\n      <td>...</td>\n      <td>...</td>\n      <td>...</td>\n    </tr>\n    <tr>\n      <th>99995</th>\n      <td>155625</td>\n      <td>37932</td>\n      <td>4</td>\n      <td>25.0</td>\n      <td>Mechanic</td>\n      <td>39628.99</td>\n      <td>3359.415833</td>\n      <td>4.0</td>\n      <td>6.0</td>\n      <td>7.0</td>\n      <td>...</td>\n      <td>1</td>\n      <td>0</td>\n      <td>0</td>\n      <td>0</td>\n      <td>0</td>\n      <td>0</td>\n      <td>0</td>\n      <td>0</td>\n      <td>0</td>\n      <td>1</td>\n    </tr>\n    <tr>\n      <th>99996</th>\n      <td>155626</td>\n      <td>37932</td>\n      <td>5</td>\n      <td>25.0</td>\n      <td>Mechanic</td>\n      <td>39628.99</td>\n      <td>3359.415833</td>\n      <td>4.0</td>\n      <td>6.0</td>\n      <td>7.0</td>\n      <td>...</td>\n      <td>1</td>\n      <td>0</td>\n      <td>0</td>\n      <td>0</td>\n      <td>0</td>\n      <td>0</td>\n      <td>0</td>\n      <td>0</td>\n      <td>0</td>\n      <td>1</td>\n    </tr>\n    <tr>\n      <th>99997</th>\n      <td>155627</td>\n      <td>37932</td>\n      <td>6</td>\n      <td>25.0</td>\n      <td>Mechanic</td>\n      <td>39628.99</td>\n      <td>3359.415833</td>\n      <td>4.0</td>\n      <td>6.0</td>\n      <td>7.0</td>\n      <td>...</td>\n      <td>1</td>\n      <td>0</td>\n      <td>0</td>\n      <td>0</td>\n      <td>0</td>\n      <td>0</td>\n      <td>0</td>\n      <td>0</td>\n      <td>0</td>\n      <td>1</td>\n    </tr>\n    <tr>\n      <th>99998</th>\n      <td>155628</td>\n      <td>37932</td>\n      <td>7</td>\n      <td>25.0</td>\n      <td>Mechanic</td>\n      <td>39628.99</td>\n      <td>3359.415833</td>\n      <td>4.0</td>\n      <td>6.0</td>\n      <td>7.0</td>\n      <td>...</td>\n      <td>1</td>\n      <td>0</td>\n      <td>0</td>\n      <td>0</td>\n      <td>0</td>\n      <td>0</td>\n      <td>0</td>\n      <td>0</td>\n      <td>0</td>\n      <td>1</td>\n    </tr>\n    <tr>\n      <th>99999</th>\n      <td>155629</td>\n      <td>37932</td>\n      <td>8</td>\n      <td>25.0</td>\n      <td>Mechanic</td>\n      <td>39628.99</td>\n      <td>3359.415833</td>\n      <td>4.0</td>\n      <td>6.0</td>\n      <td>7.0</td>\n      <td>...</td>\n      <td>1</td>\n      <td>0</td>\n      <td>0</td>\n      <td>0</td>\n      <td>0</td>\n      <td>0</td>\n      <td>0</td>\n      <td>0</td>\n      <td>0</td>\n      <td>1</td>\n    </tr>\n  </tbody>\n</table>\n<p>100000 rows × 36 columns</p>\n</div>"
     },
     "execution_count": 17,
     "metadata": {},
     "output_type": "execute_result"
    }
   ],
   "source": [
    "# OHE 연결\n",
    "cleaned_df = pd.concat([cleaned_df, loan_dummy_df], axis=1)\n",
    "cleaned_df"
   ],
   "metadata": {
    "collapsed": false
   }
  },
  {
   "cell_type": "code",
   "execution_count": 18,
   "outputs": [
    {
     "data": {
      "text/plain": "['ID',\n 'Customer_ID',\n 'Month',\n 'Age',\n 'Occupation',\n 'Annual_Income',\n 'Monthly_Inhand_Salary',\n 'Num_Bank_Accounts',\n 'Num_Credit_Card',\n 'Interest_Rate',\n 'Num_of_Loan',\n 'Type_of_Loan',\n 'Delay_from_due_date',\n 'Num_of_Delayed_Payment',\n 'Changed_Credit_Limit',\n 'Num_Credit_Inquiries',\n 'Credit_Mix',\n 'Outstanding_Debt',\n 'Credit_Utilization_Ratio',\n 'Credit_History_Age',\n 'Payment_of_Min_Amount',\n 'Total_EMI_per_month',\n 'Amount_invested_monthly',\n 'Payment_Behaviour',\n 'Monthly_Balance',\n 'AutoLoan',\n 'Credit-BuilderLoan',\n 'DebtConsolidationLoan',\n 'HomeEquityLoan',\n 'MortgageLoan',\n 'NoData',\n 'NotSpecified',\n 'PaydayLoan',\n 'PersonalLoan',\n 'StudentLoan',\n 'Credit_Score']"
     },
     "execution_count": 18,
     "metadata": {},
     "output_type": "execute_result"
    }
   ],
   "source": [
    "# cleaned_df = pd.concat([cleaned_df, loan_dummy_df], axis=1)\n",
    "cols = cleaned_df.columns.tolist()\n",
    "y_index = cols.index('Credit_Score')\n",
    "new_cols = cols[:y_index] + cols[y_index + 1: ] + cols[y_index].split()\n",
    "new_cols"
   ],
   "metadata": {
    "collapsed": false
   }
  },
  {
   "cell_type": "code",
   "execution_count": 19,
   "outputs": [
    {
     "data": {
      "text/plain": "           ID  Customer_ID  Month   Age Occupation  Annual_Income  \\\n0        5634         3392      1  23.0  Scientist       19114.12   \n1        5635         3392      2  23.0  Scientist       19114.12   \n2        5636         3392      3  23.0  Scientist       19114.12   \n3        5637         3392      4  23.0  Scientist       19114.12   \n4        5638         3392      5  23.0  Scientist       19114.12   \n...       ...          ...    ...   ...        ...            ...   \n99995  155625        37932      4  25.0   Mechanic       39628.99   \n99996  155626        37932      5  25.0   Mechanic       39628.99   \n99997  155627        37932      6  25.0   Mechanic       39628.99   \n99998  155628        37932      7  25.0   Mechanic       39628.99   \n99999  155629        37932      8  25.0   Mechanic       39628.99   \n\n       Monthly_Inhand_Salary  Num_Bank_Accounts  Num_Credit_Card  \\\n0                1824.843333                3.0              4.0   \n1                1824.843333                3.0              4.0   \n2                1824.843333                3.0              4.0   \n3                1824.843333                3.0              4.0   \n4                1824.843333                3.0              4.0   \n...                      ...                ...              ...   \n99995            3359.415833                4.0              6.0   \n99996            3359.415833                4.0              6.0   \n99997            3359.415833                4.0              6.0   \n99998            3359.415833                4.0              6.0   \n99999            3359.415833                4.0              6.0   \n\n       Interest_Rate  ...  Credit-BuilderLoan DebtConsolidationLoan  \\\n0                3.0  ...                   1                     0   \n1                3.0  ...                   1                     0   \n2                3.0  ...                   1                     0   \n3                3.0  ...                   1                     0   \n4                3.0  ...                   1                     0   \n...              ...  ...                 ...                   ...   \n99995            7.0  ...                   0                     0   \n99996            7.0  ...                   0                     0   \n99997            7.0  ...                   0                     0   \n99998            7.0  ...                   0                     0   \n99999            7.0  ...                   0                     0   \n\n       HomeEquityLoan  MortgageLoan  NoData  NotSpecified PaydayLoan  \\\n0                   1             0       0             0          0   \n1                   1             0       0             0          0   \n2                   1             0       0             0          0   \n3                   1             0       0             0          0   \n4                   1             0       0             0          0   \n...               ...           ...     ...           ...        ...   \n99995               0             0       0             0          0   \n99996               0             0       0             0          0   \n99997               0             0       0             0          0   \n99998               0             0       0             0          0   \n99999               0             0       0             0          0   \n\n       PersonalLoan  StudentLoan  Credit_Score  \n0                 1            0          Good  \n1                 1            0          Good  \n2                 1            0          Good  \n3                 1            0          Good  \n4                 1            0          Good  \n...             ...          ...           ...  \n99995             0            1          Poor  \n99996             0            1          Poor  \n99997             0            1          Poor  \n99998             0            1      Standard  \n99999             0            1          Poor  \n\n[100000 rows x 36 columns]",
      "text/html": "<div>\n<style scoped>\n    .dataframe tbody tr th:only-of-type {\n        vertical-align: middle;\n    }\n\n    .dataframe tbody tr th {\n        vertical-align: top;\n    }\n\n    .dataframe thead th {\n        text-align: right;\n    }\n</style>\n<table border=\"1\" class=\"dataframe\">\n  <thead>\n    <tr style=\"text-align: right;\">\n      <th></th>\n      <th>ID</th>\n      <th>Customer_ID</th>\n      <th>Month</th>\n      <th>Age</th>\n      <th>Occupation</th>\n      <th>Annual_Income</th>\n      <th>Monthly_Inhand_Salary</th>\n      <th>Num_Bank_Accounts</th>\n      <th>Num_Credit_Card</th>\n      <th>Interest_Rate</th>\n      <th>...</th>\n      <th>Credit-BuilderLoan</th>\n      <th>DebtConsolidationLoan</th>\n      <th>HomeEquityLoan</th>\n      <th>MortgageLoan</th>\n      <th>NoData</th>\n      <th>NotSpecified</th>\n      <th>PaydayLoan</th>\n      <th>PersonalLoan</th>\n      <th>StudentLoan</th>\n      <th>Credit_Score</th>\n    </tr>\n  </thead>\n  <tbody>\n    <tr>\n      <th>0</th>\n      <td>5634</td>\n      <td>3392</td>\n      <td>1</td>\n      <td>23.0</td>\n      <td>Scientist</td>\n      <td>19114.12</td>\n      <td>1824.843333</td>\n      <td>3.0</td>\n      <td>4.0</td>\n      <td>3.0</td>\n      <td>...</td>\n      <td>1</td>\n      <td>0</td>\n      <td>1</td>\n      <td>0</td>\n      <td>0</td>\n      <td>0</td>\n      <td>0</td>\n      <td>1</td>\n      <td>0</td>\n      <td>Good</td>\n    </tr>\n    <tr>\n      <th>1</th>\n      <td>5635</td>\n      <td>3392</td>\n      <td>2</td>\n      <td>23.0</td>\n      <td>Scientist</td>\n      <td>19114.12</td>\n      <td>1824.843333</td>\n      <td>3.0</td>\n      <td>4.0</td>\n      <td>3.0</td>\n      <td>...</td>\n      <td>1</td>\n      <td>0</td>\n      <td>1</td>\n      <td>0</td>\n      <td>0</td>\n      <td>0</td>\n      <td>0</td>\n      <td>1</td>\n      <td>0</td>\n      <td>Good</td>\n    </tr>\n    <tr>\n      <th>2</th>\n      <td>5636</td>\n      <td>3392</td>\n      <td>3</td>\n      <td>23.0</td>\n      <td>Scientist</td>\n      <td>19114.12</td>\n      <td>1824.843333</td>\n      <td>3.0</td>\n      <td>4.0</td>\n      <td>3.0</td>\n      <td>...</td>\n      <td>1</td>\n      <td>0</td>\n      <td>1</td>\n      <td>0</td>\n      <td>0</td>\n      <td>0</td>\n      <td>0</td>\n      <td>1</td>\n      <td>0</td>\n      <td>Good</td>\n    </tr>\n    <tr>\n      <th>3</th>\n      <td>5637</td>\n      <td>3392</td>\n      <td>4</td>\n      <td>23.0</td>\n      <td>Scientist</td>\n      <td>19114.12</td>\n      <td>1824.843333</td>\n      <td>3.0</td>\n      <td>4.0</td>\n      <td>3.0</td>\n      <td>...</td>\n      <td>1</td>\n      <td>0</td>\n      <td>1</td>\n      <td>0</td>\n      <td>0</td>\n      <td>0</td>\n      <td>0</td>\n      <td>1</td>\n      <td>0</td>\n      <td>Good</td>\n    </tr>\n    <tr>\n      <th>4</th>\n      <td>5638</td>\n      <td>3392</td>\n      <td>5</td>\n      <td>23.0</td>\n      <td>Scientist</td>\n      <td>19114.12</td>\n      <td>1824.843333</td>\n      <td>3.0</td>\n      <td>4.0</td>\n      <td>3.0</td>\n      <td>...</td>\n      <td>1</td>\n      <td>0</td>\n      <td>1</td>\n      <td>0</td>\n      <td>0</td>\n      <td>0</td>\n      <td>0</td>\n      <td>1</td>\n      <td>0</td>\n      <td>Good</td>\n    </tr>\n    <tr>\n      <th>...</th>\n      <td>...</td>\n      <td>...</td>\n      <td>...</td>\n      <td>...</td>\n      <td>...</td>\n      <td>...</td>\n      <td>...</td>\n      <td>...</td>\n      <td>...</td>\n      <td>...</td>\n      <td>...</td>\n      <td>...</td>\n      <td>...</td>\n      <td>...</td>\n      <td>...</td>\n      <td>...</td>\n      <td>...</td>\n      <td>...</td>\n      <td>...</td>\n      <td>...</td>\n      <td>...</td>\n    </tr>\n    <tr>\n      <th>99995</th>\n      <td>155625</td>\n      <td>37932</td>\n      <td>4</td>\n      <td>25.0</td>\n      <td>Mechanic</td>\n      <td>39628.99</td>\n      <td>3359.415833</td>\n      <td>4.0</td>\n      <td>6.0</td>\n      <td>7.0</td>\n      <td>...</td>\n      <td>0</td>\n      <td>0</td>\n      <td>0</td>\n      <td>0</td>\n      <td>0</td>\n      <td>0</td>\n      <td>0</td>\n      <td>0</td>\n      <td>1</td>\n      <td>Poor</td>\n    </tr>\n    <tr>\n      <th>99996</th>\n      <td>155626</td>\n      <td>37932</td>\n      <td>5</td>\n      <td>25.0</td>\n      <td>Mechanic</td>\n      <td>39628.99</td>\n      <td>3359.415833</td>\n      <td>4.0</td>\n      <td>6.0</td>\n      <td>7.0</td>\n      <td>...</td>\n      <td>0</td>\n      <td>0</td>\n      <td>0</td>\n      <td>0</td>\n      <td>0</td>\n      <td>0</td>\n      <td>0</td>\n      <td>0</td>\n      <td>1</td>\n      <td>Poor</td>\n    </tr>\n    <tr>\n      <th>99997</th>\n      <td>155627</td>\n      <td>37932</td>\n      <td>6</td>\n      <td>25.0</td>\n      <td>Mechanic</td>\n      <td>39628.99</td>\n      <td>3359.415833</td>\n      <td>4.0</td>\n      <td>6.0</td>\n      <td>7.0</td>\n      <td>...</td>\n      <td>0</td>\n      <td>0</td>\n      <td>0</td>\n      <td>0</td>\n      <td>0</td>\n      <td>0</td>\n      <td>0</td>\n      <td>0</td>\n      <td>1</td>\n      <td>Poor</td>\n    </tr>\n    <tr>\n      <th>99998</th>\n      <td>155628</td>\n      <td>37932</td>\n      <td>7</td>\n      <td>25.0</td>\n      <td>Mechanic</td>\n      <td>39628.99</td>\n      <td>3359.415833</td>\n      <td>4.0</td>\n      <td>6.0</td>\n      <td>7.0</td>\n      <td>...</td>\n      <td>0</td>\n      <td>0</td>\n      <td>0</td>\n      <td>0</td>\n      <td>0</td>\n      <td>0</td>\n      <td>0</td>\n      <td>0</td>\n      <td>1</td>\n      <td>Standard</td>\n    </tr>\n    <tr>\n      <th>99999</th>\n      <td>155629</td>\n      <td>37932</td>\n      <td>8</td>\n      <td>25.0</td>\n      <td>Mechanic</td>\n      <td>39628.99</td>\n      <td>3359.415833</td>\n      <td>4.0</td>\n      <td>6.0</td>\n      <td>7.0</td>\n      <td>...</td>\n      <td>0</td>\n      <td>0</td>\n      <td>0</td>\n      <td>0</td>\n      <td>0</td>\n      <td>0</td>\n      <td>0</td>\n      <td>0</td>\n      <td>1</td>\n      <td>Poor</td>\n    </tr>\n  </tbody>\n</table>\n<p>100000 rows × 36 columns</p>\n</div>"
     },
     "execution_count": 19,
     "metadata": {},
     "output_type": "execute_result"
    }
   ],
   "source": [
    "cleaned_df = cleaned_df[new_cols]\n",
    "cleaned_df"
   ],
   "metadata": {
    "collapsed": false
   }
  },
  {
   "cell_type": "markdown",
   "source": [
    "## 4. EDA"
   ],
   "metadata": {
    "collapsed": false
   }
  },
  {
   "cell_type": "markdown",
   "source": [
    "### 1) Customer View Point"
   ],
   "metadata": {
    "collapsed": false
   }
  },
  {
   "cell_type": "code",
   "execution_count": 20,
   "outputs": [
    {
     "data": {
      "text/plain": "12500"
     },
     "execution_count": 20,
     "metadata": {},
     "output_type": "execute_result"
    }
   ],
   "source": [
    "# 총 고객 수\n",
    "cleaned_df['Customer_ID'].nunique()"
   ],
   "metadata": {
    "collapsed": false
   }
  },
  {
   "cell_type": "code",
   "execution_count": 21,
   "outputs": [
    {
     "name": "stderr",
     "output_type": "stream",
     "text": [
      "/var/folders/rm/1g600byx25b_ht2r9ty6b4_00000gn/T/ipykernel_25802/2544113446.py:1: FutureWarning: The behavior of `series[i:j]` with an integer-dtype index is deprecated. In a future version, this will be treated as *label-based* indexing, consistent with e.g. `series[i]` lookups. To retain the old behavior, use `series.iloc[i:j]`. To get the future behavior, use `series.loc[i:j]`.\n",
      "  cleaned_df.groupby('Customer_ID', group_keys=True)['Credit_Score'].apply(lambda x : x[:10])\n"
     ]
    },
    {
     "data": {
      "text/plain": "Customer_ID       \n1006         14744    Poor\n             14745    Poor\n             14746    Poor\n             14747    Poor\n             14748    Poor\n                      ... \n50999        54219    Good\n             54220    Good\n             54221    Good\n             54222    Good\n             54223    Good\nName: Credit_Score, Length: 100000, dtype: object"
     },
     "execution_count": 21,
     "metadata": {},
     "output_type": "execute_result"
    }
   ],
   "source": [
    "cleaned_df.groupby('Customer_ID', group_keys=True)['Credit_Score'].apply(lambda x : x[:10])"
   ],
   "metadata": {
    "collapsed": false
   }
  },
  {
   "cell_type": "markdown",
   "source": [
    "### 2) Label Dictionary of Credit Score"
   ],
   "metadata": {
    "collapsed": false
   }
  },
  {
   "cell_type": "code",
   "execution_count": 22,
   "outputs": [
    {
     "data": {
      "text/plain": "array(['Good', 'Poor', 'Standard'], dtype=object)"
     },
     "execution_count": 22,
     "metadata": {},
     "output_type": "execute_result"
    }
   ],
   "source": [
    "np.unique(cleaned_df['Credit_Score'])"
   ],
   "metadata": {
    "collapsed": false
   }
  },
  {
   "cell_type": "markdown",
   "source": [
    "Good > Standard > Poor 순으로 정렬 필요."
   ],
   "metadata": {
    "collapsed": false
   }
  },
  {
   "cell_type": "code",
   "execution_count": 23,
   "outputs": [
    {
     "data": {
      "text/plain": "0        2\n1        2\n2        2\n3        2\n4        2\n        ..\n99995    0\n99996    0\n99997    0\n99998    1\n99999    0\nName: Credit_Score, Length: 100000, dtype: int64"
     },
     "execution_count": 23,
     "metadata": {},
     "output_type": "execute_result"
    }
   ],
   "source": [
    "# label2idx 딕셔너리 생성\n",
    "label2idx = {'Poor': 0, 'Standard': 1, 'Good': 2}\n",
    "\n",
    "# cleaned_df['Credit_Score'].map(label2idx)\n",
    "cleaned_df['Credit_Score'] = cleaned_df['Credit_Score'].map(label2idx)\n",
    "cleaned_df['Credit_Score']"
   ],
   "metadata": {
    "collapsed": false
   }
  },
  {
   "cell_type": "code",
   "execution_count": 24,
   "outputs": [
    {
     "data": {
      "text/plain": "{0: 'Poor', 1: 'Standard', 2: 'Good'}"
     },
     "execution_count": 24,
     "metadata": {},
     "output_type": "execute_result"
    }
   ],
   "source": [
    "# idx to label dictionary\n",
    "idx2label = {}\n",
    "for idx, value in label2idx.items():\n",
    "    idx2label[value] = idx\n",
    "\n",
    "idx2label"
   ],
   "metadata": {
    "collapsed": false
   }
  },
  {
   "cell_type": "code",
   "execution_count": 24,
   "outputs": [],
   "source": [],
   "metadata": {
    "collapsed": false
   }
  },
  {
   "cell_type": "markdown",
   "source": [
    "## 5. 데이터 전처리"
   ],
   "metadata": {
    "collapsed": false
   }
  },
  {
   "cell_type": "markdown",
   "source": [
    "### 1) Age 구간화"
   ],
   "metadata": {
    "collapsed": false
   }
  },
  {
   "cell_type": "code",
   "execution_count": 25,
   "outputs": [
    {
     "data": {
      "text/plain": "count    100000.000000\nmean         33.316340\nstd          10.764812\nmin          14.000000\n25%          24.000000\n50%          33.000000\n75%          42.000000\nmax          56.000000\nName: Age, dtype: float64"
     },
     "execution_count": 25,
     "metadata": {},
     "output_type": "execute_result"
    }
   ],
   "source": [
    "cleaned_df['Age'].describe()"
   ],
   "metadata": {
    "collapsed": false
   }
  },
  {
   "cell_type": "code",
   "execution_count": 26,
   "outputs": [
    {
     "data": {
      "text/plain": "count     100000\nunique         5\ntop           30\nfreq       28968\nName: Age, dtype: int64"
     },
     "execution_count": 26,
     "metadata": {},
     "output_type": "execute_result"
    }
   ],
   "source": [
    "age_range = [10, 20, 30, 40, 50, 60]\n",
    "age_labels = [10, 20, 30, 40, 50]\n",
    "age_bins = pd.cut(cleaned_df['Age'], bins=age_range, labels=age_labels)\n",
    "age_bins.describe()"
   ],
   "metadata": {
    "collapsed": false
   }
  },
  {
   "cell_type": "code",
   "execution_count": 27,
   "outputs": [
    {
     "data": {
      "text/plain": "0        20\n1        20\n2        20\n3        20\n4        20\n         ..\n99995    20\n99996    20\n99997    20\n99998    20\n99999    20\nName: Age, Length: 100000, dtype: category\nCategories (5, int64): [10 < 20 < 30 < 40 < 50]"
     },
     "execution_count": 27,
     "metadata": {},
     "output_type": "execute_result"
    }
   ],
   "source": [
    "age_bins"
   ],
   "metadata": {
    "collapsed": false
   }
  },
  {
   "cell_type": "code",
   "execution_count": 28,
   "outputs": [
    {
     "data": {
      "text/plain": "(array([14003.,     0., 28793.,     0.,     0., 28968.,     0., 21006.,\n            0.,  7230.]),\n array([10., 14., 18., 22., 26., 30., 34., 38., 42., 46., 50.]),\n <BarContainer object of 10 artists>)"
     },
     "execution_count": 28,
     "metadata": {},
     "output_type": "execute_result"
    },
    {
     "data": {
      "text/plain": "<Figure size 432x288 with 1 Axes>",
      "image/png": "[encoded data removed]"
     },
     "metadata": {
      "needs_background": "light"
     },
     "output_type": "display_data"
    }
   ],
   "source": [
    "plt.hist(age_bins)"
   ],
   "metadata": {
    "collapsed": false
   }
  },
  {
   "cell_type": "code",
   "execution_count": 29,
   "outputs": [
    {
     "data": {
      "text/plain": "0        20\n1        20\n2        20\n3        20\n4        20\n         ..\n99995    20\n99996    20\n99997    20\n99998    20\n99999    20\nName: Age, Length: 100000, dtype: category\nCategories (5, int64): [10 < 20 < 30 < 40 < 50]"
     },
     "execution_count": 29,
     "metadata": {},
     "output_type": "execute_result"
    }
   ],
   "source": [
    "cleaned_df['Age'] = age_bins\n",
    "cleaned_df['Age']"
   ],
   "metadata": {
    "collapsed": false
   }
  },
  {
   "cell_type": "markdown",
   "source": [
    "## Transformation"
   ],
   "metadata": {
    "collapsed": false
   }
  },
  {
   "cell_type": "code",
   "execution_count": 30,
   "outputs": [],
   "source": [
    "cleaned_df['Monthly_Inhand_Salary'] = np.log(cleaned_df['Monthly_Inhand_Salary'])\n",
    "cleaned_df['Amount_invested_monthly'] = np.sqrt(cleaned_df['Amount_invested_monthly'])\n",
    "cleaned_df['Outstanding_Debt'] = np.sqrt(cleaned_df['Outstanding_Debt'])\n",
    "cleaned_df['Delay_from_due_date'] = np.sqrt(cleaned_df['Delay_from_due_date'])"
   ],
   "metadata": {
    "collapsed": false
   }
  },
  {
   "cell_type": "code",
   "execution_count": 30,
   "outputs": [],
   "source": [],
   "metadata": {
    "collapsed": false
   }
  },
  {
   "cell_type": "markdown",
   "source": [
    "#### Label Encoding"
   ],
   "metadata": {
    "collapsed": false
   }
  },
  {
   "cell_type": "code",
   "execution_count": 31,
   "outputs": [],
   "source": [
    "from sklearn.preprocessing import LabelEncoder"
   ],
   "metadata": {
    "collapsed": false
   }
  },
  {
   "cell_type": "code",
   "execution_count": 32,
   "outputs": [
    {
     "name": "stdout",
     "output_type": "stream",
     "text": [
      "['Accountant' 'Architect' 'Developer' 'Doctor' 'Engineer' 'Entrepreneur'\n",
      " 'Journalist' 'Lawyer' 'Manager' 'Mechanic' 'Media_Manager' 'Musician'\n",
      " 'Scientist' 'Teacher' 'Writer']\n",
      "['NM' 'No' 'Yes']\n"
     ]
    }
   ],
   "source": [
    "# occupation 먼저 진행\n",
    "cols = ['Occupation', 'Payment_of_Min_Amount']\n",
    "\n",
    "for col in cols:\n",
    "    le = LabelEncoder()\n",
    "    cleaned_df[col] = le.fit_transform(cleaned_df[col])\n",
    "    if col == cols[0]:\n",
    "        occupation_list = le.classes_\n",
    "    else:\n",
    "        pmt_list = le.classes_\n",
    "print(occupation_list)\n",
    "print(pmt_list)"
   ],
   "metadata": {
    "collapsed": false
   }
  },
  {
   "cell_type": "code",
   "execution_count": 33,
   "outputs": [
    {
     "data": {
      "text/plain": "0        12\n1        12\n2        12\n3        12\n4        12\n         ..\n99995     9\n99996     9\n99997     9\n99998     9\n99999     9\nName: Occupation, Length: 100000, dtype: int64"
     },
     "execution_count": 33,
     "metadata": {},
     "output_type": "execute_result"
    }
   ],
   "source": [
    "cleaned_df['Occupation']"
   ],
   "metadata": {
    "collapsed": false
   }
  },
  {
   "cell_type": "code",
   "execution_count": 34,
   "outputs": [
    {
     "data": {
      "text/plain": "Standard    45848\nGood        30384\nBad         23768\nName: Credit_Mix, dtype: int64"
     },
     "execution_count": 34,
     "metadata": {},
     "output_type": "execute_result"
    }
   ],
   "source": [
    "cleaned_df['Credit_Mix'].value_counts()"
   ],
   "metadata": {
    "collapsed": false
   }
  },
  {
   "cell_type": "code",
   "execution_count": 35,
   "outputs": [],
   "source": [
    "credit_mix_dict = {'Bad': 0, 'Standard': 1, 'Good': 2 }"
   ],
   "metadata": {
    "collapsed": false
   }
  },
  {
   "cell_type": "code",
   "execution_count": 36,
   "outputs": [
    {
     "data": {
      "text/plain": "0        2\n1        2\n2        2\n3        2\n4        2\n        ..\n99995    2\n99996    2\n99997    2\n99998    2\n99999    2\nName: Credit_Mix, Length: 100000, dtype: int64"
     },
     "execution_count": 36,
     "metadata": {},
     "output_type": "execute_result"
    }
   ],
   "source": [
    "cleaned_df['Credit_Mix'] = cleaned_df['Credit_Mix'].map(credit_mix_dict)\n",
    "cleaned_df['Credit_Mix']"
   ],
   "metadata": {
    "collapsed": false
   }
  },
  {
   "cell_type": "code",
   "execution_count": 37,
   "outputs": [
    {
     "name": "stdout",
     "output_type": "stream",
     "text": [
      "{'Low_spent_Small_value_payments': 0, 'Low_spent_Medium_value_payments': 1, 'Low_spent_Large_value_payments': 2, 'High_spent_Small_value_payments': 3, 'High_spent_Medium_value_payments': 4, 'High_spent_Large_value_payments': 5}\n",
      "{0: 'Low_spent_Small_value_payments', 1: 'Low_spent_Medium_value_payments', 2: 'Low_spent_Large_value_payments', 3: 'High_spent_Small_value_payments', 4: 'High_spent_Medium_value_payments', 5: 'High_spent_Large_value_payments'}\n"
     ]
    }
   ],
   "source": [
    "# payment behaviour 변화가 있었는 지 확인 필요\n",
    "# dictionary 정의\n",
    "\n",
    "pb2idx = {\n",
    "    'Low_spent_Small_value_payments':0,\n",
    "    'Low_spent_Medium_value_payments'  :1,\n",
    "    'Low_spent_Large_value_payments' :2,\n",
    "    'High_spent_Small_value_payments' :3,\n",
    "    'High_spent_Medium_value_payments' :4,\n",
    "    'High_spent_Large_value_payments'  :5\n",
    "}\n",
    "\n",
    "idx2pb = {\n",
    "    number: string for string, number in pb2idx.items()\n",
    "}\n",
    "\n",
    "print(pb2idx)\n",
    "print(idx2pb)"
   ],
   "metadata": {
    "collapsed": false
   }
  },
  {
   "cell_type": "code",
   "execution_count": 38,
   "outputs": [],
   "source": [
    "cleaned_df['Payment_Behaviour'] = cleaned_df['Payment_Behaviour'].map(pb2idx)"
   ],
   "metadata": {
    "collapsed": false
   }
  },
  {
   "cell_type": "code",
   "execution_count": 39,
   "outputs": [
    {
     "data": {
      "text/plain": "0        3\n1        2\n2        1\n3        0\n4        4\n        ..\n99995    5\n99996    4\n99997    5\n99998    2\n99999    4\nName: Payment_Behaviour, Length: 100000, dtype: int64"
     },
     "execution_count": 39,
     "metadata": {},
     "output_type": "execute_result"
    }
   ],
   "source": [
    "cleaned_df['Payment_Behaviour']"
   ],
   "metadata": {
    "collapsed": false
   }
  },
  {
   "cell_type": "markdown",
   "source": [
    "#### 컬럼 삭제"
   ],
   "metadata": {
    "collapsed": false
   }
  },
  {
   "cell_type": "code",
   "execution_count": 40,
   "outputs": [
    {
     "data": {
      "text/plain": "       Customer_ID  Month Age  Occupation  Monthly_Inhand_Salary  \\\n0             3392      1  20          12               7.509249   \n1             3392      2  20          12               7.509249   \n2             3392      3  20          12               7.509249   \n3             3392      4  20          12               7.509249   \n4             3392      5  20          12               7.509249   \n...            ...    ...  ..         ...                    ...   \n99995        37932      4  20           9               8.119522   \n99996        37932      5  20           9               8.119522   \n99997        37932      6  20           9               8.119522   \n99998        37932      7  20           9               8.119522   \n99999        37932      8  20           9               8.119522   \n\n       Num_Bank_Accounts  Num_Credit_Card  Interest_Rate  Num_of_Loan  \\\n0                    3.0              4.0            3.0          4.0   \n1                    3.0              4.0            3.0          4.0   \n2                    3.0              4.0            3.0          4.0   \n3                    3.0              4.0            3.0          4.0   \n4                    3.0              4.0            3.0          4.0   \n...                  ...              ...            ...          ...   \n99995                4.0              6.0            7.0          2.0   \n99996                4.0              6.0            7.0          2.0   \n99997                4.0              6.0            7.0          2.0   \n99998                4.0              6.0            7.0          2.0   \n99999                4.0              6.0            7.0          2.0   \n\n       Delay_from_due_date  ...  Credit-BuilderLoan  DebtConsolidationLoan  \\\n0                 1.732051  ...                   1                      0   \n1                 1.732051  ...                   1                      0   \n2                 1.732051  ...                   1                      0   \n3                 2.236068  ...                   1                      0   \n4                 2.449490  ...                   1                      0   \n...                    ...  ...                 ...                    ...   \n99995             4.795832  ...                   0                      0   \n99996             4.242641  ...                   0                      0   \n99997             5.196152  ...                   0                      0   \n99998             4.472136  ...                   0                      0   \n99999             4.242641  ...                   0                      0   \n\n       HomeEquityLoan  MortgageLoan  NoData  NotSpecified  PaydayLoan  \\\n0                   1             0       0             0           0   \n1                   1             0       0             0           0   \n2                   1             0       0             0           0   \n3                   1             0       0             0           0   \n4                   1             0       0             0           0   \n...               ...           ...     ...           ...         ...   \n99995               0             0       0             0           0   \n99996               0             0       0             0           0   \n99997               0             0       0             0           0   \n99998               0             0       0             0           0   \n99999               0             0       0             0           0   \n\n       PersonalLoan  StudentLoan  Credit_Score  \n0                 1            0             2  \n1                 1            0             2  \n2                 1            0             2  \n3                 1            0             2  \n4                 1            0             2  \n...             ...          ...           ...  \n99995             0            1             0  \n99996             0            1             0  \n99997             0            1             0  \n99998             0            1             1  \n99999             0            1             0  \n\n[100000 rows x 33 columns]",
      "text/html": "<div>\n<style scoped>\n    .dataframe tbody tr th:only-of-type {\n        vertical-align: middle;\n    }\n\n    .dataframe tbody tr th {\n        vertical-align: top;\n    }\n\n    .dataframe thead th {\n        text-align: right;\n    }\n</style>\n<table border=\"1\" class=\"dataframe\">\n  <thead>\n    <tr style=\"text-align: right;\">\n      <th></th>\n      <th>Customer_ID</th>\n      <th>Month</th>\n      <th>Age</th>\n      <th>Occupation</th>\n      <th>Monthly_Inhand_Salary</th>\n      <th>Num_Bank_Accounts</th>\n      <th>Num_Credit_Card</th>\n      <th>Interest_Rate</th>\n      <th>Num_of_Loan</th>\n      <th>Delay_from_due_date</th>\n      <th>...</th>\n      <th>Credit-BuilderLoan</th>\n      <th>DebtConsolidationLoan</th>\n      <th>HomeEquityLoan</th>\n      <th>MortgageLoan</th>\n      <th>NoData</th>\n      <th>NotSpecified</th>\n      <th>PaydayLoan</th>\n      <th>PersonalLoan</th>\n      <th>StudentLoan</th>\n      <th>Credit_Score</th>\n    </tr>\n  </thead>\n  <tbody>\n    <tr>\n      <th>0</th>\n      <td>3392</td>\n      <td>1</td>\n      <td>20</td>\n      <td>12</td>\n      <td>7.509249</td>\n      <td>3.0</td>\n      <td>4.0</td>\n      <td>3.0</td>\n      <td>4.0</td>\n      <td>1.732051</td>\n      <td>...</td>\n      <td>1</td>\n      <td>0</td>\n      <td>1</td>\n      <td>0</td>\n      <td>0</td>\n      <td>0</td>\n      <td>0</td>\n      <td>1</td>\n      <td>0</td>\n      <td>2</td>\n    </tr>\n    <tr>\n      <th>1</th>\n      <td>3392</td>\n      <td>2</td>\n      <td>20</td>\n      <td>12</td>\n      <td>7.509249</td>\n      <td>3.0</td>\n      <td>4.0</td>\n      <td>3.0</td>\n      <td>4.0</td>\n      <td>1.732051</td>\n      <td>...</td>\n      <td>1</td>\n      <td>0</td>\n      <td>1</td>\n      <td>0</td>\n      <td>0</td>\n      <td>0</td>\n      <td>0</td>\n      <td>1</td>\n      <td>0</td>\n      <td>2</td>\n    </tr>\n    <tr>\n      <th>2</th>\n      <td>3392</td>\n      <td>3</td>\n      <td>20</td>\n      <td>12</td>\n      <td>7.509249</td>\n      <td>3.0</td>\n      <td>4.0</td>\n      <td>3.0</td>\n      <td>4.0</td>\n      <td>1.732051</td>\n      <td>...</td>\n      <td>1</td>\n      <td>0</td>\n      <td>1</td>\n      <td>0</td>\n      <td>0</td>\n      <td>0</td>\n      <td>0</td>\n      <td>1</td>\n      <td>0</td>\n      <td>2</td>\n    </tr>\n    <tr>\n      <th>3</th>\n      <td>3392</td>\n      <td>4</td>\n      <td>20</td>\n      <td>12</td>\n      <td>7.509249</td>\n      <td>3.0</td>\n      <td>4.0</td>\n      <td>3.0</td>\n      <td>4.0</td>\n      <td>2.236068</td>\n      <td>...</td>\n      <td>1</td>\n      <td>0</td>\n      <td>1</td>\n      <td>0</td>\n      <td>0</td>\n      <td>0</td>\n      <td>0</td>\n      <td>1</td>\n      <td>0</td>\n      <td>2</td>\n    </tr>\n    <tr>\n      <th>4</th>\n      <td>3392</td>\n      <td>5</td>\n      <td>20</td>\n      <td>12</td>\n      <td>7.509249</td>\n      <td>3.0</td>\n      <td>4.0</td>\n      <td>3.0</td>\n      <td>4.0</td>\n      <td>2.449490</td>\n      <td>...</td>\n      <td>1</td>\n      <td>0</td>\n      <td>1</td>\n      <td>0</td>\n      <td>0</td>\n      <td>0</td>\n      <td>0</td>\n      <td>1</td>\n      <td>0</td>\n      <td>2</td>\n    </tr>\n    <tr>\n      <th>...</th>\n      <td>...</td>\n      <td>...</td>\n      <td>...</td>\n      <td>...</td>\n      <td>...</td>\n      <td>...</td>\n      <td>...</td>\n      <td>...</td>\n      <td>...</td>\n      <td>...</td>\n      <td>...</td>\n      <td>...</td>\n      <td>...</td>\n      <td>...</td>\n      <td>...</td>\n      <td>...</td>\n      <td>...</td>\n      <td>...</td>\n      <td>...</td>\n      <td>...</td>\n      <td>...</td>\n    </tr>\n    <tr>\n      <th>99995</th>\n      <td>37932</td>\n      <td>4</td>\n      <td>20</td>\n      <td>9</td>\n      <td>8.119522</td>\n      <td>4.0</td>\n      <td>6.0</td>\n      <td>7.0</td>\n      <td>2.0</td>\n      <td>4.795832</td>\n      <td>...</td>\n      <td>0</td>\n      <td>0</td>\n      <td>0</td>\n      <td>0</td>\n      <td>0</td>\n      <td>0</td>\n      <td>0</td>\n      <td>0</td>\n      <td>1</td>\n      <td>0</td>\n    </tr>\n    <tr>\n      <th>99996</th>\n      <td>37932</td>\n      <td>5</td>\n      <td>20</td>\n      <td>9</td>\n      <td>8.119522</td>\n      <td>4.0</td>\n      <td>6.0</td>\n      <td>7.0</td>\n      <td>2.0</td>\n      <td>4.242641</td>\n      <td>...</td>\n      <td>0</td>\n      <td>0</td>\n      <td>0</td>\n      <td>0</td>\n      <td>0</td>\n      <td>0</td>\n      <td>0</td>\n      <td>0</td>\n      <td>1</td>\n      <td>0</td>\n    </tr>\n    <tr>\n      <th>99997</th>\n      <td>37932</td>\n      <td>6</td>\n      <td>20</td>\n      <td>9</td>\n      <td>8.119522</td>\n      <td>4.0</td>\n      <td>6.0</td>\n      <td>7.0</td>\n      <td>2.0</td>\n      <td>5.196152</td>\n      <td>...</td>\n      <td>0</td>\n      <td>0</td>\n      <td>0</td>\n      <td>0</td>\n      <td>0</td>\n      <td>0</td>\n      <td>0</td>\n      <td>0</td>\n      <td>1</td>\n      <td>0</td>\n    </tr>\n    <tr>\n      <th>99998</th>\n      <td>37932</td>\n      <td>7</td>\n      <td>20</td>\n      <td>9</td>\n      <td>8.119522</td>\n      <td>4.0</td>\n      <td>6.0</td>\n      <td>7.0</td>\n      <td>2.0</td>\n      <td>4.472136</td>\n      <td>...</td>\n      <td>0</td>\n      <td>0</td>\n      <td>0</td>\n      <td>0</td>\n      <td>0</td>\n      <td>0</td>\n      <td>0</td>\n      <td>0</td>\n      <td>1</td>\n      <td>1</td>\n    </tr>\n    <tr>\n      <th>99999</th>\n      <td>37932</td>\n      <td>8</td>\n      <td>20</td>\n      <td>9</td>\n      <td>8.119522</td>\n      <td>4.0</td>\n      <td>6.0</td>\n      <td>7.0</td>\n      <td>2.0</td>\n      <td>4.242641</td>\n      <td>...</td>\n      <td>0</td>\n      <td>0</td>\n      <td>0</td>\n      <td>0</td>\n      <td>0</td>\n      <td>0</td>\n      <td>0</td>\n      <td>0</td>\n      <td>1</td>\n      <td>0</td>\n    </tr>\n  </tbody>\n</table>\n<p>100000 rows × 33 columns</p>\n</div>"
     },
     "execution_count": 40,
     "metadata": {},
     "output_type": "execute_result"
    }
   ],
   "source": [
    "data = cleaned_df.drop(['ID', 'Annual_Income', 'Type_of_Loan'], axis=1)\n",
    "data"
   ],
   "metadata": {
    "collapsed": false
   }
  },
  {
   "cell_type": "markdown",
   "source": [
    "#### 데이터 타입 변경"
   ],
   "metadata": {
    "collapsed": false
   }
  },
  {
   "cell_type": "code",
   "execution_count": 41,
   "outputs": [
    {
     "name": "stderr",
     "output_type": "stream",
     "text": [
      "/var/folders/rm/1g600byx25b_ht2r9ty6b4_00000gn/T/ipykernel_25802/713719106.py:5: FutureWarning: In a future version, `df.iloc[:, i] = newvals` will attempt to set the values inplace instead of always setting a new array. To retain the old behavior, use either `df[df.columns[i]] = newvals` or, if columns are non-unique, `df.isetitem(i, newvals)`\n",
      "  data.iloc[:, idx] = data.iloc[:, idx].astype(np.float64)\n"
     ]
    }
   ],
   "source": [
    "for idx, dtype in enumerate(data.dtypes[:-1]):   # target 제외 전 데이터 타입 스캔\n",
    "    if dtype != 'float':\n",
    "        # print(idx)\n",
    "        # display(data.iloc[:, idx])\n",
    "        data.iloc[:, idx] = data.iloc[:, idx].astype(np.float64)"
   ],
   "metadata": {
    "collapsed": false
   }
  },
  {
   "cell_type": "code",
   "execution_count": 42,
   "outputs": [
    {
     "data": {
      "text/plain": "Customer_ID                 float64\nMonth                       float64\nAge                         float64\nOccupation                  float64\nMonthly_Inhand_Salary       float64\nNum_Bank_Accounts           float64\nNum_Credit_Card             float64\nInterest_Rate               float64\nNum_of_Loan                 float64\nDelay_from_due_date         float64\nNum_of_Delayed_Payment      float64\nChanged_Credit_Limit        float64\nNum_Credit_Inquiries        float64\nCredit_Mix                  float64\nOutstanding_Debt            float64\nCredit_Utilization_Ratio    float64\nCredit_History_Age          float64\nPayment_of_Min_Amount       float64\nTotal_EMI_per_month         float64\nAmount_invested_monthly     float64\nPayment_Behaviour           float64\nMonthly_Balance             float64\nAutoLoan                    float64\nCredit-BuilderLoan          float64\nDebtConsolidationLoan       float64\nHomeEquityLoan              float64\nMortgageLoan                float64\nNoData                      float64\nNotSpecified                float64\nPaydayLoan                  float64\nPersonalLoan                float64\nStudentLoan                 float64\nCredit_Score                  int64\ndtype: object"
     },
     "execution_count": 42,
     "metadata": {},
     "output_type": "execute_result"
    }
   ],
   "source": [
    "data.dtypes"
   ],
   "metadata": {
    "collapsed": false
   }
  },
  {
   "cell_type": "code",
   "execution_count": 42,
   "outputs": [],
   "source": [],
   "metadata": {
    "collapsed": false
   }
  },
  {
   "cell_type": "code",
   "execution_count": 43,
   "outputs": [],
   "source": [
    "income_cols = ['Annual_Income', 'Monthly_Inhand_Salary', 'Monthly_Balance']  # 소득 및 가용 가능 금액\n",
    "inv_cols = ['Amount_invested_monthly'] # 투자 지출\n",
    "debt_cols = ['Delay_from_due_date', 'Num_of_Delayed_Payment', 'Outstanding_Debt',\n",
    "             'Total_EMI_per_month'] # 부채 관련\n",
    "credit_cols = ['Num_Bank_Accounts', 'Num_Credit_Card', 'Changed_Credit_Limit', 'Num_Credit_Inquiries',\n",
    "               'Credit_Mix', 'Credit_Utilization_Ratio'] #\n",
    "loan_cols = ['Num_of_Loan']"
   ],
   "metadata": {
    "collapsed": false
   }
  },
  {
   "cell_type": "code",
   "execution_count": 44,
   "outputs": [
    {
     "name": "stdout",
     "output_type": "stream",
     "text": [
      "['Annual_Income', 'Monthly_Inhand_Salary', 'Monthly_Balance', 'Amount_invested_monthly', 'Delay_from_due_date', 'Num_of_Delayed_Payment', 'Outstanding_Debt', 'Total_EMI_per_month', 'Num_Bank_Accounts', 'Num_Credit_Card', 'Changed_Credit_Limit', 'Num_Credit_Inquiries', 'Credit_Mix', 'Credit_Utilization_Ratio', 'Num_of_Loan']\n"
     ]
    },
    {
     "data": {
      "text/plain": "15"
     },
     "execution_count": 44,
     "metadata": {},
     "output_type": "execute_result"
    }
   ],
   "source": [
    "total_cols = income_cols + inv_cols + debt_cols + credit_cols + loan_cols\n",
    "print(total_cols)\n",
    "total_len = len(income_cols + inv_cols + debt_cols + credit_cols + loan_cols)\n",
    "total_len"
   ],
   "metadata": {
    "collapsed": false
   }
  },
  {
   "cell_type": "code",
   "execution_count": 44,
   "outputs": [],
   "source": [],
   "metadata": {
    "collapsed": false
   }
  },
  {
   "cell_type": "code",
   "execution_count": 45,
   "outputs": [],
   "source": [
    "from sklearn.preprocessing import LabelEncoder"
   ],
   "metadata": {
    "collapsed": false
   }
  },
  {
   "cell_type": "code",
   "execution_count": 46,
   "outputs": [
    {
     "name": "stdout",
     "output_type": "stream",
     "text": [
      "[ 0  1  2  3  4  5  6  7  8  9 10 11 12 13 14]\n",
      "[0 1 2]\n"
     ]
    }
   ],
   "source": [
    "# occupation 먼저 진행\n",
    "cols = ['Occupation', 'Payment_of_Min_Amount']\n",
    "\n",
    "for col in cols:\n",
    "    le = LabelEncoder()\n",
    "    cleaned_df[col] = le.fit_transform(cleaned_df[col])\n",
    "    if col == cols[0]:\n",
    "        occupation_list = le.classes_\n",
    "    else:\n",
    "        pmt_list = le.classes_\n",
    "print(occupation_list)\n",
    "print(pmt_list)"
   ],
   "metadata": {
    "collapsed": false
   }
  },
  {
   "cell_type": "code",
   "execution_count": 47,
   "outputs": [
    {
     "data": {
      "text/plain": "0        12\n1        12\n2        12\n3        12\n4        12\n         ..\n99995     9\n99996     9\n99997     9\n99998     9\n99999     9\nName: Occupation, Length: 100000, dtype: int64"
     },
     "execution_count": 47,
     "metadata": {},
     "output_type": "execute_result"
    }
   ],
   "source": [
    "cleaned_df['Occupation']"
   ],
   "metadata": {
    "collapsed": false
   }
  },
  {
   "cell_type": "code",
   "execution_count": 48,
   "outputs": [],
   "source": [
    "def int2float(data):\n",
    "    float_data = data.copy()\n",
    "    for idx, col in enumerate(data.dtypes.index):\n",
    "        if train_df.dtypes.values[idx] == int:\n",
    "            float_data[col] = data[col].astype(np.float64)\n",
    "        # print(idx)\n",
    "        # print(col)\n",
    "\n",
    "    return float_data"
   ],
   "metadata": {
    "collapsed": false
   }
  },
  {
   "cell_type": "code",
   "execution_count": 49,
   "outputs": [],
   "source": [
    "cleaned_df.drop(['Annual_Income', 'Type_of_Loan'], axis=1, inplace=True)"
   ],
   "metadata": {
    "collapsed": false
   }
  },
  {
   "cell_type": "markdown",
   "source": [
    "## 3. Train Test 분할"
   ],
   "metadata": {
    "collapsed": false
   }
  },
  {
   "cell_type": "code",
   "execution_count": 50,
   "outputs": [],
   "source": [
    "def data_split(data):\n",
    "\n",
    "    train = data[data['Month'] <= 6]\n",
    "    test = data[data['Month'] > 6]\n",
    "\n",
    "    print('train_df shape: ', train.shape)\n",
    "    print('test_df shape: ', test.shape)\n",
    "\n",
    "    return train, test"
   ],
   "metadata": {
    "collapsed": false
   }
  },
  {
   "cell_type": "code",
   "execution_count": 51,
   "outputs": [
    {
     "name": "stdout",
     "output_type": "stream",
     "text": [
      "train_df shape:  (75000, 34)\n",
      "test_df shape:  (25000, 34)\n"
     ]
    }
   ],
   "source": [
    "train_df, test_df = data_split(cleaned_df)"
   ],
   "metadata": {
    "collapsed": false
   }
  },
  {
   "cell_type": "code",
   "execution_count": 52,
   "outputs": [
    {
     "data": {
      "text/plain": "             ID  Customer_ID  Month Age  Occupation  Monthly_Inhand_Salary  \\\n0        5634.0       3392.0    1.0  20        12.0               7.509249   \n1        5635.0       3392.0    2.0  20        12.0               7.509249   \n2        5636.0       3392.0    3.0  20        12.0               7.509249   \n3        5637.0       3392.0    4.0  20        12.0               7.509249   \n4        5638.0       3392.0    5.0  20        12.0               7.509249   \n...         ...          ...    ...  ..         ...                    ...   \n99993  155623.0      37932.0    2.0  20         9.0               8.119522   \n99994  155624.0      37932.0    3.0  20         9.0               8.119522   \n99995  155625.0      37932.0    4.0  20         9.0               8.119522   \n99996  155626.0      37932.0    5.0  20         9.0               8.119522   \n99997  155627.0      37932.0    6.0  20         9.0               8.119522   \n\n       Num_Bank_Accounts  Num_Credit_Card  Interest_Rate  Num_of_Loan  ...  \\\n0                    3.0              4.0            3.0          4.0  ...   \n1                    3.0              4.0            3.0          4.0  ...   \n2                    3.0              4.0            3.0          4.0  ...   \n3                    3.0              4.0            3.0          4.0  ...   \n4                    3.0              4.0            3.0          4.0  ...   \n...                  ...              ...            ...          ...  ...   \n99993                4.0              6.0            7.0          2.0  ...   \n99994                4.0              6.0            7.0          2.0  ...   \n99995                4.0              6.0            7.0          2.0  ...   \n99996                4.0              6.0            7.0          2.0  ...   \n99997                4.0              6.0            7.0          2.0  ...   \n\n       Credit-BuilderLoan  DebtConsolidationLoan  HomeEquityLoan  \\\n0                       1                      0               1   \n1                       1                      0               1   \n2                       1                      0               1   \n3                       1                      0               1   \n4                       1                      0               1   \n...                   ...                    ...             ...   \n99993                   0                      0               0   \n99994                   0                      0               0   \n99995                   0                      0               0   \n99996                   0                      0               0   \n99997                   0                      0               0   \n\n       MortgageLoan  NoData  NotSpecified  PaydayLoan  PersonalLoan  \\\n0                 0       0             0           0             1   \n1                 0       0             0           0             1   \n2                 0       0             0           0             1   \n3                 0       0             0           0             1   \n4                 0       0             0           0             1   \n...             ...     ...           ...         ...           ...   \n99993             0       0             0           0             0   \n99994             0       0             0           0             0   \n99995             0       0             0           0             0   \n99996             0       0             0           0             0   \n99997             0       0             0           0             0   \n\n       StudentLoan  Credit_Score  \n0                0           2.0  \n1                0           2.0  \n2                0           2.0  \n3                0           2.0  \n4                0           2.0  \n...            ...           ...  \n99993            1           1.0  \n99994            1           0.0  \n99995            1           0.0  \n99996            1           0.0  \n99997            1           0.0  \n\n[75000 rows x 34 columns]",
      "text/html": "<div>\n<style scoped>\n    .dataframe tbody tr th:only-of-type {\n        vertical-align: middle;\n    }\n\n    .dataframe tbody tr th {\n        vertical-align: top;\n    }\n\n    .dataframe thead th {\n        text-align: right;\n    }\n</style>\n<table border=\"1\" class=\"dataframe\">\n  <thead>\n    <tr style=\"text-align: right;\">\n      <th></th>\n      <th>ID</th>\n      <th>Customer_ID</th>\n      <th>Month</th>\n      <th>Age</th>\n      <th>Occupation</th>\n      <th>Monthly_Inhand_Salary</th>\n      <th>Num_Bank_Accounts</th>\n      <th>Num_Credit_Card</th>\n      <th>Interest_Rate</th>\n      <th>Num_of_Loan</th>\n      <th>...</th>\n      <th>Credit-BuilderLoan</th>\n      <th>DebtConsolidationLoan</th>\n      <th>HomeEquityLoan</th>\n      <th>MortgageLoan</th>\n      <th>NoData</th>\n      <th>NotSpecified</th>\n      <th>PaydayLoan</th>\n      <th>PersonalLoan</th>\n      <th>StudentLoan</th>\n      <th>Credit_Score</th>\n    </tr>\n  </thead>\n  <tbody>\n    <tr>\n      <th>0</th>\n      <td>5634.0</td>\n      <td>3392.0</td>\n      <td>1.0</td>\n      <td>20</td>\n      <td>12.0</td>\n      <td>7.509249</td>\n      <td>3.0</td>\n      <td>4.0</td>\n      <td>3.0</td>\n      <td>4.0</td>\n      <td>...</td>\n      <td>1</td>\n      <td>0</td>\n      <td>1</td>\n      <td>0</td>\n      <td>0</td>\n      <td>0</td>\n      <td>0</td>\n      <td>1</td>\n      <td>0</td>\n      <td>2.0</td>\n    </tr>\n    <tr>\n      <th>1</th>\n      <td>5635.0</td>\n      <td>3392.0</td>\n      <td>2.0</td>\n      <td>20</td>\n      <td>12.0</td>\n      <td>7.509249</td>\n      <td>3.0</td>\n      <td>4.0</td>\n      <td>3.0</td>\n      <td>4.0</td>\n      <td>...</td>\n      <td>1</td>\n      <td>0</td>\n      <td>1</td>\n      <td>0</td>\n      <td>0</td>\n      <td>0</td>\n      <td>0</td>\n      <td>1</td>\n      <td>0</td>\n      <td>2.0</td>\n    </tr>\n    <tr>\n      <th>2</th>\n      <td>5636.0</td>\n      <td>3392.0</td>\n      <td>3.0</td>\n      <td>20</td>\n      <td>12.0</td>\n      <td>7.509249</td>\n      <td>3.0</td>\n      <td>4.0</td>\n      <td>3.0</td>\n      <td>4.0</td>\n      <td>...</td>\n      <td>1</td>\n      <td>0</td>\n      <td>1</td>\n      <td>0</td>\n      <td>0</td>\n      <td>0</td>\n      <td>0</td>\n      <td>1</td>\n      <td>0</td>\n      <td>2.0</td>\n    </tr>\n    <tr>\n      <th>3</th>\n      <td>5637.0</td>\n      <td>3392.0</td>\n      <td>4.0</td>\n      <td>20</td>\n      <td>12.0</td>\n      <td>7.509249</td>\n      <td>3.0</td>\n      <td>4.0</td>\n      <td>3.0</td>\n      <td>4.0</td>\n      <td>...</td>\n      <td>1</td>\n      <td>0</td>\n      <td>1</td>\n      <td>0</td>\n      <td>0</td>\n      <td>0</td>\n      <td>0</td>\n      <td>1</td>\n      <td>0</td>\n      <td>2.0</td>\n    </tr>\n    <tr>\n      <th>4</th>\n      <td>5638.0</td>\n      <td>3392.0</td>\n      <td>5.0</td>\n      <td>20</td>\n      <td>12.0</td>\n      <td>7.509249</td>\n      <td>3.0</td>\n      <td>4.0</td>\n      <td>3.0</td>\n      <td>4.0</td>\n      <td>...</td>\n      <td>1</td>\n      <td>0</td>\n      <td>1</td>\n      <td>0</td>\n      <td>0</td>\n      <td>0</td>\n      <td>0</td>\n      <td>1</td>\n      <td>0</td>\n      <td>2.0</td>\n    </tr>\n    <tr>\n      <th>...</th>\n      <td>...</td>\n      <td>...</td>\n      <td>...</td>\n      <td>...</td>\n      <td>...</td>\n      <td>...</td>\n      <td>...</td>\n      <td>...</td>\n      <td>...</td>\n      <td>...</td>\n      <td>...</td>\n      <td>...</td>\n      <td>...</td>\n      <td>...</td>\n      <td>...</td>\n      <td>...</td>\n      <td>...</td>\n      <td>...</td>\n      <td>...</td>\n      <td>...</td>\n      <td>...</td>\n    </tr>\n    <tr>\n      <th>99993</th>\n      <td>155623.0</td>\n      <td>37932.0</td>\n      <td>2.0</td>\n      <td>20</td>\n      <td>9.0</td>\n      <td>8.119522</td>\n      <td>4.0</td>\n      <td>6.0</td>\n      <td>7.0</td>\n      <td>2.0</td>\n      <td>...</td>\n      <td>0</td>\n      <td>0</td>\n      <td>0</td>\n      <td>0</td>\n      <td>0</td>\n      <td>0</td>\n      <td>0</td>\n      <td>0</td>\n      <td>1</td>\n      <td>1.0</td>\n    </tr>\n    <tr>\n      <th>99994</th>\n      <td>155624.0</td>\n      <td>37932.0</td>\n      <td>3.0</td>\n      <td>20</td>\n      <td>9.0</td>\n      <td>8.119522</td>\n      <td>4.0</td>\n      <td>6.0</td>\n      <td>7.0</td>\n      <td>2.0</td>\n      <td>...</td>\n      <td>0</td>\n      <td>0</td>\n      <td>0</td>\n      <td>0</td>\n      <td>0</td>\n      <td>0</td>\n      <td>0</td>\n      <td>0</td>\n      <td>1</td>\n      <td>0.0</td>\n    </tr>\n    <tr>\n      <th>99995</th>\n      <td>155625.0</td>\n      <td>37932.0</td>\n      <td>4.0</td>\n      <td>20</td>\n      <td>9.0</td>\n      <td>8.119522</td>\n      <td>4.0</td>\n      <td>6.0</td>\n      <td>7.0</td>\n      <td>2.0</td>\n      <td>...</td>\n      <td>0</td>\n      <td>0</td>\n      <td>0</td>\n      <td>0</td>\n      <td>0</td>\n      <td>0</td>\n      <td>0</td>\n      <td>0</td>\n      <td>1</td>\n      <td>0.0</td>\n    </tr>\n    <tr>\n      <th>99996</th>\n      <td>155626.0</td>\n      <td>37932.0</td>\n      <td>5.0</td>\n      <td>20</td>\n      <td>9.0</td>\n      <td>8.119522</td>\n      <td>4.0</td>\n      <td>6.0</td>\n      <td>7.0</td>\n      <td>2.0</td>\n      <td>...</td>\n      <td>0</td>\n      <td>0</td>\n      <td>0</td>\n      <td>0</td>\n      <td>0</td>\n      <td>0</td>\n      <td>0</td>\n      <td>0</td>\n      <td>1</td>\n      <td>0.0</td>\n    </tr>\n    <tr>\n      <th>99997</th>\n      <td>155627.0</td>\n      <td>37932.0</td>\n      <td>6.0</td>\n      <td>20</td>\n      <td>9.0</td>\n      <td>8.119522</td>\n      <td>4.0</td>\n      <td>6.0</td>\n      <td>7.0</td>\n      <td>2.0</td>\n      <td>...</td>\n      <td>0</td>\n      <td>0</td>\n      <td>0</td>\n      <td>0</td>\n      <td>0</td>\n      <td>0</td>\n      <td>0</td>\n      <td>0</td>\n      <td>1</td>\n      <td>0.0</td>\n    </tr>\n  </tbody>\n</table>\n<p>75000 rows × 34 columns</p>\n</div>"
     },
     "execution_count": 52,
     "metadata": {},
     "output_type": "execute_result"
    }
   ],
   "source": [
    "int2float(train_df)"
   ],
   "metadata": {
    "collapsed": false
   }
  },
  {
   "cell_type": "code",
   "execution_count": 53,
   "outputs": [
    {
     "data": {
      "text/plain": "           ID  Customer_ID  Month Age  Occupation  Monthly_Inhand_Salary  \\\n6        5640         3392      7  20          12               7.509249   \n7        5641         3392      8  20          12               7.509249   \n14       5652         8625      7  20          13               8.018950   \n15       5653         8625      8  20          13               8.018950   \n22       5664        11708      7  30           4               9.408143   \n...       ...          ...    ...  ..         ...                    ...   \n99983  155605        44897      8  40          14               8.038192   \n99990  155616        34304      7  20           1               7.565227   \n99991  155617        34304      8  20           1               7.565227   \n99998  155628        37932      7  20           9               8.119522   \n99999  155629        37932      8  20           9               8.119522   \n\n       Num_Bank_Accounts  Num_Credit_Card  Interest_Rate  Num_of_Loan  ...  \\\n6                    3.0              4.0            3.0          4.0  ...   \n7                    3.0              4.0            3.0          4.0  ...   \n14                   2.0              4.0            6.0          1.0  ...   \n15                   2.0              4.0            6.0          1.0  ...   \n22                   1.0              5.0            8.0          3.0  ...   \n...                  ...              ...            ...          ...  ...   \n99983                1.0              4.0            5.0          3.0  ...   \n99990               10.0              8.0           29.0          5.0  ...   \n99991               10.0              8.0           29.0          5.0  ...   \n99998                4.0              6.0            7.0          2.0  ...   \n99999                4.0              6.0            7.0          2.0  ...   \n\n       Credit-BuilderLoan  DebtConsolidationLoan  HomeEquityLoan  \\\n6                       1                      0               1   \n7                       1                      0               1   \n14                      1                      0               0   \n15                      1                      0               0   \n22                      0                      0               0   \n...                   ...                    ...             ...   \n99983                   0                      0               1   \n99990                   0                      0               0   \n99991                   0                      0               0   \n99998                   0                      0               0   \n99999                   0                      0               0   \n\n       MortgageLoan  NoData  NotSpecified  PaydayLoan  PersonalLoan  \\\n6                 0       0             0           0             1   \n7                 0       0             0           0             1   \n14                0       0             0           0             0   \n15                0       0             0           0             0   \n22                0       0             1           0             0   \n...             ...     ...           ...         ...           ...   \n99983             1       0             0           0             0   \n99990             1       0             0           0             1   \n99991             1       0             0           0             1   \n99998             0       0             0           0             0   \n99999             0       0             0           0             0   \n\n       StudentLoan  Credit_Score  \n6                0             2  \n7                0             1  \n14               0             2  \n15               0             2  \n22               0             1  \n...            ...           ...  \n99983            1             2  \n99990            2             1  \n99991            2             1  \n99998            1             1  \n99999            1             0  \n\n[25000 rows x 34 columns]",
      "text/html": "<div>\n<style scoped>\n    .dataframe tbody tr th:only-of-type {\n        vertical-align: middle;\n    }\n\n    .dataframe tbody tr th {\n        vertical-align: top;\n    }\n\n    .dataframe thead th {\n        text-align: right;\n    }\n</style>\n<table border=\"1\" class=\"dataframe\">\n  <thead>\n    <tr style=\"text-align: right;\">\n      <th></th>\n      <th>ID</th>\n      <th>Customer_ID</th>\n      <th>Month</th>\n      <th>Age</th>\n      <th>Occupation</th>\n      <th>Monthly_Inhand_Salary</th>\n      <th>Num_Bank_Accounts</th>\n      <th>Num_Credit_Card</th>\n      <th>Interest_Rate</th>\n      <th>Num_of_Loan</th>\n      <th>...</th>\n      <th>Credit-BuilderLoan</th>\n      <th>DebtConsolidationLoan</th>\n      <th>HomeEquityLoan</th>\n      <th>MortgageLoan</th>\n      <th>NoData</th>\n      <th>NotSpecified</th>\n      <th>PaydayLoan</th>\n      <th>PersonalLoan</th>\n      <th>StudentLoan</th>\n      <th>Credit_Score</th>\n    </tr>\n  </thead>\n  <tbody>\n    <tr>\n      <th>6</th>\n      <td>5640</td>\n      <td>3392</td>\n      <td>7</td>\n      <td>20</td>\n      <td>12</td>\n      <td>7.509249</td>\n      <td>3.0</td>\n      <td>4.0</td>\n      <td>3.0</td>\n      <td>4.0</td>\n      <td>...</td>\n      <td>1</td>\n      <td>0</td>\n      <td>1</td>\n      <td>0</td>\n      <td>0</td>\n      <td>0</td>\n      <td>0</td>\n      <td>1</td>\n      <td>0</td>\n      <td>2</td>\n    </tr>\n    <tr>\n      <th>7</th>\n      <td>5641</td>\n      <td>3392</td>\n      <td>8</td>\n      <td>20</td>\n      <td>12</td>\n      <td>7.509249</td>\n      <td>3.0</td>\n      <td>4.0</td>\n      <td>3.0</td>\n      <td>4.0</td>\n      <td>...</td>\n      <td>1</td>\n      <td>0</td>\n      <td>1</td>\n      <td>0</td>\n      <td>0</td>\n      <td>0</td>\n      <td>0</td>\n      <td>1</td>\n      <td>0</td>\n      <td>1</td>\n    </tr>\n    <tr>\n      <th>14</th>\n      <td>5652</td>\n      <td>8625</td>\n      <td>7</td>\n      <td>20</td>\n      <td>13</td>\n      <td>8.018950</td>\n      <td>2.0</td>\n      <td>4.0</td>\n      <td>6.0</td>\n      <td>1.0</td>\n      <td>...</td>\n      <td>1</td>\n      <td>0</td>\n      <td>0</td>\n      <td>0</td>\n      <td>0</td>\n      <td>0</td>\n      <td>0</td>\n      <td>0</td>\n      <td>0</td>\n      <td>2</td>\n    </tr>\n    <tr>\n      <th>15</th>\n      <td>5653</td>\n      <td>8625</td>\n      <td>8</td>\n      <td>20</td>\n      <td>13</td>\n      <td>8.018950</td>\n      <td>2.0</td>\n      <td>4.0</td>\n      <td>6.0</td>\n      <td>1.0</td>\n      <td>...</td>\n      <td>1</td>\n      <td>0</td>\n      <td>0</td>\n      <td>0</td>\n      <td>0</td>\n      <td>0</td>\n      <td>0</td>\n      <td>0</td>\n      <td>0</td>\n      <td>2</td>\n    </tr>\n    <tr>\n      <th>22</th>\n      <td>5664</td>\n      <td>11708</td>\n      <td>7</td>\n      <td>30</td>\n      <td>4</td>\n      <td>9.408143</td>\n      <td>1.0</td>\n      <td>5.0</td>\n      <td>8.0</td>\n      <td>3.0</td>\n      <td>...</td>\n      <td>0</td>\n      <td>0</td>\n      <td>0</td>\n      <td>0</td>\n      <td>0</td>\n      <td>1</td>\n      <td>0</td>\n      <td>0</td>\n      <td>0</td>\n      <td>1</td>\n    </tr>\n    <tr>\n      <th>...</th>\n      <td>...</td>\n      <td>...</td>\n      <td>...</td>\n      <td>...</td>\n      <td>...</td>\n      <td>...</td>\n      <td>...</td>\n      <td>...</td>\n      <td>...</td>\n      <td>...</td>\n      <td>...</td>\n      <td>...</td>\n      <td>...</td>\n      <td>...</td>\n      <td>...</td>\n      <td>...</td>\n      <td>...</td>\n      <td>...</td>\n      <td>...</td>\n      <td>...</td>\n      <td>...</td>\n    </tr>\n    <tr>\n      <th>99983</th>\n      <td>155605</td>\n      <td>44897</td>\n      <td>8</td>\n      <td>40</td>\n      <td>14</td>\n      <td>8.038192</td>\n      <td>1.0</td>\n      <td>4.0</td>\n      <td>5.0</td>\n      <td>3.0</td>\n      <td>...</td>\n      <td>0</td>\n      <td>0</td>\n      <td>1</td>\n      <td>1</td>\n      <td>0</td>\n      <td>0</td>\n      <td>0</td>\n      <td>0</td>\n      <td>1</td>\n      <td>2</td>\n    </tr>\n    <tr>\n      <th>99990</th>\n      <td>155616</td>\n      <td>34304</td>\n      <td>7</td>\n      <td>20</td>\n      <td>1</td>\n      <td>7.565227</td>\n      <td>10.0</td>\n      <td>8.0</td>\n      <td>29.0</td>\n      <td>5.0</td>\n      <td>...</td>\n      <td>0</td>\n      <td>0</td>\n      <td>0</td>\n      <td>1</td>\n      <td>0</td>\n      <td>0</td>\n      <td>0</td>\n      <td>1</td>\n      <td>2</td>\n      <td>1</td>\n    </tr>\n    <tr>\n      <th>99991</th>\n      <td>155617</td>\n      <td>34304</td>\n      <td>8</td>\n      <td>20</td>\n      <td>1</td>\n      <td>7.565227</td>\n      <td>10.0</td>\n      <td>8.0</td>\n      <td>29.0</td>\n      <td>5.0</td>\n      <td>...</td>\n      <td>0</td>\n      <td>0</td>\n      <td>0</td>\n      <td>1</td>\n      <td>0</td>\n      <td>0</td>\n      <td>0</td>\n      <td>1</td>\n      <td>2</td>\n      <td>1</td>\n    </tr>\n    <tr>\n      <th>99998</th>\n      <td>155628</td>\n      <td>37932</td>\n      <td>7</td>\n      <td>20</td>\n      <td>9</td>\n      <td>8.119522</td>\n      <td>4.0</td>\n      <td>6.0</td>\n      <td>7.0</td>\n      <td>2.0</td>\n      <td>...</td>\n      <td>0</td>\n      <td>0</td>\n      <td>0</td>\n      <td>0</td>\n      <td>0</td>\n      <td>0</td>\n      <td>0</td>\n      <td>0</td>\n      <td>1</td>\n      <td>1</td>\n    </tr>\n    <tr>\n      <th>99999</th>\n      <td>155629</td>\n      <td>37932</td>\n      <td>8</td>\n      <td>20</td>\n      <td>9</td>\n      <td>8.119522</td>\n      <td>4.0</td>\n      <td>6.0</td>\n      <td>7.0</td>\n      <td>2.0</td>\n      <td>...</td>\n      <td>0</td>\n      <td>0</td>\n      <td>0</td>\n      <td>0</td>\n      <td>0</td>\n      <td>0</td>\n      <td>0</td>\n      <td>0</td>\n      <td>1</td>\n      <td>0</td>\n    </tr>\n  </tbody>\n</table>\n<p>25000 rows × 34 columns</p>\n</div>"
     },
     "execution_count": 53,
     "metadata": {},
     "output_type": "execute_result"
    }
   ],
   "source": [
    "test_df"
   ],
   "metadata": {
    "collapsed": false
   }
  },
  {
   "cell_type": "code",
   "execution_count": 54,
   "outputs": [
    {
     "name": "stdout",
     "output_type": "stream",
     "text": [
      "(75000, 32)\n",
      "(75000,)\n",
      "(25000, 32)\n",
      "(25000,)\n"
     ]
    }
   ],
   "source": [
    "X_train = train_df.iloc[:, 1: -1].values\n",
    "y_train = train_df.iloc[:, -1].values\n",
    "\n",
    "X_test = test_df.iloc[:, 1:-1].values\n",
    "y_test = test_df.iloc[:, -1].values\n",
    "\n",
    "print(X_train.shape)\n",
    "print(y_train.shape)\n",
    "\n",
    "print(X_test.shape)\n",
    "print(y_test.shape)\n"
   ],
   "metadata": {
    "collapsed": false
   }
  },
  {
   "cell_type": "code",
   "execution_count": 54,
   "outputs": [],
   "source": [],
   "metadata": {
    "collapsed": false
   }
  },
  {
   "cell_type": "code",
   "execution_count": 55,
   "outputs": [],
   "source": [
    "import tensorflow as tf\n",
    "from time import time\n",
    "from datetime import timedelta\n",
    "from sklearn.metrics import classification_report, confusion_matrix, accuracy_score"
   ],
   "metadata": {
    "collapsed": false
   }
  },
  {
   "cell_type": "code",
   "execution_count": 56,
   "outputs": [],
   "source": [
    "# loss와 accuracy 시각화를 위한 함수 정의\n",
    "def plot_loss(history):\n",
    "    plt.figure(figsize=(8, 5))\n",
    "    plt.plot(history.history['loss'], 'b-', label='loss')\n",
    "    plt.plot(history.history['val_loss'], 'g--', label='val_loss')\n",
    "    plt.xlabel('Epochs')\n",
    "    plt.ylabel('Loss')\n",
    "    plt.title('Loss vs Val Loss')\n",
    "    plt.legend()\n",
    "    plt.show()\n",
    "\n",
    "def plot_acc(history):\n",
    "    plt.figure(figsize=(8, 5))\n",
    "    plt.plot(history.history['acc'], 'b-', label='acc')\n",
    "    plt.plot(history.history['val_acc'], 'g--', label='val_acc')\n",
    "    plt.xlabel('Epochs')\n",
    "    plt.ylabel('Accuracy')\n",
    "    plt.title('Accuracy vs Val Accuracy')\n",
    "    plt.legend()\n",
    "    plt.show()"
   ],
   "metadata": {
    "collapsed": false
   }
  },
  {
   "cell_type": "code",
   "execution_count": 57,
   "outputs": [],
   "source": [
    "# 결과 재활용을 위한 시드 설정 함수 정의\n",
    "import random\n",
    "def set_seed(seed: int = 42) -> None:\n",
    "    random.seed(seed)\n",
    "    np.random.seed(seed)\n",
    "    tf.random.set_seed(seed)\n",
    "    tf.experimental.numpy.random.seed(seed)\n",
    "    # When running on the CuDNN backend, two further options must be set\n",
    "    os.environ['TF_CUDNN_DETERMINISTIC'] = '1'\n",
    "    os.environ['TF_DETERMINISTIC_OPS'] = '1'\n",
    "    # Set a fixed value for the hash seed\n",
    "    os.environ[\"PYTHONHASHSEED\"] = str(seed)\n",
    "    print(f\"Random seed set as {seed}\")"
   ],
   "metadata": {
    "collapsed": false
   }
  },
  {
   "cell_type": "code",
   "execution_count": 58,
   "outputs": [],
   "source": [
    "# 분류모델 결과 평가를 위한 혼동행렬 리포트 & 시각화 함수 정의\n",
    "def clf_report_plot(y_true, X_test, model):\n",
    "\n",
    "    result = model.predict(X_test)\n",
    "\n",
    "    y_pred = []\n",
    "    for pred in result:\n",
    "        y_pred.append(np.argmax(pred))\n",
    "\n",
    "    print(classification_report(y_true, y_pred, digits=4))\n",
    "\n",
    "    # plt.rc('font', family='NanumGothicOTF') # For MacOS\n",
    "    plt.rc('font', family='NanumGothic') # For Windows\n",
    "\n",
    "    ax = plt.subplot()\n",
    "    ax.figure.set_size_inches(10, 10)\n",
    "    cm = confusion_matrix(y_true=y_true, y_pred=y_pred)\n",
    "    sns.heatmap(cm, annot=True, fmt='.0f', cmap='Blues', ax=ax)\n",
    "\n",
    "    ax.set_title('Confusion Matrix',fontsize=20, y=1.05)\n",
    "    ax.set_xlabel('Predicted Labels', fontsize=15)\n",
    "    ax.set_ylabel('True Labels', fontsize=15)\n",
    "\n",
    "    ax.xaxis.set_ticklabels(['Poor', 'Standard', 'Good'])\n",
    "    ax.yaxis.set_ticklabels(['Poor', 'Standard', 'Good'])\n",
    "    plt.show()"
   ],
   "metadata": {
    "collapsed": false
   }
  },
  {
   "cell_type": "code",
   "execution_count": 59,
   "outputs": [],
   "source": [
    "from tensorflow.keras.models import Sequential, load_model\n",
    "\n",
    "from tensorflow.keras.layers import Embedding, Dense, LSTM, RNN, Flatten, SimpleRNN\n",
    "from tensorflow.keras.layers import Conv1D, MaxPooling1D, Dropout, Input\n",
    "\n",
    "from tensorflow.keras.initializers import GlorotUniform\n",
    "\n",
    "from tensorflow.keras.callbacks import EarlyStopping, ModelCheckpoint\n",
    "\n",
    "from sklearn.metrics import confusion_matrix, classification_report\n",
    "import seaborn as sns"
   ],
   "metadata": {
    "collapsed": false
   }
  },
  {
   "cell_type": "markdown",
   "source": [
    "- conv1D: `[batch_size, time_steps, input_dimension]`\n",
    "- Current shape: `[batch_size, features]`\n",
    "-"
   ],
   "metadata": {
    "collapsed": false
   }
  },
  {
   "cell_type": "code",
   "execution_count": 60,
   "outputs": [],
   "source": [
    "sample_size = X_train.shape[0]\n",
    "time_steps = X_train.shape[1]\n",
    "input_dim = 1 # each feature is represented by 1 number\n"
   ],
   "metadata": {
    "collapsed": false
   }
  },
  {
   "cell_type": "code",
   "execution_count": 61,
   "outputs": [
    {
     "name": "stdout",
     "output_type": "stream",
     "text": [
      "After reshape train data set shape:\n",
      " (75000, 32, 1)\n",
      "1 Sample shape:\n",
      " (32, 1)\n",
      "An example sample:\n",
      " [[3.39200000e+03]\n",
      " [1.00000000e+00]\n",
      " [2.00000000e+01]\n",
      " [1.20000000e+01]\n",
      " [7.50924942e+00]\n",
      " [3.00000000e+00]\n",
      " [4.00000000e+00]\n",
      " [3.00000000e+00]\n",
      " [4.00000000e+00]\n",
      " [1.73205081e+00]\n",
      " [7.00000000e+00]\n",
      " [1.12700000e+01]\n",
      " [4.00000000e+00]\n",
      " [2.00000000e+00]\n",
      " [2.84601476e+01]\n",
      " [2.68226196e+01]\n",
      " [2.65000000e+02]\n",
      " [1.00000000e+00]\n",
      " [4.95749492e+01]\n",
      " [4.63307460e+00]\n",
      " [3.00000000e+00]\n",
      " [3.12494089e+02]\n",
      " [1.00000000e+00]\n",
      " [1.00000000e+00]\n",
      " [0.00000000e+00]\n",
      " [1.00000000e+00]\n",
      " [0.00000000e+00]\n",
      " [0.00000000e+00]\n",
      " [0.00000000e+00]\n",
      " [0.00000000e+00]\n",
      " [1.00000000e+00]\n",
      " [0.00000000e+00]]\n"
     ]
    }
   ],
   "source": [
    "X_train_reshape = X_train.reshape(sample_size, time_steps, input_dim)\n",
    "\n",
    "print(\"After reshape train data set shape:\\n\", X_train_reshape.shape)\n",
    "print(\"1 Sample shape:\\n\",X_train_reshape[0].shape)\n",
    "print(\"An example sample:\\n\", X_train_reshape[0])"
   ],
   "metadata": {
    "collapsed": false
   }
  },
  {
   "cell_type": "code",
   "execution_count": 62,
   "outputs": [
    {
     "data": {
      "text/plain": "array([[3.3920e+03, 1.0000e+00, 2.0000e+01, ..., 0.0000e+00, 1.0000e+00,\n        0.0000e+00],\n       [3.3920e+03, 2.0000e+00, 2.0000e+01, ..., 0.0000e+00, 1.0000e+00,\n        0.0000e+00],\n       [3.3920e+03, 3.0000e+00, 2.0000e+01, ..., 0.0000e+00, 1.0000e+00,\n        0.0000e+00],\n       ...,\n       [3.7932e+04, 4.0000e+00, 2.0000e+01, ..., 0.0000e+00, 0.0000e+00,\n        1.0000e+00],\n       [3.7932e+04, 5.0000e+00, 2.0000e+01, ..., 0.0000e+00, 0.0000e+00,\n        1.0000e+00],\n       [3.7932e+04, 6.0000e+00, 2.0000e+01, ..., 0.0000e+00, 0.0000e+00,\n        1.0000e+00]])"
     },
     "execution_count": 62,
     "metadata": {},
     "output_type": "execute_result"
    }
   ],
   "source": [
    "X_train"
   ],
   "metadata": {
    "collapsed": false
   }
  },
  {
   "cell_type": "code",
   "execution_count": 63,
   "outputs": [],
   "source": [
    "X_test_reshape = X_test.reshape(X_test.shape[0], X_test.shape[1], input_dim)"
   ],
   "metadata": {
    "collapsed": false
   }
  },
  {
   "cell_type": "markdown",
   "source": [
    "shape 참고: https://www.kaggle.com/code/kmkarakaya/1-dimensional-convolution-conv1d-for-regression"
   ],
   "metadata": {
    "collapsed": false
   }
  },
  {
   "cell_type": "code",
   "execution_count": 64,
   "outputs": [],
   "source": [
    "num_classes = 3\n",
    "\n",
    "# n_timesteps = train_X_reshaped.shape[1] # 31\n",
    "# n_features  = train_X_reshaped.shape[2] # 1"
   ],
   "metadata": {
    "collapsed": false
   }
  },
  {
   "cell_type": "code",
   "execution_count": 65,
   "outputs": [
    {
     "name": "stdout",
     "output_type": "stream",
     "text": [
      "Random seed set as 42\n",
      "Metal device set to: Apple M1 Pro\n"
     ]
    },
    {
     "name": "stderr",
     "output_type": "stream",
     "text": [
      "2022-11-14 22:32:28.935878: I tensorflow/core/common_runtime/pluggable_device/pluggable_device_factory.cc:306] Could not identify NUMA node of platform GPU ID 0, defaulting to 0. Your kernel may not have been built with NUMA support.\n",
      "2022-11-14 22:32:28.936023: I tensorflow/core/common_runtime/pluggable_device/pluggable_device_factory.cc:272] Created TensorFlow device (/job:localhost/replica:0/task:0/device:GPU:0 with 0 MB memory) -> physical PluggableDevice (device: 0, name: METAL, pci bus id: <undefined>)\n"
     ]
    }
   ],
   "source": [
    "set_seed(42)\n",
    "model = Sequential()\n",
    "model.add(Input(shape=(time_steps, input_dim)))\n",
    "model.add(Conv1D(128, kernel_size=2, activation='relu'))\n",
    "# model.add(MaxPooling1D(pool_size=3, strides=1))\n",
    "model.add(Dropout(0.3))\n",
    "model.add(Conv1D(128, kernel_size=4, activation='relu'))\n",
    "\n",
    "model.add(Dropout(0.3))\n",
    "model.add(Conv1D(128, kernel_size=8, activation='relu'))\n",
    "# model.add(Conv1D(64, kernel_size=4, strides=4, activation='relu'))\n",
    "model.add(MaxPooling1D())\n",
    "model.add(Dropout(0.3))\n",
    "\n",
    "model.add(Flatten())\n",
    "model.add(Dense(32, activation='relu'))\n",
    "model.add(Dropout(0.3))\n",
    "\n",
    "\n",
    "model.add(Dense(num_classes, activation='softmax'))"
   ],
   "metadata": {
    "collapsed": false
   }
  },
  {
   "cell_type": "code",
   "execution_count": 66,
   "outputs": [
    {
     "name": "stdout",
     "output_type": "stream",
     "text": [
      "Model: \"sequential\"\n",
      "_________________________________________________________________\n",
      " Layer (type)                Output Shape              Param #   \n",
      "=================================================================\n",
      " conv1d (Conv1D)             (None, 31, 128)           384       \n",
      "                                                                 \n",
      " dropout (Dropout)           (None, 31, 128)           0         \n",
      "                                                                 \n",
      " conv1d_1 (Conv1D)           (None, 28, 128)           65664     \n",
      "                                                                 \n",
      " dropout_1 (Dropout)         (None, 28, 128)           0         \n",
      "                                                                 \n",
      " conv1d_2 (Conv1D)           (None, 21, 128)           131200    \n",
      "                                                                 \n",
      " max_pooling1d (MaxPooling1D  (None, 10, 128)          0         \n",
      " )                                                               \n",
      "                                                                 \n",
      " dropout_2 (Dropout)         (None, 10, 128)           0         \n",
      "                                                                 \n",
      " flatten (Flatten)           (None, 1280)              0         \n",
      "                                                                 \n",
      " dense (Dense)               (None, 32)                40992     \n",
      "                                                                 \n",
      " dropout_3 (Dropout)         (None, 32)                0         \n",
      "                                                                 \n",
      " dense_1 (Dense)             (None, 3)                 99        \n",
      "                                                                 \n",
      "=================================================================\n",
      "Total params: 238,339\n",
      "Trainable params: 238,339\n",
      "Non-trainable params: 0\n",
      "_________________________________________________________________\n"
     ]
    }
   ],
   "source": [
    "model.summary()"
   ],
   "metadata": {
    "collapsed": false
   }
  },
  {
   "cell_type": "code",
   "execution_count": 67,
   "outputs": [],
   "source": [
    "model.compile(optimizer='adam', loss='sparse_categorical_crossentropy', metrics=['acc'])\n",
    "\n",
    "es = EarlyStopping(monitor='val_loss', mode='min', verbose=1, patience=5)\n",
    "mc = ModelCheckpoint('cnn_best_model.h5', monitor='val_acc', mode='max', verbose=1, save_best_only=True)"
   ],
   "metadata": {
    "collapsed": false
   }
  },
  {
   "cell_type": "code",
   "execution_count": 68,
   "outputs": [
    {
     "name": "stdout",
     "output_type": "stream",
     "text": [
      "Algorithm starts learning.....\n",
      "Epoch 1/50\n"
     ]
    },
    {
     "name": "stderr",
     "output_type": "stream",
     "text": [
      "2022-11-14 22:32:29.129724: W tensorflow/core/platform/profile_utils/cpu_utils.cc:128] Failed to get CPU frequency: 0 Hz\n",
      "2022-11-14 22:32:29.381263: I tensorflow/core/grappler/optimizers/custom_graph_optimizer_registry.cc:114] Plugin optimizer for device_type GPU is enabled.\n"
     ]
    },
    {
     "name": "stdout",
     "output_type": "stream",
     "text": [
      "938/938 [==============================] - ETA: 0s - loss: 1.4397 - acc: 0.5307"
     ]
    },
    {
     "name": "stderr",
     "output_type": "stream",
     "text": [
      "2022-11-14 22:32:42.297262: I tensorflow/core/grappler/optimizers/custom_graph_optimizer_registry.cc:114] Plugin optimizer for device_type GPU is enabled.\n"
     ]
    },
    {
     "name": "stdout",
     "output_type": "stream",
     "text": [
      "\n",
      "Epoch 1: val_acc improved from -inf to 0.54167, saving model to cnn_best_model.h5\n",
      "938/938 [==============================] - 15s 15ms/step - loss: 1.4397 - acc: 0.5307 - val_loss: 0.9976 - val_acc: 0.5417\n",
      "Epoch 2/50\n",
      "937/938 [============================>.] - ETA: 0s - loss: 0.9976 - acc: 0.5349\n",
      "Epoch 2: val_acc did not improve from 0.54167\n",
      "938/938 [==============================] - 14s 15ms/step - loss: 0.9976 - acc: 0.5348 - val_loss: 0.9971 - val_acc: 0.5417\n",
      "Epoch 3/50\n",
      "935/938 [============================>.] - ETA: 0s - loss: 0.9971 - acc: 0.5348\n",
      "Epoch 3: val_acc did not improve from 0.54167\n",
      "938/938 [==============================] - 14s 15ms/step - loss: 0.9972 - acc: 0.5348 - val_loss: 0.9972 - val_acc: 0.5417\n",
      "Epoch 4/50\n",
      "938/938 [==============================] - ETA: 0s - loss: 0.9972 - acc: 0.5348\n",
      "Epoch 4: val_acc did not improve from 0.54167\n",
      "938/938 [==============================] - 13s 14ms/step - loss: 0.9972 - acc: 0.5348 - val_loss: 0.9970 - val_acc: 0.5417\n",
      "Epoch 5/50\n",
      "935/938 [============================>.] - ETA: 0s - loss: 0.9972 - acc: 0.5347\n",
      "Epoch 5: val_acc did not improve from 0.54167\n",
      "938/938 [==============================] - 13s 14ms/step - loss: 0.9971 - acc: 0.5348 - val_loss: 0.9972 - val_acc: 0.5417\n",
      "Epoch 6/50\n",
      "938/938 [==============================] - ETA: 0s - loss: 1.0035 - acc: 0.5348\n",
      "Epoch 6: val_acc did not improve from 0.54167\n",
      "938/938 [==============================] - 14s 15ms/step - loss: 1.0035 - acc: 0.5348 - val_loss: 0.9971 - val_acc: 0.5417\n",
      "Epoch 7/50\n",
      "937/938 [============================>.] - ETA: 0s - loss: 0.9972 - acc: 0.5348\n",
      "Epoch 7: val_acc did not improve from 0.54167\n",
      "938/938 [==============================] - 14s 15ms/step - loss: 0.9971 - acc: 0.5348 - val_loss: 0.9969 - val_acc: 0.5417\n",
      "Epoch 8/50\n",
      "934/938 [============================>.] - ETA: 0s - loss: 0.9971 - acc: 0.5347\n",
      "Epoch 8: val_acc did not improve from 0.54167\n",
      "938/938 [==============================] - 13s 14ms/step - loss: 0.9971 - acc: 0.5348 - val_loss: 0.9970 - val_acc: 0.5417\n",
      "Epoch 9/50\n",
      "937/938 [============================>.] - ETA: 0s - loss: 0.9972 - acc: 0.5348\n",
      "Epoch 9: val_acc did not improve from 0.54167\n",
      "938/938 [==============================] - 13s 14ms/step - loss: 0.9972 - acc: 0.5348 - val_loss: 0.9972 - val_acc: 0.5417\n",
      "Epoch 10/50\n",
      "937/938 [============================>.] - ETA: 0s - loss: 0.9971 - acc: 0.5349\n",
      "Epoch 10: val_acc did not improve from 0.54167\n",
      "938/938 [==============================] - 14s 15ms/step - loss: 0.9971 - acc: 0.5348 - val_loss: 0.9971 - val_acc: 0.5417\n",
      "Epoch 11/50\n",
      "935/938 [============================>.] - ETA: 0s - loss: 0.9972 - acc: 0.5348\n",
      "Epoch 11: val_acc did not improve from 0.54167\n",
      "938/938 [==============================] - 15s 16ms/step - loss: 0.9971 - acc: 0.5348 - val_loss: 0.9970 - val_acc: 0.5417\n",
      "Epoch 12/50\n",
      "936/938 [============================>.] - ETA: 0s - loss: 0.9971 - acc: 0.5348\n",
      "Epoch 12: val_acc did not improve from 0.54167\n",
      "938/938 [==============================] - 14s 15ms/step - loss: 0.9971 - acc: 0.5348 - val_loss: 0.9973 - val_acc: 0.5417\n",
      "Epoch 12: early stopping\n",
      "Learning Durations:  0:02:47.062132\n"
     ]
    }
   ],
   "source": [
    "print('Algorithm starts learning.....')\n",
    "start_time = time()\n",
    "\n",
    "history = model.fit(X_train_reshape, y_train, epochs=50, batch_size=64, validation_split=0.2, callbacks=[es, mc] )\n",
    "\n",
    "print(\"Learning Durations: \", timedelta(seconds=(time() - start_time)))"
   ],
   "metadata": {
    "collapsed": false
   }
  },
  {
   "cell_type": "code",
   "execution_count": 69,
   "outputs": [
    {
     "data": {
      "text/plain": "<Figure size 576x360 with 1 Axes>",
      "image/png": "[encoded data removed]"
     },
     "metadata": {
      "needs_background": "light"
     },
     "output_type": "display_data"
    }
   ],
   "source": [
    "plot_loss(history)"
   ],
   "metadata": {
    "collapsed": false
   }
  },
  {
   "cell_type": "code",
   "execution_count": 70,
   "outputs": [
    {
     "data": {
      "text/plain": "<Figure size 576x360 with 1 Axes>",
      "image/png": "[encoded data removed]"
     },
     "metadata": {
      "needs_background": "light"
     },
     "output_type": "display_data"
    }
   ],
   "source": [
    "plot_acc(history)"
   ],
   "metadata": {
    "collapsed": false
   }
  },
  {
   "cell_type": "code",
   "execution_count": 71,
   "outputs": [
    {
     "ename": "NameError",
     "evalue": "name 'test_X_reshaped' is not defined",
     "output_type": "error",
     "traceback": [
      "\u001B[0;31m---------------------------------------------------------------------------\u001B[0m",
      "\u001B[0;31mNameError\u001B[0m                                 Traceback (most recent call last)",
      "Input \u001B[0;32mIn [71]\u001B[0m, in \u001B[0;36m<cell line: 2>\u001B[0;34m()\u001B[0m\n\u001B[1;32m      1\u001B[0m best_model \u001B[38;5;241m=\u001B[39m load_model(\u001B[38;5;124m'\u001B[39m\u001B[38;5;124m./cnn_best_model.h5\u001B[39m\u001B[38;5;124m'\u001B[39m)\n\u001B[0;32m----> 2\u001B[0m \u001B[38;5;28mprint\u001B[39m(\u001B[38;5;124m'\u001B[39m\u001B[38;5;124mTest Accuracy: \u001B[39m\u001B[38;5;132;01m{}\u001B[39;00m\u001B[38;5;124m'\u001B[39m\u001B[38;5;241m.\u001B[39mformat(best_model\u001B[38;5;241m.\u001B[39mevaluate(\u001B[43mtest_X_reshaped\u001B[49m, test_y)[\u001B[38;5;241m1\u001B[39m]))\n",
      "\u001B[0;31mNameError\u001B[0m: name 'test_X_reshaped' is not defined"
     ]
    }
   ],
   "source": [
    "best_model = load_model('./cnn_best_model.h5')\n",
    "print('Test Accuracy: {}'.format(best_model.evaluate(test_X_reshaped, test_y)[1]))"
   ],
   "metadata": {
    "collapsed": false
   }
  },
  {
   "cell_type": "code",
   "execution_count": null,
   "outputs": [],
   "source": [
    "clf_report_plot(test_y, test_X_reshaped, best_model)"
   ],
   "metadata": {
    "collapsed": false
   }
  }
 ],
 "metadata": {
  "kernelspec": {
   "display_name": "Python 3",
   "language": "python",
   "name": "python3"
  },
  "language_info": {
   "codemirror_mode": {
    "name": "ipython",
    "version": 2
   },
   "file_extension": ".py",
   "mimetype": "text/x-python",
   "name": "python",
   "nbconvert_exporter": "python",
   "pygments_lexer": "ipython2",
   "version": "2.7.6"
  }
 },
 "nbformat": 4,
 "nbformat_minor": 0
}
