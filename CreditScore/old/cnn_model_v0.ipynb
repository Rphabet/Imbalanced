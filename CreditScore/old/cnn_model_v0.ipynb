{
 "cells": [
  {
   "cell_type": "markdown",
   "source": [
    "# Credit Scoring CNN Modelling Version 1 (11/16)"
   ],
   "metadata": {
    "collapsed": false
   }
  },
  {
   "cell_type": "code",
   "execution_count": 3,
   "outputs": [],
   "source": [
    "import pandas as pd\n",
    "import numpy as np"
   ],
   "metadata": {
    "collapsed": false
   }
  },
  {
   "cell_type": "code",
   "execution_count": 4,
   "outputs": [
    {
     "data": {
      "text/plain": "       Customer_ID  Month  Age  Monthly_Inhand_Salary  Num_Bank_Accounts  \\\n0              576      1    1               7.509249                3.0   \n1              576      2    1               7.509249                3.0   \n2              576      3    1               7.509249                3.0   \n3              576      4    1               7.509249                3.0   \n4              576      5    1               7.509249                3.0   \n...            ...    ...  ...                    ...                ...   \n99995         9254      4    1               8.119522                4.0   \n99996         9254      5    1               8.119522                4.0   \n99997         9254      6    1               8.119522                4.0   \n99998         9254      7    1               8.119522                4.0   \n99999         9254      8    1               8.119522                4.0   \n\n       Num_Credit_Card  Interest_Rate  Num_of_Loan  Delay_from_due_date  \\\n0                  4.0            3.0            0                  3.0   \n1                  4.0            3.0            0                  3.0   \n2                  4.0            3.0            0                  3.0   \n3                  4.0            3.0            0                  5.0   \n4                  4.0            3.0            0                  6.0   \n...                ...            ...          ...                  ...   \n99995              6.0            7.0            0                 23.0   \n99996              6.0            7.0            0                 18.0   \n99997              6.0            7.0            0                 27.0   \n99998              6.0            7.0            0                 20.0   \n99999              6.0            7.0            0                 18.0   \n\n       Num_of_Delayed_Payment  ...  Credit_Mix  Outstanding_Debt  \\\n0                         7.0  ...           2         28.460148   \n1                         4.0  ...           2         28.460148   \n2                         7.0  ...           2         28.460148   \n3                         4.0  ...           2         28.460148   \n4                         4.0  ...           2         28.460148   \n...                       ...  ...         ...               ...   \n99995                     7.0  ...           2         22.413835   \n99996                     7.0  ...           2         22.413835   \n99997                     6.0  ...           2         22.413835   \n99998                     6.0  ...           2         22.413835   \n99999                     6.0  ...           2         22.413835   \n\n       Credit_Utilization_Ratio  Credit_History_Age  Payment_of_Min_Amount  \\\n0                     26.822620                   1                      1   \n1                     31.944960                   1                      1   \n2                     28.609352                   1                      1   \n3                     31.377862                   1                      1   \n4                     24.797347                   1                      1   \n...                         ...                 ...                    ...   \n99995                 34.663572                   1                      1   \n99996                 40.565631                   1                      1   \n99997                 41.255522                   1                      1   \n99998                 33.638208                   1                      1   \n99999                 34.192463                   1                      1   \n\n       Total_EMI_per_month  Amount_invested_monthly  Payment_Behaviour  \\\n0                49.574949                21.465380                  2   \n1                49.574949                21.465380                  3   \n2                49.574949                21.465380                  4   \n3                49.574949                21.465380                  5   \n4                49.574949                21.465380                  1   \n...                    ...                      ...                ...   \n99995            35.104023                24.028477                  0   \n99996            35.104023                24.028477                  1   \n99997            35.104023                24.028477                  0   \n99998            35.104023                24.028477                  3   \n99999            35.104023                24.028477                  1   \n\n       Monthly_Balance  Credit_Score  \n0           312.494089             2  \n1           284.629162             2  \n2           331.209863             2  \n3           223.451310             2  \n4           341.489231             2  \n...                ...           ...  \n99995       479.866228             0  \n99996       496.651610             0  \n99997       516.809083             0  \n99998       319.164979             1  \n99999       393.673696             0  \n\n[100000 rows x 22 columns]",
      "text/html": "<div>\n<style scoped>\n    .dataframe tbody tr th:only-of-type {\n        vertical-align: middle;\n    }\n\n    .dataframe tbody tr th {\n        vertical-align: top;\n    }\n\n    .dataframe thead th {\n        text-align: right;\n    }\n</style>\n<table border=\"1\" class=\"dataframe\">\n  <thead>\n    <tr style=\"text-align: right;\">\n      <th></th>\n      <th>Customer_ID</th>\n      <th>Month</th>\n      <th>Age</th>\n      <th>Monthly_Inhand_Salary</th>\n      <th>Num_Bank_Accounts</th>\n      <th>Num_Credit_Card</th>\n      <th>Interest_Rate</th>\n      <th>Num_of_Loan</th>\n      <th>Delay_from_due_date</th>\n      <th>Num_of_Delayed_Payment</th>\n      <th>...</th>\n      <th>Credit_Mix</th>\n      <th>Outstanding_Debt</th>\n      <th>Credit_Utilization_Ratio</th>\n      <th>Credit_History_Age</th>\n      <th>Payment_of_Min_Amount</th>\n      <th>Total_EMI_per_month</th>\n      <th>Amount_invested_monthly</th>\n      <th>Payment_Behaviour</th>\n      <th>Monthly_Balance</th>\n      <th>Credit_Score</th>\n    </tr>\n  </thead>\n  <tbody>\n    <tr>\n      <th>0</th>\n      <td>576</td>\n      <td>1</td>\n      <td>1</td>\n      <td>7.509249</td>\n      <td>3.0</td>\n      <td>4.0</td>\n      <td>3.0</td>\n      <td>0</td>\n      <td>3.0</td>\n      <td>7.0</td>\n      <td>...</td>\n      <td>2</td>\n      <td>28.460148</td>\n      <td>26.822620</td>\n      <td>1</td>\n      <td>1</td>\n      <td>49.574949</td>\n      <td>21.465380</td>\n      <td>2</td>\n      <td>312.494089</td>\n      <td>2</td>\n    </tr>\n    <tr>\n      <th>1</th>\n      <td>576</td>\n      <td>2</td>\n      <td>1</td>\n      <td>7.509249</td>\n      <td>3.0</td>\n      <td>4.0</td>\n      <td>3.0</td>\n      <td>0</td>\n      <td>3.0</td>\n      <td>4.0</td>\n      <td>...</td>\n      <td>2</td>\n      <td>28.460148</td>\n      <td>31.944960</td>\n      <td>1</td>\n      <td>1</td>\n      <td>49.574949</td>\n      <td>21.465380</td>\n      <td>3</td>\n      <td>284.629162</td>\n      <td>2</td>\n    </tr>\n    <tr>\n      <th>2</th>\n      <td>576</td>\n      <td>3</td>\n      <td>1</td>\n      <td>7.509249</td>\n      <td>3.0</td>\n      <td>4.0</td>\n      <td>3.0</td>\n      <td>0</td>\n      <td>3.0</td>\n      <td>7.0</td>\n      <td>...</td>\n      <td>2</td>\n      <td>28.460148</td>\n      <td>28.609352</td>\n      <td>1</td>\n      <td>1</td>\n      <td>49.574949</td>\n      <td>21.465380</td>\n      <td>4</td>\n      <td>331.209863</td>\n      <td>2</td>\n    </tr>\n    <tr>\n      <th>3</th>\n      <td>576</td>\n      <td>4</td>\n      <td>1</td>\n      <td>7.509249</td>\n      <td>3.0</td>\n      <td>4.0</td>\n      <td>3.0</td>\n      <td>0</td>\n      <td>5.0</td>\n      <td>4.0</td>\n      <td>...</td>\n      <td>2</td>\n      <td>28.460148</td>\n      <td>31.377862</td>\n      <td>1</td>\n      <td>1</td>\n      <td>49.574949</td>\n      <td>21.465380</td>\n      <td>5</td>\n      <td>223.451310</td>\n      <td>2</td>\n    </tr>\n    <tr>\n      <th>4</th>\n      <td>576</td>\n      <td>5</td>\n      <td>1</td>\n      <td>7.509249</td>\n      <td>3.0</td>\n      <td>4.0</td>\n      <td>3.0</td>\n      <td>0</td>\n      <td>6.0</td>\n      <td>4.0</td>\n      <td>...</td>\n      <td>2</td>\n      <td>28.460148</td>\n      <td>24.797347</td>\n      <td>1</td>\n      <td>1</td>\n      <td>49.574949</td>\n      <td>21.465380</td>\n      <td>1</td>\n      <td>341.489231</td>\n      <td>2</td>\n    </tr>\n    <tr>\n      <th>...</th>\n      <td>...</td>\n      <td>...</td>\n      <td>...</td>\n      <td>...</td>\n      <td>...</td>\n      <td>...</td>\n      <td>...</td>\n      <td>...</td>\n      <td>...</td>\n      <td>...</td>\n      <td>...</td>\n      <td>...</td>\n      <td>...</td>\n      <td>...</td>\n      <td>...</td>\n      <td>...</td>\n      <td>...</td>\n      <td>...</td>\n      <td>...</td>\n      <td>...</td>\n      <td>...</td>\n    </tr>\n    <tr>\n      <th>99995</th>\n      <td>9254</td>\n      <td>4</td>\n      <td>1</td>\n      <td>8.119522</td>\n      <td>4.0</td>\n      <td>6.0</td>\n      <td>7.0</td>\n      <td>0</td>\n      <td>23.0</td>\n      <td>7.0</td>\n      <td>...</td>\n      <td>2</td>\n      <td>22.413835</td>\n      <td>34.663572</td>\n      <td>1</td>\n      <td>1</td>\n      <td>35.104023</td>\n      <td>24.028477</td>\n      <td>0</td>\n      <td>479.866228</td>\n      <td>0</td>\n    </tr>\n    <tr>\n      <th>99996</th>\n      <td>9254</td>\n      <td>5</td>\n      <td>1</td>\n      <td>8.119522</td>\n      <td>4.0</td>\n      <td>6.0</td>\n      <td>7.0</td>\n      <td>0</td>\n      <td>18.0</td>\n      <td>7.0</td>\n      <td>...</td>\n      <td>2</td>\n      <td>22.413835</td>\n      <td>40.565631</td>\n      <td>1</td>\n      <td>1</td>\n      <td>35.104023</td>\n      <td>24.028477</td>\n      <td>1</td>\n      <td>496.651610</td>\n      <td>0</td>\n    </tr>\n    <tr>\n      <th>99997</th>\n      <td>9254</td>\n      <td>6</td>\n      <td>1</td>\n      <td>8.119522</td>\n      <td>4.0</td>\n      <td>6.0</td>\n      <td>7.0</td>\n      <td>0</td>\n      <td>27.0</td>\n      <td>6.0</td>\n      <td>...</td>\n      <td>2</td>\n      <td>22.413835</td>\n      <td>41.255522</td>\n      <td>1</td>\n      <td>1</td>\n      <td>35.104023</td>\n      <td>24.028477</td>\n      <td>0</td>\n      <td>516.809083</td>\n      <td>0</td>\n    </tr>\n    <tr>\n      <th>99998</th>\n      <td>9254</td>\n      <td>7</td>\n      <td>1</td>\n      <td>8.119522</td>\n      <td>4.0</td>\n      <td>6.0</td>\n      <td>7.0</td>\n      <td>0</td>\n      <td>20.0</td>\n      <td>6.0</td>\n      <td>...</td>\n      <td>2</td>\n      <td>22.413835</td>\n      <td>33.638208</td>\n      <td>1</td>\n      <td>1</td>\n      <td>35.104023</td>\n      <td>24.028477</td>\n      <td>3</td>\n      <td>319.164979</td>\n      <td>1</td>\n    </tr>\n    <tr>\n      <th>99999</th>\n      <td>9254</td>\n      <td>8</td>\n      <td>1</td>\n      <td>8.119522</td>\n      <td>4.0</td>\n      <td>6.0</td>\n      <td>7.0</td>\n      <td>0</td>\n      <td>18.0</td>\n      <td>6.0</td>\n      <td>...</td>\n      <td>2</td>\n      <td>22.413835</td>\n      <td>34.192463</td>\n      <td>1</td>\n      <td>1</td>\n      <td>35.104023</td>\n      <td>24.028477</td>\n      <td>1</td>\n      <td>393.673696</td>\n      <td>0</td>\n    </tr>\n  </tbody>\n</table>\n<p>100000 rows × 22 columns</p>\n</div>"
     },
     "execution_count": 4,
     "metadata": {},
     "output_type": "execute_result"
    }
   ],
   "source": [
    "df = pd.read_csv('./processed.csv')\n",
    "df"
   ],
   "metadata": {
    "collapsed": false
   }
  },
  {
   "cell_type": "markdown",
   "source": [
    "## DL"
   ],
   "metadata": {
    "collapsed": false
   }
  },
  {
   "cell_type": "markdown",
   "source": [
    "### CNN"
   ],
   "metadata": {
    "collapsed": false
   }
  },
  {
   "cell_type": "code",
   "execution_count": 5,
   "outputs": [],
   "source": [
    "df_dl = df.copy()"
   ],
   "metadata": {
    "collapsed": false
   }
  },
  {
   "cell_type": "code",
   "execution_count": 6,
   "outputs": [],
   "source": [
    "for col in df_dl.iloc[:, :-1].columns[df_dl.iloc[:, :-1].dtypes != 'float']:\n",
    "    df_dl[col] = df_dl[col].astype(np.float64)"
   ],
   "metadata": {
    "collapsed": false
   }
  },
  {
   "cell_type": "code",
   "execution_count": 7,
   "outputs": [
    {
     "data": {
      "text/plain": "Customer_ID                 float64\nMonth                       float64\nAge                         float64\nMonthly_Inhand_Salary       float64\nNum_Bank_Accounts           float64\nNum_Credit_Card             float64\nInterest_Rate               float64\nNum_of_Loan                 float64\nDelay_from_due_date         float64\nNum_of_Delayed_Payment      float64\nChanged_Credit_Limit        float64\nNum_Credit_Inquiries        float64\nCredit_Mix                  float64\nOutstanding_Debt            float64\nCredit_Utilization_Ratio    float64\nCredit_History_Age          float64\nPayment_of_Min_Amount       float64\nTotal_EMI_per_month         float64\nAmount_invested_monthly     float64\nPayment_Behaviour           float64\nMonthly_Balance             float64\nCredit_Score                  int64\ndtype: object"
     },
     "execution_count": 7,
     "metadata": {},
     "output_type": "execute_result"
    }
   ],
   "source": [
    "df_dl.dtypes"
   ],
   "metadata": {
    "collapsed": false
   }
  },
  {
   "cell_type": "code",
   "execution_count": 8,
   "outputs": [
    {
     "data": {
      "text/plain": "       Credit_Score\n0                 2\n1                 2\n2                 2\n3                 2\n4                 2\n...             ...\n99995             0\n99996             0\n99997             0\n99998             1\n99999             0\n\n[100000 rows x 1 columns]",
      "text/html": "<div>\n<style scoped>\n    .dataframe tbody tr th:only-of-type {\n        vertical-align: middle;\n    }\n\n    .dataframe tbody tr th {\n        vertical-align: top;\n    }\n\n    .dataframe thead th {\n        text-align: right;\n    }\n</style>\n<table border=\"1\" class=\"dataframe\">\n  <thead>\n    <tr style=\"text-align: right;\">\n      <th></th>\n      <th>Credit_Score</th>\n    </tr>\n  </thead>\n  <tbody>\n    <tr>\n      <th>0</th>\n      <td>2</td>\n    </tr>\n    <tr>\n      <th>1</th>\n      <td>2</td>\n    </tr>\n    <tr>\n      <th>2</th>\n      <td>2</td>\n    </tr>\n    <tr>\n      <th>3</th>\n      <td>2</td>\n    </tr>\n    <tr>\n      <th>4</th>\n      <td>2</td>\n    </tr>\n    <tr>\n      <th>...</th>\n      <td>...</td>\n    </tr>\n    <tr>\n      <th>99995</th>\n      <td>0</td>\n    </tr>\n    <tr>\n      <th>99996</th>\n      <td>0</td>\n    </tr>\n    <tr>\n      <th>99997</th>\n      <td>0</td>\n    </tr>\n    <tr>\n      <th>99998</th>\n      <td>1</td>\n    </tr>\n    <tr>\n      <th>99999</th>\n      <td>0</td>\n    </tr>\n  </tbody>\n</table>\n<p>100000 rows × 1 columns</p>\n</div>"
     },
     "execution_count": 8,
     "metadata": {},
     "output_type": "execute_result"
    }
   ],
   "source": [
    "df_dl.select_dtypes('int')"
   ],
   "metadata": {
    "collapsed": false
   }
  },
  {
   "cell_type": "code",
   "execution_count": 9,
   "outputs": [
    {
     "name": "stdout",
     "output_type": "stream",
     "text": [
      "(75000, 22)\n",
      "(25000, 22)\n"
     ]
    }
   ],
   "source": [
    "train_df = df_dl[df_dl['Month'] <= 6]\n",
    "test_df = df_dl[df_dl['Month'] > 6]\n",
    "\n",
    "print(train_df.shape)\n",
    "print(test_df.shape)"
   ],
   "metadata": {
    "collapsed": false
   }
  },
  {
   "cell_type": "code",
   "execution_count": 10,
   "outputs": [
    {
     "data": {
      "text/plain": "       Customer_ID  Month  Age  Monthly_Inhand_Salary  Num_Bank_Accounts  \\\n0            576.0    1.0  1.0               7.509249                3.0   \n1            576.0    2.0  1.0               7.509249                3.0   \n2            576.0    3.0  1.0               7.509249                3.0   \n3            576.0    4.0  1.0               7.509249                3.0   \n4            576.0    5.0  1.0               7.509249                3.0   \n...            ...    ...  ...                    ...                ...   \n99993       9254.0    2.0  1.0               8.119522                4.0   \n99994       9254.0    3.0  1.0               8.119522                4.0   \n99995       9254.0    4.0  1.0               8.119522                4.0   \n99996       9254.0    5.0  1.0               8.119522                4.0   \n99997       9254.0    6.0  1.0               8.119522                4.0   \n\n       Num_Credit_Card  Interest_Rate  Num_of_Loan  Delay_from_due_date  \\\n0                  4.0            3.0          0.0                  3.0   \n1                  4.0            3.0          0.0                  3.0   \n2                  4.0            3.0          0.0                  3.0   \n3                  4.0            3.0          0.0                  5.0   \n4                  4.0            3.0          0.0                  6.0   \n...                ...            ...          ...                  ...   \n99993              6.0            7.0          0.0                 23.0   \n99994              6.0            7.0          0.0                 20.0   \n99995              6.0            7.0          0.0                 23.0   \n99996              6.0            7.0          0.0                 18.0   \n99997              6.0            7.0          0.0                 27.0   \n\n       Num_of_Delayed_Payment  ...  Credit_Mix  Outstanding_Debt  \\\n0                         7.0  ...         2.0         28.460148   \n1                         4.0  ...         2.0         28.460148   \n2                         7.0  ...         2.0         28.460148   \n3                         4.0  ...         2.0         28.460148   \n4                         4.0  ...         2.0         28.460148   \n...                       ...  ...         ...               ...   \n99993                     6.0  ...         2.0         22.413835   \n99994                     6.0  ...         2.0         22.413835   \n99995                     7.0  ...         2.0         22.413835   \n99996                     7.0  ...         2.0         22.413835   \n99997                     6.0  ...         2.0         22.413835   \n\n       Credit_Utilization_Ratio  Credit_History_Age  Payment_of_Min_Amount  \\\n0                     26.822620                 1.0                    1.0   \n1                     31.944960                 1.0                    1.0   \n2                     28.609352                 1.0                    1.0   \n3                     31.377862                 1.0                    1.0   \n4                     24.797347                 1.0                    1.0   \n...                         ...                 ...                    ...   \n99993                 29.135447                 1.0                    1.0   \n99994                 39.323569                 1.0                    1.0   \n99995                 34.663572                 1.0                    1.0   \n99996                 40.565631                 1.0                    1.0   \n99997                 41.255522                 1.0                    1.0   \n\n       Total_EMI_per_month  Amount_invested_monthly  Payment_Behaviour  \\\n0                49.574949                21.465380                2.0   \n1                49.574949                21.465380                3.0   \n2                49.574949                21.465380                4.0   \n3                49.574949                21.465380                5.0   \n4                49.574949                21.465380                1.0   \n...                    ...                      ...                ...   \n99993            35.104023                24.028477                4.0   \n99994            35.104023                24.028477                1.0   \n99995            35.104023                24.028477                0.0   \n99996            35.104023                24.028477                1.0   \n99997            35.104023                24.028477                0.0   \n\n       Monthly_Balance  Credit_Score  \n0           312.494089             2  \n1           284.629162             2  \n2           331.209863             2  \n3           223.451310             2  \n4           341.489231             2  \n...                ...           ...  \n99993       400.104466             1  \n99994       410.256158             0  \n99995       479.866228             0  \n99996       496.651610             0  \n99997       516.809083             0  \n\n[75000 rows x 22 columns]",
      "text/html": "<div>\n<style scoped>\n    .dataframe tbody tr th:only-of-type {\n        vertical-align: middle;\n    }\n\n    .dataframe tbody tr th {\n        vertical-align: top;\n    }\n\n    .dataframe thead th {\n        text-align: right;\n    }\n</style>\n<table border=\"1\" class=\"dataframe\">\n  <thead>\n    <tr style=\"text-align: right;\">\n      <th></th>\n      <th>Customer_ID</th>\n      <th>Month</th>\n      <th>Age</th>\n      <th>Monthly_Inhand_Salary</th>\n      <th>Num_Bank_Accounts</th>\n      <th>Num_Credit_Card</th>\n      <th>Interest_Rate</th>\n      <th>Num_of_Loan</th>\n      <th>Delay_from_due_date</th>\n      <th>Num_of_Delayed_Payment</th>\n      <th>...</th>\n      <th>Credit_Mix</th>\n      <th>Outstanding_Debt</th>\n      <th>Credit_Utilization_Ratio</th>\n      <th>Credit_History_Age</th>\n      <th>Payment_of_Min_Amount</th>\n      <th>Total_EMI_per_month</th>\n      <th>Amount_invested_monthly</th>\n      <th>Payment_Behaviour</th>\n      <th>Monthly_Balance</th>\n      <th>Credit_Score</th>\n    </tr>\n  </thead>\n  <tbody>\n    <tr>\n      <th>0</th>\n      <td>576.0</td>\n      <td>1.0</td>\n      <td>1.0</td>\n      <td>7.509249</td>\n      <td>3.0</td>\n      <td>4.0</td>\n      <td>3.0</td>\n      <td>0.0</td>\n      <td>3.0</td>\n      <td>7.0</td>\n      <td>...</td>\n      <td>2.0</td>\n      <td>28.460148</td>\n      <td>26.822620</td>\n      <td>1.0</td>\n      <td>1.0</td>\n      <td>49.574949</td>\n      <td>21.465380</td>\n      <td>2.0</td>\n      <td>312.494089</td>\n      <td>2</td>\n    </tr>\n    <tr>\n      <th>1</th>\n      <td>576.0</td>\n      <td>2.0</td>\n      <td>1.0</td>\n      <td>7.509249</td>\n      <td>3.0</td>\n      <td>4.0</td>\n      <td>3.0</td>\n      <td>0.0</td>\n      <td>3.0</td>\n      <td>4.0</td>\n      <td>...</td>\n      <td>2.0</td>\n      <td>28.460148</td>\n      <td>31.944960</td>\n      <td>1.0</td>\n      <td>1.0</td>\n      <td>49.574949</td>\n      <td>21.465380</td>\n      <td>3.0</td>\n      <td>284.629162</td>\n      <td>2</td>\n    </tr>\n    <tr>\n      <th>2</th>\n      <td>576.0</td>\n      <td>3.0</td>\n      <td>1.0</td>\n      <td>7.509249</td>\n      <td>3.0</td>\n      <td>4.0</td>\n      <td>3.0</td>\n      <td>0.0</td>\n      <td>3.0</td>\n      <td>7.0</td>\n      <td>...</td>\n      <td>2.0</td>\n      <td>28.460148</td>\n      <td>28.609352</td>\n      <td>1.0</td>\n      <td>1.0</td>\n      <td>49.574949</td>\n      <td>21.465380</td>\n      <td>4.0</td>\n      <td>331.209863</td>\n      <td>2</td>\n    </tr>\n    <tr>\n      <th>3</th>\n      <td>576.0</td>\n      <td>4.0</td>\n      <td>1.0</td>\n      <td>7.509249</td>\n      <td>3.0</td>\n      <td>4.0</td>\n      <td>3.0</td>\n      <td>0.0</td>\n      <td>5.0</td>\n      <td>4.0</td>\n      <td>...</td>\n      <td>2.0</td>\n      <td>28.460148</td>\n      <td>31.377862</td>\n      <td>1.0</td>\n      <td>1.0</td>\n      <td>49.574949</td>\n      <td>21.465380</td>\n      <td>5.0</td>\n      <td>223.451310</td>\n      <td>2</td>\n    </tr>\n    <tr>\n      <th>4</th>\n      <td>576.0</td>\n      <td>5.0</td>\n      <td>1.0</td>\n      <td>7.509249</td>\n      <td>3.0</td>\n      <td>4.0</td>\n      <td>3.0</td>\n      <td>0.0</td>\n      <td>6.0</td>\n      <td>4.0</td>\n      <td>...</td>\n      <td>2.0</td>\n      <td>28.460148</td>\n      <td>24.797347</td>\n      <td>1.0</td>\n      <td>1.0</td>\n      <td>49.574949</td>\n      <td>21.465380</td>\n      <td>1.0</td>\n      <td>341.489231</td>\n      <td>2</td>\n    </tr>\n    <tr>\n      <th>...</th>\n      <td>...</td>\n      <td>...</td>\n      <td>...</td>\n      <td>...</td>\n      <td>...</td>\n      <td>...</td>\n      <td>...</td>\n      <td>...</td>\n      <td>...</td>\n      <td>...</td>\n      <td>...</td>\n      <td>...</td>\n      <td>...</td>\n      <td>...</td>\n      <td>...</td>\n      <td>...</td>\n      <td>...</td>\n      <td>...</td>\n      <td>...</td>\n      <td>...</td>\n      <td>...</td>\n    </tr>\n    <tr>\n      <th>99993</th>\n      <td>9254.0</td>\n      <td>2.0</td>\n      <td>1.0</td>\n      <td>8.119522</td>\n      <td>4.0</td>\n      <td>6.0</td>\n      <td>7.0</td>\n      <td>0.0</td>\n      <td>23.0</td>\n      <td>6.0</td>\n      <td>...</td>\n      <td>2.0</td>\n      <td>22.413835</td>\n      <td>29.135447</td>\n      <td>1.0</td>\n      <td>1.0</td>\n      <td>35.104023</td>\n      <td>24.028477</td>\n      <td>4.0</td>\n      <td>400.104466</td>\n      <td>1</td>\n    </tr>\n    <tr>\n      <th>99994</th>\n      <td>9254.0</td>\n      <td>3.0</td>\n      <td>1.0</td>\n      <td>8.119522</td>\n      <td>4.0</td>\n      <td>6.0</td>\n      <td>7.0</td>\n      <td>0.0</td>\n      <td>20.0</td>\n      <td>6.0</td>\n      <td>...</td>\n      <td>2.0</td>\n      <td>22.413835</td>\n      <td>39.323569</td>\n      <td>1.0</td>\n      <td>1.0</td>\n      <td>35.104023</td>\n      <td>24.028477</td>\n      <td>1.0</td>\n      <td>410.256158</td>\n      <td>0</td>\n    </tr>\n    <tr>\n      <th>99995</th>\n      <td>9254.0</td>\n      <td>4.0</td>\n      <td>1.0</td>\n      <td>8.119522</td>\n      <td>4.0</td>\n      <td>6.0</td>\n      <td>7.0</td>\n      <td>0.0</td>\n      <td>23.0</td>\n      <td>7.0</td>\n      <td>...</td>\n      <td>2.0</td>\n      <td>22.413835</td>\n      <td>34.663572</td>\n      <td>1.0</td>\n      <td>1.0</td>\n      <td>35.104023</td>\n      <td>24.028477</td>\n      <td>0.0</td>\n      <td>479.866228</td>\n      <td>0</td>\n    </tr>\n    <tr>\n      <th>99996</th>\n      <td>9254.0</td>\n      <td>5.0</td>\n      <td>1.0</td>\n      <td>8.119522</td>\n      <td>4.0</td>\n      <td>6.0</td>\n      <td>7.0</td>\n      <td>0.0</td>\n      <td>18.0</td>\n      <td>7.0</td>\n      <td>...</td>\n      <td>2.0</td>\n      <td>22.413835</td>\n      <td>40.565631</td>\n      <td>1.0</td>\n      <td>1.0</td>\n      <td>35.104023</td>\n      <td>24.028477</td>\n      <td>1.0</td>\n      <td>496.651610</td>\n      <td>0</td>\n    </tr>\n    <tr>\n      <th>99997</th>\n      <td>9254.0</td>\n      <td>6.0</td>\n      <td>1.0</td>\n      <td>8.119522</td>\n      <td>4.0</td>\n      <td>6.0</td>\n      <td>7.0</td>\n      <td>0.0</td>\n      <td>27.0</td>\n      <td>6.0</td>\n      <td>...</td>\n      <td>2.0</td>\n      <td>22.413835</td>\n      <td>41.255522</td>\n      <td>1.0</td>\n      <td>1.0</td>\n      <td>35.104023</td>\n      <td>24.028477</td>\n      <td>0.0</td>\n      <td>516.809083</td>\n      <td>0</td>\n    </tr>\n  </tbody>\n</table>\n<p>75000 rows × 22 columns</p>\n</div>"
     },
     "execution_count": 10,
     "metadata": {},
     "output_type": "execute_result"
    }
   ],
   "source": [
    "train_df"
   ],
   "metadata": {
    "collapsed": false
   }
  },
  {
   "cell_type": "code",
   "execution_count": 11,
   "outputs": [
    {
     "name": "stdout",
     "output_type": "stream",
     "text": [
      "(75000, 21)\n",
      "(75000,)\n",
      "(25000, 21)\n",
      "(25000,)\n"
     ]
    }
   ],
   "source": [
    "X_train, y_train = train_df.iloc[:, :-1], train_df.iloc[:, -1]\n",
    "X_test, y_test = test_df.iloc[:, :-1], test_df.iloc[:, -1]\n",
    "\n",
    "print(X_train.shape)\n",
    "print(y_train.shape)\n",
    "\n",
    "print(X_test.shape)\n",
    "print(y_test.shape)"
   ],
   "metadata": {
    "collapsed": false
   }
  },
  {
   "cell_type": "code",
   "execution_count": 12,
   "outputs": [
    {
     "data": {
      "text/plain": "       Customer_ID  Month  Age  Monthly_Inhand_Salary  Num_Bank_Accounts  \\\n0            576.0    1.0  1.0               7.509249                3.0   \n1            576.0    2.0  1.0               7.509249                3.0   \n2            576.0    3.0  1.0               7.509249                3.0   \n3            576.0    4.0  1.0               7.509249                3.0   \n4            576.0    5.0  1.0               7.509249                3.0   \n...            ...    ...  ...                    ...                ...   \n99993       9254.0    2.0  1.0               8.119522                4.0   \n99994       9254.0    3.0  1.0               8.119522                4.0   \n99995       9254.0    4.0  1.0               8.119522                4.0   \n99996       9254.0    5.0  1.0               8.119522                4.0   \n99997       9254.0    6.0  1.0               8.119522                4.0   \n\n       Num_Credit_Card  Interest_Rate  Num_of_Loan  Delay_from_due_date  \\\n0                  4.0            3.0          0.0                  3.0   \n1                  4.0            3.0          0.0                  3.0   \n2                  4.0            3.0          0.0                  3.0   \n3                  4.0            3.0          0.0                  5.0   \n4                  4.0            3.0          0.0                  6.0   \n...                ...            ...          ...                  ...   \n99993              6.0            7.0          0.0                 23.0   \n99994              6.0            7.0          0.0                 20.0   \n99995              6.0            7.0          0.0                 23.0   \n99996              6.0            7.0          0.0                 18.0   \n99997              6.0            7.0          0.0                 27.0   \n\n       Num_of_Delayed_Payment  ...  Num_Credit_Inquiries  Credit_Mix  \\\n0                         7.0  ...                   4.0         2.0   \n1                         4.0  ...                   4.0         2.0   \n2                         7.0  ...                   4.0         2.0   \n3                         4.0  ...                   4.0         2.0   \n4                         4.0  ...                   4.0         2.0   \n...                       ...  ...                   ...         ...   \n99993                     6.0  ...                   3.0         2.0   \n99994                     6.0  ...                   3.0         2.0   \n99995                     7.0  ...                   3.0         2.0   \n99996                     7.0  ...                   3.0         2.0   \n99997                     6.0  ...                   3.0         2.0   \n\n       Outstanding_Debt  Credit_Utilization_Ratio  Credit_History_Age  \\\n0             28.460148                 26.822620                 1.0   \n1             28.460148                 31.944960                 1.0   \n2             28.460148                 28.609352                 1.0   \n3             28.460148                 31.377862                 1.0   \n4             28.460148                 24.797347                 1.0   \n...                 ...                       ...                 ...   \n99993         22.413835                 29.135447                 1.0   \n99994         22.413835                 39.323569                 1.0   \n99995         22.413835                 34.663572                 1.0   \n99996         22.413835                 40.565631                 1.0   \n99997         22.413835                 41.255522                 1.0   \n\n       Payment_of_Min_Amount  Total_EMI_per_month  Amount_invested_monthly  \\\n0                        1.0            49.574949                21.465380   \n1                        1.0            49.574949                21.465380   \n2                        1.0            49.574949                21.465380   \n3                        1.0            49.574949                21.465380   \n4                        1.0            49.574949                21.465380   \n...                      ...                  ...                      ...   \n99993                    1.0            35.104023                24.028477   \n99994                    1.0            35.104023                24.028477   \n99995                    1.0            35.104023                24.028477   \n99996                    1.0            35.104023                24.028477   \n99997                    1.0            35.104023                24.028477   \n\n       Payment_Behaviour  Monthly_Balance  \n0                    2.0       312.494089  \n1                    3.0       284.629162  \n2                    4.0       331.209863  \n3                    5.0       223.451310  \n4                    1.0       341.489231  \n...                  ...              ...  \n99993                4.0       400.104466  \n99994                1.0       410.256158  \n99995                0.0       479.866228  \n99996                1.0       496.651610  \n99997                0.0       516.809083  \n\n[75000 rows x 21 columns]",
      "text/html": "<div>\n<style scoped>\n    .dataframe tbody tr th:only-of-type {\n        vertical-align: middle;\n    }\n\n    .dataframe tbody tr th {\n        vertical-align: top;\n    }\n\n    .dataframe thead th {\n        text-align: right;\n    }\n</style>\n<table border=\"1\" class=\"dataframe\">\n  <thead>\n    <tr style=\"text-align: right;\">\n      <th></th>\n      <th>Customer_ID</th>\n      <th>Month</th>\n      <th>Age</th>\n      <th>Monthly_Inhand_Salary</th>\n      <th>Num_Bank_Accounts</th>\n      <th>Num_Credit_Card</th>\n      <th>Interest_Rate</th>\n      <th>Num_of_Loan</th>\n      <th>Delay_from_due_date</th>\n      <th>Num_of_Delayed_Payment</th>\n      <th>...</th>\n      <th>Num_Credit_Inquiries</th>\n      <th>Credit_Mix</th>\n      <th>Outstanding_Debt</th>\n      <th>Credit_Utilization_Ratio</th>\n      <th>Credit_History_Age</th>\n      <th>Payment_of_Min_Amount</th>\n      <th>Total_EMI_per_month</th>\n      <th>Amount_invested_monthly</th>\n      <th>Payment_Behaviour</th>\n      <th>Monthly_Balance</th>\n    </tr>\n  </thead>\n  <tbody>\n    <tr>\n      <th>0</th>\n      <td>576.0</td>\n      <td>1.0</td>\n      <td>1.0</td>\n      <td>7.509249</td>\n      <td>3.0</td>\n      <td>4.0</td>\n      <td>3.0</td>\n      <td>0.0</td>\n      <td>3.0</td>\n      <td>7.0</td>\n      <td>...</td>\n      <td>4.0</td>\n      <td>2.0</td>\n      <td>28.460148</td>\n      <td>26.822620</td>\n      <td>1.0</td>\n      <td>1.0</td>\n      <td>49.574949</td>\n      <td>21.465380</td>\n      <td>2.0</td>\n      <td>312.494089</td>\n    </tr>\n    <tr>\n      <th>1</th>\n      <td>576.0</td>\n      <td>2.0</td>\n      <td>1.0</td>\n      <td>7.509249</td>\n      <td>3.0</td>\n      <td>4.0</td>\n      <td>3.0</td>\n      <td>0.0</td>\n      <td>3.0</td>\n      <td>4.0</td>\n      <td>...</td>\n      <td>4.0</td>\n      <td>2.0</td>\n      <td>28.460148</td>\n      <td>31.944960</td>\n      <td>1.0</td>\n      <td>1.0</td>\n      <td>49.574949</td>\n      <td>21.465380</td>\n      <td>3.0</td>\n      <td>284.629162</td>\n    </tr>\n    <tr>\n      <th>2</th>\n      <td>576.0</td>\n      <td>3.0</td>\n      <td>1.0</td>\n      <td>7.509249</td>\n      <td>3.0</td>\n      <td>4.0</td>\n      <td>3.0</td>\n      <td>0.0</td>\n      <td>3.0</td>\n      <td>7.0</td>\n      <td>...</td>\n      <td>4.0</td>\n      <td>2.0</td>\n      <td>28.460148</td>\n      <td>28.609352</td>\n      <td>1.0</td>\n      <td>1.0</td>\n      <td>49.574949</td>\n      <td>21.465380</td>\n      <td>4.0</td>\n      <td>331.209863</td>\n    </tr>\n    <tr>\n      <th>3</th>\n      <td>576.0</td>\n      <td>4.0</td>\n      <td>1.0</td>\n      <td>7.509249</td>\n      <td>3.0</td>\n      <td>4.0</td>\n      <td>3.0</td>\n      <td>0.0</td>\n      <td>5.0</td>\n      <td>4.0</td>\n      <td>...</td>\n      <td>4.0</td>\n      <td>2.0</td>\n      <td>28.460148</td>\n      <td>31.377862</td>\n      <td>1.0</td>\n      <td>1.0</td>\n      <td>49.574949</td>\n      <td>21.465380</td>\n      <td>5.0</td>\n      <td>223.451310</td>\n    </tr>\n    <tr>\n      <th>4</th>\n      <td>576.0</td>\n      <td>5.0</td>\n      <td>1.0</td>\n      <td>7.509249</td>\n      <td>3.0</td>\n      <td>4.0</td>\n      <td>3.0</td>\n      <td>0.0</td>\n      <td>6.0</td>\n      <td>4.0</td>\n      <td>...</td>\n      <td>4.0</td>\n      <td>2.0</td>\n      <td>28.460148</td>\n      <td>24.797347</td>\n      <td>1.0</td>\n      <td>1.0</td>\n      <td>49.574949</td>\n      <td>21.465380</td>\n      <td>1.0</td>\n      <td>341.489231</td>\n    </tr>\n    <tr>\n      <th>...</th>\n      <td>...</td>\n      <td>...</td>\n      <td>...</td>\n      <td>...</td>\n      <td>...</td>\n      <td>...</td>\n      <td>...</td>\n      <td>...</td>\n      <td>...</td>\n      <td>...</td>\n      <td>...</td>\n      <td>...</td>\n      <td>...</td>\n      <td>...</td>\n      <td>...</td>\n      <td>...</td>\n      <td>...</td>\n      <td>...</td>\n      <td>...</td>\n      <td>...</td>\n      <td>...</td>\n    </tr>\n    <tr>\n      <th>99993</th>\n      <td>9254.0</td>\n      <td>2.0</td>\n      <td>1.0</td>\n      <td>8.119522</td>\n      <td>4.0</td>\n      <td>6.0</td>\n      <td>7.0</td>\n      <td>0.0</td>\n      <td>23.0</td>\n      <td>6.0</td>\n      <td>...</td>\n      <td>3.0</td>\n      <td>2.0</td>\n      <td>22.413835</td>\n      <td>29.135447</td>\n      <td>1.0</td>\n      <td>1.0</td>\n      <td>35.104023</td>\n      <td>24.028477</td>\n      <td>4.0</td>\n      <td>400.104466</td>\n    </tr>\n    <tr>\n      <th>99994</th>\n      <td>9254.0</td>\n      <td>3.0</td>\n      <td>1.0</td>\n      <td>8.119522</td>\n      <td>4.0</td>\n      <td>6.0</td>\n      <td>7.0</td>\n      <td>0.0</td>\n      <td>20.0</td>\n      <td>6.0</td>\n      <td>...</td>\n      <td>3.0</td>\n      <td>2.0</td>\n      <td>22.413835</td>\n      <td>39.323569</td>\n      <td>1.0</td>\n      <td>1.0</td>\n      <td>35.104023</td>\n      <td>24.028477</td>\n      <td>1.0</td>\n      <td>410.256158</td>\n    </tr>\n    <tr>\n      <th>99995</th>\n      <td>9254.0</td>\n      <td>4.0</td>\n      <td>1.0</td>\n      <td>8.119522</td>\n      <td>4.0</td>\n      <td>6.0</td>\n      <td>7.0</td>\n      <td>0.0</td>\n      <td>23.0</td>\n      <td>7.0</td>\n      <td>...</td>\n      <td>3.0</td>\n      <td>2.0</td>\n      <td>22.413835</td>\n      <td>34.663572</td>\n      <td>1.0</td>\n      <td>1.0</td>\n      <td>35.104023</td>\n      <td>24.028477</td>\n      <td>0.0</td>\n      <td>479.866228</td>\n    </tr>\n    <tr>\n      <th>99996</th>\n      <td>9254.0</td>\n      <td>5.0</td>\n      <td>1.0</td>\n      <td>8.119522</td>\n      <td>4.0</td>\n      <td>6.0</td>\n      <td>7.0</td>\n      <td>0.0</td>\n      <td>18.0</td>\n      <td>7.0</td>\n      <td>...</td>\n      <td>3.0</td>\n      <td>2.0</td>\n      <td>22.413835</td>\n      <td>40.565631</td>\n      <td>1.0</td>\n      <td>1.0</td>\n      <td>35.104023</td>\n      <td>24.028477</td>\n      <td>1.0</td>\n      <td>496.651610</td>\n    </tr>\n    <tr>\n      <th>99997</th>\n      <td>9254.0</td>\n      <td>6.0</td>\n      <td>1.0</td>\n      <td>8.119522</td>\n      <td>4.0</td>\n      <td>6.0</td>\n      <td>7.0</td>\n      <td>0.0</td>\n      <td>27.0</td>\n      <td>6.0</td>\n      <td>...</td>\n      <td>3.0</td>\n      <td>2.0</td>\n      <td>22.413835</td>\n      <td>41.255522</td>\n      <td>1.0</td>\n      <td>1.0</td>\n      <td>35.104023</td>\n      <td>24.028477</td>\n      <td>0.0</td>\n      <td>516.809083</td>\n    </tr>\n  </tbody>\n</table>\n<p>75000 rows × 21 columns</p>\n</div>"
     },
     "execution_count": 12,
     "metadata": {},
     "output_type": "execute_result"
    }
   ],
   "source": [
    "X_train"
   ],
   "metadata": {
    "collapsed": false
   }
  },
  {
   "cell_type": "code",
   "execution_count": 13,
   "outputs": [
    {
     "name": "stdout",
     "output_type": "stream",
     "text": [
      "Before Reshaping... :\n",
      "(75000, 21)\n",
      "(25000, 21)\n",
      "\n",
      "\n",
      "After Reshaping... : \n",
      "(75000, 21, 1)\n",
      "(25000, 21, 1)\n"
     ]
    }
   ],
   "source": [
    "sample_size = X_train.shape[0]\n",
    "num_features = X_train.shape[1]\n",
    "input_dim = 1 # each feature is represented by 1 number\n",
    "\n",
    "print('Before Reshaping... :')\n",
    "print(X_train.shape)\n",
    "print(X_test.shape)\n",
    "print('\\n')\n",
    "\n",
    "X_train_reshape = np.reshape(X_train.values, newshape=(sample_size, num_features, input_dim))\n",
    "X_test_reshape = np.reshape(X_test.values, newshape=(X_test.shape[0], num_features, input_dim))\n",
    "\n",
    "print('After Reshaping... : ')\n",
    "print(X_train_reshape.shape)\n",
    "print(X_test_reshape.shape)"
   ],
   "metadata": {
    "collapsed": false
   }
  },
  {
   "cell_type": "code",
   "execution_count": 14,
   "outputs": [
    {
     "name": "stdout",
     "output_type": "stream",
     "text": [
      "1 Sample shape:\n",
      " (21, 1)\n",
      "An example sample:\n",
      " [[576.        ]\n",
      " [  1.        ]\n",
      " [  1.        ]\n",
      " [  7.50924942]\n",
      " [  3.        ]\n",
      " [  4.        ]\n",
      " [  3.        ]\n",
      " [  0.        ]\n",
      " [  3.        ]\n",
      " [  7.        ]\n",
      " [  0.        ]\n",
      " [  4.        ]\n",
      " [  2.        ]\n",
      " [ 28.46014758]\n",
      " [ 26.82261962]\n",
      " [  1.        ]\n",
      " [  1.        ]\n",
      " [ 49.57494921]\n",
      " [ 21.46538026]\n",
      " [  2.        ]\n",
      " [312.49408868]]\n"
     ]
    }
   ],
   "source": [
    "print(\"1 Sample shape:\\n\", X_train_reshape[0].shape)\n",
    "print(\"An example sample:\\n\", X_train_reshape[0])"
   ],
   "metadata": {
    "collapsed": false
   }
  },
  {
   "cell_type": "code",
   "execution_count": 15,
   "outputs": [],
   "source": [
    "import tensorflow as tf\n",
    "from time import time\n",
    "from datetime import timedelta\n",
    "from sklearn.metrics import classification_report, confusion_matrix, accuracy_score"
   ],
   "metadata": {
    "collapsed": false
   }
  },
  {
   "cell_type": "code",
   "execution_count": 16,
   "outputs": [],
   "source": [
    "import matplotlib.pyplot as plt\n",
    "import seaborn as sns"
   ],
   "metadata": {
    "collapsed": false
   }
  },
  {
   "cell_type": "code",
   "execution_count": 17,
   "outputs": [],
   "source": [
    "# loss와 accuracy 시각화를 위한 함수 정의\n",
    "def plot_loss(history):\n",
    "    plt.figure(figsize=(8, 5))\n",
    "    plt.plot(history.history['loss'], 'b-', label='loss')\n",
    "    plt.plot(history.history['val_loss'], 'g--', label='val_loss')\n",
    "    plt.xlabel('Epochs')\n",
    "    plt.ylabel('Loss')\n",
    "    plt.title('Loss vs Val Loss')\n",
    "    plt.legend()\n",
    "    plt.show()\n",
    "\n",
    "def plot_acc(history):\n",
    "    plt.figure(figsize=(8, 5))\n",
    "    plt.plot(history.history['acc'], 'b-', label='acc')\n",
    "    plt.plot(history.history['val_acc'], 'g--', label='val_acc')\n",
    "    plt.xlabel('Epochs')\n",
    "    plt.ylabel('Accuracy')\n",
    "    plt.title('Accuracy vs Val Accuracy')\n",
    "    plt.legend()\n",
    "    plt.show()"
   ],
   "metadata": {
    "collapsed": false
   }
  },
  {
   "cell_type": "code",
   "execution_count": 18,
   "outputs": [],
   "source": [
    "# 결과 재활용을 위한 시드 설정 함수 정의\n",
    "import random\n",
    "def set_seed(seed: int = 42) -> None:\n",
    "    random.seed(seed)\n",
    "    np.random.seed(seed)\n",
    "    tf.random.set_seed(seed)\n",
    "    tf.experimental.numpy.random.seed(seed)\n",
    "    # When running on the CuDNN backend, two further options must be set\n",
    "    os.environ['TF_CUDNN_DETERMINISTIC'] = '1'\n",
    "    os.environ['TF_DETERMINISTIC_OPS'] = '1'\n",
    "    # Set a fixed value for the hash seed\n",
    "    os.environ[\"PYTHONHASHSEED\"] = str(seed)\n",
    "    print(f\"Random seed set as {seed}\")"
   ],
   "metadata": {
    "collapsed": false
   }
  },
  {
   "cell_type": "code",
   "execution_count": 19,
   "outputs": [],
   "source": [
    "# 분류모델 결과 평가를 위한 혼동행렬 리포트 & 시각화 함수 정의\n",
    "def clf_report_plot(y_true, X_test, model):\n",
    "\n",
    "    result = model.predict(X_test)\n",
    "\n",
    "    y_pred = []\n",
    "    for pred in result:\n",
    "        y_pred.append(np.argmax(pred))\n",
    "\n",
    "    print(classification_report(y_true, y_pred, digits=4))\n",
    "\n",
    "    # plt.rc('font', family='NanumGothicOTF') # For MacOS\n",
    "    plt.rc('font', family='NanumGothic') # For Windows\n",
    "\n",
    "    ax = plt.subplot()\n",
    "    ax.figure.set_size_inches(10, 10)\n",
    "    cm = confusion_matrix(y_true=y_true, y_pred=y_pred)\n",
    "    sns.heatmap(cm, annot=True, fmt='.0f', cmap='Blues', ax=ax)\n",
    "\n",
    "    ax.set_title('Confusion Matrix',fontsize=20, y=1.05)\n",
    "    ax.set_xlabel('Predicted Labels', fontsize=15)\n",
    "    ax.set_ylabel('True Labels', fontsize=15)\n",
    "\n",
    "    ax.xaxis.set_ticklabels(['Poor', 'Standard', 'Good'])\n",
    "    ax.yaxis.set_ticklabels(['Poor', 'Standard', 'Good'])\n",
    "    plt.show()"
   ],
   "metadata": {
    "collapsed": false
   }
  },
  {
   "cell_type": "code",
   "execution_count": 20,
   "outputs": [],
   "source": [
    "from tensorflow.keras.models import Sequential, load_model, Model\n",
    "\n",
    "from tensorflow.keras.layers import Dense, LSTM, Flatten\n",
    "from tensorflow.keras.layers import Conv1D, MaxPooling1D, Dropout, Input\n",
    "\n",
    "from tensorflow.keras.callbacks import EarlyStopping, ModelCheckpoint\n",
    "\n",
    "from sklearn.metrics import confusion_matrix, classification_report"
   ],
   "metadata": {
    "collapsed": false
   }
  },
  {
   "cell_type": "code",
   "execution_count": 21,
   "outputs": [],
   "source": [
    "import os"
   ],
   "metadata": {
    "collapsed": false
   }
  },
  {
   "cell_type": "code",
   "execution_count": 22,
   "outputs": [],
   "source": [
    "num_classes = 3"
   ],
   "metadata": {
    "collapsed": false
   }
  },
  {
   "cell_type": "code",
   "execution_count": 23,
   "outputs": [
    {
     "name": "stdout",
     "output_type": "stream",
     "text": [
      "Random seed set as 42\n",
      "Metal device set to: Apple M1 Pro\n"
     ]
    },
    {
     "name": "stderr",
     "output_type": "stream",
     "text": [
      "2022-11-17 08:31:57.652753: I tensorflow/core/common_runtime/pluggable_device/pluggable_device_factory.cc:306] Could not identify NUMA node of platform GPU ID 0, defaulting to 0. Your kernel may not have been built with NUMA support.\n",
      "2022-11-17 08:31:57.652886: I tensorflow/core/common_runtime/pluggable_device/pluggable_device_factory.cc:272] Created TensorFlow device (/job:localhost/replica:0/task:0/device:GPU:0 with 0 MB memory) -> physical PluggableDevice (device: 0, name: METAL, pci bus id: <undefined>)\n"
     ]
    }
   ],
   "source": [
    "set_seed(42)\n",
    "model = Sequential()\n",
    "model.add(Input(shape=(num_features, input_dim)))\n",
    "model.add(Conv1D(256, kernel_size=2, activation='relu'))\n",
    "# model.add(MaxPooling1D(pool_size=3, strides=1))\n",
    "model.add(Dropout(0.3))\n",
    "model.add(Conv1D(256, kernel_size=4, activation='relu'))\n",
    "\n",
    "model.add(Dropout(0.3))\n",
    "model.add(Conv1D(256, kernel_size=8, activation='relu'))\n",
    "# model.add(Conv1D(64, kernel_size=4, strides=4, activation='relu'))\n",
    "model.add(MaxPooling1D())\n",
    "model.add(Dropout(0.3))\n",
    "\n",
    "model.add(Flatten())\n",
    "model.add(Dense(32, activation='relu'))\n",
    "model.add(Dropout(0.3))\n",
    "\n",
    "\n",
    "model.add(Dense(num_classes, activation='softmax'))"
   ],
   "metadata": {
    "collapsed": false
   }
  },
  {
   "cell_type": "code",
   "execution_count": 24,
   "outputs": [
    {
     "name": "stdout",
     "output_type": "stream",
     "text": [
      "Model: \"sequential\"\n",
      "_________________________________________________________________\n",
      " Layer (type)                Output Shape              Param #   \n",
      "=================================================================\n",
      " conv1d (Conv1D)             (None, 20, 256)           768       \n",
      "                                                                 \n",
      " dropout (Dropout)           (None, 20, 256)           0         \n",
      "                                                                 \n",
      " conv1d_1 (Conv1D)           (None, 17, 256)           262400    \n",
      "                                                                 \n",
      " dropout_1 (Dropout)         (None, 17, 256)           0         \n",
      "                                                                 \n",
      " conv1d_2 (Conv1D)           (None, 10, 256)           524544    \n",
      "                                                                 \n",
      " max_pooling1d (MaxPooling1D  (None, 5, 256)           0         \n",
      " )                                                               \n",
      "                                                                 \n",
      " dropout_2 (Dropout)         (None, 5, 256)            0         \n",
      "                                                                 \n",
      " flatten (Flatten)           (None, 1280)              0         \n",
      "                                                                 \n",
      " dense (Dense)               (None, 32)                40992     \n",
      "                                                                 \n",
      " dropout_3 (Dropout)         (None, 32)                0         \n",
      "                                                                 \n",
      " dense_1 (Dense)             (None, 3)                 99        \n",
      "                                                                 \n",
      "=================================================================\n",
      "Total params: 828,803\n",
      "Trainable params: 828,803\n",
      "Non-trainable params: 0\n",
      "_________________________________________________________________\n"
     ]
    }
   ],
   "source": [
    "model.summary()"
   ],
   "metadata": {
    "collapsed": false
   }
  },
  {
   "cell_type": "code",
   "execution_count": 25,
   "outputs": [],
   "source": [
    "model.compile(optimizer='adam', loss='sparse_categorical_crossentropy', metrics=['acc'])\n",
    "\n",
    "es = EarlyStopping(monitor='val_loss', mode='min', verbose=1, patience=5)\n",
    "mc = ModelCheckpoint('cnn_best_model.h5', monitor='val_acc', mode='max', verbose=1, save_best_only=True)"
   ],
   "metadata": {
    "collapsed": false
   }
  },
  {
   "cell_type": "code",
   "execution_count": 26,
   "outputs": [
    {
     "name": "stdout",
     "output_type": "stream",
     "text": [
      "Algorithm starts learning.....\n",
      "Epoch 1/50\n"
     ]
    },
    {
     "name": "stderr",
     "output_type": "stream",
     "text": [
      "/Users/ben/miniforge3/envs/tf_mini/lib/python3.8/site-packages/keras/engine/data_adapter.py:1699: FutureWarning: The behavior of `series[i:j]` with an integer-dtype index is deprecated. In a future version, this will be treated as *label-based* indexing, consistent with e.g. `series[i]` lookups. To retain the old behavior, use `series.iloc[i:j]`. To get the future behavior, use `series.loc[i:j]`.\n",
      "  return t[start:end]\n",
      "2022-11-17 08:32:07.036332: W tensorflow/core/platform/profile_utils/cpu_utils.cc:128] Failed to get CPU frequency: 0 Hz\n",
      "2022-11-17 08:32:07.330192: I tensorflow/core/grappler/optimizers/custom_graph_optimizer_registry.cc:114] Plugin optimizer for device_type GPU is enabled.\n"
     ]
    },
    {
     "name": "stdout",
     "output_type": "stream",
     "text": [
      "938/938 [==============================] - ETA: 0s - loss: 1.0210 - acc: 0.5617"
     ]
    },
    {
     "name": "stderr",
     "output_type": "stream",
     "text": [
      "2022-11-17 08:32:24.521702: I tensorflow/core/grappler/optimizers/custom_graph_optimizer_registry.cc:114] Plugin optimizer for device_type GPU is enabled.\n"
     ]
    },
    {
     "name": "stdout",
     "output_type": "stream",
     "text": [
      "\n",
      "Epoch 1: val_acc improved from -inf to 0.59387, saving model to cnn_best_model.h5\n",
      "938/938 [==============================] - 20s 20ms/step - loss: 1.0210 - acc: 0.5617 - val_loss: 0.8485 - val_acc: 0.5939\n",
      "Epoch 2/50\n",
      "935/938 [============================>.] - ETA: 0s - loss: 0.9124 - acc: 0.5848\n",
      "Epoch 2: val_acc did not improve from 0.59387\n",
      "938/938 [==============================] - 18s 19ms/step - loss: 0.9127 - acc: 0.5846 - val_loss: 0.8506 - val_acc: 0.5775\n",
      "Epoch 3/50\n",
      "936/938 [============================>.] - ETA: 0s - loss: 0.9026 - acc: 0.5941\n",
      "Epoch 3: val_acc improved from 0.59387 to 0.61613, saving model to cnn_best_model.h5\n",
      "938/938 [==============================] - 18s 19ms/step - loss: 0.9026 - acc: 0.5941 - val_loss: 0.8218 - val_acc: 0.6161\n",
      "Epoch 4/50\n",
      "937/938 [============================>.] - ETA: 0s - loss: 0.8945 - acc: 0.6005\n",
      "Epoch 4: val_acc improved from 0.61613 to 0.61887, saving model to cnn_best_model.h5\n",
      "938/938 [==============================] - 18s 19ms/step - loss: 0.8945 - acc: 0.6005 - val_loss: 0.8080 - val_acc: 0.6189\n",
      "Epoch 5/50\n",
      "938/938 [==============================] - ETA: 0s - loss: 0.8867 - acc: 0.6044\n",
      "Epoch 5: val_acc did not improve from 0.61887\n",
      "938/938 [==============================] - 18s 19ms/step - loss: 0.8867 - acc: 0.6044 - val_loss: 0.8141 - val_acc: 0.6173\n",
      "Epoch 6/50\n",
      "936/938 [============================>.] - ETA: 0s - loss: 0.8616 - acc: 0.6120\n",
      "Epoch 6: val_acc improved from 0.61887 to 0.64160, saving model to cnn_best_model.h5\n",
      "938/938 [==============================] - 19s 20ms/step - loss: 0.8615 - acc: 0.6120 - val_loss: 0.7596 - val_acc: 0.6416\n",
      "Epoch 7/50\n",
      "936/938 [============================>.] - ETA: 0s - loss: 0.7962 - acc: 0.6318\n",
      "Epoch 7: val_acc did not improve from 0.64160\n",
      "938/938 [==============================] - 18s 19ms/step - loss: 0.7962 - acc: 0.6318 - val_loss: 0.7412 - val_acc: 0.6356\n",
      "Epoch 8/50\n",
      "937/938 [============================>.] - ETA: 0s - loss: 0.7835 - acc: 0.6343\n",
      "Epoch 8: val_acc improved from 0.64160 to 0.64340, saving model to cnn_best_model.h5\n",
      "938/938 [==============================] - 18s 19ms/step - loss: 0.7835 - acc: 0.6343 - val_loss: 0.7338 - val_acc: 0.6434\n",
      "Epoch 9/50\n",
      "936/938 [============================>.] - ETA: 0s - loss: 0.7780 - acc: 0.6363\n",
      "Epoch 9: val_acc did not improve from 0.64340\n",
      "938/938 [==============================] - 18s 19ms/step - loss: 0.7780 - acc: 0.6363 - val_loss: 0.7062 - val_acc: 0.6404\n",
      "Epoch 10/50\n",
      "938/938 [==============================] - ETA: 0s - loss: 0.7721 - acc: 0.6393\n",
      "Epoch 10: val_acc improved from 0.64340 to 0.65113, saving model to cnn_best_model.h5\n",
      "938/938 [==============================] - 18s 19ms/step - loss: 0.7721 - acc: 0.6393 - val_loss: 0.7134 - val_acc: 0.6511\n",
      "Epoch 11/50\n",
      "935/938 [============================>.] - ETA: 0s - loss: 0.7716 - acc: 0.6390\n",
      "Epoch 11: val_acc improved from 0.65113 to 0.65233, saving model to cnn_best_model.h5\n",
      "938/938 [==============================] - 18s 19ms/step - loss: 0.7714 - acc: 0.6392 - val_loss: 0.7148 - val_acc: 0.6523\n",
      "Epoch 12/50\n",
      "936/938 [============================>.] - ETA: 0s - loss: 0.7666 - acc: 0.6408\n",
      "Epoch 12: val_acc improved from 0.65233 to 0.66367, saving model to cnn_best_model.h5\n",
      "938/938 [==============================] - 18s 19ms/step - loss: 0.7668 - acc: 0.6407 - val_loss: 0.6968 - val_acc: 0.6637\n",
      "Epoch 13/50\n",
      "937/938 [============================>.] - ETA: 0s - loss: 0.7258 - acc: 0.6741\n",
      "Epoch 13: val_acc improved from 0.66367 to 0.71860, saving model to cnn_best_model.h5\n",
      "938/938 [==============================] - 18s 19ms/step - loss: 0.7260 - acc: 0.6741 - val_loss: 0.6866 - val_acc: 0.7186\n",
      "Epoch 14/50\n",
      "936/938 [============================>.] - ETA: 0s - loss: 0.6842 - acc: 0.7015\n",
      "Epoch 14: val_acc improved from 0.71860 to 0.72027, saving model to cnn_best_model.h5\n",
      "938/938 [==============================] - 18s 19ms/step - loss: 0.6843 - acc: 0.7014 - val_loss: 0.6248 - val_acc: 0.7203\n",
      "Epoch 15/50\n",
      "937/938 [============================>.] - ETA: 0s - loss: 0.6697 - acc: 0.7036\n",
      "Epoch 15: val_acc did not improve from 0.72027\n",
      "938/938 [==============================] - 18s 19ms/step - loss: 0.6697 - acc: 0.7036 - val_loss: 0.6171 - val_acc: 0.7184\n",
      "Epoch 16/50\n",
      "938/938 [==============================] - ETA: 0s - loss: 0.6526 - acc: 0.7057\n",
      "Epoch 16: val_acc improved from 0.72027 to 0.72140, saving model to cnn_best_model.h5\n",
      "938/938 [==============================] - 18s 19ms/step - loss: 0.6526 - acc: 0.7057 - val_loss: 0.6034 - val_acc: 0.7214\n",
      "Epoch 17/50\n",
      "936/938 [============================>.] - ETA: 0s - loss: 0.6424 - acc: 0.7065\n",
      "Epoch 17: val_acc improved from 0.72140 to 0.72633, saving model to cnn_best_model.h5\n",
      "938/938 [==============================] - 18s 19ms/step - loss: 0.6423 - acc: 0.7065 - val_loss: 0.6098 - val_acc: 0.7263\n",
      "Epoch 18/50\n",
      "938/938 [==============================] - ETA: 0s - loss: 0.6407 - acc: 0.7064\n",
      "Epoch 18: val_acc did not improve from 0.72633\n",
      "938/938 [==============================] - 18s 19ms/step - loss: 0.6407 - acc: 0.7064 - val_loss: 0.6038 - val_acc: 0.7254\n",
      "Epoch 19/50\n",
      "936/938 [============================>.] - ETA: 0s - loss: 0.6384 - acc: 0.7060\n",
      "Epoch 19: val_acc did not improve from 0.72633\n",
      "938/938 [==============================] - 18s 19ms/step - loss: 0.6383 - acc: 0.7062 - val_loss: 0.6098 - val_acc: 0.7191\n",
      "Epoch 20/50\n",
      "936/938 [============================>.] - ETA: 0s - loss: 0.6379 - acc: 0.7062\n",
      "Epoch 20: val_acc did not improve from 0.72633\n",
      "938/938 [==============================] - 18s 19ms/step - loss: 0.6379 - acc: 0.7062 - val_loss: 0.6044 - val_acc: 0.7262\n",
      "Epoch 21/50\n",
      "935/938 [============================>.] - ETA: 0s - loss: 0.6366 - acc: 0.7085\n",
      "Epoch 21: val_acc improved from 0.72633 to 0.72813, saving model to cnn_best_model.h5\n",
      "938/938 [==============================] - 18s 19ms/step - loss: 0.6366 - acc: 0.7084 - val_loss: 0.6047 - val_acc: 0.7281\n",
      "Epoch 21: early stopping\n",
      "Learning Durations:  0:06:19.563088\n"
     ]
    }
   ],
   "source": [
    "print('Algorithm starts learning.....')\n",
    "start_time = time()\n",
    "\n",
    "history = model.fit(X_train_reshape, y_train, epochs=50, batch_size=64, validation_split=0.2, callbacks=[es, mc] )\n",
    "\n",
    "print(\"Learning Durations: \", timedelta(seconds=(time() - start_time)))"
   ],
   "metadata": {
    "collapsed": false
   }
  },
  {
   "cell_type": "code",
   "execution_count": 31,
   "outputs": [
    {
     "name": "stderr",
     "output_type": "stream",
     "text": [
      "findfont: Font family ['NanumGothic'] not found. Falling back to DejaVu Sans.\n"
     ]
    },
    {
     "data": {
      "text/plain": "<Figure size 576x360 with 1 Axes>",
      "image/png": "[encoded data removed]"
     },
     "metadata": {
      "needs_background": "light"
     },
     "output_type": "display_data"
    }
   ],
   "source": [
    "plot_loss(history)"
   ],
   "metadata": {
    "collapsed": false
   }
  },
  {
   "cell_type": "code",
   "execution_count": 32,
   "outputs": [
    {
     "data": {
      "text/plain": "<Figure size 576x360 with 1 Axes>",
      "image/png": "[encoded data removed]"
     },
     "metadata": {
      "needs_background": "light"
     },
     "output_type": "display_data"
    }
   ],
   "source": [
    "plot_acc(history)"
   ],
   "metadata": {
    "collapsed": false
   }
  },
  {
   "cell_type": "code",
   "execution_count": 33,
   "outputs": [
    {
     "name": "stdout",
     "output_type": "stream",
     "text": [
      " 14/782 [..............................] - ETA: 6s - loss: 0.7909 - acc: 0.6451"
     ]
    },
    {
     "name": "stderr",
     "output_type": "stream",
     "text": [
      "2022-11-17 08:39:13.239338: I tensorflow/core/grappler/optimizers/custom_graph_optimizer_registry.cc:114] Plugin optimizer for device_type GPU is enabled.\n"
     ]
    },
    {
     "name": "stdout",
     "output_type": "stream",
     "text": [
      "782/782 [==============================] - 6s 7ms/step - loss: 0.8037 - acc: 0.6239\n",
      "Test Accuracy: 0.6238800287246704\n"
     ]
    }
   ],
   "source": [
    "best_model = load_model('./cnn_best_model.h5')\n",
    "print('Test Accuracy: {}'.format(best_model.evaluate(X_test_reshape, y_test)[1]))"
   ],
   "metadata": {
    "collapsed": false
   }
  },
  {
   "cell_type": "markdown",
   "source": [
    "(128일 때, 62.86%)"
   ],
   "metadata": {
    "collapsed": false
   },
   "outputs": [
    {
     "name": "stdout",
     "output_type": "stream",
     "text": [
      " 340/2344 [===>..........................] - ETA: 15s - loss: 0.6314 - acc: 0.7176"
     ]
    }
   ]
  },
  {
   "cell_type": "code",
   "execution_count": 36,
   "outputs": [
    {
     "name": "stdout",
     "output_type": "stream",
     "text": [
      "2344/2344 [==============================] - 17s 7ms/step - loss: 0.6151 - acc: 0.7196\n",
      "Train Accuracy: 0.7196266651153564\n"
     ]
    }
   ],
   "source": [
    "print(\"Train Accuracy: {}\".format(best_model.evaluate(X_train_reshape, y_train)[1]))"
   ],
   "metadata": {
    "collapsed": false
   }
  },
  {
   "cell_type": "code",
   "execution_count": 34,
   "outputs": [
    {
     "name": "stdout",
     "output_type": "stream",
     "text": [
      " 50/782 [>.............................] - ETA: 2s"
     ]
    },
    {
     "name": "stderr",
     "output_type": "stream",
     "text": [
      "2022-11-17 08:39:25.359713: I tensorflow/core/grappler/optimizers/custom_graph_optimizer_registry.cc:114] Plugin optimizer for device_type GPU is enabled.\n"
     ]
    },
    {
     "name": "stdout",
     "output_type": "stream",
     "text": [
      "782/782 [==============================] - 3s 3ms/step\n",
      "              precision    recall  f1-score   support\n",
      "\n",
      "           0     0.6849    0.5387    0.6031      7216\n",
      "           1     0.6802    0.6405    0.6598     12960\n",
      "           2     0.4787    0.7067    0.5707      4824\n",
      "\n",
      "    accuracy                         0.6239     25000\n",
      "   macro avg     0.6146    0.6286    0.6112     25000\n",
      "weighted avg     0.6427    0.6239    0.6262     25000\n",
      "\n"
     ]
    },
    {
     "data": {
      "text/plain": "<Figure size 720x720 with 2 Axes>",
      "image/png": "[encoded data removed]"
     },
     "metadata": {
      "needs_background": "light"
     },
     "output_type": "display_data"
    }
   ],
   "source": [
    "clf_report_plot(y_test, X_test_reshape, best_model)"
   ],
   "metadata": {
    "collapsed": false
   }
  },
  {
   "cell_type": "code",
   "execution_count": 31,
   "outputs": [],
   "source": [],
   "metadata": {
    "collapsed": false
   }
  },
  {
   "cell_type": "markdown",
   "source": [
    "## CNN 병렬모델"
   ],
   "metadata": {
    "collapsed": false
   }
  },
  {
   "cell_type": "code",
   "execution_count": 38,
   "outputs": [],
   "source": [
    "from tensorflow.keras.models import Model\n",
    "from tensorflow.keras.layers import Input, BatchNormalization, Concatenate, MaxPooling1D, GlobalMaxPooling1D"
   ],
   "metadata": {
    "collapsed": false
   }
  },
  {
   "cell_type": "code",
   "execution_count": 39,
   "outputs": [
    {
     "name": "stdout",
     "output_type": "stream",
     "text": [
      "Random seed set as 42\n",
      "Input shape :  (None, 21, 1)\n",
      "cnn1 shape :  (None, 20, 128)\n",
      "cnn1 shape :  (None, 128)\n",
      "cnn2 shape :  (None, 18, 128)\n",
      "cnn2 shape :  (None, 128)\n",
      "cnn3 shape :  (None, 16, 128)\n",
      "cnn3 shape :  (None, 128)\n",
      "After Concat shape : (None, 384)\n",
      "output:  (None, 3)\n"
     ]
    }
   ],
   "source": [
    "set_seed(42) # seed 설정\n",
    "\n",
    "# Input layer 생성\n",
    "input = Input(shape=(num_features, input_dim), name='input')\n",
    "print('Input shape : ', input.shape)\n",
    "\n",
    "# CNN\n",
    "cnn1 = Conv1D(128, kernel_size=2, strides=1, padding='valid', activation='relu', name='conv1')(input) # kernel_size=2: 2개씩 feature 학습\n",
    "print('cnn1 shape : ', cnn1.shape)\n",
    "cnn1 = BatchNormalization(name='batch1')(cnn1)\n",
    "# cnn1 = MaxPooling1D(name='max1')(cnn1)\n",
    "cnn1 = GlobalMaxPooling1D(name='max1')(cnn1)\n",
    "cnn1 = Dense(128, activation='relu')(cnn1)\n",
    "cnn1 = Dropout(0.2, name='drop1')(cnn1)\n",
    "print('cnn1 shape : ', cnn1.shape)\n",
    "\n",
    "cnn2 = Conv1D(128, kernel_size=4, strides=1, padding='valid', activation='relu', name='conv2')(input) # kernel_size=4: 4개씩 feature 학습\n",
    "print('cnn2 shape : ', cnn2.shape)\n",
    "cnn2 = BatchNormalization(name='batch2')(cnn2)\n",
    "# cnn2 = MaxPooling1D(name='max2')(cnn2)\n",
    "cnn2 = GlobalMaxPooling1D(name='max2')(cnn2)\n",
    "cnn2 = Dense(128, activation='relu')(cnn2)\n",
    "cnn2 = Dropout(0.2, name='drop2')(cnn2)\n",
    "print('cnn2 shape : ', cnn2.shape)\n",
    "\n",
    "cnn3 = Conv1D(128, kernel_size=6, strides=1, padding='valid', activation='relu', name='conv3')(input) # kernel_size=4: 6개씩 feature 학습\n",
    "print('cnn3 shape : ', cnn3.shape)\n",
    "cnn3 = BatchNormalization(name='batch3')(cnn3)\n",
    "# cnn3 = MaxPooling1D(name='max3')(cnn3)\n",
    "cnn3 = GlobalMaxPooling1D(name='max3')(cnn3)\n",
    "cnn3 = Dense(128, activation='relu')(cnn3)\n",
    "cnn3 = Dropout(0.2, name='drop3')(cnn3)\n",
    "print('cnn3 shape : ', cnn3.shape)\n",
    "\n",
    "cnn_concat = Concatenate(name='cnn_concat')([cnn1, cnn2, cnn3])\n",
    "print('After Concat shape :', cnn_concat.shape)\n",
    "\n",
    "decoder = Dense(128, activation='relu')(cnn_concat)\n",
    "decoder = Dropout(0.2, name='decoder_dropout')(decoder)\n",
    "decoder = Dense(64, activation='relu')(cnn_concat)\n",
    "output = Dense(num_classes, activation='softmax')(decoder)\n",
    "print('output: ', output.shape)\n",
    "\n",
    "model = Model(inputs=input, outputs=output)"
   ],
   "metadata": {
    "collapsed": false
   }
  },
  {
   "cell_type": "code",
   "execution_count": 40,
   "outputs": [
    {
     "name": "stdout",
     "output_type": "stream",
     "text": [
      "Model: \"model\"\n",
      "__________________________________________________________________________________________________\n",
      " Layer (type)                   Output Shape         Param #     Connected to                     \n",
      "==================================================================================================\n",
      " input (InputLayer)             [(None, 21, 1)]      0           []                               \n",
      "                                                                                                  \n",
      " conv1 (Conv1D)                 (None, 20, 128)      384         ['input[0][0]']                  \n",
      "                                                                                                  \n",
      " conv2 (Conv1D)                 (None, 18, 128)      640         ['input[0][0]']                  \n",
      "                                                                                                  \n",
      " conv3 (Conv1D)                 (None, 16, 128)      896         ['input[0][0]']                  \n",
      "                                                                                                  \n",
      " batch1 (BatchNormalization)    (None, 20, 128)      512         ['conv1[0][0]']                  \n",
      "                                                                                                  \n",
      " batch2 (BatchNormalization)    (None, 18, 128)      512         ['conv2[0][0]']                  \n",
      "                                                                                                  \n",
      " batch3 (BatchNormalization)    (None, 16, 128)      512         ['conv3[0][0]']                  \n",
      "                                                                                                  \n",
      " max1 (GlobalMaxPooling1D)      (None, 128)          0           ['batch1[0][0]']                 \n",
      "                                                                                                  \n",
      " max2 (GlobalMaxPooling1D)      (None, 128)          0           ['batch2[0][0]']                 \n",
      "                                                                                                  \n",
      " max3 (GlobalMaxPooling1D)      (None, 128)          0           ['batch3[0][0]']                 \n",
      "                                                                                                  \n",
      " dense_2 (Dense)                (None, 128)          16512       ['max1[0][0]']                   \n",
      "                                                                                                  \n",
      " dense_3 (Dense)                (None, 128)          16512       ['max2[0][0]']                   \n",
      "                                                                                                  \n",
      " dense_4 (Dense)                (None, 128)          16512       ['max3[0][0]']                   \n",
      "                                                                                                  \n",
      " drop1 (Dropout)                (None, 128)          0           ['dense_2[0][0]']                \n",
      "                                                                                                  \n",
      " drop2 (Dropout)                (None, 128)          0           ['dense_3[0][0]']                \n",
      "                                                                                                  \n",
      " drop3 (Dropout)                (None, 128)          0           ['dense_4[0][0]']                \n",
      "                                                                                                  \n",
      " cnn_concat (Concatenate)       (None, 384)          0           ['drop1[0][0]',                  \n",
      "                                                                  'drop2[0][0]',                  \n",
      "                                                                  'drop3[0][0]']                  \n",
      "                                                                                                  \n",
      " dense_6 (Dense)                (None, 64)           24640       ['cnn_concat[0][0]']             \n",
      "                                                                                                  \n",
      " dense_7 (Dense)                (None, 3)            195         ['dense_6[0][0]']                \n",
      "                                                                                                  \n",
      "==================================================================================================\n",
      "Total params: 77,827\n",
      "Trainable params: 77,059\n",
      "Non-trainable params: 768\n",
      "__________________________________________________________________________________________________\n"
     ]
    }
   ],
   "source": [
    "model.summary()"
   ],
   "metadata": {
    "collapsed": false
   }
  },
  {
   "cell_type": "code",
   "execution_count": 41,
   "outputs": [],
   "source": [
    "model.compile(optimizer='adam', loss='sparse_categorical_crossentropy', metrics=['acc'])\n",
    "\n",
    "es = EarlyStopping(monitor='val_loss', mode='min', verbose=1, patience=5)\n",
    "mc = ModelCheckpoint('concatenated_cnn_best_model.h5', monitor='val_acc', mode='max', verbose=1, save_best_only=True)"
   ],
   "metadata": {
    "collapsed": false
   }
  },
  {
   "cell_type": "code",
   "execution_count": 42,
   "outputs": [
    {
     "name": "stdout",
     "output_type": "stream",
     "text": [
      "Algorithm starts learning.....\n",
      "Epoch 1/50\n"
     ]
    },
    {
     "name": "stderr",
     "output_type": "stream",
     "text": [
      "/Users/ben/miniforge3/envs/tf_mini/lib/python3.8/site-packages/keras/engine/data_adapter.py:1699: FutureWarning: The behavior of `series[i:j]` with an integer-dtype index is deprecated. In a future version, this will be treated as *label-based* indexing, consistent with e.g. `series[i]` lookups. To retain the old behavior, use `series.iloc[i:j]`. To get the future behavior, use `series.loc[i:j]`.\n",
      "  return t[start:end]\n",
      "2022-11-17 08:43:13.475598: I tensorflow/core/grappler/optimizers/custom_graph_optimizer_registry.cc:114] Plugin optimizer for device_type GPU is enabled.\n"
     ]
    },
    {
     "name": "stdout",
     "output_type": "stream",
     "text": [
      "938/938 [==============================] - ETA: 0s - loss: 0.8240 - acc: 0.6183"
     ]
    },
    {
     "name": "stderr",
     "output_type": "stream",
     "text": [
      "2022-11-17 08:43:32.504185: I tensorflow/core/grappler/optimizers/custom_graph_optimizer_registry.cc:114] Plugin optimizer for device_type GPU is enabled.\n"
     ]
    },
    {
     "name": "stdout",
     "output_type": "stream",
     "text": [
      "\n",
      "Epoch 1: val_acc improved from -inf to 0.63933, saving model to concatenated_cnn_best_model.h5\n",
      "938/938 [==============================] - 21s 22ms/step - loss: 0.8240 - acc: 0.6183 - val_loss: 0.7613 - val_acc: 0.6393\n",
      "Epoch 2/50\n",
      "938/938 [==============================] - ETA: 0s - loss: 0.7078 - acc: 0.6743\n",
      "Epoch 2: val_acc improved from 0.63933 to 0.69520, saving model to concatenated_cnn_best_model.h5\n",
      "938/938 [==============================] - 20s 21ms/step - loss: 0.7078 - acc: 0.6743 - val_loss: 0.7091 - val_acc: 0.6952\n",
      "Epoch 3/50\n",
      "938/938 [==============================] - ETA: 0s - loss: 0.6805 - acc: 0.6920\n",
      "Epoch 3: val_acc improved from 0.69520 to 0.71740, saving model to concatenated_cnn_best_model.h5\n",
      "938/938 [==============================] - 20s 22ms/step - loss: 0.6805 - acc: 0.6920 - val_loss: 0.6462 - val_acc: 0.7174\n",
      "Epoch 4/50\n",
      "936/938 [============================>.] - ETA: 0s - loss: 0.6702 - acc: 0.6996\n",
      "Epoch 4: val_acc did not improve from 0.71740\n",
      "938/938 [==============================] - 20s 21ms/step - loss: 0.6701 - acc: 0.6996 - val_loss: 0.7072 - val_acc: 0.6684\n",
      "Epoch 5/50\n",
      "938/938 [==============================] - ETA: 0s - loss: 0.6641 - acc: 0.7017\n",
      "Epoch 5: val_acc improved from 0.71740 to 0.72413, saving model to concatenated_cnn_best_model.h5\n",
      "938/938 [==============================] - 20s 21ms/step - loss: 0.6641 - acc: 0.7017 - val_loss: 0.6300 - val_acc: 0.7241\n",
      "Epoch 6/50\n",
      "936/938 [============================>.] - ETA: 0s - loss: 0.6582 - acc: 0.7043\n",
      "Epoch 6: val_acc did not improve from 0.72413\n",
      "938/938 [==============================] - 20s 21ms/step - loss: 0.6581 - acc: 0.7044 - val_loss: 0.6370 - val_acc: 0.7172\n",
      "Epoch 7/50\n",
      "936/938 [============================>.] - ETA: 0s - loss: 0.6510 - acc: 0.7067\n",
      "Epoch 7: val_acc did not improve from 0.72413\n",
      "938/938 [==============================] - 20s 21ms/step - loss: 0.6511 - acc: 0.7066 - val_loss: 0.6448 - val_acc: 0.7153\n",
      "Epoch 8/50\n",
      "937/938 [============================>.] - ETA: 0s - loss: 0.6484 - acc: 0.7080\n",
      "Epoch 8: val_acc did not improve from 0.72413\n",
      "938/938 [==============================] - 20s 22ms/step - loss: 0.6484 - acc: 0.7080 - val_loss: 0.6358 - val_acc: 0.7202\n",
      "Epoch 9/50\n",
      "937/938 [============================>.] - ETA: 0s - loss: 0.6456 - acc: 0.7083\n",
      "Epoch 9: val_acc did not improve from 0.72413\n",
      "938/938 [==============================] - 20s 21ms/step - loss: 0.6455 - acc: 0.7083 - val_loss: 0.6381 - val_acc: 0.7105\n",
      "Epoch 10/50\n",
      "936/938 [============================>.] - ETA: 0s - loss: 0.6435 - acc: 0.7098\n",
      "Epoch 10: val_acc improved from 0.72413 to 0.72600, saving model to concatenated_cnn_best_model.h5\n",
      "938/938 [==============================] - 20s 21ms/step - loss: 0.6436 - acc: 0.7098 - val_loss: 0.6213 - val_acc: 0.7260\n",
      "Epoch 11/50\n",
      "937/938 [============================>.] - ETA: 0s - loss: 0.6397 - acc: 0.7111\n",
      "Epoch 11: val_acc did not improve from 0.72600\n",
      "938/938 [==============================] - 20s 21ms/step - loss: 0.6397 - acc: 0.7112 - val_loss: 0.6252 - val_acc: 0.7241\n",
      "Epoch 12/50\n",
      "937/938 [============================>.] - ETA: 0s - loss: 0.6379 - acc: 0.7127\n",
      "Epoch 12: val_acc improved from 0.72600 to 0.73107, saving model to concatenated_cnn_best_model.h5\n",
      "938/938 [==============================] - 20s 21ms/step - loss: 0.6379 - acc: 0.7126 - val_loss: 0.6196 - val_acc: 0.7311\n",
      "Epoch 13/50\n",
      "936/938 [============================>.] - ETA: 0s - loss: 0.6418 - acc: 0.7076\n",
      "Epoch 13: val_acc did not improve from 0.73107\n",
      "938/938 [==============================] - 20s 21ms/step - loss: 0.6418 - acc: 0.7076 - val_loss: 0.6253 - val_acc: 0.7223\n",
      "Epoch 14/50\n",
      "937/938 [============================>.] - ETA: 0s - loss: 0.6378 - acc: 0.7110\n",
      "Epoch 14: val_acc did not improve from 0.73107\n",
      "938/938 [==============================] - 20s 21ms/step - loss: 0.6380 - acc: 0.7110 - val_loss: 0.6162 - val_acc: 0.7225\n",
      "Epoch 15/50\n",
      "937/938 [============================>.] - ETA: 0s - loss: 0.6367 - acc: 0.7131\n",
      "Epoch 15: val_acc did not improve from 0.73107\n",
      "938/938 [==============================] - 20s 21ms/step - loss: 0.6367 - acc: 0.7132 - val_loss: 0.6217 - val_acc: 0.7237\n",
      "Epoch 16/50\n",
      "937/938 [============================>.] - ETA: 0s - loss: 0.6383 - acc: 0.7114\n",
      "Epoch 16: val_acc did not improve from 0.73107\n",
      "938/938 [==============================] - 20s 21ms/step - loss: 0.6383 - acc: 0.7114 - val_loss: 0.6214 - val_acc: 0.7187\n",
      "Epoch 17/50\n",
      "937/938 [============================>.] - ETA: 0s - loss: 0.6339 - acc: 0.7152\n",
      "Epoch 17: val_acc did not improve from 0.73107\n",
      "938/938 [==============================] - 20s 21ms/step - loss: 0.6338 - acc: 0.7152 - val_loss: 0.6123 - val_acc: 0.7310\n",
      "Epoch 18/50\n",
      "937/938 [============================>.] - ETA: 0s - loss: 0.6314 - acc: 0.7151\n",
      "Epoch 18: val_acc did not improve from 0.73107\n",
      "938/938 [==============================] - 20s 22ms/step - loss: 0.6315 - acc: 0.7150 - val_loss: 0.6274 - val_acc: 0.7249\n",
      "Epoch 19/50\n",
      "937/938 [============================>.] - ETA: 0s - loss: 0.6292 - acc: 0.7163\n",
      "Epoch 19: val_acc did not improve from 0.73107\n",
      "938/938 [==============================] - 20s 21ms/step - loss: 0.6292 - acc: 0.7163 - val_loss: 0.6291 - val_acc: 0.7175\n",
      "Epoch 20/50\n",
      "937/938 [============================>.] - ETA: 0s - loss: 0.6291 - acc: 0.7164\n",
      "Epoch 20: val_acc did not improve from 0.73107\n",
      "938/938 [==============================] - 20s 21ms/step - loss: 0.6290 - acc: 0.7165 - val_loss: 0.6094 - val_acc: 0.7283\n",
      "Epoch 21/50\n",
      "937/938 [============================>.] - ETA: 0s - loss: 0.6275 - acc: 0.7160\n",
      "Epoch 21: val_acc improved from 0.73107 to 0.73160, saving model to concatenated_cnn_best_model.h5\n",
      "938/938 [==============================] - 20s 21ms/step - loss: 0.6275 - acc: 0.7160 - val_loss: 0.6077 - val_acc: 0.7316\n",
      "Epoch 22/50\n",
      "937/938 [============================>.] - ETA: 0s - loss: 0.6254 - acc: 0.7186\n",
      "Epoch 22: val_acc did not improve from 0.73160\n",
      "938/938 [==============================] - 20s 21ms/step - loss: 0.6254 - acc: 0.7186 - val_loss: 0.6127 - val_acc: 0.7279\n",
      "Epoch 23/50\n",
      "937/938 [============================>.] - ETA: 0s - loss: 0.6231 - acc: 0.7172\n",
      "Epoch 23: val_acc did not improve from 0.73160\n",
      "938/938 [==============================] - 20s 21ms/step - loss: 0.6231 - acc: 0.7172 - val_loss: 0.6080 - val_acc: 0.7265\n",
      "Epoch 24/50\n",
      "937/938 [============================>.] - ETA: 0s - loss: 0.6206 - acc: 0.7199\n",
      "Epoch 24: val_acc improved from 0.73160 to 0.73167, saving model to concatenated_cnn_best_model.h5\n",
      "938/938 [==============================] - 20s 21ms/step - loss: 0.6207 - acc: 0.7199 - val_loss: 0.6118 - val_acc: 0.7317\n",
      "Epoch 25/50\n",
      "937/938 [============================>.] - ETA: 0s - loss: 0.6205 - acc: 0.7190\n",
      "Epoch 25: val_acc did not improve from 0.73167\n",
      "938/938 [==============================] - 20s 21ms/step - loss: 0.6204 - acc: 0.7190 - val_loss: 0.6191 - val_acc: 0.7242\n",
      "Epoch 26/50\n",
      "937/938 [============================>.] - ETA: 0s - loss: 0.6180 - acc: 0.7197\n",
      "Epoch 26: val_acc improved from 0.73167 to 0.73320, saving model to concatenated_cnn_best_model.h5\n",
      "938/938 [==============================] - 20s 21ms/step - loss: 0.6180 - acc: 0.7197 - val_loss: 0.6092 - val_acc: 0.7332\n",
      "Epoch 26: early stopping\n",
      "Learning Durations:  0:08:37.449249\n"
     ]
    }
   ],
   "source": [
    "print('Algorithm starts learning.....')\n",
    "start_time = time()\n",
    "\n",
    "history = model.fit(X_train_reshape, y_train, epochs=50, batch_size=64, validation_split=0.2, callbacks=[es, mc] )\n",
    "\n",
    "print(\"Learning Durations: \", timedelta(seconds=(time() - start_time)))"
   ],
   "metadata": {
    "collapsed": false
   }
  },
  {
   "cell_type": "code",
   "execution_count": 43,
   "outputs": [
    {
     "data": {
      "text/plain": "<Figure size 576x360 with 1 Axes>",
      "image/png": "[encoded data removed]"
     },
     "metadata": {
      "needs_background": "light"
     },
     "output_type": "display_data"
    }
   ],
   "source": [
    "plot_loss(history)"
   ],
   "metadata": {
    "collapsed": false
   }
  },
  {
   "cell_type": "code",
   "execution_count": 44,
   "outputs": [
    {
     "data": {
      "text/plain": "<Figure size 576x360 with 1 Axes>",
      "image/png": "[encoded data removed]"
     },
     "metadata": {
      "needs_background": "light"
     },
     "output_type": "display_data"
    }
   ],
   "source": [
    "plot_acc(history)"
   ],
   "metadata": {
    "collapsed": false
   }
  },
  {
   "cell_type": "code",
   "execution_count": 45,
   "outputs": [
    {
     "name": "stderr",
     "output_type": "stream",
     "text": [
      "2022-11-17 08:52:41.468875: I tensorflow/core/grappler/optimizers/custom_graph_optimizer_registry.cc:114] Plugin optimizer for device_type GPU is enabled.\n"
     ]
    },
    {
     "name": "stdout",
     "output_type": "stream",
     "text": [
      "782/782 [==============================] - 6s 8ms/step - loss: 0.8082 - acc: 0.6310\n",
      "Test Accuracy: 0.6310000419616699\n"
     ]
    }
   ],
   "source": [
    "best_model = load_model('./concatenated_cnn_best_model.h5')\n",
    "print('Test Accuracy: {}'.format(best_model.evaluate(X_test_reshape, y_test)[1]))"
   ],
   "metadata": {
    "collapsed": false
   }
  },
  {
   "cell_type": "code",
   "execution_count": 46,
   "outputs": [
    {
     "name": "stdout",
     "output_type": "stream",
     "text": [
      "2344/2344 [==============================] - 18s 8ms/step - loss: 0.6052 - acc: 0.7280\n",
      "Train Accuracy: 0.7279999852180481\n"
     ]
    }
   ],
   "source": [
    "print(\"Train Accuracy: {}\".format(best_model.evaluate(X_train_reshape, y_train)[1]))"
   ],
   "metadata": {
    "collapsed": false
   }
  },
  {
   "cell_type": "markdown",
   "source": [
    "(Before adding dense decoder : test accuracy - 0.6286)"
   ],
   "metadata": {
    "collapsed": false
   }
  },
  {
   "cell_type": "code",
   "execution_count": 47,
   "outputs": [
    {
     "name": "stdout",
     "output_type": "stream",
     "text": [
      " 19/782 [..............................] - ETA: 4s"
     ]
    },
    {
     "name": "stderr",
     "output_type": "stream",
     "text": [
      "2022-11-17 08:53:10.838772: I tensorflow/core/grappler/optimizers/custom_graph_optimizer_registry.cc:114] Plugin optimizer for device_type GPU is enabled.\n"
     ]
    },
    {
     "name": "stdout",
     "output_type": "stream",
     "text": [
      "782/782 [==============================] - 3s 4ms/step\n",
      "              precision    recall  f1-score   support\n",
      "\n",
      "           0     0.6763    0.5704    0.6189      7216\n",
      "           1     0.6925    0.6410    0.6658     12960\n",
      "           2     0.4845    0.6947    0.5708      4824\n",
      "\n",
      "    accuracy                         0.6310     25000\n",
      "   macro avg     0.6178    0.6354    0.6185     25000\n",
      "weighted avg     0.6477    0.6310    0.6339     25000\n",
      "\n"
     ]
    },
    {
     "data": {
      "text/plain": "<Figure size 720x720 with 2 Axes>",
      "image/png": "[encoded data removed]"
     },
     "metadata": {
      "needs_background": "light"
     },
     "output_type": "display_data"
    }
   ],
   "source": [
    "clf_report_plot(y_test, X_test_reshape, best_model)"
   ],
   "metadata": {
    "collapsed": false
   }
  },
  {
   "cell_type": "code",
   "execution_count": null,
   "outputs": [],
   "source": [],
   "metadata": {
    "collapsed": false
   }
  },
  {
   "cell_type": "markdown",
   "source": [
    "# Validation 직접 설정 (Validation: 6월달 데이터)"
   ],
   "metadata": {
    "collapsed": false
   }
  },
  {
   "cell_type": "markdown",
   "source": [
    "### CNN"
   ],
   "metadata": {
    "collapsed": false
   }
  },
  {
   "cell_type": "code",
   "execution_count": 48,
   "outputs": [
    {
     "name": "stdout",
     "output_type": "stream",
     "text": [
      "(62500, 22)\n",
      "(12500, 22)\n",
      "(25000, 22)\n"
     ]
    }
   ],
   "source": [
    "train_df = df_dl[df_dl['Month'] <= 5]\n",
    "val_df = df_dl[df_dl['Month'] == 6]\n",
    "test_df = df_dl[df_dl['Month'] > 6]\n",
    "\n",
    "print(train_df.shape)\n",
    "print(val_df.shape)\n",
    "print(test_df.shape)"
   ],
   "metadata": {
    "collapsed": false
   }
  },
  {
   "cell_type": "code",
   "execution_count": 49,
   "outputs": [
    {
     "data": {
      "text/plain": "       Customer_ID  Month  Age  Monthly_Inhand_Salary  Num_Bank_Accounts  \\\n0            576.0    1.0  1.0               7.509249                3.0   \n1            576.0    2.0  1.0               7.509249                3.0   \n2            576.0    3.0  1.0               7.509249                3.0   \n3            576.0    4.0  1.0               7.509249                3.0   \n4            576.0    5.0  1.0               7.509249                3.0   \n...            ...    ...  ...                    ...                ...   \n99992       9254.0    1.0  1.0               8.119522                4.0   \n99993       9254.0    2.0  1.0               8.119522                4.0   \n99994       9254.0    3.0  1.0               8.119522                4.0   \n99995       9254.0    4.0  1.0               8.119522                4.0   \n99996       9254.0    5.0  1.0               8.119522                4.0   \n\n       Num_Credit_Card  Interest_Rate  Num_of_Loan  Delay_from_due_date  \\\n0                  4.0            3.0          0.0                  3.0   \n1                  4.0            3.0          0.0                  3.0   \n2                  4.0            3.0          0.0                  3.0   \n3                  4.0            3.0          0.0                  5.0   \n4                  4.0            3.0          0.0                  6.0   \n...                ...            ...          ...                  ...   \n99992              6.0            7.0          0.0                 23.0   \n99993              6.0            7.0          0.0                 23.0   \n99994              6.0            7.0          0.0                 20.0   \n99995              6.0            7.0          0.0                 23.0   \n99996              6.0            7.0          0.0                 18.0   \n\n       Num_of_Delayed_Payment  ...  Credit_Mix  Outstanding_Debt  \\\n0                         7.0  ...         2.0         28.460148   \n1                         4.0  ...         2.0         28.460148   \n2                         7.0  ...         2.0         28.460148   \n3                         4.0  ...         2.0         28.460148   \n4                         4.0  ...         2.0         28.460148   \n...                       ...  ...         ...               ...   \n99992                     6.0  ...         2.0         22.413835   \n99993                     6.0  ...         2.0         22.413835   \n99994                     6.0  ...         2.0         22.413835   \n99995                     7.0  ...         2.0         22.413835   \n99996                     7.0  ...         2.0         22.413835   \n\n       Credit_Utilization_Ratio  Credit_History_Age  Payment_of_Min_Amount  \\\n0                     26.822620                 1.0                    1.0   \n1                     31.944960                 1.0                    1.0   \n2                     28.609352                 1.0                    1.0   \n3                     31.377862                 1.0                    1.0   \n4                     24.797347                 1.0                    1.0   \n...                         ...                 ...                    ...   \n99992                 32.991333                 1.0                    1.0   \n99993                 29.135447                 1.0                    1.0   \n99994                 39.323569                 1.0                    1.0   \n99995                 34.663572                 1.0                    1.0   \n99996                 40.565631                 1.0                    1.0   \n\n       Total_EMI_per_month  Amount_invested_monthly  Payment_Behaviour  \\\n0                49.574949                21.465380                2.0   \n1                49.574949                21.465380                3.0   \n2                49.574949                21.465380                4.0   \n3                49.574949                21.465380                5.0   \n4                49.574949                21.465380                1.0   \n...                    ...                      ...                ...   \n99992            35.104023                24.028477                5.0   \n99993            35.104023                24.028477                4.0   \n99994            35.104023                24.028477                1.0   \n99995            35.104023                24.028477                0.0   \n99996            35.104023                24.028477                1.0   \n\n       Monthly_Balance  Credit_Score  \n0           312.494089             2  \n1           284.629162             2  \n2           331.209863             2  \n3           223.451310             2  \n4           341.489231             2  \n...                ...           ...  \n99992       189.641080             0  \n99993       400.104466             1  \n99994       410.256158             0  \n99995       479.866228             0  \n99996       496.651610             0  \n\n[62500 rows x 22 columns]",
      "text/html": "<div>\n<style scoped>\n    .dataframe tbody tr th:only-of-type {\n        vertical-align: middle;\n    }\n\n    .dataframe tbody tr th {\n        vertical-align: top;\n    }\n\n    .dataframe thead th {\n        text-align: right;\n    }\n</style>\n<table border=\"1\" class=\"dataframe\">\n  <thead>\n    <tr style=\"text-align: right;\">\n      <th></th>\n      <th>Customer_ID</th>\n      <th>Month</th>\n      <th>Age</th>\n      <th>Monthly_Inhand_Salary</th>\n      <th>Num_Bank_Accounts</th>\n      <th>Num_Credit_Card</th>\n      <th>Interest_Rate</th>\n      <th>Num_of_Loan</th>\n      <th>Delay_from_due_date</th>\n      <th>Num_of_Delayed_Payment</th>\n      <th>...</th>\n      <th>Credit_Mix</th>\n      <th>Outstanding_Debt</th>\n      <th>Credit_Utilization_Ratio</th>\n      <th>Credit_History_Age</th>\n      <th>Payment_of_Min_Amount</th>\n      <th>Total_EMI_per_month</th>\n      <th>Amount_invested_monthly</th>\n      <th>Payment_Behaviour</th>\n      <th>Monthly_Balance</th>\n      <th>Credit_Score</th>\n    </tr>\n  </thead>\n  <tbody>\n    <tr>\n      <th>0</th>\n      <td>576.0</td>\n      <td>1.0</td>\n      <td>1.0</td>\n      <td>7.509249</td>\n      <td>3.0</td>\n      <td>4.0</td>\n      <td>3.0</td>\n      <td>0.0</td>\n      <td>3.0</td>\n      <td>7.0</td>\n      <td>...</td>\n      <td>2.0</td>\n      <td>28.460148</td>\n      <td>26.822620</td>\n      <td>1.0</td>\n      <td>1.0</td>\n      <td>49.574949</td>\n      <td>21.465380</td>\n      <td>2.0</td>\n      <td>312.494089</td>\n      <td>2</td>\n    </tr>\n    <tr>\n      <th>1</th>\n      <td>576.0</td>\n      <td>2.0</td>\n      <td>1.0</td>\n      <td>7.509249</td>\n      <td>3.0</td>\n      <td>4.0</td>\n      <td>3.0</td>\n      <td>0.0</td>\n      <td>3.0</td>\n      <td>4.0</td>\n      <td>...</td>\n      <td>2.0</td>\n      <td>28.460148</td>\n      <td>31.944960</td>\n      <td>1.0</td>\n      <td>1.0</td>\n      <td>49.574949</td>\n      <td>21.465380</td>\n      <td>3.0</td>\n      <td>284.629162</td>\n      <td>2</td>\n    </tr>\n    <tr>\n      <th>2</th>\n      <td>576.0</td>\n      <td>3.0</td>\n      <td>1.0</td>\n      <td>7.509249</td>\n      <td>3.0</td>\n      <td>4.0</td>\n      <td>3.0</td>\n      <td>0.0</td>\n      <td>3.0</td>\n      <td>7.0</td>\n      <td>...</td>\n      <td>2.0</td>\n      <td>28.460148</td>\n      <td>28.609352</td>\n      <td>1.0</td>\n      <td>1.0</td>\n      <td>49.574949</td>\n      <td>21.465380</td>\n      <td>4.0</td>\n      <td>331.209863</td>\n      <td>2</td>\n    </tr>\n    <tr>\n      <th>3</th>\n      <td>576.0</td>\n      <td>4.0</td>\n      <td>1.0</td>\n      <td>7.509249</td>\n      <td>3.0</td>\n      <td>4.0</td>\n      <td>3.0</td>\n      <td>0.0</td>\n      <td>5.0</td>\n      <td>4.0</td>\n      <td>...</td>\n      <td>2.0</td>\n      <td>28.460148</td>\n      <td>31.377862</td>\n      <td>1.0</td>\n      <td>1.0</td>\n      <td>49.574949</td>\n      <td>21.465380</td>\n      <td>5.0</td>\n      <td>223.451310</td>\n      <td>2</td>\n    </tr>\n    <tr>\n      <th>4</th>\n      <td>576.0</td>\n      <td>5.0</td>\n      <td>1.0</td>\n      <td>7.509249</td>\n      <td>3.0</td>\n      <td>4.0</td>\n      <td>3.0</td>\n      <td>0.0</td>\n      <td>6.0</td>\n      <td>4.0</td>\n      <td>...</td>\n      <td>2.0</td>\n      <td>28.460148</td>\n      <td>24.797347</td>\n      <td>1.0</td>\n      <td>1.0</td>\n      <td>49.574949</td>\n      <td>21.465380</td>\n      <td>1.0</td>\n      <td>341.489231</td>\n      <td>2</td>\n    </tr>\n    <tr>\n      <th>...</th>\n      <td>...</td>\n      <td>...</td>\n      <td>...</td>\n      <td>...</td>\n      <td>...</td>\n      <td>...</td>\n      <td>...</td>\n      <td>...</td>\n      <td>...</td>\n      <td>...</td>\n      <td>...</td>\n      <td>...</td>\n      <td>...</td>\n      <td>...</td>\n      <td>...</td>\n      <td>...</td>\n      <td>...</td>\n      <td>...</td>\n      <td>...</td>\n      <td>...</td>\n      <td>...</td>\n    </tr>\n    <tr>\n      <th>99992</th>\n      <td>9254.0</td>\n      <td>1.0</td>\n      <td>1.0</td>\n      <td>8.119522</td>\n      <td>4.0</td>\n      <td>6.0</td>\n      <td>7.0</td>\n      <td>0.0</td>\n      <td>23.0</td>\n      <td>6.0</td>\n      <td>...</td>\n      <td>2.0</td>\n      <td>22.413835</td>\n      <td>32.991333</td>\n      <td>1.0</td>\n      <td>1.0</td>\n      <td>35.104023</td>\n      <td>24.028477</td>\n      <td>5.0</td>\n      <td>189.641080</td>\n      <td>0</td>\n    </tr>\n    <tr>\n      <th>99993</th>\n      <td>9254.0</td>\n      <td>2.0</td>\n      <td>1.0</td>\n      <td>8.119522</td>\n      <td>4.0</td>\n      <td>6.0</td>\n      <td>7.0</td>\n      <td>0.0</td>\n      <td>23.0</td>\n      <td>6.0</td>\n      <td>...</td>\n      <td>2.0</td>\n      <td>22.413835</td>\n      <td>29.135447</td>\n      <td>1.0</td>\n      <td>1.0</td>\n      <td>35.104023</td>\n      <td>24.028477</td>\n      <td>4.0</td>\n      <td>400.104466</td>\n      <td>1</td>\n    </tr>\n    <tr>\n      <th>99994</th>\n      <td>9254.0</td>\n      <td>3.0</td>\n      <td>1.0</td>\n      <td>8.119522</td>\n      <td>4.0</td>\n      <td>6.0</td>\n      <td>7.0</td>\n      <td>0.0</td>\n      <td>20.0</td>\n      <td>6.0</td>\n      <td>...</td>\n      <td>2.0</td>\n      <td>22.413835</td>\n      <td>39.323569</td>\n      <td>1.0</td>\n      <td>1.0</td>\n      <td>35.104023</td>\n      <td>24.028477</td>\n      <td>1.0</td>\n      <td>410.256158</td>\n      <td>0</td>\n    </tr>\n    <tr>\n      <th>99995</th>\n      <td>9254.0</td>\n      <td>4.0</td>\n      <td>1.0</td>\n      <td>8.119522</td>\n      <td>4.0</td>\n      <td>6.0</td>\n      <td>7.0</td>\n      <td>0.0</td>\n      <td>23.0</td>\n      <td>7.0</td>\n      <td>...</td>\n      <td>2.0</td>\n      <td>22.413835</td>\n      <td>34.663572</td>\n      <td>1.0</td>\n      <td>1.0</td>\n      <td>35.104023</td>\n      <td>24.028477</td>\n      <td>0.0</td>\n      <td>479.866228</td>\n      <td>0</td>\n    </tr>\n    <tr>\n      <th>99996</th>\n      <td>9254.0</td>\n      <td>5.0</td>\n      <td>1.0</td>\n      <td>8.119522</td>\n      <td>4.0</td>\n      <td>6.0</td>\n      <td>7.0</td>\n      <td>0.0</td>\n      <td>18.0</td>\n      <td>7.0</td>\n      <td>...</td>\n      <td>2.0</td>\n      <td>22.413835</td>\n      <td>40.565631</td>\n      <td>1.0</td>\n      <td>1.0</td>\n      <td>35.104023</td>\n      <td>24.028477</td>\n      <td>1.0</td>\n      <td>496.651610</td>\n      <td>0</td>\n    </tr>\n  </tbody>\n</table>\n<p>62500 rows × 22 columns</p>\n</div>"
     },
     "execution_count": 49,
     "metadata": {},
     "output_type": "execute_result"
    }
   ],
   "source": [
    "train_df"
   ],
   "metadata": {
    "collapsed": false
   }
  },
  {
   "cell_type": "code",
   "execution_count": 50,
   "outputs": [
    {
     "name": "stdout",
     "output_type": "stream",
     "text": [
      "(62500, 21)\n",
      "(62500,)\n",
      "(12500, 21)\n",
      "(12500,)\n",
      "(25000, 21)\n",
      "(25000,)\n"
     ]
    }
   ],
   "source": [
    "X_train, y_train = train_df.iloc[:, :-1], train_df.iloc[:, -1]\n",
    "X_val, y_val = val_df.iloc[:, :-1], val_df.iloc[:, -1]\n",
    "X_test, y_test = test_df.iloc[:, :-1], test_df.iloc[:, -1]\n",
    "\n",
    "print(X_train.shape)\n",
    "print(y_train.shape)\n",
    "\n",
    "print(X_val.shape)\n",
    "print(y_val.shape)\n",
    "\n",
    "print(X_test.shape)\n",
    "print(y_test.shape)"
   ],
   "metadata": {
    "collapsed": false
   }
  },
  {
   "cell_type": "code",
   "execution_count": 51,
   "outputs": [
    {
     "data": {
      "text/plain": "       Customer_ID  Month  Age  Monthly_Inhand_Salary  Num_Bank_Accounts  \\\n0            576.0    1.0  1.0               7.509249                3.0   \n1            576.0    2.0  1.0               7.509249                3.0   \n2            576.0    3.0  1.0               7.509249                3.0   \n3            576.0    4.0  1.0               7.509249                3.0   \n4            576.0    5.0  1.0               7.509249                3.0   \n...            ...    ...  ...                    ...                ...   \n99992       9254.0    1.0  1.0               8.119522                4.0   \n99993       9254.0    2.0  1.0               8.119522                4.0   \n99994       9254.0    3.0  1.0               8.119522                4.0   \n99995       9254.0    4.0  1.0               8.119522                4.0   \n99996       9254.0    5.0  1.0               8.119522                4.0   \n\n       Num_Credit_Card  Interest_Rate  Num_of_Loan  Delay_from_due_date  \\\n0                  4.0            3.0          0.0                  3.0   \n1                  4.0            3.0          0.0                  3.0   \n2                  4.0            3.0          0.0                  3.0   \n3                  4.0            3.0          0.0                  5.0   \n4                  4.0            3.0          0.0                  6.0   \n...                ...            ...          ...                  ...   \n99992              6.0            7.0          0.0                 23.0   \n99993              6.0            7.0          0.0                 23.0   \n99994              6.0            7.0          0.0                 20.0   \n99995              6.0            7.0          0.0                 23.0   \n99996              6.0            7.0          0.0                 18.0   \n\n       Num_of_Delayed_Payment  ...  Num_Credit_Inquiries  Credit_Mix  \\\n0                         7.0  ...                   4.0         2.0   \n1                         4.0  ...                   4.0         2.0   \n2                         7.0  ...                   4.0         2.0   \n3                         4.0  ...                   4.0         2.0   \n4                         4.0  ...                   4.0         2.0   \n...                       ...  ...                   ...         ...   \n99992                     6.0  ...                   3.0         2.0   \n99993                     6.0  ...                   3.0         2.0   \n99994                     6.0  ...                   3.0         2.0   \n99995                     7.0  ...                   3.0         2.0   \n99996                     7.0  ...                   3.0         2.0   \n\n       Outstanding_Debt  Credit_Utilization_Ratio  Credit_History_Age  \\\n0             28.460148                 26.822620                 1.0   \n1             28.460148                 31.944960                 1.0   \n2             28.460148                 28.609352                 1.0   \n3             28.460148                 31.377862                 1.0   \n4             28.460148                 24.797347                 1.0   \n...                 ...                       ...                 ...   \n99992         22.413835                 32.991333                 1.0   \n99993         22.413835                 29.135447                 1.0   \n99994         22.413835                 39.323569                 1.0   \n99995         22.413835                 34.663572                 1.0   \n99996         22.413835                 40.565631                 1.0   \n\n       Payment_of_Min_Amount  Total_EMI_per_month  Amount_invested_monthly  \\\n0                        1.0            49.574949                21.465380   \n1                        1.0            49.574949                21.465380   \n2                        1.0            49.574949                21.465380   \n3                        1.0            49.574949                21.465380   \n4                        1.0            49.574949                21.465380   \n...                      ...                  ...                      ...   \n99992                    1.0            35.104023                24.028477   \n99993                    1.0            35.104023                24.028477   \n99994                    1.0            35.104023                24.028477   \n99995                    1.0            35.104023                24.028477   \n99996                    1.0            35.104023                24.028477   \n\n       Payment_Behaviour  Monthly_Balance  \n0                    2.0       312.494089  \n1                    3.0       284.629162  \n2                    4.0       331.209863  \n3                    5.0       223.451310  \n4                    1.0       341.489231  \n...                  ...              ...  \n99992                5.0       189.641080  \n99993                4.0       400.104466  \n99994                1.0       410.256158  \n99995                0.0       479.866228  \n99996                1.0       496.651610  \n\n[62500 rows x 21 columns]",
      "text/html": "<div>\n<style scoped>\n    .dataframe tbody tr th:only-of-type {\n        vertical-align: middle;\n    }\n\n    .dataframe tbody tr th {\n        vertical-align: top;\n    }\n\n    .dataframe thead th {\n        text-align: right;\n    }\n</style>\n<table border=\"1\" class=\"dataframe\">\n  <thead>\n    <tr style=\"text-align: right;\">\n      <th></th>\n      <th>Customer_ID</th>\n      <th>Month</th>\n      <th>Age</th>\n      <th>Monthly_Inhand_Salary</th>\n      <th>Num_Bank_Accounts</th>\n      <th>Num_Credit_Card</th>\n      <th>Interest_Rate</th>\n      <th>Num_of_Loan</th>\n      <th>Delay_from_due_date</th>\n      <th>Num_of_Delayed_Payment</th>\n      <th>...</th>\n      <th>Num_Credit_Inquiries</th>\n      <th>Credit_Mix</th>\n      <th>Outstanding_Debt</th>\n      <th>Credit_Utilization_Ratio</th>\n      <th>Credit_History_Age</th>\n      <th>Payment_of_Min_Amount</th>\n      <th>Total_EMI_per_month</th>\n      <th>Amount_invested_monthly</th>\n      <th>Payment_Behaviour</th>\n      <th>Monthly_Balance</th>\n    </tr>\n  </thead>\n  <tbody>\n    <tr>\n      <th>0</th>\n      <td>576.0</td>\n      <td>1.0</td>\n      <td>1.0</td>\n      <td>7.509249</td>\n      <td>3.0</td>\n      <td>4.0</td>\n      <td>3.0</td>\n      <td>0.0</td>\n      <td>3.0</td>\n      <td>7.0</td>\n      <td>...</td>\n      <td>4.0</td>\n      <td>2.0</td>\n      <td>28.460148</td>\n      <td>26.822620</td>\n      <td>1.0</td>\n      <td>1.0</td>\n      <td>49.574949</td>\n      <td>21.465380</td>\n      <td>2.0</td>\n      <td>312.494089</td>\n    </tr>\n    <tr>\n      <th>1</th>\n      <td>576.0</td>\n      <td>2.0</td>\n      <td>1.0</td>\n      <td>7.509249</td>\n      <td>3.0</td>\n      <td>4.0</td>\n      <td>3.0</td>\n      <td>0.0</td>\n      <td>3.0</td>\n      <td>4.0</td>\n      <td>...</td>\n      <td>4.0</td>\n      <td>2.0</td>\n      <td>28.460148</td>\n      <td>31.944960</td>\n      <td>1.0</td>\n      <td>1.0</td>\n      <td>49.574949</td>\n      <td>21.465380</td>\n      <td>3.0</td>\n      <td>284.629162</td>\n    </tr>\n    <tr>\n      <th>2</th>\n      <td>576.0</td>\n      <td>3.0</td>\n      <td>1.0</td>\n      <td>7.509249</td>\n      <td>3.0</td>\n      <td>4.0</td>\n      <td>3.0</td>\n      <td>0.0</td>\n      <td>3.0</td>\n      <td>7.0</td>\n      <td>...</td>\n      <td>4.0</td>\n      <td>2.0</td>\n      <td>28.460148</td>\n      <td>28.609352</td>\n      <td>1.0</td>\n      <td>1.0</td>\n      <td>49.574949</td>\n      <td>21.465380</td>\n      <td>4.0</td>\n      <td>331.209863</td>\n    </tr>\n    <tr>\n      <th>3</th>\n      <td>576.0</td>\n      <td>4.0</td>\n      <td>1.0</td>\n      <td>7.509249</td>\n      <td>3.0</td>\n      <td>4.0</td>\n      <td>3.0</td>\n      <td>0.0</td>\n      <td>5.0</td>\n      <td>4.0</td>\n      <td>...</td>\n      <td>4.0</td>\n      <td>2.0</td>\n      <td>28.460148</td>\n      <td>31.377862</td>\n      <td>1.0</td>\n      <td>1.0</td>\n      <td>49.574949</td>\n      <td>21.465380</td>\n      <td>5.0</td>\n      <td>223.451310</td>\n    </tr>\n    <tr>\n      <th>4</th>\n      <td>576.0</td>\n      <td>5.0</td>\n      <td>1.0</td>\n      <td>7.509249</td>\n      <td>3.0</td>\n      <td>4.0</td>\n      <td>3.0</td>\n      <td>0.0</td>\n      <td>6.0</td>\n      <td>4.0</td>\n      <td>...</td>\n      <td>4.0</td>\n      <td>2.0</td>\n      <td>28.460148</td>\n      <td>24.797347</td>\n      <td>1.0</td>\n      <td>1.0</td>\n      <td>49.574949</td>\n      <td>21.465380</td>\n      <td>1.0</td>\n      <td>341.489231</td>\n    </tr>\n    <tr>\n      <th>...</th>\n      <td>...</td>\n      <td>...</td>\n      <td>...</td>\n      <td>...</td>\n      <td>...</td>\n      <td>...</td>\n      <td>...</td>\n      <td>...</td>\n      <td>...</td>\n      <td>...</td>\n      <td>...</td>\n      <td>...</td>\n      <td>...</td>\n      <td>...</td>\n      <td>...</td>\n      <td>...</td>\n      <td>...</td>\n      <td>...</td>\n      <td>...</td>\n      <td>...</td>\n      <td>...</td>\n    </tr>\n    <tr>\n      <th>99992</th>\n      <td>9254.0</td>\n      <td>1.0</td>\n      <td>1.0</td>\n      <td>8.119522</td>\n      <td>4.0</td>\n      <td>6.0</td>\n      <td>7.0</td>\n      <td>0.0</td>\n      <td>23.0</td>\n      <td>6.0</td>\n      <td>...</td>\n      <td>3.0</td>\n      <td>2.0</td>\n      <td>22.413835</td>\n      <td>32.991333</td>\n      <td>1.0</td>\n      <td>1.0</td>\n      <td>35.104023</td>\n      <td>24.028477</td>\n      <td>5.0</td>\n      <td>189.641080</td>\n    </tr>\n    <tr>\n      <th>99993</th>\n      <td>9254.0</td>\n      <td>2.0</td>\n      <td>1.0</td>\n      <td>8.119522</td>\n      <td>4.0</td>\n      <td>6.0</td>\n      <td>7.0</td>\n      <td>0.0</td>\n      <td>23.0</td>\n      <td>6.0</td>\n      <td>...</td>\n      <td>3.0</td>\n      <td>2.0</td>\n      <td>22.413835</td>\n      <td>29.135447</td>\n      <td>1.0</td>\n      <td>1.0</td>\n      <td>35.104023</td>\n      <td>24.028477</td>\n      <td>4.0</td>\n      <td>400.104466</td>\n    </tr>\n    <tr>\n      <th>99994</th>\n      <td>9254.0</td>\n      <td>3.0</td>\n      <td>1.0</td>\n      <td>8.119522</td>\n      <td>4.0</td>\n      <td>6.0</td>\n      <td>7.0</td>\n      <td>0.0</td>\n      <td>20.0</td>\n      <td>6.0</td>\n      <td>...</td>\n      <td>3.0</td>\n      <td>2.0</td>\n      <td>22.413835</td>\n      <td>39.323569</td>\n      <td>1.0</td>\n      <td>1.0</td>\n      <td>35.104023</td>\n      <td>24.028477</td>\n      <td>1.0</td>\n      <td>410.256158</td>\n    </tr>\n    <tr>\n      <th>99995</th>\n      <td>9254.0</td>\n      <td>4.0</td>\n      <td>1.0</td>\n      <td>8.119522</td>\n      <td>4.0</td>\n      <td>6.0</td>\n      <td>7.0</td>\n      <td>0.0</td>\n      <td>23.0</td>\n      <td>7.0</td>\n      <td>...</td>\n      <td>3.0</td>\n      <td>2.0</td>\n      <td>22.413835</td>\n      <td>34.663572</td>\n      <td>1.0</td>\n      <td>1.0</td>\n      <td>35.104023</td>\n      <td>24.028477</td>\n      <td>0.0</td>\n      <td>479.866228</td>\n    </tr>\n    <tr>\n      <th>99996</th>\n      <td>9254.0</td>\n      <td>5.0</td>\n      <td>1.0</td>\n      <td>8.119522</td>\n      <td>4.0</td>\n      <td>6.0</td>\n      <td>7.0</td>\n      <td>0.0</td>\n      <td>18.0</td>\n      <td>7.0</td>\n      <td>...</td>\n      <td>3.0</td>\n      <td>2.0</td>\n      <td>22.413835</td>\n      <td>40.565631</td>\n      <td>1.0</td>\n      <td>1.0</td>\n      <td>35.104023</td>\n      <td>24.028477</td>\n      <td>1.0</td>\n      <td>496.651610</td>\n    </tr>\n  </tbody>\n</table>\n<p>62500 rows × 21 columns</p>\n</div>"
     },
     "execution_count": 51,
     "metadata": {},
     "output_type": "execute_result"
    }
   ],
   "source": [
    "X_train"
   ],
   "metadata": {
    "collapsed": false
   }
  },
  {
   "cell_type": "code",
   "execution_count": 52,
   "outputs": [
    {
     "name": "stdout",
     "output_type": "stream",
     "text": [
      "Before Reshaping... :\n",
      "(62500, 21)\n",
      "(12500, 21)\n",
      "(25000, 21)\n",
      "\n",
      "\n",
      "After Reshaping... : \n",
      "(62500, 21, 1)\n",
      "(12500, 21, 1)\n",
      "(25000, 21, 1)\n"
     ]
    }
   ],
   "source": [
    "sample_size = X_train.shape[0]\n",
    "num_features = X_train.shape[1]\n",
    "input_dim = 1 # each feature is represented by 1 number\n",
    "\n",
    "print('Before Reshaping... :')\n",
    "print(X_train.shape)\n",
    "print(X_val.shape)\n",
    "print(X_test.shape)\n",
    "print('\\n')\n",
    "\n",
    "X_train_reshape = np.reshape(X_train.values, newshape=(sample_size, num_features, input_dim))\n",
    "X_val_reshape = np.reshape(X_val.values, newshape=(X_val.shape[0], num_features, input_dim))\n",
    "X_test_reshape = np.reshape(X_test.values, newshape=(X_test.shape[0], num_features, input_dim))\n",
    "\n",
    "print('After Reshaping... : ')\n",
    "print(X_train_reshape.shape)\n",
    "print(X_val_reshape.shape)\n",
    "print(X_test_reshape.shape)"
   ],
   "metadata": {
    "collapsed": false
   }
  },
  {
   "cell_type": "code",
   "execution_count": 53,
   "outputs": [
    {
     "name": "stdout",
     "output_type": "stream",
     "text": [
      "1 Sample shape:\n",
      " (21, 1)\n",
      "An example sample:\n",
      " [[576.        ]\n",
      " [  1.        ]\n",
      " [  1.        ]\n",
      " [  7.50924942]\n",
      " [  3.        ]\n",
      " [  4.        ]\n",
      " [  3.        ]\n",
      " [  0.        ]\n",
      " [  3.        ]\n",
      " [  7.        ]\n",
      " [  0.        ]\n",
      " [  4.        ]\n",
      " [  2.        ]\n",
      " [ 28.46014758]\n",
      " [ 26.82261962]\n",
      " [  1.        ]\n",
      " [  1.        ]\n",
      " [ 49.57494921]\n",
      " [ 21.46538026]\n",
      " [  2.        ]\n",
      " [312.49408868]]\n"
     ]
    }
   ],
   "source": [
    "print(\"1 Sample shape:\\n\", X_train_reshape[0].shape)\n",
    "print(\"An example sample:\\n\", X_train_reshape[0])"
   ],
   "metadata": {
    "collapsed": false
   }
  },
  {
   "cell_type": "code",
   "execution_count": 54,
   "outputs": [],
   "source": [
    "import tensorflow as tf\n",
    "from time import time\n",
    "from datetime import timedelta\n",
    "from sklearn.metrics import classification_report, confusion_matrix, accuracy_score"
   ],
   "metadata": {
    "collapsed": false
   }
  },
  {
   "cell_type": "code",
   "execution_count": 55,
   "outputs": [],
   "source": [
    "import matplotlib.pyplot as plt\n",
    "import seaborn as sns"
   ],
   "metadata": {
    "collapsed": false
   }
  },
  {
   "cell_type": "code",
   "execution_count": 56,
   "outputs": [],
   "source": [
    "# loss와 accuracy 시각화를 위한 함수 정의\n",
    "def plot_loss(history):\n",
    "    plt.figure(figsize=(8, 5))\n",
    "    plt.plot(history.history['loss'], 'b-', label='loss')\n",
    "    plt.plot(history.history['val_loss'], 'g--', label='val_loss')\n",
    "    plt.xlabel('Epochs')\n",
    "    plt.ylabel('Loss')\n",
    "    plt.title('Loss vs Val Loss')\n",
    "    plt.legend()\n",
    "    plt.show()\n",
    "\n",
    "def plot_acc(history):\n",
    "    plt.figure(figsize=(8, 5))\n",
    "    plt.plot(history.history['acc'], 'b-', label='acc')\n",
    "    plt.plot(history.history['val_acc'], 'g--', label='val_acc')\n",
    "    plt.xlabel('Epochs')\n",
    "    plt.ylabel('Accuracy')\n",
    "    plt.title('Accuracy vs Val Accuracy')\n",
    "    plt.legend()\n",
    "    plt.show()"
   ],
   "metadata": {
    "collapsed": false
   }
  },
  {
   "cell_type": "code",
   "execution_count": 57,
   "outputs": [],
   "source": [
    "# 결과 재활용을 위한 시드 설정 함수 정의\n",
    "import random\n",
    "def set_seed(seed: int = 42) -> None:\n",
    "    random.seed(seed)\n",
    "    np.random.seed(seed)\n",
    "    tf.random.set_seed(seed)\n",
    "    tf.experimental.numpy.random.seed(seed)\n",
    "    # When running on the CuDNN backend, two further options must be set\n",
    "    os.environ['TF_CUDNN_DETERMINISTIC'] = '1'\n",
    "    os.environ['TF_DETERMINISTIC_OPS'] = '1'\n",
    "    # Set a fixed value for the hash seed\n",
    "    os.environ[\"PYTHONHASHSEED\"] = str(seed)\n",
    "    print(f\"Random seed set as {seed}\")"
   ],
   "metadata": {
    "collapsed": false
   }
  },
  {
   "cell_type": "code",
   "execution_count": 58,
   "outputs": [],
   "source": [
    "# 분류모델 결과 평가를 위한 혼동행렬 리포트 & 시각화 함수 정의\n",
    "def clf_report_plot(y_true, X_test, model):\n",
    "\n",
    "    result = model.predict(X_test)\n",
    "\n",
    "    y_pred = []\n",
    "    for pred in result:\n",
    "        y_pred.append(np.argmax(pred))\n",
    "\n",
    "    print(classification_report(y_true, y_pred, digits=4))\n",
    "\n",
    "    # plt.rc('font', family='NanumGothicOTF') # For MacOS\n",
    "    plt.rc('font', family='NanumGothic') # For Windows\n",
    "\n",
    "    ax = plt.subplot()\n",
    "    ax.figure.set_size_inches(10, 10)\n",
    "    cm = confusion_matrix(y_true=y_true, y_pred=y_pred)\n",
    "    sns.heatmap(cm, annot=True, fmt='.0f', cmap='Blues', ax=ax)\n",
    "\n",
    "    ax.set_title('Confusion Matrix',fontsize=20, y=1.05)\n",
    "    ax.set_xlabel('Predicted Labels', fontsize=15)\n",
    "    ax.set_ylabel('True Labels', fontsize=15)\n",
    "\n",
    "    ax.xaxis.set_ticklabels(['Poor', 'Standard', 'Good'])\n",
    "    ax.yaxis.set_ticklabels(['Poor', 'Standard', 'Good'])\n",
    "    plt.show()"
   ],
   "metadata": {
    "collapsed": false
   }
  },
  {
   "cell_type": "code",
   "execution_count": 59,
   "outputs": [],
   "source": [
    "from tensorflow.keras.models import Sequential, load_model, Model\n",
    "\n",
    "from tensorflow.keras.layers import Dense, LSTM, Flatten\n",
    "from tensorflow.keras.layers import Conv1D, MaxPooling1D, Dropout, Input\n",
    "\n",
    "from tensorflow.keras.callbacks import EarlyStopping, ModelCheckpoint\n",
    "\n",
    "from sklearn.metrics import confusion_matrix, classification_report"
   ],
   "metadata": {
    "collapsed": false
   }
  },
  {
   "cell_type": "code",
   "execution_count": 60,
   "outputs": [],
   "source": [
    "import os"
   ],
   "metadata": {
    "collapsed": false
   }
  },
  {
   "cell_type": "code",
   "execution_count": 61,
   "outputs": [],
   "source": [
    "num_classes = 3"
   ],
   "metadata": {
    "collapsed": false
   }
  },
  {
   "cell_type": "code",
   "execution_count": 62,
   "outputs": [
    {
     "name": "stdout",
     "output_type": "stream",
     "text": [
      "Random seed set as 42\n"
     ]
    }
   ],
   "source": [
    "set_seed(42)\n",
    "model = Sequential()\n",
    "model.add(Input(shape=(num_features, input_dim)))\n",
    "model.add(Conv1D(256, kernel_size=2, activation='relu'))\n",
    "# model.add(MaxPooling1D(pool_size=3, strides=1))\n",
    "model.add(Dropout(0.3))\n",
    "model.add(Conv1D(256, kernel_size=4, activation='relu'))\n",
    "\n",
    "model.add(Dropout(0.3))\n",
    "model.add(Conv1D(256, kernel_size=8, activation='relu'))\n",
    "# model.add(Conv1D(64, kernel_size=4, strides=4, activation='relu'))\n",
    "model.add(MaxPooling1D())\n",
    "model.add(Dropout(0.3))\n",
    "\n",
    "model.add(Flatten())\n",
    "model.add(Dense(32, activation='relu'))\n",
    "model.add(Dropout(0.3))\n",
    "\n",
    "\n",
    "model.add(Dense(num_classes, activation='softmax'))"
   ],
   "metadata": {
    "collapsed": false
   }
  },
  {
   "cell_type": "code",
   "execution_count": 63,
   "outputs": [],
   "source": [
    "# set_seed(42)\n",
    "# model = Sequential()\n",
    "# model.add(Input(shape=(num_features, input_dim)))\n",
    "# model.add(Conv1D(128, kernel_size=2, activation='relu'))\n",
    "# # model.add(MaxPooling1D(pool_size=3, strides=1))\n",
    "# model.add(Dropout(0.3))\n",
    "# model.add(Conv1D(128, kernel_size=4, activation='relu'))\n",
    "#\n",
    "# model.add(Dropout(0.3))\n",
    "# model.add(Conv1D(128, kernel_size=8, activation='relu'))\n",
    "# # model.add(Conv1D(64, kernel_size=4, strides=4, activation='relu'))\n",
    "# model.add(MaxPooling1D())\n",
    "# model.add(Dropout(0.3))\n",
    "#\n",
    "# model.add(Flatten())\n",
    "# model.add(Dense(32, activation='relu'))\n",
    "# model.add(Dropout(0.3))\n",
    "#\n",
    "#\n",
    "# model.add(Dense(num_classes, activation='softmax'))"
   ],
   "metadata": {
    "collapsed": false
   }
  },
  {
   "cell_type": "code",
   "execution_count": 64,
   "outputs": [
    {
     "name": "stdout",
     "output_type": "stream",
     "text": [
      "Model: \"sequential_1\"\n",
      "_________________________________________________________________\n",
      " Layer (type)                Output Shape              Param #   \n",
      "=================================================================\n",
      " conv1d_3 (Conv1D)           (None, 20, 256)           768       \n",
      "                                                                 \n",
      " dropout_4 (Dropout)         (None, 20, 256)           0         \n",
      "                                                                 \n",
      " conv1d_4 (Conv1D)           (None, 17, 256)           262400    \n",
      "                                                                 \n",
      " dropout_5 (Dropout)         (None, 17, 256)           0         \n",
      "                                                                 \n",
      " conv1d_5 (Conv1D)           (None, 10, 256)           524544    \n",
      "                                                                 \n",
      " max_pooling1d_1 (MaxPooling  (None, 5, 256)           0         \n",
      " 1D)                                                             \n",
      "                                                                 \n",
      " dropout_6 (Dropout)         (None, 5, 256)            0         \n",
      "                                                                 \n",
      " flatten_1 (Flatten)         (None, 1280)              0         \n",
      "                                                                 \n",
      " dense_8 (Dense)             (None, 32)                40992     \n",
      "                                                                 \n",
      " dropout_7 (Dropout)         (None, 32)                0         \n",
      "                                                                 \n",
      " dense_9 (Dense)             (None, 3)                 99        \n",
      "                                                                 \n",
      "=================================================================\n",
      "Total params: 828,803\n",
      "Trainable params: 828,803\n",
      "Non-trainable params: 0\n",
      "_________________________________________________________________\n"
     ]
    }
   ],
   "source": [
    "model.summary()"
   ],
   "metadata": {
    "collapsed": false
   }
  },
  {
   "cell_type": "code",
   "execution_count": 65,
   "outputs": [],
   "source": [
    "model.compile(optimizer='adam', loss='sparse_categorical_crossentropy', metrics=['acc'])\n",
    "\n",
    "es = EarlyStopping(monitor='val_loss', mode='min', verbose=1, patience=5)\n",
    "mc = ModelCheckpoint('cnn_best_model_2.h5', monitor='val_acc', mode='max', verbose=1, save_best_only=True)"
   ],
   "metadata": {
    "collapsed": false
   }
  },
  {
   "cell_type": "code",
   "execution_count": 66,
   "outputs": [
    {
     "name": "stdout",
     "output_type": "stream",
     "text": [
      "Algorithm starts learning.....\n",
      "Epoch 1/50\n"
     ]
    },
    {
     "name": "stderr",
     "output_type": "stream",
     "text": [
      "2022-11-17 08:56:00.708040: I tensorflow/core/grappler/optimizers/custom_graph_optimizer_registry.cc:114] Plugin optimizer for device_type GPU is enabled.\n"
     ]
    },
    {
     "name": "stdout",
     "output_type": "stream",
     "text": [
      "977/977 [==============================] - ETA: 0s - loss: 1.0130 - acc: 0.5704"
     ]
    },
    {
     "name": "stderr",
     "output_type": "stream",
     "text": [
      "2022-11-17 08:56:18.742997: I tensorflow/core/grappler/optimizers/custom_graph_optimizer_registry.cc:114] Plugin optimizer for device_type GPU is enabled.\n"
     ]
    },
    {
     "name": "stdout",
     "output_type": "stream",
     "text": [
      "\n",
      "Epoch 1: val_acc improved from -inf to 0.51448, saving model to cnn_best_model_2.h5\n",
      "977/977 [==============================] - 20s 20ms/step - loss: 1.0130 - acc: 0.5704 - val_loss: 0.9067 - val_acc: 0.5145\n",
      "Epoch 2/50\n",
      "977/977 [==============================] - ETA: 0s - loss: 0.9016 - acc: 0.5914\n",
      "Epoch 2: val_acc improved from 0.51448 to 0.59112, saving model to cnn_best_model_2.h5\n",
      "977/977 [==============================] - 20s 20ms/step - loss: 0.9016 - acc: 0.5914 - val_loss: 0.8790 - val_acc: 0.5911\n",
      "Epoch 3/50\n",
      "977/977 [==============================] - ETA: 0s - loss: 0.8897 - acc: 0.6006\n",
      "Epoch 3: val_acc did not improve from 0.59112\n",
      "977/977 [==============================] - 19s 19ms/step - loss: 0.8897 - acc: 0.6006 - val_loss: 0.8829 - val_acc: 0.5224\n",
      "Epoch 4/50\n",
      "976/977 [============================>.] - ETA: 0s - loss: 0.8786 - acc: 0.6075\n",
      "Epoch 4: val_acc did not improve from 0.59112\n",
      "977/977 [==============================] - 20s 20ms/step - loss: 0.8786 - acc: 0.6076 - val_loss: 0.8633 - val_acc: 0.5713\n",
      "Epoch 5/50\n",
      "977/977 [==============================] - ETA: 0s - loss: 0.8710 - acc: 0.6106\n",
      "Epoch 5: val_acc improved from 0.59112 to 0.60256, saving model to cnn_best_model_2.h5\n",
      "977/977 [==============================] - 19s 20ms/step - loss: 0.8710 - acc: 0.6106 - val_loss: 0.8340 - val_acc: 0.6026\n",
      "Epoch 6/50\n",
      "976/977 [============================>.] - ETA: 0s - loss: 0.8691 - acc: 0.6109\n",
      "Epoch 6: val_acc did not improve from 0.60256\n",
      "977/977 [==============================] - 19s 19ms/step - loss: 0.8691 - acc: 0.6109 - val_loss: 0.8424 - val_acc: 0.5946\n",
      "Epoch 7/50\n",
      "974/977 [============================>.] - ETA: 0s - loss: 0.8640 - acc: 0.6138\n",
      "Epoch 7: val_acc did not improve from 0.60256\n",
      "977/977 [==============================] - 18s 19ms/step - loss: 0.8638 - acc: 0.6138 - val_loss: 0.8543 - val_acc: 0.5842\n",
      "Epoch 8/50\n",
      "975/977 [============================>.] - ETA: 0s - loss: 0.8588 - acc: 0.6161\n",
      "Epoch 8: val_acc did not improve from 0.60256\n",
      "977/977 [==============================] - 19s 19ms/step - loss: 0.8587 - acc: 0.6161 - val_loss: 0.8335 - val_acc: 0.5943\n",
      "Epoch 9/50\n",
      "976/977 [============================>.] - ETA: 0s - loss: 0.8574 - acc: 0.6162\n",
      "Epoch 9: val_acc did not improve from 0.60256\n",
      "977/977 [==============================] - 18s 18ms/step - loss: 0.8574 - acc: 0.6162 - val_loss: 0.8410 - val_acc: 0.5877\n",
      "Epoch 10/50\n",
      "975/977 [============================>.] - ETA: 0s - loss: 0.8500 - acc: 0.6230\n",
      "Epoch 10: val_acc improved from 0.60256 to 0.63432, saving model to cnn_best_model_2.h5\n",
      "977/977 [==============================] - 18s 18ms/step - loss: 0.8500 - acc: 0.6231 - val_loss: 0.8078 - val_acc: 0.6343\n",
      "Epoch 11/50\n",
      "975/977 [============================>.] - ETA: 0s - loss: 0.8089 - acc: 0.6525\n",
      "Epoch 11: val_acc did not improve from 0.63432\n",
      "977/977 [==============================] - 17s 18ms/step - loss: 0.8090 - acc: 0.6524 - val_loss: 0.8077 - val_acc: 0.6053\n",
      "Epoch 12/50\n",
      "977/977 [==============================] - ETA: 0s - loss: 0.7803 - acc: 0.6612\n",
      "Epoch 12: val_acc improved from 0.63432 to 0.64080, saving model to cnn_best_model_2.h5\n",
      "977/977 [==============================] - 18s 18ms/step - loss: 0.7803 - acc: 0.6612 - val_loss: 0.7800 - val_acc: 0.6408\n",
      "Epoch 13/50\n",
      "974/977 [============================>.] - ETA: 0s - loss: 0.7625 - acc: 0.6689\n",
      "Epoch 13: val_acc improved from 0.64080 to 0.65112, saving model to cnn_best_model_2.h5\n",
      "977/977 [==============================] - 19s 20ms/step - loss: 0.7625 - acc: 0.6689 - val_loss: 0.7742 - val_acc: 0.6511\n",
      "Epoch 14/50\n",
      "974/977 [============================>.] - ETA: 0s - loss: 0.7044 - acc: 0.6972\n",
      "Epoch 14: val_acc improved from 0.65112 to 0.65128, saving model to cnn_best_model_2.h5\n",
      "977/977 [==============================] - 19s 19ms/step - loss: 0.7043 - acc: 0.6973 - val_loss: 0.7688 - val_acc: 0.6513\n",
      "Epoch 15/50\n",
      "975/977 [============================>.] - ETA: 0s - loss: 0.6805 - acc: 0.7078\n",
      "Epoch 15: val_acc improved from 0.65128 to 0.66192, saving model to cnn_best_model_2.h5\n",
      "977/977 [==============================] - 19s 19ms/step - loss: 0.6803 - acc: 0.7079 - val_loss: 0.7487 - val_acc: 0.6619\n",
      "Epoch 16/50\n",
      "976/977 [============================>.] - ETA: 0s - loss: 0.6627 - acc: 0.7137\n",
      "Epoch 16: val_acc did not improve from 0.66192\n",
      "977/977 [==============================] - 19s 19ms/step - loss: 0.6628 - acc: 0.7136 - val_loss: 0.7575 - val_acc: 0.6610\n",
      "Epoch 17/50\n",
      "975/977 [============================>.] - ETA: 0s - loss: 0.6601 - acc: 0.7152\n",
      "Epoch 17: val_acc did not improve from 0.66192\n",
      "977/977 [==============================] - 19s 19ms/step - loss: 0.6602 - acc: 0.7152 - val_loss: 0.7522 - val_acc: 0.6594\n",
      "Epoch 18/50\n",
      "975/977 [============================>.] - ETA: 0s - loss: 0.6557 - acc: 0.7166\n",
      "Epoch 18: val_acc did not improve from 0.66192\n",
      "977/977 [==============================] - 19s 20ms/step - loss: 0.6558 - acc: 0.7165 - val_loss: 0.7741 - val_acc: 0.6534\n",
      "Epoch 19/50\n",
      "975/977 [============================>.] - ETA: 0s - loss: 0.6548 - acc: 0.7191\n",
      "Epoch 19: val_acc improved from 0.66192 to 0.66800, saving model to cnn_best_model_2.h5\n",
      "977/977 [==============================] - 19s 19ms/step - loss: 0.6549 - acc: 0.7191 - val_loss: 0.7424 - val_acc: 0.6680\n",
      "Epoch 20/50\n",
      "975/977 [============================>.] - ETA: 0s - loss: 0.6510 - acc: 0.7178\n",
      "Epoch 20: val_acc did not improve from 0.66800\n",
      "977/977 [==============================] - 19s 19ms/step - loss: 0.6510 - acc: 0.7178 - val_loss: 0.7542 - val_acc: 0.6580\n",
      "Epoch 21/50\n",
      "975/977 [============================>.] - ETA: 0s - loss: 0.6510 - acc: 0.7188\n",
      "Epoch 21: val_acc did not improve from 0.66800\n",
      "977/977 [==============================] - 19s 19ms/step - loss: 0.6511 - acc: 0.7187 - val_loss: 0.7800 - val_acc: 0.6446\n",
      "Epoch 22/50\n",
      "974/977 [============================>.] - ETA: 0s - loss: 0.6490 - acc: 0.7220\n",
      "Epoch 22: val_acc did not improve from 0.66800\n",
      "977/977 [==============================] - 19s 19ms/step - loss: 0.6491 - acc: 0.7219 - val_loss: 0.7565 - val_acc: 0.6561\n",
      "Epoch 23/50\n",
      "975/977 [============================>.] - ETA: 0s - loss: 0.6494 - acc: 0.7208\n",
      "Epoch 23: val_acc did not improve from 0.66800\n",
      "977/977 [==============================] - 19s 19ms/step - loss: 0.6493 - acc: 0.7209 - val_loss: 0.7640 - val_acc: 0.6530\n",
      "Epoch 24/50\n",
      "976/977 [============================>.] - ETA: 0s - loss: 0.6448 - acc: 0.7229\n",
      "Epoch 24: val_acc did not improve from 0.66800\n",
      "977/977 [==============================] - 19s 19ms/step - loss: 0.6449 - acc: 0.7229 - val_loss: 0.7587 - val_acc: 0.6586\n",
      "Epoch 24: early stopping\n",
      "Learning Durations:  0:07:32.211250\n"
     ]
    }
   ],
   "source": [
    "print('Algorithm starts learning.....')\n",
    "start_time = time()\n",
    "\n",
    "history = model.fit(X_train_reshape, y_train, epochs=50, batch_size=64, validation_data=(X_val, y_val), callbacks=[es, mc] )\n",
    "\n",
    "print(\"Learning Durations: \", timedelta(seconds=(time() - start_time)))"
   ],
   "metadata": {
    "collapsed": false
   }
  },
  {
   "cell_type": "code",
   "execution_count": 67,
   "outputs": [
    {
     "data": {
      "text/plain": "<Figure size 576x360 with 1 Axes>",
      "image/png": "[encoded data removed]"
     },
     "metadata": {
      "needs_background": "light"
     },
     "output_type": "display_data"
    }
   ],
   "source": [
    "plot_loss(history)"
   ],
   "metadata": {
    "collapsed": false
   }
  },
  {
   "cell_type": "code",
   "execution_count": 68,
   "outputs": [
    {
     "data": {
      "text/plain": "<Figure size 576x360 with 1 Axes>",
      "image/png": "[encoded data removed]"
     },
     "metadata": {
      "needs_background": "light"
     },
     "output_type": "display_data"
    }
   ],
   "source": [
    "plot_acc(history)"
   ],
   "metadata": {
    "collapsed": false
   }
  },
  {
   "cell_type": "code",
   "execution_count": 69,
   "outputs": [
    {
     "name": "stdout",
     "output_type": "stream",
     "text": [
      " 12/782 [..............................] - ETA: 7s - loss: 0.7835 - acc: 0.6328"
     ]
    },
    {
     "name": "stderr",
     "output_type": "stream",
     "text": [
      "2022-11-17 09:03:34.775652: I tensorflow/core/grappler/optimizers/custom_graph_optimizer_registry.cc:114] Plugin optimizer for device_type GPU is enabled.\n"
     ]
    },
    {
     "name": "stdout",
     "output_type": "stream",
     "text": [
      "782/782 [==============================] - 6s 7ms/step - loss: 0.8153 - acc: 0.6354\n",
      "Test Accuracy: 0.635360062122345\n"
     ]
    }
   ],
   "source": [
    "best_model = load_model('./cnn_best_model_2.h5')\n",
    "print('Test Accuracy: {}'.format(best_model.evaluate(X_test_reshape, y_test)[1]))"
   ],
   "metadata": {
    "collapsed": false
   }
  },
  {
   "cell_type": "code",
   "execution_count": 70,
   "outputs": [
    {
     "name": "stdout",
     "output_type": "stream",
     "text": [
      "1954/1954 [==============================] - 14s 7ms/step - loss: 0.6092 - acc: 0.7284\n",
      "Train Accuracy: 0.7284479737281799\n"
     ]
    }
   ],
   "source": [
    "print('Train Accuracy: {}'.format(best_model.evaluate(X_train_reshape, y_train)[1]))"
   ],
   "metadata": {
    "collapsed": false
   }
  },
  {
   "cell_type": "code",
   "execution_count": 71,
   "outputs": [
    {
     "name": "stdout",
     "output_type": "stream",
     "text": [
      " 47/782 [>.............................] - ETA: 2s"
     ]
    },
    {
     "name": "stderr",
     "output_type": "stream",
     "text": [
      "2022-11-17 09:03:54.733116: I tensorflow/core/grappler/optimizers/custom_graph_optimizer_registry.cc:114] Plugin optimizer for device_type GPU is enabled.\n"
     ]
    },
    {
     "name": "stdout",
     "output_type": "stream",
     "text": [
      "782/782 [==============================] - 3s 3ms/step\n",
      "              precision    recall  f1-score   support\n",
      "\n",
      "           0     0.6827    0.5571    0.6136      7216\n",
      "           1     0.6190    0.8074    0.7008     12960\n",
      "           2     0.6343    0.2902    0.3982      4824\n",
      "\n",
      "    accuracy                         0.6354     25000\n",
      "   macro avg     0.6454    0.5516    0.5708     25000\n",
      "weighted avg     0.6404    0.6354    0.6172     25000\n",
      "\n"
     ]
    },
    {
     "data": {
      "text/plain": "<Figure size 720x720 with 2 Axes>",
      "image/png": "[encoded data removed]"
     },
     "metadata": {
      "needs_background": "light"
     },
     "output_type": "display_data"
    }
   ],
   "source": [
    "clf_report_plot(y_test, X_test_reshape, best_model)"
   ],
   "metadata": {
    "collapsed": false
   }
  },
  {
   "cell_type": "code",
   "execution_count": 71,
   "outputs": [],
   "source": [],
   "metadata": {
    "collapsed": false
   }
  },
  {
   "cell_type": "markdown",
   "source": [
    "## CNN 병렬모델"
   ],
   "metadata": {
    "collapsed": false
   }
  },
  {
   "cell_type": "code",
   "execution_count": 72,
   "outputs": [],
   "source": [
    "from tensorflow.keras.models import Model\n",
    "from tensorflow.keras.layers import Input, BatchNormalization, Concatenate, MaxPooling1D, GlobalMaxPooling1D"
   ],
   "metadata": {
    "collapsed": false
   }
  },
  {
   "cell_type": "code",
   "execution_count": 73,
   "outputs": [
    {
     "name": "stdout",
     "output_type": "stream",
     "text": [
      "Random seed set as 42\n",
      "Input shape :  (None, 21, 1)\n",
      "cnn1 shape :  (None, 20, 128)\n",
      "cnn1 shape :  (None, 128)\n",
      "cnn2 shape :  (None, 18, 128)\n",
      "cnn2 shape :  (None, 128)\n",
      "cnn3 shape :  (None, 16, 128)\n",
      "cnn3 shape :  (None, 128)\n",
      "After Concat shape : (None, 384)\n",
      "output:  (None, 3)\n"
     ]
    }
   ],
   "source": [
    "set_seed(42) # seed 설정\n",
    "\n",
    "# Input layer 생성\n",
    "input = Input(shape=(num_features, input_dim), name='input')\n",
    "print('Input shape : ', input.shape)\n",
    "\n",
    "# CNN\n",
    "cnn1 = Conv1D(128, kernel_size=2, strides=1, padding='valid', activation='relu', name='conv1')(input) # kernel_size=2: 2개씩 feature 학습\n",
    "print('cnn1 shape : ', cnn1.shape)\n",
    "cnn1 = BatchNormalization(name='batch1')(cnn1)\n",
    "# cnn1 = MaxPooling1D(name='max1')(cnn1)\n",
    "cnn1 = GlobalMaxPooling1D(name='max1')(cnn1)\n",
    "cnn1 = Dense(128, activation='relu')(cnn1)\n",
    "cnn1 = Dropout(0.2, name='drop1')(cnn1)\n",
    "print('cnn1 shape : ', cnn1.shape)\n",
    "\n",
    "cnn2 = Conv1D(128, kernel_size=4, strides=1, padding='valid', activation='relu', name='conv2')(input) # kernel_size=4: 4개씩 feature 학습\n",
    "print('cnn2 shape : ', cnn2.shape)\n",
    "cnn2 = BatchNormalization(name='batch2')(cnn2)\n",
    "# cnn2 = MaxPooling1D(name='max2')(cnn2)\n",
    "cnn2 = GlobalMaxPooling1D(name='max2')(cnn2)\n",
    "cnn2 = Dense(128, activation='relu')(cnn2)\n",
    "cnn2 = Dropout(0.2, name='drop2')(cnn2)\n",
    "print('cnn2 shape : ', cnn2.shape)\n",
    "\n",
    "cnn3 = Conv1D(128, kernel_size=6, strides=1, padding='valid', activation='relu', name='conv3')(input) # kernel_size=4: 6개씩 feature 학습\n",
    "print('cnn3 shape : ', cnn3.shape)\n",
    "cnn3 = BatchNormalization(name='batch3')(cnn3)\n",
    "# cnn3 = MaxPooling1D(name='max3')(cnn3)\n",
    "cnn3 = GlobalMaxPooling1D(name='max3')(cnn3)\n",
    "cnn3 = Dense(128, activation='relu')(cnn3)\n",
    "cnn3 = Dropout(0.2, name='drop3')(cnn3)\n",
    "print('cnn3 shape : ', cnn3.shape)\n",
    "\n",
    "cnn_concat = Concatenate(name='cnn_concat')([cnn1, cnn2, cnn3])\n",
    "print('After Concat shape :', cnn_concat.shape)\n",
    "\n",
    "decoder = Dense(128, activation='relu')(cnn_concat)\n",
    "decoder = Dropout(0.2, name='decoder_dropout')(decoder)\n",
    "decoder = Dense(64, activation='relu')(cnn_concat)\n",
    "output = Dense(num_classes, activation='softmax')(decoder)\n",
    "print('output: ', output.shape)\n",
    "\n",
    "model = Model(inputs=input, outputs=output)"
   ],
   "metadata": {
    "collapsed": false
   }
  },
  {
   "cell_type": "code",
   "execution_count": 74,
   "outputs": [],
   "source": [
    "# set_seed(42) # seed 설정\n",
    "#\n",
    "# # Input layer 생성\n",
    "# input = Input(shape=(num_features, input_dim), name='input')\n",
    "# print('Input shape : ', input.shape)\n",
    "#\n",
    "# # CNN\n",
    "# cnn1 = Conv1D(128, kernel_size=2, strides=1, padding='valid', activation='relu', name='conv1')(input) # kernel_size=2: 2개씩 feature 학습\n",
    "# print('cnn1 shape : ', cnn1.shape)\n",
    "# cnn1 = BatchNormalization(name='batch1')(cnn1)\n",
    "# # cnn1 = MaxPooling1D(name='max1')(cnn1)\n",
    "# cnn1 = GlobalMaxPooling1D(name='max1')(cnn1)\n",
    "# cnn1 = Dropout(0.2, name='drop1')(cnn1)\n",
    "# print('cnn1 shape : ', cnn1.shape)\n",
    "#\n",
    "# cnn2 = Conv1D(128, kernel_size=4, strides=1, padding='valid', activation='relu', name='conv2')(input) # kernel_size=4: 4개씩 feature 학습\n",
    "# print('cnn2 shape : ', cnn2.shape)\n",
    "# cnn2 = BatchNormalization(name='batch2')(cnn2)\n",
    "# # cnn2 = MaxPooling1D(name='max2')(cnn2)\n",
    "# cnn2 = GlobalMaxPooling1D(name='max2')(cnn2)\n",
    "# cnn2 = Dropout(0.2, name='drop2')(cnn2)\n",
    "# print('cnn2 shape : ', cnn2.shape)\n",
    "#\n",
    "# cnn3 = Conv1D(128, kernel_size=6, strides=1, padding='valid', activation='relu', name='conv3')(input) # kernel_size=4: 6개씩 feature 학습\n",
    "# print('cnn3 shape : ', cnn3.shape)\n",
    "# cnn3 = BatchNormalization(name='batch3')(cnn3)\n",
    "# # cnn3 = MaxPooling1D(name='max3')(cnn3)\n",
    "# cnn3 = GlobalMaxPooling1D(name='max3')(cnn3)\n",
    "# cnn3 = Dropout(0.2, name='drop3')(cnn3)\n",
    "# print('cnn3 shape : ', cnn3.shape)\n",
    "#\n",
    "# cnn_concat = Concatenate(name='cnn_concat')([cnn1, cnn2, cnn3])\n",
    "# print('After Concat shape :', cnn_concat.shape)\n",
    "#\n",
    "# decoder = Dense(128, activation='relu')(cnn_concat)\n",
    "# decoder = Dropout(0.2, name='decoder_dropout')(decoder)\n",
    "# decoder = Dense(64, activation='relu')(cnn_concat)\n",
    "# output = Dense(num_classes, activation='softmax')(decoder)\n",
    "#\n",
    "# print('output: ', output.shape)\n",
    "# model = Model(inputs=input, outputs=output)"
   ],
   "metadata": {
    "collapsed": false
   }
  },
  {
   "cell_type": "code",
   "execution_count": 75,
   "outputs": [
    {
     "name": "stdout",
     "output_type": "stream",
     "text": [
      "Model: \"model_1\"\n",
      "__________________________________________________________________________________________________\n",
      " Layer (type)                   Output Shape         Param #     Connected to                     \n",
      "==================================================================================================\n",
      " input (InputLayer)             [(None, 21, 1)]      0           []                               \n",
      "                                                                                                  \n",
      " conv1 (Conv1D)                 (None, 20, 128)      384         ['input[0][0]']                  \n",
      "                                                                                                  \n",
      " conv2 (Conv1D)                 (None, 18, 128)      640         ['input[0][0]']                  \n",
      "                                                                                                  \n",
      " conv3 (Conv1D)                 (None, 16, 128)      896         ['input[0][0]']                  \n",
      "                                                                                                  \n",
      " batch1 (BatchNormalization)    (None, 20, 128)      512         ['conv1[0][0]']                  \n",
      "                                                                                                  \n",
      " batch2 (BatchNormalization)    (None, 18, 128)      512         ['conv2[0][0]']                  \n",
      "                                                                                                  \n",
      " batch3 (BatchNormalization)    (None, 16, 128)      512         ['conv3[0][0]']                  \n",
      "                                                                                                  \n",
      " max1 (GlobalMaxPooling1D)      (None, 128)          0           ['batch1[0][0]']                 \n",
      "                                                                                                  \n",
      " max2 (GlobalMaxPooling1D)      (None, 128)          0           ['batch2[0][0]']                 \n",
      "                                                                                                  \n",
      " max3 (GlobalMaxPooling1D)      (None, 128)          0           ['batch3[0][0]']                 \n",
      "                                                                                                  \n",
      " dense_10 (Dense)               (None, 128)          16512       ['max1[0][0]']                   \n",
      "                                                                                                  \n",
      " dense_11 (Dense)               (None, 128)          16512       ['max2[0][0]']                   \n",
      "                                                                                                  \n",
      " dense_12 (Dense)               (None, 128)          16512       ['max3[0][0]']                   \n",
      "                                                                                                  \n",
      " drop1 (Dropout)                (None, 128)          0           ['dense_10[0][0]']               \n",
      "                                                                                                  \n",
      " drop2 (Dropout)                (None, 128)          0           ['dense_11[0][0]']               \n",
      "                                                                                                  \n",
      " drop3 (Dropout)                (None, 128)          0           ['dense_12[0][0]']               \n",
      "                                                                                                  \n",
      " cnn_concat (Concatenate)       (None, 384)          0           ['drop1[0][0]',                  \n",
      "                                                                  'drop2[0][0]',                  \n",
      "                                                                  'drop3[0][0]']                  \n",
      "                                                                                                  \n",
      " dense_14 (Dense)               (None, 64)           24640       ['cnn_concat[0][0]']             \n",
      "                                                                                                  \n",
      " dense_15 (Dense)               (None, 3)            195         ['dense_14[0][0]']               \n",
      "                                                                                                  \n",
      "==================================================================================================\n",
      "Total params: 77,827\n",
      "Trainable params: 77,059\n",
      "Non-trainable params: 768\n",
      "__________________________________________________________________________________________________\n"
     ]
    }
   ],
   "source": [
    "model.summary()"
   ],
   "metadata": {
    "collapsed": false
   }
  },
  {
   "cell_type": "code",
   "execution_count": 76,
   "outputs": [],
   "source": [
    "model.compile(optimizer='adam', loss='sparse_categorical_crossentropy', metrics=['acc'])\n",
    "\n",
    "es = EarlyStopping(monitor='val_loss', mode='min', verbose=1, patience=5)\n",
    "mc = ModelCheckpoint('concatenated_cnn_best_model_2.h5', monitor='val_acc', mode='max', verbose=1, save_best_only=True)"
   ],
   "metadata": {
    "collapsed": false
   }
  },
  {
   "cell_type": "code",
   "execution_count": 77,
   "outputs": [
    {
     "name": "stdout",
     "output_type": "stream",
     "text": [
      "Algorithm starts learning.....\n",
      "Epoch 1/50\n"
     ]
    },
    {
     "name": "stderr",
     "output_type": "stream",
     "text": [
      "2022-11-17 09:03:58.363920: I tensorflow/core/grappler/optimizers/custom_graph_optimizer_registry.cc:114] Plugin optimizer for device_type GPU is enabled.\n"
     ]
    },
    {
     "name": "stdout",
     "output_type": "stream",
     "text": [
      "977/977 [==============================] - ETA: 0s - loss: 0.7986 - acc: 0.6319"
     ]
    },
    {
     "name": "stderr",
     "output_type": "stream",
     "text": [
      "2022-11-17 09:04:19.258796: I tensorflow/core/grappler/optimizers/custom_graph_optimizer_registry.cc:114] Plugin optimizer for device_type GPU is enabled.\n"
     ]
    },
    {
     "name": "stdout",
     "output_type": "stream",
     "text": [
      "\n",
      "Epoch 1: val_acc improved from -inf to 0.62264, saving model to concatenated_cnn_best_model_2.h5\n",
      "977/977 [==============================] - 23s 23ms/step - loss: 0.7986 - acc: 0.6319 - val_loss: 0.8286 - val_acc: 0.6226\n",
      "Epoch 2/50\n",
      "976/977 [============================>.] - ETA: 0s - loss: 0.6840 - acc: 0.6864\n",
      "Epoch 2: val_acc improved from 0.62264 to 0.64664, saving model to concatenated_cnn_best_model_2.h5\n",
      "977/977 [==============================] - 21s 21ms/step - loss: 0.6840 - acc: 0.6864 - val_loss: 0.8048 - val_acc: 0.6466\n",
      "Epoch 3/50\n",
      "976/977 [============================>.] - ETA: 0s - loss: 0.6568 - acc: 0.7020\n",
      "Epoch 3: val_acc improved from 0.64664 to 0.65920, saving model to concatenated_cnn_best_model_2.h5\n",
      "977/977 [==============================] - 20s 21ms/step - loss: 0.6569 - acc: 0.7020 - val_loss: 0.7948 - val_acc: 0.6592\n",
      "Epoch 4/50\n",
      "976/977 [============================>.] - ETA: 0s - loss: 0.6443 - acc: 0.7098\n",
      "Epoch 4: val_acc did not improve from 0.65920\n",
      "977/977 [==============================] - 20s 21ms/step - loss: 0.6442 - acc: 0.7099 - val_loss: 0.8094 - val_acc: 0.6572\n",
      "Epoch 5/50\n",
      "976/977 [============================>.] - ETA: 0s - loss: 0.6372 - acc: 0.7127\n",
      "Epoch 5: val_acc did not improve from 0.65920\n",
      "977/977 [==============================] - 20s 21ms/step - loss: 0.6372 - acc: 0.7128 - val_loss: 0.8144 - val_acc: 0.6354\n",
      "Epoch 6/50\n",
      "976/977 [============================>.] - ETA: 0s - loss: 0.6314 - acc: 0.7160\n",
      "Epoch 6: val_acc did not improve from 0.65920\n",
      "977/977 [==============================] - 20s 21ms/step - loss: 0.6313 - acc: 0.7159 - val_loss: 0.8260 - val_acc: 0.6364\n",
      "Epoch 7/50\n",
      "975/977 [============================>.] - ETA: 0s - loss: 0.6279 - acc: 0.7163\n",
      "Epoch 7: val_acc improved from 0.65920 to 0.66304, saving model to concatenated_cnn_best_model_2.h5\n",
      "977/977 [==============================] - 20s 21ms/step - loss: 0.6277 - acc: 0.7164 - val_loss: 0.7716 - val_acc: 0.6630\n",
      "Epoch 8/50\n",
      "976/977 [============================>.] - ETA: 0s - loss: 0.6226 - acc: 0.7196\n",
      "Epoch 8: val_acc did not improve from 0.66304\n",
      "977/977 [==============================] - 20s 21ms/step - loss: 0.6227 - acc: 0.7195 - val_loss: 0.7941 - val_acc: 0.6544\n",
      "Epoch 9/50\n",
      "976/977 [============================>.] - ETA: 0s - loss: 0.6195 - acc: 0.7203\n",
      "Epoch 9: val_acc improved from 0.66304 to 0.66456, saving model to concatenated_cnn_best_model_2.h5\n",
      "977/977 [==============================] - 20s 21ms/step - loss: 0.6195 - acc: 0.7203 - val_loss: 0.7500 - val_acc: 0.6646\n",
      "Epoch 10/50\n",
      "976/977 [============================>.] - ETA: 0s - loss: 0.6169 - acc: 0.7218\n",
      "Epoch 10: val_acc improved from 0.66456 to 0.66472, saving model to concatenated_cnn_best_model_2.h5\n",
      "977/977 [==============================] - 20s 21ms/step - loss: 0.6169 - acc: 0.7219 - val_loss: 0.7645 - val_acc: 0.6647\n",
      "Epoch 11/50\n",
      "976/977 [============================>.] - ETA: 0s - loss: 0.6158 - acc: 0.7233\n",
      "Epoch 11: val_acc did not improve from 0.66472\n",
      "977/977 [==============================] - 20s 21ms/step - loss: 0.6159 - acc: 0.7232 - val_loss: 0.7688 - val_acc: 0.6500\n",
      "Epoch 12/50\n",
      "976/977 [============================>.] - ETA: 0s - loss: 0.6137 - acc: 0.7225\n",
      "Epoch 12: val_acc did not improve from 0.66472\n",
      "977/977 [==============================] - 20s 21ms/step - loss: 0.6137 - acc: 0.7224 - val_loss: 0.7737 - val_acc: 0.6612\n",
      "Epoch 13/50\n",
      "977/977 [==============================] - ETA: 0s - loss: 0.6114 - acc: 0.7253\n",
      "Epoch 13: val_acc improved from 0.66472 to 0.66888, saving model to concatenated_cnn_best_model_2.h5\n",
      "977/977 [==============================] - 20s 21ms/step - loss: 0.6114 - acc: 0.7253 - val_loss: 0.7469 - val_acc: 0.6689\n",
      "Epoch 14/50\n",
      "976/977 [============================>.] - ETA: 0s - loss: 0.6094 - acc: 0.7237\n",
      "Epoch 14: val_acc did not improve from 0.66888\n",
      "977/977 [==============================] - 20s 21ms/step - loss: 0.6094 - acc: 0.7238 - val_loss: 0.7391 - val_acc: 0.6674\n",
      "Epoch 15/50\n",
      "976/977 [============================>.] - ETA: 0s - loss: 0.6084 - acc: 0.7258\n",
      "Epoch 15: val_acc did not improve from 0.66888\n",
      "977/977 [==============================] - 20s 21ms/step - loss: 0.6084 - acc: 0.7259 - val_loss: 0.7928 - val_acc: 0.6658\n",
      "Epoch 16/50\n",
      "976/977 [============================>.] - ETA: 0s - loss: 0.6065 - acc: 0.7256\n",
      "Epoch 16: val_acc did not improve from 0.66888\n",
      "977/977 [==============================] - 20s 21ms/step - loss: 0.6066 - acc: 0.7256 - val_loss: 0.7476 - val_acc: 0.6607\n",
      "Epoch 17/50\n",
      "976/977 [============================>.] - ETA: 0s - loss: 0.6054 - acc: 0.7273\n",
      "Epoch 17: val_acc improved from 0.66888 to 0.67088, saving model to concatenated_cnn_best_model_2.h5\n",
      "977/977 [==============================] - 20s 21ms/step - loss: 0.6054 - acc: 0.7273 - val_loss: 0.7445 - val_acc: 0.6709\n",
      "Epoch 18/50\n",
      "976/977 [============================>.] - ETA: 0s - loss: 0.6018 - acc: 0.7298\n",
      "Epoch 18: val_acc improved from 0.67088 to 0.67104, saving model to concatenated_cnn_best_model_2.h5\n",
      "977/977 [==============================] - 20s 20ms/step - loss: 0.6019 - acc: 0.7297 - val_loss: 0.7541 - val_acc: 0.6710\n",
      "Epoch 19/50\n",
      "976/977 [============================>.] - ETA: 0s - loss: 0.6028 - acc: 0.7301\n",
      "Epoch 19: val_acc improved from 0.67104 to 0.67160, saving model to concatenated_cnn_best_model_2.h5\n",
      "977/977 [==============================] - 20s 21ms/step - loss: 0.6029 - acc: 0.7300 - val_loss: 0.7346 - val_acc: 0.6716\n",
      "Epoch 20/50\n",
      "976/977 [============================>.] - ETA: 0s - loss: 0.6034 - acc: 0.7275\n",
      "Epoch 20: val_acc did not improve from 0.67160\n",
      "977/977 [==============================] - 20s 21ms/step - loss: 0.6034 - acc: 0.7275 - val_loss: 0.7454 - val_acc: 0.6682\n",
      "Epoch 21/50\n",
      "976/977 [============================>.] - ETA: 0s - loss: 0.6008 - acc: 0.7288\n",
      "Epoch 21: val_acc did not improve from 0.67160\n",
      "977/977 [==============================] - 20s 20ms/step - loss: 0.6010 - acc: 0.7287 - val_loss: 0.7592 - val_acc: 0.6684\n",
      "Epoch 22/50\n",
      "976/977 [============================>.] - ETA: 0s - loss: 0.6001 - acc: 0.7297\n",
      "Epoch 22: val_acc did not improve from 0.67160\n",
      "977/977 [==============================] - 20s 20ms/step - loss: 0.6000 - acc: 0.7297 - val_loss: 0.7346 - val_acc: 0.6690\n",
      "Epoch 23/50\n",
      "976/977 [============================>.] - ETA: 0s - loss: 0.5976 - acc: 0.7316\n",
      "Epoch 23: val_acc did not improve from 0.67160\n",
      "977/977 [==============================] - 20s 20ms/step - loss: 0.5976 - acc: 0.7317 - val_loss: 0.7581 - val_acc: 0.6696\n",
      "Epoch 24/50\n",
      "976/977 [============================>.] - ETA: 0s - loss: 0.5961 - acc: 0.7325\n",
      "Epoch 24: val_acc did not improve from 0.67160\n",
      "977/977 [==============================] - 20s 21ms/step - loss: 0.5962 - acc: 0.7325 - val_loss: 0.7557 - val_acc: 0.6699\n",
      "Epoch 24: early stopping\n",
      "Learning Durations:  0:08:07.181008\n"
     ]
    }
   ],
   "source": [
    "print('Algorithm starts learning.....')\n",
    "start_time = time()\n",
    "\n",
    "history = model.fit(X_train_reshape, y_train, epochs=50, batch_size=64, validation_data=(X_val, y_val), callbacks=[es, mc] )\n",
    "\n",
    "print(\"Learning Durations: \", timedelta(seconds=(time() - start_time)))"
   ],
   "metadata": {
    "collapsed": false
   }
  },
  {
   "cell_type": "code",
   "execution_count": 78,
   "outputs": [
    {
     "data": {
      "text/plain": "<Figure size 576x360 with 1 Axes>",
      "image/png": "[encoded data removed]"
     },
     "metadata": {
      "needs_background": "light"
     },
     "output_type": "display_data"
    }
   ],
   "source": [
    "plot_loss(history)"
   ],
   "metadata": {
    "collapsed": false
   }
  },
  {
   "cell_type": "code",
   "execution_count": 79,
   "outputs": [
    {
     "data": {
      "text/plain": "<Figure size 576x360 with 1 Axes>",
      "image/png": "[encoded data removed]"
     },
     "metadata": {
      "needs_background": "light"
     },
     "output_type": "display_data"
    }
   ],
   "source": [
    "plot_acc(history)"
   ],
   "metadata": {
    "collapsed": false
   }
  },
  {
   "cell_type": "code",
   "execution_count": 80,
   "outputs": [
    {
     "name": "stdout",
     "output_type": "stream",
     "text": [
      "  4/782 [..............................] - ETA: 13s - loss: 0.7524 - acc: 0.6328 "
     ]
    },
    {
     "name": "stderr",
     "output_type": "stream",
     "text": [
      "2022-11-17 09:12:05.529457: I tensorflow/core/grappler/optimizers/custom_graph_optimizer_registry.cc:114] Plugin optimizer for device_type GPU is enabled.\n"
     ]
    },
    {
     "name": "stdout",
     "output_type": "stream",
     "text": [
      "782/782 [==============================] - 6s 8ms/step - loss: 0.8204 - acc: 0.6262\n",
      "Test Accuracy: 0.6261600255966187\n"
     ]
    }
   ],
   "source": [
    "best_model = load_model('./concatenated_cnn_best_model_2.h5')\n",
    "print('Test Accuracy: {}'.format(best_model.evaluate(X_test_reshape, y_test)[1]))"
   ],
   "metadata": {
    "collapsed": false
   }
  },
  {
   "cell_type": "code",
   "execution_count": 82,
   "outputs": [
    {
     "name": "stdout",
     "output_type": "stream",
     "text": [
      "1954/1954 [==============================] - 16s 8ms/step - loss: 0.5926 - acc: 0.7330\n",
      "Train Accuracy: 0.7330080270767212\n"
     ]
    }
   ],
   "source": [
    "print('Train Accuracy: {}'.format(best_model.evaluate(X_train_reshape, y_train)[1]))"
   ],
   "metadata": {
    "collapsed": false
   }
  },
  {
   "cell_type": "code",
   "execution_count": null,
   "outputs": [],
   "source": [
    "clf_report_plot(y_test, X_test_reshape, best_model)"
   ],
   "metadata": {
    "collapsed": false
   }
  },
  {
   "cell_type": "code",
   "execution_count": null,
   "outputs": [],
   "source": [],
   "metadata": {
    "collapsed": false
   }
  },
  {
   "cell_type": "code",
   "execution_count": null,
   "outputs": [],
   "source": [],
   "metadata": {
    "collapsed": false
   }
  },
  {
   "cell_type": "code",
   "execution_count": null,
   "outputs": [],
   "source": [],
   "metadata": {
    "collapsed": false
   }
  },
  {
   "cell_type": "code",
   "execution_count": null,
   "outputs": [],
   "source": [],
   "metadata": {
    "collapsed": false
   }
  },
  {
   "cell_type": "markdown",
   "source": [
    "Predict Probabilities"
   ],
   "metadata": {
    "collapsed": false
   }
  },
  {
   "cell_type": "code",
   "execution_count": 84,
   "outputs": [
    {
     "name": "stdout",
     "output_type": "stream",
     "text": [
      "1954/1954 [==============================] - 7s 4ms/step\n"
     ]
    }
   ],
   "source": [
    "result = best_model.predict(X_train_reshape)"
   ],
   "metadata": {
    "collapsed": false
   }
  },
  {
   "cell_type": "code",
   "execution_count": 86,
   "outputs": [
    {
     "name": "stdout",
     "output_type": "stream",
     "text": [
      "[array([[0.02734532, 0.29905915, 0.67359555],\n",
      "       [0.02378798, 0.33618578, 0.6400262 ],\n",
      "       [0.03116329, 0.30505085, 0.6637858 ],\n",
      "       ...,\n",
      "       [0.47341737, 0.32990038, 0.19668224],\n",
      "       [0.59580123, 0.27819887, 0.12599994],\n",
      "       [0.31709978, 0.3652758 , 0.3176245 ]], dtype=float32), array([[0.02734532, 0.29905915, 0.67359555],\n",
      "       [0.02378798, 0.33618578, 0.6400262 ],\n",
      "       [0.03116329, 0.30505085, 0.6637858 ],\n",
      "       ...,\n",
      "       [0.47341737, 0.32990038, 0.19668224],\n",
      "       [0.59580123, 0.27819887, 0.12599994],\n",
      "       [0.31709978, 0.3652758 , 0.3176245 ]], dtype=float32)]\n"
     ]
    }
   ],
   "source": [
    "performance_list = []\n",
    "performance_list.append(result)\n",
    "print(performance_list)"
   ],
   "metadata": {
    "collapsed": false
   }
  },
  {
   "cell_type": "code",
   "execution_count": null,
   "outputs": [],
   "source": [],
   "metadata": {
    "collapsed": false
   }
  }
 ],
 "metadata": {
  "kernelspec": {
   "display_name": "Python 3",
   "language": "python",
   "name": "python3"
  },
  "language_info": {
   "codemirror_mode": {
    "name": "ipython",
    "version": 2
   },
   "file_extension": ".py",
   "mimetype": "text/x-python",
   "name": "python",
   "nbconvert_exporter": "python",
   "pygments_lexer": "ipython2",
   "version": "2.7.6"
  }
 },
 "nbformat": 4,
 "nbformat_minor": 0
}
