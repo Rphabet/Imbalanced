{
 "nbformat": 4,
 "nbformat_minor": 0,
 "metadata": {
  "colab": {
   "provenance": []
  },
  "kernelspec": {
   "name": "python3",
   "display_name": "Python 3"
  },
  "language_info": {
   "name": "python"
  }
 },
 "cells": [
  {
   "cell_type": "markdown",
   "source": [
    "# Import 및 기능 함수\n",
    "(아래 모듈에서 사용하는 함수로 따로 호출하지 말것)"
   ],
   "metadata": {
    "id": "qlcnKL-rMEhl"
   }
  },
  {
   "cell_type": "code",
   "execution_count": null,
   "metadata": {
    "id": "ri-_O8wRL01R"
   },
   "outputs": [],
   "source": [
    "import os\n",
    "import math\n",
    "import numpy as np\n",
    "import pandas as pd\n",
    "\n",
    "from datetime import datetime\n",
    "import seaborn as sns\n",
    "import matplotlib.pyplot as plt\n",
    "import warnings, random\n",
    "warnings.filterwarnings(action='ignore')\n",
    "\n",
    "from sklearn.metrics import log_loss\n",
    "\n",
    "from sklearn.metrics import roc_auc_score, accuracy_score, confusion_matrix, plot_confusion_matrix, f1_score, average_precision_score,roc_curve, auc,precision_recall_curve\n"
   ]
  },
  {
   "cell_type": "code",
   "source": [
    "def print_(num,text=''):\n",
    "  if num <=1:\n",
    "    print('%13.10s : %8.4f'%(text,num) )\n",
    "  else:\n",
    "    print('%13.10s : %8.4d'%(text,num) )\n"
   ],
   "metadata": {
    "id": "axzRNhFlMMiz"
   },
   "execution_count": null,
   "outputs": []
  },
  {
   "cell_type": "code",
   "source": [
    "def predict_at_threshold(prob, threshold):\n",
    "    return np.where(prob >= threshold, 1., 0.)\n",
    "\n",
    "def precision_at_threshold(Y, prob, threshold):\n",
    "    Y_hat = predict_at_threshold(prob, threshold)\n",
    "    return np.sum((Y_hat == 1) & (Y == 1)) / np.sum(Y_hat)\n",
    "\n",
    "def recall_at_threshold(Y, prob, threshold):\n",
    "    Y_hat = predict_at_threshold(prob, threshold)\n",
    "    return np.sum((Y_hat == 1) & (Y == 1)) / np.sum(Y)\n",
    "\n",
    "def precision_recall_curve(Y, prob):\n",
    "    unique_thresh = np.unique(prob)\n",
    "    precision = [precision_at_threshold(Y, prob, t) for t in unique_thresh]\n",
    "    recall = [recall_at_threshold(Y, prob, t) for t in unique_thresh]\n",
    "    return precision, recall, unique_thresh"
   ],
   "metadata": {
    "id": "CiV3LeE8Ms25"
   },
   "execution_count": null,
   "outputs": []
  },
  {
   "cell_type": "markdown",
   "source": [
    "# 기본 매트릭 정보 출력"
   ],
   "metadata": {
    "id": "g0psDd8fMBEZ"
   }
  },
  {
   "cell_type": "code",
   "source": [
    "def show_metrics(x_test, y_test, model):\n",
    "  #예측값\n",
    "  y_pred = model.predict(x_test)\n",
    "\n",
    "  result = pd.DataFrame({'pred':np.array(y_pred).reshape(-1), 'ans':np.array(y_test)})\n",
    "\n",
    "  target_name =['Poor','Standard','Good']\n",
    "  \n",
    "  metrics = {\n",
    "      'True_Positive' :[],\n",
    "      'True_Negative' :[],\n",
    "      'False_Positive' :[],\n",
    "      'False_Negative' :[],\n",
    "      'recall':[],\n",
    "      'precision':[], \n",
    "      'accuracy':[],\n",
    "      'f1_score':[],\n",
    "      'confusion':[],\n",
    "             }\n",
    "\n",
    "\n",
    "  for i in range(3):\n",
    "    # 예측과 결과가 동일\n",
    "    t_df = result.loc[result['pred']==result['ans']]\n",
    "    # 예측과 결과 다름\n",
    "    f_df = result.loc[result['pred']!=result['ans']]\n",
    "\n",
    "\n",
    "    #tp,tn,fn,fp 계산\n",
    "    tp = len(t_df.loc[t_df['pred']==i])\n",
    "    tn = len(t_df.loc[t_df['pred']!=i])\n",
    "    fn = len(f_df.loc[f_df['pred']!=i])\n",
    "    fp = len(f_df.loc[f_df['pred']==i])\n",
    "\n",
    "\n",
    "    #매트릭 계산\n",
    "    confusion = np.array([[tp,fn],[fp,tn]])\n",
    "    accuracy = (tp+tn)/(tp+fn+fp+tn)\n",
    "    precision = tp /(tp+fp)\n",
    "    recall = tp/(tp+fn)\n",
    "    f1_score = (2*precision*recall)/(precision+recall)\n",
    "    \n",
    "    #주요 매트릭 저장\n",
    "    metrics['True_Positive'].append(tp)\n",
    "    metrics['True_Negative'].append(tn)\n",
    "    metrics['False_Positive'].append(fp)\n",
    "    metrics['False_Negative'].append(fn)\n",
    "\n",
    "    metrics['confusion'].append(confusion)\n",
    "    metrics['accuracy'].append(accuracy)\n",
    "    metrics['precision'].append(precision)\n",
    "    metrics['recall'].append(recall)\n",
    "    metrics['f1_score'].append(f1_score)\n",
    "    \n",
    "\n",
    "  #출력\n",
    "  for i in range(3):\n",
    "    print(f'\\n\\n================ {target_name[i]}  vs other score ==================')\n",
    "    for num,key in enumerate(metrics) :\n",
    "      if key !='confusion':\n",
    "        print_(metrics[key][i],key)\n",
    "      else:\n",
    "        print('confusion_mat\\n',metrics[key][i],'\\n')\n",
    "  \n",
    "  plt.figure(figsize=(20, 10))\n",
    "  idx =1\n",
    "  for key in metrics:\n",
    "    if key !='confusion':\n",
    "\n",
    "      plt.subplot(2,4,idx)\n",
    "      idx= idx+1\n",
    "\n",
    "      plt.title(f'{key}')\n",
    "      #평균 선 \n",
    "      plt.axhline(y=sum(metrics[key])/3, color='r', linestyle='--', linewidth=1)\n",
    "      \n",
    "      # bar plot \n",
    "      dist = (max(metrics[key])-min(metrics[key]))/2\n",
    "      plt.ylim([min(metrics[key])-dist, max(metrics[key])+dist])\n",
    "      plt.bar(target_name,metrics[key],color=['pink','lightgray','skyblue'])\n",
    "\n",
    "      # label 삽입\n",
    "      for num,height in enumerate(metrics[key]):\n",
    "        if height <=1:\n",
    "          plt.text(target_name[num], height, '%.3f' % height, ha='center', va='bottom', size = 12)\n",
    "        else:\n",
    "          plt.text(target_name[num], height, '%.3d' % height, ha='center', va='bottom', size = 12)\n",
    "\n",
    "\n",
    "  plt.show()\n"
   ],
   "metadata": {
    "id": "0EZe1w7YH9Rz"
   },
   "execution_count": 1,
   "outputs": []
  },
  {
   "cell_type": "code",
   "source": [
    "# show_metrics(x_test,y_test,model_smote_base)"
   ],
   "metadata": {
    "id": "hv7EsPx4UJR0",
    "colab": {
     "base_uri": "https://localhost:8080/",
     "height": 839
    },
    "outputId": "a498301c-afe0-4656-e266-09d08f941f49"
   },
   "execution_count": null,
   "outputs": [
    {
     "output_type": "stream",
     "name": "stdout",
     "text": [
      "\n",
      "\n",
      "================ Poor  vs other score ==================\n",
      "confusion : [[ 5174  5253]\n",
      " [ 2123 12450]]\n",
      "recall : 0.496\n",
      "precision : 0.709\n",
      "accuracy : 0.705\n",
      "f1_score : 0.584\n",
      "\n",
      "\n",
      "================ Standard  vs other score ==================\n",
      "confusion : [[9394 3775]\n",
      " [3601 8230]]\n",
      "recall : 0.713\n",
      "precision : 0.723\n",
      "accuracy : 0.705\n",
      "f1_score : 0.718\n",
      "\n",
      "\n",
      "================ Good  vs other score ==================\n",
      "confusion : [[ 3056  5724]\n",
      " [ 1652 14568]]\n",
      "recall : 0.348\n",
      "precision : 0.649\n",
      "accuracy : 0.705\n",
      "f1_score : 0.453\n"
     ]
    },
    {
     "output_type": "display_data",
     "data": {
      "text/plain": [
       "<Figure size 1080x360 with 4 Axes>"
      ],
      "image/png": "[encoded data removed]"
     },
     "metadata": {
      "needs_background": "light"
     }
    }
   ]
  },
  {
   "cell_type": "markdown",
   "source": [
    "# PR 커브"
   ],
   "metadata": {
    "id": "YzzqciujMoUM"
   }
  },
  {
   "cell_type": "code",
   "execution_count": 2,
   "outputs": [],
   "source": [
    "\n",
    "def draw_pr_curve(x_test,y_test,model,overlap=False):\n",
    "  '''\n",
    "  PR CURVE 그리는 함수\n",
    "\n",
    "  Param:\n",
    "    - x_test : pred를 위한 데이터\n",
    "    - y_test : X_test의 결과데이터\n",
    "    - model : 예측 모델\n",
    "    - overlab : plot 결과를 합쳐서 볼지 아닐지 (True/False)\n",
    "\n",
    "  '''\n",
    "  from sklearn.metrics import average_precision_score\n",
    "\n",
    "  # class별 one vs other을 위한 dummies 생성\n",
    "  y_test_dummies = pd.get_dummies(y_test).values\n",
    "\n",
    "  if overlap == False:\n",
    "    plt.figure(figsize=(15, 5))\n",
    "  else:\n",
    "    plt.figure(figsize=(5, 5))\n",
    "\n",
    "  n_classes = 3\n",
    "  class_name = ['Poor','Standard','Good']\n",
    "  color=['pink','lightgray','skyblue']\n",
    "\n",
    "  precision = {}\n",
    "  recall = {}\n",
    "  average_precision = {}\n",
    "  for i in range(n_classes):\n",
    "    #metric 계산\n",
    "    precision[i], recall[i], threshold = precision_recall_curve(y_test_dummies[:,i],  model.predict_proba(x_test)[:, i])\n",
    "    average_precision[i] = average_precision_score(y_test_dummies[:,i], model.predict_proba(x_test)[:, i])\n",
    "    area = auc(recall[i],precision[i])\n",
    "\n",
    "    # subplot 생성\n",
    "    if overlap == False:\n",
    "      plt.subplot(1,3,i+1)\n",
    "    else:\n",
    "      plt.legend()\n",
    "    plt.plot(np.array(recall[i]),\n",
    "             np.array(precision[i]),\n",
    "             color=color[i],\n",
    "            label= f'PR curve (area = {area})')\n",
    "\n",
    "    #plot setting\n",
    "    plt.fill_between(np.array(recall[i]), np.array(precision[i]), alpha=0.5,color=color[i])\n",
    "    plt.xlabel('Recall')\n",
    "    plt.ylabel('Precision')\n",
    "    plt.title(f'Class :{class_name[i]}')\n",
    "    plt.legend()\n",
    "\n",
    "  # A \"micro-average\": quantifying score on all classes jointly\n",
    "  precision[\"micro\"], recall[\"micro\"], _ = precision_recall_curve(y_test_dummies, model.predict_proba(x_test))\n",
    "  average_precision[\"micro\"] = average_precision_score(y_test_dummies, model.predict_proba(x_test), average=\"micro\")\n",
    "  print('Average precision score, micro-averaged over all classes: {0:0.4f}'.format(average_precision[\"micro\"]))\n",
    "  plt.show()\n"
   ],
   "metadata": {
    "collapsed": false
   }
  },
  {
   "cell_type": "code",
   "execution_count": null,
   "outputs": [],
   "source": [
    "def micro_ap_score(x_test, y_test, model):\n",
    "    from sklearn.metrics import average_precision_score\n",
    "    n_classes = len(np.unique(y_test))\n",
    "    y_test_dummies = pd.get_dummies(y_test).values\n",
    "    y_score = model.predict_proba(x_test)\n",
    "    print(\"y _score: \", y_score)\n",
    "    # For each class\n",
    "    precision = dict()\n",
    "    recall = dict()\n",
    "    average_precision = dict()\n",
    "    for i in range(n_classes):\n",
    "        precision[i], recall[i], _ = precision_recall_curve(y_test_dummies[:, i], y_score[:, i])\n",
    "        print('precision, recall')\n",
    "        average_precision[i] = average_precision_score(y_test_dummies[:, i], y_score[:, i])\n",
    "        print('average precision')\n",
    "\n",
    "    # A \"micro-average\": quantifying score on all classes jointly\n",
    "    precision[\"micro\"], recall[\"micro\"], _ = precision_recall_curve(\n",
    "        y_test_dummies, y_score\n",
    "    )\n",
    "    average_precision[\"micro\"] = average_precision_score(y_test_dummies, y_score, average=\"micro\")\n",
    "\n",
    "    print('Micro weighted average score : {}'.format(average_precision[\"micro\"]))\n",
    "\n",
    "    return average_precision[\"micro\"]"
   ],
   "metadata": {
    "collapsed": false
   }
  },
  {
   "cell_type": "code",
   "execution_count": null,
   "outputs": [],
   "source": [
    "\n",
    "# def draw_pr_curve(x_test,y_test,model,overlap=False):\n",
    "#   '''\n",
    "#   PR CURVE 그리는 함수\n",
    "#\n",
    "#   Param:\n",
    "#     - x_test : pred를 위한 데이터\n",
    "#     - y_test : X_test의 결과데이터\n",
    "#     - model : 예측 모델\n",
    "#     - overlab : plot 결과를 합쳐서 볼지 아닐지 (True/False)\n",
    "#\n",
    "#   '''\n",
    "#\n",
    "#   # class별 one vs other을 위한 dummies 생성\n",
    "#   y_test_dummies = pd.get_dummies(y_test).values\n",
    "#\n",
    "#   if overlap == False:\n",
    "#     plt.figure(figsize=(15, 5))\n",
    "#   else:\n",
    "#     plt.figure(figsize=(5, 5))\n",
    "#\n",
    "#   n_classes = 3\n",
    "#   class_name = ['Poor','Standard','Good']\n",
    "#   color=['pink','lightgray','skyblue']\n",
    "#\n",
    "#   for i in range(n_classes):\n",
    "#     #metric 계산\n",
    "#     precision, recall, threshold = precision_recall_curve(y_test_dummies[:,i],  model.predict_proba(x_test)[:, i])\n",
    "#     area = auc(recall,precision)\n",
    "#\n",
    "#     # subplot 생성\n",
    "#     if overlap == False:\n",
    "#       plt.subplot(1,3,i+1)\n",
    "#     else:\n",
    "#       plt.legend()\n",
    "#     plt.plot(np.array(recall),\n",
    "#              np.array(precision),\n",
    "#              color=color[i],\n",
    "#             label= f'PR curve (area = {area})')\n",
    "#\n",
    "#     #plot setting\n",
    "#     plt.fill_between(np.array(recall), np.array(precision), alpha=0.5,color=color[i])\n",
    "#     plt.xlabel('Recall')\n",
    "#     plt.ylabel('Precision')\n",
    "#     plt.title(f'Class :{class_name[i]}')\n",
    "#     plt.legend()\n",
    "#\n",
    "#   plt.show()\n"
   ],
   "metadata": {
    "collapsed": false
   }
  },
  {
   "cell_type": "code",
   "source": [
    "# draw_pr_curve(x_test,y_test,model_smote_base)\n",
    "\n",
    "# draw_pr_curve(x_test,y_test,model_smote_base,True)"
   ],
   "metadata": {
    "id": "Y5bIeKziM6wq"
   },
   "execution_count": null,
   "outputs": []
  },
  {
   "cell_type": "markdown",
   "source": [
    "# 3. ROC 커브"
   ],
   "metadata": {
    "id": "KV2ojqgNM8Bn"
   }
  },
  {
   "cell_type": "code",
   "source": [
    "\n",
    "def draw_roc_curve(x_test,y_test,model,overlap=False):\n",
    "  '''\n",
    "  ROC CURVE 그리는 함수\n",
    "\n",
    "  Param:\n",
    "    - x_test : pred를 위한 데이터\n",
    "    - y_test : X_test의 결과데이터\n",
    "    - model : 예측 모델\n",
    "    - overlab : plot 결과를 합쳐서 볼지 아닐지 (True/False)\n",
    "\n",
    "  '''\n",
    "\n",
    "  # class별 one vs other을 위한 dummies 생성\n",
    "  y_test_dummies = pd.get_dummies(y_test).values\n",
    "\n",
    "  if overlap == False:\n",
    "    plt.figure(figsize=(15, 5))\n",
    "  else:\n",
    "    plt.figure(figsize=(5, 5))\n",
    "\n",
    "  n_classes = 3\n",
    "  class_name = ['Poor','Standard','Good']\n",
    "  color=['pink','lightgray','skyblue']\n",
    "\n",
    "  for i in range(n_classes):\n",
    "    #metric 계산\n",
    "    FalsePositiveRate, TruePositiveRate, threshold = roc_curve(y_test_dummies[:,i],  model.predict_proba(x_test)[:, i])\n",
    "    area = auc(FalsePositiveRate,TruePositiveRate)\n",
    "\n",
    "    # subplot 생성\n",
    "    if overlap == False:\n",
    "      plt.subplot(1,3,i+1)\n",
    "    else:\n",
    "      plt.legend()\n",
    "    plt.plot(\n",
    "             np.array(FalsePositiveRate),\n",
    "             np.array(TruePositiveRate), \n",
    "             color=color[i],\n",
    "            label= f'roc curve (area {np.round(area,3)})')\n",
    "    \n",
    "    #plot setting\n",
    "    plt.fill_between( np.array(FalsePositiveRate),np.array(TruePositiveRate), alpha=0.5,color=color[i])\n",
    "    plt.xlabel('FalsePositiveRate')\n",
    "    plt.ylabel('TruePositiveRate')\n",
    "    plt.title(f'Class :{class_name[i]}')\n",
    "    plt.legend(loc=\"lower right\")\n",
    "\n",
    "\n",
    "  plt.show()\n"
   ],
   "metadata": {
    "id": "ZMKW-IiIM9Za"
   },
   "execution_count": null,
   "outputs": []
  },
  {
   "cell_type": "code",
   "source": [
    "# draw_roc_curve(x_test,y_test,model_smote_base)\n",
    "# draw_roc_curve(x_test,y_test,model_smote_base,True)"
   ],
   "metadata": {
    "id": "8Kxj5qZdNCsf"
   },
   "execution_count": null,
   "outputs": []
  }
 ]
}
