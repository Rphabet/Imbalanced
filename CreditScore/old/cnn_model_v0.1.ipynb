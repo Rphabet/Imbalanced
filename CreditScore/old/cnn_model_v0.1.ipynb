{
 "cells": [
  {
   "cell_type": "markdown",
   "metadata": {},
   "source": [
    "# Credit Scoring CNN Modelling Version 0.1 (11/17)"
   ]
  },
  {
   "cell_type": "code",
   "execution_count": 1,
   "metadata": {
    "collapsed": false,
    "jupyter": {
     "outputs_hidden": false
    }
   },
   "outputs": [],
   "source": [
    "import pandas as pd\n",
    "import numpy as np"
   ]
  },
  {
   "cell_type": "code",
   "execution_count": 4,
   "metadata": {
    "collapsed": false,
    "jupyter": {
     "outputs_hidden": false
    }
   },
   "outputs": [
    {
     "data": {
      "text/html": [
       "<div>\n",
       "<style scoped>\n",
       "    .dataframe tbody tr th:only-of-type {\n",
       "        vertical-align: middle;\n",
       "    }\n",
       "\n",
       "    .dataframe tbody tr th {\n",
       "        vertical-align: top;\n",
       "    }\n",
       "\n",
       "    .dataframe thead th {\n",
       "        text-align: right;\n",
       "    }\n",
       "</style>\n",
       "<table border=\"1\" class=\"dataframe\">\n",
       "  <thead>\n",
       "    <tr style=\"text-align: right;\">\n",
       "      <th></th>\n",
       "      <th>Customer_ID</th>\n",
       "      <th>Month</th>\n",
       "      <th>Age</th>\n",
       "      <th>Occupation</th>\n",
       "      <th>Monthly_Inhand_Salary</th>\n",
       "      <th>Num_Bank_Accounts</th>\n",
       "      <th>Num_Credit_Card</th>\n",
       "      <th>Interest_Rate</th>\n",
       "      <th>Num_of_Loan</th>\n",
       "      <th>Delay_from_due_date</th>\n",
       "      <th>...</th>\n",
       "      <th>Credit_Mix</th>\n",
       "      <th>Outstanding_Debt</th>\n",
       "      <th>Credit_Utilization_Ratio</th>\n",
       "      <th>Credit_History_Age</th>\n",
       "      <th>Payment_of_Min_Amount</th>\n",
       "      <th>Total_EMI_per_month</th>\n",
       "      <th>Amount_invested_monthly</th>\n",
       "      <th>Payment_Behaviour</th>\n",
       "      <th>Monthly_Balance</th>\n",
       "      <th>Credit_Score</th>\n",
       "    </tr>\n",
       "  </thead>\n",
       "  <tbody>\n",
       "    <tr>\n",
       "      <th>0</th>\n",
       "      <td>576</td>\n",
       "      <td>1</td>\n",
       "      <td>3</td>\n",
       "      <td>12</td>\n",
       "      <td>7.509249</td>\n",
       "      <td>3.0</td>\n",
       "      <td>4.0</td>\n",
       "      <td>3.0</td>\n",
       "      <td>0</td>\n",
       "      <td>3.0</td>\n",
       "      <td>...</td>\n",
       "      <td>2</td>\n",
       "      <td>28.460148</td>\n",
       "      <td>26.822620</td>\n",
       "      <td>1</td>\n",
       "      <td>1</td>\n",
       "      <td>49.574949</td>\n",
       "      <td>21.465380</td>\n",
       "      <td>2</td>\n",
       "      <td>312.494089</td>\n",
       "      <td>2</td>\n",
       "    </tr>\n",
       "    <tr>\n",
       "      <th>1</th>\n",
       "      <td>576</td>\n",
       "      <td>2</td>\n",
       "      <td>3</td>\n",
       "      <td>12</td>\n",
       "      <td>7.509249</td>\n",
       "      <td>3.0</td>\n",
       "      <td>4.0</td>\n",
       "      <td>3.0</td>\n",
       "      <td>0</td>\n",
       "      <td>3.0</td>\n",
       "      <td>...</td>\n",
       "      <td>2</td>\n",
       "      <td>28.460148</td>\n",
       "      <td>31.944960</td>\n",
       "      <td>1</td>\n",
       "      <td>1</td>\n",
       "      <td>49.574949</td>\n",
       "      <td>21.465380</td>\n",
       "      <td>3</td>\n",
       "      <td>284.629162</td>\n",
       "      <td>2</td>\n",
       "    </tr>\n",
       "    <tr>\n",
       "      <th>2</th>\n",
       "      <td>576</td>\n",
       "      <td>3</td>\n",
       "      <td>3</td>\n",
       "      <td>12</td>\n",
       "      <td>7.509249</td>\n",
       "      <td>3.0</td>\n",
       "      <td>4.0</td>\n",
       "      <td>3.0</td>\n",
       "      <td>0</td>\n",
       "      <td>3.0</td>\n",
       "      <td>...</td>\n",
       "      <td>2</td>\n",
       "      <td>28.460148</td>\n",
       "      <td>28.609352</td>\n",
       "      <td>1</td>\n",
       "      <td>1</td>\n",
       "      <td>49.574949</td>\n",
       "      <td>21.465380</td>\n",
       "      <td>4</td>\n",
       "      <td>331.209863</td>\n",
       "      <td>2</td>\n",
       "    </tr>\n",
       "    <tr>\n",
       "      <th>3</th>\n",
       "      <td>576</td>\n",
       "      <td>4</td>\n",
       "      <td>3</td>\n",
       "      <td>12</td>\n",
       "      <td>7.509249</td>\n",
       "      <td>3.0</td>\n",
       "      <td>4.0</td>\n",
       "      <td>3.0</td>\n",
       "      <td>0</td>\n",
       "      <td>5.0</td>\n",
       "      <td>...</td>\n",
       "      <td>2</td>\n",
       "      <td>28.460148</td>\n",
       "      <td>31.377862</td>\n",
       "      <td>1</td>\n",
       "      <td>1</td>\n",
       "      <td>49.574949</td>\n",
       "      <td>21.465380</td>\n",
       "      <td>5</td>\n",
       "      <td>223.451310</td>\n",
       "      <td>2</td>\n",
       "    </tr>\n",
       "    <tr>\n",
       "      <th>4</th>\n",
       "      <td>576</td>\n",
       "      <td>5</td>\n",
       "      <td>3</td>\n",
       "      <td>12</td>\n",
       "      <td>7.509249</td>\n",
       "      <td>3.0</td>\n",
       "      <td>4.0</td>\n",
       "      <td>3.0</td>\n",
       "      <td>0</td>\n",
       "      <td>6.0</td>\n",
       "      <td>...</td>\n",
       "      <td>2</td>\n",
       "      <td>28.460148</td>\n",
       "      <td>24.797347</td>\n",
       "      <td>1</td>\n",
       "      <td>1</td>\n",
       "      <td>49.574949</td>\n",
       "      <td>21.465380</td>\n",
       "      <td>1</td>\n",
       "      <td>341.489231</td>\n",
       "      <td>2</td>\n",
       "    </tr>\n",
       "    <tr>\n",
       "      <th>...</th>\n",
       "      <td>...</td>\n",
       "      <td>...</td>\n",
       "      <td>...</td>\n",
       "      <td>...</td>\n",
       "      <td>...</td>\n",
       "      <td>...</td>\n",
       "      <td>...</td>\n",
       "      <td>...</td>\n",
       "      <td>...</td>\n",
       "      <td>...</td>\n",
       "      <td>...</td>\n",
       "      <td>...</td>\n",
       "      <td>...</td>\n",
       "      <td>...</td>\n",
       "      <td>...</td>\n",
       "      <td>...</td>\n",
       "      <td>...</td>\n",
       "      <td>...</td>\n",
       "      <td>...</td>\n",
       "      <td>...</td>\n",
       "      <td>...</td>\n",
       "    </tr>\n",
       "    <tr>\n",
       "      <th>99995</th>\n",
       "      <td>9254</td>\n",
       "      <td>4</td>\n",
       "      <td>3</td>\n",
       "      <td>9</td>\n",
       "      <td>8.119522</td>\n",
       "      <td>4.0</td>\n",
       "      <td>6.0</td>\n",
       "      <td>7.0</td>\n",
       "      <td>0</td>\n",
       "      <td>23.0</td>\n",
       "      <td>...</td>\n",
       "      <td>2</td>\n",
       "      <td>22.413835</td>\n",
       "      <td>34.663572</td>\n",
       "      <td>1</td>\n",
       "      <td>1</td>\n",
       "      <td>35.104023</td>\n",
       "      <td>24.028477</td>\n",
       "      <td>0</td>\n",
       "      <td>479.866228</td>\n",
       "      <td>0</td>\n",
       "    </tr>\n",
       "    <tr>\n",
       "      <th>99996</th>\n",
       "      <td>9254</td>\n",
       "      <td>5</td>\n",
       "      <td>3</td>\n",
       "      <td>9</td>\n",
       "      <td>8.119522</td>\n",
       "      <td>4.0</td>\n",
       "      <td>6.0</td>\n",
       "      <td>7.0</td>\n",
       "      <td>0</td>\n",
       "      <td>18.0</td>\n",
       "      <td>...</td>\n",
       "      <td>2</td>\n",
       "      <td>22.413835</td>\n",
       "      <td>40.565631</td>\n",
       "      <td>1</td>\n",
       "      <td>1</td>\n",
       "      <td>35.104023</td>\n",
       "      <td>24.028477</td>\n",
       "      <td>1</td>\n",
       "      <td>496.651610</td>\n",
       "      <td>0</td>\n",
       "    </tr>\n",
       "    <tr>\n",
       "      <th>99997</th>\n",
       "      <td>9254</td>\n",
       "      <td>6</td>\n",
       "      <td>3</td>\n",
       "      <td>9</td>\n",
       "      <td>8.119522</td>\n",
       "      <td>4.0</td>\n",
       "      <td>6.0</td>\n",
       "      <td>7.0</td>\n",
       "      <td>0</td>\n",
       "      <td>27.0</td>\n",
       "      <td>...</td>\n",
       "      <td>2</td>\n",
       "      <td>22.413835</td>\n",
       "      <td>41.255522</td>\n",
       "      <td>1</td>\n",
       "      <td>1</td>\n",
       "      <td>35.104023</td>\n",
       "      <td>24.028477</td>\n",
       "      <td>0</td>\n",
       "      <td>516.809083</td>\n",
       "      <td>0</td>\n",
       "    </tr>\n",
       "    <tr>\n",
       "      <th>99998</th>\n",
       "      <td>9254</td>\n",
       "      <td>7</td>\n",
       "      <td>3</td>\n",
       "      <td>9</td>\n",
       "      <td>8.119522</td>\n",
       "      <td>4.0</td>\n",
       "      <td>6.0</td>\n",
       "      <td>7.0</td>\n",
       "      <td>0</td>\n",
       "      <td>20.0</td>\n",
       "      <td>...</td>\n",
       "      <td>2</td>\n",
       "      <td>22.413835</td>\n",
       "      <td>33.638208</td>\n",
       "      <td>1</td>\n",
       "      <td>1</td>\n",
       "      <td>35.104023</td>\n",
       "      <td>24.028477</td>\n",
       "      <td>3</td>\n",
       "      <td>319.164979</td>\n",
       "      <td>1</td>\n",
       "    </tr>\n",
       "    <tr>\n",
       "      <th>99999</th>\n",
       "      <td>9254</td>\n",
       "      <td>8</td>\n",
       "      <td>3</td>\n",
       "      <td>9</td>\n",
       "      <td>8.119522</td>\n",
       "      <td>4.0</td>\n",
       "      <td>6.0</td>\n",
       "      <td>7.0</td>\n",
       "      <td>0</td>\n",
       "      <td>18.0</td>\n",
       "      <td>...</td>\n",
       "      <td>2</td>\n",
       "      <td>22.413835</td>\n",
       "      <td>34.192463</td>\n",
       "      <td>1</td>\n",
       "      <td>1</td>\n",
       "      <td>35.104023</td>\n",
       "      <td>24.028477</td>\n",
       "      <td>1</td>\n",
       "      <td>393.673696</td>\n",
       "      <td>0</td>\n",
       "    </tr>\n",
       "  </tbody>\n",
       "</table>\n",
       "<p>100000 rows × 23 columns</p>\n",
       "</div>"
      ],
      "text/plain": [
       "       Customer_ID  Month  Age  Occupation  Monthly_Inhand_Salary  \\\n",
       "0              576      1    3          12               7.509249   \n",
       "1              576      2    3          12               7.509249   \n",
       "2              576      3    3          12               7.509249   \n",
       "3              576      4    3          12               7.509249   \n",
       "4              576      5    3          12               7.509249   \n",
       "...            ...    ...  ...         ...                    ...   \n",
       "99995         9254      4    3           9               8.119522   \n",
       "99996         9254      5    3           9               8.119522   \n",
       "99997         9254      6    3           9               8.119522   \n",
       "99998         9254      7    3           9               8.119522   \n",
       "99999         9254      8    3           9               8.119522   \n",
       "\n",
       "       Num_Bank_Accounts  Num_Credit_Card  Interest_Rate  Num_of_Loan  \\\n",
       "0                    3.0              4.0            3.0            0   \n",
       "1                    3.0              4.0            3.0            0   \n",
       "2                    3.0              4.0            3.0            0   \n",
       "3                    3.0              4.0            3.0            0   \n",
       "4                    3.0              4.0            3.0            0   \n",
       "...                  ...              ...            ...          ...   \n",
       "99995                4.0              6.0            7.0            0   \n",
       "99996                4.0              6.0            7.0            0   \n",
       "99997                4.0              6.0            7.0            0   \n",
       "99998                4.0              6.0            7.0            0   \n",
       "99999                4.0              6.0            7.0            0   \n",
       "\n",
       "       Delay_from_due_date  ...  Credit_Mix  Outstanding_Debt  \\\n",
       "0                      3.0  ...           2         28.460148   \n",
       "1                      3.0  ...           2         28.460148   \n",
       "2                      3.0  ...           2         28.460148   \n",
       "3                      5.0  ...           2         28.460148   \n",
       "4                      6.0  ...           2         28.460148   \n",
       "...                    ...  ...         ...               ...   \n",
       "99995                 23.0  ...           2         22.413835   \n",
       "99996                 18.0  ...           2         22.413835   \n",
       "99997                 27.0  ...           2         22.413835   \n",
       "99998                 20.0  ...           2         22.413835   \n",
       "99999                 18.0  ...           2         22.413835   \n",
       "\n",
       "       Credit_Utilization_Ratio  Credit_History_Age  Payment_of_Min_Amount  \\\n",
       "0                     26.822620                   1                      1   \n",
       "1                     31.944960                   1                      1   \n",
       "2                     28.609352                   1                      1   \n",
       "3                     31.377862                   1                      1   \n",
       "4                     24.797347                   1                      1   \n",
       "...                         ...                 ...                    ...   \n",
       "99995                 34.663572                   1                      1   \n",
       "99996                 40.565631                   1                      1   \n",
       "99997                 41.255522                   1                      1   \n",
       "99998                 33.638208                   1                      1   \n",
       "99999                 34.192463                   1                      1   \n",
       "\n",
       "       Total_EMI_per_month  Amount_invested_monthly  Payment_Behaviour  \\\n",
       "0                49.574949                21.465380                  2   \n",
       "1                49.574949                21.465380                  3   \n",
       "2                49.574949                21.465380                  4   \n",
       "3                49.574949                21.465380                  5   \n",
       "4                49.574949                21.465380                  1   \n",
       "...                    ...                      ...                ...   \n",
       "99995            35.104023                24.028477                  0   \n",
       "99996            35.104023                24.028477                  1   \n",
       "99997            35.104023                24.028477                  0   \n",
       "99998            35.104023                24.028477                  3   \n",
       "99999            35.104023                24.028477                  1   \n",
       "\n",
       "       Monthly_Balance  Credit_Score  \n",
       "0           312.494089             2  \n",
       "1           284.629162             2  \n",
       "2           331.209863             2  \n",
       "3           223.451310             2  \n",
       "4           341.489231             2  \n",
       "...                ...           ...  \n",
       "99995       479.866228             0  \n",
       "99996       496.651610             0  \n",
       "99997       516.809083             0  \n",
       "99998       319.164979             1  \n",
       "99999       393.673696             0  \n",
       "\n",
       "[100000 rows x 23 columns]"
      ]
     },
     "execution_count": 4,
     "metadata": {},
     "output_type": "execute_result"
    }
   ],
   "source": [
    "df = pd.read_csv('../data/processed/processed.csv')\n",
    "df"
   ]
  },
  {
   "cell_type": "markdown",
   "metadata": {},
   "source": [
    "## DL"
   ]
  },
  {
   "cell_type": "markdown",
   "metadata": {},
   "source": [
    "### CNN"
   ]
  },
  {
   "cell_type": "code",
   "execution_count": 5,
   "metadata": {
    "collapsed": false,
    "jupyter": {
     "outputs_hidden": false
    }
   },
   "outputs": [],
   "source": [
    "df_dl = df.copy()"
   ]
  },
  {
   "cell_type": "code",
   "execution_count": 6,
   "metadata": {
    "collapsed": false,
    "jupyter": {
     "outputs_hidden": false
    }
   },
   "outputs": [],
   "source": [
    "for col in df_dl.iloc[:, :-1].columns[df_dl.iloc[:, :-1].dtypes != 'float']:\n",
    "    df_dl[col] = df_dl[col].astype(np.float64)"
   ]
  },
  {
   "cell_type": "code",
   "execution_count": 7,
   "metadata": {
    "collapsed": false,
    "jupyter": {
     "outputs_hidden": false
    }
   },
   "outputs": [
    {
     "data": {
      "text/plain": [
       "Customer_ID                 float64\n",
       "Month                       float64\n",
       "Age                         float64\n",
       "Occupation                  float64\n",
       "Monthly_Inhand_Salary       float64\n",
       "Num_Bank_Accounts           float64\n",
       "Num_Credit_Card             float64\n",
       "Interest_Rate               float64\n",
       "Num_of_Loan                 float64\n",
       "Delay_from_due_date         float64\n",
       "Num_of_Delayed_Payment      float64\n",
       "Changed_Credit_Limit        float64\n",
       "Num_Credit_Inquiries        float64\n",
       "Credit_Mix                  float64\n",
       "Outstanding_Debt            float64\n",
       "Credit_Utilization_Ratio    float64\n",
       "Credit_History_Age          float64\n",
       "Payment_of_Min_Amount       float64\n",
       "Total_EMI_per_month         float64\n",
       "Amount_invested_monthly     float64\n",
       "Payment_Behaviour           float64\n",
       "Monthly_Balance             float64\n",
       "Credit_Score                  int64\n",
       "dtype: object"
      ]
     },
     "execution_count": 7,
     "metadata": {},
     "output_type": "execute_result"
    }
   ],
   "source": [
    "df_dl.dtypes"
   ]
  },
  {
   "cell_type": "code",
   "execution_count": 8,
   "metadata": {
    "collapsed": false,
    "jupyter": {
     "outputs_hidden": false
    }
   },
   "outputs": [
    {
     "data": {
      "text/html": [
       "<div>\n",
       "<style scoped>\n",
       "    .dataframe tbody tr th:only-of-type {\n",
       "        vertical-align: middle;\n",
       "    }\n",
       "\n",
       "    .dataframe tbody tr th {\n",
       "        vertical-align: top;\n",
       "    }\n",
       "\n",
       "    .dataframe thead th {\n",
       "        text-align: right;\n",
       "    }\n",
       "</style>\n",
       "<table border=\"1\" class=\"dataframe\">\n",
       "  <thead>\n",
       "    <tr style=\"text-align: right;\">\n",
       "      <th></th>\n",
       "      <th>Credit_Score</th>\n",
       "    </tr>\n",
       "  </thead>\n",
       "  <tbody>\n",
       "    <tr>\n",
       "      <th>0</th>\n",
       "      <td>2</td>\n",
       "    </tr>\n",
       "    <tr>\n",
       "      <th>1</th>\n",
       "      <td>2</td>\n",
       "    </tr>\n",
       "    <tr>\n",
       "      <th>2</th>\n",
       "      <td>2</td>\n",
       "    </tr>\n",
       "    <tr>\n",
       "      <th>3</th>\n",
       "      <td>2</td>\n",
       "    </tr>\n",
       "    <tr>\n",
       "      <th>4</th>\n",
       "      <td>2</td>\n",
       "    </tr>\n",
       "    <tr>\n",
       "      <th>...</th>\n",
       "      <td>...</td>\n",
       "    </tr>\n",
       "    <tr>\n",
       "      <th>99995</th>\n",
       "      <td>0</td>\n",
       "    </tr>\n",
       "    <tr>\n",
       "      <th>99996</th>\n",
       "      <td>0</td>\n",
       "    </tr>\n",
       "    <tr>\n",
       "      <th>99997</th>\n",
       "      <td>0</td>\n",
       "    </tr>\n",
       "    <tr>\n",
       "      <th>99998</th>\n",
       "      <td>1</td>\n",
       "    </tr>\n",
       "    <tr>\n",
       "      <th>99999</th>\n",
       "      <td>0</td>\n",
       "    </tr>\n",
       "  </tbody>\n",
       "</table>\n",
       "<p>100000 rows × 1 columns</p>\n",
       "</div>"
      ],
      "text/plain": [
       "       Credit_Score\n",
       "0                 2\n",
       "1                 2\n",
       "2                 2\n",
       "3                 2\n",
       "4                 2\n",
       "...             ...\n",
       "99995             0\n",
       "99996             0\n",
       "99997             0\n",
       "99998             1\n",
       "99999             0\n",
       "\n",
       "[100000 rows x 1 columns]"
      ]
     },
     "execution_count": 8,
     "metadata": {},
     "output_type": "execute_result"
    }
   ],
   "source": [
    "df_dl.select_dtypes('int')"
   ]
  },
  {
   "cell_type": "code",
   "execution_count": 9,
   "metadata": {
    "collapsed": false,
    "jupyter": {
     "outputs_hidden": false
    }
   },
   "outputs": [
    {
     "name": "stdout",
     "output_type": "stream",
     "text": [
      "(75000, 23)\n",
      "(25000, 23)\n"
     ]
    }
   ],
   "source": [
    "train_df = df_dl[df_dl['Month'] <= 6]\n",
    "test_df = df_dl[df_dl['Month'] > 6]\n",
    "\n",
    "print(train_df.shape)\n",
    "print(test_df.shape)"
   ]
  },
  {
   "cell_type": "code",
   "execution_count": 10,
   "metadata": {
    "collapsed": false,
    "jupyter": {
     "outputs_hidden": false
    }
   },
   "outputs": [
    {
     "data": {
      "text/html": [
       "<div>\n",
       "<style scoped>\n",
       "    .dataframe tbody tr th:only-of-type {\n",
       "        vertical-align: middle;\n",
       "    }\n",
       "\n",
       "    .dataframe tbody tr th {\n",
       "        vertical-align: top;\n",
       "    }\n",
       "\n",
       "    .dataframe thead th {\n",
       "        text-align: right;\n",
       "    }\n",
       "</style>\n",
       "<table border=\"1\" class=\"dataframe\">\n",
       "  <thead>\n",
       "    <tr style=\"text-align: right;\">\n",
       "      <th></th>\n",
       "      <th>Customer_ID</th>\n",
       "      <th>Month</th>\n",
       "      <th>Age</th>\n",
       "      <th>Occupation</th>\n",
       "      <th>Monthly_Inhand_Salary</th>\n",
       "      <th>Num_Bank_Accounts</th>\n",
       "      <th>Num_Credit_Card</th>\n",
       "      <th>Interest_Rate</th>\n",
       "      <th>Num_of_Loan</th>\n",
       "      <th>Delay_from_due_date</th>\n",
       "      <th>...</th>\n",
       "      <th>Credit_Mix</th>\n",
       "      <th>Outstanding_Debt</th>\n",
       "      <th>Credit_Utilization_Ratio</th>\n",
       "      <th>Credit_History_Age</th>\n",
       "      <th>Payment_of_Min_Amount</th>\n",
       "      <th>Total_EMI_per_month</th>\n",
       "      <th>Amount_invested_monthly</th>\n",
       "      <th>Payment_Behaviour</th>\n",
       "      <th>Monthly_Balance</th>\n",
       "      <th>Credit_Score</th>\n",
       "    </tr>\n",
       "  </thead>\n",
       "  <tbody>\n",
       "    <tr>\n",
       "      <th>0</th>\n",
       "      <td>576.0</td>\n",
       "      <td>1.0</td>\n",
       "      <td>3.0</td>\n",
       "      <td>12.0</td>\n",
       "      <td>7.509249</td>\n",
       "      <td>3.0</td>\n",
       "      <td>4.0</td>\n",
       "      <td>3.0</td>\n",
       "      <td>0.0</td>\n",
       "      <td>3.0</td>\n",
       "      <td>...</td>\n",
       "      <td>2.0</td>\n",
       "      <td>28.460148</td>\n",
       "      <td>26.822620</td>\n",
       "      <td>1.0</td>\n",
       "      <td>1.0</td>\n",
       "      <td>49.574949</td>\n",
       "      <td>21.465380</td>\n",
       "      <td>2.0</td>\n",
       "      <td>312.494089</td>\n",
       "      <td>2</td>\n",
       "    </tr>\n",
       "    <tr>\n",
       "      <th>1</th>\n",
       "      <td>576.0</td>\n",
       "      <td>2.0</td>\n",
       "      <td>3.0</td>\n",
       "      <td>12.0</td>\n",
       "      <td>7.509249</td>\n",
       "      <td>3.0</td>\n",
       "      <td>4.0</td>\n",
       "      <td>3.0</td>\n",
       "      <td>0.0</td>\n",
       "      <td>3.0</td>\n",
       "      <td>...</td>\n",
       "      <td>2.0</td>\n",
       "      <td>28.460148</td>\n",
       "      <td>31.944960</td>\n",
       "      <td>1.0</td>\n",
       "      <td>1.0</td>\n",
       "      <td>49.574949</td>\n",
       "      <td>21.465380</td>\n",
       "      <td>3.0</td>\n",
       "      <td>284.629162</td>\n",
       "      <td>2</td>\n",
       "    </tr>\n",
       "    <tr>\n",
       "      <th>2</th>\n",
       "      <td>576.0</td>\n",
       "      <td>3.0</td>\n",
       "      <td>3.0</td>\n",
       "      <td>12.0</td>\n",
       "      <td>7.509249</td>\n",
       "      <td>3.0</td>\n",
       "      <td>4.0</td>\n",
       "      <td>3.0</td>\n",
       "      <td>0.0</td>\n",
       "      <td>3.0</td>\n",
       "      <td>...</td>\n",
       "      <td>2.0</td>\n",
       "      <td>28.460148</td>\n",
       "      <td>28.609352</td>\n",
       "      <td>1.0</td>\n",
       "      <td>1.0</td>\n",
       "      <td>49.574949</td>\n",
       "      <td>21.465380</td>\n",
       "      <td>4.0</td>\n",
       "      <td>331.209863</td>\n",
       "      <td>2</td>\n",
       "    </tr>\n",
       "    <tr>\n",
       "      <th>3</th>\n",
       "      <td>576.0</td>\n",
       "      <td>4.0</td>\n",
       "      <td>3.0</td>\n",
       "      <td>12.0</td>\n",
       "      <td>7.509249</td>\n",
       "      <td>3.0</td>\n",
       "      <td>4.0</td>\n",
       "      <td>3.0</td>\n",
       "      <td>0.0</td>\n",
       "      <td>5.0</td>\n",
       "      <td>...</td>\n",
       "      <td>2.0</td>\n",
       "      <td>28.460148</td>\n",
       "      <td>31.377862</td>\n",
       "      <td>1.0</td>\n",
       "      <td>1.0</td>\n",
       "      <td>49.574949</td>\n",
       "      <td>21.465380</td>\n",
       "      <td>5.0</td>\n",
       "      <td>223.451310</td>\n",
       "      <td>2</td>\n",
       "    </tr>\n",
       "    <tr>\n",
       "      <th>4</th>\n",
       "      <td>576.0</td>\n",
       "      <td>5.0</td>\n",
       "      <td>3.0</td>\n",
       "      <td>12.0</td>\n",
       "      <td>7.509249</td>\n",
       "      <td>3.0</td>\n",
       "      <td>4.0</td>\n",
       "      <td>3.0</td>\n",
       "      <td>0.0</td>\n",
       "      <td>6.0</td>\n",
       "      <td>...</td>\n",
       "      <td>2.0</td>\n",
       "      <td>28.460148</td>\n",
       "      <td>24.797347</td>\n",
       "      <td>1.0</td>\n",
       "      <td>1.0</td>\n",
       "      <td>49.574949</td>\n",
       "      <td>21.465380</td>\n",
       "      <td>1.0</td>\n",
       "      <td>341.489231</td>\n",
       "      <td>2</td>\n",
       "    </tr>\n",
       "    <tr>\n",
       "      <th>...</th>\n",
       "      <td>...</td>\n",
       "      <td>...</td>\n",
       "      <td>...</td>\n",
       "      <td>...</td>\n",
       "      <td>...</td>\n",
       "      <td>...</td>\n",
       "      <td>...</td>\n",
       "      <td>...</td>\n",
       "      <td>...</td>\n",
       "      <td>...</td>\n",
       "      <td>...</td>\n",
       "      <td>...</td>\n",
       "      <td>...</td>\n",
       "      <td>...</td>\n",
       "      <td>...</td>\n",
       "      <td>...</td>\n",
       "      <td>...</td>\n",
       "      <td>...</td>\n",
       "      <td>...</td>\n",
       "      <td>...</td>\n",
       "      <td>...</td>\n",
       "    </tr>\n",
       "    <tr>\n",
       "      <th>99993</th>\n",
       "      <td>9254.0</td>\n",
       "      <td>2.0</td>\n",
       "      <td>3.0</td>\n",
       "      <td>9.0</td>\n",
       "      <td>8.119522</td>\n",
       "      <td>4.0</td>\n",
       "      <td>6.0</td>\n",
       "      <td>7.0</td>\n",
       "      <td>0.0</td>\n",
       "      <td>23.0</td>\n",
       "      <td>...</td>\n",
       "      <td>2.0</td>\n",
       "      <td>22.413835</td>\n",
       "      <td>29.135447</td>\n",
       "      <td>1.0</td>\n",
       "      <td>1.0</td>\n",
       "      <td>35.104023</td>\n",
       "      <td>24.028477</td>\n",
       "      <td>4.0</td>\n",
       "      <td>400.104466</td>\n",
       "      <td>1</td>\n",
       "    </tr>\n",
       "    <tr>\n",
       "      <th>99994</th>\n",
       "      <td>9254.0</td>\n",
       "      <td>3.0</td>\n",
       "      <td>3.0</td>\n",
       "      <td>9.0</td>\n",
       "      <td>8.119522</td>\n",
       "      <td>4.0</td>\n",
       "      <td>6.0</td>\n",
       "      <td>7.0</td>\n",
       "      <td>0.0</td>\n",
       "      <td>20.0</td>\n",
       "      <td>...</td>\n",
       "      <td>2.0</td>\n",
       "      <td>22.413835</td>\n",
       "      <td>39.323569</td>\n",
       "      <td>1.0</td>\n",
       "      <td>1.0</td>\n",
       "      <td>35.104023</td>\n",
       "      <td>24.028477</td>\n",
       "      <td>1.0</td>\n",
       "      <td>410.256158</td>\n",
       "      <td>0</td>\n",
       "    </tr>\n",
       "    <tr>\n",
       "      <th>99995</th>\n",
       "      <td>9254.0</td>\n",
       "      <td>4.0</td>\n",
       "      <td>3.0</td>\n",
       "      <td>9.0</td>\n",
       "      <td>8.119522</td>\n",
       "      <td>4.0</td>\n",
       "      <td>6.0</td>\n",
       "      <td>7.0</td>\n",
       "      <td>0.0</td>\n",
       "      <td>23.0</td>\n",
       "      <td>...</td>\n",
       "      <td>2.0</td>\n",
       "      <td>22.413835</td>\n",
       "      <td>34.663572</td>\n",
       "      <td>1.0</td>\n",
       "      <td>1.0</td>\n",
       "      <td>35.104023</td>\n",
       "      <td>24.028477</td>\n",
       "      <td>0.0</td>\n",
       "      <td>479.866228</td>\n",
       "      <td>0</td>\n",
       "    </tr>\n",
       "    <tr>\n",
       "      <th>99996</th>\n",
       "      <td>9254.0</td>\n",
       "      <td>5.0</td>\n",
       "      <td>3.0</td>\n",
       "      <td>9.0</td>\n",
       "      <td>8.119522</td>\n",
       "      <td>4.0</td>\n",
       "      <td>6.0</td>\n",
       "      <td>7.0</td>\n",
       "      <td>0.0</td>\n",
       "      <td>18.0</td>\n",
       "      <td>...</td>\n",
       "      <td>2.0</td>\n",
       "      <td>22.413835</td>\n",
       "      <td>40.565631</td>\n",
       "      <td>1.0</td>\n",
       "      <td>1.0</td>\n",
       "      <td>35.104023</td>\n",
       "      <td>24.028477</td>\n",
       "      <td>1.0</td>\n",
       "      <td>496.651610</td>\n",
       "      <td>0</td>\n",
       "    </tr>\n",
       "    <tr>\n",
       "      <th>99997</th>\n",
       "      <td>9254.0</td>\n",
       "      <td>6.0</td>\n",
       "      <td>3.0</td>\n",
       "      <td>9.0</td>\n",
       "      <td>8.119522</td>\n",
       "      <td>4.0</td>\n",
       "      <td>6.0</td>\n",
       "      <td>7.0</td>\n",
       "      <td>0.0</td>\n",
       "      <td>27.0</td>\n",
       "      <td>...</td>\n",
       "      <td>2.0</td>\n",
       "      <td>22.413835</td>\n",
       "      <td>41.255522</td>\n",
       "      <td>1.0</td>\n",
       "      <td>1.0</td>\n",
       "      <td>35.104023</td>\n",
       "      <td>24.028477</td>\n",
       "      <td>0.0</td>\n",
       "      <td>516.809083</td>\n",
       "      <td>0</td>\n",
       "    </tr>\n",
       "  </tbody>\n",
       "</table>\n",
       "<p>75000 rows × 23 columns</p>\n",
       "</div>"
      ],
      "text/plain": [
       "       Customer_ID  Month  Age  Occupation  Monthly_Inhand_Salary  \\\n",
       "0            576.0    1.0  3.0        12.0               7.509249   \n",
       "1            576.0    2.0  3.0        12.0               7.509249   \n",
       "2            576.0    3.0  3.0        12.0               7.509249   \n",
       "3            576.0    4.0  3.0        12.0               7.509249   \n",
       "4            576.0    5.0  3.0        12.0               7.509249   \n",
       "...            ...    ...  ...         ...                    ...   \n",
       "99993       9254.0    2.0  3.0         9.0               8.119522   \n",
       "99994       9254.0    3.0  3.0         9.0               8.119522   \n",
       "99995       9254.0    4.0  3.0         9.0               8.119522   \n",
       "99996       9254.0    5.0  3.0         9.0               8.119522   \n",
       "99997       9254.0    6.0  3.0         9.0               8.119522   \n",
       "\n",
       "       Num_Bank_Accounts  Num_Credit_Card  Interest_Rate  Num_of_Loan  \\\n",
       "0                    3.0              4.0            3.0          0.0   \n",
       "1                    3.0              4.0            3.0          0.0   \n",
       "2                    3.0              4.0            3.0          0.0   \n",
       "3                    3.0              4.0            3.0          0.0   \n",
       "4                    3.0              4.0            3.0          0.0   \n",
       "...                  ...              ...            ...          ...   \n",
       "99993                4.0              6.0            7.0          0.0   \n",
       "99994                4.0              6.0            7.0          0.0   \n",
       "99995                4.0              6.0            7.0          0.0   \n",
       "99996                4.0              6.0            7.0          0.0   \n",
       "99997                4.0              6.0            7.0          0.0   \n",
       "\n",
       "       Delay_from_due_date  ...  Credit_Mix  Outstanding_Debt  \\\n",
       "0                      3.0  ...         2.0         28.460148   \n",
       "1                      3.0  ...         2.0         28.460148   \n",
       "2                      3.0  ...         2.0         28.460148   \n",
       "3                      5.0  ...         2.0         28.460148   \n",
       "4                      6.0  ...         2.0         28.460148   \n",
       "...                    ...  ...         ...               ...   \n",
       "99993                 23.0  ...         2.0         22.413835   \n",
       "99994                 20.0  ...         2.0         22.413835   \n",
       "99995                 23.0  ...         2.0         22.413835   \n",
       "99996                 18.0  ...         2.0         22.413835   \n",
       "99997                 27.0  ...         2.0         22.413835   \n",
       "\n",
       "       Credit_Utilization_Ratio  Credit_History_Age  Payment_of_Min_Amount  \\\n",
       "0                     26.822620                 1.0                    1.0   \n",
       "1                     31.944960                 1.0                    1.0   \n",
       "2                     28.609352                 1.0                    1.0   \n",
       "3                     31.377862                 1.0                    1.0   \n",
       "4                     24.797347                 1.0                    1.0   \n",
       "...                         ...                 ...                    ...   \n",
       "99993                 29.135447                 1.0                    1.0   \n",
       "99994                 39.323569                 1.0                    1.0   \n",
       "99995                 34.663572                 1.0                    1.0   \n",
       "99996                 40.565631                 1.0                    1.0   \n",
       "99997                 41.255522                 1.0                    1.0   \n",
       "\n",
       "       Total_EMI_per_month  Amount_invested_monthly  Payment_Behaviour  \\\n",
       "0                49.574949                21.465380                2.0   \n",
       "1                49.574949                21.465380                3.0   \n",
       "2                49.574949                21.465380                4.0   \n",
       "3                49.574949                21.465380                5.0   \n",
       "4                49.574949                21.465380                1.0   \n",
       "...                    ...                      ...                ...   \n",
       "99993            35.104023                24.028477                4.0   \n",
       "99994            35.104023                24.028477                1.0   \n",
       "99995            35.104023                24.028477                0.0   \n",
       "99996            35.104023                24.028477                1.0   \n",
       "99997            35.104023                24.028477                0.0   \n",
       "\n",
       "       Monthly_Balance  Credit_Score  \n",
       "0           312.494089             2  \n",
       "1           284.629162             2  \n",
       "2           331.209863             2  \n",
       "3           223.451310             2  \n",
       "4           341.489231             2  \n",
       "...                ...           ...  \n",
       "99993       400.104466             1  \n",
       "99994       410.256158             0  \n",
       "99995       479.866228             0  \n",
       "99996       496.651610             0  \n",
       "99997       516.809083             0  \n",
       "\n",
       "[75000 rows x 23 columns]"
      ]
     },
     "execution_count": 10,
     "metadata": {},
     "output_type": "execute_result"
    }
   ],
   "source": [
    "train_df"
   ]
  },
  {
   "cell_type": "code",
   "execution_count": 11,
   "metadata": {
    "collapsed": false,
    "jupyter": {
     "outputs_hidden": false
    }
   },
   "outputs": [],
   "source": [
    "from sklearn.preprocessing import RobustScaler"
   ]
  },
  {
   "cell_type": "code",
   "execution_count": 12,
   "metadata": {
    "collapsed": false,
    "jupyter": {
     "outputs_hidden": false
    }
   },
   "outputs": [
    {
     "name": "stderr",
     "output_type": "stream",
     "text": [
      "/var/folders/rm/1g600byx25b_ht2r9ty6b4_00000gn/T/ipykernel_37647/4124677545.py:11: SettingWithCopyWarning: \n",
      "A value is trying to be set on a copy of a slice from a DataFrame.\n",
      "Try using .loc[row_indexer,col_indexer] = value instead\n",
      "\n",
      "See the caveats in the documentation: https://pandas.pydata.org/pandas-docs/stable/user_guide/indexing.html#returning-a-view-versus-a-copy\n",
      "  train_df[scaling_cols] = rs_train_df\n",
      "/var/folders/rm/1g600byx25b_ht2r9ty6b4_00000gn/T/ipykernel_37647/4124677545.py:12: SettingWithCopyWarning: \n",
      "A value is trying to be set on a copy of a slice from a DataFrame.\n",
      "Try using .loc[row_indexer,col_indexer] = value instead\n",
      "\n",
      "See the caveats in the documentation: https://pandas.pydata.org/pandas-docs/stable/user_guide/indexing.html#returning-a-view-versus-a-copy\n",
      "  test_df[scaling_cols] = rs_test_df\n"
     ]
    }
   ],
   "source": [
    "scaling_cols = ['Monthly_Inhand_Salary', 'Outstanding_Debt', 'Credit_Utilization_Ratio', 'Total_EMI_per_month',\n",
    "                'Amount_invested_monthly', 'Monthly_Balance']\n",
    "rs = RobustScaler()\n",
    "\n",
    "rs_train_df = train_df[scaling_cols].copy()\n",
    "rs_test_df = test_df[scaling_cols].copy()\n",
    "\n",
    "rs_train_df = rs.fit_transform(rs_train_df)\n",
    "rs_test_df = rs.transform(rs_test_df)\n",
    "\n",
    "train_df[scaling_cols] = rs_train_df\n",
    "test_df[scaling_cols] = rs_test_df"
   ]
  },
  {
   "cell_type": "code",
   "execution_count": 13,
   "metadata": {
    "collapsed": false,
    "jupyter": {
     "outputs_hidden": false
    }
   },
   "outputs": [
    {
     "data": {
      "text/html": [
       "<div>\n",
       "<style scoped>\n",
       "    .dataframe tbody tr th:only-of-type {\n",
       "        vertical-align: middle;\n",
       "    }\n",
       "\n",
       "    .dataframe tbody tr th {\n",
       "        vertical-align: top;\n",
       "    }\n",
       "\n",
       "    .dataframe thead th {\n",
       "        text-align: right;\n",
       "    }\n",
       "</style>\n",
       "<table border=\"1\" class=\"dataframe\">\n",
       "  <thead>\n",
       "    <tr style=\"text-align: right;\">\n",
       "      <th></th>\n",
       "      <th>Monthly_Inhand_Salary</th>\n",
       "      <th>Outstanding_Debt</th>\n",
       "      <th>Credit_Utilization_Ratio</th>\n",
       "      <th>Total_EMI_per_month</th>\n",
       "      <th>Amount_invested_monthly</th>\n",
       "      <th>Monthly_Balance</th>\n",
       "    </tr>\n",
       "  </thead>\n",
       "  <tbody>\n",
       "    <tr>\n",
       "      <th>0</th>\n",
       "      <td>-0.407299</td>\n",
       "      <td>-0.279953</td>\n",
       "      <td>-0.648697</td>\n",
       "      <td>-0.139504</td>\n",
       "      <td>-0.546677</td>\n",
       "      <td>-0.108344</td>\n",
       "    </tr>\n",
       "    <tr>\n",
       "      <th>1</th>\n",
       "      <td>-0.407299</td>\n",
       "      <td>-0.279953</td>\n",
       "      <td>-0.041010</td>\n",
       "      <td>-0.139504</td>\n",
       "      <td>-0.546677</td>\n",
       "      <td>-0.250764</td>\n",
       "    </tr>\n",
       "    <tr>\n",
       "      <th>2</th>\n",
       "      <td>-0.407299</td>\n",
       "      <td>-0.279953</td>\n",
       "      <td>-0.436728</td>\n",
       "      <td>-0.139504</td>\n",
       "      <td>-0.546677</td>\n",
       "      <td>-0.012686</td>\n",
       "    </tr>\n",
       "    <tr>\n",
       "      <th>3</th>\n",
       "      <td>-0.407299</td>\n",
       "      <td>-0.279953</td>\n",
       "      <td>-0.108287</td>\n",
       "      <td>-0.139504</td>\n",
       "      <td>-0.546677</td>\n",
       "      <td>-0.563450</td>\n",
       "    </tr>\n",
       "    <tr>\n",
       "      <th>4</th>\n",
       "      <td>-0.407299</td>\n",
       "      <td>-0.279953</td>\n",
       "      <td>-0.888964</td>\n",
       "      <td>-0.139504</td>\n",
       "      <td>-0.546677</td>\n",
       "      <td>0.039852</td>\n",
       "    </tr>\n",
       "    <tr>\n",
       "      <th>...</th>\n",
       "      <td>...</td>\n",
       "      <td>...</td>\n",
       "      <td>...</td>\n",
       "      <td>...</td>\n",
       "      <td>...</td>\n",
       "      <td>...</td>\n",
       "    </tr>\n",
       "    <tr>\n",
       "      <th>99993</th>\n",
       "      <td>0.062676</td>\n",
       "      <td>-0.577496</td>\n",
       "      <td>-0.374315</td>\n",
       "      <td>-0.264438</td>\n",
       "      <td>-0.487533</td>\n",
       "      <td>0.339440</td>\n",
       "    </tr>\n",
       "    <tr>\n",
       "      <th>99994</th>\n",
       "      <td>0.062676</td>\n",
       "      <td>-0.577496</td>\n",
       "      <td>0.834349</td>\n",
       "      <td>-0.264438</td>\n",
       "      <td>-0.487533</td>\n",
       "      <td>0.391326</td>\n",
       "    </tr>\n",
       "    <tr>\n",
       "      <th>99995</th>\n",
       "      <td>0.062676</td>\n",
       "      <td>-0.577496</td>\n",
       "      <td>0.281512</td>\n",
       "      <td>-0.264438</td>\n",
       "      <td>-0.487533</td>\n",
       "      <td>0.747110</td>\n",
       "    </tr>\n",
       "    <tr>\n",
       "      <th>99996</th>\n",
       "      <td>0.062676</td>\n",
       "      <td>-0.577496</td>\n",
       "      <td>0.981701</td>\n",
       "      <td>-0.264438</td>\n",
       "      <td>-0.487533</td>\n",
       "      <td>0.832901</td>\n",
       "    </tr>\n",
       "    <tr>\n",
       "      <th>99997</th>\n",
       "      <td>0.062676</td>\n",
       "      <td>-0.577496</td>\n",
       "      <td>1.063546</td>\n",
       "      <td>-0.264438</td>\n",
       "      <td>-0.487533</td>\n",
       "      <td>0.935928</td>\n",
       "    </tr>\n",
       "  </tbody>\n",
       "</table>\n",
       "<p>75000 rows × 6 columns</p>\n",
       "</div>"
      ],
      "text/plain": [
       "       Monthly_Inhand_Salary  Outstanding_Debt  Credit_Utilization_Ratio  \\\n",
       "0                  -0.407299         -0.279953                 -0.648697   \n",
       "1                  -0.407299         -0.279953                 -0.041010   \n",
       "2                  -0.407299         -0.279953                 -0.436728   \n",
       "3                  -0.407299         -0.279953                 -0.108287   \n",
       "4                  -0.407299         -0.279953                 -0.888964   \n",
       "...                      ...               ...                       ...   \n",
       "99993               0.062676         -0.577496                 -0.374315   \n",
       "99994               0.062676         -0.577496                  0.834349   \n",
       "99995               0.062676         -0.577496                  0.281512   \n",
       "99996               0.062676         -0.577496                  0.981701   \n",
       "99997               0.062676         -0.577496                  1.063546   \n",
       "\n",
       "       Total_EMI_per_month  Amount_invested_monthly  Monthly_Balance  \n",
       "0                -0.139504                -0.546677        -0.108344  \n",
       "1                -0.139504                -0.546677        -0.250764  \n",
       "2                -0.139504                -0.546677        -0.012686  \n",
       "3                -0.139504                -0.546677        -0.563450  \n",
       "4                -0.139504                -0.546677         0.039852  \n",
       "...                    ...                      ...              ...  \n",
       "99993            -0.264438                -0.487533         0.339440  \n",
       "99994            -0.264438                -0.487533         0.391326  \n",
       "99995            -0.264438                -0.487533         0.747110  \n",
       "99996            -0.264438                -0.487533         0.832901  \n",
       "99997            -0.264438                -0.487533         0.935928  \n",
       "\n",
       "[75000 rows x 6 columns]"
      ]
     },
     "execution_count": 13,
     "metadata": {},
     "output_type": "execute_result"
    }
   ],
   "source": [
    "train_df[scaling_cols]"
   ]
  },
  {
   "cell_type": "code",
   "execution_count": 14,
   "metadata": {
    "collapsed": false,
    "jupyter": {
     "outputs_hidden": false
    }
   },
   "outputs": [
    {
     "data": {
      "text/html": [
       "<div>\n",
       "<style scoped>\n",
       "    .dataframe tbody tr th:only-of-type {\n",
       "        vertical-align: middle;\n",
       "    }\n",
       "\n",
       "    .dataframe tbody tr th {\n",
       "        vertical-align: top;\n",
       "    }\n",
       "\n",
       "    .dataframe thead th {\n",
       "        text-align: right;\n",
       "    }\n",
       "</style>\n",
       "<table border=\"1\" class=\"dataframe\">\n",
       "  <thead>\n",
       "    <tr style=\"text-align: right;\">\n",
       "      <th></th>\n",
       "      <th>Monthly_Inhand_Salary</th>\n",
       "      <th>Outstanding_Debt</th>\n",
       "      <th>Credit_Utilization_Ratio</th>\n",
       "      <th>Total_EMI_per_month</th>\n",
       "      <th>Amount_invested_monthly</th>\n",
       "      <th>Monthly_Balance</th>\n",
       "    </tr>\n",
       "  </thead>\n",
       "  <tbody>\n",
       "    <tr>\n",
       "      <th>6</th>\n",
       "      <td>-0.407299</td>\n",
       "      <td>-0.279953</td>\n",
       "      <td>-1.157050</td>\n",
       "      <td>-0.139504</td>\n",
       "      <td>-0.546677</td>\n",
       "      <td>-0.455534</td>\n",
       "    </tr>\n",
       "    <tr>\n",
       "      <th>7</th>\n",
       "      <td>-0.407299</td>\n",
       "      <td>-0.279953</td>\n",
       "      <td>-0.991412</td>\n",
       "      <td>-0.139504</td>\n",
       "      <td>-0.546677</td>\n",
       "      <td>0.124875</td>\n",
       "    </tr>\n",
       "    <tr>\n",
       "      <th>14</th>\n",
       "      <td>-0.014775</td>\n",
       "      <td>-0.470044</td>\n",
       "      <td>-0.137490</td>\n",
       "      <td>-0.405058</td>\n",
       "      <td>-0.126279</td>\n",
       "      <td>0.670517</td>\n",
       "    </tr>\n",
       "    <tr>\n",
       "      <th>15</th>\n",
       "      <td>-0.014775</td>\n",
       "      <td>-0.470044</td>\n",
       "      <td>0.076308</td>\n",
       "      <td>-0.405058</td>\n",
       "      <td>-0.126279</td>\n",
       "      <td>0.114418</td>\n",
       "    </tr>\n",
       "    <tr>\n",
       "      <th>22</th>\n",
       "      <td>1.055051</td>\n",
       "      <td>0.095873</td>\n",
       "      <td>0.685469</td>\n",
       "      <td>1.564883</td>\n",
       "      <td>2.844176</td>\n",
       "      <td>3.244844</td>\n",
       "    </tr>\n",
       "    <tr>\n",
       "      <th>...</th>\n",
       "      <td>...</td>\n",
       "      <td>...</td>\n",
       "      <td>...</td>\n",
       "      <td>...</td>\n",
       "      <td>...</td>\n",
       "      <td>...</td>\n",
       "    </tr>\n",
       "    <tr>\n",
       "      <th>99983</th>\n",
       "      <td>0.000043</td>\n",
       "      <td>-0.454528</td>\n",
       "      <td>0.831670</td>\n",
       "      <td>0.159480</td>\n",
       "      <td>-0.051250</td>\n",
       "      <td>0.505320</td>\n",
       "    </tr>\n",
       "    <tr>\n",
       "      <th>99990</th>\n",
       "      <td>-0.364191</td>\n",
       "      <td>1.260517</td>\n",
       "      <td>-0.850267</td>\n",
       "      <td>-0.041171</td>\n",
       "      <td>-0.242142</td>\n",
       "      <td>-0.536366</td>\n",
       "    </tr>\n",
       "    <tr>\n",
       "      <th>99991</th>\n",
       "      <td>-0.364191</td>\n",
       "      <td>1.260517</td>\n",
       "      <td>0.575395</td>\n",
       "      <td>-0.041171</td>\n",
       "      <td>-0.242142</td>\n",
       "      <td>0.018763</td>\n",
       "    </tr>\n",
       "    <tr>\n",
       "      <th>99998</th>\n",
       "      <td>0.062676</td>\n",
       "      <td>-0.577496</td>\n",
       "      <td>0.159868</td>\n",
       "      <td>-0.264438</td>\n",
       "      <td>-0.487533</td>\n",
       "      <td>-0.074249</td>\n",
       "    </tr>\n",
       "    <tr>\n",
       "      <th>99999</th>\n",
       "      <td>0.062676</td>\n",
       "      <td>-0.577496</td>\n",
       "      <td>0.225622</td>\n",
       "      <td>-0.264438</td>\n",
       "      <td>-0.487533</td>\n",
       "      <td>0.306572</td>\n",
       "    </tr>\n",
       "  </tbody>\n",
       "</table>\n",
       "<p>25000 rows × 6 columns</p>\n",
       "</div>"
      ],
      "text/plain": [
       "       Monthly_Inhand_Salary  Outstanding_Debt  Credit_Utilization_Ratio  \\\n",
       "6                  -0.407299         -0.279953                 -1.157050   \n",
       "7                  -0.407299         -0.279953                 -0.991412   \n",
       "14                 -0.014775         -0.470044                 -0.137490   \n",
       "15                 -0.014775         -0.470044                  0.076308   \n",
       "22                  1.055051          0.095873                  0.685469   \n",
       "...                      ...               ...                       ...   \n",
       "99983               0.000043         -0.454528                  0.831670   \n",
       "99990              -0.364191          1.260517                 -0.850267   \n",
       "99991              -0.364191          1.260517                  0.575395   \n",
       "99998               0.062676         -0.577496                  0.159868   \n",
       "99999               0.062676         -0.577496                  0.225622   \n",
       "\n",
       "       Total_EMI_per_month  Amount_invested_monthly  Monthly_Balance  \n",
       "6                -0.139504                -0.546677        -0.455534  \n",
       "7                -0.139504                -0.546677         0.124875  \n",
       "14               -0.405058                -0.126279         0.670517  \n",
       "15               -0.405058                -0.126279         0.114418  \n",
       "22                1.564883                 2.844176         3.244844  \n",
       "...                    ...                      ...              ...  \n",
       "99983             0.159480                -0.051250         0.505320  \n",
       "99990            -0.041171                -0.242142        -0.536366  \n",
       "99991            -0.041171                -0.242142         0.018763  \n",
       "99998            -0.264438                -0.487533        -0.074249  \n",
       "99999            -0.264438                -0.487533         0.306572  \n",
       "\n",
       "[25000 rows x 6 columns]"
      ]
     },
     "execution_count": 14,
     "metadata": {},
     "output_type": "execute_result"
    }
   ],
   "source": [
    "test_df[scaling_cols]"
   ]
  },
  {
   "cell_type": "code",
   "execution_count": 15,
   "metadata": {
    "collapsed": false,
    "jupyter": {
     "outputs_hidden": false
    }
   },
   "outputs": [
    {
     "name": "stdout",
     "output_type": "stream",
     "text": [
      "(75000, 22)\n",
      "(75000,)\n",
      "(25000, 22)\n",
      "(25000,)\n"
     ]
    }
   ],
   "source": [
    "X_train, y_train = train_df.iloc[:, :-1], train_df.iloc[:, -1]\n",
    "X_test, y_test = test_df.iloc[:, :-1], test_df.iloc[:, -1]\n",
    "\n",
    "print(X_train.shape)\n",
    "print(y_train.shape)\n",
    "\n",
    "print(X_test.shape)\n",
    "print(y_test.shape)"
   ]
  },
  {
   "cell_type": "code",
   "execution_count": 16,
   "metadata": {
    "collapsed": false,
    "jupyter": {
     "outputs_hidden": false
    }
   },
   "outputs": [
    {
     "data": {
      "text/html": [
       "<div>\n",
       "<style scoped>\n",
       "    .dataframe tbody tr th:only-of-type {\n",
       "        vertical-align: middle;\n",
       "    }\n",
       "\n",
       "    .dataframe tbody tr th {\n",
       "        vertical-align: top;\n",
       "    }\n",
       "\n",
       "    .dataframe thead th {\n",
       "        text-align: right;\n",
       "    }\n",
       "</style>\n",
       "<table border=\"1\" class=\"dataframe\">\n",
       "  <thead>\n",
       "    <tr style=\"text-align: right;\">\n",
       "      <th></th>\n",
       "      <th>Customer_ID</th>\n",
       "      <th>Month</th>\n",
       "      <th>Age</th>\n",
       "      <th>Occupation</th>\n",
       "      <th>Monthly_Inhand_Salary</th>\n",
       "      <th>Num_Bank_Accounts</th>\n",
       "      <th>Num_Credit_Card</th>\n",
       "      <th>Interest_Rate</th>\n",
       "      <th>Num_of_Loan</th>\n",
       "      <th>Delay_from_due_date</th>\n",
       "      <th>...</th>\n",
       "      <th>Num_Credit_Inquiries</th>\n",
       "      <th>Credit_Mix</th>\n",
       "      <th>Outstanding_Debt</th>\n",
       "      <th>Credit_Utilization_Ratio</th>\n",
       "      <th>Credit_History_Age</th>\n",
       "      <th>Payment_of_Min_Amount</th>\n",
       "      <th>Total_EMI_per_month</th>\n",
       "      <th>Amount_invested_monthly</th>\n",
       "      <th>Payment_Behaviour</th>\n",
       "      <th>Monthly_Balance</th>\n",
       "    </tr>\n",
       "  </thead>\n",
       "  <tbody>\n",
       "    <tr>\n",
       "      <th>0</th>\n",
       "      <td>576.0</td>\n",
       "      <td>1.0</td>\n",
       "      <td>3.0</td>\n",
       "      <td>12.0</td>\n",
       "      <td>-0.407299</td>\n",
       "      <td>3.0</td>\n",
       "      <td>4.0</td>\n",
       "      <td>3.0</td>\n",
       "      <td>0.0</td>\n",
       "      <td>3.0</td>\n",
       "      <td>...</td>\n",
       "      <td>4.0</td>\n",
       "      <td>2.0</td>\n",
       "      <td>-0.279953</td>\n",
       "      <td>-0.648697</td>\n",
       "      <td>1.0</td>\n",
       "      <td>1.0</td>\n",
       "      <td>-0.139504</td>\n",
       "      <td>-0.546677</td>\n",
       "      <td>2.0</td>\n",
       "      <td>-0.108344</td>\n",
       "    </tr>\n",
       "    <tr>\n",
       "      <th>1</th>\n",
       "      <td>576.0</td>\n",
       "      <td>2.0</td>\n",
       "      <td>3.0</td>\n",
       "      <td>12.0</td>\n",
       "      <td>-0.407299</td>\n",
       "      <td>3.0</td>\n",
       "      <td>4.0</td>\n",
       "      <td>3.0</td>\n",
       "      <td>0.0</td>\n",
       "      <td>3.0</td>\n",
       "      <td>...</td>\n",
       "      <td>4.0</td>\n",
       "      <td>2.0</td>\n",
       "      <td>-0.279953</td>\n",
       "      <td>-0.041010</td>\n",
       "      <td>1.0</td>\n",
       "      <td>1.0</td>\n",
       "      <td>-0.139504</td>\n",
       "      <td>-0.546677</td>\n",
       "      <td>3.0</td>\n",
       "      <td>-0.250764</td>\n",
       "    </tr>\n",
       "    <tr>\n",
       "      <th>2</th>\n",
       "      <td>576.0</td>\n",
       "      <td>3.0</td>\n",
       "      <td>3.0</td>\n",
       "      <td>12.0</td>\n",
       "      <td>-0.407299</td>\n",
       "      <td>3.0</td>\n",
       "      <td>4.0</td>\n",
       "      <td>3.0</td>\n",
       "      <td>0.0</td>\n",
       "      <td>3.0</td>\n",
       "      <td>...</td>\n",
       "      <td>4.0</td>\n",
       "      <td>2.0</td>\n",
       "      <td>-0.279953</td>\n",
       "      <td>-0.436728</td>\n",
       "      <td>1.0</td>\n",
       "      <td>1.0</td>\n",
       "      <td>-0.139504</td>\n",
       "      <td>-0.546677</td>\n",
       "      <td>4.0</td>\n",
       "      <td>-0.012686</td>\n",
       "    </tr>\n",
       "    <tr>\n",
       "      <th>3</th>\n",
       "      <td>576.0</td>\n",
       "      <td>4.0</td>\n",
       "      <td>3.0</td>\n",
       "      <td>12.0</td>\n",
       "      <td>-0.407299</td>\n",
       "      <td>3.0</td>\n",
       "      <td>4.0</td>\n",
       "      <td>3.0</td>\n",
       "      <td>0.0</td>\n",
       "      <td>5.0</td>\n",
       "      <td>...</td>\n",
       "      <td>4.0</td>\n",
       "      <td>2.0</td>\n",
       "      <td>-0.279953</td>\n",
       "      <td>-0.108287</td>\n",
       "      <td>1.0</td>\n",
       "      <td>1.0</td>\n",
       "      <td>-0.139504</td>\n",
       "      <td>-0.546677</td>\n",
       "      <td>5.0</td>\n",
       "      <td>-0.563450</td>\n",
       "    </tr>\n",
       "    <tr>\n",
       "      <th>4</th>\n",
       "      <td>576.0</td>\n",
       "      <td>5.0</td>\n",
       "      <td>3.0</td>\n",
       "      <td>12.0</td>\n",
       "      <td>-0.407299</td>\n",
       "      <td>3.0</td>\n",
       "      <td>4.0</td>\n",
       "      <td>3.0</td>\n",
       "      <td>0.0</td>\n",
       "      <td>6.0</td>\n",
       "      <td>...</td>\n",
       "      <td>4.0</td>\n",
       "      <td>2.0</td>\n",
       "      <td>-0.279953</td>\n",
       "      <td>-0.888964</td>\n",
       "      <td>1.0</td>\n",
       "      <td>1.0</td>\n",
       "      <td>-0.139504</td>\n",
       "      <td>-0.546677</td>\n",
       "      <td>1.0</td>\n",
       "      <td>0.039852</td>\n",
       "    </tr>\n",
       "    <tr>\n",
       "      <th>...</th>\n",
       "      <td>...</td>\n",
       "      <td>...</td>\n",
       "      <td>...</td>\n",
       "      <td>...</td>\n",
       "      <td>...</td>\n",
       "      <td>...</td>\n",
       "      <td>...</td>\n",
       "      <td>...</td>\n",
       "      <td>...</td>\n",
       "      <td>...</td>\n",
       "      <td>...</td>\n",
       "      <td>...</td>\n",
       "      <td>...</td>\n",
       "      <td>...</td>\n",
       "      <td>...</td>\n",
       "      <td>...</td>\n",
       "      <td>...</td>\n",
       "      <td>...</td>\n",
       "      <td>...</td>\n",
       "      <td>...</td>\n",
       "      <td>...</td>\n",
       "    </tr>\n",
       "    <tr>\n",
       "      <th>99993</th>\n",
       "      <td>9254.0</td>\n",
       "      <td>2.0</td>\n",
       "      <td>3.0</td>\n",
       "      <td>9.0</td>\n",
       "      <td>0.062676</td>\n",
       "      <td>4.0</td>\n",
       "      <td>6.0</td>\n",
       "      <td>7.0</td>\n",
       "      <td>0.0</td>\n",
       "      <td>23.0</td>\n",
       "      <td>...</td>\n",
       "      <td>3.0</td>\n",
       "      <td>2.0</td>\n",
       "      <td>-0.577496</td>\n",
       "      <td>-0.374315</td>\n",
       "      <td>1.0</td>\n",
       "      <td>1.0</td>\n",
       "      <td>-0.264438</td>\n",
       "      <td>-0.487533</td>\n",
       "      <td>4.0</td>\n",
       "      <td>0.339440</td>\n",
       "    </tr>\n",
       "    <tr>\n",
       "      <th>99994</th>\n",
       "      <td>9254.0</td>\n",
       "      <td>3.0</td>\n",
       "      <td>3.0</td>\n",
       "      <td>9.0</td>\n",
       "      <td>0.062676</td>\n",
       "      <td>4.0</td>\n",
       "      <td>6.0</td>\n",
       "      <td>7.0</td>\n",
       "      <td>0.0</td>\n",
       "      <td>20.0</td>\n",
       "      <td>...</td>\n",
       "      <td>3.0</td>\n",
       "      <td>2.0</td>\n",
       "      <td>-0.577496</td>\n",
       "      <td>0.834349</td>\n",
       "      <td>1.0</td>\n",
       "      <td>1.0</td>\n",
       "      <td>-0.264438</td>\n",
       "      <td>-0.487533</td>\n",
       "      <td>1.0</td>\n",
       "      <td>0.391326</td>\n",
       "    </tr>\n",
       "    <tr>\n",
       "      <th>99995</th>\n",
       "      <td>9254.0</td>\n",
       "      <td>4.0</td>\n",
       "      <td>3.0</td>\n",
       "      <td>9.0</td>\n",
       "      <td>0.062676</td>\n",
       "      <td>4.0</td>\n",
       "      <td>6.0</td>\n",
       "      <td>7.0</td>\n",
       "      <td>0.0</td>\n",
       "      <td>23.0</td>\n",
       "      <td>...</td>\n",
       "      <td>3.0</td>\n",
       "      <td>2.0</td>\n",
       "      <td>-0.577496</td>\n",
       "      <td>0.281512</td>\n",
       "      <td>1.0</td>\n",
       "      <td>1.0</td>\n",
       "      <td>-0.264438</td>\n",
       "      <td>-0.487533</td>\n",
       "      <td>0.0</td>\n",
       "      <td>0.747110</td>\n",
       "    </tr>\n",
       "    <tr>\n",
       "      <th>99996</th>\n",
       "      <td>9254.0</td>\n",
       "      <td>5.0</td>\n",
       "      <td>3.0</td>\n",
       "      <td>9.0</td>\n",
       "      <td>0.062676</td>\n",
       "      <td>4.0</td>\n",
       "      <td>6.0</td>\n",
       "      <td>7.0</td>\n",
       "      <td>0.0</td>\n",
       "      <td>18.0</td>\n",
       "      <td>...</td>\n",
       "      <td>3.0</td>\n",
       "      <td>2.0</td>\n",
       "      <td>-0.577496</td>\n",
       "      <td>0.981701</td>\n",
       "      <td>1.0</td>\n",
       "      <td>1.0</td>\n",
       "      <td>-0.264438</td>\n",
       "      <td>-0.487533</td>\n",
       "      <td>1.0</td>\n",
       "      <td>0.832901</td>\n",
       "    </tr>\n",
       "    <tr>\n",
       "      <th>99997</th>\n",
       "      <td>9254.0</td>\n",
       "      <td>6.0</td>\n",
       "      <td>3.0</td>\n",
       "      <td>9.0</td>\n",
       "      <td>0.062676</td>\n",
       "      <td>4.0</td>\n",
       "      <td>6.0</td>\n",
       "      <td>7.0</td>\n",
       "      <td>0.0</td>\n",
       "      <td>27.0</td>\n",
       "      <td>...</td>\n",
       "      <td>3.0</td>\n",
       "      <td>2.0</td>\n",
       "      <td>-0.577496</td>\n",
       "      <td>1.063546</td>\n",
       "      <td>1.0</td>\n",
       "      <td>1.0</td>\n",
       "      <td>-0.264438</td>\n",
       "      <td>-0.487533</td>\n",
       "      <td>0.0</td>\n",
       "      <td>0.935928</td>\n",
       "    </tr>\n",
       "  </tbody>\n",
       "</table>\n",
       "<p>75000 rows × 22 columns</p>\n",
       "</div>"
      ],
      "text/plain": [
       "       Customer_ID  Month  Age  Occupation  Monthly_Inhand_Salary  \\\n",
       "0            576.0    1.0  3.0        12.0              -0.407299   \n",
       "1            576.0    2.0  3.0        12.0              -0.407299   \n",
       "2            576.0    3.0  3.0        12.0              -0.407299   \n",
       "3            576.0    4.0  3.0        12.0              -0.407299   \n",
       "4            576.0    5.0  3.0        12.0              -0.407299   \n",
       "...            ...    ...  ...         ...                    ...   \n",
       "99993       9254.0    2.0  3.0         9.0               0.062676   \n",
       "99994       9254.0    3.0  3.0         9.0               0.062676   \n",
       "99995       9254.0    4.0  3.0         9.0               0.062676   \n",
       "99996       9254.0    5.0  3.0         9.0               0.062676   \n",
       "99997       9254.0    6.0  3.0         9.0               0.062676   \n",
       "\n",
       "       Num_Bank_Accounts  Num_Credit_Card  Interest_Rate  Num_of_Loan  \\\n",
       "0                    3.0              4.0            3.0          0.0   \n",
       "1                    3.0              4.0            3.0          0.0   \n",
       "2                    3.0              4.0            3.0          0.0   \n",
       "3                    3.0              4.0            3.0          0.0   \n",
       "4                    3.0              4.0            3.0          0.0   \n",
       "...                  ...              ...            ...          ...   \n",
       "99993                4.0              6.0            7.0          0.0   \n",
       "99994                4.0              6.0            7.0          0.0   \n",
       "99995                4.0              6.0            7.0          0.0   \n",
       "99996                4.0              6.0            7.0          0.0   \n",
       "99997                4.0              6.0            7.0          0.0   \n",
       "\n",
       "       Delay_from_due_date  ...  Num_Credit_Inquiries  Credit_Mix  \\\n",
       "0                      3.0  ...                   4.0         2.0   \n",
       "1                      3.0  ...                   4.0         2.0   \n",
       "2                      3.0  ...                   4.0         2.0   \n",
       "3                      5.0  ...                   4.0         2.0   \n",
       "4                      6.0  ...                   4.0         2.0   \n",
       "...                    ...  ...                   ...         ...   \n",
       "99993                 23.0  ...                   3.0         2.0   \n",
       "99994                 20.0  ...                   3.0         2.0   \n",
       "99995                 23.0  ...                   3.0         2.0   \n",
       "99996                 18.0  ...                   3.0         2.0   \n",
       "99997                 27.0  ...                   3.0         2.0   \n",
       "\n",
       "       Outstanding_Debt  Credit_Utilization_Ratio  Credit_History_Age  \\\n",
       "0             -0.279953                 -0.648697                 1.0   \n",
       "1             -0.279953                 -0.041010                 1.0   \n",
       "2             -0.279953                 -0.436728                 1.0   \n",
       "3             -0.279953                 -0.108287                 1.0   \n",
       "4             -0.279953                 -0.888964                 1.0   \n",
       "...                 ...                       ...                 ...   \n",
       "99993         -0.577496                 -0.374315                 1.0   \n",
       "99994         -0.577496                  0.834349                 1.0   \n",
       "99995         -0.577496                  0.281512                 1.0   \n",
       "99996         -0.577496                  0.981701                 1.0   \n",
       "99997         -0.577496                  1.063546                 1.0   \n",
       "\n",
       "       Payment_of_Min_Amount  Total_EMI_per_month  Amount_invested_monthly  \\\n",
       "0                        1.0            -0.139504                -0.546677   \n",
       "1                        1.0            -0.139504                -0.546677   \n",
       "2                        1.0            -0.139504                -0.546677   \n",
       "3                        1.0            -0.139504                -0.546677   \n",
       "4                        1.0            -0.139504                -0.546677   \n",
       "...                      ...                  ...                      ...   \n",
       "99993                    1.0            -0.264438                -0.487533   \n",
       "99994                    1.0            -0.264438                -0.487533   \n",
       "99995                    1.0            -0.264438                -0.487533   \n",
       "99996                    1.0            -0.264438                -0.487533   \n",
       "99997                    1.0            -0.264438                -0.487533   \n",
       "\n",
       "       Payment_Behaviour  Monthly_Balance  \n",
       "0                    2.0        -0.108344  \n",
       "1                    3.0        -0.250764  \n",
       "2                    4.0        -0.012686  \n",
       "3                    5.0        -0.563450  \n",
       "4                    1.0         0.039852  \n",
       "...                  ...              ...  \n",
       "99993                4.0         0.339440  \n",
       "99994                1.0         0.391326  \n",
       "99995                0.0         0.747110  \n",
       "99996                1.0         0.832901  \n",
       "99997                0.0         0.935928  \n",
       "\n",
       "[75000 rows x 22 columns]"
      ]
     },
     "execution_count": 16,
     "metadata": {},
     "output_type": "execute_result"
    }
   ],
   "source": [
    "X_train"
   ]
  },
  {
   "cell_type": "code",
   "execution_count": 17,
   "metadata": {
    "collapsed": false,
    "jupyter": {
     "outputs_hidden": false
    }
   },
   "outputs": [
    {
     "name": "stdout",
     "output_type": "stream",
     "text": [
      "Before Reshaping... :\n",
      "(75000, 22)\n",
      "(25000, 22)\n",
      "\n",
      "\n",
      "After Reshaping... : \n",
      "(75000, 22, 1)\n",
      "(25000, 22, 1)\n"
     ]
    }
   ],
   "source": [
    "sample_size = X_train.shape[0]\n",
    "num_features = X_train.shape[1]\n",
    "input_dim = 1 # each feature is represented by 1 number\n",
    "\n",
    "print('Before Reshaping... :')\n",
    "print(X_train.shape)\n",
    "print(X_test.shape)\n",
    "print('\\n')\n",
    "\n",
    "X_train_reshape = np.reshape(X_train.values, newshape=(sample_size, num_features, input_dim))\n",
    "X_test_reshape = np.reshape(X_test.values, newshape=(X_test.shape[0], num_features, input_dim))\n",
    "\n",
    "print('After Reshaping... : ')\n",
    "print(X_train_reshape.shape)\n",
    "print(X_test_reshape.shape)"
   ]
  },
  {
   "cell_type": "code",
   "execution_count": 18,
   "metadata": {
    "collapsed": false,
    "jupyter": {
     "outputs_hidden": false
    }
   },
   "outputs": [
    {
     "name": "stdout",
     "output_type": "stream",
     "text": [
      "1 Sample shape:\n",
      " (22, 1)\n",
      "An example sample:\n",
      " [[ 5.76000000e+02]\n",
      " [ 1.00000000e+00]\n",
      " [ 3.00000000e+00]\n",
      " [ 1.20000000e+01]\n",
      " [-4.07299344e-01]\n",
      " [ 3.00000000e+00]\n",
      " [ 4.00000000e+00]\n",
      " [ 3.00000000e+00]\n",
      " [ 0.00000000e+00]\n",
      " [ 3.00000000e+00]\n",
      " [ 7.00000000e+00]\n",
      " [ 0.00000000e+00]\n",
      " [ 4.00000000e+00]\n",
      " [ 2.00000000e+00]\n",
      " [-2.79952950e-01]\n",
      " [-6.48696889e-01]\n",
      " [ 1.00000000e+00]\n",
      " [ 1.00000000e+00]\n",
      " [-1.39504383e-01]\n",
      " [-5.46676997e-01]\n",
      " [ 2.00000000e+00]\n",
      " [-1.08344298e-01]]\n"
     ]
    }
   ],
   "source": [
    "print(\"1 Sample shape:\\n\", X_train_reshape[0].shape)\n",
    "print(\"An example sample:\\n\", X_train_reshape[0])"
   ]
  },
  {
   "cell_type": "code",
   "execution_count": 19,
   "metadata": {
    "collapsed": false,
    "jupyter": {
     "outputs_hidden": false
    }
   },
   "outputs": [
    {
     "data": {
      "text/plain": [
       "array([[[ 5.76000000e+02],\n",
       "        [ 1.00000000e+00],\n",
       "        [ 3.00000000e+00],\n",
       "        ...,\n",
       "        [-5.46676997e-01],\n",
       "        [ 2.00000000e+00],\n",
       "        [-1.08344298e-01]],\n",
       "\n",
       "       [[ 5.76000000e+02],\n",
       "        [ 2.00000000e+00],\n",
       "        [ 3.00000000e+00],\n",
       "        ...,\n",
       "        [-5.46676997e-01],\n",
       "        [ 3.00000000e+00],\n",
       "        [-2.50764416e-01]],\n",
       "\n",
       "       [[ 5.76000000e+02],\n",
       "        [ 3.00000000e+00],\n",
       "        [ 3.00000000e+00],\n",
       "        ...,\n",
       "        [-5.46676997e-01],\n",
       "        [ 4.00000000e+00],\n",
       "        [-1.26863108e-02]],\n",
       "\n",
       "       ...,\n",
       "\n",
       "       [[ 9.25400000e+03],\n",
       "        [ 4.00000000e+00],\n",
       "        [ 3.00000000e+00],\n",
       "        ...,\n",
       "        [-4.87533177e-01],\n",
       "        [ 0.00000000e+00],\n",
       "        [ 7.47109601e-01]],\n",
       "\n",
       "       [[ 9.25400000e+03],\n",
       "        [ 5.00000000e+00],\n",
       "        [ 3.00000000e+00],\n",
       "        ...,\n",
       "        [-4.87533177e-01],\n",
       "        [ 1.00000000e+00],\n",
       "        [ 8.32901184e-01]],\n",
       "\n",
       "       [[ 9.25400000e+03],\n",
       "        [ 6.00000000e+00],\n",
       "        [ 3.00000000e+00],\n",
       "        ...,\n",
       "        [-4.87533177e-01],\n",
       "        [ 0.00000000e+00],\n",
       "        [ 9.35927822e-01]]])"
      ]
     },
     "execution_count": 19,
     "metadata": {},
     "output_type": "execute_result"
    }
   ],
   "source": [
    "np.savez_compressed('./train_reshape_CNN', x=X_train_reshape, y=y_train)\n",
    "np.savez_compressed('./test_reshape_CNN', x=X_test_reshape, y=y_test)\n",
    "train_data = np.load('./train_reshape_CNN.npz')\n",
    "train_data['x']"
   ]
  },
  {
   "cell_type": "code",
   "execution_count": 20,
   "metadata": {
    "collapsed": false,
    "jupyter": {
     "outputs_hidden": false
    }
   },
   "outputs": [],
   "source": [
    "train_data.close()"
   ]
  },
  {
   "cell_type": "code",
   "execution_count": 21,
   "metadata": {
    "collapsed": false,
    "jupyter": {
     "outputs_hidden": false
    }
   },
   "outputs": [
    {
     "name": "stdout",
     "output_type": "stream",
     "text": [
      "(75000, 22, 1)\n",
      "(75000,)\n",
      "(25000, 22, 1)\n",
      "(25000,)\n"
     ]
    }
   ],
   "source": [
    "train_data = np.load('./train_reshape_CNN.npz')  # 구글 드라이브에 마운트해서 쓰십쇼.!! 경로 npz 올려두었습니다.\n",
    "X_train_reshape = train_data['x']\n",
    "y_train = train_data['y']\n",
    "\n",
    "print(X_train_reshape.shape)\n",
    "print(y_train.shape)\n",
    "\n",
    "train_data.close()\n",
    "test_data = np.load('./test_reshape_CNN.npz')\n",
    "X_test_reshape = test_data['x']\n",
    "y_test = test_data['y']\n",
    "\n",
    "print(X_test_reshape.shape)\n",
    "print(y_test.shape)\n",
    "\n",
    "test_data.close()"
   ]
  },
  {
   "cell_type": "code",
   "execution_count": 22,
   "metadata": {
    "collapsed": false,
    "jupyter": {
     "outputs_hidden": false
    }
   },
   "outputs": [],
   "source": [
    "from sklearn.utils.class_weight import compute_class_weight\n",
    "import pandas as pd\n",
    "import itertools # 중첩리스트 제거용"
   ]
  },
  {
   "cell_type": "code",
   "execution_count": 23,
   "metadata": {
    "collapsed": false,
    "jupyter": {
     "outputs_hidden": false
    }
   },
   "outputs": [
    {
     "data": {
      "text/plain": [
       "array([1.14773666, 0.62167404, 1.92248539])"
      ]
     },
     "execution_count": 23,
     "metadata": {},
     "output_type": "execute_result"
    }
   ],
   "source": [
    "weights = compute_class_weight(class_weight = \"balanced\" ,\n",
    "                               classes=np.unique(y_train),\n",
    "                               y = y_train)\n",
    "\n",
    "weights"
   ]
  },
  {
   "cell_type": "markdown",
   "metadata": {},
   "source": [
    "동일 weight 확인"
   ]
  },
  {
   "cell_type": "code",
   "execution_count": 24,
   "metadata": {
    "collapsed": false,
    "jupyter": {
     "outputs_hidden": false
    }
   },
   "outputs": [
    {
     "name": "stdout",
     "output_type": "stream",
     "text": [
      "24999.999999999996\n",
      "25000.0\n",
      "25000.0\n"
     ]
    }
   ],
   "source": [
    "i = 0\n",
    "for idx, label_weight in enumerate(weights):\n",
    "    if idx == i:\n",
    "        print(pd.Series(y_train).value_counts()[i] * label_weight)\n",
    "    i += 1"
   ]
  },
  {
   "cell_type": "code",
   "execution_count": 25,
   "metadata": {
    "collapsed": false,
    "jupyter": {
     "outputs_hidden": false
    }
   },
   "outputs": [
    {
     "data": {
      "text/plain": [
       "{0: 1.1477366632999724, 1: 0.6216740438653205, 2: 1.9224853891110427}"
      ]
     },
     "execution_count": 25,
     "metadata": {},
     "output_type": "execute_result"
    }
   ],
   "source": [
    "weight_dict = {k : v for k, v in enumerate(weights)}\n",
    "weight_dict"
   ]
  },
  {
   "cell_type": "code",
   "execution_count": 26,
   "metadata": {
    "collapsed": false,
    "jupyter": {
     "outputs_hidden": false
    }
   },
   "outputs": [],
   "source": [
    "import tensorflow as tf\n",
    "from time import time\n",
    "from datetime import timedelta\n",
    "from sklearn.metrics import classification_report, confusion_matrix, accuracy_score"
   ]
  },
  {
   "cell_type": "code",
   "execution_count": 27,
   "metadata": {
    "collapsed": false,
    "jupyter": {
     "outputs_hidden": false
    }
   },
   "outputs": [],
   "source": [
    "import matplotlib.pyplot as plt\n",
    "import seaborn as sns"
   ]
  },
  {
   "cell_type": "code",
   "execution_count": 28,
   "metadata": {
    "collapsed": false,
    "jupyter": {
     "outputs_hidden": false
    }
   },
   "outputs": [],
   "source": [
    "# loss와 accuracy 시각화를 위한 함수 정의\n",
    "def plot_loss(history):\n",
    "    plt.figure(figsize=(8, 5))\n",
    "    plt.plot(history.history['loss'], 'b-', label='loss')\n",
    "    plt.plot(history.history['val_loss'], 'g--', label='val_loss')\n",
    "    plt.xlabel('Epochs')\n",
    "    plt.ylabel('Loss')\n",
    "    plt.title('Loss vs Val Loss')\n",
    "    plt.legend()\n",
    "    plt.show()\n",
    "\n",
    "def plot_acc(history):\n",
    "    plt.figure(figsize=(8, 5))\n",
    "    plt.plot(history.history['acc'], 'b-', label='acc')\n",
    "    plt.plot(history.history['val_acc'], 'g--', label='val_acc')\n",
    "    plt.xlabel('Epochs')\n",
    "    plt.ylabel('Accuracy')\n",
    "    plt.title('Accuracy vs Val Accuracy')\n",
    "    plt.legend()\n",
    "    plt.show()"
   ]
  },
  {
   "cell_type": "code",
   "execution_count": 29,
   "metadata": {
    "collapsed": false,
    "jupyter": {
     "outputs_hidden": false
    }
   },
   "outputs": [],
   "source": [
    "# 결과 재활용을 위한 시드 설정 함수 정의\n",
    "import random\n",
    "def set_seed(seed: int = 42) -> None:\n",
    "    random.seed(seed)\n",
    "    np.random.seed(seed)\n",
    "    tf.random.set_seed(seed)\n",
    "    tf.experimental.numpy.random.seed(seed)\n",
    "    # When running on the CuDNN backend, two further options must be set\n",
    "    os.environ['TF_CUDNN_DETERMINISTIC'] = '1'\n",
    "    os.environ['TF_DETERMINISTIC_OPS'] = '1'\n",
    "    # Set a fixed value for the hash seed\n",
    "    os.environ[\"PYTHONHASHSEED\"] = str(seed)\n",
    "    print(f\"Random seed set as {seed}\")"
   ]
  },
  {
   "cell_type": "code",
   "execution_count": 30,
   "metadata": {
    "collapsed": false,
    "jupyter": {
     "outputs_hidden": false
    }
   },
   "outputs": [],
   "source": [
    "# 분류모델 결과 평가를 위한 혼동행렬 리포트 & 시각화 함수 정의\n",
    "def clf_report_plot(y_true, X_test, model):\n",
    "\n",
    "    result = model.predict(X_test)\n",
    "\n",
    "    y_pred = []\n",
    "    for pred in result:\n",
    "        y_pred.append(np.argmax(pred))\n",
    "\n",
    "    print(classification_report(y_true, y_pred, digits=4))\n",
    "\n",
    "    # plt.rc('font', family='NanumGothicOTF') # For MacOS\n",
    "    plt.rc('font', family='NanumGothic') # For Windows\n",
    "\n",
    "    ax = plt.subplot()\n",
    "    ax.figure.set_size_inches(10, 10)\n",
    "    cm = confusion_matrix(y_true=y_true, y_pred=y_pred)\n",
    "    sns.heatmap(cm, annot=True, fmt='.0f', cmap='Blues', ax=ax)\n",
    "\n",
    "    ax.set_title('Confusion Matrix',fontsize=20, y=1.05)\n",
    "    ax.set_xlabel('Predicted Labels', fontsize=15)\n",
    "    ax.set_ylabel('True Labels', fontsize=15)\n",
    "\n",
    "    ax.xaxis.set_ticklabels(['Poor', 'Standard', 'Good'])\n",
    "    ax.yaxis.set_ticklabels(['Poor', 'Standard', 'Good'])\n",
    "    plt.show()"
   ]
  },
  {
   "cell_type": "code",
   "execution_count": 31,
   "metadata": {
    "collapsed": false,
    "jupyter": {
     "outputs_hidden": false
    }
   },
   "outputs": [],
   "source": [
    "from tensorflow.keras.models import Sequential, load_model, Model\n",
    "\n",
    "from tensorflow.keras.layers import Dense, LSTM, Flatten\n",
    "from tensorflow.keras.layers import Conv1D, MaxPooling1D, Dropout, Input\n",
    "\n",
    "from tensorflow.keras.callbacks import EarlyStopping, ModelCheckpoint\n",
    "\n",
    "from sklearn.metrics import confusion_matrix, classification_report"
   ]
  },
  {
   "cell_type": "code",
   "execution_count": 32,
   "metadata": {
    "collapsed": false,
    "jupyter": {
     "outputs_hidden": false
    }
   },
   "outputs": [],
   "source": [
    "import os"
   ]
  },
  {
   "cell_type": "code",
   "execution_count": 35,
   "metadata": {},
   "outputs": [
    {
     "name": "stdout",
     "output_type": "stream",
     "text": [
      "Metal device set to: Apple M1 Pro\n"
     ]
    },
    {
     "name": "stderr",
     "output_type": "stream",
     "text": [
      "2022-12-24 19:14:18.325576: I tensorflow/core/common_runtime/pluggable_device/pluggable_device_factory.cc:306] Could not identify NUMA node of platform GPU ID 0, defaulting to 0. Your kernel may not have been built with NUMA support.\n",
      "2022-12-24 19:14:18.325615: I tensorflow/core/common_runtime/pluggable_device/pluggable_device_factory.cc:272] Created TensorFlow device (/device:GPU:0 with 0 MB memory) -> physical PluggableDevice (device: 0, name: METAL, pci bus id: <undefined>)\n"
     ]
    },
    {
     "data": {
      "text/plain": [
       "[name: \"/device:CPU:0\"\n",
       " device_type: \"CPU\"\n",
       " memory_limit: 268435456\n",
       " locality {\n",
       " }\n",
       " incarnation: 8844646400397932230\n",
       " xla_global_id: -1,\n",
       " name: \"/device:GPU:0\"\n",
       " device_type: \"GPU\"\n",
       " locality {\n",
       "   bus_id: 1\n",
       " }\n",
       " incarnation: 16846705338541051427\n",
       " physical_device_desc: \"device: 0, name: METAL, pci bus id: <undefined>\"\n",
       " xla_global_id: -1]"
      ]
     },
     "execution_count": 35,
     "metadata": {},
     "output_type": "execute_result"
    }
   ],
   "source": [
    "from tensorflow.python.client import device_lib\n",
    "\n",
    "device_lib.list_local_devices()"
   ]
  },
  {
   "cell_type": "code",
   "execution_count": 36,
   "metadata": {
    "collapsed": false,
    "jupyter": {
     "outputs_hidden": false
    }
   },
   "outputs": [],
   "source": [
    "num_classes = 3"
   ]
  },
  {
   "cell_type": "code",
   "execution_count": 37,
   "metadata": {
    "collapsed": false,
    "jupyter": {
     "outputs_hidden": false
    }
   },
   "outputs": [
    {
     "name": "stdout",
     "output_type": "stream",
     "text": [
      "Random seed set as 42\n"
     ]
    },
    {
     "name": "stderr",
     "output_type": "stream",
     "text": [
      "2022-12-24 19:14:24.068104: I tensorflow/core/common_runtime/pluggable_device/pluggable_device_factory.cc:306] Could not identify NUMA node of platform GPU ID 0, defaulting to 0. Your kernel may not have been built with NUMA support.\n",
      "2022-12-24 19:14:24.068158: I tensorflow/core/common_runtime/pluggable_device/pluggable_device_factory.cc:272] Created TensorFlow device (/job:localhost/replica:0/task:0/device:GPU:0 with 0 MB memory) -> physical PluggableDevice (device: 0, name: METAL, pci bus id: <undefined>)\n"
     ]
    }
   ],
   "source": [
    "set_seed(42)\n",
    "model = Sequential()\n",
    "model.add(Input(shape=(num_features, input_dim)))\n",
    "model.add(Conv1D(256, kernel_size=2, activation='relu'))\n",
    "# model.add(MaxPooling1D(pool_size=3, strides=1))\n",
    "model.add(Dropout(0.3))\n",
    "model.add(Conv1D(256, kernel_size=4, activation='relu'))\n",
    "\n",
    "model.add(Dropout(0.3))\n",
    "model.add(Conv1D(256, kernel_size=8, activation='relu'))\n",
    "# model.add(Conv1D(64, kernel_size=4, strides=4, activation='relu'))\n",
    "model.add(MaxPooling1D())\n",
    "model.add(Dropout(0.3))\n",
    "\n",
    "model.add(Flatten())\n",
    "model.add(Dense(32, activation='relu'))\n",
    "model.add(Dropout(0.3))\n",
    "\n",
    "\n",
    "model.add(Dense(num_classes, activation='softmax'))"
   ]
  },
  {
   "cell_type": "code",
   "execution_count": 38,
   "metadata": {
    "collapsed": false,
    "jupyter": {
     "outputs_hidden": false
    }
   },
   "outputs": [
    {
     "name": "stdout",
     "output_type": "stream",
     "text": [
      "Model: \"sequential\"\n",
      "_________________________________________________________________\n",
      " Layer (type)                Output Shape              Param #   \n",
      "=================================================================\n",
      " conv1d (Conv1D)             (None, 21, 256)           768       \n",
      "                                                                 \n",
      " dropout (Dropout)           (None, 21, 256)           0         \n",
      "                                                                 \n",
      " conv1d_1 (Conv1D)           (None, 18, 256)           262400    \n",
      "                                                                 \n",
      " dropout_1 (Dropout)         (None, 18, 256)           0         \n",
      "                                                                 \n",
      " conv1d_2 (Conv1D)           (None, 11, 256)           524544    \n",
      "                                                                 \n",
      " max_pooling1d (MaxPooling1D  (None, 5, 256)           0         \n",
      " )                                                               \n",
      "                                                                 \n",
      " dropout_2 (Dropout)         (None, 5, 256)            0         \n",
      "                                                                 \n",
      " flatten (Flatten)           (None, 1280)              0         \n",
      "                                                                 \n",
      " dense (Dense)               (None, 32)                40992     \n",
      "                                                                 \n",
      " dropout_3 (Dropout)         (None, 32)                0         \n",
      "                                                                 \n",
      " dense_1 (Dense)             (None, 3)                 99        \n",
      "                                                                 \n",
      "=================================================================\n",
      "Total params: 828,803\n",
      "Trainable params: 828,803\n",
      "Non-trainable params: 0\n",
      "_________________________________________________________________\n"
     ]
    }
   ],
   "source": [
    "model.summary()"
   ]
  },
  {
   "cell_type": "code",
   "execution_count": 39,
   "metadata": {
    "collapsed": false,
    "jupyter": {
     "outputs_hidden": false
    }
   },
   "outputs": [],
   "source": [
    "model.compile(optimizer='adam', loss='sparse_categorical_crossentropy', metrics=['acc'])\n",
    "\n",
    "es = EarlyStopping(monitor='val_loss', mode='min', verbose=1, patience=5)\n",
    "mc = ModelCheckpoint('weighted_cnn_best_model.h5', monitor='val_acc', mode='max', verbose=1, save_best_only=True)"
   ]
  },
  {
   "cell_type": "code",
   "execution_count": 41,
   "metadata": {
    "collapsed": false,
    "jupyter": {
     "outputs_hidden": false
    }
   },
   "outputs": [
    {
     "name": "stdout",
     "output_type": "stream",
     "text": [
      "Algorithm starts learning.....\n",
      "Epoch 1/50\n"
     ]
    },
    {
     "name": "stderr",
     "output_type": "stream",
     "text": [
      "2022-12-24 19:15:21.888828: W tensorflow/core/framework/op_kernel.cc:1830] OP_REQUIRES failed at xla_ops.cc:418 : NOT_FOUND: could not find registered platform with id: 0x299cb71c0\n",
      "2022-12-24 19:15:21.888855: W tensorflow/core/framework/op_kernel.cc:1830] OP_REQUIRES failed at xla_ops.cc:418 : NOT_FOUND: could not find registered platform with id: 0x299cb71c0\n",
      "2022-12-24 19:15:21.889230: W tensorflow/core/framework/op_kernel.cc:1830] OP_REQUIRES failed at xla_ops.cc:418 : NOT_FOUND: could not find registered platform with id: 0x299cb71c0\n",
      "2022-12-24 19:15:21.889244: W tensorflow/core/framework/op_kernel.cc:1830] OP_REQUIRES failed at xla_ops.cc:418 : NOT_FOUND: could not find registered platform with id: 0x299cb71c0\n",
      "2022-12-24 19:15:21.889868: W tensorflow/core/framework/op_kernel.cc:1830] OP_REQUIRES failed at xla_ops.cc:418 : NOT_FOUND: could not find registered platform with id: 0x299cb71c0\n",
      "2022-12-24 19:15:21.890014: W tensorflow/core/framework/op_kernel.cc:1830] OP_REQUIRES failed at xla_ops.cc:418 : NOT_FOUND: could not find registered platform with id: 0x299cb71c0\n",
      "2022-12-24 19:15:21.890565: W tensorflow/core/framework/op_kernel.cc:1830] OP_REQUIRES failed at xla_ops.cc:418 : NOT_FOUND: could not find registered platform with id: 0x299cb71c0\n",
      "2022-12-24 19:15:21.890646: W tensorflow/core/framework/op_kernel.cc:1830] OP_REQUIRES failed at xla_ops.cc:418 : NOT_FOUND: could not find registered platform with id: 0x299cb71c0\n",
      "2022-12-24 19:15:21.891062: W tensorflow/core/framework/op_kernel.cc:1830] OP_REQUIRES failed at xla_ops.cc:418 : NOT_FOUND: could not find registered platform with id: 0x299cb71c0\n",
      "2022-12-24 19:15:21.891079: W tensorflow/core/framework/op_kernel.cc:1830] OP_REQUIRES failed at xla_ops.cc:418 : NOT_FOUND: could not find registered platform with id: 0x299cb71c0\n"
     ]
    },
    {
     "ename": "NotFoundError",
     "evalue": "Graph execution error:\n\nDetected at node 'StatefulPartitionedCall_8' defined at (most recent call last):\n    File \"/Users/ben/miniforge3/envs/tf_trans/lib/python3.8/runpy.py\", line 194, in _run_module_as_main\n      return _run_code(code, main_globals, None,\n    File \"/Users/ben/miniforge3/envs/tf_trans/lib/python3.8/runpy.py\", line 87, in _run_code\n      exec(code, run_globals)\n    File \"/Users/ben/miniforge3/envs/tf_trans/lib/python3.8/site-packages/ipykernel_launcher.py\", line 17, in <module>\n      app.launch_new_instance()\n    File \"/Users/ben/miniforge3/envs/tf_trans/lib/python3.8/site-packages/traitlets/config/application.py\", line 1041, in launch_instance\n      app.start()\n    File \"/Users/ben/miniforge3/envs/tf_trans/lib/python3.8/site-packages/ipykernel/kernelapp.py\", line 711, in start\n      self.io_loop.start()\n    File \"/Users/ben/miniforge3/envs/tf_trans/lib/python3.8/site-packages/tornado/platform/asyncio.py\", line 215, in start\n      self.asyncio_loop.run_forever()\n    File \"/Users/ben/miniforge3/envs/tf_trans/lib/python3.8/asyncio/base_events.py\", line 570, in run_forever\n      self._run_once()\n    File \"/Users/ben/miniforge3/envs/tf_trans/lib/python3.8/asyncio/base_events.py\", line 1859, in _run_once\n      handle._run()\n    File \"/Users/ben/miniforge3/envs/tf_trans/lib/python3.8/asyncio/events.py\", line 81, in _run\n      self._context.run(self._callback, *self._args)\n    File \"/Users/ben/miniforge3/envs/tf_trans/lib/python3.8/site-packages/ipykernel/kernelbase.py\", line 510, in dispatch_queue\n      await self.process_one()\n    File \"/Users/ben/miniforge3/envs/tf_trans/lib/python3.8/site-packages/ipykernel/kernelbase.py\", line 499, in process_one\n      await dispatch(*args)\n    File \"/Users/ben/miniforge3/envs/tf_trans/lib/python3.8/site-packages/ipykernel/kernelbase.py\", line 406, in dispatch_shell\n      await result\n    File \"/Users/ben/miniforge3/envs/tf_trans/lib/python3.8/site-packages/ipykernel/kernelbase.py\", line 729, in execute_request\n      reply_content = await reply_content\n    File \"/Users/ben/miniforge3/envs/tf_trans/lib/python3.8/site-packages/ipykernel/ipkernel.py\", line 411, in do_execute\n      res = shell.run_cell(\n    File \"/Users/ben/miniforge3/envs/tf_trans/lib/python3.8/site-packages/ipykernel/zmqshell.py\", line 530, in run_cell\n      return super().run_cell(*args, **kwargs)\n    File \"/Users/ben/miniforge3/envs/tf_trans/lib/python3.8/site-packages/IPython/core/interactiveshell.py\", line 2940, in run_cell\n      result = self._run_cell(\n    File \"/Users/ben/miniforge3/envs/tf_trans/lib/python3.8/site-packages/IPython/core/interactiveshell.py\", line 2995, in _run_cell\n      return runner(coro)\n    File \"/Users/ben/miniforge3/envs/tf_trans/lib/python3.8/site-packages/IPython/core/async_helpers.py\", line 129, in _pseudo_sync_runner\n      coro.send(None)\n    File \"/Users/ben/miniforge3/envs/tf_trans/lib/python3.8/site-packages/IPython/core/interactiveshell.py\", line 3194, in run_cell_async\n      has_raised = await self.run_ast_nodes(code_ast.body, cell_name,\n    File \"/Users/ben/miniforge3/envs/tf_trans/lib/python3.8/site-packages/IPython/core/interactiveshell.py\", line 3373, in run_ast_nodes\n      if await self.run_code(code, result, async_=asy):\n    File \"/Users/ben/miniforge3/envs/tf_trans/lib/python3.8/site-packages/IPython/core/interactiveshell.py\", line 3433, in run_code\n      exec(code_obj, self.user_global_ns, self.user_ns)\n    File \"/var/folders/rm/1g600byx25b_ht2r9ty6b4_00000gn/T/ipykernel_37647/2942902343.py\", line 4, in <module>\n      history = model.fit(X_train_reshape, y_train, epochs=50, batch_size=64, validation_split=0.2, class_weight=weight_dict, callbacks=[es, mc] )\n    File \"/Users/ben/miniforge3/envs/tf_trans/lib/python3.8/site-packages/keras/utils/traceback_utils.py\", line 65, in error_handler\n      return fn(*args, **kwargs)\n    File \"/Users/ben/miniforge3/envs/tf_trans/lib/python3.8/site-packages/keras/engine/training.py\", line 1650, in fit\n      tmp_logs = self.train_function(iterator)\n    File \"/Users/ben/miniforge3/envs/tf_trans/lib/python3.8/site-packages/keras/engine/training.py\", line 1249, in train_function\n      return step_function(self, iterator)\n    File \"/Users/ben/miniforge3/envs/tf_trans/lib/python3.8/site-packages/keras/engine/training.py\", line 1233, in step_function\n      outputs = model.distribute_strategy.run(run_step, args=(data,))\n    File \"/Users/ben/miniforge3/envs/tf_trans/lib/python3.8/site-packages/keras/engine/training.py\", line 1222, in run_step\n      outputs = model.train_step(data)\n    File \"/Users/ben/miniforge3/envs/tf_trans/lib/python3.8/site-packages/keras/engine/training.py\", line 1027, in train_step\n      self.optimizer.minimize(loss, self.trainable_variables, tape=tape)\n    File \"/Users/ben/miniforge3/envs/tf_trans/lib/python3.8/site-packages/keras/optimizers/optimizer_experimental/optimizer.py\", line 527, in minimize\n      self.apply_gradients(grads_and_vars)\n    File \"/Users/ben/miniforge3/envs/tf_trans/lib/python3.8/site-packages/keras/optimizers/optimizer_experimental/optimizer.py\", line 1140, in apply_gradients\n      return super().apply_gradients(grads_and_vars, name=name)\n    File \"/Users/ben/miniforge3/envs/tf_trans/lib/python3.8/site-packages/keras/optimizers/optimizer_experimental/optimizer.py\", line 634, in apply_gradients\n      iteration = self._internal_apply_gradients(grads_and_vars)\n    File \"/Users/ben/miniforge3/envs/tf_trans/lib/python3.8/site-packages/keras/optimizers/optimizer_experimental/optimizer.py\", line 1166, in _internal_apply_gradients\n      return tf.__internal__.distribute.interim.maybe_merge_call(\n    File \"/Users/ben/miniforge3/envs/tf_trans/lib/python3.8/site-packages/keras/optimizers/optimizer_experimental/optimizer.py\", line 1216, in _distributed_apply_gradients_fn\n      distribution.extended.update(\n    File \"/Users/ben/miniforge3/envs/tf_trans/lib/python3.8/site-packages/keras/optimizers/optimizer_experimental/optimizer.py\", line 1211, in apply_grad_to_update_var\n      return self._update_step_xla(grad, var, id(self._var_key(var)))\nNode: 'StatefulPartitionedCall_8'\ncould not find registered platform with id: 0x299cb71c0\n\t [[{{node StatefulPartitionedCall_8}}]] [Op:__inference_train_function_1914]",
     "output_type": "error",
     "traceback": [
      "\u001b[0;31m---------------------------------------------------------------------------\u001b[0m",
      "\u001b[0;31mNotFoundError\u001b[0m                             Traceback (most recent call last)",
      "Cell \u001b[0;32mIn[41], line 4\u001b[0m\n\u001b[1;32m      1\u001b[0m \u001b[38;5;28mprint\u001b[39m(\u001b[38;5;124m'\u001b[39m\u001b[38;5;124mAlgorithm starts learning.....\u001b[39m\u001b[38;5;124m'\u001b[39m)\n\u001b[1;32m      2\u001b[0m start_time \u001b[38;5;241m=\u001b[39m time()\n\u001b[0;32m----> 4\u001b[0m history \u001b[38;5;241m=\u001b[39m \u001b[43mmodel\u001b[49m\u001b[38;5;241;43m.\u001b[39;49m\u001b[43mfit\u001b[49m\u001b[43m(\u001b[49m\u001b[43mX_train_reshape\u001b[49m\u001b[43m,\u001b[49m\u001b[43m \u001b[49m\u001b[43my_train\u001b[49m\u001b[43m,\u001b[49m\u001b[43m \u001b[49m\u001b[43mepochs\u001b[49m\u001b[38;5;241;43m=\u001b[39;49m\u001b[38;5;241;43m50\u001b[39;49m\u001b[43m,\u001b[49m\u001b[43m \u001b[49m\u001b[43mbatch_size\u001b[49m\u001b[38;5;241;43m=\u001b[39;49m\u001b[38;5;241;43m64\u001b[39;49m\u001b[43m,\u001b[49m\u001b[43m \u001b[49m\u001b[43mvalidation_split\u001b[49m\u001b[38;5;241;43m=\u001b[39;49m\u001b[38;5;241;43m0.2\u001b[39;49m\u001b[43m,\u001b[49m\u001b[43m \u001b[49m\u001b[43mclass_weight\u001b[49m\u001b[38;5;241;43m=\u001b[39;49m\u001b[43mweight_dict\u001b[49m\u001b[43m,\u001b[49m\u001b[43m \u001b[49m\u001b[43mcallbacks\u001b[49m\u001b[38;5;241;43m=\u001b[39;49m\u001b[43m[\u001b[49m\u001b[43mes\u001b[49m\u001b[43m,\u001b[49m\u001b[43m \u001b[49m\u001b[43mmc\u001b[49m\u001b[43m]\u001b[49m\u001b[43m \u001b[49m\u001b[43m)\u001b[49m\n\u001b[1;32m      6\u001b[0m \u001b[38;5;28mprint\u001b[39m(\u001b[38;5;124m\"\u001b[39m\u001b[38;5;124mLearning Durations: \u001b[39m\u001b[38;5;124m\"\u001b[39m, timedelta(seconds\u001b[38;5;241m=\u001b[39m(time() \u001b[38;5;241m-\u001b[39m start_time)))\n",
      "File \u001b[0;32m~/miniforge3/envs/tf_trans/lib/python3.8/site-packages/keras/utils/traceback_utils.py:70\u001b[0m, in \u001b[0;36mfilter_traceback.<locals>.error_handler\u001b[0;34m(*args, **kwargs)\u001b[0m\n\u001b[1;32m     67\u001b[0m     filtered_tb \u001b[38;5;241m=\u001b[39m _process_traceback_frames(e\u001b[38;5;241m.\u001b[39m__traceback__)\n\u001b[1;32m     68\u001b[0m     \u001b[38;5;66;03m# To get the full stack trace, call:\u001b[39;00m\n\u001b[1;32m     69\u001b[0m     \u001b[38;5;66;03m# `tf.debugging.disable_traceback_filtering()`\u001b[39;00m\n\u001b[0;32m---> 70\u001b[0m     \u001b[38;5;28;01mraise\u001b[39;00m e\u001b[38;5;241m.\u001b[39mwith_traceback(filtered_tb) \u001b[38;5;28;01mfrom\u001b[39;00m \u001b[38;5;28mNone\u001b[39m\n\u001b[1;32m     71\u001b[0m \u001b[38;5;28;01mfinally\u001b[39;00m:\n\u001b[1;32m     72\u001b[0m     \u001b[38;5;28;01mdel\u001b[39;00m filtered_tb\n",
      "File \u001b[0;32m~/miniforge3/envs/tf_trans/lib/python3.8/site-packages/tensorflow/python/eager/execute.py:52\u001b[0m, in \u001b[0;36mquick_execute\u001b[0;34m(op_name, num_outputs, inputs, attrs, ctx, name)\u001b[0m\n\u001b[1;32m     50\u001b[0m \u001b[38;5;28;01mtry\u001b[39;00m:\n\u001b[1;32m     51\u001b[0m   ctx\u001b[38;5;241m.\u001b[39mensure_initialized()\n\u001b[0;32m---> 52\u001b[0m   tensors \u001b[38;5;241m=\u001b[39m pywrap_tfe\u001b[38;5;241m.\u001b[39mTFE_Py_Execute(ctx\u001b[38;5;241m.\u001b[39m_handle, device_name, op_name,\n\u001b[1;32m     53\u001b[0m                                       inputs, attrs, num_outputs)\n\u001b[1;32m     54\u001b[0m \u001b[38;5;28;01mexcept\u001b[39;00m core\u001b[38;5;241m.\u001b[39m_NotOkStatusException \u001b[38;5;28;01mas\u001b[39;00m e:\n\u001b[1;32m     55\u001b[0m   \u001b[38;5;28;01mif\u001b[39;00m name \u001b[38;5;129;01mis\u001b[39;00m \u001b[38;5;129;01mnot\u001b[39;00m \u001b[38;5;28;01mNone\u001b[39;00m:\n",
      "\u001b[0;31mNotFoundError\u001b[0m: Graph execution error:\n\nDetected at node 'StatefulPartitionedCall_8' defined at (most recent call last):\n    File \"/Users/ben/miniforge3/envs/tf_trans/lib/python3.8/runpy.py\", line 194, in _run_module_as_main\n      return _run_code(code, main_globals, None,\n    File \"/Users/ben/miniforge3/envs/tf_trans/lib/python3.8/runpy.py\", line 87, in _run_code\n      exec(code, run_globals)\n    File \"/Users/ben/miniforge3/envs/tf_trans/lib/python3.8/site-packages/ipykernel_launcher.py\", line 17, in <module>\n      app.launch_new_instance()\n    File \"/Users/ben/miniforge3/envs/tf_trans/lib/python3.8/site-packages/traitlets/config/application.py\", line 1041, in launch_instance\n      app.start()\n    File \"/Users/ben/miniforge3/envs/tf_trans/lib/python3.8/site-packages/ipykernel/kernelapp.py\", line 711, in start\n      self.io_loop.start()\n    File \"/Users/ben/miniforge3/envs/tf_trans/lib/python3.8/site-packages/tornado/platform/asyncio.py\", line 215, in start\n      self.asyncio_loop.run_forever()\n    File \"/Users/ben/miniforge3/envs/tf_trans/lib/python3.8/asyncio/base_events.py\", line 570, in run_forever\n      self._run_once()\n    File \"/Users/ben/miniforge3/envs/tf_trans/lib/python3.8/asyncio/base_events.py\", line 1859, in _run_once\n      handle._run()\n    File \"/Users/ben/miniforge3/envs/tf_trans/lib/python3.8/asyncio/events.py\", line 81, in _run\n      self._context.run(self._callback, *self._args)\n    File \"/Users/ben/miniforge3/envs/tf_trans/lib/python3.8/site-packages/ipykernel/kernelbase.py\", line 510, in dispatch_queue\n      await self.process_one()\n    File \"/Users/ben/miniforge3/envs/tf_trans/lib/python3.8/site-packages/ipykernel/kernelbase.py\", line 499, in process_one\n      await dispatch(*args)\n    File \"/Users/ben/miniforge3/envs/tf_trans/lib/python3.8/site-packages/ipykernel/kernelbase.py\", line 406, in dispatch_shell\n      await result\n    File \"/Users/ben/miniforge3/envs/tf_trans/lib/python3.8/site-packages/ipykernel/kernelbase.py\", line 729, in execute_request\n      reply_content = await reply_content\n    File \"/Users/ben/miniforge3/envs/tf_trans/lib/python3.8/site-packages/ipykernel/ipkernel.py\", line 411, in do_execute\n      res = shell.run_cell(\n    File \"/Users/ben/miniforge3/envs/tf_trans/lib/python3.8/site-packages/ipykernel/zmqshell.py\", line 530, in run_cell\n      return super().run_cell(*args, **kwargs)\n    File \"/Users/ben/miniforge3/envs/tf_trans/lib/python3.8/site-packages/IPython/core/interactiveshell.py\", line 2940, in run_cell\n      result = self._run_cell(\n    File \"/Users/ben/miniforge3/envs/tf_trans/lib/python3.8/site-packages/IPython/core/interactiveshell.py\", line 2995, in _run_cell\n      return runner(coro)\n    File \"/Users/ben/miniforge3/envs/tf_trans/lib/python3.8/site-packages/IPython/core/async_helpers.py\", line 129, in _pseudo_sync_runner\n      coro.send(None)\n    File \"/Users/ben/miniforge3/envs/tf_trans/lib/python3.8/site-packages/IPython/core/interactiveshell.py\", line 3194, in run_cell_async\n      has_raised = await self.run_ast_nodes(code_ast.body, cell_name,\n    File \"/Users/ben/miniforge3/envs/tf_trans/lib/python3.8/site-packages/IPython/core/interactiveshell.py\", line 3373, in run_ast_nodes\n      if await self.run_code(code, result, async_=asy):\n    File \"/Users/ben/miniforge3/envs/tf_trans/lib/python3.8/site-packages/IPython/core/interactiveshell.py\", line 3433, in run_code\n      exec(code_obj, self.user_global_ns, self.user_ns)\n    File \"/var/folders/rm/1g600byx25b_ht2r9ty6b4_00000gn/T/ipykernel_37647/2942902343.py\", line 4, in <module>\n      history = model.fit(X_train_reshape, y_train, epochs=50, batch_size=64, validation_split=0.2, class_weight=weight_dict, callbacks=[es, mc] )\n    File \"/Users/ben/miniforge3/envs/tf_trans/lib/python3.8/site-packages/keras/utils/traceback_utils.py\", line 65, in error_handler\n      return fn(*args, **kwargs)\n    File \"/Users/ben/miniforge3/envs/tf_trans/lib/python3.8/site-packages/keras/engine/training.py\", line 1650, in fit\n      tmp_logs = self.train_function(iterator)\n    File \"/Users/ben/miniforge3/envs/tf_trans/lib/python3.8/site-packages/keras/engine/training.py\", line 1249, in train_function\n      return step_function(self, iterator)\n    File \"/Users/ben/miniforge3/envs/tf_trans/lib/python3.8/site-packages/keras/engine/training.py\", line 1233, in step_function\n      outputs = model.distribute_strategy.run(run_step, args=(data,))\n    File \"/Users/ben/miniforge3/envs/tf_trans/lib/python3.8/site-packages/keras/engine/training.py\", line 1222, in run_step\n      outputs = model.train_step(data)\n    File \"/Users/ben/miniforge3/envs/tf_trans/lib/python3.8/site-packages/keras/engine/training.py\", line 1027, in train_step\n      self.optimizer.minimize(loss, self.trainable_variables, tape=tape)\n    File \"/Users/ben/miniforge3/envs/tf_trans/lib/python3.8/site-packages/keras/optimizers/optimizer_experimental/optimizer.py\", line 527, in minimize\n      self.apply_gradients(grads_and_vars)\n    File \"/Users/ben/miniforge3/envs/tf_trans/lib/python3.8/site-packages/keras/optimizers/optimizer_experimental/optimizer.py\", line 1140, in apply_gradients\n      return super().apply_gradients(grads_and_vars, name=name)\n    File \"/Users/ben/miniforge3/envs/tf_trans/lib/python3.8/site-packages/keras/optimizers/optimizer_experimental/optimizer.py\", line 634, in apply_gradients\n      iteration = self._internal_apply_gradients(grads_and_vars)\n    File \"/Users/ben/miniforge3/envs/tf_trans/lib/python3.8/site-packages/keras/optimizers/optimizer_experimental/optimizer.py\", line 1166, in _internal_apply_gradients\n      return tf.__internal__.distribute.interim.maybe_merge_call(\n    File \"/Users/ben/miniforge3/envs/tf_trans/lib/python3.8/site-packages/keras/optimizers/optimizer_experimental/optimizer.py\", line 1216, in _distributed_apply_gradients_fn\n      distribution.extended.update(\n    File \"/Users/ben/miniforge3/envs/tf_trans/lib/python3.8/site-packages/keras/optimizers/optimizer_experimental/optimizer.py\", line 1211, in apply_grad_to_update_var\n      return self._update_step_xla(grad, var, id(self._var_key(var)))\nNode: 'StatefulPartitionedCall_8'\ncould not find registered platform with id: 0x299cb71c0\n\t [[{{node StatefulPartitionedCall_8}}]] [Op:__inference_train_function_1914]"
     ]
    }
   ],
   "source": [
    "print('Algorithm starts learning.....')\n",
    "start_time = time()\n",
    "\n",
    "history = model.fit(X_train_reshape, y_train, epochs=50, batch_size=64, validation_split=0.2, class_weight=weight_dict, callbacks=[es, mc] )\n",
    "\n",
    "print(\"Learning Durations: \", timedelta(seconds=(time() - start_time)))"
   ]
  },
  {
   "cell_type": "code",
   "execution_count": 131,
   "metadata": {
    "collapsed": false,
    "jupyter": {
     "outputs_hidden": false
    }
   },
   "outputs": [
    {
     "data": {
      "image/png": "[encoded data removed]",
      "text/plain": [
       "<Figure size 576x360 with 1 Axes>"
      ]
     },
     "metadata": {
      "needs_background": "light"
     },
     "output_type": "display_data"
    }
   ],
   "source": [
    "plot_loss(history)"
   ]
  },
  {
   "cell_type": "code",
   "execution_count": 132,
   "metadata": {
    "collapsed": false,
    "jupyter": {
     "outputs_hidden": false
    }
   },
   "outputs": [
    {
     "data": {
      "image/png": "[encoded data removed]",
      "text/plain": [
       "<Figure size 576x360 with 1 Axes>"
      ]
     },
     "metadata": {
      "needs_background": "light"
     },
     "output_type": "display_data"
    }
   ],
   "source": [
    "plot_acc(history)"
   ]
  },
  {
   "cell_type": "code",
   "execution_count": 133,
   "metadata": {
    "collapsed": false,
    "jupyter": {
     "outputs_hidden": false
    }
   },
   "outputs": [
    {
     "name": "stdout",
     "output_type": "stream",
     "text": [
      " 15/782 [..............................] - ETA: 5s - loss: 0.8479 - acc: 0.6125"
     ]
    },
    {
     "name": "stderr",
     "output_type": "stream",
     "text": [
      "2022-11-18 16:54:08.841588: I tensorflow/core/grappler/optimizers/custom_graph_optimizer_registry.cc:114] Plugin optimizer for device_type GPU is enabled.\n"
     ]
    },
    {
     "name": "stdout",
     "output_type": "stream",
     "text": [
      "782/782 [==============================] - 5s 6ms/step - loss: 0.8732 - acc: 0.6092\n",
      "Test Accuracy: 0.6091600656509399\n"
     ]
    }
   ],
   "source": [
    "best_model = load_model('./weighted_cnn_best_model.h5')\n",
    "print('Test Accuracy: {}'.format(best_model.evaluate(X_test_reshape, y_test)[1]))"
   ]
  },
  {
   "cell_type": "markdown",
   "metadata": {},
   "source": [
    "(128일 때, 62.86%)"
   ]
  },
  {
   "cell_type": "code",
   "execution_count": 134,
   "metadata": {
    "collapsed": false,
    "jupyter": {
     "outputs_hidden": false
    }
   },
   "outputs": [
    {
     "name": "stdout",
     "output_type": "stream",
     "text": [
      "2344/2344 [==============================] - 17s 7ms/step - loss: 0.6737 - acc: 0.7083\n",
      "Train Accuracy: 0.7082666754722595\n"
     ]
    }
   ],
   "source": [
    "print(\"Train Accuracy: {}\".format(best_model.evaluate(X_train_reshape, y_train)[1]))"
   ]
  },
  {
   "cell_type": "code",
   "execution_count": 135,
   "metadata": {
    "collapsed": false,
    "jupyter": {
     "outputs_hidden": false
    }
   },
   "outputs": [
    {
     "name": "stdout",
     "output_type": "stream",
     "text": [
      " 46/782 [>.............................] - ETA: 2s"
     ]
    },
    {
     "name": "stderr",
     "output_type": "stream",
     "text": [
      "2022-11-18 17:06:55.768455: I tensorflow/core/grappler/optimizers/custom_graph_optimizer_registry.cc:114] Plugin optimizer for device_type GPU is enabled.\n"
     ]
    },
    {
     "name": "stdout",
     "output_type": "stream",
     "text": [
      "782/782 [==============================] - 3s 3ms/step\n",
      "              precision    recall  f1-score   support\n",
      "\n",
      "           0     0.6735    0.5643    0.6141      7216\n",
      "           1     0.7105    0.5708    0.6330     12960\n",
      "           2     0.4401    0.7792    0.5625      4824\n",
      "\n",
      "    accuracy                         0.6092     25000\n",
      "   macro avg     0.6080    0.6381    0.6032     25000\n",
      "weighted avg     0.6476    0.6092    0.6140     25000\n",
      "\n"
     ]
    },
    {
     "data": {
      "image/png": "[encoded data removed]",
      "text/plain": [
       "<Figure size 720x720 with 2 Axes>"
      ]
     },
     "metadata": {
      "needs_background": "light"
     },
     "output_type": "display_data"
    }
   ],
   "source": [
    "clf_report_plot(y_test, X_test_reshape, best_model)"
   ]
  },
  {
   "cell_type": "code",
   "execution_count": 31,
   "metadata": {
    "collapsed": false,
    "jupyter": {
     "outputs_hidden": false
    }
   },
   "outputs": [],
   "source": []
  },
  {
   "cell_type": "markdown",
   "metadata": {},
   "source": [
    "# Validation 직접 설정 (Validation: 6월달 데이터)"
   ]
  },
  {
   "cell_type": "markdown",
   "metadata": {},
   "source": [
    "### CNN"
   ]
  },
  {
   "cell_type": "code",
   "execution_count": 39,
   "metadata": {
    "collapsed": false,
    "jupyter": {
     "outputs_hidden": false
    }
   },
   "outputs": [
    {
     "name": "stdout",
     "output_type": "stream",
     "text": [
      "(62500, 22)\n",
      "(12500, 22)\n",
      "(25000, 22)\n"
     ]
    }
   ],
   "source": [
    "train_df = df_dl[df_dl['Month'] <= 5]\n",
    "val_df = df_dl[df_dl['Month'] == 6]\n",
    "test_df = df_dl[df_dl['Month'] > 6]\n",
    "\n",
    "print(train_df.shape)\n",
    "print(val_df.shape)\n",
    "print(test_df.shape)"
   ]
  },
  {
   "cell_type": "code",
   "execution_count": 40,
   "metadata": {
    "collapsed": false,
    "jupyter": {
     "outputs_hidden": false
    }
   },
   "outputs": [
    {
     "data": {
      "text/html": [
       "<div>\n",
       "<style scoped>\n",
       "    .dataframe tbody tr th:only-of-type {\n",
       "        vertical-align: middle;\n",
       "    }\n",
       "\n",
       "    .dataframe tbody tr th {\n",
       "        vertical-align: top;\n",
       "    }\n",
       "\n",
       "    .dataframe thead th {\n",
       "        text-align: right;\n",
       "    }\n",
       "</style>\n",
       "<table border=\"1\" class=\"dataframe\">\n",
       "  <thead>\n",
       "    <tr style=\"text-align: right;\">\n",
       "      <th></th>\n",
       "      <th>Customer_ID</th>\n",
       "      <th>Month</th>\n",
       "      <th>Age</th>\n",
       "      <th>Monthly_Inhand_Salary</th>\n",
       "      <th>Num_Bank_Accounts</th>\n",
       "      <th>Num_Credit_Card</th>\n",
       "      <th>Interest_Rate</th>\n",
       "      <th>Num_of_Loan</th>\n",
       "      <th>Delay_from_due_date</th>\n",
       "      <th>Num_of_Delayed_Payment</th>\n",
       "      <th>...</th>\n",
       "      <th>Credit_Mix</th>\n",
       "      <th>Outstanding_Debt</th>\n",
       "      <th>Credit_Utilization_Ratio</th>\n",
       "      <th>Credit_History_Age</th>\n",
       "      <th>Payment_of_Min_Amount</th>\n",
       "      <th>Total_EMI_per_month</th>\n",
       "      <th>Amount_invested_monthly</th>\n",
       "      <th>Payment_Behaviour</th>\n",
       "      <th>Monthly_Balance</th>\n",
       "      <th>Credit_Score</th>\n",
       "    </tr>\n",
       "  </thead>\n",
       "  <tbody>\n",
       "    <tr>\n",
       "      <th>0</th>\n",
       "      <td>576.0</td>\n",
       "      <td>1.0</td>\n",
       "      <td>1.0</td>\n",
       "      <td>7.509249</td>\n",
       "      <td>3.0</td>\n",
       "      <td>4.0</td>\n",
       "      <td>3.0</td>\n",
       "      <td>0.0</td>\n",
       "      <td>3.0</td>\n",
       "      <td>7.0</td>\n",
       "      <td>...</td>\n",
       "      <td>2.0</td>\n",
       "      <td>28.460148</td>\n",
       "      <td>26.822620</td>\n",
       "      <td>1.0</td>\n",
       "      <td>1.0</td>\n",
       "      <td>49.574949</td>\n",
       "      <td>21.465380</td>\n",
       "      <td>2.0</td>\n",
       "      <td>312.494089</td>\n",
       "      <td>2</td>\n",
       "    </tr>\n",
       "    <tr>\n",
       "      <th>1</th>\n",
       "      <td>576.0</td>\n",
       "      <td>2.0</td>\n",
       "      <td>1.0</td>\n",
       "      <td>7.509249</td>\n",
       "      <td>3.0</td>\n",
       "      <td>4.0</td>\n",
       "      <td>3.0</td>\n",
       "      <td>0.0</td>\n",
       "      <td>3.0</td>\n",
       "      <td>4.0</td>\n",
       "      <td>...</td>\n",
       "      <td>2.0</td>\n",
       "      <td>28.460148</td>\n",
       "      <td>31.944960</td>\n",
       "      <td>1.0</td>\n",
       "      <td>1.0</td>\n",
       "      <td>49.574949</td>\n",
       "      <td>21.465380</td>\n",
       "      <td>3.0</td>\n",
       "      <td>284.629162</td>\n",
       "      <td>2</td>\n",
       "    </tr>\n",
       "    <tr>\n",
       "      <th>2</th>\n",
       "      <td>576.0</td>\n",
       "      <td>3.0</td>\n",
       "      <td>1.0</td>\n",
       "      <td>7.509249</td>\n",
       "      <td>3.0</td>\n",
       "      <td>4.0</td>\n",
       "      <td>3.0</td>\n",
       "      <td>0.0</td>\n",
       "      <td>3.0</td>\n",
       "      <td>7.0</td>\n",
       "      <td>...</td>\n",
       "      <td>2.0</td>\n",
       "      <td>28.460148</td>\n",
       "      <td>28.609352</td>\n",
       "      <td>1.0</td>\n",
       "      <td>1.0</td>\n",
       "      <td>49.574949</td>\n",
       "      <td>21.465380</td>\n",
       "      <td>4.0</td>\n",
       "      <td>331.209863</td>\n",
       "      <td>2</td>\n",
       "    </tr>\n",
       "    <tr>\n",
       "      <th>3</th>\n",
       "      <td>576.0</td>\n",
       "      <td>4.0</td>\n",
       "      <td>1.0</td>\n",
       "      <td>7.509249</td>\n",
       "      <td>3.0</td>\n",
       "      <td>4.0</td>\n",
       "      <td>3.0</td>\n",
       "      <td>0.0</td>\n",
       "      <td>5.0</td>\n",
       "      <td>4.0</td>\n",
       "      <td>...</td>\n",
       "      <td>2.0</td>\n",
       "      <td>28.460148</td>\n",
       "      <td>31.377862</td>\n",
       "      <td>1.0</td>\n",
       "      <td>1.0</td>\n",
       "      <td>49.574949</td>\n",
       "      <td>21.465380</td>\n",
       "      <td>5.0</td>\n",
       "      <td>223.451310</td>\n",
       "      <td>2</td>\n",
       "    </tr>\n",
       "    <tr>\n",
       "      <th>4</th>\n",
       "      <td>576.0</td>\n",
       "      <td>5.0</td>\n",
       "      <td>1.0</td>\n",
       "      <td>7.509249</td>\n",
       "      <td>3.0</td>\n",
       "      <td>4.0</td>\n",
       "      <td>3.0</td>\n",
       "      <td>0.0</td>\n",
       "      <td>6.0</td>\n",
       "      <td>4.0</td>\n",
       "      <td>...</td>\n",
       "      <td>2.0</td>\n",
       "      <td>28.460148</td>\n",
       "      <td>24.797347</td>\n",
       "      <td>1.0</td>\n",
       "      <td>1.0</td>\n",
       "      <td>49.574949</td>\n",
       "      <td>21.465380</td>\n",
       "      <td>1.0</td>\n",
       "      <td>341.489231</td>\n",
       "      <td>2</td>\n",
       "    </tr>\n",
       "    <tr>\n",
       "      <th>...</th>\n",
       "      <td>...</td>\n",
       "      <td>...</td>\n",
       "      <td>...</td>\n",
       "      <td>...</td>\n",
       "      <td>...</td>\n",
       "      <td>...</td>\n",
       "      <td>...</td>\n",
       "      <td>...</td>\n",
       "      <td>...</td>\n",
       "      <td>...</td>\n",
       "      <td>...</td>\n",
       "      <td>...</td>\n",
       "      <td>...</td>\n",
       "      <td>...</td>\n",
       "      <td>...</td>\n",
       "      <td>...</td>\n",
       "      <td>...</td>\n",
       "      <td>...</td>\n",
       "      <td>...</td>\n",
       "      <td>...</td>\n",
       "      <td>...</td>\n",
       "    </tr>\n",
       "    <tr>\n",
       "      <th>99992</th>\n",
       "      <td>9254.0</td>\n",
       "      <td>1.0</td>\n",
       "      <td>1.0</td>\n",
       "      <td>8.119522</td>\n",
       "      <td>4.0</td>\n",
       "      <td>6.0</td>\n",
       "      <td>7.0</td>\n",
       "      <td>0.0</td>\n",
       "      <td>23.0</td>\n",
       "      <td>6.0</td>\n",
       "      <td>...</td>\n",
       "      <td>2.0</td>\n",
       "      <td>22.413835</td>\n",
       "      <td>32.991333</td>\n",
       "      <td>1.0</td>\n",
       "      <td>1.0</td>\n",
       "      <td>35.104023</td>\n",
       "      <td>24.028477</td>\n",
       "      <td>5.0</td>\n",
       "      <td>189.641080</td>\n",
       "      <td>0</td>\n",
       "    </tr>\n",
       "    <tr>\n",
       "      <th>99993</th>\n",
       "      <td>9254.0</td>\n",
       "      <td>2.0</td>\n",
       "      <td>1.0</td>\n",
       "      <td>8.119522</td>\n",
       "      <td>4.0</td>\n",
       "      <td>6.0</td>\n",
       "      <td>7.0</td>\n",
       "      <td>0.0</td>\n",
       "      <td>23.0</td>\n",
       "      <td>6.0</td>\n",
       "      <td>...</td>\n",
       "      <td>2.0</td>\n",
       "      <td>22.413835</td>\n",
       "      <td>29.135447</td>\n",
       "      <td>1.0</td>\n",
       "      <td>1.0</td>\n",
       "      <td>35.104023</td>\n",
       "      <td>24.028477</td>\n",
       "      <td>4.0</td>\n",
       "      <td>400.104466</td>\n",
       "      <td>1</td>\n",
       "    </tr>\n",
       "    <tr>\n",
       "      <th>99994</th>\n",
       "      <td>9254.0</td>\n",
       "      <td>3.0</td>\n",
       "      <td>1.0</td>\n",
       "      <td>8.119522</td>\n",
       "      <td>4.0</td>\n",
       "      <td>6.0</td>\n",
       "      <td>7.0</td>\n",
       "      <td>0.0</td>\n",
       "      <td>20.0</td>\n",
       "      <td>6.0</td>\n",
       "      <td>...</td>\n",
       "      <td>2.0</td>\n",
       "      <td>22.413835</td>\n",
       "      <td>39.323569</td>\n",
       "      <td>1.0</td>\n",
       "      <td>1.0</td>\n",
       "      <td>35.104023</td>\n",
       "      <td>24.028477</td>\n",
       "      <td>1.0</td>\n",
       "      <td>410.256158</td>\n",
       "      <td>0</td>\n",
       "    </tr>\n",
       "    <tr>\n",
       "      <th>99995</th>\n",
       "      <td>9254.0</td>\n",
       "      <td>4.0</td>\n",
       "      <td>1.0</td>\n",
       "      <td>8.119522</td>\n",
       "      <td>4.0</td>\n",
       "      <td>6.0</td>\n",
       "      <td>7.0</td>\n",
       "      <td>0.0</td>\n",
       "      <td>23.0</td>\n",
       "      <td>7.0</td>\n",
       "      <td>...</td>\n",
       "      <td>2.0</td>\n",
       "      <td>22.413835</td>\n",
       "      <td>34.663572</td>\n",
       "      <td>1.0</td>\n",
       "      <td>1.0</td>\n",
       "      <td>35.104023</td>\n",
       "      <td>24.028477</td>\n",
       "      <td>0.0</td>\n",
       "      <td>479.866228</td>\n",
       "      <td>0</td>\n",
       "    </tr>\n",
       "    <tr>\n",
       "      <th>99996</th>\n",
       "      <td>9254.0</td>\n",
       "      <td>5.0</td>\n",
       "      <td>1.0</td>\n",
       "      <td>8.119522</td>\n",
       "      <td>4.0</td>\n",
       "      <td>6.0</td>\n",
       "      <td>7.0</td>\n",
       "      <td>0.0</td>\n",
       "      <td>18.0</td>\n",
       "      <td>7.0</td>\n",
       "      <td>...</td>\n",
       "      <td>2.0</td>\n",
       "      <td>22.413835</td>\n",
       "      <td>40.565631</td>\n",
       "      <td>1.0</td>\n",
       "      <td>1.0</td>\n",
       "      <td>35.104023</td>\n",
       "      <td>24.028477</td>\n",
       "      <td>1.0</td>\n",
       "      <td>496.651610</td>\n",
       "      <td>0</td>\n",
       "    </tr>\n",
       "  </tbody>\n",
       "</table>\n",
       "<p>62500 rows × 22 columns</p>\n",
       "</div>"
      ],
      "text/plain": [
       "       Customer_ID  Month  Age  Monthly_Inhand_Salary  Num_Bank_Accounts  \\\n",
       "0            576.0    1.0  1.0               7.509249                3.0   \n",
       "1            576.0    2.0  1.0               7.509249                3.0   \n",
       "2            576.0    3.0  1.0               7.509249                3.0   \n",
       "3            576.0    4.0  1.0               7.509249                3.0   \n",
       "4            576.0    5.0  1.0               7.509249                3.0   \n",
       "...            ...    ...  ...                    ...                ...   \n",
       "99992       9254.0    1.0  1.0               8.119522                4.0   \n",
       "99993       9254.0    2.0  1.0               8.119522                4.0   \n",
       "99994       9254.0    3.0  1.0               8.119522                4.0   \n",
       "99995       9254.0    4.0  1.0               8.119522                4.0   \n",
       "99996       9254.0    5.0  1.0               8.119522                4.0   \n",
       "\n",
       "       Num_Credit_Card  Interest_Rate  Num_of_Loan  Delay_from_due_date  \\\n",
       "0                  4.0            3.0          0.0                  3.0   \n",
       "1                  4.0            3.0          0.0                  3.0   \n",
       "2                  4.0            3.0          0.0                  3.0   \n",
       "3                  4.0            3.0          0.0                  5.0   \n",
       "4                  4.0            3.0          0.0                  6.0   \n",
       "...                ...            ...          ...                  ...   \n",
       "99992              6.0            7.0          0.0                 23.0   \n",
       "99993              6.0            7.0          0.0                 23.0   \n",
       "99994              6.0            7.0          0.0                 20.0   \n",
       "99995              6.0            7.0          0.0                 23.0   \n",
       "99996              6.0            7.0          0.0                 18.0   \n",
       "\n",
       "       Num_of_Delayed_Payment  ...  Credit_Mix  Outstanding_Debt  \\\n",
       "0                         7.0  ...         2.0         28.460148   \n",
       "1                         4.0  ...         2.0         28.460148   \n",
       "2                         7.0  ...         2.0         28.460148   \n",
       "3                         4.0  ...         2.0         28.460148   \n",
       "4                         4.0  ...         2.0         28.460148   \n",
       "...                       ...  ...         ...               ...   \n",
       "99992                     6.0  ...         2.0         22.413835   \n",
       "99993                     6.0  ...         2.0         22.413835   \n",
       "99994                     6.0  ...         2.0         22.413835   \n",
       "99995                     7.0  ...         2.0         22.413835   \n",
       "99996                     7.0  ...         2.0         22.413835   \n",
       "\n",
       "       Credit_Utilization_Ratio  Credit_History_Age  Payment_of_Min_Amount  \\\n",
       "0                     26.822620                 1.0                    1.0   \n",
       "1                     31.944960                 1.0                    1.0   \n",
       "2                     28.609352                 1.0                    1.0   \n",
       "3                     31.377862                 1.0                    1.0   \n",
       "4                     24.797347                 1.0                    1.0   \n",
       "...                         ...                 ...                    ...   \n",
       "99992                 32.991333                 1.0                    1.0   \n",
       "99993                 29.135447                 1.0                    1.0   \n",
       "99994                 39.323569                 1.0                    1.0   \n",
       "99995                 34.663572                 1.0                    1.0   \n",
       "99996                 40.565631                 1.0                    1.0   \n",
       "\n",
       "       Total_EMI_per_month  Amount_invested_monthly  Payment_Behaviour  \\\n",
       "0                49.574949                21.465380                2.0   \n",
       "1                49.574949                21.465380                3.0   \n",
       "2                49.574949                21.465380                4.0   \n",
       "3                49.574949                21.465380                5.0   \n",
       "4                49.574949                21.465380                1.0   \n",
       "...                    ...                      ...                ...   \n",
       "99992            35.104023                24.028477                5.0   \n",
       "99993            35.104023                24.028477                4.0   \n",
       "99994            35.104023                24.028477                1.0   \n",
       "99995            35.104023                24.028477                0.0   \n",
       "99996            35.104023                24.028477                1.0   \n",
       "\n",
       "       Monthly_Balance  Credit_Score  \n",
       "0           312.494089             2  \n",
       "1           284.629162             2  \n",
       "2           331.209863             2  \n",
       "3           223.451310             2  \n",
       "4           341.489231             2  \n",
       "...                ...           ...  \n",
       "99992       189.641080             0  \n",
       "99993       400.104466             1  \n",
       "99994       410.256158             0  \n",
       "99995       479.866228             0  \n",
       "99996       496.651610             0  \n",
       "\n",
       "[62500 rows x 22 columns]"
      ]
     },
     "execution_count": 40,
     "metadata": {},
     "output_type": "execute_result"
    }
   ],
   "source": [
    "train_df"
   ]
  },
  {
   "cell_type": "code",
   "execution_count": 41,
   "metadata": {
    "collapsed": false,
    "jupyter": {
     "outputs_hidden": false
    }
   },
   "outputs": [
    {
     "name": "stdout",
     "output_type": "stream",
     "text": [
      "(62500, 21)\n",
      "(62500,)\n",
      "(12500, 21)\n",
      "(12500,)\n",
      "(25000, 21)\n",
      "(25000,)\n"
     ]
    }
   ],
   "source": [
    "X_train, y_train = train_df.iloc[:, :-1], train_df.iloc[:, -1]\n",
    "X_val, y_val = val_df.iloc[:, :-1], val_df.iloc[:, -1]\n",
    "X_test, y_test = test_df.iloc[:, :-1], test_df.iloc[:, -1]\n",
    "\n",
    "print(X_train.shape)\n",
    "print(y_train.shape)\n",
    "\n",
    "print(X_val.shape)\n",
    "print(y_val.shape)\n",
    "\n",
    "print(X_test.shape)\n",
    "print(y_test.shape)"
   ]
  },
  {
   "cell_type": "code",
   "execution_count": 42,
   "metadata": {
    "collapsed": false,
    "jupyter": {
     "outputs_hidden": false
    }
   },
   "outputs": [
    {
     "data": {
      "text/html": [
       "<div>\n",
       "<style scoped>\n",
       "    .dataframe tbody tr th:only-of-type {\n",
       "        vertical-align: middle;\n",
       "    }\n",
       "\n",
       "    .dataframe tbody tr th {\n",
       "        vertical-align: top;\n",
       "    }\n",
       "\n",
       "    .dataframe thead th {\n",
       "        text-align: right;\n",
       "    }\n",
       "</style>\n",
       "<table border=\"1\" class=\"dataframe\">\n",
       "  <thead>\n",
       "    <tr style=\"text-align: right;\">\n",
       "      <th></th>\n",
       "      <th>Customer_ID</th>\n",
       "      <th>Month</th>\n",
       "      <th>Age</th>\n",
       "      <th>Monthly_Inhand_Salary</th>\n",
       "      <th>Num_Bank_Accounts</th>\n",
       "      <th>Num_Credit_Card</th>\n",
       "      <th>Interest_Rate</th>\n",
       "      <th>Num_of_Loan</th>\n",
       "      <th>Delay_from_due_date</th>\n",
       "      <th>Num_of_Delayed_Payment</th>\n",
       "      <th>...</th>\n",
       "      <th>Num_Credit_Inquiries</th>\n",
       "      <th>Credit_Mix</th>\n",
       "      <th>Outstanding_Debt</th>\n",
       "      <th>Credit_Utilization_Ratio</th>\n",
       "      <th>Credit_History_Age</th>\n",
       "      <th>Payment_of_Min_Amount</th>\n",
       "      <th>Total_EMI_per_month</th>\n",
       "      <th>Amount_invested_monthly</th>\n",
       "      <th>Payment_Behaviour</th>\n",
       "      <th>Monthly_Balance</th>\n",
       "    </tr>\n",
       "  </thead>\n",
       "  <tbody>\n",
       "    <tr>\n",
       "      <th>0</th>\n",
       "      <td>576.0</td>\n",
       "      <td>1.0</td>\n",
       "      <td>1.0</td>\n",
       "      <td>7.509249</td>\n",
       "      <td>3.0</td>\n",
       "      <td>4.0</td>\n",
       "      <td>3.0</td>\n",
       "      <td>0.0</td>\n",
       "      <td>3.0</td>\n",
       "      <td>7.0</td>\n",
       "      <td>...</td>\n",
       "      <td>4.0</td>\n",
       "      <td>2.0</td>\n",
       "      <td>28.460148</td>\n",
       "      <td>26.822620</td>\n",
       "      <td>1.0</td>\n",
       "      <td>1.0</td>\n",
       "      <td>49.574949</td>\n",
       "      <td>21.465380</td>\n",
       "      <td>2.0</td>\n",
       "      <td>312.494089</td>\n",
       "    </tr>\n",
       "    <tr>\n",
       "      <th>1</th>\n",
       "      <td>576.0</td>\n",
       "      <td>2.0</td>\n",
       "      <td>1.0</td>\n",
       "      <td>7.509249</td>\n",
       "      <td>3.0</td>\n",
       "      <td>4.0</td>\n",
       "      <td>3.0</td>\n",
       "      <td>0.0</td>\n",
       "      <td>3.0</td>\n",
       "      <td>4.0</td>\n",
       "      <td>...</td>\n",
       "      <td>4.0</td>\n",
       "      <td>2.0</td>\n",
       "      <td>28.460148</td>\n",
       "      <td>31.944960</td>\n",
       "      <td>1.0</td>\n",
       "      <td>1.0</td>\n",
       "      <td>49.574949</td>\n",
       "      <td>21.465380</td>\n",
       "      <td>3.0</td>\n",
       "      <td>284.629162</td>\n",
       "    </tr>\n",
       "    <tr>\n",
       "      <th>2</th>\n",
       "      <td>576.0</td>\n",
       "      <td>3.0</td>\n",
       "      <td>1.0</td>\n",
       "      <td>7.509249</td>\n",
       "      <td>3.0</td>\n",
       "      <td>4.0</td>\n",
       "      <td>3.0</td>\n",
       "      <td>0.0</td>\n",
       "      <td>3.0</td>\n",
       "      <td>7.0</td>\n",
       "      <td>...</td>\n",
       "      <td>4.0</td>\n",
       "      <td>2.0</td>\n",
       "      <td>28.460148</td>\n",
       "      <td>28.609352</td>\n",
       "      <td>1.0</td>\n",
       "      <td>1.0</td>\n",
       "      <td>49.574949</td>\n",
       "      <td>21.465380</td>\n",
       "      <td>4.0</td>\n",
       "      <td>331.209863</td>\n",
       "    </tr>\n",
       "    <tr>\n",
       "      <th>3</th>\n",
       "      <td>576.0</td>\n",
       "      <td>4.0</td>\n",
       "      <td>1.0</td>\n",
       "      <td>7.509249</td>\n",
       "      <td>3.0</td>\n",
       "      <td>4.0</td>\n",
       "      <td>3.0</td>\n",
       "      <td>0.0</td>\n",
       "      <td>5.0</td>\n",
       "      <td>4.0</td>\n",
       "      <td>...</td>\n",
       "      <td>4.0</td>\n",
       "      <td>2.0</td>\n",
       "      <td>28.460148</td>\n",
       "      <td>31.377862</td>\n",
       "      <td>1.0</td>\n",
       "      <td>1.0</td>\n",
       "      <td>49.574949</td>\n",
       "      <td>21.465380</td>\n",
       "      <td>5.0</td>\n",
       "      <td>223.451310</td>\n",
       "    </tr>\n",
       "    <tr>\n",
       "      <th>4</th>\n",
       "      <td>576.0</td>\n",
       "      <td>5.0</td>\n",
       "      <td>1.0</td>\n",
       "      <td>7.509249</td>\n",
       "      <td>3.0</td>\n",
       "      <td>4.0</td>\n",
       "      <td>3.0</td>\n",
       "      <td>0.0</td>\n",
       "      <td>6.0</td>\n",
       "      <td>4.0</td>\n",
       "      <td>...</td>\n",
       "      <td>4.0</td>\n",
       "      <td>2.0</td>\n",
       "      <td>28.460148</td>\n",
       "      <td>24.797347</td>\n",
       "      <td>1.0</td>\n",
       "      <td>1.0</td>\n",
       "      <td>49.574949</td>\n",
       "      <td>21.465380</td>\n",
       "      <td>1.0</td>\n",
       "      <td>341.489231</td>\n",
       "    </tr>\n",
       "    <tr>\n",
       "      <th>...</th>\n",
       "      <td>...</td>\n",
       "      <td>...</td>\n",
       "      <td>...</td>\n",
       "      <td>...</td>\n",
       "      <td>...</td>\n",
       "      <td>...</td>\n",
       "      <td>...</td>\n",
       "      <td>...</td>\n",
       "      <td>...</td>\n",
       "      <td>...</td>\n",
       "      <td>...</td>\n",
       "      <td>...</td>\n",
       "      <td>...</td>\n",
       "      <td>...</td>\n",
       "      <td>...</td>\n",
       "      <td>...</td>\n",
       "      <td>...</td>\n",
       "      <td>...</td>\n",
       "      <td>...</td>\n",
       "      <td>...</td>\n",
       "      <td>...</td>\n",
       "    </tr>\n",
       "    <tr>\n",
       "      <th>99992</th>\n",
       "      <td>9254.0</td>\n",
       "      <td>1.0</td>\n",
       "      <td>1.0</td>\n",
       "      <td>8.119522</td>\n",
       "      <td>4.0</td>\n",
       "      <td>6.0</td>\n",
       "      <td>7.0</td>\n",
       "      <td>0.0</td>\n",
       "      <td>23.0</td>\n",
       "      <td>6.0</td>\n",
       "      <td>...</td>\n",
       "      <td>3.0</td>\n",
       "      <td>2.0</td>\n",
       "      <td>22.413835</td>\n",
       "      <td>32.991333</td>\n",
       "      <td>1.0</td>\n",
       "      <td>1.0</td>\n",
       "      <td>35.104023</td>\n",
       "      <td>24.028477</td>\n",
       "      <td>5.0</td>\n",
       "      <td>189.641080</td>\n",
       "    </tr>\n",
       "    <tr>\n",
       "      <th>99993</th>\n",
       "      <td>9254.0</td>\n",
       "      <td>2.0</td>\n",
       "      <td>1.0</td>\n",
       "      <td>8.119522</td>\n",
       "      <td>4.0</td>\n",
       "      <td>6.0</td>\n",
       "      <td>7.0</td>\n",
       "      <td>0.0</td>\n",
       "      <td>23.0</td>\n",
       "      <td>6.0</td>\n",
       "      <td>...</td>\n",
       "      <td>3.0</td>\n",
       "      <td>2.0</td>\n",
       "      <td>22.413835</td>\n",
       "      <td>29.135447</td>\n",
       "      <td>1.0</td>\n",
       "      <td>1.0</td>\n",
       "      <td>35.104023</td>\n",
       "      <td>24.028477</td>\n",
       "      <td>4.0</td>\n",
       "      <td>400.104466</td>\n",
       "    </tr>\n",
       "    <tr>\n",
       "      <th>99994</th>\n",
       "      <td>9254.0</td>\n",
       "      <td>3.0</td>\n",
       "      <td>1.0</td>\n",
       "      <td>8.119522</td>\n",
       "      <td>4.0</td>\n",
       "      <td>6.0</td>\n",
       "      <td>7.0</td>\n",
       "      <td>0.0</td>\n",
       "      <td>20.0</td>\n",
       "      <td>6.0</td>\n",
       "      <td>...</td>\n",
       "      <td>3.0</td>\n",
       "      <td>2.0</td>\n",
       "      <td>22.413835</td>\n",
       "      <td>39.323569</td>\n",
       "      <td>1.0</td>\n",
       "      <td>1.0</td>\n",
       "      <td>35.104023</td>\n",
       "      <td>24.028477</td>\n",
       "      <td>1.0</td>\n",
       "      <td>410.256158</td>\n",
       "    </tr>\n",
       "    <tr>\n",
       "      <th>99995</th>\n",
       "      <td>9254.0</td>\n",
       "      <td>4.0</td>\n",
       "      <td>1.0</td>\n",
       "      <td>8.119522</td>\n",
       "      <td>4.0</td>\n",
       "      <td>6.0</td>\n",
       "      <td>7.0</td>\n",
       "      <td>0.0</td>\n",
       "      <td>23.0</td>\n",
       "      <td>7.0</td>\n",
       "      <td>...</td>\n",
       "      <td>3.0</td>\n",
       "      <td>2.0</td>\n",
       "      <td>22.413835</td>\n",
       "      <td>34.663572</td>\n",
       "      <td>1.0</td>\n",
       "      <td>1.0</td>\n",
       "      <td>35.104023</td>\n",
       "      <td>24.028477</td>\n",
       "      <td>0.0</td>\n",
       "      <td>479.866228</td>\n",
       "    </tr>\n",
       "    <tr>\n",
       "      <th>99996</th>\n",
       "      <td>9254.0</td>\n",
       "      <td>5.0</td>\n",
       "      <td>1.0</td>\n",
       "      <td>8.119522</td>\n",
       "      <td>4.0</td>\n",
       "      <td>6.0</td>\n",
       "      <td>7.0</td>\n",
       "      <td>0.0</td>\n",
       "      <td>18.0</td>\n",
       "      <td>7.0</td>\n",
       "      <td>...</td>\n",
       "      <td>3.0</td>\n",
       "      <td>2.0</td>\n",
       "      <td>22.413835</td>\n",
       "      <td>40.565631</td>\n",
       "      <td>1.0</td>\n",
       "      <td>1.0</td>\n",
       "      <td>35.104023</td>\n",
       "      <td>24.028477</td>\n",
       "      <td>1.0</td>\n",
       "      <td>496.651610</td>\n",
       "    </tr>\n",
       "  </tbody>\n",
       "</table>\n",
       "<p>62500 rows × 21 columns</p>\n",
       "</div>"
      ],
      "text/plain": [
       "       Customer_ID  Month  Age  Monthly_Inhand_Salary  Num_Bank_Accounts  \\\n",
       "0            576.0    1.0  1.0               7.509249                3.0   \n",
       "1            576.0    2.0  1.0               7.509249                3.0   \n",
       "2            576.0    3.0  1.0               7.509249                3.0   \n",
       "3            576.0    4.0  1.0               7.509249                3.0   \n",
       "4            576.0    5.0  1.0               7.509249                3.0   \n",
       "...            ...    ...  ...                    ...                ...   \n",
       "99992       9254.0    1.0  1.0               8.119522                4.0   \n",
       "99993       9254.0    2.0  1.0               8.119522                4.0   \n",
       "99994       9254.0    3.0  1.0               8.119522                4.0   \n",
       "99995       9254.0    4.0  1.0               8.119522                4.0   \n",
       "99996       9254.0    5.0  1.0               8.119522                4.0   \n",
       "\n",
       "       Num_Credit_Card  Interest_Rate  Num_of_Loan  Delay_from_due_date  \\\n",
       "0                  4.0            3.0          0.0                  3.0   \n",
       "1                  4.0            3.0          0.0                  3.0   \n",
       "2                  4.0            3.0          0.0                  3.0   \n",
       "3                  4.0            3.0          0.0                  5.0   \n",
       "4                  4.0            3.0          0.0                  6.0   \n",
       "...                ...            ...          ...                  ...   \n",
       "99992              6.0            7.0          0.0                 23.0   \n",
       "99993              6.0            7.0          0.0                 23.0   \n",
       "99994              6.0            7.0          0.0                 20.0   \n",
       "99995              6.0            7.0          0.0                 23.0   \n",
       "99996              6.0            7.0          0.0                 18.0   \n",
       "\n",
       "       Num_of_Delayed_Payment  ...  Num_Credit_Inquiries  Credit_Mix  \\\n",
       "0                         7.0  ...                   4.0         2.0   \n",
       "1                         4.0  ...                   4.0         2.0   \n",
       "2                         7.0  ...                   4.0         2.0   \n",
       "3                         4.0  ...                   4.0         2.0   \n",
       "4                         4.0  ...                   4.0         2.0   \n",
       "...                       ...  ...                   ...         ...   \n",
       "99992                     6.0  ...                   3.0         2.0   \n",
       "99993                     6.0  ...                   3.0         2.0   \n",
       "99994                     6.0  ...                   3.0         2.0   \n",
       "99995                     7.0  ...                   3.0         2.0   \n",
       "99996                     7.0  ...                   3.0         2.0   \n",
       "\n",
       "       Outstanding_Debt  Credit_Utilization_Ratio  Credit_History_Age  \\\n",
       "0             28.460148                 26.822620                 1.0   \n",
       "1             28.460148                 31.944960                 1.0   \n",
       "2             28.460148                 28.609352                 1.0   \n",
       "3             28.460148                 31.377862                 1.0   \n",
       "4             28.460148                 24.797347                 1.0   \n",
       "...                 ...                       ...                 ...   \n",
       "99992         22.413835                 32.991333                 1.0   \n",
       "99993         22.413835                 29.135447                 1.0   \n",
       "99994         22.413835                 39.323569                 1.0   \n",
       "99995         22.413835                 34.663572                 1.0   \n",
       "99996         22.413835                 40.565631                 1.0   \n",
       "\n",
       "       Payment_of_Min_Amount  Total_EMI_per_month  Amount_invested_monthly  \\\n",
       "0                        1.0            49.574949                21.465380   \n",
       "1                        1.0            49.574949                21.465380   \n",
       "2                        1.0            49.574949                21.465380   \n",
       "3                        1.0            49.574949                21.465380   \n",
       "4                        1.0            49.574949                21.465380   \n",
       "...                      ...                  ...                      ...   \n",
       "99992                    1.0            35.104023                24.028477   \n",
       "99993                    1.0            35.104023                24.028477   \n",
       "99994                    1.0            35.104023                24.028477   \n",
       "99995                    1.0            35.104023                24.028477   \n",
       "99996                    1.0            35.104023                24.028477   \n",
       "\n",
       "       Payment_Behaviour  Monthly_Balance  \n",
       "0                    2.0       312.494089  \n",
       "1                    3.0       284.629162  \n",
       "2                    4.0       331.209863  \n",
       "3                    5.0       223.451310  \n",
       "4                    1.0       341.489231  \n",
       "...                  ...              ...  \n",
       "99992                5.0       189.641080  \n",
       "99993                4.0       400.104466  \n",
       "99994                1.0       410.256158  \n",
       "99995                0.0       479.866228  \n",
       "99996                1.0       496.651610  \n",
       "\n",
       "[62500 rows x 21 columns]"
      ]
     },
     "execution_count": 42,
     "metadata": {},
     "output_type": "execute_result"
    }
   ],
   "source": [
    "X_train"
   ]
  },
  {
   "cell_type": "code",
   "execution_count": 44,
   "metadata": {
    "collapsed": false,
    "jupyter": {
     "outputs_hidden": false
    }
   },
   "outputs": [
    {
     "data": {
      "text/html": [
       "<div>\n",
       "<style scoped>\n",
       "    .dataframe tbody tr th:only-of-type {\n",
       "        vertical-align: middle;\n",
       "    }\n",
       "\n",
       "    .dataframe tbody tr th {\n",
       "        vertical-align: top;\n",
       "    }\n",
       "\n",
       "    .dataframe thead th {\n",
       "        text-align: right;\n",
       "    }\n",
       "</style>\n",
       "<table border=\"1\" class=\"dataframe\">\n",
       "  <thead>\n",
       "    <tr style=\"text-align: right;\">\n",
       "      <th></th>\n",
       "      <th>Customer_ID</th>\n",
       "      <th>Month</th>\n",
       "      <th>Age</th>\n",
       "      <th>Monthly_Inhand_Salary</th>\n",
       "      <th>Num_Bank_Accounts</th>\n",
       "      <th>Num_Credit_Card</th>\n",
       "      <th>Interest_Rate</th>\n",
       "      <th>Num_of_Loan</th>\n",
       "      <th>Delay_from_due_date</th>\n",
       "      <th>Num_of_Delayed_Payment</th>\n",
       "      <th>...</th>\n",
       "      <th>Credit_Mix</th>\n",
       "      <th>Outstanding_Debt</th>\n",
       "      <th>Credit_Utilization_Ratio</th>\n",
       "      <th>Credit_History_Age</th>\n",
       "      <th>Payment_of_Min_Amount</th>\n",
       "      <th>Total_EMI_per_month</th>\n",
       "      <th>Amount_invested_monthly</th>\n",
       "      <th>Payment_Behaviour</th>\n",
       "      <th>Monthly_Balance</th>\n",
       "      <th>Credit_Score</th>\n",
       "    </tr>\n",
       "  </thead>\n",
       "  <tbody>\n",
       "    <tr>\n",
       "      <th>5</th>\n",
       "      <td>576.0</td>\n",
       "      <td>6.0</td>\n",
       "      <td>1.0</td>\n",
       "      <td>7.509249</td>\n",
       "      <td>3.0</td>\n",
       "      <td>4.0</td>\n",
       "      <td>3.0</td>\n",
       "      <td>0.0</td>\n",
       "      <td>8.0</td>\n",
       "      <td>4.0</td>\n",
       "      <td>...</td>\n",
       "      <td>2.0</td>\n",
       "      <td>28.460148</td>\n",
       "      <td>27.262259</td>\n",
       "      <td>1.0</td>\n",
       "      <td>1.0</td>\n",
       "      <td>49.574949</td>\n",
       "      <td>21.465380</td>\n",
       "      <td>1.0</td>\n",
       "      <td>340.479212</td>\n",
       "      <td>2</td>\n",
       "    </tr>\n",
       "    <tr>\n",
       "      <th>13</th>\n",
       "      <td>1822.0</td>\n",
       "      <td>6.0</td>\n",
       "      <td>1.0</td>\n",
       "      <td>8.018950</td>\n",
       "      <td>2.0</td>\n",
       "      <td>4.0</td>\n",
       "      <td>6.0</td>\n",
       "      <td>0.0</td>\n",
       "      <td>3.0</td>\n",
       "      <td>0.0</td>\n",
       "      <td>...</td>\n",
       "      <td>2.0</td>\n",
       "      <td>24.597358</td>\n",
       "      <td>33.381010</td>\n",
       "      <td>1.0</td>\n",
       "      <td>1.0</td>\n",
       "      <td>18.816215</td>\n",
       "      <td>39.684018</td>\n",
       "      <td>0.0</td>\n",
       "      <td>481.505262</td>\n",
       "      <td>2</td>\n",
       "    </tr>\n",
       "    <tr>\n",
       "      <th>21</th>\n",
       "      <td>2641.0</td>\n",
       "      <td>6.0</td>\n",
       "      <td>1.0</td>\n",
       "      <td>9.408143</td>\n",
       "      <td>1.0</td>\n",
       "      <td>5.0</td>\n",
       "      <td>8.0</td>\n",
       "      <td>0.0</td>\n",
       "      <td>8.0</td>\n",
       "      <td>6.0</td>\n",
       "      <td>...</td>\n",
       "      <td>2.0</td>\n",
       "      <td>36.097230</td>\n",
       "      <td>39.783993</td>\n",
       "      <td>1.0</td>\n",
       "      <td>1.0</td>\n",
       "      <td>246.992319</td>\n",
       "      <td>168.413703</td>\n",
       "      <td>1.0</td>\n",
       "      <td>963.921581</td>\n",
       "      <td>2</td>\n",
       "    </tr>\n",
       "    <tr>\n",
       "      <th>29</th>\n",
       "      <td>11587.0</td>\n",
       "      <td>6.0</td>\n",
       "      <td>2.0</td>\n",
       "      <td>7.868059</td>\n",
       "      <td>2.0</td>\n",
       "      <td>5.0</td>\n",
       "      <td>4.0</td>\n",
       "      <td>0.0</td>\n",
       "      <td>5.0</td>\n",
       "      <td>6.0</td>\n",
       "      <td>...</td>\n",
       "      <td>2.0</td>\n",
       "      <td>25.148757</td>\n",
       "      <td>27.445422</td>\n",
       "      <td>1.0</td>\n",
       "      <td>1.0</td>\n",
       "      <td>16.415452</td>\n",
       "      <td>29.393311</td>\n",
       "      <td>2.0</td>\n",
       "      <td>419.880784</td>\n",
       "      <td>1</td>\n",
       "    </tr>\n",
       "    <tr>\n",
       "      <th>37</th>\n",
       "      <td>1533.0</td>\n",
       "      <td>6.0</td>\n",
       "      <td>1.0</td>\n",
       "      <td>7.956235</td>\n",
       "      <td>7.0</td>\n",
       "      <td>5.0</td>\n",
       "      <td>5.0</td>\n",
       "      <td>0.0</td>\n",
       "      <td>5.0</td>\n",
       "      <td>15.0</td>\n",
       "      <td>...</td>\n",
       "      <td>1.0</td>\n",
       "      <td>30.722305</td>\n",
       "      <td>29.217556</td>\n",
       "      <td>1.0</td>\n",
       "      <td>2.0</td>\n",
       "      <td>0.000000</td>\n",
       "      <td>37.643638</td>\n",
       "      <td>1.0</td>\n",
       "      <td>497.687279</td>\n",
       "      <td>1</td>\n",
       "    </tr>\n",
       "    <tr>\n",
       "      <th>...</th>\n",
       "      <td>...</td>\n",
       "      <td>...</td>\n",
       "      <td>...</td>\n",
       "      <td>...</td>\n",
       "      <td>...</td>\n",
       "      <td>...</td>\n",
       "      <td>...</td>\n",
       "      <td>...</td>\n",
       "      <td>...</td>\n",
       "      <td>...</td>\n",
       "      <td>...</td>\n",
       "      <td>...</td>\n",
       "      <td>...</td>\n",
       "      <td>...</td>\n",
       "      <td>...</td>\n",
       "      <td>...</td>\n",
       "      <td>...</td>\n",
       "      <td>...</td>\n",
       "      <td>...</td>\n",
       "      <td>...</td>\n",
       "      <td>...</td>\n",
       "    </tr>\n",
       "    <tr>\n",
       "      <th>99965</th>\n",
       "      <td>3229.0</td>\n",
       "      <td>6.0</td>\n",
       "      <td>0.0</td>\n",
       "      <td>8.151424</td>\n",
       "      <td>0.0</td>\n",
       "      <td>4.0</td>\n",
       "      <td>6.0</td>\n",
       "      <td>0.0</td>\n",
       "      <td>14.0</td>\n",
       "      <td>0.0</td>\n",
       "      <td>...</td>\n",
       "      <td>2.0</td>\n",
       "      <td>32.855441</td>\n",
       "      <td>35.549456</td>\n",
       "      <td>1.0</td>\n",
       "      <td>1.0</td>\n",
       "      <td>34.975457</td>\n",
       "      <td>31.193919</td>\n",
       "      <td>3.0</td>\n",
       "      <td>394.500158</td>\n",
       "      <td>2</td>\n",
       "    </tr>\n",
       "    <tr>\n",
       "      <th>99973</th>\n",
       "      <td>696.0</td>\n",
       "      <td>6.0</td>\n",
       "      <td>1.0</td>\n",
       "      <td>7.331734</td>\n",
       "      <td>1.0</td>\n",
       "      <td>1.0</td>\n",
       "      <td>5.0</td>\n",
       "      <td>0.0</td>\n",
       "      <td>1.0</td>\n",
       "      <td>0.0</td>\n",
       "      <td>...</td>\n",
       "      <td>2.0</td>\n",
       "      <td>29.952629</td>\n",
       "      <td>24.972853</td>\n",
       "      <td>1.0</td>\n",
       "      <td>1.0</td>\n",
       "      <td>41.113561</td>\n",
       "      <td>40.893052</td>\n",
       "      <td>5.0</td>\n",
       "      <td>233.301539</td>\n",
       "      <td>2</td>\n",
       "    </tr>\n",
       "    <tr>\n",
       "      <th>99981</th>\n",
       "      <td>10985.0</td>\n",
       "      <td>6.0</td>\n",
       "      <td>2.0</td>\n",
       "      <td>8.038192</td>\n",
       "      <td>1.0</td>\n",
       "      <td>4.0</td>\n",
       "      <td>5.0</td>\n",
       "      <td>0.0</td>\n",
       "      <td>5.0</td>\n",
       "      <td>12.0</td>\n",
       "      <td>...</td>\n",
       "      <td>2.0</td>\n",
       "      <td>24.912647</td>\n",
       "      <td>37.753013</td>\n",
       "      <td>1.0</td>\n",
       "      <td>0.0</td>\n",
       "      <td>84.205949</td>\n",
       "      <td>42.935566</td>\n",
       "      <td>5.0</td>\n",
       "      <td>368.154976</td>\n",
       "      <td>2</td>\n",
       "    </tr>\n",
       "    <tr>\n",
       "      <th>99989</th>\n",
       "      <td>8346.0</td>\n",
       "      <td>6.0</td>\n",
       "      <td>1.0</td>\n",
       "      <td>7.565227</td>\n",
       "      <td>10.0</td>\n",
       "      <td>8.0</td>\n",
       "      <td>29.0</td>\n",
       "      <td>1.0</td>\n",
       "      <td>33.0</td>\n",
       "      <td>25.0</td>\n",
       "      <td>...</td>\n",
       "      <td>0.0</td>\n",
       "      <td>59.763701</td>\n",
       "      <td>33.359987</td>\n",
       "      <td>0.0</td>\n",
       "      <td>2.0</td>\n",
       "      <td>60.964772</td>\n",
       "      <td>34.662906</td>\n",
       "      <td>5.0</td>\n",
       "      <td>307.659291</td>\n",
       "      <td>1</td>\n",
       "    </tr>\n",
       "    <tr>\n",
       "      <th>99997</th>\n",
       "      <td>9254.0</td>\n",
       "      <td>6.0</td>\n",
       "      <td>1.0</td>\n",
       "      <td>8.119522</td>\n",
       "      <td>4.0</td>\n",
       "      <td>6.0</td>\n",
       "      <td>7.0</td>\n",
       "      <td>0.0</td>\n",
       "      <td>27.0</td>\n",
       "      <td>6.0</td>\n",
       "      <td>...</td>\n",
       "      <td>2.0</td>\n",
       "      <td>22.413835</td>\n",
       "      <td>41.255522</td>\n",
       "      <td>1.0</td>\n",
       "      <td>1.0</td>\n",
       "      <td>35.104023</td>\n",
       "      <td>24.028477</td>\n",
       "      <td>0.0</td>\n",
       "      <td>516.809083</td>\n",
       "      <td>0</td>\n",
       "    </tr>\n",
       "  </tbody>\n",
       "</table>\n",
       "<p>12500 rows × 22 columns</p>\n",
       "</div>"
      ],
      "text/plain": [
       "       Customer_ID  Month  Age  Monthly_Inhand_Salary  Num_Bank_Accounts  \\\n",
       "5            576.0    6.0  1.0               7.509249                3.0   \n",
       "13          1822.0    6.0  1.0               8.018950                2.0   \n",
       "21          2641.0    6.0  1.0               9.408143                1.0   \n",
       "29         11587.0    6.0  2.0               7.868059                2.0   \n",
       "37          1533.0    6.0  1.0               7.956235                7.0   \n",
       "...            ...    ...  ...                    ...                ...   \n",
       "99965       3229.0    6.0  0.0               8.151424                0.0   \n",
       "99973        696.0    6.0  1.0               7.331734                1.0   \n",
       "99981      10985.0    6.0  2.0               8.038192                1.0   \n",
       "99989       8346.0    6.0  1.0               7.565227               10.0   \n",
       "99997       9254.0    6.0  1.0               8.119522                4.0   \n",
       "\n",
       "       Num_Credit_Card  Interest_Rate  Num_of_Loan  Delay_from_due_date  \\\n",
       "5                  4.0            3.0          0.0                  8.0   \n",
       "13                 4.0            6.0          0.0                  3.0   \n",
       "21                 5.0            8.0          0.0                  8.0   \n",
       "29                 5.0            4.0          0.0                  5.0   \n",
       "37                 5.0            5.0          0.0                  5.0   \n",
       "...                ...            ...          ...                  ...   \n",
       "99965              4.0            6.0          0.0                 14.0   \n",
       "99973              1.0            5.0          0.0                  1.0   \n",
       "99981              4.0            5.0          0.0                  5.0   \n",
       "99989              8.0           29.0          1.0                 33.0   \n",
       "99997              6.0            7.0          0.0                 27.0   \n",
       "\n",
       "       Num_of_Delayed_Payment  ...  Credit_Mix  Outstanding_Debt  \\\n",
       "5                         4.0  ...         2.0         28.460148   \n",
       "13                        0.0  ...         2.0         24.597358   \n",
       "21                        6.0  ...         2.0         36.097230   \n",
       "29                        6.0  ...         2.0         25.148757   \n",
       "37                       15.0  ...         1.0         30.722305   \n",
       "...                       ...  ...         ...               ...   \n",
       "99965                     0.0  ...         2.0         32.855441   \n",
       "99973                     0.0  ...         2.0         29.952629   \n",
       "99981                    12.0  ...         2.0         24.912647   \n",
       "99989                    25.0  ...         0.0         59.763701   \n",
       "99997                     6.0  ...         2.0         22.413835   \n",
       "\n",
       "       Credit_Utilization_Ratio  Credit_History_Age  Payment_of_Min_Amount  \\\n",
       "5                     27.262259                 1.0                    1.0   \n",
       "13                    33.381010                 1.0                    1.0   \n",
       "21                    39.783993                 1.0                    1.0   \n",
       "29                    27.445422                 1.0                    1.0   \n",
       "37                    29.217556                 1.0                    2.0   \n",
       "...                         ...                 ...                    ...   \n",
       "99965                 35.549456                 1.0                    1.0   \n",
       "99973                 24.972853                 1.0                    1.0   \n",
       "99981                 37.753013                 1.0                    0.0   \n",
       "99989                 33.359987                 0.0                    2.0   \n",
       "99997                 41.255522                 1.0                    1.0   \n",
       "\n",
       "       Total_EMI_per_month  Amount_invested_monthly  Payment_Behaviour  \\\n",
       "5                49.574949                21.465380                1.0   \n",
       "13               18.816215                39.684018                0.0   \n",
       "21              246.992319               168.413703                1.0   \n",
       "29               16.415452                29.393311                2.0   \n",
       "37                0.000000                37.643638                1.0   \n",
       "...                    ...                      ...                ...   \n",
       "99965            34.975457                31.193919                3.0   \n",
       "99973            41.113561                40.893052                5.0   \n",
       "99981            84.205949                42.935566                5.0   \n",
       "99989            60.964772                34.662906                5.0   \n",
       "99997            35.104023                24.028477                0.0   \n",
       "\n",
       "       Monthly_Balance  Credit_Score  \n",
       "5           340.479212             2  \n",
       "13          481.505262             2  \n",
       "21          963.921581             2  \n",
       "29          419.880784             1  \n",
       "37          497.687279             1  \n",
       "...                ...           ...  \n",
       "99965       394.500158             2  \n",
       "99973       233.301539             2  \n",
       "99981       368.154976             2  \n",
       "99989       307.659291             1  \n",
       "99997       516.809083             0  \n",
       "\n",
       "[12500 rows x 22 columns]"
      ]
     },
     "execution_count": 44,
     "metadata": {},
     "output_type": "execute_result"
    }
   ],
   "source": [
    "val_df"
   ]
  },
  {
   "cell_type": "code",
   "execution_count": 45,
   "metadata": {
    "collapsed": false,
    "jupyter": {
     "outputs_hidden": false
    }
   },
   "outputs": [
    {
     "name": "stderr",
     "output_type": "stream",
     "text": [
      "/var/folders/rm/1g600byx25b_ht2r9ty6b4_00000gn/T/ipykernel_83207/1095217032.py:13: SettingWithCopyWarning: \n",
      "A value is trying to be set on a copy of a slice from a DataFrame.\n",
      "Try using .loc[row_indexer,col_indexer] = value instead\n",
      "\n",
      "See the caveats in the documentation: https://pandas.pydata.org/pandas-docs/stable/user_guide/indexing.html#returning-a-view-versus-a-copy\n",
      "  train_df[scaling_cols] = rs_train_df\n",
      "/var/folders/rm/1g600byx25b_ht2r9ty6b4_00000gn/T/ipykernel_83207/1095217032.py:14: SettingWithCopyWarning: \n",
      "A value is trying to be set on a copy of a slice from a DataFrame.\n",
      "Try using .loc[row_indexer,col_indexer] = value instead\n",
      "\n",
      "See the caveats in the documentation: https://pandas.pydata.org/pandas-docs/stable/user_guide/indexing.html#returning-a-view-versus-a-copy\n",
      "  val_df[scaling_cols] = rs_val_df\n",
      "/var/folders/rm/1g600byx25b_ht2r9ty6b4_00000gn/T/ipykernel_83207/1095217032.py:15: SettingWithCopyWarning: \n",
      "A value is trying to be set on a copy of a slice from a DataFrame.\n",
      "Try using .loc[row_indexer,col_indexer] = value instead\n",
      "\n",
      "See the caveats in the documentation: https://pandas.pydata.org/pandas-docs/stable/user_guide/indexing.html#returning-a-view-versus-a-copy\n",
      "  test_df[scaling_cols] = rs_test_df\n"
     ]
    }
   ],
   "source": [
    "scaling_cols = ['Monthly_Inhand_Salary', 'Outstanding_Debt', 'Credit_Utilization_Ratio', 'Total_EMI_per_month',\n",
    "                'Amount_invested_monthly', 'Monthly_Balance']\n",
    "rs = RobustScaler()\n",
    "\n",
    "rs_train_df = train_df[scaling_cols].copy()\n",
    "rs_val_df = val_df[scaling_cols].copy()\n",
    "rs_test_df = test_df[scaling_cols].copy()\n",
    "\n",
    "rs_train_df = rs.fit_transform(rs_train_df)\n",
    "rs_val_df = rs.fit_transform(rs_val_df)\n",
    "rs_test_df = rs.transform(rs_test_df)\n",
    "\n",
    "train_df[scaling_cols] = rs_train_df\n",
    "val_df[scaling_cols] = rs_val_df\n",
    "test_df[scaling_cols] = rs_test_df"
   ]
  },
  {
   "cell_type": "code",
   "execution_count": 46,
   "metadata": {
    "collapsed": false,
    "jupyter": {
     "outputs_hidden": false
    }
   },
   "outputs": [
    {
     "name": "stdout",
     "output_type": "stream",
     "text": [
      "Before Reshaping... :\n",
      "(62500, 21)\n",
      "(12500, 21)\n",
      "(25000, 21)\n",
      "\n",
      "\n",
      "After Reshaping... : \n",
      "(62500, 21, 1)\n",
      "(12500, 21, 1)\n",
      "(25000, 21, 1)\n"
     ]
    }
   ],
   "source": [
    "sample_size = X_train.shape[0]\n",
    "num_features = X_train.shape[1]\n",
    "input_dim = 1 # each feature is represented by 1 number\n",
    "\n",
    "print('Before Reshaping... :')\n",
    "print(X_train.shape)\n",
    "print(X_val.shape)\n",
    "print(X_test.shape)\n",
    "print('\\n')\n",
    "\n",
    "X_train_reshape = np.reshape(X_train.values, newshape=(sample_size, num_features, input_dim))\n",
    "X_val_reshape = np.reshape(X_val.values, newshape=(X_val.shape[0], num_features, input_dim))\n",
    "X_test_reshape = np.reshape(X_test.values, newshape=(X_test.shape[0], num_features, input_dim))\n",
    "\n",
    "print('After Reshaping... : ')\n",
    "print(X_train_reshape.shape)\n",
    "print(X_val_reshape.shape)\n",
    "print(X_test_reshape.shape)"
   ]
  },
  {
   "cell_type": "code",
   "execution_count": 66,
   "metadata": {
    "collapsed": false,
    "jupyter": {
     "outputs_hidden": false
    }
   },
   "outputs": [
    {
     "name": "stdout",
     "output_type": "stream",
     "text": [
      "1 Sample shape:\n",
      " (21, 1)\n",
      "An example sample:\n",
      " [[576.        ]\n",
      " [  1.        ]\n",
      " [  1.        ]\n",
      " [  7.50924942]\n",
      " [  3.        ]\n",
      " [  4.        ]\n",
      " [  3.        ]\n",
      " [  0.        ]\n",
      " [  3.        ]\n",
      " [  7.        ]\n",
      " [  0.        ]\n",
      " [  4.        ]\n",
      " [  2.        ]\n",
      " [ 28.46014758]\n",
      " [ 26.82261962]\n",
      " [  1.        ]\n",
      " [  1.        ]\n",
      " [ 49.57494921]\n",
      " [ 21.46538026]\n",
      " [  2.        ]\n",
      " [312.49408868]]\n"
     ]
    }
   ],
   "source": [
    "print(\"1 Sample shape:\\n\", X_train_reshape[0].shape)\n",
    "print(\"An example sample:\\n\", X_train_reshape[0])"
   ]
  },
  {
   "cell_type": "code",
   "execution_count": 69,
   "metadata": {
    "collapsed": false,
    "jupyter": {
     "outputs_hidden": false
    }
   },
   "outputs": [],
   "source": [
    "np.savez_compressed('./train_reshape_CNN', x=X_train_reshape, y=y_train)\n",
    "np.savez_compressed('./val_reshape_CNN', x=X_val_reshape, y=y_val)\n",
    "np.savez_compressed('./test_reshape_CNN', x=X_test_reshape, y=y_test)"
   ]
  },
  {
   "cell_type": "code",
   "execution_count": 70,
   "metadata": {
    "collapsed": false,
    "jupyter": {
     "outputs_hidden": false
    }
   },
   "outputs": [],
   "source": [
    "train_data = np.load('./train_reshape_CNN.npz')"
   ]
  },
  {
   "cell_type": "code",
   "execution_count": 79,
   "metadata": {
    "collapsed": false,
    "jupyter": {
     "outputs_hidden": false
    }
   },
   "outputs": [
    {
     "data": {
      "text/plain": [
       "array([[[5.76000000e+02],\n",
       "        [1.00000000e+00],\n",
       "        [1.00000000e+00],\n",
       "        ...,\n",
       "        [2.14653803e+01],\n",
       "        [2.00000000e+00],\n",
       "        [3.12494089e+02]],\n",
       "\n",
       "       [[5.76000000e+02],\n",
       "        [2.00000000e+00],\n",
       "        [1.00000000e+00],\n",
       "        ...,\n",
       "        [2.14653803e+01],\n",
       "        [3.00000000e+00],\n",
       "        [2.84629162e+02]],\n",
       "\n",
       "       [[5.76000000e+02],\n",
       "        [3.00000000e+00],\n",
       "        [1.00000000e+00],\n",
       "        ...,\n",
       "        [2.14653803e+01],\n",
       "        [4.00000000e+00],\n",
       "        [3.31209863e+02]],\n",
       "\n",
       "       ...,\n",
       "\n",
       "       [[9.25400000e+03],\n",
       "        [3.00000000e+00],\n",
       "        [1.00000000e+00],\n",
       "        ...,\n",
       "        [2.40284774e+01],\n",
       "        [1.00000000e+00],\n",
       "        [4.10256158e+02]],\n",
       "\n",
       "       [[9.25400000e+03],\n",
       "        [4.00000000e+00],\n",
       "        [1.00000000e+00],\n",
       "        ...,\n",
       "        [2.40284774e+01],\n",
       "        [0.00000000e+00],\n",
       "        [4.79866228e+02]],\n",
       "\n",
       "       [[9.25400000e+03],\n",
       "        [5.00000000e+00],\n",
       "        [1.00000000e+00],\n",
       "        ...,\n",
       "        [2.40284774e+01],\n",
       "        [1.00000000e+00],\n",
       "        [4.96651610e+02]]])"
      ]
     },
     "execution_count": 79,
     "metadata": {},
     "output_type": "execute_result"
    }
   ],
   "source": [
    "train_data['x']"
   ]
  },
  {
   "cell_type": "code",
   "execution_count": 80,
   "metadata": {
    "collapsed": false,
    "jupyter": {
     "outputs_hidden": false
    }
   },
   "outputs": [],
   "source": [
    "train_data.close()"
   ]
  },
  {
   "cell_type": "code",
   "execution_count": null,
   "metadata": {
    "collapsed": false,
    "jupyter": {
     "outputs_hidden": false
    }
   },
   "outputs": [],
   "source": []
  },
  {
   "cell_type": "code",
   "execution_count": 48,
   "metadata": {
    "collapsed": false,
    "jupyter": {
     "outputs_hidden": false
    }
   },
   "outputs": [],
   "source": [
    "import tensorflow as tf\n",
    "from time import time\n",
    "from datetime import timedelta\n",
    "from sklearn.metrics import classification_report, confusion_matrix, accuracy_score"
   ]
  },
  {
   "cell_type": "code",
   "execution_count": 49,
   "metadata": {
    "collapsed": false,
    "jupyter": {
     "outputs_hidden": false
    }
   },
   "outputs": [],
   "source": [
    "import matplotlib.pyplot as plt\n",
    "import seaborn as sns"
   ]
  },
  {
   "cell_type": "code",
   "execution_count": 50,
   "metadata": {
    "collapsed": false,
    "jupyter": {
     "outputs_hidden": false
    }
   },
   "outputs": [],
   "source": [
    "# loss와 accuracy 시각화를 위한 함수 정의\n",
    "def plot_loss(history):\n",
    "    plt.figure(figsize=(8, 5))\n",
    "    plt.plot(history.history['loss'], 'b-', label='loss')\n",
    "    plt.plot(history.history['val_loss'], 'g--', label='val_loss')\n",
    "    plt.xlabel('Epochs')\n",
    "    plt.ylabel('Loss')\n",
    "    plt.title('Loss vs Val Loss')\n",
    "    plt.legend()\n",
    "    plt.show()\n",
    "\n",
    "def plot_acc(history):\n",
    "    plt.figure(figsize=(8, 5))\n",
    "    plt.plot(history.history['acc'], 'b-', label='acc')\n",
    "    plt.plot(history.history['val_acc'], 'g--', label='val_acc')\n",
    "    plt.xlabel('Epochs')\n",
    "    plt.ylabel('Accuracy')\n",
    "    plt.title('Accuracy vs Val Accuracy')\n",
    "    plt.legend()\n",
    "    plt.show()"
   ]
  },
  {
   "cell_type": "code",
   "execution_count": 51,
   "metadata": {
    "collapsed": false,
    "jupyter": {
     "outputs_hidden": false
    }
   },
   "outputs": [],
   "source": [
    "# 결과 재활용을 위한 시드 설정 함수 정의\n",
    "import random\n",
    "def set_seed(seed: int = 42) -> None:\n",
    "    random.seed(seed)\n",
    "    np.random.seed(seed)\n",
    "    tf.random.set_seed(seed)\n",
    "    tf.experimental.numpy.random.seed(seed)\n",
    "    # When running on the CuDNN backend, two further options must be set\n",
    "    os.environ['TF_CUDNN_DETERMINISTIC'] = '1'\n",
    "    os.environ['TF_DETERMINISTIC_OPS'] = '1'\n",
    "    # Set a fixed value for the hash seed\n",
    "    os.environ[\"PYTHONHASHSEED\"] = str(seed)\n",
    "    print(f\"Random seed set as {seed}\")"
   ]
  },
  {
   "cell_type": "code",
   "execution_count": 52,
   "metadata": {
    "collapsed": false,
    "jupyter": {
     "outputs_hidden": false
    }
   },
   "outputs": [],
   "source": [
    "# 분류모델 결과 평가를 위한 혼동행렬 리포트 & 시각화 함수 정의\n",
    "def clf_report_plot(y_true, X_test, model):\n",
    "\n",
    "    result = model.predict(X_test)\n",
    "\n",
    "    y_pred = []\n",
    "    for pred in result:\n",
    "        y_pred.append(np.argmax(pred))\n",
    "\n",
    "    print(classification_report(y_true, y_pred, digits=4))\n",
    "\n",
    "    # plt.rc('font', family='NanumGothicOTF') # For MacOS\n",
    "    plt.rc('font', family='NanumGothic') # For Windows\n",
    "\n",
    "    ax = plt.subplot()\n",
    "    ax.figure.set_size_inches(10, 10)\n",
    "    cm = confusion_matrix(y_true=y_true, y_pred=y_pred)\n",
    "    sns.heatmap(cm, annot=True, fmt='.0f', cmap='Blues', ax=ax)\n",
    "\n",
    "    ax.set_title('Confusion Matrix',fontsize=20, y=1.05)\n",
    "    ax.set_xlabel('Predicted Labels', fontsize=15)\n",
    "    ax.set_ylabel('True Labels', fontsize=15)\n",
    "\n",
    "    ax.xaxis.set_ticklabels(['Poor', 'Standard', 'Good'])\n",
    "    ax.yaxis.set_ticklabels(['Poor', 'Standard', 'Good'])\n",
    "    plt.show()"
   ]
  },
  {
   "cell_type": "code",
   "execution_count": 53,
   "metadata": {
    "collapsed": false,
    "jupyter": {
     "outputs_hidden": false
    }
   },
   "outputs": [],
   "source": [
    "from tensorflow.keras.models import Sequential, load_model, Model\n",
    "\n",
    "from tensorflow.keras.layers import Dense, LSTM, Flatten\n",
    "from tensorflow.keras.layers import Conv1D, MaxPooling1D, Dropout, Input\n",
    "\n",
    "from tensorflow.keras.callbacks import EarlyStopping, ModelCheckpoint\n",
    "\n",
    "from sklearn.metrics import confusion_matrix, classification_report"
   ]
  },
  {
   "cell_type": "code",
   "execution_count": 54,
   "metadata": {
    "collapsed": false,
    "jupyter": {
     "outputs_hidden": false
    }
   },
   "outputs": [],
   "source": [
    "import os"
   ]
  },
  {
   "cell_type": "code",
   "execution_count": 55,
   "metadata": {
    "collapsed": false,
    "jupyter": {
     "outputs_hidden": false
    }
   },
   "outputs": [],
   "source": [
    "num_classes = 3"
   ]
  },
  {
   "cell_type": "code",
   "execution_count": 56,
   "metadata": {
    "collapsed": false,
    "jupyter": {
     "outputs_hidden": false
    }
   },
   "outputs": [
    {
     "name": "stdout",
     "output_type": "stream",
     "text": [
      "Random seed set as 42\n"
     ]
    }
   ],
   "source": [
    "set_seed(42)\n",
    "model = Sequential()\n",
    "model.add(Input(shape=(num_features, input_dim)))\n",
    "model.add(Conv1D(256, kernel_size=2, activation='relu'))\n",
    "# model.add(MaxPooling1D(pool_size=3, strides=1))\n",
    "model.add(Dropout(0.3))\n",
    "model.add(Conv1D(256, kernel_size=4, activation='relu'))\n",
    "\n",
    "model.add(Dropout(0.3))\n",
    "model.add(Conv1D(256, kernel_size=8, activation='relu'))\n",
    "# model.add(Conv1D(64, kernel_size=4, strides=4, activation='relu'))\n",
    "model.add(MaxPooling1D())\n",
    "model.add(Dropout(0.3))\n",
    "\n",
    "model.add(Flatten())\n",
    "model.add(Dense(32, activation='relu'))\n",
    "model.add(Dropout(0.3))\n",
    "\n",
    "\n",
    "model.add(Dense(num_classes, activation='softmax'))"
   ]
  },
  {
   "cell_type": "code",
   "execution_count": 57,
   "metadata": {
    "collapsed": false,
    "jupyter": {
     "outputs_hidden": false
    }
   },
   "outputs": [],
   "source": [
    "# set_seed(42)\n",
    "# model = Sequential()\n",
    "# model.add(Input(shape=(num_features, input_dim)))\n",
    "# model.add(Conv1D(128, kernel_size=2, activation='relu'))\n",
    "# # model.add(MaxPooling1D(pool_size=3, strides=1))\n",
    "# model.add(Dropout(0.3))\n",
    "# model.add(Conv1D(128, kernel_size=4, activation='relu'))\n",
    "#\n",
    "# model.add(Dropout(0.3))\n",
    "# model.add(Conv1D(128, kernel_size=8, activation='relu'))\n",
    "# # model.add(Conv1D(64, kernel_size=4, strides=4, activation='relu'))\n",
    "# model.add(MaxPooling1D())\n",
    "# model.add(Dropout(0.3))\n",
    "#\n",
    "# model.add(Flatten())\n",
    "# model.add(Dense(32, activation='relu'))\n",
    "# model.add(Dropout(0.3))\n",
    "#\n",
    "#\n",
    "# model.add(Dense(num_classes, activation='softmax'))"
   ]
  },
  {
   "cell_type": "code",
   "execution_count": 58,
   "metadata": {
    "collapsed": false,
    "jupyter": {
     "outputs_hidden": false
    }
   },
   "outputs": [
    {
     "name": "stdout",
     "output_type": "stream",
     "text": [
      "Model: \"sequential_1\"\n",
      "_________________________________________________________________\n",
      " Layer (type)                Output Shape              Param #   \n",
      "=================================================================\n",
      " conv1d_3 (Conv1D)           (None, 20, 256)           768       \n",
      "                                                                 \n",
      " dropout_4 (Dropout)         (None, 20, 256)           0         \n",
      "                                                                 \n",
      " conv1d_4 (Conv1D)           (None, 17, 256)           262400    \n",
      "                                                                 \n",
      " dropout_5 (Dropout)         (None, 17, 256)           0         \n",
      "                                                                 \n",
      " conv1d_5 (Conv1D)           (None, 10, 256)           524544    \n",
      "                                                                 \n",
      " max_pooling1d_1 (MaxPooling  (None, 5, 256)           0         \n",
      " 1D)                                                             \n",
      "                                                                 \n",
      " dropout_6 (Dropout)         (None, 5, 256)            0         \n",
      "                                                                 \n",
      " flatten_1 (Flatten)         (None, 1280)              0         \n",
      "                                                                 \n",
      " dense_2 (Dense)             (None, 32)                40992     \n",
      "                                                                 \n",
      " dropout_7 (Dropout)         (None, 32)                0         \n",
      "                                                                 \n",
      " dense_3 (Dense)             (None, 3)                 99        \n",
      "                                                                 \n",
      "=================================================================\n",
      "Total params: 828,803\n",
      "Trainable params: 828,803\n",
      "Non-trainable params: 0\n",
      "_________________________________________________________________\n"
     ]
    }
   ],
   "source": [
    "model.summary()"
   ]
  },
  {
   "cell_type": "code",
   "execution_count": 59,
   "metadata": {
    "collapsed": false,
    "jupyter": {
     "outputs_hidden": false
    }
   },
   "outputs": [],
   "source": [
    "model.compile(optimizer='adam', loss='sparse_categorical_crossentropy', metrics=['acc'])\n",
    "\n",
    "es = EarlyStopping(monitor='val_loss', mode='min', verbose=1, patience=5)\n",
    "mc = ModelCheckpoint('cnn_best_model_scaled_2.h5', monitor='val_acc', mode='max', verbose=1, save_best_only=True)"
   ]
  },
  {
   "cell_type": "code",
   "execution_count": 60,
   "metadata": {
    "collapsed": false,
    "jupyter": {
     "outputs_hidden": false
    }
   },
   "outputs": [
    {
     "name": "stdout",
     "output_type": "stream",
     "text": [
      "Algorithm starts learning.....\n",
      "Epoch 1/50\n"
     ]
    },
    {
     "name": "stderr",
     "output_type": "stream",
     "text": [
      "2022-11-17 16:43:30.419448: I tensorflow/core/grappler/optimizers/custom_graph_optimizer_registry.cc:114] Plugin optimizer for device_type GPU is enabled.\n"
     ]
    },
    {
     "name": "stdout",
     "output_type": "stream",
     "text": [
      "977/977 [==============================] - ETA: 0s - loss: 1.0130 - acc: 0.5704"
     ]
    },
    {
     "name": "stderr",
     "output_type": "stream",
     "text": [
      "2022-11-17 16:43:48.152915: I tensorflow/core/grappler/optimizers/custom_graph_optimizer_registry.cc:114] Plugin optimizer for device_type GPU is enabled.\n"
     ]
    },
    {
     "name": "stdout",
     "output_type": "stream",
     "text": [
      "\n",
      "Epoch 1: val_acc improved from -inf to 0.51448, saving model to cnn_best_model_scaled_2.h5\n",
      "977/977 [==============================] - 20s 20ms/step - loss: 1.0130 - acc: 0.5704 - val_loss: 0.9067 - val_acc: 0.5145\n",
      "Epoch 2/50\n",
      "975/977 [============================>.] - ETA: 0s - loss: 0.9016 - acc: 0.5914\n",
      "Epoch 2: val_acc improved from 0.51448 to 0.59112, saving model to cnn_best_model_scaled_2.h5\n",
      "977/977 [==============================] - 19s 19ms/step - loss: 0.9016 - acc: 0.5914 - val_loss: 0.8790 - val_acc: 0.5911\n",
      "Epoch 3/50\n",
      "977/977 [==============================] - ETA: 0s - loss: 0.8897 - acc: 0.6006\n",
      "Epoch 3: val_acc did not improve from 0.59112\n",
      "977/977 [==============================] - 19s 19ms/step - loss: 0.8897 - acc: 0.6006 - val_loss: 0.8829 - val_acc: 0.5224\n",
      "Epoch 4/50\n",
      "976/977 [============================>.] - ETA: 0s - loss: 0.8786 - acc: 0.6075\n",
      "Epoch 4: val_acc did not improve from 0.59112\n",
      "977/977 [==============================] - 19s 19ms/step - loss: 0.8786 - acc: 0.6076 - val_loss: 0.8633 - val_acc: 0.5713\n",
      "Epoch 5/50\n",
      "975/977 [============================>.] - ETA: 0s - loss: 0.8710 - acc: 0.6107\n",
      "Epoch 5: val_acc improved from 0.59112 to 0.60256, saving model to cnn_best_model_scaled_2.h5\n",
      "977/977 [==============================] - 19s 19ms/step - loss: 0.8710 - acc: 0.6106 - val_loss: 0.8340 - val_acc: 0.6026\n",
      "Epoch 6/50\n",
      "976/977 [============================>.] - ETA: 0s - loss: 0.8691 - acc: 0.6109\n",
      "Epoch 6: val_acc did not improve from 0.60256\n",
      "977/977 [==============================] - 18s 19ms/step - loss: 0.8691 - acc: 0.6109 - val_loss: 0.8424 - val_acc: 0.5946\n",
      "Epoch 7/50\n",
      "976/977 [============================>.] - ETA: 0s - loss: 0.8638 - acc: 0.6139\n",
      "Epoch 7: val_acc did not improve from 0.60256\n",
      "977/977 [==============================] - 18s 19ms/step - loss: 0.8638 - acc: 0.6138 - val_loss: 0.8543 - val_acc: 0.5842\n",
      "Epoch 8/50\n",
      "975/977 [============================>.] - ETA: 0s - loss: 0.8588 - acc: 0.6161\n",
      "Epoch 8: val_acc did not improve from 0.60256\n",
      "977/977 [==============================] - 19s 19ms/step - loss: 0.8587 - acc: 0.6161 - val_loss: 0.8335 - val_acc: 0.5943\n",
      "Epoch 9/50\n",
      "975/977 [============================>.] - ETA: 0s - loss: 0.8573 - acc: 0.6162\n",
      "Epoch 9: val_acc did not improve from 0.60256\n",
      "977/977 [==============================] - 19s 20ms/step - loss: 0.8574 - acc: 0.6162 - val_loss: 0.8410 - val_acc: 0.5877\n",
      "Epoch 10/50\n",
      "975/977 [============================>.] - ETA: 0s - loss: 0.8500 - acc: 0.6230\n",
      "Epoch 10: val_acc improved from 0.60256 to 0.63432, saving model to cnn_best_model_scaled_2.h5\n",
      "977/977 [==============================] - 19s 19ms/step - loss: 0.8500 - acc: 0.6231 - val_loss: 0.8078 - val_acc: 0.6343\n",
      "Epoch 11/50\n",
      "976/977 [============================>.] - ETA: 0s - loss: 0.8090 - acc: 0.6525\n",
      "Epoch 11: val_acc did not improve from 0.63432\n",
      "977/977 [==============================] - 18s 19ms/step - loss: 0.8090 - acc: 0.6524 - val_loss: 0.8077 - val_acc: 0.6053\n",
      "Epoch 12/50\n",
      "976/977 [============================>.] - ETA: 0s - loss: 0.7802 - acc: 0.6613\n",
      "Epoch 12: val_acc improved from 0.63432 to 0.64080, saving model to cnn_best_model_scaled_2.h5\n",
      "977/977 [==============================] - 19s 19ms/step - loss: 0.7803 - acc: 0.6612 - val_loss: 0.7800 - val_acc: 0.6408\n",
      "Epoch 13/50\n",
      "974/977 [============================>.] - ETA: 0s - loss: 0.7625 - acc: 0.6689\n",
      "Epoch 13: val_acc improved from 0.64080 to 0.65112, saving model to cnn_best_model_scaled_2.h5\n",
      "977/977 [==============================] - 19s 19ms/step - loss: 0.7625 - acc: 0.6689 - val_loss: 0.7742 - val_acc: 0.6511\n",
      "Epoch 14/50\n",
      "977/977 [==============================] - ETA: 0s - loss: 0.7043 - acc: 0.6973\n",
      "Epoch 14: val_acc improved from 0.65112 to 0.65128, saving model to cnn_best_model_scaled_2.h5\n",
      "977/977 [==============================] - 19s 19ms/step - loss: 0.7043 - acc: 0.6973 - val_loss: 0.7688 - val_acc: 0.6513\n",
      "Epoch 15/50\n",
      "974/977 [============================>.] - ETA: 0s - loss: 0.6807 - acc: 0.7077\n",
      "Epoch 15: val_acc improved from 0.65128 to 0.66192, saving model to cnn_best_model_scaled_2.h5\n",
      "977/977 [==============================] - 19s 19ms/step - loss: 0.6803 - acc: 0.7079 - val_loss: 0.7487 - val_acc: 0.6619\n",
      "Epoch 16/50\n",
      "977/977 [==============================] - ETA: 0s - loss: 0.6628 - acc: 0.7136\n",
      "Epoch 16: val_acc did not improve from 0.66192\n",
      "977/977 [==============================] - 19s 19ms/step - loss: 0.6628 - acc: 0.7136 - val_loss: 0.7575 - val_acc: 0.6610\n",
      "Epoch 17/50\n",
      "975/977 [============================>.] - ETA: 0s - loss: 0.6601 - acc: 0.7152\n",
      "Epoch 17: val_acc did not improve from 0.66192\n",
      "977/977 [==============================] - 19s 19ms/step - loss: 0.6602 - acc: 0.7152 - val_loss: 0.7522 - val_acc: 0.6594\n",
      "Epoch 18/50\n",
      "975/977 [============================>.] - ETA: 0s - loss: 0.6557 - acc: 0.7166\n",
      "Epoch 18: val_acc did not improve from 0.66192\n",
      "977/977 [==============================] - 19s 20ms/step - loss: 0.6558 - acc: 0.7165 - val_loss: 0.7741 - val_acc: 0.6534\n",
      "Epoch 19/50\n",
      "976/977 [============================>.] - ETA: 0s - loss: 0.6548 - acc: 0.7191\n",
      "Epoch 19: val_acc improved from 0.66192 to 0.66800, saving model to cnn_best_model_scaled_2.h5\n",
      "977/977 [==============================] - 19s 19ms/step - loss: 0.6549 - acc: 0.7191 - val_loss: 0.7424 - val_acc: 0.6680\n",
      "Epoch 20/50\n",
      "975/977 [============================>.] - ETA: 0s - loss: 0.6510 - acc: 0.7178\n",
      "Epoch 20: val_acc did not improve from 0.66800\n",
      "977/977 [==============================] - 19s 19ms/step - loss: 0.6510 - acc: 0.7178 - val_loss: 0.7542 - val_acc: 0.6580\n",
      "Epoch 21/50\n",
      "975/977 [============================>.] - ETA: 0s - loss: 0.6510 - acc: 0.7188\n",
      "Epoch 21: val_acc did not improve from 0.66800\n",
      "977/977 [==============================] - 19s 20ms/step - loss: 0.6511 - acc: 0.7187 - val_loss: 0.7800 - val_acc: 0.6446\n",
      "Epoch 22/50\n",
      "977/977 [==============================] - ETA: 0s - loss: 0.6491 - acc: 0.7219\n",
      "Epoch 22: val_acc did not improve from 0.66800\n",
      "977/977 [==============================] - 19s 19ms/step - loss: 0.6491 - acc: 0.7219 - val_loss: 0.7565 - val_acc: 0.6561\n",
      "Epoch 23/50\n",
      "975/977 [============================>.] - ETA: 0s - loss: 0.6494 - acc: 0.7208\n",
      "Epoch 23: val_acc did not improve from 0.66800\n",
      "977/977 [==============================] - 19s 19ms/step - loss: 0.6493 - acc: 0.7209 - val_loss: 0.7640 - val_acc: 0.6530\n",
      "Epoch 24/50\n",
      "975/977 [============================>.] - ETA: 0s - loss: 0.6447 - acc: 0.7230\n",
      "Epoch 24: val_acc did not improve from 0.66800\n",
      "977/977 [==============================] - 19s 20ms/step - loss: 0.6449 - acc: 0.7229 - val_loss: 0.7587 - val_acc: 0.6586\n",
      "Epoch 24: early stopping\n",
      "Learning Durations:  0:07:32.473990\n"
     ]
    }
   ],
   "source": [
    "print('Algorithm starts learning.....')\n",
    "start_time = time()\n",
    "\n",
    "history = model.fit(X_train_reshape, y_train, epochs=50, batch_size=64, validation_data=(X_val, y_val), callbacks=[es, mc] )\n",
    "\n",
    "print(\"Learning Durations: \", timedelta(seconds=(time() - start_time)))"
   ]
  },
  {
   "cell_type": "code",
   "execution_count": 61,
   "metadata": {
    "collapsed": false,
    "jupyter": {
     "outputs_hidden": false
    }
   },
   "outputs": [
    {
     "name": "stderr",
     "output_type": "stream",
     "text": [
      "findfont: Font family ['NanumGothic'] not found. Falling back to DejaVu Sans.\n"
     ]
    },
    {
     "data": {
      "image/png": "[encoded data removed]",
      "text/plain": [
       "<Figure size 576x360 with 1 Axes>"
      ]
     },
     "metadata": {
      "needs_background": "light"
     },
     "output_type": "display_data"
    }
   ],
   "source": [
    "plot_loss(history)"
   ]
  },
  {
   "cell_type": "code",
   "execution_count": 62,
   "metadata": {
    "collapsed": false,
    "jupyter": {
     "outputs_hidden": false
    }
   },
   "outputs": [
    {
     "data": {
      "image/png": "[encoded data removed]",
      "text/plain": [
       "<Figure size 576x360 with 1 Axes>"
      ]
     },
     "metadata": {
      "needs_background": "light"
     },
     "output_type": "display_data"
    }
   ],
   "source": [
    "plot_acc(history)"
   ]
  },
  {
   "cell_type": "code",
   "execution_count": 63,
   "metadata": {
    "collapsed": false,
    "jupyter": {
     "outputs_hidden": false
    }
   },
   "outputs": [
    {
     "name": "stdout",
     "output_type": "stream",
     "text": [
      "  7/782 [..............................] - ETA: 6s - loss: 0.7658 - acc: 0.6518  "
     ]
    },
    {
     "name": "stderr",
     "output_type": "stream",
     "text": [
      "2022-11-17 16:51:03.121374: I tensorflow/core/grappler/optimizers/custom_graph_optimizer_registry.cc:114] Plugin optimizer for device_type GPU is enabled.\n"
     ]
    },
    {
     "name": "stdout",
     "output_type": "stream",
     "text": [
      "782/782 [==============================] - 6s 7ms/step - loss: 0.8153 - acc: 0.6354\n",
      "Test Accuracy: 0.635360062122345\n"
     ]
    }
   ],
   "source": [
    "best_model = load_model('./cnn_best_model_scaled_2.h5')\n",
    "print('Test Accuracy: {}'.format(best_model.evaluate(X_test_reshape, y_test)[1]))"
   ]
  },
  {
   "cell_type": "code",
   "execution_count": 64,
   "metadata": {
    "collapsed": false,
    "jupyter": {
     "outputs_hidden": false
    }
   },
   "outputs": [
    {
     "name": "stdout",
     "output_type": "stream",
     "text": [
      "1954/1954 [==============================] - 14s 7ms/step - loss: 0.6092 - acc: 0.7284\n",
      "Train Accuracy: 0.7284479737281799\n"
     ]
    }
   ],
   "source": [
    "print('Train Accuracy: {}'.format(best_model.evaluate(X_train_reshape, y_train)[1]))"
   ]
  },
  {
   "cell_type": "code",
   "execution_count": 65,
   "metadata": {
    "collapsed": false,
    "jupyter": {
     "outputs_hidden": false
    }
   },
   "outputs": [
    {
     "name": "stdout",
     "output_type": "stream",
     "text": [
      " 52/782 [>.............................] - ETA: 2s"
     ]
    },
    {
     "name": "stderr",
     "output_type": "stream",
     "text": [
      "2022-11-17 16:51:22.692634: I tensorflow/core/grappler/optimizers/custom_graph_optimizer_registry.cc:114] Plugin optimizer for device_type GPU is enabled.\n"
     ]
    },
    {
     "name": "stdout",
     "output_type": "stream",
     "text": [
      "782/782 [==============================] - 3s 3ms/step\n",
      "              precision    recall  f1-score   support\n",
      "\n",
      "           0     0.6827    0.5571    0.6136      7216\n",
      "           1     0.6190    0.8074    0.7008     12960\n",
      "           2     0.6343    0.2902    0.3982      4824\n",
      "\n",
      "    accuracy                         0.6354     25000\n",
      "   macro avg     0.6454    0.5516    0.5708     25000\n",
      "weighted avg     0.6404    0.6354    0.6172     25000\n",
      "\n"
     ]
    },
    {
     "data": {
      "image/png": "[encoded data removed]",
      "text/plain": [
       "<Figure size 720x720 with 2 Axes>"
      ]
     },
     "metadata": {
      "needs_background": "light"
     },
     "output_type": "display_data"
    }
   ],
   "source": [
    "clf_report_plot(y_test, X_test_reshape, best_model)"
   ]
  },
  {
   "cell_type": "code",
   "execution_count": 71,
   "metadata": {
    "collapsed": false,
    "jupyter": {
     "outputs_hidden": false
    }
   },
   "outputs": [],
   "source": []
  },
  {
   "cell_type": "markdown",
   "metadata": {},
   "source": [
    "## CNN 병렬모델"
   ]
  },
  {
   "cell_type": "code",
   "execution_count": 72,
   "metadata": {
    "collapsed": false,
    "jupyter": {
     "outputs_hidden": false
    }
   },
   "outputs": [],
   "source": [
    "from tensorflow.keras.models import Model\n",
    "from tensorflow.keras.layers import Input, BatchNormalization, Concatenate, MaxPooling1D, GlobalMaxPooling1D"
   ]
  },
  {
   "cell_type": "code",
   "execution_count": 73,
   "metadata": {
    "collapsed": false,
    "jupyter": {
     "outputs_hidden": false
    }
   },
   "outputs": [
    {
     "name": "stdout",
     "output_type": "stream",
     "text": [
      "Random seed set as 42\n",
      "Input shape :  (None, 21, 1)\n",
      "cnn1 shape :  (None, 20, 128)\n",
      "cnn1 shape :  (None, 128)\n",
      "cnn2 shape :  (None, 18, 128)\n",
      "cnn2 shape :  (None, 128)\n",
      "cnn3 shape :  (None, 16, 128)\n",
      "cnn3 shape :  (None, 128)\n",
      "After Concat shape : (None, 384)\n",
      "output:  (None, 3)\n"
     ]
    }
   ],
   "source": [
    "set_seed(42) # seed 설정\n",
    "\n",
    "# Input layer 생성\n",
    "input = Input(shape=(num_features, input_dim), name='input')\n",
    "print('Input shape : ', input.shape)\n",
    "\n",
    "# CNN\n",
    "cnn1 = Conv1D(128, kernel_size=2, strides=1, padding='valid', activation='relu', name='conv1')(input) # kernel_size=2: 2개씩 feature 학습\n",
    "print('cnn1 shape : ', cnn1.shape)\n",
    "cnn1 = BatchNormalization(name='batch1')(cnn1)\n",
    "# cnn1 = MaxPooling1D(name='max1')(cnn1)\n",
    "cnn1 = GlobalMaxPooling1D(name='max1')(cnn1)\n",
    "cnn1 = Dense(128, activation='relu')(cnn1)\n",
    "cnn1 = Dropout(0.2, name='drop1')(cnn1)\n",
    "print('cnn1 shape : ', cnn1.shape)\n",
    "\n",
    "cnn2 = Conv1D(128, kernel_size=4, strides=1, padding='valid', activation='relu', name='conv2')(input) # kernel_size=4: 4개씩 feature 학습\n",
    "print('cnn2 shape : ', cnn2.shape)\n",
    "cnn2 = BatchNormalization(name='batch2')(cnn2)\n",
    "# cnn2 = MaxPooling1D(name='max2')(cnn2)\n",
    "cnn2 = GlobalMaxPooling1D(name='max2')(cnn2)\n",
    "cnn2 = Dense(128, activation='relu')(cnn2)\n",
    "cnn2 = Dropout(0.2, name='drop2')(cnn2)\n",
    "print('cnn2 shape : ', cnn2.shape)\n",
    "\n",
    "cnn3 = Conv1D(128, kernel_size=6, strides=1, padding='valid', activation='relu', name='conv3')(input) # kernel_size=4: 6개씩 feature 학습\n",
    "print('cnn3 shape : ', cnn3.shape)\n",
    "cnn3 = BatchNormalization(name='batch3')(cnn3)\n",
    "# cnn3 = MaxPooling1D(name='max3')(cnn3)\n",
    "cnn3 = GlobalMaxPooling1D(name='max3')(cnn3)\n",
    "cnn3 = Dense(128, activation='relu')(cnn3)\n",
    "cnn3 = Dropout(0.2, name='drop3')(cnn3)\n",
    "print('cnn3 shape : ', cnn3.shape)\n",
    "\n",
    "cnn_concat = Concatenate(name='cnn_concat')([cnn1, cnn2, cnn3])\n",
    "print('After Concat shape :', cnn_concat.shape)\n",
    "\n",
    "decoder = Dense(128, activation='relu')(cnn_concat)\n",
    "decoder = Dropout(0.2, name='decoder_dropout')(decoder)\n",
    "decoder = Dense(64, activation='relu')(cnn_concat)\n",
    "output = Dense(num_classes, activation='softmax')(decoder)\n",
    "print('output: ', output.shape)\n",
    "\n",
    "model = Model(inputs=input, outputs=output)"
   ]
  },
  {
   "cell_type": "code",
   "execution_count": 74,
   "metadata": {
    "collapsed": false,
    "jupyter": {
     "outputs_hidden": false
    }
   },
   "outputs": [],
   "source": [
    "# set_seed(42) # seed 설정\n",
    "#\n",
    "# # Input layer 생성\n",
    "# input = Input(shape=(num_features, input_dim), name='input')\n",
    "# print('Input shape : ', input.shape)\n",
    "#\n",
    "# # CNN\n",
    "# cnn1 = Conv1D(128, kernel_size=2, strides=1, padding='valid', activation='relu', name='conv1')(input) # kernel_size=2: 2개씩 feature 학습\n",
    "# print('cnn1 shape : ', cnn1.shape)\n",
    "# cnn1 = BatchNormalization(name='batch1')(cnn1)\n",
    "# # cnn1 = MaxPooling1D(name='max1')(cnn1)\n",
    "# cnn1 = GlobalMaxPooling1D(name='max1')(cnn1)\n",
    "# cnn1 = Dropout(0.2, name='drop1')(cnn1)\n",
    "# print('cnn1 shape : ', cnn1.shape)\n",
    "#\n",
    "# cnn2 = Conv1D(128, kernel_size=4, strides=1, padding='valid', activation='relu', name='conv2')(input) # kernel_size=4: 4개씩 feature 학습\n",
    "# print('cnn2 shape : ', cnn2.shape)\n",
    "# cnn2 = BatchNormalization(name='batch2')(cnn2)\n",
    "# # cnn2 = MaxPooling1D(name='max2')(cnn2)\n",
    "# cnn2 = GlobalMaxPooling1D(name='max2')(cnn2)\n",
    "# cnn2 = Dropout(0.2, name='drop2')(cnn2)\n",
    "# print('cnn2 shape : ', cnn2.shape)\n",
    "#\n",
    "# cnn3 = Conv1D(128, kernel_size=6, strides=1, padding='valid', activation='relu', name='conv3')(input) # kernel_size=4: 6개씩 feature 학습\n",
    "# print('cnn3 shape : ', cnn3.shape)\n",
    "# cnn3 = BatchNormalization(name='batch3')(cnn3)\n",
    "# # cnn3 = MaxPooling1D(name='max3')(cnn3)\n",
    "# cnn3 = GlobalMaxPooling1D(name='max3')(cnn3)\n",
    "# cnn3 = Dropout(0.2, name='drop3')(cnn3)\n",
    "# print('cnn3 shape : ', cnn3.shape)\n",
    "#\n",
    "# cnn_concat = Concatenate(name='cnn_concat')([cnn1, cnn2, cnn3])\n",
    "# print('After Concat shape :', cnn_concat.shape)\n",
    "#\n",
    "# decoder = Dense(128, activation='relu')(cnn_concat)\n",
    "# decoder = Dropout(0.2, name='decoder_dropout')(decoder)\n",
    "# decoder = Dense(64, activation='relu')(cnn_concat)\n",
    "# output = Dense(num_classes, activation='softmax')(decoder)\n",
    "#\n",
    "# print('output: ', output.shape)\n",
    "# model = Model(inputs=input, outputs=output)"
   ]
  },
  {
   "cell_type": "code",
   "execution_count": 75,
   "metadata": {
    "collapsed": false,
    "jupyter": {
     "outputs_hidden": false
    }
   },
   "outputs": [
    {
     "name": "stdout",
     "output_type": "stream",
     "text": [
      "Model: \"model_1\"\n",
      "__________________________________________________________________________________________________\n",
      " Layer (type)                   Output Shape         Param #     Connected to                     \n",
      "==================================================================================================\n",
      " input (InputLayer)             [(None, 21, 1)]      0           []                               \n",
      "                                                                                                  \n",
      " conv1 (Conv1D)                 (None, 20, 128)      384         ['input[0][0]']                  \n",
      "                                                                                                  \n",
      " conv2 (Conv1D)                 (None, 18, 128)      640         ['input[0][0]']                  \n",
      "                                                                                                  \n",
      " conv3 (Conv1D)                 (None, 16, 128)      896         ['input[0][0]']                  \n",
      "                                                                                                  \n",
      " batch1 (BatchNormalization)    (None, 20, 128)      512         ['conv1[0][0]']                  \n",
      "                                                                                                  \n",
      " batch2 (BatchNormalization)    (None, 18, 128)      512         ['conv2[0][0]']                  \n",
      "                                                                                                  \n",
      " batch3 (BatchNormalization)    (None, 16, 128)      512         ['conv3[0][0]']                  \n",
      "                                                                                                  \n",
      " max1 (GlobalMaxPooling1D)      (None, 128)          0           ['batch1[0][0]']                 \n",
      "                                                                                                  \n",
      " max2 (GlobalMaxPooling1D)      (None, 128)          0           ['batch2[0][0]']                 \n",
      "                                                                                                  \n",
      " max3 (GlobalMaxPooling1D)      (None, 128)          0           ['batch3[0][0]']                 \n",
      "                                                                                                  \n",
      " dense_10 (Dense)               (None, 128)          16512       ['max1[0][0]']                   \n",
      "                                                                                                  \n",
      " dense_11 (Dense)               (None, 128)          16512       ['max2[0][0]']                   \n",
      "                                                                                                  \n",
      " dense_12 (Dense)               (None, 128)          16512       ['max3[0][0]']                   \n",
      "                                                                                                  \n",
      " drop1 (Dropout)                (None, 128)          0           ['dense_10[0][0]']               \n",
      "                                                                                                  \n",
      " drop2 (Dropout)                (None, 128)          0           ['dense_11[0][0]']               \n",
      "                                                                                                  \n",
      " drop3 (Dropout)                (None, 128)          0           ['dense_12[0][0]']               \n",
      "                                                                                                  \n",
      " cnn_concat (Concatenate)       (None, 384)          0           ['drop1[0][0]',                  \n",
      "                                                                  'drop2[0][0]',                  \n",
      "                                                                  'drop3[0][0]']                  \n",
      "                                                                                                  \n",
      " dense_14 (Dense)               (None, 64)           24640       ['cnn_concat[0][0]']             \n",
      "                                                                                                  \n",
      " dense_15 (Dense)               (None, 3)            195         ['dense_14[0][0]']               \n",
      "                                                                                                  \n",
      "==================================================================================================\n",
      "Total params: 77,827\n",
      "Trainable params: 77,059\n",
      "Non-trainable params: 768\n",
      "__________________________________________________________________________________________________\n"
     ]
    }
   ],
   "source": [
    "model.summary()"
   ]
  },
  {
   "cell_type": "code",
   "execution_count": 76,
   "metadata": {
    "collapsed": false,
    "jupyter": {
     "outputs_hidden": false
    }
   },
   "outputs": [],
   "source": [
    "model.compile(optimizer='adam', loss='sparse_categorical_crossentropy', metrics=['acc'])\n",
    "\n",
    "es = EarlyStopping(monitor='val_loss', mode='min', verbose=1, patience=5)\n",
    "mc = ModelCheckpoint('concatenated_cnn_best_model_2.h5', monitor='val_acc', mode='max', verbose=1, save_best_only=True)"
   ]
  },
  {
   "cell_type": "code",
   "execution_count": 77,
   "metadata": {
    "collapsed": false,
    "jupyter": {
     "outputs_hidden": false
    }
   },
   "outputs": [
    {
     "name": "stdout",
     "output_type": "stream",
     "text": [
      "Algorithm starts learning.....\n",
      "Epoch 1/50\n"
     ]
    },
    {
     "name": "stderr",
     "output_type": "stream",
     "text": [
      "2022-11-17 09:03:58.363920: I tensorflow/core/grappler/optimizers/custom_graph_optimizer_registry.cc:114] Plugin optimizer for device_type GPU is enabled.\n"
     ]
    },
    {
     "name": "stdout",
     "output_type": "stream",
     "text": [
      "977/977 [==============================] - ETA: 0s - loss: 0.7986 - acc: 0.6319"
     ]
    },
    {
     "name": "stderr",
     "output_type": "stream",
     "text": [
      "2022-11-17 09:04:19.258796: I tensorflow/core/grappler/optimizers/custom_graph_optimizer_registry.cc:114] Plugin optimizer for device_type GPU is enabled.\n"
     ]
    },
    {
     "name": "stdout",
     "output_type": "stream",
     "text": [
      "\n",
      "Epoch 1: val_acc improved from -inf to 0.62264, saving model to concatenated_cnn_best_model_2.h5\n",
      "977/977 [==============================] - 23s 23ms/step - loss: 0.7986 - acc: 0.6319 - val_loss: 0.8286 - val_acc: 0.6226\n",
      "Epoch 2/50\n",
      "976/977 [============================>.] - ETA: 0s - loss: 0.6840 - acc: 0.6864\n",
      "Epoch 2: val_acc improved from 0.62264 to 0.64664, saving model to concatenated_cnn_best_model_2.h5\n",
      "977/977 [==============================] - 21s 21ms/step - loss: 0.6840 - acc: 0.6864 - val_loss: 0.8048 - val_acc: 0.6466\n",
      "Epoch 3/50\n",
      "976/977 [============================>.] - ETA: 0s - loss: 0.6568 - acc: 0.7020\n",
      "Epoch 3: val_acc improved from 0.64664 to 0.65920, saving model to concatenated_cnn_best_model_2.h5\n",
      "977/977 [==============================] - 20s 21ms/step - loss: 0.6569 - acc: 0.7020 - val_loss: 0.7948 - val_acc: 0.6592\n",
      "Epoch 4/50\n",
      "976/977 [============================>.] - ETA: 0s - loss: 0.6443 - acc: 0.7098\n",
      "Epoch 4: val_acc did not improve from 0.65920\n",
      "977/977 [==============================] - 20s 21ms/step - loss: 0.6442 - acc: 0.7099 - val_loss: 0.8094 - val_acc: 0.6572\n",
      "Epoch 5/50\n",
      "976/977 [============================>.] - ETA: 0s - loss: 0.6372 - acc: 0.7127\n",
      "Epoch 5: val_acc did not improve from 0.65920\n",
      "977/977 [==============================] - 20s 21ms/step - loss: 0.6372 - acc: 0.7128 - val_loss: 0.8144 - val_acc: 0.6354\n",
      "Epoch 6/50\n",
      "976/977 [============================>.] - ETA: 0s - loss: 0.6314 - acc: 0.7160\n",
      "Epoch 6: val_acc did not improve from 0.65920\n",
      "977/977 [==============================] - 20s 21ms/step - loss: 0.6313 - acc: 0.7159 - val_loss: 0.8260 - val_acc: 0.6364\n",
      "Epoch 7/50\n",
      "975/977 [============================>.] - ETA: 0s - loss: 0.6279 - acc: 0.7163\n",
      "Epoch 7: val_acc improved from 0.65920 to 0.66304, saving model to concatenated_cnn_best_model_2.h5\n",
      "977/977 [==============================] - 20s 21ms/step - loss: 0.6277 - acc: 0.7164 - val_loss: 0.7716 - val_acc: 0.6630\n",
      "Epoch 8/50\n",
      "976/977 [============================>.] - ETA: 0s - loss: 0.6226 - acc: 0.7196\n",
      "Epoch 8: val_acc did not improve from 0.66304\n",
      "977/977 [==============================] - 20s 21ms/step - loss: 0.6227 - acc: 0.7195 - val_loss: 0.7941 - val_acc: 0.6544\n",
      "Epoch 9/50\n",
      "976/977 [============================>.] - ETA: 0s - loss: 0.6195 - acc: 0.7203\n",
      "Epoch 9: val_acc improved from 0.66304 to 0.66456, saving model to concatenated_cnn_best_model_2.h5\n",
      "977/977 [==============================] - 20s 21ms/step - loss: 0.6195 - acc: 0.7203 - val_loss: 0.7500 - val_acc: 0.6646\n",
      "Epoch 10/50\n",
      "976/977 [============================>.] - ETA: 0s - loss: 0.6169 - acc: 0.7218\n",
      "Epoch 10: val_acc improved from 0.66456 to 0.66472, saving model to concatenated_cnn_best_model_2.h5\n",
      "977/977 [==============================] - 20s 21ms/step - loss: 0.6169 - acc: 0.7219 - val_loss: 0.7645 - val_acc: 0.6647\n",
      "Epoch 11/50\n",
      "976/977 [============================>.] - ETA: 0s - loss: 0.6158 - acc: 0.7233\n",
      "Epoch 11: val_acc did not improve from 0.66472\n",
      "977/977 [==============================] - 20s 21ms/step - loss: 0.6159 - acc: 0.7232 - val_loss: 0.7688 - val_acc: 0.6500\n",
      "Epoch 12/50\n",
      "976/977 [============================>.] - ETA: 0s - loss: 0.6137 - acc: 0.7225\n",
      "Epoch 12: val_acc did not improve from 0.66472\n",
      "977/977 [==============================] - 20s 21ms/step - loss: 0.6137 - acc: 0.7224 - val_loss: 0.7737 - val_acc: 0.6612\n",
      "Epoch 13/50\n",
      "977/977 [==============================] - ETA: 0s - loss: 0.6114 - acc: 0.7253\n",
      "Epoch 13: val_acc improved from 0.66472 to 0.66888, saving model to concatenated_cnn_best_model_2.h5\n",
      "977/977 [==============================] - 20s 21ms/step - loss: 0.6114 - acc: 0.7253 - val_loss: 0.7469 - val_acc: 0.6689\n",
      "Epoch 14/50\n",
      "976/977 [============================>.] - ETA: 0s - loss: 0.6094 - acc: 0.7237\n",
      "Epoch 14: val_acc did not improve from 0.66888\n",
      "977/977 [==============================] - 20s 21ms/step - loss: 0.6094 - acc: 0.7238 - val_loss: 0.7391 - val_acc: 0.6674\n",
      "Epoch 15/50\n",
      "976/977 [============================>.] - ETA: 0s - loss: 0.6084 - acc: 0.7258\n",
      "Epoch 15: val_acc did not improve from 0.66888\n",
      "977/977 [==============================] - 20s 21ms/step - loss: 0.6084 - acc: 0.7259 - val_loss: 0.7928 - val_acc: 0.6658\n",
      "Epoch 16/50\n",
      "976/977 [============================>.] - ETA: 0s - loss: 0.6065 - acc: 0.7256\n",
      "Epoch 16: val_acc did not improve from 0.66888\n",
      "977/977 [==============================] - 20s 21ms/step - loss: 0.6066 - acc: 0.7256 - val_loss: 0.7476 - val_acc: 0.6607\n",
      "Epoch 17/50\n",
      "976/977 [============================>.] - ETA: 0s - loss: 0.6054 - acc: 0.7273\n",
      "Epoch 17: val_acc improved from 0.66888 to 0.67088, saving model to concatenated_cnn_best_model_2.h5\n",
      "977/977 [==============================] - 20s 21ms/step - loss: 0.6054 - acc: 0.7273 - val_loss: 0.7445 - val_acc: 0.6709\n",
      "Epoch 18/50\n",
      "976/977 [============================>.] - ETA: 0s - loss: 0.6018 - acc: 0.7298\n",
      "Epoch 18: val_acc improved from 0.67088 to 0.67104, saving model to concatenated_cnn_best_model_2.h5\n",
      "977/977 [==============================] - 20s 20ms/step - loss: 0.6019 - acc: 0.7297 - val_loss: 0.7541 - val_acc: 0.6710\n",
      "Epoch 19/50\n",
      "976/977 [============================>.] - ETA: 0s - loss: 0.6028 - acc: 0.7301\n",
      "Epoch 19: val_acc improved from 0.67104 to 0.67160, saving model to concatenated_cnn_best_model_2.h5\n",
      "977/977 [==============================] - 20s 21ms/step - loss: 0.6029 - acc: 0.7300 - val_loss: 0.7346 - val_acc: 0.6716\n",
      "Epoch 20/50\n",
      "976/977 [============================>.] - ETA: 0s - loss: 0.6034 - acc: 0.7275\n",
      "Epoch 20: val_acc did not improve from 0.67160\n",
      "977/977 [==============================] - 20s 21ms/step - loss: 0.6034 - acc: 0.7275 - val_loss: 0.7454 - val_acc: 0.6682\n",
      "Epoch 21/50\n",
      "976/977 [============================>.] - ETA: 0s - loss: 0.6008 - acc: 0.7288\n",
      "Epoch 21: val_acc did not improve from 0.67160\n",
      "977/977 [==============================] - 20s 20ms/step - loss: 0.6010 - acc: 0.7287 - val_loss: 0.7592 - val_acc: 0.6684\n",
      "Epoch 22/50\n",
      "976/977 [============================>.] - ETA: 0s - loss: 0.6001 - acc: 0.7297\n",
      "Epoch 22: val_acc did not improve from 0.67160\n",
      "977/977 [==============================] - 20s 20ms/step - loss: 0.6000 - acc: 0.7297 - val_loss: 0.7346 - val_acc: 0.6690\n",
      "Epoch 23/50\n",
      "976/977 [============================>.] - ETA: 0s - loss: 0.5976 - acc: 0.7316\n",
      "Epoch 23: val_acc did not improve from 0.67160\n",
      "977/977 [==============================] - 20s 20ms/step - loss: 0.5976 - acc: 0.7317 - val_loss: 0.7581 - val_acc: 0.6696\n",
      "Epoch 24/50\n",
      "976/977 [============================>.] - ETA: 0s - loss: 0.5961 - acc: 0.7325\n",
      "Epoch 24: val_acc did not improve from 0.67160\n",
      "977/977 [==============================] - 20s 21ms/step - loss: 0.5962 - acc: 0.7325 - val_loss: 0.7557 - val_acc: 0.6699\n",
      "Epoch 24: early stopping\n",
      "Learning Durations:  0:08:07.181008\n"
     ]
    }
   ],
   "source": [
    "print('Algorithm starts learning.....')\n",
    "start_time = time()\n",
    "\n",
    "history = model.fit(X_train_reshape, y_train, epochs=50, batch_size=64, validation_data=(X_val, y_val), callbacks=[es, mc] )\n",
    "\n",
    "print(\"Learning Durations: \", timedelta(seconds=(time() - start_time)))"
   ]
  },
  {
   "cell_type": "code",
   "execution_count": 78,
   "metadata": {
    "collapsed": false,
    "jupyter": {
     "outputs_hidden": false
    }
   },
   "outputs": [
    {
     "data": {
      "image/png": "[encoded data removed]",
      "text/plain": [
       "<Figure size 576x360 with 1 Axes>"
      ]
     },
     "metadata": {
      "needs_background": "light"
     },
     "output_type": "display_data"
    }
   ],
   "source": [
    "plot_loss(history)"
   ]
  },
  {
   "cell_type": "code",
   "execution_count": 79,
   "metadata": {
    "collapsed": false,
    "jupyter": {
     "outputs_hidden": false
    }
   },
   "outputs": [
    {
     "data": {
      "image/png": "[encoded data removed]",
      "text/plain": [
       "<Figure size 576x360 with 1 Axes>"
      ]
     },
     "metadata": {
      "needs_background": "light"
     },
     "output_type": "display_data"
    }
   ],
   "source": [
    "plot_acc(history)"
   ]
  },
  {
   "cell_type": "code",
   "execution_count": 80,
   "metadata": {
    "collapsed": false,
    "jupyter": {
     "outputs_hidden": false
    }
   },
   "outputs": [
    {
     "name": "stdout",
     "output_type": "stream",
     "text": [
      "  4/782 [..............................] - ETA: 13s - loss: 0.7524 - acc: 0.6328 "
     ]
    },
    {
     "name": "stderr",
     "output_type": "stream",
     "text": [
      "2022-11-17 09:12:05.529457: I tensorflow/core/grappler/optimizers/custom_graph_optimizer_registry.cc:114] Plugin optimizer for device_type GPU is enabled.\n"
     ]
    },
    {
     "name": "stdout",
     "output_type": "stream",
     "text": [
      "782/782 [==============================] - 6s 8ms/step - loss: 0.8204 - acc: 0.6262\n",
      "Test Accuracy: 0.6261600255966187\n"
     ]
    }
   ],
   "source": [
    "best_model = load_model('./concatenated_cnn_best_model_2.h5')\n",
    "print('Test Accuracy: {}'.format(best_model.evaluate(X_test_reshape, y_test)[1]))"
   ]
  },
  {
   "cell_type": "code",
   "execution_count": 82,
   "metadata": {
    "collapsed": false,
    "jupyter": {
     "outputs_hidden": false
    }
   },
   "outputs": [
    {
     "name": "stdout",
     "output_type": "stream",
     "text": [
      "1954/1954 [==============================] - 16s 8ms/step - loss: 0.5926 - acc: 0.7330\n",
      "Train Accuracy: 0.7330080270767212\n"
     ]
    }
   ],
   "source": [
    "print('Train Accuracy: {}'.format(best_model.evaluate(X_train_reshape, y_train)[1]))"
   ]
  },
  {
   "cell_type": "code",
   "execution_count": null,
   "metadata": {
    "collapsed": false,
    "jupyter": {
     "outputs_hidden": false
    }
   },
   "outputs": [],
   "source": [
    "clf_report_plot(y_test, X_test_reshape, best_model)"
   ]
  },
  {
   "cell_type": "code",
   "execution_count": null,
   "metadata": {
    "collapsed": false,
    "jupyter": {
     "outputs_hidden": false
    }
   },
   "outputs": [],
   "source": []
  },
  {
   "cell_type": "code",
   "execution_count": null,
   "metadata": {
    "collapsed": false,
    "jupyter": {
     "outputs_hidden": false
    }
   },
   "outputs": [],
   "source": []
  },
  {
   "cell_type": "code",
   "execution_count": null,
   "metadata": {
    "collapsed": false,
    "jupyter": {
     "outputs_hidden": false
    }
   },
   "outputs": [],
   "source": []
  },
  {
   "cell_type": "code",
   "execution_count": null,
   "metadata": {
    "collapsed": false,
    "jupyter": {
     "outputs_hidden": false
    }
   },
   "outputs": [],
   "source": []
  },
  {
   "cell_type": "markdown",
   "metadata": {},
   "source": [
    "Predict Probabilities"
   ]
  },
  {
   "cell_type": "code",
   "execution_count": 84,
   "metadata": {
    "collapsed": false,
    "jupyter": {
     "outputs_hidden": false
    }
   },
   "outputs": [
    {
     "name": "stdout",
     "output_type": "stream",
     "text": [
      "1954/1954 [==============================] - 7s 4ms/step\n"
     ]
    }
   ],
   "source": [
    "result = best_model.predict(X_train_reshape)"
   ]
  },
  {
   "cell_type": "code",
   "execution_count": 86,
   "metadata": {
    "collapsed": false,
    "jupyter": {
     "outputs_hidden": false
    }
   },
   "outputs": [
    {
     "name": "stdout",
     "output_type": "stream",
     "text": [
      "[array([[0.02734532, 0.29905915, 0.67359555],\n",
      "       [0.02378798, 0.33618578, 0.6400262 ],\n",
      "       [0.03116329, 0.30505085, 0.6637858 ],\n",
      "       ...,\n",
      "       [0.47341737, 0.32990038, 0.19668224],\n",
      "       [0.59580123, 0.27819887, 0.12599994],\n",
      "       [0.31709978, 0.3652758 , 0.3176245 ]], dtype=float32), array([[0.02734532, 0.29905915, 0.67359555],\n",
      "       [0.02378798, 0.33618578, 0.6400262 ],\n",
      "       [0.03116329, 0.30505085, 0.6637858 ],\n",
      "       ...,\n",
      "       [0.47341737, 0.32990038, 0.19668224],\n",
      "       [0.59580123, 0.27819887, 0.12599994],\n",
      "       [0.31709978, 0.3652758 , 0.3176245 ]], dtype=float32)]\n"
     ]
    }
   ],
   "source": [
    "performance_list = []\n",
    "performance_list.append(result)\n",
    "print(performance_list)"
   ]
  }
 ],
 "metadata": {
  "kernelspec": {
   "display_name": "Python [conda env:tf_trans] *",
   "language": "python",
   "name": "conda-env-tf_trans-py"
  },
  "language_info": {
   "codemirror_mode": {
    "name": "ipython",
    "version": 3
   },
   "file_extension": ".py",
   "mimetype": "text/x-python",
   "name": "python",
   "nbconvert_exporter": "python",
   "pygments_lexer": "ipython3",
   "version": "3.8.15"
  }
 },
 "nbformat": 4,
 "nbformat_minor": 4
}
