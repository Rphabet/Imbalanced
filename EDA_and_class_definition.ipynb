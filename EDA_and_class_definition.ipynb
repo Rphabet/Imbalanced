{
 "cells": [
  {
   "cell_type": "markdown",
   "source": [
    "# HealthCare Quick EDA and Baseline Result\n",
    "\n",
    "(working in progress...)"
   ],
   "metadata": {
    "collapsed": false
   }
  },
  {
   "cell_type": "code",
   "execution_count": 4,
   "metadata": {
    "collapsed": true
   },
   "outputs": [],
   "source": [
    "import numpy as np\n",
    "import pandas as pd\n",
    "import matplotlib.pyplot as plt\n",
    "import seaborn as sns\n",
    "import os\n",
    "\n",
    "# plt.rc('font', family='Malgun Gothic') # 한글 폰트 for Windows\n",
    "plt.rc('font', family='AppleGothic') # 한글 폰트 for Mac"
   ]
  },
  {
   "cell_type": "code",
   "execution_count": 5,
   "outputs": [],
   "source": [
    "# value counts 기반 시각화\n",
    "\n",
    "def value_counts_plot(df, col_name, sort_by_index=True):\n",
    "    plt.figure(figsize=(12, 6))\n",
    "    plt.title('Value Counts of ' + col_name)\n",
    "    if sort_by_index:\n",
    "        df[col_name].value_counts().sort_index().plot(kind='bar')\n",
    "    else:\n",
    "        df[col_name].value_counts().plot(kind='bar')\n",
    "\n",
    "    plt.xticks(rotation=45)\n",
    "    plt.show()"
   ],
   "metadata": {
    "collapsed": false
   }
  },
  {
   "cell_type": "code",
   "execution_count": 6,
   "outputs": [
    {
     "data": {
      "text/plain": "'/Users/ben/ML/Imbalanced'"
     },
     "execution_count": 6,
     "metadata": {},
     "output_type": "execute_result"
    }
   ],
   "source": [
    "os.getcwd()"
   ],
   "metadata": {
    "collapsed": false
   }
  },
  {
   "cell_type": "code",
   "execution_count": 7,
   "outputs": [],
   "source": [
    "data_dir = './data/'\n",
    "TRAIN = 'train.csv'\n",
    "TRAIN_DICT = 'train_data_dict.csv'"
   ],
   "metadata": {
    "collapsed": false
   }
  },
  {
   "cell_type": "code",
   "execution_count": 8,
   "outputs": [
    {
     "data": {
      "text/plain": "                               Column  \\\n0                             case_id   \n1                       Hospital_code   \n2                  Hospital_type_code   \n3                  City_Code_Hospital   \n4                Hospital_region_code   \n5   Available Extra Rooms in Hospital   \n6                          Department   \n7                           Ward_Type   \n8                  Ward_Facility_Code   \n9                           Bed Grade   \n10                          patientid   \n11                  City_Code_Patient   \n12                  Type of Admission   \n13                Severity of Illness   \n14              Visitors with Patient   \n15                                Age   \n16                  Admission_Deposit   \n17                               Stay   \n\n                                          Description  \n0                      Case_ID registered in Hospital  \n1                        Unique code for the Hospital  \n2                Unique code for the type of Hospital  \n3                           City Code of the Hospital  \n4                         Region Code of the Hospital  \n5     Number of Extra rooms available in the Hospital  \n6                     Department overlooking the case  \n7                              Code for the Ward type  \n8                          Code for the Ward Facility  \n9                        Condition of Bed in the Ward  \n10                                  Unique Patient Id  \n11                          City Code for the patient  \n12          Admission Type registered by the Hospital  \n13  Severity of the illness recorded at the time o...  \n14                Number of Visitors with the patient  \n15                                 Age of the patient  \n16                      Deposit at the Admission Time  \n17                           Stay Days by the patient  ",
      "text/html": "<div>\n<style scoped>\n    .dataframe tbody tr th:only-of-type {\n        vertical-align: middle;\n    }\n\n    .dataframe tbody tr th {\n        vertical-align: top;\n    }\n\n    .dataframe thead th {\n        text-align: right;\n    }\n</style>\n<table border=\"1\" class=\"dataframe\">\n  <thead>\n    <tr style=\"text-align: right;\">\n      <th></th>\n      <th>Column</th>\n      <th>Description</th>\n    </tr>\n  </thead>\n  <tbody>\n    <tr>\n      <th>0</th>\n      <td>case_id</td>\n      <td>Case_ID registered in Hospital</td>\n    </tr>\n    <tr>\n      <th>1</th>\n      <td>Hospital_code</td>\n      <td>Unique code for the Hospital</td>\n    </tr>\n    <tr>\n      <th>2</th>\n      <td>Hospital_type_code</td>\n      <td>Unique code for the type of Hospital</td>\n    </tr>\n    <tr>\n      <th>3</th>\n      <td>City_Code_Hospital</td>\n      <td>City Code of the Hospital</td>\n    </tr>\n    <tr>\n      <th>4</th>\n      <td>Hospital_region_code</td>\n      <td>Region Code of the Hospital</td>\n    </tr>\n    <tr>\n      <th>5</th>\n      <td>Available Extra Rooms in Hospital</td>\n      <td>Number of Extra rooms available in the Hospital</td>\n    </tr>\n    <tr>\n      <th>6</th>\n      <td>Department</td>\n      <td>Department overlooking the case</td>\n    </tr>\n    <tr>\n      <th>7</th>\n      <td>Ward_Type</td>\n      <td>Code for the Ward type</td>\n    </tr>\n    <tr>\n      <th>8</th>\n      <td>Ward_Facility_Code</td>\n      <td>Code for the Ward Facility</td>\n    </tr>\n    <tr>\n      <th>9</th>\n      <td>Bed Grade</td>\n      <td>Condition of Bed in the Ward</td>\n    </tr>\n    <tr>\n      <th>10</th>\n      <td>patientid</td>\n      <td>Unique Patient Id</td>\n    </tr>\n    <tr>\n      <th>11</th>\n      <td>City_Code_Patient</td>\n      <td>City Code for the patient</td>\n    </tr>\n    <tr>\n      <th>12</th>\n      <td>Type of Admission</td>\n      <td>Admission Type registered by the Hospital</td>\n    </tr>\n    <tr>\n      <th>13</th>\n      <td>Severity of Illness</td>\n      <td>Severity of the illness recorded at the time o...</td>\n    </tr>\n    <tr>\n      <th>14</th>\n      <td>Visitors with Patient</td>\n      <td>Number of Visitors with the patient</td>\n    </tr>\n    <tr>\n      <th>15</th>\n      <td>Age</td>\n      <td>Age of the patient</td>\n    </tr>\n    <tr>\n      <th>16</th>\n      <td>Admission_Deposit</td>\n      <td>Deposit at the Admission Time</td>\n    </tr>\n    <tr>\n      <th>17</th>\n      <td>Stay</td>\n      <td>Stay Days by the patient</td>\n    </tr>\n  </tbody>\n</table>\n</div>"
     },
     "metadata": {},
     "output_type": "display_data"
    }
   ],
   "source": [
    "data_desc = pd.read_csv(os.path.join(data_dir, TRAIN_DICT))\n",
    "display(data_desc)"
   ],
   "metadata": {
    "collapsed": false
   }
  },
  {
   "cell_type": "code",
   "execution_count": 9,
   "outputs": [
    {
     "data": {
      "text/plain": "        case_id  Hospital_code Hospital_type_code  City_Code_Hospital  \\\n0             1              8                  c                   3   \n1             2              2                  c                   5   \n2             3             10                  e                   1   \n3             4             26                  b                   2   \n4             5             26                  b                   2   \n...         ...            ...                ...                 ...   \n318433   318434              6                  a                   6   \n318434   318435             24                  a                   1   \n318435   318436              7                  a                   4   \n318436   318437             11                  b                   2   \n318437   318438             19                  a                   7   \n\n       Hospital_region_code  Available Extra Rooms in Hospital    Department  \\\n0                         Z                                  3  radiotherapy   \n1                         Z                                  2  radiotherapy   \n2                         X                                  2    anesthesia   \n3                         Y                                  2  radiotherapy   \n4                         Y                                  2  radiotherapy   \n...                     ...                                ...           ...   \n318433                    X                                  3  radiotherapy   \n318434                    X                                  2    anesthesia   \n318435                    X                                  3    gynecology   \n318436                    Y                                  3    anesthesia   \n318437                    Y                                  5    gynecology   \n\n       Ward_Type Ward_Facility_Code  Bed Grade  patientid  City_Code_Patient  \\\n0              R                  F        2.0      31397                7.0   \n1              S                  F        2.0      31397                7.0   \n2              S                  E        2.0      31397                7.0   \n3              R                  D        2.0      31397                7.0   \n4              S                  D        2.0      31397                7.0   \n...          ...                ...        ...        ...                ...   \n318433         Q                  F        4.0      86499               23.0   \n318434         Q                  E        4.0        325                8.0   \n318435         R                  F        4.0     125235               10.0   \n318436         Q                  D        3.0      91081                8.0   \n318437         Q                  C        2.0      21641                8.0   \n\n       Type of Admission Severity of Illness  Visitors with Patient    Age  \\\n0              Emergency             Extreme                      2  51-60   \n1                 Trauma             Extreme                      2  51-60   \n2                 Trauma             Extreme                      2  51-60   \n3                 Trauma             Extreme                      2  51-60   \n4                 Trauma             Extreme                      2  51-60   \n...                  ...                 ...                    ...    ...   \n318433         Emergency            Moderate                      3  41-50   \n318434            Urgent            Moderate                      4  81-90   \n318435         Emergency               Minor                      3  71-80   \n318436            Trauma               Minor                      5  11-20   \n318437         Emergency               Minor                      2  11-20   \n\n        Admission_Deposit   Stay  \n0                  4911.0   0-10  \n1                  5954.0  41-50  \n2                  4745.0  31-40  \n3                  7272.0  41-50  \n4                  5558.0  41-50  \n...                   ...    ...  \n318433             4144.0  11-20  \n318434             6699.0  31-40  \n318435             4235.0  11-20  \n318436             3761.0  11-20  \n318437             4752.0   0-10  \n\n[318438 rows x 18 columns]",
      "text/html": "<div>\n<style scoped>\n    .dataframe tbody tr th:only-of-type {\n        vertical-align: middle;\n    }\n\n    .dataframe tbody tr th {\n        vertical-align: top;\n    }\n\n    .dataframe thead th {\n        text-align: right;\n    }\n</style>\n<table border=\"1\" class=\"dataframe\">\n  <thead>\n    <tr style=\"text-align: right;\">\n      <th></th>\n      <th>case_id</th>\n      <th>Hospital_code</th>\n      <th>Hospital_type_code</th>\n      <th>City_Code_Hospital</th>\n      <th>Hospital_region_code</th>\n      <th>Available Extra Rooms in Hospital</th>\n      <th>Department</th>\n      <th>Ward_Type</th>\n      <th>Ward_Facility_Code</th>\n      <th>Bed Grade</th>\n      <th>patientid</th>\n      <th>City_Code_Patient</th>\n      <th>Type of Admission</th>\n      <th>Severity of Illness</th>\n      <th>Visitors with Patient</th>\n      <th>Age</th>\n      <th>Admission_Deposit</th>\n      <th>Stay</th>\n    </tr>\n  </thead>\n  <tbody>\n    <tr>\n      <th>0</th>\n      <td>1</td>\n      <td>8</td>\n      <td>c</td>\n      <td>3</td>\n      <td>Z</td>\n      <td>3</td>\n      <td>radiotherapy</td>\n      <td>R</td>\n      <td>F</td>\n      <td>2.0</td>\n      <td>31397</td>\n      <td>7.0</td>\n      <td>Emergency</td>\n      <td>Extreme</td>\n      <td>2</td>\n      <td>51-60</td>\n      <td>4911.0</td>\n      <td>0-10</td>\n    </tr>\n    <tr>\n      <th>1</th>\n      <td>2</td>\n      <td>2</td>\n      <td>c</td>\n      <td>5</td>\n      <td>Z</td>\n      <td>2</td>\n      <td>radiotherapy</td>\n      <td>S</td>\n      <td>F</td>\n      <td>2.0</td>\n      <td>31397</td>\n      <td>7.0</td>\n      <td>Trauma</td>\n      <td>Extreme</td>\n      <td>2</td>\n      <td>51-60</td>\n      <td>5954.0</td>\n      <td>41-50</td>\n    </tr>\n    <tr>\n      <th>2</th>\n      <td>3</td>\n      <td>10</td>\n      <td>e</td>\n      <td>1</td>\n      <td>X</td>\n      <td>2</td>\n      <td>anesthesia</td>\n      <td>S</td>\n      <td>E</td>\n      <td>2.0</td>\n      <td>31397</td>\n      <td>7.0</td>\n      <td>Trauma</td>\n      <td>Extreme</td>\n      <td>2</td>\n      <td>51-60</td>\n      <td>4745.0</td>\n      <td>31-40</td>\n    </tr>\n    <tr>\n      <th>3</th>\n      <td>4</td>\n      <td>26</td>\n      <td>b</td>\n      <td>2</td>\n      <td>Y</td>\n      <td>2</td>\n      <td>radiotherapy</td>\n      <td>R</td>\n      <td>D</td>\n      <td>2.0</td>\n      <td>31397</td>\n      <td>7.0</td>\n      <td>Trauma</td>\n      <td>Extreme</td>\n      <td>2</td>\n      <td>51-60</td>\n      <td>7272.0</td>\n      <td>41-50</td>\n    </tr>\n    <tr>\n      <th>4</th>\n      <td>5</td>\n      <td>26</td>\n      <td>b</td>\n      <td>2</td>\n      <td>Y</td>\n      <td>2</td>\n      <td>radiotherapy</td>\n      <td>S</td>\n      <td>D</td>\n      <td>2.0</td>\n      <td>31397</td>\n      <td>7.0</td>\n      <td>Trauma</td>\n      <td>Extreme</td>\n      <td>2</td>\n      <td>51-60</td>\n      <td>5558.0</td>\n      <td>41-50</td>\n    </tr>\n    <tr>\n      <th>...</th>\n      <td>...</td>\n      <td>...</td>\n      <td>...</td>\n      <td>...</td>\n      <td>...</td>\n      <td>...</td>\n      <td>...</td>\n      <td>...</td>\n      <td>...</td>\n      <td>...</td>\n      <td>...</td>\n      <td>...</td>\n      <td>...</td>\n      <td>...</td>\n      <td>...</td>\n      <td>...</td>\n      <td>...</td>\n      <td>...</td>\n    </tr>\n    <tr>\n      <th>318433</th>\n      <td>318434</td>\n      <td>6</td>\n      <td>a</td>\n      <td>6</td>\n      <td>X</td>\n      <td>3</td>\n      <td>radiotherapy</td>\n      <td>Q</td>\n      <td>F</td>\n      <td>4.0</td>\n      <td>86499</td>\n      <td>23.0</td>\n      <td>Emergency</td>\n      <td>Moderate</td>\n      <td>3</td>\n      <td>41-50</td>\n      <td>4144.0</td>\n      <td>11-20</td>\n    </tr>\n    <tr>\n      <th>318434</th>\n      <td>318435</td>\n      <td>24</td>\n      <td>a</td>\n      <td>1</td>\n      <td>X</td>\n      <td>2</td>\n      <td>anesthesia</td>\n      <td>Q</td>\n      <td>E</td>\n      <td>4.0</td>\n      <td>325</td>\n      <td>8.0</td>\n      <td>Urgent</td>\n      <td>Moderate</td>\n      <td>4</td>\n      <td>81-90</td>\n      <td>6699.0</td>\n      <td>31-40</td>\n    </tr>\n    <tr>\n      <th>318435</th>\n      <td>318436</td>\n      <td>7</td>\n      <td>a</td>\n      <td>4</td>\n      <td>X</td>\n      <td>3</td>\n      <td>gynecology</td>\n      <td>R</td>\n      <td>F</td>\n      <td>4.0</td>\n      <td>125235</td>\n      <td>10.0</td>\n      <td>Emergency</td>\n      <td>Minor</td>\n      <td>3</td>\n      <td>71-80</td>\n      <td>4235.0</td>\n      <td>11-20</td>\n    </tr>\n    <tr>\n      <th>318436</th>\n      <td>318437</td>\n      <td>11</td>\n      <td>b</td>\n      <td>2</td>\n      <td>Y</td>\n      <td>3</td>\n      <td>anesthesia</td>\n      <td>Q</td>\n      <td>D</td>\n      <td>3.0</td>\n      <td>91081</td>\n      <td>8.0</td>\n      <td>Trauma</td>\n      <td>Minor</td>\n      <td>5</td>\n      <td>11-20</td>\n      <td>3761.0</td>\n      <td>11-20</td>\n    </tr>\n    <tr>\n      <th>318437</th>\n      <td>318438</td>\n      <td>19</td>\n      <td>a</td>\n      <td>7</td>\n      <td>Y</td>\n      <td>5</td>\n      <td>gynecology</td>\n      <td>Q</td>\n      <td>C</td>\n      <td>2.0</td>\n      <td>21641</td>\n      <td>8.0</td>\n      <td>Emergency</td>\n      <td>Minor</td>\n      <td>2</td>\n      <td>11-20</td>\n      <td>4752.0</td>\n      <td>0-10</td>\n    </tr>\n  </tbody>\n</table>\n<p>318438 rows × 18 columns</p>\n</div>"
     },
     "metadata": {},
     "output_type": "display_data"
    }
   ],
   "source": [
    "df = pd.read_csv(os.path.join(data_dir, TRAIN))\n",
    "display(df)"
   ],
   "metadata": {
    "collapsed": false
   }
  },
  {
   "cell_type": "code",
   "execution_count": 10,
   "outputs": [
    {
     "name": "stdout",
     "output_type": "stream",
     "text": [
      "<class 'pandas.core.frame.DataFrame'>\n",
      "RangeIndex: 318438 entries, 0 to 318437\n",
      "Data columns (total 18 columns):\n",
      " #   Column                             Non-Null Count   Dtype  \n",
      "---  ------                             --------------   -----  \n",
      " 0   case_id                            318438 non-null  int64  \n",
      " 1   Hospital_code                      318438 non-null  int64  \n",
      " 2   Hospital_type_code                 318438 non-null  object \n",
      " 3   City_Code_Hospital                 318438 non-null  int64  \n",
      " 4   Hospital_region_code               318438 non-null  object \n",
      " 5   Available Extra Rooms in Hospital  318438 non-null  int64  \n",
      " 6   Department                         318438 non-null  object \n",
      " 7   Ward_Type                          318438 non-null  object \n",
      " 8   Ward_Facility_Code                 318438 non-null  object \n",
      " 9   Bed Grade                          318325 non-null  float64\n",
      " 10  patientid                          318438 non-null  int64  \n",
      " 11  City_Code_Patient                  313906 non-null  float64\n",
      " 12  Type of Admission                  318438 non-null  object \n",
      " 13  Severity of Illness                318438 non-null  object \n",
      " 14  Visitors with Patient              318438 non-null  int64  \n",
      " 15  Age                                318438 non-null  object \n",
      " 16  Admission_Deposit                  318438 non-null  float64\n",
      " 17  Stay                               318438 non-null  object \n",
      "dtypes: float64(3), int64(6), object(9)\n",
      "memory usage: 43.7+ MB\n"
     ]
    }
   ],
   "source": [
    "df.info()"
   ],
   "metadata": {
    "collapsed": false
   }
  },
  {
   "cell_type": "code",
   "execution_count": 11,
   "outputs": [
    {
     "data": {
      "text/plain": "                                      count           mean           std  \\\ncase_id                            318438.0  159219.500000  91925.276848   \nHospital_code                      318438.0      18.318841      8.633755   \nCity_Code_Hospital                 318438.0       4.771717      3.102535   \nAvailable Extra Rooms in Hospital  318438.0       3.197627      1.168171   \nBed Grade                          318325.0       2.625807      0.873146   \npatientid                          318438.0   65747.579472  37979.936440   \nCity_Code_Patient                  313906.0       7.251859      4.745266   \nVisitors with Patient              318438.0       3.284099      1.764061   \nAdmission_Deposit                  318438.0    4880.749392   1086.776254   \n\n                                      min       25%       50%        75%  \\\ncase_id                               1.0  79610.25  159219.5  238828.75   \nHospital_code                         1.0     11.00      19.0      26.00   \nCity_Code_Hospital                    1.0      2.00       5.0       7.00   \nAvailable Extra Rooms in Hospital     0.0      2.00       3.0       4.00   \nBed Grade                             1.0      2.00       3.0       3.00   \npatientid                             1.0  32847.00   65724.5   98470.00   \nCity_Code_Patient                     1.0      4.00       8.0       8.00   \nVisitors with Patient                 0.0      2.00       3.0       4.00   \nAdmission_Deposit                  1800.0   4186.00    4741.0    5409.00   \n\n                                        max  \ncase_id                            318438.0  \nHospital_code                          32.0  \nCity_Code_Hospital                     13.0  \nAvailable Extra Rooms in Hospital      24.0  \nBed Grade                               4.0  \npatientid                          131624.0  \nCity_Code_Patient                      38.0  \nVisitors with Patient                  32.0  \nAdmission_Deposit                   11008.0  ",
      "text/html": "<div>\n<style scoped>\n    .dataframe tbody tr th:only-of-type {\n        vertical-align: middle;\n    }\n\n    .dataframe tbody tr th {\n        vertical-align: top;\n    }\n\n    .dataframe thead th {\n        text-align: right;\n    }\n</style>\n<table border=\"1\" class=\"dataframe\">\n  <thead>\n    <tr style=\"text-align: right;\">\n      <th></th>\n      <th>count</th>\n      <th>mean</th>\n      <th>std</th>\n      <th>min</th>\n      <th>25%</th>\n      <th>50%</th>\n      <th>75%</th>\n      <th>max</th>\n    </tr>\n  </thead>\n  <tbody>\n    <tr>\n      <th>case_id</th>\n      <td>318438.0</td>\n      <td>159219.500000</td>\n      <td>91925.276848</td>\n      <td>1.0</td>\n      <td>79610.25</td>\n      <td>159219.5</td>\n      <td>238828.75</td>\n      <td>318438.0</td>\n    </tr>\n    <tr>\n      <th>Hospital_code</th>\n      <td>318438.0</td>\n      <td>18.318841</td>\n      <td>8.633755</td>\n      <td>1.0</td>\n      <td>11.00</td>\n      <td>19.0</td>\n      <td>26.00</td>\n      <td>32.0</td>\n    </tr>\n    <tr>\n      <th>City_Code_Hospital</th>\n      <td>318438.0</td>\n      <td>4.771717</td>\n      <td>3.102535</td>\n      <td>1.0</td>\n      <td>2.00</td>\n      <td>5.0</td>\n      <td>7.00</td>\n      <td>13.0</td>\n    </tr>\n    <tr>\n      <th>Available Extra Rooms in Hospital</th>\n      <td>318438.0</td>\n      <td>3.197627</td>\n      <td>1.168171</td>\n      <td>0.0</td>\n      <td>2.00</td>\n      <td>3.0</td>\n      <td>4.00</td>\n      <td>24.0</td>\n    </tr>\n    <tr>\n      <th>Bed Grade</th>\n      <td>318325.0</td>\n      <td>2.625807</td>\n      <td>0.873146</td>\n      <td>1.0</td>\n      <td>2.00</td>\n      <td>3.0</td>\n      <td>3.00</td>\n      <td>4.0</td>\n    </tr>\n    <tr>\n      <th>patientid</th>\n      <td>318438.0</td>\n      <td>65747.579472</td>\n      <td>37979.936440</td>\n      <td>1.0</td>\n      <td>32847.00</td>\n      <td>65724.5</td>\n      <td>98470.00</td>\n      <td>131624.0</td>\n    </tr>\n    <tr>\n      <th>City_Code_Patient</th>\n      <td>313906.0</td>\n      <td>7.251859</td>\n      <td>4.745266</td>\n      <td>1.0</td>\n      <td>4.00</td>\n      <td>8.0</td>\n      <td>8.00</td>\n      <td>38.0</td>\n    </tr>\n    <tr>\n      <th>Visitors with Patient</th>\n      <td>318438.0</td>\n      <td>3.284099</td>\n      <td>1.764061</td>\n      <td>0.0</td>\n      <td>2.00</td>\n      <td>3.0</td>\n      <td>4.00</td>\n      <td>32.0</td>\n    </tr>\n    <tr>\n      <th>Admission_Deposit</th>\n      <td>318438.0</td>\n      <td>4880.749392</td>\n      <td>1086.776254</td>\n      <td>1800.0</td>\n      <td>4186.00</td>\n      <td>4741.0</td>\n      <td>5409.00</td>\n      <td>11008.0</td>\n    </tr>\n  </tbody>\n</table>\n</div>"
     },
     "execution_count": 11,
     "metadata": {},
     "output_type": "execute_result"
    }
   ],
   "source": [
    "df.describe().T"
   ],
   "metadata": {
    "collapsed": false
   }
  },
  {
   "cell_type": "markdown",
   "source": [
    "## NaN"
   ],
   "metadata": {
    "collapsed": false
   }
  },
  {
   "cell_type": "code",
   "execution_count": 12,
   "outputs": [
    {
     "name": "stdout",
     "output_type": "stream",
     "text": [
      "case_id                                 0\n",
      "Hospital_code                           0\n",
      "Hospital_type_code                      0\n",
      "City_Code_Hospital                      0\n",
      "Hospital_region_code                    0\n",
      "Available Extra Rooms in Hospital       0\n",
      "Department                              0\n",
      "Ward_Type                               0\n",
      "Ward_Facility_Code                      0\n",
      "Bed Grade                             113\n",
      "patientid                               0\n",
      "City_Code_Patient                    4532\n",
      "Type of Admission                       0\n",
      "Severity of Illness                     0\n",
      "Visitors with Patient                   0\n",
      "Age                                     0\n",
      "Admission_Deposit                       0\n",
      "Stay                                    0\n",
      "dtype: int64\n",
      "------------------------------------------------------------------------------------------\n",
      "\"Bed Grade\" column has 113 null values\n",
      "\"City_Code_Patient\" column has 4532 null values\n"
     ]
    }
   ],
   "source": [
    "print(df.isnull().sum())\n",
    "\n",
    "print('---' * 30)\n",
    "\n",
    "for idx, value in enumerate(df.isnull().sum()):\n",
    "    if value != 0:\n",
    "        print('\"{}\" column has {} null values'.format(df.columns[idx], value))"
   ],
   "metadata": {
    "collapsed": false
   }
  },
  {
   "cell_type": "markdown",
   "source": [
    "> Null 값은 침대 상태(`Bed Grade`)와 `City_Code_Patient` 변수에서 존재했음. 근데 City_Code_Patient는 어떤 정보를 담고 있는걸까?"
   ],
   "metadata": {
    "collapsed": false
   }
  },
  {
   "cell_type": "code",
   "execution_count": 13,
   "outputs": [
    {
     "data": {
      "text/plain": "        City_Code_Patient  City_Code_Hospital\n0                     7.0                   3\n1                     7.0                   5\n2                     7.0                   1\n3                     7.0                   2\n4                     7.0                   2\n...                   ...                 ...\n318433               23.0                   6\n318434                8.0                   1\n318435               10.0                   4\n318436                8.0                   2\n318437                8.0                   7\n\n[318438 rows x 2 columns]",
      "text/html": "<div>\n<style scoped>\n    .dataframe tbody tr th:only-of-type {\n        vertical-align: middle;\n    }\n\n    .dataframe tbody tr th {\n        vertical-align: top;\n    }\n\n    .dataframe thead th {\n        text-align: right;\n    }\n</style>\n<table border=\"1\" class=\"dataframe\">\n  <thead>\n    <tr style=\"text-align: right;\">\n      <th></th>\n      <th>City_Code_Patient</th>\n      <th>City_Code_Hospital</th>\n    </tr>\n  </thead>\n  <tbody>\n    <tr>\n      <th>0</th>\n      <td>7.0</td>\n      <td>3</td>\n    </tr>\n    <tr>\n      <th>1</th>\n      <td>7.0</td>\n      <td>5</td>\n    </tr>\n    <tr>\n      <th>2</th>\n      <td>7.0</td>\n      <td>1</td>\n    </tr>\n    <tr>\n      <th>3</th>\n      <td>7.0</td>\n      <td>2</td>\n    </tr>\n    <tr>\n      <th>4</th>\n      <td>7.0</td>\n      <td>2</td>\n    </tr>\n    <tr>\n      <th>...</th>\n      <td>...</td>\n      <td>...</td>\n    </tr>\n    <tr>\n      <th>318433</th>\n      <td>23.0</td>\n      <td>6</td>\n    </tr>\n    <tr>\n      <th>318434</th>\n      <td>8.0</td>\n      <td>1</td>\n    </tr>\n    <tr>\n      <th>318435</th>\n      <td>10.0</td>\n      <td>4</td>\n    </tr>\n    <tr>\n      <th>318436</th>\n      <td>8.0</td>\n      <td>2</td>\n    </tr>\n    <tr>\n      <th>318437</th>\n      <td>8.0</td>\n      <td>7</td>\n    </tr>\n  </tbody>\n</table>\n<p>318438 rows × 2 columns</p>\n</div>"
     },
     "execution_count": 13,
     "metadata": {},
     "output_type": "execute_result"
    }
   ],
   "source": [
    "df[['City_Code_Patient', 'City_Code_Hospital']]"
   ],
   "metadata": {
    "collapsed": false
   }
  },
  {
   "cell_type": "markdown",
   "source": [
    "City Code가 무엇인지 알아야할 필요가 있음. 병원가 환자별로 코드가 다름"
   ],
   "metadata": {
    "collapsed": false
   }
  },
  {
   "cell_type": "code",
   "execution_count": 14,
   "outputs": [
    {
     "data": {
      "text/plain": "1.0      26377\n2.0      38869\n3.0       3772\n4.0      15380\n5.0      20079\n6.0       6005\n7.0      23807\n8.0     124011\n9.0      11795\n10.0      8174\n11.0       658\n12.0      5647\n13.0      1625\n14.0      2927\n15.0      8950\n16.0      2254\n18.0      1404\n19.0      1028\n20.0      1409\n21.0      1602\n22.0       405\n23.0      3698\n24.0       360\n25.0       798\n26.0      1023\n27.0       771\n28.0       521\n29.0        98\n30.0       133\n31.0        59\n32.0        52\n33.0        78\n34.0        46\n35.0        16\n36.0        12\n37.0        57\n38.0         6\nName: City_Code_Patient, dtype: int64"
     },
     "execution_count": 14,
     "metadata": {},
     "output_type": "execute_result"
    }
   ],
   "source": [
    "df['City_Code_Patient'].value_counts().sort_index()"
   ],
   "metadata": {
    "collapsed": false
   }
  },
  {
   "cell_type": "code",
   "execution_count": 15,
   "outputs": [
    {
     "data": {
      "text/plain": "<Figure size 864x432 with 1 Axes>",
      "image/png": "[encoded data removed]"
     },
     "metadata": {
      "needs_background": "light"
     },
     "output_type": "display_data"
    }
   ],
   "source": [
    "value_counts_plot(df, 'City_Code_Patient')"
   ],
   "metadata": {
    "collapsed": false
   }
  },
  {
   "cell_type": "code",
   "execution_count": 16,
   "outputs": [],
   "source": [
    "# plt.figure(figsize=(12, 6))\n",
    "# df['City_Code_Patient'].value_counts().sort_index().plot(kind='bar')\n",
    "# plt.xticks(rotation=45)"
   ],
   "metadata": {
    "collapsed": false
   }
  },
  {
   "cell_type": "code",
   "execution_count": 17,
   "outputs": [
    {
     "data": {
      "text/plain": "1     55351\n2     51809\n3     31569\n4     13857\n5     31105\n6     46991\n7     35463\n9     26277\n10     5249\n11    17137\n13     3630\nName: City_Code_Hospital, dtype: int64"
     },
     "execution_count": 17,
     "metadata": {},
     "output_type": "execute_result"
    }
   ],
   "source": [
    "df['City_Code_Hospital'].value_counts().sort_index()"
   ],
   "metadata": {
    "collapsed": false
   }
  },
  {
   "cell_type": "code",
   "execution_count": 18,
   "outputs": [
    {
     "data": {
      "text/plain": "<Figure size 864x432 with 1 Axes>",
      "image/png": "[encoded data removed]"
     },
     "metadata": {
      "needs_background": "light"
     },
     "output_type": "display_data"
    }
   ],
   "source": [
    "value_counts_plot(df, 'City_Code_Hospital')"
   ],
   "metadata": {
    "collapsed": false
   }
  },
  {
   "cell_type": "code",
   "execution_count": 19,
   "outputs": [
    {
     "data": {
      "text/plain": "92017"
     },
     "execution_count": 19,
     "metadata": {},
     "output_type": "execute_result"
    }
   ],
   "source": [
    "df['patientid'].nunique()"
   ],
   "metadata": {
    "collapsed": false
   }
  },
  {
   "cell_type": "code",
   "execution_count": 20,
   "outputs": [
    {
     "data": {
      "text/plain": "          City_Code_Hospital                                                 \n                       count      mean       std  min   25%  50%    75%   max\npatientid                                                                    \n1                        4.0  5.250000  3.304038  2.0  2.75  5.0   7.50   9.0\n2                        2.0  2.500000  0.707107  2.0  2.25  2.5   2.75   3.0\n4                        2.0  2.000000  1.414214  1.0  1.50  2.0   2.50   3.0\n6                        1.0  3.000000       NaN  3.0  3.00  3.0   3.00   3.0\n7                        4.0  1.250000  0.500000  1.0  1.00  1.0   1.25   2.0\n...                      ...       ...       ...  ...   ...  ...    ...   ...\n131620                   9.0  4.555556  1.878238  2.0  3.00  5.0   6.00   7.0\n131621                   3.0  4.333333  2.309401  3.0  3.00  3.0   5.00   7.0\n131622                   4.0  6.500000  6.403124  1.0  1.00  6.0  11.50  13.0\n131623                   2.0  6.500000  0.707107  6.0  6.25  6.5   6.75   7.0\n131624                   3.0  3.000000  2.645751  1.0  1.50  2.0   4.00   6.0\n\n[92017 rows x 8 columns]",
      "text/html": "<div>\n<style scoped>\n    .dataframe tbody tr th:only-of-type {\n        vertical-align: middle;\n    }\n\n    .dataframe tbody tr th {\n        vertical-align: top;\n    }\n\n    .dataframe thead tr th {\n        text-align: left;\n    }\n\n    .dataframe thead tr:last-of-type th {\n        text-align: right;\n    }\n</style>\n<table border=\"1\" class=\"dataframe\">\n  <thead>\n    <tr>\n      <th></th>\n      <th colspan=\"8\" halign=\"left\">City_Code_Hospital</th>\n    </tr>\n    <tr>\n      <th></th>\n      <th>count</th>\n      <th>mean</th>\n      <th>std</th>\n      <th>min</th>\n      <th>25%</th>\n      <th>50%</th>\n      <th>75%</th>\n      <th>max</th>\n    </tr>\n    <tr>\n      <th>patientid</th>\n      <th></th>\n      <th></th>\n      <th></th>\n      <th></th>\n      <th></th>\n      <th></th>\n      <th></th>\n      <th></th>\n    </tr>\n  </thead>\n  <tbody>\n    <tr>\n      <th>1</th>\n      <td>4.0</td>\n      <td>5.250000</td>\n      <td>3.304038</td>\n      <td>2.0</td>\n      <td>2.75</td>\n      <td>5.0</td>\n      <td>7.50</td>\n      <td>9.0</td>\n    </tr>\n    <tr>\n      <th>2</th>\n      <td>2.0</td>\n      <td>2.500000</td>\n      <td>0.707107</td>\n      <td>2.0</td>\n      <td>2.25</td>\n      <td>2.5</td>\n      <td>2.75</td>\n      <td>3.0</td>\n    </tr>\n    <tr>\n      <th>4</th>\n      <td>2.0</td>\n      <td>2.000000</td>\n      <td>1.414214</td>\n      <td>1.0</td>\n      <td>1.50</td>\n      <td>2.0</td>\n      <td>2.50</td>\n      <td>3.0</td>\n    </tr>\n    <tr>\n      <th>6</th>\n      <td>1.0</td>\n      <td>3.000000</td>\n      <td>NaN</td>\n      <td>3.0</td>\n      <td>3.00</td>\n      <td>3.0</td>\n      <td>3.00</td>\n      <td>3.0</td>\n    </tr>\n    <tr>\n      <th>7</th>\n      <td>4.0</td>\n      <td>1.250000</td>\n      <td>0.500000</td>\n      <td>1.0</td>\n      <td>1.00</td>\n      <td>1.0</td>\n      <td>1.25</td>\n      <td>2.0</td>\n    </tr>\n    <tr>\n      <th>...</th>\n      <td>...</td>\n      <td>...</td>\n      <td>...</td>\n      <td>...</td>\n      <td>...</td>\n      <td>...</td>\n      <td>...</td>\n      <td>...</td>\n    </tr>\n    <tr>\n      <th>131620</th>\n      <td>9.0</td>\n      <td>4.555556</td>\n      <td>1.878238</td>\n      <td>2.0</td>\n      <td>3.00</td>\n      <td>5.0</td>\n      <td>6.00</td>\n      <td>7.0</td>\n    </tr>\n    <tr>\n      <th>131621</th>\n      <td>3.0</td>\n      <td>4.333333</td>\n      <td>2.309401</td>\n      <td>3.0</td>\n      <td>3.00</td>\n      <td>3.0</td>\n      <td>5.00</td>\n      <td>7.0</td>\n    </tr>\n    <tr>\n      <th>131622</th>\n      <td>4.0</td>\n      <td>6.500000</td>\n      <td>6.403124</td>\n      <td>1.0</td>\n      <td>1.00</td>\n      <td>6.0</td>\n      <td>11.50</td>\n      <td>13.0</td>\n    </tr>\n    <tr>\n      <th>131623</th>\n      <td>2.0</td>\n      <td>6.500000</td>\n      <td>0.707107</td>\n      <td>6.0</td>\n      <td>6.25</td>\n      <td>6.5</td>\n      <td>6.75</td>\n      <td>7.0</td>\n    </tr>\n    <tr>\n      <th>131624</th>\n      <td>3.0</td>\n      <td>3.000000</td>\n      <td>2.645751</td>\n      <td>1.0</td>\n      <td>1.50</td>\n      <td>2.0</td>\n      <td>4.00</td>\n      <td>6.0</td>\n    </tr>\n  </tbody>\n</table>\n<p>92017 rows × 8 columns</p>\n</div>"
     },
     "execution_count": 20,
     "metadata": {},
     "output_type": "execute_result"
    }
   ],
   "source": [
    "df[['City_Code_Hospital', 'patientid']].groupby('patientid').describe()"
   ],
   "metadata": {
    "collapsed": false
   }
  },
  {
   "cell_type": "code",
   "execution_count": 21,
   "outputs": [
    {
     "data": {
      "text/plain": "<Figure size 864x432 with 1 Axes>",
      "image/png": "[encoded data removed]"
     },
     "metadata": {
      "needs_background": "light"
     },
     "output_type": "display_data"
    }
   ],
   "source": [
    "value_counts_plot(df, 'Stay')"
   ],
   "metadata": {
    "collapsed": false
   }
  },
  {
   "cell_type": "markdown",
   "source": [
    "0~60일까지 대부분의 데이터를 설명하는듯하다. 비율을 볼까?"
   ],
   "metadata": {
    "collapsed": false
   }
  },
  {
   "cell_type": "code",
   "execution_count": 22,
   "outputs": [
    {
     "name": "stdout",
     "output_type": "stream",
     "text": [
      "['0-10' '41-50' '31-40' '11-20' '51-60' '21-30' '71-80'\n",
      " 'More than 100 Days' '81-90' '61-70' '91-100']\n",
      "11\n"
     ]
    }
   ],
   "source": [
    "print(df['Stay'].unique())\n",
    "print(len(df['Stay'].unique()))"
   ],
   "metadata": {
    "collapsed": false
   }
  },
  {
   "cell_type": "code",
   "execution_count": 23,
   "outputs": [
    {
     "name": "stdout",
     "output_type": "stream",
     "text": [
      "['0-10', '11-20', '21-30', '31-40', '41-50', '51-60', '61-70', '71-80', '81-90', '91-100', 'More than 100 Days']\n",
      "5\n"
     ]
    }
   ],
   "source": [
    "idx_list = list(df['Stay'].value_counts().sort_index().index)\n",
    "print(idx_list)\n",
    "print(idx_list.index('51-60'))"
   ],
   "metadata": {
    "collapsed": false
   }
  },
  {
   "cell_type": "code",
   "execution_count": 24,
   "outputs": [
    {
     "name": "stdout",
     "output_type": "stream",
     "text": [
      "['0-10', '11-20', '21-30', '31-40', '41-50', '51-60']\n"
     ]
    }
   ],
   "source": [
    "print(idx_list[:6])"
   ],
   "metadata": {
    "collapsed": false
   }
  },
  {
   "cell_type": "code",
   "execution_count": 25,
   "outputs": [
    {
     "data": {
      "text/plain": "0         True\n1         True\n2         True\n3         True\n4         True\n          ... \n318433    True\n318434    True\n318435    True\n318436    True\n318437    True\nName: Stay, Length: 318438, dtype: bool"
     },
     "execution_count": 25,
     "metadata": {},
     "output_type": "execute_result"
    }
   ],
   "source": [
    "df['Stay'].isin(idx_list[:6])"
   ],
   "metadata": {
    "collapsed": false
   }
  },
  {
   "cell_type": "code",
   "execution_count": 26,
   "outputs": [
    {
     "name": "stdout",
     "output_type": "stream",
     "text": [
      "91.43 %\n"
     ]
    }
   ],
   "source": [
    "print(\"{} %\".format(np.round(len(df.loc[ df['Stay'].isin(idx_list[:6]) ]) / len(df) * 100, 2)))"
   ],
   "metadata": {
    "collapsed": false
   }
  },
  {
   "cell_type": "markdown",
   "source": [
    "91.43%의 데이터가 60일까지의 `Stay`의 비율을 차지함. 그 이후 카테고리는 61일 이상으로 통합해주자"
   ],
   "metadata": {
    "collapsed": false
   }
  },
  {
   "cell_type": "markdown",
   "source": [
    "# Target 통합 1"
   ],
   "metadata": {
    "collapsed": false
   }
  },
  {
   "cell_type": "code",
   "execution_count": 27,
   "outputs": [],
   "source": [
    "stay_df = df.copy()"
   ],
   "metadata": {
    "collapsed": false
   }
  },
  {
   "cell_type": "code",
   "execution_count": 28,
   "outputs": [
    {
     "data": {
      "text/plain": "0-10      7.412432\n11-20    24.538215\n21-30    27.475050\n31-40    17.321739\n41-50     3.687688\n51-60    10.996803\n61+       8.568073\nName: Stay, dtype: float64"
     },
     "execution_count": 28,
     "metadata": {},
     "output_type": "execute_result"
    }
   ],
   "source": [
    "stay_df.loc[df['Stay'].isin(idx_list[6:]), 'Stay'] = '61+'\n",
    "stay_df['Stay'].value_counts().sort_index() / len(stay_df) * 100"
   ],
   "metadata": {
    "collapsed": false
   }
  },
  {
   "cell_type": "markdown",
   "source": [
    "정상 변환한 것을 확인할 수 있음."
   ],
   "metadata": {
    "collapsed": false
   }
  },
  {
   "cell_type": "code",
   "execution_count": 29,
   "outputs": [
    {
     "data": {
      "text/plain": "<Figure size 864x288 with 2 Axes>",
      "image/png": "[encoded data removed]"
     },
     "metadata": {
      "needs_background": "light"
     },
     "output_type": "display_data"
    }
   ],
   "source": [
    "fig, ax = plt.subplots(1, 2, figsize=(12,4), sharey=True)\n",
    "\n",
    "fig.suptitle('Target 분포 비교 (왼: 타겟 통합전 vs 오: 타겟 통합 후)', fontsize=20, y=1.05)\n",
    "\n",
    "# ax number 1 : Before\n",
    "df['Stay'].value_counts().plot(kind='bar', ax=ax[0])\n",
    "ax[0].tick_params(axis='x', labelrotation=75)\n",
    "ax[0].set_title('Original Target', y=1.02)\n",
    "\n",
    "# ax number 2 : After\n",
    "stay_df['Stay'].value_counts().plot(kind='bar', color='green', ax=ax[1])\n",
    "ax[1].tick_params(axis='x', labelrotation=75)\n",
    "ax[1].set_title('Integrated Target', y=1.02)\n",
    "\n",
    "plt.show()"
   ],
   "metadata": {
    "collapsed": false
   }
  },
  {
   "cell_type": "code",
   "execution_count": 101,
   "outputs": [
    {
     "data": {
      "text/plain": "Age     Stay              \n0-10    11-20                 1959\n        21-30                 1489\n        31-40                 1014\n        0-10                   615\n        51-60                  582\n                              ... \n91-100  71-80                   63\n        More than 100 Days      63\n        61-70                   29\n        81-90                   29\n        91-100                  19\nLength: 110, dtype: int64"
     },
     "execution_count": 101,
     "metadata": {},
     "output_type": "execute_result"
    }
   ],
   "source": [
    "df[['Stay', 'Age']].groupby('Age').value_counts()"
   ],
   "metadata": {
    "collapsed": false
   }
  },
  {
   "cell_type": "markdown",
   "source": [
    "# Performance of Baseline Model BEFORE and AFTER Redefining Target"
   ],
   "metadata": {
    "collapsed": false
   }
  },
  {
   "cell_type": "code",
   "execution_count": 102,
   "outputs": [],
   "source": [
    "from sklearn.model_selection import train_test_split\n",
    "from sklearn.preprocessing import StandardScaler, MinMaxScaler\n",
    "from sklearn.preprocessing import LabelEncoder\n",
    "\n",
    "from lightgbm import LGBMClassifier"
   ],
   "metadata": {
    "collapsed": false
   }
  },
  {
   "cell_type": "code",
   "execution_count": 35,
   "outputs": [
    {
     "name": "stdout",
     "output_type": "stream",
     "text": [
      "7\n"
     ]
    }
   ],
   "source": [
    "num_classes = stay_df['Stay'].nunique()\n",
    "print(num_classes)"
   ],
   "metadata": {
    "collapsed": false
   }
  },
  {
   "cell_type": "markdown",
   "source": [
    "### baseline 태울 Encoding 먼저"
   ],
   "metadata": {
    "collapsed": false
   }
  },
  {
   "cell_type": "code",
   "execution_count": 31,
   "outputs": [
    {
     "data": {
      "text/plain": "LabelEncoder()",
      "text/html": "<style>#sk-container-id-1 {color: black;background-color: white;}#sk-container-id-1 pre{padding: 0;}#sk-container-id-1 div.sk-toggleable {background-color: white;}#sk-container-id-1 label.sk-toggleable__label {cursor: pointer;display: block;width: 100%;margin-bottom: 0;padding: 0.3em;box-sizing: border-box;text-align: center;}#sk-container-id-1 label.sk-toggleable__label-arrow:before {content: \"▸\";float: left;margin-right: 0.25em;color: #696969;}#sk-container-id-1 label.sk-toggleable__label-arrow:hover:before {color: black;}#sk-container-id-1 div.sk-estimator:hover label.sk-toggleable__label-arrow:before {color: black;}#sk-container-id-1 div.sk-toggleable__content {max-height: 0;max-width: 0;overflow: hidden;text-align: left;background-color: #f0f8ff;}#sk-container-id-1 div.sk-toggleable__content pre {margin: 0.2em;color: black;border-radius: 0.25em;background-color: #f0f8ff;}#sk-container-id-1 input.sk-toggleable__control:checked~div.sk-toggleable__content {max-height: 200px;max-width: 100%;overflow: auto;}#sk-container-id-1 input.sk-toggleable__control:checked~label.sk-toggleable__label-arrow:before {content: \"▾\";}#sk-container-id-1 div.sk-estimator input.sk-toggleable__control:checked~label.sk-toggleable__label {background-color: #d4ebff;}#sk-container-id-1 div.sk-label input.sk-toggleable__control:checked~label.sk-toggleable__label {background-color: #d4ebff;}#sk-container-id-1 input.sk-hidden--visually {border: 0;clip: rect(1px 1px 1px 1px);clip: rect(1px, 1px, 1px, 1px);height: 1px;margin: -1px;overflow: hidden;padding: 0;position: absolute;width: 1px;}#sk-container-id-1 div.sk-estimator {font-family: monospace;background-color: #f0f8ff;border: 1px dotted black;border-radius: 0.25em;box-sizing: border-box;margin-bottom: 0.5em;}#sk-container-id-1 div.sk-estimator:hover {background-color: #d4ebff;}#sk-container-id-1 div.sk-parallel-item::after {content: \"\";width: 100%;border-bottom: 1px solid gray;flex-grow: 1;}#sk-container-id-1 div.sk-label:hover label.sk-toggleable__label {background-color: #d4ebff;}#sk-container-id-1 div.sk-serial::before {content: \"\";position: absolute;border-left: 1px solid gray;box-sizing: border-box;top: 0;bottom: 0;left: 50%;z-index: 0;}#sk-container-id-1 div.sk-serial {display: flex;flex-direction: column;align-items: center;background-color: white;padding-right: 0.2em;padding-left: 0.2em;position: relative;}#sk-container-id-1 div.sk-item {position: relative;z-index: 1;}#sk-container-id-1 div.sk-parallel {display: flex;align-items: stretch;justify-content: center;background-color: white;position: relative;}#sk-container-id-1 div.sk-item::before, #sk-container-id-1 div.sk-parallel-item::before {content: \"\";position: absolute;border-left: 1px solid gray;box-sizing: border-box;top: 0;bottom: 0;left: 50%;z-index: -1;}#sk-container-id-1 div.sk-parallel-item {display: flex;flex-direction: column;z-index: 1;position: relative;background-color: white;}#sk-container-id-1 div.sk-parallel-item:first-child::after {align-self: flex-end;width: 50%;}#sk-container-id-1 div.sk-parallel-item:last-child::after {align-self: flex-start;width: 50%;}#sk-container-id-1 div.sk-parallel-item:only-child::after {width: 0;}#sk-container-id-1 div.sk-dashed-wrapped {border: 1px dashed gray;margin: 0 0.4em 0.5em 0.4em;box-sizing: border-box;padding-bottom: 0.4em;background-color: white;}#sk-container-id-1 div.sk-label label {font-family: monospace;font-weight: bold;display: inline-block;line-height: 1.2em;}#sk-container-id-1 div.sk-label-container {text-align: center;}#sk-container-id-1 div.sk-container {/* jupyter's `normalize.less` sets `[hidden] { display: none; }` but bootstrap.min.css set `[hidden] { display: none !important; }` so we also need the `!important` here to be able to override the default hidden behavior on the sphinx rendered scikit-learn.org. See: https://github.com/scikit-learn/scikit-learn/issues/21755 */display: inline-block !important;position: relative;}#sk-container-id-1 div.sk-text-repr-fallback {display: none;}</style><div id=\"sk-container-id-1\" class=\"sk-top-container\"><div class=\"sk-text-repr-fallback\"><pre>LabelEncoder()</pre><b>In a Jupyter environment, please rerun this cell to show the HTML representation or trust the notebook. <br />On GitHub, the HTML representation is unable to render, please try loading this page with nbviewer.org.</b></div><div class=\"sk-container\" hidden><div class=\"sk-item\"><div class=\"sk-estimator sk-toggleable\"><input class=\"sk-toggleable__control sk-hidden--visually\" id=\"sk-estimator-id-1\" type=\"checkbox\" checked><label for=\"sk-estimator-id-1\" class=\"sk-toggleable__label sk-toggleable__label-arrow\">LabelEncoder</label><div class=\"sk-toggleable__content\"><pre>LabelEncoder()</pre></div></div></div></div></div>"
     },
     "execution_count": 31,
     "metadata": {},
     "output_type": "execute_result"
    }
   ],
   "source": [
    "le = LabelEncoder()\n",
    "le.fit(stay_df['Stay'])"
   ],
   "metadata": {
    "collapsed": false
   }
  },
  {
   "cell_type": "code",
   "execution_count": 103,
   "outputs": [
    {
     "data": {
      "text/plain": "array(['0-10', '11-20', '21-30', '31-40', '41-50', '51-60', '61+'],\n      dtype=object)"
     },
     "execution_count": 103,
     "metadata": {},
     "output_type": "execute_result"
    }
   ],
   "source": [
    "# stay_label = le.classes_\n",
    "stay_label"
   ],
   "metadata": {
    "collapsed": false
   }
  },
  {
   "cell_type": "code",
   "execution_count": 33,
   "outputs": [
    {
     "data": {
      "text/plain": "array([0, 4, 3, 1, 5, 2, 6])"
     },
     "execution_count": 33,
     "metadata": {},
     "output_type": "execute_result"
    }
   ],
   "source": [
    "stay_df['Stay'] = le.transform(stay_df['Stay'])\n",
    "stay_df['Stay'].unique()"
   ],
   "metadata": {
    "collapsed": false
   }
  },
  {
   "cell_type": "code",
   "execution_count": 34,
   "outputs": [
    {
     "data": {
      "text/plain": "        case_id  Hospital_code Hospital_type_code  City_Code_Hospital  \\\n0             1              8                  c                   3   \n1             2              2                  c                   5   \n2             3             10                  e                   1   \n3             4             26                  b                   2   \n4             5             26                  b                   2   \n...         ...            ...                ...                 ...   \n318433   318434              6                  a                   6   \n318434   318435             24                  a                   1   \n318435   318436              7                  a                   4   \n318436   318437             11                  b                   2   \n318437   318438             19                  a                   7   \n\n       Hospital_region_code  Available Extra Rooms in Hospital    Department  \\\n0                         Z                                  3  radiotherapy   \n1                         Z                                  2  radiotherapy   \n2                         X                                  2    anesthesia   \n3                         Y                                  2  radiotherapy   \n4                         Y                                  2  radiotherapy   \n...                     ...                                ...           ...   \n318433                    X                                  3  radiotherapy   \n318434                    X                                  2    anesthesia   \n318435                    X                                  3    gynecology   \n318436                    Y                                  3    anesthesia   \n318437                    Y                                  5    gynecology   \n\n       Ward_Type Ward_Facility_Code  Bed Grade  patientid  City_Code_Patient  \\\n0              R                  F        2.0      31397                7.0   \n1              S                  F        2.0      31397                7.0   \n2              S                  E        2.0      31397                7.0   \n3              R                  D        2.0      31397                7.0   \n4              S                  D        2.0      31397                7.0   \n...          ...                ...        ...        ...                ...   \n318433         Q                  F        4.0      86499               23.0   \n318434         Q                  E        4.0        325                8.0   \n318435         R                  F        4.0     125235               10.0   \n318436         Q                  D        3.0      91081                8.0   \n318437         Q                  C        2.0      21641                8.0   \n\n       Type of Admission Severity of Illness  Visitors with Patient    Age  \\\n0              Emergency             Extreme                      2  51-60   \n1                 Trauma             Extreme                      2  51-60   \n2                 Trauma             Extreme                      2  51-60   \n3                 Trauma             Extreme                      2  51-60   \n4                 Trauma             Extreme                      2  51-60   \n...                  ...                 ...                    ...    ...   \n318433         Emergency            Moderate                      3  41-50   \n318434            Urgent            Moderate                      4  81-90   \n318435         Emergency               Minor                      3  71-80   \n318436            Trauma               Minor                      5  11-20   \n318437         Emergency               Minor                      2  11-20   \n\n        Admission_Deposit  Stay  \n0                  4911.0     0  \n1                  5954.0     4  \n2                  4745.0     3  \n3                  7272.0     4  \n4                  5558.0     4  \n...                   ...   ...  \n318433             4144.0     1  \n318434             6699.0     3  \n318435             4235.0     1  \n318436             3761.0     1  \n318437             4752.0     0  \n\n[318438 rows x 18 columns]",
      "text/html": "<div>\n<style scoped>\n    .dataframe tbody tr th:only-of-type {\n        vertical-align: middle;\n    }\n\n    .dataframe tbody tr th {\n        vertical-align: top;\n    }\n\n    .dataframe thead th {\n        text-align: right;\n    }\n</style>\n<table border=\"1\" class=\"dataframe\">\n  <thead>\n    <tr style=\"text-align: right;\">\n      <th></th>\n      <th>case_id</th>\n      <th>Hospital_code</th>\n      <th>Hospital_type_code</th>\n      <th>City_Code_Hospital</th>\n      <th>Hospital_region_code</th>\n      <th>Available Extra Rooms in Hospital</th>\n      <th>Department</th>\n      <th>Ward_Type</th>\n      <th>Ward_Facility_Code</th>\n      <th>Bed Grade</th>\n      <th>patientid</th>\n      <th>City_Code_Patient</th>\n      <th>Type of Admission</th>\n      <th>Severity of Illness</th>\n      <th>Visitors with Patient</th>\n      <th>Age</th>\n      <th>Admission_Deposit</th>\n      <th>Stay</th>\n    </tr>\n  </thead>\n  <tbody>\n    <tr>\n      <th>0</th>\n      <td>1</td>\n      <td>8</td>\n      <td>c</td>\n      <td>3</td>\n      <td>Z</td>\n      <td>3</td>\n      <td>radiotherapy</td>\n      <td>R</td>\n      <td>F</td>\n      <td>2.0</td>\n      <td>31397</td>\n      <td>7.0</td>\n      <td>Emergency</td>\n      <td>Extreme</td>\n      <td>2</td>\n      <td>51-60</td>\n      <td>4911.0</td>\n      <td>0</td>\n    </tr>\n    <tr>\n      <th>1</th>\n      <td>2</td>\n      <td>2</td>\n      <td>c</td>\n      <td>5</td>\n      <td>Z</td>\n      <td>2</td>\n      <td>radiotherapy</td>\n      <td>S</td>\n      <td>F</td>\n      <td>2.0</td>\n      <td>31397</td>\n      <td>7.0</td>\n      <td>Trauma</td>\n      <td>Extreme</td>\n      <td>2</td>\n      <td>51-60</td>\n      <td>5954.0</td>\n      <td>4</td>\n    </tr>\n    <tr>\n      <th>2</th>\n      <td>3</td>\n      <td>10</td>\n      <td>e</td>\n      <td>1</td>\n      <td>X</td>\n      <td>2</td>\n      <td>anesthesia</td>\n      <td>S</td>\n      <td>E</td>\n      <td>2.0</td>\n      <td>31397</td>\n      <td>7.0</td>\n      <td>Trauma</td>\n      <td>Extreme</td>\n      <td>2</td>\n      <td>51-60</td>\n      <td>4745.0</td>\n      <td>3</td>\n    </tr>\n    <tr>\n      <th>3</th>\n      <td>4</td>\n      <td>26</td>\n      <td>b</td>\n      <td>2</td>\n      <td>Y</td>\n      <td>2</td>\n      <td>radiotherapy</td>\n      <td>R</td>\n      <td>D</td>\n      <td>2.0</td>\n      <td>31397</td>\n      <td>7.0</td>\n      <td>Trauma</td>\n      <td>Extreme</td>\n      <td>2</td>\n      <td>51-60</td>\n      <td>7272.0</td>\n      <td>4</td>\n    </tr>\n    <tr>\n      <th>4</th>\n      <td>5</td>\n      <td>26</td>\n      <td>b</td>\n      <td>2</td>\n      <td>Y</td>\n      <td>2</td>\n      <td>radiotherapy</td>\n      <td>S</td>\n      <td>D</td>\n      <td>2.0</td>\n      <td>31397</td>\n      <td>7.0</td>\n      <td>Trauma</td>\n      <td>Extreme</td>\n      <td>2</td>\n      <td>51-60</td>\n      <td>5558.0</td>\n      <td>4</td>\n    </tr>\n    <tr>\n      <th>...</th>\n      <td>...</td>\n      <td>...</td>\n      <td>...</td>\n      <td>...</td>\n      <td>...</td>\n      <td>...</td>\n      <td>...</td>\n      <td>...</td>\n      <td>...</td>\n      <td>...</td>\n      <td>...</td>\n      <td>...</td>\n      <td>...</td>\n      <td>...</td>\n      <td>...</td>\n      <td>...</td>\n      <td>...</td>\n      <td>...</td>\n    </tr>\n    <tr>\n      <th>318433</th>\n      <td>318434</td>\n      <td>6</td>\n      <td>a</td>\n      <td>6</td>\n      <td>X</td>\n      <td>3</td>\n      <td>radiotherapy</td>\n      <td>Q</td>\n      <td>F</td>\n      <td>4.0</td>\n      <td>86499</td>\n      <td>23.0</td>\n      <td>Emergency</td>\n      <td>Moderate</td>\n      <td>3</td>\n      <td>41-50</td>\n      <td>4144.0</td>\n      <td>1</td>\n    </tr>\n    <tr>\n      <th>318434</th>\n      <td>318435</td>\n      <td>24</td>\n      <td>a</td>\n      <td>1</td>\n      <td>X</td>\n      <td>2</td>\n      <td>anesthesia</td>\n      <td>Q</td>\n      <td>E</td>\n      <td>4.0</td>\n      <td>325</td>\n      <td>8.0</td>\n      <td>Urgent</td>\n      <td>Moderate</td>\n      <td>4</td>\n      <td>81-90</td>\n      <td>6699.0</td>\n      <td>3</td>\n    </tr>\n    <tr>\n      <th>318435</th>\n      <td>318436</td>\n      <td>7</td>\n      <td>a</td>\n      <td>4</td>\n      <td>X</td>\n      <td>3</td>\n      <td>gynecology</td>\n      <td>R</td>\n      <td>F</td>\n      <td>4.0</td>\n      <td>125235</td>\n      <td>10.0</td>\n      <td>Emergency</td>\n      <td>Minor</td>\n      <td>3</td>\n      <td>71-80</td>\n      <td>4235.0</td>\n      <td>1</td>\n    </tr>\n    <tr>\n      <th>318436</th>\n      <td>318437</td>\n      <td>11</td>\n      <td>b</td>\n      <td>2</td>\n      <td>Y</td>\n      <td>3</td>\n      <td>anesthesia</td>\n      <td>Q</td>\n      <td>D</td>\n      <td>3.0</td>\n      <td>91081</td>\n      <td>8.0</td>\n      <td>Trauma</td>\n      <td>Minor</td>\n      <td>5</td>\n      <td>11-20</td>\n      <td>3761.0</td>\n      <td>1</td>\n    </tr>\n    <tr>\n      <th>318437</th>\n      <td>318438</td>\n      <td>19</td>\n      <td>a</td>\n      <td>7</td>\n      <td>Y</td>\n      <td>5</td>\n      <td>gynecology</td>\n      <td>Q</td>\n      <td>C</td>\n      <td>2.0</td>\n      <td>21641</td>\n      <td>8.0</td>\n      <td>Emergency</td>\n      <td>Minor</td>\n      <td>2</td>\n      <td>11-20</td>\n      <td>4752.0</td>\n      <td>0</td>\n    </tr>\n  </tbody>\n</table>\n<p>318438 rows × 18 columns</p>\n</div>"
     },
     "execution_count": 34,
     "metadata": {},
     "output_type": "execute_result"
    }
   ],
   "source": [
    "stay_df"
   ],
   "metadata": {
    "collapsed": false
   }
  },
  {
   "cell_type": "code",
   "execution_count": 60,
   "outputs": [
    {
     "data": {
      "text/plain": "True"
     },
     "execution_count": 60,
     "metadata": {},
     "output_type": "execute_result"
    }
   ],
   "source": [
    "stay_df.case_id.nunique() == len(stay_df)"
   ],
   "metadata": {
    "collapsed": false
   }
  },
  {
   "cell_type": "code",
   "execution_count": 56,
   "outputs": [],
   "source": [
    "decoding_dict = {}\n",
    "\n",
    "for idx, dtype in enumerate(stay_df.dtypes):\n",
    "    if dtype == 'object':\n",
    "        col_name = list(stay_df.dtypes.index)[idx]\n",
    "        # print(col_name)\n",
    "        stay_df[col_name] = le.fit_transform(stay_df[col_name])\n",
    "        decoding_dict[col_name] = list(le.classes_)"
   ],
   "metadata": {
    "collapsed": false
   }
  },
  {
   "cell_type": "code",
   "execution_count": 57,
   "outputs": [
    {
     "data": {
      "text/plain": "case_id                                int64\nHospital_code                          int64\nHospital_type_code                     int64\nCity_Code_Hospital                     int64\nHospital_region_code                   int64\nAvailable Extra Rooms in Hospital      int64\nDepartment                             int64\nWard_Type                              int64\nWard_Facility_Code                     int64\nBed Grade                            float64\npatientid                              int64\nCity_Code_Patient                    float64\nType of Admission                      int64\nSeverity of Illness                    int64\nVisitors with Patient                  int64\nAge                                    int64\nAdmission_Deposit                    float64\nStay                                   int64\ndtype: object"
     },
     "execution_count": 57,
     "metadata": {},
     "output_type": "execute_result"
    }
   ],
   "source": [
    "stay_df.dtypes"
   ],
   "metadata": {
    "collapsed": false
   }
  },
  {
   "cell_type": "code",
   "execution_count": 61,
   "outputs": [
    {
     "name": "stdout",
     "output_type": "stream",
     "text": [
      "(238828, 16)\n",
      "(238828,)\n",
      "(79610, 16)\n",
      "(79610,)\n"
     ]
    }
   ],
   "source": [
    "X_train, X_test, y_train, y_test = train_test_split(stay_df.iloc[:, 1:-1],\n",
    "                                                    stay_df.iloc[:, -1],\n",
    "                                                    shuffle=True,\n",
    "                                                    stratify=stay_df.iloc[:, -1],\n",
    "                                                    random_state=42\n",
    "                                                    )\n",
    "\n",
    "print(X_train.shape)\n",
    "print(y_train.shape)\n",
    "print(X_test.shape)\n",
    "print(y_test.shape)"
   ],
   "metadata": {
    "collapsed": false
   }
  },
  {
   "cell_type": "code",
   "execution_count": 104,
   "outputs": [],
   "source": [
    "lgbm = LGBMClassifier(n_estimators=1000,\n",
    "                      objective='multi_class',\n",
    "                      num_class=num_classes,\n",
    "                      # class_weight='balanced',\n",
    "                      metric='multi_logloss',\n",
    "                      n_jobs=-1,\n",
    "                      random_state=42)"
   ],
   "metadata": {
    "collapsed": false
   }
  },
  {
   "cell_type": "code",
   "execution_count": 105,
   "outputs": [
    {
     "data": {
      "text/plain": "LGBMClassifier(metric='multi_logloss', n_estimators=1000, num_class=7,\n               objective='multi_class', random_state=42)",
      "text/html": "<style>#sk-container-id-3 {color: black;background-color: white;}#sk-container-id-3 pre{padding: 0;}#sk-container-id-3 div.sk-toggleable {background-color: white;}#sk-container-id-3 label.sk-toggleable__label {cursor: pointer;display: block;width: 100%;margin-bottom: 0;padding: 0.3em;box-sizing: border-box;text-align: center;}#sk-container-id-3 label.sk-toggleable__label-arrow:before {content: \"▸\";float: left;margin-right: 0.25em;color: #696969;}#sk-container-id-3 label.sk-toggleable__label-arrow:hover:before {color: black;}#sk-container-id-3 div.sk-estimator:hover label.sk-toggleable__label-arrow:before {color: black;}#sk-container-id-3 div.sk-toggleable__content {max-height: 0;max-width: 0;overflow: hidden;text-align: left;background-color: #f0f8ff;}#sk-container-id-3 div.sk-toggleable__content pre {margin: 0.2em;color: black;border-radius: 0.25em;background-color: #f0f8ff;}#sk-container-id-3 input.sk-toggleable__control:checked~div.sk-toggleable__content {max-height: 200px;max-width: 100%;overflow: auto;}#sk-container-id-3 input.sk-toggleable__control:checked~label.sk-toggleable__label-arrow:before {content: \"▾\";}#sk-container-id-3 div.sk-estimator input.sk-toggleable__control:checked~label.sk-toggleable__label {background-color: #d4ebff;}#sk-container-id-3 div.sk-label input.sk-toggleable__control:checked~label.sk-toggleable__label {background-color: #d4ebff;}#sk-container-id-3 input.sk-hidden--visually {border: 0;clip: rect(1px 1px 1px 1px);clip: rect(1px, 1px, 1px, 1px);height: 1px;margin: -1px;overflow: hidden;padding: 0;position: absolute;width: 1px;}#sk-container-id-3 div.sk-estimator {font-family: monospace;background-color: #f0f8ff;border: 1px dotted black;border-radius: 0.25em;box-sizing: border-box;margin-bottom: 0.5em;}#sk-container-id-3 div.sk-estimator:hover {background-color: #d4ebff;}#sk-container-id-3 div.sk-parallel-item::after {content: \"\";width: 100%;border-bottom: 1px solid gray;flex-grow: 1;}#sk-container-id-3 div.sk-label:hover label.sk-toggleable__label {background-color: #d4ebff;}#sk-container-id-3 div.sk-serial::before {content: \"\";position: absolute;border-left: 1px solid gray;box-sizing: border-box;top: 0;bottom: 0;left: 50%;z-index: 0;}#sk-container-id-3 div.sk-serial {display: flex;flex-direction: column;align-items: center;background-color: white;padding-right: 0.2em;padding-left: 0.2em;position: relative;}#sk-container-id-3 div.sk-item {position: relative;z-index: 1;}#sk-container-id-3 div.sk-parallel {display: flex;align-items: stretch;justify-content: center;background-color: white;position: relative;}#sk-container-id-3 div.sk-item::before, #sk-container-id-3 div.sk-parallel-item::before {content: \"\";position: absolute;border-left: 1px solid gray;box-sizing: border-box;top: 0;bottom: 0;left: 50%;z-index: -1;}#sk-container-id-3 div.sk-parallel-item {display: flex;flex-direction: column;z-index: 1;position: relative;background-color: white;}#sk-container-id-3 div.sk-parallel-item:first-child::after {align-self: flex-end;width: 50%;}#sk-container-id-3 div.sk-parallel-item:last-child::after {align-self: flex-start;width: 50%;}#sk-container-id-3 div.sk-parallel-item:only-child::after {width: 0;}#sk-container-id-3 div.sk-dashed-wrapped {border: 1px dashed gray;margin: 0 0.4em 0.5em 0.4em;box-sizing: border-box;padding-bottom: 0.4em;background-color: white;}#sk-container-id-3 div.sk-label label {font-family: monospace;font-weight: bold;display: inline-block;line-height: 1.2em;}#sk-container-id-3 div.sk-label-container {text-align: center;}#sk-container-id-3 div.sk-container {/* jupyter's `normalize.less` sets `[hidden] { display: none; }` but bootstrap.min.css set `[hidden] { display: none !important; }` so we also need the `!important` here to be able to override the default hidden behavior on the sphinx rendered scikit-learn.org. See: https://github.com/scikit-learn/scikit-learn/issues/21755 */display: inline-block !important;position: relative;}#sk-container-id-3 div.sk-text-repr-fallback {display: none;}</style><div id=\"sk-container-id-3\" class=\"sk-top-container\"><div class=\"sk-text-repr-fallback\"><pre>LGBMClassifier(metric=&#x27;multi_logloss&#x27;, n_estimators=1000, num_class=7,\n               objective=&#x27;multi_class&#x27;, random_state=42)</pre><b>In a Jupyter environment, please rerun this cell to show the HTML representation or trust the notebook. <br />On GitHub, the HTML representation is unable to render, please try loading this page with nbviewer.org.</b></div><div class=\"sk-container\" hidden><div class=\"sk-item\"><div class=\"sk-estimator sk-toggleable\"><input class=\"sk-toggleable__control sk-hidden--visually\" id=\"sk-estimator-id-3\" type=\"checkbox\" checked><label for=\"sk-estimator-id-3\" class=\"sk-toggleable__label sk-toggleable__label-arrow\">LGBMClassifier</label><div class=\"sk-toggleable__content\"><pre>LGBMClassifier(metric=&#x27;multi_logloss&#x27;, n_estimators=1000, num_class=7,\n               objective=&#x27;multi_class&#x27;, random_state=42)</pre></div></div></div></div></div>"
     },
     "execution_count": 105,
     "metadata": {},
     "output_type": "execute_result"
    }
   ],
   "source": [
    "lgbm.fit(X_train, y_train)"
   ],
   "metadata": {
    "collapsed": false
   }
  },
  {
   "cell_type": "code",
   "execution_count": 75,
   "outputs": [],
   "source": [
    "from sklearn.metrics import classification_report, confusion_matrix, roc_auc_score, accuracy_score"
   ],
   "metadata": {
    "collapsed": false
   }
  },
  {
   "cell_type": "code",
   "execution_count": 106,
   "outputs": [
    {
     "data": {
      "text/plain": "array([2, 1, 6, 1, 2, 1, 2, 3, 0, 3])"
     },
     "execution_count": 106,
     "metadata": {},
     "output_type": "execute_result"
    }
   ],
   "source": [
    "y_pred = lgbm.predict(X_test)\n",
    "y_pred[:10]"
   ],
   "metadata": {
    "collapsed": false
   }
  },
  {
   "cell_type": "code",
   "execution_count": 107,
   "outputs": [
    {
     "name": "stdout",
     "output_type": "stream",
     "text": [
      "              precision    recall  f1-score   support\n",
      "\n",
      "           0       0.36      0.17      0.23      5901\n",
      "           1       0.43      0.49      0.46     19535\n",
      "           2       0.43      0.65      0.51     21873\n",
      "           3       0.41      0.22      0.29     13790\n",
      "           4       0.13      0.01      0.01      2936\n",
      "           5       0.43      0.42      0.42      8754\n",
      "           6       0.58      0.42      0.48      6821\n",
      "\n",
      "    accuracy                           0.43     79610\n",
      "   macro avg       0.39      0.34      0.34     79610\n",
      "weighted avg       0.42      0.43      0.41     79610\n",
      "\n"
     ]
    }
   ],
   "source": [
    "print(classification_report(y_test, y_pred))"
   ],
   "metadata": {
    "collapsed": false
   }
  },
  {
   "cell_type": "code",
   "execution_count": 108,
   "outputs": [
    {
     "data": {
      "text/plain": "0.4320939580454717"
     },
     "execution_count": 108,
     "metadata": {},
     "output_type": "execute_result"
    }
   ],
   "source": [
    "accuracy_score(y_test, y_pred)"
   ],
   "metadata": {
    "collapsed": false
   }
  },
  {
   "cell_type": "code",
   "execution_count": 109,
   "outputs": [],
   "source": [
    "y_pred_proba = lgbm.predict_proba(X_test)"
   ],
   "metadata": {
    "collapsed": false
   }
  },
  {
   "cell_type": "code",
   "execution_count": 116,
   "outputs": [
    {
     "data": {
      "text/plain": "0.7728171107074695"
     },
     "execution_count": 116,
     "metadata": {},
     "output_type": "execute_result"
    }
   ],
   "source": [
    "# roc_auc_score(y_test, y_pred_proba, )\n",
    "roc_auc_score(y_test, y_pred_proba, multi_class='ovr')  # one versus rest"
   ],
   "metadata": {
    "collapsed": false
   }
  },
  {
   "cell_type": "code",
   "execution_count": 111,
   "outputs": [
    {
     "data": {
      "text/plain": "array([[1.28375832e+00, 3.47946238e+00, 2.51978395e+00, 7.53674162e-02,\n        1.50734832e-02, 2.76347193e-02, 1.13051124e-02],\n       [8.90591634e-01, 1.21379224e+01, 9.51262404e+00, 1.18578068e+00,\n        2.38663484e-02, 6.39366914e-01, 1.48222585e-01],\n       [6.19268936e-01, 7.85705313e+00, 1.77490265e+01, 6.14244442e-01,\n        5.65255621e-02, 3.35385002e-01, 2.43687979e-01],\n       [3.51714609e-01, 2.88782816e+00, 7.06067077e+00, 3.85629946e+00,\n        3.76837081e-02, 2.56374827e+00, 5.63999498e-01],\n       [1.29380731e-01, 6.68257757e-01, 2.27483984e+00, 2.49968597e-01,\n        2.38663484e-02, 2.16053260e-01, 1.25612360e-01],\n       [1.46966461e-01, 8.29041578e-01, 1.52242181e+00, 2.37156136e+00,\n        1.38173596e-02, 4.59615626e+00, 1.51614119e+00],\n       [1.26868484e-01, 4.24569778e-01, 1.02750911e+00, 9.76008039e-01,\n        1.63296068e-02, 2.43436754e+00, 3.56236654e+00]])"
     },
     "execution_count": 111,
     "metadata": {},
     "output_type": "execute_result"
    }
   ],
   "source": [
    "cm = confusion_matrix(y_test, y_pred)\n",
    "cm / len(y_test) * 100"
   ],
   "metadata": {
    "collapsed": false
   }
  },
  {
   "cell_type": "code",
   "execution_count": 112,
   "outputs": [
    {
     "data": {
      "text/plain": "<AxesSubplot: >"
     },
     "execution_count": 112,
     "metadata": {},
     "output_type": "execute_result"
    },
    {
     "data": {
      "text/plain": "<Figure size 864x432 with 2 Axes>",
      "image/png": "[encoded data removed]"
     },
     "metadata": {
      "needs_background": "light"
     },
     "output_type": "display_data"
    }
   ],
   "source": [
    "fig, ax = plt.subplots(figsize=(12, 6))\n",
    "\n",
    "sns.heatmap(cm / len(y_test),\n",
    "            cmap='Blues',\n",
    "            fmt='.2%',\n",
    "            annot=True,\n",
    "            ax=ax)"
   ],
   "metadata": {
    "collapsed": false
   }
  },
  {
   "cell_type": "code",
   "execution_count": 113,
   "outputs": [],
   "source": [
    "# train 으로 예측해보자"
   ],
   "metadata": {
    "collapsed": false
   }
  },
  {
   "cell_type": "code",
   "execution_count": 114,
   "outputs": [
    {
     "data": {
      "text/plain": "0.5975178789756644"
     },
     "execution_count": 114,
     "metadata": {},
     "output_type": "execute_result"
    }
   ],
   "source": [
    "y_pred_train = lgbm.predict(X_train)\n",
    "accuracy_score(y_train, y_pred_train)"
   ],
   "metadata": {
    "collapsed": false
   }
  },
  {
   "cell_type": "markdown",
   "source": [
    "## XGBoost"
   ],
   "metadata": {
    "collapsed": false
   }
  },
  {
   "cell_type": "code",
   "execution_count": 117,
   "outputs": [],
   "source": [
    "from xgboost import XGBClassifier"
   ],
   "metadata": {
    "collapsed": false
   }
  },
  {
   "cell_type": "code",
   "execution_count": 118,
   "outputs": [],
   "source": [
    "xgb = XGBClassifier(n_estimators=1000,\n",
    "                    objective='multi:softmax',\n",
    "                    num_class=num_classes,\n",
    "                    n_jobs=-1,\n",
    "                    random_state=42)"
   ],
   "metadata": {
    "collapsed": false
   }
  },
  {
   "cell_type": "code",
   "execution_count": 119,
   "outputs": [
    {
     "data": {
      "text/plain": "XGBClassifier(base_score=0.5, booster='gbtree', callbacks=None,\n              colsample_bylevel=1, colsample_bynode=1, colsample_bytree=1,\n              early_stopping_rounds=None, enable_categorical=False,\n              eval_metric=None, gamma=0, gpu_id=-1, grow_policy='depthwise',\n              importance_type=None, interaction_constraints='',\n              learning_rate=0.300000012, max_bin=256, max_cat_to_onehot=4,\n              max_delta_step=0, max_depth=6, max_leaves=0, min_child_weight=1,\n              missing=nan, monotone_constraints='()', n_estimators=1000,\n              n_jobs=-1, num_class=7, num_parallel_tree=1,\n              objective='multi:softmax', predictor='auto', random_state=42, ...)",
      "text/html": "<style>#sk-container-id-4 {color: black;background-color: white;}#sk-container-id-4 pre{padding: 0;}#sk-container-id-4 div.sk-toggleable {background-color: white;}#sk-container-id-4 label.sk-toggleable__label {cursor: pointer;display: block;width: 100%;margin-bottom: 0;padding: 0.3em;box-sizing: border-box;text-align: center;}#sk-container-id-4 label.sk-toggleable__label-arrow:before {content: \"▸\";float: left;margin-right: 0.25em;color: #696969;}#sk-container-id-4 label.sk-toggleable__label-arrow:hover:before {color: black;}#sk-container-id-4 div.sk-estimator:hover label.sk-toggleable__label-arrow:before {color: black;}#sk-container-id-4 div.sk-toggleable__content {max-height: 0;max-width: 0;overflow: hidden;text-align: left;background-color: #f0f8ff;}#sk-container-id-4 div.sk-toggleable__content pre {margin: 0.2em;color: black;border-radius: 0.25em;background-color: #f0f8ff;}#sk-container-id-4 input.sk-toggleable__control:checked~div.sk-toggleable__content {max-height: 200px;max-width: 100%;overflow: auto;}#sk-container-id-4 input.sk-toggleable__control:checked~label.sk-toggleable__label-arrow:before {content: \"▾\";}#sk-container-id-4 div.sk-estimator input.sk-toggleable__control:checked~label.sk-toggleable__label {background-color: #d4ebff;}#sk-container-id-4 div.sk-label input.sk-toggleable__control:checked~label.sk-toggleable__label {background-color: #d4ebff;}#sk-container-id-4 input.sk-hidden--visually {border: 0;clip: rect(1px 1px 1px 1px);clip: rect(1px, 1px, 1px, 1px);height: 1px;margin: -1px;overflow: hidden;padding: 0;position: absolute;width: 1px;}#sk-container-id-4 div.sk-estimator {font-family: monospace;background-color: #f0f8ff;border: 1px dotted black;border-radius: 0.25em;box-sizing: border-box;margin-bottom: 0.5em;}#sk-container-id-4 div.sk-estimator:hover {background-color: #d4ebff;}#sk-container-id-4 div.sk-parallel-item::after {content: \"\";width: 100%;border-bottom: 1px solid gray;flex-grow: 1;}#sk-container-id-4 div.sk-label:hover label.sk-toggleable__label {background-color: #d4ebff;}#sk-container-id-4 div.sk-serial::before {content: \"\";position: absolute;border-left: 1px solid gray;box-sizing: border-box;top: 0;bottom: 0;left: 50%;z-index: 0;}#sk-container-id-4 div.sk-serial {display: flex;flex-direction: column;align-items: center;background-color: white;padding-right: 0.2em;padding-left: 0.2em;position: relative;}#sk-container-id-4 div.sk-item {position: relative;z-index: 1;}#sk-container-id-4 div.sk-parallel {display: flex;align-items: stretch;justify-content: center;background-color: white;position: relative;}#sk-container-id-4 div.sk-item::before, #sk-container-id-4 div.sk-parallel-item::before {content: \"\";position: absolute;border-left: 1px solid gray;box-sizing: border-box;top: 0;bottom: 0;left: 50%;z-index: -1;}#sk-container-id-4 div.sk-parallel-item {display: flex;flex-direction: column;z-index: 1;position: relative;background-color: white;}#sk-container-id-4 div.sk-parallel-item:first-child::after {align-self: flex-end;width: 50%;}#sk-container-id-4 div.sk-parallel-item:last-child::after {align-self: flex-start;width: 50%;}#sk-container-id-4 div.sk-parallel-item:only-child::after {width: 0;}#sk-container-id-4 div.sk-dashed-wrapped {border: 1px dashed gray;margin: 0 0.4em 0.5em 0.4em;box-sizing: border-box;padding-bottom: 0.4em;background-color: white;}#sk-container-id-4 div.sk-label label {font-family: monospace;font-weight: bold;display: inline-block;line-height: 1.2em;}#sk-container-id-4 div.sk-label-container {text-align: center;}#sk-container-id-4 div.sk-container {/* jupyter's `normalize.less` sets `[hidden] { display: none; }` but bootstrap.min.css set `[hidden] { display: none !important; }` so we also need the `!important` here to be able to override the default hidden behavior on the sphinx rendered scikit-learn.org. See: https://github.com/scikit-learn/scikit-learn/issues/21755 */display: inline-block !important;position: relative;}#sk-container-id-4 div.sk-text-repr-fallback {display: none;}</style><div id=\"sk-container-id-4\" class=\"sk-top-container\"><div class=\"sk-text-repr-fallback\"><pre>XGBClassifier(base_score=0.5, booster=&#x27;gbtree&#x27;, callbacks=None,\n              colsample_bylevel=1, colsample_bynode=1, colsample_bytree=1,\n              early_stopping_rounds=None, enable_categorical=False,\n              eval_metric=None, gamma=0, gpu_id=-1, grow_policy=&#x27;depthwise&#x27;,\n              importance_type=None, interaction_constraints=&#x27;&#x27;,\n              learning_rate=0.300000012, max_bin=256, max_cat_to_onehot=4,\n              max_delta_step=0, max_depth=6, max_leaves=0, min_child_weight=1,\n              missing=nan, monotone_constraints=&#x27;()&#x27;, n_estimators=1000,\n              n_jobs=-1, num_class=7, num_parallel_tree=1,\n              objective=&#x27;multi:softmax&#x27;, predictor=&#x27;auto&#x27;, random_state=42, ...)</pre><b>In a Jupyter environment, please rerun this cell to show the HTML representation or trust the notebook. <br />On GitHub, the HTML representation is unable to render, please try loading this page with nbviewer.org.</b></div><div class=\"sk-container\" hidden><div class=\"sk-item\"><div class=\"sk-estimator sk-toggleable\"><input class=\"sk-toggleable__control sk-hidden--visually\" id=\"sk-estimator-id-4\" type=\"checkbox\" checked><label for=\"sk-estimator-id-4\" class=\"sk-toggleable__label sk-toggleable__label-arrow\">XGBClassifier</label><div class=\"sk-toggleable__content\"><pre>XGBClassifier(base_score=0.5, booster=&#x27;gbtree&#x27;, callbacks=None,\n              colsample_bylevel=1, colsample_bynode=1, colsample_bytree=1,\n              early_stopping_rounds=None, enable_categorical=False,\n              eval_metric=None, gamma=0, gpu_id=-1, grow_policy=&#x27;depthwise&#x27;,\n              importance_type=None, interaction_constraints=&#x27;&#x27;,\n              learning_rate=0.300000012, max_bin=256, max_cat_to_onehot=4,\n              max_delta_step=0, max_depth=6, max_leaves=0, min_child_weight=1,\n              missing=nan, monotone_constraints=&#x27;()&#x27;, n_estimators=1000,\n              n_jobs=-1, num_class=7, num_parallel_tree=1,\n              objective=&#x27;multi:softmax&#x27;, predictor=&#x27;auto&#x27;, random_state=42, ...)</pre></div></div></div></div></div>"
     },
     "execution_count": 119,
     "metadata": {},
     "output_type": "execute_result"
    }
   ],
   "source": [
    "xgb.fit(X_train, y_train)"
   ],
   "metadata": {
    "collapsed": false
   }
  },
  {
   "cell_type": "code",
   "execution_count": 121,
   "outputs": [],
   "source": [
    "y_pred_xgb = xgb.predict(X_test)\n",
    "# y_pred_proba_xgb = xgb.predict_proba(X_test)"
   ],
   "metadata": {
    "collapsed": false
   }
  },
  {
   "cell_type": "code",
   "execution_count": 122,
   "outputs": [
    {
     "name": "stdout",
     "output_type": "stream",
     "text": [
      "              precision    recall  f1-score   support\n",
      "\n",
      "           0       0.35      0.19      0.24      5901\n",
      "           1       0.43      0.49      0.45     19535\n",
      "           2       0.43      0.63      0.51     21873\n",
      "           3       0.39      0.24      0.29     13790\n",
      "           4       0.15      0.01      0.03      2936\n",
      "           5       0.43      0.40      0.41      8754\n",
      "           6       0.55      0.43      0.48      6821\n",
      "\n",
      "    accuracy                           0.43     79610\n",
      "   macro avg       0.39      0.34      0.35     79610\n",
      "weighted avg       0.42      0.43      0.41     79610\n",
      "\n",
      "0.42788594397688734\n"
     ]
    }
   ],
   "source": [
    "print(classification_report(y_test, y_pred_xgb))\n",
    "print(accuracy_score(y_test, y_pred_xgb))"
   ],
   "metadata": {
    "collapsed": false
   }
  },
  {
   "cell_type": "code",
   "execution_count": null,
   "outputs": [],
   "source": [
    "print(roc_auc_score(y_test, y_pred_xgb))"
   ],
   "metadata": {
    "collapsed": false
   }
  },
  {
   "cell_type": "code",
   "execution_count": null,
   "outputs": [],
   "source": [
    "cm = confusion_matrix(y_test, y_pred_xgb)\n",
    "\n",
    "fig, ax = plt.subplots(figsize=(12, 6))\n",
    "\n",
    "sns.heatmap(cm / len(y_test),\n",
    "            cmap='Blues',\n",
    "            fmt='.2%',\n",
    "            annot=True,\n",
    "            ax=ax)"
   ],
   "metadata": {
    "collapsed": false
   }
  },
  {
   "cell_type": "code",
   "execution_count": null,
   "outputs": [],
   "source": [],
   "metadata": {
    "collapsed": false
   }
  }
 ],
 "metadata": {
  "kernelspec": {
   "name": "conda-env-tf_mini-py",
   "language": "python",
   "display_name": "Python [conda env:tf_mini]"
  },
  "language_info": {
   "codemirror_mode": {
    "name": "ipython",
    "version": 2
   },
   "file_extension": ".py",
   "mimetype": "text/x-python",
   "name": "python",
   "nbconvert_exporter": "python",
   "pygments_lexer": "ipython2",
   "version": "2.7.6"
  }
 },
 "nbformat": 4,
 "nbformat_minor": 0
}
