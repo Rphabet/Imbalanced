{
 "cells": [
  {
   "cell_type": "code",
   "execution_count": 1,
   "metadata": {
    "collapsed": true
   },
   "outputs": [],
   "source": [
    "import numpy as np\n",
    "import pandas as pd\n",
    "import matplotlib.pyplot as plt\n",
    "import seaborn as sns\n",
    "import os"
   ]
  },
  {
   "cell_type": "code",
   "execution_count": 2,
   "outputs": [
    {
     "data": {
      "text/plain": "'C:\\\\Users\\\\User\\\\Imbalanced'"
     },
     "execution_count": 2,
     "metadata": {},
     "output_type": "execute_result"
    }
   ],
   "source": [
    "os.getcwd()"
   ],
   "metadata": {
    "collapsed": false
   }
  },
  {
   "cell_type": "code",
   "execution_count": 6,
   "outputs": [],
   "source": [
    "data_dir = './data/'\n",
    "TRAIN = 'train.csv'"
   ],
   "metadata": {
    "collapsed": false
   }
  },
  {
   "cell_type": "code",
   "execution_count": 7,
   "outputs": [
    {
     "data": {
      "text/plain": "        case_id  Hospital_code Hospital_type_code  City_Code_Hospital  \\\n0             1              8                  c                   3   \n1             2              2                  c                   5   \n2             3             10                  e                   1   \n3             4             26                  b                   2   \n4             5             26                  b                   2   \n...         ...            ...                ...                 ...   \n318433   318434              6                  a                   6   \n318434   318435             24                  a                   1   \n318435   318436              7                  a                   4   \n318436   318437             11                  b                   2   \n318437   318438             19                  a                   7   \n\n       Hospital_region_code  Available Extra Rooms in Hospital    Department  \\\n0                         Z                                  3  radiotherapy   \n1                         Z                                  2  radiotherapy   \n2                         X                                  2    anesthesia   \n3                         Y                                  2  radiotherapy   \n4                         Y                                  2  radiotherapy   \n...                     ...                                ...           ...   \n318433                    X                                  3  radiotherapy   \n318434                    X                                  2    anesthesia   \n318435                    X                                  3    gynecology   \n318436                    Y                                  3    anesthesia   \n318437                    Y                                  5    gynecology   \n\n       Ward_Type Ward_Facility_Code  Bed Grade  patientid  City_Code_Patient  \\\n0              R                  F        2.0      31397                7.0   \n1              S                  F        2.0      31397                7.0   \n2              S                  E        2.0      31397                7.0   \n3              R                  D        2.0      31397                7.0   \n4              S                  D        2.0      31397                7.0   \n...          ...                ...        ...        ...                ...   \n318433         Q                  F        4.0      86499               23.0   \n318434         Q                  E        4.0        325                8.0   \n318435         R                  F        4.0     125235               10.0   \n318436         Q                  D        3.0      91081                8.0   \n318437         Q                  C        2.0      21641                8.0   \n\n       Type of Admission Severity of Illness  Visitors with Patient    Age  \\\n0              Emergency             Extreme                      2  51-60   \n1                 Trauma             Extreme                      2  51-60   \n2                 Trauma             Extreme                      2  51-60   \n3                 Trauma             Extreme                      2  51-60   \n4                 Trauma             Extreme                      2  51-60   \n...                  ...                 ...                    ...    ...   \n318433         Emergency            Moderate                      3  41-50   \n318434            Urgent            Moderate                      4  81-90   \n318435         Emergency               Minor                      3  71-80   \n318436            Trauma               Minor                      5  11-20   \n318437         Emergency               Minor                      2  11-20   \n\n        Admission_Deposit   Stay  \n0                  4911.0   0-10  \n1                  5954.0  41-50  \n2                  4745.0  31-40  \n3                  7272.0  41-50  \n4                  5558.0  41-50  \n...                   ...    ...  \n318433             4144.0  11-20  \n318434             6699.0  31-40  \n318435             4235.0  11-20  \n318436             3761.0  11-20  \n318437             4752.0   0-10  \n\n[318438 rows x 18 columns]",
      "text/html": "<div>\n<style scoped>\n    .dataframe tbody tr th:only-of-type {\n        vertical-align: middle;\n    }\n\n    .dataframe tbody tr th {\n        vertical-align: top;\n    }\n\n    .dataframe thead th {\n        text-align: right;\n    }\n</style>\n<table border=\"1\" class=\"dataframe\">\n  <thead>\n    <tr style=\"text-align: right;\">\n      <th></th>\n      <th>case_id</th>\n      <th>Hospital_code</th>\n      <th>Hospital_type_code</th>\n      <th>City_Code_Hospital</th>\n      <th>Hospital_region_code</th>\n      <th>Available Extra Rooms in Hospital</th>\n      <th>Department</th>\n      <th>Ward_Type</th>\n      <th>Ward_Facility_Code</th>\n      <th>Bed Grade</th>\n      <th>patientid</th>\n      <th>City_Code_Patient</th>\n      <th>Type of Admission</th>\n      <th>Severity of Illness</th>\n      <th>Visitors with Patient</th>\n      <th>Age</th>\n      <th>Admission_Deposit</th>\n      <th>Stay</th>\n    </tr>\n  </thead>\n  <tbody>\n    <tr>\n      <th>0</th>\n      <td>1</td>\n      <td>8</td>\n      <td>c</td>\n      <td>3</td>\n      <td>Z</td>\n      <td>3</td>\n      <td>radiotherapy</td>\n      <td>R</td>\n      <td>F</td>\n      <td>2.0</td>\n      <td>31397</td>\n      <td>7.0</td>\n      <td>Emergency</td>\n      <td>Extreme</td>\n      <td>2</td>\n      <td>51-60</td>\n      <td>4911.0</td>\n      <td>0-10</td>\n    </tr>\n    <tr>\n      <th>1</th>\n      <td>2</td>\n      <td>2</td>\n      <td>c</td>\n      <td>5</td>\n      <td>Z</td>\n      <td>2</td>\n      <td>radiotherapy</td>\n      <td>S</td>\n      <td>F</td>\n      <td>2.0</td>\n      <td>31397</td>\n      <td>7.0</td>\n      <td>Trauma</td>\n      <td>Extreme</td>\n      <td>2</td>\n      <td>51-60</td>\n      <td>5954.0</td>\n      <td>41-50</td>\n    </tr>\n    <tr>\n      <th>2</th>\n      <td>3</td>\n      <td>10</td>\n      <td>e</td>\n      <td>1</td>\n      <td>X</td>\n      <td>2</td>\n      <td>anesthesia</td>\n      <td>S</td>\n      <td>E</td>\n      <td>2.0</td>\n      <td>31397</td>\n      <td>7.0</td>\n      <td>Trauma</td>\n      <td>Extreme</td>\n      <td>2</td>\n      <td>51-60</td>\n      <td>4745.0</td>\n      <td>31-40</td>\n    </tr>\n    <tr>\n      <th>3</th>\n      <td>4</td>\n      <td>26</td>\n      <td>b</td>\n      <td>2</td>\n      <td>Y</td>\n      <td>2</td>\n      <td>radiotherapy</td>\n      <td>R</td>\n      <td>D</td>\n      <td>2.0</td>\n      <td>31397</td>\n      <td>7.0</td>\n      <td>Trauma</td>\n      <td>Extreme</td>\n      <td>2</td>\n      <td>51-60</td>\n      <td>7272.0</td>\n      <td>41-50</td>\n    </tr>\n    <tr>\n      <th>4</th>\n      <td>5</td>\n      <td>26</td>\n      <td>b</td>\n      <td>2</td>\n      <td>Y</td>\n      <td>2</td>\n      <td>radiotherapy</td>\n      <td>S</td>\n      <td>D</td>\n      <td>2.0</td>\n      <td>31397</td>\n      <td>7.0</td>\n      <td>Trauma</td>\n      <td>Extreme</td>\n      <td>2</td>\n      <td>51-60</td>\n      <td>5558.0</td>\n      <td>41-50</td>\n    </tr>\n    <tr>\n      <th>...</th>\n      <td>...</td>\n      <td>...</td>\n      <td>...</td>\n      <td>...</td>\n      <td>...</td>\n      <td>...</td>\n      <td>...</td>\n      <td>...</td>\n      <td>...</td>\n      <td>...</td>\n      <td>...</td>\n      <td>...</td>\n      <td>...</td>\n      <td>...</td>\n      <td>...</td>\n      <td>...</td>\n      <td>...</td>\n      <td>...</td>\n    </tr>\n    <tr>\n      <th>318433</th>\n      <td>318434</td>\n      <td>6</td>\n      <td>a</td>\n      <td>6</td>\n      <td>X</td>\n      <td>3</td>\n      <td>radiotherapy</td>\n      <td>Q</td>\n      <td>F</td>\n      <td>4.0</td>\n      <td>86499</td>\n      <td>23.0</td>\n      <td>Emergency</td>\n      <td>Moderate</td>\n      <td>3</td>\n      <td>41-50</td>\n      <td>4144.0</td>\n      <td>11-20</td>\n    </tr>\n    <tr>\n      <th>318434</th>\n      <td>318435</td>\n      <td>24</td>\n      <td>a</td>\n      <td>1</td>\n      <td>X</td>\n      <td>2</td>\n      <td>anesthesia</td>\n      <td>Q</td>\n      <td>E</td>\n      <td>4.0</td>\n      <td>325</td>\n      <td>8.0</td>\n      <td>Urgent</td>\n      <td>Moderate</td>\n      <td>4</td>\n      <td>81-90</td>\n      <td>6699.0</td>\n      <td>31-40</td>\n    </tr>\n    <tr>\n      <th>318435</th>\n      <td>318436</td>\n      <td>7</td>\n      <td>a</td>\n      <td>4</td>\n      <td>X</td>\n      <td>3</td>\n      <td>gynecology</td>\n      <td>R</td>\n      <td>F</td>\n      <td>4.0</td>\n      <td>125235</td>\n      <td>10.0</td>\n      <td>Emergency</td>\n      <td>Minor</td>\n      <td>3</td>\n      <td>71-80</td>\n      <td>4235.0</td>\n      <td>11-20</td>\n    </tr>\n    <tr>\n      <th>318436</th>\n      <td>318437</td>\n      <td>11</td>\n      <td>b</td>\n      <td>2</td>\n      <td>Y</td>\n      <td>3</td>\n      <td>anesthesia</td>\n      <td>Q</td>\n      <td>D</td>\n      <td>3.0</td>\n      <td>91081</td>\n      <td>8.0</td>\n      <td>Trauma</td>\n      <td>Minor</td>\n      <td>5</td>\n      <td>11-20</td>\n      <td>3761.0</td>\n      <td>11-20</td>\n    </tr>\n    <tr>\n      <th>318437</th>\n      <td>318438</td>\n      <td>19</td>\n      <td>a</td>\n      <td>7</td>\n      <td>Y</td>\n      <td>5</td>\n      <td>gynecology</td>\n      <td>Q</td>\n      <td>C</td>\n      <td>2.0</td>\n      <td>21641</td>\n      <td>8.0</td>\n      <td>Emergency</td>\n      <td>Minor</td>\n      <td>2</td>\n      <td>11-20</td>\n      <td>4752.0</td>\n      <td>0-10</td>\n    </tr>\n  </tbody>\n</table>\n<p>318438 rows × 18 columns</p>\n</div>"
     },
     "metadata": {},
     "output_type": "display_data"
    }
   ],
   "source": [
    "df = pd.read_csv(os.path.join(data_dir, TRAIN))\n",
    "display(df)"
   ],
   "metadata": {
    "collapsed": false
   }
  },
  {
   "cell_type": "code",
   "execution_count": 4,
   "outputs": [],
   "source": [],
   "metadata": {
    "collapsed": false
   }
  }
 ],
 "metadata": {
  "kernelspec": {
   "display_name": "Python 3",
   "language": "python",
   "name": "python3"
  },
  "language_info": {
   "codemirror_mode": {
    "name": "ipython",
    "version": 2
   },
   "file_extension": ".py",
   "mimetype": "text/x-python",
   "name": "python",
   "nbconvert_exporter": "python",
   "pygments_lexer": "ipython2",
   "version": "2.7.6"
  }
 },
 "nbformat": 4,
 "nbformat_minor": 0
}
